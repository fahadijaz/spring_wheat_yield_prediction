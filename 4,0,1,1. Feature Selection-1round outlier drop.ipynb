{
 "cells": [
  {
   "cell_type": "markdown",
   "id": "2e1c5ae2",
   "metadata": {},
   "source": [
    "# Declaring target feature"
   ]
  },
  {
   "cell_type": "code",
   "execution_count": 1,
   "id": "9878b116",
   "metadata": {
    "ExecuteTime": {
     "end_time": "2021-12-03T18:44:19.961340Z",
     "start_time": "2021-12-03T18:44:19.945740Z"
    }
   },
   "outputs": [],
   "source": [
    "target_features = ['GrainYield']\n",
    "# target_features = ['Days2Maturity']\n",
    "\n",
    "\n",
    "# path = r'./Data/3. merged data/no outliers dropped/'\n",
    "path = r'./Data/3. merged data/dropped only 1 round/'\n",
    "# path = r'./Data/3. merged data/all outliers dropped repeatatively/'"
   ]
  },
  {
   "cell_type": "markdown",
   "id": "105acfb2",
   "metadata": {},
   "source": [
    "# Importing Libraries"
   ]
  },
  {
   "cell_type": "code",
   "execution_count": 2,
   "id": "average-columbia",
   "metadata": {
    "ExecuteTime": {
     "end_time": "2021-12-03T18:44:22.730380Z",
     "start_time": "2021-12-03T18:44:19.964036Z"
    }
   },
   "outputs": [],
   "source": [
    "import os\n",
    "import csv\n",
    "import numpy as np\n",
    "import pandas as pd\n",
    "from copy import copy\n",
    "from datetime import datetime as dt\n",
    "\n",
    "# Dictionaries\n",
    "import json\n",
    "from pprint import pprint\n",
    "\n",
    "# Iterate in loops\n",
    "import itertools\n",
    "from itertools import zip_longest\n",
    "\n",
    "# Simpsons integration\n",
    "from numpy import trapz\n",
    "from scipy.integrate import simps\n",
    "\n",
    "# Visualisation\n",
    "import seaborn as sns\n",
    "import matplotlib.pyplot as plt\n",
    "\n",
    "# To display df nicely in loops\n",
    "from IPython.display import display \n",
    "# Display rows and columns Pandas\n",
    "pd.options.display.max_columns = 100\n",
    "pd.set_option('display.max_rows',100)\n",
    "\n",
    "# # For displaying max rows in series\n",
    "# pd.options.display.max_rows = 10"
   ]
  },
  {
   "cell_type": "markdown",
   "id": "spread-surfing",
   "metadata": {},
   "source": [
    "# Importing data"
   ]
  },
  {
   "cell_type": "code",
   "execution_count": 3,
   "id": "2d066e93",
   "metadata": {
    "ExecuteTime": {
     "end_time": "2021-12-03T18:44:22.778979Z",
     "start_time": "2021-12-03T18:44:22.732420Z"
    }
   },
   "outputs": [
    {
     "data": {
      "text/plain": [
       "'C:\\\\Users\\\\fahad\\\\MegaSync\\\\NMBU\\\\GitHub\\\\vPheno'"
      ]
     },
     "execution_count": 3,
     "metadata": {},
     "output_type": "execute_result"
    }
   ],
   "source": [
    "# Prints the current working directory\n",
    "os.getcwd()\n",
    "# os.listdir()"
   ]
  },
  {
   "cell_type": "markdown",
   "id": "e796c4ee",
   "metadata": {},
   "source": [
    "## Finding Username folder to make general path for multi PC use"
   ]
  },
  {
   "cell_type": "code",
   "execution_count": 4,
   "id": "a5204388",
   "metadata": {
    "ExecuteTime": {
     "end_time": "2021-12-03T18:44:22.842856Z",
     "start_time": "2021-12-03T18:44:22.796590Z"
    }
   },
   "outputs": [
    {
     "data": {
      "text/plain": [
       "('fahad', 'C:/Users/fahad/')"
      ]
     },
     "execution_count": 4,
     "metadata": {},
     "output_type": "execute_result"
    }
   ],
   "source": [
    "username = str(os.getcwd()).split('\\\\')[2]\n",
    "user_path = r'C:/Users/'+username+'/'\n",
    "username, user_path"
   ]
  },
  {
   "cell_type": "markdown",
   "id": "9a708728",
   "metadata": {},
   "source": [
    "## Declaring Import paths"
   ]
  },
  {
   "cell_type": "code",
   "execution_count": 5,
   "id": "448c66bf",
   "metadata": {
    "ExecuteTime": {
     "end_time": "2021-12-03T18:44:22.874861Z",
     "start_time": "2021-12-03T18:44:22.848841Z"
    }
   },
   "outputs": [],
   "source": [
    "main_path = r'./Data/'\n",
    "\n",
    "\n",
    "\n",
    "## Declaring export paths\n",
    "if target_features[0] == 'GrainYield':\n",
    "    if path.split('/')[-2] == 'no outliers dropped':\n",
    "        export_path = './Data/4. feat_GY_all_data/'\n",
    "\n",
    "    elif path.split('/')[-2] == 'dropped only 1 round':\n",
    "        export_path = './Data/4. feat_GY_do1r/'\n",
    "\n",
    "    elif path.split('/')[-2] == 'all outliers dropped repeatatively':\n",
    "        export_path = './Data/4. feat_GY_aodr/'\n",
    "\n",
    "elif target_features[0] == 'Days2Maturity':\n",
    "    if path.split('/')[-2] == 'no outliers dropped':\n",
    "        export_path = './Data/4. feat_DM_all_data/'\n",
    "\n",
    "    elif path.split('/')[-2] == 'dropped only 1 round':\n",
    "        export_path = './Data/4. feat_DM_do1r/'\n",
    "\n",
    "    elif path.split('/')[-2] == 'all outliers dropped repeatatively':\n",
    "        export_path = './Data/4. feat_DM_aodr/'\n",
    "\n",
    "# Create export_path folder if not exists already\n",
    "os.makedirs(path, exist_ok=True)\n",
    "os.makedirs(export_path, exist_ok=True)\n",
    "\n",
    "# os.listdir(path)"
   ]
  },
  {
   "cell_type": "code",
   "execution_count": 6,
   "id": "disturbed-interval",
   "metadata": {
    "ExecuteTime": {
     "end_time": "2021-12-03T18:44:22.893635Z",
     "start_time": "2021-12-03T18:44:22.877430Z"
    }
   },
   "outputs": [],
   "source": [
    "# Making dictionary of files in each folder, in case there are multiple types of data\n",
    "dict_paths = {}\n",
    "def explore(starting_path):\n",
    "    for dirpath, dirnames, filenames in os.walk(starting_path):\n",
    "        dict_paths[dirpath.split('/')[-2]] = filenames\n",
    "#     pprint(dict_paths)\n",
    "explore(path)"
   ]
  },
  {
   "cell_type": "markdown",
   "id": "aede1524",
   "metadata": {},
   "source": [
    "# Data Preparation\n",
    "## Creating list of complete files"
   ]
  },
  {
   "cell_type": "code",
   "execution_count": 7,
   "id": "mighty-atlas",
   "metadata": {
    "ExecuteTime": {
     "end_time": "2021-12-03T18:44:22.908595Z",
     "start_time": "2021-12-03T18:44:22.895630Z"
    },
    "scrolled": true
   },
   "outputs": [
    {
     "name": "stdout",
     "output_type": "stream",
     "text": [
      "14 files found in the directory\n"
     ]
    }
   ],
   "source": [
    "# Get the list of all files in directory tree at given path\n",
    "\n",
    "files_with_address = []\n",
    "files_list = []\n",
    "\n",
    "for (dirpath, dirnames, filenames) in os.walk(path):\n",
    "    files_with_address += [os.path.join(dirpath, file) for file in filenames]\n",
    "    files_list.extend(filenames)\n",
    "    \n",
    "print(len(files_with_address), 'files found in the directory')\n",
    "# files_with_address\n",
    "# files_list"
   ]
  },
  {
   "cell_type": "markdown",
   "id": "abeebb14",
   "metadata": {},
   "source": [
    "## Data Checking/control"
   ]
  },
  {
   "cell_type": "markdown",
   "id": "ee84d976",
   "metadata": {
    "run_control": {
     "marked": true
    }
   },
   "source": [
    "### Check for duplicate filenames"
   ]
  },
  {
   "cell_type": "code",
   "execution_count": 8,
   "id": "2affa906",
   "metadata": {
    "ExecuteTime": {
     "end_time": "2021-12-03T18:44:22.923905Z",
     "start_time": "2021-12-03T18:44:22.913814Z"
    }
   },
   "outputs": [
    {
     "name": "stdout",
     "output_type": "stream",
     "text": [
      "Total number of files are : 14\n",
      "Number of unique file names are: 14\n",
      "There is/are 0 duplicate file name/names.\n"
     ]
    }
   ],
   "source": [
    "print('Total number of files are :', len(files_list))\n",
    "print('Number of unique file names are:', len(set(files_list)))\n",
    "print('There is/are', len(files_list) - len(set(files_list)),'duplicate file name/names.')\n",
    "if len(files_list) - len(set(files_list)) > 0:\n",
    "    raise NameError"
   ]
  },
  {
   "cell_type": "markdown",
   "id": "a0f118d1",
   "metadata": {},
   "source": [
    "# Importing data files to Pandas"
   ]
  },
  {
   "cell_type": "code",
   "execution_count": 9,
   "id": "ad948136",
   "metadata": {
    "ExecuteTime": {
     "end_time": "2021-12-03T18:44:23.638968Z",
     "start_time": "2021-12-03T18:44:22.927187Z"
    }
   },
   "outputs": [
    {
     "name": "stdout",
     "output_type": "stream",
     "text": [
      "Graminor_2019_Simps ===== (578, 122)\n",
      "Graminor_2019_Trapz ===== (583, 122)\n",
      "Graminor_2020_Simps ===== (734, 122)\n",
      "Graminor_2020_Trapz ===== (736, 122)\n",
      "Masbasis_2019_Simps ===== (485, 123)\n",
      "Masbasis_2019_Trapz ===== (490, 123)\n",
      "Masbasis_2020_Simps ===== (528, 125)\n",
      "Masbasis_2020_Trapz ===== (531, 125)\n",
      "Robot_2020_Simps ===== (94, 124)\n",
      "Robot_2020_Trapz ===== (94, 124)\n",
      "Staur_2019_Simps ===== (1233, 126)\n",
      "Staur_2019_Trapz ===== (1240, 126)\n",
      "Staur_2020_Simps ===== (1431, 123)\n",
      "Staur_2020_Trapz ===== (1423, 123)\n"
     ]
    }
   ],
   "source": [
    "all_df = []\n",
    "for data in files_with_address:\n",
    "    file_name = os.path.splitext(os.path.basename(data))[0]\n",
    "\n",
    "    # Replce all invalid characters in the name\n",
    "    file_name = file_name.replace(\" \", \"_\")\n",
    "    file_name = file_name.replace(\"-\", \"_\")\n",
    "    file_name = file_name.replace(\")\", \"\")\n",
    "    file_name = file_name.replace(\"(\", \"\")\n",
    "    df_name = file_name.replace(\".\", \"\")\n",
    "    # Test: Check if the same date is already present in the current dict key\n",
    "    if df_name in all_df:\n",
    "        print(f'A file with the same name {df_name} has already been imported. \\n Please check if there is duplication of data.')\n",
    "        raise NameError\n",
    "    all_df.append(df_name)\n",
    "\n",
    "    locals()[df_name] = pd.read_csv(data, index_col=False)\n",
    "    print(df_name, '=====', locals()[df_name].shape)\n",
    "# all_df"
   ]
  },
  {
   "cell_type": "code",
   "execution_count": 10,
   "id": "b51b4353",
   "metadata": {
    "ExecuteTime": {
     "end_time": "2021-12-03T18:44:23.654230Z",
     "start_time": "2021-12-03T18:44:23.640963Z"
    },
    "scrolled": true
   },
   "outputs": [
    {
     "name": "stdout",
     "output_type": "stream",
     "text": [
      "Total imported 14\n"
     ]
    }
   ],
   "source": [
    "print(f'Total imported {len(all_df)}')\n",
    "# all_df"
   ]
  },
  {
   "cell_type": "markdown",
   "id": "71e8186b",
   "metadata": {},
   "source": [
    "# Finding yield columns"
   ]
  },
  {
   "cell_type": "markdown",
   "id": "early-aside",
   "metadata": {},
   "source": [
    "## Importing Weather variables, yield columns, spectral indices, base indices columsn list"
   ]
  },
  {
   "cell_type": "code",
   "execution_count": 11,
   "id": "peripheral-audit",
   "metadata": {
    "ExecuteTime": {
     "end_time": "2021-12-03T18:44:23.669449Z",
     "start_time": "2021-12-03T18:44:23.656484Z"
    }
   },
   "outputs": [
    {
     "name": "stdout",
     "output_type": "stream",
     "text": [
      "80\n"
     ]
    }
   ],
   "source": [
    "a_file = open(main_path+'vollebekk_weather_columns.json', \"r\")\n",
    "output_str = a_file.read()\n",
    "# The file is imported as string\n",
    "# Converting it to python format\n",
    "weather_cols_vollebekk = json.loads(output_str)\n",
    "a_file.close()\n",
    "pprint(len(weather_cols_vollebekk))"
   ]
  },
  {
   "cell_type": "code",
   "execution_count": 12,
   "id": "express-wheel",
   "metadata": {
    "ExecuteTime": {
     "end_time": "2021-12-03T18:44:23.689667Z",
     "start_time": "2021-12-03T18:44:23.671007Z"
    }
   },
   "outputs": [
    {
     "name": "stdout",
     "output_type": "stream",
     "text": [
      "80\n"
     ]
    }
   ],
   "source": [
    "a_file = open(main_path+'staur_weather_columns.json', \"r\")\n",
    "output_str = a_file.read()\n",
    "# The file is imported as string\n",
    "# Converting it to python format\n",
    "weather_cols_staur = json.loads(output_str)\n",
    "a_file.close()\n",
    "pprint(len(weather_cols_staur))"
   ]
  },
  {
   "cell_type": "code",
   "execution_count": 13,
   "id": "loved-vaccine",
   "metadata": {
    "ExecuteTime": {
     "end_time": "2021-12-03T18:44:23.706930Z",
     "start_time": "2021-12-03T18:44:23.691705Z"
    }
   },
   "outputs": [
    {
     "name": "stdout",
     "output_type": "stream",
     "text": [
      "['Entry', 'CodeName', 'Block', 'Pedigree', 'Replicates', 'iBlock', 'Heading_Date', 'Maturity_Date', 'Days2Maturity', 'Line', 'Lodging', 'GrainYield', 'Days2Heading', 'Name']\n"
     ]
    }
   ],
   "source": [
    "a_file = open(main_path+\"yield_columns.json\", \"r\")\n",
    "output_str = a_file.read()\n",
    "# The file is imported as string\n",
    "# Converting it to python format\n",
    "yield_cols = json.loads(output_str)\n",
    "a_file.close()\n",
    "print(yield_cols)"
   ]
  },
  {
   "cell_type": "code",
   "execution_count": 14,
   "id": "surgical-observation",
   "metadata": {
    "ExecuteTime": {
     "end_time": "2021-12-03T18:44:23.722888Z",
     "start_time": "2021-12-03T18:44:23.708927Z"
    }
   },
   "outputs": [
    {
     "name": "stdout",
     "output_type": "stream",
     "text": [
      "['NDVI', 'MTCI', 'DVI', 'GDVI', 'EXG', 'EXGR', 'RDVI', 'TDVI', 'GNDVI', 'NDRE', 'SCCI', 'EVI', 'TVI', 'VARI', 'GARI', 'GCI', 'GLI', 'NLI', 'MNLI', 'SAVI', 'GSAVI', 'OSAVI', 'GOSAVI', 'MSAVI2', 'MSR', 'GRVI', 'WDRVI', 'SR']\n"
     ]
    }
   ],
   "source": [
    "a_file = open(main_path+\"spectral_indices_columns.json\", \"r\")\n",
    "output_str = a_file.read()\n",
    "# The file is imported as string\n",
    "# Converting it to python format\n",
    "spectral_indices_all = json.loads(output_str)\n",
    "a_file.close()\n",
    "print(spectral_indices_all)"
   ]
  },
  {
   "cell_type": "code",
   "execution_count": 15,
   "id": "southeast-plain",
   "metadata": {
    "ExecuteTime": {
     "end_time": "2021-12-03T18:44:23.762845Z",
     "start_time": "2021-12-03T18:44:23.725007Z"
    }
   },
   "outputs": [
    {
     "name": "stdout",
     "output_type": "stream",
     "text": [
      "['Blue', 'Green', 'Red', 'RedEdge', 'NIR']\n"
     ]
    }
   ],
   "source": [
    "a_file = open(main_path+\"base_indices_columns.json\", \"r\")\n",
    "output_str = a_file.read()\n",
    "# The file is imported as string\n",
    "# Converting it to python format\n",
    "base_indices = json.loads(output_str)\n",
    "a_file.close()\n",
    "print(base_indices)"
   ]
  },
  {
   "cell_type": "markdown",
   "id": "reliable-empty",
   "metadata": {},
   "source": [
    "## XXXXXX Defining categories of features"
   ]
  },
  {
   "cell_type": "code",
   "execution_count": 16,
   "id": "0001fa8b",
   "metadata": {
    "ExecuteTime": {
     "end_time": "2021-12-03T18:44:23.797277Z",
     "start_time": "2021-12-03T18:44:23.767999Z"
    }
   },
   "outputs": [],
   "source": [
    "# ToDo: Add check for duplicate columns in the df\n",
    "base_indices\n",
    "spectral_indices_all \n",
    "drop_indices = ['EVI', 'GLI', 'MTCI']\n",
    "spectral_indices = [x for x in spectral_indices_all if x not in drop_indices]\n",
    "\n",
    "# Staur weather columns are all also present in Vollebekk weather so they can be use as general weather features\n",
    "weather_features = weather_cols_staur.copy()\n",
    "environment_var = weather_features + ['Staur_Env', 'Vollebekk_Env']\n",
    "# yield_cols"
   ]
  },
  {
   "cell_type": "markdown",
   "id": "0674436a",
   "metadata": {},
   "source": [
    "# Dropping DF which donot have the Target Feature"
   ]
  },
  {
   "cell_type": "code",
   "execution_count": 17,
   "id": "5f4f1158",
   "metadata": {
    "ExecuteTime": {
     "end_time": "2021-12-03T18:44:23.829114Z",
     "start_time": "2021-12-03T18:44:23.807251Z"
    }
   },
   "outputs": [],
   "source": [
    "# Dropping unnecessary columns\n",
    "all_df_dm = []\n",
    "for df in all_df:\n",
    "    temp_df = locals()[df].copy()\n",
    "    if target_features[0] in temp_df.columns.tolist():\n",
    "        all_df_dm.append(df)\n",
    "#         print(df)"
   ]
  },
  {
   "cell_type": "code",
   "execution_count": 18,
   "id": "ed83a0b8",
   "metadata": {
    "ExecuteTime": {
     "end_time": "2021-12-03T18:44:23.859458Z",
     "start_time": "2021-12-03T18:44:23.837090Z"
    }
   },
   "outputs": [],
   "source": [
    "all_df_simps = [x for x in all_df_dm if 'Simps' in x]\n",
    "all_df_trapz = [x for x in all_df_dm if 'Trapz' in x]\n",
    "# all_df_simps, all_df_trapz"
   ]
  },
  {
   "cell_type": "markdown",
   "id": "global-gnome",
   "metadata": {},
   "source": [
    "# Dropping unnecessary columns\n"
   ]
  },
  {
   "cell_type": "code",
   "execution_count": 19,
   "id": "robust-making",
   "metadata": {
    "ExecuteTime": {
     "end_time": "2021-12-03T18:44:24.045508Z",
     "start_time": "2021-12-03T18:44:23.862451Z"
    }
   },
   "outputs": [
    {
     "name": "stdout",
     "output_type": "stream",
     "text": [
      "Graminor_2019_Simps (578, 122) ==> (578, 117)\n",
      "Graminor_2019_Trapz (583, 122) ==> (583, 117)\n",
      "Graminor_2020_Simps (734, 122) ==> (734, 117)\n",
      "Graminor_2020_Trapz (736, 122) ==> (736, 117)\n",
      "Masbasis_2019_Simps (485, 123) ==> (485, 117)\n",
      "Masbasis_2019_Trapz (490, 123) ==> (490, 117)\n",
      "Masbasis_2020_Simps (528, 125) ==> (528, 117)\n",
      "Masbasis_2020_Trapz (531, 125) ==> (531, 117)\n",
      "Robot_2020_Simps (94, 124) ==> (94, 117)\n",
      "Robot_2020_Trapz (94, 124) ==> (94, 117)\n",
      "Staur_2019_Simps (1233, 126) ==> (1233, 117)\n",
      "Staur_2019_Trapz (1240, 126) ==> (1240, 117)\n",
      "Staur_2020_Simps (1431, 123) ==> (1431, 117)\n",
      "Staur_2020_Trapz (1423, 123) ==> (1423, 117)\n"
     ]
    }
   ],
   "source": [
    "# Dropping unnecessary columns\n",
    "\n",
    "for df in all_df_dm:\n",
    "    temp_df = locals()[df].copy()\n",
    "    locals()[df] = temp_df[base_indices+spectral_indices_all+environment_var+['Name',target_features[0]]]\n",
    "    print(df, temp_df.shape, '==>', locals()[df].shape)\n"
   ]
  },
  {
   "cell_type": "markdown",
   "id": "rational-replication",
   "metadata": {},
   "source": [
    "# Dealing with Nan values"
   ]
  },
  {
   "cell_type": "markdown",
   "id": "unnecessary-criminal",
   "metadata": {},
   "source": [
    "## Dropping Missing values"
   ]
  },
  {
   "cell_type": "code",
   "execution_count": 20,
   "id": "sensitive-europe",
   "metadata": {
    "ExecuteTime": {
     "end_time": "2021-12-03T18:44:24.272927Z",
     "start_time": "2021-12-03T18:44:24.050034Z"
    }
   },
   "outputs": [
    {
     "name": "stdout",
     "output_type": "stream",
     "text": [
      "1  rows dropped in  Graminor_2019_Simps\n",
      "1  rows dropped in  Graminor_2019_Trapz\n",
      "1  rows dropped in  Graminor_2020_Simps\n",
      "1  rows dropped in  Graminor_2020_Trapz\n",
      "2  rows dropped in  Masbasis_2019_Simps\n",
      "3  rows dropped in  Masbasis_2019_Trapz\n",
      "31  rows dropped in  Masbasis_2020_Simps\n",
      "31  rows dropped in  Masbasis_2020_Trapz\n",
      "8  rows dropped in  Robot_2020_Simps\n",
      "8  rows dropped in  Robot_2020_Trapz\n",
      "0  rows dropped in  Staur_2019_Simps\n",
      "0  rows dropped in  Staur_2019_Trapz\n",
      "536  rows dropped in  Staur_2020_Simps\n",
      "533  rows dropped in  Staur_2020_Trapz\n"
     ]
    }
   ],
   "source": [
    "# Dropping rows with missing value in any column\n",
    "\n",
    "for df in all_df_dm:\n",
    "    temp_df = locals()[df].copy()\n",
    "    locals()[df] = temp_df.dropna(axis=0)\n",
    "    print(temp_df.shape[0] - locals()[df].shape[0], ' rows dropped in ', df)\n",
    "#     print(locals()[df].shape[0])"
   ]
  },
  {
   "cell_type": "markdown",
   "id": "weird-stereo",
   "metadata": {},
   "source": [
    "# Normalizing the data using Z-Score from scipy"
   ]
  },
  {
   "cell_type": "code",
   "execution_count": 21,
   "id": "frequent-battery",
   "metadata": {
    "ExecuteTime": {
     "end_time": "2021-12-03T18:44:24.519304Z",
     "start_time": "2021-12-03T18:44:24.276168Z"
    },
    "scrolled": true
   },
   "outputs": [
    {
     "name": "stdout",
     "output_type": "stream",
     "text": [
      "Graminor_2019_Simps\n",
      "Graminor_2019_Trapz\n",
      "Graminor_2020_Simps\n",
      "Graminor_2020_Trapz\n",
      "Masbasis_2019_Simps\n",
      "Masbasis_2019_Trapz\n",
      "Masbasis_2020_Simps\n",
      "Masbasis_2020_Trapz\n",
      "Robot_2020_Simps\n",
      "Robot_2020_Trapz\n",
      "Staur_2019_Simps\n",
      "Staur_2019_Trapz\n",
      "Staur_2020_Simps\n",
      "Staur_2020_Trapz\n"
     ]
    }
   ],
   "source": [
    "from scipy.stats import zscore\n",
    "\n",
    "for df in all_df_dm:\n",
    "    temp_df = locals()[df].copy()\n",
    "    for col in temp_df.columns:\n",
    "        # Checking if the column is not a yield column\n",
    "        if col not in yield_cols+environment_var:\n",
    "            temp_df[col] = zscore(temp_df[col])\n",
    "    locals()[df] = temp_df.copy()\n",
    "    print(df)"
   ]
  },
  {
   "cell_type": "markdown",
   "id": "20dbcd75",
   "metadata": {},
   "source": [
    "# Importing functions "
   ]
  },
  {
   "cell_type": "code",
   "execution_count": 22,
   "id": "departmental-extension",
   "metadata": {
    "ExecuteTime": {
     "end_time": "2021-12-03T18:44:26.093466Z",
     "start_time": "2021-12-03T18:44:24.520520Z"
    }
   },
   "outputs": [],
   "source": [
    "from functions.save_results import save_results, save_grid_results\n",
    "from functions.split_data import list_test_train_df, data_prep_field\n",
    "from functions.regression import training_regr, training_gkf_std, grid\n",
    "from functions.plot_featimp import plot_feat_imp"
   ]
  },
  {
   "cell_type": "markdown",
   "id": "483f52b7",
   "metadata": {},
   "source": [
    "# ML Models"
   ]
  },
  {
   "cell_type": "code",
   "execution_count": 23,
   "id": "5c738348",
   "metadata": {
    "ExecuteTime": {
     "end_time": "2021-12-03T18:44:26.295359Z",
     "start_time": "2021-12-03T18:44:26.093466Z"
    }
   },
   "outputs": [],
   "source": [
    "import time\n",
    "# Pre.Processing\n",
    "from sklearn.model_selection import train_test_split\n",
    "from sklearn.preprocessing import StandardScaler\n",
    "from sklearn.model_selection import GroupKFold\n",
    "# from sklearn.model_selection import StratifiedGroupKFold\n",
    "# Pipeline\n",
    "from sklearn.pipeline import make_pipeline\n",
    "from sklearn.pipeline import Pipeline\n",
    "# Models\n",
    "from sklearn.ensemble import GradientBoostingRegressor\n",
    "from sklearn.linear_model import Lasso\n",
    "from sklearn.linear_model import LinearRegression\n",
    "from sklearn.ensemble import RandomForestRegressor\n",
    "from sklearn.model_selection import GridSearchCV\n",
    "# Metrices\n",
    "from sklearn.model_selection import cross_validate\n",
    "from sklearn.metrics import mean_squared_error\n",
    "from sklearn.metrics import r2_score\n",
    "from sklearn.metrics import mean_absolute_error"
   ]
  },
  {
   "cell_type": "markdown",
   "id": "julian-implementation",
   "metadata": {},
   "source": [
    "## XXXXXX Parameters"
   ]
  },
  {
   "cell_type": "code",
   "execution_count": 24,
   "id": "wanted-polymer",
   "metadata": {
    "ExecuteTime": {
     "end_time": "2021-12-03T18:44:26.310626Z",
     "start_time": "2021-12-03T18:44:26.298656Z"
    }
   },
   "outputs": [],
   "source": [
    "threshold_all = 'top_25'\n",
    "sort_feature_imp = True\n",
    "show_feat_imp_plot = True\n",
    "save_feat_imp_plot = True\n",
    "save_results_now = True\n",
    "agg_method = 'Simpsons'\n",
    "# agg_method = 'Trapezoid'"
   ]
  },
  {
   "cell_type": "code",
   "execution_count": 25,
   "id": "9a1923d5",
   "metadata": {
    "ExecuteTime": {
     "end_time": "2021-12-03T18:44:26.385292Z",
     "start_time": "2021-12-03T18:44:26.315611Z"
    }
   },
   "outputs": [],
   "source": [
    "training_features = base_indices + spectral_indices_all + environment_var\n",
    "# training_features = base_indices + spectral_indices_all + weather_features\n",
    "# training_features =  base_indices + spectral_indices + weather_features\n",
    "# training_features =  spectral_indices + weather_features\n",
    "# training_features = spectral_indices\n",
    "\n",
    "target_features\n",
    "\n",
    "group_feature = ['Name']\n",
    "\n",
    "if agg_method == 'Simpsons':\n",
    "    all_df_now = all_df_simps.copy()\n",
    "elif agg_method == 'Trapezoid': \n",
    "    all_df_now = all_df_trapz.copy()"
   ]
  },
  {
   "cell_type": "markdown",
   "id": "together-massage",
   "metadata": {},
   "source": [
    "## Fine Tuning the models using all data"
   ]
  },
  {
   "cell_type": "markdown",
   "id": "ea9bf2a2",
   "metadata": {},
   "source": [
    "### All data mixed"
   ]
  },
  {
   "cell_type": "code",
   "execution_count": 26,
   "id": "11d2823f",
   "metadata": {
    "ExecuteTime": {
     "end_time": "2021-12-03T18:44:26.494975Z",
     "start_time": "2021-12-03T18:44:26.393310Z"
    }
   },
   "outputs": [
    {
     "data": {
      "text/plain": [
       "(2960, 115)"
      ]
     },
     "execution_count": 26,
     "metadata": {},
     "output_type": "execute_result"
    }
   ],
   "source": [
    "temp_list = [x for x in all_df_now if not 'Robot' in x]\n",
    "\n",
    "# Making list of df for conct before training\n",
    "# This is different form list of srtings, as this is a list of actual dataframes\n",
    "df_list = []\n",
    "for x in temp_list:\n",
    "    df_list.append(locals()[x])\n",
    "\n",
    "# Conct all df to one df    \n",
    "df_ = pd.concat(df_list).reset_index(drop=True)\n",
    "\n",
    "# Shuffeling all the items/rows\n",
    "df_shuffle = df_.sample(frac=1, random_state=1).reset_index(drop=True)\n",
    "\n",
    "X = df_shuffle[training_features+['Name']]\n",
    "y = df_shuffle[target_features].values.ravel()\n",
    "\n",
    "X_train, X_test, y_train, y_test = train_test_split(X, y, test_size=0.33, random_state=1)\n",
    "\n",
    "groups = X_train[group_feature].values.ravel()\n",
    "\n",
    "X_train = X_train.drop(['Name'], axis=1).values\n",
    "X_test = X_test.drop(['Name'], axis=1).values\n",
    "\n",
    "gkf = list(GroupKFold(n_splits=6).split(X_train, y_train, groups))\n",
    "X_train.shape"
   ]
  },
  {
   "cell_type": "markdown",
   "id": "6169c711",
   "metadata": {},
   "source": [
    "### Feature Selection"
   ]
  },
  {
   "cell_type": "code",
   "execution_count": 27,
   "id": "a212905c",
   "metadata": {
    "ExecuteTime": {
     "end_time": "2021-12-03T18:44:26.510884Z",
     "start_time": "2021-12-03T18:44:26.497480Z"
    }
   },
   "outputs": [],
   "source": [
    "models = [\n",
    "    LinearRegression(),\n",
    "    GradientBoostingRegressor(random_state=1),\n",
    "]"
   ]
  },
  {
   "cell_type": "code",
   "execution_count": 28,
   "id": "eda6f80d",
   "metadata": {
    "ExecuteTime": {
     "end_time": "2021-12-03T18:44:26.527620Z",
     "start_time": "2021-12-03T18:44:26.513012Z"
    }
   },
   "outputs": [
    {
     "name": "stdout",
     "output_type": "stream",
     "text": [
      "LinearRegression()\n",
      "GradientBoostingRegressor(random_state=1)\n"
     ]
    }
   ],
   "source": [
    "for model in models:\n",
    "    print(model)"
   ]
  },
  {
   "cell_type": "code",
   "execution_count": null,
   "id": "69360743",
   "metadata": {
    "ExecuteTime": {
     "start_time": "2021-12-03T18:44:20.218Z"
    },
    "scrolled": true
   },
   "outputs": [
    {
     "name": "stdout",
     "output_type": "stream",
     "text": [
      "LinearRegression()\n"
     ]
    },
    {
     "name": "stderr",
     "output_type": "stream",
     "text": [
      "[Parallel(n_jobs=-1)]: Using backend LokyBackend with 8 concurrent workers.\n",
      "[Parallel(n_jobs=-1)]: Done  34 tasks      | elapsed:    8.1s\n",
      "[Parallel(n_jobs=-1)]: Done 100 out of 115 | elapsed:    8.4s remaining:    1.2s\n",
      "[Parallel(n_jobs=-1)]: Done 115 out of 115 | elapsed:    9.1s finished\n",
      "Features: 1/115[Parallel(n_jobs=-1)]: Using backend LokyBackend with 8 concurrent workers.\n",
      "[Parallel(n_jobs=-1)]: Done  58 tasks      | elapsed:    0.1s\n",
      "[Parallel(n_jobs=-1)]: Done 114 out of 114 | elapsed:    0.2s finished\n",
      "Features: 2/115[Parallel(n_jobs=-1)]: Using backend LokyBackend with 8 concurrent workers.\n",
      "[Parallel(n_jobs=-1)]: Done  68 tasks      | elapsed:    0.1s\n",
      "[Parallel(n_jobs=-1)]: Done 113 out of 113 | elapsed:    0.2s finished\n",
      "Features: 3/115[Parallel(n_jobs=-1)]: Using backend LokyBackend with 8 concurrent workers.\n",
      "[Parallel(n_jobs=-1)]: Done 112 out of 112 | elapsed:    0.2s finished\n",
      "Features: 4/115[Parallel(n_jobs=-1)]: Using backend LokyBackend with 8 concurrent workers.\n",
      "[Parallel(n_jobs=-1)]: Done  56 tasks      | elapsed:    0.0s\n",
      "[Parallel(n_jobs=-1)]: Done 111 out of 111 | elapsed:    0.3s finished\n",
      "Features: 5/115[Parallel(n_jobs=-1)]: Using backend LokyBackend with 8 concurrent workers.\n",
      "[Parallel(n_jobs=-1)]: Done  60 tasks      | elapsed:    0.2s\n",
      "[Parallel(n_jobs=-1)]: Done 110 out of 110 | elapsed:    0.3s finished\n",
      "Features: 6/115[Parallel(n_jobs=-1)]: Using backend LokyBackend with 8 concurrent workers.\n",
      "[Parallel(n_jobs=-1)]: Done  48 tasks      | elapsed:    0.1s\n",
      "[Parallel(n_jobs=-1)]: Done  94 out of 109 | elapsed:    0.3s remaining:    0.0s\n",
      "[Parallel(n_jobs=-1)]: Done 109 out of 109 | elapsed:    0.3s finished\n",
      "Features: 7/115[Parallel(n_jobs=-1)]: Using backend LokyBackend with 8 concurrent workers.\n",
      "[Parallel(n_jobs=-1)]: Done  38 tasks      | elapsed:    0.1s\n",
      "[Parallel(n_jobs=-1)]: Done  93 out of 108 | elapsed:    0.2s remaining:    0.0s\n",
      "[Parallel(n_jobs=-1)]: Done 108 out of 108 | elapsed:    0.3s finished\n",
      "Features: 8/115[Parallel(n_jobs=-1)]: Using backend LokyBackend with 8 concurrent workers.\n",
      "[Parallel(n_jobs=-1)]: Done  56 tasks      | elapsed:    0.1s\n",
      "[Parallel(n_jobs=-1)]: Done 107 out of 107 | elapsed:    0.3s finished\n",
      "Features: 9/115[Parallel(n_jobs=-1)]: Using backend LokyBackend with 8 concurrent workers.\n",
      "[Parallel(n_jobs=-1)]: Done  44 tasks      | elapsed:    0.1s\n",
      "[Parallel(n_jobs=-1)]: Done  91 out of 106 | elapsed:    0.3s remaining:    0.0s\n",
      "[Parallel(n_jobs=-1)]: Done 106 out of 106 | elapsed:    0.3s finished\n",
      "Features: 10/115[Parallel(n_jobs=-1)]: Using backend LokyBackend with 8 concurrent workers.\n",
      "[Parallel(n_jobs=-1)]: Done  56 tasks      | elapsed:    0.2s\n",
      "[Parallel(n_jobs=-1)]: Done  90 out of 105 | elapsed:    0.3s remaining:    0.0s\n",
      "[Parallel(n_jobs=-1)]: Done 105 out of 105 | elapsed:    0.3s finished\n",
      "Features: 11/115[Parallel(n_jobs=-1)]: Using backend LokyBackend with 8 concurrent workers.\n",
      "[Parallel(n_jobs=-1)]: Done  62 tasks      | elapsed:    0.2s\n",
      "[Parallel(n_jobs=-1)]: Done 104 out of 104 | elapsed:    0.3s finished\n",
      "Features: 12/115[Parallel(n_jobs=-1)]: Using backend LokyBackend with 8 concurrent workers.\n",
      "[Parallel(n_jobs=-1)]: Done  56 tasks      | elapsed:    0.1s\n",
      "[Parallel(n_jobs=-1)]: Done  88 out of 103 | elapsed:    0.3s remaining:    0.0s\n",
      "[Parallel(n_jobs=-1)]: Done 103 out of 103 | elapsed:    0.3s finished\n",
      "Features: 13/115[Parallel(n_jobs=-1)]: Using backend LokyBackend with 8 concurrent workers.\n",
      "[Parallel(n_jobs=-1)]: Done  57 tasks      | elapsed:    0.3s\n",
      "[Parallel(n_jobs=-1)]: Done  87 out of 102 | elapsed:    0.4s remaining:    0.0s\n",
      "[Parallel(n_jobs=-1)]: Done 102 out of 102 | elapsed:    0.4s finished\n",
      "Features: 14/115[Parallel(n_jobs=-1)]: Using backend LokyBackend with 8 concurrent workers.\n",
      "[Parallel(n_jobs=-1)]: Done  60 tasks      | elapsed:    0.3s\n",
      "[Parallel(n_jobs=-1)]: Done  86 out of 101 | elapsed:    0.4s remaining:    0.0s\n",
      "[Parallel(n_jobs=-1)]: Done 101 out of 101 | elapsed:    0.4s finished\n",
      "Features: 15/115[Parallel(n_jobs=-1)]: Using backend LokyBackend with 8 concurrent workers.\n",
      "[Parallel(n_jobs=-1)]: Done  56 tasks      | elapsed:    0.2s\n",
      "[Parallel(n_jobs=-1)]: Done  85 out of 100 | elapsed:    0.4s remaining:    0.0s\n",
      "[Parallel(n_jobs=-1)]: Done 100 out of 100 | elapsed:    0.4s finished\n",
      "Features: 16/115[Parallel(n_jobs=-1)]: Using backend LokyBackend with 8 concurrent workers.\n",
      "[Parallel(n_jobs=-1)]: Done  48 tasks      | elapsed:    0.2s\n",
      "[Parallel(n_jobs=-1)]: Done  99 out of  99 | elapsed:    0.5s finished\n",
      "Features: 17/115[Parallel(n_jobs=-1)]: Using backend LokyBackend with 8 concurrent workers.\n",
      "[Parallel(n_jobs=-1)]: Done  65 tasks      | elapsed:    0.3s\n",
      "[Parallel(n_jobs=-1)]: Done  83 out of  98 | elapsed:    0.4s remaining:    0.0s\n",
      "[Parallel(n_jobs=-1)]: Done  98 out of  98 | elapsed:    0.5s finished\n",
      "Features: 18/115[Parallel(n_jobs=-1)]: Using backend LokyBackend with 8 concurrent workers.\n",
      "[Parallel(n_jobs=-1)]: Done  56 tasks      | elapsed:    0.3s\n",
      "[Parallel(n_jobs=-1)]: Done  82 out of  97 | elapsed:    0.4s remaining:    0.0s\n",
      "[Parallel(n_jobs=-1)]: Done  97 out of  97 | elapsed:    0.4s finished\n",
      "Features: 19/115[Parallel(n_jobs=-1)]: Using backend LokyBackend with 8 concurrent workers.\n",
      "[Parallel(n_jobs=-1)]: Done  64 tasks      | elapsed:    0.5s\n",
      "[Parallel(n_jobs=-1)]: Done  96 out of  96 | elapsed:    0.6s finished\n",
      "Features: 20/115[Parallel(n_jobs=-1)]: Using backend LokyBackend with 8 concurrent workers.\n",
      "[Parallel(n_jobs=-1)]: Done  60 tasks      | elapsed:    0.4s\n",
      "[Parallel(n_jobs=-1)]: Done  80 out of  95 | elapsed:    0.5s remaining:    0.0s\n",
      "[Parallel(n_jobs=-1)]: Done  95 out of  95 | elapsed:    0.5s finished\n",
      "Features: 21/115[Parallel(n_jobs=-1)]: Using backend LokyBackend with 8 concurrent workers.\n",
      "[Parallel(n_jobs=-1)]: Done  56 tasks      | elapsed:    0.4s\n",
      "[Parallel(n_jobs=-1)]: Done  94 out of  94 | elapsed:    0.6s finished\n",
      "Features: 22/115[Parallel(n_jobs=-1)]: Using backend LokyBackend with 8 concurrent workers.\n",
      "[Parallel(n_jobs=-1)]: Done  61 tasks      | elapsed:    0.5s\n",
      "[Parallel(n_jobs=-1)]: Done  78 out of  93 | elapsed:    0.5s remaining:    0.0s\n",
      "[Parallel(n_jobs=-1)]: Done  93 out of  93 | elapsed:    0.6s finished\n",
      "Features: 23/115[Parallel(n_jobs=-1)]: Using backend LokyBackend with 8 concurrent workers.\n",
      "[Parallel(n_jobs=-1)]: Done  56 tasks      | elapsed:    0.3s\n",
      "[Parallel(n_jobs=-1)]: Done  77 out of  92 | elapsed:    0.5s remaining:    0.0s\n",
      "[Parallel(n_jobs=-1)]: Done  92 out of  92 | elapsed:    0.6s finished\n",
      "Features: 24/115[Parallel(n_jobs=-1)]: Using backend LokyBackend with 8 concurrent workers.\n",
      "[Parallel(n_jobs=-1)]: Done  62 tasks      | elapsed:    0.6s\n",
      "[Parallel(n_jobs=-1)]: Done  76 out of  91 | elapsed:    0.6s remaining:    0.0s\n",
      "[Parallel(n_jobs=-1)]: Done  91 out of  91 | elapsed:    0.7s finished\n",
      "Features: 25/115[Parallel(n_jobs=-1)]: Using backend LokyBackend with 8 concurrent workers.\n",
      "[Parallel(n_jobs=-1)]: Done  44 tasks      | elapsed:    0.3s\n",
      "[Parallel(n_jobs=-1)]: Done  75 out of  90 | elapsed:    0.4s remaining:    0.0s\n",
      "[Parallel(n_jobs=-1)]: Done  90 out of  90 | elapsed:    0.5s finished\n",
      "Features: 26/115[Parallel(n_jobs=-1)]: Using backend LokyBackend with 8 concurrent workers.\n",
      "[Parallel(n_jobs=-1)]: Done  54 tasks      | elapsed:    0.5s\n",
      "[Parallel(n_jobs=-1)]: Done  74 out of  89 | elapsed:    0.6s remaining:    0.0s\n",
      "[Parallel(n_jobs=-1)]: Done  89 out of  89 | elapsed:    0.7s finished\n",
      "Features: 27/115[Parallel(n_jobs=-1)]: Using backend LokyBackend with 8 concurrent workers.\n",
      "[Parallel(n_jobs=-1)]: Done  73 out of  88 | elapsed:    0.5s remaining:    0.0s\n",
      "[Parallel(n_jobs=-1)]: Done  88 out of  88 | elapsed:    0.5s finished\n",
      "Features: 28/115[Parallel(n_jobs=-1)]: Using backend LokyBackend with 8 concurrent workers.\n",
      "[Parallel(n_jobs=-1)]: Done  40 tasks      | elapsed:    0.4s\n",
      "[Parallel(n_jobs=-1)]: Done  72 out of  87 | elapsed:    0.6s remaining:    0.0s\n",
      "[Parallel(n_jobs=-1)]: Done  87 out of  87 | elapsed:    0.7s finished\n",
      "Features: 29/115[Parallel(n_jobs=-1)]: Using backend LokyBackend with 8 concurrent workers.\n",
      "[Parallel(n_jobs=-1)]: Done  52 tasks      | elapsed:    0.6s\n",
      "[Parallel(n_jobs=-1)]: Done  86 out of  86 | elapsed:    1.0s finished\n",
      "Features: 30/115[Parallel(n_jobs=-1)]: Using backend LokyBackend with 8 concurrent workers.\n"
     ]
    },
    {
     "name": "stderr",
     "output_type": "stream",
     "text": [
      "[Parallel(n_jobs=-1)]: Done  52 tasks      | elapsed:    0.6s\n",
      "[Parallel(n_jobs=-1)]: Done  70 out of  85 | elapsed:    0.7s remaining:    0.1s\n",
      "[Parallel(n_jobs=-1)]: Done  85 out of  85 | elapsed:    1.0s finished\n",
      "Features: 31/115[Parallel(n_jobs=-1)]: Using backend LokyBackend with 8 concurrent workers.\n",
      "[Parallel(n_jobs=-1)]: Done  52 tasks      | elapsed:    0.6s\n",
      "[Parallel(n_jobs=-1)]: Done  69 out of  84 | elapsed:    0.7s remaining:    0.1s\n",
      "[Parallel(n_jobs=-1)]: Done  84 out of  84 | elapsed:    1.1s finished\n",
      "Features: 32/115[Parallel(n_jobs=-1)]: Using backend LokyBackend with 8 concurrent workers.\n",
      "[Parallel(n_jobs=-1)]: Done  52 tasks      | elapsed:    1.0s\n",
      "[Parallel(n_jobs=-1)]: Done  68 out of  83 | elapsed:    1.2s remaining:    0.2s\n",
      "[Parallel(n_jobs=-1)]: Done  83 out of  83 | elapsed:    1.4s finished\n",
      "Features: 33/115[Parallel(n_jobs=-1)]: Using backend LokyBackend with 8 concurrent workers.\n",
      "[Parallel(n_jobs=-1)]: Done  82 out of  82 | elapsed:    1.1s finished\n",
      "Features: 34/115[Parallel(n_jobs=-1)]: Using backend LokyBackend with 8 concurrent workers.\n",
      "[Parallel(n_jobs=-1)]: Done  52 tasks      | elapsed:    0.8s\n",
      "[Parallel(n_jobs=-1)]: Done  66 out of  81 | elapsed:    1.0s remaining:    0.2s\n",
      "[Parallel(n_jobs=-1)]: Done  81 out of  81 | elapsed:    1.1s finished\n",
      "Features: 35/115[Parallel(n_jobs=-1)]: Using backend LokyBackend with 8 concurrent workers.\n",
      "[Parallel(n_jobs=-1)]: Done  80 out of  80 | elapsed:    1.7s finished\n",
      "Features: 36/115[Parallel(n_jobs=-1)]: Using backend LokyBackend with 8 concurrent workers.\n",
      "[Parallel(n_jobs=-1)]: Done  54 tasks      | elapsed:    0.8s\n",
      "[Parallel(n_jobs=-1)]: Done  79 out of  79 | elapsed:    1.3s finished\n",
      "Features: 37/115[Parallel(n_jobs=-1)]: Using backend LokyBackend with 8 concurrent workers.\n",
      "[Parallel(n_jobs=-1)]: Done  52 tasks      | elapsed:    0.6s\n",
      "[Parallel(n_jobs=-1)]: Done  63 out of  78 | elapsed:    0.7s remaining:    0.1s\n",
      "[Parallel(n_jobs=-1)]: Done  78 out of  78 | elapsed:    0.9s finished\n",
      "Features: 38/115[Parallel(n_jobs=-1)]: Using backend LokyBackend with 8 concurrent workers.\n",
      "[Parallel(n_jobs=-1)]: Done  37 tasks      | elapsed:    0.7s\n",
      "[Parallel(n_jobs=-1)]: Done  62 out of  77 | elapsed:    0.9s remaining:    0.2s\n",
      "[Parallel(n_jobs=-1)]: Done  77 out of  77 | elapsed:    1.2s finished\n",
      "Features: 39/115[Parallel(n_jobs=-1)]: Using backend LokyBackend with 8 concurrent workers.\n",
      "[Parallel(n_jobs=-1)]: Done  52 tasks      | elapsed:    0.9s\n",
      "[Parallel(n_jobs=-1)]: Done  61 out of  76 | elapsed:    1.0s remaining:    0.2s\n",
      "[Parallel(n_jobs=-1)]: Done  76 out of  76 | elapsed:    1.1s finished\n",
      "Features: 40/115[Parallel(n_jobs=-1)]: Using backend LokyBackend with 8 concurrent workers.\n",
      "[Parallel(n_jobs=-1)]: Done  52 tasks      | elapsed:    0.8s\n",
      "[Parallel(n_jobs=-1)]: Done  60 out of  75 | elapsed:    0.9s remaining:    0.2s\n",
      "[Parallel(n_jobs=-1)]: Done  75 out of  75 | elapsed:    1.0s finished\n",
      "Features: 41/115[Parallel(n_jobs=-1)]: Using backend LokyBackend with 8 concurrent workers.\n",
      "[Parallel(n_jobs=-1)]: Done  51 tasks      | elapsed:    0.7s\n",
      "[Parallel(n_jobs=-1)]: Done  74 out of  74 | elapsed:    1.0s finished\n",
      "Features: 42/115[Parallel(n_jobs=-1)]: Using backend LokyBackend with 8 concurrent workers.\n",
      "[Parallel(n_jobs=-1)]: Done  52 tasks      | elapsed:    0.9s\n",
      "[Parallel(n_jobs=-1)]: Done  58 out of  73 | elapsed:    1.0s remaining:    0.2s\n",
      "[Parallel(n_jobs=-1)]: Done  73 out of  73 | elapsed:    1.2s finished\n",
      "Features: 43/115[Parallel(n_jobs=-1)]: Using backend LokyBackend with 8 concurrent workers.\n",
      "[Parallel(n_jobs=-1)]: Done  57 out of  72 | elapsed:    1.4s remaining:    0.3s\n",
      "[Parallel(n_jobs=-1)]: Done  72 out of  72 | elapsed:    1.6s finished\n",
      "Features: 44/115[Parallel(n_jobs=-1)]: Using backend LokyBackend with 8 concurrent workers.\n",
      "[Parallel(n_jobs=-1)]: Done  56 out of  71 | elapsed:    1.4s remaining:    0.3s\n",
      "[Parallel(n_jobs=-1)]: Done  71 out of  71 | elapsed:    2.1s finished\n",
      "Features: 45/115[Parallel(n_jobs=-1)]: Using backend LokyBackend with 8 concurrent workers.\n",
      "[Parallel(n_jobs=-1)]: Done  70 out of  70 | elapsed:    2.0s finished\n",
      "Features: 46/115[Parallel(n_jobs=-1)]: Using backend LokyBackend with 8 concurrent workers.\n",
      "[Parallel(n_jobs=-1)]: Done  54 out of  69 | elapsed:    1.0s remaining:    0.2s\n",
      "[Parallel(n_jobs=-1)]: Done  69 out of  69 | elapsed:    1.4s finished\n",
      "Features: 47/115[Parallel(n_jobs=-1)]: Using backend LokyBackend with 8 concurrent workers.\n",
      "[Parallel(n_jobs=-1)]: Done  68 out of  68 | elapsed:    1.4s finished\n",
      "Features: 48/115[Parallel(n_jobs=-1)]: Using backend LokyBackend with 8 concurrent workers.\n",
      "[Parallel(n_jobs=-1)]: Done  52 out of  67 | elapsed:    0.8s remaining:    0.2s\n",
      "[Parallel(n_jobs=-1)]: Done  67 out of  67 | elapsed:    1.1s finished\n",
      "Features: 49/115[Parallel(n_jobs=-1)]: Using backend LokyBackend with 8 concurrent workers.\n",
      "[Parallel(n_jobs=-1)]: Done  66 out of  66 | elapsed:    1.5s finished\n",
      "Features: 50/115[Parallel(n_jobs=-1)]: Using backend LokyBackend with 8 concurrent workers.\n",
      "[Parallel(n_jobs=-1)]: Done  50 out of  65 | elapsed:    1.2s remaining:    0.3s\n",
      "[Parallel(n_jobs=-1)]: Done  65 out of  65 | elapsed:    1.4s finished\n",
      "Features: 51/115[Parallel(n_jobs=-1)]: Using backend LokyBackend with 8 concurrent workers.\n",
      "[Parallel(n_jobs=-1)]: Done  64 out of  64 | elapsed:    1.4s finished\n",
      "Features: 52/115[Parallel(n_jobs=-1)]: Using backend LokyBackend with 8 concurrent workers.\n",
      "[Parallel(n_jobs=-1)]: Done  48 out of  63 | elapsed:    1.3s remaining:    0.3s\n",
      "[Parallel(n_jobs=-1)]: Done  63 out of  63 | elapsed:    1.7s finished\n",
      "Features: 53/115[Parallel(n_jobs=-1)]: Using backend LokyBackend with 8 concurrent workers.\n",
      "[Parallel(n_jobs=-1)]: Done  62 out of  62 | elapsed:    1.4s finished\n",
      "Features: 54/115[Parallel(n_jobs=-1)]: Using backend LokyBackend with 8 concurrent workers.\n",
      "[Parallel(n_jobs=-1)]: Done  61 out of  61 | elapsed:    1.3s finished\n",
      "Features: 55/115[Parallel(n_jobs=-1)]: Using backend LokyBackend with 8 concurrent workers.\n",
      "[Parallel(n_jobs=-1)]: Done  45 out of  60 | elapsed:    1.2s remaining:    0.3s\n",
      "[Parallel(n_jobs=-1)]: Done  60 out of  60 | elapsed:    1.4s finished\n",
      "Features: 56/115[Parallel(n_jobs=-1)]: Using backend LokyBackend with 8 concurrent workers.\n",
      "[Parallel(n_jobs=-1)]: Done  59 out of  59 | elapsed:    1.8s finished\n",
      "Features: 57/115[Parallel(n_jobs=-1)]: Using backend LokyBackend with 8 concurrent workers.\n",
      "[Parallel(n_jobs=-1)]: Done  58 out of  58 | elapsed:    1.3s finished\n",
      "Features: 58/115[Parallel(n_jobs=-1)]: Using backend LokyBackend with 8 concurrent workers.\n",
      "[Parallel(n_jobs=-1)]: Done  42 out of  57 | elapsed:    1.0s remaining:    0.3s\n",
      "[Parallel(n_jobs=-1)]: Done  57 out of  57 | elapsed:    1.2s finished\n",
      "Features: 59/115[Parallel(n_jobs=-1)]: Using backend LokyBackend with 8 concurrent workers.\n",
      "[Parallel(n_jobs=-1)]: Done  56 out of  56 | elapsed:    1.5s finished\n",
      "Features: 60/115[Parallel(n_jobs=-1)]: Using backend LokyBackend with 8 concurrent workers.\n",
      "[Parallel(n_jobs=-1)]: Done  40 out of  55 | elapsed:    1.0s remaining:    0.3s\n",
      "[Parallel(n_jobs=-1)]: Done  55 out of  55 | elapsed:    1.2s finished\n",
      "Features: 61/115[Parallel(n_jobs=-1)]: Using backend LokyBackend with 8 concurrent workers.\n",
      "[Parallel(n_jobs=-1)]: Done  54 out of  54 | elapsed:    1.3s finished\n",
      "Features: 62/115[Parallel(n_jobs=-1)]: Using backend LokyBackend with 8 concurrent workers.\n",
      "[Parallel(n_jobs=-1)]: Done  38 out of  53 | elapsed:    1.2s remaining:    0.4s\n",
      "[Parallel(n_jobs=-1)]: Done  53 out of  53 | elapsed:    1.3s finished\n",
      "Features: 63/115[Parallel(n_jobs=-1)]: Using backend LokyBackend with 8 concurrent workers.\n",
      "[Parallel(n_jobs=-1)]: Done  52 out of  52 | elapsed:    1.2s finished\n",
      "Features: 64/115[Parallel(n_jobs=-1)]: Using backend LokyBackend with 8 concurrent workers.\n",
      "[Parallel(n_jobs=-1)]: Done  36 out of  51 | elapsed:    1.0s remaining:    0.4s\n",
      "[Parallel(n_jobs=-1)]: Done  51 out of  51 | elapsed:    1.5s finished\n",
      "Features: 65/115[Parallel(n_jobs=-1)]: Using backend LokyBackend with 8 concurrent workers.\n",
      "[Parallel(n_jobs=-1)]: Done  50 out of  50 | elapsed:    1.4s finished\n",
      "Features: 66/115[Parallel(n_jobs=-1)]: Using backend LokyBackend with 8 concurrent workers.\n",
      "[Parallel(n_jobs=-1)]: Done  34 out of  49 | elapsed:    0.8s remaining:    0.3s\n"
     ]
    },
    {
     "name": "stderr",
     "output_type": "stream",
     "text": [
      "[Parallel(n_jobs=-1)]: Done  49 out of  49 | elapsed:    1.3s finished\n",
      "Features: 67/115[Parallel(n_jobs=-1)]: Using backend LokyBackend with 8 concurrent workers.\n",
      "[Parallel(n_jobs=-1)]: Done  48 out of  48 | elapsed:    1.1s finished\n",
      "Features: 68/115[Parallel(n_jobs=-1)]: Using backend LokyBackend with 8 concurrent workers.\n",
      "[Parallel(n_jobs=-1)]: Done  47 out of  47 | elapsed:    1.4s finished\n",
      "Features: 69/115[Parallel(n_jobs=-1)]: Using backend LokyBackend with 8 concurrent workers.\n",
      "[Parallel(n_jobs=-1)]: Done  31 out of  46 | elapsed:    0.7s remaining:    0.3s\n",
      "[Parallel(n_jobs=-1)]: Done  46 out of  46 | elapsed:    1.1s finished\n",
      "Features: 70/115[Parallel(n_jobs=-1)]: Using backend LokyBackend with 8 concurrent workers.\n",
      "[Parallel(n_jobs=-1)]: Done  30 out of  45 | elapsed:    0.8s remaining:    0.3s\n",
      "[Parallel(n_jobs=-1)]: Done  45 out of  45 | elapsed:    1.0s finished\n",
      "Features: 71/115[Parallel(n_jobs=-1)]: Using backend LokyBackend with 8 concurrent workers.\n",
      "[Parallel(n_jobs=-1)]: Done  44 out of  44 | elapsed:    1.0s finished\n",
      "Features: 72/115[Parallel(n_jobs=-1)]: Using backend LokyBackend with 8 concurrent workers.\n",
      "[Parallel(n_jobs=-1)]: Done  43 out of  43 | elapsed:    1.2s finished\n",
      "Features: 73/115[Parallel(n_jobs=-1)]: Using backend LokyBackend with 8 concurrent workers.\n",
      "[Parallel(n_jobs=-1)]: Done  42 out of  42 | elapsed:    1.2s finished\n",
      "Features: 74/115[Parallel(n_jobs=-1)]: Using backend LokyBackend with 8 concurrent workers.\n",
      "[Parallel(n_jobs=-1)]: Done  26 out of  41 | elapsed:    0.7s remaining:    0.4s\n",
      "[Parallel(n_jobs=-1)]: Done  41 out of  41 | elapsed:    0.9s finished\n",
      "Features: 75/115[Parallel(n_jobs=-1)]: Using backend LokyBackend with 8 concurrent workers.\n",
      "[Parallel(n_jobs=-1)]: Done  40 out of  40 | elapsed:    0.9s finished\n",
      "Features: 76/115[Parallel(n_jobs=-1)]: Using backend LokyBackend with 8 concurrent workers.\n",
      "[Parallel(n_jobs=-1)]: Done  24 out of  39 | elapsed:    0.6s remaining:    0.3s\n",
      "[Parallel(n_jobs=-1)]: Done  39 out of  39 | elapsed:    0.8s finished\n",
      "Features: 77/115[Parallel(n_jobs=-1)]: Using backend LokyBackend with 8 concurrent workers.\n",
      "[Parallel(n_jobs=-1)]: Done  23 out of  38 | elapsed:    1.0s remaining:    0.6s\n",
      "[Parallel(n_jobs=-1)]: Done  38 out of  38 | elapsed:    1.4s finished\n",
      "Features: 78/115[Parallel(n_jobs=-1)]: Using backend LokyBackend with 8 concurrent workers.\n",
      "[Parallel(n_jobs=-1)]: Done  37 out of  37 | elapsed:    1.4s finished\n",
      "Features: 79/115[Parallel(n_jobs=-1)]: Using backend LokyBackend with 8 concurrent workers.\n",
      "[Parallel(n_jobs=-1)]: Done  36 out of  36 | elapsed:    1.3s finished\n",
      "Features: 80/115[Parallel(n_jobs=-1)]: Using backend LokyBackend with 8 concurrent workers.\n",
      "[Parallel(n_jobs=-1)]: Done  35 out of  35 | elapsed:    1.5s finished\n",
      "Features: 81/115[Parallel(n_jobs=-1)]: Using backend LokyBackend with 8 concurrent workers.\n",
      "[Parallel(n_jobs=-1)]: Done  34 out of  34 | elapsed:    0.9s finished\n",
      "Features: 82/115[Parallel(n_jobs=-1)]: Using backend LokyBackend with 8 concurrent workers.\n",
      "[Parallel(n_jobs=-1)]: Done  18 out of  33 | elapsed:    1.1s remaining:    0.9s\n",
      "[Parallel(n_jobs=-1)]: Done  33 out of  33 | elapsed:    1.5s finished\n",
      "Features: 83/115[Parallel(n_jobs=-1)]: Using backend LokyBackend with 8 concurrent workers.\n",
      "[Parallel(n_jobs=-1)]: Done  32 out of  32 | elapsed:    1.5s finished\n",
      "Features: 84/115[Parallel(n_jobs=-1)]: Using backend LokyBackend with 8 concurrent workers.\n",
      "[Parallel(n_jobs=-1)]: Done  31 out of  31 | elapsed:    1.4s finished\n",
      "Features: 85/115[Parallel(n_jobs=-1)]: Using backend LokyBackend with 8 concurrent workers.\n",
      "[Parallel(n_jobs=-1)]: Done  30 out of  30 | elapsed:    0.9s finished\n",
      "Features: 86/115[Parallel(n_jobs=-1)]: Using backend LokyBackend with 8 concurrent workers.\n",
      "[Parallel(n_jobs=-1)]: Done  29 out of  29 | elapsed:    1.2s finished\n",
      "Features: 87/115[Parallel(n_jobs=-1)]: Using backend LokyBackend with 8 concurrent workers.\n",
      "[Parallel(n_jobs=-1)]: Done  28 out of  28 | elapsed:    1.3s finished\n",
      "Features: 88/115[Parallel(n_jobs=-1)]: Using backend LokyBackend with 8 concurrent workers.\n",
      "[Parallel(n_jobs=-1)]: Done  27 out of  27 | elapsed:    1.2s finished\n",
      "Features: 89/115[Parallel(n_jobs=-1)]: Using backend LokyBackend with 8 concurrent workers.\n",
      "[Parallel(n_jobs=-1)]: Done  26 out of  26 | elapsed:    0.8s finished\n",
      "Features: 90/115[Parallel(n_jobs=-1)]: Using backend LokyBackend with 8 concurrent workers.\n",
      "[Parallel(n_jobs=-1)]: Done  25 out of  25 | elapsed:    1.3s finished\n",
      "Features: 91/115[Parallel(n_jobs=-1)]: Using backend LokyBackend with 8 concurrent workers.\n",
      "[Parallel(n_jobs=-1)]: Done  24 out of  24 | elapsed:    1.4s finished\n",
      "Features: 92/115[Parallel(n_jobs=-1)]: Using backend LokyBackend with 8 concurrent workers.\n",
      "[Parallel(n_jobs=-1)]: Done  23 out of  23 | elapsed:    1.1s finished\n",
      "Features: 93/115[Parallel(n_jobs=-1)]: Using backend LokyBackend with 8 concurrent workers.\n",
      "[Parallel(n_jobs=-1)]: Done  22 out of  22 | elapsed:    0.8s finished\n",
      "Features: 94/115[Parallel(n_jobs=-1)]: Using backend LokyBackend with 8 concurrent workers.\n",
      "[Parallel(n_jobs=-1)]: Done  21 out of  21 | elapsed:    1.1s finished\n",
      "Features: 95/115[Parallel(n_jobs=-1)]: Using backend LokyBackend with 8 concurrent workers.\n",
      "[Parallel(n_jobs=-1)]: Done  20 out of  20 | elapsed:    1.2s finished\n",
      "Features: 96/115[Parallel(n_jobs=-1)]: Using backend LokyBackend with 8 concurrent workers.\n",
      "[Parallel(n_jobs=-1)]: Done  19 out of  19 | elapsed:    1.0s finished\n",
      "Features: 97/115[Parallel(n_jobs=-1)]: Using backend LokyBackend with 8 concurrent workers.\n",
      "[Parallel(n_jobs=-1)]: Done  18 out of  18 | elapsed:    0.9s finished\n",
      "Features: 98/115[Parallel(n_jobs=-1)]: Using backend LokyBackend with 8 concurrent workers.\n",
      "[Parallel(n_jobs=-1)]: Done  17 out of  17 | elapsed:    0.8s finished\n",
      "Features: 99/115[Parallel(n_jobs=-1)]: Using backend LokyBackend with 8 concurrent workers.\n",
      "[Parallel(n_jobs=-1)]: Done  16 out of  16 | elapsed:    0.8s finished\n",
      "Features: 100/115[Parallel(n_jobs=-1)]: Using backend LokyBackend with 8 concurrent workers.\n",
      "[Parallel(n_jobs=-1)]: Done  15 out of  15 | elapsed:    0.9s finished\n",
      "Features: 101/115[Parallel(n_jobs=-1)]: Using backend LokyBackend with 8 concurrent workers.\n",
      "[Parallel(n_jobs=-1)]: Done  14 out of  14 | elapsed:    0.7s remaining:    0.0s\n",
      "[Parallel(n_jobs=-1)]: Done  14 out of  14 | elapsed:    0.7s finished\n",
      "Features: 102/115[Parallel(n_jobs=-1)]: Using backend LokyBackend with 8 concurrent workers.\n",
      "[Parallel(n_jobs=-1)]: Done  13 out of  13 | elapsed:    0.7s finished\n",
      "Features: 103/115[Parallel(n_jobs=-1)]: Using backend LokyBackend with 8 concurrent workers.\n",
      "[Parallel(n_jobs=-1)]: Done  10 out of  12 | elapsed:    0.4s remaining:    0.0s\n",
      "[Parallel(n_jobs=-1)]: Done  12 out of  12 | elapsed:    0.4s finished\n",
      "Features: 104/115[Parallel(n_jobs=-1)]: Using backend LokyBackend with 8 concurrent workers.\n",
      "[Parallel(n_jobs=-1)]: Done   8 out of  11 | elapsed:    0.4s remaining:    0.1s\n",
      "[Parallel(n_jobs=-1)]: Done  11 out of  11 | elapsed:    0.6s finished\n",
      "Features: 105/115[Parallel(n_jobs=-1)]: Using backend LokyBackend with 8 concurrent workers.\n",
      "[Parallel(n_jobs=-1)]: Done   6 out of  10 | elapsed:    0.4s remaining:    0.2s\n",
      "[Parallel(n_jobs=-1)]: Done  10 out of  10 | elapsed:    0.6s finished\n",
      "Features: 106/115[Parallel(n_jobs=-1)]: Using backend LokyBackend with 8 concurrent workers.\n",
      "[Parallel(n_jobs=-1)]: Done   4 out of   9 | elapsed:    0.4s remaining:    0.6s\n",
      "[Parallel(n_jobs=-1)]: Done   9 out of   9 | elapsed:    0.8s finished\n",
      "Features: 107/115[Parallel(n_jobs=-1)]: Using backend LokyBackend with 8 concurrent workers.\n",
      "[Parallel(n_jobs=-1)]: Done   2 out of   8 | elapsed:    0.3s remaining:    1.1s\n",
      "[Parallel(n_jobs=-1)]: Done   8 out of   8 | elapsed:    0.4s finished\n",
      "Features: 108/115[Parallel(n_jobs=-1)]: Using backend LokyBackend with 8 concurrent workers.\n",
      "[Parallel(n_jobs=-1)]: Done   7 out of   7 | elapsed:    0.4s finished\n",
      "Features: 109/115[Parallel(n_jobs=-1)]: Using backend LokyBackend with 8 concurrent workers.\n",
      "[Parallel(n_jobs=-1)]: Done   6 out of   6 | elapsed:    0.3s finished\n",
      "Features: 110/115[Parallel(n_jobs=-1)]: Using backend LokyBackend with 8 concurrent workers.\n",
      "[Parallel(n_jobs=-1)]: Done   2 out of   5 | elapsed:    0.1s remaining:    0.2s\n",
      "[Parallel(n_jobs=-1)]: Done   5 out of   5 | elapsed:    0.3s finished\n"
     ]
    },
    {
     "name": "stderr",
     "output_type": "stream",
     "text": [
      "Features: 111/115[Parallel(n_jobs=-1)]: Using backend LokyBackend with 8 concurrent workers.\n",
      "[Parallel(n_jobs=-1)]: Done   4 out of   4 | elapsed:    0.3s remaining:    0.0s\n",
      "[Parallel(n_jobs=-1)]: Done   4 out of   4 | elapsed:    0.3s finished\n",
      "Features: 112/115[Parallel(n_jobs=-1)]: Using backend LokyBackend with 8 concurrent workers.\n",
      "[Parallel(n_jobs=-1)]: Done   3 out of   3 | elapsed:    0.3s finished\n",
      "Features: 113/115[Parallel(n_jobs=-1)]: Using backend LokyBackend with 8 concurrent workers.\n",
      "[Parallel(n_jobs=-1)]: Done   2 out of   2 | elapsed:    0.2s remaining:    0.0s\n",
      "[Parallel(n_jobs=-1)]: Done   2 out of   2 | elapsed:    0.2s finished\n",
      "Features: 114/115[Parallel(n_jobs=-1)]: Using backend LokyBackend with 8 concurrent workers.\n",
      "[Parallel(n_jobs=-1)]: Done   1 out of   1 | elapsed:    0.2s finished\n",
      "Features: 115/115"
     ]
    },
    {
     "name": "stdout",
     "output_type": "stream",
     "text": [
      "LinearRegression()\n"
     ]
    },
    {
     "name": "stderr",
     "output_type": "stream",
     "text": [
      "[Parallel(n_jobs=-1)]: Using backend LokyBackend with 8 concurrent workers.\n",
      "[Parallel(n_jobs=-1)]: Done  34 tasks      | elapsed:    2.1s\n",
      "[Parallel(n_jobs=-1)]: Done 115 out of 115 | elapsed:    7.2s finished\n",
      "Features: 114/1[Parallel(n_jobs=-1)]: Using backend LokyBackend with 8 concurrent workers.\n",
      "[Parallel(n_jobs=-1)]: Done  34 tasks      | elapsed:    2.2s\n",
      "[Parallel(n_jobs=-1)]: Done 114 out of 114 | elapsed:    7.4s finished\n",
      "Features: 113/1[Parallel(n_jobs=-1)]: Using backend LokyBackend with 8 concurrent workers.\n",
      "[Parallel(n_jobs=-1)]: Done  34 tasks      | elapsed:    2.2s\n",
      "[Parallel(n_jobs=-1)]: Done 113 out of 113 | elapsed:    6.6s finished\n",
      "Features: 112/1[Parallel(n_jobs=-1)]: Using backend LokyBackend with 8 concurrent workers.\n",
      "[Parallel(n_jobs=-1)]: Done  34 tasks      | elapsed:    1.9s\n",
      "[Parallel(n_jobs=-1)]: Done 112 out of 112 | elapsed:    6.8s finished\n",
      "Features: 111/1[Parallel(n_jobs=-1)]: Using backend LokyBackend with 8 concurrent workers.\n",
      "[Parallel(n_jobs=-1)]: Done  52 tasks      | elapsed:    3.0s\n",
      "[Parallel(n_jobs=-1)]: Done  96 out of 111 | elapsed:    5.2s remaining:    0.7s\n",
      "[Parallel(n_jobs=-1)]: Done 111 out of 111 | elapsed:    5.7s finished\n",
      "Features: 110/1[Parallel(n_jobs=-1)]: Using backend LokyBackend with 8 concurrent workers.\n",
      "[Parallel(n_jobs=-1)]: Done  34 tasks      | elapsed:    2.1s\n",
      "[Parallel(n_jobs=-1)]: Done 110 out of 110 | elapsed:    6.2s finished\n",
      "Features: 109/1[Parallel(n_jobs=-1)]: Using backend LokyBackend with 8 concurrent workers.\n",
      "[Parallel(n_jobs=-1)]: Done  34 tasks      | elapsed:    2.0s\n",
      "[Parallel(n_jobs=-1)]: Done 109 out of 109 | elapsed:    6.0s finished\n",
      "Features: 108/1[Parallel(n_jobs=-1)]: Using backend LokyBackend with 8 concurrent workers.\n",
      "[Parallel(n_jobs=-1)]: Done  34 tasks      | elapsed:    1.4s\n",
      "[Parallel(n_jobs=-1)]: Done 108 out of 108 | elapsed:    5.7s finished\n",
      "Features: 107/1[Parallel(n_jobs=-1)]: Using backend LokyBackend with 8 concurrent workers.\n",
      "[Parallel(n_jobs=-1)]: Done  34 tasks      | elapsed:    2.0s\n",
      "[Parallel(n_jobs=-1)]: Done 107 out of 107 | elapsed:    5.7s finished\n",
      "Features: 106/1[Parallel(n_jobs=-1)]: Using backend LokyBackend with 8 concurrent workers.\n",
      "[Parallel(n_jobs=-1)]: Done  52 tasks      | elapsed:    2.9s\n",
      "[Parallel(n_jobs=-1)]: Done  91 out of 106 | elapsed:    4.3s remaining:    0.6s\n",
      "[Parallel(n_jobs=-1)]: Done 106 out of 106 | elapsed:    5.0s finished\n",
      "Features: 105/1[Parallel(n_jobs=-1)]: Using backend LokyBackend with 8 concurrent workers.\n",
      "[Parallel(n_jobs=-1)]: Done  34 tasks      | elapsed:    1.9s\n",
      "[Parallel(n_jobs=-1)]: Done 105 out of 105 | elapsed:    5.1s finished\n",
      "Features: 104/1[Parallel(n_jobs=-1)]: Using backend LokyBackend with 8 concurrent workers.\n",
      "[Parallel(n_jobs=-1)]: Done  34 tasks      | elapsed:    1.6s\n",
      "[Parallel(n_jobs=-1)]: Done 104 out of 104 | elapsed:    5.2s finished\n",
      "Features: 103/1[Parallel(n_jobs=-1)]: Using backend LokyBackend with 8 concurrent workers.\n",
      "[Parallel(n_jobs=-1)]: Done  34 tasks      | elapsed:    1.7s\n",
      "[Parallel(n_jobs=-1)]: Done 103 out of 103 | elapsed:    5.0s finished\n",
      "Features: 102/1[Parallel(n_jobs=-1)]: Using backend LokyBackend with 8 concurrent workers.\n",
      "[Parallel(n_jobs=-1)]: Done  52 tasks      | elapsed:    2.7s\n",
      "[Parallel(n_jobs=-1)]: Done 102 out of 102 | elapsed:    4.5s finished\n",
      "Features: 101/1[Parallel(n_jobs=-1)]: Using backend LokyBackend with 8 concurrent workers.\n",
      "[Parallel(n_jobs=-1)]: Done  34 tasks      | elapsed:    1.6s\n",
      "[Parallel(n_jobs=-1)]: Done 101 out of 101 | elapsed:    4.6s finished\n",
      "Features: 100/1[Parallel(n_jobs=-1)]: Using backend LokyBackend with 8 concurrent workers.\n",
      "[Parallel(n_jobs=-1)]: Done  52 tasks      | elapsed:    2.4s\n",
      "[Parallel(n_jobs=-1)]: Done 100 out of 100 | elapsed:    4.2s finished\n",
      "Features: 99/1[Parallel(n_jobs=-1)]: Using backend LokyBackend with 8 concurrent workers.\n",
      "[Parallel(n_jobs=-1)]: Done  52 tasks      | elapsed:    2.4s\n",
      "[Parallel(n_jobs=-1)]: Done  84 out of  99 | elapsed:    3.7s remaining:    0.6s\n",
      "[Parallel(n_jobs=-1)]: Done  99 out of  99 | elapsed:    4.0s finished\n",
      "Features: 98/1[Parallel(n_jobs=-1)]: Using backend LokyBackend with 8 concurrent workers.\n",
      "[Parallel(n_jobs=-1)]: Done  52 tasks      | elapsed:    2.5s\n",
      "[Parallel(n_jobs=-1)]: Done  98 out of  98 | elapsed:    4.0s finished\n",
      "Features: 97/1[Parallel(n_jobs=-1)]: Using backend LokyBackend with 8 concurrent workers.\n",
      "[Parallel(n_jobs=-1)]: Done  52 tasks      | elapsed:    2.1s\n",
      "[Parallel(n_jobs=-1)]: Done  82 out of  97 | elapsed:    3.3s remaining:    0.5s\n",
      "[Parallel(n_jobs=-1)]: Done  97 out of  97 | elapsed:    3.8s finished\n",
      "Features: 96/1[Parallel(n_jobs=-1)]: Using backend LokyBackend with 8 concurrent workers.\n",
      "[Parallel(n_jobs=-1)]: Done  52 tasks      | elapsed:    2.0s\n",
      "[Parallel(n_jobs=-1)]: Done  96 out of  96 | elapsed:    3.8s finished\n",
      "Features: 95/1[Parallel(n_jobs=-1)]: Using backend LokyBackend with 8 concurrent workers.\n",
      "[Parallel(n_jobs=-1)]: Done  34 tasks      | elapsed:    1.6s\n",
      "[Parallel(n_jobs=-1)]: Done  95 out of  95 | elapsed:    4.0s finished\n",
      "Features: 94/1[Parallel(n_jobs=-1)]: Using backend LokyBackend with 8 concurrent workers.\n",
      "[Parallel(n_jobs=-1)]: Done  34 tasks      | elapsed:    1.2s\n",
      "[Parallel(n_jobs=-1)]: Done  94 out of  94 | elapsed:    3.7s finished\n",
      "Features: 93/1[Parallel(n_jobs=-1)]: Using backend LokyBackend with 8 concurrent workers.\n",
      "[Parallel(n_jobs=-1)]: Done  34 tasks      | elapsed:    1.4s\n",
      "[Parallel(n_jobs=-1)]: Done  93 out of  93 | elapsed:    3.6s finished\n",
      "Features: 92/1[Parallel(n_jobs=-1)]: Using backend LokyBackend with 8 concurrent workers.\n",
      "[Parallel(n_jobs=-1)]: Done  52 tasks      | elapsed:    1.9s\n",
      "[Parallel(n_jobs=-1)]: Done  77 out of  92 | elapsed:    2.9s remaining:    0.5s\n",
      "[Parallel(n_jobs=-1)]: Done  92 out of  92 | elapsed:    3.4s finished\n",
      "Features: 91/1[Parallel(n_jobs=-1)]: Using backend LokyBackend with 8 concurrent workers.\n",
      "[Parallel(n_jobs=-1)]: Done  52 tasks      | elapsed:    2.1s\n",
      "[Parallel(n_jobs=-1)]: Done  91 out of  91 | elapsed:    2.9s finished\n",
      "Features: 90/1[Parallel(n_jobs=-1)]: Using backend LokyBackend with 8 concurrent workers.\n",
      "[Parallel(n_jobs=-1)]: Done  34 tasks      | elapsed:    1.5s\n",
      "[Parallel(n_jobs=-1)]: Done  90 out of  90 | elapsed:    3.5s finished\n",
      "Features: 89/1[Parallel(n_jobs=-1)]: Using backend LokyBackend with 8 concurrent workers.\n",
      "[Parallel(n_jobs=-1)]: Done  34 tasks      | elapsed:    1.2s\n",
      "[Parallel(n_jobs=-1)]: Done  89 out of  89 | elapsed:    3.2s finished\n",
      "Features: 88/1[Parallel(n_jobs=-1)]: Using backend LokyBackend with 8 concurrent workers.\n",
      "[Parallel(n_jobs=-1)]: Done  52 tasks      | elapsed:    2.0s\n",
      "[Parallel(n_jobs=-1)]: Done  88 out of  88 | elapsed:    3.2s finished\n",
      "Features: 87/1[Parallel(n_jobs=-1)]: Using backend LokyBackend with 8 concurrent workers.\n",
      "[Parallel(n_jobs=-1)]: Done  52 tasks      | elapsed:    1.6s\n",
      "[Parallel(n_jobs=-1)]: Done  72 out of  87 | elapsed:    2.4s remaining:    0.4s\n",
      "[Parallel(n_jobs=-1)]: Done  87 out of  87 | elapsed:    2.7s finished\n",
      "Features: 86/1[Parallel(n_jobs=-1)]: Using backend LokyBackend with 8 concurrent workers.\n",
      "[Parallel(n_jobs=-1)]: Done  52 tasks      | elapsed:    1.8s\n",
      "[Parallel(n_jobs=-1)]: Done  86 out of  86 | elapsed:    3.0s finished\n",
      "Features: 85/1[Parallel(n_jobs=-1)]: Using backend LokyBackend with 8 concurrent workers.\n",
      "[Parallel(n_jobs=-1)]: Done  52 tasks      | elapsed:    1.7s\n",
      "[Parallel(n_jobs=-1)]: Done  70 out of  85 | elapsed:    2.1s remaining:    0.4s\n",
      "[Parallel(n_jobs=-1)]: Done  85 out of  85 | elapsed:    2.4s finished\n",
      "Features: 84/1[Parallel(n_jobs=-1)]: Using backend LokyBackend with 8 concurrent workers.\n",
      "[Parallel(n_jobs=-1)]: Done  52 tasks      | elapsed:    1.7s\n",
      "[Parallel(n_jobs=-1)]: Done  84 out of  84 | elapsed:    2.7s finished\n",
      "Features: 83/1[Parallel(n_jobs=-1)]: Using backend LokyBackend with 8 concurrent workers.\n",
      "[Parallel(n_jobs=-1)]: Done  52 tasks      | elapsed:    1.6s\n",
      "[Parallel(n_jobs=-1)]: Done  68 out of  83 | elapsed:    2.2s remaining:    0.4s\n",
      "[Parallel(n_jobs=-1)]: Done  83 out of  83 | elapsed:    2.6s finished\n",
      "Features: 82/1[Parallel(n_jobs=-1)]: Using backend LokyBackend with 8 concurrent workers.\n",
      "[Parallel(n_jobs=-1)]: Done  54 tasks      | elapsed:    1.7s\n",
      "[Parallel(n_jobs=-1)]: Done  82 out of  82 | elapsed:    2.2s finished\n"
     ]
    },
    {
     "name": "stderr",
     "output_type": "stream",
     "text": [
      "Features: 81/1[Parallel(n_jobs=-1)]: Using backend LokyBackend with 8 concurrent workers.\n",
      "[Parallel(n_jobs=-1)]: Done  52 tasks      | elapsed:    1.4s\n",
      "[Parallel(n_jobs=-1)]: Done  66 out of  81 | elapsed:    1.9s remaining:    0.4s\n",
      "[Parallel(n_jobs=-1)]: Done  81 out of  81 | elapsed:    2.5s finished\n",
      "Features: 80/1[Parallel(n_jobs=-1)]: Using backend LokyBackend with 8 concurrent workers.\n",
      "[Parallel(n_jobs=-1)]: Done  80 out of  80 | elapsed:    2.5s finished\n",
      "Features: 79/1[Parallel(n_jobs=-1)]: Using backend LokyBackend with 8 concurrent workers.\n",
      "[Parallel(n_jobs=-1)]: Done  52 tasks      | elapsed:    1.5s\n",
      "[Parallel(n_jobs=-1)]: Done  64 out of  79 | elapsed:    1.8s remaining:    0.3s\n",
      "[Parallel(n_jobs=-1)]: Done  79 out of  79 | elapsed:    2.2s finished\n",
      "Features: 78/1[Parallel(n_jobs=-1)]: Using backend LokyBackend with 8 concurrent workers.\n",
      "[Parallel(n_jobs=-1)]: Done  52 tasks      | elapsed:    1.4s\n",
      "[Parallel(n_jobs=-1)]: Done  63 out of  78 | elapsed:    1.8s remaining:    0.4s\n",
      "[Parallel(n_jobs=-1)]: Done  78 out of  78 | elapsed:    2.1s finished\n",
      "Features: 77/1[Parallel(n_jobs=-1)]: Using backend LokyBackend with 8 concurrent workers.\n",
      "[Parallel(n_jobs=-1)]: Done  52 tasks      | elapsed:    1.6s\n",
      "[Parallel(n_jobs=-1)]: Done  62 out of  77 | elapsed:    1.9s remaining:    0.4s\n",
      "[Parallel(n_jobs=-1)]: Done  77 out of  77 | elapsed:    2.3s finished\n",
      "Features: 76/1[Parallel(n_jobs=-1)]: Using backend LokyBackend with 8 concurrent workers.\n",
      "[Parallel(n_jobs=-1)]: Done  54 tasks      | elapsed:    1.6s\n",
      "[Parallel(n_jobs=-1)]: Done  61 out of  76 | elapsed:    1.7s remaining:    0.4s\n",
      "[Parallel(n_jobs=-1)]: Done  76 out of  76 | elapsed:    2.0s finished\n",
      "Features: 75/1[Parallel(n_jobs=-1)]: Using backend LokyBackend with 8 concurrent workers.\n",
      "[Parallel(n_jobs=-1)]: Done  52 tasks      | elapsed:    1.5s\n",
      "[Parallel(n_jobs=-1)]: Done  75 out of  75 | elapsed:    2.2s finished\n",
      "Features: 74/1[Parallel(n_jobs=-1)]: Using backend LokyBackend with 8 concurrent workers.\n",
      "[Parallel(n_jobs=-1)]: Done  52 tasks      | elapsed:    1.4s\n",
      "[Parallel(n_jobs=-1)]: Done  74 out of  74 | elapsed:    1.8s finished\n",
      "Features: 73/1[Parallel(n_jobs=-1)]: Using backend LokyBackend with 8 concurrent workers.\n",
      "[Parallel(n_jobs=-1)]: Done  52 tasks      | elapsed:    1.5s\n",
      "[Parallel(n_jobs=-1)]: Done  58 out of  73 | elapsed:    1.6s remaining:    0.3s\n",
      "[Parallel(n_jobs=-1)]: Done  73 out of  73 | elapsed:    1.9s finished\n",
      "Features: 72/1[Parallel(n_jobs=-1)]: Using backend LokyBackend with 8 concurrent workers.\n",
      "[Parallel(n_jobs=-1)]: Done  57 out of  72 | elapsed:    1.8s remaining:    0.4s\n",
      "[Parallel(n_jobs=-1)]: Done  72 out of  72 | elapsed:    2.2s finished\n",
      "Features: 71/1[Parallel(n_jobs=-1)]: Using backend LokyBackend with 8 concurrent workers.\n",
      "[Parallel(n_jobs=-1)]: Done  56 out of  71 | elapsed:    1.7s remaining:    0.4s\n",
      "[Parallel(n_jobs=-1)]: Done  71 out of  71 | elapsed:    1.9s finished\n",
      "Features: 70/1[Parallel(n_jobs=-1)]: Using backend LokyBackend with 8 concurrent workers.\n",
      "[Parallel(n_jobs=-1)]: Done  70 out of  70 | elapsed:    1.4s finished\n",
      "Features: 69/1[Parallel(n_jobs=-1)]: Using backend LokyBackend with 8 concurrent workers.\n",
      "[Parallel(n_jobs=-1)]: Done  54 out of  69 | elapsed:    1.3s remaining:    0.3s\n",
      "[Parallel(n_jobs=-1)]: Done  69 out of  69 | elapsed:    1.5s finished\n",
      "Features: 68/1[Parallel(n_jobs=-1)]: Using backend LokyBackend with 8 concurrent workers.\n",
      "[Parallel(n_jobs=-1)]: Done  68 out of  68 | elapsed:    1.4s finished\n",
      "Features: 67/1[Parallel(n_jobs=-1)]: Using backend LokyBackend with 8 concurrent workers.\n",
      "[Parallel(n_jobs=-1)]: Done  52 out of  67 | elapsed:    1.3s remaining:    0.3s\n",
      "[Parallel(n_jobs=-1)]: Done  67 out of  67 | elapsed:    1.5s finished\n",
      "Features: 66/1[Parallel(n_jobs=-1)]: Using backend LokyBackend with 8 concurrent workers.\n",
      "[Parallel(n_jobs=-1)]: Done  66 out of  66 | elapsed:    1.3s finished\n",
      "Features: 65/1[Parallel(n_jobs=-1)]: Using backend LokyBackend with 8 concurrent workers.\n",
      "[Parallel(n_jobs=-1)]: Done  50 out of  65 | elapsed:    1.1s remaining:    0.3s\n",
      "[Parallel(n_jobs=-1)]: Done  65 out of  65 | elapsed:    1.5s finished\n",
      "Features: 64/1[Parallel(n_jobs=-1)]: Using backend LokyBackend with 8 concurrent workers.\n",
      "[Parallel(n_jobs=-1)]: Done  64 out of  64 | elapsed:    1.4s finished\n",
      "Features: 63/1[Parallel(n_jobs=-1)]: Using backend LokyBackend with 8 concurrent workers.\n",
      "[Parallel(n_jobs=-1)]: Done  48 out of  63 | elapsed:    1.0s remaining:    0.2s\n",
      "[Parallel(n_jobs=-1)]: Done  63 out of  63 | elapsed:    1.2s finished\n",
      "Features: 62/1[Parallel(n_jobs=-1)]: Using backend LokyBackend with 8 concurrent workers.\n",
      "[Parallel(n_jobs=-1)]: Done  47 out of  62 | elapsed:    1.0s remaining:    0.2s\n",
      "[Parallel(n_jobs=-1)]: Done  62 out of  62 | elapsed:    1.2s finished\n",
      "Features: 61/1[Parallel(n_jobs=-1)]: Using backend LokyBackend with 8 concurrent workers.\n",
      "[Parallel(n_jobs=-1)]: Done  61 out of  61 | elapsed:    1.2s finished\n",
      "Features: 60/1[Parallel(n_jobs=-1)]: Using backend LokyBackend with 8 concurrent workers.\n",
      "[Parallel(n_jobs=-1)]: Done  45 out of  60 | elapsed:    0.9s remaining:    0.2s\n",
      "[Parallel(n_jobs=-1)]: Done  60 out of  60 | elapsed:    1.2s finished\n",
      "Features: 59/1[Parallel(n_jobs=-1)]: Using backend LokyBackend with 8 concurrent workers.\n",
      "[Parallel(n_jobs=-1)]: Done  44 out of  59 | elapsed:    2.3s remaining:    0.7s\n",
      "[Parallel(n_jobs=-1)]: Done  59 out of  59 | elapsed:    2.7s finished\n",
      "Features: 58/1[Parallel(n_jobs=-1)]: Using backend LokyBackend with 8 concurrent workers.\n",
      "[Parallel(n_jobs=-1)]: Done  58 out of  58 | elapsed:    1.7s finished\n",
      "Features: 57/1[Parallel(n_jobs=-1)]: Using backend LokyBackend with 8 concurrent workers.\n",
      "[Parallel(n_jobs=-1)]: Done  57 out of  57 | elapsed:    1.6s finished\n",
      "Features: 56/1[Parallel(n_jobs=-1)]: Using backend LokyBackend with 8 concurrent workers.\n",
      "[Parallel(n_jobs=-1)]: Done  56 out of  56 | elapsed:    1.9s finished\n",
      "Features: 55/1[Parallel(n_jobs=-1)]: Using backend LokyBackend with 8 concurrent workers.\n",
      "[Parallel(n_jobs=-1)]: Done  55 out of  55 | elapsed:    1.3s finished\n",
      "Features: 54/1[Parallel(n_jobs=-1)]: Using backend LokyBackend with 8 concurrent workers.\n",
      "[Parallel(n_jobs=-1)]: Done  54 out of  54 | elapsed:    1.4s finished\n",
      "Features: 53/1[Parallel(n_jobs=-1)]: Using backend LokyBackend with 8 concurrent workers.\n",
      "[Parallel(n_jobs=-1)]: Done  38 out of  53 | elapsed:    1.0s remaining:    0.3s\n",
      "[Parallel(n_jobs=-1)]: Done  53 out of  53 | elapsed:    1.2s finished\n",
      "Features: 52/1[Parallel(n_jobs=-1)]: Using backend LokyBackend with 8 concurrent workers.\n",
      "[Parallel(n_jobs=-1)]: Done  52 out of  52 | elapsed:    1.0s finished\n",
      "Features: 51/1[Parallel(n_jobs=-1)]: Using backend LokyBackend with 8 concurrent workers.\n",
      "[Parallel(n_jobs=-1)]: Done  36 out of  51 | elapsed:    0.7s remaining:    0.2s\n",
      "[Parallel(n_jobs=-1)]: Done  51 out of  51 | elapsed:    1.1s finished\n",
      "Features: 50/1[Parallel(n_jobs=-1)]: Using backend LokyBackend with 8 concurrent workers.\n",
      "[Parallel(n_jobs=-1)]: Done  50 out of  50 | elapsed:    1.0s finished\n",
      "Features: 49/1[Parallel(n_jobs=-1)]: Using backend LokyBackend with 8 concurrent workers.\n",
      "[Parallel(n_jobs=-1)]: Done  34 out of  49 | elapsed:    0.8s remaining:    0.3s\n",
      "[Parallel(n_jobs=-1)]: Done  49 out of  49 | elapsed:    1.1s finished\n",
      "Features: 48/1[Parallel(n_jobs=-1)]: Using backend LokyBackend with 8 concurrent workers.\n",
      "[Parallel(n_jobs=-1)]: Done  48 out of  48 | elapsed:    1.0s finished\n",
      "Features: 47/1[Parallel(n_jobs=-1)]: Using backend LokyBackend with 8 concurrent workers.\n",
      "[Parallel(n_jobs=-1)]: Done  32 out of  47 | elapsed:    0.6s remaining:    0.2s\n",
      "[Parallel(n_jobs=-1)]: Done  47 out of  47 | elapsed:    0.9s finished\n",
      "Features: 46/1[Parallel(n_jobs=-1)]: Using backend LokyBackend with 8 concurrent workers.\n",
      "[Parallel(n_jobs=-1)]: Done  31 out of  46 | elapsed:    0.5s remaining:    0.2s\n",
      "[Parallel(n_jobs=-1)]: Done  46 out of  46 | elapsed:    0.8s finished\n",
      "Features: 45/1[Parallel(n_jobs=-1)]: Using backend LokyBackend with 8 concurrent workers.\n",
      "[Parallel(n_jobs=-1)]: Done  30 out of  45 | elapsed:    0.6s remaining:    0.3s\n",
      "[Parallel(n_jobs=-1)]: Done  45 out of  45 | elapsed:    0.9s finished\n",
      "Features: 44/1[Parallel(n_jobs=-1)]: Using backend LokyBackend with 8 concurrent workers.\n"
     ]
    },
    {
     "name": "stderr",
     "output_type": "stream",
     "text": [
      "[Parallel(n_jobs=-1)]: Done  44 out of  44 | elapsed:    0.9s finished\n",
      "Features: 43/1[Parallel(n_jobs=-1)]: Using backend LokyBackend with 8 concurrent workers.\n",
      "[Parallel(n_jobs=-1)]: Done  28 out of  43 | elapsed:    0.4s remaining:    0.2s\n",
      "[Parallel(n_jobs=-1)]: Done  43 out of  43 | elapsed:    0.7s finished\n",
      "Features: 42/1[Parallel(n_jobs=-1)]: Using backend LokyBackend with 8 concurrent workers.\n",
      "[Parallel(n_jobs=-1)]: Done  42 out of  42 | elapsed:    0.8s finished\n",
      "Features: 41/1[Parallel(n_jobs=-1)]: Using backend LokyBackend with 8 concurrent workers.\n",
      "[Parallel(n_jobs=-1)]: Done  26 out of  41 | elapsed:    0.6s remaining:    0.3s\n",
      "[Parallel(n_jobs=-1)]: Done  41 out of  41 | elapsed:    0.8s finished\n",
      "Features: 40/1[Parallel(n_jobs=-1)]: Using backend LokyBackend with 8 concurrent workers.\n",
      "[Parallel(n_jobs=-1)]: Done  25 out of  40 | elapsed:    0.8s remaining:    0.4s\n",
      "[Parallel(n_jobs=-1)]: Done  40 out of  40 | elapsed:    1.0s finished\n",
      "Features: 39/1[Parallel(n_jobs=-1)]: Using backend LokyBackend with 8 concurrent workers.\n",
      "[Parallel(n_jobs=-1)]: Done  24 out of  39 | elapsed:    0.5s remaining:    0.3s\n",
      "[Parallel(n_jobs=-1)]: Done  39 out of  39 | elapsed:    0.8s finished\n",
      "Features: 38/1[Parallel(n_jobs=-1)]: Using backend LokyBackend with 8 concurrent workers.\n",
      "[Parallel(n_jobs=-1)]: Done  38 out of  38 | elapsed:    0.5s finished\n",
      "Features: 37/1[Parallel(n_jobs=-1)]: Using backend LokyBackend with 8 concurrent workers.\n",
      "[Parallel(n_jobs=-1)]: Done  22 out of  37 | elapsed:    0.3s remaining:    0.2s\n",
      "[Parallel(n_jobs=-1)]: Done  37 out of  37 | elapsed:    0.5s finished\n",
      "Features: 36/1[Parallel(n_jobs=-1)]: Using backend LokyBackend with 8 concurrent workers.\n",
      "[Parallel(n_jobs=-1)]: Done  36 out of  36 | elapsed:    0.5s finished\n",
      "Features: 35/1[Parallel(n_jobs=-1)]: Using backend LokyBackend with 8 concurrent workers.\n",
      "[Parallel(n_jobs=-1)]: Done  35 out of  35 | elapsed:    0.5s finished\n",
      "Features: 34/1[Parallel(n_jobs=-1)]: Using backend LokyBackend with 8 concurrent workers.\n",
      "[Parallel(n_jobs=-1)]: Done  34 out of  34 | elapsed:    0.6s finished\n",
      "Features: 33/1[Parallel(n_jobs=-1)]: Using backend LokyBackend with 8 concurrent workers.\n",
      "[Parallel(n_jobs=-1)]: Done  18 out of  33 | elapsed:    0.2s remaining:    0.2s\n",
      "[Parallel(n_jobs=-1)]: Done  33 out of  33 | elapsed:    0.5s finished\n",
      "Features: 32/1[Parallel(n_jobs=-1)]: Using backend LokyBackend with 8 concurrent workers.\n",
      "[Parallel(n_jobs=-1)]: Done  32 out of  32 | elapsed:    0.5s finished\n",
      "Features: 31/1[Parallel(n_jobs=-1)]: Using backend LokyBackend with 8 concurrent workers.\n",
      "[Parallel(n_jobs=-1)]: Done  31 out of  31 | elapsed:    0.6s finished\n",
      "Features: 30/1[Parallel(n_jobs=-1)]: Using backend LokyBackend with 8 concurrent workers.\n",
      "[Parallel(n_jobs=-1)]: Done  30 out of  30 | elapsed:    0.2s finished\n",
      "Features: 29/1[Parallel(n_jobs=-1)]: Using backend LokyBackend with 8 concurrent workers.\n",
      "[Parallel(n_jobs=-1)]: Done  29 out of  29 | elapsed:    0.2s finished\n",
      "Features: 28/1[Parallel(n_jobs=-1)]: Using backend LokyBackend with 8 concurrent workers.\n",
      "[Parallel(n_jobs=-1)]: Done  28 out of  28 | elapsed:    0.2s finished\n",
      "Features: 27/1[Parallel(n_jobs=-1)]: Using backend LokyBackend with 8 concurrent workers.\n",
      "[Parallel(n_jobs=-1)]: Done  27 out of  27 | elapsed:    0.2s finished\n",
      "Features: 26/1[Parallel(n_jobs=-1)]: Using backend LokyBackend with 8 concurrent workers.\n",
      "[Parallel(n_jobs=-1)]: Done  26 out of  26 | elapsed:    0.2s finished\n",
      "Features: 25/1[Parallel(n_jobs=-1)]: Using backend LokyBackend with 8 concurrent workers.\n",
      "[Parallel(n_jobs=-1)]: Done  25 out of  25 | elapsed:    0.1s finished\n",
      "Features: 24/1[Parallel(n_jobs=-1)]: Using backend LokyBackend with 8 concurrent workers.\n",
      "[Parallel(n_jobs=-1)]: Done  24 out of  24 | elapsed:    0.1s finished\n",
      "Features: 23/1[Parallel(n_jobs=-1)]: Using backend LokyBackend with 8 concurrent workers.\n",
      "[Parallel(n_jobs=-1)]: Done  23 out of  23 | elapsed:    0.1s finished\n",
      "Features: 22/1[Parallel(n_jobs=-1)]: Using backend LokyBackend with 8 concurrent workers.\n",
      "[Parallel(n_jobs=-1)]: Done  22 out of  22 | elapsed:    0.1s finished\n",
      "Features: 21/1[Parallel(n_jobs=-1)]: Using backend LokyBackend with 8 concurrent workers.\n",
      "[Parallel(n_jobs=-1)]: Done  21 out of  21 | elapsed:    0.1s finished\n",
      "Features: 20/1[Parallel(n_jobs=-1)]: Using backend LokyBackend with 8 concurrent workers.\n",
      "[Parallel(n_jobs=-1)]: Done  20 out of  20 | elapsed:    0.1s finished\n",
      "Features: 19/1[Parallel(n_jobs=-1)]: Using backend LokyBackend with 8 concurrent workers.\n",
      "[Parallel(n_jobs=-1)]: Done  19 out of  19 | elapsed:    0.1s finished\n",
      "Features: 18/1[Parallel(n_jobs=-1)]: Using backend LokyBackend with 8 concurrent workers.\n",
      "[Parallel(n_jobs=-1)]: Done  18 out of  18 | elapsed:    0.1s finished\n",
      "Features: 17/1[Parallel(n_jobs=-1)]: Using backend LokyBackend with 8 concurrent workers.\n",
      "[Parallel(n_jobs=-1)]: Done  17 out of  17 | elapsed:    0.1s finished\n",
      "Features: 16/1[Parallel(n_jobs=-1)]: Using backend LokyBackend with 8 concurrent workers.\n",
      "[Parallel(n_jobs=-1)]: Done  16 out of  16 | elapsed:    0.0s finished\n",
      "Features: 15/1[Parallel(n_jobs=-1)]: Using backend LokyBackend with 8 concurrent workers.\n",
      "[Parallel(n_jobs=-1)]: Done  15 out of  15 | elapsed:    0.0s finished\n",
      "Features: 14/1[Parallel(n_jobs=-1)]: Using backend LokyBackend with 8 concurrent workers.\n",
      "[Parallel(n_jobs=-1)]: Done  14 out of  14 | elapsed:    0.0s remaining:    0.0s\n",
      "[Parallel(n_jobs=-1)]: Done  14 out of  14 | elapsed:    0.0s finished\n",
      "Features: 13/1[Parallel(n_jobs=-1)]: Using backend LokyBackend with 8 concurrent workers.\n",
      "[Parallel(n_jobs=-1)]: Done  13 out of  13 | elapsed:    0.0s finished\n",
      "Features: 12/1[Parallel(n_jobs=-1)]: Using backend LokyBackend with 8 concurrent workers.\n",
      "[Parallel(n_jobs=-1)]: Done  10 out of  12 | elapsed:    0.0s remaining:    0.0s\n",
      "[Parallel(n_jobs=-1)]: Done  12 out of  12 | elapsed:    0.0s finished\n",
      "Features: 11/1[Parallel(n_jobs=-1)]: Using backend LokyBackend with 8 concurrent workers.\n",
      "[Parallel(n_jobs=-1)]: Done   8 out of  11 | elapsed:    0.0s remaining:    0.0s\n",
      "[Parallel(n_jobs=-1)]: Done  11 out of  11 | elapsed:    0.0s finished\n",
      "Features: 10/1[Parallel(n_jobs=-1)]: Using backend LokyBackend with 8 concurrent workers.\n",
      "[Parallel(n_jobs=-1)]: Done   6 out of  10 | elapsed:    0.0s remaining:    0.0s\n",
      "[Parallel(n_jobs=-1)]: Done  10 out of  10 | elapsed:    0.0s finished\n",
      "Features: 9/1[Parallel(n_jobs=-1)]: Using backend LokyBackend with 8 concurrent workers.\n",
      "[Parallel(n_jobs=-1)]: Done   4 out of   9 | elapsed:    0.0s remaining:    0.0s\n",
      "[Parallel(n_jobs=-1)]: Done   9 out of   9 | elapsed:    0.0s finished\n",
      "Features: 8/1[Parallel(n_jobs=-1)]: Using backend LokyBackend with 8 concurrent workers.\n",
      "[Parallel(n_jobs=-1)]: Done   2 out of   8 | elapsed:    0.0s remaining:    0.1s\n",
      "[Parallel(n_jobs=-1)]: Done   8 out of   8 | elapsed:    0.0s finished\n",
      "Features: 7/1[Parallel(n_jobs=-1)]: Using backend LokyBackend with 8 concurrent workers.\n",
      "[Parallel(n_jobs=-1)]: Done   7 out of   7 | elapsed:    0.0s finished\n",
      "Features: 6/1[Parallel(n_jobs=-1)]: Using backend LokyBackend with 8 concurrent workers.\n",
      "[Parallel(n_jobs=-1)]: Done   6 out of   6 | elapsed:    0.0s finished\n",
      "Features: 5/1[Parallel(n_jobs=-1)]: Using backend LokyBackend with 8 concurrent workers.\n",
      "[Parallel(n_jobs=-1)]: Done   2 out of   5 | elapsed:    0.0s remaining:    0.0s\n",
      "[Parallel(n_jobs=-1)]: Done   5 out of   5 | elapsed:    0.0s finished\n",
      "Features: 4/1[Parallel(n_jobs=-1)]: Using backend LokyBackend with 8 concurrent workers.\n",
      "[Parallel(n_jobs=-1)]: Done   4 out of   4 | elapsed:    0.0s remaining:    0.0s\n",
      "[Parallel(n_jobs=-1)]: Done   4 out of   4 | elapsed:    0.0s finished\n",
      "Features: 3/1[Parallel(n_jobs=-1)]: Using backend LokyBackend with 8 concurrent workers.\n",
      "[Parallel(n_jobs=-1)]: Done   3 out of   3 | elapsed:    0.0s finished\n",
      "Features: 2/1[Parallel(n_jobs=-1)]: Using backend LokyBackend with 8 concurrent workers.\n",
      "[Parallel(n_jobs=-1)]: Done   2 out of   2 | elapsed:    0.0s remaining:    0.0s\n",
      "[Parallel(n_jobs=-1)]: Done   2 out of   2 | elapsed:    0.0s finished\n",
      "Features: 1/1"
     ]
    },
    {
     "name": "stdout",
     "output_type": "stream",
     "text": [
      "GradientBoostingRegressor(random_state=1)\n"
     ]
    },
    {
     "name": "stderr",
     "output_type": "stream",
     "text": [
      "[Parallel(n_jobs=-1)]: Using backend LokyBackend with 8 concurrent workers.\n",
      "[Parallel(n_jobs=-1)]: Done  34 tasks      | elapsed:    7.8s\n",
      "[Parallel(n_jobs=-1)]: Done 115 out of 115 | elapsed:   12.7s finished\n",
      "Features: 1/115[Parallel(n_jobs=-1)]: Using backend LokyBackend with 8 concurrent workers.\n",
      "[Parallel(n_jobs=-1)]: Done  34 tasks      | elapsed:    7.5s\n",
      "[Parallel(n_jobs=-1)]: Done 114 out of 114 | elapsed:   15.2s finished\n",
      "Features: 2/115[Parallel(n_jobs=-1)]: Using backend LokyBackend with 8 concurrent workers.\n",
      "[Parallel(n_jobs=-1)]: Done  34 tasks      | elapsed:   11.0s\n",
      "[Parallel(n_jobs=-1)]: Done 113 out of 113 | elapsed:   23.4s finished\n",
      "Features: 3/115[Parallel(n_jobs=-1)]: Using backend LokyBackend with 8 concurrent workers.\n",
      "[Parallel(n_jobs=-1)]: Done  34 tasks      | elapsed:   15.1s\n",
      "[Parallel(n_jobs=-1)]: Done 112 out of 112 | elapsed:   38.1s finished\n",
      "Features: 4/115[Parallel(n_jobs=-1)]: Using backend LokyBackend with 8 concurrent workers.\n",
      "[Parallel(n_jobs=-1)]: Done  34 tasks      | elapsed:   21.5s\n",
      "[Parallel(n_jobs=-1)]: Done 111 out of 111 | elapsed:   50.2s finished\n",
      "Features: 5/115[Parallel(n_jobs=-1)]: Using backend LokyBackend with 8 concurrent workers.\n",
      "[Parallel(n_jobs=-1)]: Done  34 tasks      | elapsed:   22.8s\n",
      "[Parallel(n_jobs=-1)]: Done 110 out of 110 | elapsed:   51.0s finished\n",
      "Features: 6/115[Parallel(n_jobs=-1)]: Using backend LokyBackend with 8 concurrent workers.\n",
      "[Parallel(n_jobs=-1)]: Done  34 tasks      | elapsed:   34.6s\n",
      "[Parallel(n_jobs=-1)]: Done 109 out of 109 | elapsed:  1.2min finished\n",
      "Features: 7/115[Parallel(n_jobs=-1)]: Using backend LokyBackend with 8 concurrent workers.\n",
      "[Parallel(n_jobs=-1)]: Done  34 tasks      | elapsed:   32.2s\n",
      "[Parallel(n_jobs=-1)]: Done 108 out of 108 | elapsed:  1.2min finished\n",
      "Features: 8/115[Parallel(n_jobs=-1)]: Using backend LokyBackend with 8 concurrent workers.\n",
      "[Parallel(n_jobs=-1)]: Done  34 tasks      | elapsed:   28.9s\n",
      "[Parallel(n_jobs=-1)]: Done 107 out of 107 | elapsed:  1.3min finished\n",
      "Features: 9/115[Parallel(n_jobs=-1)]: Using backend LokyBackend with 8 concurrent workers.\n",
      "[Parallel(n_jobs=-1)]: Done  34 tasks      | elapsed:   38.7s\n",
      "[Parallel(n_jobs=-1)]: Done 106 out of 106 | elapsed:  1.6min finished\n",
      "Features: 10/115[Parallel(n_jobs=-1)]: Using backend LokyBackend with 8 concurrent workers.\n",
      "[Parallel(n_jobs=-1)]: Done  34 tasks      | elapsed:   39.9s\n",
      "[Parallel(n_jobs=-1)]: Done 105 out of 105 | elapsed:  1.4min finished\n",
      "Features: 11/115[Parallel(n_jobs=-1)]: Using backend LokyBackend with 8 concurrent workers.\n",
      "[Parallel(n_jobs=-1)]: Done  34 tasks      | elapsed:   31.4s\n",
      "[Parallel(n_jobs=-1)]: Done 104 out of 104 | elapsed:  1.3min finished\n",
      "Features: 12/115[Parallel(n_jobs=-1)]: Using backend LokyBackend with 8 concurrent workers.\n",
      "[Parallel(n_jobs=-1)]: Done  34 tasks      | elapsed:   37.1s\n",
      "[Parallel(n_jobs=-1)]: Done 103 out of 103 | elapsed:  1.4min finished\n",
      "Features: 13/115[Parallel(n_jobs=-1)]: Using backend LokyBackend with 8 concurrent workers.\n",
      "[Parallel(n_jobs=-1)]: Done  34 tasks      | elapsed:   49.5s\n",
      "[Parallel(n_jobs=-1)]: Done 102 out of 102 | elapsed:  1.5min finished\n",
      "Features: 14/115[Parallel(n_jobs=-1)]: Using backend LokyBackend with 8 concurrent workers.\n",
      "[Parallel(n_jobs=-1)]: Done  34 tasks      | elapsed:   49.0s\n",
      "[Parallel(n_jobs=-1)]: Done 101 out of 101 | elapsed:  1.4min finished\n",
      "Features: 15/115[Parallel(n_jobs=-1)]: Using backend LokyBackend with 8 concurrent workers.\n",
      "[Parallel(n_jobs=-1)]: Done  34 tasks      | elapsed:   42.5s\n",
      "[Parallel(n_jobs=-1)]: Done 100 out of 100 | elapsed:  1.5min finished\n",
      "Features: 16/115[Parallel(n_jobs=-1)]: Using backend LokyBackend with 8 concurrent workers.\n",
      "[Parallel(n_jobs=-1)]: Done  34 tasks      | elapsed:   49.7s\n",
      "[Parallel(n_jobs=-1)]: Done  99 out of  99 | elapsed:  1.5min finished\n",
      "Features: 17/115[Parallel(n_jobs=-1)]: Using backend LokyBackend with 8 concurrent workers.\n",
      "[Parallel(n_jobs=-1)]: Done  34 tasks      | elapsed:   43.6s\n",
      "[Parallel(n_jobs=-1)]: Done  98 out of  98 | elapsed:  1.4min finished\n",
      "Features: 18/115[Parallel(n_jobs=-1)]: Using backend LokyBackend with 8 concurrent workers.\n",
      "[Parallel(n_jobs=-1)]: Done  34 tasks      | elapsed:   36.4s\n",
      "[Parallel(n_jobs=-1)]: Done  97 out of  97 | elapsed:  1.3min finished\n",
      "Features: 19/115[Parallel(n_jobs=-1)]: Using backend LokyBackend with 8 concurrent workers.\n",
      "[Parallel(n_jobs=-1)]: Done  34 tasks      | elapsed:   44.5s\n",
      "[Parallel(n_jobs=-1)]: Done  96 out of  96 | elapsed:  1.6min finished\n",
      "Features: 20/115[Parallel(n_jobs=-1)]: Using backend LokyBackend with 8 concurrent workers.\n",
      "[Parallel(n_jobs=-1)]: Done  34 tasks      | elapsed:   39.8s\n",
      "[Parallel(n_jobs=-1)]: Done  95 out of  95 | elapsed:  1.4min finished\n",
      "Features: 21/115[Parallel(n_jobs=-1)]: Using backend LokyBackend with 8 concurrent workers.\n",
      "[Parallel(n_jobs=-1)]: Done  34 tasks      | elapsed:   36.1s\n",
      "[Parallel(n_jobs=-1)]: Done  94 out of  94 | elapsed:  1.4min finished\n",
      "Features: 22/115[Parallel(n_jobs=-1)]: Using backend LokyBackend with 8 concurrent workers.\n",
      "[Parallel(n_jobs=-1)]: Done  34 tasks      | elapsed:   30.2s\n",
      "[Parallel(n_jobs=-1)]: Done  93 out of  93 | elapsed:  1.3min finished\n",
      "Features: 23/115[Parallel(n_jobs=-1)]: Using backend LokyBackend with 8 concurrent workers.\n",
      "[Parallel(n_jobs=-1)]: Done  34 tasks      | elapsed:   36.3s\n",
      "[Parallel(n_jobs=-1)]: Done  92 out of  92 | elapsed:  1.3min finished\n",
      "Features: 24/115[Parallel(n_jobs=-1)]: Using backend LokyBackend with 8 concurrent workers.\n",
      "[Parallel(n_jobs=-1)]: Done  34 tasks      | elapsed:   41.1s\n",
      "[Parallel(n_jobs=-1)]: Done  91 out of  91 | elapsed:  1.3min finished\n",
      "Features: 25/115[Parallel(n_jobs=-1)]: Using backend LokyBackend with 8 concurrent workers.\n",
      "[Parallel(n_jobs=-1)]: Done  34 tasks      | elapsed:   48.1s\n",
      "[Parallel(n_jobs=-1)]: Done  90 out of  90 | elapsed:  1.5min finished\n",
      "Features: 26/115[Parallel(n_jobs=-1)]: Using backend LokyBackend with 8 concurrent workers.\n",
      "[Parallel(n_jobs=-1)]: Done  34 tasks      | elapsed:   42.7s\n",
      "[Parallel(n_jobs=-1)]: Done  89 out of  89 | elapsed:  1.7min finished\n",
      "Features: 27/115[Parallel(n_jobs=-1)]: Using backend LokyBackend with 8 concurrent workers.\n",
      "[Parallel(n_jobs=-1)]: Done  34 tasks      | elapsed:   43.7s\n",
      "[Parallel(n_jobs=-1)]: Done  88 out of  88 | elapsed:  1.7min finished\n",
      "Features: 28/115[Parallel(n_jobs=-1)]: Using backend LokyBackend with 8 concurrent workers.\n",
      "[Parallel(n_jobs=-1)]: Done  34 tasks      | elapsed:   49.4s\n",
      "[Parallel(n_jobs=-1)]: Done  87 out of  87 | elapsed:  1.7min finished\n",
      "Features: 29/115[Parallel(n_jobs=-1)]: Using backend LokyBackend with 8 concurrent workers.\n",
      "[Parallel(n_jobs=-1)]: Done  34 tasks      | elapsed:  1.0min\n",
      "[Parallel(n_jobs=-1)]: Done  86 out of  86 | elapsed:  2.2min finished\n",
      "Features: 30/115[Parallel(n_jobs=-1)]: Using backend LokyBackend with 8 concurrent workers.\n",
      "[Parallel(n_jobs=-1)]: Done  34 tasks      | elapsed:  1.0min\n",
      "[Parallel(n_jobs=-1)]: Done  85 out of  85 | elapsed:  2.1min finished\n",
      "Features: 31/115[Parallel(n_jobs=-1)]: Using backend LokyBackend with 8 concurrent workers.\n",
      "[Parallel(n_jobs=-1)]: Done  34 tasks      | elapsed:   51.8s\n",
      "[Parallel(n_jobs=-1)]: Done  84 out of  84 | elapsed:  1.9min finished\n",
      "Features: 32/115[Parallel(n_jobs=-1)]: Using backend LokyBackend with 8 concurrent workers.\n",
      "[Parallel(n_jobs=-1)]: Done  34 tasks      | elapsed:   52.8s\n",
      "[Parallel(n_jobs=-1)]: Done  83 out of  83 | elapsed:  2.1min finished\n",
      "Features: 33/115[Parallel(n_jobs=-1)]: Using backend LokyBackend with 8 concurrent workers.\n",
      "[Parallel(n_jobs=-1)]: Done  34 tasks      | elapsed:  1.1min\n",
      "[Parallel(n_jobs=-1)]: Done  82 out of  82 | elapsed:  2.3min finished\n",
      "Features: 34/115[Parallel(n_jobs=-1)]: Using backend LokyBackend with 8 concurrent workers.\n",
      "[Parallel(n_jobs=-1)]: Done  34 tasks      | elapsed:  1.1min\n",
      "[Parallel(n_jobs=-1)]: Done  81 out of  81 | elapsed:  2.1min finished\n",
      "Features: 35/115[Parallel(n_jobs=-1)]: Using backend LokyBackend with 8 concurrent workers.\n",
      "[Parallel(n_jobs=-1)]: Done  34 tasks      | elapsed:  1.1min\n",
      "[Parallel(n_jobs=-1)]: Done  80 out of  80 | elapsed:  2.1min finished\n",
      "Features: 36/115[Parallel(n_jobs=-1)]: Using backend LokyBackend with 8 concurrent workers.\n",
      "[Parallel(n_jobs=-1)]: Done  34 tasks      | elapsed:   55.1s\n"
     ]
    },
    {
     "name": "stderr",
     "output_type": "stream",
     "text": [
      "[Parallel(n_jobs=-1)]: Done  79 out of  79 | elapsed:  2.1min finished\n",
      "Features: 37/115[Parallel(n_jobs=-1)]: Using backend LokyBackend with 8 concurrent workers.\n",
      "[Parallel(n_jobs=-1)]: Done  34 tasks      | elapsed:  1.0min\n",
      "[Parallel(n_jobs=-1)]: Done  78 out of  78 | elapsed:  2.1min finished\n",
      "Features: 38/115[Parallel(n_jobs=-1)]: Using backend LokyBackend with 8 concurrent workers.\n",
      "[Parallel(n_jobs=-1)]: Done  34 tasks      | elapsed:   57.3s\n",
      "[Parallel(n_jobs=-1)]: Done  77 out of  77 | elapsed:  2.0min finished\n",
      "Features: 39/115[Parallel(n_jobs=-1)]: Using backend LokyBackend with 8 concurrent workers.\n",
      "[Parallel(n_jobs=-1)]: Done  34 tasks      | elapsed:  1.1min\n",
      "[Parallel(n_jobs=-1)]: Done  76 out of  76 | elapsed:  2.2min finished\n",
      "Features: 40/115[Parallel(n_jobs=-1)]: Using backend LokyBackend with 8 concurrent workers.\n",
      "[Parallel(n_jobs=-1)]: Done  34 tasks      | elapsed:  1.1min\n",
      "[Parallel(n_jobs=-1)]: Done  75 out of  75 | elapsed:  2.1min finished\n",
      "Features: 41/115[Parallel(n_jobs=-1)]: Using backend LokyBackend with 8 concurrent workers.\n",
      "[Parallel(n_jobs=-1)]: Done  34 tasks      | elapsed:   57.0s\n",
      "[Parallel(n_jobs=-1)]: Done  74 out of  74 | elapsed:  2.0min finished\n",
      "Features: 42/115[Parallel(n_jobs=-1)]: Using backend LokyBackend with 8 concurrent workers.\n",
      "[Parallel(n_jobs=-1)]: Done  34 tasks      | elapsed:   59.9s\n",
      "[Parallel(n_jobs=-1)]: Done  73 out of  73 | elapsed:  2.0min finished\n",
      "Features: 43/115[Parallel(n_jobs=-1)]: Using backend LokyBackend with 8 concurrent workers.\n",
      "[Parallel(n_jobs=-1)]: Done  34 tasks      | elapsed:   59.7s\n",
      "[Parallel(n_jobs=-1)]: Done  72 out of  72 | elapsed:  1.9min finished\n",
      "Features: 44/115[Parallel(n_jobs=-1)]: Using backend LokyBackend with 8 concurrent workers.\n",
      "[Parallel(n_jobs=-1)]: Done  34 tasks      | elapsed:  1.0min\n",
      "[Parallel(n_jobs=-1)]: Done  71 out of  71 | elapsed:  2.0min finished\n",
      "Features: 45/115[Parallel(n_jobs=-1)]: Using backend LokyBackend with 8 concurrent workers.\n",
      "[Parallel(n_jobs=-1)]: Done  34 tasks      | elapsed:  1.1min\n",
      "[Parallel(n_jobs=-1)]: Done  70 out of  70 | elapsed:  2.1min finished\n",
      "Features: 46/115[Parallel(n_jobs=-1)]: Using backend LokyBackend with 8 concurrent workers.\n",
      "[Parallel(n_jobs=-1)]: Done  34 tasks      | elapsed:  1.1min\n",
      "[Parallel(n_jobs=-1)]: Done  69 out of  69 | elapsed:  2.0min finished\n",
      "Features: 47/115[Parallel(n_jobs=-1)]: Using backend LokyBackend with 8 concurrent workers.\n",
      "[Parallel(n_jobs=-1)]: Done  34 tasks      | elapsed:   58.8s\n",
      "[Parallel(n_jobs=-1)]: Done  68 out of  68 | elapsed:  2.0min finished\n",
      "Features: 48/115[Parallel(n_jobs=-1)]: Using backend LokyBackend with 8 concurrent workers.\n",
      "[Parallel(n_jobs=-1)]: Done  34 tasks      | elapsed:  1.3min\n",
      "[Parallel(n_jobs=-1)]: Done  67 out of  67 | elapsed:  2.2min finished\n",
      "Features: 49/115[Parallel(n_jobs=-1)]: Using backend LokyBackend with 8 concurrent workers.\n",
      "[Parallel(n_jobs=-1)]: Done  34 tasks      | elapsed:  1.1min\n",
      "[Parallel(n_jobs=-1)]: Done  66 out of  66 | elapsed:  2.3min finished\n",
      "Features: 50/115[Parallel(n_jobs=-1)]: Using backend LokyBackend with 8 concurrent workers.\n",
      "[Parallel(n_jobs=-1)]: Done  34 tasks      | elapsed:  1.3min\n",
      "[Parallel(n_jobs=-1)]: Done  65 out of  65 | elapsed:  2.3min finished\n",
      "Features: 51/115[Parallel(n_jobs=-1)]: Using backend LokyBackend with 8 concurrent workers.\n",
      "[Parallel(n_jobs=-1)]: Done  34 tasks      | elapsed:  1.4min\n",
      "[Parallel(n_jobs=-1)]: Done  64 out of  64 | elapsed:  2.5min finished\n",
      "Features: 52/115[Parallel(n_jobs=-1)]: Using backend LokyBackend with 8 concurrent workers.\n",
      "[Parallel(n_jobs=-1)]: Done  34 tasks      | elapsed:  1.4min\n",
      "[Parallel(n_jobs=-1)]: Done  63 out of  63 | elapsed:  2.3min finished\n",
      "Features: 53/115[Parallel(n_jobs=-1)]: Using backend LokyBackend with 8 concurrent workers.\n",
      "[Parallel(n_jobs=-1)]: Done  34 tasks      | elapsed:  1.5min\n",
      "[Parallel(n_jobs=-1)]: Done  62 out of  62 | elapsed:  2.6min finished\n",
      "Features: 54/115[Parallel(n_jobs=-1)]: Using backend LokyBackend with 8 concurrent workers.\n",
      "[Parallel(n_jobs=-1)]: Done  34 tasks      | elapsed:  1.7min\n",
      "[Parallel(n_jobs=-1)]: Done  61 out of  61 | elapsed:  2.8min finished\n",
      "Features: 55/115[Parallel(n_jobs=-1)]: Using backend LokyBackend with 8 concurrent workers.\n",
      "[Parallel(n_jobs=-1)]: Done  34 tasks      | elapsed:  1.6min\n",
      "[Parallel(n_jobs=-1)]: Done  60 out of  60 | elapsed:  2.7min finished\n",
      "Features: 56/115[Parallel(n_jobs=-1)]: Using backend LokyBackend with 8 concurrent workers.\n",
      "[Parallel(n_jobs=-1)]: Done  34 tasks      | elapsed:  1.9min\n",
      "[Parallel(n_jobs=-1)]: Done  59 out of  59 | elapsed:  2.9min finished\n",
      "Features: 57/115[Parallel(n_jobs=-1)]: Using backend LokyBackend with 8 concurrent workers.\n",
      "[Parallel(n_jobs=-1)]: Done  34 tasks      | elapsed:  1.9min\n",
      "[Parallel(n_jobs=-1)]: Done  58 out of  58 | elapsed:  3.0min finished\n",
      "Features: 58/115[Parallel(n_jobs=-1)]: Using backend LokyBackend with 8 concurrent workers.\n",
      "[Parallel(n_jobs=-1)]: Done  34 tasks      | elapsed:  1.9min\n",
      "[Parallel(n_jobs=-1)]: Done  57 out of  57 | elapsed:  3.1min finished\n",
      "Features: 59/115[Parallel(n_jobs=-1)]: Using backend LokyBackend with 8 concurrent workers.\n",
      "[Parallel(n_jobs=-1)]: Done  34 tasks      | elapsed:  1.8min\n",
      "[Parallel(n_jobs=-1)]: Done  56 out of  56 | elapsed:  3.0min finished\n",
      "Features: 60/115[Parallel(n_jobs=-1)]: Using backend LokyBackend with 8 concurrent workers.\n",
      "[Parallel(n_jobs=-1)]: Done  34 tasks      | elapsed:  2.0min\n",
      "[Parallel(n_jobs=-1)]: Done  55 out of  55 | elapsed:  3.0min finished\n",
      "Features: 61/115[Parallel(n_jobs=-1)]: Using backend LokyBackend with 8 concurrent workers.\n",
      "[Parallel(n_jobs=-1)]: Done  34 tasks      | elapsed:  2.0min\n",
      "[Parallel(n_jobs=-1)]: Done  54 out of  54 | elapsed:  3.0min finished\n",
      "Features: 62/115[Parallel(n_jobs=-1)]: Using backend LokyBackend with 8 concurrent workers.\n",
      "[Parallel(n_jobs=-1)]: Done  34 tasks      | elapsed:  1.8min\n",
      "[Parallel(n_jobs=-1)]: Done  53 out of  53 | elapsed:  2.8min finished\n",
      "Features: 63/115[Parallel(n_jobs=-1)]: Using backend LokyBackend with 8 concurrent workers.\n",
      "[Parallel(n_jobs=-1)]: Done  34 tasks      | elapsed:  2.1min\n",
      "[Parallel(n_jobs=-1)]: Done  52 out of  52 | elapsed:  3.0min finished\n",
      "Features: 64/115[Parallel(n_jobs=-1)]: Using backend LokyBackend with 8 concurrent workers.\n",
      "[Parallel(n_jobs=-1)]: Done  34 tasks      | elapsed:  2.0min\n",
      "[Parallel(n_jobs=-1)]: Done  51 out of  51 | elapsed:  2.9min finished\n",
      "Features: 65/115[Parallel(n_jobs=-1)]: Using backend LokyBackend with 8 concurrent workers.\n",
      "[Parallel(n_jobs=-1)]: Done  34 tasks      | elapsed:  2.1min\n",
      "[Parallel(n_jobs=-1)]: Done  50 out of  50 | elapsed:  3.0min finished\n",
      "Features: 66/115[Parallel(n_jobs=-1)]: Using backend LokyBackend with 8 concurrent workers.\n",
      "[Parallel(n_jobs=-1)]: Done  34 tasks      | elapsed:  2.1min\n",
      "[Parallel(n_jobs=-1)]: Done  49 out of  49 | elapsed:  3.0min finished\n",
      "Features: 67/115[Parallel(n_jobs=-1)]: Using backend LokyBackend with 8 concurrent workers.\n",
      "[Parallel(n_jobs=-1)]: Done  48 out of  48 | elapsed:  3.0min finished\n",
      "Features: 68/115[Parallel(n_jobs=-1)]: Using backend LokyBackend with 8 concurrent workers.\n",
      "[Parallel(n_jobs=-1)]: Done  47 out of  47 | elapsed:  2.8min finished\n",
      "Features: 69/115[Parallel(n_jobs=-1)]: Using backend LokyBackend with 8 concurrent workers.\n",
      "[Parallel(n_jobs=-1)]: Done  46 out of  46 | elapsed:  2.7min finished\n",
      "Features: 70/115[Parallel(n_jobs=-1)]: Using backend LokyBackend with 8 concurrent workers.\n",
      "[Parallel(n_jobs=-1)]: Done  45 out of  45 | elapsed:  3.0min finished\n",
      "Features: 71/115[Parallel(n_jobs=-1)]: Using backend LokyBackend with 8 concurrent workers.\n",
      "[Parallel(n_jobs=-1)]: Done  44 out of  44 | elapsed:  2.6min finished\n",
      "Features: 72/115[Parallel(n_jobs=-1)]: Using backend LokyBackend with 8 concurrent workers.\n",
      "[Parallel(n_jobs=-1)]: Done  43 out of  43 | elapsed:  2.7min finished\n",
      "Features: 73/115[Parallel(n_jobs=-1)]: Using backend LokyBackend with 8 concurrent workers.\n",
      "[Parallel(n_jobs=-1)]: Done  42 out of  42 | elapsed:  2.7min finished\n",
      "Features: 74/115[Parallel(n_jobs=-1)]: Using backend LokyBackend with 8 concurrent workers.\n",
      "[Parallel(n_jobs=-1)]: Done  41 out of  41 | elapsed:  2.5min finished\n",
      "Features: 75/115[Parallel(n_jobs=-1)]: Using backend LokyBackend with 8 concurrent workers.\n"
     ]
    },
    {
     "name": "stderr",
     "output_type": "stream",
     "text": [
      "[Parallel(n_jobs=-1)]: Done  40 out of  40 | elapsed:  2.1min finished\n",
      "Features: 76/115[Parallel(n_jobs=-1)]: Using backend LokyBackend with 8 concurrent workers.\n",
      "[Parallel(n_jobs=-1)]: Done  39 out of  39 | elapsed:  1.8min finished\n",
      "Features: 77/115[Parallel(n_jobs=-1)]: Using backend LokyBackend with 8 concurrent workers.\n",
      "[Parallel(n_jobs=-1)]: Done  38 out of  38 | elapsed:  2.9min finished\n",
      "Features: 78/115[Parallel(n_jobs=-1)]: Using backend LokyBackend with 8 concurrent workers.\n",
      "[Parallel(n_jobs=-1)]: Done  37 out of  37 | elapsed:  2.9min finished\n",
      "Features: 79/115[Parallel(n_jobs=-1)]: Using backend LokyBackend with 8 concurrent workers.\n",
      "[Parallel(n_jobs=-1)]: Done  36 out of  36 | elapsed:  2.8min finished\n",
      "Features: 80/115[Parallel(n_jobs=-1)]: Using backend LokyBackend with 8 concurrent workers.\n",
      "[Parallel(n_jobs=-1)]: Done  35 out of  35 | elapsed:  2.5min finished\n",
      "Features: 81/115[Parallel(n_jobs=-1)]: Using backend LokyBackend with 8 concurrent workers.\n",
      "[Parallel(n_jobs=-1)]: Done  34 out of  34 | elapsed:  2.9min finished\n",
      "Features: 82/115[Parallel(n_jobs=-1)]: Using backend LokyBackend with 8 concurrent workers.\n",
      "[Parallel(n_jobs=-1)]: Done  33 out of  33 | elapsed:  2.4min finished\n",
      "Features: 83/115[Parallel(n_jobs=-1)]: Using backend LokyBackend with 8 concurrent workers.\n",
      "[Parallel(n_jobs=-1)]: Done  32 out of  32 | elapsed:  2.5min finished\n",
      "Features: 84/115[Parallel(n_jobs=-1)]: Using backend LokyBackend with 8 concurrent workers.\n",
      "[Parallel(n_jobs=-1)]: Done  31 out of  31 | elapsed:  2.6min finished\n",
      "Features: 85/115[Parallel(n_jobs=-1)]: Using backend LokyBackend with 8 concurrent workers.\n",
      "[Parallel(n_jobs=-1)]: Done  30 out of  30 | elapsed:  2.5min finished\n",
      "Features: 86/115[Parallel(n_jobs=-1)]: Using backend LokyBackend with 8 concurrent workers.\n",
      "[Parallel(n_jobs=-1)]: Done  29 out of  29 | elapsed:  2.4min finished\n",
      "Features: 87/115[Parallel(n_jobs=-1)]: Using backend LokyBackend with 8 concurrent workers.\n",
      "[Parallel(n_jobs=-1)]: Done  28 out of  28 | elapsed:  2.2min finished\n",
      "Features: 88/115[Parallel(n_jobs=-1)]: Using backend LokyBackend with 8 concurrent workers.\n",
      "[Parallel(n_jobs=-1)]: Done  27 out of  27 | elapsed:  2.4min finished\n",
      "Features: 89/115[Parallel(n_jobs=-1)]: Using backend LokyBackend with 8 concurrent workers.\n",
      "[Parallel(n_jobs=-1)]: Done  26 out of  26 | elapsed:  2.1min finished\n",
      "Features: 90/115[Parallel(n_jobs=-1)]: Using backend LokyBackend with 8 concurrent workers.\n",
      "[Parallel(n_jobs=-1)]: Done  25 out of  25 | elapsed:  2.2min finished\n",
      "Features: 91/115[Parallel(n_jobs=-1)]: Using backend LokyBackend with 8 concurrent workers.\n",
      "[Parallel(n_jobs=-1)]: Done  24 out of  24 | elapsed:  1.8min finished\n",
      "Features: 92/115[Parallel(n_jobs=-1)]: Using backend LokyBackend with 8 concurrent workers.\n",
      "[Parallel(n_jobs=-1)]: Done  23 out of  23 | elapsed:  2.0min finished\n",
      "Features: 93/115[Parallel(n_jobs=-1)]: Using backend LokyBackend with 8 concurrent workers.\n",
      "[Parallel(n_jobs=-1)]: Done  22 out of  22 | elapsed:  1.8min finished\n",
      "Features: 94/115[Parallel(n_jobs=-1)]: Using backend LokyBackend with 8 concurrent workers.\n"
     ]
    }
   ],
   "source": [
    "from mlxtend.feature_selection import SequentialFeatureSelector as SFS\n",
    "for model in models:\n",
    "    for forw in [True, False]:\n",
    "        print(model)\n",
    "        sfs1 = SFS(model, \n",
    "                   k_features='best', \n",
    "                   forward=forw, \n",
    "                   floating=False, \n",
    "                   verbose=1,\n",
    "                   scoring='r2',\n",
    "                   cv=3,\n",
    "                  n_jobs=-1)\n",
    "        if forw:\n",
    "            str_fore='SFS'\n",
    "        else:\n",
    "            str_fore='SBS'\n",
    "        model_name =  str(model).split('(')[0]\n",
    "\n",
    "        # Fit the data to try all feature combinations\n",
    "        sfs1 = sfs1.fit(X.drop(['Name'], axis=1), y)\n",
    "        \n",
    "        # Saving results\n",
    "        sfs_res = pd.DataFrame.from_dict(sfs1.subsets_).T\n",
    "        sfs_res.to_csv(export_path+model_name+'_'+str_fore+'_'+target_features[0]+'_'+agg_method+'.csv')\n"
   ]
  },
  {
   "cell_type": "markdown",
   "id": "b4ba2518",
   "metadata": {
    "ExecuteTime": {
     "end_time": "2021-11-28T23:44:33.231909Z",
     "start_time": "2021-11-28T23:44:33.225924Z"
    }
   },
   "source": [
    "### Selected features"
   ]
  },
  {
   "cell_type": "code",
   "execution_count": null,
   "id": "0ef19754",
   "metadata": {},
   "outputs": [],
   "source": [
    "if target_features[0] == 'GrainYield':\n",
    "    training_features = [\n",
    "        'Blue'\n",
    "        'Green', 'MTCI', 'EVI', 'VARI', 'GLI', 'WDRVI',\n",
    "        'MODE Minimum air temperature at 2m altitude (TN)',\n",
    "        'SUM Relative humidity in 2m.1',\n",
    "        'MAX Average temperature at 2m altitude (TM)', 'STD_DEV Wind gust (FG2))'\n",
    "    ]\n",
    "elif target_features[0] == 'Days2Maturity':\n",
    "    export_path = './Data/4. results_dm/'\n",
    "    export_path_comparability = './Data/4. results_dm/comparability/'"
   ]
  }
 ],
 "metadata": {
  "hide_input": false,
  "kernelspec": {
   "display_name": "Python 3",
   "language": "python",
   "name": "python3"
  },
  "language_info": {
   "codemirror_mode": {
    "name": "ipython",
    "version": 3
   },
   "file_extension": ".py",
   "mimetype": "text/x-python",
   "name": "python",
   "nbconvert_exporter": "python",
   "pygments_lexer": "ipython3",
   "version": "3.8.8"
  },
  "toc": {
   "base_numbering": 1,
   "nav_menu": {},
   "number_sections": true,
   "sideBar": true,
   "skip_h1_title": false,
   "title_cell": "Table of Contents",
   "title_sidebar": "Contents",
   "toc_cell": false,
   "toc_position": {
    "height": "calc(100% - 180px)",
    "left": "10px",
    "top": "150px",
    "width": "350.517px"
   },
   "toc_section_display": true,
   "toc_window_display": true
  },
  "varInspector": {
   "cols": {
    "lenName": 16,
    "lenType": 16,
    "lenVar": 40
   },
   "kernels_config": {
    "python": {
     "delete_cmd_postfix": "",
     "delete_cmd_prefix": "del ",
     "library": "var_list.py",
     "varRefreshCmd": "print(var_dic_list())"
    },
    "r": {
     "delete_cmd_postfix": ") ",
     "delete_cmd_prefix": "rm(",
     "library": "var_list.r",
     "varRefreshCmd": "cat(var_dic_list()) "
    }
   },
   "position": {
    "height": "801px",
    "left": "1469px",
    "right": "20px",
    "top": "130px",
    "width": "446px"
   },
   "types_to_exclude": [
    "module",
    "function",
    "builtin_function_or_method",
    "instance",
    "_Feature"
   ],
   "window_display": false
  }
 },
 "nbformat": 4,
 "nbformat_minor": 5
}

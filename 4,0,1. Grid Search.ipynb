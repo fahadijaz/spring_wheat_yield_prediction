{
 "cells": [
  {
   "cell_type": "markdown",
   "id": "2e1c5ae2",
   "metadata": {},
   "source": [
    "# Declaring target feature"
   ]
  },
  {
   "cell_type": "code",
   "execution_count": null,
   "id": "9878b116",
   "metadata": {
    "ExecuteTime": {
     "start_time": "2021-11-15T20:56:29.271Z"
    }
   },
   "outputs": [],
   "source": [
    "target_features = ['GrainYield']\n",
    "# target_features = ['Days2Maturity']"
   ]
  },
  {
   "cell_type": "markdown",
   "id": "105acfb2",
   "metadata": {},
   "source": [
    "# Importing Libraries"
   ]
  },
  {
   "cell_type": "code",
   "execution_count": null,
   "id": "average-columbia",
   "metadata": {
    "ExecuteTime": {
     "start_time": "2021-11-15T20:56:29.273Z"
    }
   },
   "outputs": [],
   "source": [
    "import os\n",
    "import csv\n",
    "import numpy as np\n",
    "import pandas as pd\n",
    "from copy import copy\n",
    "from datetime import datetime as dt\n",
    "\n",
    "# Dictionaries\n",
    "import json\n",
    "from pprint import pprint\n",
    "\n",
    "# Iterate in loops\n",
    "import itertools\n",
    "from itertools import zip_longest\n",
    "\n",
    "# Simpsons integration\n",
    "from numpy import trapz\n",
    "from scipy.integrate import simps\n",
    "\n",
    "# Visualisation\n",
    "import seaborn as sns\n",
    "import matplotlib.pyplot as plt\n",
    "\n",
    "# To display df nicely in loops\n",
    "from IPython.display import display \n",
    "# Display rows and columns Pandas\n",
    "pd.options.display.max_columns = 100\n",
    "pd.set_option('display.max_rows',100)\n",
    "\n",
    "# # For displaying max rows in series\n",
    "# pd.options.display.max_rows = 10"
   ]
  },
  {
   "cell_type": "markdown",
   "id": "spread-surfing",
   "metadata": {},
   "source": [
    "# Importing data"
   ]
  },
  {
   "cell_type": "code",
   "execution_count": null,
   "id": "2d066e93",
   "metadata": {
    "ExecuteTime": {
     "start_time": "2021-11-15T20:56:29.275Z"
    }
   },
   "outputs": [],
   "source": [
    "# Prints the current working directory\n",
    "os.getcwd()\n",
    "# os.listdir()"
   ]
  },
  {
   "cell_type": "markdown",
   "id": "e796c4ee",
   "metadata": {},
   "source": [
    "## Finding Username folder to make general path for multi PC use"
   ]
  },
  {
   "cell_type": "code",
   "execution_count": null,
   "id": "a5204388",
   "metadata": {
    "ExecuteTime": {
     "start_time": "2021-11-15T20:56:29.276Z"
    }
   },
   "outputs": [],
   "source": [
    "username = str(os.getcwd()).split('\\\\')[2]\n",
    "user_path = r'C:/Users/'+username+'/'\n",
    "username, user_path"
   ]
  },
  {
   "cell_type": "markdown",
   "id": "9a708728",
   "metadata": {},
   "source": [
    "## Declaring Import paths"
   ]
  },
  {
   "cell_type": "code",
   "execution_count": null,
   "id": "448c66bf",
   "metadata": {
    "ExecuteTime": {
     "start_time": "2021-11-15T20:56:29.278Z"
    }
   },
   "outputs": [],
   "source": [
    "main_path = r'./Data/'\n",
    "path = r'./Data/3. merged data/'\n",
    "if target_features[0] == 'GrainYield':\n",
    "    export_path = './Data/4. results/'\n",
    "    export_path_comparability = './Data/4. results/comparability/'\n",
    "elif target_features[0] == 'Days2Maturity':\n",
    "    export_path = './Data/4. results_dm/'\n",
    "    export_path_comparability = './Data/4. results_dm/comparability/'\n",
    "\n",
    "# Create export_path folder if not exists already\n",
    "os.makedirs(path, exist_ok=True)\n",
    "os.makedirs(export_path, exist_ok=True)\n",
    "os.makedirs(export_path_comparability, exist_ok=True)\n",
    "\n",
    "# os.listdir(path)"
   ]
  },
  {
   "cell_type": "code",
   "execution_count": null,
   "id": "disturbed-interval",
   "metadata": {
    "ExecuteTime": {
     "start_time": "2021-11-15T20:56:29.280Z"
    }
   },
   "outputs": [],
   "source": [
    "# Making dictionary of files in each folder, in case there are multiple types of data\n",
    "dict_paths = {}\n",
    "def explore(starting_path):\n",
    "    for dirpath, dirnames, filenames in os.walk(starting_path):\n",
    "        dict_paths[dirpath.split('/')[-2]] = filenames\n",
    "#     pprint(dict_paths)\n",
    "explore(path)"
   ]
  },
  {
   "cell_type": "markdown",
   "id": "aede1524",
   "metadata": {},
   "source": [
    "# Data Preparation\n",
    "## Creating list of complete files"
   ]
  },
  {
   "cell_type": "code",
   "execution_count": null,
   "id": "mighty-atlas",
   "metadata": {
    "ExecuteTime": {
     "start_time": "2021-11-15T20:56:29.282Z"
    },
    "scrolled": true
   },
   "outputs": [],
   "source": [
    "# Get the list of all files in directory tree at given path\n",
    "\n",
    "files_with_address = []\n",
    "files_list = []\n",
    "\n",
    "for (dirpath, dirnames, filenames) in os.walk(path):\n",
    "    files_with_address += [os.path.join(dirpath, file) for file in filenames]\n",
    "    files_list.extend(filenames)\n",
    "    \n",
    "print(len(files_with_address), 'files found in the directory')\n",
    "# files_with_address\n",
    "# files_list"
   ]
  },
  {
   "cell_type": "markdown",
   "id": "abeebb14",
   "metadata": {},
   "source": [
    "## Data Checking/control"
   ]
  },
  {
   "cell_type": "markdown",
   "id": "ee84d976",
   "metadata": {
    "run_control": {
     "marked": true
    }
   },
   "source": [
    "### Check for duplicate filenames"
   ]
  },
  {
   "cell_type": "code",
   "execution_count": null,
   "id": "2affa906",
   "metadata": {
    "ExecuteTime": {
     "start_time": "2021-11-15T20:56:29.284Z"
    }
   },
   "outputs": [],
   "source": [
    "print('Total number of files are :', len(files_list))\n",
    "print('Number of unique file names are:', len(set(files_list)))\n",
    "print('There is/are', len(files_list) - len(set(files_list)),'duplicate file name/names.')\n",
    "if len(files_list) - len(set(files_list)) > 0:\n",
    "    raise NameError"
   ]
  },
  {
   "cell_type": "markdown",
   "id": "a0f118d1",
   "metadata": {},
   "source": [
    "# Importing data files to Pandas"
   ]
  },
  {
   "cell_type": "code",
   "execution_count": null,
   "id": "ad948136",
   "metadata": {
    "ExecuteTime": {
     "start_time": "2021-11-15T20:56:29.286Z"
    }
   },
   "outputs": [],
   "source": [
    "all_df = []\n",
    "for data in files_with_address:\n",
    "    file_name = os.path.splitext(os.path.basename(data))[0]\n",
    "\n",
    "    # Replce all invalid characters in the name\n",
    "    file_name = file_name.replace(\" \", \"_\")\n",
    "    file_name = file_name.replace(\"-\", \"_\")\n",
    "    file_name = file_name.replace(\")\", \"\")\n",
    "    file_name = file_name.replace(\"(\", \"\")\n",
    "    df_name = file_name.replace(\".\", \"\")\n",
    "    # Test: Check if the same date is already present in the current dict key\n",
    "    if df_name in all_df:\n",
    "        print(f'A file with the same name {df_name} has already been imported. \\n Please check if there is duplication of data.')\n",
    "        raise NameError\n",
    "    all_df.append(df_name)\n",
    "\n",
    "    locals()[df_name] = pd.read_csv(data, index_col=False)\n",
    "    print(df_name, '=====', locals()[df_name].shape)\n",
    "# all_df"
   ]
  },
  {
   "cell_type": "code",
   "execution_count": null,
   "id": "b51b4353",
   "metadata": {
    "ExecuteTime": {
     "start_time": "2021-11-15T20:56:29.288Z"
    },
    "scrolled": true
   },
   "outputs": [],
   "source": [
    "print(f'Total imported {len(all_df)}')\n",
    "# all_df"
   ]
  },
  {
   "cell_type": "markdown",
   "id": "71e8186b",
   "metadata": {},
   "source": [
    "# Finding yield columns"
   ]
  },
  {
   "cell_type": "markdown",
   "id": "early-aside",
   "metadata": {},
   "source": [
    "## Importing Weather variables, yield columns, spectral indices, base indices columsn list"
   ]
  },
  {
   "cell_type": "code",
   "execution_count": null,
   "id": "peripheral-audit",
   "metadata": {
    "ExecuteTime": {
     "start_time": "2021-11-15T20:56:29.289Z"
    }
   },
   "outputs": [],
   "source": [
    "a_file = open(main_path+'vollebekk_weather_columns.json', \"r\")\n",
    "output_str = a_file.read()\n",
    "# The file is imported as string\n",
    "# Converting it to python format\n",
    "weather_cols_vollebekk = json.loads(output_str)\n",
    "a_file.close()\n",
    "pprint(len(weather_cols_vollebekk))"
   ]
  },
  {
   "cell_type": "code",
   "execution_count": null,
   "id": "express-wheel",
   "metadata": {
    "ExecuteTime": {
     "start_time": "2021-11-15T20:56:29.291Z"
    }
   },
   "outputs": [],
   "source": [
    "a_file = open(main_path+'staur_weather_columns.json', \"r\")\n",
    "output_str = a_file.read()\n",
    "# The file is imported as string\n",
    "# Converting it to python format\n",
    "weather_cols_staur = json.loads(output_str)\n",
    "a_file.close()\n",
    "pprint(len(weather_cols_staur))"
   ]
  },
  {
   "cell_type": "code",
   "execution_count": null,
   "id": "loved-vaccine",
   "metadata": {
    "ExecuteTime": {
     "start_time": "2021-11-15T20:56:29.292Z"
    }
   },
   "outputs": [],
   "source": [
    "a_file = open(main_path+\"yield_columns.json\", \"r\")\n",
    "output_str = a_file.read()\n",
    "# The file is imported as string\n",
    "# Converting it to python format\n",
    "yield_cols = json.loads(output_str)\n",
    "a_file.close()\n",
    "print(yield_cols)"
   ]
  },
  {
   "cell_type": "code",
   "execution_count": null,
   "id": "surgical-observation",
   "metadata": {
    "ExecuteTime": {
     "start_time": "2021-11-15T20:56:29.294Z"
    }
   },
   "outputs": [],
   "source": [
    "a_file = open(main_path+\"spectral_indices_columns.json\", \"r\")\n",
    "output_str = a_file.read()\n",
    "# The file is imported as string\n",
    "# Converting it to python format\n",
    "spectral_indices_all = json.loads(output_str)\n",
    "a_file.close()\n",
    "print(spectral_indices_all)"
   ]
  },
  {
   "cell_type": "code",
   "execution_count": null,
   "id": "southeast-plain",
   "metadata": {
    "ExecuteTime": {
     "start_time": "2021-11-15T20:56:29.295Z"
    }
   },
   "outputs": [],
   "source": [
    "a_file = open(main_path+\"base_indices_columns.json\", \"r\")\n",
    "output_str = a_file.read()\n",
    "# The file is imported as string\n",
    "# Converting it to python format\n",
    "base_indices = json.loads(output_str)\n",
    "a_file.close()\n",
    "print(base_indices)"
   ]
  },
  {
   "cell_type": "markdown",
   "id": "reliable-empty",
   "metadata": {},
   "source": [
    "## XXXXXX Defining categories of features"
   ]
  },
  {
   "cell_type": "code",
   "execution_count": null,
   "id": "0001fa8b",
   "metadata": {
    "ExecuteTime": {
     "start_time": "2021-11-15T20:56:29.297Z"
    }
   },
   "outputs": [],
   "source": [
    "# ToDo: Add check for duplicate columns in the df\n",
    "base_indices\n",
    "spectral_indices_all \n",
    "drop_indices = ['EVI', 'GLI', 'MTCI']\n",
    "spectral_indices = [x for x in spectral_indices_all if x not in drop_indices]\n",
    "\n",
    "# Staur weather columns are all also present in Vollebekk weather so they can be use as general weather features\n",
    "weather_features = weather_cols_staur.copy()\n",
    "environment_var = weather_features + ['Staur_Env', 'Vollebekk_Env']\n",
    "# yield_cols"
   ]
  },
  {
   "cell_type": "markdown",
   "id": "0674436a",
   "metadata": {},
   "source": [
    "# Dropping DF which donot have the Target Feature"
   ]
  },
  {
   "cell_type": "code",
   "execution_count": null,
   "id": "5f4f1158",
   "metadata": {
    "ExecuteTime": {
     "start_time": "2021-11-15T20:56:29.299Z"
    }
   },
   "outputs": [],
   "source": [
    "# Dropping unnecessary columns\n",
    "all_df_dm = []\n",
    "for df in all_df:\n",
    "    temp_df = locals()[df].copy()\n",
    "    if target_features[0] in temp_df.columns.tolist():\n",
    "        all_df_dm.append(df)\n",
    "#         print(df)"
   ]
  },
  {
   "cell_type": "code",
   "execution_count": null,
   "id": "ed83a0b8",
   "metadata": {
    "ExecuteTime": {
     "start_time": "2021-11-15T20:56:29.300Z"
    }
   },
   "outputs": [],
   "source": [
    "all_df_simps = [x for x in all_df_dm if 'Simps' in x]\n",
    "all_df_trapz = [x for x in all_df_dm if 'Trapz' in x]\n",
    "# all_df_simps, all_df_trapz"
   ]
  },
  {
   "cell_type": "markdown",
   "id": "global-gnome",
   "metadata": {},
   "source": [
    "# Dropping unnecessary columns\n"
   ]
  },
  {
   "cell_type": "code",
   "execution_count": null,
   "id": "robust-making",
   "metadata": {
    "ExecuteTime": {
     "start_time": "2021-11-15T20:56:29.302Z"
    }
   },
   "outputs": [],
   "source": [
    "# Dropping unnecessary columns\n",
    "\n",
    "for df in all_df_dm:\n",
    "    temp_df = locals()[df].copy()\n",
    "    locals()[df] = temp_df[base_indices+spectral_indices_all+environment_var+['Name',target_features[0]]]\n",
    "    print(df, temp_df.shape, '==>', locals()[df].shape)\n"
   ]
  },
  {
   "cell_type": "markdown",
   "id": "rational-replication",
   "metadata": {},
   "source": [
    "# Dealing with Nan values"
   ]
  },
  {
   "cell_type": "markdown",
   "id": "unnecessary-criminal",
   "metadata": {},
   "source": [
    "## Dropping Missing values"
   ]
  },
  {
   "cell_type": "code",
   "execution_count": null,
   "id": "sensitive-europe",
   "metadata": {
    "ExecuteTime": {
     "start_time": "2021-11-15T20:56:29.303Z"
    }
   },
   "outputs": [],
   "source": [
    "# Dropping rows with missing value in any column\n",
    "\n",
    "for df in all_df_dm:\n",
    "    temp_df = locals()[df].copy()\n",
    "    locals()[df] = temp_df.dropna(axis=0)\n",
    "    print(temp_df.shape[0] - locals()[df].shape[0], ' rows dropped in ', df)\n",
    "#     print(locals()[df].shape[0])"
   ]
  },
  {
   "cell_type": "markdown",
   "id": "weird-stereo",
   "metadata": {},
   "source": [
    "# Normalizing the data using Z-Score from scipy"
   ]
  },
  {
   "cell_type": "code",
   "execution_count": null,
   "id": "frequent-battery",
   "metadata": {
    "ExecuteTime": {
     "start_time": "2021-11-15T20:56:29.304Z"
    },
    "scrolled": true
   },
   "outputs": [],
   "source": [
    "from scipy.stats import zscore\n",
    "\n",
    "for df in all_df_dm:\n",
    "    temp_df = locals()[df].copy()\n",
    "    for col in temp_df.columns:\n",
    "        # Checking if the column is not a yield column\n",
    "        if col not in yield_cols+environment_var:\n",
    "            temp_df[col] = zscore(temp_df[col])\n",
    "    locals()[df] = temp_df.copy()\n",
    "    print(df)"
   ]
  },
  {
   "cell_type": "markdown",
   "id": "20dbcd75",
   "metadata": {},
   "source": [
    "# Importing functions "
   ]
  },
  {
   "cell_type": "code",
   "execution_count": null,
   "id": "departmental-extension",
   "metadata": {
    "ExecuteTime": {
     "start_time": "2021-11-15T20:56:29.306Z"
    }
   },
   "outputs": [],
   "source": [
    "from functions.save_results import save_results, save_grid_results\n",
    "from functions.split_data import list_test_train_df, data_prep_field\n",
    "from functions.regression import training_regr, training_gkf_std, grid\n",
    "from functions.plot_featimp import plot_feat_imp"
   ]
  },
  {
   "cell_type": "markdown",
   "id": "483f52b7",
   "metadata": {},
   "source": [
    "# ML Models"
   ]
  },
  {
   "cell_type": "code",
   "execution_count": null,
   "id": "5c738348",
   "metadata": {
    "ExecuteTime": {
     "start_time": "2021-11-15T20:56:29.307Z"
    }
   },
   "outputs": [],
   "source": [
    "import time\n",
    "# Pre.Processing\n",
    "from sklearn.model_selection import train_test_split\n",
    "from sklearn.preprocessing import StandardScaler\n",
    "from sklearn.model_selection import GroupKFold\n",
    "# from sklearn.model_selection import StratifiedGroupKFold\n",
    "# Pipeline\n",
    "from sklearn.pipeline import make_pipeline\n",
    "from sklearn.pipeline import Pipeline\n",
    "# Models\n",
    "from sklearn.ensemble import GradientBoostingRegressor\n",
    "from sklearn.linear_model import Lasso\n",
    "from sklearn.linear_model import LinearRegression\n",
    "from sklearn.ensemble import RandomForestRegressor\n",
    "from sklearn.model_selection import GridSearchCV\n",
    "# Metrices\n",
    "from sklearn.model_selection import cross_validate\n",
    "from sklearn.metrics import mean_squared_error\n",
    "from sklearn.metrics import r2_score\n",
    "from sklearn.metrics import mean_absolute_error"
   ]
  },
  {
   "cell_type": "markdown",
   "id": "julian-implementation",
   "metadata": {},
   "source": [
    "## XXXXXX Parameters"
   ]
  },
  {
   "cell_type": "code",
   "execution_count": null,
   "id": "wanted-polymer",
   "metadata": {
    "ExecuteTime": {
     "start_time": "2021-11-15T20:56:29.309Z"
    }
   },
   "outputs": [],
   "source": [
    "threshold_all = 'top_25'\n",
    "sort_feature_imp = True\n",
    "show_feat_imp_plot = True\n",
    "save_feat_imp_plot = True\n",
    "save_results_now = True\n",
    "agg_method = 'Simpsons'\n",
    "# agg_method = 'Trapezoid'"
   ]
  },
  {
   "cell_type": "code",
   "execution_count": null,
   "id": "9a1923d5",
   "metadata": {
    "ExecuteTime": {
     "start_time": "2021-11-15T20:56:29.310Z"
    }
   },
   "outputs": [],
   "source": [
    "# training_features = base_indices + spectral_indices_all + environment_var\n",
    "training_features = base_indices + spectral_indices_all + weather_features\n",
    "# training_features =  base_indices + spectral_indices + weather_features\n",
    "# training_features =  spectral_indices + weather_features\n",
    "# training_features = spectral_indices\n",
    "\n",
    "target_features\n",
    "\n",
    "group_feature = ['Name']\n",
    "\n",
    "if agg_method == 'Simpsons':\n",
    "    all_df_now = all_df_simps.copy()\n",
    "elif agg_method == 'Trapezoid': \n",
    "    all_df_now = all_df_trapz.copy()"
   ]
  },
  {
   "cell_type": "markdown",
   "id": "together-massage",
   "metadata": {},
   "source": [
    "## Fine Tuning the models using all data"
   ]
  },
  {
   "cell_type": "markdown",
   "id": "ea9bf2a2",
   "metadata": {},
   "source": [
    "### All data mixed"
   ]
  },
  {
   "cell_type": "code",
   "execution_count": null,
   "id": "11d2823f",
   "metadata": {
    "ExecuteTime": {
     "start_time": "2021-11-15T20:56:29.312Z"
    }
   },
   "outputs": [],
   "source": [
    "temp_list = [x for x in all_df_now if not 'Robot' in x]\n",
    "\n",
    "# Making list of df for conct before training\n",
    "# This is different form list of srtings, as this is a list of actual dataframes\n",
    "df_list = []\n",
    "for x in temp_list:\n",
    "    df_list.append(locals()[x])\n",
    "\n",
    "# Conct all df to one df    \n",
    "df_ = pd.concat(df_list).reset_index(drop=True)\n",
    "\n",
    "# Shuffeling all the items/rows\n",
    "df_shuffle = df_.sample(frac=1, random_state=1).reset_index(drop=True)\n",
    "\n",
    "X = df_shuffle[training_features+['Name']]\n",
    "y = df_shuffle[target_features].values.ravel()\n",
    "\n",
    "X_train, X_test, y_train, y_test = train_test_split(X, y, test_size=0.33, random_state=1)\n",
    "\n",
    "groups = X_train[group_feature].values.ravel()\n",
    "\n",
    "X_train = X_train.drop(['Name'], axis=1).values\n",
    "X_test = X_test.drop(['Name'], axis=1).values\n",
    "\n",
    "gkf = list(GroupKFold(n_splits=6).split(X_train, y_train, groups))"
   ]
  },
  {
   "cell_type": "code",
   "execution_count": null,
   "id": "5a0c7b4f",
   "metadata": {
    "ExecuteTime": {
     "start_time": "2021-11-15T20:56:29.313Z"
    }
   },
   "outputs": [],
   "source": [
    "from sklearn.svm import SVR\n",
    "\n",
    "model = SVR(verbose=15)\n",
    "model.fit(X_train, y_train)"
   ]
  },
  {
   "cell_type": "code",
   "execution_count": null,
   "id": "687dca5f",
   "metadata": {
    "ExecuteTime": {
     "start_time": "2021-11-15T20:49:12.837Z"
    }
   },
   "outputs": [
    {
     "name": "stdout",
     "output_type": "stream",
     "text": [
      "# Tuning hyper-parameters for r2\n",
      "\n",
      "Fitting 5 folds for each of 12 candidates, totalling 60 fits\n"
     ]
    }
   ],
   "source": [
    "from sklearn.model_selection import GridSearchCV\n",
    "from sklearn.metrics import classification_report\n",
    "from sklearn.svm import SVR\n",
    "\n",
    "# Set the parameters by cross-validation\n",
    "tuned_parameters = [\n",
    "    {\"kernel\": [\"rbf\"], \"gamma\": [1e-3, 1e-4], \"C\": [1, 10, 100, 1000]},\n",
    "    {\"kernel\": [\"linear\"], \"C\": [1, 10, 100, 1000]},\n",
    "]\n",
    "\n",
    "scores = [\"r2\", \"neg_mean_squared_error\"]\n",
    "\n",
    "for score in scores:\n",
    "    print(\"# Tuning hyper-parameters for %s\" % score)\n",
    "    print()\n",
    "\n",
    "    clf = GridSearchCV(SVR(), tuned_parameters, scoring=score, n_jobs=-1, verbose = 10)\n",
    "    clf.fit(X_train, y_train)\n",
    "\n",
    "    print(\"Best parameters set found on development set:\")\n",
    "    print()\n",
    "    print(clf.best_params_)\n",
    "    print()\n",
    "    print(\"Grid scores on development set:\")\n",
    "    print()\n",
    "    means = clf.cv_results_[\"mean_test_score\"]\n",
    "    stds = clf.cv_results_[\"std_test_score\"]\n",
    "    for mean, std, params in zip(means, stds, clf.cv_results_[\"params\"]):\n",
    "        print(\"%0.3f (+/-%0.03f) for %r\" % (mean, std * 2, params))\n",
    "    print()\n",
    "\n",
    "    print(\"Detailed classification report:\")\n",
    "    print()\n",
    "    print(\"The model is trained on the full development set.\")\n",
    "    print(\"The scores are computed on the full evaluation set.\")\n",
    "    print()\n",
    "    y_true, y_pred = y_test, clf.predict(X_test)\n",
    "    print(classification_report(y_true, y_pred))\n",
    "    print()\n",
    "\n",
    "# Note the problem is too easy: the hyperparameter plateau is too flat and the\n",
    "# output model is the same for precision and recall with ties in quality."
   ]
  },
  {
   "cell_type": "code",
   "execution_count": null,
   "id": "74e49e37",
   "metadata": {},
   "outputs": [],
   "source": []
  },
  {
   "cell_type": "code",
   "execution_count": null,
   "id": "bd431c80",
   "metadata": {},
   "outputs": [],
   "source": []
  },
  {
   "cell_type": "markdown",
   "id": "accepted-africa",
   "metadata": {},
   "source": [
    "### RandomForestRegressor"
   ]
  },
  {
   "cell_type": "code",
   "execution_count": 27,
   "id": "turned-attention",
   "metadata": {
    "ExecuteTime": {
     "end_time": "2021-11-03T12:08:22.767054Z",
     "start_time": "2021-11-03T12:07:02.768422Z"
    },
    "scrolled": true
   },
   "outputs": [],
   "source": [
    "# # ==============================================================================\n",
    "# # RandomForestRegressor\n",
    "# # ==============================================================================\n",
    "# from sklearn.ensemble import RandomForestRegressor\n",
    "\n",
    "# results_RF = pd.DataFrame()\n",
    "# sc = StandardScaler()\n",
    "\n",
    "# for max_features in ['auto', 'sqrt']:\n",
    "#     for max_depth in [None]+[int(x) for x in np.linspace(10, 110, num=11)]:\n",
    "#         #         for n_estimators in [int(x) for x in np.linspace(start=10, stop=1000, num=10)]:\n",
    "#         for min_samples_split in [2, 5, 10]:\n",
    "#             for min_samples_leaf in [1, 2, 4]:\n",
    "#                 model = RandomForestRegressor(max_features=max_features,\n",
    "#                                               max_depth=max_depth,\n",
    "# #                                                   n_estimators=n_estimators,\n",
    "#                                               min_samples_split=min_samples_split,\n",
    "#                                               min_samples_leaf=min_samples_leaf,\n",
    "#                                               random_state=1)\n",
    "#                 pipe = Pipeline(steps=[('sc', sc), ('model', model)])\n",
    "#                 print('Training model', model)\n",
    "#                 pipefit = pipe.fit(X_train, y_train)\n",
    "#                 print('Making predictions')\n",
    "#                 pred_test = pipefit.predict(X_test)\n",
    "#                 test_score = r2_score(y_test, pred_test)\n",
    "#                 pred_train = pipefit.predict(X_train)\n",
    "#                 train_score = r2_score(y_train, pred_train)\n",
    "#                 print('R2 Train:', train_score, '      R2 Test:', test_score)\n",
    "#                 list_zip = list(zip([model],\n",
    "#                                     [pipe],\n",
    "#                                     [train_score],\n",
    "#                                     [test_score],\n",
    "\n",
    "#                                     [max_features],\n",
    "#                                     [max_depth],\n",
    "#                                     [min_samples_split],\n",
    "#                                     [min_samples_leaf]))\n",
    "#                 results_RF = results_RF.append(pd.DataFrame(list_zip))\n",
    "# #                 save_grid_results(list_zip,  features_all=[training_features,\n",
    "# #                                                            base_indices,\n",
    "# #                                                            spectral_indices_all,\n",
    "# #                                                            spectral_indices,\n",
    "# #                                                            weather_features, export_path])"
   ]
  },
  {
   "cell_type": "markdown",
   "id": "signed-firmware",
   "metadata": {},
   "source": [
    "### Lasso"
   ]
  },
  {
   "cell_type": "code",
   "execution_count": 28,
   "id": "511b0d33",
   "metadata": {
    "scrolled": true
   },
   "outputs": [],
   "source": [
    "# # ==============================================================================\n",
    "# # Lasso\n",
    "# # ==============================================================================\n",
    "# from sklearn.linear_model import Lasso\n",
    "\n",
    "# results_LS = pd.DataFrame()\n",
    "\n",
    "# sc = StandardScaler()\n",
    "\n",
    "# for alpha in [0]:\n",
    "#     for max_iter in [50000000]:\n",
    "#         for selection in ['random']:\n",
    "#             model = Lasso(alpha=alpha,\n",
    "#                           max_iter=max_iter,\n",
    "#                           selection=selection,\n",
    "#                           warm_start=True,\n",
    "#                           random_state=1\n",
    "#                           )\n",
    "#             pipe = Pipeline(steps=[('sc', sc), ('model', model)])\n",
    "#             print('Training model', model)\n",
    "#             pipefit = pipe.fit(X_train, y_train)\n",
    "#             print('Making predictions')\n",
    "#             pred_test = pipefit.predict(X_test)\n",
    "#             test_score = r2_score(y_test, pred_test)\n",
    "#             pred_train = pipefit.predict(X_train)\n",
    "#             train_score = r2_score(y_train, pred_train)\n",
    "#             print('R2 Train:', train_score, '      R2 Test:', test_score)\n",
    "#             list_zip = list(zip([model],\n",
    "#                                 [pipe],\n",
    "#                                 [train_score],\n",
    "#                                 [test_score],\n",
    "                                \n",
    "#                                 [alpha],\n",
    "#                                 [max_iter],\n",
    "#                                 [selection]))\n",
    "#             results_LS = results_LS.append(pd.DataFrame(list_zip))\n",
    "# #                 save_grid_results(list_zip,  features_all=[training_features,\n",
    "# #                                                            base_indices,\n",
    "# #                                                            spectral_indices_all,\n",
    "# #                                                            spectral_indices,\n",
    "# #                                                            weather_features, export_path])"
   ]
  },
  {
   "cell_type": "code",
   "execution_count": 29,
   "id": "38339d31",
   "metadata": {},
   "outputs": [],
   "source": [
    "# # plt.plot( results_LS.iloc[:500,3], results_LS.iloc[:500,2])\n",
    "# plt.plot( results_LS.iloc[:,4], results_LS.iloc[:,2])\n",
    "\n",
    "# # plt.show()"
   ]
  },
  {
   "cell_type": "markdown",
   "id": "248fe476",
   "metadata": {},
   "source": [
    "### LinearRegression"
   ]
  },
  {
   "cell_type": "code",
   "execution_count": 30,
   "id": "4cce8273",
   "metadata": {
    "scrolled": true
   },
   "outputs": [],
   "source": [
    "# # ==============================================================================\n",
    "# # LinearRegression\n",
    "# # ==============================================================================\n",
    "# from sklearn.linear_model import LinearRegression\n",
    "\n",
    "\n",
    "# results_LR = pd.DataFrame()\n",
    "\n",
    "# sc = StandardScaler()\n",
    "\n",
    "# for normalize in [True, False]:\n",
    "#     for copy_X in [True, False]:\n",
    "#         for positive in [True, False]:\n",
    "#             for fit_intercept in [True, False]:\n",
    "#                 model = LinearRegression(\n",
    "# #                     normalize=normalize,\n",
    "# #                     copy_X=copy_X,\n",
    "# #                     positive=positive,\n",
    "# #                     fit_intercept=fit_intercept,\n",
    "#                 )\n",
    "#                 pipe = Pipeline(steps=[('sc', sc), ('model', model)])\n",
    "#                 print('Training model', model)\n",
    "#                 pipefit = pipe.fit(X_train, y_train)\n",
    "#                 print('Making predictions')\n",
    "#                 pred_test = pipefit.predict(X_test)\n",
    "#                 test_score = r2_score(y_test, pred_test)\n",
    "#                 pred_train = pipefit.predict(X_train)\n",
    "#                 train_score = r2_score(y_train, pred_train)\n",
    "#                 print('R2 Train:', train_score, '      R2 Test:', test_score)\n",
    "#                 list_zip = list(zip([model],\n",
    "#                                     [pipe],\n",
    "#                                     [train_score],\n",
    "#                                     [test_score],\n",
    "                                    \n",
    "#                                     [normalize],\n",
    "#                                     [copy_X],\n",
    "#                                     [positive],\n",
    "#                                     [fit_intercept]))\n",
    "#                 results_LR = results_LR.append(pd.DataFrame(list_zip))\n",
    "# #                 save_grid_results(list_zip,  features_all=[training_features,\n",
    "# #                                                            base_indices,\n",
    "# #                                                            spectral_indices_all,\n",
    "# #                                                            spectral_indices,\n",
    "# #                                                            weather_features, export_path])"
   ]
  },
  {
   "cell_type": "markdown",
   "id": "pointed-equilibrium",
   "metadata": {},
   "source": [
    "### Feature Selection"
   ]
  },
  {
   "cell_type": "code",
   "execution_count": 31,
   "id": "conceptual-batch",
   "metadata": {},
   "outputs": [],
   "source": [
    "# from sklearn.feature_selection import SelectPercentile\n",
    "# from sklearn.feature_selection import f_regression\n",
    "# # X, y = load_iris(return_X_y=True)\n",
    "# X_te = X.drop(['Name'], axis=1)\n",
    "\n",
    "# X_new = SelectPercentile(f_regression, percentile=95).fit_transform(X_te, y)\n",
    "# X_train, X_test, y_train, y_test = train_test_split(X_new, y, test_size=0.33, random_state=1)\n",
    "# X_new.shape\n"
   ]
  },
  {
   "cell_type": "markdown",
   "id": "talented-facial",
   "metadata": {
    "ExecuteTime": {
     "end_time": "2021-09-15T18:32:26.716503Z",
     "start_time": "2021-09-15T18:32:26.697958Z"
    }
   },
   "source": [
    "## List of Final models"
   ]
  },
  {
   "cell_type": "markdown",
   "id": "305319d0",
   "metadata": {},
   "source": [
    "### SKLearn Models"
   ]
  },
  {
   "cell_type": "code",
   "execution_count": 32,
   "id": "waiting-field",
   "metadata": {
    "ExecuteTime": {
     "end_time": "2021-11-03T12:12:03.715843Z",
     "start_time": "2021-11-03T12:12:03.697892Z"
    }
   },
   "outputs": [],
   "source": [
    "models = [\n",
    "    LinearRegression(),\n",
    "    RandomForestRegressor(n_jobs=-1, random_state=1),\n",
    "    GradientBoostingRegressor(random_state=1),\n",
    "    # No overfitting\n",
    "    RandomForestRegressor(n_estimators=50,\n",
    "                          max_depth=100,\n",
    "                          min_samples_split=400,\n",
    "                          n_jobs=-1, random_state=1),\n",
    "# #     Same results as default model but a tiny bit less overfiting\n",
    "#     RandomForestRegressor(n_estimators=230,\n",
    "#                           max_depth=20,\n",
    "#                           min_samples_leaf=2,\n",
    "#                           n_jobs=-1, random_state=1),\n",
    "    Lasso(alpha=0, max_iter=50000, random_state=1, selection='random')\n",
    "]"
   ]
  },
  {
   "cell_type": "markdown",
   "id": "b9e01a31",
   "metadata": {},
   "source": [
    "## Variations in Datasets"
   ]
  },
  {
   "cell_type": "markdown",
   "id": "legislative-submission",
   "metadata": {},
   "source": [
    "### All data mixed"
   ]
  },
  {
   "cell_type": "code",
   "execution_count": 33,
   "id": "homeless-scroll",
   "metadata": {
    "ExecuteTime": {
     "end_time": "2021-11-03T17:07:16.680184Z",
     "start_time": "2021-11-03T17:03:20.583051Z"
    }
   },
   "outputs": [
    {
     "name": "stdout",
     "output_type": "stream",
     "text": [
      "RandomForestRegressor(n_jobs=-1, random_state=1)\n",
      "Pipeline(steps=[('standardscaler', StandardScaler()),\n",
      "                ('randomforestregressor',\n",
      "                 RandomForestRegressor(n_jobs=-1, random_state=1))])\n",
      " RMSE Test: 3.66        R2 Test: 0.87\n",
      "RMSE Train: 1.31       R2 Train: 0.98\n"
     ]
    },
    {
     "data": {
      "image/png": "[encoded data removed]",
      "text/plain": [
       "<Figure size 1000x700 with 1 Axes>"
      ]
     },
     "metadata": {},
     "output_type": "display_data"
    }
   ],
   "source": [
    "temp_list = [x for x in all_df_now if not 'Robot' in x]\n",
    "\n",
    "# Making list of df for conct before training\n",
    "# This is different form list of srtings, as this is a list of actual dataframes\n",
    "df_list = []\n",
    "for x in temp_list:\n",
    "    df_list.append(locals()[x])\n",
    "\n",
    "df_ = pd.concat(df_list)\n",
    "\n",
    "# Shuffeling all the items\n",
    "df_shuffle = df_.sample(frac=1, random_state=1).reset_index(drop=True)\n",
    "\n",
    "X = df_shuffle[training_features]\n",
    "y = df_shuffle[target_features].values.ravel()\n",
    "groups = df_shuffle[group_feature].values.ravel()\n",
    "\n",
    "gkf = list(GroupKFold(n_splits=6).split(X, y, groups))\n",
    "# gkf = list(StratifiedGroupKFold(n_splits=6, shuffle=True, random_state=1).split(X, y, groups))\n",
    "\n",
    "#     Getting scores using cross_val_score\n",
    "for model in models:\n",
    "#     X_train, X_test, y_train, y_test = train_test_split(\n",
    "#         X, y, test_size=0.33, random_state=1)\n",
    "\n",
    "#     importances, RMSE_test_temp, RMSE_train_temp, R2_test_temp, R2_train_temp, GKF_CV_temp = training_regr(\n",
    "#         model, X_train, y_train, X_test, y_test)\n",
    "\n",
    "    importances, RMSE_test_temp, RMSE_train_temp, R2_test_temp, R2_train_temp, GKF_CV_temp = training_gkf_std(\n",
    "        model, X, y, gkf)\n",
    "    if importances is not None:\n",
    "        plot_feat_imp(feature_importance=importances,\n",
    "                      model=model,\n",
    "                      train_feat=training_features,\n",
    "                      threshold=threshold_all,\n",
    "                      sort_feat=sort_feature_imp,\n",
    "                      show_plot=show_feat_imp_plot,\n",
    "                      save_plot=save_feat_imp_plot,\n",
    "                      export_path=export_path,\n",
    "                      save_suffix='all_mixed')\n",
    "    if save_results_now:\n",
    "        save_results(model=model,\n",
    "                     agg_method=agg_method,\n",
    "                     train_field='all_mix',\n",
    "                     test_field='all_mix',\n",
    "                     features_all=[training_features,\n",
    "                                   base_indices,\n",
    "                                   spectral_indices_all,\n",
    "                                   spectral_indices,\n",
    "                                   weather_features, export_path],\n",
    "                     importances=importances,\n",
    "                     RMSE_test=RMSE_test_temp,\n",
    "                     RMSE_train=RMSE_train_temp,\n",
    "                     R2_test=R2_test_temp,\n",
    "                     R2_train=R2_train_temp,\n",
    "                     GKF_CV=GKF_CV_temp)"
   ]
  }
 ],
 "metadata": {
  "hide_input": false,
  "kernelspec": {
   "display_name": "Python 3",
   "language": "python",
   "name": "python3"
  },
  "language_info": {
   "codemirror_mode": {
    "name": "ipython",
    "version": 3
   },
   "file_extension": ".py",
   "mimetype": "text/x-python",
   "name": "python",
   "nbconvert_exporter": "python",
   "pygments_lexer": "ipython3",
   "version": "3.8.8"
  },
  "toc": {
   "base_numbering": 1,
   "nav_menu": {},
   "number_sections": true,
   "sideBar": true,
   "skip_h1_title": false,
   "title_cell": "Table of Contents",
   "title_sidebar": "Contents",
   "toc_cell": false,
   "toc_position": {
    "height": "calc(100% - 180px)",
    "left": "10px",
    "top": "150px",
    "width": "350.533px"
   },
   "toc_section_display": true,
   "toc_window_display": true
  },
  "varInspector": {
   "cols": {
    "lenName": 16,
    "lenType": 16,
    "lenVar": 40
   },
   "kernels_config": {
    "python": {
     "delete_cmd_postfix": "",
     "delete_cmd_prefix": "del ",
     "library": "var_list.py",
     "varRefreshCmd": "print(var_dic_list())"
    },
    "r": {
     "delete_cmd_postfix": ") ",
     "delete_cmd_prefix": "rm(",
     "library": "var_list.r",
     "varRefreshCmd": "cat(var_dic_list()) "
    }
   },
   "position": {
    "height": "801px",
    "left": "1469px",
    "right": "20px",
    "top": "130px",
    "width": "446px"
   },
   "types_to_exclude": [
    "module",
    "function",
    "builtin_function_or_method",
    "instance",
    "_Feature"
   ],
   "window_display": false
  }
 },
 "nbformat": 4,
 "nbformat_minor": 5
}

{
 "cells": [
  {
   "cell_type": "markdown",
   "metadata": {},
   "source": [
    "# Foreword"
   ]
  },
  {
   "cell_type": "code",
   "execution_count": 96,
   "metadata": {},
   "outputs": [
    {
     "data": {
      "text/plain": [
       "7"
      ]
     },
     "execution_count": 96,
     "metadata": {},
     "output_type": "execute_result"
    }
   ],
   "source": [
    "len(range(7,20,2))"
   ]
  },
  {
   "cell_type": "markdown",
   "metadata": {},
   "source": [
    "For the purpose of Data Science Special Syllabus Report, I am going to use the data from Robot Field for the year 2020. Following is a summary of the field and the dates when the data was collected from the field.\n",
    "\n",
    "\n",
    "Date of data collections  \n",
    "Subvplots in the field  \n",
    "Distribution of dates in the season  \n",
    "Days to heading  \n",
    "Days to maturity  \n",
    "Sowing dates  "
   ]
  },
  {
   "cell_type": "markdown",
   "metadata": {},
   "source": [
    "# Preprocessing"
   ]
  },
  {
   "cell_type": "code",
   "execution_count": 66,
   "metadata": {},
   "outputs": [],
   "source": [
    "from tqdm import tqdm\n",
    "import pandas as pd\n",
    "import numpy as np\n",
    "import math\n",
    "import os\n",
    "import datetime\n",
    "from copy import copy\n",
    "import pprint # pretty print\n",
    "import time\n",
    "\n",
    "# Visualisation\n",
    "import matplotlib.pyplot as plt\n",
    "import seaborn as sns\n",
    "\n",
    "# To display df nicely in loops\n",
    "from IPython.display import display \n",
    "# display(df1.head()) \n",
    "# display(df2.head())\n",
    "\n",
    "# Display rows and columns Pandas\n",
    "pd.options.display.max_columns = 100\n",
    "pd.set_option('display.max_rows',50)"
   ]
  },
  {
   "cell_type": "code",
   "execution_count": 67,
   "metadata": {},
   "outputs": [
    {
     "data": {
      "text/plain": [
       "'C:\\\\Users\\\\fahad\\\\Documents\\\\GitHub\\\\vPheno\\\\DS Special Syllabus Report\\\\Code'"
      ]
     },
     "execution_count": 67,
     "metadata": {},
     "output_type": "execute_result"
    }
   ],
   "source": [
    "# Prints the current workinig directory\n",
    "os.getcwd()\n",
    "# os.listdir()"
   ]
  },
  {
   "cell_type": "markdown",
   "metadata": {},
   "source": [
    "## Importing Data"
   ]
  },
  {
   "cell_type": "code",
   "execution_count": 68,
   "metadata": {},
   "outputs": [
    {
     "data": {
      "text/plain": [
       "['raw',\n",
       " 'Robot_2020_mean_fixed_rows.csv',\n",
       " 'Robot_2020_median_fixed_rows.csv',\n",
       " 'Robot_2020_stdev_fixed_rows.csv',\n",
       " 'Robot_fixed_cols.csv']"
      ]
     },
     "execution_count": 68,
     "metadata": {},
     "output_type": "execute_result"
    }
   ],
   "source": [
    "path = './Data/'\n",
    "list_data = os.listdir(path)\n",
    "os.listdir(path)"
   ]
  },
  {
   "cell_type": "code",
   "execution_count": 69,
   "metadata": {},
   "outputs": [
    {
     "name": "stderr",
     "output_type": "stream",
     "text": [
      "hello: 100%|█████████████████████████████████████████████████████████████████████████| 5/5 [00:00<00:00, 104.66files/s]"
     ]
    },
    {
     "name": "stdout",
     "output_type": "stream",
     "text": [
      "Robot_2020_mean_fixed_rows ===== (96, 114)\n",
      "Robot_2020_median_fixed_rows ===== (96, 114)\n",
      "Robot_2020_stdev_fixed_rows ===== (96, 114)\n",
      "Robot_fixed_cols ===== (1344, 29)\n"
     ]
    },
    {
     "name": "stderr",
     "output_type": "stream",
     "text": [
      "\n"
     ]
    }
   ],
   "source": [
    "import_data = []\n",
    "for csv_data in tqdm(list_data, desc=\"hello\", unit=\"files\"):\n",
    "    if os.path.isfile(os.path.join(path, csv_data)):\n",
    "        df_name = csv_data[:-4]\n",
    "        import_data.append(df_name)\n",
    "\n",
    "        locals()[df_name] = pd.read_csv(path+csv_data)\n",
    "        print(df_name, '=====', locals()[df_name].shape)\n",
    "    "
   ]
  },
  {
   "cell_type": "markdown",
   "metadata": {},
   "source": [
    "## Dropping Mean and Std_Dev columns"
   ]
  },
  {
   "cell_type": "code",
   "execution_count": 70,
   "metadata": {},
   "outputs": [
    {
     "data": {
      "text/html": [
       "<div>\n",
       "<style scoped>\n",
       "    .dataframe tbody tr th:only-of-type {\n",
       "        vertical-align: middle;\n",
       "    }\n",
       "\n",
       "    .dataframe tbody tr th {\n",
       "        vertical-align: top;\n",
       "    }\n",
       "\n",
       "    .dataframe thead th {\n",
       "        text-align: right;\n",
       "    }\n",
       "</style>\n",
       "<table border=\"1\" class=\"dataframe\">\n",
       "  <thead>\n",
       "    <tr style=\"text-align: right;\">\n",
       "      <th></th>\n",
       "      <th>Plot_ID</th>\n",
       "      <th>Blue_Median_Value</th>\n",
       "      <th>Green_Median_Value</th>\n",
       "      <th>Red_Median_Value</th>\n",
       "      <th>RedEdge_Median_Value</th>\n",
       "      <th>NIR_Median_Value</th>\n",
       "      <th>NDVI_Median_Value</th>\n",
       "      <th>MTCI_Median_Value</th>\n",
       "      <th>EVI_Median_Value</th>\n",
       "      <th>GrainYield</th>\n",
       "      <th>Days2Heading</th>\n",
       "      <th>Days2Maturity</th>\n",
       "      <th>Date</th>\n",
       "    </tr>\n",
       "  </thead>\n",
       "  <tbody>\n",
       "    <tr>\n",
       "      <th>0</th>\n",
       "      <td>1101</td>\n",
       "      <td>0.021905</td>\n",
       "      <td>0.051635</td>\n",
       "      <td>0.028147</td>\n",
       "      <td>0.142298</td>\n",
       "      <td>0.465755</td>\n",
       "      <td>0.885390</td>\n",
       "      <td>2.803551</td>\n",
       "      <td>-1.261239</td>\n",
       "      <td>453.658537</td>\n",
       "      <td>62</td>\n",
       "      <td>109</td>\n",
       "      <td>2020-07-01</td>\n",
       "    </tr>\n",
       "    <tr>\n",
       "      <th>1</th>\n",
       "      <td>1102</td>\n",
       "      <td>0.028108</td>\n",
       "      <td>0.055910</td>\n",
       "      <td>0.035009</td>\n",
       "      <td>0.145149</td>\n",
       "      <td>0.458687</td>\n",
       "      <td>0.858816</td>\n",
       "      <td>2.861652</td>\n",
       "      <td>-1.100831</td>\n",
       "      <td>439.024390</td>\n",
       "      <td>62</td>\n",
       "      <td>113</td>\n",
       "      <td>2020-07-01</td>\n",
       "    </tr>\n",
       "    <tr>\n",
       "      <th>2</th>\n",
       "      <td>1103</td>\n",
       "      <td>0.026808</td>\n",
       "      <td>0.057188</td>\n",
       "      <td>0.034401</td>\n",
       "      <td>0.149912</td>\n",
       "      <td>0.468715</td>\n",
       "      <td>0.863303</td>\n",
       "      <td>2.768063</td>\n",
       "      <td>-1.156627</td>\n",
       "      <td>409.756098</td>\n",
       "      <td>60</td>\n",
       "      <td>106</td>\n",
       "      <td>2020-07-01</td>\n",
       "    </tr>\n",
       "    <tr>\n",
       "      <th>3</th>\n",
       "      <td>1104</td>\n",
       "      <td>0.024750</td>\n",
       "      <td>0.048598</td>\n",
       "      <td>0.030623</td>\n",
       "      <td>0.131659</td>\n",
       "      <td>0.455760</td>\n",
       "      <td>0.874434</td>\n",
       "      <td>3.206094</td>\n",
       "      <td>-1.163352</td>\n",
       "      <td>474.796748</td>\n",
       "      <td>61</td>\n",
       "      <td>110</td>\n",
       "      <td>2020-07-01</td>\n",
       "    </tr>\n",
       "    <tr>\n",
       "      <th>4</th>\n",
       "      <td>1105</td>\n",
       "      <td>0.029282</td>\n",
       "      <td>0.059577</td>\n",
       "      <td>0.035984</td>\n",
       "      <td>0.153574</td>\n",
       "      <td>0.473269</td>\n",
       "      <td>0.858489</td>\n",
       "      <td>2.720606</td>\n",
       "      <td>-1.136098</td>\n",
       "      <td>411.382114</td>\n",
       "      <td>61</td>\n",
       "      <td>106</td>\n",
       "      <td>2020-07-01</td>\n",
       "    </tr>\n",
       "    <tr>\n",
       "      <th>...</th>\n",
       "      <td>...</td>\n",
       "      <td>...</td>\n",
       "      <td>...</td>\n",
       "      <td>...</td>\n",
       "      <td>...</td>\n",
       "      <td>...</td>\n",
       "      <td>...</td>\n",
       "      <td>...</td>\n",
       "      <td>...</td>\n",
       "      <td>...</td>\n",
       "      <td>...</td>\n",
       "      <td>...</td>\n",
       "      <td>...</td>\n",
       "    </tr>\n",
       "    <tr>\n",
       "      <th>1339</th>\n",
       "      <td>1808</td>\n",
       "      <td>0.033788</td>\n",
       "      <td>0.062602</td>\n",
       "      <td>0.084690</td>\n",
       "      <td>0.153530</td>\n",
       "      <td>0.250196</td>\n",
       "      <td>0.490993</td>\n",
       "      <td>1.428498</td>\n",
       "      <td>-0.273772</td>\n",
       "      <td>429.268293</td>\n",
       "      <td>61</td>\n",
       "      <td>105</td>\n",
       "      <td>2020-07-30</td>\n",
       "    </tr>\n",
       "    <tr>\n",
       "      <th>1340</th>\n",
       "      <td>1809</td>\n",
       "      <td>0.025289</td>\n",
       "      <td>0.053867</td>\n",
       "      <td>0.065721</td>\n",
       "      <td>0.147120</td>\n",
       "      <td>0.267604</td>\n",
       "      <td>0.601344</td>\n",
       "      <td>1.501041</td>\n",
       "      <td>-0.383402</td>\n",
       "      <td>414.634146</td>\n",
       "      <td>60</td>\n",
       "      <td>102</td>\n",
       "      <td>2020-07-30</td>\n",
       "    </tr>\n",
       "    <tr>\n",
       "      <th>1341</th>\n",
       "      <td>1810</td>\n",
       "      <td>0.034920</td>\n",
       "      <td>0.067794</td>\n",
       "      <td>0.076857</td>\n",
       "      <td>0.162150</td>\n",
       "      <td>0.280264</td>\n",
       "      <td>0.569404</td>\n",
       "      <td>1.406162</td>\n",
       "      <td>-0.352456</td>\n",
       "      <td>460.162602</td>\n",
       "      <td>62</td>\n",
       "      <td>107</td>\n",
       "      <td>2020-07-30</td>\n",
       "    </tr>\n",
       "    <tr>\n",
       "      <th>1342</th>\n",
       "      <td>1811</td>\n",
       "      <td>0.032249</td>\n",
       "      <td>0.059999</td>\n",
       "      <td>0.080487</td>\n",
       "      <td>0.146993</td>\n",
       "      <td>0.236998</td>\n",
       "      <td>0.487644</td>\n",
       "      <td>1.384678</td>\n",
       "      <td>-0.262991</td>\n",
       "      <td>443.902439</td>\n",
       "      <td>62</td>\n",
       "      <td>105</td>\n",
       "      <td>2020-07-30</td>\n",
       "    </tr>\n",
       "    <tr>\n",
       "      <th>1343</th>\n",
       "      <td>1812</td>\n",
       "      <td>0.025546</td>\n",
       "      <td>0.045265</td>\n",
       "      <td>0.069339</td>\n",
       "      <td>0.121298</td>\n",
       "      <td>0.217778</td>\n",
       "      <td>0.515266</td>\n",
       "      <td>1.909100</td>\n",
       "      <td>-0.267007</td>\n",
       "      <td>375.609756</td>\n",
       "      <td>61</td>\n",
       "      <td>105</td>\n",
       "      <td>2020-07-30</td>\n",
       "    </tr>\n",
       "  </tbody>\n",
       "</table>\n",
       "<p>1344 rows × 13 columns</p>\n",
       "</div>"
      ],
      "text/plain": [
       "      Plot_ID  Blue_Median_Value  Green_Median_Value  Red_Median_Value  \\\n",
       "0        1101           0.021905            0.051635          0.028147   \n",
       "1        1102           0.028108            0.055910          0.035009   \n",
       "2        1103           0.026808            0.057188          0.034401   \n",
       "3        1104           0.024750            0.048598          0.030623   \n",
       "4        1105           0.029282            0.059577          0.035984   \n",
       "...       ...                ...                 ...               ...   \n",
       "1339     1808           0.033788            0.062602          0.084690   \n",
       "1340     1809           0.025289            0.053867          0.065721   \n",
       "1341     1810           0.034920            0.067794          0.076857   \n",
       "1342     1811           0.032249            0.059999          0.080487   \n",
       "1343     1812           0.025546            0.045265          0.069339   \n",
       "\n",
       "      RedEdge_Median_Value  NIR_Median_Value  NDVI_Median_Value  \\\n",
       "0                 0.142298          0.465755           0.885390   \n",
       "1                 0.145149          0.458687           0.858816   \n",
       "2                 0.149912          0.468715           0.863303   \n",
       "3                 0.131659          0.455760           0.874434   \n",
       "4                 0.153574          0.473269           0.858489   \n",
       "...                    ...               ...                ...   \n",
       "1339              0.153530          0.250196           0.490993   \n",
       "1340              0.147120          0.267604           0.601344   \n",
       "1341              0.162150          0.280264           0.569404   \n",
       "1342              0.146993          0.236998           0.487644   \n",
       "1343              0.121298          0.217778           0.515266   \n",
       "\n",
       "      MTCI_Median_Value  EVI_Median_Value  GrainYield  Days2Heading  \\\n",
       "0              2.803551         -1.261239  453.658537            62   \n",
       "1              2.861652         -1.100831  439.024390            62   \n",
       "2              2.768063         -1.156627  409.756098            60   \n",
       "3              3.206094         -1.163352  474.796748            61   \n",
       "4              2.720606         -1.136098  411.382114            61   \n",
       "...                 ...               ...         ...           ...   \n",
       "1339           1.428498         -0.273772  429.268293            61   \n",
       "1340           1.501041         -0.383402  414.634146            60   \n",
       "1341           1.406162         -0.352456  460.162602            62   \n",
       "1342           1.384678         -0.262991  443.902439            62   \n",
       "1343           1.909100         -0.267007  375.609756            61   \n",
       "\n",
       "      Days2Maturity        Date  \n",
       "0               109  2020-07-01  \n",
       "1               113  2020-07-01  \n",
       "2               106  2020-07-01  \n",
       "3               110  2020-07-01  \n",
       "4               106  2020-07-01  \n",
       "...             ...         ...  \n",
       "1339            105  2020-07-30  \n",
       "1340            102  2020-07-30  \n",
       "1341            107  2020-07-30  \n",
       "1342            105  2020-07-30  \n",
       "1343            105  2020-07-30  \n",
       "\n",
       "[1344 rows x 13 columns]"
      ]
     },
     "execution_count": 70,
     "metadata": {},
     "output_type": "execute_result"
    }
   ],
   "source": [
    "columns_all = Robot_fixed_cols.columns\n",
    "mean_cols = columns_all[columns_all.str.contains(pat='Mean', case=False)]\n",
    "std_cols = columns_all[columns_all.str.contains(pat='Std_Dev', case=False)]\n",
    "\n",
    "Robot_fixed_cols.drop(columns=mean_cols, inplace=True)\n",
    "Robot_fixed_cols.drop(columns=std_cols, inplace=True)\n",
    "\n",
    "Robot_fixed_cols"
   ]
  },
  {
   "cell_type": "code",
   "execution_count": 71,
   "metadata": {},
   "outputs": [],
   "source": [
    "# Initializing the comments to be appended to results\n",
    "comments = []\n",
    "comments.append('Median columns only')\n",
    "comments.append('EVI included.')"
   ]
  },
  {
   "cell_type": "code",
   "execution_count": null,
   "metadata": {},
   "outputs": [],
   "source": []
  },
  {
   "cell_type": "markdown",
   "metadata": {},
   "source": [
    "# Data Trends Visualisation"
   ]
  },
  {
   "cell_type": "markdown",
   "metadata": {},
   "source": [
    "# TODO: Correlation heatmap of indices with target"
   ]
  },
  {
   "cell_type": "markdown",
   "metadata": {},
   "source": [
    "## ToDo: Identify Dates and index with problems"
   ]
  },
  {
   "cell_type": "markdown",
   "metadata": {},
   "source": [
    "## Take average or delete dates with problems, out of trend"
   ]
  },
  {
   "cell_type": "markdown",
   "metadata": {},
   "source": [
    "### Ecxclude the problematic data/dates\n",
    "or\n",
    "### Take average values where the problematic data is"
   ]
  },
  {
   "cell_type": "markdown",
   "metadata": {},
   "source": [
    "Cleanup  \n",
    "Remove dates which have drop  "
   ]
  },
  {
   "cell_type": "markdown",
   "metadata": {},
   "source": [
    "## ToDo: Remove outliers"
   ]
  },
  {
   "cell_type": "code",
   "execution_count": null,
   "metadata": {},
   "outputs": [],
   "source": []
  },
  {
   "cell_type": "markdown",
   "metadata": {},
   "source": [
    "# Model Training"
   ]
  },
  {
   "cell_type": "code",
   "execution_count": 72,
   "metadata": {},
   "outputs": [],
   "source": [
    "from sklearn.model_selection import train_test_split\n",
    "from sklearn.cross_decomposition import PLSRegression\n",
    "\n",
    "from sklearn.model_selection import cross_validate\n",
    "from sklearn.model_selection import cross_val_score\n",
    "from sklearn.model_selection import GridSearchCV\n",
    "\n",
    "from sklearn import metrics\n",
    "from sklearn.metrics import mean_squared_error\n",
    "from sklearn.metrics import r2_score\n",
    "\n",
    "from sklearn.pipeline import make_pipeline\n",
    "from sklearn.model_selection import GridSearchCV\n",
    "from sklearn.svm import SVR\n",
    "from sklearn.preprocessing import StandardScaler\n",
    "from sklearn.pipeline import Pipeline\n",
    "\n",
    "\n"
   ]
  },
  {
   "cell_type": "code",
   "execution_count": 73,
   "metadata": {},
   "outputs": [
    {
     "data": {
      "text/plain": [
       "<bound method NDFrame.head of       Plot_ID  Blue_Median_Value  Green_Median_Value  Red_Median_Value  \\\n",
       "0        1101           0.021905            0.051635          0.028147   \n",
       "1        1102           0.028108            0.055910          0.035009   \n",
       "2        1103           0.026808            0.057188          0.034401   \n",
       "3        1104           0.024750            0.048598          0.030623   \n",
       "4        1105           0.029282            0.059577          0.035984   \n",
       "...       ...                ...                 ...               ...   \n",
       "1339     1808           0.033788            0.062602          0.084690   \n",
       "1340     1809           0.025289            0.053867          0.065721   \n",
       "1341     1810           0.034920            0.067794          0.076857   \n",
       "1342     1811           0.032249            0.059999          0.080487   \n",
       "1343     1812           0.025546            0.045265          0.069339   \n",
       "\n",
       "      RedEdge_Median_Value  NIR_Median_Value  NDVI_Median_Value  \\\n",
       "0                 0.142298          0.465755           0.885390   \n",
       "1                 0.145149          0.458687           0.858816   \n",
       "2                 0.149912          0.468715           0.863303   \n",
       "3                 0.131659          0.455760           0.874434   \n",
       "4                 0.153574          0.473269           0.858489   \n",
       "...                    ...               ...                ...   \n",
       "1339              0.153530          0.250196           0.490993   \n",
       "1340              0.147120          0.267604           0.601344   \n",
       "1341              0.162150          0.280264           0.569404   \n",
       "1342              0.146993          0.236998           0.487644   \n",
       "1343              0.121298          0.217778           0.515266   \n",
       "\n",
       "      MTCI_Median_Value  EVI_Median_Value  GrainYield  Days2Heading  \\\n",
       "0              2.803551         -1.261239  453.658537            62   \n",
       "1              2.861652         -1.100831  439.024390            62   \n",
       "2              2.768063         -1.156627  409.756098            60   \n",
       "3              3.206094         -1.163352  474.796748            61   \n",
       "4              2.720606         -1.136098  411.382114            61   \n",
       "...                 ...               ...         ...           ...   \n",
       "1339           1.428498         -0.273772  429.268293            61   \n",
       "1340           1.501041         -0.383402  414.634146            60   \n",
       "1341           1.406162         -0.352456  460.162602            62   \n",
       "1342           1.384678         -0.262991  443.902439            62   \n",
       "1343           1.909100         -0.267007  375.609756            61   \n",
       "\n",
       "      Days2Maturity        Date  \n",
       "0               109  2020-07-01  \n",
       "1               113  2020-07-01  \n",
       "2               106  2020-07-01  \n",
       "3               110  2020-07-01  \n",
       "4               106  2020-07-01  \n",
       "...             ...         ...  \n",
       "1339            105  2020-07-30  \n",
       "1340            102  2020-07-30  \n",
       "1341            107  2020-07-30  \n",
       "1342            105  2020-07-30  \n",
       "1343            105  2020-07-30  \n",
       "\n",
       "[1344 rows x 13 columns]>"
      ]
     },
     "execution_count": 73,
     "metadata": {},
     "output_type": "execute_result"
    }
   ],
   "source": [
    "df = Robot_fixed_cols.copy()\n",
    "comments.append('Robot_fixed_cols dataset.')\n",
    "comments.append(str(Robot_fixed_cols.shape))\n",
    "comments.append('All data stacked on top of each other.')\n",
    "df.head"
   ]
  },
  {
   "cell_type": "code",
   "execution_count": 74,
   "metadata": {},
   "outputs": [
    {
     "name": "stdout",
     "output_type": "stream",
     "text": [
      "\"GrainYield\" column in df seems like the yield column as it contains the text \"GrainYield\". It is located at location 9\n",
      "\"Days2Heading\" column in df seems like the yield column as it contains the text \"Days2Heading\". It is located at location 10\n",
      "\"Days2Maturity\" column in df seems like the yield column as it contains the text \"Days2Maturity\". It is located at location 11\n"
     ]
    }
   ],
   "source": [
    "# ToDo: Add check for duplicate columns in the df\n",
    "\n",
    "# list_agg_df\n",
    "yield_cols = ['GrainYield', 'Days2Heading', 'Days2Maturity']\n",
    "id_cols_new = ['Plot_ID']\n",
    "\n",
    "# Counter for location of column in columns list\n",
    "loc = 0\n",
    "\n",
    "# Dict for saving the name and location of the yield column\n",
    "loc_yield_cols = {}\n",
    "\n",
    "for cols in df.columns.tolist():\n",
    "    for y_col in yield_cols:\n",
    "        if not cols.find(y_col):\n",
    "            loc_yield_cols[cols] = loc\n",
    "            print(f'\\\"{cols}\\\" column in df seems like the yield column as it contains the text \\\"{y_col}\\\". It is located at location {loc}')\n",
    "    loc += 1\n",
    "\n",
    "yield_cols_found = list(loc_yield_cols.keys())\n",
    "target_cols=yield_cols_found[0]\n",
    "\n",
    "# # Droping yield columns, i.e. target variables and Plot_ID column\n",
    "# Robot_2020_all.drop(columns = yield_cols_found+id_cols_new)\n",
    "# Robot_2020_all[yield_cols_found]\n",
    "\n",
    "\n"
   ]
  },
  {
   "cell_type": "code",
   "execution_count": 75,
   "metadata": {},
   "outputs": [
    {
     "name": "stdout",
     "output_type": "stream",
     "text": [
      "Wall time: 0 ns\n"
     ]
    }
   ],
   "source": [
    "%time\n",
    "\n",
    "#==============================================================================\n",
    "# Split dataframe into data and target\n",
    "#==============================================================================\n",
    "\n",
    "temp_X = df.drop(columns = yield_cols_found)\n",
    "y = df[target_cols]\n",
    "# y = df[target_cols].values.flatten()\n",
    "comments.append('Drop Days2Heading and Days2Maturity features.')\n",
    "comments.append('GrainYield Target.')"
   ]
  },
  {
   "cell_type": "markdown",
   "metadata": {},
   "source": [
    "# Converting dates to ordinal"
   ]
  },
  {
   "cell_type": "code",
   "execution_count": 76,
   "metadata": {},
   "outputs": [
    {
     "name": "stdout",
     "output_type": "stream",
     "text": [
      "<class 'pandas.core.frame.DataFrame'>\n",
      "RangeIndex: 1344 entries, 0 to 1343\n",
      "Data columns (total 10 columns):\n",
      " #   Column                Non-Null Count  Dtype  \n",
      "---  ------                --------------  -----  \n",
      " 0   Plot_ID               1344 non-null   int64  \n",
      " 1   Blue_Median_Value     1344 non-null   float64\n",
      " 2   Green_Median_Value    1344 non-null   float64\n",
      " 3   Red_Median_Value      1344 non-null   float64\n",
      " 4   RedEdge_Median_Value  1344 non-null   float64\n",
      " 5   NIR_Median_Value      1344 non-null   float64\n",
      " 6   NDVI_Median_Value     1344 non-null   float64\n",
      " 7   MTCI_Median_Value     1344 non-null   float64\n",
      " 8   EVI_Median_Value      1344 non-null   float64\n",
      " 9   Date                  1344 non-null   object \n",
      "dtypes: float64(8), int64(1), object(1)\n",
      "memory usage: 105.1+ KB\n",
      "The entries in Date column are objects, instead of datetime object. We need to convert them.\n"
     ]
    }
   ],
   "source": [
    "temp_X\n",
    "temp_X.info()\n",
    "print('The entries in Date column are objects, instead of datetime object. We need to convert them.')"
   ]
  },
  {
   "cell_type": "code",
   "execution_count": 77,
   "metadata": {},
   "outputs": [
    {
     "name": "stdout",
     "output_type": "stream",
     "text": [
      "<class 'pandas.core.frame.DataFrame'>\n",
      "RangeIndex: 1344 entries, 0 to 1343\n",
      "Data columns (total 10 columns):\n",
      " #   Column                Non-Null Count  Dtype         \n",
      "---  ------                --------------  -----         \n",
      " 0   Plot_ID               1344 non-null   int64         \n",
      " 1   Blue_Median_Value     1344 non-null   float64       \n",
      " 2   Green_Median_Value    1344 non-null   float64       \n",
      " 3   Red_Median_Value      1344 non-null   float64       \n",
      " 4   RedEdge_Median_Value  1344 non-null   float64       \n",
      " 5   NIR_Median_Value      1344 non-null   float64       \n",
      " 6   NDVI_Median_Value     1344 non-null   float64       \n",
      " 7   MTCI_Median_Value     1344 non-null   float64       \n",
      " 8   EVI_Median_Value      1344 non-null   float64       \n",
      " 9   Date                  1344 non-null   datetime64[ns]\n",
      "dtypes: datetime64[ns](1), float64(8), int64(1)\n",
      "memory usage: 105.1 KB\n"
     ]
    }
   ],
   "source": [
    "# Converting dates to datetime objects in pandas\n",
    "temp_X['Date'] = pd.to_datetime(temp_X['Date'])\n",
    "\n",
    "temp_X.info()"
   ]
  },
  {
   "cell_type": "code",
   "execution_count": 78,
   "metadata": {},
   "outputs": [
    {
     "data": {
      "text/plain": [
       "array(['2020-07-01T00:00:00.000000000', '2020-08-04T00:00:00.000000000',\n",
       "       '2020-07-07T00:00:00.000000000', '2020-08-12T00:00:00.000000000',\n",
       "       '2020-07-13T00:00:00.000000000', '2020-06-18T00:00:00.000000000',\n",
       "       '2020-07-20T00:00:00.000000000', '2020-07-22T00:00:00.000000000',\n",
       "       '2020-06-23T00:00:00.000000000', '2020-06-24T00:00:00.000000000',\n",
       "       '2020-06-25T00:00:00.000000000', '2020-07-27T00:00:00.000000000',\n",
       "       '2020-06-29T00:00:00.000000000', '2020-07-30T00:00:00.000000000'],\n",
       "      dtype='datetime64[ns]')"
      ]
     },
     "execution_count": 78,
     "metadata": {},
     "output_type": "execute_result"
    }
   ],
   "source": [
    "temp_X.Date.unique()"
   ]
  },
  {
   "cell_type": "code",
   "execution_count": 79,
   "metadata": {},
   "outputs": [
    {
     "data": {
      "text/html": [
       "<div>\n",
       "<style scoped>\n",
       "    .dataframe tbody tr th:only-of-type {\n",
       "        vertical-align: middle;\n",
       "    }\n",
       "\n",
       "    .dataframe tbody tr th {\n",
       "        vertical-align: top;\n",
       "    }\n",
       "\n",
       "    .dataframe thead th {\n",
       "        text-align: right;\n",
       "    }\n",
       "</style>\n",
       "<table border=\"1\" class=\"dataframe\">\n",
       "  <thead>\n",
       "    <tr style=\"text-align: right;\">\n",
       "      <th></th>\n",
       "      <th>Blue_Median_Value</th>\n",
       "      <th>Green_Median_Value</th>\n",
       "      <th>Red_Median_Value</th>\n",
       "      <th>RedEdge_Median_Value</th>\n",
       "      <th>NIR_Median_Value</th>\n",
       "      <th>NDVI_Median_Value</th>\n",
       "      <th>MTCI_Median_Value</th>\n",
       "      <th>EVI_Median_Value</th>\n",
       "      <th>Date</th>\n",
       "    </tr>\n",
       "  </thead>\n",
       "  <tbody>\n",
       "    <tr>\n",
       "      <th>0</th>\n",
       "      <td>0.021905</td>\n",
       "      <td>0.051635</td>\n",
       "      <td>0.028147</td>\n",
       "      <td>0.142298</td>\n",
       "      <td>0.465755</td>\n",
       "      <td>0.885390</td>\n",
       "      <td>2.803551</td>\n",
       "      <td>-1.261239</td>\n",
       "      <td>737607</td>\n",
       "    </tr>\n",
       "    <tr>\n",
       "      <th>1</th>\n",
       "      <td>0.028108</td>\n",
       "      <td>0.055910</td>\n",
       "      <td>0.035009</td>\n",
       "      <td>0.145149</td>\n",
       "      <td>0.458687</td>\n",
       "      <td>0.858816</td>\n",
       "      <td>2.861652</td>\n",
       "      <td>-1.100831</td>\n",
       "      <td>737607</td>\n",
       "    </tr>\n",
       "    <tr>\n",
       "      <th>2</th>\n",
       "      <td>0.026808</td>\n",
       "      <td>0.057188</td>\n",
       "      <td>0.034401</td>\n",
       "      <td>0.149912</td>\n",
       "      <td>0.468715</td>\n",
       "      <td>0.863303</td>\n",
       "      <td>2.768063</td>\n",
       "      <td>-1.156627</td>\n",
       "      <td>737607</td>\n",
       "    </tr>\n",
       "    <tr>\n",
       "      <th>3</th>\n",
       "      <td>0.024750</td>\n",
       "      <td>0.048598</td>\n",
       "      <td>0.030623</td>\n",
       "      <td>0.131659</td>\n",
       "      <td>0.455760</td>\n",
       "      <td>0.874434</td>\n",
       "      <td>3.206094</td>\n",
       "      <td>-1.163352</td>\n",
       "      <td>737607</td>\n",
       "    </tr>\n",
       "    <tr>\n",
       "      <th>4</th>\n",
       "      <td>0.029282</td>\n",
       "      <td>0.059577</td>\n",
       "      <td>0.035984</td>\n",
       "      <td>0.153574</td>\n",
       "      <td>0.473269</td>\n",
       "      <td>0.858489</td>\n",
       "      <td>2.720606</td>\n",
       "      <td>-1.136098</td>\n",
       "      <td>737607</td>\n",
       "    </tr>\n",
       "    <tr>\n",
       "      <th>...</th>\n",
       "      <td>...</td>\n",
       "      <td>...</td>\n",
       "      <td>...</td>\n",
       "      <td>...</td>\n",
       "      <td>...</td>\n",
       "      <td>...</td>\n",
       "      <td>...</td>\n",
       "      <td>...</td>\n",
       "      <td>...</td>\n",
       "    </tr>\n",
       "    <tr>\n",
       "      <th>1339</th>\n",
       "      <td>0.033788</td>\n",
       "      <td>0.062602</td>\n",
       "      <td>0.084690</td>\n",
       "      <td>0.153530</td>\n",
       "      <td>0.250196</td>\n",
       "      <td>0.490993</td>\n",
       "      <td>1.428498</td>\n",
       "      <td>-0.273772</td>\n",
       "      <td>737636</td>\n",
       "    </tr>\n",
       "    <tr>\n",
       "      <th>1340</th>\n",
       "      <td>0.025289</td>\n",
       "      <td>0.053867</td>\n",
       "      <td>0.065721</td>\n",
       "      <td>0.147120</td>\n",
       "      <td>0.267604</td>\n",
       "      <td>0.601344</td>\n",
       "      <td>1.501041</td>\n",
       "      <td>-0.383402</td>\n",
       "      <td>737636</td>\n",
       "    </tr>\n",
       "    <tr>\n",
       "      <th>1341</th>\n",
       "      <td>0.034920</td>\n",
       "      <td>0.067794</td>\n",
       "      <td>0.076857</td>\n",
       "      <td>0.162150</td>\n",
       "      <td>0.280264</td>\n",
       "      <td>0.569404</td>\n",
       "      <td>1.406162</td>\n",
       "      <td>-0.352456</td>\n",
       "      <td>737636</td>\n",
       "    </tr>\n",
       "    <tr>\n",
       "      <th>1342</th>\n",
       "      <td>0.032249</td>\n",
       "      <td>0.059999</td>\n",
       "      <td>0.080487</td>\n",
       "      <td>0.146993</td>\n",
       "      <td>0.236998</td>\n",
       "      <td>0.487644</td>\n",
       "      <td>1.384678</td>\n",
       "      <td>-0.262991</td>\n",
       "      <td>737636</td>\n",
       "    </tr>\n",
       "    <tr>\n",
       "      <th>1343</th>\n",
       "      <td>0.025546</td>\n",
       "      <td>0.045265</td>\n",
       "      <td>0.069339</td>\n",
       "      <td>0.121298</td>\n",
       "      <td>0.217778</td>\n",
       "      <td>0.515266</td>\n",
       "      <td>1.909100</td>\n",
       "      <td>-0.267007</td>\n",
       "      <td>737636</td>\n",
       "    </tr>\n",
       "  </tbody>\n",
       "</table>\n",
       "<p>1344 rows × 9 columns</p>\n",
       "</div>"
      ],
      "text/plain": [
       "      Blue_Median_Value  Green_Median_Value  Red_Median_Value  \\\n",
       "0              0.021905            0.051635          0.028147   \n",
       "1              0.028108            0.055910          0.035009   \n",
       "2              0.026808            0.057188          0.034401   \n",
       "3              0.024750            0.048598          0.030623   \n",
       "4              0.029282            0.059577          0.035984   \n",
       "...                 ...                 ...               ...   \n",
       "1339           0.033788            0.062602          0.084690   \n",
       "1340           0.025289            0.053867          0.065721   \n",
       "1341           0.034920            0.067794          0.076857   \n",
       "1342           0.032249            0.059999          0.080487   \n",
       "1343           0.025546            0.045265          0.069339   \n",
       "\n",
       "      RedEdge_Median_Value  NIR_Median_Value  NDVI_Median_Value  \\\n",
       "0                 0.142298          0.465755           0.885390   \n",
       "1                 0.145149          0.458687           0.858816   \n",
       "2                 0.149912          0.468715           0.863303   \n",
       "3                 0.131659          0.455760           0.874434   \n",
       "4                 0.153574          0.473269           0.858489   \n",
       "...                    ...               ...                ...   \n",
       "1339              0.153530          0.250196           0.490993   \n",
       "1340              0.147120          0.267604           0.601344   \n",
       "1341              0.162150          0.280264           0.569404   \n",
       "1342              0.146993          0.236998           0.487644   \n",
       "1343              0.121298          0.217778           0.515266   \n",
       "\n",
       "      MTCI_Median_Value  EVI_Median_Value    Date  \n",
       "0              2.803551         -1.261239  737607  \n",
       "1              2.861652         -1.100831  737607  \n",
       "2              2.768063         -1.156627  737607  \n",
       "3              3.206094         -1.163352  737607  \n",
       "4              2.720606         -1.136098  737607  \n",
       "...                 ...               ...     ...  \n",
       "1339           1.428498         -0.273772  737636  \n",
       "1340           1.501041         -0.383402  737636  \n",
       "1341           1.406162         -0.352456  737636  \n",
       "1342           1.384678         -0.262991  737636  \n",
       "1343           1.909100         -0.267007  737636  \n",
       "\n",
       "[1344 rows x 9 columns]"
      ]
     },
     "execution_count": 79,
     "metadata": {},
     "output_type": "execute_result"
    }
   ],
   "source": [
    "# Converting the entries in Date column to ordinal values\n",
    "# This is supposed to improve the predictions over the one hot encoding\n",
    "\n",
    "import time, datetime\n",
    "from datetime import datetime as dt\n",
    "\n",
    "X = temp_X.copy()\n",
    "\n",
    "X['Date'] = temp_X['Date'].apply(dt.toordinal)\n",
    "X.drop(columns=['Plot_ID'], inplace=True)\n",
    "comments.append('Converted dates to ordinal.')\n",
    "comments.append('Plot ID Dropped.')\n",
    "\n",
    "X"
   ]
  },
  {
   "cell_type": "code",
   "execution_count": 80,
   "metadata": {},
   "outputs": [
    {
     "data": {
      "text/html": [
       "<div>\n",
       "<style scoped>\n",
       "    .dataframe tbody tr th:only-of-type {\n",
       "        vertical-align: middle;\n",
       "    }\n",
       "\n",
       "    .dataframe tbody tr th {\n",
       "        vertical-align: top;\n",
       "    }\n",
       "\n",
       "    .dataframe thead th {\n",
       "        text-align: right;\n",
       "    }\n",
       "</style>\n",
       "<table border=\"1\" class=\"dataframe\">\n",
       "  <thead>\n",
       "    <tr style=\"text-align: right;\">\n",
       "      <th></th>\n",
       "      <th>Blue_Median_Value</th>\n",
       "      <th>Green_Median_Value</th>\n",
       "      <th>Red_Median_Value</th>\n",
       "      <th>RedEdge_Median_Value</th>\n",
       "      <th>NIR_Median_Value</th>\n",
       "      <th>NDVI_Median_Value</th>\n",
       "      <th>MTCI_Median_Value</th>\n",
       "      <th>EVI_Median_Value</th>\n",
       "      <th>Date</th>\n",
       "    </tr>\n",
       "  </thead>\n",
       "  <tbody>\n",
       "    <tr>\n",
       "      <th>0</th>\n",
       "      <td>0.021905</td>\n",
       "      <td>0.051635</td>\n",
       "      <td>0.028147</td>\n",
       "      <td>0.142298</td>\n",
       "      <td>0.465755</td>\n",
       "      <td>0.885390</td>\n",
       "      <td>2.803551</td>\n",
       "      <td>-1.261239</td>\n",
       "      <td>737607</td>\n",
       "    </tr>\n",
       "    <tr>\n",
       "      <th>1</th>\n",
       "      <td>0.028108</td>\n",
       "      <td>0.055910</td>\n",
       "      <td>0.035009</td>\n",
       "      <td>0.145149</td>\n",
       "      <td>0.458687</td>\n",
       "      <td>0.858816</td>\n",
       "      <td>2.861652</td>\n",
       "      <td>-1.100831</td>\n",
       "      <td>737607</td>\n",
       "    </tr>\n",
       "    <tr>\n",
       "      <th>2</th>\n",
       "      <td>0.026808</td>\n",
       "      <td>0.057188</td>\n",
       "      <td>0.034401</td>\n",
       "      <td>0.149912</td>\n",
       "      <td>0.468715</td>\n",
       "      <td>0.863303</td>\n",
       "      <td>2.768063</td>\n",
       "      <td>-1.156627</td>\n",
       "      <td>737607</td>\n",
       "    </tr>\n",
       "    <tr>\n",
       "      <th>3</th>\n",
       "      <td>0.024750</td>\n",
       "      <td>0.048598</td>\n",
       "      <td>0.030623</td>\n",
       "      <td>0.131659</td>\n",
       "      <td>0.455760</td>\n",
       "      <td>0.874434</td>\n",
       "      <td>3.206094</td>\n",
       "      <td>-1.163352</td>\n",
       "      <td>737607</td>\n",
       "    </tr>\n",
       "    <tr>\n",
       "      <th>4</th>\n",
       "      <td>0.029282</td>\n",
       "      <td>0.059577</td>\n",
       "      <td>0.035984</td>\n",
       "      <td>0.153574</td>\n",
       "      <td>0.473269</td>\n",
       "      <td>0.858489</td>\n",
       "      <td>2.720606</td>\n",
       "      <td>-1.136098</td>\n",
       "      <td>737607</td>\n",
       "    </tr>\n",
       "    <tr>\n",
       "      <th>...</th>\n",
       "      <td>...</td>\n",
       "      <td>...</td>\n",
       "      <td>...</td>\n",
       "      <td>...</td>\n",
       "      <td>...</td>\n",
       "      <td>...</td>\n",
       "      <td>...</td>\n",
       "      <td>...</td>\n",
       "      <td>...</td>\n",
       "    </tr>\n",
       "    <tr>\n",
       "      <th>1339</th>\n",
       "      <td>0.033788</td>\n",
       "      <td>0.062602</td>\n",
       "      <td>0.084690</td>\n",
       "      <td>0.153530</td>\n",
       "      <td>0.250196</td>\n",
       "      <td>0.490993</td>\n",
       "      <td>1.428498</td>\n",
       "      <td>-0.273772</td>\n",
       "      <td>737636</td>\n",
       "    </tr>\n",
       "    <tr>\n",
       "      <th>1340</th>\n",
       "      <td>0.025289</td>\n",
       "      <td>0.053867</td>\n",
       "      <td>0.065721</td>\n",
       "      <td>0.147120</td>\n",
       "      <td>0.267604</td>\n",
       "      <td>0.601344</td>\n",
       "      <td>1.501041</td>\n",
       "      <td>-0.383402</td>\n",
       "      <td>737636</td>\n",
       "    </tr>\n",
       "    <tr>\n",
       "      <th>1341</th>\n",
       "      <td>0.034920</td>\n",
       "      <td>0.067794</td>\n",
       "      <td>0.076857</td>\n",
       "      <td>0.162150</td>\n",
       "      <td>0.280264</td>\n",
       "      <td>0.569404</td>\n",
       "      <td>1.406162</td>\n",
       "      <td>-0.352456</td>\n",
       "      <td>737636</td>\n",
       "    </tr>\n",
       "    <tr>\n",
       "      <th>1342</th>\n",
       "      <td>0.032249</td>\n",
       "      <td>0.059999</td>\n",
       "      <td>0.080487</td>\n",
       "      <td>0.146993</td>\n",
       "      <td>0.236998</td>\n",
       "      <td>0.487644</td>\n",
       "      <td>1.384678</td>\n",
       "      <td>-0.262991</td>\n",
       "      <td>737636</td>\n",
       "    </tr>\n",
       "    <tr>\n",
       "      <th>1343</th>\n",
       "      <td>0.025546</td>\n",
       "      <td>0.045265</td>\n",
       "      <td>0.069339</td>\n",
       "      <td>0.121298</td>\n",
       "      <td>0.217778</td>\n",
       "      <td>0.515266</td>\n",
       "      <td>1.909100</td>\n",
       "      <td>-0.267007</td>\n",
       "      <td>737636</td>\n",
       "    </tr>\n",
       "  </tbody>\n",
       "</table>\n",
       "<p>1344 rows × 9 columns</p>\n",
       "</div>"
      ],
      "text/plain": [
       "      Blue_Median_Value  Green_Median_Value  Red_Median_Value  \\\n",
       "0              0.021905            0.051635          0.028147   \n",
       "1              0.028108            0.055910          0.035009   \n",
       "2              0.026808            0.057188          0.034401   \n",
       "3              0.024750            0.048598          0.030623   \n",
       "4              0.029282            0.059577          0.035984   \n",
       "...                 ...                 ...               ...   \n",
       "1339           0.033788            0.062602          0.084690   \n",
       "1340           0.025289            0.053867          0.065721   \n",
       "1341           0.034920            0.067794          0.076857   \n",
       "1342           0.032249            0.059999          0.080487   \n",
       "1343           0.025546            0.045265          0.069339   \n",
       "\n",
       "      RedEdge_Median_Value  NIR_Median_Value  NDVI_Median_Value  \\\n",
       "0                 0.142298          0.465755           0.885390   \n",
       "1                 0.145149          0.458687           0.858816   \n",
       "2                 0.149912          0.468715           0.863303   \n",
       "3                 0.131659          0.455760           0.874434   \n",
       "4                 0.153574          0.473269           0.858489   \n",
       "...                    ...               ...                ...   \n",
       "1339              0.153530          0.250196           0.490993   \n",
       "1340              0.147120          0.267604           0.601344   \n",
       "1341              0.162150          0.280264           0.569404   \n",
       "1342              0.146993          0.236998           0.487644   \n",
       "1343              0.121298          0.217778           0.515266   \n",
       "\n",
       "      MTCI_Median_Value  EVI_Median_Value    Date  \n",
       "0              2.803551         -1.261239  737607  \n",
       "1              2.861652         -1.100831  737607  \n",
       "2              2.768063         -1.156627  737607  \n",
       "3              3.206094         -1.163352  737607  \n",
       "4              2.720606         -1.136098  737607  \n",
       "...                 ...               ...     ...  \n",
       "1339           1.428498         -0.273772  737636  \n",
       "1340           1.501041         -0.383402  737636  \n",
       "1341           1.406162         -0.352456  737636  \n",
       "1342           1.384678         -0.262991  737636  \n",
       "1343           1.909100         -0.267007  737636  \n",
       "\n",
       "[1344 rows x 9 columns]"
      ]
     },
     "execution_count": 80,
     "metadata": {},
     "output_type": "execute_result"
    }
   ],
   "source": [
    "X"
   ]
  },
  {
   "cell_type": "code",
   "execution_count": 81,
   "metadata": {},
   "outputs": [
    {
     "name": "stdout",
     "output_type": "stream",
     "text": [
      "Wall time: 0 ns\n"
     ]
    }
   ],
   "source": [
    "%time\n",
    "\n",
    "from sklearn.model_selection import train_test_split\n",
    "\n",
    "#==============================================================================\n",
    "# Create separate train/test splits from Main data\n",
    "#==============================================================================\n",
    "X_train, X_test, y_train, y_test = train_test_split(X,\n",
    "                                                    y,\n",
    "                                                    test_size=0.3,\n",
    "                                                    random_state=5)\n",
    "X_train.reset_index(drop=True, inplace=True)\n",
    "X_test.reset_index(drop=True, inplace=True)\n",
    "comments.append('Test train split. test_Size=0.3, random_state=55')"
   ]
  },
  {
   "cell_type": "code",
   "execution_count": 82,
   "metadata": {},
   "outputs": [
    {
     "name": "stdout",
     "output_type": "stream",
     "text": [
      "Wall time: 0 ns\n"
     ]
    }
   ],
   "source": [
    "%time\n",
    "\n",
    "from sklearn.preprocessing import StandardScaler\n",
    "\n",
    "#==============================================================================\n",
    "# Scale features using StandardScaler class in scikit-learn \n",
    "#==============================================================================\n",
    "\n",
    "# Initialise standard scaler and compute mean and STD from training data\n",
    "sc = StandardScaler()\n",
    "sc.fit(X_train)\n",
    "\n",
    "# Transform (standardise) both X_train and X_test with mean and STD from\n",
    "# training data\n",
    "X_train_std = sc.transform(X_train)\n",
    "X_test_std = sc.transform(X_test)\n",
    "\n",
    "comments.append('Standard scaler fit transform.')"
   ]
  },
  {
   "cell_type": "code",
   "execution_count": 83,
   "metadata": {},
   "outputs": [
    {
     "data": {
      "text/html": [
       "<div>\n",
       "<style scoped>\n",
       "    .dataframe tbody tr th:only-of-type {\n",
       "        vertical-align: middle;\n",
       "    }\n",
       "\n",
       "    .dataframe tbody tr th {\n",
       "        vertical-align: top;\n",
       "    }\n",
       "\n",
       "    .dataframe thead th {\n",
       "        text-align: right;\n",
       "    }\n",
       "</style>\n",
       "<table border=\"1\" class=\"dataframe\">\n",
       "  <thead>\n",
       "    <tr style=\"text-align: right;\">\n",
       "      <th></th>\n",
       "      <th>Blue_Median_Value</th>\n",
       "      <th>Green_Median_Value</th>\n",
       "      <th>Red_Median_Value</th>\n",
       "      <th>RedEdge_Median_Value</th>\n",
       "      <th>NIR_Median_Value</th>\n",
       "      <th>NDVI_Median_Value</th>\n",
       "      <th>MTCI_Median_Value</th>\n",
       "      <th>EVI_Median_Value</th>\n",
       "      <th>Date</th>\n",
       "    </tr>\n",
       "  </thead>\n",
       "  <tbody>\n",
       "    <tr>\n",
       "      <th>0</th>\n",
       "      <td>0.021905</td>\n",
       "      <td>0.051635</td>\n",
       "      <td>0.028147</td>\n",
       "      <td>0.142298</td>\n",
       "      <td>0.465755</td>\n",
       "      <td>0.885390</td>\n",
       "      <td>2.803551</td>\n",
       "      <td>-1.261239</td>\n",
       "      <td>737607</td>\n",
       "    </tr>\n",
       "    <tr>\n",
       "      <th>1</th>\n",
       "      <td>0.028108</td>\n",
       "      <td>0.055910</td>\n",
       "      <td>0.035009</td>\n",
       "      <td>0.145149</td>\n",
       "      <td>0.458687</td>\n",
       "      <td>0.858816</td>\n",
       "      <td>2.861652</td>\n",
       "      <td>-1.100831</td>\n",
       "      <td>737607</td>\n",
       "    </tr>\n",
       "    <tr>\n",
       "      <th>2</th>\n",
       "      <td>0.026808</td>\n",
       "      <td>0.057188</td>\n",
       "      <td>0.034401</td>\n",
       "      <td>0.149912</td>\n",
       "      <td>0.468715</td>\n",
       "      <td>0.863303</td>\n",
       "      <td>2.768063</td>\n",
       "      <td>-1.156627</td>\n",
       "      <td>737607</td>\n",
       "    </tr>\n",
       "    <tr>\n",
       "      <th>3</th>\n",
       "      <td>0.024750</td>\n",
       "      <td>0.048598</td>\n",
       "      <td>0.030623</td>\n",
       "      <td>0.131659</td>\n",
       "      <td>0.455760</td>\n",
       "      <td>0.874434</td>\n",
       "      <td>3.206094</td>\n",
       "      <td>-1.163352</td>\n",
       "      <td>737607</td>\n",
       "    </tr>\n",
       "    <tr>\n",
       "      <th>4</th>\n",
       "      <td>0.029282</td>\n",
       "      <td>0.059577</td>\n",
       "      <td>0.035984</td>\n",
       "      <td>0.153574</td>\n",
       "      <td>0.473269</td>\n",
       "      <td>0.858489</td>\n",
       "      <td>2.720606</td>\n",
       "      <td>-1.136098</td>\n",
       "      <td>737607</td>\n",
       "    </tr>\n",
       "    <tr>\n",
       "      <th>...</th>\n",
       "      <td>...</td>\n",
       "      <td>...</td>\n",
       "      <td>...</td>\n",
       "      <td>...</td>\n",
       "      <td>...</td>\n",
       "      <td>...</td>\n",
       "      <td>...</td>\n",
       "      <td>...</td>\n",
       "      <td>...</td>\n",
       "    </tr>\n",
       "    <tr>\n",
       "      <th>1339</th>\n",
       "      <td>0.033788</td>\n",
       "      <td>0.062602</td>\n",
       "      <td>0.084690</td>\n",
       "      <td>0.153530</td>\n",
       "      <td>0.250196</td>\n",
       "      <td>0.490993</td>\n",
       "      <td>1.428498</td>\n",
       "      <td>-0.273772</td>\n",
       "      <td>737636</td>\n",
       "    </tr>\n",
       "    <tr>\n",
       "      <th>1340</th>\n",
       "      <td>0.025289</td>\n",
       "      <td>0.053867</td>\n",
       "      <td>0.065721</td>\n",
       "      <td>0.147120</td>\n",
       "      <td>0.267604</td>\n",
       "      <td>0.601344</td>\n",
       "      <td>1.501041</td>\n",
       "      <td>-0.383402</td>\n",
       "      <td>737636</td>\n",
       "    </tr>\n",
       "    <tr>\n",
       "      <th>1341</th>\n",
       "      <td>0.034920</td>\n",
       "      <td>0.067794</td>\n",
       "      <td>0.076857</td>\n",
       "      <td>0.162150</td>\n",
       "      <td>0.280264</td>\n",
       "      <td>0.569404</td>\n",
       "      <td>1.406162</td>\n",
       "      <td>-0.352456</td>\n",
       "      <td>737636</td>\n",
       "    </tr>\n",
       "    <tr>\n",
       "      <th>1342</th>\n",
       "      <td>0.032249</td>\n",
       "      <td>0.059999</td>\n",
       "      <td>0.080487</td>\n",
       "      <td>0.146993</td>\n",
       "      <td>0.236998</td>\n",
       "      <td>0.487644</td>\n",
       "      <td>1.384678</td>\n",
       "      <td>-0.262991</td>\n",
       "      <td>737636</td>\n",
       "    </tr>\n",
       "    <tr>\n",
       "      <th>1343</th>\n",
       "      <td>0.025546</td>\n",
       "      <td>0.045265</td>\n",
       "      <td>0.069339</td>\n",
       "      <td>0.121298</td>\n",
       "      <td>0.217778</td>\n",
       "      <td>0.515266</td>\n",
       "      <td>1.909100</td>\n",
       "      <td>-0.267007</td>\n",
       "      <td>737636</td>\n",
       "    </tr>\n",
       "  </tbody>\n",
       "</table>\n",
       "<p>1344 rows × 9 columns</p>\n",
       "</div>"
      ],
      "text/plain": [
       "      Blue_Median_Value  Green_Median_Value  Red_Median_Value  \\\n",
       "0              0.021905            0.051635          0.028147   \n",
       "1              0.028108            0.055910          0.035009   \n",
       "2              0.026808            0.057188          0.034401   \n",
       "3              0.024750            0.048598          0.030623   \n",
       "4              0.029282            0.059577          0.035984   \n",
       "...                 ...                 ...               ...   \n",
       "1339           0.033788            0.062602          0.084690   \n",
       "1340           0.025289            0.053867          0.065721   \n",
       "1341           0.034920            0.067794          0.076857   \n",
       "1342           0.032249            0.059999          0.080487   \n",
       "1343           0.025546            0.045265          0.069339   \n",
       "\n",
       "      RedEdge_Median_Value  NIR_Median_Value  NDVI_Median_Value  \\\n",
       "0                 0.142298          0.465755           0.885390   \n",
       "1                 0.145149          0.458687           0.858816   \n",
       "2                 0.149912          0.468715           0.863303   \n",
       "3                 0.131659          0.455760           0.874434   \n",
       "4                 0.153574          0.473269           0.858489   \n",
       "...                    ...               ...                ...   \n",
       "1339              0.153530          0.250196           0.490993   \n",
       "1340              0.147120          0.267604           0.601344   \n",
       "1341              0.162150          0.280264           0.569404   \n",
       "1342              0.146993          0.236998           0.487644   \n",
       "1343              0.121298          0.217778           0.515266   \n",
       "\n",
       "      MTCI_Median_Value  EVI_Median_Value    Date  \n",
       "0              2.803551         -1.261239  737607  \n",
       "1              2.861652         -1.100831  737607  \n",
       "2              2.768063         -1.156627  737607  \n",
       "3              3.206094         -1.163352  737607  \n",
       "4              2.720606         -1.136098  737607  \n",
       "...                 ...               ...     ...  \n",
       "1339           1.428498         -0.273772  737636  \n",
       "1340           1.501041         -0.383402  737636  \n",
       "1341           1.406162         -0.352456  737636  \n",
       "1342           1.384678         -0.262991  737636  \n",
       "1343           1.909100         -0.267007  737636  \n",
       "\n",
       "[1344 rows x 9 columns]"
      ]
     },
     "execution_count": 83,
     "metadata": {},
     "output_type": "execute_result"
    }
   ],
   "source": [
    "X"
   ]
  },
  {
   "cell_type": "code",
   "execution_count": 84,
   "metadata": {},
   "outputs": [
    {
     "name": "stdout",
     "output_type": "stream",
     "text": [
      "Wall time: 0 ns\n"
     ]
    }
   ],
   "source": [
    "%time\n",
    "\n",
    "#==============================================================================\n",
    "# Defining the function to vaiidate the model with the test data and \n",
    "# get the results from regression evaluation metrices in sklearn\n",
    "#==============================================================================\n",
    "pred = []\n",
    "acc = []\n",
    "def test_data_regression(model):\n",
    "    pred = []\n",
    "    accuracy = {}\n",
    "    #==============================================================================\n",
    "    # Make predictions for test set\n",
    "    #==============================================================================\n",
    "\n",
    "    # Predict classes for samples in test set\n",
    "    y_pred = model.predict(X_test)\n",
    "    \n",
    "    #==============================================================================\n",
    "    # Compute performance\n",
    "    #==============================================================================\n",
    "    \n",
    "    from sklearn.metrics import mean_squared_error\n",
    "    mse = mean_squared_error(y_test, y_pred, squared=True)\n",
    "    print(mse, ' mean_squared_error')\n",
    "#     accuracy.append(rmse)\n",
    "    accuracy['MSE'] = mse\n",
    "    \n",
    "    rmse = mean_squared_error(y_test, y_pred, squared=False)\n",
    "    print(rmse, ' root_mean_squared_error')\n",
    "#     accuracy.append(rmse)\n",
    "    accuracy['RMSE'] = rmse\n",
    "\n",
    "    from sklearn.metrics import r2_score\n",
    "    r2 = r2_score(y_test, y_pred)\n",
    "    print(r2, ' r2_score')\n",
    "    accuracy['R2 Score'] = r2\n",
    "\n",
    "    acc.append(accuracy)\n",
    "    # Print accuracy computed from predictions on the test set\n",
    "    pp = pprint.PrettyPrinter(indent=4, width=80, depth=None, stream=None, compact=True, sort_dicts=False)\n",
    "    pp.pprint(accuracy)\n",
    "    \n",
    "    #==============================================================================\n",
    "    # Append Results\n",
    "    #==============================================================================\n",
    "    results = []\n",
    "    import datetime\n",
    "    datetime = datetime.datetime.now()\n",
    "    results.append(np.concatenate((np.array((model, mse, rmse, r2, accuracy, datetime), dtype=object), np.array(comments))))\n",
    "#     results.extend(np.array(comments)) \n",
    "    print(results)\n",
    "    pd.DataFrame(np.asarray(results)).to_csv('results.csv',\n",
    "                                             mode='a',\n",
    "                                             header=None)\n",
    "    pred.extend(y_pred)"
   ]
  },
  {
   "cell_type": "code",
   "execution_count": 85,
   "metadata": {},
   "outputs": [
    {
     "name": "stdout",
     "output_type": "stream",
     "text": [
      "Wall time: 0 ns\n",
      "4655.863348382419  mean_squared_error\n",
      "68.23388709711926  root_mean_squared_error\n",
      "0.5692016100143511  r2_score\n",
      "{   'MSE': 4655.863348382419,\n",
      "    'RMSE': 68.23388709711926,\n",
      "    'R2 Score': 0.5692016100143511}\n",
      "[array([RandomForestRegressor(max_depth=250, min_samples_split=5, n_estimators=1000,\n",
      "                      n_jobs=-1, random_state=0),\n",
      "       4655.863348382419, 68.23388709711926, 0.5692016100143511,\n",
      "       {'MSE': 4655.863348382419, 'RMSE': 68.23388709711926, 'R2 Score': 0.5692016100143511},\n",
      "       datetime.datetime(2021, 4, 30, 18, 9, 28, 770208),\n",
      "       'Median columns only', 'EVI included.',\n",
      "       'Robot_fixed_cols dataset.', '(1344, 13)',\n",
      "       'All data stacked on top of each other.',\n",
      "       'Drop Days2Heading and Days2Maturity features.',\n",
      "       'GrainYield Target.', 'Converted dates to ordinal.',\n",
      "       'Plot ID Dropped.',\n",
      "       'Test train split. test_Size=0.3, random_state=55',\n",
      "       'Standard scaler fit transform.'], dtype=object)]\n"
     ]
    }
   ],
   "source": [
    "%time\n",
    "\n",
    "from sklearn.ensemble import RandomForestRegressor\n",
    "\n",
    "model = RandomForestRegressor(n_estimators = 1000, max_depth=250, min_samples_split=5, random_state=0, n_jobs = -1)\n",
    "# model = RandomForestRegressor(n_estimators = 50, max_depth=100, min_samples_split=400, random_state=0, n_jobs = -1)\n",
    "model.fit(X_train, y_train)\n",
    "\n",
    "test_data_regression(model)"
   ]
  },
  {
   "cell_type": "code",
   "execution_count": 86,
   "metadata": {},
   "outputs": [
    {
     "data": {
      "text/html": [
       "<div>\n",
       "<style scoped>\n",
       "    .dataframe tbody tr th:only-of-type {\n",
       "        vertical-align: middle;\n",
       "    }\n",
       "\n",
       "    .dataframe tbody tr th {\n",
       "        vertical-align: top;\n",
       "    }\n",
       "\n",
       "    .dataframe thead th {\n",
       "        text-align: right;\n",
       "    }\n",
       "</style>\n",
       "<table border=\"1\" class=\"dataframe\">\n",
       "  <thead>\n",
       "    <tr style=\"text-align: right;\">\n",
       "      <th></th>\n",
       "      <th>Blue_Median_Value</th>\n",
       "      <th>Green_Median_Value</th>\n",
       "      <th>Red_Median_Value</th>\n",
       "      <th>RedEdge_Median_Value</th>\n",
       "      <th>NIR_Median_Value</th>\n",
       "      <th>NDVI_Median_Value</th>\n",
       "      <th>MTCI_Median_Value</th>\n",
       "      <th>EVI_Median_Value</th>\n",
       "      <th>Date</th>\n",
       "    </tr>\n",
       "  </thead>\n",
       "  <tbody>\n",
       "    <tr>\n",
       "      <th>0</th>\n",
       "      <td>0.021905</td>\n",
       "      <td>0.051635</td>\n",
       "      <td>0.028147</td>\n",
       "      <td>0.142298</td>\n",
       "      <td>0.465755</td>\n",
       "      <td>0.885390</td>\n",
       "      <td>2.803551</td>\n",
       "      <td>-1.261239</td>\n",
       "      <td>737607</td>\n",
       "    </tr>\n",
       "    <tr>\n",
       "      <th>1</th>\n",
       "      <td>0.028108</td>\n",
       "      <td>0.055910</td>\n",
       "      <td>0.035009</td>\n",
       "      <td>0.145149</td>\n",
       "      <td>0.458687</td>\n",
       "      <td>0.858816</td>\n",
       "      <td>2.861652</td>\n",
       "      <td>-1.100831</td>\n",
       "      <td>737607</td>\n",
       "    </tr>\n",
       "    <tr>\n",
       "      <th>2</th>\n",
       "      <td>0.026808</td>\n",
       "      <td>0.057188</td>\n",
       "      <td>0.034401</td>\n",
       "      <td>0.149912</td>\n",
       "      <td>0.468715</td>\n",
       "      <td>0.863303</td>\n",
       "      <td>2.768063</td>\n",
       "      <td>-1.156627</td>\n",
       "      <td>737607</td>\n",
       "    </tr>\n",
       "    <tr>\n",
       "      <th>3</th>\n",
       "      <td>0.024750</td>\n",
       "      <td>0.048598</td>\n",
       "      <td>0.030623</td>\n",
       "      <td>0.131659</td>\n",
       "      <td>0.455760</td>\n",
       "      <td>0.874434</td>\n",
       "      <td>3.206094</td>\n",
       "      <td>-1.163352</td>\n",
       "      <td>737607</td>\n",
       "    </tr>\n",
       "    <tr>\n",
       "      <th>4</th>\n",
       "      <td>0.029282</td>\n",
       "      <td>0.059577</td>\n",
       "      <td>0.035984</td>\n",
       "      <td>0.153574</td>\n",
       "      <td>0.473269</td>\n",
       "      <td>0.858489</td>\n",
       "      <td>2.720606</td>\n",
       "      <td>-1.136098</td>\n",
       "      <td>737607</td>\n",
       "    </tr>\n",
       "    <tr>\n",
       "      <th>...</th>\n",
       "      <td>...</td>\n",
       "      <td>...</td>\n",
       "      <td>...</td>\n",
       "      <td>...</td>\n",
       "      <td>...</td>\n",
       "      <td>...</td>\n",
       "      <td>...</td>\n",
       "      <td>...</td>\n",
       "      <td>...</td>\n",
       "    </tr>\n",
       "    <tr>\n",
       "      <th>1339</th>\n",
       "      <td>0.033788</td>\n",
       "      <td>0.062602</td>\n",
       "      <td>0.084690</td>\n",
       "      <td>0.153530</td>\n",
       "      <td>0.250196</td>\n",
       "      <td>0.490993</td>\n",
       "      <td>1.428498</td>\n",
       "      <td>-0.273772</td>\n",
       "      <td>737636</td>\n",
       "    </tr>\n",
       "    <tr>\n",
       "      <th>1340</th>\n",
       "      <td>0.025289</td>\n",
       "      <td>0.053867</td>\n",
       "      <td>0.065721</td>\n",
       "      <td>0.147120</td>\n",
       "      <td>0.267604</td>\n",
       "      <td>0.601344</td>\n",
       "      <td>1.501041</td>\n",
       "      <td>-0.383402</td>\n",
       "      <td>737636</td>\n",
       "    </tr>\n",
       "    <tr>\n",
       "      <th>1341</th>\n",
       "      <td>0.034920</td>\n",
       "      <td>0.067794</td>\n",
       "      <td>0.076857</td>\n",
       "      <td>0.162150</td>\n",
       "      <td>0.280264</td>\n",
       "      <td>0.569404</td>\n",
       "      <td>1.406162</td>\n",
       "      <td>-0.352456</td>\n",
       "      <td>737636</td>\n",
       "    </tr>\n",
       "    <tr>\n",
       "      <th>1342</th>\n",
       "      <td>0.032249</td>\n",
       "      <td>0.059999</td>\n",
       "      <td>0.080487</td>\n",
       "      <td>0.146993</td>\n",
       "      <td>0.236998</td>\n",
       "      <td>0.487644</td>\n",
       "      <td>1.384678</td>\n",
       "      <td>-0.262991</td>\n",
       "      <td>737636</td>\n",
       "    </tr>\n",
       "    <tr>\n",
       "      <th>1343</th>\n",
       "      <td>0.025546</td>\n",
       "      <td>0.045265</td>\n",
       "      <td>0.069339</td>\n",
       "      <td>0.121298</td>\n",
       "      <td>0.217778</td>\n",
       "      <td>0.515266</td>\n",
       "      <td>1.909100</td>\n",
       "      <td>-0.267007</td>\n",
       "      <td>737636</td>\n",
       "    </tr>\n",
       "  </tbody>\n",
       "</table>\n",
       "<p>1344 rows × 9 columns</p>\n",
       "</div>"
      ],
      "text/plain": [
       "      Blue_Median_Value  Green_Median_Value  Red_Median_Value  \\\n",
       "0              0.021905            0.051635          0.028147   \n",
       "1              0.028108            0.055910          0.035009   \n",
       "2              0.026808            0.057188          0.034401   \n",
       "3              0.024750            0.048598          0.030623   \n",
       "4              0.029282            0.059577          0.035984   \n",
       "...                 ...                 ...               ...   \n",
       "1339           0.033788            0.062602          0.084690   \n",
       "1340           0.025289            0.053867          0.065721   \n",
       "1341           0.034920            0.067794          0.076857   \n",
       "1342           0.032249            0.059999          0.080487   \n",
       "1343           0.025546            0.045265          0.069339   \n",
       "\n",
       "      RedEdge_Median_Value  NIR_Median_Value  NDVI_Median_Value  \\\n",
       "0                 0.142298          0.465755           0.885390   \n",
       "1                 0.145149          0.458687           0.858816   \n",
       "2                 0.149912          0.468715           0.863303   \n",
       "3                 0.131659          0.455760           0.874434   \n",
       "4                 0.153574          0.473269           0.858489   \n",
       "...                    ...               ...                ...   \n",
       "1339              0.153530          0.250196           0.490993   \n",
       "1340              0.147120          0.267604           0.601344   \n",
       "1341              0.162150          0.280264           0.569404   \n",
       "1342              0.146993          0.236998           0.487644   \n",
       "1343              0.121298          0.217778           0.515266   \n",
       "\n",
       "      MTCI_Median_Value  EVI_Median_Value    Date  \n",
       "0              2.803551         -1.261239  737607  \n",
       "1              2.861652         -1.100831  737607  \n",
       "2              2.768063         -1.156627  737607  \n",
       "3              3.206094         -1.163352  737607  \n",
       "4              2.720606         -1.136098  737607  \n",
       "...                 ...               ...     ...  \n",
       "1339           1.428498         -0.273772  737636  \n",
       "1340           1.501041         -0.383402  737636  \n",
       "1341           1.406162         -0.352456  737636  \n",
       "1342           1.384678         -0.262991  737636  \n",
       "1343           1.909100         -0.267007  737636  \n",
       "\n",
       "[1344 rows x 9 columns]"
      ]
     },
     "execution_count": 86,
     "metadata": {},
     "output_type": "execute_result"
    }
   ],
   "source": [
    "X"
   ]
  },
  {
   "cell_type": "code",
   "execution_count": 87,
   "metadata": {},
   "outputs": [
    {
     "data": {
      "image/png": "[encoded data removed]",
      "text/plain": [
       "<Figure size 432x288 with 1 Axes>"
      ]
     },
     "metadata": {
      "needs_background": "light"
     },
     "output_type": "display_data"
    }
   ],
   "source": [
    "features = X.columns\n",
    "importances = model.feature_importances_\n",
    "indices = np.argsort(importances)\n",
    "\n",
    "plt.title('Feature Importances')\n",
    "plt.barh(range(len(indices)), importances[indices], color='b', align='center')\n",
    "plt.yticks(range(len(indices)), [features[i] for i in indices])\n",
    "plt.xlabel('Relative Importance')\n",
    "plt.show()"
   ]
  },
  {
   "cell_type": "markdown",
   "metadata": {},
   "source": [
    "# Grid and Random Search"
   ]
  },
  {
   "cell_type": "code",
   "execution_count": 88,
   "metadata": {},
   "outputs": [],
   "source": [
    "from sklearn.decomposition import PCA\n",
    "from sklearn.model_selection import GridSearchCV\n",
    "from sklearn.model_selection import RandomizedSearchCV\n",
    "\n",
    "from sklearn.svm import SVR\n",
    "from sklearn.preprocessing import StandardScaler\n",
    "\n",
    "# Define a pipeline to search for the best combination of PCA truncation\n",
    "# and classifier regularization.\n",
    "\n",
    "pca = PCA()\n",
    "sc = StandardScaler()\n",
    "# model = LogisticRegression(max_iter=10000, tol=0.1)\n",
    "model = RandomForestRegressor()\n",
    "\n",
    "model =  SVR()\n",
    "pipe = Pipeline(steps=[('sc', sc), ('pca', pca), ('model', model)])\n",
    "\n",
    "\n",
    "# Define the pipeline (scaling and classification method):\n",
    "\n",
    "# Define ranges of parameter values:\n",
    "param_range  = [0.0001, 0.001, 0.01, 0.1, 1.0, 10.0, 100.0, 1000.0, 10000.0, 100000.0, 1000000.0] # For regularization parameter C.\n",
    "param_range2 = [0.0000001,0.000001,0.00001, 0.0001, 0.001, 0.01, 0.1, 1.0, 10.0, 100.0]         # For scaling parameter gamma og rbf-kernel.\n",
    "param_range3 = [x for x in range(50)]\n",
    "param_range4 = [x for x in range(10)]\n",
    "param_range5 = [x for x in range(100)]\n",
    "# , 'rbf', 'sigmoid'\n",
    "# 'linear', 'poly'\n",
    "param_grid   =  [{'model__kernel' : (['sigmoid']),'model__C' : [1,5,10],\n",
    "                 'model__degree' : [3,8],'model__coef0' : [0.01,10,0.5],'model__gamma' : ('auto','scale')}]\n",
    "\n",
    "\n",
    "# param_grid   = [{'randomforestregressor__max_depth': param_range3,\n",
    "#                  'randomforestregressor__min_samples_split': param_range5,\n",
    "#                  'randomforestregressor__n_estimators': param_range4,\n",
    "#                  'pca__n_components': [5,6,7,8,9,10,11,12,13]}]\n",
    "\n",
    "estimator = pipe\n",
    "# score = 'neg_mean_squared_error'\n",
    "score = 'r2'\n",
    "cv = 3\n",
    "\n",
    "# pipe.get_params()"
   ]
  },
  {
   "cell_type": "markdown",
   "metadata": {},
   "source": [
    "## Grid and Random search functions"
   ]
  },
  {
   "cell_type": "code",
   "execution_count": 89,
   "metadata": {},
   "outputs": [],
   "source": [
    "def grid(Xtrain=X_train,\n",
    "         ytrain=y_train,\n",
    "         estimator=pipe,\n",
    "         params_grid=param_grid,\n",
    "         scores=score,\n",
    "         cvs=cv,\n",
    "         cores=-1,\n",
    "         verb=5):\n",
    "\n",
    "    t1 = time.time()\n",
    "\n",
    "    gs = GridSearchCV(estimator=estimator,\n",
    "                      param_grid=params_grid,\n",
    "                      scoring=scores,\n",
    "                      cv=cvs,\n",
    "                      n_jobs=cores,\n",
    "                      verbose=verb)\n",
    "\n",
    "    gs = gs.fit(Xtrain, ytrain)\n",
    "    print(gs.best_score_)\n",
    "    print(gs.best_params_)\n",
    "    \n",
    "    t2 = time.time()\n",
    "\n",
    "    # Saving results to csv file\n",
    "    results = []\n",
    "    import datetime\n",
    "    datetime = datetime.datetime.now()\n",
    "    results.append(np.array((gs.best_estimator_, gs, score, gs.best_score_, gs.best_params_, \n",
    "                             (t2 - t1) / 60, datetime), dtype=object), np.array(comments))\n",
    "\n",
    "    pd.DataFrame(np.asarray(results)).to_csv('results.csv',\n",
    "                                             mode='a',\n",
    "                                             header=None)\n",
    "\n",
    "    print('Total time: ', (t2 - t1) / 60, 'minutes')"
   ]
  },
  {
   "cell_type": "code",
   "execution_count": 90,
   "metadata": {
    "run_control": {
     "marked": true
    }
   },
   "outputs": [],
   "source": [
    "def rand_search(Xtrain=X_train,\n",
    "                ytrain=y_train,\n",
    "                estimator=pipe,\n",
    "                params_grid=param_grid,\n",
    "                scores=score,\n",
    "                cvs=cv,\n",
    "                n_iter_search=25,\n",
    "                cores=-1,\n",
    "                verb=5):\n",
    "\n",
    "    t1 = time.time()\n",
    "\n",
    "    random_search = RandomizedSearchCV(estimator,\n",
    "                                       param_distributions=params_grid,\n",
    "                                       n_iter=n_iter_search,\n",
    "                                       scoring=scores,\n",
    "                                       cv=cvs,\n",
    "                                       verbose=verb)\n",
    "\n",
    "    random_search = random_search.fit(Xtrain, ytrain)\n",
    "    print(random_search.best_score_)\n",
    "    print(random_search.best_params_)\n",
    "\n",
    "    t2 = time.time()\n",
    "    \n",
    "    # Saving results to csv file\n",
    "    results = []\n",
    "    import datetime\n",
    "    datetime = datetime.datetime.now()\n",
    "    results.append(np.array((gs.best_estimator_, gs, score, gs.best_score_, gs.best_params_, \n",
    "                             (t2 - t1) / 60, datetime), dtype=object))\n",
    "\n",
    "    pd.DataFrame(np.asarray(results)).to_csv('results.csv',\n",
    "                                             mode='a',\n",
    "                                             header=None)\n",
    "\n",
    "\n",
    "    print('Total time: ', (t2 - t1) / 60, 'minutes')"
   ]
  },
  {
   "cell_type": "markdown",
   "metadata": {},
   "source": [
    "## Running Search"
   ]
  },
  {
   "cell_type": "code",
   "execution_count": 27,
   "metadata": {},
   "outputs": [],
   "source": [
    "# , 'rbf', 'sigmoid'\n",
    "# 'linear', 'poly'\n",
    "param_grid   =  [{'model__kernel' : ('linear','poly'),'model__C' : [x for x in range(30,35)],\n",
    "                 'model__degree' : [x for x in range(1,8)],'model__coef0' : [x/100 for x in range(50,63,5)],\n",
    "                  'model__gamma' : ('auto','scale'),\n",
    "                 'pca__n_components': [5,6,7,8,9,10,11,12,13]}]\n",
    "\n",
    "\n",
    "# param_grid   = [{'randomforestregressor__max_depth': param_range3,\n",
    "#                  'randomforestregressor__min_samples_split': param_range5,\n",
    "#                  'randomforestregressor__n_estimators': param_range4,\n",
    "#                  'pca__n_components': [5,6,7,8,9,10,11,12,13]}]\n",
    "\n",
    "estimator = pipe\n",
    "# score = 'neg_mean_squared_error'\n",
    "score = 'r2'\n",
    "cv = 10"
   ]
  },
  {
   "cell_type": "code",
   "execution_count": 28,
   "metadata": {},
   "outputs": [],
   "source": [
    "# grid(Xtrain = X_train_std,\n",
    "#             ytrain = y_train_std,\n",
    "#             estimator = pipe,\n",
    "#             params_grid = param_grid,\n",
    "#             scores=score,\n",
    "#             cvs = cv,\n",
    "#             cores=6,\n",
    "#             verb=15)"
   ]
  },
  {
   "cell_type": "code",
   "execution_count": null,
   "metadata": {},
   "outputs": [],
   "source": [
    "# Define a pipeline to search for the best combination of PCA truncation\n",
    "# and classifier regularization.\n",
    "\n",
    "pca = PCA()\n",
    "sc = StandardScaler()\n",
    "# Define the pipeline (scaling and classification method):\n",
    "\n",
    "# Define ranges of parameter values:\n",
    "param_range  = [0.0001, 0.001, 0.01, 0.1, 1.0, 10.0, 100.0, 1000.0, 10000.0, 100000.0, 1000000.0] # For regularization parameter C.\n",
    "param_range2 = [0.0000001,0.000001,0.00001, 0.0001, 0.001, 0.01, 0.1, 1.0, 10.0, 100.0]         # For scaling parameter gamma og rbf-kernel.\n",
    "param_range3 = [x for x in range(50)]\n",
    "param_range4 = [x for x in range(10)]\n",
    "param_range5 = [x for x in range(100)]\n",
    "# , 'rbf', 'sigmoid'\n",
    "# 'linear', 'poly'\n",
    "param_grid   =  [{'model__kernel' : (['sigmoid']),'model__C' : [1,5,10],\n",
    "                 'model__degree' : [3,8],'model__coef0' : [0.01,10,0.5],'model__gamma' : ('auto','scale')}]\n",
    "\n",
    "\n",
    "# param_grid   = [{'randomforestregressor__max_depth': param_range3,\n",
    "#                  'randomforestregressor__min_samples_split': param_range5,\n",
    "#                  'randomforestregressor__n_estimators': param_range4,\n",
    "#                  'pca__n_components': [5,6,7,8,9,10,11,12,13]}]\n"
   ]
  },
  {
   "cell_type": "code",
   "execution_count": 43,
   "metadata": {},
   "outputs": [
    {
     "data": {
      "text/plain": [
       "(1344, 9)"
      ]
     },
     "execution_count": 43,
     "metadata": {},
     "output_type": "execute_result"
    }
   ],
   "source": [
    "X.shape"
   ]
  },
  {
   "cell_type": "markdown",
   "metadata": {},
   "source": [
    "# Ridge"
   ]
  },
  {
   "cell_type": "code",
   "execution_count": 45,
   "metadata": {
    "scrolled": false
   },
   "outputs": [
    {
     "name": "stdout",
     "output_type": "stream",
     "text": [
      "Fitting 10 folds for each of 63 candidates, totalling 630 fits\n"
     ]
    },
    {
     "name": "stderr",
     "output_type": "stream",
     "text": [
      "[Parallel(n_jobs=6)]: Using backend LokyBackend with 6 concurrent workers.\n",
      "[Parallel(n_jobs=6)]: Done   6 tasks      | elapsed:    0.0s\n",
      "[Parallel(n_jobs=6)]: Done 372 tasks      | elapsed:    0.4s\n",
      "[Parallel(n_jobs=6)]: Done 630 out of 630 | elapsed:    0.7s finished\n",
      "[Parallel(n_jobs=6)]: Using backend LokyBackend with 6 concurrent workers.\n",
      "[Parallel(n_jobs=6)]: Done   6 tasks      | elapsed:    0.0s\n"
     ]
    },
    {
     "name": "stdout",
     "output_type": "stream",
     "text": [
      "-67.198966244721\n",
      "{'model__alpha': 1.0, 'model__solver': 'lsqr'}\n",
      "Total time:  0.01333242654800415 minutes\n",
      "neg_mean_absolute_error\n",
      "Fitting 10 folds for each of 63 candidates, totalling 630 fits\n"
     ]
    },
    {
     "name": "stderr",
     "output_type": "stream",
     "text": [
      "[Parallel(n_jobs=6)]: Done 372 tasks      | elapsed:    0.5s\n",
      "[Parallel(n_jobs=6)]: Done 630 out of 630 | elapsed:    0.7s finished\n",
      "[Parallel(n_jobs=6)]: Using backend LokyBackend with 6 concurrent workers.\n",
      "[Parallel(n_jobs=6)]: Done   6 tasks      | elapsed:    0.0s\n"
     ]
    },
    {
     "name": "stdout",
     "output_type": "stream",
     "text": [
      "-6655.268708760681\n",
      "{'model__alpha': 1.0, 'model__solver': 'lsqr'}\n",
      "Total time:  0.014162854353586832 minutes\n",
      "neg_mean_squared_error\n",
      "Fitting 10 folds for each of 63 candidates, totalling 630 fits\n"
     ]
    },
    {
     "name": "stderr",
     "output_type": "stream",
     "text": [
      "[Parallel(n_jobs=6)]: Done 372 tasks      | elapsed:    0.6s\n"
     ]
    },
    {
     "name": "stdout",
     "output_type": "stream",
     "text": [
      "0.3116912451929214\n",
      "{'model__alpha': 1.0, 'model__solver': 'lsqr'}\n",
      "Total time:  0.01611698865890503 minutes\n",
      "r2\n"
     ]
    },
    {
     "name": "stderr",
     "output_type": "stream",
     "text": [
      "[Parallel(n_jobs=6)]: Done 630 out of 630 | elapsed:    0.9s finished\n"
     ]
    }
   ],
   "source": [
    "from sklearn.linear_model import Ridge\n",
    "\n",
    "model = Ridge()\n",
    "\n",
    "pipe = Pipeline(steps=[('sc', sc), ('model', model)])\n",
    "\n",
    "param_grid   =  [{'model__alpha' : [x*1. for x in range(1,10)],\n",
    "                  'model__solver' : ['auto', 'svd', 'cholesky', 'lsqr', 'sparse_cg', 'sag', 'saga']}]\n",
    "pipe.get_params()\n",
    "\n",
    "estimator = pipe\n",
    "\n",
    "scores = ['neg_mean_absolute_error', 'neg_mean_squared_error', 'r2']\n",
    "cv = 10\n",
    "\n",
    "for score in scores:\n",
    "    grid(Xtrain = X_train_std,\n",
    "                ytrain = y_train,\n",
    "                estimator = pipe,\n",
    "                params_grid = param_grid,\n",
    "                scores=score,\n",
    "                cvs = cv,\n",
    "                cores=6,\n",
    "                verb=5)\n",
    "    print(score)"
   ]
  },
  {
   "cell_type": "code",
   "execution_count": 40,
   "metadata": {},
   "outputs": [
    {
     "name": "stderr",
     "output_type": "stream",
     "text": [
      "[Parallel(n_jobs=6)]: Using backend LokyBackend with 6 concurrent workers.\n",
      "[Parallel(n_jobs=6)]: Done   1 tasks      | elapsed:    0.0s\n",
      "[Parallel(n_jobs=6)]: Batch computation too fast (0.0066s.) Setting batch_size=2.\n",
      "[Parallel(n_jobs=6)]: Done   2 tasks      | elapsed:    0.0s\n",
      "[Parallel(n_jobs=6)]: Done   3 tasks      | elapsed:    0.0s\n",
      "[Parallel(n_jobs=6)]: Done   4 tasks      | elapsed:    0.0s\n",
      "[Parallel(n_jobs=6)]: Done   5 tasks      | elapsed:    0.0s\n",
      "[Parallel(n_jobs=6)]: Done   6 tasks      | elapsed:    0.0s\n",
      "[Parallel(n_jobs=6)]: Done   7 tasks      | elapsed:    0.0s\n",
      "[Parallel(n_jobs=6)]: Done   8 tasks      | elapsed:    0.0s\n",
      "[Parallel(n_jobs=6)]: Done   9 tasks      | elapsed:    0.0s\n",
      "[Parallel(n_jobs=6)]: Done  10 tasks      | elapsed:    0.0s\n",
      "[Parallel(n_jobs=6)]: Done  11 tasks      | elapsed:    0.0s\n",
      "[Parallel(n_jobs=6)]: Done  12 tasks      | elapsed:    0.0s\n",
      "[Parallel(n_jobs=6)]: Done  14 tasks      | elapsed:    0.0s\n",
      "[Parallel(n_jobs=6)]: Batch computation too fast (0.0338s.) Setting batch_size=4.\n",
      "[Parallel(n_jobs=6)]: Done  16 tasks      | elapsed:    0.0s\n",
      "[Parallel(n_jobs=6)]: Done  18 tasks      | elapsed:    0.0s\n",
      "[Parallel(n_jobs=6)]: Done  20 tasks      | elapsed:    0.0s\n",
      "[Parallel(n_jobs=6)]: Done  22 tasks      | elapsed:    0.0s\n",
      "[Parallel(n_jobs=6)]: Done  24 tasks      | elapsed:    0.0s\n",
      "[Parallel(n_jobs=6)]: Done  26 tasks      | elapsed:    0.0s\n",
      "[Parallel(n_jobs=6)]: Done  28 tasks      | elapsed:    0.0s\n",
      "[Parallel(n_jobs=6)]: Done  30 tasks      | elapsed:    0.0s\n",
      "[Parallel(n_jobs=6)]: Done  32 tasks      | elapsed:    0.0s\n",
      "[Parallel(n_jobs=6)]: Done  34 tasks      | elapsed:    0.0s\n",
      "[Parallel(n_jobs=6)]: Done  36 tasks      | elapsed:    0.0s\n",
      "[Parallel(n_jobs=6)]: Done  40 tasks      | elapsed:    0.0s\n",
      "[Parallel(n_jobs=6)]: Batch computation too fast (0.0429s.) Setting batch_size=8.\n"
     ]
    },
    {
     "name": "stdout",
     "output_type": "stream",
     "text": [
      "Fitting 10 folds for each of 980 candidates, totalling 9800 fits\n"
     ]
    },
    {
     "name": "stderr",
     "output_type": "stream",
     "text": [
      "[Parallel(n_jobs=6)]: Done  44 tasks      | elapsed:    0.1s\n",
      "[Parallel(n_jobs=6)]: Done  48 tasks      | elapsed:    0.1s\n",
      "[Parallel(n_jobs=6)]: Done  52 tasks      | elapsed:    0.1s\n",
      "[Parallel(n_jobs=6)]: Done  56 tasks      | elapsed:    0.1s\n",
      "[Parallel(n_jobs=6)]: Done  60 tasks      | elapsed:    0.1s\n",
      "[Parallel(n_jobs=6)]: Done  64 tasks      | elapsed:    0.1s\n",
      "[Parallel(n_jobs=6)]: Done  68 tasks      | elapsed:    0.1s\n",
      "[Parallel(n_jobs=6)]: Done  72 tasks      | elapsed:    0.1s\n",
      "[Parallel(n_jobs=6)]: Done  76 tasks      | elapsed:    0.1s\n",
      "[Parallel(n_jobs=6)]: Done  80 tasks      | elapsed:    0.1s\n",
      "[Parallel(n_jobs=6)]: Done  84 tasks      | elapsed:    0.1s\n",
      "[Parallel(n_jobs=6)]: Done  92 tasks      | elapsed:    0.1s\n",
      "[Parallel(n_jobs=6)]: Batch computation too fast (0.0835s.) Setting batch_size=16.\n",
      "[Parallel(n_jobs=6)]: Done 100 tasks      | elapsed:    0.2s\n",
      "[Parallel(n_jobs=6)]: Done 108 tasks      | elapsed:    0.2s\n",
      "[Parallel(n_jobs=6)]: Done 116 tasks      | elapsed:    0.2s\n",
      "[Parallel(n_jobs=6)]: Done 124 tasks      | elapsed:    0.2s\n",
      "[Parallel(n_jobs=6)]: Done 132 tasks      | elapsed:    0.2s\n",
      "[Parallel(n_jobs=6)]: Done 140 tasks      | elapsed:    0.2s\n",
      "[Parallel(n_jobs=6)]: Done 148 tasks      | elapsed:    0.3s\n",
      "[Parallel(n_jobs=6)]: Done 156 tasks      | elapsed:    0.3s\n",
      "[Parallel(n_jobs=6)]: Done 164 tasks      | elapsed:    0.3s\n",
      "[Parallel(n_jobs=6)]: Done 172 tasks      | elapsed:    0.3s\n",
      "[Parallel(n_jobs=6)]: Done 180 tasks      | elapsed:    0.3s\n",
      "[Parallel(n_jobs=6)]: Done 196 tasks      | elapsed:    0.3s\n",
      "[Parallel(n_jobs=6)]: Batch computation too fast (0.1007s.) Setting batch_size=32.\n",
      "[Parallel(n_jobs=6)]: Done 212 tasks      | elapsed:    0.4s\n",
      "[Parallel(n_jobs=6)]: Done 228 tasks      | elapsed:    0.4s\n",
      "[Parallel(n_jobs=6)]: Done 244 tasks      | elapsed:    0.4s\n",
      "[Parallel(n_jobs=6)]: Done 260 tasks      | elapsed:    0.4s\n",
      "[Parallel(n_jobs=6)]: Done 276 tasks      | elapsed:    0.4s\n",
      "[Parallel(n_jobs=6)]: Done 292 tasks      | elapsed:    0.4s\n",
      "[Parallel(n_jobs=6)]: Done 308 tasks      | elapsed:    0.6s\n",
      "[Parallel(n_jobs=6)]: Done 324 tasks      | elapsed:    0.6s\n",
      "[Parallel(n_jobs=6)]: Done 340 tasks      | elapsed:    0.6s\n",
      "[Parallel(n_jobs=6)]: Done 356 tasks      | elapsed:    0.6s\n",
      "[Parallel(n_jobs=6)]: Done 372 tasks      | elapsed:    0.6s\n",
      "[Parallel(n_jobs=6)]: Done 404 tasks      | elapsed:    0.7s\n",
      "[Parallel(n_jobs=6)]: Done 436 tasks      | elapsed:    0.8s\n",
      "[Parallel(n_jobs=6)]: Done 468 tasks      | elapsed:    0.8s\n",
      "[Parallel(n_jobs=6)]: Done 500 tasks      | elapsed:    0.8s\n",
      "[Parallel(n_jobs=6)]: Done 532 tasks      | elapsed:    0.8s\n",
      "[Parallel(n_jobs=6)]: Done 564 tasks      | elapsed:    0.8s\n",
      "[Parallel(n_jobs=6)]: Done 596 tasks      | elapsed:    0.9s\n",
      "[Parallel(n_jobs=6)]: Done 628 tasks      | elapsed:    1.0s\n",
      "[Parallel(n_jobs=6)]: Done 660 tasks      | elapsed:    1.0s\n",
      "[Parallel(n_jobs=6)]: Done 692 tasks      | elapsed:    1.1s\n",
      "[Parallel(n_jobs=6)]: Done 724 tasks      | elapsed:    1.1s\n",
      "[Parallel(n_jobs=6)]: Done 756 tasks      | elapsed:    1.1s\n",
      "[Parallel(n_jobs=6)]: Done 788 tasks      | elapsed:    1.1s\n",
      "[Parallel(n_jobs=6)]: Done 820 tasks      | elapsed:    1.3s\n",
      "[Parallel(n_jobs=6)]: Done 852 tasks      | elapsed:    1.3s\n",
      "[Parallel(n_jobs=6)]: Done 884 tasks      | elapsed:    1.4s\n",
      "[Parallel(n_jobs=6)]: Done 916 tasks      | elapsed:    1.4s\n",
      "[Parallel(n_jobs=6)]: Done 948 tasks      | elapsed:    1.4s\n",
      "[Parallel(n_jobs=6)]: Done 980 tasks      | elapsed:    1.4s\n",
      "[Parallel(n_jobs=6)]: Done 1012 tasks      | elapsed:    1.5s\n",
      "[Parallel(n_jobs=6)]: Done 1044 tasks      | elapsed:    1.5s\n",
      "[Parallel(n_jobs=6)]: Done 1076 tasks      | elapsed:    1.6s\n",
      "[Parallel(n_jobs=6)]: Done 1108 tasks      | elapsed:    1.6s\n",
      "[Parallel(n_jobs=6)]: Done 1140 tasks      | elapsed:    1.6s\n",
      "[Parallel(n_jobs=6)]: Done 1172 tasks      | elapsed:    1.6s\n",
      "[Parallel(n_jobs=6)]: Done 1204 tasks      | elapsed:    1.8s\n",
      "[Parallel(n_jobs=6)]: Done 1236 tasks      | elapsed:    1.8s\n",
      "[Parallel(n_jobs=6)]: Done 1268 tasks      | elapsed:    1.8s\n",
      "[Parallel(n_jobs=6)]: Done 1300 tasks      | elapsed:    1.8s\n",
      "[Parallel(n_jobs=6)]: Done 1332 tasks      | elapsed:    1.9s\n",
      "[Parallel(n_jobs=6)]: Done 1364 tasks      | elapsed:    1.9s\n",
      "[Parallel(n_jobs=6)]: Done 1396 tasks      | elapsed:    2.1s\n",
      "[Parallel(n_jobs=6)]: Done 1428 tasks      | elapsed:    2.1s\n",
      "[Parallel(n_jobs=6)]: Done 1460 tasks      | elapsed:    2.1s\n",
      "[Parallel(n_jobs=6)]: Done 1492 tasks      | elapsed:    2.1s\n",
      "[Parallel(n_jobs=6)]: Done 1524 tasks      | elapsed:    2.1s\n",
      "[Parallel(n_jobs=6)]: Done 1556 tasks      | elapsed:    2.1s\n",
      "[Parallel(n_jobs=6)]: Done 1588 tasks      | elapsed:    2.3s\n",
      "[Parallel(n_jobs=6)]: Done 1620 tasks      | elapsed:    2.3s\n",
      "[Parallel(n_jobs=6)]: Done 1652 tasks      | elapsed:    2.3s\n",
      "[Parallel(n_jobs=6)]: Done 1684 tasks      | elapsed:    2.3s\n",
      "[Parallel(n_jobs=6)]: Done 1716 tasks      | elapsed:    2.3s\n",
      "[Parallel(n_jobs=6)]: Done 1748 tasks      | elapsed:    2.4s\n",
      "[Parallel(n_jobs=6)]: Done 1780 tasks      | elapsed:    2.5s\n",
      "[Parallel(n_jobs=6)]: Done 1812 tasks      | elapsed:    2.5s\n",
      "[Parallel(n_jobs=6)]: Done 1844 tasks      | elapsed:    2.6s\n",
      "[Parallel(n_jobs=6)]: Done 1876 tasks      | elapsed:    2.6s\n",
      "[Parallel(n_jobs=6)]: Done 1908 tasks      | elapsed:    2.6s\n",
      "[Parallel(n_jobs=6)]: Done 1940 tasks      | elapsed:    2.6s\n",
      "[Parallel(n_jobs=6)]: Done 1972 tasks      | elapsed:    2.8s\n",
      "[Parallel(n_jobs=6)]: Done 2004 tasks      | elapsed:    2.8s\n",
      "[Parallel(n_jobs=6)]: Done 2036 tasks      | elapsed:    2.8s\n",
      "[Parallel(n_jobs=6)]: Done 2068 tasks      | elapsed:    2.8s\n",
      "[Parallel(n_jobs=6)]: Done 2100 tasks      | elapsed:    2.8s\n",
      "[Parallel(n_jobs=6)]: Done 2132 tasks      | elapsed:    2.8s\n",
      "[Parallel(n_jobs=6)]: Done 2164 tasks      | elapsed:    3.0s\n",
      "[Parallel(n_jobs=6)]: Done 2196 tasks      | elapsed:    3.0s\n",
      "[Parallel(n_jobs=6)]: Done 2228 tasks      | elapsed:    3.0s\n",
      "[Parallel(n_jobs=6)]: Done 2260 tasks      | elapsed:    3.0s\n",
      "[Parallel(n_jobs=6)]: Done 2292 tasks      | elapsed:    3.1s\n",
      "[Parallel(n_jobs=6)]: Done 2324 tasks      | elapsed:    3.1s\n",
      "[Parallel(n_jobs=6)]: Done 2356 tasks      | elapsed:    3.3s\n",
      "[Parallel(n_jobs=6)]: Done 2388 tasks      | elapsed:    3.3s\n",
      "[Parallel(n_jobs=6)]: Done 2420 tasks      | elapsed:    3.3s\n",
      "[Parallel(n_jobs=6)]: Done 2452 tasks      | elapsed:    3.3s\n",
      "[Parallel(n_jobs=6)]: Done 2484 tasks      | elapsed:    3.3s\n",
      "[Parallel(n_jobs=6)]: Done 2516 tasks      | elapsed:    3.3s\n",
      "[Parallel(n_jobs=6)]: Done 2548 tasks      | elapsed:    3.5s\n",
      "[Parallel(n_jobs=6)]: Done 2580 tasks      | elapsed:    3.5s\n",
      "[Parallel(n_jobs=6)]: Done 2612 tasks      | elapsed:    3.5s\n",
      "[Parallel(n_jobs=6)]: Done 2644 tasks      | elapsed:    3.5s\n",
      "[Parallel(n_jobs=6)]: Done 2676 tasks      | elapsed:    3.5s\n",
      "[Parallel(n_jobs=6)]: Done 2708 tasks      | elapsed:    3.6s\n",
      "[Parallel(n_jobs=6)]: Done 2740 tasks      | elapsed:    3.7s\n",
      "[Parallel(n_jobs=6)]: Done 2772 tasks      | elapsed:    3.7s\n",
      "[Parallel(n_jobs=6)]: Done 2804 tasks      | elapsed:    3.7s\n",
      "[Parallel(n_jobs=6)]: Done 2836 tasks      | elapsed:    3.8s\n",
      "[Parallel(n_jobs=6)]: Done 2868 tasks      | elapsed:    3.8s\n",
      "[Parallel(n_jobs=6)]: Done 2900 tasks      | elapsed:    3.8s\n",
      "[Parallel(n_jobs=6)]: Done 2932 tasks      | elapsed:    4.0s\n",
      "[Parallel(n_jobs=6)]: Done 2964 tasks      | elapsed:    4.0s\n",
      "[Parallel(n_jobs=6)]: Done 2996 tasks      | elapsed:    4.0s\n",
      "[Parallel(n_jobs=6)]: Done 3028 tasks      | elapsed:    4.0s\n",
      "[Parallel(n_jobs=6)]: Done 3060 tasks      | elapsed:    4.0s\n",
      "[Parallel(n_jobs=6)]: Done 3092 tasks      | elapsed:    4.0s\n",
      "[Parallel(n_jobs=6)]: Done 3124 tasks      | elapsed:    4.2s\n",
      "[Parallel(n_jobs=6)]: Done 3156 tasks      | elapsed:    4.2s\n",
      "[Parallel(n_jobs=6)]: Done 3188 tasks      | elapsed:    4.2s\n",
      "[Parallel(n_jobs=6)]: Done 3220 tasks      | elapsed:    4.2s\n",
      "[Parallel(n_jobs=6)]: Done 3252 tasks      | elapsed:    4.3s\n",
      "[Parallel(n_jobs=6)]: Done 3284 tasks      | elapsed:    4.3s\n",
      "[Parallel(n_jobs=6)]: Done 3316 tasks      | elapsed:    4.4s\n",
      "[Parallel(n_jobs=6)]: Done 3348 tasks      | elapsed:    4.4s\n",
      "[Parallel(n_jobs=6)]: Done 3380 tasks      | elapsed:    4.5s\n",
      "[Parallel(n_jobs=6)]: Done 3412 tasks      | elapsed:    4.5s\n",
      "[Parallel(n_jobs=6)]: Done 3444 tasks      | elapsed:    4.5s\n",
      "[Parallel(n_jobs=6)]: Done 3476 tasks      | elapsed:    4.5s\n"
     ]
    },
    {
     "name": "stderr",
     "output_type": "stream",
     "text": [
      "[Parallel(n_jobs=6)]: Done 3508 tasks      | elapsed:    4.6s\n",
      "[Parallel(n_jobs=6)]: Done 3540 tasks      | elapsed:    4.7s\n",
      "[Parallel(n_jobs=6)]: Done 3572 tasks      | elapsed:    4.7s\n",
      "[Parallel(n_jobs=6)]: Done 3604 tasks      | elapsed:    4.7s\n",
      "[Parallel(n_jobs=6)]: Done 3636 tasks      | elapsed:    4.7s\n",
      "[Parallel(n_jobs=6)]: Done 3668 tasks      | elapsed:    4.7s\n",
      "[Parallel(n_jobs=6)]: Done 3700 tasks      | elapsed:    4.9s\n",
      "[Parallel(n_jobs=6)]: Done 3732 tasks      | elapsed:    4.9s\n",
      "[Parallel(n_jobs=6)]: Done 3764 tasks      | elapsed:    4.9s\n",
      "[Parallel(n_jobs=6)]: Done 3796 tasks      | elapsed:    5.0s\n",
      "[Parallel(n_jobs=6)]: Done 3828 tasks      | elapsed:    5.0s\n",
      "[Parallel(n_jobs=6)]: Done 3860 tasks      | elapsed:    5.0s\n",
      "[Parallel(n_jobs=6)]: Done 3892 tasks      | elapsed:    5.1s\n",
      "[Parallel(n_jobs=6)]: Done 3924 tasks      | elapsed:    5.1s\n",
      "[Parallel(n_jobs=6)]: Done 3956 tasks      | elapsed:    5.2s\n",
      "[Parallel(n_jobs=6)]: Done 3988 tasks      | elapsed:    5.2s\n",
      "[Parallel(n_jobs=6)]: Done 4020 tasks      | elapsed:    5.2s\n",
      "[Parallel(n_jobs=6)]: Done 4052 tasks      | elapsed:    5.2s\n",
      "[Parallel(n_jobs=6)]: Done 4084 tasks      | elapsed:    5.4s\n",
      "[Parallel(n_jobs=6)]: Done 4116 tasks      | elapsed:    5.4s\n",
      "[Parallel(n_jobs=6)]: Done 4148 tasks      | elapsed:    5.4s\n",
      "[Parallel(n_jobs=6)]: Done 4180 tasks      | elapsed:    5.4s\n",
      "[Parallel(n_jobs=6)]: Done 4212 tasks      | elapsed:    5.4s\n",
      "[Parallel(n_jobs=6)]: Done 4244 tasks      | elapsed:    5.4s\n",
      "[Parallel(n_jobs=6)]: Done 4276 tasks      | elapsed:    5.6s\n",
      "[Parallel(n_jobs=6)]: Done 4308 tasks      | elapsed:    5.6s\n",
      "[Parallel(n_jobs=6)]: Done 4340 tasks      | elapsed:    5.7s\n",
      "[Parallel(n_jobs=6)]: Done 4372 tasks      | elapsed:    5.7s\n",
      "[Parallel(n_jobs=6)]: Done 4404 tasks      | elapsed:    5.7s\n",
      "[Parallel(n_jobs=6)]: Done 4436 tasks      | elapsed:    5.7s\n",
      "[Parallel(n_jobs=6)]: Done 4468 tasks      | elapsed:    5.9s\n",
      "[Parallel(n_jobs=6)]: Done 4500 tasks      | elapsed:    5.9s\n",
      "[Parallel(n_jobs=6)]: Done 4532 tasks      | elapsed:    5.9s\n",
      "[Parallel(n_jobs=6)]: Done 4564 tasks      | elapsed:    5.9s\n",
      "[Parallel(n_jobs=6)]: Done 4596 tasks      | elapsed:    5.9s\n",
      "[Parallel(n_jobs=6)]: Done 4628 tasks      | elapsed:    6.0s\n",
      "[Parallel(n_jobs=6)]: Done 4660 tasks      | elapsed:    6.2s\n",
      "[Parallel(n_jobs=6)]: Done 4692 tasks      | elapsed:    6.2s\n",
      "[Parallel(n_jobs=6)]: Done 4724 tasks      | elapsed:    6.2s\n",
      "[Parallel(n_jobs=6)]: Done 4756 tasks      | elapsed:    6.2s\n",
      "[Parallel(n_jobs=6)]: Done 4788 tasks      | elapsed:    6.2s\n",
      "[Parallel(n_jobs=6)]: Done 4820 tasks      | elapsed:    6.3s\n",
      "[Parallel(n_jobs=6)]: Done 4852 tasks      | elapsed:    6.5s\n",
      "[Parallel(n_jobs=6)]: Done 4884 tasks      | elapsed:    6.5s\n",
      "[Parallel(n_jobs=6)]: Done 4916 tasks      | elapsed:    6.5s\n",
      "[Parallel(n_jobs=6)]: Done 4948 tasks      | elapsed:    6.5s\n",
      "[Parallel(n_jobs=6)]: Done 4980 tasks      | elapsed:    6.5s\n",
      "[Parallel(n_jobs=6)]: Done 5012 tasks      | elapsed:    6.6s\n",
      "[Parallel(n_jobs=6)]: Done 5044 tasks      | elapsed:    6.8s\n",
      "[Parallel(n_jobs=6)]: Done 5076 tasks      | elapsed:    6.8s\n",
      "[Parallel(n_jobs=6)]: Done 5108 tasks      | elapsed:    6.8s\n",
      "[Parallel(n_jobs=6)]: Done 5140 tasks      | elapsed:    6.8s\n",
      "[Parallel(n_jobs=6)]: Done 5172 tasks      | elapsed:    6.9s\n",
      "[Parallel(n_jobs=6)]: Done 5204 tasks      | elapsed:    6.9s\n",
      "[Parallel(n_jobs=6)]: Done 5236 tasks      | elapsed:    7.1s\n",
      "[Parallel(n_jobs=6)]: Done 5268 tasks      | elapsed:    7.2s\n",
      "[Parallel(n_jobs=6)]: Done 5300 tasks      | elapsed:    7.2s\n",
      "[Parallel(n_jobs=6)]: Done 5332 tasks      | elapsed:    7.2s\n",
      "[Parallel(n_jobs=6)]: Done 5364 tasks      | elapsed:    7.2s\n",
      "[Parallel(n_jobs=6)]: Done 5396 tasks      | elapsed:    7.3s\n",
      "[Parallel(n_jobs=6)]: Done 5428 tasks      | elapsed:    7.5s\n",
      "[Parallel(n_jobs=6)]: Done 5460 tasks      | elapsed:    7.5s\n",
      "[Parallel(n_jobs=6)]: Done 5492 tasks      | elapsed:    7.5s\n",
      "[Parallel(n_jobs=6)]: Done 5524 tasks      | elapsed:    7.5s\n",
      "[Parallel(n_jobs=6)]: Done 5556 tasks      | elapsed:    7.5s\n",
      "[Parallel(n_jobs=6)]: Done 5588 tasks      | elapsed:    7.5s\n",
      "[Parallel(n_jobs=6)]: Done 5620 tasks      | elapsed:    7.7s\n",
      "[Parallel(n_jobs=6)]: Done 5652 tasks      | elapsed:    7.7s\n",
      "[Parallel(n_jobs=6)]: Done 5684 tasks      | elapsed:    7.7s\n",
      "[Parallel(n_jobs=6)]: Done 5716 tasks      | elapsed:    7.7s\n",
      "[Parallel(n_jobs=6)]: Done 5748 tasks      | elapsed:    7.7s\n",
      "[Parallel(n_jobs=6)]: Done 5780 tasks      | elapsed:    7.8s\n",
      "[Parallel(n_jobs=6)]: Done 5812 tasks      | elapsed:    8.0s\n",
      "[Parallel(n_jobs=6)]: Done 5844 tasks      | elapsed:    8.0s\n",
      "[Parallel(n_jobs=6)]: Done 5876 tasks      | elapsed:    8.0s\n",
      "[Parallel(n_jobs=6)]: Done 5908 tasks      | elapsed:    8.0s\n",
      "[Parallel(n_jobs=6)]: Done 5940 tasks      | elapsed:    8.0s\n",
      "[Parallel(n_jobs=6)]: Done 5972 tasks      | elapsed:    8.0s\n",
      "[Parallel(n_jobs=6)]: Done 6004 tasks      | elapsed:    8.2s\n",
      "[Parallel(n_jobs=6)]: Done 6036 tasks      | elapsed:    8.2s\n",
      "[Parallel(n_jobs=6)]: Done 6068 tasks      | elapsed:    8.2s\n",
      "[Parallel(n_jobs=6)]: Done 6100 tasks      | elapsed:    8.2s\n",
      "[Parallel(n_jobs=6)]: Done 6132 tasks      | elapsed:    8.3s\n",
      "[Parallel(n_jobs=6)]: Done 6164 tasks      | elapsed:    8.3s\n",
      "[Parallel(n_jobs=6)]: Done 6196 tasks      | elapsed:    8.5s\n",
      "[Parallel(n_jobs=6)]: Done 6228 tasks      | elapsed:    8.5s\n",
      "[Parallel(n_jobs=6)]: Done 6260 tasks      | elapsed:    8.5s\n",
      "[Parallel(n_jobs=6)]: Done 6292 tasks      | elapsed:    8.5s\n",
      "[Parallel(n_jobs=6)]: Done 6324 tasks      | elapsed:    8.6s\n",
      "[Parallel(n_jobs=6)]: Done 6356 tasks      | elapsed:    8.6s\n",
      "[Parallel(n_jobs=6)]: Done 6388 tasks      | elapsed:    8.7s\n",
      "[Parallel(n_jobs=6)]: Done 6420 tasks      | elapsed:    8.7s\n",
      "[Parallel(n_jobs=6)]: Done 6452 tasks      | elapsed:    8.7s\n",
      "[Parallel(n_jobs=6)]: Done 6484 tasks      | elapsed:    8.8s\n",
      "[Parallel(n_jobs=6)]: Done 6516 tasks      | elapsed:    8.8s\n",
      "[Parallel(n_jobs=6)]: Done 6548 tasks      | elapsed:    8.8s\n",
      "[Parallel(n_jobs=6)]: Done 6580 tasks      | elapsed:    9.0s\n",
      "[Parallel(n_jobs=6)]: Done 6612 tasks      | elapsed:    9.0s\n",
      "[Parallel(n_jobs=6)]: Done 6644 tasks      | elapsed:    9.0s\n",
      "[Parallel(n_jobs=6)]: Done 6676 tasks      | elapsed:    9.0s\n",
      "[Parallel(n_jobs=6)]: Done 6708 tasks      | elapsed:    9.1s\n",
      "[Parallel(n_jobs=6)]: Done 6740 tasks      | elapsed:    9.1s\n",
      "[Parallel(n_jobs=6)]: Done 6772 tasks      | elapsed:    9.3s\n",
      "[Parallel(n_jobs=6)]: Done 6804 tasks      | elapsed:    9.3s\n",
      "[Parallel(n_jobs=6)]: Done 6836 tasks      | elapsed:    9.3s\n",
      "[Parallel(n_jobs=6)]: Done 6868 tasks      | elapsed:    9.3s\n",
      "[Parallel(n_jobs=6)]: Done 6900 tasks      | elapsed:    9.3s\n",
      "[Parallel(n_jobs=6)]: Done 6932 tasks      | elapsed:    9.3s\n",
      "[Parallel(n_jobs=6)]: Done 6964 tasks      | elapsed:    9.5s\n",
      "[Parallel(n_jobs=6)]: Done 6996 tasks      | elapsed:    9.5s\n",
      "[Parallel(n_jobs=6)]: Done 7028 tasks      | elapsed:    9.5s\n",
      "[Parallel(n_jobs=6)]: Done 7060 tasks      | elapsed:    9.5s\n",
      "[Parallel(n_jobs=6)]: Done 7092 tasks      | elapsed:    9.6s\n",
      "[Parallel(n_jobs=6)]: Done 7124 tasks      | elapsed:    9.6s\n",
      "[Parallel(n_jobs=6)]: Done 7156 tasks      | elapsed:    9.8s\n",
      "[Parallel(n_jobs=6)]: Done 7188 tasks      | elapsed:    9.8s\n",
      "[Parallel(n_jobs=6)]: Done 7220 tasks      | elapsed:    9.8s\n",
      "[Parallel(n_jobs=6)]: Done 7252 tasks      | elapsed:    9.8s\n",
      "[Parallel(n_jobs=6)]: Done 7284 tasks      | elapsed:    9.9s\n",
      "[Parallel(n_jobs=6)]: Done 7316 tasks      | elapsed:    9.9s\n",
      "[Parallel(n_jobs=6)]: Done 7348 tasks      | elapsed:   10.1s\n",
      "[Parallel(n_jobs=6)]: Done 7380 tasks      | elapsed:   10.1s\n",
      "[Parallel(n_jobs=6)]: Done 7412 tasks      | elapsed:   10.1s\n",
      "[Parallel(n_jobs=6)]: Done 7444 tasks      | elapsed:   10.1s\n",
      "[Parallel(n_jobs=6)]: Done 7476 tasks      | elapsed:   10.1s\n",
      "[Parallel(n_jobs=6)]: Done 7508 tasks      | elapsed:   10.2s\n",
      "[Parallel(n_jobs=6)]: Done 7540 tasks      | elapsed:   10.4s\n",
      "[Parallel(n_jobs=6)]: Done 7572 tasks      | elapsed:   10.4s\n",
      "[Parallel(n_jobs=6)]: Done 7604 tasks      | elapsed:   10.4s\n",
      "[Parallel(n_jobs=6)]: Done 7636 tasks      | elapsed:   10.4s\n",
      "[Parallel(n_jobs=6)]: Done 7668 tasks      | elapsed:   10.4s\n",
      "[Parallel(n_jobs=6)]: Done 7700 tasks      | elapsed:   10.4s\n",
      "[Parallel(n_jobs=6)]: Done 7732 tasks      | elapsed:   10.6s\n",
      "[Parallel(n_jobs=6)]: Done 7764 tasks      | elapsed:   10.6s\n",
      "[Parallel(n_jobs=6)]: Done 7796 tasks      | elapsed:   10.6s\n",
      "[Parallel(n_jobs=6)]: Done 7828 tasks      | elapsed:   10.7s\n",
      "[Parallel(n_jobs=6)]: Done 7860 tasks      | elapsed:   10.7s\n",
      "[Parallel(n_jobs=6)]: Done 7892 tasks      | elapsed:   10.7s\n"
     ]
    },
    {
     "name": "stderr",
     "output_type": "stream",
     "text": [
      "[Parallel(n_jobs=6)]: Done 7924 tasks      | elapsed:   10.9s\n",
      "[Parallel(n_jobs=6)]: Done 7956 tasks      | elapsed:   10.9s\n",
      "[Parallel(n_jobs=6)]: Done 7988 tasks      | elapsed:   10.9s\n",
      "[Parallel(n_jobs=6)]: Done 8020 tasks      | elapsed:   10.9s\n",
      "[Parallel(n_jobs=6)]: Done 8052 tasks      | elapsed:   11.0s\n",
      "[Parallel(n_jobs=6)]: Done 8084 tasks      | elapsed:   11.0s\n",
      "[Parallel(n_jobs=6)]: Done 8116 tasks      | elapsed:   11.2s\n",
      "[Parallel(n_jobs=6)]: Done 8148 tasks      | elapsed:   11.2s\n",
      "[Parallel(n_jobs=6)]: Done 8180 tasks      | elapsed:   11.2s\n",
      "[Parallel(n_jobs=6)]: Done 8212 tasks      | elapsed:   11.3s\n",
      "[Parallel(n_jobs=6)]: Done 8244 tasks      | elapsed:   11.3s\n",
      "[Parallel(n_jobs=6)]: Done 8276 tasks      | elapsed:   11.3s\n",
      "[Parallel(n_jobs=6)]: Done 8308 tasks      | elapsed:   11.6s\n",
      "[Parallel(n_jobs=6)]: Done 8340 tasks      | elapsed:   11.6s\n",
      "[Parallel(n_jobs=6)]: Done 8372 tasks      | elapsed:   11.6s\n",
      "[Parallel(n_jobs=6)]: Done 8404 tasks      | elapsed:   11.6s\n",
      "[Parallel(n_jobs=6)]: Done 8436 tasks      | elapsed:   11.6s\n",
      "[Parallel(n_jobs=6)]: Done 8468 tasks      | elapsed:   11.6s\n",
      "[Parallel(n_jobs=6)]: Done 8500 tasks      | elapsed:   11.9s\n",
      "[Parallel(n_jobs=6)]: Done 8532 tasks      | elapsed:   11.9s\n",
      "[Parallel(n_jobs=6)]: Done 8564 tasks      | elapsed:   11.9s\n",
      "[Parallel(n_jobs=6)]: Done 8596 tasks      | elapsed:   11.9s\n",
      "[Parallel(n_jobs=6)]: Done 8628 tasks      | elapsed:   11.9s\n",
      "[Parallel(n_jobs=6)]: Done 8660 tasks      | elapsed:   11.9s\n",
      "[Parallel(n_jobs=6)]: Done 8692 tasks      | elapsed:   12.1s\n",
      "[Parallel(n_jobs=6)]: Done 8724 tasks      | elapsed:   12.1s\n",
      "[Parallel(n_jobs=6)]: Done 8756 tasks      | elapsed:   12.2s\n",
      "[Parallel(n_jobs=6)]: Done 8788 tasks      | elapsed:   12.2s\n",
      "[Parallel(n_jobs=6)]: Done 8820 tasks      | elapsed:   12.2s\n",
      "[Parallel(n_jobs=6)]: Done 8852 tasks      | elapsed:   12.3s\n",
      "[Parallel(n_jobs=6)]: Done 8884 tasks      | elapsed:   12.5s\n",
      "[Parallel(n_jobs=6)]: Done 8916 tasks      | elapsed:   12.5s\n",
      "[Parallel(n_jobs=6)]: Done 8948 tasks      | elapsed:   12.5s\n",
      "[Parallel(n_jobs=6)]: Done 8980 tasks      | elapsed:   12.5s\n",
      "[Parallel(n_jobs=6)]: Done 9012 tasks      | elapsed:   12.6s\n",
      "[Parallel(n_jobs=6)]: Done 9044 tasks      | elapsed:   12.6s\n",
      "[Parallel(n_jobs=6)]: Done 9076 tasks      | elapsed:   12.9s\n",
      "[Parallel(n_jobs=6)]: Done 9108 tasks      | elapsed:   12.9s\n",
      "[Parallel(n_jobs=6)]: Done 9140 tasks      | elapsed:   12.9s\n",
      "[Parallel(n_jobs=6)]: Done 9172 tasks      | elapsed:   12.9s\n",
      "[Parallel(n_jobs=6)]: Done 9204 tasks      | elapsed:   12.9s\n",
      "[Parallel(n_jobs=6)]: Done 9236 tasks      | elapsed:   13.0s\n",
      "[Parallel(n_jobs=6)]: Done 9268 tasks      | elapsed:   13.2s\n",
      "[Parallel(n_jobs=6)]: Done 9300 tasks      | elapsed:   13.2s\n",
      "[Parallel(n_jobs=6)]: Done 9332 tasks      | elapsed:   13.2s\n",
      "[Parallel(n_jobs=6)]: Done 9364 tasks      | elapsed:   13.2s\n",
      "[Parallel(n_jobs=6)]: Done 9396 tasks      | elapsed:   13.2s\n",
      "[Parallel(n_jobs=6)]: Done 9428 tasks      | elapsed:   13.3s\n",
      "[Parallel(n_jobs=6)]: Done 9460 tasks      | elapsed:   13.3s\n",
      "[Parallel(n_jobs=6)]: Done 9492 tasks      | elapsed:   13.4s\n",
      "[Parallel(n_jobs=6)]: Done 9524 tasks      | elapsed:   13.4s\n",
      "[Parallel(n_jobs=6)]: Done 9556 tasks      | elapsed:   13.5s\n",
      "[Parallel(n_jobs=6)]: Done 9588 tasks      | elapsed:   13.5s\n",
      "[Parallel(n_jobs=6)]: Done 9620 tasks      | elapsed:   13.6s\n",
      "[Parallel(n_jobs=6)]: Done 9621 tasks      | elapsed:   13.6s\n",
      "[Parallel(n_jobs=6)]: Done 9622 tasks      | elapsed:   13.6s\n",
      "[Parallel(n_jobs=6)]: Done 9623 tasks      | elapsed:   13.6s\n",
      "[Parallel(n_jobs=6)]: Done 9624 tasks      | elapsed:   13.6s\n",
      "[Parallel(n_jobs=6)]: Done 9656 tasks      | elapsed:   13.6s\n",
      "[Parallel(n_jobs=6)]: Done 9657 tasks      | elapsed:   13.6s\n",
      "[Parallel(n_jobs=6)]: Done 9658 tasks      | elapsed:   13.6s\n",
      "[Parallel(n_jobs=6)]: Done 9659 tasks      | elapsed:   13.6s\n",
      "[Parallel(n_jobs=6)]: Done 9660 tasks      | elapsed:   13.6s\n",
      "[Parallel(n_jobs=6)]: Done 9661 tasks      | elapsed:   13.6s\n",
      "[Parallel(n_jobs=6)]: Done 9662 tasks      | elapsed:   13.6s\n",
      "[Parallel(n_jobs=6)]: Done 9663 tasks      | elapsed:   13.6s\n"
     ]
    },
    {
     "name": "stdout",
     "output_type": "stream",
     "text": [
      "0.24614456049643635\n",
      "{'model__alpha': 6.0, 'model__solver': 'sag', 'pca__n_components': 7}\n",
      "Total time:  0.23138504823048908 minutes\n"
     ]
    },
    {
     "name": "stderr",
     "output_type": "stream",
     "text": [
      "[Parallel(n_jobs=6)]: Done 9664 tasks      | elapsed:   13.6s\n",
      "[Parallel(n_jobs=6)]: Done 9665 tasks      | elapsed:   13.7s\n",
      "[Parallel(n_jobs=6)]: Done 9800 out of 9800 | elapsed:   13.8s finished\n"
     ]
    }
   ],
   "source": [
    "from sklearn.linear_model import Ridge\n",
    "\n",
    "model = Ridge()\n",
    "\n",
    "pipe = Pipeline(steps=[('sc', sc), ('pca', pca), ('model', model)])\n",
    "\n",
    "params_pca = [1,2,3,4,5,6,7]\n",
    "param_grid   =  [{'pca__n_components' : params_pca,\n",
    "                  'model__alpha' : [x*1. for x in range(1,100,5)],\n",
    "                  'model__solver' : ['auto', 'svd', 'cholesky', 'lsqr', 'sparse_cg', 'sag', 'saga']}]\n",
    "pipe.get_params()\n",
    "\n",
    "estimator = pipe\n",
    "# score = 'neg_mean_squared_error'\n",
    "# score = 'neg_mean_absolute_error'\n",
    "score = 'r2'\n",
    "cv = 10\n",
    "\n",
    "grid(Xtrain = X_train_std,\n",
    "            ytrain = y_train,\n",
    "            estimator = pipe,\n",
    "            params_grid = param_grid,\n",
    "            scores=score,\n",
    "            cvs = cv,\n",
    "            cores=6,\n",
    "            verb=15)"
   ]
  },
  {
   "cell_type": "markdown",
   "metadata": {},
   "source": [
    "# Lasso"
   ]
  },
  {
   "cell_type": "code",
   "execution_count": 54,
   "metadata": {},
   "outputs": [
    {
     "name": "stdout",
     "output_type": "stream",
     "text": [
      "Fitting 10 folds for each of 3582 candidates, totalling 35820 fits\n"
     ]
    },
    {
     "name": "stderr",
     "output_type": "stream",
     "text": [
      "[Parallel(n_jobs=6)]: Using backend LokyBackend with 6 concurrent workers.\n",
      "[Parallel(n_jobs=6)]: Done   6 tasks      | elapsed:    0.0s\n",
      "[Parallel(n_jobs=6)]: Done 372 tasks      | elapsed:    0.5s\n",
      "[Parallel(n_jobs=6)]: Done 3252 tasks      | elapsed:    5.4s\n",
      "[Parallel(n_jobs=6)]: Done 7284 tasks      | elapsed:   11.1s\n",
      "[Parallel(n_jobs=6)]: Done 12468 tasks      | elapsed:   17.9s\n",
      "[Parallel(n_jobs=6)]: Done 18804 tasks      | elapsed:   26.8s\n",
      "[Parallel(n_jobs=6)]: Done 26292 tasks      | elapsed:   37.5s\n",
      "[Parallel(n_jobs=6)]: Done 34932 tasks      | elapsed:   51.8s\n",
      "[Parallel(n_jobs=6)]: Done 35820 out of 35820 | elapsed:   53.1s finished\n",
      "C:\\ProgramData\\Anaconda3\\lib\\site-packages\\sklearn\\linear_model\\_coordinate_descent.py:529: ConvergenceWarning: Objective did not converge. You might want to increase the number of iterations. Duality gap: 2591.9418709501624, tolerance: 916.8450781561908\n",
      "  model = cd_fast.enet_coordinate_descent(\n",
      "[Parallel(n_jobs=6)]: Using backend LokyBackend with 6 concurrent workers.\n",
      "[Parallel(n_jobs=6)]: Done   6 tasks      | elapsed:    0.0s\n"
     ]
    },
    {
     "name": "stdout",
     "output_type": "stream",
     "text": [
      "-67.21519257109519\n",
      "{'model__alpha': 0.1, 'model__max_iter': 350, 'model__selection': 'cyclic'}\n",
      "Total time:  0.8883313735326132 minutes\n",
      "neg_mean_absolute_error\n",
      "Fitting 10 folds for each of 3582 candidates, totalling 35820 fits\n"
     ]
    },
    {
     "name": "stderr",
     "output_type": "stream",
     "text": [
      "[Parallel(n_jobs=6)]: Done 372 tasks      | elapsed:    0.6s\n",
      "[Parallel(n_jobs=6)]: Done 3252 tasks      | elapsed:    6.2s\n",
      "[Parallel(n_jobs=6)]: Done 7284 tasks      | elapsed:   12.4s\n",
      "[Parallel(n_jobs=6)]: Done 12468 tasks      | elapsed:   19.9s\n",
      "[Parallel(n_jobs=6)]: Done 18804 tasks      | elapsed:   29.8s\n",
      "[Parallel(n_jobs=6)]: Done 26292 tasks      | elapsed:   41.3s\n",
      "[Parallel(n_jobs=6)]: Done 34932 tasks      | elapsed:   54.8s\n",
      "[Parallel(n_jobs=6)]: Done 35820 out of 35820 | elapsed:   56.2s finished\n",
      "C:\\ProgramData\\Anaconda3\\lib\\site-packages\\sklearn\\linear_model\\_coordinate_descent.py:529: ConvergenceWarning: Objective did not converge. You might want to increase the number of iterations. Duality gap: 115260.35257146508, tolerance: 916.8450781561908\n",
      "  model = cd_fast.enet_coordinate_descent(\n",
      "[Parallel(n_jobs=6)]: Using backend LokyBackend with 6 concurrent workers.\n",
      "[Parallel(n_jobs=6)]: Done   6 tasks      | elapsed:    0.0s\n"
     ]
    },
    {
     "name": "stdout",
     "output_type": "stream",
     "text": [
      "-6657.548388715373\n",
      "{'model__alpha': 0.1, 'model__max_iter': 400, 'model__selection': 'random'}\n",
      "Total time:  0.9405562082926432 minutes\n",
      "neg_mean_squared_error\n",
      "Fitting 10 folds for each of 3582 candidates, totalling 35820 fits\n"
     ]
    },
    {
     "name": "stderr",
     "output_type": "stream",
     "text": [
      "[Parallel(n_jobs=6)]: Done 282 tasks      | elapsed:    0.5s\n",
      "[Parallel(n_jobs=6)]: Done 3066 tasks      | elapsed:    6.5s\n",
      "[Parallel(n_jobs=6)]: Done 7098 tasks      | elapsed:   12.5s\n",
      "[Parallel(n_jobs=6)]: Done 12282 tasks      | elapsed:   20.0s\n",
      "[Parallel(n_jobs=6)]: Done 18618 tasks      | elapsed:   31.3s\n",
      "[Parallel(n_jobs=6)]: Done 26106 tasks      | elapsed:   44.4s\n",
      "[Parallel(n_jobs=6)]: Done 34746 tasks      | elapsed:   58.4s\n"
     ]
    },
    {
     "name": "stdout",
     "output_type": "stream",
     "text": [
      "0.311368824471978\n",
      "{'model__alpha': 0.1, 'model__max_iter': 400, 'model__selection': 'random'}\n",
      "Total time:  1.003538393974304 minutes\n",
      "r2\n"
     ]
    },
    {
     "name": "stderr",
     "output_type": "stream",
     "text": [
      "[Parallel(n_jobs=6)]: Done 35820 out of 35820 | elapsed:  1.0min finished\n",
      "C:\\ProgramData\\Anaconda3\\lib\\site-packages\\sklearn\\linear_model\\_coordinate_descent.py:529: ConvergenceWarning: Objective did not converge. You might want to increase the number of iterations. Duality gap: 73141.30956394877, tolerance: 916.8450781561908\n",
      "  model = cd_fast.enet_coordinate_descent(\n"
     ]
    }
   ],
   "source": [
    "from sklearn.linear_model import Lasso\n",
    "model = Lasso()\n",
    "pipe = Pipeline(steps=[('sc', sc), ('model', model)])\n",
    "\n",
    "param_grid   =  [{'model__alpha' : [x*0.1 for x in range(1,10)],\n",
    "                  'model__max_iter' : [x for x in range(50, 10000, 50)],\n",
    "                  'model__selection' : ['cyclic','random']}]\n",
    "\n",
    "pipe.get_params()\n",
    "\n",
    "estimator = pipe\n",
    "\n",
    "scores = ['neg_mean_absolute_error', 'neg_mean_squared_error', 'r2']\n",
    "cv = 10\n",
    "\n",
    "for score in scores:\n",
    "    grid(Xtrain = X_train_std,\n",
    "                ytrain = y_train,\n",
    "                estimator = pipe,\n",
    "                params_grid = param_grid,\n",
    "                scores=score,\n",
    "                cvs = cv,\n",
    "                cores=6,\n",
    "                verb=5)\n",
    "    print(score)"
   ]
  },
  {
   "cell_type": "markdown",
   "metadata": {},
   "source": [
    "# ElasticNet"
   ]
  },
  {
   "cell_type": "code",
   "execution_count": 55,
   "metadata": {},
   "outputs": [
    {
     "name": "stderr",
     "output_type": "stream",
     "text": [
      "[Parallel(n_jobs=6)]: Using backend LokyBackend with 6 concurrent workers.\n",
      "[Parallel(n_jobs=6)]: Done   6 tasks      | elapsed:    0.0s\n"
     ]
    },
    {
     "name": "stdout",
     "output_type": "stream",
     "text": [
      "Fitting 10 folds for each of 16119 candidates, totalling 161190 fits\n"
     ]
    },
    {
     "name": "stderr",
     "output_type": "stream",
     "text": [
      "[Parallel(n_jobs=6)]: Done 372 tasks      | elapsed:    0.5s\n",
      "[Parallel(n_jobs=6)]: Done 5748 tasks      | elapsed:    6.2s\n",
      "[Parallel(n_jobs=6)]: Done 13812 tasks      | elapsed:   15.3s\n",
      "[Parallel(n_jobs=6)]: Done 24180 tasks      | elapsed:   26.2s\n",
      "[Parallel(n_jobs=6)]: Done 36852 tasks      | elapsed:   39.0s\n",
      "[Parallel(n_jobs=6)]: Done 51828 tasks      | elapsed:   53.3s\n",
      "[Parallel(n_jobs=6)]: Done 69108 tasks      | elapsed:  1.2min\n",
      "[Parallel(n_jobs=6)]: Done 88692 tasks      | elapsed:  1.5min\n",
      "[Parallel(n_jobs=6)]: Done 110580 tasks      | elapsed:  1.8min\n",
      "[Parallel(n_jobs=6)]: Done 134772 tasks      | elapsed:  2.2min\n",
      "[Parallel(n_jobs=6)]: Done 160796 tasks      | elapsed:  2.6min\n",
      "[Parallel(n_jobs=6)]: Done 161190 out of 161190 | elapsed:  2.6min finished\n",
      "C:\\ProgramData\\Anaconda3\\lib\\site-packages\\sklearn\\linear_model\\_coordinate_descent.py:529: ConvergenceWarning: Objective did not converge. You might want to increase the number of iterations. Duality gap: 877419.108143169, tolerance: 916.8450781561908\n",
      "  model = cd_fast.enet_coordinate_descent(\n",
      "[Parallel(n_jobs=6)]: Using backend LokyBackend with 6 concurrent workers.\n",
      "[Parallel(n_jobs=6)]: Done   6 tasks      | elapsed:    0.0s\n"
     ]
    },
    {
     "name": "stdout",
     "output_type": "stream",
     "text": [
      "-68.00384519083332\n",
      "{'model__alpha': 0.1, 'model__l1_ratio': 0.9, 'model__max_iter': 100}\n",
      "Total time:  2.592602022488912 minutes\n",
      "neg_mean_absolute_error\n",
      "Fitting 10 folds for each of 16119 candidates, totalling 161190 fits\n"
     ]
    },
    {
     "name": "stderr",
     "output_type": "stream",
     "text": [
      "[Parallel(n_jobs=6)]: Done 372 tasks      | elapsed:    0.8s\n",
      "[Parallel(n_jobs=6)]: Done 3252 tasks      | elapsed:    4.2s\n",
      "[Parallel(n_jobs=6)]: Done 7284 tasks      | elapsed:    8.5s\n",
      "[Parallel(n_jobs=6)]: Done 12468 tasks      | elapsed:   13.9s\n",
      "[Parallel(n_jobs=6)]: Done 18804 tasks      | elapsed:   21.0s\n",
      "[Parallel(n_jobs=6)]: Done 26292 tasks      | elapsed:   28.0s\n",
      "[Parallel(n_jobs=6)]: Done 34932 tasks      | elapsed:   37.3s\n",
      "[Parallel(n_jobs=6)]: Done 44724 tasks      | elapsed:   46.2s\n",
      "[Parallel(n_jobs=6)]: Done 55668 tasks      | elapsed:   57.9s\n",
      "[Parallel(n_jobs=6)]: Done 67764 tasks      | elapsed:  1.2min\n",
      "[Parallel(n_jobs=6)]: Done 81012 tasks      | elapsed:  1.4min\n",
      "[Parallel(n_jobs=6)]: Done 95412 tasks      | elapsed:  1.6min\n",
      "[Parallel(n_jobs=6)]: Done 110964 tasks      | elapsed:  1.9min\n",
      "[Parallel(n_jobs=6)]: Done 127668 tasks      | elapsed:  2.2min\n",
      "[Parallel(n_jobs=6)]: Done 145524 tasks      | elapsed:  2.4min\n",
      "[Parallel(n_jobs=6)]: Done 161190 out of 161190 | elapsed:  2.7min finished\n",
      "C:\\ProgramData\\Anaconda3\\lib\\site-packages\\sklearn\\linear_model\\_coordinate_descent.py:529: ConvergenceWarning: Objective did not converge. You might want to increase the number of iterations. Duality gap: 877419.108143169, tolerance: 916.8450781561908\n",
      "  model = cd_fast.enet_coordinate_descent(\n"
     ]
    },
    {
     "name": "stdout",
     "output_type": "stream",
     "text": [
      "-6756.403466337346\n",
      "{'model__alpha': 0.1, 'model__l1_ratio': 0.9, 'model__max_iter': 100}\n",
      "Total time:  2.6927709658940633 minutes\n",
      "neg_mean_squared_error\n",
      "Fitting 10 folds for each of 16119 candidates, totalling 161190 fits\n"
     ]
    },
    {
     "name": "stderr",
     "output_type": "stream",
     "text": [
      "[Parallel(n_jobs=6)]: Using backend LokyBackend with 6 concurrent workers.\n",
      "[Parallel(n_jobs=6)]: Done   6 tasks      | elapsed:    0.0s\n",
      "[Parallel(n_jobs=6)]: Done 372 tasks      | elapsed:    0.5s\n",
      "[Parallel(n_jobs=6)]: Done 5748 tasks      | elapsed:    6.9s\n",
      "[Parallel(n_jobs=6)]: Done 13812 tasks      | elapsed:   17.0s\n",
      "[Parallel(n_jobs=6)]: Done 24180 tasks      | elapsed:   27.9s\n",
      "[Parallel(n_jobs=6)]: Done 36852 tasks      | elapsed:   40.7s\n",
      "[Parallel(n_jobs=6)]: Done 51828 tasks      | elapsed:   54.7s\n",
      "[Parallel(n_jobs=6)]: Done 69108 tasks      | elapsed:  1.2min\n",
      "[Parallel(n_jobs=6)]: Done 88692 tasks      | elapsed:  1.5min\n",
      "[Parallel(n_jobs=6)]: Done 110580 tasks      | elapsed:  1.9min\n",
      "[Parallel(n_jobs=6)]: Done 134772 tasks      | elapsed:  2.3min\n",
      "[Parallel(n_jobs=6)]: Done 160796 tasks      | elapsed:  2.7min\n",
      "[Parallel(n_jobs=6)]: Done 161190 out of 161190 | elapsed:  2.7min finished\n",
      "C:\\ProgramData\\Anaconda3\\lib\\site-packages\\sklearn\\linear_model\\_coordinate_descent.py:529: ConvergenceWarning: Objective did not converge. You might want to increase the number of iterations. Duality gap: 877419.108143169, tolerance: 916.8450781561908\n",
      "  model = cd_fast.enet_coordinate_descent(\n"
     ]
    },
    {
     "name": "stdout",
     "output_type": "stream",
     "text": [
      "0.3013005530743831\n",
      "{'model__alpha': 0.1, 'model__l1_ratio': 0.9, 'model__max_iter': 100}\n",
      "Total time:  2.6756309866905212 minutes\n",
      "r2\n"
     ]
    }
   ],
   "source": [
    "from sklearn.linear_model import ElasticNet\n",
    "model = ElasticNet()\n",
    "pipe = Pipeline(steps=[('sc', sc), ('model', model)])\n",
    "\n",
    "param_grid   =  [{'model__alpha' : [x*0.1 for x in range(1,10)],\n",
    "                  'model__max_iter' : [x for x in range(50, 10000, 50)],\n",
    "                  'model__l1_ratio' : [x*0.1 for x in range(1,10)]}]\n",
    "pipe.get_params()\n",
    "\n",
    "estimator = pipe\n",
    "\n",
    "scores = ['neg_mean_absolute_error', 'neg_mean_squared_error', 'r2']\n",
    "cv = 10\n",
    "\n",
    "for score in scores:\n",
    "    grid(Xtrain = X_train_std,\n",
    "                ytrain = y_train,\n",
    "                estimator = pipe,\n",
    "                params_grid = param_grid,\n",
    "                scores=score,\n",
    "                cvs = cv,\n",
    "                cores=6,\n",
    "                verb=5)\n",
    "    print(score)"
   ]
  },
  {
   "cell_type": "markdown",
   "metadata": {},
   "source": [
    "# OrthogonalMatchingPursuit"
   ]
  },
  {
   "cell_type": "code",
   "execution_count": 57,
   "metadata": {},
   "outputs": [
    {
     "name": "stdout",
     "output_type": "stream",
     "text": [
      "Fitting 10 folds for each of 18 candidates, totalling 180 fits\n",
      "-67.11162898315615\n",
      "{'model__fit_intercept': True, 'model__n_nonzero_coefs': 7}\n"
     ]
    },
    {
     "name": "stderr",
     "output_type": "stream",
     "text": [
      "[Parallel(n_jobs=6)]: Using backend LokyBackend with 6 concurrent workers.\n",
      "[Parallel(n_jobs=6)]: Done   6 tasks      | elapsed:    0.0s\n",
      "[Parallel(n_jobs=6)]: Done 132 out of 180 | elapsed:    0.1s remaining:    0.0s\n",
      "[Parallel(n_jobs=6)]: Done 180 out of 180 | elapsed:    0.1s finished\n"
     ]
    },
    {
     "name": "stdout",
     "output_type": "stream",
     "text": [
      "Total time:  0.0033333897590637207 minutes\n",
      "neg_mean_absolute_error\n",
      "Fitting 10 folds for each of 18 candidates, totalling 180 fits\n"
     ]
    },
    {
     "name": "stderr",
     "output_type": "stream",
     "text": [
      "[Parallel(n_jobs=6)]: Using backend LokyBackend with 6 concurrent workers.\n",
      "[Parallel(n_jobs=6)]: Done   6 tasks      | elapsed:    0.0s\n",
      "[Parallel(n_jobs=6)]: Done 132 out of 180 | elapsed:    0.1s remaining:    0.0s\n",
      "[Parallel(n_jobs=6)]: Done 180 out of 180 | elapsed:    0.1s finished\n",
      "[Parallel(n_jobs=6)]: Using backend LokyBackend with 6 concurrent workers.\n",
      "[Parallel(n_jobs=6)]: Done   6 tasks      | elapsed:    0.0s\n",
      "[Parallel(n_jobs=6)]: Done 132 out of 180 | elapsed:    0.1s remaining:    0.0s\n"
     ]
    },
    {
     "name": "stdout",
     "output_type": "stream",
     "text": [
      "-6641.569814139092\n",
      "{'model__fit_intercept': True, 'model__n_nonzero_coefs': 7}\n",
      "Total time:  0.0037020484606424967 minutes\n",
      "neg_mean_squared_error\n",
      "Fitting 10 folds for each of 18 candidates, totalling 180 fits\n",
      "0.31287780309079255\n",
      "{'model__fit_intercept': True, 'model__n_nonzero_coefs': 7}\n",
      "Total time:  0.0038677334785461428 minutes\n",
      "r2\n"
     ]
    },
    {
     "name": "stderr",
     "output_type": "stream",
     "text": [
      "[Parallel(n_jobs=6)]: Done 180 out of 180 | elapsed:    0.1s finished\n"
     ]
    }
   ],
   "source": [
    "from sklearn.linear_model import OrthogonalMatchingPursuit\n",
    "model = OrthogonalMatchingPursuit()\n",
    "\n",
    "pipe = Pipeline(steps=[('sc', sc), ('model', model)])\n",
    "\n",
    "param_grid   =  [{'model__fit_intercept' : [True, False],\n",
    "                  'model__n_nonzero_coefs' : [x for x in range(1,10)]}]\n",
    "pipe.get_params()\n",
    "\n",
    "estimator = pipe\n",
    "\n",
    "scores = ['neg_mean_absolute_error', 'neg_mean_squared_error', 'r2']\n",
    "cv = 10\n",
    "\n",
    "for score in scores:\n",
    "    grid(Xtrain = X_train_std,\n",
    "                ytrain = y_train,\n",
    "                estimator = pipe,\n",
    "                params_grid = param_grid,\n",
    "                scores=score,\n",
    "                cvs = cv,\n",
    "                cores=6,\n",
    "                verb=5)\n",
    "    print(score)"
   ]
  },
  {
   "cell_type": "markdown",
   "metadata": {},
   "source": [
    "# BayesianRidge"
   ]
  },
  {
   "cell_type": "code",
   "execution_count": 60,
   "metadata": {},
   "outputs": [
    {
     "name": "stdout",
     "output_type": "stream",
     "text": [
      "Fitting 10 folds for each of 477799 candidates, totalling 4777990 fits\n"
     ]
    },
    {
     "name": "stderr",
     "output_type": "stream",
     "text": [
      "[Parallel(n_jobs=6)]: Using backend LokyBackend with 6 concurrent workers.\n",
      "[Parallel(n_jobs=6)]: Done   6 tasks      | elapsed:    0.0s\n",
      "[Parallel(n_jobs=6)]: Done 372 tasks      | elapsed:    0.4s\n",
      "[Parallel(n_jobs=6)]: Done 5748 tasks      | elapsed:    5.9s\n",
      "[Parallel(n_jobs=6)]: Done 13812 tasks      | elapsed:   14.2s\n",
      "[Parallel(n_jobs=6)]: Done 24180 tasks      | elapsed:   25.7s\n",
      "[Parallel(n_jobs=6)]: Done 36852 tasks      | elapsed:   39.6s\n",
      "[Parallel(n_jobs=6)]: Done 51828 tasks      | elapsed:   58.6s\n",
      "[Parallel(n_jobs=6)]: Done 69108 tasks      | elapsed:  1.4min\n",
      "[Parallel(n_jobs=6)]: Done 88692 tasks      | elapsed:  1.7min\n",
      "[Parallel(n_jobs=6)]: Done 110580 tasks      | elapsed:  2.2min\n",
      "[Parallel(n_jobs=6)]: Done 134772 tasks      | elapsed:  2.6min\n",
      "[Parallel(n_jobs=6)]: Done 161268 tasks      | elapsed:  3.1min\n",
      "[Parallel(n_jobs=6)]: Done 190068 tasks      | elapsed:  3.7min\n",
      "[Parallel(n_jobs=6)]: Done 221172 tasks      | elapsed:  4.3min\n",
      "[Parallel(n_jobs=6)]: Done 254580 tasks      | elapsed:  4.9min\n",
      "[Parallel(n_jobs=6)]: Done 285564 tasks      | elapsed:  5.6min\n",
      "[Parallel(n_jobs=6)]: Done 314076 tasks      | elapsed:  6.2min\n",
      "[Parallel(n_jobs=6)]: Done 344316 tasks      | elapsed:  6.8min\n",
      "[Parallel(n_jobs=6)]: Done 376284 tasks      | elapsed:  7.4min\n",
      "[Parallel(n_jobs=6)]: Done 409980 tasks      | elapsed:  8.1min\n",
      "[Parallel(n_jobs=6)]: Done 445404 tasks      | elapsed:  8.7min\n",
      "[Parallel(n_jobs=6)]: Done 482556 tasks      | elapsed:  9.5min\n",
      "[Parallel(n_jobs=6)]: Done 521436 tasks      | elapsed: 10.2min\n",
      "[Parallel(n_jobs=6)]: Done 562044 tasks      | elapsed: 11.1min\n",
      "[Parallel(n_jobs=6)]: Done 604380 tasks      | elapsed: 11.9min\n",
      "[Parallel(n_jobs=6)]: Done 648444 tasks      | elapsed: 12.8min\n",
      "[Parallel(n_jobs=6)]: Done 694236 tasks      | elapsed: 13.8min\n",
      "[Parallel(n_jobs=6)]: Done 741756 tasks      | elapsed: 14.9min\n",
      "[Parallel(n_jobs=6)]: Done 781884 tasks      | elapsed: 16.1min\n",
      "[Parallel(n_jobs=6)]: Done 808596 tasks      | elapsed: 16.7min\n",
      "[Parallel(n_jobs=6)]: Done 861300 tasks      | elapsed: 18.0min\n",
      "[Parallel(n_jobs=6)]: Done 915732 tasks      | elapsed: 19.3min\n",
      "[Parallel(n_jobs=6)]: Done 937332 tasks      | elapsed: 20.2min\n",
      "[Parallel(n_jobs=6)]: Done 994212 tasks      | elapsed: 21.4min\n",
      "[Parallel(n_jobs=6)]: Done 1053828 tasks      | elapsed: 22.9min\n",
      "[Parallel(n_jobs=6)]: Done 1113252 tasks      | elapsed: 24.5min\n",
      "[Parallel(n_jobs=6)]: Done 1159524 tasks      | elapsed: 25.6min\n",
      "[Parallel(n_jobs=6)]: Done 1224324 tasks      | elapsed: 27.2min\n",
      "[Parallel(n_jobs=6)]: Done 1280796 tasks      | elapsed: 28.6min\n",
      "[Parallel(n_jobs=6)]: Done 1338180 tasks      | elapsed: 30.1min\n",
      "[Parallel(n_jobs=6)]: Done 1409268 tasks      | elapsed: 31.7min\n",
      "[Parallel(n_jobs=6)]: Done 1459092 tasks      | elapsed: 33.0min\n",
      "[Parallel(n_jobs=6)]: Done 1535748 tasks      | elapsed: 34.8min\n",
      "[Parallel(n_jobs=6)]: Done 1583364 tasks      | elapsed: 36.1min\n",
      "[Parallel(n_jobs=6)]: Done 1632948 tasks      | elapsed: 37.5min\n",
      "[Parallel(n_jobs=6)]: Done 1711572 tasks      | elapsed: 39.2min\n",
      "[Parallel(n_jobs=6)]: Done 1794516 tasks      | elapsed: 41.0min\n",
      "[Parallel(n_jobs=6)]: Done 1864956 tasks      | elapsed: 43.0min\n",
      "[Parallel(n_jobs=6)]: Done 1939716 tasks      | elapsed: 44.7min\n",
      "[Parallel(n_jobs=6)]: Done 1996884 tasks      | elapsed: 46.0min\n",
      "[Parallel(n_jobs=6)]: Done 2063076 tasks      | elapsed: 47.9min\n",
      "[Parallel(n_jobs=6)]: Done 2143188 tasks      | elapsed: 49.8min\n",
      "[Parallel(n_jobs=6)]: Done 2211396 tasks      | elapsed: 51.5min\n",
      "[Parallel(n_jobs=6)]: Done 2294700 tasks      | elapsed: 53.4min\n",
      "[Parallel(n_jobs=6)]: Done 2384796 tasks      | elapsed: 55.5min\n",
      "[Parallel(n_jobs=6)]: Done 2455524 tasks      | elapsed: 57.3min\n",
      "[Parallel(n_jobs=6)]: Done 2520324 tasks      | elapsed: 59.0min\n",
      "[Parallel(n_jobs=6)]: Done 2619684 tasks      | elapsed: 61.0min\n",
      "[Parallel(n_jobs=6)]: Done 2720772 tasks      | elapsed: 62.9min\n",
      "[Parallel(n_jobs=6)]: Done 2823588 tasks      | elapsed: 64.9min\n",
      "[Parallel(n_jobs=6)]: Done 2928132 tasks      | elapsed: 67.0min\n",
      "[Parallel(n_jobs=6)]: Done 3034404 tasks      | elapsed: 69.1min\n",
      "[Parallel(n_jobs=6)]: Done 3142404 tasks      | elapsed: 71.2min\n",
      "[Parallel(n_jobs=6)]: Done 3252132 tasks      | elapsed: 73.3min\n",
      "[Parallel(n_jobs=6)]: Done 3363588 tasks      | elapsed: 75.5min\n",
      "[Parallel(n_jobs=6)]: Done 3476772 tasks      | elapsed: 77.7min\n",
      "[Parallel(n_jobs=6)]: Done 3591684 tasks      | elapsed: 79.9min\n",
      "[Parallel(n_jobs=6)]: Done 3708324 tasks      | elapsed: 82.2min\n",
      "[Parallel(n_jobs=6)]: Done 3826692 tasks      | elapsed: 84.5min\n",
      "[Parallel(n_jobs=6)]: Done 3946788 tasks      | elapsed: 86.9min\n",
      "[Parallel(n_jobs=6)]: Done 4068612 tasks      | elapsed: 89.2min\n",
      "[Parallel(n_jobs=6)]: Done 4192164 tasks      | elapsed: 91.7min\n",
      "[Parallel(n_jobs=6)]: Done 4317444 tasks      | elapsed: 94.1min\n",
      "[Parallel(n_jobs=6)]: Done 4444452 tasks      | elapsed: 96.6min\n",
      "[Parallel(n_jobs=6)]: Done 4573188 tasks      | elapsed: 99.1min\n",
      "[Parallel(n_jobs=6)]: Done 4703652 tasks      | elapsed: 101.6min\n",
      "[Parallel(n_jobs=6)]: Done 4777990 out of 4777990 | elapsed: 103.1min finished\n"
     ]
    },
    {
     "name": "stdout",
     "output_type": "stream",
     "text": [
      "Convergence after  10  iterations\n",
      "-67.21933161246935\n",
      "{'model__alpha_1': 1.0, 'model__alpha_2': 1e-06, 'model__lambda_1': 1e-06, 'model__lambda_2': 1.0, 'model__n_iter': 50, 'model__verbose': True}\n",
      "Total time:  103.3246371905009 minutes\n",
      "neg_mean_absolute_error\n",
      "Fitting 10 folds for each of 477799 candidates, totalling 4777990 fits\n"
     ]
    },
    {
     "name": "stderr",
     "output_type": "stream",
     "text": [
      "[Parallel(n_jobs=6)]: Using backend LokyBackend with 6 concurrent workers.\n",
      "[Parallel(n_jobs=6)]: Done   6 tasks      | elapsed:    0.0s\n",
      "[Parallel(n_jobs=6)]: Done 372 tasks      | elapsed:    0.5s\n",
      "[Parallel(n_jobs=6)]: Done 5748 tasks      | elapsed:    5.9s\n",
      "[Parallel(n_jobs=6)]: Done 13812 tasks      | elapsed:   14.1s\n",
      "[Parallel(n_jobs=6)]: Done 24180 tasks      | elapsed:   31.1s\n",
      "[Parallel(n_jobs=6)]: Done 28740 tasks      | elapsed:   42.8s\n",
      "[Parallel(n_jobs=6)]: Done 31548 tasks      | elapsed:   50.0s\n",
      "[Parallel(n_jobs=6)]: Done 34788 tasks      | elapsed:   57.6s\n",
      "[Parallel(n_jobs=6)]: Done 38460 tasks      | elapsed:  1.1min\n",
      "[Parallel(n_jobs=6)]: Done 45516 tasks      | elapsed:  1.2min\n",
      "[Parallel(n_jobs=6)]: Done 63660 tasks      | elapsed:  1.5min\n",
      "[Parallel(n_jobs=6)]: Done 81660 tasks      | elapsed:  2.0min\n",
      "[Parallel(n_jobs=6)]: Done 109788 tasks      | elapsed:  2.5min\n",
      "[Parallel(n_jobs=6)]: Done 140892 tasks      | elapsed:  3.1min\n",
      "[Parallel(n_jobs=6)]: Done 174300 tasks      | elapsed:  3.8min\n",
      "[Parallel(n_jobs=6)]: Done 210012 tasks      | elapsed:  4.5min\n",
      "[Parallel(n_jobs=6)]: Done 248028 tasks      | elapsed:  5.2min\n",
      "[Parallel(n_jobs=6)]: Done 288348 tasks      | elapsed:  6.0min\n",
      "[Parallel(n_jobs=6)]: Done 330972 tasks      | elapsed:  6.8min\n",
      "[Parallel(n_jobs=6)]: Done 375900 tasks      | elapsed:  7.7min\n",
      "[Parallel(n_jobs=6)]: Done 423132 tasks      | elapsed:  8.6min\n",
      "[Parallel(n_jobs=6)]: Done 472668 tasks      | elapsed:  9.5min\n",
      "[Parallel(n_jobs=6)]: Done 524508 tasks      | elapsed: 10.5min\n",
      "[Parallel(n_jobs=6)]: Done 578652 tasks      | elapsed: 11.6min\n",
      "[Parallel(n_jobs=6)]: Done 635100 tasks      | elapsed: 12.7min\n",
      "[Parallel(n_jobs=6)]: Done 693852 tasks      | elapsed: 13.8min\n",
      "[Parallel(n_jobs=6)]: Done 754908 tasks      | elapsed: 15.0min\n",
      "[Parallel(n_jobs=6)]: Done 818268 tasks      | elapsed: 16.2min\n",
      "[Parallel(n_jobs=6)]: Done 883932 tasks      | elapsed: 17.5min\n",
      "[Parallel(n_jobs=6)]: Done 951900 tasks      | elapsed: 18.8min\n",
      "[Parallel(n_jobs=6)]: Done 1022172 tasks      | elapsed: 20.2min\n",
      "[Parallel(n_jobs=6)]: Done 1094748 tasks      | elapsed: 21.6min\n",
      "[Parallel(n_jobs=6)]: Done 1169628 tasks      | elapsed: 23.1min\n",
      "[Parallel(n_jobs=6)]: Done 1246812 tasks      | elapsed: 24.6min\n",
      "[Parallel(n_jobs=6)]: Done 1326300 tasks      | elapsed: 26.1min\n",
      "[Parallel(n_jobs=6)]: Done 1408092 tasks      | elapsed: 27.7min\n",
      "[Parallel(n_jobs=6)]: Done 1492188 tasks      | elapsed: 29.3min\n",
      "[Parallel(n_jobs=6)]: Done 1578588 tasks      | elapsed: 31.0min\n",
      "[Parallel(n_jobs=6)]: Done 1667292 tasks      | elapsed: 32.8min\n",
      "[Parallel(n_jobs=6)]: Done 1758300 tasks      | elapsed: 34.6min\n",
      "[Parallel(n_jobs=6)]: Done 1851612 tasks      | elapsed: 36.4min\n",
      "[Parallel(n_jobs=6)]: Done 1947228 tasks      | elapsed: 38.3min\n",
      "[Parallel(n_jobs=6)]: Done 2045148 tasks      | elapsed: 40.2min\n",
      "[Parallel(n_jobs=6)]: Done 2145372 tasks      | elapsed: 42.1min\n",
      "[Parallel(n_jobs=6)]: Done 2247900 tasks      | elapsed: 44.1min\n",
      "[Parallel(n_jobs=6)]: Done 2352732 tasks      | elapsed: 46.1min\n",
      "[Parallel(n_jobs=6)]: Done 2459868 tasks      | elapsed: 48.2min\n",
      "[Parallel(n_jobs=6)]: Done 2569308 tasks      | elapsed: 50.3min\n",
      "[Parallel(n_jobs=6)]: Done 2681052 tasks      | elapsed: 52.5min\n",
      "[Parallel(n_jobs=6)]: Done 2795100 tasks      | elapsed: 54.7min\n",
      "[Parallel(n_jobs=6)]: Done 2911452 tasks      | elapsed: 57.0min\n",
      "[Parallel(n_jobs=6)]: Done 3030108 tasks      | elapsed: 59.3min\n",
      "[Parallel(n_jobs=6)]: Done 3151068 tasks      | elapsed: 61.6min\n",
      "[Parallel(n_jobs=6)]: Done 3274332 tasks      | elapsed: 64.0min\n",
      "[Parallel(n_jobs=6)]: Done 3399900 tasks      | elapsed: 66.5min\n",
      "[Parallel(n_jobs=6)]: Done 3527772 tasks      | elapsed: 69.0min\n",
      "[Parallel(n_jobs=6)]: Done 3657948 tasks      | elapsed: 71.5min\n",
      "[Parallel(n_jobs=6)]: Done 3790428 tasks      | elapsed: 74.1min\n",
      "[Parallel(n_jobs=6)]: Done 3925212 tasks      | elapsed: 76.7min\n",
      "[Parallel(n_jobs=6)]: Done 4062300 tasks      | elapsed: 79.3min\n",
      "[Parallel(n_jobs=6)]: Done 4201692 tasks      | elapsed: 82.1min\n",
      "[Parallel(n_jobs=6)]: Done 4343388 tasks      | elapsed: 84.8min\n",
      "[Parallel(n_jobs=6)]: Done 4487388 tasks      | elapsed: 87.6min\n",
      "[Parallel(n_jobs=6)]: Done 4633692 tasks      | elapsed: 90.4min\n",
      "[Parallel(n_jobs=6)]: Done 4771980 tasks      | elapsed: 93.1min\n",
      "[Parallel(n_jobs=6)]: Done 4777990 out of 4777990 | elapsed: 93.3min finished\n"
     ]
    },
    {
     "name": "stdout",
     "output_type": "stream",
     "text": [
      "Convergence after  10  iterations\n",
      "-6660.228677944468\n",
      "{'model__alpha_1': 1.0, 'model__alpha_2': 1e-06, 'model__lambda_1': 1e-06, 'model__lambda_2': 1.0, 'model__n_iter': 50, 'model__verbose': True}\n",
      "Total time:  93.49243084192275 minutes\n",
      "neg_mean_squared_error\n",
      "Fitting 10 folds for each of 477799 candidates, totalling 4777990 fits\n"
     ]
    },
    {
     "name": "stderr",
     "output_type": "stream",
     "text": [
      "[Parallel(n_jobs=6)]: Using backend LokyBackend with 6 concurrent workers.\n",
      "[Parallel(n_jobs=6)]: Done   6 tasks      | elapsed:    0.0s\n",
      "[Parallel(n_jobs=6)]: Done 372 tasks      | elapsed:    0.4s\n",
      "[Parallel(n_jobs=6)]: Done 5748 tasks      | elapsed:    6.1s\n",
      "[Parallel(n_jobs=6)]: Done 13812 tasks      | elapsed:   14.8s\n",
      "[Parallel(n_jobs=6)]: Done 23816 tasks      | elapsed:   34.9s\n",
      "[Parallel(n_jobs=6)]: Done 26244 tasks      | elapsed:   40.6s\n",
      "[Parallel(n_jobs=6)]: Done 29052 tasks      | elapsed:   45.8s\n",
      "[Parallel(n_jobs=6)]: Done 38268 tasks      | elapsed:   55.3s\n",
      "[Parallel(n_jobs=6)]: Done 52956 tasks      | elapsed:  1.3min\n",
      "[Parallel(n_jobs=6)]: Done 64428 tasks      | elapsed:  1.6min\n",
      "[Parallel(n_jobs=6)]: Done 88620 tasks      | elapsed:  2.1min\n",
      "[Parallel(n_jobs=6)]: Done 95460 tasks      | elapsed:  2.4min\n",
      "[Parallel(n_jobs=6)]: Done 107916 tasks      | elapsed:  2.7min\n",
      "[Parallel(n_jobs=6)]: Done 131244 tasks      | elapsed:  3.1min\n",
      "[Parallel(n_jobs=6)]: Done 156300 tasks      | elapsed:  3.9min\n",
      "[Parallel(n_jobs=6)]: Done 183084 tasks      | elapsed:  4.4min\n",
      "[Parallel(n_jobs=6)]: Done 211596 tasks      | elapsed:  5.1min\n",
      "[Parallel(n_jobs=6)]: Done 241836 tasks      | elapsed:  5.7min\n",
      "[Parallel(n_jobs=6)]: Done 273804 tasks      | elapsed:  6.3min\n",
      "[Parallel(n_jobs=6)]: Done 307500 tasks      | elapsed:  6.9min\n",
      "[Parallel(n_jobs=6)]: Done 342924 tasks      | elapsed:  7.6min\n",
      "[Parallel(n_jobs=6)]: Done 368652 tasks      | elapsed:  8.3min\n",
      "[Parallel(n_jobs=6)]: Done 394572 tasks      | elapsed:  8.9min\n",
      "[Parallel(n_jobs=6)]: Done 421644 tasks      | elapsed:  9.4min\n",
      "[Parallel(n_jobs=6)]: Done 449868 tasks      | elapsed: 10.0min\n",
      "[Parallel(n_jobs=6)]: Done 479244 tasks      | elapsed: 10.7min\n",
      "[Parallel(n_jobs=6)]: Done 509772 tasks      | elapsed: 11.3min\n",
      "[Parallel(n_jobs=6)]: Done 541452 tasks      | elapsed: 12.0min\n",
      "[Parallel(n_jobs=6)]: Done 574284 tasks      | elapsed: 12.7min\n",
      "[Parallel(n_jobs=6)]: Done 608268 tasks      | elapsed: 13.5min\n",
      "[Parallel(n_jobs=6)]: Done 643404 tasks      | elapsed: 14.3min\n",
      "[Parallel(n_jobs=6)]: Done 679692 tasks      | elapsed: 15.1min\n",
      "[Parallel(n_jobs=6)]: Done 717132 tasks      | elapsed: 15.9min\n",
      "[Parallel(n_jobs=6)]: Done 755724 tasks      | elapsed: 16.7min\n",
      "[Parallel(n_jobs=6)]: Done 795468 tasks      | elapsed: 17.6min\n",
      "[Parallel(n_jobs=6)]: Done 836364 tasks      | elapsed: 18.4min\n",
      "[Parallel(n_jobs=6)]: Done 878412 tasks      | elapsed: 19.4min\n",
      "[Parallel(n_jobs=6)]: Done 921612 tasks      | elapsed: 20.3min\n",
      "[Parallel(n_jobs=6)]: Done 965964 tasks      | elapsed: 21.2min\n",
      "[Parallel(n_jobs=6)]: Done 1011468 tasks      | elapsed: 22.3min\n",
      "[Parallel(n_jobs=6)]: Done 1058124 tasks      | elapsed: 23.3min\n",
      "[Parallel(n_jobs=6)]: Done 1105932 tasks      | elapsed: 24.3min\n",
      "[Parallel(n_jobs=6)]: Done 1154892 tasks      | elapsed: 25.3min\n",
      "[Parallel(n_jobs=6)]: Done 1205004 tasks      | elapsed: 26.5min\n",
      "[Parallel(n_jobs=6)]: Done 1256268 tasks      | elapsed: 27.6min\n",
      "[Parallel(n_jobs=6)]: Done 1308684 tasks      | elapsed: 28.8min\n",
      "[Parallel(n_jobs=6)]: Done 1362252 tasks      | elapsed: 29.9min\n",
      "[Parallel(n_jobs=6)]: Done 1416972 tasks      | elapsed: 31.1min\n",
      "[Parallel(n_jobs=6)]: Done 1472844 tasks      | elapsed: 32.4min\n",
      "[Parallel(n_jobs=6)]: Done 1529868 tasks      | elapsed: 33.5min\n",
      "[Parallel(n_jobs=6)]: Done 1588044 tasks      | elapsed: 34.8min\n",
      "[Parallel(n_jobs=6)]: Done 1647372 tasks      | elapsed: 36.1min\n",
      "[Parallel(n_jobs=6)]: Done 1707852 tasks      | elapsed: 37.4min\n",
      "[Parallel(n_jobs=6)]: Done 1769484 tasks      | elapsed: 38.7min\n",
      "[Parallel(n_jobs=6)]: Done 1832268 tasks      | elapsed: 40.1min\n",
      "[Parallel(n_jobs=6)]: Done 1896204 tasks      | elapsed: 41.3min\n",
      "[Parallel(n_jobs=6)]: Done 1961292 tasks      | elapsed: 42.6min\n",
      "[Parallel(n_jobs=6)]: Done 2027532 tasks      | elapsed: 43.9min\n",
      "[Parallel(n_jobs=6)]: Done 2094924 tasks      | elapsed: 45.3min\n",
      "[Parallel(n_jobs=6)]: Done 2163468 tasks      | elapsed: 46.6min\n",
      "[Parallel(n_jobs=6)]: Done 2233164 tasks      | elapsed: 48.0min\n",
      "[Parallel(n_jobs=6)]: Done 2304012 tasks      | elapsed: 49.4min\n",
      "[Parallel(n_jobs=6)]: Done 2376012 tasks      | elapsed: 50.9min\n",
      "[Parallel(n_jobs=6)]: Done 2449164 tasks      | elapsed: 52.3min\n",
      "[Parallel(n_jobs=6)]: Done 2523468 tasks      | elapsed: 53.7min\n",
      "[Parallel(n_jobs=6)]: Done 2598924 tasks      | elapsed: 55.2min\n",
      "[Parallel(n_jobs=6)]: Done 2675532 tasks      | elapsed: 56.7min\n",
      "[Parallel(n_jobs=6)]: Done 2753292 tasks      | elapsed: 58.2min\n",
      "[Parallel(n_jobs=6)]: Done 2832204 tasks      | elapsed: 59.8min\n",
      "[Parallel(n_jobs=6)]: Done 2912268 tasks      | elapsed: 61.3min\n",
      "[Parallel(n_jobs=6)]: Done 2993484 tasks      | elapsed: 62.9min\n",
      "[Parallel(n_jobs=6)]: Done 3075852 tasks      | elapsed: 64.5min\n",
      "[Parallel(n_jobs=6)]: Done 3159372 tasks      | elapsed: 66.1min\n",
      "[Parallel(n_jobs=6)]: Done 3244044 tasks      | elapsed: 67.8min\n",
      "[Parallel(n_jobs=6)]: Done 3329868 tasks      | elapsed: 69.5min\n",
      "[Parallel(n_jobs=6)]: Done 3416844 tasks      | elapsed: 71.2min\n",
      "[Parallel(n_jobs=6)]: Done 3504972 tasks      | elapsed: 72.9min\n",
      "[Parallel(n_jobs=6)]: Done 3594252 tasks      | elapsed: 74.6min\n",
      "[Parallel(n_jobs=6)]: Done 3684684 tasks      | elapsed: 76.4min\n",
      "[Parallel(n_jobs=6)]: Done 3776268 tasks      | elapsed: 78.2min\n",
      "[Parallel(n_jobs=6)]: Done 3869004 tasks      | elapsed: 79.9min\n",
      "[Parallel(n_jobs=6)]: Done 3962892 tasks      | elapsed: 81.8min\n",
      "[Parallel(n_jobs=6)]: Done 4057932 tasks      | elapsed: 83.6min\n",
      "[Parallel(n_jobs=6)]: Done 4154124 tasks      | elapsed: 85.5min\n",
      "[Parallel(n_jobs=6)]: Done 4251468 tasks      | elapsed: 87.4min\n",
      "[Parallel(n_jobs=6)]: Done 4349964 tasks      | elapsed: 89.3min\n",
      "[Parallel(n_jobs=6)]: Done 4449612 tasks      | elapsed: 91.2min\n",
      "[Parallel(n_jobs=6)]: Done 4550412 tasks      | elapsed: 93.2min\n",
      "[Parallel(n_jobs=6)]: Done 4652364 tasks      | elapsed: 95.1min\n",
      "[Parallel(n_jobs=6)]: Done 4755468 tasks      | elapsed: 97.2min\n",
      "[Parallel(n_jobs=6)]: Done 4777990 out of 4777990 | elapsed: 97.6min finished\n"
     ]
    },
    {
     "name": "stdout",
     "output_type": "stream",
     "text": [
      "Convergence after  10  iterations\n",
      "0.3111986069879795\n",
      "{'model__alpha_1': 1.0, 'model__alpha_2': 1e-06, 'model__lambda_1': 1e-06, 'model__lambda_2': 1.0, 'model__n_iter': 50, 'model__verbose': True}\n",
      "Total time:  97.83360948959987 minutes\n",
      "r2\n"
     ]
    }
   ],
   "source": [
    "from sklearn.linear_model import BayesianRidge\n",
    "model = BayesianRidge()\n",
    "\n",
    "pipe = Pipeline(steps=[('sc', sc), ('model', model)])\n",
    "\n",
    "param_grid   =  [{'model__n_iter' : [x for x in range(50, 10000, 50)],\n",
    "                  'model__alpha_1' : [x*0.000001 for x in [1,10,100,1000,10000,100000,1000000]],\n",
    "                  'model__alpha_2' : [x*0.000001 for x in [1,10,100,1000,10000,100000,1000000]],\n",
    "                  'model__lambda_1' : [x*0.000001 for x in [1,10,100,1000,10000,100000,1000000]],\n",
    "                  'model__lambda_2' : [x*0.000001 for x in [1,10,100,1000,10000,100000,1000000]],\n",
    "                  'model__verbose' : [True]}]\n",
    "\n",
    "pipe.get_params()\n",
    "\n",
    "estimator = pipe\n",
    "\n",
    "scores = ['neg_mean_absolute_error', 'neg_mean_squared_error', 'r2']\n",
    "cv = 10\n",
    "\n",
    "for score in scores:\n",
    "    grid(Xtrain = X_train_std,\n",
    "                ytrain = y_train,\n",
    "                estimator = pipe,\n",
    "                params_grid = param_grid,\n",
    "                scores=score,\n",
    "                cvs = cv,\n",
    "                cores=6,\n",
    "                verb=5)\n",
    "    print(score)"
   ]
  },
  {
   "cell_type": "code",
   "execution_count": 39,
   "metadata": {},
   "outputs": [
    {
     "data": {
      "text/plain": [
       "15"
      ]
     },
     "execution_count": 39,
     "metadata": {},
     "output_type": "execute_result"
    }
   ],
   "source": [
    "len([x for x in range(5, 150, 10)])"
   ]
  },
  {
   "cell_type": "markdown",
   "metadata": {},
   "source": [
    "# ARDRegression"
   ]
  },
  {
   "cell_type": "code",
   "execution_count": 76,
   "metadata": {},
   "outputs": [
    {
     "name": "stdout",
     "output_type": "stream",
     "text": [
      "Fitting 10 folds for each of 24010 candidates, totalling 240100 fits\n"
     ]
    },
    {
     "name": "stderr",
     "output_type": "stream",
     "text": [
      "[Parallel(n_jobs=6)]: Using backend LokyBackend with 6 concurrent workers.\n",
      "[Parallel(n_jobs=6)]: Done   6 tasks      | elapsed:    2.7s\n",
      "[Parallel(n_jobs=6)]: Done  90 tasks      | elapsed:    3.0s\n",
      "[Parallel(n_jobs=6)]: Done 1362 tasks      | elapsed:    8.5s\n",
      "[Parallel(n_jobs=6)]: Done 3378 tasks      | elapsed:   14.7s\n",
      "[Parallel(n_jobs=6)]: Done 5970 tasks      | elapsed:   23.5s\n",
      "[Parallel(n_jobs=6)]: Done 9138 tasks      | elapsed:   34.8s\n",
      "[Parallel(n_jobs=6)]: Done 12882 tasks      | elapsed:   48.9s\n",
      "[Parallel(n_jobs=6)]: Done 17202 tasks      | elapsed:  1.1min\n",
      "[Parallel(n_jobs=6)]: Done 22098 tasks      | elapsed:  1.4min\n",
      "[Parallel(n_jobs=6)]: Done 27570 tasks      | elapsed:  1.6min\n",
      "[Parallel(n_jobs=6)]: Done 33618 tasks      | elapsed:  2.0min\n",
      "[Parallel(n_jobs=6)]: Done 40242 tasks      | elapsed:  2.3min\n",
      "[Parallel(n_jobs=6)]: Done 47442 tasks      | elapsed:  2.8min\n",
      "[Parallel(n_jobs=6)]: Done 55218 tasks      | elapsed:  3.3min\n",
      "[Parallel(n_jobs=6)]: Done 63570 tasks      | elapsed:  3.7min\n",
      "[Parallel(n_jobs=6)]: Done 72498 tasks      | elapsed:  4.2min\n",
      "[Parallel(n_jobs=6)]: Done 82002 tasks      | elapsed:  4.7min\n",
      "[Parallel(n_jobs=6)]: Done 92082 tasks      | elapsed:  5.2min\n",
      "[Parallel(n_jobs=6)]: Done 102738 tasks      | elapsed:  5.7min\n",
      "[Parallel(n_jobs=6)]: Done 113970 tasks      | elapsed:  6.3min\n",
      "[Parallel(n_jobs=6)]: Done 125778 tasks      | elapsed:  7.0min\n",
      "[Parallel(n_jobs=6)]: Done 137812 tasks      | elapsed:  7.6min\n",
      "[Parallel(n_jobs=6)]: Done 150102 tasks      | elapsed:  8.3min\n",
      "[Parallel(n_jobs=6)]: Done 163638 tasks      | elapsed:  9.0min\n",
      "[Parallel(n_jobs=6)]: Done 177750 tasks      | elapsed:  9.7min\n",
      "[Parallel(n_jobs=6)]: Done 192438 tasks      | elapsed: 10.5min\n",
      "[Parallel(n_jobs=6)]: Done 207702 tasks      | elapsed: 11.3min\n",
      "[Parallel(n_jobs=6)]: Done 223542 tasks      | elapsed: 12.1min\n",
      "[Parallel(n_jobs=6)]: Done 239958 tasks      | elapsed: 13.0min\n",
      "[Parallel(n_jobs=6)]: Done 240100 out of 240100 | elapsed: 13.0min finished\n"
     ]
    },
    {
     "name": "stdout",
     "output_type": "stream",
     "text": [
      "-67.13900316406462\n",
      "{'model__alpha_1': 1.0, 'model__alpha_2': 1e-06, 'model__lambda_1': 0.01, 'model__lambda_2': 9.999999999999999e-05, 'model__n_iter': 101}\n",
      "Total time:  13.000765061378479 minutes\n",
      "neg_mean_absolute_error\n",
      "Fitting 10 folds for each of 24010 candidates, totalling 240100 fits\n"
     ]
    },
    {
     "name": "stderr",
     "output_type": "stream",
     "text": [
      "[Parallel(n_jobs=6)]: Using backend LokyBackend with 6 concurrent workers.\n",
      "[Parallel(n_jobs=6)]: Done   6 tasks      | elapsed:    0.0s\n",
      "[Parallel(n_jobs=6)]: Done 372 tasks      | elapsed:    1.7s\n",
      "[Parallel(n_jobs=6)]: Done 1812 tasks      | elapsed:    8.3s\n",
      "[Parallel(n_jobs=6)]: Done 3828 tasks      | elapsed:   14.7s\n",
      "[Parallel(n_jobs=6)]: Done 6420 tasks      | elapsed:   23.1s\n",
      "[Parallel(n_jobs=6)]: Done 9588 tasks      | elapsed:   31.5s\n",
      "[Parallel(n_jobs=6)]: Done 13332 tasks      | elapsed:   44.5s\n",
      "[Parallel(n_jobs=6)]: Done 17652 tasks      | elapsed:   58.2s\n",
      "[Parallel(n_jobs=6)]: Done 22548 tasks      | elapsed:  1.2min\n",
      "[Parallel(n_jobs=6)]: Done 28020 tasks      | elapsed:  1.5min\n",
      "[Parallel(n_jobs=6)]: Done 34068 tasks      | elapsed:  1.8min\n",
      "[Parallel(n_jobs=6)]: Done 40692 tasks      | elapsed:  2.2min\n",
      "[Parallel(n_jobs=6)]: Done 47892 tasks      | elapsed:  2.5min\n",
      "[Parallel(n_jobs=6)]: Done 55668 tasks      | elapsed:  2.9min\n",
      "[Parallel(n_jobs=6)]: Done 64020 tasks      | elapsed:  3.4min\n",
      "[Parallel(n_jobs=6)]: Done 72948 tasks      | elapsed:  3.8min\n",
      "[Parallel(n_jobs=6)]: Done 82452 tasks      | elapsed:  4.3min\n",
      "[Parallel(n_jobs=6)]: Done 92532 tasks      | elapsed:  4.8min\n",
      "[Parallel(n_jobs=6)]: Done 103188 tasks      | elapsed:  5.4min\n",
      "[Parallel(n_jobs=6)]: Done 114420 tasks      | elapsed:  6.0min\n",
      "[Parallel(n_jobs=6)]: Done 126228 tasks      | elapsed:  6.6min\n",
      "[Parallel(n_jobs=6)]: Done 138612 tasks      | elapsed:  7.3min\n",
      "[Parallel(n_jobs=6)]: Done 151572 tasks      | elapsed:  7.9min\n",
      "[Parallel(n_jobs=6)]: Done 165108 tasks      | elapsed:  8.6min\n",
      "[Parallel(n_jobs=6)]: Done 179220 tasks      | elapsed:  9.4min\n",
      "[Parallel(n_jobs=6)]: Done 193908 tasks      | elapsed: 10.1min\n",
      "[Parallel(n_jobs=6)]: Done 209172 tasks      | elapsed: 10.9min\n",
      "[Parallel(n_jobs=6)]: Done 225012 tasks      | elapsed: 11.7min\n",
      "[Parallel(n_jobs=6)]: Done 240100 out of 240100 | elapsed: 12.5min finished\n"
     ]
    },
    {
     "name": "stdout",
     "output_type": "stream",
     "text": [
      "-6649.446495775375\n",
      "{'model__alpha_1': 1.0, 'model__alpha_2': 1e-06, 'model__lambda_1': 0.01, 'model__lambda_2': 9.999999999999999e-05, 'model__n_iter': 101}\n",
      "Total time:  12.514347740014394 minutes\n",
      "neg_mean_squared_error\n",
      "Fitting 10 folds for each of 24010 candidates, totalling 240100 fits\n"
     ]
    },
    {
     "name": "stderr",
     "output_type": "stream",
     "text": [
      "[Parallel(n_jobs=6)]: Using backend LokyBackend with 6 concurrent workers.\n",
      "[Parallel(n_jobs=6)]: Done   6 tasks      | elapsed:    0.0s\n",
      "[Parallel(n_jobs=6)]: Done 372 tasks      | elapsed:    1.5s\n",
      "[Parallel(n_jobs=6)]: Done 1812 tasks      | elapsed:    7.3s\n",
      "[Parallel(n_jobs=6)]: Done 3828 tasks      | elapsed:   13.2s\n",
      "[Parallel(n_jobs=6)]: Done 6420 tasks      | elapsed:   21.5s\n",
      "[Parallel(n_jobs=6)]: Done 9588 tasks      | elapsed:   30.0s\n",
      "[Parallel(n_jobs=6)]: Done 13332 tasks      | elapsed:   43.2s\n",
      "[Parallel(n_jobs=6)]: Done 17652 tasks      | elapsed:   57.6s\n",
      "[Parallel(n_jobs=6)]: Done 22548 tasks      | elapsed:  1.2min\n",
      "[Parallel(n_jobs=6)]: Done 28020 tasks      | elapsed:  1.5min\n",
      "[Parallel(n_jobs=6)]: Done 34068 tasks      | elapsed:  1.8min\n",
      "[Parallel(n_jobs=6)]: Done 40692 tasks      | elapsed:  2.2min\n",
      "[Parallel(n_jobs=6)]: Done 47892 tasks      | elapsed:  2.5min\n",
      "[Parallel(n_jobs=6)]: Done 55668 tasks      | elapsed:  2.9min\n",
      "[Parallel(n_jobs=6)]: Done 64020 tasks      | elapsed:  3.3min\n",
      "[Parallel(n_jobs=6)]: Done 72948 tasks      | elapsed:  3.8min\n",
      "[Parallel(n_jobs=6)]: Done 82452 tasks      | elapsed:  4.3min\n",
      "[Parallel(n_jobs=6)]: Done 92532 tasks      | elapsed:  4.8min\n",
      "[Parallel(n_jobs=6)]: Done 103188 tasks      | elapsed:  5.4min\n",
      "[Parallel(n_jobs=6)]: Done 114420 tasks      | elapsed:  6.0min\n",
      "[Parallel(n_jobs=6)]: Done 126228 tasks      | elapsed:  6.6min\n",
      "[Parallel(n_jobs=6)]: Done 138612 tasks      | elapsed:  7.3min\n",
      "[Parallel(n_jobs=6)]: Done 151572 tasks      | elapsed:  7.9min\n",
      "[Parallel(n_jobs=6)]: Done 165108 tasks      | elapsed:  8.6min\n",
      "[Parallel(n_jobs=6)]: Done 179220 tasks      | elapsed:  9.4min\n",
      "[Parallel(n_jobs=6)]: Done 193908 tasks      | elapsed: 10.1min\n",
      "[Parallel(n_jobs=6)]: Done 209172 tasks      | elapsed: 10.9min\n",
      "[Parallel(n_jobs=6)]: Done 225012 tasks      | elapsed: 11.7min\n",
      "[Parallel(n_jobs=6)]: Done 240100 out of 240100 | elapsed: 12.5min finished\n"
     ]
    },
    {
     "name": "stdout",
     "output_type": "stream",
     "text": [
      "0.3119010582479148\n",
      "{'model__alpha_1': 1.0, 'model__alpha_2': 1e-06, 'model__lambda_1': 0.01, 'model__lambda_2': 9.999999999999999e-05, 'model__n_iter': 101}\n",
      "Total time:  12.507806340853373 minutes\n",
      "r2\n"
     ]
    }
   ],
   "source": [
    "from sklearn.linear_model import ARDRegression\n",
    "model = ARDRegression()\n",
    "\n",
    "pipe = Pipeline(steps=[('sc', sc), ('model', model)])\n",
    "\n",
    "param_grid   =  [{'model__n_iter' : [x for x in range(1, 500,50)],\n",
    "                  'model__alpha_1' : [x*0.000001 for x in [1,10,100,1000,10000,100000,1000000]],\n",
    "                  'model__alpha_2' : [x*0.000001 for x in [1,10,100,1000,10000,100000,1000000]],\n",
    "                  'model__lambda_1' : [x*0.000001 for x in [1,10,100,1000,10000,100000,1000000]],\n",
    "                  'model__lambda_2' : [x*0.000001 for x in [1,10,100,1000,10000,100000,1000000]]}]\n",
    "\n",
    "pipe.get_params()\n",
    "\n",
    "estimator = pipe\n",
    "\n",
    "scores = ['neg_mean_absolute_error', 'neg_mean_squared_error', 'r2']\n",
    "cv = 10\n",
    "\n",
    "for score in scores:\n",
    "    grid(Xtrain = X_train_std,\n",
    "                ytrain = y_train,\n",
    "                estimator = pipe,\n",
    "                params_grid = param_grid,\n",
    "                scores=score,\n",
    "                cvs = cv,\n",
    "                cores=6,\n",
    "                verb=5)\n",
    "    print(score)"
   ]
  },
  {
   "cell_type": "markdown",
   "metadata": {},
   "source": [
    "# RANSACRegressor"
   ]
  },
  {
   "cell_type": "code",
   "execution_count": 77,
   "metadata": {},
   "outputs": [
    {
     "name": "stdout",
     "output_type": "stream",
     "text": [
      "Fitting 10 folds for each of 180 candidates, totalling 1800 fits\n"
     ]
    },
    {
     "name": "stderr",
     "output_type": "stream",
     "text": [
      "[Parallel(n_jobs=6)]: Using backend LokyBackend with 6 concurrent workers.\n",
      "[Parallel(n_jobs=6)]: Done   6 tasks      | elapsed:    0.0s\n",
      "[Parallel(n_jobs=6)]: Done 372 tasks      | elapsed:    4.8s\n",
      "[Parallel(n_jobs=6)]: Done 564 tasks      | elapsed:   10.3s\n",
      "[Parallel(n_jobs=6)]: Done 690 tasks      | elapsed:   15.9s\n",
      "[Parallel(n_jobs=6)]: Done 852 tasks      | elapsed:   24.7s\n",
      "[Parallel(n_jobs=6)]: Done 1434 tasks      | elapsed:   36.9s\n",
      "[Parallel(n_jobs=6)]: Done 1668 tasks      | elapsed:   48.0s\n",
      "[Parallel(n_jobs=6)]: Done 1800 out of 1800 | elapsed:   55.6s finished\n"
     ]
    },
    {
     "name": "stdout",
     "output_type": "stream",
     "text": [
      "-67.46152868265435\n",
      "{'model__loss': 'absolute_loss', 'model__max_trials': 351, 'model__min_samples': 30.0}\n",
      "Total time:  0.9307370185852051 minutes\n",
      "neg_mean_absolute_error\n",
      "Fitting 10 folds for each of 180 candidates, totalling 1800 fits\n"
     ]
    },
    {
     "name": "stderr",
     "output_type": "stream",
     "text": [
      "[Parallel(n_jobs=6)]: Using backend LokyBackend with 6 concurrent workers.\n",
      "[Parallel(n_jobs=6)]: Done   6 tasks      | elapsed:    0.0s\n",
      "[Parallel(n_jobs=6)]: Done 372 tasks      | elapsed:    5.1s\n",
      "[Parallel(n_jobs=6)]: Done 564 tasks      | elapsed:   10.5s\n",
      "[Parallel(n_jobs=6)]: Done 690 tasks      | elapsed:   16.3s\n",
      "[Parallel(n_jobs=6)]: Done 852 tasks      | elapsed:   25.2s\n",
      "[Parallel(n_jobs=6)]: Done 1434 tasks      | elapsed:   37.6s\n",
      "[Parallel(n_jobs=6)]: Done 1668 tasks      | elapsed:   48.0s\n",
      "[Parallel(n_jobs=6)]: Done 1800 out of 1800 | elapsed:   55.6s finished\n",
      "[Parallel(n_jobs=6)]: Using backend LokyBackend with 6 concurrent workers.\n",
      "[Parallel(n_jobs=6)]: Done   6 tasks      | elapsed:    0.0s\n"
     ]
    },
    {
     "name": "stdout",
     "output_type": "stream",
     "text": [
      "-7127.403622099427\n",
      "{'model__loss': 'absolute_loss', 'model__max_trials': 151, 'model__min_samples': 80.0}\n",
      "Total time:  0.929290242989858 minutes\n",
      "neg_mean_squared_error\n",
      "Fitting 10 folds for each of 180 candidates, totalling 1800 fits\n"
     ]
    },
    {
     "name": "stderr",
     "output_type": "stream",
     "text": [
      "[Parallel(n_jobs=6)]: Done 204 tasks      | elapsed:    1.5s\n",
      "[Parallel(n_jobs=6)]: Done 546 tasks      | elapsed:   10.0s\n",
      "[Parallel(n_jobs=6)]: Done 672 tasks      | elapsed:   15.5s\n",
      "[Parallel(n_jobs=6)]: Done 834 tasks      | elapsed:   23.7s\n",
      "[Parallel(n_jobs=6)]: Done 1416 tasks      | elapsed:   36.8s\n",
      "[Parallel(n_jobs=6)]: Done 1650 tasks      | elapsed:   47.5s\n"
     ]
    },
    {
     "name": "stdout",
     "output_type": "stream",
     "text": [
      "0.26208984930752743\n",
      "{'model__loss': 'absolute_loss', 'model__max_trials': 1, 'model__min_samples': 80.0}\n",
      "Total time:  0.933847979704539 minutes\n",
      "r2\n"
     ]
    },
    {
     "name": "stderr",
     "output_type": "stream",
     "text": [
      "[Parallel(n_jobs=6)]: Done 1800 out of 1800 | elapsed:   55.9s finished\n"
     ]
    }
   ],
   "source": [
    "from sklearn.linear_model import RANSACRegressor\n",
    "model = RANSACRegressor()\n",
    "\n",
    "pipe = Pipeline(steps=[('sc', sc), ('model', model)])\n",
    "\n",
    "param_grid   =  [{'model__min_samples' : [x/.1 for x in range(1, 10)],\n",
    "                  'model__max_trials' : [x for x in range(1, 500,50)],\n",
    "                  'model__loss' : ['absolute_loss', 'squared_loss']}]\n",
    "\n",
    "pipe.get_params()\n",
    "\n",
    "estimator = pipe\n",
    "\n",
    "scores = ['neg_mean_absolute_error', 'neg_mean_squared_error', 'r2']\n",
    "cv = 10\n",
    "\n",
    "for score in scores:\n",
    "    grid(Xtrain = X_train_std,\n",
    "                ytrain = y_train,\n",
    "                estimator = pipe,\n",
    "                params_grid = param_grid,\n",
    "                scores=score,\n",
    "                cvs = cv,\n",
    "                cores=6,\n",
    "                verb=5)\n",
    "    print(score)"
   ]
  },
  {
   "cell_type": "markdown",
   "metadata": {},
   "source": [
    "# TheilSenRegressor"
   ]
  },
  {
   "cell_type": "code",
   "execution_count": 78,
   "metadata": {},
   "outputs": [
    {
     "name": "stderr",
     "output_type": "stream",
     "text": [
      "[Parallel(n_jobs=6)]: Using backend LokyBackend with 6 concurrent workers.\n",
      "[Parallel(n_jobs=6)]: Done   6 tasks      | elapsed:    0.0s\n"
     ]
    },
    {
     "name": "stdout",
     "output_type": "stream",
     "text": [
      "Fitting 10 folds for each of 3458 candidates, totalling 34580 fits\n"
     ]
    },
    {
     "name": "stderr",
     "output_type": "stream",
     "text": [
      "[Parallel(n_jobs=6)]: Done 372 tasks      | elapsed:    0.4s\n",
      "[Parallel(n_jobs=6)]: Done 3252 tasks      | elapsed:    3.3s\n",
      "[Parallel(n_jobs=6)]: Done 7284 tasks      | elapsed:    7.1s\n",
      "[Parallel(n_jobs=6)]: Done 12468 tasks      | elapsed:   12.2s\n",
      "[Parallel(n_jobs=6)]: Done 18804 tasks      | elapsed:   18.3s\n",
      "[Parallel(n_jobs=6)]: Done 26292 tasks      | elapsed:   25.5s\n",
      "[Parallel(n_jobs=6)]: Done 34467 tasks      | elapsed:   33.3s\n",
      "[Parallel(n_jobs=6)]: Done 34580 out of 34580 | elapsed:   33.3s finished\n"
     ]
    },
    {
     "ename": "RuntimeError",
     "evalue": "Cannot clone object TheilSenRegressor(max_iter=500, max_subpopulation=1.0, n_subsamples=409), as the constructor either does not set or modifies parameter max_subpopulation",
     "output_type": "error",
     "traceback": [
      "\u001b[1;31m---------------------------------------------------------------------------\u001b[0m",
      "\u001b[1;31mRuntimeError\u001b[0m                              Traceback (most recent call last)",
      "\u001b[1;32m<ipython-input-78-2de1bb1e6302>\u001b[0m in \u001b[0;36m<module>\u001b[1;34m\u001b[0m\n\u001b[0;32m     16\u001b[0m \u001b[1;33m\u001b[0m\u001b[0m\n\u001b[0;32m     17\u001b[0m \u001b[1;32mfor\u001b[0m \u001b[0mscore\u001b[0m \u001b[1;32min\u001b[0m \u001b[0mscores\u001b[0m\u001b[1;33m:\u001b[0m\u001b[1;33m\u001b[0m\u001b[1;33m\u001b[0m\u001b[0m\n\u001b[1;32m---> 18\u001b[1;33m     grid(Xtrain = X_train_std,\n\u001b[0m\u001b[0;32m     19\u001b[0m                 \u001b[0mytrain\u001b[0m \u001b[1;33m=\u001b[0m \u001b[0my_train\u001b[0m\u001b[1;33m,\u001b[0m\u001b[1;33m\u001b[0m\u001b[1;33m\u001b[0m\u001b[0m\n\u001b[0;32m     20\u001b[0m                 \u001b[0mestimator\u001b[0m \u001b[1;33m=\u001b[0m \u001b[0mpipe\u001b[0m\u001b[1;33m,\u001b[0m\u001b[1;33m\u001b[0m\u001b[1;33m\u001b[0m\u001b[0m\n",
      "\u001b[1;32m<ipython-input-22-16db00b493b4>\u001b[0m in \u001b[0;36mgrid\u001b[1;34m(Xtrain, ytrain, estimator, params_grid, scores, cvs, cores, verb)\u001b[0m\n\u001b[0;32m     17\u001b[0m                       verbose=verb)\n\u001b[0;32m     18\u001b[0m \u001b[1;33m\u001b[0m\u001b[0m\n\u001b[1;32m---> 19\u001b[1;33m     \u001b[0mgs\u001b[0m \u001b[1;33m=\u001b[0m \u001b[0mgs\u001b[0m\u001b[1;33m.\u001b[0m\u001b[0mfit\u001b[0m\u001b[1;33m(\u001b[0m\u001b[0mXtrain\u001b[0m\u001b[1;33m,\u001b[0m \u001b[0mytrain\u001b[0m\u001b[1;33m)\u001b[0m\u001b[1;33m\u001b[0m\u001b[1;33m\u001b[0m\u001b[0m\n\u001b[0m\u001b[0;32m     20\u001b[0m     \u001b[0mprint\u001b[0m\u001b[1;33m(\u001b[0m\u001b[0mgs\u001b[0m\u001b[1;33m.\u001b[0m\u001b[0mbest_score_\u001b[0m\u001b[1;33m)\u001b[0m\u001b[1;33m\u001b[0m\u001b[1;33m\u001b[0m\u001b[0m\n\u001b[0;32m     21\u001b[0m     \u001b[0mprint\u001b[0m\u001b[1;33m(\u001b[0m\u001b[0mgs\u001b[0m\u001b[1;33m.\u001b[0m\u001b[0mbest_params_\u001b[0m\u001b[1;33m)\u001b[0m\u001b[1;33m\u001b[0m\u001b[1;33m\u001b[0m\u001b[0m\n",
      "\u001b[1;32mC:\\ProgramData\\Anaconda3\\lib\\site-packages\\sklearn\\utils\\validation.py\u001b[0m in \u001b[0;36minner_f\u001b[1;34m(*args, **kwargs)\u001b[0m\n\u001b[0;32m     70\u001b[0m                           FutureWarning)\n\u001b[0;32m     71\u001b[0m         \u001b[0mkwargs\u001b[0m\u001b[1;33m.\u001b[0m\u001b[0mupdate\u001b[0m\u001b[1;33m(\u001b[0m\u001b[1;33m{\u001b[0m\u001b[0mk\u001b[0m\u001b[1;33m:\u001b[0m \u001b[0marg\u001b[0m \u001b[1;32mfor\u001b[0m \u001b[0mk\u001b[0m\u001b[1;33m,\u001b[0m \u001b[0marg\u001b[0m \u001b[1;32min\u001b[0m \u001b[0mzip\u001b[0m\u001b[1;33m(\u001b[0m\u001b[0msig\u001b[0m\u001b[1;33m.\u001b[0m\u001b[0mparameters\u001b[0m\u001b[1;33m,\u001b[0m \u001b[0margs\u001b[0m\u001b[1;33m)\u001b[0m\u001b[1;33m}\u001b[0m\u001b[1;33m)\u001b[0m\u001b[1;33m\u001b[0m\u001b[1;33m\u001b[0m\u001b[0m\n\u001b[1;32m---> 72\u001b[1;33m         \u001b[1;32mreturn\u001b[0m \u001b[0mf\u001b[0m\u001b[1;33m(\u001b[0m\u001b[1;33m**\u001b[0m\u001b[0mkwargs\u001b[0m\u001b[1;33m)\u001b[0m\u001b[1;33m\u001b[0m\u001b[1;33m\u001b[0m\u001b[0m\n\u001b[0m\u001b[0;32m     73\u001b[0m     \u001b[1;32mreturn\u001b[0m \u001b[0minner_f\u001b[0m\u001b[1;33m\u001b[0m\u001b[1;33m\u001b[0m\u001b[0m\n\u001b[0;32m     74\u001b[0m \u001b[1;33m\u001b[0m\u001b[0m\n",
      "\u001b[1;32mC:\\ProgramData\\Anaconda3\\lib\\site-packages\\sklearn\\model_selection\\_search.py\u001b[0m in \u001b[0;36mfit\u001b[1;34m(self, X, y, groups, **fit_params)\u001b[0m\n\u001b[0;32m    759\u001b[0m             \u001b[1;31m# we clone again after setting params in case some\u001b[0m\u001b[1;33m\u001b[0m\u001b[1;33m\u001b[0m\u001b[1;33m\u001b[0m\u001b[0m\n\u001b[0;32m    760\u001b[0m             \u001b[1;31m# of the params are estimators as well.\u001b[0m\u001b[1;33m\u001b[0m\u001b[1;33m\u001b[0m\u001b[1;33m\u001b[0m\u001b[0m\n\u001b[1;32m--> 761\u001b[1;33m             self.best_estimator_ = clone(clone(base_estimator).set_params(\n\u001b[0m\u001b[0;32m    762\u001b[0m                 **self.best_params_))\n\u001b[0;32m    763\u001b[0m             \u001b[0mrefit_start_time\u001b[0m \u001b[1;33m=\u001b[0m \u001b[0mtime\u001b[0m\u001b[1;33m.\u001b[0m\u001b[0mtime\u001b[0m\u001b[1;33m(\u001b[0m\u001b[1;33m)\u001b[0m\u001b[1;33m\u001b[0m\u001b[1;33m\u001b[0m\u001b[0m\n",
      "\u001b[1;32mC:\\ProgramData\\Anaconda3\\lib\\site-packages\\sklearn\\utils\\validation.py\u001b[0m in \u001b[0;36minner_f\u001b[1;34m(*args, **kwargs)\u001b[0m\n\u001b[0;32m     70\u001b[0m                           FutureWarning)\n\u001b[0;32m     71\u001b[0m         \u001b[0mkwargs\u001b[0m\u001b[1;33m.\u001b[0m\u001b[0mupdate\u001b[0m\u001b[1;33m(\u001b[0m\u001b[1;33m{\u001b[0m\u001b[0mk\u001b[0m\u001b[1;33m:\u001b[0m \u001b[0marg\u001b[0m \u001b[1;32mfor\u001b[0m \u001b[0mk\u001b[0m\u001b[1;33m,\u001b[0m \u001b[0marg\u001b[0m \u001b[1;32min\u001b[0m \u001b[0mzip\u001b[0m\u001b[1;33m(\u001b[0m\u001b[0msig\u001b[0m\u001b[1;33m.\u001b[0m\u001b[0mparameters\u001b[0m\u001b[1;33m,\u001b[0m \u001b[0margs\u001b[0m\u001b[1;33m)\u001b[0m\u001b[1;33m}\u001b[0m\u001b[1;33m)\u001b[0m\u001b[1;33m\u001b[0m\u001b[1;33m\u001b[0m\u001b[0m\n\u001b[1;32m---> 72\u001b[1;33m         \u001b[1;32mreturn\u001b[0m \u001b[0mf\u001b[0m\u001b[1;33m(\u001b[0m\u001b[1;33m**\u001b[0m\u001b[0mkwargs\u001b[0m\u001b[1;33m)\u001b[0m\u001b[1;33m\u001b[0m\u001b[1;33m\u001b[0m\u001b[0m\n\u001b[0m\u001b[0;32m     73\u001b[0m     \u001b[1;32mreturn\u001b[0m \u001b[0minner_f\u001b[0m\u001b[1;33m\u001b[0m\u001b[1;33m\u001b[0m\u001b[0m\n\u001b[0;32m     74\u001b[0m \u001b[1;33m\u001b[0m\u001b[0m\n",
      "\u001b[1;32mC:\\ProgramData\\Anaconda3\\lib\\site-packages\\sklearn\\base.py\u001b[0m in \u001b[0;36mclone\u001b[1;34m(estimator, safe)\u001b[0m\n\u001b[0;32m     85\u001b[0m     \u001b[0mnew_object_params\u001b[0m \u001b[1;33m=\u001b[0m \u001b[0mestimator\u001b[0m\u001b[1;33m.\u001b[0m\u001b[0mget_params\u001b[0m\u001b[1;33m(\u001b[0m\u001b[0mdeep\u001b[0m\u001b[1;33m=\u001b[0m\u001b[1;32mFalse\u001b[0m\u001b[1;33m)\u001b[0m\u001b[1;33m\u001b[0m\u001b[1;33m\u001b[0m\u001b[0m\n\u001b[0;32m     86\u001b[0m     \u001b[1;32mfor\u001b[0m \u001b[0mname\u001b[0m\u001b[1;33m,\u001b[0m \u001b[0mparam\u001b[0m \u001b[1;32min\u001b[0m \u001b[0mnew_object_params\u001b[0m\u001b[1;33m.\u001b[0m\u001b[0mitems\u001b[0m\u001b[1;33m(\u001b[0m\u001b[1;33m)\u001b[0m\u001b[1;33m:\u001b[0m\u001b[1;33m\u001b[0m\u001b[1;33m\u001b[0m\u001b[0m\n\u001b[1;32m---> 87\u001b[1;33m         \u001b[0mnew_object_params\u001b[0m\u001b[1;33m[\u001b[0m\u001b[0mname\u001b[0m\u001b[1;33m]\u001b[0m \u001b[1;33m=\u001b[0m \u001b[0mclone\u001b[0m\u001b[1;33m(\u001b[0m\u001b[0mparam\u001b[0m\u001b[1;33m,\u001b[0m \u001b[0msafe\u001b[0m\u001b[1;33m=\u001b[0m\u001b[1;32mFalse\u001b[0m\u001b[1;33m)\u001b[0m\u001b[1;33m\u001b[0m\u001b[1;33m\u001b[0m\u001b[0m\n\u001b[0m\u001b[0;32m     88\u001b[0m     \u001b[0mnew_object\u001b[0m \u001b[1;33m=\u001b[0m \u001b[0mklass\u001b[0m\u001b[1;33m(\u001b[0m\u001b[1;33m**\u001b[0m\u001b[0mnew_object_params\u001b[0m\u001b[1;33m)\u001b[0m\u001b[1;33m\u001b[0m\u001b[1;33m\u001b[0m\u001b[0m\n\u001b[0;32m     89\u001b[0m     \u001b[0mparams_set\u001b[0m \u001b[1;33m=\u001b[0m \u001b[0mnew_object\u001b[0m\u001b[1;33m.\u001b[0m\u001b[0mget_params\u001b[0m\u001b[1;33m(\u001b[0m\u001b[0mdeep\u001b[0m\u001b[1;33m=\u001b[0m\u001b[1;32mFalse\u001b[0m\u001b[1;33m)\u001b[0m\u001b[1;33m\u001b[0m\u001b[1;33m\u001b[0m\u001b[0m\n",
      "\u001b[1;32mC:\\ProgramData\\Anaconda3\\lib\\site-packages\\sklearn\\utils\\validation.py\u001b[0m in \u001b[0;36minner_f\u001b[1;34m(*args, **kwargs)\u001b[0m\n\u001b[0;32m     70\u001b[0m                           FutureWarning)\n\u001b[0;32m     71\u001b[0m         \u001b[0mkwargs\u001b[0m\u001b[1;33m.\u001b[0m\u001b[0mupdate\u001b[0m\u001b[1;33m(\u001b[0m\u001b[1;33m{\u001b[0m\u001b[0mk\u001b[0m\u001b[1;33m:\u001b[0m \u001b[0marg\u001b[0m \u001b[1;32mfor\u001b[0m \u001b[0mk\u001b[0m\u001b[1;33m,\u001b[0m \u001b[0marg\u001b[0m \u001b[1;32min\u001b[0m \u001b[0mzip\u001b[0m\u001b[1;33m(\u001b[0m\u001b[0msig\u001b[0m\u001b[1;33m.\u001b[0m\u001b[0mparameters\u001b[0m\u001b[1;33m,\u001b[0m \u001b[0margs\u001b[0m\u001b[1;33m)\u001b[0m\u001b[1;33m}\u001b[0m\u001b[1;33m)\u001b[0m\u001b[1;33m\u001b[0m\u001b[1;33m\u001b[0m\u001b[0m\n\u001b[1;32m---> 72\u001b[1;33m         \u001b[1;32mreturn\u001b[0m \u001b[0mf\u001b[0m\u001b[1;33m(\u001b[0m\u001b[1;33m**\u001b[0m\u001b[0mkwargs\u001b[0m\u001b[1;33m)\u001b[0m\u001b[1;33m\u001b[0m\u001b[1;33m\u001b[0m\u001b[0m\n\u001b[0m\u001b[0;32m     73\u001b[0m     \u001b[1;32mreturn\u001b[0m \u001b[0minner_f\u001b[0m\u001b[1;33m\u001b[0m\u001b[1;33m\u001b[0m\u001b[0m\n\u001b[0;32m     74\u001b[0m \u001b[1;33m\u001b[0m\u001b[0m\n",
      "\u001b[1;32mC:\\ProgramData\\Anaconda3\\lib\\site-packages\\sklearn\\base.py\u001b[0m in \u001b[0;36mclone\u001b[1;34m(estimator, safe)\u001b[0m\n\u001b[0;32m     66\u001b[0m     \u001b[1;31m# XXX: not handling dictionaries\u001b[0m\u001b[1;33m\u001b[0m\u001b[1;33m\u001b[0m\u001b[1;33m\u001b[0m\u001b[0m\n\u001b[0;32m     67\u001b[0m     \u001b[1;32mif\u001b[0m \u001b[0mestimator_type\u001b[0m \u001b[1;32min\u001b[0m \u001b[1;33m(\u001b[0m\u001b[0mlist\u001b[0m\u001b[1;33m,\u001b[0m \u001b[0mtuple\u001b[0m\u001b[1;33m,\u001b[0m \u001b[0mset\u001b[0m\u001b[1;33m,\u001b[0m \u001b[0mfrozenset\u001b[0m\u001b[1;33m)\u001b[0m\u001b[1;33m:\u001b[0m\u001b[1;33m\u001b[0m\u001b[1;33m\u001b[0m\u001b[0m\n\u001b[1;32m---> 68\u001b[1;33m         \u001b[1;32mreturn\u001b[0m \u001b[0mestimator_type\u001b[0m\u001b[1;33m(\u001b[0m\u001b[1;33m[\u001b[0m\u001b[0mclone\u001b[0m\u001b[1;33m(\u001b[0m\u001b[0me\u001b[0m\u001b[1;33m,\u001b[0m \u001b[0msafe\u001b[0m\u001b[1;33m=\u001b[0m\u001b[0msafe\u001b[0m\u001b[1;33m)\u001b[0m \u001b[1;32mfor\u001b[0m \u001b[0me\u001b[0m \u001b[1;32min\u001b[0m \u001b[0mestimator\u001b[0m\u001b[1;33m]\u001b[0m\u001b[1;33m)\u001b[0m\u001b[1;33m\u001b[0m\u001b[1;33m\u001b[0m\u001b[0m\n\u001b[0m\u001b[0;32m     69\u001b[0m     \u001b[1;32melif\u001b[0m \u001b[1;32mnot\u001b[0m \u001b[0mhasattr\u001b[0m\u001b[1;33m(\u001b[0m\u001b[0mestimator\u001b[0m\u001b[1;33m,\u001b[0m \u001b[1;34m'get_params'\u001b[0m\u001b[1;33m)\u001b[0m \u001b[1;32mor\u001b[0m \u001b[0misinstance\u001b[0m\u001b[1;33m(\u001b[0m\u001b[0mestimator\u001b[0m\u001b[1;33m,\u001b[0m \u001b[0mtype\u001b[0m\u001b[1;33m)\u001b[0m\u001b[1;33m:\u001b[0m\u001b[1;33m\u001b[0m\u001b[1;33m\u001b[0m\u001b[0m\n\u001b[0;32m     70\u001b[0m         \u001b[1;32mif\u001b[0m \u001b[1;32mnot\u001b[0m \u001b[0msafe\u001b[0m\u001b[1;33m:\u001b[0m\u001b[1;33m\u001b[0m\u001b[1;33m\u001b[0m\u001b[0m\n",
      "\u001b[1;32mC:\\ProgramData\\Anaconda3\\lib\\site-packages\\sklearn\\base.py\u001b[0m in \u001b[0;36m<listcomp>\u001b[1;34m(.0)\u001b[0m\n\u001b[0;32m     66\u001b[0m     \u001b[1;31m# XXX: not handling dictionaries\u001b[0m\u001b[1;33m\u001b[0m\u001b[1;33m\u001b[0m\u001b[1;33m\u001b[0m\u001b[0m\n\u001b[0;32m     67\u001b[0m     \u001b[1;32mif\u001b[0m \u001b[0mestimator_type\u001b[0m \u001b[1;32min\u001b[0m \u001b[1;33m(\u001b[0m\u001b[0mlist\u001b[0m\u001b[1;33m,\u001b[0m \u001b[0mtuple\u001b[0m\u001b[1;33m,\u001b[0m \u001b[0mset\u001b[0m\u001b[1;33m,\u001b[0m \u001b[0mfrozenset\u001b[0m\u001b[1;33m)\u001b[0m\u001b[1;33m:\u001b[0m\u001b[1;33m\u001b[0m\u001b[1;33m\u001b[0m\u001b[0m\n\u001b[1;32m---> 68\u001b[1;33m         \u001b[1;32mreturn\u001b[0m \u001b[0mestimator_type\u001b[0m\u001b[1;33m(\u001b[0m\u001b[1;33m[\u001b[0m\u001b[0mclone\u001b[0m\u001b[1;33m(\u001b[0m\u001b[0me\u001b[0m\u001b[1;33m,\u001b[0m \u001b[0msafe\u001b[0m\u001b[1;33m=\u001b[0m\u001b[0msafe\u001b[0m\u001b[1;33m)\u001b[0m \u001b[1;32mfor\u001b[0m \u001b[0me\u001b[0m \u001b[1;32min\u001b[0m \u001b[0mestimator\u001b[0m\u001b[1;33m]\u001b[0m\u001b[1;33m)\u001b[0m\u001b[1;33m\u001b[0m\u001b[1;33m\u001b[0m\u001b[0m\n\u001b[0m\u001b[0;32m     69\u001b[0m     \u001b[1;32melif\u001b[0m \u001b[1;32mnot\u001b[0m \u001b[0mhasattr\u001b[0m\u001b[1;33m(\u001b[0m\u001b[0mestimator\u001b[0m\u001b[1;33m,\u001b[0m \u001b[1;34m'get_params'\u001b[0m\u001b[1;33m)\u001b[0m \u001b[1;32mor\u001b[0m \u001b[0misinstance\u001b[0m\u001b[1;33m(\u001b[0m\u001b[0mestimator\u001b[0m\u001b[1;33m,\u001b[0m \u001b[0mtype\u001b[0m\u001b[1;33m)\u001b[0m\u001b[1;33m:\u001b[0m\u001b[1;33m\u001b[0m\u001b[1;33m\u001b[0m\u001b[0m\n\u001b[0;32m     70\u001b[0m         \u001b[1;32mif\u001b[0m \u001b[1;32mnot\u001b[0m \u001b[0msafe\u001b[0m\u001b[1;33m:\u001b[0m\u001b[1;33m\u001b[0m\u001b[1;33m\u001b[0m\u001b[0m\n",
      "\u001b[1;32mC:\\ProgramData\\Anaconda3\\lib\\site-packages\\sklearn\\utils\\validation.py\u001b[0m in \u001b[0;36minner_f\u001b[1;34m(*args, **kwargs)\u001b[0m\n\u001b[0;32m     70\u001b[0m                           FutureWarning)\n\u001b[0;32m     71\u001b[0m         \u001b[0mkwargs\u001b[0m\u001b[1;33m.\u001b[0m\u001b[0mupdate\u001b[0m\u001b[1;33m(\u001b[0m\u001b[1;33m{\u001b[0m\u001b[0mk\u001b[0m\u001b[1;33m:\u001b[0m \u001b[0marg\u001b[0m \u001b[1;32mfor\u001b[0m \u001b[0mk\u001b[0m\u001b[1;33m,\u001b[0m \u001b[0marg\u001b[0m \u001b[1;32min\u001b[0m \u001b[0mzip\u001b[0m\u001b[1;33m(\u001b[0m\u001b[0msig\u001b[0m\u001b[1;33m.\u001b[0m\u001b[0mparameters\u001b[0m\u001b[1;33m,\u001b[0m \u001b[0margs\u001b[0m\u001b[1;33m)\u001b[0m\u001b[1;33m}\u001b[0m\u001b[1;33m)\u001b[0m\u001b[1;33m\u001b[0m\u001b[1;33m\u001b[0m\u001b[0m\n\u001b[1;32m---> 72\u001b[1;33m         \u001b[1;32mreturn\u001b[0m \u001b[0mf\u001b[0m\u001b[1;33m(\u001b[0m\u001b[1;33m**\u001b[0m\u001b[0mkwargs\u001b[0m\u001b[1;33m)\u001b[0m\u001b[1;33m\u001b[0m\u001b[1;33m\u001b[0m\u001b[0m\n\u001b[0m\u001b[0;32m     73\u001b[0m     \u001b[1;32mreturn\u001b[0m \u001b[0minner_f\u001b[0m\u001b[1;33m\u001b[0m\u001b[1;33m\u001b[0m\u001b[0m\n\u001b[0;32m     74\u001b[0m \u001b[1;33m\u001b[0m\u001b[0m\n",
      "\u001b[1;32mC:\\ProgramData\\Anaconda3\\lib\\site-packages\\sklearn\\base.py\u001b[0m in \u001b[0;36mclone\u001b[1;34m(estimator, safe)\u001b[0m\n\u001b[0;32m     66\u001b[0m     \u001b[1;31m# XXX: not handling dictionaries\u001b[0m\u001b[1;33m\u001b[0m\u001b[1;33m\u001b[0m\u001b[1;33m\u001b[0m\u001b[0m\n\u001b[0;32m     67\u001b[0m     \u001b[1;32mif\u001b[0m \u001b[0mestimator_type\u001b[0m \u001b[1;32min\u001b[0m \u001b[1;33m(\u001b[0m\u001b[0mlist\u001b[0m\u001b[1;33m,\u001b[0m \u001b[0mtuple\u001b[0m\u001b[1;33m,\u001b[0m \u001b[0mset\u001b[0m\u001b[1;33m,\u001b[0m \u001b[0mfrozenset\u001b[0m\u001b[1;33m)\u001b[0m\u001b[1;33m:\u001b[0m\u001b[1;33m\u001b[0m\u001b[1;33m\u001b[0m\u001b[0m\n\u001b[1;32m---> 68\u001b[1;33m         \u001b[1;32mreturn\u001b[0m \u001b[0mestimator_type\u001b[0m\u001b[1;33m(\u001b[0m\u001b[1;33m[\u001b[0m\u001b[0mclone\u001b[0m\u001b[1;33m(\u001b[0m\u001b[0me\u001b[0m\u001b[1;33m,\u001b[0m \u001b[0msafe\u001b[0m\u001b[1;33m=\u001b[0m\u001b[0msafe\u001b[0m\u001b[1;33m)\u001b[0m \u001b[1;32mfor\u001b[0m \u001b[0me\u001b[0m \u001b[1;32min\u001b[0m \u001b[0mestimator\u001b[0m\u001b[1;33m]\u001b[0m\u001b[1;33m)\u001b[0m\u001b[1;33m\u001b[0m\u001b[1;33m\u001b[0m\u001b[0m\n\u001b[0m\u001b[0;32m     69\u001b[0m     \u001b[1;32melif\u001b[0m \u001b[1;32mnot\u001b[0m \u001b[0mhasattr\u001b[0m\u001b[1;33m(\u001b[0m\u001b[0mestimator\u001b[0m\u001b[1;33m,\u001b[0m \u001b[1;34m'get_params'\u001b[0m\u001b[1;33m)\u001b[0m \u001b[1;32mor\u001b[0m \u001b[0misinstance\u001b[0m\u001b[1;33m(\u001b[0m\u001b[0mestimator\u001b[0m\u001b[1;33m,\u001b[0m \u001b[0mtype\u001b[0m\u001b[1;33m)\u001b[0m\u001b[1;33m:\u001b[0m\u001b[1;33m\u001b[0m\u001b[1;33m\u001b[0m\u001b[0m\n\u001b[0;32m     70\u001b[0m         \u001b[1;32mif\u001b[0m \u001b[1;32mnot\u001b[0m \u001b[0msafe\u001b[0m\u001b[1;33m:\u001b[0m\u001b[1;33m\u001b[0m\u001b[1;33m\u001b[0m\u001b[0m\n",
      "\u001b[1;32mC:\\ProgramData\\Anaconda3\\lib\\site-packages\\sklearn\\base.py\u001b[0m in \u001b[0;36m<listcomp>\u001b[1;34m(.0)\u001b[0m\n\u001b[0;32m     66\u001b[0m     \u001b[1;31m# XXX: not handling dictionaries\u001b[0m\u001b[1;33m\u001b[0m\u001b[1;33m\u001b[0m\u001b[1;33m\u001b[0m\u001b[0m\n\u001b[0;32m     67\u001b[0m     \u001b[1;32mif\u001b[0m \u001b[0mestimator_type\u001b[0m \u001b[1;32min\u001b[0m \u001b[1;33m(\u001b[0m\u001b[0mlist\u001b[0m\u001b[1;33m,\u001b[0m \u001b[0mtuple\u001b[0m\u001b[1;33m,\u001b[0m \u001b[0mset\u001b[0m\u001b[1;33m,\u001b[0m \u001b[0mfrozenset\u001b[0m\u001b[1;33m)\u001b[0m\u001b[1;33m:\u001b[0m\u001b[1;33m\u001b[0m\u001b[1;33m\u001b[0m\u001b[0m\n\u001b[1;32m---> 68\u001b[1;33m         \u001b[1;32mreturn\u001b[0m \u001b[0mestimator_type\u001b[0m\u001b[1;33m(\u001b[0m\u001b[1;33m[\u001b[0m\u001b[0mclone\u001b[0m\u001b[1;33m(\u001b[0m\u001b[0me\u001b[0m\u001b[1;33m,\u001b[0m \u001b[0msafe\u001b[0m\u001b[1;33m=\u001b[0m\u001b[0msafe\u001b[0m\u001b[1;33m)\u001b[0m \u001b[1;32mfor\u001b[0m \u001b[0me\u001b[0m \u001b[1;32min\u001b[0m \u001b[0mestimator\u001b[0m\u001b[1;33m]\u001b[0m\u001b[1;33m)\u001b[0m\u001b[1;33m\u001b[0m\u001b[1;33m\u001b[0m\u001b[0m\n\u001b[0m\u001b[0;32m     69\u001b[0m     \u001b[1;32melif\u001b[0m \u001b[1;32mnot\u001b[0m \u001b[0mhasattr\u001b[0m\u001b[1;33m(\u001b[0m\u001b[0mestimator\u001b[0m\u001b[1;33m,\u001b[0m \u001b[1;34m'get_params'\u001b[0m\u001b[1;33m)\u001b[0m \u001b[1;32mor\u001b[0m \u001b[0misinstance\u001b[0m\u001b[1;33m(\u001b[0m\u001b[0mestimator\u001b[0m\u001b[1;33m,\u001b[0m \u001b[0mtype\u001b[0m\u001b[1;33m)\u001b[0m\u001b[1;33m:\u001b[0m\u001b[1;33m\u001b[0m\u001b[1;33m\u001b[0m\u001b[0m\n\u001b[0;32m     70\u001b[0m         \u001b[1;32mif\u001b[0m \u001b[1;32mnot\u001b[0m \u001b[0msafe\u001b[0m\u001b[1;33m:\u001b[0m\u001b[1;33m\u001b[0m\u001b[1;33m\u001b[0m\u001b[0m\n",
      "\u001b[1;32mC:\\ProgramData\\Anaconda3\\lib\\site-packages\\sklearn\\utils\\validation.py\u001b[0m in \u001b[0;36minner_f\u001b[1;34m(*args, **kwargs)\u001b[0m\n\u001b[0;32m     70\u001b[0m                           FutureWarning)\n\u001b[0;32m     71\u001b[0m         \u001b[0mkwargs\u001b[0m\u001b[1;33m.\u001b[0m\u001b[0mupdate\u001b[0m\u001b[1;33m(\u001b[0m\u001b[1;33m{\u001b[0m\u001b[0mk\u001b[0m\u001b[1;33m:\u001b[0m \u001b[0marg\u001b[0m \u001b[1;32mfor\u001b[0m \u001b[0mk\u001b[0m\u001b[1;33m,\u001b[0m \u001b[0marg\u001b[0m \u001b[1;32min\u001b[0m \u001b[0mzip\u001b[0m\u001b[1;33m(\u001b[0m\u001b[0msig\u001b[0m\u001b[1;33m.\u001b[0m\u001b[0mparameters\u001b[0m\u001b[1;33m,\u001b[0m \u001b[0margs\u001b[0m\u001b[1;33m)\u001b[0m\u001b[1;33m}\u001b[0m\u001b[1;33m)\u001b[0m\u001b[1;33m\u001b[0m\u001b[1;33m\u001b[0m\u001b[0m\n\u001b[1;32m---> 72\u001b[1;33m         \u001b[1;32mreturn\u001b[0m \u001b[0mf\u001b[0m\u001b[1;33m(\u001b[0m\u001b[1;33m**\u001b[0m\u001b[0mkwargs\u001b[0m\u001b[1;33m)\u001b[0m\u001b[1;33m\u001b[0m\u001b[1;33m\u001b[0m\u001b[0m\n\u001b[0m\u001b[0;32m     73\u001b[0m     \u001b[1;32mreturn\u001b[0m \u001b[0minner_f\u001b[0m\u001b[1;33m\u001b[0m\u001b[1;33m\u001b[0m\u001b[0m\n\u001b[0;32m     74\u001b[0m \u001b[1;33m\u001b[0m\u001b[0m\n",
      "\u001b[1;32mC:\\ProgramData\\Anaconda3\\lib\\site-packages\\sklearn\\base.py\u001b[0m in \u001b[0;36mclone\u001b[1;34m(estimator, safe)\u001b[0m\n\u001b[0;32m     94\u001b[0m         \u001b[0mparam2\u001b[0m \u001b[1;33m=\u001b[0m \u001b[0mparams_set\u001b[0m\u001b[1;33m[\u001b[0m\u001b[0mname\u001b[0m\u001b[1;33m]\u001b[0m\u001b[1;33m\u001b[0m\u001b[1;33m\u001b[0m\u001b[0m\n\u001b[0;32m     95\u001b[0m         \u001b[1;32mif\u001b[0m \u001b[0mparam1\u001b[0m \u001b[1;32mis\u001b[0m \u001b[1;32mnot\u001b[0m \u001b[0mparam2\u001b[0m\u001b[1;33m:\u001b[0m\u001b[1;33m\u001b[0m\u001b[1;33m\u001b[0m\u001b[0m\n\u001b[1;32m---> 96\u001b[1;33m             raise RuntimeError('Cannot clone object %s, as the constructor '\n\u001b[0m\u001b[0;32m     97\u001b[0m                                \u001b[1;34m'either does not set or modifies parameter %s'\u001b[0m \u001b[1;33m%\u001b[0m\u001b[1;33m\u001b[0m\u001b[1;33m\u001b[0m\u001b[0m\n\u001b[0;32m     98\u001b[0m                                (estimator, name))\n",
      "\u001b[1;31mRuntimeError\u001b[0m: Cannot clone object TheilSenRegressor(max_iter=500, max_subpopulation=1.0, n_subsamples=409), as the constructor either does not set or modifies parameter max_subpopulation"
     ]
    }
   ],
   "source": [
    "# from sklearn.linear_model import TheilSenRegressor\n",
    "# model = TheilSenRegressor()\n",
    "\n",
    "# pipe = Pipeline(steps=[('sc', sc), ('model', model)])\n",
    "\n",
    "# param_grid   =  [{'model__max_subpopulation' : [x*0.000001 for x in [1,10,100,1000,10000,100000,1000000]],\n",
    "#                   'model__n_subsamples' : [x for x in range(9, 1300,50)],\n",
    "#                   'model__max_iter' :  [x for x in range(50, 1000, 50)]}]\n",
    "\n",
    "# pipe.get_params()\n",
    "\n",
    "# estimator = pipe\n",
    "\n",
    "# scores = ['neg_mean_absolute_error', 'neg_mean_squared_error', 'r2']\n",
    "# cv = 10\n",
    "\n",
    "# for score in scores:\n",
    "#     grid(Xtrain = X_train_std,\n",
    "#                 ytrain = y_train,\n",
    "#                 estimator = pipe,\n",
    "#                 params_grid = param_grid,\n",
    "#                 scores=score,\n",
    "#                 cvs = cv,\n",
    "#                 cores=6,\n",
    "#                 verb=5)\n",
    "#     print(score)"
   ]
  },
  {
   "cell_type": "markdown",
   "metadata": {},
   "source": [
    "# HuberRegressor"
   ]
  },
  {
   "cell_type": "code",
   "execution_count": 79,
   "metadata": {},
   "outputs": [
    {
     "name": "stdout",
     "output_type": "stream",
     "text": [
      "Fitting 10 folds for each of 140 candidates, totalling 1400 fits\n"
     ]
    },
    {
     "name": "stderr",
     "output_type": "stream",
     "text": [
      "[Parallel(n_jobs=6)]: Using backend LokyBackend with 6 concurrent workers.\n",
      "[Parallel(n_jobs=6)]: Done   6 tasks      | elapsed:    3.1s\n",
      "[Parallel(n_jobs=6)]: Done  90 tasks      | elapsed:    3.7s\n",
      "[Parallel(n_jobs=6)]: Done 786 tasks      | elapsed:    8.2s\n",
      "[Parallel(n_jobs=6)]: Done 1400 out of 1400 | elapsed:   11.3s finished\n",
      "[Parallel(n_jobs=6)]: Using backend LokyBackend with 6 concurrent workers.\n",
      "[Parallel(n_jobs=6)]: Done   6 tasks      | elapsed:    0.0s\n"
     ]
    },
    {
     "name": "stdout",
     "output_type": "stream",
     "text": [
      "-67.11601951670664\n",
      "{'model__alpha': 9.999999999999999e-06, 'model__epsilon': 10000.0}\n",
      "Total time:  0.19075722694396974 minutes\n",
      "neg_mean_absolute_error\n",
      "Fitting 10 folds for each of 140 candidates, totalling 1400 fits\n"
     ]
    },
    {
     "name": "stderr",
     "output_type": "stream",
     "text": [
      "[Parallel(n_jobs=6)]: Done 180 tasks      | elapsed:    1.2s\n",
      "[Parallel(n_jobs=6)]: Done 540 tasks      | elapsed:    3.6s\n",
      "[Parallel(n_jobs=6)]: Done 1044 tasks      | elapsed:    7.2s\n",
      "[Parallel(n_jobs=6)]: Done 1400 out of 1400 | elapsed:    8.9s finished\n",
      "[Parallel(n_jobs=6)]: Using backend LokyBackend with 6 concurrent workers.\n",
      "[Parallel(n_jobs=6)]: Done   6 tasks      | elapsed:    0.0s\n"
     ]
    },
    {
     "name": "stdout",
     "output_type": "stream",
     "text": [
      "-6654.510405952045\n",
      "{'model__alpha': 0.01, 'model__epsilon': 10000.0}\n",
      "Total time:  0.1508657972017924 minutes\n",
      "neg_mean_squared_error\n",
      "Fitting 10 folds for each of 140 candidates, totalling 1400 fits\n"
     ]
    },
    {
     "name": "stderr",
     "output_type": "stream",
     "text": [
      "[Parallel(n_jobs=6)]: Done 180 tasks      | elapsed:    1.5s\n",
      "[Parallel(n_jobs=6)]: Done 540 tasks      | elapsed:    4.2s\n",
      "[Parallel(n_jobs=6)]: Done 1044 tasks      | elapsed:    8.4s\n"
     ]
    },
    {
     "name": "stdout",
     "output_type": "stream",
     "text": [
      "0.31176165054235033\n",
      "{'model__alpha': 0.01, 'model__epsilon': 10000.0}\n",
      "Total time:  0.1800036072731018 minutes\n",
      "r2\n"
     ]
    },
    {
     "name": "stderr",
     "output_type": "stream",
     "text": [
      "[Parallel(n_jobs=6)]: Done 1400 out of 1400 | elapsed:   10.7s finished\n"
     ]
    }
   ],
   "source": [
    "from sklearn.linear_model import HuberRegressor\n",
    "model = HuberRegressor()\n",
    "\n",
    "pipe = Pipeline(steps=[('sc', sc), ('model', model)])\n",
    "\n",
    "param_grid   =  [{'model__epsilon' : [x/.01 for x in range(100, 200, 5)],\n",
    "                  'model__alpha' : [x*0.000001 for x in [1,10,100,1000,10000,100000,1000000]]}]\n",
    "\n",
    "pipe.get_params()\n",
    "\n",
    "estimator = pipe\n",
    "\n",
    "scores = ['neg_mean_absolute_error', 'neg_mean_squared_error', 'r2']\n",
    "cv = 10\n",
    "\n",
    "for score in scores:\n",
    "    grid(Xtrain = X_train_std,\n",
    "                ytrain = y_train,\n",
    "                estimator = pipe,\n",
    "                params_grid = param_grid,\n",
    "                scores=score,\n",
    "                cvs = cv,\n",
    "                cores=6,\n",
    "                verb=5)\n",
    "    print(score)"
   ]
  },
  {
   "cell_type": "markdown",
   "metadata": {},
   "source": [
    "# DecisionTreeRegressor"
   ]
  },
  {
   "cell_type": "code",
   "execution_count": 66,
   "metadata": {},
   "outputs": [
    {
     "name": "stdout",
     "output_type": "stream",
     "text": [
      "Fitting 10 folds for each of 20790 candidates, totalling 207900 fits\n"
     ]
    },
    {
     "name": "stderr",
     "output_type": "stream",
     "text": [
      "[Parallel(n_jobs=6)]: Using backend LokyBackend with 6 concurrent workers.\n",
      "[Parallel(n_jobs=6)]: Done   6 tasks      | elapsed:    0.0s\n",
      "[Parallel(n_jobs=6)]: Done 372 tasks      | elapsed:    0.5s\n",
      "[Parallel(n_jobs=6)]: Done 5748 tasks      | elapsed:    5.6s\n",
      "[Parallel(n_jobs=6)]: Done 13812 tasks      | elapsed:   14.6s\n",
      "[Parallel(n_jobs=6)]: Done 24180 tasks      | elapsed:   25.8s\n",
      "[Parallel(n_jobs=6)]: Done 36852 tasks      | elapsed:   41.4s\n",
      "[Parallel(n_jobs=6)]: Done 51828 tasks      | elapsed:   58.4s\n",
      "[Parallel(n_jobs=6)]: Done 67860 tasks      | elapsed:  1.4min\n",
      "[Parallel(n_jobs=6)]: Done 74772 tasks      | elapsed:  1.7min\n",
      "[Parallel(n_jobs=6)]: Done 82980 tasks      | elapsed:  1.9min\n",
      "[Parallel(n_jobs=6)]: Done 92052 tasks      | elapsed:  2.2min\n",
      "[Parallel(n_jobs=6)]: Done 101988 tasks      | elapsed:  2.4min\n",
      "[Parallel(n_jobs=6)]: Done 112788 tasks      | elapsed:  2.6min\n",
      "[Parallel(n_jobs=6)]: Done 124452 tasks      | elapsed:  2.8min\n",
      "[Parallel(n_jobs=6)]: Done 136980 tasks      | elapsed:  3.1min\n",
      "[Parallel(n_jobs=6)]: Done 150372 tasks      | elapsed:  3.4min\n",
      "[Parallel(n_jobs=6)]: Done 164628 tasks      | elapsed:  3.7min\n",
      "[Parallel(n_jobs=6)]: Done 179748 tasks      | elapsed:  4.0min\n",
      "[Parallel(n_jobs=6)]: Done 195732 tasks      | elapsed:  4.4min\n",
      "[Parallel(n_jobs=6)]: Done 207900 out of 207900 | elapsed:  4.6min finished\n"
     ]
    },
    {
     "name": "stdout",
     "output_type": "stream",
     "text": [
      "-52.662119808253024\n",
      "{'model__max_depth': 91, 'model__max_features': 7, 'model__min_samples_leaf': 6, 'model__min_samples_split': 21}\n",
      "Total time:  4.661316029230753 minutes\n",
      "neg_mean_absolute_error\n",
      "Fitting 10 folds for each of 20790 candidates, totalling 207900 fits\n"
     ]
    },
    {
     "name": "stderr",
     "output_type": "stream",
     "text": [
      "[Parallel(n_jobs=6)]: Using backend LokyBackend with 6 concurrent workers.\n",
      "[Parallel(n_jobs=6)]: Done   6 tasks      | elapsed:    0.0s\n",
      "[Parallel(n_jobs=6)]: Done 372 tasks      | elapsed:    0.6s\n",
      "[Parallel(n_jobs=6)]: Done 3252 tasks      | elapsed:    3.8s\n",
      "[Parallel(n_jobs=6)]: Done 7284 tasks      | elapsed:    9.2s\n",
      "[Parallel(n_jobs=6)]: Done 12468 tasks      | elapsed:   15.4s\n",
      "[Parallel(n_jobs=6)]: Done 18804 tasks      | elapsed:   21.5s\n",
      "[Parallel(n_jobs=6)]: Done 26292 tasks      | elapsed:   30.8s\n",
      "[Parallel(n_jobs=6)]: Done 34932 tasks      | elapsed:   41.8s\n",
      "[Parallel(n_jobs=6)]: Done 44724 tasks      | elapsed:   54.5s\n",
      "[Parallel(n_jobs=6)]: Done 55668 tasks      | elapsed:  1.1min\n",
      "[Parallel(n_jobs=6)]: Done 67764 tasks      | elapsed:  1.4min\n",
      "[Parallel(n_jobs=6)]: Done 81012 tasks      | elapsed:  1.9min\n",
      "[Parallel(n_jobs=6)]: Done 95412 tasks      | elapsed:  2.2min\n",
      "[Parallel(n_jobs=6)]: Done 110964 tasks      | elapsed:  2.6min\n",
      "[Parallel(n_jobs=6)]: Done 127668 tasks      | elapsed:  2.9min\n",
      "[Parallel(n_jobs=6)]: Done 143028 tasks      | elapsed:  3.5min\n",
      "[Parallel(n_jobs=6)]: Done 161844 tasks      | elapsed:  3.9min\n",
      "[Parallel(n_jobs=6)]: Done 182004 tasks      | elapsed:  4.3min\n",
      "[Parallel(n_jobs=6)]: Done 203316 tasks      | elapsed:  4.7min\n",
      "[Parallel(n_jobs=6)]: Done 207900 out of 207900 | elapsed:  4.9min finished\n"
     ]
    },
    {
     "name": "stdout",
     "output_type": "stream",
     "text": [
      "-4610.726233586867\n",
      "{'model__max_depth': None, 'model__max_features': 8, 'model__min_samples_leaf': 1, 'model__min_samples_split': 36}\n",
      "Total time:  4.865469698111216 minutes\n",
      "neg_mean_squared_error\n",
      "Fitting 10 folds for each of 20790 candidates, totalling 207900 fits\n"
     ]
    },
    {
     "name": "stderr",
     "output_type": "stream",
     "text": [
      "[Parallel(n_jobs=6)]: Using backend LokyBackend with 6 concurrent workers.\n",
      "[Parallel(n_jobs=6)]: Done   6 tasks      | elapsed:    0.0s\n",
      "[Parallel(n_jobs=6)]: Done 372 tasks      | elapsed:    0.6s\n",
      "[Parallel(n_jobs=6)]: Done 5748 tasks      | elapsed:    7.4s\n",
      "[Parallel(n_jobs=6)]: Done 13812 tasks      | elapsed:   16.3s\n",
      "[Parallel(n_jobs=6)]: Done 24180 tasks      | elapsed:   26.3s\n",
      "[Parallel(n_jobs=6)]: Done 36852 tasks      | elapsed:   42.5s\n",
      "[Parallel(n_jobs=6)]: Done 51828 tasks      | elapsed:  1.0min\n",
      "[Parallel(n_jobs=6)]: Done 69108 tasks      | elapsed:  1.5min\n",
      "[Parallel(n_jobs=6)]: Done 88692 tasks      | elapsed:  1.9min\n",
      "[Parallel(n_jobs=6)]: Done 109332 tasks      | elapsed:  2.4min\n",
      "[Parallel(n_jobs=6)]: Done 127188 tasks      | elapsed:  2.8min\n",
      "[Parallel(n_jobs=6)]: Done 147060 tasks      | elapsed:  3.2min\n",
      "[Parallel(n_jobs=6)]: Done 168660 tasks      | elapsed:  3.6min\n",
      "[Parallel(n_jobs=6)]: Done 191988 tasks      | elapsed:  4.0min\n",
      "[Parallel(n_jobs=6)]: Done 207900 out of 207900 | elapsed:  4.4min finished\n"
     ]
    },
    {
     "name": "stdout",
     "output_type": "stream",
     "text": [
      "0.5258772846698527\n",
      "{'model__max_depth': 86, 'model__max_features': 8, 'model__min_samples_leaf': 1, 'model__min_samples_split': 36}\n",
      "Total time:  4.3642670750617985 minutes\n",
      "r2\n"
     ]
    }
   ],
   "source": [
    "from sklearn.tree import DecisionTreeRegressor\n",
    "model = DecisionTreeRegressor()\n",
    "\n",
    "pipe = Pipeline(steps=[('sc', sc), ('model', model)])\n",
    "\n",
    "param_grid   =  [{'model__max_depth' : [None]+[x for x in range(1, 100,5)],\n",
    "                  'model__min_samples_leaf' : [x for x in range(1, 50,5)],\n",
    "                  'model__min_samples_split' : [2]+[x for x in range(1, 50,5)],\n",
    "                  'model__max_features' : [x for x in range(1, 10)]}]\n",
    "\n",
    "pipe.get_params()\n",
    "\n",
    "estimator = pipe\n",
    "\n",
    "scores = ['neg_mean_absolute_error', 'neg_mean_squared_error', 'r2']\n",
    "cv = 10\n",
    "\n",
    "for score in scores:\n",
    "    grid(Xtrain = X_train_std,\n",
    "                ytrain = y_train,\n",
    "                estimator = pipe,\n",
    "                params_grid = param_grid,\n",
    "                scores=score,\n",
    "                cvs = cv,\n",
    "                cores=6,\n",
    "                verb=5)\n",
    "    print(score)"
   ]
  },
  {
   "cell_type": "code",
   "execution_count": 16,
   "metadata": {},
   "outputs": [
    {
     "ename": "NameError",
     "evalue": "name 'X' is not defined",
     "output_type": "error",
     "traceback": [
      "\u001b[1;31m---------------------------------------------------------------------------\u001b[0m",
      "\u001b[1;31mNameError\u001b[0m                                 Traceback (most recent call last)",
      "\u001b[1;32m<ipython-input-16-b5fec669aca1>\u001b[0m in \u001b[0;36m<module>\u001b[1;34m\u001b[0m\n\u001b[1;32m----> 1\u001b[1;33m \u001b[0mX\u001b[0m\u001b[1;33m\u001b[0m\u001b[1;33m\u001b[0m\u001b[0m\n\u001b[0m",
      "\u001b[1;31mNameError\u001b[0m: name 'X' is not defined"
     ]
    }
   ],
   "source": [
    "X"
   ]
  },
  {
   "cell_type": "markdown",
   "metadata": {},
   "source": [
    "# GaussianProcessRegressor"
   ]
  },
  {
   "cell_type": "code",
   "execution_count": 67,
   "metadata": {},
   "outputs": [
    {
     "name": "stdout",
     "output_type": "stream",
     "text": [
      "Fitting 10 folds for each of 35 candidates, totalling 350 fits\n"
     ]
    },
    {
     "name": "stderr",
     "output_type": "stream",
     "text": [
      "[Parallel(n_jobs=7)]: Using backend LokyBackend with 7 concurrent workers.\n",
      "[Parallel(n_jobs=7)]: Done   4 tasks      | elapsed:    0.1s\n",
      "[Parallel(n_jobs=7)]: Done 243 tasks      | elapsed:    1.3s\n",
      "[Parallel(n_jobs=7)]: Done 350 out of 350 | elapsed:    2.7s finished\n",
      "[Parallel(n_jobs=7)]: Using backend LokyBackend with 7 concurrent workers.\n"
     ]
    },
    {
     "name": "stdout",
     "output_type": "stream",
     "text": [
      "-78.01943299134054\n",
      "{'model__alpha': 0.0001, 'model__kernel': None}\n",
      "Total time:  0.04724022150039673 minutes\n",
      "neg_mean_absolute_error\n",
      "Fitting 10 folds for each of 35 candidates, totalling 350 fits\n"
     ]
    },
    {
     "name": "stderr",
     "output_type": "stream",
     "text": [
      "[Parallel(n_jobs=7)]: Done   4 tasks      | elapsed:    0.0s\n",
      "[Parallel(n_jobs=7)]: Done 243 tasks      | elapsed:    1.1s\n",
      "[Parallel(n_jobs=7)]: Done 350 out of 350 | elapsed:    1.7s finished\n",
      "[Parallel(n_jobs=7)]: Using backend LokyBackend with 7 concurrent workers.\n"
     ]
    },
    {
     "name": "stdout",
     "output_type": "stream",
     "text": [
      "-13488.486682818035\n",
      "{'model__alpha': 0.0001, 'model__kernel': None}\n",
      "Total time:  0.030754383405049643 minutes\n",
      "neg_mean_squared_error\n",
      "Fitting 10 folds for each of 35 candidates, totalling 350 fits\n"
     ]
    },
    {
     "name": "stderr",
     "output_type": "stream",
     "text": [
      "[Parallel(n_jobs=7)]: Done   4 tasks      | elapsed:    0.1s\n",
      "[Parallel(n_jobs=7)]: Done 120 tasks      | elapsed:    0.9s\n"
     ]
    },
    {
     "name": "stdout",
     "output_type": "stream",
     "text": [
      "-0.3967078914742873\n",
      "{'model__alpha': 0.0001, 'model__kernel': None}\n",
      "Total time:  0.03500665823618571 minutes\n",
      "r2\n"
     ]
    },
    {
     "name": "stderr",
     "output_type": "stream",
     "text": [
      "[Parallel(n_jobs=7)]: Done 323 tasks      | elapsed:    1.8s\n",
      "[Parallel(n_jobs=7)]: Done 350 out of 350 | elapsed:    1.9s finished\n"
     ]
    }
   ],
   "source": [
    "from sklearn.gaussian_process import GaussianProcessRegressor\n",
    "model = GaussianProcessRegressor()\n",
    "\n",
    "pipe = Pipeline(steps=[('sc', sc), ('model', model)])\n",
    "# , \n",
    "param_grid   =  [{'model__kernel' : [None]+['rbf', 'sigmoid',  'linear', 'poly'],\n",
    "                  'model__alpha' : [x*0.0000000001 for x in [1,10,100,1000,10000,100000,1000000]]}]\n",
    "\n",
    "pipe.get_params()\n",
    "\n",
    "estimator = pipe\n",
    "\n",
    "scores = ['neg_mean_absolute_error', 'neg_mean_squared_error', 'r2']\n",
    "cv = 10\n",
    "\n",
    "for score in scores:\n",
    "    grid(Xtrain = X_train_std,\n",
    "                ytrain = y_train,\n",
    "                estimator = pipe,\n",
    "                params_grid = param_grid,\n",
    "                scores=score,\n",
    "                cvs = cv,\n",
    "                cores=7,\n",
    "                verb=5)\n",
    "    print(score)"
   ]
  },
  {
   "cell_type": "markdown",
   "metadata": {},
   "source": [
    "# KNeighborsRegressor"
   ]
  },
  {
   "cell_type": "code",
   "execution_count": 91,
   "metadata": {},
   "outputs": [
    {
     "name": "stdout",
     "output_type": "stream",
     "text": [
      "Fitting 10 folds for each of 1280 candidates, totalling 12800 fits\n"
     ]
    },
    {
     "name": "stderr",
     "output_type": "stream",
     "text": [
      "[Parallel(n_jobs=7)]: Using backend LokyBackend with 7 concurrent workers.\n",
      "[Parallel(n_jobs=7)]: Done   4 tasks      | elapsed:    4.0s\n",
      "[Parallel(n_jobs=7)]: Done  67 tasks      | elapsed:    4.3s\n",
      "[Parallel(n_jobs=7)]: Done 1157 tasks      | elapsed:    7.2s\n",
      "[Parallel(n_jobs=7)]: Done 3173 tasks      | elapsed:   11.1s\n",
      "[Parallel(n_jobs=7)]: Done 5765 tasks      | elapsed:   15.4s\n",
      "[Parallel(n_jobs=7)]: Done 8933 tasks      | elapsed:   23.9s\n",
      "[Parallel(n_jobs=7)]: Done 12677 tasks      | elapsed:   30.9s\n",
      "[Parallel(n_jobs=7)]: Done 12800 out of 12800 | elapsed:   31.1s finished\n"
     ]
    },
    {
     "name": "stdout",
     "output_type": "stream",
     "text": [
      "-50.87729198749018\n",
      "{'model__algorithm': 'auto', 'model__leaf_size': 10, 'model__n_neighbors': 6, 'model__weights': 'distance'}\n"
     ]
    },
    {
     "ename": "TypeError",
     "evalue": "append() takes exactly one argument (2 given)",
     "output_type": "error",
     "traceback": [
      "\u001b[1;31m---------------------------------------------------------------------------\u001b[0m",
      "\u001b[1;31mTypeError\u001b[0m                                 Traceback (most recent call last)",
      "\u001b[1;32m<ipython-input-91-d1262aa79259>\u001b[0m in \u001b[0;36m<module>\u001b[1;34m\u001b[0m\n\u001b[0;32m     17\u001b[0m \u001b[1;33m\u001b[0m\u001b[0m\n\u001b[0;32m     18\u001b[0m \u001b[1;32mfor\u001b[0m \u001b[0mscore\u001b[0m \u001b[1;32min\u001b[0m \u001b[0mscores\u001b[0m\u001b[1;33m:\u001b[0m\u001b[1;33m\u001b[0m\u001b[1;33m\u001b[0m\u001b[0m\n\u001b[1;32m---> 19\u001b[1;33m     grid(Xtrain = X_train_std,\n\u001b[0m\u001b[0;32m     20\u001b[0m                 \u001b[0mytrain\u001b[0m \u001b[1;33m=\u001b[0m \u001b[0my_train\u001b[0m\u001b[1;33m,\u001b[0m\u001b[1;33m\u001b[0m\u001b[1;33m\u001b[0m\u001b[0m\n\u001b[0;32m     21\u001b[0m                 \u001b[0mestimator\u001b[0m \u001b[1;33m=\u001b[0m \u001b[0mpipe\u001b[0m\u001b[1;33m,\u001b[0m\u001b[1;33m\u001b[0m\u001b[1;33m\u001b[0m\u001b[0m\n",
      "\u001b[1;32m<ipython-input-89-37542f7a4d5e>\u001b[0m in \u001b[0;36mgrid\u001b[1;34m(Xtrain, ytrain, estimator, params_grid, scores, cvs, cores, verb)\u001b[0m\n\u001b[0;32m     27\u001b[0m     \u001b[1;32mimport\u001b[0m \u001b[0mdatetime\u001b[0m\u001b[1;33m\u001b[0m\u001b[1;33m\u001b[0m\u001b[0m\n\u001b[0;32m     28\u001b[0m     \u001b[0mdatetime\u001b[0m \u001b[1;33m=\u001b[0m \u001b[0mdatetime\u001b[0m\u001b[1;33m.\u001b[0m\u001b[0mdatetime\u001b[0m\u001b[1;33m.\u001b[0m\u001b[0mnow\u001b[0m\u001b[1;33m(\u001b[0m\u001b[1;33m)\u001b[0m\u001b[1;33m\u001b[0m\u001b[1;33m\u001b[0m\u001b[0m\n\u001b[1;32m---> 29\u001b[1;33m     results.append(np.array((gs.best_estimator_, gs, score, gs.best_score_, gs.best_params_, \n\u001b[0m\u001b[0;32m     30\u001b[0m                              (t2 - t1) / 60, datetime), dtype=object), np.array(comments))\n\u001b[0;32m     31\u001b[0m \u001b[1;33m\u001b[0m\u001b[0m\n",
      "\u001b[1;31mTypeError\u001b[0m: append() takes exactly one argument (2 given)"
     ]
    }
   ],
   "source": [
    "from sklearn.neighbors import KNeighborsRegressor\n",
    "model = KNeighborsRegressor()\n",
    "\n",
    "pipe = Pipeline(steps=[('sc', sc), ('model', model)])\n",
    "\n",
    "param_grid   =  [{'model__n_neighbors' : [x for x in range(1, 100,5)],\n",
    "                  'model__weights' : ['uniform', 'distance'],\n",
    "                  'model__algorithm' : ['auto', 'ball_tree', 'kd_tree', 'brute'],\n",
    "                  'model__leaf_size' : [x for x in range(10, 50, 5)]}]\n",
    "\n",
    "pipe.get_params()\n",
    "\n",
    "estimator = pipe\n",
    "\n",
    "scores = ['neg_mean_absolute_error', 'neg_mean_squared_error', 'r2']\n",
    "cv = 10\n",
    "\n",
    "for score in scores:\n",
    "    grid(Xtrain = X_train_std,\n",
    "                ytrain = y_train,\n",
    "                estimator = pipe,\n",
    "                params_grid = param_grid,\n",
    "                scores=score,\n",
    "                cvs = cv,\n",
    "                cores=7,\n",
    "                verb=5)\n",
    "    print(score)"
   ]
  },
  {
   "cell_type": "markdown",
   "metadata": {},
   "source": [
    "# RadiusNeighborsRegressor"
   ]
  },
  {
   "cell_type": "code",
   "execution_count": 93,
   "metadata": {},
   "outputs": [
    {
     "name": "stdout",
     "output_type": "stream",
     "text": [
      "Fitting 10 folds for each of 648 candidates, totalling 6480 fits\n"
     ]
    },
    {
     "name": "stderr",
     "output_type": "stream",
     "text": [
      "[Parallel(n_jobs=7)]: Using backend LokyBackend with 7 concurrent workers.\n"
     ]
    },
    {
     "ename": "ValueError",
     "evalue": "Input contains NaN, infinity or a value too large for dtype('float64').",
     "output_type": "error",
     "traceback": [
      "\u001b[1;31m---------------------------------------------------------------------------\u001b[0m",
      "\u001b[1;31m_RemoteTraceback\u001b[0m                          Traceback (most recent call last)",
      "\u001b[1;31m_RemoteTraceback\u001b[0m: \n\"\"\"\nTraceback (most recent call last):\n  File \"C:\\ProgramData\\Anaconda3\\lib\\site-packages\\joblib\\externals\\loky\\process_executor.py\", line 431, in _process_worker\n    r = call_item()\n  File \"C:\\ProgramData\\Anaconda3\\lib\\site-packages\\joblib\\externals\\loky\\process_executor.py\", line 285, in __call__\n    return self.fn(*self.args, **self.kwargs)\n  File \"C:\\ProgramData\\Anaconda3\\lib\\site-packages\\joblib\\_parallel_backends.py\", line 595, in __call__\n    return self.func(*args, **kwargs)\n  File \"C:\\ProgramData\\Anaconda3\\lib\\site-packages\\joblib\\parallel.py\", line 262, in __call__\n    return [func(*args, **kwargs)\n  File \"C:\\ProgramData\\Anaconda3\\lib\\site-packages\\joblib\\parallel.py\", line 262, in <listcomp>\n    return [func(*args, **kwargs)\n  File \"C:\\ProgramData\\Anaconda3\\lib\\site-packages\\sklearn\\model_selection\\_validation.py\", line 560, in _fit_and_score\n    test_scores = _score(estimator, X_test, y_test, scorer)\n  File \"C:\\ProgramData\\Anaconda3\\lib\\site-packages\\sklearn\\model_selection\\_validation.py\", line 607, in _score\n    scores = scorer(estimator, X_test, y_test)\n  File \"C:\\ProgramData\\Anaconda3\\lib\\site-packages\\sklearn\\metrics\\_scorer.py\", line 87, in __call__\n    score = scorer._score(cached_call, estimator,\n  File \"C:\\ProgramData\\Anaconda3\\lib\\site-packages\\sklearn\\metrics\\_scorer.py\", line 212, in _score\n    return self._sign * self._score_func(y_true, y_pred,\n  File \"C:\\ProgramData\\Anaconda3\\lib\\site-packages\\sklearn\\utils\\validation.py\", line 72, in inner_f\n    return f(**kwargs)\n  File \"C:\\ProgramData\\Anaconda3\\lib\\site-packages\\sklearn\\metrics\\_regression.py\", line 178, in mean_absolute_error\n    y_type, y_true, y_pred, multioutput = _check_reg_targets(\n  File \"C:\\ProgramData\\Anaconda3\\lib\\site-packages\\sklearn\\metrics\\_regression.py\", line 86, in _check_reg_targets\n    y_pred = check_array(y_pred, ensure_2d=False, dtype=dtype)\n  File \"C:\\ProgramData\\Anaconda3\\lib\\site-packages\\sklearn\\utils\\validation.py\", line 72, in inner_f\n    return f(**kwargs)\n  File \"C:\\ProgramData\\Anaconda3\\lib\\site-packages\\sklearn\\utils\\validation.py\", line 644, in check_array\n    _assert_all_finite(array,\n  File \"C:\\ProgramData\\Anaconda3\\lib\\site-packages\\sklearn\\utils\\validation.py\", line 96, in _assert_all_finite\n    raise ValueError(\nValueError: Input contains NaN, infinity or a value too large for dtype('float64').\n\"\"\"",
      "\nThe above exception was the direct cause of the following exception:\n",
      "\u001b[1;31mValueError\u001b[0m                                Traceback (most recent call last)",
      "\u001b[1;32m<ipython-input-93-92baa60a67aa>\u001b[0m in \u001b[0;36m<module>\u001b[1;34m\u001b[0m\n\u001b[0;32m     17\u001b[0m \u001b[1;33m\u001b[0m\u001b[0m\n\u001b[0;32m     18\u001b[0m \u001b[1;32mfor\u001b[0m \u001b[0mscore\u001b[0m \u001b[1;32min\u001b[0m \u001b[0mscores\u001b[0m\u001b[1;33m:\u001b[0m\u001b[1;33m\u001b[0m\u001b[1;33m\u001b[0m\u001b[0m\n\u001b[1;32m---> 19\u001b[1;33m     grid(Xtrain = X_train_std,\n\u001b[0m\u001b[0;32m     20\u001b[0m                 \u001b[0mytrain\u001b[0m \u001b[1;33m=\u001b[0m \u001b[0my_train\u001b[0m\u001b[1;33m,\u001b[0m\u001b[1;33m\u001b[0m\u001b[1;33m\u001b[0m\u001b[0m\n\u001b[0;32m     21\u001b[0m                 \u001b[0mestimator\u001b[0m \u001b[1;33m=\u001b[0m \u001b[0mpipe\u001b[0m\u001b[1;33m,\u001b[0m\u001b[1;33m\u001b[0m\u001b[1;33m\u001b[0m\u001b[0m\n",
      "\u001b[1;32m<ipython-input-22-16db00b493b4>\u001b[0m in \u001b[0;36mgrid\u001b[1;34m(Xtrain, ytrain, estimator, params_grid, scores, cvs, cores, verb)\u001b[0m\n\u001b[0;32m     17\u001b[0m                       verbose=verb)\n\u001b[0;32m     18\u001b[0m \u001b[1;33m\u001b[0m\u001b[0m\n\u001b[1;32m---> 19\u001b[1;33m     \u001b[0mgs\u001b[0m \u001b[1;33m=\u001b[0m \u001b[0mgs\u001b[0m\u001b[1;33m.\u001b[0m\u001b[0mfit\u001b[0m\u001b[1;33m(\u001b[0m\u001b[0mXtrain\u001b[0m\u001b[1;33m,\u001b[0m \u001b[0mytrain\u001b[0m\u001b[1;33m)\u001b[0m\u001b[1;33m\u001b[0m\u001b[1;33m\u001b[0m\u001b[0m\n\u001b[0m\u001b[0;32m     20\u001b[0m     \u001b[0mprint\u001b[0m\u001b[1;33m(\u001b[0m\u001b[0mgs\u001b[0m\u001b[1;33m.\u001b[0m\u001b[0mbest_score_\u001b[0m\u001b[1;33m)\u001b[0m\u001b[1;33m\u001b[0m\u001b[1;33m\u001b[0m\u001b[0m\n\u001b[0;32m     21\u001b[0m     \u001b[0mprint\u001b[0m\u001b[1;33m(\u001b[0m\u001b[0mgs\u001b[0m\u001b[1;33m.\u001b[0m\u001b[0mbest_params_\u001b[0m\u001b[1;33m)\u001b[0m\u001b[1;33m\u001b[0m\u001b[1;33m\u001b[0m\u001b[0m\n",
      "\u001b[1;32mC:\\ProgramData\\Anaconda3\\lib\\site-packages\\sklearn\\utils\\validation.py\u001b[0m in \u001b[0;36minner_f\u001b[1;34m(*args, **kwargs)\u001b[0m\n\u001b[0;32m     70\u001b[0m                           FutureWarning)\n\u001b[0;32m     71\u001b[0m         \u001b[0mkwargs\u001b[0m\u001b[1;33m.\u001b[0m\u001b[0mupdate\u001b[0m\u001b[1;33m(\u001b[0m\u001b[1;33m{\u001b[0m\u001b[0mk\u001b[0m\u001b[1;33m:\u001b[0m \u001b[0marg\u001b[0m \u001b[1;32mfor\u001b[0m \u001b[0mk\u001b[0m\u001b[1;33m,\u001b[0m \u001b[0marg\u001b[0m \u001b[1;32min\u001b[0m \u001b[0mzip\u001b[0m\u001b[1;33m(\u001b[0m\u001b[0msig\u001b[0m\u001b[1;33m.\u001b[0m\u001b[0mparameters\u001b[0m\u001b[1;33m,\u001b[0m \u001b[0margs\u001b[0m\u001b[1;33m)\u001b[0m\u001b[1;33m}\u001b[0m\u001b[1;33m)\u001b[0m\u001b[1;33m\u001b[0m\u001b[1;33m\u001b[0m\u001b[0m\n\u001b[1;32m---> 72\u001b[1;33m         \u001b[1;32mreturn\u001b[0m \u001b[0mf\u001b[0m\u001b[1;33m(\u001b[0m\u001b[1;33m**\u001b[0m\u001b[0mkwargs\u001b[0m\u001b[1;33m)\u001b[0m\u001b[1;33m\u001b[0m\u001b[1;33m\u001b[0m\u001b[0m\n\u001b[0m\u001b[0;32m     73\u001b[0m     \u001b[1;32mreturn\u001b[0m \u001b[0minner_f\u001b[0m\u001b[1;33m\u001b[0m\u001b[1;33m\u001b[0m\u001b[0m\n\u001b[0;32m     74\u001b[0m \u001b[1;33m\u001b[0m\u001b[0m\n",
      "\u001b[1;32mC:\\ProgramData\\Anaconda3\\lib\\site-packages\\sklearn\\model_selection\\_search.py\u001b[0m in \u001b[0;36mfit\u001b[1;34m(self, X, y, groups, **fit_params)\u001b[0m\n\u001b[0;32m    734\u001b[0m                 \u001b[1;32mreturn\u001b[0m \u001b[0mresults\u001b[0m\u001b[1;33m\u001b[0m\u001b[1;33m\u001b[0m\u001b[0m\n\u001b[0;32m    735\u001b[0m \u001b[1;33m\u001b[0m\u001b[0m\n\u001b[1;32m--> 736\u001b[1;33m             \u001b[0mself\u001b[0m\u001b[1;33m.\u001b[0m\u001b[0m_run_search\u001b[0m\u001b[1;33m(\u001b[0m\u001b[0mevaluate_candidates\u001b[0m\u001b[1;33m)\u001b[0m\u001b[1;33m\u001b[0m\u001b[1;33m\u001b[0m\u001b[0m\n\u001b[0m\u001b[0;32m    737\u001b[0m \u001b[1;33m\u001b[0m\u001b[0m\n\u001b[0;32m    738\u001b[0m         \u001b[1;31m# For multi-metric evaluation, store the best_index_, best_params_ and\u001b[0m\u001b[1;33m\u001b[0m\u001b[1;33m\u001b[0m\u001b[1;33m\u001b[0m\u001b[0m\n",
      "\u001b[1;32mC:\\ProgramData\\Anaconda3\\lib\\site-packages\\sklearn\\model_selection\\_search.py\u001b[0m in \u001b[0;36m_run_search\u001b[1;34m(self, evaluate_candidates)\u001b[0m\n\u001b[0;32m   1186\u001b[0m     \u001b[1;32mdef\u001b[0m \u001b[0m_run_search\u001b[0m\u001b[1;33m(\u001b[0m\u001b[0mself\u001b[0m\u001b[1;33m,\u001b[0m \u001b[0mevaluate_candidates\u001b[0m\u001b[1;33m)\u001b[0m\u001b[1;33m:\u001b[0m\u001b[1;33m\u001b[0m\u001b[1;33m\u001b[0m\u001b[0m\n\u001b[0;32m   1187\u001b[0m         \u001b[1;34m\"\"\"Search all candidates in param_grid\"\"\"\u001b[0m\u001b[1;33m\u001b[0m\u001b[1;33m\u001b[0m\u001b[0m\n\u001b[1;32m-> 1188\u001b[1;33m         \u001b[0mevaluate_candidates\u001b[0m\u001b[1;33m(\u001b[0m\u001b[0mParameterGrid\u001b[0m\u001b[1;33m(\u001b[0m\u001b[0mself\u001b[0m\u001b[1;33m.\u001b[0m\u001b[0mparam_grid\u001b[0m\u001b[1;33m)\u001b[0m\u001b[1;33m)\u001b[0m\u001b[1;33m\u001b[0m\u001b[1;33m\u001b[0m\u001b[0m\n\u001b[0m\u001b[0;32m   1189\u001b[0m \u001b[1;33m\u001b[0m\u001b[0m\n\u001b[0;32m   1190\u001b[0m \u001b[1;33m\u001b[0m\u001b[0m\n",
      "\u001b[1;32mC:\\ProgramData\\Anaconda3\\lib\\site-packages\\sklearn\\model_selection\\_search.py\u001b[0m in \u001b[0;36mevaluate_candidates\u001b[1;34m(candidate_params)\u001b[0m\n\u001b[0;32m    706\u001b[0m                               n_splits, n_candidates, n_candidates * n_splits))\n\u001b[0;32m    707\u001b[0m \u001b[1;33m\u001b[0m\u001b[0m\n\u001b[1;32m--> 708\u001b[1;33m                 out = parallel(delayed(_fit_and_score)(clone(base_estimator),\n\u001b[0m\u001b[0;32m    709\u001b[0m                                                        \u001b[0mX\u001b[0m\u001b[1;33m,\u001b[0m \u001b[0my\u001b[0m\u001b[1;33m,\u001b[0m\u001b[1;33m\u001b[0m\u001b[1;33m\u001b[0m\u001b[0m\n\u001b[0;32m    710\u001b[0m                                                        \u001b[0mtrain\u001b[0m\u001b[1;33m=\u001b[0m\u001b[0mtrain\u001b[0m\u001b[1;33m,\u001b[0m \u001b[0mtest\u001b[0m\u001b[1;33m=\u001b[0m\u001b[0mtest\u001b[0m\u001b[1;33m,\u001b[0m\u001b[1;33m\u001b[0m\u001b[1;33m\u001b[0m\u001b[0m\n",
      "\u001b[1;32mC:\\ProgramData\\Anaconda3\\lib\\site-packages\\joblib\\parallel.py\u001b[0m in \u001b[0;36m__call__\u001b[1;34m(self, iterable)\u001b[0m\n\u001b[0;32m   1052\u001b[0m \u001b[1;33m\u001b[0m\u001b[0m\n\u001b[0;32m   1053\u001b[0m             \u001b[1;32mwith\u001b[0m \u001b[0mself\u001b[0m\u001b[1;33m.\u001b[0m\u001b[0m_backend\u001b[0m\u001b[1;33m.\u001b[0m\u001b[0mretrieval_context\u001b[0m\u001b[1;33m(\u001b[0m\u001b[1;33m)\u001b[0m\u001b[1;33m:\u001b[0m\u001b[1;33m\u001b[0m\u001b[1;33m\u001b[0m\u001b[0m\n\u001b[1;32m-> 1054\u001b[1;33m                 \u001b[0mself\u001b[0m\u001b[1;33m.\u001b[0m\u001b[0mretrieve\u001b[0m\u001b[1;33m(\u001b[0m\u001b[1;33m)\u001b[0m\u001b[1;33m\u001b[0m\u001b[1;33m\u001b[0m\u001b[0m\n\u001b[0m\u001b[0;32m   1055\u001b[0m             \u001b[1;31m# Make sure that we get a last message telling us we are done\u001b[0m\u001b[1;33m\u001b[0m\u001b[1;33m\u001b[0m\u001b[1;33m\u001b[0m\u001b[0m\n\u001b[0;32m   1056\u001b[0m             \u001b[0melapsed_time\u001b[0m \u001b[1;33m=\u001b[0m \u001b[0mtime\u001b[0m\u001b[1;33m.\u001b[0m\u001b[0mtime\u001b[0m\u001b[1;33m(\u001b[0m\u001b[1;33m)\u001b[0m \u001b[1;33m-\u001b[0m \u001b[0mself\u001b[0m\u001b[1;33m.\u001b[0m\u001b[0m_start_time\u001b[0m\u001b[1;33m\u001b[0m\u001b[1;33m\u001b[0m\u001b[0m\n",
      "\u001b[1;32mC:\\ProgramData\\Anaconda3\\lib\\site-packages\\joblib\\parallel.py\u001b[0m in \u001b[0;36mretrieve\u001b[1;34m(self)\u001b[0m\n\u001b[0;32m    931\u001b[0m             \u001b[1;32mtry\u001b[0m\u001b[1;33m:\u001b[0m\u001b[1;33m\u001b[0m\u001b[1;33m\u001b[0m\u001b[0m\n\u001b[0;32m    932\u001b[0m                 \u001b[1;32mif\u001b[0m \u001b[0mgetattr\u001b[0m\u001b[1;33m(\u001b[0m\u001b[0mself\u001b[0m\u001b[1;33m.\u001b[0m\u001b[0m_backend\u001b[0m\u001b[1;33m,\u001b[0m \u001b[1;34m'supports_timeout'\u001b[0m\u001b[1;33m,\u001b[0m \u001b[1;32mFalse\u001b[0m\u001b[1;33m)\u001b[0m\u001b[1;33m:\u001b[0m\u001b[1;33m\u001b[0m\u001b[1;33m\u001b[0m\u001b[0m\n\u001b[1;32m--> 933\u001b[1;33m                     \u001b[0mself\u001b[0m\u001b[1;33m.\u001b[0m\u001b[0m_output\u001b[0m\u001b[1;33m.\u001b[0m\u001b[0mextend\u001b[0m\u001b[1;33m(\u001b[0m\u001b[0mjob\u001b[0m\u001b[1;33m.\u001b[0m\u001b[0mget\u001b[0m\u001b[1;33m(\u001b[0m\u001b[0mtimeout\u001b[0m\u001b[1;33m=\u001b[0m\u001b[0mself\u001b[0m\u001b[1;33m.\u001b[0m\u001b[0mtimeout\u001b[0m\u001b[1;33m)\u001b[0m\u001b[1;33m)\u001b[0m\u001b[1;33m\u001b[0m\u001b[1;33m\u001b[0m\u001b[0m\n\u001b[0m\u001b[0;32m    934\u001b[0m                 \u001b[1;32melse\u001b[0m\u001b[1;33m:\u001b[0m\u001b[1;33m\u001b[0m\u001b[1;33m\u001b[0m\u001b[0m\n\u001b[0;32m    935\u001b[0m                     \u001b[0mself\u001b[0m\u001b[1;33m.\u001b[0m\u001b[0m_output\u001b[0m\u001b[1;33m.\u001b[0m\u001b[0mextend\u001b[0m\u001b[1;33m(\u001b[0m\u001b[0mjob\u001b[0m\u001b[1;33m.\u001b[0m\u001b[0mget\u001b[0m\u001b[1;33m(\u001b[0m\u001b[1;33m)\u001b[0m\u001b[1;33m)\u001b[0m\u001b[1;33m\u001b[0m\u001b[1;33m\u001b[0m\u001b[0m\n",
      "\u001b[1;32mC:\\ProgramData\\Anaconda3\\lib\\site-packages\\joblib\\_parallel_backends.py\u001b[0m in \u001b[0;36mwrap_future_result\u001b[1;34m(future, timeout)\u001b[0m\n\u001b[0;32m    540\u001b[0m         AsyncResults.get from multiprocessing.\"\"\"\n\u001b[0;32m    541\u001b[0m         \u001b[1;32mtry\u001b[0m\u001b[1;33m:\u001b[0m\u001b[1;33m\u001b[0m\u001b[1;33m\u001b[0m\u001b[0m\n\u001b[1;32m--> 542\u001b[1;33m             \u001b[1;32mreturn\u001b[0m \u001b[0mfuture\u001b[0m\u001b[1;33m.\u001b[0m\u001b[0mresult\u001b[0m\u001b[1;33m(\u001b[0m\u001b[0mtimeout\u001b[0m\u001b[1;33m=\u001b[0m\u001b[0mtimeout\u001b[0m\u001b[1;33m)\u001b[0m\u001b[1;33m\u001b[0m\u001b[1;33m\u001b[0m\u001b[0m\n\u001b[0m\u001b[0;32m    543\u001b[0m         \u001b[1;32mexcept\u001b[0m \u001b[0mCfTimeoutError\u001b[0m \u001b[1;32mas\u001b[0m \u001b[0me\u001b[0m\u001b[1;33m:\u001b[0m\u001b[1;33m\u001b[0m\u001b[1;33m\u001b[0m\u001b[0m\n\u001b[0;32m    544\u001b[0m             \u001b[1;32mraise\u001b[0m \u001b[0mTimeoutError\u001b[0m \u001b[1;32mfrom\u001b[0m \u001b[0me\u001b[0m\u001b[1;33m\u001b[0m\u001b[1;33m\u001b[0m\u001b[0m\n",
      "\u001b[1;32mC:\\ProgramData\\Anaconda3\\lib\\concurrent\\futures\\_base.py\u001b[0m in \u001b[0;36mresult\u001b[1;34m(self, timeout)\u001b[0m\n\u001b[0;32m    437\u001b[0m                 \u001b[1;32mraise\u001b[0m \u001b[0mCancelledError\u001b[0m\u001b[1;33m(\u001b[0m\u001b[1;33m)\u001b[0m\u001b[1;33m\u001b[0m\u001b[1;33m\u001b[0m\u001b[0m\n\u001b[0;32m    438\u001b[0m             \u001b[1;32melif\u001b[0m \u001b[0mself\u001b[0m\u001b[1;33m.\u001b[0m\u001b[0m_state\u001b[0m \u001b[1;33m==\u001b[0m \u001b[0mFINISHED\u001b[0m\u001b[1;33m:\u001b[0m\u001b[1;33m\u001b[0m\u001b[1;33m\u001b[0m\u001b[0m\n\u001b[1;32m--> 439\u001b[1;33m                 \u001b[1;32mreturn\u001b[0m \u001b[0mself\u001b[0m\u001b[1;33m.\u001b[0m\u001b[0m__get_result\u001b[0m\u001b[1;33m(\u001b[0m\u001b[1;33m)\u001b[0m\u001b[1;33m\u001b[0m\u001b[1;33m\u001b[0m\u001b[0m\n\u001b[0m\u001b[0;32m    440\u001b[0m             \u001b[1;32melse\u001b[0m\u001b[1;33m:\u001b[0m\u001b[1;33m\u001b[0m\u001b[1;33m\u001b[0m\u001b[0m\n\u001b[0;32m    441\u001b[0m                 \u001b[1;32mraise\u001b[0m \u001b[0mTimeoutError\u001b[0m\u001b[1;33m(\u001b[0m\u001b[1;33m)\u001b[0m\u001b[1;33m\u001b[0m\u001b[1;33m\u001b[0m\u001b[0m\n",
      "\u001b[1;32mC:\\ProgramData\\Anaconda3\\lib\\concurrent\\futures\\_base.py\u001b[0m in \u001b[0;36m__get_result\u001b[1;34m(self)\u001b[0m\n\u001b[0;32m    386\u001b[0m     \u001b[1;32mdef\u001b[0m \u001b[0m__get_result\u001b[0m\u001b[1;33m(\u001b[0m\u001b[0mself\u001b[0m\u001b[1;33m)\u001b[0m\u001b[1;33m:\u001b[0m\u001b[1;33m\u001b[0m\u001b[1;33m\u001b[0m\u001b[0m\n\u001b[0;32m    387\u001b[0m         \u001b[1;32mif\u001b[0m \u001b[0mself\u001b[0m\u001b[1;33m.\u001b[0m\u001b[0m_exception\u001b[0m\u001b[1;33m:\u001b[0m\u001b[1;33m\u001b[0m\u001b[1;33m\u001b[0m\u001b[0m\n\u001b[1;32m--> 388\u001b[1;33m             \u001b[1;32mraise\u001b[0m \u001b[0mself\u001b[0m\u001b[1;33m.\u001b[0m\u001b[0m_exception\u001b[0m\u001b[1;33m\u001b[0m\u001b[1;33m\u001b[0m\u001b[0m\n\u001b[0m\u001b[0;32m    389\u001b[0m         \u001b[1;32melse\u001b[0m\u001b[1;33m:\u001b[0m\u001b[1;33m\u001b[0m\u001b[1;33m\u001b[0m\u001b[0m\n\u001b[0;32m    390\u001b[0m             \u001b[1;32mreturn\u001b[0m \u001b[0mself\u001b[0m\u001b[1;33m.\u001b[0m\u001b[0m_result\u001b[0m\u001b[1;33m\u001b[0m\u001b[1;33m\u001b[0m\u001b[0m\n",
      "\u001b[1;31mValueError\u001b[0m: Input contains NaN, infinity or a value too large for dtype('float64')."
     ]
    }
   ],
   "source": [
    "# from sklearn.neighbors import RadiusNeighborsRegressor\n",
    "# model = RadiusNeighborsRegressor()\n",
    "\n",
    "# pipe = Pipeline(steps=[('sc', sc), ('model', model)])\n",
    "\n",
    "# param_grid   =  [{'model__radius' : [x*1. for x in range(1, 10)],\n",
    "#                   'model__weights' : ['uniform', 'distance'],\n",
    "#                   'model__algorithm' : ['auto', 'ball_tree', 'kd_tree', 'brute'],\n",
    "#                   'model__p' : [x for x in range(1, 10)]}]\n",
    "\n",
    "# pipe.get_params()\n",
    "\n",
    "# estimator = pipe\n",
    "\n",
    "# scores = ['neg_mean_absolute_error', 'neg_mean_squared_error', 'r2']\n",
    "# cv = 10\n",
    "\n",
    "# for score in scores:\n",
    "#     grid(Xtrain = X_train_std,\n",
    "#                 ytrain = y_train,\n",
    "#                 estimator = pipe,\n",
    "#                 params_grid = param_grid,\n",
    "#                 scores=score,\n",
    "#                 cvs = cv,\n",
    "#                 cores=7,\n",
    "#                 verb=5)\n",
    "#     print(score)"
   ]
  },
  {
   "cell_type": "markdown",
   "metadata": {},
   "source": [
    "# IsotonicRegression"
   ]
  },
  {
   "cell_type": "code",
   "execution_count": 89,
   "metadata": {},
   "outputs": [],
   "source": [
    "# # https://github.com/scikit-learn/scikit-learn/issues/17333\n",
    "\n",
    "# import sklearn\n",
    "# class IsotonicWrapper(sklearn.isotonic.IsotonicRegression):\n",
    "#     def fit(self, X, y, sample_weight=None):\n",
    "#         super().fit(X.ravel(), y, sample_weight=sample_weight)\n",
    "\n",
    "#     def predict(self, T):\n",
    "#         return super().predict(T.ravel())"
   ]
  },
  {
   "cell_type": "code",
   "execution_count": 92,
   "metadata": {},
   "outputs": [
    {
     "name": "stdout",
     "output_type": "stream",
     "text": [
      "Fitting 10 folds for each of 9 candidates, totalling 90 fits\n"
     ]
    },
    {
     "name": "stderr",
     "output_type": "stream",
     "text": [
      "[Parallel(n_jobs=7)]: Using backend LokyBackend with 7 concurrent workers.\n"
     ]
    },
    {
     "ename": "TypeError",
     "evalue": "get_params() missing 1 required positional argument: 'self'",
     "output_type": "error",
     "traceback": [
      "\u001b[1;31m---------------------------------------------------------------------------\u001b[0m",
      "\u001b[1;31m_RemoteTraceback\u001b[0m                          Traceback (most recent call last)",
      "\u001b[1;31m_RemoteTraceback\u001b[0m: \n\"\"\"\nTraceback (most recent call last):\n  File \"C:\\ProgramData\\Anaconda3\\lib\\site-packages\\joblib\\externals\\loky\\process_executor.py\", line 431, in _process_worker\n    r = call_item()\n  File \"C:\\ProgramData\\Anaconda3\\lib\\site-packages\\joblib\\externals\\loky\\process_executor.py\", line 285, in __call__\n    return self.fn(*self.args, **self.kwargs)\n  File \"C:\\ProgramData\\Anaconda3\\lib\\site-packages\\joblib\\_parallel_backends.py\", line 595, in __call__\n    return self.func(*args, **kwargs)\n  File \"C:\\ProgramData\\Anaconda3\\lib\\site-packages\\joblib\\parallel.py\", line 262, in __call__\n    return [func(*args, **kwargs)\n  File \"C:\\ProgramData\\Anaconda3\\lib\\site-packages\\joblib\\parallel.py\", line 262, in <listcomp>\n    return [func(*args, **kwargs)\n  File \"C:\\ProgramData\\Anaconda3\\lib\\site-packages\\sklearn\\model_selection\\_validation.py\", line 520, in _fit_and_score\n    estimator = estimator.set_params(**cloned_parameters)\n  File \"C:\\ProgramData\\Anaconda3\\lib\\site-packages\\sklearn\\pipeline.py\", line 141, in set_params\n    self._set_params('steps', **kwargs)\n  File \"C:\\ProgramData\\Anaconda3\\lib\\site-packages\\sklearn\\utils\\metaestimators.py\", line 53, in _set_params\n    super().set_params(**params)\n  File \"C:\\ProgramData\\Anaconda3\\lib\\site-packages\\sklearn\\base.py\", line 243, in set_params\n    valid_params = self.get_params(deep=True)\n  File \"C:\\ProgramData\\Anaconda3\\lib\\site-packages\\sklearn\\pipeline.py\", line 130, in get_params\n    return self._get_params('steps', deep=deep)\n  File \"C:\\ProgramData\\Anaconda3\\lib\\site-packages\\sklearn\\utils\\metaestimators.py\", line 35, in _get_params\n    for key, value in estimator.get_params(deep=True).items():\nTypeError: get_params() missing 1 required positional argument: 'self'\n\"\"\"",
      "\nThe above exception was the direct cause of the following exception:\n",
      "\u001b[1;31mTypeError\u001b[0m                                 Traceback (most recent call last)",
      "\u001b[1;32m<ipython-input-92-cbf812925457>\u001b[0m in \u001b[0;36m<module>\u001b[1;34m\u001b[0m\n\u001b[0;32m     18\u001b[0m \u001b[1;33m\u001b[0m\u001b[0m\n\u001b[0;32m     19\u001b[0m \u001b[1;32mfor\u001b[0m \u001b[0mscore\u001b[0m \u001b[1;32min\u001b[0m \u001b[0mscores\u001b[0m\u001b[1;33m:\u001b[0m\u001b[1;33m\u001b[0m\u001b[1;33m\u001b[0m\u001b[0m\n\u001b[1;32m---> 20\u001b[1;33m     grid(Xtrain = X_train_std,\n\u001b[0m\u001b[0;32m     21\u001b[0m                 \u001b[0mytrain\u001b[0m \u001b[1;33m=\u001b[0m \u001b[0my_train\u001b[0m\u001b[1;33m,\u001b[0m\u001b[1;33m\u001b[0m\u001b[1;33m\u001b[0m\u001b[0m\n\u001b[0;32m     22\u001b[0m                 \u001b[0mestimator\u001b[0m \u001b[1;33m=\u001b[0m \u001b[0mpipe\u001b[0m\u001b[1;33m,\u001b[0m\u001b[1;33m\u001b[0m\u001b[1;33m\u001b[0m\u001b[0m\n",
      "\u001b[1;32m<ipython-input-22-16db00b493b4>\u001b[0m in \u001b[0;36mgrid\u001b[1;34m(Xtrain, ytrain, estimator, params_grid, scores, cvs, cores, verb)\u001b[0m\n\u001b[0;32m     17\u001b[0m                       verbose=verb)\n\u001b[0;32m     18\u001b[0m \u001b[1;33m\u001b[0m\u001b[0m\n\u001b[1;32m---> 19\u001b[1;33m     \u001b[0mgs\u001b[0m \u001b[1;33m=\u001b[0m \u001b[0mgs\u001b[0m\u001b[1;33m.\u001b[0m\u001b[0mfit\u001b[0m\u001b[1;33m(\u001b[0m\u001b[0mXtrain\u001b[0m\u001b[1;33m,\u001b[0m \u001b[0mytrain\u001b[0m\u001b[1;33m)\u001b[0m\u001b[1;33m\u001b[0m\u001b[1;33m\u001b[0m\u001b[0m\n\u001b[0m\u001b[0;32m     20\u001b[0m     \u001b[0mprint\u001b[0m\u001b[1;33m(\u001b[0m\u001b[0mgs\u001b[0m\u001b[1;33m.\u001b[0m\u001b[0mbest_score_\u001b[0m\u001b[1;33m)\u001b[0m\u001b[1;33m\u001b[0m\u001b[1;33m\u001b[0m\u001b[0m\n\u001b[0;32m     21\u001b[0m     \u001b[0mprint\u001b[0m\u001b[1;33m(\u001b[0m\u001b[0mgs\u001b[0m\u001b[1;33m.\u001b[0m\u001b[0mbest_params_\u001b[0m\u001b[1;33m)\u001b[0m\u001b[1;33m\u001b[0m\u001b[1;33m\u001b[0m\u001b[0m\n",
      "\u001b[1;32mC:\\ProgramData\\Anaconda3\\lib\\site-packages\\sklearn\\utils\\validation.py\u001b[0m in \u001b[0;36minner_f\u001b[1;34m(*args, **kwargs)\u001b[0m\n\u001b[0;32m     70\u001b[0m                           FutureWarning)\n\u001b[0;32m     71\u001b[0m         \u001b[0mkwargs\u001b[0m\u001b[1;33m.\u001b[0m\u001b[0mupdate\u001b[0m\u001b[1;33m(\u001b[0m\u001b[1;33m{\u001b[0m\u001b[0mk\u001b[0m\u001b[1;33m:\u001b[0m \u001b[0marg\u001b[0m \u001b[1;32mfor\u001b[0m \u001b[0mk\u001b[0m\u001b[1;33m,\u001b[0m \u001b[0marg\u001b[0m \u001b[1;32min\u001b[0m \u001b[0mzip\u001b[0m\u001b[1;33m(\u001b[0m\u001b[0msig\u001b[0m\u001b[1;33m.\u001b[0m\u001b[0mparameters\u001b[0m\u001b[1;33m,\u001b[0m \u001b[0margs\u001b[0m\u001b[1;33m)\u001b[0m\u001b[1;33m}\u001b[0m\u001b[1;33m)\u001b[0m\u001b[1;33m\u001b[0m\u001b[1;33m\u001b[0m\u001b[0m\n\u001b[1;32m---> 72\u001b[1;33m         \u001b[1;32mreturn\u001b[0m \u001b[0mf\u001b[0m\u001b[1;33m(\u001b[0m\u001b[1;33m**\u001b[0m\u001b[0mkwargs\u001b[0m\u001b[1;33m)\u001b[0m\u001b[1;33m\u001b[0m\u001b[1;33m\u001b[0m\u001b[0m\n\u001b[0m\u001b[0;32m     73\u001b[0m     \u001b[1;32mreturn\u001b[0m \u001b[0minner_f\u001b[0m\u001b[1;33m\u001b[0m\u001b[1;33m\u001b[0m\u001b[0m\n\u001b[0;32m     74\u001b[0m \u001b[1;33m\u001b[0m\u001b[0m\n",
      "\u001b[1;32mC:\\ProgramData\\Anaconda3\\lib\\site-packages\\sklearn\\model_selection\\_search.py\u001b[0m in \u001b[0;36mfit\u001b[1;34m(self, X, y, groups, **fit_params)\u001b[0m\n\u001b[0;32m    734\u001b[0m                 \u001b[1;32mreturn\u001b[0m \u001b[0mresults\u001b[0m\u001b[1;33m\u001b[0m\u001b[1;33m\u001b[0m\u001b[0m\n\u001b[0;32m    735\u001b[0m \u001b[1;33m\u001b[0m\u001b[0m\n\u001b[1;32m--> 736\u001b[1;33m             \u001b[0mself\u001b[0m\u001b[1;33m.\u001b[0m\u001b[0m_run_search\u001b[0m\u001b[1;33m(\u001b[0m\u001b[0mevaluate_candidates\u001b[0m\u001b[1;33m)\u001b[0m\u001b[1;33m\u001b[0m\u001b[1;33m\u001b[0m\u001b[0m\n\u001b[0m\u001b[0;32m    737\u001b[0m \u001b[1;33m\u001b[0m\u001b[0m\n\u001b[0;32m    738\u001b[0m         \u001b[1;31m# For multi-metric evaluation, store the best_index_, best_params_ and\u001b[0m\u001b[1;33m\u001b[0m\u001b[1;33m\u001b[0m\u001b[1;33m\u001b[0m\u001b[0m\n",
      "\u001b[1;32mC:\\ProgramData\\Anaconda3\\lib\\site-packages\\sklearn\\model_selection\\_search.py\u001b[0m in \u001b[0;36m_run_search\u001b[1;34m(self, evaluate_candidates)\u001b[0m\n\u001b[0;32m   1186\u001b[0m     \u001b[1;32mdef\u001b[0m \u001b[0m_run_search\u001b[0m\u001b[1;33m(\u001b[0m\u001b[0mself\u001b[0m\u001b[1;33m,\u001b[0m \u001b[0mevaluate_candidates\u001b[0m\u001b[1;33m)\u001b[0m\u001b[1;33m:\u001b[0m\u001b[1;33m\u001b[0m\u001b[1;33m\u001b[0m\u001b[0m\n\u001b[0;32m   1187\u001b[0m         \u001b[1;34m\"\"\"Search all candidates in param_grid\"\"\"\u001b[0m\u001b[1;33m\u001b[0m\u001b[1;33m\u001b[0m\u001b[0m\n\u001b[1;32m-> 1188\u001b[1;33m         \u001b[0mevaluate_candidates\u001b[0m\u001b[1;33m(\u001b[0m\u001b[0mParameterGrid\u001b[0m\u001b[1;33m(\u001b[0m\u001b[0mself\u001b[0m\u001b[1;33m.\u001b[0m\u001b[0mparam_grid\u001b[0m\u001b[1;33m)\u001b[0m\u001b[1;33m)\u001b[0m\u001b[1;33m\u001b[0m\u001b[1;33m\u001b[0m\u001b[0m\n\u001b[0m\u001b[0;32m   1189\u001b[0m \u001b[1;33m\u001b[0m\u001b[0m\n\u001b[0;32m   1190\u001b[0m \u001b[1;33m\u001b[0m\u001b[0m\n",
      "\u001b[1;32mC:\\ProgramData\\Anaconda3\\lib\\site-packages\\sklearn\\model_selection\\_search.py\u001b[0m in \u001b[0;36mevaluate_candidates\u001b[1;34m(candidate_params)\u001b[0m\n\u001b[0;32m    706\u001b[0m                               n_splits, n_candidates, n_candidates * n_splits))\n\u001b[0;32m    707\u001b[0m \u001b[1;33m\u001b[0m\u001b[0m\n\u001b[1;32m--> 708\u001b[1;33m                 out = parallel(delayed(_fit_and_score)(clone(base_estimator),\n\u001b[0m\u001b[0;32m    709\u001b[0m                                                        \u001b[0mX\u001b[0m\u001b[1;33m,\u001b[0m \u001b[0my\u001b[0m\u001b[1;33m,\u001b[0m\u001b[1;33m\u001b[0m\u001b[1;33m\u001b[0m\u001b[0m\n\u001b[0;32m    710\u001b[0m                                                        \u001b[0mtrain\u001b[0m\u001b[1;33m=\u001b[0m\u001b[0mtrain\u001b[0m\u001b[1;33m,\u001b[0m \u001b[0mtest\u001b[0m\u001b[1;33m=\u001b[0m\u001b[0mtest\u001b[0m\u001b[1;33m,\u001b[0m\u001b[1;33m\u001b[0m\u001b[1;33m\u001b[0m\u001b[0m\n",
      "\u001b[1;32mC:\\ProgramData\\Anaconda3\\lib\\site-packages\\joblib\\parallel.py\u001b[0m in \u001b[0;36m__call__\u001b[1;34m(self, iterable)\u001b[0m\n\u001b[0;32m   1052\u001b[0m \u001b[1;33m\u001b[0m\u001b[0m\n\u001b[0;32m   1053\u001b[0m             \u001b[1;32mwith\u001b[0m \u001b[0mself\u001b[0m\u001b[1;33m.\u001b[0m\u001b[0m_backend\u001b[0m\u001b[1;33m.\u001b[0m\u001b[0mretrieval_context\u001b[0m\u001b[1;33m(\u001b[0m\u001b[1;33m)\u001b[0m\u001b[1;33m:\u001b[0m\u001b[1;33m\u001b[0m\u001b[1;33m\u001b[0m\u001b[0m\n\u001b[1;32m-> 1054\u001b[1;33m                 \u001b[0mself\u001b[0m\u001b[1;33m.\u001b[0m\u001b[0mretrieve\u001b[0m\u001b[1;33m(\u001b[0m\u001b[1;33m)\u001b[0m\u001b[1;33m\u001b[0m\u001b[1;33m\u001b[0m\u001b[0m\n\u001b[0m\u001b[0;32m   1055\u001b[0m             \u001b[1;31m# Make sure that we get a last message telling us we are done\u001b[0m\u001b[1;33m\u001b[0m\u001b[1;33m\u001b[0m\u001b[1;33m\u001b[0m\u001b[0m\n\u001b[0;32m   1056\u001b[0m             \u001b[0melapsed_time\u001b[0m \u001b[1;33m=\u001b[0m \u001b[0mtime\u001b[0m\u001b[1;33m.\u001b[0m\u001b[0mtime\u001b[0m\u001b[1;33m(\u001b[0m\u001b[1;33m)\u001b[0m \u001b[1;33m-\u001b[0m \u001b[0mself\u001b[0m\u001b[1;33m.\u001b[0m\u001b[0m_start_time\u001b[0m\u001b[1;33m\u001b[0m\u001b[1;33m\u001b[0m\u001b[0m\n",
      "\u001b[1;32mC:\\ProgramData\\Anaconda3\\lib\\site-packages\\joblib\\parallel.py\u001b[0m in \u001b[0;36mretrieve\u001b[1;34m(self)\u001b[0m\n\u001b[0;32m    931\u001b[0m             \u001b[1;32mtry\u001b[0m\u001b[1;33m:\u001b[0m\u001b[1;33m\u001b[0m\u001b[1;33m\u001b[0m\u001b[0m\n\u001b[0;32m    932\u001b[0m                 \u001b[1;32mif\u001b[0m \u001b[0mgetattr\u001b[0m\u001b[1;33m(\u001b[0m\u001b[0mself\u001b[0m\u001b[1;33m.\u001b[0m\u001b[0m_backend\u001b[0m\u001b[1;33m,\u001b[0m \u001b[1;34m'supports_timeout'\u001b[0m\u001b[1;33m,\u001b[0m \u001b[1;32mFalse\u001b[0m\u001b[1;33m)\u001b[0m\u001b[1;33m:\u001b[0m\u001b[1;33m\u001b[0m\u001b[1;33m\u001b[0m\u001b[0m\n\u001b[1;32m--> 933\u001b[1;33m                     \u001b[0mself\u001b[0m\u001b[1;33m.\u001b[0m\u001b[0m_output\u001b[0m\u001b[1;33m.\u001b[0m\u001b[0mextend\u001b[0m\u001b[1;33m(\u001b[0m\u001b[0mjob\u001b[0m\u001b[1;33m.\u001b[0m\u001b[0mget\u001b[0m\u001b[1;33m(\u001b[0m\u001b[0mtimeout\u001b[0m\u001b[1;33m=\u001b[0m\u001b[0mself\u001b[0m\u001b[1;33m.\u001b[0m\u001b[0mtimeout\u001b[0m\u001b[1;33m)\u001b[0m\u001b[1;33m)\u001b[0m\u001b[1;33m\u001b[0m\u001b[1;33m\u001b[0m\u001b[0m\n\u001b[0m\u001b[0;32m    934\u001b[0m                 \u001b[1;32melse\u001b[0m\u001b[1;33m:\u001b[0m\u001b[1;33m\u001b[0m\u001b[1;33m\u001b[0m\u001b[0m\n\u001b[0;32m    935\u001b[0m                     \u001b[0mself\u001b[0m\u001b[1;33m.\u001b[0m\u001b[0m_output\u001b[0m\u001b[1;33m.\u001b[0m\u001b[0mextend\u001b[0m\u001b[1;33m(\u001b[0m\u001b[0mjob\u001b[0m\u001b[1;33m.\u001b[0m\u001b[0mget\u001b[0m\u001b[1;33m(\u001b[0m\u001b[1;33m)\u001b[0m\u001b[1;33m)\u001b[0m\u001b[1;33m\u001b[0m\u001b[1;33m\u001b[0m\u001b[0m\n",
      "\u001b[1;32mC:\\ProgramData\\Anaconda3\\lib\\site-packages\\joblib\\_parallel_backends.py\u001b[0m in \u001b[0;36mwrap_future_result\u001b[1;34m(future, timeout)\u001b[0m\n\u001b[0;32m    540\u001b[0m         AsyncResults.get from multiprocessing.\"\"\"\n\u001b[0;32m    541\u001b[0m         \u001b[1;32mtry\u001b[0m\u001b[1;33m:\u001b[0m\u001b[1;33m\u001b[0m\u001b[1;33m\u001b[0m\u001b[0m\n\u001b[1;32m--> 542\u001b[1;33m             \u001b[1;32mreturn\u001b[0m \u001b[0mfuture\u001b[0m\u001b[1;33m.\u001b[0m\u001b[0mresult\u001b[0m\u001b[1;33m(\u001b[0m\u001b[0mtimeout\u001b[0m\u001b[1;33m=\u001b[0m\u001b[0mtimeout\u001b[0m\u001b[1;33m)\u001b[0m\u001b[1;33m\u001b[0m\u001b[1;33m\u001b[0m\u001b[0m\n\u001b[0m\u001b[0;32m    543\u001b[0m         \u001b[1;32mexcept\u001b[0m \u001b[0mCfTimeoutError\u001b[0m \u001b[1;32mas\u001b[0m \u001b[0me\u001b[0m\u001b[1;33m:\u001b[0m\u001b[1;33m\u001b[0m\u001b[1;33m\u001b[0m\u001b[0m\n\u001b[0;32m    544\u001b[0m             \u001b[1;32mraise\u001b[0m \u001b[0mTimeoutError\u001b[0m \u001b[1;32mfrom\u001b[0m \u001b[0me\u001b[0m\u001b[1;33m\u001b[0m\u001b[1;33m\u001b[0m\u001b[0m\n",
      "\u001b[1;32mC:\\ProgramData\\Anaconda3\\lib\\concurrent\\futures\\_base.py\u001b[0m in \u001b[0;36mresult\u001b[1;34m(self, timeout)\u001b[0m\n\u001b[0;32m    437\u001b[0m                 \u001b[1;32mraise\u001b[0m \u001b[0mCancelledError\u001b[0m\u001b[1;33m(\u001b[0m\u001b[1;33m)\u001b[0m\u001b[1;33m\u001b[0m\u001b[1;33m\u001b[0m\u001b[0m\n\u001b[0;32m    438\u001b[0m             \u001b[1;32melif\u001b[0m \u001b[0mself\u001b[0m\u001b[1;33m.\u001b[0m\u001b[0m_state\u001b[0m \u001b[1;33m==\u001b[0m \u001b[0mFINISHED\u001b[0m\u001b[1;33m:\u001b[0m\u001b[1;33m\u001b[0m\u001b[1;33m\u001b[0m\u001b[0m\n\u001b[1;32m--> 439\u001b[1;33m                 \u001b[1;32mreturn\u001b[0m \u001b[0mself\u001b[0m\u001b[1;33m.\u001b[0m\u001b[0m__get_result\u001b[0m\u001b[1;33m(\u001b[0m\u001b[1;33m)\u001b[0m\u001b[1;33m\u001b[0m\u001b[1;33m\u001b[0m\u001b[0m\n\u001b[0m\u001b[0;32m    440\u001b[0m             \u001b[1;32melse\u001b[0m\u001b[1;33m:\u001b[0m\u001b[1;33m\u001b[0m\u001b[1;33m\u001b[0m\u001b[0m\n\u001b[0;32m    441\u001b[0m                 \u001b[1;32mraise\u001b[0m \u001b[0mTimeoutError\u001b[0m\u001b[1;33m(\u001b[0m\u001b[1;33m)\u001b[0m\u001b[1;33m\u001b[0m\u001b[1;33m\u001b[0m\u001b[0m\n",
      "\u001b[1;32mC:\\ProgramData\\Anaconda3\\lib\\concurrent\\futures\\_base.py\u001b[0m in \u001b[0;36m__get_result\u001b[1;34m(self)\u001b[0m\n\u001b[0;32m    386\u001b[0m     \u001b[1;32mdef\u001b[0m \u001b[0m__get_result\u001b[0m\u001b[1;33m(\u001b[0m\u001b[0mself\u001b[0m\u001b[1;33m)\u001b[0m\u001b[1;33m:\u001b[0m\u001b[1;33m\u001b[0m\u001b[1;33m\u001b[0m\u001b[0m\n\u001b[0;32m    387\u001b[0m         \u001b[1;32mif\u001b[0m \u001b[0mself\u001b[0m\u001b[1;33m.\u001b[0m\u001b[0m_exception\u001b[0m\u001b[1;33m:\u001b[0m\u001b[1;33m\u001b[0m\u001b[1;33m\u001b[0m\u001b[0m\n\u001b[1;32m--> 388\u001b[1;33m             \u001b[1;32mraise\u001b[0m \u001b[0mself\u001b[0m\u001b[1;33m.\u001b[0m\u001b[0m_exception\u001b[0m\u001b[1;33m\u001b[0m\u001b[1;33m\u001b[0m\u001b[0m\n\u001b[0m\u001b[0;32m    389\u001b[0m         \u001b[1;32melse\u001b[0m\u001b[1;33m:\u001b[0m\u001b[1;33m\u001b[0m\u001b[1;33m\u001b[0m\u001b[0m\n\u001b[0;32m    390\u001b[0m             \u001b[1;32mreturn\u001b[0m \u001b[0mself\u001b[0m\u001b[1;33m.\u001b[0m\u001b[0m_result\u001b[0m\u001b[1;33m\u001b[0m\u001b[1;33m\u001b[0m\u001b[0m\n",
      "\u001b[1;31mTypeError\u001b[0m: get_params() missing 1 required positional argument: 'self'"
     ]
    }
   ],
   "source": [
    "# from sklearn.isotonic import IsotonicRegression\n",
    "# model = IsotonicRegression()\n",
    "\n",
    "# pipe = Pipeline(steps=[('sc', sc), ('iw',IsotonicWrapper), ('model', model)])\n",
    "\n",
    "# param_grid   =  [{\n",
    "# #     'model__y_min' : [None]+[x*1. for x in range(1, 10)],\n",
    "# #                   'model__y_max' : [None]+[x*1. for x in range(1, 10)],\n",
    "#                   'model__increasing' : ['auto', True, False],\n",
    "#                   'model__out_of_bounds' : ['nan', 'clip', 'raise']}]\n",
    "\n",
    "# pipe.get_params()\n",
    "\n",
    "# estimator = pipe\n",
    "\n",
    "# scores = ['neg_mean_absolute_error', 'neg_mean_squared_error', 'r2']\n",
    "# cv = 10\n",
    "\n",
    "# for score in scores:\n",
    "#     grid(Xtrain = X_train_std,\n",
    "#                 ytrain = y_train,\n",
    "#                 estimator = pipe,\n",
    "#                 params_grid = param_grid,\n",
    "#                 scores=score,\n",
    "#                 cvs = cv,\n",
    "#                 cores=7,\n",
    "#                 verb=5)\n",
    "#     print(score)"
   ]
  },
  {
   "cell_type": "markdown",
   "metadata": {},
   "source": [
    "### Refit Function"
   ]
  },
  {
   "cell_type": "code",
   "execution_count": 91,
   "metadata": {},
   "outputs": [],
   "source": [
    "best_est = []\n",
    "def refit_inst(best_index_):\n",
    "#     best_est.append(best_score_)\n",
    "#     print(scoring)\n",
    "#     best_est.append(best_params_)\n",
    "    return  best_index_"
   ]
  },
  {
   "cell_type": "code",
   "execution_count": 92,
   "metadata": {
    "scrolled": true
   },
   "outputs": [
    {
     "name": "stdout",
     "output_type": "stream",
     "text": [
      "Fitting 3 folds for each of 36 candidates, totalling 108 fits\n"
     ]
    },
    {
     "name": "stderr",
     "output_type": "stream",
     "text": [
      "[Parallel(n_jobs=-1)]: Using backend LokyBackend with 8 concurrent workers.\n",
      "[Parallel(n_jobs=-1)]: Done   2 tasks      | elapsed:    0.1s\n",
      "[Parallel(n_jobs=-1)]: Done  93 out of 108 | elapsed:    2.5s remaining:    0.3s\n",
      "[Parallel(n_jobs=-1)]: Done 108 out of 108 | elapsed:    2.8s finished\n"
     ]
    },
    {
     "ename": "TypeError",
     "evalue": "best_index_ returned is not an integer",
     "output_type": "error",
     "traceback": [
      "\u001b[1;31m---------------------------------------------------------------------------\u001b[0m",
      "\u001b[1;31mTypeError\u001b[0m                                 Traceback (most recent call last)",
      "\u001b[1;32m<ipython-input-92-33fab285d29d>\u001b[0m in \u001b[0;36m<module>\u001b[1;34m\u001b[0m\n\u001b[0;32m     26\u001b[0m                  refit=refit_inst, return_train_score=True)\n\u001b[0;32m     27\u001b[0m \u001b[1;33m\u001b[0m\u001b[0m\n\u001b[1;32m---> 28\u001b[1;33m \u001b[0mgs\u001b[0m \u001b[1;33m=\u001b[0m \u001b[0mgs\u001b[0m\u001b[1;33m.\u001b[0m\u001b[0mfit\u001b[0m\u001b[1;33m(\u001b[0m\u001b[0mX_train\u001b[0m\u001b[1;33m,\u001b[0m \u001b[0my_train\u001b[0m\u001b[1;33m)\u001b[0m\u001b[1;33m\u001b[0m\u001b[1;33m\u001b[0m\u001b[0m\n\u001b[0m\u001b[0;32m     29\u001b[0m \u001b[1;31m# print(gs.best_score_)\u001b[0m\u001b[1;33m\u001b[0m\u001b[1;33m\u001b[0m\u001b[1;33m\u001b[0m\u001b[0m\n\u001b[0;32m     30\u001b[0m \u001b[1;31m# print(gs.best_params_)\u001b[0m\u001b[1;33m\u001b[0m\u001b[1;33m\u001b[0m\u001b[1;33m\u001b[0m\u001b[0m\n",
      "\u001b[1;32mC:\\ProgramData\\Anaconda3\\lib\\site-packages\\sklearn\\utils\\validation.py\u001b[0m in \u001b[0;36minner_f\u001b[1;34m(*args, **kwargs)\u001b[0m\n\u001b[0;32m     70\u001b[0m                           FutureWarning)\n\u001b[0;32m     71\u001b[0m         \u001b[0mkwargs\u001b[0m\u001b[1;33m.\u001b[0m\u001b[0mupdate\u001b[0m\u001b[1;33m(\u001b[0m\u001b[1;33m{\u001b[0m\u001b[0mk\u001b[0m\u001b[1;33m:\u001b[0m \u001b[0marg\u001b[0m \u001b[1;32mfor\u001b[0m \u001b[0mk\u001b[0m\u001b[1;33m,\u001b[0m \u001b[0marg\u001b[0m \u001b[1;32min\u001b[0m \u001b[0mzip\u001b[0m\u001b[1;33m(\u001b[0m\u001b[0msig\u001b[0m\u001b[1;33m.\u001b[0m\u001b[0mparameters\u001b[0m\u001b[1;33m,\u001b[0m \u001b[0margs\u001b[0m\u001b[1;33m)\u001b[0m\u001b[1;33m}\u001b[0m\u001b[1;33m)\u001b[0m\u001b[1;33m\u001b[0m\u001b[1;33m\u001b[0m\u001b[0m\n\u001b[1;32m---> 72\u001b[1;33m         \u001b[1;32mreturn\u001b[0m \u001b[0mf\u001b[0m\u001b[1;33m(\u001b[0m\u001b[1;33m**\u001b[0m\u001b[0mkwargs\u001b[0m\u001b[1;33m)\u001b[0m\u001b[1;33m\u001b[0m\u001b[1;33m\u001b[0m\u001b[0m\n\u001b[0m\u001b[0;32m     73\u001b[0m     \u001b[1;32mreturn\u001b[0m \u001b[0minner_f\u001b[0m\u001b[1;33m\u001b[0m\u001b[1;33m\u001b[0m\u001b[0m\n\u001b[0;32m     74\u001b[0m \u001b[1;33m\u001b[0m\u001b[0m\n",
      "\u001b[1;32mC:\\ProgramData\\Anaconda3\\lib\\site-packages\\sklearn\\model_selection\\_search.py\u001b[0m in \u001b[0;36mfit\u001b[1;34m(self, X, y, groups, **fit_params)\u001b[0m\n\u001b[0;32m    745\u001b[0m                 \u001b[0mself\u001b[0m\u001b[1;33m.\u001b[0m\u001b[0mbest_index_\u001b[0m \u001b[1;33m=\u001b[0m \u001b[0mself\u001b[0m\u001b[1;33m.\u001b[0m\u001b[0mrefit\u001b[0m\u001b[1;33m(\u001b[0m\u001b[0mresults\u001b[0m\u001b[1;33m)\u001b[0m\u001b[1;33m\u001b[0m\u001b[1;33m\u001b[0m\u001b[0m\n\u001b[0;32m    746\u001b[0m                 \u001b[1;32mif\u001b[0m \u001b[1;32mnot\u001b[0m \u001b[0misinstance\u001b[0m\u001b[1;33m(\u001b[0m\u001b[0mself\u001b[0m\u001b[1;33m.\u001b[0m\u001b[0mbest_index_\u001b[0m\u001b[1;33m,\u001b[0m \u001b[0mnumbers\u001b[0m\u001b[1;33m.\u001b[0m\u001b[0mIntegral\u001b[0m\u001b[1;33m)\u001b[0m\u001b[1;33m:\u001b[0m\u001b[1;33m\u001b[0m\u001b[1;33m\u001b[0m\u001b[0m\n\u001b[1;32m--> 747\u001b[1;33m                     \u001b[1;32mraise\u001b[0m \u001b[0mTypeError\u001b[0m\u001b[1;33m(\u001b[0m\u001b[1;34m'best_index_ returned is not an integer'\u001b[0m\u001b[1;33m)\u001b[0m\u001b[1;33m\u001b[0m\u001b[1;33m\u001b[0m\u001b[0m\n\u001b[0m\u001b[0;32m    748\u001b[0m                 if (self.best_index_ < 0 or\n\u001b[0;32m    749\u001b[0m                    self.best_index_ >= len(results[\"params\"])):\n",
      "\u001b[1;31mTypeError\u001b[0m: best_index_ returned is not an integer"
     ]
    }
   ],
   "source": [
    "t1 = time.time()\n",
    "\n",
    "# Define the pipeline (scaling and classification method):\n",
    "pipe_forest = make_pipeline(StandardScaler(), PCA(), RandomForestRegressor(random_state=0, n_jobs = -1))\n",
    "\n",
    "# Define ranges of parameter values:\n",
    "param_range  = [0.0001, 0.001, 0.01, 0.1, 1.0, 10.0, 100.0, 1000.0, 10000.0, 100000.0, 1000000.0] # For regularization parameter C.\n",
    "param_range2 = [0.0000001,0.000001,0.00001, 0.0001, 0.001, 0.01, 0.1, 1.0, 10.0, 100.0]         # For scaling parameter gamma og rbf-kernel.\n",
    "param_range3 = [x for x in range(47,56,1)]\n",
    "param_range4 = [x for x in range(30, 40,7)]\n",
    "param_range5 = [x for x in range(30, 40,7)]\n",
    "\n",
    "param_grid   = [{'randomforestregressor__max_depth': param_range3,\n",
    "                 'randomforestregressor__min_samples_split': param_range5,\n",
    "                 'randomforestregressor__n_estimators': param_range4}]\n",
    "\n",
    "\n",
    "scoring = {'R2': 'r2', 'MSE': 'neg_mean_squared_error','MAE': 'neg_mean_absolute_error'}\n",
    "\n",
    "gs = GridSearchCV(estimator=pipe_forest, \n",
    "                  param_grid=param_grid, \n",
    "                  scoring=scoring, \n",
    "                  cv=3,\n",
    "                  n_jobs=-1,\n",
    "                  verbose = 5,\n",
    "                 refit=refit_inst, return_train_score=True)\n",
    "\n",
    "gs = gs.fit(X_train, y_train)\n",
    "# print(gs.best_score_)\n",
    "# print(gs.best_params_)\n",
    "\n",
    "t2 = time.time()\n",
    "\n",
    "print('Total time: ',(t2-t1)/60, 'minutes')\n",
    "\n"
   ]
  },
  {
   "cell_type": "code",
   "execution_count": 101,
   "metadata": {},
   "outputs": [
    {
     "data": {
      "text/plain": [
       "True"
      ]
     },
     "execution_count": 101,
     "metadata": {},
     "output_type": "execute_result"
    }
   ],
   "source": [
    "gs.best_index_.keys()\n",
    "gs.best_index_['params']\n",
    "gs.multimetric_"
   ]
  },
  {
   "cell_type": "code",
   "execution_count": null,
   "metadata": {},
   "outputs": [],
   "source": [
    "gs.scorer_"
   ]
  },
  {
   "cell_type": "code",
   "execution_count": null,
   "metadata": {},
   "outputs": [],
   "source": [
    "results = gs.cv_results_\n",
    "results.keys()\n",
    "results"
   ]
  },
  {
   "cell_type": "markdown",
   "metadata": {
    "run_control": {
     "marked": true
    }
   },
   "source": [
    "## Plotting the result of Grid Search\n"
   ]
  },
  {
   "cell_type": "code",
   "execution_count": null,
   "metadata": {},
   "outputs": [],
   "source": [
    "plt.figure(figsize=(13, 13))\n",
    "plt.title(\"GridSearchCV evaluating using multiple scorers simultaneously\",\n",
    "          fontsize=16)\n",
    "\n",
    "plt.xlabel(\"min_samples_split\")\n",
    "plt.ylabel(\"Score\")\n",
    "\n",
    "ax = plt.gca()\n",
    "# ax.set_xlim(0, 4)\n",
    "# ax.set_ylim(0.73, 1)\n",
    "\n",
    "# Get the regular numpy array from the MaskedArray\n",
    "X_axis = np.array(results['param_randomforestregressor__min_samples_split'].data, dtype=float)\n",
    "\n",
    "for scorer, color in zip(sorted(scoring), ['g', 'k']):\n",
    "    for sample, style in (('train', '--'), ('test', '-')):\n",
    "        sample_score_mean = results['mean_%s_%s' % (sample, scorer)]\n",
    "        sample_score_std = results['std_%s_%s' % (sample, scorer)]\n",
    "        ax.fill_between(X_axis, sample_score_mean - sample_score_std,\n",
    "                        sample_score_mean + sample_score_std,\n",
    "                        alpha=0.1 if sample == 'test' else 0, color=color)\n",
    "        ax.plot(X_axis, sample_score_mean, style, color=color,\n",
    "                alpha=1 if sample == 'test' else 0.7,\n",
    "                label=\"%s (%s)\" % (scorer, sample))\n",
    "\n",
    "    best_index = np.nonzero(results['rank_test_%s' % scorer] == 1)[0][0]\n",
    "    best_score = results['mean_test_%s' % scorer][best_index]\n",
    "\n",
    "    # Plot a dotted vertical line at the best score for that scorer marked by x\n",
    "    ax.plot([X_axis[best_index], ] * 2, [0, best_score],\n",
    "            linestyle='-.', color=color, marker='x', markeredgewidth=3, ms=8)\n",
    "\n",
    "    # Annotate the best score for that scorer\n",
    "    ax.annotate(\"%0.2f\" % best_score,\n",
    "                (X_axis[best_index], best_score + 0.005))\n",
    "\n",
    "plt.legend(loc=\"best\")\n",
    "plt.grid(False)\n",
    "plt.show()"
   ]
  },
  {
   "cell_type": "code",
   "execution_count": null,
   "metadata": {},
   "outputs": [],
   "source": []
  },
  {
   "cell_type": "code",
   "execution_count": 24,
   "metadata": {
    "collapsed": true
   },
   "outputs": [
    {
     "data": {
      "text/plain": [
       "array([          nan,           nan,           nan,           nan,\n",
       "                 nan,           nan,           nan,           nan,\n",
       "                 nan,           nan,           nan,           nan,\n",
       "                 nan,           nan,           nan,           nan,\n",
       "                 nan,           nan,           nan,           nan,\n",
       "                 nan,           nan,           nan,           nan,\n",
       "                 nan,           nan,           nan,           nan,\n",
       "                 nan,           nan,           nan,           nan,\n",
       "                 nan,           nan,           nan,           nan,\n",
       "                 nan,           nan,           nan,           nan,\n",
       "                 nan,           nan,           nan,           nan,\n",
       "                 nan,           nan,           nan,           nan,\n",
       "                 nan,           nan,           nan,           nan,\n",
       "                 nan,           nan,           nan,           nan,\n",
       "                 nan,           nan,           nan,           nan,\n",
       "                 nan,           nan,           nan,           nan,\n",
       "                 nan,           nan,           nan,           nan,\n",
       "                 nan,           nan,           nan,           nan,\n",
       "                 nan,           nan,           nan,           nan,\n",
       "                 nan,           nan,           nan,           nan,\n",
       "                 nan,           nan,           nan,           nan,\n",
       "                 nan,           nan,           nan,           nan,\n",
       "                 nan,           nan,           nan,           nan,\n",
       "                 nan,           nan,           nan,           nan,\n",
       "                 nan,           nan,           nan,           nan,\n",
       "                 nan,           nan,           nan,           nan,\n",
       "                 nan,           nan,           nan,           nan,\n",
       "                 nan,           nan,           nan,  -67.8542745 ,\n",
       "        -66.97815493,  -67.2131984 ,  -66.98850192,  -66.85226674,\n",
       "        -66.86269573,  -66.9489902 ,  -66.91552033,  -66.88361706,\n",
       "                 nan,  -76.85525443,  -75.97436922,  -75.94935764,\n",
       "        -75.76660294,  -75.71520734,  -75.7574098 ,  -75.73944889,\n",
       "        -75.73874181,  -75.6930075 ,           nan,  -82.12725151,\n",
       "        -81.82196011,  -81.80120331,  -81.62880773,  -81.6515553 ,\n",
       "        -81.72409499,  -81.76248622,  -81.74658907,  -81.72207523,\n",
       "                 nan,  -86.99976564,  -86.9984111 ,  -87.03442872,\n",
       "        -86.98386326,  -87.04199194,  -87.08212954,  -87.05627751,\n",
       "        -87.01442221,  -87.01650149,           nan,  -90.86585691,\n",
       "        -90.62371252,  -90.68319346,  -90.48959185,  -90.46529029,\n",
       "        -90.44827453,  -90.48814524,  -90.43535023,  -90.47420137,\n",
       "                 nan,  -91.33174874,  -91.31641078,  -91.36132026,\n",
       "        -91.19000003,  -91.14052972,  -91.12247472,  -91.14671557,\n",
       "        -91.11092137,  -91.16269767,           nan,  -93.0481319 ,\n",
       "        -93.04812964,  -93.04644325,  -92.9688845 ,  -92.92146652,\n",
       "        -92.85259388,  -92.89999463,  -92.85473607,  -92.88467613,\n",
       "                 nan,  -97.31138465,  -96.90611516,  -96.87456695,\n",
       "        -97.03946134,  -96.64722406,  -96.72873081,  -96.9691471 ,\n",
       "        -96.93764807,  -96.93559285,           nan, -101.26164683,\n",
       "       -101.27132118, -101.27582112, -101.27323722, -101.26799106,\n",
       "       -101.25602979, -101.25065915, -101.24868217, -101.24979785,\n",
       "                 nan,           nan,           nan,           nan,\n",
       "                 nan,           nan,           nan,           nan,\n",
       "                 nan,           nan,           nan,  -67.8542745 ,\n",
       "        -66.97815493,  -67.2131984 ,  -66.98850192,  -66.85226674,\n",
       "        -66.86269573,  -66.94883301,  -66.91537944,  -66.8834884 ,\n",
       "                 nan,  -76.85525443,  -75.97436922,  -75.94935764,\n",
       "        -75.76660294,  -75.71520734,  -75.7574098 ,  -75.73944889,\n",
       "        -75.73874181,  -75.6930075 ,           nan,  -82.12725151,\n",
       "        -81.82196011,  -81.80120331,  -81.62880773,  -81.6515553 ,\n",
       "        -81.72409499,  -81.76248622,  -81.74658907,  -81.72207523,\n",
       "                 nan,  -86.99976564,  -86.9984111 ,  -87.03442872,\n",
       "        -86.98386326,  -87.04199194,  -87.08212954,  -87.05627751,\n",
       "        -87.01442221,  -87.01650149,           nan,  -90.86585691,\n",
       "        -90.62371252,  -90.68319346,  -90.48959185,  -90.46529029,\n",
       "        -90.44827453,  -90.48814524,  -90.43535023,  -90.47420137,\n",
       "                 nan,  -91.33174874,  -91.31641078,  -91.36132026,\n",
       "        -91.19000003,  -91.14052972,  -91.12247472,  -91.14671557,\n",
       "        -91.11092137,  -91.16269767,           nan,  -93.0481319 ,\n",
       "        -93.04812964,  -93.04644325,  -92.9688845 ,  -92.92146652,\n",
       "        -92.85259388,  -92.89999463,  -92.85473607,  -92.88467613,\n",
       "                 nan,  -97.31138465,  -96.90611516,  -96.87456695,\n",
       "        -97.03946134,  -96.64722406,  -96.72873081,  -96.9691471 ,\n",
       "        -96.93764807,  -96.93559285,           nan, -101.26164683,\n",
       "       -101.27132118, -101.27582112, -101.27323722, -101.26799106,\n",
       "       -101.25602979, -101.25065915, -101.24868217, -101.24979785,\n",
       "                 nan,           nan,           nan,           nan,\n",
       "                 nan,           nan,           nan,           nan,\n",
       "                 nan,           nan,           nan,  -67.8542745 ,\n",
       "        -66.97815493,  -67.2131984 ,  -66.98850192,  -66.85226674,\n",
       "        -66.86269573,  -66.94883301,  -66.91537944,  -66.8834884 ,\n",
       "                 nan,  -76.85525443,  -75.97436922,  -75.94935764,\n",
       "        -75.76660294,  -75.71520734,  -75.7574098 ,  -75.73944889,\n",
       "        -75.73874181,  -75.6930075 ,           nan,  -82.12725151,\n",
       "        -81.82196011,  -81.80120331,  -81.62880773,  -81.6515553 ,\n",
       "        -81.72409499,  -81.76248622,  -81.74658907,  -81.72207523,\n",
       "                 nan,  -86.99976564,  -86.9984111 ,  -87.03442872,\n",
       "        -86.98386326,  -87.04199194,  -87.08212954,  -87.05627751,\n",
       "        -87.01442221,  -87.01650149,           nan,  -90.86585691,\n",
       "        -90.62371252,  -90.68319346,  -90.48959185,  -90.46529029,\n",
       "        -90.44827453,  -90.48814524,  -90.43535023,  -90.47420137,\n",
       "                 nan,  -91.33174874,  -91.31641078,  -91.36132026,\n",
       "        -91.19000003,  -91.14052972,  -91.12247472,  -91.14671557,\n",
       "        -91.11092137,  -91.16269767,           nan,  -93.0481319 ,\n",
       "        -93.04812964,  -93.04644325,  -92.9688845 ,  -92.92146652,\n",
       "        -92.85259388,  -92.89999463,  -92.85473607,  -92.88467613,\n",
       "                 nan,  -97.31138465,  -96.90611516,  -96.87456695,\n",
       "        -97.03946134,  -96.64722406,  -96.72873081,  -96.9691471 ,\n",
       "        -96.93764807,  -96.93559285,           nan, -101.26164683,\n",
       "       -101.27132118, -101.27582112, -101.27323722, -101.26799106,\n",
       "       -101.25602979, -101.25065915, -101.24868217, -101.24979785,\n",
       "                 nan,           nan,           nan,           nan,\n",
       "                 nan,           nan,           nan,           nan,\n",
       "                 nan,           nan,           nan,  -67.8542745 ,\n",
       "        -66.97815493,  -67.2131984 ,  -66.98850192,  -66.85226674,\n",
       "        -66.86269573,  -66.94883301,  -66.91537944,  -66.8834884 ,\n",
       "                 nan,  -76.85525443,  -75.97436922,  -75.94935764,\n",
       "        -75.76660294,  -75.71520734,  -75.7574098 ,  -75.73944889,\n",
       "        -75.73874181,  -75.6930075 ,           nan,  -82.12725151,\n",
       "        -81.82196011,  -81.80120331,  -81.62880773,  -81.6515553 ,\n",
       "        -81.72409499,  -81.76248622,  -81.74658907,  -81.72207523,\n",
       "                 nan,  -86.99976564,  -86.9984111 ,  -87.03442872,\n",
       "        -86.98386326,  -87.04199194,  -87.08212954,  -87.05627751,\n",
       "        -87.01442221,  -87.01650149,           nan,  -90.86585691,\n",
       "        -90.62371252,  -90.68319346,  -90.48959185,  -90.46529029,\n",
       "        -90.44827453,  -90.48814524,  -90.43535023,  -90.47420137,\n",
       "                 nan,  -91.33174874,  -91.31641078,  -91.36132026,\n",
       "        -91.19000003,  -91.14052972,  -91.12247472,  -91.14671557,\n",
       "        -91.11092137,  -91.16269767,           nan,  -93.0481319 ,\n",
       "        -93.04812964,  -93.04644325,  -92.9688845 ,  -92.92146652,\n",
       "        -92.85259388,  -92.89999463,  -92.85473607,  -92.88467613,\n",
       "                 nan,  -97.31138465,  -96.90611516,  -96.87456695,\n",
       "        -97.03946134,  -96.64722406,  -96.72873081,  -96.9691471 ,\n",
       "        -96.93764807,  -96.93559285,           nan, -101.26164683,\n",
       "       -101.27132118, -101.27582112, -101.27323722, -101.26799106,\n",
       "       -101.25602979, -101.25065915, -101.24868217, -101.24979785,\n",
       "                 nan,           nan,           nan,           nan,\n",
       "                 nan,           nan,           nan,           nan,\n",
       "                 nan,           nan,           nan,  -67.8542745 ,\n",
       "        -66.97815493,  -67.2131984 ,  -66.98850192,  -66.85226674,\n",
       "        -66.86269573,  -66.94883301,  -66.91537944,  -66.8834884 ,\n",
       "                 nan,  -76.85525443,  -75.97436922,  -75.94935764,\n",
       "        -75.76660294,  -75.71520734,  -75.7574098 ,  -75.73944889,\n",
       "        -75.73874181,  -75.6930075 ,           nan,  -82.12725151,\n",
       "        -81.82196011,  -81.80120331,  -81.62880773,  -81.6515553 ,\n",
       "        -81.72409499,  -81.76248622,  -81.74658907,  -81.72207523,\n",
       "                 nan,  -86.99976564,  -86.9984111 ,  -87.03442872,\n",
       "        -86.98386326,  -87.04199194,  -87.08212954,  -87.05627751,\n",
       "        -87.01442221,  -87.01650149,           nan,  -90.86585691,\n",
       "        -90.62371252,  -90.68319346,  -90.48959185,  -90.46529029,\n",
       "        -90.44827453,  -90.48814524,  -90.43535023,  -90.47420137,\n",
       "                 nan,  -91.33174874,  -91.31641078,  -91.36132026,\n",
       "        -91.19000003,  -91.14052972,  -91.12247472,  -91.14671557,\n",
       "        -91.11092137,  -91.16269767,           nan,  -93.0481319 ,\n",
       "        -93.04812964,  -93.04644325,  -92.9688845 ,  -92.92146652,\n",
       "        -92.85259388,  -92.89999463,  -92.85473607,  -92.88467613,\n",
       "                 nan,  -97.31138465,  -96.90611516,  -96.87456695,\n",
       "        -97.03946134,  -96.64722406,  -96.72873081,  -96.9691471 ,\n",
       "        -96.93764807,  -96.93559285,           nan, -101.26164683,\n",
       "       -101.27132118, -101.27582112, -101.27323722, -101.26799106,\n",
       "       -101.25602979, -101.25065915, -101.24868217, -101.24979785,\n",
       "                 nan,           nan,           nan,           nan,\n",
       "                 nan,           nan,           nan,           nan,\n",
       "                 nan,           nan,           nan,  -67.8542745 ,\n",
       "        -66.97815493,  -67.2131984 ,  -66.98850192,  -66.85226674,\n",
       "        -66.86269573,  -66.94883301,  -66.91537944,  -66.8834884 ,\n",
       "                 nan,  -76.85525443,  -75.97436922,  -75.94935764,\n",
       "        -75.76660294,  -75.71520734,  -75.7574098 ,  -75.73944889,\n",
       "        -75.73874181,  -75.6930075 ,           nan,  -82.12725151,\n",
       "        -81.82196011,  -81.80120331,  -81.62880773,  -81.6515553 ,\n",
       "        -81.72409499,  -81.76248622,  -81.74658907,  -81.72207523,\n",
       "                 nan,  -86.99976564,  -86.9984111 ,  -87.03442872,\n",
       "        -86.98386326,  -87.04199194,  -87.08212954,  -87.05627751,\n",
       "        -87.01442221,  -87.01650149,           nan,  -90.86585691,\n",
       "        -90.62371252,  -90.68319346,  -90.48959185,  -90.46529029,\n",
       "        -90.44827453,  -90.48814524,  -90.43535023,  -90.47420137,\n",
       "                 nan,  -91.33174874,  -91.31641078,  -91.36132026,\n",
       "        -91.19000003,  -91.14052972,  -91.12247472,  -91.14671557,\n",
       "        -91.11092137,  -91.16269767,           nan,  -93.0481319 ,\n",
       "        -93.04812964,  -93.04644325,  -92.9688845 ,  -92.92146652,\n",
       "        -92.85259388,  -92.89999463,  -92.85473607,  -92.88467613,\n",
       "                 nan,  -97.31138465,  -96.90611516,  -96.87456695,\n",
       "        -97.03946134,  -96.64722406,  -96.72873081,  -96.9691471 ,\n",
       "        -96.93764807,  -96.93559285,           nan, -101.26164683,\n",
       "       -101.27132118, -101.27582112, -101.27323722, -101.26799106,\n",
       "       -101.25602979, -101.25065915, -101.24868217, -101.24979785,\n",
       "                 nan,           nan,           nan,           nan,\n",
       "                 nan,           nan,           nan,           nan,\n",
       "                 nan,           nan,           nan,  -67.8542745 ,\n",
       "        -66.97815493,  -67.2131984 ,  -66.98850192,  -66.85226674,\n",
       "        -66.86269573,  -66.94883301,  -66.91537944,  -66.8834884 ,\n",
       "                 nan,  -76.85525443,  -75.97436922,  -75.94935764,\n",
       "        -75.76660294,  -75.71520734,  -75.7574098 ,  -75.73944889,\n",
       "        -75.73874181,  -75.6930075 ,           nan,  -82.12725151,\n",
       "        -81.82196011,  -81.80120331,  -81.62880773,  -81.6515553 ,\n",
       "        -81.72409499,  -81.76248622,  -81.74658907,  -81.72207523,\n",
       "                 nan,  -86.99976564,  -86.9984111 ,  -87.03442872,\n",
       "        -86.98386326,  -87.04199194,  -87.08212954,  -87.05627751,\n",
       "        -87.01442221,  -87.01650149,           nan,  -90.86585691,\n",
       "        -90.62371252,  -90.68319346,  -90.48959185,  -90.46529029,\n",
       "        -90.44827453,  -90.48814524,  -90.43535023,  -90.47420137,\n",
       "                 nan,  -91.33174874,  -91.31641078,  -91.36132026,\n",
       "        -91.19000003,  -91.14052972,  -91.12247472,  -91.14671557,\n",
       "        -91.11092137,  -91.16269767,           nan,  -93.0481319 ,\n",
       "        -93.04812964,  -93.04644325,  -92.9688845 ,  -92.92146652,\n",
       "        -92.85259388,  -92.89999463,  -92.85473607,  -92.88467613,\n",
       "                 nan,  -97.31138465,  -96.90611516,  -96.87456695,\n",
       "        -97.03946134,  -96.64722406,  -96.72873081,  -96.9691471 ,\n",
       "        -96.93764807,  -96.93559285,           nan, -101.26164683,\n",
       "       -101.27132118, -101.27582112, -101.27323722, -101.26799106,\n",
       "       -101.25602979, -101.25065915, -101.24868217, -101.24979785,\n",
       "                 nan,           nan,           nan,           nan,\n",
       "                 nan,           nan,           nan,           nan,\n",
       "                 nan,           nan,           nan,  -67.8542745 ,\n",
       "        -66.97815493,  -67.2131984 ,  -66.98850192,  -66.85226674,\n",
       "        -66.86269573,  -66.94883301,  -66.91537944,  -66.8834884 ,\n",
       "                 nan,  -76.85525443,  -75.97436922,  -75.94935764,\n",
       "        -75.76660294,  -75.71520734,  -75.7574098 ,  -75.73944889,\n",
       "        -75.73874181,  -75.6930075 ,           nan,  -82.12725151,\n",
       "        -81.82196011,  -81.80120331,  -81.62880773,  -81.6515553 ,\n",
       "        -81.72409499,  -81.76248622,  -81.74658907,  -81.72207523,\n",
       "                 nan,  -86.99976564,  -86.9984111 ,  -87.03442872,\n",
       "        -86.98386326,  -87.04199194,  -87.08212954,  -87.05627751,\n",
       "        -87.01442221,  -87.01650149,           nan,  -90.86585691,\n",
       "        -90.62371252,  -90.68319346,  -90.48959185,  -90.46529029,\n",
       "        -90.44827453,  -90.48814524,  -90.43535023,  -90.47420137,\n",
       "                 nan,  -91.33174874,  -91.31641078,  -91.36132026,\n",
       "        -91.19000003,  -91.14052972,  -91.12247472,  -91.14671557,\n",
       "        -91.11092137,  -91.16269767,           nan,  -93.0481319 ,\n",
       "        -93.04812964,  -93.04644325,  -92.9688845 ,  -92.92146652,\n",
       "        -92.85259388,  -92.89999463,  -92.85473607,  -92.88467613,\n",
       "                 nan,  -97.31138465,  -96.90611516,  -96.87456695,\n",
       "        -97.03946134,  -96.64722406,  -96.72873081,  -96.9691471 ,\n",
       "        -96.93764807,  -96.93559285,           nan, -101.26164683,\n",
       "       -101.27132118, -101.27582112, -101.27323722, -101.26799106,\n",
       "       -101.25602979, -101.25065915, -101.24868217, -101.24979785,\n",
       "                 nan,           nan,           nan,           nan,\n",
       "                 nan,           nan,           nan,           nan,\n",
       "                 nan,           nan,           nan,  -67.8542745 ,\n",
       "        -66.97815493,  -67.2131984 ,  -66.98850192,  -66.85226674,\n",
       "        -66.86269573,  -66.94883301,  -66.91537944,  -66.8834884 ,\n",
       "                 nan,  -76.85525443,  -75.97436922,  -75.94935764,\n",
       "        -75.76660294,  -75.71520734,  -75.7574098 ,  -75.73944889,\n",
       "        -75.73874181,  -75.6930075 ,           nan,  -82.12725151,\n",
       "        -81.82196011,  -81.80120331,  -81.62880773,  -81.6515553 ,\n",
       "        -81.72409499,  -81.76248622,  -81.74658907,  -81.72207523,\n",
       "                 nan,  -86.99976564,  -86.9984111 ,  -87.03442872,\n",
       "        -86.98386326,  -87.04199194,  -87.08212954,  -87.05627751,\n",
       "        -87.01442221,  -87.01650149,           nan,  -90.86585691,\n",
       "        -90.62371252,  -90.68319346,  -90.48959185,  -90.46529029,\n",
       "        -90.44827453,  -90.48814524,  -90.43535023,  -90.47420137,\n",
       "                 nan,  -91.33174874,  -91.31641078,  -91.36132026,\n",
       "        -91.19000003,  -91.14052972,  -91.12247472,  -91.14671557,\n",
       "        -91.11092137,  -91.16269767,           nan,  -93.0481319 ,\n",
       "        -93.04812964,  -93.04644325,  -92.9688845 ,  -92.92146652,\n",
       "        -92.85259388,  -92.89999463,  -92.85473607,  -92.88467613,\n",
       "                 nan,  -97.31138465,  -96.90611516,  -96.87456695,\n",
       "        -97.03946134,  -96.64722406,  -96.72873081,  -96.9691471 ,\n",
       "        -96.93764807,  -96.93559285,           nan, -101.26164683,\n",
       "       -101.27132118, -101.27582112, -101.27323722, -101.26799106,\n",
       "       -101.25602979, -101.25065915, -101.24868217, -101.24979785])"
      ]
     },
     "execution_count": 24,
     "metadata": {},
     "output_type": "execute_result"
    }
   ],
   "source": [
    "scores = gs.cv_results_['mean_test_score']\n",
    "a"
   ]
  },
  {
   "cell_type": "code",
   "execution_count": null,
   "metadata": {},
   "outputs": [],
   "source": [
    "GRID SEARCH\n",
    "0.9999993865442208\n",
    "{'model__C': 5, 'model__coef0': 0.01, 'model__degree': 3, 'model__gamma': 'auto', 'model__kernel': 'linear'}\n",
    "Total time:  1.481740701198578 minutes\n",
    "\n",
    "RANDOM SEARCH\n",
    "0.9999993866165158\n",
    "{'model__kernel': 'linear', 'model__gamma': 'scale', 'model__degree': 8, 'model__coef0': 0.5, 'model__C': 5}\n",
    "Total time:  3.4482144872347513 minutes"
   ]
  },
  {
   "cell_type": "markdown",
   "metadata": {},
   "source": [
    "### Build classifier based on all training samples using the \"optimal parameters\":"
   ]
  },
  {
   "cell_type": "code",
   "execution_count": 269,
   "metadata": {},
   "outputs": [],
   "source": [
    "# clf = gs.best_estimator_\n",
    "# clf.fit(X_train, y_train)\n",
    "# print('Test accuracy: %.3f' % clf.score(X_test, y_test))\n",
    "# # ... or:\n",
    "# #gs.decision_function(X_train) # (silly)\n",
    "# print('Test accuracy: %.3f' % gs.score(X_test, y_test))"
   ]
  },
  {
   "cell_type": "markdown",
   "metadata": {},
   "source": [
    "### Reshape scores to follow parameters and plot"
   ]
  },
  {
   "cell_type": "code",
   "execution_count": 271,
   "metadata": {},
   "outputs": [
    {
     "data": {
      "image/png": "[encoded data removed]",
      "text/plain": [
       "<Figure size 576x432 with 2 Axes>"
      ]
     },
     "metadata": {
      "needs_background": "light"
     },
     "output_type": "display_data"
    }
   ],
   "source": [
    "import matplotlib.pyplot as plt\n",
    "import numpy as np\n",
    "scores = gs.cv_results_['mean_test_score'][len(param_range):].reshape(len(param_range),len(param_range2))\n",
    "\n",
    "plt.figure(figsize=(8, 6))\n",
    "plt.subplots_adjust(left=.2, right=0.95, bottom=0.15, top=0.95)\n",
    "plt.imshow(scores, interpolation='nearest', cmap=plt.cm.hot)\n",
    "plt.xlabel('gamma') # 1/(softness of decision boundary), i.e. small = soft\n",
    "plt.ylabel('C')     # 1/(size of support vector margin), i.e. large = tight margin\n",
    "plt.colorbar()\n",
    "plt.xticks(np.arange(len(param_range2)), param_range2)\n",
    "plt.yticks(np.arange(len(param_range)), param_range)\n",
    "plt.title('Grid Search Accuracy Score')\n",
    "plt.show()"
   ]
  },
  {
   "cell_type": "code",
   "execution_count": null,
   "metadata": {},
   "outputs": [],
   "source": []
  },
  {
   "cell_type": "code",
   "execution_count": null,
   "metadata": {},
   "outputs": [],
   "source": []
  }
 ],
 "metadata": {
  "hide_input": false,
  "kernelspec": {
   "display_name": "Python 3",
   "language": "python",
   "name": "python3"
  },
  "language_info": {
   "codemirror_mode": {
    "name": "ipython",
    "version": 3
   },
   "file_extension": ".py",
   "mimetype": "text/x-python",
   "name": "python",
   "nbconvert_exporter": "python",
   "pygments_lexer": "ipython3",
   "version": "3.8.5"
  },
  "toc": {
   "base_numbering": 1,
   "nav_menu": {},
   "number_sections": true,
   "sideBar": true,
   "skip_h1_title": false,
   "title_cell": "Table of Contents",
   "title_sidebar": "Contents",
   "toc_cell": false,
   "toc_position": {
    "height": "calc(100% - 180px)",
    "left": "10px",
    "top": "150px",
    "width": "354.46px"
   },
   "toc_section_display": true,
   "toc_window_display": false
  },
  "varInspector": {
   "cols": {
    "lenName": 16,
    "lenType": 16,
    "lenVar": 40
   },
   "kernels_config": {
    "python": {
     "delete_cmd_postfix": "",
     "delete_cmd_prefix": "del ",
     "library": "var_list.py",
     "varRefreshCmd": "print(var_dic_list())"
    },
    "r": {
     "delete_cmd_postfix": ") ",
     "delete_cmd_prefix": "rm(",
     "library": "var_list.r",
     "varRefreshCmd": "cat(var_dic_list()) "
    }
   },
   "types_to_exclude": [
    "module",
    "function",
    "builtin_function_or_method",
    "instance",
    "_Feature"
   ],
   "window_display": false
  }
 },
 "nbformat": 4,
 "nbformat_minor": 2
}

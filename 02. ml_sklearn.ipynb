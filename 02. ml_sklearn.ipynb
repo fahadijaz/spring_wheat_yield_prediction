{
 "cells": [
  {
   "cell_type": "markdown",
   "metadata": {
    "run_control": {
     "marked": true
    }
   },
   "source": [
    "To do\n",
    "\n",
    "Check Time Series data\n",
    "\n",
    "Give a 2 page report to Sahameh about visualisation and indicate the data which has any problems, which is in consistant with the data from other dates\n",
    "Planting date for 2018 is given in master thesis\n",
    "Planting date for 2019 is May 05\n",
    "Planting date for 2020 and remaining data will be given by Sahameh in the week starrting from 16th November\n",
    "\n",
    "A lot of variations in MAT data, i.e. days to maturation.\n",
    "Some have number of days while others have dates\n",
    "\n",
    "\n",
    "\n",
    "\n",
    "Must do normalisation of data before training\n",
    "\n",
    "Next step is Global Mix modelling\n",
    "Sahameh will share a paper from 2020 about using hyper spectral imaging, which will be basis of Mix Modelling"
   ]
  },
  {
   "cell_type": "code",
   "execution_count": 6,
   "metadata": {},
   "outputs": [
    {
     "data": {
      "text/html": [
       "<div>\n",
       "<style scoped>\n",
       "    .dataframe tbody tr th:only-of-type {\n",
       "        vertical-align: middle;\n",
       "    }\n",
       "\n",
       "    .dataframe tbody tr th {\n",
       "        vertical-align: top;\n",
       "    }\n",
       "\n",
       "    .dataframe thead th {\n",
       "        text-align: right;\n",
       "    }\n",
       "</style>\n",
       "<table border=\"1\" class=\"dataframe\">\n",
       "  <thead>\n",
       "    <tr style=\"text-align: right;\">\n",
       "      <th></th>\n",
       "      <th>blue_median</th>\n",
       "      <th>green_median</th>\n",
       "      <th>red_median</th>\n",
       "      <th>red_edge_median</th>\n",
       "      <th>ndvi_median</th>\n",
       "      <th>nir_median</th>\n",
       "      <th>mtci_values</th>\n",
       "      <th>evi_values</th>\n",
       "      <th>grain_yield</th>\n",
       "    </tr>\n",
       "  </thead>\n",
       "  <tbody>\n",
       "    <tr>\n",
       "      <th>0</th>\n",
       "      <td>0.034152</td>\n",
       "      <td>0.085196</td>\n",
       "      <td>0.045748</td>\n",
       "      <td>0.174878</td>\n",
       "      <td>0.883373</td>\n",
       "      <td>0.734195</td>\n",
       "      <td>4.331436</td>\n",
       "      <td>0.982070</td>\n",
       "      <td>431.698672</td>\n",
       "    </tr>\n",
       "    <tr>\n",
       "      <th>1</th>\n",
       "      <td>0.036060</td>\n",
       "      <td>0.084995</td>\n",
       "      <td>0.045884</td>\n",
       "      <td>0.168578</td>\n",
       "      <td>0.876906</td>\n",
       "      <td>0.692295</td>\n",
       "      <td>4.268514</td>\n",
       "      <td>0.952200</td>\n",
       "      <td>409.089032</td>\n",
       "    </tr>\n",
       "    <tr>\n",
       "      <th>2</th>\n",
       "      <td>0.036943</td>\n",
       "      <td>0.089985</td>\n",
       "      <td>0.045336</td>\n",
       "      <td>0.180775</td>\n",
       "      <td>0.888153</td>\n",
       "      <td>0.759447</td>\n",
       "      <td>4.272559</td>\n",
       "      <td>1.017603</td>\n",
       "      <td>372.860721</td>\n",
       "    </tr>\n",
       "    <tr>\n",
       "      <th>3</th>\n",
       "      <td>0.030649</td>\n",
       "      <td>0.072090</td>\n",
       "      <td>0.036053</td>\n",
       "      <td>0.151221</td>\n",
       "      <td>0.906785</td>\n",
       "      <td>0.739433</td>\n",
       "      <td>5.107437</td>\n",
       "      <td>1.018870</td>\n",
       "      <td>528.219355</td>\n",
       "    </tr>\n",
       "    <tr>\n",
       "      <th>4</th>\n",
       "      <td>0.037586</td>\n",
       "      <td>0.085404</td>\n",
       "      <td>0.050601</td>\n",
       "      <td>0.167592</td>\n",
       "      <td>0.869756</td>\n",
       "      <td>0.713398</td>\n",
       "      <td>4.665330</td>\n",
       "      <td>0.954982</td>\n",
       "      <td>462.505958</td>\n",
       "    </tr>\n",
       "    <tr>\n",
       "      <th>...</th>\n",
       "      <td>...</td>\n",
       "      <td>...</td>\n",
       "      <td>...</td>\n",
       "      <td>...</td>\n",
       "      <td>...</td>\n",
       "      <td>...</td>\n",
       "      <td>...</td>\n",
       "      <td>...</td>\n",
       "      <td>...</td>\n",
       "    </tr>\n",
       "    <tr>\n",
       "      <th>9265</th>\n",
       "      <td>0.029813</td>\n",
       "      <td>0.115001</td>\n",
       "      <td>0.043041</td>\n",
       "      <td>0.235598</td>\n",
       "      <td>0.896805</td>\n",
       "      <td>0.778433</td>\n",
       "      <td>3.080369</td>\n",
       "      <td>1.906517</td>\n",
       "      <td>631.004782</td>\n",
       "    </tr>\n",
       "    <tr>\n",
       "      <th>9266</th>\n",
       "      <td>0.028875</td>\n",
       "      <td>0.116390</td>\n",
       "      <td>0.041759</td>\n",
       "      <td>0.235039</td>\n",
       "      <td>0.903283</td>\n",
       "      <td>0.792686</td>\n",
       "      <td>2.926750</td>\n",
       "      <td>1.949479</td>\n",
       "      <td>641.486148</td>\n",
       "    </tr>\n",
       "    <tr>\n",
       "      <th>9267</th>\n",
       "      <td>0.028778</td>\n",
       "      <td>0.119711</td>\n",
       "      <td>0.039235</td>\n",
       "      <td>0.255132</td>\n",
       "      <td>0.916507</td>\n",
       "      <td>0.884904</td>\n",
       "      <td>2.912663</td>\n",
       "      <td>2.181455</td>\n",
       "      <td>562.676888</td>\n",
       "    </tr>\n",
       "    <tr>\n",
       "      <th>9268</th>\n",
       "      <td>0.026632</td>\n",
       "      <td>0.106301</td>\n",
       "      <td>0.036410</td>\n",
       "      <td>0.221450</td>\n",
       "      <td>0.926392</td>\n",
       "      <td>0.858537</td>\n",
       "      <td>3.239740</td>\n",
       "      <td>2.120530</td>\n",
       "      <td>547.551879</td>\n",
       "    </tr>\n",
       "    <tr>\n",
       "      <th>9269</th>\n",
       "      <td>0.077920</td>\n",
       "      <td>0.154683</td>\n",
       "      <td>0.164282</td>\n",
       "      <td>0.236207</td>\n",
       "      <td>0.452900</td>\n",
       "      <td>0.440633</td>\n",
       "      <td>2.945026</td>\n",
       "      <td>0.917764</td>\n",
       "      <td>617.828008</td>\n",
       "    </tr>\n",
       "  </tbody>\n",
       "</table>\n",
       "<p>9270 rows × 9 columns</p>\n",
       "</div>"
      ],
      "text/plain": [
       "      blue_median  green_median  red_median  red_edge_median  ndvi_median  \\\n",
       "0        0.034152      0.085196    0.045748         0.174878     0.883373   \n",
       "1        0.036060      0.084995    0.045884         0.168578     0.876906   \n",
       "2        0.036943      0.089985    0.045336         0.180775     0.888153   \n",
       "3        0.030649      0.072090    0.036053         0.151221     0.906785   \n",
       "4        0.037586      0.085404    0.050601         0.167592     0.869756   \n",
       "...           ...           ...         ...              ...          ...   \n",
       "9265     0.029813      0.115001    0.043041         0.235598     0.896805   \n",
       "9266     0.028875      0.116390    0.041759         0.235039     0.903283   \n",
       "9267     0.028778      0.119711    0.039235         0.255132     0.916507   \n",
       "9268     0.026632      0.106301    0.036410         0.221450     0.926392   \n",
       "9269     0.077920      0.154683    0.164282         0.236207     0.452900   \n",
       "\n",
       "      nir_median  mtci_values  evi_values  grain_yield  \n",
       "0       0.734195     4.331436    0.982070   431.698672  \n",
       "1       0.692295     4.268514    0.952200   409.089032  \n",
       "2       0.759447     4.272559    1.017603   372.860721  \n",
       "3       0.739433     5.107437    1.018870   528.219355  \n",
       "4       0.713398     4.665330    0.954982   462.505958  \n",
       "...          ...          ...         ...          ...  \n",
       "9265    0.778433     3.080369    1.906517   631.004782  \n",
       "9266    0.792686     2.926750    1.949479   641.486148  \n",
       "9267    0.884904     2.912663    2.181455   562.676888  \n",
       "9268    0.858537     3.239740    2.120530   547.551879  \n",
       "9269    0.440633     2.945026    0.917764   617.828008  \n",
       "\n",
       "[9270 rows x 9 columns]"
      ]
     },
     "execution_count": 6,
     "metadata": {},
     "output_type": "execute_result"
    }
   ],
   "source": [
    "import pandas as pd\n",
    "\n",
    "ml_df = pd.read_csv(\"ml_df.csv\")\n",
    "ml_df"
   ]
  },
  {
   "cell_type": "markdown",
   "metadata": {},
   "source": [
    "## Machine Learning Part"
   ]
  },
  {
   "cell_type": "code",
   "execution_count": 7,
   "metadata": {},
   "outputs": [
    {
     "name": "stdout",
     "output_type": "stream",
     "text": [
      "Wall time: 938 ms\n"
     ]
    }
   ],
   "source": [
    "%%time\n",
    "\n",
    "from sklearn.model_selection import train_test_split\n",
    "from sklearn.metrics import mean_absolute_error\n",
    "from sklearn.metrics import mean_squared_error\n",
    "from sklearn.metrics import r2_score"
   ]
  },
  {
   "cell_type": "code",
   "execution_count": 8,
   "metadata": {},
   "outputs": [],
   "source": [
    "df = ml_df\n",
    "\n",
    "# df = ml_df_std_yield\n"
   ]
  },
  {
   "cell_type": "code",
   "execution_count": 9,
   "metadata": {},
   "outputs": [
    {
     "name": "stdout",
     "output_type": "stream",
     "text": [
      "Wall time: 947 µs\n"
     ]
    }
   ],
   "source": [
    "%%time\n",
    "#==============================================================================\n",
    "# Split dataframe into data and target\n",
    "#==============================================================================\n",
    "\n",
    "X = df.iloc[:,:-1].values\n",
    "y = df.iloc[:,-1:].values"
   ]
  },
  {
   "cell_type": "code",
   "execution_count": 10,
   "metadata": {
    "run_control": {
     "marked": false
    }
   },
   "outputs": [
    {
     "name": "stdout",
     "output_type": "stream",
     "text": [
      "Wall time: 0 ns\n"
     ]
    },
    {
     "data": {
      "text/plain": [
       "array([[431.69867173],\n",
       "       [409.08903226],\n",
       "       [372.86072106],\n",
       "       ...,\n",
       "       [562.67688805],\n",
       "       [547.55187856],\n",
       "       [617.82800759]])"
      ]
     },
     "execution_count": 10,
     "metadata": {},
     "output_type": "execute_result"
    }
   ],
   "source": [
    "%%time\n",
    "y"
   ]
  },
  {
   "cell_type": "code",
   "execution_count": 15,
   "metadata": {},
   "outputs": [
    {
     "name": "stdout",
     "output_type": "stream",
     "text": [
      "Wall time: 976 µs\n"
     ]
    }
   ],
   "source": [
    "%%time\n",
    "#==============================================================================\n",
    "# Create separate train/test splits from Main data\n",
    "#==============================================================================\n",
    "X_train, X_test, y_train, y_test = train_test_split(X,\n",
    "                                                    y,\n",
    "                                                    test_size=0.25,\n",
    "                                                    random_state=14)"
   ]
  },
  {
   "cell_type": "code",
   "execution_count": 16,
   "metadata": {},
   "outputs": [
    {
     "name": "stdout",
     "output_type": "stream",
     "text": [
      "Wall time: 0 ns\n"
     ]
    }
   ],
   "source": [
    "%%time\n",
    "# from sklearn.preprocessing import StandardScaler\n",
    "# #==============================================================================\n",
    "# # Scale features using StandardScaler class in scikit-learn\n",
    "# #==============================================================================\n",
    "\n",
    "# # Initialise standard scaler and compute mean and STD from training data\n",
    "# sc = StandardScaler()\n",
    "# sc.fit(X_train)\n",
    "\n",
    "# # Transform (standardise) both X_train and X_test with mean and STD from\n",
    "# # training data\n",
    "# X_train_std = sc.transform(X_train)\n",
    "# X_test_std = sc.transform(X_test)"
   ]
  },
  {
   "cell_type": "code",
   "execution_count": 17,
   "metadata": {},
   "outputs": [
    {
     "name": "stdout",
     "output_type": "stream",
     "text": [
      "Wall time: 0 ns\n"
     ]
    }
   ],
   "source": [
    "%%time\n",
    "#==============================================================================\n",
    "# Defining the function to vaiidate the model with the test data and\n",
    "# get the results from regression evaluation metrices in sklearn\n",
    "#==============================================================================\n",
    "pred = []\n",
    "accuracy = []\n",
    "\n",
    "\n",
    "def test_data_regression(model, y_pred, y_test, target_state= 'actual', comments= 'no comments'):\n",
    "    pred = []\n",
    "    accuracy = []\n",
    "\n",
    "    if target_state == 'transformed':\n",
    "        y_pred = sc.inverse_transform(y_pred)\n",
    "        y_test = sc.inverse_transform(y_test)\n",
    "    #==============================================================================\n",
    "    # Compute performance\n",
    "    #==============================================================================\n",
    "\n",
    "    from sklearn.metrics import mean_absolute_error\n",
    "    mae = mean_absolute_error(y_test, y_pred)\n",
    "    print(mae, ' mean_absolute_error')\n",
    "    accuracy.append(mae)\n",
    "\n",
    "    from sklearn.metrics import mean_squared_error\n",
    "    mse = mean_squared_error(y_test, y_pred, squared=True)\n",
    "    print(mse, ' mean_squared_error')\n",
    "    accuracy.append(mse)\n",
    "\n",
    "    from sklearn.metrics import mean_squared_error\n",
    "    rmse = mean_squared_error(y_test, y_pred, squared=False)\n",
    "    print(rmse, ' root_mean_squared_error')\n",
    "    accuracy.append(rmse)\n",
    "\n",
    "    from sklearn.metrics import r2_score\n",
    "    r2 = r2_score(y_test, y_pred)\n",
    "    print(r2, ' r2_score')\n",
    "    accuracy.append(r2)\n",
    "\n",
    "    # Print accuracy computed from predictions on the test set\n",
    "    print(accuracy)\n",
    "\n",
    "    #==============================================================================\n",
    "    # Append Results\n",
    "    #==============================================================================\n",
    "    results = []\n",
    "    import datetime\n",
    "    datetime = datetime.datetime.now()\n",
    "    results.append((model, 'MAE = {}'.format(mae), 'MSE = {}'.format(mse),\n",
    "                    'RMSE = {}'.format(rmse), 'R2 = {}'.format(r2),\n",
    "                    'List = {}'.format(accuracy), datetime, target_state, comments))\n",
    "\n",
    "    pd.DataFrame(np.asarray(results)).to_csv('results.csv',\n",
    "                                             mode='a',\n",
    "                                             header=None)\n",
    "    pred.extend(y_pred)"
   ]
  },
  {
   "cell_type": "code",
   "execution_count": 19,
   "metadata": {},
   "outputs": [
    {
     "name": "stderr",
     "output_type": "stream",
     "text": [
      "<ipython-input-19-92530398dc52>:4: DataConversionWarning: A column-vector y was passed when a 1d array was expected. Please change the shape of y to (n_samples,), for example using ravel().\n",
      "  model.fit(X_train, y_train)\n"
     ]
    },
    {
     "name": "stdout",
     "output_type": "stream",
     "text": [
      "42.64506101192572  mean_absolute_error\n",
      "3466.6728329700027  mean_squared_error\n",
      "58.87845814022309  root_mean_squared_error\n",
      "0.7722338868697989  r2_score\n",
      "[42.64506101192572, 3466.6728329700027, 58.87845814022309, 0.7722338868697989]\n"
     ]
    }
   ],
   "source": [
    "from sklearn.ensemble import RandomForestRegressor\n",
    "\n",
    "model = RandomForestRegressor(n_jobs=-1)\n",
    "model.fit(X_train, y_train)\n",
    "y_pred = model.predict(X_test)\n",
    "test_data_regression(model, y_pred, y_test)"
   ]
  },
  {
   "cell_type": "code",
   "execution_count": 79,
   "metadata": {},
   "outputs": [
    {
     "name": "stdout",
     "output_type": "stream",
     "text": [
      "757.3234479605273  mean_absolute_error\n",
      "19879011.9912847  mean_squared_error\n",
      "4458.58856492553  root_mean_squared_error\n",
      "-1285.5287015224958  r2_score\n",
      "[757.3234479605273, 19879011.9912847, 4458.58856492553, -1285.5287015224958]\n",
      "Wall time: 8.15 s\n"
     ]
    }
   ],
   "source": [
    "%%time\n",
    "from sklearn.gaussian_process import GaussianProcessRegressor\n",
    "\n",
    "model = GaussianProcessRegressor()\n",
    "model\n",
    "\n",
    "model.fit(X_train, y_train)\n",
    "y_pred = model.predict(X_test)\n",
    "test_data_regression(model, y_pred, y_test, 'actual', 'transformed target')\n",
    "\n"
   ]
  },
  {
   "cell_type": "code",
   "execution_count": 69,
   "metadata": {},
   "outputs": [
    {
     "name": "stdout",
     "output_type": "stream",
     "text": [
      "-1285.7837651454133  r2_score\n"
     ]
    }
   ],
   "source": [
    "from sklearn.metrics import r2_score\n",
    "r2 = r2_score(y_test, y_pred)\n",
    "print(r2, ' r2_score')\n"
   ]
  },
  {
   "cell_type": "code",
   "execution_count": 251,
   "metadata": {},
   "outputs": [
    {
     "data": {
      "text/plain": [
       "RandomForestRegressor(max_depth=250, min_samples_split=5, n_estimators=1000,\n",
       "                      n_jobs=-1, random_state=0)"
      ]
     },
     "execution_count": 251,
     "metadata": {},
     "output_type": "execute_result"
    }
   ],
   "source": [
    "%%time\n",
    "from sklearn.ensemble import RandomForestRegressor\n",
    "\n",
    "model = RandomForestRegressor(n_estimators=1000,\n",
    "                              max_depth=250,\n",
    "                              min_samples_split=5,\n",
    "                              random_state=0,\n",
    "                              n_jobs=-1)\n",
    "\n",
    "model"
   ]
  },
  {
   "cell_type": "code",
   "execution_count": null,
   "metadata": {},
   "outputs": [],
   "source": [
    "%%time\n",
    "# Reshaping y from column ventor to 1D array\n",
    "y = np.reshape(y, (1, -1))"
   ]
  },
  {
   "cell_type": "code",
   "execution_count": 252,
   "metadata": {},
   "outputs": [
    {
     "data": {
      "text/plain": [
       "MinMaxScaler()"
      ]
     },
     "execution_count": 252,
     "metadata": {},
     "output_type": "execute_result"
    }
   ],
   "source": [
    "%%time\n",
    "from sklearn.preprocessing import MinMaxScaler\n",
    "\n",
    "# create target scaler object\n",
    "target_scaler = MinMaxScaler()\n",
    "target_scaler.fit(y_train)"
   ]
  },
  {
   "cell_type": "code",
   "execution_count": 256,
   "metadata": {},
   "outputs": [
    {
     "data": {
      "text/plain": [
       "array([[0.80527278],\n",
       "       [0.87110207],\n",
       "       [0.48169135],\n",
       "       ...,\n",
       "       [0.86413493],\n",
       "       [0.80114103],\n",
       "       [0.70831504]])"
      ]
     },
     "execution_count": 256,
     "metadata": {},
     "output_type": "execute_result"
    }
   ],
   "source": [
    "%%time\n",
    "y_train"
   ]
  },
  {
   "cell_type": "code",
   "execution_count": 255,
   "metadata": {},
   "outputs": [
    {
     "data": {
      "text/plain": [
       "array([[0.40024303],\n",
       "       [0.75600504],\n",
       "       [0.68143201],\n",
       "       ...,\n",
       "       [0.77390239],\n",
       "       [0.49967252],\n",
       "       [0.07300864]])"
      ]
     },
     "execution_count": 255,
     "metadata": {},
     "output_type": "execute_result"
    }
   ],
   "source": [
    "%%time\n",
    "y_test"
   ]
  },
  {
   "cell_type": "code",
   "execution_count": 253,
   "metadata": {},
   "outputs": [],
   "source": [
    "%%time\n",
    "\n",
    "\n",
    "# transform target variables\n",
    "y_train = target_scaler.transform(y_train)\n",
    "y_test = target_scaler.transform(y_test)"
   ]
  },
  {
   "cell_type": "code",
   "execution_count": 257,
   "metadata": {},
   "outputs": [
    {
     "name": "stderr",
     "output_type": "stream",
     "text": [
      "<ipython-input-257-d768f88d541e>:1: DataConversionWarning: A column-vector y was passed when a 1d array was expected. Please change the shape of y to (n_samples,), for example using ravel().\n",
      "  model.fit(X_train, y_train)\n"
     ]
    },
    {
     "data": {
      "text/plain": [
       "RandomForestRegressor(max_depth=250, min_samples_split=5, n_estimators=1000,\n",
       "                      n_jobs=-1, random_state=0)"
      ]
     },
     "execution_count": 257,
     "metadata": {},
     "output_type": "execute_result"
    }
   ],
   "source": [
    "%%time\n",
    "\n",
    "\n",
    "model.fit(X_train, y_train)\n"
   ]
  },
  {
   "cell_type": "code",
   "execution_count": 258,
   "metadata": {},
   "outputs": [],
   "source": [
    "%%time\n",
    "\n",
    "# invert transform on predictions\n",
    "y_pred = model.predict(X_test)"
   ]
  },
  {
   "cell_type": "code",
   "execution_count": 260,
   "metadata": {},
   "outputs": [
    {
     "data": {
      "text/plain": [
       "array([[0.38058973],\n",
       "       [0.72374907],\n",
       "       [0.71717564],\n",
       "       ...,\n",
       "       [0.75016846],\n",
       "       [0.60480157],\n",
       "       [0.21767988]])"
      ]
     },
     "execution_count": 260,
     "metadata": {},
     "output_type": "execute_result"
    }
   ],
   "source": [
    "%%time\n",
    "\n",
    "\n",
    "y_pred = np.reshape(y_pred, (-1, 1))\n",
    "y_pred"
   ]
  },
  {
   "cell_type": "code",
   "execution_count": 261,
   "metadata": {},
   "outputs": [
    {
     "data": {
      "text/plain": [
       "array([[351.61257326],\n",
       "       [565.63091115],\n",
       "       [561.53125689],\n",
       "       ...,\n",
       "       [582.10790565],\n",
       "       [491.44686838],\n",
       "       [250.01050887]])"
      ]
     },
     "execution_count": 261,
     "metadata": {},
     "output_type": "execute_result"
    }
   ],
   "source": [
    "%%time\n",
    "y_pred = target_scaler.inverse_transform(y_pred)\n",
    "y_pred"
   ]
  },
  {
   "cell_type": "code",
   "execution_count": 263,
   "metadata": {},
   "outputs": [],
   "source": [
    "%%time\n",
    "y_test = target_scaler.inverse_transform(y_test)\n"
   ]
  },
  {
   "cell_type": "code",
   "execution_count": 264,
   "metadata": {},
   "outputs": [
    {
     "name": "stdout",
     "output_type": "stream",
     "text": [
      "44.17863178170342  mean_absolute_error\n",
      "3741.77485989703  mean_squared_error\n",
      "61.17004871583012  root_mean_squared_error\n",
      "0.7578400398368218  r2_score\n",
      "[44.17863178170342, 3741.77485989703, 61.17004871583012, 0.7578400398368218]\n"
     ]
    }
   ],
   "source": [
    "%%time\n",
    "test_data_regression(model, y_pred, y_test)"
   ]
  },
  {
   "cell_type": "code",
   "execution_count": 232,
   "metadata": {},
   "outputs": [
    {
     "data": {
      "text/plain": [
       "array([[0.40024303],\n",
       "       [0.75600504],\n",
       "       [0.68143201],\n",
       "       ...,\n",
       "       [0.77390239],\n",
       "       [0.49967252],\n",
       "       [0.07300864]])"
      ]
     },
     "execution_count": 232,
     "metadata": {},
     "output_type": "execute_result"
    }
   ],
   "source": [
    "%%time\n",
    "y_test = target_scaler.inverse_transform(y_test)\n",
    "y_test"
   ]
  },
  {
   "cell_type": "code",
   "execution_count": null,
   "metadata": {},
   "outputs": [],
   "source": [
    "%%time\n"
   ]
  },
  {
   "cell_type": "code",
   "execution_count": 191,
   "metadata": {},
   "outputs": [],
   "source": [
    "%%time\n",
    "from sklearn.compose import TransformedTargetRegressor\n",
    "\n",
    "\n",
    "# define the target transform wrapper\n",
    "wrapped_model = TransformedTargetRegressor(regressor=model, transformer=None)"
   ]
  },
  {
   "cell_type": "code",
   "execution_count": 192,
   "metadata": {},
   "outputs": [
    {
     "name": "stdout",
     "output_type": "stream",
     "text": [
      "44.18129274951714  mean_absolute_error\n",
      "3742.084454236362  mean_squared_error\n",
      "61.17257926748194  root_mean_squared_error\n",
      "0.7578200035290036  r2_score\n",
      "[44.18129274951714, 3742.084454236362, 61.17257926748194, 0.7578200035290036]\n"
     ]
    }
   ],
   "source": [
    "# use the target transform wrapper\n",
    "\n",
    "wrapped_model.fit(X_train_std, y_train)\n",
    "y_pred = wrapped_model.predict(X_test_std)\n",
    "test_data_regression(wrapped_model, y_pred, y_test)"
   ]
  },
  {
   "cell_type": "code",
   "execution_count": 14,
   "metadata": {},
   "outputs": [
    {
     "name": "stderr",
     "output_type": "stream",
     "text": [
      "<ipython-input-14-92530398dc52>:4: DataConversionWarning: A column-vector y was passed when a 1d array was expected. Please change the shape of y to (n_samples,), for example using ravel().\n",
      "  model.fit(X_train, y_train)\n"
     ]
    },
    {
     "name": "stdout",
     "output_type": "stream",
     "text": [
      "44.226941653718015  mean_absolute_error\n",
      "3728.216447214942  mean_squared_error\n",
      "61.059122555232825  root_mean_squared_error\n",
      "0.7587175123726924  r2_score\n",
      "[44.226941653718015, 3728.216447214942, 61.059122555232825, 0.7587175123726924]\n"
     ]
    }
   ],
   "source": []
  },
  {
   "cell_type": "code",
   "execution_count": 67,
   "metadata": {},
   "outputs": [
    {
     "name": "stdout",
     "output_type": "stream",
     "text": [
      "74.65415189943113  mean_absolute_error\n",
      "10483.149184427324  mean_squared_error\n",
      "102.38725108345923  root_mean_squared_error\n",
      "0.3215521820691706  r2_score\n",
      "[74.65415189943113, 10483.149184427324, 102.38725108345923, 0.3215521820691706]\n"
     ]
    },
    {
     "name": "stderr",
     "output_type": "stream",
     "text": [
      "<ipython-input-67-c00bc0704170>:8: DataConversionWarning: A column-vector y was passed when a 1d array was expected. Please change the shape of y to (n_samples,), for example using ravel().\n",
      "  model.fit(X_train_std, y_train)\n"
     ]
    }
   ],
   "source": [
    "from sklearn.ensemble import RandomForestRegressor\n",
    "\n",
    "model = RandomForestRegressor(n_estimators=10,\n",
    "                              max_depth=1,\n",
    "                              min_samples_split=10,\n",
    "                              random_state=0,\n",
    "                              n_jobs=-1)\n",
    "model.fit(X_train_std, y_train)\n",
    "y_pred = model.predict(X_test_std)\n",
    "test_data_regression(model, y_pred, y_test)"
   ]
  },
  {
   "cell_type": "code",
   "execution_count": 69,
   "metadata": {},
   "outputs": [
    {
     "name": "stdout",
     "output_type": "stream",
     "text": [
      "65.50208431237094  mean_absolute_error\n",
      "7938.921119041205  mean_squared_error\n",
      "89.10062356146115  root_mean_squared_error\n",
      "0.4862093808662402  r2_score\n",
      "[65.50208431237094, 7938.921119041205, 89.10062356146115, 0.4862093808662402]\n"
     ]
    }
   ],
   "source": [
    "from sklearn.cross_decomposition import PLSRegression\n",
    "\n",
    "model = PLSRegression(n_components=5)\n",
    "model.fit(X_train_std, y_train)\n",
    "y_pred = model.predict(X_test_std)\n",
    "test_data_regression(model, y_pred, y_test)"
   ]
  },
  {
   "cell_type": "code",
   "execution_count": 54,
   "metadata": {},
   "outputs": [
    {
     "name": "stdout",
     "output_type": "stream",
     "text": [
      "-128.07574617410896\n",
      "{'randomforestregressor__max_depth': 3, 'randomforestregressor__min_samples_split': 5, 'randomforestregressor__n_estimators': 7}\n"
     ]
    },
    {
     "name": "stderr",
     "output_type": "stream",
     "text": [
      "C:\\ProgramData\\Anaconda3\\lib\\site-packages\\sklearn\\pipeline.py:335: DataConversionWarning: A column-vector y was passed when a 1d array was expected. Please change the shape of y to (n_samples,), for example using ravel().\n",
      "  self._final_estimator.fit(Xt, y, **fit_params_last_step)\n"
     ]
    }
   ],
   "source": [
    "from sklearn.ensemble import RandomForestRegressor\n",
    "from sklearn.pipeline import make_pipeline\n",
    "from sklearn.model_selection import GridSearchCV\n",
    "\n",
    "\n",
    "# Define the pipeline\n",
    "pipe_line = make_pipeline(RandomForestRegressor())\n",
    "\n",
    "# Define ranges of parameter values:\n",
    "param_range  = list(range(1,200))                   # For n_components\n",
    "param_range2 = list(range(1, 20, 1))          # For max_iter\n",
    "param_range3 = list(range(1, 15,1))                   # For max_depth\n",
    "param_range4 = [x/10 for x in list(range(0, 10))]   # For learning_rate\n",
    "param_range5  = list(range(5,20))                   # For n_components\n",
    "\n",
    "\n",
    "# estimator.get_params().keys()\n",
    "# pipe_line.get_params().keys()\n",
    "\n",
    "gs = GridSearchCV(estimator=pipe_line, \n",
    "                  param_grid=[{'randomforestregressor__n_estimators': param_range2,\n",
    "                              'randomforestregressor__max_depth': param_range3,\n",
    "                               'randomforestregressor__min_samples_split': param_range3}], \n",
    "                  scoring='neg_root_mean_squared_error', \n",
    "                  cv=3,\n",
    "                  n_jobs=-1)\n",
    "\n",
    "gs = gs.fit(X, y)\n",
    "print(gs.best_score_)\n",
    "print(gs.best_params_)\n",
    "\n",
    "\n",
    "# # Inspect AUC of parameter grid combinations\n",
    "# for r, _ in enumerate(grid.cv_results_['mean_test_score']):\n",
    "#     print(\"%0.3f +/- %0.2f %r\"\n",
    "#           % (grid.cv_results_['mean_test_score'][r], \n",
    "#              grid.cv_results_['std_test_score'][r] / 2.0, \n",
    "#              grid.cv_results_['params'][r]))"
   ]
  },
  {
   "cell_type": "code",
   "execution_count": 55,
   "metadata": {},
   "outputs": [
    {
     "data": {
      "text/plain": [
       "GrainYield    223.1\n",
       "Name: 1, dtype: float64"
      ]
     },
     "execution_count": 55,
     "metadata": {},
     "output_type": "execute_result"
    }
   ],
   "source": [
    "y.iloc[1].values\n",
    "y"
   ]
  },
  {
   "cell_type": "code",
   "execution_count": null,
   "metadata": {},
   "outputs": [],
   "source": [
    "for i in range(len(y_pred)):\n",
    "    print(y_pred[i], y[i])"
   ]
  },
  {
   "cell_type": "code",
   "execution_count": 28,
   "metadata": {},
   "outputs": [],
   "source": [
    "import numpy as np\n",
    "import h5py\n",
    "import pandas as pd\n",
    "\n",
    "# Visualization\n",
    "import cv2\n",
    "from mpl_toolkits.axes_grid1 import ImageGrid\n",
    "import matplotlib.pyplot as plt\n",
    "\n",
    "# Preprocessing\n",
    "from sklearn.model_selection import train_test_split\n",
    "from tensorflow.keras import backend as K\n",
    "\n",
    "# Neural networks\n",
    "from tensorflow.keras.layers import Input, Conv2D, BatchNormalization, Activation, MaxPooling2D, Dropout, Conv2DTranspose, concatenate\n",
    "from tensorflow.keras.models import Model\n",
    "\n",
    "# Training\n",
    "from tensorflow.keras.preprocessing.image import ImageDataGenerator\n",
    "from tensorflow.keras.callbacks import ReduceLROnPlateau, EarlyStopping, ModelCheckpoint"
   ]
  },
  {
   "cell_type": "markdown",
   "metadata": {},
   "source": [
    "# Define eval metric and loss function (DICE)"
   ]
  },
  {
   "cell_type": "code",
   "execution_count": 31,
   "metadata": {},
   "outputs": [],
   "source": [
    "\"\"\"\n",
    "Metric used in the competition\n",
    "\"\"\" \n",
    "# Defining the dice_coef function\n",
    "def dice_coef(y_true, y_pred, smooth=1):\n",
    "    y_true_f = K.flatten(y_true)\n",
    "    y_pred_f = K.flatten(y_pred)\n",
    "    intersection = K.sum(y_true_f * y_pred_f)\n",
    "    return (2. * intersection + smooth) / (K.sum(y_true_f) + K.sum(y_pred_f) + smooth)\n",
    "\n",
    "# Defining the dice_loss function\n",
    "def dice_loss(y_true, y_pred):\n",
    "    smooth = 1.\n",
    "    y_true_f = K.flatten(y_true)\n",
    "    y_pred_f = K.flatten(y_pred)\n",
    "    intersection = y_true_f * y_pred_f\n",
    "    score = (2. * K.sum(intersection) + smooth) / (K.sum(y_true_f) + K.sum(y_pred_f) + smooth)\n",
    "    return 1. - score"
   ]
  }
 ],
 "metadata": {
  "hide_input": false,
  "kernelspec": {
   "display_name": "Python 3",
   "language": "python",
   "name": "python3"
  },
  "language_info": {
   "codemirror_mode": {
    "name": "ipython",
    "version": 3
   },
   "file_extension": ".py",
   "mimetype": "text/x-python",
   "name": "python",
   "nbconvert_exporter": "python",
   "pygments_lexer": "ipython3",
   "version": "3.8.5"
  },
  "toc": {
   "base_numbering": 1,
   "nav_menu": {},
   "number_sections": true,
   "sideBar": true,
   "skip_h1_title": false,
   "title_cell": "Table of Contents",
   "title_sidebar": "Contents",
   "toc_cell": false,
   "toc_position": {},
   "toc_section_display": true,
   "toc_window_display": false
  },
  "varInspector": {
   "cols": {
    "lenName": 16,
    "lenType": 16,
    "lenVar": 40
   },
   "kernels_config": {
    "python": {
     "delete_cmd_postfix": "",
     "delete_cmd_prefix": "del ",
     "library": "var_list.py",
     "varRefreshCmd": "print(var_dic_list())"
    },
    "r": {
     "delete_cmd_postfix": ") ",
     "delete_cmd_prefix": "rm(",
     "library": "var_list.r",
     "varRefreshCmd": "cat(var_dic_list()) "
    }
   },
   "types_to_exclude": [
    "module",
    "function",
    "builtin_function_or_method",
    "instance",
    "_Feature"
   ],
   "window_display": false
  }
 },
 "nbformat": 4,
 "nbformat_minor": 4
}

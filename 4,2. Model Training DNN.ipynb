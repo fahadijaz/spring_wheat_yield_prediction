{
 "cells": [
  {
   "cell_type": "code",
   "execution_count": 1,
   "id": "d9eef441",
   "metadata": {},
   "outputs": [],
   "source": [
    "target_features = ['GrainYield']\n",
    "# target_features = ['Days2Maturity']"
   ]
  },
  {
   "cell_type": "markdown",
   "id": "105acfb2",
   "metadata": {},
   "source": [
    "# Importing Libraries"
   ]
  },
  {
   "cell_type": "code",
   "execution_count": 4,
   "id": "average-columbia",
   "metadata": {
    "ExecuteTime": {
     "end_time": "2021-11-02T23:27:21.027003Z",
     "start_time": "2021-11-02T23:27:19.589329Z"
    }
   },
   "outputs": [],
   "source": [
    "import os\n",
    "import csv\n",
    "import numpy as np\n",
    "import pandas as pd\n",
    "from copy import copy\n",
    "from datetime import datetime as dt\n",
    "\n",
    "# Dictionaries\n",
    "import json\n",
    "from pprint import pprint\n",
    "\n",
    "# Iterate in loops\n",
    "import itertools\n",
    "from itertools import zip_longest\n",
    "\n",
    "# Simpsons integration\n",
    "from numpy import trapz\n",
    "from scipy.integrate import simps\n",
    "\n",
    "# Visualisation\n",
    "import seaborn as sns\n",
    "import matplotlib.pyplot as plt\n",
    "\n",
    "# To display df nicely in loops\n",
    "from IPython.display import display \n",
    "# Display rows and columns Pandas\n",
    "pd.options.display.max_columns = 100\n",
    "pd.set_option('display.max_rows',100)\n",
    "\n",
    "# # For displaying max rows in series\n",
    "# pd.options.display.max_rows = 10"
   ]
  },
  {
   "cell_type": "markdown",
   "id": "spread-surfing",
   "metadata": {},
   "source": [
    "# Importing data"
   ]
  },
  {
   "cell_type": "code",
   "execution_count": 6,
   "id": "2d066e93",
   "metadata": {
    "ExecuteTime": {
     "end_time": "2021-11-02T23:27:21.200932Z",
     "start_time": "2021-11-02T23:27:21.186833Z"
    }
   },
   "outputs": [
    {
     "data": {
      "text/plain": [
       "'C:\\\\Users\\\\fahad\\\\MegaSync\\\\NMBU\\\\GitHub\\\\vPheno'"
      ]
     },
     "execution_count": 6,
     "metadata": {},
     "output_type": "execute_result"
    }
   ],
   "source": [
    "# Prints the current working directory\n",
    "os.getcwd()\n",
    "# os.listdir()"
   ]
  },
  {
   "cell_type": "markdown",
   "id": "e796c4ee",
   "metadata": {},
   "source": [
    "## Finding Username folder to make general path for multi PC use"
   ]
  },
  {
   "cell_type": "code",
   "execution_count": 7,
   "id": "a5204388",
   "metadata": {
    "ExecuteTime": {
     "end_time": "2021-11-02T23:27:21.216889Z",
     "start_time": "2021-11-02T23:27:21.203923Z"
    }
   },
   "outputs": [
    {
     "data": {
      "text/plain": [
       "('fahad', 'C:/Users/fahad/')"
      ]
     },
     "execution_count": 7,
     "metadata": {},
     "output_type": "execute_result"
    }
   ],
   "source": [
    "username = str(os.getcwd()).split('\\\\')[2]\n",
    "user_path = r'C:/Users/'+username+'/'\n",
    "username, user_path"
   ]
  },
  {
   "cell_type": "markdown",
   "id": "9a708728",
   "metadata": {},
   "source": [
    "## Declaring Import paths"
   ]
  },
  {
   "cell_type": "code",
   "execution_count": 8,
   "id": "448c66bf",
   "metadata": {
    "ExecuteTime": {
     "end_time": "2021-11-02T23:27:21.232144Z",
     "start_time": "2021-11-02T23:27:21.218885Z"
    }
   },
   "outputs": [],
   "source": [
    "main_path = r'./Data/'\n",
    "path = r'./Data/3. merged data/'\n",
    "if target_features[0] == 'GrainYield':\n",
    "    export_path = './Data/4. results/'\n",
    "    export_path_comparability = './Data/4. results/comparability/'\n",
    "elif target_features[0] == 'Days2Maturity':\n",
    "    export_path = './Data/4. results_dm/'\n",
    "    export_path_comparability = './Data/4. results_dm/comparability/'\n",
    "\n",
    "# Create export_path folder if not exists already\n",
    "os.makedirs(path, exist_ok=True)\n",
    "os.makedirs(export_path, exist_ok=True)\n",
    "os.makedirs(export_path_comparability, exist_ok=True)\n",
    "\n",
    "# os.listdir(path)"
   ]
  },
  {
   "cell_type": "code",
   "execution_count": 9,
   "id": "disturbed-interval",
   "metadata": {
    "ExecuteTime": {
     "end_time": "2021-11-02T23:27:21.248101Z",
     "start_time": "2021-11-02T23:27:21.234139Z"
    }
   },
   "outputs": [],
   "source": [
    "# Making dictionary of files in each folder, in case there are multiple types of data\n",
    "dict_paths = {}\n",
    "def explore(starting_path):\n",
    "    for dirpath, dirnames, filenames in os.walk(starting_path):\n",
    "        dict_paths[dirpath.split('/')[-2]] = filenames\n",
    "#     pprint(dict_paths)\n",
    "explore(path)"
   ]
  },
  {
   "cell_type": "markdown",
   "id": "aede1524",
   "metadata": {},
   "source": [
    "# Data Preparation\n",
    "## Creating list of complete files"
   ]
  },
  {
   "cell_type": "code",
   "execution_count": 10,
   "id": "mighty-atlas",
   "metadata": {
    "ExecuteTime": {
     "end_time": "2021-11-02T23:27:21.263528Z",
     "start_time": "2021-11-02T23:27:21.250096Z"
    },
    "scrolled": true
   },
   "outputs": [
    {
     "name": "stdout",
     "output_type": "stream",
     "text": [
      "14 files found in the directory\n"
     ]
    }
   ],
   "source": [
    "# Get the list of all files in directory tree at given path\n",
    "\n",
    "files_with_address = []\n",
    "files_list = []\n",
    "\n",
    "for (dirpath, dirnames, filenames) in os.walk(path):\n",
    "    files_with_address += [os.path.join(dirpath, file) for file in filenames]\n",
    "    files_list.extend(filenames)\n",
    "    \n",
    "print(len(files_with_address), 'files found in the directory')\n",
    "# files_with_address\n",
    "# files_list"
   ]
  },
  {
   "cell_type": "markdown",
   "id": "abeebb14",
   "metadata": {},
   "source": [
    "## Data Checking/control"
   ]
  },
  {
   "cell_type": "markdown",
   "id": "ee84d976",
   "metadata": {
    "run_control": {
     "marked": true
    }
   },
   "source": [
    "### Check for duplicate filenames"
   ]
  },
  {
   "cell_type": "code",
   "execution_count": 11,
   "id": "2affa906",
   "metadata": {
    "ExecuteTime": {
     "end_time": "2021-11-02T23:27:21.278489Z",
     "start_time": "2021-11-02T23:27:21.266520Z"
    }
   },
   "outputs": [
    {
     "name": "stdout",
     "output_type": "stream",
     "text": [
      "Total number of files are : 14\n",
      "Number of unique file names are: 14\n",
      "There is/are 0 duplicate file name/names.\n"
     ]
    }
   ],
   "source": [
    "print('Total number of files are :', len(files_list))\n",
    "\n",
    "print('Number of unique file names are:', len(set(files_list)))\n",
    "\n",
    "print('There is/are', len(files_list) - len(set(files_list)),'duplicate file name/names.')\n",
    "if len(files_list) - len(set(files_list)) > 0:\n",
    "    raise NameError"
   ]
  },
  {
   "cell_type": "markdown",
   "id": "a0f118d1",
   "metadata": {},
   "source": [
    "# Importing data files to Pandas"
   ]
  },
  {
   "cell_type": "code",
   "execution_count": 12,
   "id": "ad948136",
   "metadata": {
    "ExecuteTime": {
     "end_time": "2021-11-02T23:27:21.831736Z",
     "start_time": "2021-11-02T23:27:21.281480Z"
    }
   },
   "outputs": [
    {
     "name": "stdout",
     "output_type": "stream",
     "text": [
      "Graminor_2019_Simps ===== (600, 123)\n",
      "Graminor_2019_Trapz ===== (600, 123)\n",
      "Graminor_2020_Simps ===== (800, 123)\n",
      "Graminor_2020_Trapz ===== (800, 123)\n",
      "Masbasis_2019_Simps ===== (528, 124)\n",
      "Masbasis_2019_Trapz ===== (528, 124)\n",
      "Masbasis_2020_Simps ===== (659, 126)\n",
      "Masbasis_2020_Trapz ===== (659, 126)\n",
      "Robot_2020_Simps ===== (96, 125)\n",
      "Robot_2020_Trapz ===== (96, 125)\n",
      "Staur_2019_Simps ===== (1328, 127)\n",
      "Staur_2019_Trapz ===== (1328, 127)\n",
      "Staur_2020_Simps ===== (1504, 124)\n",
      "Staur_2020_Trapz ===== (1504, 124)\n"
     ]
    }
   ],
   "source": [
    "all_df = []\n",
    "for data in files_with_address:\n",
    "    file_name = os.path.splitext(os.path.basename(data))[0]\n",
    "\n",
    "    # Replce all invalid characters in the name\n",
    "    file_name = file_name.replace(\" \", \"_\")\n",
    "    file_name = file_name.replace(\"-\", \"_\")\n",
    "    file_name = file_name.replace(\")\", \"\")\n",
    "    file_name = file_name.replace(\"(\", \"\")\n",
    "    df_name = file_name.replace(\".\", \"\")\n",
    "    # Test: Check if the same date is already present in the current dict key\n",
    "    if df_name in all_df:\n",
    "        print(f'A file with the same name {df_name} has already been imported. \\n Please check if there is duplication of data.')\n",
    "        raise NameError\n",
    "    all_df.append(df_name)\n",
    "\n",
    "    locals()[df_name] = pd.read_csv(data, index_col=False)\n",
    "    print(df_name, '=====', locals()[df_name].shape)\n",
    "# all_df"
   ]
  },
  {
   "cell_type": "code",
   "execution_count": 13,
   "id": "b51b4353",
   "metadata": {
    "ExecuteTime": {
     "end_time": "2021-11-02T23:27:21.863237Z",
     "start_time": "2021-11-02T23:27:21.849276Z"
    },
    "scrolled": true
   },
   "outputs": [
    {
     "name": "stdout",
     "output_type": "stream",
     "text": [
      "Total imported 14\n"
     ]
    }
   ],
   "source": [
    "print(f'Total imported {len(all_df)}')\n",
    "# all_df"
   ]
  },
  {
   "cell_type": "markdown",
   "id": "early-aside",
   "metadata": {},
   "source": [
    "## Importing Weather variables, yield columns, spectral indices, base indices columsn list"
   ]
  },
  {
   "cell_type": "code",
   "execution_count": 14,
   "id": "peripheral-audit",
   "metadata": {
    "ExecuteTime": {
     "end_time": "2021-11-02T23:27:21.879194Z",
     "start_time": "2021-11-02T23:27:21.865232Z"
    }
   },
   "outputs": [
    {
     "name": "stdout",
     "output_type": "stream",
     "text": [
      "80\n"
     ]
    }
   ],
   "source": [
    "a_file = open(main_path+'vollebekk_weather_columns.json', \"r\")\n",
    "output_str = a_file.read()\n",
    "# The file is imported as string\n",
    "\n",
    "# Converting it to python format\n",
    "weather_cols_vollebekk = json.loads(output_str)\n",
    "a_file.close()\n",
    "\n",
    "pprint(len(weather_cols_vollebekk))"
   ]
  },
  {
   "cell_type": "code",
   "execution_count": 15,
   "id": "express-wheel",
   "metadata": {
    "ExecuteTime": {
     "end_time": "2021-11-02T23:27:21.894154Z",
     "start_time": "2021-11-02T23:27:21.882187Z"
    }
   },
   "outputs": [
    {
     "name": "stdout",
     "output_type": "stream",
     "text": [
      "80\n"
     ]
    }
   ],
   "source": [
    "a_file = open(main_path+'staur_weather_columns.json', \"r\")\n",
    "output_str = a_file.read()\n",
    "# The file is imported as string\n",
    "\n",
    "# Converting it to python format\n",
    "weather_cols_staur = json.loads(output_str)\n",
    "a_file.close()\n",
    "\n",
    "pprint(len(weather_cols_staur))"
   ]
  },
  {
   "cell_type": "code",
   "execution_count": 16,
   "id": "loved-vaccine",
   "metadata": {
    "ExecuteTime": {
     "end_time": "2021-11-02T23:27:21.909022Z",
     "start_time": "2021-11-02T23:27:21.896150Z"
    }
   },
   "outputs": [
    {
     "name": "stdout",
     "output_type": "stream",
     "text": [
      "['Entry', 'Replicates', 'Name', 'Lodging', 'GrainYield', 'iBlock', 'Line', 'Pedigree', 'Block', 'Days2Maturity', 'CodeName', 'Heading_Date', 'Days2Heading', 'Maturity_Date']\n"
     ]
    }
   ],
   "source": [
    "a_file = open(main_path+\"yield_columns.json\", \"r\")\n",
    "output_str = a_file.read()\n",
    "\n",
    "# The file is imported as string\n",
    "# Converting it to python format\n",
    "yield_cols = json.loads(output_str)\n",
    "a_file.close()\n",
    "print(yield_cols)"
   ]
  },
  {
   "cell_type": "code",
   "execution_count": 17,
   "id": "surgical-observation",
   "metadata": {
    "ExecuteTime": {
     "end_time": "2021-11-02T23:27:21.925976Z",
     "start_time": "2021-11-02T23:27:21.911017Z"
    }
   },
   "outputs": [
    {
     "name": "stdout",
     "output_type": "stream",
     "text": [
      "['NDVI', 'MTCI', 'DVI', 'GDVI', 'MTCI_CI', 'EXG', 'EXGR', 'RDVI', 'TDVI', 'GNDVI', 'NDRE', 'SCCI', 'EVI', 'TVI', 'VARI', 'GARI', 'GCI', 'GLI', 'NLI', 'MNLI', 'SAVI', 'GSAVI', 'OSAVI', 'GOSAVI', 'MSAVI2', 'MSR', 'GRVI', 'WDRVI', 'SR']\n"
     ]
    }
   ],
   "source": [
    "a_file = open(main_path+\"spectral_indices_columns.json\", \"r\")\n",
    "output_str = a_file.read()\n",
    "\n",
    "# The file is imported as string\n",
    "# Converting it to python format\n",
    "spectral_indices_all = json.loads(output_str)\n",
    "a_file.close()\n",
    "print(spectral_indices_all)"
   ]
  },
  {
   "cell_type": "code",
   "execution_count": 18,
   "id": "southeast-plain",
   "metadata": {
    "ExecuteTime": {
     "end_time": "2021-11-02T23:27:21.955531Z",
     "start_time": "2021-11-02T23:27:21.931595Z"
    }
   },
   "outputs": [
    {
     "name": "stdout",
     "output_type": "stream",
     "text": [
      "['Blue', 'Green', 'Red', 'RedEdge', 'NIR']\n"
     ]
    }
   ],
   "source": [
    "a_file = open(main_path+\"base_indices_columns.json\", \"r\")\n",
    "output_str = a_file.read()\n",
    "\n",
    "# The file is imported as string\n",
    "# Converting it to python format\n",
    "base_indices = json.loads(output_str)\n",
    "a_file.close()\n",
    "print(base_indices)"
   ]
  },
  {
   "cell_type": "markdown",
   "id": "reliable-empty",
   "metadata": {},
   "source": [
    "## Defining categories of features"
   ]
  },
  {
   "cell_type": "code",
   "execution_count": 19,
   "id": "0001fa8b",
   "metadata": {
    "ExecuteTime": {
     "end_time": "2021-11-02T23:27:22.295846Z",
     "start_time": "2021-11-02T23:27:22.282881Z"
    }
   },
   "outputs": [],
   "source": [
    "# ToDo: Add check for duplicate columns in the df\n",
    "base_indices\n",
    "spectral_indices_all \n",
    "drop_indices = ['EVI', 'GLI', 'MTCI']\n",
    "spectral_indices = [x for x in spectral_indices_all if x not in drop_indices]\n",
    "\n",
    "# Staur weather columns are all also present in Vollebekk weather so they can be use as general weather features\n",
    "weather_features = weather_cols_staur.copy()\n",
    "environment_var = weather_features + ['Staur_Env', 'Vollebekk_Env']\n",
    "# yield_cols"
   ]
  },
  {
   "cell_type": "markdown",
   "id": "0674436a",
   "metadata": {},
   "source": [
    "# Dropping DF which donot have the Target Feature"
   ]
  },
  {
   "cell_type": "code",
   "execution_count": 20,
   "id": "5f4f1158",
   "metadata": {},
   "outputs": [],
   "source": [
    "# Dropping unnecessary columns\n",
    "all_df_dm = []\n",
    "for df in all_df:\n",
    "    temp_df = locals()[df].copy()\n",
    "    if target_features[0] in temp_df.columns.tolist():\n",
    "        all_df_dm.append(df)\n",
    "#         print(df)"
   ]
  },
  {
   "cell_type": "code",
   "execution_count": 21,
   "id": "ed83a0b8",
   "metadata": {},
   "outputs": [],
   "source": [
    "all_df_simps = [x for x in all_df_dm if 'Simps' in x]\n",
    "all_df_trapz = [x for x in all_df_dm if 'Trapz' in x]\n",
    "# all_df_simps, all_df_trapz"
   ]
  },
  {
   "cell_type": "markdown",
   "id": "global-gnome",
   "metadata": {},
   "source": [
    "# Dropping unnecessary columns\n"
   ]
  },
  {
   "cell_type": "code",
   "execution_count": 22,
   "id": "robust-making",
   "metadata": {
    "ExecuteTime": {
     "end_time": "2021-11-02T23:27:22.717032Z",
     "start_time": "2021-11-02T23:27:22.676436Z"
    }
   },
   "outputs": [
    {
     "name": "stdout",
     "output_type": "stream",
     "text": [
      "Graminor_2019_Simps (600, 123) ==> (600, 118)\n",
      "Graminor_2019_Trapz (600, 123) ==> (600, 118)\n",
      "Graminor_2020_Simps (800, 123) ==> (800, 118)\n",
      "Graminor_2020_Trapz (800, 123) ==> (800, 118)\n",
      "Masbasis_2019_Simps (528, 124) ==> (528, 118)\n",
      "Masbasis_2019_Trapz (528, 124) ==> (528, 118)\n",
      "Masbasis_2020_Simps (659, 126) ==> (659, 118)\n",
      "Masbasis_2020_Trapz (659, 126) ==> (659, 118)\n",
      "Robot_2020_Simps (96, 125) ==> (96, 118)\n",
      "Robot_2020_Trapz (96, 125) ==> (96, 118)\n",
      "Staur_2019_Simps (1328, 127) ==> (1328, 118)\n",
      "Staur_2019_Trapz (1328, 127) ==> (1328, 118)\n",
      "Staur_2020_Simps (1504, 124) ==> (1504, 118)\n",
      "Staur_2020_Trapz (1504, 124) ==> (1504, 118)\n"
     ]
    }
   ],
   "source": [
    "# Dropping unnecessary columns\n",
    "\n",
    "for df in all_df_dm:\n",
    "    temp_df = locals()[df].copy()\n",
    "    locals()[df] = temp_df[base_indices+spectral_indices_all+environment_var+['Name',target_features[0]]]\n",
    "    print(df, temp_df.shape, '==>', locals()[df].shape)\n"
   ]
  },
  {
   "cell_type": "markdown",
   "id": "rational-replication",
   "metadata": {},
   "source": [
    "# Dealing with Nan values"
   ]
  },
  {
   "cell_type": "markdown",
   "id": "unnecessary-criminal",
   "metadata": {},
   "source": [
    "## Dropping Missing values"
   ]
  },
  {
   "cell_type": "code",
   "execution_count": 23,
   "id": "sensitive-europe",
   "metadata": {
    "ExecuteTime": {
     "end_time": "2021-11-02T23:27:23.121179Z",
     "start_time": "2021-11-02T23:27:23.029598Z"
    }
   },
   "outputs": [
    {
     "name": "stdout",
     "output_type": "stream",
     "text": [
      "1  rows dropped in  Graminor_2019_Simps\n",
      "1  rows dropped in  Graminor_2019_Trapz\n",
      "1  rows dropped in  Graminor_2020_Simps\n",
      "1  rows dropped in  Graminor_2020_Trapz\n",
      "6  rows dropped in  Masbasis_2019_Simps\n",
      "6  rows dropped in  Masbasis_2019_Trapz\n",
      "116  rows dropped in  Masbasis_2020_Simps\n",
      "116  rows dropped in  Masbasis_2020_Trapz\n",
      "8  rows dropped in  Robot_2020_Simps\n",
      "8  rows dropped in  Robot_2020_Trapz\n",
      "0  rows dropped in  Staur_2019_Simps\n",
      "0  rows dropped in  Staur_2019_Trapz\n",
      "568  rows dropped in  Staur_2020_Simps\n",
      "568  rows dropped in  Staur_2020_Trapz\n"
     ]
    }
   ],
   "source": [
    "# Dropping rows with missing value in any column\n",
    "\n",
    "for df in all_df_dm:\n",
    "    temp_df = locals()[df].copy()\n",
    "    locals()[df] = temp_df.dropna(axis=0)\n",
    "    print(temp_df.shape[0] - locals()[df].shape[0], ' rows dropped in ', df)\n",
    "#     print(locals()[df].shape[0])"
   ]
  },
  {
   "cell_type": "markdown",
   "id": "weird-stereo",
   "metadata": {},
   "source": [
    "# Normalizing the data using Z-Score from scipy"
   ]
  },
  {
   "cell_type": "code",
   "execution_count": 24,
   "id": "frequent-battery",
   "metadata": {
    "ExecuteTime": {
     "end_time": "2021-11-02T23:27:23.615563Z",
     "start_time": "2021-11-02T23:27:23.431526Z"
    },
    "scrolled": true
   },
   "outputs": [],
   "source": [
    "from scipy.stats import zscore\n",
    "\n",
    "for df in all_df_dm:\n",
    "    temp_df = locals()[df].copy()\n",
    "    for col in temp_df.columns:\n",
    "        # Checking if the column is not a yield column\n",
    "        if col not in yield_cols+environment_var:\n",
    "            temp_df[col] = zscore(temp_df[col])\n",
    "    locals()[df] = temp_df.copy()\n",
    "#     print(df)"
   ]
  },
  {
   "cell_type": "markdown",
   "id": "julian-implementation",
   "metadata": {},
   "source": [
    "## Parameters"
   ]
  },
  {
   "cell_type": "code",
   "execution_count": 41,
   "id": "wanted-polymer",
   "metadata": {
    "ExecuteTime": {
     "end_time": "2021-11-02T23:27:27.584280Z",
     "start_time": "2021-11-02T23:27:27.568089Z"
    }
   },
   "outputs": [],
   "source": [
    "threshold_all = 'top_25'\n",
    "sorted_all = True\n",
    "agg_method = 'Simpsons'\n",
    "# agg_method = 'Trapezoid'"
   ]
  },
  {
   "cell_type": "code",
   "execution_count": 42,
   "id": "9a1923d5",
   "metadata": {
    "ExecuteTime": {
     "end_time": "2021-11-02T23:27:27.599240Z",
     "start_time": "2021-11-02T23:27:27.586275Z"
    }
   },
   "outputs": [],
   "source": [
    "# training_features = base_indices + spectral_indices + environment_var\n",
    "# training_features = base_indices + spectral_indices + weather_features\n",
    "training_features =  spectral_indices + weather_features\n",
    "# training_features = spectral_indices\n",
    "\n",
    "target_features\n",
    "\n",
    "group_feature = ['Name']\n",
    "\n",
    "if agg_method == 'Simpsons':\n",
    "    all_df_now = all_df_simps.copy()\n",
    "elif agg_method == 'Trapezoid': \n",
    "    all_df_now = all_df_trapz.copy()"
   ]
  },
  {
   "cell_type": "markdown",
   "id": "talented-facial",
   "metadata": {
    "ExecuteTime": {
     "end_time": "2021-09-15T18:32:26.716503Z",
     "start_time": "2021-09-15T18:32:26.697958Z"
    }
   },
   "source": [
    "## List of Final models"
   ]
  },
  {
   "cell_type": "markdown",
   "id": "friendly-stock",
   "metadata": {},
   "source": [
    "### Deep Learning Model"
   ]
  },
  {
   "cell_type": "code",
   "execution_count": 135,
   "id": "e0e87748",
   "metadata": {},
   "outputs": [],
   "source": [
    "# Defining R2 metric\n",
    "from keras import backend as K\n",
    "\n",
    "def coeff_determination(y_true, y_pred):\n",
    "    from keras import backend as K\n",
    "    SS_res =  K.sum(K.square( y_true-y_pred ))\n",
    "    SS_tot = K.sum(K.square( y_true - K.mean(y_true) ) )\n",
    "    return ( 1 - SS_res/(SS_tot + K.epsilon()) )"
   ]
  },
  {
   "cell_type": "code",
   "execution_count": 174,
   "id": "71d32961",
   "metadata": {},
   "outputs": [],
   "source": [
    "# Defining R2 metric\n",
    "from keras import backend as K\n",
    "\n",
    "def coeff_determination_loss(y_true, y_pred):\n",
    "    from keras import backend as K\n",
    "    SS_res =  K.sum(K.square( y_true-y_pred ))\n",
    "    SS_tot = K.sum(K.square( y_true - K.mean(y_true) ) )\n",
    "    return ( -1*(1 - SS_res/(SS_tot + K.epsilon())) )"
   ]
  },
  {
   "cell_type": "code",
   "execution_count": 173,
   "id": "d889b9aa",
   "metadata": {},
   "outputs": [],
   "source": [
    "models.Sequential?"
   ]
  },
  {
   "cell_type": "code",
   "execution_count": 211,
   "id": "protective-gardening",
   "metadata": {
    "ExecuteTime": {
     "end_time": "2021-11-02T20:23:02.858530Z",
     "start_time": "2021-11-02T20:22:58.011126Z"
    }
   },
   "outputs": [],
   "source": [
    "from tensorflow.keras import models\n",
    "from tensorflow.keras import layers\n",
    "\n",
    "def build_model():\n",
    "    # Because we will need to instantiate\n",
    "    # the same model multiple times,\n",
    "    # we use a function to construct it.\n",
    "    model = models.Sequential([\n",
    "        layers.Dense(32, activation='relu'),\n",
    "        layers.Dense(10, activation='relu'),\n",
    "        layers.Dense(1)])\n",
    "    \n",
    "    model.compile(optimizer='rmsprop', loss=coeff_determination_loss, metrics=[coeff_determination])\n",
    "    return model"
   ]
  },
  {
   "cell_type": "code",
   "execution_count": 212,
   "id": "religious-headquarters",
   "metadata": {
    "ExecuteTime": {
     "end_time": "2021-11-03T17:13:59.509327Z",
     "start_time": "2021-11-03T17:13:59.482118Z"
    }
   },
   "outputs": [],
   "source": [
    "X_train, X_test, y_train, y_test = train_test_split(X, y, test_size=0.33, random_state=1)\n",
    "\n",
    "groups = X_train[group_feature].values.ravel()\n",
    "\n",
    "X_train = X_train.drop(['Name'], axis=1).values\n",
    "X_test = X_test.drop(['Name'], axis=1).values\n",
    "\n",
    "gkf = list(GroupKFold(n_splits=6).split(X_train, y_train, groups))"
   ]
  },
  {
   "cell_type": "code",
   "execution_count": 213,
   "id": "controversial-score",
   "metadata": {},
   "outputs": [],
   "source": [
    "from sklearn.preprocessing import StandardScaler\n",
    "sc = StandardScaler()\n",
    "sc.fit(X_train)\n",
    "train_sc = sc.transform(X_train)\n",
    "test_sc = sc.transform(X_test)"
   ]
  },
  {
   "cell_type": "code",
   "execution_count": 214,
   "id": "fifteen-mustang",
   "metadata": {},
   "outputs": [
    {
     "name": "stdout",
     "output_type": "stream",
     "text": [
      "processing fold # 0\n",
      "fitting done\n",
      "processing fold # 1\n",
      "fitting done\n",
      "processing fold # 2\n",
      "fitting done\n",
      "processing fold # 3\n",
      "fitting done\n",
      "Wall time: 5min 9s\n"
     ]
    }
   ],
   "source": [
    "%%time\n",
    "\n",
    "import numpy as np\n",
    "k = 4\n",
    "num_val_samples = len(train_sc) // k\n",
    "num_epochs = 50\n",
    "all_mae_histories = []\n",
    "\n",
    "for i in range(k):\n",
    "    print('processing fold #', i)\n",
    "\n",
    "    # Prepare the validation data: data from partition # k\n",
    "    val_data = train_sc[i * num_val_samples:(i + 1) * num_val_samples]\n",
    "    val_targets = y_train[i * num_val_samples:(i + 1) * num_val_samples]\n",
    "\n",
    "    # Prepare the training data: data from all other partitions\n",
    "    partial_train_data = np.concatenate(\n",
    "        [train_sc[:i * num_val_samples], train_sc[(i + 1) * num_val_samples:]],\n",
    "        axis=0)\n",
    "\n",
    "    partial_train_targets = np.concatenate([\n",
    "        y_train[:i * num_val_samples],\n",
    "        y_train[(i + 1) * num_val_samples:]\n",
    "    ],\n",
    "                                           axis=0)\n",
    "\n",
    "    # Build the Keras model (already compiled)\n",
    "    model = build_model()\n",
    "\n",
    "    # Train the model (in silent mode, verbose=0)\n",
    "    history = model.fit(partial_train_data,\n",
    "                        partial_train_targets,\n",
    "                        validation_data=(val_data, val_targets),\n",
    "                        epochs=num_epochs,\n",
    "                        batch_size=1,\n",
    "                        verbose=0)\n",
    "    print('fitting done')\n",
    "    mae_history = history.history['val_coeff_determination']\n",
    "    all_mae_histories.append(mae_history)"
   ]
  },
  {
   "cell_type": "code",
   "execution_count": 205,
   "id": "optimum-proof",
   "metadata": {},
   "outputs": [],
   "source": [
    "average_mae_history = [\n",
    "    np.mean([x[i] for x in all_mae_histories]) for i in range(num_epochs)\n",
    "]"
   ]
  },
  {
   "cell_type": "code",
   "execution_count": 206,
   "id": "associate-exception",
   "metadata": {},
   "outputs": [
    {
     "data": {
      "image/png": "[encoded data removed]",
      "text/plain": [
       "<Figure size 640x480 with 1 Axes>"
      ]
     },
     "metadata": {},
     "output_type": "display_data"
    }
   ],
   "source": [
    "import matplotlib.pyplot as plt\n",
    "\n",
    "plt.plot(range(1, len(average_mae_history) + 1), average_mae_history)\n",
    "plt.xlabel('Epochs')\n",
    "plt.ylabel('Validation MAE')\n",
    "plt.show()"
   ]
  },
  {
   "cell_type": "code",
   "execution_count": 210,
   "id": "steady-festival",
   "metadata": {},
   "outputs": [
    {
     "data": {
      "image/png": "[encoded data removed]",
      "text/plain": [
       "<Figure size 640x480 with 1 Axes>"
      ]
     },
     "metadata": {},
     "output_type": "display_data"
    }
   ],
   "source": [
    "def smooth_curve(points, factor=0.9):\n",
    "    smoothed_points = []\n",
    "\n",
    "    for point in points:\n",
    "\n",
    "        if smoothed_points:\n",
    "            previous = smoothed_points[-1]\n",
    "            smoothed_points.append(previous * factor + point * (1 - factor))\n",
    "        else:\n",
    "            smoothed_points.append(point)\n",
    "\n",
    "    return smoothed_points\n",
    "\n",
    "\n",
    "smooth_mae_history = smooth_curve(average_mae_history[:])\n",
    "\n",
    "plt.plot(range(1, len(smooth_mae_history) + 1), smooth_mae_history)\n",
    "plt.xlabel('Epochs')\n",
    "plt.ylabel('Validation MAE')\n",
    "plt.show()"
   ]
  },
  {
   "cell_type": "code",
   "execution_count": 146,
   "id": "awful-marking",
   "metadata": {},
   "outputs": [
    {
     "name": "stdout",
     "output_type": "stream",
     "text": [
      "49/49 [==============================] - 0s 582us/step - loss: 3613.5151 - coeff_determination: 0.6928\n",
      "3613.51513671875 0.692753791809082\n"
     ]
    }
   ],
   "source": [
    "# Get a fresh, compiled model.\n",
    "model = build_model()\n",
    "\n",
    "# Train it on the entirety of the data.\n",
    "model.fit(train_sc, y_train, epochs=280, batch_size=16, verbose=0)\n",
    "\n",
    "train_score, train_score = model.evaluate(test_sc, y_test)\n",
    "test_score, test_score = model.evaluate(test_sc, y_test)\n",
    "print(test_score, test_mae_score)"
   ]
  },
  {
   "cell_type": "code",
   "execution_count": 184,
   "id": "705566e2",
   "metadata": {},
   "outputs": [],
   "source": [
    "# Get a fresh, compiled model.\n",
    "model = build_model()\n",
    "\n",
    "# Train it on the entirety of the data.\n",
    "history = model.fit(train_sc, y_train, epochs=2000, batch_size=16, verbose=1)\n"
   ]
  },
  {
   "cell_type": "code",
   "execution_count": 192,
   "id": "1c1d951f",
   "metadata": {},
   "outputs": [
    {
     "name": "stdout",
     "output_type": "stream",
     "text": [
      "99/99 [==============================] - 0s 670us/step - loss: -0.8587 - coeff_determination: 0.8587\n"
     ]
    }
   ],
   "source": [
    "test_mse_score, test_mae_score = model.evaluate(train_sc, y_train)\n"
   ]
  },
  {
   "cell_type": "code",
   "execution_count": 199,
   "id": "92c03b41",
   "metadata": {},
   "outputs": [
    {
     "data": {
      "text/plain": [
       "dict_keys(['loss', 'coeff_determination', 'val_loss', 'val_coeff_determination'])"
      ]
     },
     "execution_count": 199,
     "metadata": {},
     "output_type": "execute_result"
    }
   ],
   "source": [
    "history.history.keys()"
   ]
  },
  {
   "cell_type": "code",
   "execution_count": 189,
   "id": "4accae6f",
   "metadata": {},
   "outputs": [
    {
     "name": "stdout",
     "output_type": "stream",
     "text": [
      "49/49 [==============================] - 0s 582us/step - loss: -0.6941 - coeff_determination: 0.6949\n",
      "-0.6940706968307495 0.6949105262756348\n"
     ]
    }
   ],
   "source": [
    "score_history = history.history['coeff_determination']\n",
    "test_mse_score, test_mae_score = model.evaluate(test_sc, y_test)\n",
    "print(test_mse_score, test_mae_score)"
   ]
  },
  {
   "cell_type": "code",
   "execution_count": 190,
   "id": "c97bfc83",
   "metadata": {},
   "outputs": [
    {
     "data": {
      "image/png": "[encoded data removed]",
      "text/plain": [
       "<Figure size 640x480 with 1 Axes>"
      ]
     },
     "metadata": {},
     "output_type": "display_data"
    }
   ],
   "source": [
    "import matplotlib.pyplot as plt\n",
    "\n",
    "plt.plot(range(1, len(score_history) + 1), score_history)\n",
    "plt.xlabel('Epochs')\n",
    "plt.ylabel('Validation MAE')\n",
    "plt.show()"
   ]
  },
  {
   "cell_type": "code",
   "execution_count": 191,
   "id": "80f11f69",
   "metadata": {},
   "outputs": [
    {
     "data": {
      "image/png": "[encoded data removed]",
      "text/plain": [
       "<Figure size 640x480 with 1 Axes>"
      ]
     },
     "metadata": {},
     "output_type": "display_data"
    }
   ],
   "source": [
    "def smooth_curve(points, factor=0.9):\n",
    "    smoothed_points = []\n",
    "\n",
    "    for point in points:\n",
    "\n",
    "        if smoothed_points:\n",
    "            previous = smoothed_points[-1]\n",
    "            smoothed_points.append(previous * factor + point * (1 - factor))\n",
    "        else:\n",
    "            smoothed_points.append(point)\n",
    "\n",
    "    return smoothed_points\n",
    "\n",
    "\n",
    "smooth_mae_history = smooth_curve(score_history[10:])\n",
    "\n",
    "plt.plot(range(1, len(smooth_mae_history) + 1), smooth_mae_history)\n",
    "plt.xlabel('Epochs')\n",
    "plt.ylabel('Validation MAE')\n",
    "plt.show()"
   ]
  },
  {
   "cell_type": "code",
   "execution_count": null,
   "id": "b3614830",
   "metadata": {},
   "outputs": [],
   "source": [
    "\n",
    "all_mae_histories.append(score_history)\n",
    "\n"
   ]
  },
  {
   "cell_type": "code",
   "execution_count": 123,
   "id": "white-custody",
   "metadata": {},
   "outputs": [
    {
     "data": {
      "text/plain": [
       "40.05565643310547"
      ]
     },
     "execution_count": 123,
     "metadata": {},
     "output_type": "execute_result"
    }
   ],
   "source": [
    "test_mae_score"
   ]
  },
  {
   "cell_type": "code",
   "execution_count": 142,
   "id": "6d13bc81",
   "metadata": {},
   "outputs": [
    {
     "data": {
      "text/plain": [
       "-7336179.696848084"
      ]
     },
     "execution_count": 142,
     "metadata": {},
     "output_type": "execute_result"
    }
   ],
   "source": [
    "\n",
    "r2_score(y_test, model.predict(X_test).ravel())\n"
   ]
  },
  {
   "cell_type": "code",
   "execution_count": 124,
   "id": "processed-dimension",
   "metadata": {},
   "outputs": [],
   "source": [
    "y_test_pred = model.predict(test_sc)\n",
    "output = pd.DataFrame(y_test_pred)\n",
    "output['Id'] = output.index\n",
    "output['Predicted'] = output.iloc[:, 0:1]\n",
    "output[['Id', 'Predicted']].to_csv(export_path+\"submission_DNN_relusig.csv\", index=False)"
   ]
  },
  {
   "cell_type": "markdown",
   "id": "b9e01a31",
   "metadata": {},
   "source": [
    "## Variations in Datasets"
   ]
  },
  {
   "cell_type": "markdown",
   "id": "legislative-submission",
   "metadata": {},
   "source": [
    "### All data mixed"
   ]
  },
  {
   "cell_type": "code",
   "execution_count": 45,
   "id": "homeless-scroll",
   "metadata": {
    "ExecuteTime": {
     "end_time": "2021-11-03T17:07:16.680184Z",
     "start_time": "2021-11-03T17:03:20.583051Z"
    }
   },
   "outputs": [
    {
     "name": "stdout",
     "output_type": "stream",
     "text": [
      "RandomForestRegressor(max_depth=20)\n",
      "Pipeline(steps=[('standardscaler', StandardScaler()),\n",
      "                ('randomforestregressor', RandomForestRegressor(max_depth=20))])\n",
      " RMSE Test: 3.54        R2 Test: 0.88\n",
      "RMSE Train: 1.31       R2 Train: 0.98\n",
      "Lasso(alpha=0.9, max_iter=150)\n",
      "Pipeline(steps=[('standardscaler', StandardScaler()),\n",
      "                ('lasso', Lasso(alpha=0.9, max_iter=150))])\n",
      " RMSE Test: 4.58        R2 Test: 0.80\n",
      "RMSE Train: 4.58       R2 Train: 0.80\n"
     ]
    },
    {
     "name": "stderr",
     "output_type": "stream",
     "text": [
      "C:\\ProgramData\\Anaconda3\\lib\\site-packages\\sklearn\\linear_model\\_coordinate_descent.py:530: ConvergenceWarning: Objective did not converge. You might want to increase the number of iterations. Duality gap: 51.618951061027474, tolerance: 13.425073577844312\n",
      "  model = cd_fast.enet_coordinate_descent(\n",
      "C:\\ProgramData\\Anaconda3\\lib\\site-packages\\sklearn\\linear_model\\_coordinate_descent.py:530: ConvergenceWarning: Objective did not converge. You might want to increase the number of iterations. Duality gap: 52.44147528954636, tolerance: 13.848278967065871\n",
      "  model = cd_fast.enet_coordinate_descent(\n",
      "C:\\ProgramData\\Anaconda3\\lib\\site-packages\\sklearn\\linear_model\\_coordinate_descent.py:530: ConvergenceWarning: Objective did not converge. You might want to increase the number of iterations. Duality gap: 53.10005841006932, tolerance: 13.859737425149705\n",
      "  model = cd_fast.enet_coordinate_descent(\n",
      "C:\\ProgramData\\Anaconda3\\lib\\site-packages\\sklearn\\linear_model\\_coordinate_descent.py:530: ConvergenceWarning: Objective did not converge. You might want to increase the number of iterations. Duality gap: 52.13234488260787, tolerance: 13.819424850299407\n",
      "  model = cd_fast.enet_coordinate_descent(\n",
      "C:\\ProgramData\\Anaconda3\\lib\\site-packages\\sklearn\\linear_model\\_coordinate_descent.py:530: ConvergenceWarning: Objective did not converge. You might want to increase the number of iterations. Duality gap: 51.647999958375294, tolerance: 13.912616467065874\n",
      "  model = cd_fast.enet_coordinate_descent(\n",
      "C:\\ProgramData\\Anaconda3\\lib\\site-packages\\sklearn\\linear_model\\_coordinate_descent.py:530: ConvergenceWarning: Objective did not converge. You might want to increase the number of iterations. Duality gap: 52.5385875247448, tolerance: 14.137623970037458\n",
      "  model = cd_fast.enet_coordinate_descent(\n"
     ]
    },
    {
     "name": "stdout",
     "output_type": "stream",
     "text": [
      "GradientBoostingRegressor(learning_rate=0.4, random_state=500, subsample=0.8)\n",
      "Pipeline(steps=[('standardscaler', StandardScaler()),\n",
      "                ('gradientboostingregressor',\n",
      "                 GradientBoostingRegressor(learning_rate=0.4, random_state=500,\n",
      "                                           subsample=0.8))])\n",
      " RMSE Test: 3.93        R2 Test: 0.85\n",
      "RMSE Train: 1.29       R2 Train: 0.98\n",
      "RandomForestRegressor(max_depth=250, min_samples_split=5, n_estimators=1000,\n",
      "                      n_jobs=-1, random_state=0)\n",
      "Pipeline(steps=[('standardscaler', StandardScaler()),\n",
      "                ('randomforestregressor',\n",
      "                 RandomForestRegressor(max_depth=250, min_samples_split=5,\n",
      "                                       n_estimators=1000, n_jobs=-1,\n",
      "                                       random_state=0))])\n",
      " RMSE Test: 3.51        R2 Test: 0.88\n",
      "RMSE Train: 1.49       R2 Train: 0.98\n",
      "RandomForestRegressor(max_depth=100, min_samples_split=400, n_estimators=50,\n",
      "                      n_jobs=-1, random_state=0)\n",
      "Pipeline(steps=[('standardscaler', StandardScaler()),\n",
      "                ('randomforestregressor',\n",
      "                 RandomForestRegressor(max_depth=100, min_samples_split=400,\n",
      "                                       n_estimators=50, n_jobs=-1,\n",
      "                                       random_state=0))])\n",
      " RMSE Test: 5.42        R2 Test: 0.72\n",
      "RMSE Train: 5.44       R2 Train: 0.71\n",
      "Lasso(alpha=4.5)\n",
      "Pipeline(steps=[('standardscaler', StandardScaler()),\n",
      "                ('lasso', Lasso(alpha=4.5))])\n",
      " RMSE Test: 7.05        R2 Test: 0.52\n",
      "RMSE Train: 7.06       R2 Train: 0.52\n"
     ]
    }
   ],
   "source": [
    "temp_list = [x for x in all_df_now if not 'Robot' in x]\n",
    "\n",
    "# Making list of df for conct before training\n",
    "# This is different form list of srtings, as this is a list of actual dataframes\n",
    "df_list = []\n",
    "for x in temp_list:\n",
    "    df_list.append(locals()[x])\n",
    "\n",
    "df_ = pd.concat(df_list)\n",
    "\n",
    "# Shuffeling all the items\n",
    "df_shuffle = df_.sample(frac=1, random_state=1).reset_index(drop=True)\n",
    "\n",
    "X = df_shuffle[training_features]\n",
    "y = df_shuffle[target_features].values.ravel()\n",
    "groups = df_shuffle[group_feature].values.ravel()\n",
    "\n",
    "gkf = list(GroupKFold(n_splits=6).split(X, y, groups))\n",
    "# gkf = list(StratifiedGroupKFold(n_splits=6, shuffle=True, random_state=1).split(X, y, groups))\n",
    "\n",
    "#     Getting scores using cross_val_score\n",
    "for model in models:\n",
    "    importances, RMSE_test_temp, RMSE_train_temp, R2_test_temp, R2_train_temp, GKF_CV_temp = training_gkf_std(\n",
    "        model, X, y, gkf)\n",
    "    if importances is not None:\n",
    "        plot_feat_imp(importances,\n",
    "                      model,\n",
    "                      training_features,\n",
    "                      threshold=threshold_all)\n",
    "\n",
    "    save_results(model=model,\n",
    "                 agg_method=agg_method,\n",
    "                 train_field='all_mix',\n",
    "                 test_field='all_mix',\n",
    "                 training_features=training_features,\n",
    "                 importances=importances,\n",
    "                 RMSE_test=RMSE_test_temp,\n",
    "                 RMSE_train=RMSE_train_temp,\n",
    "                 R2_test=R2_test_temp,\n",
    "                 R2_train=R2_train_temp,\n",
    "                 GKF_CV=GKF_CV_temp)\n",
    "del (temp_list, df_list, df_, X, y, groups, gkf)\n",
    "del (importances, RMSE_test_temp, RMSE_train_temp, R2_test_temp, R2_train_temp, GKF_CV_temp, model)"
   ]
  },
  {
   "cell_type": "markdown",
   "id": "congressional-benchmark",
   "metadata": {
    "ExecuteTime": {
     "end_time": "2021-10-13T19:15:21.306505Z",
     "start_time": "2021-10-13T19:15:21.281069Z"
    }
   },
   "source": [
    "### Within same datasets:"
   ]
  },
  {
   "cell_type": "code",
   "execution_count": 46,
   "id": "documentary-profile",
   "metadata": {
    "ExecuteTime": {
     "end_time": "2021-11-01T11:53:01.328315Z",
     "start_time": "2021-11-01T11:53:00.862066Z"
    },
    "scrolled": true
   },
   "outputs": [
    {
     "name": "stdout",
     "output_type": "stream",
     "text": [
      "Masbasis_2019_Simps\n",
      "Masbasis_2019_Simps\n",
      "RandomForestRegressor(max_depth=20)\n",
      "Pipeline(steps=[('standardscaler', StandardScaler()),\n",
      "                ('randomforestregressor', RandomForestRegressor(max_depth=20))])\n",
      " RMSE Test: 1.25        R2 Test: 0.60\n",
      "RMSE Train: 0.46       R2 Train: 0.95\n",
      "Masbasis_2019_Simps\n",
      "Lasso(alpha=0.9, max_iter=150)\n",
      "Pipeline(steps=[('standardscaler', StandardScaler()),\n",
      "                ('lasso', Lasso(alpha=0.9, max_iter=150))])\n",
      " RMSE Test: 1.78        R2 Test: 0.19\n",
      "RMSE Train: 1.79       R2 Train: 0.19\n",
      "Masbasis_2019_Simps\n",
      "GradientBoostingRegressor(learning_rate=0.4, random_state=500, subsample=0.8)\n",
      "Pipeline(steps=[('standardscaler', StandardScaler()),\n",
      "                ('gradientboostingregressor',\n",
      "                 GradientBoostingRegressor(learning_rate=0.4, random_state=500,\n",
      "                                           subsample=0.8))])\n",
      " RMSE Test: 1.35        R2 Test: 0.52\n",
      "RMSE Train: 0.09       R2 Train: 1.00\n",
      "Masbasis_2019_Simps\n",
      "RandomForestRegressor(max_depth=250, min_samples_split=5, n_estimators=1000,\n",
      "                      n_jobs=-1, random_state=0)\n",
      "Pipeline(steps=[('standardscaler', StandardScaler()),\n",
      "                ('randomforestregressor',\n",
      "                 RandomForestRegressor(max_depth=250, min_samples_split=5,\n",
      "                                       n_estimators=1000, n_jobs=-1,\n",
      "                                       random_state=0))])\n",
      " RMSE Test: 1.23        R2 Test: 0.61\n",
      "RMSE Train: 0.54       R2 Train: 0.93\n",
      "Masbasis_2019_Simps\n",
      "RandomForestRegressor(max_depth=100, min_samples_split=400, n_estimators=50,\n",
      "                      n_jobs=-1, random_state=0)\n",
      "Pipeline(steps=[('standardscaler', StandardScaler()),\n",
      "                ('randomforestregressor',\n",
      "                 RandomForestRegressor(max_depth=100, min_samples_split=400,\n",
      "                                       n_estimators=50, n_jobs=-1,\n",
      "                                       random_state=0))])\n",
      " RMSE Test: 1.99        R2 Test: -0.01\n",
      "RMSE Train: 2.00       R2 Train: -0.00\n",
      "Masbasis_2019_Simps\n",
      "Lasso(alpha=4.5)\n",
      "Pipeline(steps=[('standardscaler', StandardScaler()),\n",
      "                ('lasso', Lasso(alpha=4.5))])\n",
      " RMSE Test: 1.99        R2 Test: -0.01\n",
      "RMSE Train: 2.00       R2 Train: 0.00\n",
      "Masbasis_2020_Simps\n",
      "Masbasis_2020_Simps\n",
      "RandomForestRegressor(max_depth=20)\n",
      "Pipeline(steps=[('standardscaler', StandardScaler()),\n",
      "                ('randomforestregressor', RandomForestRegressor(max_depth=20))])\n",
      " RMSE Test: 1.50        R2 Test: 0.82\n",
      "RMSE Train: 0.56       R2 Train: 0.98\n",
      "Masbasis_2020_Simps\n",
      "Lasso(alpha=0.9, max_iter=150)\n",
      "Pipeline(steps=[('standardscaler', StandardScaler()),\n",
      "                ('lasso', Lasso(alpha=0.9, max_iter=150))])\n",
      " RMSE Test: 1.87        R2 Test: 0.73\n",
      "RMSE Train: 1.83       R2 Train: 0.74\n",
      "Masbasis_2020_Simps\n",
      "GradientBoostingRegressor(learning_rate=0.4, random_state=500, subsample=0.8)\n",
      "Pipeline(steps=[('standardscaler', StandardScaler()),\n",
      "                ('gradientboostingregressor',\n",
      "                 GradientBoostingRegressor(learning_rate=0.4, random_state=500,\n",
      "                                           subsample=0.8))])\n",
      " RMSE Test: 1.63        R2 Test: 0.79\n",
      "RMSE Train: 0.12       R2 Train: 1.00\n",
      "Masbasis_2020_Simps\n",
      "RandomForestRegressor(max_depth=250, min_samples_split=5, n_estimators=1000,\n",
      "                      n_jobs=-1, random_state=0)\n",
      "Pipeline(steps=[('standardscaler', StandardScaler()),\n",
      "                ('randomforestregressor',\n",
      "                 RandomForestRegressor(max_depth=250, min_samples_split=5,\n",
      "                                       n_estimators=1000, n_jobs=-1,\n",
      "                                       random_state=0))])\n",
      " RMSE Test: 1.50        R2 Test: 0.82\n",
      "RMSE Train: 0.64       R2 Train: 0.97\n",
      "Masbasis_2020_Simps\n",
      "RandomForestRegressor(max_depth=100, min_samples_split=400, n_estimators=50,\n",
      "                      n_jobs=-1, random_state=0)\n",
      "Pipeline(steps=[('standardscaler', StandardScaler()),\n",
      "                ('randomforestregressor',\n",
      "                 RandomForestRegressor(max_depth=100, min_samples_split=400,\n",
      "                                       n_estimators=50, n_jobs=-1,\n",
      "                                       random_state=0))])\n",
      " RMSE Test: 3.61        R2 Test: -0.00\n",
      "RMSE Train: 3.62       R2 Train: -0.00\n",
      "Masbasis_2020_Simps\n",
      "Lasso(alpha=4.5)\n",
      "Pipeline(steps=[('standardscaler', StandardScaler()),\n",
      "                ('lasso', Lasso(alpha=4.5))])\n",
      " RMSE Test: 3.61        R2 Test: -0.00\n",
      "RMSE Train: 3.62       R2 Train: 0.00\n",
      "Robot_2020_Simps\n",
      "Robot_2020_Simps\n",
      "RandomForestRegressor(max_depth=20)\n",
      "Pipeline(steps=[('standardscaler', StandardScaler()),\n",
      "                ('randomforestregressor', RandomForestRegressor(max_depth=20))])\n",
      " RMSE Test: 2.25        R2 Test: 0.55\n",
      "RMSE Train: 0.87       R2 Train: 0.93\n",
      "Robot_2020_Simps\n",
      "Lasso(alpha=0.9, max_iter=150)\n",
      "Pipeline(steps=[('standardscaler', StandardScaler()),\n",
      "                ('lasso', Lasso(alpha=0.9, max_iter=150))])\n",
      " RMSE Test: 2.26        R2 Test: 0.55\n",
      "RMSE Train: 2.21       R2 Train: 0.57\n",
      "Robot_2020_Simps\n",
      "GradientBoostingRegressor(learning_rate=0.4, random_state=500, subsample=0.8)\n",
      "Pipeline(steps=[('standardscaler', StandardScaler()),\n",
      "                ('gradientboostingregressor',\n",
      "                 GradientBoostingRegressor(learning_rate=0.4, random_state=500,\n",
      "                                           subsample=0.8))])\n",
      " RMSE Test: 2.67        R2 Test: 0.37\n",
      "RMSE Train: 0.00       R2 Train: 1.00\n",
      "Robot_2020_Simps\n",
      "RandomForestRegressor(max_depth=250, min_samples_split=5, n_estimators=1000,\n",
      "                      n_jobs=-1, random_state=0)\n",
      "Pipeline(steps=[('standardscaler', StandardScaler()),\n",
      "                ('randomforestregressor',\n",
      "                 RandomForestRegressor(max_depth=250, min_samples_split=5,\n",
      "                                       n_estimators=1000, n_jobs=-1,\n",
      "                                       random_state=0))])\n",
      " RMSE Test: 2.28        R2 Test: 0.54\n",
      "RMSE Train: 0.99       R2 Train: 0.91\n",
      "Robot_2020_Simps\n",
      "RandomForestRegressor(max_depth=100, min_samples_split=400, n_estimators=50,\n",
      "                      n_jobs=-1, random_state=0)\n",
      "Pipeline(steps=[('standardscaler', StandardScaler()),\n",
      "                ('randomforestregressor',\n",
      "                 RandomForestRegressor(max_depth=100, min_samples_split=400,\n",
      "                                       n_estimators=50, n_jobs=-1,\n",
      "                                       random_state=0))])\n",
      " RMSE Test: 3.37        R2 Test: -0.01\n",
      "RMSE Train: 3.36       R2 Train: -0.00\n",
      "Robot_2020_Simps\n",
      "Lasso(alpha=4.5)\n",
      "Pipeline(steps=[('standardscaler', StandardScaler()),\n",
      "                ('lasso', Lasso(alpha=4.5))])\n",
      " RMSE Test: 3.37        R2 Test: -0.01\n",
      "RMSE Train: 3.36       R2 Train: 0.00\n",
      "Staur_2019_Simps\n",
      "Staur_2019_Simps\n",
      "RandomForestRegressor(max_depth=20)\n",
      "Pipeline(steps=[('standardscaler', StandardScaler()),\n",
      "                ('randomforestregressor', RandomForestRegressor(max_depth=20))])\n",
      " RMSE Test: 6.03        R2 Test: 0.48\n",
      "RMSE Train: 2.16       R2 Train: 0.93\n",
      "Staur_2019_Simps\n",
      "Lasso(alpha=0.9, max_iter=150)\n",
      "Pipeline(steps=[('standardscaler', StandardScaler()),\n",
      "                ('lasso', Lasso(alpha=0.9, max_iter=150))])\n",
      " RMSE Test: 6.43        R2 Test: 0.42\n",
      "RMSE Train: 6.37       R2 Train: 0.44\n",
      "Staur_2019_Simps\n",
      "GradientBoostingRegressor(learning_rate=0.4, random_state=500, subsample=0.8)\n",
      "Pipeline(steps=[('standardscaler', StandardScaler()),\n",
      "                ('gradientboostingregressor',\n",
      "                 GradientBoostingRegressor(learning_rate=0.4, random_state=500,\n",
      "                                           subsample=0.8))])\n",
      " RMSE Test: 6.51        R2 Test: 0.40\n",
      "RMSE Train: 0.44       R2 Train: 1.00\n",
      "Staur_2019_Simps\n",
      "RandomForestRegressor(max_depth=250, min_samples_split=5, n_estimators=1000,\n",
      "                      n_jobs=-1, random_state=0)\n",
      "Pipeline(steps=[('standardscaler', StandardScaler()),\n",
      "                ('randomforestregressor',\n",
      "                 RandomForestRegressor(max_depth=250, min_samples_split=5,\n",
      "                                       n_estimators=1000, n_jobs=-1,\n",
      "                                       random_state=0))])\n",
      " RMSE Test: 6.04        R2 Test: 0.49\n",
      "RMSE Train: 2.50       R2 Train: 0.91\n",
      "Staur_2019_Simps\n",
      "RandomForestRegressor(max_depth=100, min_samples_split=400, n_estimators=50,\n",
      "                      n_jobs=-1, random_state=0)\n",
      "Pipeline(steps=[('standardscaler', StandardScaler()),\n",
      "                ('randomforestregressor',\n",
      "                 RandomForestRegressor(max_depth=100, min_samples_split=400,\n",
      "                                       n_estimators=50, n_jobs=-1,\n",
      "                                       random_state=0))])\n",
      " RMSE Test: 8.51        R2 Test: -0.01\n",
      "RMSE Train: 8.50       R2 Train: -0.00\n",
      "Staur_2019_Simps\n",
      "Lasso(alpha=4.5)\n",
      "Pipeline(steps=[('standardscaler', StandardScaler()),\n",
      "                ('lasso', Lasso(alpha=4.5))])\n",
      " RMSE Test: 8.13        R2 Test: 0.08\n",
      "RMSE Train: 8.06       R2 Train: 0.10\n"
     ]
    }
   ],
   "source": [
    "# Iterating through all possible permutations of the fields dataset\n",
    "for df in all_df_now:\n",
    "    df_ = locals()[df].copy()\n",
    "\n",
    "    X = df_[training_features]\n",
    "    y = df_[target_features].values.ravel()\n",
    "    groups = df_[group_feature].values.ravel()\n",
    "\n",
    "    gkf = list(GroupKFold(n_splits=3).split(X, y, groups))\n",
    "    print(df)\n",
    "    #     Getting scores using cross_val_score\n",
    "    for model in models:\n",
    "        print(df)\n",
    "        importances, RMSE_test_temp, RMSE_train_temp, R2_test_temp, R2_train_temp, GKF_CV_temp = training_gkf_std(\n",
    "            model, X, y, gkf)\n",
    "        if importances is not None:\n",
    "            plot_feat_imp(importances,\n",
    "                          model,\n",
    "                          training_features,\n",
    "                          threshold=threshold_all)\n",
    "\n",
    "        save_results(model=model,\n",
    "                     agg_method=agg_method,\n",
    "                     train_field=df,\n",
    "                     test_field=df,\n",
    "                     training_features=training_features,\n",
    "                     importances=importances,\n",
    "                     RMSE_test=RMSE_test_temp,\n",
    "                     RMSE_train=RMSE_train_temp,\n",
    "                     R2_test=R2_test_temp,\n",
    "                     R2_train=R2_train_temp,\n",
    "                     GKF_CV=GKF_CV_temp)\n",
    "    del (df, df_, X, y, groups, gkf)\n",
    "    del (importances, RMSE_test_temp, RMSE_train_temp, R2_test_temp, R2_train_temp, GKF_CV_temp, model)"
   ]
  },
  {
   "cell_type": "markdown",
   "id": "amended-share",
   "metadata": {},
   "source": [
    "### One against all - one2one"
   ]
  },
  {
   "cell_type": "code",
   "execution_count": 47,
   "id": "circular-reward",
   "metadata": {
    "ExecuteTime": {
     "end_time": "2021-11-01T11:56:40.477598Z",
     "start_time": "2021-11-01T11:53:05.967388Z"
    },
    "scrolled": true
   },
   "outputs": [],
   "source": [
    "# # Iterating through all possible permutations of the fields dataset\n",
    "\n",
    "# for i in itertools.permutations(all_df_now, 2):\n",
    "#     train_df = locals()[i[0]].copy()\n",
    "#     test_df = locals()[i[1]].copy()\n",
    "    \n",
    "    \n",
    "#     X_train = train_df[training_features]\n",
    "#     y_train = train_df[target_features].values.ravel()\n",
    "#     X_test = test_df[training_features]\n",
    "#     y_test = test_df[target_features].values.ravel()\n",
    "    \n",
    "#     # Getting scores using cross_val_score\n",
    "#     for model in models:\n",
    "#         print('Training: ', i[0],'Test: ', i[1], ' : ', model)\n",
    "#         importances, RMSE_test_temp, RMSE_train_temp, R2_test_temp, R2_train_temp, GKF_CV_temp = training_regr(\n",
    "#             model, X_train, y_train, X_test, y_test)\n",
    "#         if importances is not None:\n",
    "#             plot_feat_imp(importances, model, training_features, threshold=threshold_all, sort_feat=True)\n",
    "            \n",
    "#         save_results(model=model,\n",
    "#              agg_method=agg_method,\n",
    "#              train_field=i[0],\n",
    "#              test_field=i[1],\n",
    "#              training_features=training_features,\n",
    "#              importances=importances,\n",
    "#              RMSE_test=RMSE_test_temp,\n",
    "#              RMSE_train=RMSE_train_temp,\n",
    "#              R2_test=R2_test_temp,\n",
    "#              R2_train=R2_train_temp,\n",
    "#              GKF_CV=GKF_CV_temp)\n",
    "#     del (i, train_df, test_df, X_train, y_train, X_test, y_test)\n",
    "#     del (importances, RMSE_test_temp, RMSE_train_temp, R2_test_temp, R2_train_temp, GKF_CV_temp, model)"
   ]
  },
  {
   "cell_type": "markdown",
   "id": "approximate-essay",
   "metadata": {},
   "source": [
    "### One aganist all together"
   ]
  },
  {
   "cell_type": "code",
   "execution_count": 48,
   "id": "victorian-federal",
   "metadata": {
    "ExecuteTime": {
     "end_time": "2021-11-01T12:01:18.807981Z",
     "start_time": "2021-11-01T12:01:17.889651Z"
    },
    "scrolled": true
   },
   "outputs": [
    {
     "name": "stdout",
     "output_type": "stream",
     "text": [
      "Masbasis_2019_Simps ['Masbasis_2020_Simps', 'Staur_2019_Simps']\n",
      "Training: All   Test:  Masbasis_2019_Simps  :  RandomForestRegressor(max_depth=20)\n",
      "RandomForestRegressor(max_depth=20)\n",
      "Pipeline(steps=[('standardscaler', StandardScaler()),\n",
      "                ('randomforestregressor', RandomForestRegressor(max_depth=20))])\n",
      " RMSE Test: 15.416560756873537        R2 Test: -58.27555503225143\n",
      "RMSE Train: 1.5346695748953842       R2 Train: 0.9727501597257616\n",
      "Training: All   Test:  Masbasis_2019_Simps  :  Lasso(alpha=0.9, max_iter=150)\n",
      "Lasso(alpha=0.9, max_iter=150)\n",
      "Pipeline(steps=[('standardscaler', StandardScaler()),\n",
      "                ('lasso', Lasso(alpha=0.9, max_iter=150))])\n",
      " RMSE Test: 21.787897402779006        R2 Test: -117.39443100968519\n",
      "RMSE Train: 5.133908816043703       R2 Train: 0.6950486949920132\n",
      "Training: All   Test:  Masbasis_2019_Simps  :  GradientBoostingRegressor(learning_rate=0.4, random_state=500, subsample=0.8)\n",
      "GradientBoostingRegressor(learning_rate=0.4, random_state=500, subsample=0.8)\n",
      "Pipeline(steps=[('standardscaler', StandardScaler()),\n",
      "                ('gradientboostingregressor',\n",
      "                 GradientBoostingRegressor(learning_rate=0.4, random_state=500,\n",
      "                                           subsample=0.8))])\n",
      " RMSE Test: 18.143114430940095        R2 Test: -81.0964373739025\n",
      "RMSE Train: 1.2969179583547477       R2 Train: 0.9805392666318304\n",
      "Training: All   Test:  Masbasis_2019_Simps  :  RandomForestRegressor(max_depth=250, min_samples_split=5, n_estimators=1000,\n",
      "                      n_jobs=-1, random_state=0)\n",
      "RandomForestRegressor(max_depth=250, min_samples_split=5, n_estimators=1000,\n",
      "                      n_jobs=-1, random_state=0)\n",
      "Pipeline(steps=[('standardscaler', StandardScaler()),\n",
      "                ('randomforestregressor',\n",
      "                 RandomForestRegressor(max_depth=250, min_samples_split=5,\n",
      "                                       n_estimators=1000, n_jobs=-1,\n",
      "                                       random_state=0))])\n",
      " RMSE Test: 15.088143910600026        R2 Test: -55.77697719945323\n",
      "RMSE Train: 1.755606037718881       R2 Train: 0.964339426274928\n",
      "Training: All   Test:  Masbasis_2019_Simps  :  RandomForestRegressor(max_depth=100, min_samples_split=400, n_estimators=50,\n",
      "                      n_jobs=-1, random_state=0)\n",
      "RandomForestRegressor(max_depth=100, min_samples_split=400, n_estimators=50,\n",
      "                      n_jobs=-1, random_state=0)\n",
      "Pipeline(steps=[('standardscaler', StandardScaler()),\n",
      "                ('randomforestregressor',\n",
      "                 RandomForestRegressor(max_depth=100, min_samples_split=400,\n",
      "                                       n_estimators=50, n_jobs=-1,\n",
      "                                       random_state=0))])\n",
      " RMSE Test: 16.348677862919132        R2 Test: -65.66009136865735\n",
      "RMSE Train: 6.493333906335603       R2 Train: 0.51216869444474\n",
      "Training: All   Test:  Masbasis_2019_Simps  :  Lasso(alpha=4.5)\n",
      "Lasso(alpha=4.5)\n",
      "Pipeline(steps=[('standardscaler', StandardScaler()),\n",
      "                ('lasso', Lasso(alpha=4.5))])\n",
      " RMSE Test: 17.07191996860936        R2 Test: -71.68844260120585\n",
      "RMSE Train: 7.900208205944883       R2 Train: 0.277876848864098\n",
      "Masbasis_2020_Simps ['Masbasis_2019_Simps', 'Staur_2019_Simps']\n",
      "Training: All   Test:  Masbasis_2020_Simps  :  RandomForestRegressor(max_depth=20)\n",
      "RandomForestRegressor(max_depth=20)\n",
      "Pipeline(steps=[('standardscaler', StandardScaler()),\n",
      "                ('randomforestregressor', RandomForestRegressor(max_depth=20))])\n",
      " RMSE Test: 17.796596924623717        R2 Test: -23.221405289196692\n",
      "RMSE Train: 1.5744143066273026       R2 Train: 0.9521406563416471\n",
      "Training: All   Test:  Masbasis_2020_Simps  :  Lasso(alpha=0.9, max_iter=150)\n",
      "Lasso(alpha=0.9, max_iter=150)\n",
      "Pipeline(steps=[('standardscaler', StandardScaler()),\n",
      "                ('lasso', Lasso(alpha=0.9, max_iter=150))])\n",
      " RMSE Test: 19.166802451303685        R2 Test: -27.094722163141164\n",
      "RMSE Train: 5.341568216501114       R2 Train: 0.44910828424661886\n",
      "Training: All   Test:  Masbasis_2020_Simps  :  GradientBoostingRegressor(learning_rate=0.4, random_state=500, subsample=0.8)\n",
      "GradientBoostingRegressor(learning_rate=0.4, random_state=500, subsample=0.8)\n",
      "Pipeline(steps=[('standardscaler', StandardScaler()),\n",
      "                ('gradientboostingregressor',\n",
      "                 GradientBoostingRegressor(learning_rate=0.4, random_state=500,\n",
      "                                           subsample=0.8))])\n",
      " RMSE Test: 21.175213363284982        R2 Test: -33.29106695499989\n",
      "RMSE Train: 1.3338040763823473       R2 Train: 0.9656511054966477\n",
      "Training: All   Test:  Masbasis_2020_Simps  :  RandomForestRegressor(max_depth=250, min_samples_split=5, n_estimators=1000,\n",
      "                      n_jobs=-1, random_state=0)\n",
      "RandomForestRegressor(max_depth=250, min_samples_split=5, n_estimators=1000,\n",
      "                      n_jobs=-1, random_state=0)\n",
      "Pipeline(steps=[('standardscaler', StandardScaler()),\n",
      "                ('randomforestregressor',\n",
      "                 RandomForestRegressor(max_depth=250, min_samples_split=5,\n",
      "                                       n_estimators=1000, n_jobs=-1,\n",
      "                                       random_state=0))])\n",
      " RMSE Test: 17.65766486470546        R2 Test: -22.844704673244202\n",
      "RMSE Train: 1.7507068924544544       R2 Train: 0.9408226427510008\n",
      "Training: All   Test:  Masbasis_2020_Simps  :  RandomForestRegressor(max_depth=100, min_samples_split=400, n_estimators=50,\n",
      "                      n_jobs=-1, random_state=0)\n",
      "RandomForestRegressor(max_depth=100, min_samples_split=400, n_estimators=50,\n",
      "                      n_jobs=-1, random_state=0)\n",
      "Pipeline(steps=[('standardscaler', StandardScaler()),\n",
      "                ('randomforestregressor',\n",
      "                 RandomForestRegressor(max_depth=100, min_samples_split=400,\n",
      "                                       n_estimators=50, n_jobs=-1,\n",
      "                                       random_state=0))])\n",
      " RMSE Test: 18.148725288245075        R2 Test: -24.189390668580796\n",
      "RMSE Train: 6.17691823303748       R2 Train: 0.263331010809994\n",
      "Training: All   Test:  Masbasis_2020_Simps  :  Lasso(alpha=4.5)\n",
      "Lasso(alpha=4.5)\n",
      "Pipeline(steps=[('standardscaler', StandardScaler()),\n",
      "                ('lasso', Lasso(alpha=4.5))])\n",
      " RMSE Test: 17.382236735162312        R2 Test: -22.106636328866564\n",
      "RMSE Train: 7.196737436443633       R2 Train: 0.0\n",
      "Staur_2019_Simps ['Masbasis_2019_Simps', 'Masbasis_2020_Simps']\n",
      "Training: All   Test:  Staur_2019_Simps  :  RandomForestRegressor(max_depth=20)\n",
      "RandomForestRegressor(max_depth=20)\n",
      "Pipeline(steps=[('standardscaler', StandardScaler()),\n",
      "                ('randomforestregressor', RandomForestRegressor(max_depth=20))])\n",
      " RMSE Test: 8.291455391362502        R2 Test: 0.04908978652102525\n",
      "RMSE Train: 0.5188798027346745       R2 Train: 0.9976722058860048\n",
      "Training: All   Test:  Staur_2019_Simps  :  Lasso(alpha=0.9, max_iter=150)\n",
      "Lasso(alpha=0.9, max_iter=150)\n",
      "Pipeline(steps=[('standardscaler', StandardScaler()),\n",
      "                ('lasso', Lasso(alpha=0.9, max_iter=150))])\n",
      " RMSE Test: 132.32061795551195        R2 Test: -241.1770673768079\n",
      "RMSE Train: 2.3371965780311066       R2 Train: 0.9527717866123043\n",
      "Training: All   Test:  Staur_2019_Simps  :  GradientBoostingRegressor(learning_rate=0.4, random_state=500, subsample=0.8)\n",
      "GradientBoostingRegressor(learning_rate=0.4, random_state=500, subsample=0.8)\n",
      "Pipeline(steps=[('standardscaler', StandardScaler()),\n",
      "                ('gradientboostingregressor',\n",
      "                 GradientBoostingRegressor(learning_rate=0.4, random_state=500,\n",
      "                                           subsample=0.8))])\n",
      " RMSE Test: 8.842254628222713        R2 Test: -0.08144393418595453\n",
      "RMSE Train: 0.45275157193093757       R2 Train: 0.9982277255890873\n",
      "Training: All   Test:  Staur_2019_Simps  :  RandomForestRegressor(max_depth=250, min_samples_split=5, n_estimators=1000,\n",
      "                      n_jobs=-1, random_state=0)\n",
      "RandomForestRegressor(max_depth=250, min_samples_split=5, n_estimators=1000,\n",
      "                      n_jobs=-1, random_state=0)\n",
      "Pipeline(steps=[('standardscaler', StandardScaler()),\n",
      "                ('randomforestregressor',\n",
      "                 RandomForestRegressor(max_depth=250, min_samples_split=5,\n",
      "                                       n_estimators=1000, n_jobs=-1,\n",
      "                                       random_state=0))])\n",
      " RMSE Test: 8.405198316491225        R2 Test: 0.02282149618969942\n",
      "RMSE Train: 0.5813485169072661       R2 Train: 0.9970779733604647\n",
      "Training: All   Test:  Staur_2019_Simps  :  RandomForestRegressor(max_depth=100, min_samples_split=400, n_estimators=50,\n",
      "                      n_jobs=-1, random_state=0)\n",
      "RandomForestRegressor(max_depth=100, min_samples_split=400, n_estimators=50,\n",
      "                      n_jobs=-1, random_state=0)\n",
      "Pipeline(steps=[('standardscaler', StandardScaler()),\n",
      "                ('randomforestregressor',\n",
      "                 RandomForestRegressor(max_depth=100, min_samples_split=400,\n",
      "                                       n_estimators=50, n_jobs=-1,\n",
      "                                       random_state=0))])\n",
      " RMSE Test: 9.00241331936484        R2 Test: -0.12097485739419955\n",
      "RMSE Train: 2.9365122842705396       R2 Train: 0.9254453600508002\n",
      "Training: All   Test:  Staur_2019_Simps  :  Lasso(alpha=4.5)\n",
      "Lasso(alpha=4.5)\n",
      "Pipeline(steps=[('standardscaler', StandardScaler()),\n",
      "                ('lasso', Lasso(alpha=4.5))])\n",
      " RMSE Test: 83.38250617984866        R2 Test: -95.16739758497168\n",
      "RMSE Train: 5.3733517610143515       R2 Train: 0.7503672404957266\n"
     ]
    }
   ],
   "source": [
    "# Iterating through all possible permutations of the fields dataset\n",
    "for df in all_df_now:\n",
    "    if 'Robot' not in df:\n",
    "        temp_list = [\n",
    "            x for x in all_df_now if not 'Robot' in x if not df in x\n",
    "        ]\n",
    "        print(df, temp_list)\n",
    "\n",
    "        # Making list of df for conct before training\n",
    "        # This is different form list of srtings, as this is a list of actual dataframes\n",
    "        train_df_list = []\n",
    "        for x in temp_list:\n",
    "            train_df_list.append(locals()[x])\n",
    "\n",
    "        train_df = pd.concat(train_df_list)\n",
    "        test_df = locals()[df].copy()\n",
    "\n",
    "        X_train = train_df[training_features]\n",
    "        y_train = train_df[target_features].values.ravel()\n",
    "        X_test = test_df[training_features]\n",
    "        y_test = test_df[target_features].values.ravel()\n",
    "\n",
    "        # Getting scores using cross_val_score\n",
    "        for model in models:\n",
    "            print('Training: All  ', 'Test: ', df, ' : ', model)\n",
    "            importances, RMSE_test_temp, RMSE_train_temp, R2_test_temp, R2_train_temp, GKF_CV_temp = training_regr(\n",
    "                model, X_train, y_train, X_test, y_test)\n",
    "#             if importances is not None:\n",
    "#                 plot_feat_imp(importances,\n",
    "#                               model,\n",
    "#                               training_features,\n",
    "#                               threshold=threshold_all,\n",
    "#                               sort_feat=sorted_all)\n",
    "            save_results(model=model,\n",
    "                         agg_method=agg_method,\n",
    "                         train_field=temp_list,\n",
    "                         test_field=df,\n",
    "                         training_features=training_features,\n",
    "                         importances=importances,\n",
    "                         RMSE_test=RMSE_test_temp,\n",
    "                         RMSE_train=RMSE_train_temp,\n",
    "                         R2_test=R2_test_temp,\n",
    "                         R2_train=R2_train_temp,\n",
    "                         GKF_CV=GKF_CV_temp)\n",
    "        del (df, temp_list, train_df_list, train_df, test_df, X_train, y_train, X_test, y_test)\n",
    "        del (importances, RMSE_test_temp, RMSE_train_temp, R2_test_temp, R2_train_temp, GKF_CV_temp, model)"
   ]
  },
  {
   "cell_type": "markdown",
   "id": "advanced-exception",
   "metadata": {},
   "source": [
    "### Vollebekk ALL vs Staur ALL"
   ]
  },
  {
   "cell_type": "markdown",
   "id": "contained-fancy",
   "metadata": {},
   "source": [
    "#### Training Staur, Test Vollebekk"
   ]
  },
  {
   "cell_type": "code",
   "execution_count": 49,
   "id": "sustainable-stock",
   "metadata": {
    "ExecuteTime": {
     "end_time": "2021-11-01T12:01:24.993488Z",
     "start_time": "2021-11-01T12:01:24.901733Z"
    }
   },
   "outputs": [
    {
     "name": "stdout",
     "output_type": "stream",
     "text": [
      "Training data: ['Staur_2019_Simps']\n",
      "Test data: ['Masbasis_2019_Simps', 'Masbasis_2020_Simps']\n",
      "RandomForestRegressor(max_depth=20)\n",
      "Pipeline(steps=[('standardscaler', StandardScaler()),\n",
      "                ('randomforestregressor', RandomForestRegressor(max_depth=20))])\n",
      " RMSE Test: 12.426280317911278        R2 Test: -0.33503707353618695\n",
      "RMSE Train: 2.1460098856285885       R2 Train: 0.9362997097179242\n",
      "Lasso(alpha=0.9, max_iter=150)\n",
      "Pipeline(steps=[('standardscaler', StandardScaler()),\n",
      "                ('lasso', Lasso(alpha=0.9, max_iter=150))])\n",
      " RMSE Test: 11.37257382714576        R2 Test: -0.11822336602777916\n",
      "RMSE Train: 6.396654905386828       R2 Train: 0.4340425020057903\n",
      "GradientBoostingRegressor(learning_rate=0.4, random_state=500, subsample=0.8)\n",
      "Pipeline(steps=[('standardscaler', StandardScaler()),\n",
      "                ('gradientboostingregressor',\n",
      "                 GradientBoostingRegressor(learning_rate=0.4, random_state=500,\n",
      "                                           subsample=0.8))])\n",
      " RMSE Test: 13.983772260067875        R2 Test: -0.6906733934389535\n",
      "RMSE Train: 0.805519732978928       R2 Train: 0.9910250850286207\n",
      "RandomForestRegressor(max_depth=250, min_samples_split=5, n_estimators=1000,\n",
      "                      n_jobs=-1, random_state=0)\n",
      "Pipeline(steps=[('standardscaler', StandardScaler()),\n",
      "                ('randomforestregressor',\n",
      "                 RandomForestRegressor(max_depth=250, min_samples_split=5,\n",
      "                                       n_estimators=1000, n_jobs=-1,\n",
      "                                       random_state=0))])\n",
      " RMSE Test: 12.371003868436105        R2 Test: -0.32318606551424955\n",
      "RMSE Train: 2.4304715255002933       R2 Train: 0.9182930404862644\n",
      "RandomForestRegressor(max_depth=100, min_samples_split=400, n_estimators=50,\n",
      "                      n_jobs=-1, random_state=0)\n",
      "Pipeline(steps=[('standardscaler', StandardScaler()),\n",
      "                ('randomforestregressor',\n",
      "                 RandomForestRegressor(max_depth=100, min_samples_split=400,\n",
      "                                       n_estimators=50, n_jobs=-1,\n",
      "                                       random_state=0))])\n",
      " RMSE Test: 11.182147542487682        R2 Test: -0.08108905302042424\n",
      "RMSE Train: 8.503172829549682       R2 Train: -9.207919613163362e-05\n",
      "Lasso(alpha=4.5)\n",
      "Pipeline(steps=[('standardscaler', StandardScaler()),\n",
      "                ('lasso', Lasso(alpha=4.5))])\n",
      " RMSE Test: 11.084510903318119        R2 Test: -0.06229247020565776\n",
      "RMSE Train: 8.069579598292755       R2 Train: 0.09930076343183103\n"
     ]
    }
   ],
   "source": [
    "train_str_list, test_str_list = list_test_train_df(all_df_now,\n",
    "                                                   train_field = 'Staur', \n",
    "                                                   test_field = 'Vollebekk', \n",
    "                                                   year = 'all')\n",
    "\n",
    "train_df_list = []\n",
    "test_df_list = []\n",
    "for x in train_str_list:\n",
    "    train_df_list.append(locals()[x])\n",
    "for x in test_str_list:\n",
    "    test_df_list.append(locals()[x])\n",
    "\n",
    "train_df = pd.concat(train_df_list)\n",
    "test_df = pd.concat(test_df_list)\n",
    "\n",
    "X_train = train_df[training_features]\n",
    "y_train = train_df[target_features].values.ravel()\n",
    "X_test = test_df[training_features]\n",
    "y_test = test_df[target_features].values.ravel()\n",
    "\n",
    "# Getting scores using cross_val_score\n",
    "for model in models:\n",
    "    importances, RMSE_test_temp, RMSE_train_temp, R2_test_temp, R2_train_temp, GKF_CV_temp = training_regr(\n",
    "        model, X_train, y_train, X_test, y_test)\n",
    "    if importances is not None:\n",
    "        plot_feat_imp(importances,\n",
    "                      model,\n",
    "                      training_features,\n",
    "                      threshold=threshold_all,\n",
    "                      sort_feat=sorted_all)\n",
    "    save_results(model=model,\n",
    "                 agg_method=agg_method,\n",
    "                 train_field=train_str_list,\n",
    "                 test_field=test_str_list,\n",
    "                 training_features=training_features,\n",
    "                 importances=importances,\n",
    "                 RMSE_test=RMSE_test_temp,\n",
    "                 RMSE_train=RMSE_train_temp,\n",
    "                 R2_test=R2_test_temp,\n",
    "                 R2_train=R2_train_temp,\n",
    "                 GKF_CV=GKF_CV_temp)\n",
    "del (train_str_list, test_str_list, train_df_list, test_df_list, train_df, test_df, X_train, y_train, X_test, y_test)\n",
    "del (importances, RMSE_test_temp, RMSE_train_temp, R2_test_temp, R2_train_temp, GKF_CV_temp, model)"
   ]
  },
  {
   "cell_type": "markdown",
   "id": "spanish-recognition",
   "metadata": {},
   "source": [
    "#### Training Vollebekk, Test Staur"
   ]
  },
  {
   "cell_type": "code",
   "execution_count": 50,
   "id": "suburban-telephone",
   "metadata": {
    "ExecuteTime": {
     "end_time": "2021-11-01T12:01:30.915386Z",
     "start_time": "2021-11-01T12:01:30.714864Z"
    },
    "scrolled": false
   },
   "outputs": [
    {
     "name": "stdout",
     "output_type": "stream",
     "text": [
      "Training data: ['Masbasis_2019_Simps', 'Masbasis_2020_Simps']\n",
      "Test data: ['Staur_2019_Simps']\n",
      "RandomForestRegressor(max_depth=20)\n",
      "Pipeline(steps=[('standardscaler', StandardScaler()),\n",
      "                ('randomforestregressor', RandomForestRegressor(max_depth=20))])\n",
      " RMSE Test: 8.170336335386281        R2 Test: 0.0766680905416175\n",
      "RMSE Train: 0.513291521502656       R2 Train: 0.9977220760821792\n",
      "Lasso(alpha=0.9, max_iter=150)\n",
      "Pipeline(steps=[('standardscaler', StandardScaler()),\n",
      "                ('lasso', Lasso(alpha=0.9, max_iter=150))])\n",
      " RMSE Test: 132.32061795551195        R2 Test: -241.1770673768079\n",
      "RMSE Train: 2.3371965780311066       R2 Train: 0.9527717866123043\n",
      "GradientBoostingRegressor(learning_rate=0.4, random_state=500, subsample=0.8)\n",
      "Pipeline(steps=[('standardscaler', StandardScaler()),\n",
      "                ('gradientboostingregressor',\n",
      "                 GradientBoostingRegressor(learning_rate=0.4, random_state=500,\n",
      "                                           subsample=0.8))])\n",
      " RMSE Test: 8.842254628222713        R2 Test: -0.08144393418595453\n",
      "RMSE Train: 0.45275157193093757       R2 Train: 0.9982277255890873\n",
      "RandomForestRegressor(max_depth=250, min_samples_split=5, n_estimators=1000,\n",
      "                      n_jobs=-1, random_state=0)\n",
      "Pipeline(steps=[('standardscaler', StandardScaler()),\n",
      "                ('randomforestregressor',\n",
      "                 RandomForestRegressor(max_depth=250, min_samples_split=5,\n",
      "                                       n_estimators=1000, n_jobs=-1,\n",
      "                                       random_state=0))])\n",
      " RMSE Test: 8.405198316491225        R2 Test: 0.02282149618969942\n",
      "RMSE Train: 0.5813485169072661       R2 Train: 0.9970779733604647\n",
      "RandomForestRegressor(max_depth=100, min_samples_split=400, n_estimators=50,\n",
      "                      n_jobs=-1, random_state=0)\n",
      "Pipeline(steps=[('standardscaler', StandardScaler()),\n",
      "                ('randomforestregressor',\n",
      "                 RandomForestRegressor(max_depth=100, min_samples_split=400,\n",
      "                                       n_estimators=50, n_jobs=-1,\n",
      "                                       random_state=0))])\n",
      " RMSE Test: 9.002413319364845        R2 Test: -0.12097485739420089\n",
      "RMSE Train: 2.9365122842705396       R2 Train: 0.9254453600508002\n",
      "Lasso(alpha=4.5)\n",
      "Pipeline(steps=[('standardscaler', StandardScaler()),\n",
      "                ('lasso', Lasso(alpha=4.5))])\n",
      " RMSE Test: 83.38250617984866        R2 Test: -95.16739758497168\n",
      "RMSE Train: 5.3733517610143515       R2 Train: 0.7503672404957266\n"
     ]
    }
   ],
   "source": [
    "train_str_list, test_str_list = list_test_train_df(all_df_now,\n",
    "                                                   train_field = 'Vollebekk', \n",
    "                                                   test_field = 'Staur', \n",
    "                                                   year = 'all')\n",
    "\n",
    "train_df_list = []\n",
    "test_df_list = []\n",
    "for x in train_str_list:\n",
    "    train_df_list.append(locals()[x])\n",
    "for x in test_str_list:\n",
    "    test_df_list.append(locals()[x])\n",
    "\n",
    "train_df = pd.concat(train_df_list)\n",
    "test_df = pd.concat(test_df_list)\n",
    "\n",
    "X_train = train_df[training_features]\n",
    "y_train = train_df[target_features].values.ravel()\n",
    "X_test = test_df[training_features]\n",
    "y_test = test_df[target_features].values.ravel()\n",
    "\n",
    "# Getting scores using cross_val_score\n",
    "for model in models:\n",
    "    importances, RMSE_test_temp, RMSE_train_temp, R2_test_temp, R2_train_temp, GKF_CV_temp = training_regr(\n",
    "        model, X_train, y_train, X_test, y_test)\n",
    "    if importances is not None:\n",
    "        plot_feat_imp(importances,\n",
    "                      model,\n",
    "                      training_features,\n",
    "                      threshold=threshold_all,\n",
    "                      sort_feat=sorted_all)\n",
    "    save_results(model=model,\n",
    "                 agg_method=agg_method,\n",
    "                 train_field=train_str_list,\n",
    "                 test_field=test_str_list,\n",
    "                 training_features=training_features,\n",
    "                 importances=importances,\n",
    "                 RMSE_test=RMSE_test_temp,\n",
    "                 RMSE_train=RMSE_train_temp,\n",
    "                 R2_test=R2_test_temp,\n",
    "                 R2_train=R2_train_temp,\n",
    "                 GKF_CV=GKF_CV_temp)\n",
    "del (train_str_list, test_str_list, train_df_list, test_df_list, train_df, test_df, X_train, y_train, X_test, y_test)\n",
    "del (importances, RMSE_test_temp, RMSE_train_temp, R2_test_temp, R2_train_temp, GKF_CV_temp, model)"
   ]
  },
  {
   "cell_type": "markdown",
   "id": "asian-tourist",
   "metadata": {},
   "source": [
    "### 2020 Vollebekk vs 2020 Staur"
   ]
  },
  {
   "cell_type": "markdown",
   "id": "respiratory-index",
   "metadata": {},
   "source": [
    "#### Training Staur, Test Vollebekk"
   ]
  },
  {
   "cell_type": "code",
   "execution_count": 51,
   "id": "imported-import",
   "metadata": {
    "ExecuteTime": {
     "end_time": "2021-11-01T12:01:30.991183Z",
     "start_time": "2021-11-01T12:01:30.917381Z"
    },
    "run_control": {
     "marked": true
    },
    "scrolled": false
   },
   "outputs": [
    {
     "name": "stdout",
     "output_type": "stream",
     "text": [
      "Training data: []\n",
      "Test data: ['Masbasis_2020_Simps']\n"
     ]
    },
    {
     "ename": "ValueError",
     "evalue": "No objects to concatenate",
     "output_type": "error",
     "traceback": [
      "\u001b[1;31m---------------------------------------------------------------------------\u001b[0m",
      "\u001b[1;31mValueError\u001b[0m                                Traceback (most recent call last)",
      "\u001b[1;32m<ipython-input-51-fa52c6fe2d62>\u001b[0m in \u001b[0;36m<module>\u001b[1;34m\u001b[0m\n\u001b[0;32m     11\u001b[0m     \u001b[0mtest_df_list\u001b[0m\u001b[1;33m.\u001b[0m\u001b[0mappend\u001b[0m\u001b[1;33m(\u001b[0m\u001b[0mlocals\u001b[0m\u001b[1;33m(\u001b[0m\u001b[1;33m)\u001b[0m\u001b[1;33m[\u001b[0m\u001b[0mx\u001b[0m\u001b[1;33m]\u001b[0m\u001b[1;33m)\u001b[0m\u001b[1;33m\u001b[0m\u001b[1;33m\u001b[0m\u001b[0m\n\u001b[0;32m     12\u001b[0m \u001b[1;33m\u001b[0m\u001b[0m\n\u001b[1;32m---> 13\u001b[1;33m \u001b[0mtrain_df\u001b[0m \u001b[1;33m=\u001b[0m \u001b[0mpd\u001b[0m\u001b[1;33m.\u001b[0m\u001b[0mconcat\u001b[0m\u001b[1;33m(\u001b[0m\u001b[0mtrain_df_list\u001b[0m\u001b[1;33m)\u001b[0m\u001b[1;33m\u001b[0m\u001b[1;33m\u001b[0m\u001b[0m\n\u001b[0m\u001b[0;32m     14\u001b[0m \u001b[0mtest_df\u001b[0m \u001b[1;33m=\u001b[0m \u001b[0mpd\u001b[0m\u001b[1;33m.\u001b[0m\u001b[0mconcat\u001b[0m\u001b[1;33m(\u001b[0m\u001b[0mtest_df_list\u001b[0m\u001b[1;33m)\u001b[0m\u001b[1;33m\u001b[0m\u001b[1;33m\u001b[0m\u001b[0m\n\u001b[0;32m     15\u001b[0m \u001b[1;33m\u001b[0m\u001b[0m\n",
      "\u001b[1;32mC:\\ProgramData\\Anaconda3\\lib\\site-packages\\pandas\\core\\reshape\\concat.py\u001b[0m in \u001b[0;36mconcat\u001b[1;34m(objs, axis, join, ignore_index, keys, levels, names, verify_integrity, sort, copy)\u001b[0m\n\u001b[0;32m    283\u001b[0m     \u001b[0mValueError\u001b[0m\u001b[1;33m:\u001b[0m \u001b[0mIndexes\u001b[0m \u001b[0mhave\u001b[0m \u001b[0moverlapping\u001b[0m \u001b[0mvalues\u001b[0m\u001b[1;33m:\u001b[0m \u001b[1;33m[\u001b[0m\u001b[1;34m'a'\u001b[0m\u001b[1;33m]\u001b[0m\u001b[1;33m\u001b[0m\u001b[1;33m\u001b[0m\u001b[0m\n\u001b[0;32m    284\u001b[0m     \"\"\"\n\u001b[1;32m--> 285\u001b[1;33m     op = _Concatenator(\n\u001b[0m\u001b[0;32m    286\u001b[0m         \u001b[0mobjs\u001b[0m\u001b[1;33m,\u001b[0m\u001b[1;33m\u001b[0m\u001b[1;33m\u001b[0m\u001b[0m\n\u001b[0;32m    287\u001b[0m         \u001b[0maxis\u001b[0m\u001b[1;33m=\u001b[0m\u001b[0maxis\u001b[0m\u001b[1;33m,\u001b[0m\u001b[1;33m\u001b[0m\u001b[1;33m\u001b[0m\u001b[0m\n",
      "\u001b[1;32mC:\\ProgramData\\Anaconda3\\lib\\site-packages\\pandas\\core\\reshape\\concat.py\u001b[0m in \u001b[0;36m__init__\u001b[1;34m(self, objs, axis, join, keys, levels, names, ignore_index, verify_integrity, copy, sort)\u001b[0m\n\u001b[0;32m    340\u001b[0m \u001b[1;33m\u001b[0m\u001b[0m\n\u001b[0;32m    341\u001b[0m         \u001b[1;32mif\u001b[0m \u001b[0mlen\u001b[0m\u001b[1;33m(\u001b[0m\u001b[0mobjs\u001b[0m\u001b[1;33m)\u001b[0m \u001b[1;33m==\u001b[0m \u001b[1;36m0\u001b[0m\u001b[1;33m:\u001b[0m\u001b[1;33m\u001b[0m\u001b[1;33m\u001b[0m\u001b[0m\n\u001b[1;32m--> 342\u001b[1;33m             \u001b[1;32mraise\u001b[0m \u001b[0mValueError\u001b[0m\u001b[1;33m(\u001b[0m\u001b[1;34m\"No objects to concatenate\"\u001b[0m\u001b[1;33m)\u001b[0m\u001b[1;33m\u001b[0m\u001b[1;33m\u001b[0m\u001b[0m\n\u001b[0m\u001b[0;32m    343\u001b[0m \u001b[1;33m\u001b[0m\u001b[0m\n\u001b[0;32m    344\u001b[0m         \u001b[1;32mif\u001b[0m \u001b[0mkeys\u001b[0m \u001b[1;32mis\u001b[0m \u001b[1;32mNone\u001b[0m\u001b[1;33m:\u001b[0m\u001b[1;33m\u001b[0m\u001b[1;33m\u001b[0m\u001b[0m\n",
      "\u001b[1;31mValueError\u001b[0m: No objects to concatenate"
     ]
    }
   ],
   "source": [
    "train_str_list, test_str_list = list_test_train_df(all_df_now,\n",
    "                                                   train_field = 'Staur', \n",
    "                                                   test_field = 'Vollebekk', \n",
    "                                                   year = '2020')\n",
    "\n",
    "train_df_list = []\n",
    "test_df_list = []\n",
    "for x in train_str_list:\n",
    "    train_df_list.append(locals()[x])\n",
    "for x in test_str_list:\n",
    "    test_df_list.append(locals()[x])\n",
    "\n",
    "train_df = pd.concat(train_df_list)\n",
    "test_df = pd.concat(test_df_list)\n",
    "\n",
    "X_train = train_df[training_features]\n",
    "y_train = train_df[target_features].values.ravel()\n",
    "X_test = test_df[training_features]\n",
    "y_test = test_df[target_features].values.ravel()\n",
    "\n",
    "# Getting scores using cross_val_score\n",
    "for model in models:\n",
    "    importances, RMSE_test_temp, RMSE_train_temp, R2_test_temp, R2_train_temp, GKF_CV_temp = training_regr(\n",
    "        model, X_train, y_train, X_test, y_test)\n",
    "    if importances is not None:\n",
    "        plot_feat_imp(importances,\n",
    "                      model,\n",
    "                      training_features,\n",
    "                      threshold=threshold_all,\n",
    "                      sort_feat=sorted_all)\n",
    "    save_results(model=model,\n",
    "                 agg_method=agg_method,\n",
    "                 train_field=train_str_list,\n",
    "                 test_field=test_str_list,\n",
    "                 training_features=training_features,\n",
    "                 importances=importances,\n",
    "                 RMSE_test=RMSE_test_temp,\n",
    "                 RMSE_train=RMSE_train_temp,\n",
    "                 R2_test=R2_test_temp,\n",
    "                 R2_train=R2_train_temp,\n",
    "                 GKF_CV=GKF_CV_temp)\n",
    "del (train_str_list, test_str_list, train_df_list, test_df_list, train_df, test_df, X_train, y_train, X_test, y_test)\n",
    "del (importances, RMSE_test_temp, RMSE_train_temp, R2_test_temp, R2_train_temp, GKF_CV_temp, model)"
   ]
  },
  {
   "cell_type": "markdown",
   "id": "labeled-fence",
   "metadata": {},
   "source": [
    "#### Training Vollebekk, Test Staur"
   ]
  },
  {
   "cell_type": "code",
   "execution_count": null,
   "id": "bizarre-marriage",
   "metadata": {
    "ExecuteTime": {
     "end_time": "2021-11-01T12:01:31.099439Z",
     "start_time": "2021-11-01T12:01:30.994175Z"
    }
   },
   "outputs": [],
   "source": [
    "train_str_list, test_str_list = list_test_train_df(all_df_now,\n",
    "                                                   train_field = 'Vollebekk', \n",
    "                                                   test_field = 'Staur', \n",
    "                                                   year = '2020')\n",
    "\n",
    "train_df_list = []\n",
    "test_df_list = []\n",
    "for x in train_str_list:\n",
    "    train_df_list.append(locals()[x])\n",
    "for x in test_str_list:\n",
    "    test_df_list.append(locals()[x])\n",
    "\n",
    "train_df = pd.concat(train_df_list)\n",
    "test_df = pd.concat(test_df_list)\n",
    "\n",
    "X_train = train_df[training_features]\n",
    "y_train = train_df[target_features].values.ravel()\n",
    "X_test = test_df[training_features]\n",
    "y_test = test_df[target_features].values.ravel()\n",
    "\n",
    "# Getting scores using cross_val_score\n",
    "for model in models:\n",
    "    importances, RMSE_test_temp, RMSE_train_temp, R2_test_temp, R2_train_temp, GKF_CV_temp = training_regr(\n",
    "        model, X_train, y_train, X_test, y_test)\n",
    "    if importances is not None:\n",
    "        plot_feat_imp(importances,\n",
    "                      model,\n",
    "                      training_features,\n",
    "                      threshold=threshold_all,\n",
    "                      sort_feat=sorted_all)\n",
    "    save_results(model=model,\n",
    "                 agg_method=agg_method,\n",
    "                 train_field=train_str_list,\n",
    "                 test_field=test_str_list,\n",
    "                 training_features=training_features,\n",
    "                 importances=importances,\n",
    "                 RMSE_test=RMSE_test_temp,\n",
    "                 RMSE_train=RMSE_train_temp,\n",
    "                 R2_test=R2_test_temp,\n",
    "                 R2_train=R2_train_temp,\n",
    "                 GKF_CV=GKF_CV_temp)\n",
    "del (train_str_list, test_str_list, train_df_list, test_df_list, train_df, test_df, X_train, y_train, X_test, y_test)\n",
    "del (importances, RMSE_test_temp, RMSE_train_temp, R2_test_temp, R2_train_temp, GKF_CV_temp, model)"
   ]
  },
  {
   "cell_type": "markdown",
   "id": "remarkable-penguin",
   "metadata": {},
   "source": [
    "### 2019 Vollebekk vs 2019 Staur"
   ]
  },
  {
   "cell_type": "markdown",
   "id": "living-content",
   "metadata": {},
   "source": [
    "#### Training Staur, Test Vollebekk"
   ]
  },
  {
   "cell_type": "code",
   "execution_count": null,
   "id": "inclusive-paris",
   "metadata": {
    "ExecuteTime": {
     "end_time": "2021-11-01T12:01:56.838551Z",
     "start_time": "2021-11-01T12:01:56.786202Z"
    }
   },
   "outputs": [],
   "source": [
    "train_str_list, test_str_list = list_test_train_df(all_df_now,\n",
    "                                                   train_field = 'Staur', \n",
    "                                                   test_field = 'Vollebekk', \n",
    "                                                   year = '2019')\n",
    "\n",
    "train_df_list = []\n",
    "test_df_list = []\n",
    "for x in train_str_list:\n",
    "    train_df_list.append(locals()[x])\n",
    "for x in test_str_list:\n",
    "    test_df_list.append(locals()[x])\n",
    "\n",
    "train_df = pd.concat(train_df_list)\n",
    "test_df = pd.concat(test_df_list)\n",
    "\n",
    "X_train = train_df[training_features]\n",
    "y_train = train_df[target_features].values.ravel()\n",
    "X_test = test_df[training_features]\n",
    "y_test = test_df[target_features].values.ravel()\n",
    "\n",
    "# Getting scores using cross_val_score\n",
    "for model in models:\n",
    "    importances, RMSE_test_temp, RMSE_train_temp, R2_test_temp, R2_train_temp, GKF_CV_temp = training_regr(\n",
    "        model, X_train, y_train, X_test, y_test)\n",
    "    if importances is not None:\n",
    "        plot_feat_imp(importances,\n",
    "                      model,\n",
    "                      training_features,\n",
    "                      threshold=threshold_all,\n",
    "                      sort_feat=sorted_all)\n",
    "    save_results(model=model,\n",
    "                 agg_method=agg_method,\n",
    "                 train_field=train_str_list,\n",
    "                 test_field=test_str_list,\n",
    "                 training_features=training_features,\n",
    "                 importances=importances,\n",
    "                 RMSE_test=RMSE_test_temp,\n",
    "                 RMSE_train=RMSE_train_temp,\n",
    "                 R2_test=R2_test_temp,\n",
    "                 R2_train=R2_train_temp,\n",
    "                 GKF_CV=GKF_CV_temp)\n",
    "del (train_str_list, test_str_list, train_df_list, test_df_list, train_df, test_df, X_train, y_train, X_test, y_test)\n",
    "del (importances, RMSE_test_temp, RMSE_train_temp, R2_test_temp, R2_train_temp, GKF_CV_temp, model)"
   ]
  },
  {
   "cell_type": "markdown",
   "id": "apparent-nickel",
   "metadata": {},
   "source": [
    "#### Training Vollebekk, Test Staur"
   ]
  },
  {
   "cell_type": "code",
   "execution_count": null,
   "id": "invisible-wednesday",
   "metadata": {
    "ExecuteTime": {
     "end_time": "2021-11-01T12:02:02.473352Z",
     "start_time": "2021-11-01T12:02:02.401154Z"
    },
    "scrolled": false
   },
   "outputs": [],
   "source": [
    "train_str_list, test_str_list = list_test_train_df(all_df_now,\n",
    "                                                   train_field = 'Vollebekk', \n",
    "                                                   test_field = 'Staur', \n",
    "                                                   year = '2019')\n",
    "\n",
    "train_df_list = []\n",
    "test_df_list = []\n",
    "for x in train_str_list:\n",
    "    train_df_list.append(locals()[x])\n",
    "for x in test_str_list:\n",
    "    test_df_list.append(locals()[x])\n",
    "\n",
    "train_df = pd.concat(train_df_list)\n",
    "test_df = pd.concat(test_df_list)\n",
    "\n",
    "X_train = train_df[training_features]\n",
    "y_train = train_df[target_features].values.ravel()\n",
    "X_test = test_df[training_features]\n",
    "y_test = test_df[target_features].values.ravel()\n",
    "\n",
    "# Getting scores using cross_val_score\n",
    "for model in models:\n",
    "    importances, RMSE_test_temp, RMSE_train_temp, R2_test_temp, R2_train_temp, GKF_CV_temp = training_regr(\n",
    "        model, X_train, y_train, X_test, y_test)\n",
    "    if importances is not None:\n",
    "        plot_feat_imp(importances,\n",
    "                      model,\n",
    "                      training_features,\n",
    "                      threshold=threshold_all,\n",
    "                      sort_feat=sorted_all)\n",
    "    save_results(model=model,\n",
    "                 agg_method=agg_method,\n",
    "                 train_field=train_str_list,\n",
    "                 test_field=test_str_list,\n",
    "                 training_features=training_features,\n",
    "                 importances=importances,\n",
    "                 RMSE_test=RMSE_test_temp,\n",
    "                 RMSE_train=RMSE_train_temp,\n",
    "                 R2_test=R2_test_temp,\n",
    "                 R2_train=R2_train_temp,\n",
    "                 GKF_CV=GKF_CV_temp)\n",
    "del (train_str_list, test_str_list, train_df_list, test_df_list, train_df, test_df, X_train, y_train, X_test, y_test)\n",
    "del (importances, RMSE_test_temp, RMSE_train_temp, R2_test_temp, R2_train_temp, GKF_CV_temp, model)"
   ]
  },
  {
   "cell_type": "markdown",
   "id": "sought-temple",
   "metadata": {},
   "source": [
    "## Restart the kernel"
   ]
  },
  {
   "cell_type": "code",
   "execution_count": null,
   "id": "retired-parliament",
   "metadata": {
    "ExecuteTime": {
     "start_time": "2021-10-29T00:04:32.293Z"
    },
    "hide_output": false,
    "run_control": {
     "marked": true
    }
   },
   "outputs": [],
   "source": [
    "from IPython.core.display import HTML\n",
    "HTML(\"<script>Jupyter.notebook.kernel.restart()</script>\")"
   ]
  }
 ],
 "metadata": {
  "hide_input": false,
  "kernelspec": {
   "display_name": "Python 3",
   "language": "python",
   "name": "python3"
  },
  "language_info": {
   "codemirror_mode": {
    "name": "ipython",
    "version": 3
   },
   "file_extension": ".py",
   "mimetype": "text/x-python",
   "name": "python",
   "nbconvert_exporter": "python",
   "pygments_lexer": "ipython3",
   "version": "3.8.8"
  },
  "toc": {
   "base_numbering": 1,
   "nav_menu": {},
   "number_sections": true,
   "sideBar": true,
   "skip_h1_title": false,
   "title_cell": "Table of Contents",
   "title_sidebar": "Contents",
   "toc_cell": false,
   "toc_position": {
    "height": "calc(100% - 180px)",
    "left": "10px",
    "top": "150px",
    "width": "350.547px"
   },
   "toc_section_display": true,
   "toc_window_display": true
  },
  "varInspector": {
   "cols": {
    "lenName": 16,
    "lenType": 16,
    "lenVar": 40
   },
   "kernels_config": {
    "python": {
     "delete_cmd_postfix": "",
     "delete_cmd_prefix": "del ",
     "library": "var_list.py",
     "varRefreshCmd": "print(var_dic_list())"
    },
    "r": {
     "delete_cmd_postfix": ") ",
     "delete_cmd_prefix": "rm(",
     "library": "var_list.r",
     "varRefreshCmd": "cat(var_dic_list()) "
    }
   },
   "position": {
    "height": "801px",
    "left": "1469px",
    "right": "20px",
    "top": "130px",
    "width": "446px"
   },
   "types_to_exclude": [
    "module",
    "function",
    "builtin_function_or_method",
    "instance",
    "_Feature"
   ],
   "window_display": false
  }
 },
 "nbformat": 4,
 "nbformat_minor": 5
}

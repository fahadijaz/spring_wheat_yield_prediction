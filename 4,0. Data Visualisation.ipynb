{
 "cells": [
  {
   "cell_type": "code",
   "execution_count": null,
   "id": "bb2752e8",
   "metadata": {},
   "outputs": [],
   "source": [
    "target_features = ['GrainYield']\n",
    "# target_features = ['Days2Maturity']"
   ]
  },
  {
   "cell_type": "markdown",
   "id": "105acfb2",
   "metadata": {},
   "source": [
    "# Importing Libraries"
   ]
  },
  {
   "cell_type": "code",
   "execution_count": null,
   "id": "average-columbia",
   "metadata": {
    "ExecuteTime": {
     "end_time": "2021-11-02T23:27:21.027003Z",
     "start_time": "2021-11-02T23:27:19.589329Z"
    }
   },
   "outputs": [],
   "source": [
    "import os\n",
    "import csv\n",
    "import numpy as np\n",
    "import pandas as pd\n",
    "from copy import copy\n",
    "from datetime import datetime as dt\n",
    "\n",
    "# Dictionaries\n",
    "import json\n",
    "from pprint import pprint\n",
    "\n",
    "# Iterate in loops\n",
    "import itertools\n",
    "from itertools import zip_longest\n",
    "\n",
    "# Simpsons integration\n",
    "from numpy import trapz\n",
    "from scipy.integrate import simps\n",
    "\n",
    "# Visualisation\n",
    "import seaborn as sns\n",
    "import matplotlib.pyplot as plt\n",
    "\n",
    "# To display df nicely in loops\n",
    "from IPython.display import display \n",
    "# Display rows and columns Pandas\n",
    "pd.options.display.max_columns = 100\n",
    "pd.set_option('display.max_rows',100)\n",
    "\n",
    "# # For displaying max rows in series\n",
    "# pd.options.display.max_rows = 10"
   ]
  },
  {
   "cell_type": "markdown",
   "id": "spread-surfing",
   "metadata": {},
   "source": [
    "# Importing data"
   ]
  },
  {
   "cell_type": "code",
   "execution_count": null,
   "id": "2d066e93",
   "metadata": {
    "ExecuteTime": {
     "end_time": "2021-11-02T23:27:21.200932Z",
     "start_time": "2021-11-02T23:27:21.186833Z"
    }
   },
   "outputs": [],
   "source": [
    "# Prints the current working directory\n",
    "os.getcwd()\n",
    "# os.listdir()"
   ]
  },
  {
   "cell_type": "markdown",
   "id": "e796c4ee",
   "metadata": {},
   "source": [
    "## Finding Username folder to make general path for multi PC use"
   ]
  },
  {
   "cell_type": "code",
   "execution_count": null,
   "id": "a5204388",
   "metadata": {
    "ExecuteTime": {
     "end_time": "2021-11-02T23:27:21.216889Z",
     "start_time": "2021-11-02T23:27:21.203923Z"
    }
   },
   "outputs": [],
   "source": [
    "username = str(os.getcwd()).split('\\\\')[2]\n",
    "user_path = r'C:/Users/'+username+'/'\n",
    "username, user_path"
   ]
  },
  {
   "cell_type": "markdown",
   "id": "9a708728",
   "metadata": {},
   "source": [
    "## Declaring Import paths"
   ]
  },
  {
   "cell_type": "code",
   "execution_count": null,
   "id": "448c66bf",
   "metadata": {
    "ExecuteTime": {
     "end_time": "2021-11-02T23:27:21.232144Z",
     "start_time": "2021-11-02T23:27:21.218885Z"
    }
   },
   "outputs": [],
   "source": [
    "main_path = r'./Data/'\n",
    "path = r'./Data/3. merged data/'\n",
    "if target_features[0] == 'GrainYield':\n",
    "    export_path = './Data/4. results/'\n",
    "    export_path_comparability = './Data/4. results/comparability/'\n",
    "elif target_features[0] == 'Days2Maturity':\n",
    "    export_path = './Data/4. results_dm/'\n",
    "    export_path_comparability = './Data/4. results_dm/comparability/'\n",
    "\n",
    "# Create export_path folder if not exists already\n",
    "os.makedirs(path, exist_ok=True)\n",
    "os.makedirs(export_path, exist_ok=True)\n",
    "os.makedirs(export_path_comparability, exist_ok=True)\n",
    "\n",
    "# os.listdir(path)"
   ]
  },
  {
   "cell_type": "code",
   "execution_count": null,
   "id": "disturbed-interval",
   "metadata": {
    "ExecuteTime": {
     "end_time": "2021-11-02T23:27:21.248101Z",
     "start_time": "2021-11-02T23:27:21.234139Z"
    }
   },
   "outputs": [],
   "source": [
    "# Making dictionary of files in each folder, in case there are multiple types of data\n",
    "dict_paths = {}\n",
    "def explore(starting_path):\n",
    "    for dirpath, dirnames, filenames in os.walk(starting_path):\n",
    "        dict_paths[dirpath.split('/')[-2]] = filenames\n",
    "#     pprint(dict_paths)\n",
    "explore(path)"
   ]
  },
  {
   "cell_type": "markdown",
   "id": "aede1524",
   "metadata": {},
   "source": [
    "# Data Preparation\n",
    "## Creating list of complete files"
   ]
  },
  {
   "cell_type": "code",
   "execution_count": null,
   "id": "mighty-atlas",
   "metadata": {
    "ExecuteTime": {
     "end_time": "2021-11-02T23:27:21.263528Z",
     "start_time": "2021-11-02T23:27:21.250096Z"
    },
    "scrolled": true
   },
   "outputs": [],
   "source": [
    "# Get the list of all files in directory tree at given path\n",
    "\n",
    "files_with_address = []\n",
    "files_list = []\n",
    "\n",
    "for (dirpath, dirnames, filenames) in os.walk(path):\n",
    "    files_with_address += [os.path.join(dirpath, file) for file in filenames]\n",
    "    files_list.extend(filenames)\n",
    "    \n",
    "print(len(files_with_address), 'files found in the directory')\n",
    "# files_with_address\n",
    "# files_list"
   ]
  },
  {
   "cell_type": "markdown",
   "id": "abeebb14",
   "metadata": {},
   "source": [
    "## Data Checking/control"
   ]
  },
  {
   "cell_type": "markdown",
   "id": "ee84d976",
   "metadata": {
    "run_control": {
     "marked": true
    }
   },
   "source": [
    "### Check for duplicate filenames"
   ]
  },
  {
   "cell_type": "code",
   "execution_count": null,
   "id": "2affa906",
   "metadata": {
    "ExecuteTime": {
     "end_time": "2021-11-02T23:27:21.278489Z",
     "start_time": "2021-11-02T23:27:21.266520Z"
    }
   },
   "outputs": [],
   "source": [
    "print('Total number of files are :', len(files_list))\n",
    "\n",
    "print('Number of unique file names are:', len(set(files_list)))\n",
    "\n",
    "print('There is/are', len(files_list) - len(set(files_list)),'duplicate file name/names.')\n",
    "if len(files_list) - len(set(files_list)) > 0:\n",
    "    raise NameError"
   ]
  },
  {
   "cell_type": "markdown",
   "id": "a0f118d1",
   "metadata": {},
   "source": [
    "# Importing data files to Pandas"
   ]
  },
  {
   "cell_type": "code",
   "execution_count": null,
   "id": "ad948136",
   "metadata": {
    "ExecuteTime": {
     "end_time": "2021-11-02T23:27:21.831736Z",
     "start_time": "2021-11-02T23:27:21.281480Z"
    }
   },
   "outputs": [],
   "source": [
    "all_df = []\n",
    "for data in files_with_address:\n",
    "    file_name = os.path.splitext(os.path.basename(data))[0]\n",
    "\n",
    "    # Replce all invalid characters in the name\n",
    "    file_name = file_name.replace(\" \", \"_\")\n",
    "    file_name = file_name.replace(\"-\", \"_\")\n",
    "    file_name = file_name.replace(\")\", \"\")\n",
    "    file_name = file_name.replace(\"(\", \"\")\n",
    "    df_name = file_name.replace(\".\", \"\")\n",
    "    # Test: Check if the same date is already present in the current dict key\n",
    "    if df_name in all_df:\n",
    "        print(f'A file with the same name {df_name} has already been imported. \\n Please check if there is duplication of data.')\n",
    "        raise NameError\n",
    "    all_df.append(df_name)\n",
    "\n",
    "    locals()[df_name] = pd.read_csv(data, index_col=False)\n",
    "    print(df_name, '=====', locals()[df_name].shape)\n",
    "# all_df"
   ]
  },
  {
   "cell_type": "code",
   "execution_count": null,
   "id": "b51b4353",
   "metadata": {
    "ExecuteTime": {
     "end_time": "2021-11-02T23:27:21.863237Z",
     "start_time": "2021-11-02T23:27:21.849276Z"
    },
    "scrolled": true
   },
   "outputs": [],
   "source": [
    "print(f'Total imported {len(all_df)}')\n",
    "# all_df"
   ]
  },
  {
   "cell_type": "markdown",
   "id": "early-aside",
   "metadata": {},
   "source": [
    "## Importing Weather variables, yield columns, spectral indices, base indices columsn list"
   ]
  },
  {
   "cell_type": "code",
   "execution_count": null,
   "id": "peripheral-audit",
   "metadata": {
    "ExecuteTime": {
     "end_time": "2021-11-02T23:27:21.879194Z",
     "start_time": "2021-11-02T23:27:21.865232Z"
    }
   },
   "outputs": [],
   "source": [
    "a_file = open(main_path+'vollebekk_weather_columns.json', \"r\")\n",
    "output_str = a_file.read()\n",
    "# The file is imported as string\n",
    "\n",
    "# Converting it to python format\n",
    "weather_cols_vollebekk = json.loads(output_str)\n",
    "a_file.close()\n",
    "\n",
    "pprint(len(weather_cols_vollebekk))"
   ]
  },
  {
   "cell_type": "code",
   "execution_count": null,
   "id": "express-wheel",
   "metadata": {
    "ExecuteTime": {
     "end_time": "2021-11-02T23:27:21.894154Z",
     "start_time": "2021-11-02T23:27:21.882187Z"
    }
   },
   "outputs": [],
   "source": [
    "a_file = open(main_path+'staur_weather_columns.json', \"r\")\n",
    "output_str = a_file.read()\n",
    "# The file is imported as string\n",
    "\n",
    "# Converting it to python format\n",
    "weather_cols_staur = json.loads(output_str)\n",
    "a_file.close()\n",
    "\n",
    "pprint(len(weather_cols_staur))"
   ]
  },
  {
   "cell_type": "code",
   "execution_count": null,
   "id": "loved-vaccine",
   "metadata": {
    "ExecuteTime": {
     "end_time": "2021-11-02T23:27:21.909022Z",
     "start_time": "2021-11-02T23:27:21.896150Z"
    }
   },
   "outputs": [],
   "source": [
    "a_file = open(main_path+\"yield_columns.json\", \"r\")\n",
    "output_str = a_file.read()\n",
    "\n",
    "# The file is imported as string\n",
    "# Converting it to python format\n",
    "yield_cols = json.loads(output_str)\n",
    "a_file.close()\n",
    "print(yield_cols)"
   ]
  },
  {
   "cell_type": "code",
   "execution_count": null,
   "id": "surgical-observation",
   "metadata": {
    "ExecuteTime": {
     "end_time": "2021-11-02T23:27:21.925976Z",
     "start_time": "2021-11-02T23:27:21.911017Z"
    }
   },
   "outputs": [],
   "source": [
    "a_file = open(main_path+\"spectral_indices_columns.json\", \"r\")\n",
    "output_str = a_file.read()\n",
    "\n",
    "# The file is imported as string\n",
    "# Converting it to python format\n",
    "spectral_indices_all = json.loads(output_str)\n",
    "a_file.close()\n",
    "print(spectral_indices_all)"
   ]
  },
  {
   "cell_type": "code",
   "execution_count": null,
   "id": "southeast-plain",
   "metadata": {
    "ExecuteTime": {
     "end_time": "2021-11-02T23:27:21.955531Z",
     "start_time": "2021-11-02T23:27:21.931595Z"
    }
   },
   "outputs": [],
   "source": [
    "a_file = open(main_path+\"base_indices_columns.json\", \"r\")\n",
    "output_str = a_file.read()\n",
    "\n",
    "# The file is imported as string\n",
    "# Converting it to python format\n",
    "base_indices = json.loads(output_str)\n",
    "a_file.close()\n",
    "print(base_indices)"
   ]
  },
  {
   "cell_type": "markdown",
   "id": "reliable-empty",
   "metadata": {},
   "source": [
    "## Defining categories of features"
   ]
  },
  {
   "cell_type": "code",
   "execution_count": null,
   "id": "0001fa8b",
   "metadata": {
    "ExecuteTime": {
     "end_time": "2021-11-02T23:27:22.295846Z",
     "start_time": "2021-11-02T23:27:22.282881Z"
    }
   },
   "outputs": [],
   "source": [
    "# ToDo: Add check for duplicate columns in the df\n",
    "base_indices\n",
    "spectral_indices_all \n",
    "drop_indices = ['EVI', 'GLI', 'MTCI']\n",
    "spectral_indices = [x for x in spectral_indices_all if x not in drop_indices]\n",
    "\n",
    "# Staur weather columns are all also present in Vollebekk weather so they can be use as general weather features\n",
    "weather_features = weather_cols_staur.copy()\n",
    "environment_var = weather_features + ['Staur_Env', 'Vollebekk_Env']\n",
    "# yield_cols"
   ]
  },
  {
   "cell_type": "markdown",
   "id": "0674436a",
   "metadata": {},
   "source": [
    "# Dropping DF which donot have the Target Feature"
   ]
  },
  {
   "cell_type": "code",
   "execution_count": null,
   "id": "5f4f1158",
   "metadata": {},
   "outputs": [],
   "source": [
    "# Dropping unnecessary columns\n",
    "all_df_dm = []\n",
    "for df in all_df:\n",
    "    temp_df = locals()[df].copy()\n",
    "    if target_features[0] in temp_df.columns.tolist():\n",
    "        all_df_dm.append(df)\n",
    "#         print(df)"
   ]
  },
  {
   "cell_type": "code",
   "execution_count": null,
   "id": "ed83a0b8",
   "metadata": {},
   "outputs": [],
   "source": [
    "all_df_simps = [x for x in all_df_dm if 'Simps' in x]\n",
    "all_df_trapz = [x for x in all_df_dm if 'Trapz' in x]\n",
    "# all_df_simps, all_df_trapz"
   ]
  },
  {
   "cell_type": "markdown",
   "id": "global-gnome",
   "metadata": {},
   "source": [
    "# Dropping unnecessary columns\n"
   ]
  },
  {
   "cell_type": "code",
   "execution_count": null,
   "id": "robust-making",
   "metadata": {
    "ExecuteTime": {
     "end_time": "2021-11-02T23:27:22.717032Z",
     "start_time": "2021-11-02T23:27:22.676436Z"
    }
   },
   "outputs": [],
   "source": [
    "# Dropping unnecessary columns\n",
    "for df in all_df_dm:\n",
    "    temp_df = locals()[df].copy()\n",
    "    locals()[df] = temp_df[base_indices+spectral_indices_all+environment_var+['Name',target_features[0]]]\n",
    "    print(df, temp_df.shape, '==>', locals()[df].shape)"
   ]
  },
  {
   "cell_type": "markdown",
   "id": "rational-replication",
   "metadata": {},
   "source": [
    "# Dealing with Nan values"
   ]
  },
  {
   "cell_type": "markdown",
   "id": "unnecessary-criminal",
   "metadata": {},
   "source": [
    "## Dropping Missing values"
   ]
  },
  {
   "cell_type": "code",
   "execution_count": null,
   "id": "sensitive-europe",
   "metadata": {
    "ExecuteTime": {
     "end_time": "2021-11-02T23:27:23.121179Z",
     "start_time": "2021-11-02T23:27:23.029598Z"
    }
   },
   "outputs": [],
   "source": [
    "# Dropping rows with missing value in any column\n",
    "for df in all_df_dm:\n",
    "    temp_df = locals()[df].copy()\n",
    "    locals()[df] = temp_df.dropna(axis=0)\n",
    "    print(temp_df.shape[0] - locals()[df].shape[0], ' rows dropped in ', df)\n",
    "#     print(locals()[df].shape[0])"
   ]
  },
  {
   "cell_type": "markdown",
   "id": "83c7b7a2",
   "metadata": {},
   "source": [
    "# Data Normalization"
   ]
  },
  {
   "cell_type": "markdown",
   "id": "sufficient-chambers",
   "metadata": {},
   "source": [
    "## Plot one index for different fields to check comparability"
   ]
  },
  {
   "cell_type": "code",
   "execution_count": null,
   "id": "surgical-newfoundland",
   "metadata": {
    "ExecuteTime": {
     "end_time": "2021-11-02T23:27:23.232318Z",
     "start_time": "2021-11-02T23:27:23.223343Z"
    },
    "scrolled": true
   },
   "outputs": [],
   "source": [
    "for col in base_indices+spectral_indices:\n",
    "#     col='Blue'\n",
    "    fig_size=(8, 5)\n",
    "    fig, ax = plt.subplots(figsize=fig_size)\n",
    "    plots = ax\n",
    "\n",
    "    for df in all_df_simps:\n",
    "#         if not 'Robot' in df and  not 'Staur' in df:\n",
    "#         if 'Gram' in df and  'Masb' in df:\n",
    "#             if '2020' in df:\n",
    "        temp_df = locals()[df].copy()\n",
    "        ax.boxplot(sorted(temp_df[col].values), positions = [all_df_simps.index(df)], labels=[df.split('_')[0][:5]+'_'+df.split('_')[1]])\n",
    "#         ax.plot(sorted(temp_df[col].values), label=df.split('_')[0]+'_'+df.split('_')[1])\n",
    "    # Printing the band/index name in plot of the fiels_sample for reference\n",
    "    text = col\n",
    "    ax.text(.98, .98, text, ha='right', va='top', weight=100, color='blue', fontsize ='xx-large', transform=ax.transAxes)\n",
    "\n",
    "    ax.legend(loc=1)\n",
    "    plt.tight_layout()\n",
    "    plt.savefig(export_path_comparability+col+'_box.jpg',dpi=250, bbox_inches='tight', transform=ax.transAxes)\n",
    "    plt.show()\n",
    "#     break"
   ]
  },
  {
   "cell_type": "code",
   "execution_count": null,
   "id": "military-perth",
   "metadata": {
    "ExecuteTime": {
     "end_time": "2021-11-02T23:27:23.247543Z",
     "start_time": "2021-11-02T23:27:23.234315Z"
    },
    "scrolled": true
   },
   "outputs": [],
   "source": [
    "for col in base_indices+spectral_indices:\n",
    "#     col='Blue'\n",
    "    fig_size=(8, 5)\n",
    "    fig, ax = plt.subplots(figsize=fig_size)\n",
    "    plots = ax\n",
    "\n",
    "    for df in all_df_simps:\n",
    "#         if not 'Robot' in df and  not 'Staur' in df:\n",
    "#         if 'Gram' in df and  'Masb' in df:\n",
    "#             if '2020' in df:\n",
    "        temp_df = locals()[df].copy()\n",
    "#         ax.boxplot(sorted(temp_df[col].values), positions = [all_df_simps.index(df)], labels=[df.split('_')[0][:5]+'_'+df.split('_')[1]])\n",
    "        ax.plot(sorted(temp_df[col].values), label=df.split('_')[0]+'_'+df.split('_')[1])\n",
    "    # Printing the band/index name in plot of the fiels_sample for reference\n",
    "    text = col\n",
    "    ax.text(.87, .6, text, ha='center', va='top', weight=100, color='blue', fontsize ='xx-large', transform=ax.transAxes)\n",
    "\n",
    "    ax.legend(loc=1)\n",
    "    plt.tight_layout()\n",
    "#     plt.savefig(export_path_comparability+col+'_sorted.jpg',dpi=250, bbox_inches='tight', transform=ax.transAxes)\n",
    "    plt.show()\n",
    "#     break"
   ]
  },
  {
   "cell_type": "code",
   "execution_count": null,
   "id": "later-demonstration",
   "metadata": {
    "ExecuteTime": {
     "end_time": "2021-11-02T23:27:23.263501Z",
     "start_time": "2021-11-02T23:27:23.250536Z"
    },
    "scrolled": true
   },
   "outputs": [],
   "source": [
    "for col in base_indices+spectral_indices:\n",
    "#     col='Blue'\n",
    "    fig_size=(8, 5)\n",
    "    fig, ax = plt.subplots(figsize=fig_size)\n",
    "    plots = ax\n",
    "\n",
    "    for df in all_df_simps:\n",
    "#         if not 'Robot' in df and  not 'Staur' in df:\n",
    "#         if 'Gram' in df and  'Masb' in df:\n",
    "#             if '2020' in df:\n",
    "        temp_df = locals()[df].copy()\n",
    "#         ax.boxplot(sorted(temp_df[col].values), positions = [all_df_simps.index(df)], labels=[df.split('_')[0][:5]+'_'+df.split('_')[1]])\n",
    "        ax.plot((temp_df[col].values), label=df.split('_')[0]+'_'+df.split('_')[1])\n",
    "    # Printing the band/index name in plot of the fiels_sample for reference\n",
    "    text = col\n",
    "    ax.text(.87, .6, text, ha='center', va='top', weight=100, color='blue', fontsize ='xx-large', transform=ax.transAxes)\n",
    "\n",
    "    ax.legend(loc=1)\n",
    "    plt.tight_layout()\n",
    "#     plt.savefig(export_path_comparability+col+'_random.jpg',dpi=250, bbox_inches='tight', transform=ax.transAxes)\n",
    "    plt.show()\n",
    "#     break"
   ]
  },
  {
   "cell_type": "markdown",
   "id": "weird-stereo",
   "metadata": {},
   "source": [
    "## Normalizing the data using Z-Score from scipy"
   ]
  },
  {
   "cell_type": "code",
   "execution_count": null,
   "id": "frequent-battery",
   "metadata": {
    "ExecuteTime": {
     "end_time": "2021-11-02T23:27:23.615563Z",
     "start_time": "2021-11-02T23:27:23.431526Z"
    },
    "scrolled": true
   },
   "outputs": [],
   "source": [
    "from scipy.stats import zscore\n",
    "\n",
    "for df in all_df_dm:\n",
    "    temp_df = locals()[df].copy()\n",
    "    for col in temp_df.columns:\n",
    "        # Checking if the column is not a yield column\n",
    "        if col not in yield_cols+environment_var:\n",
    "            temp_df[col] = zscore(temp_df[col])\n",
    "    locals()[df] = temp_df.copy()\n",
    "    print(df)"
   ]
  },
  {
   "cell_type": "markdown",
   "id": "opening-neutral",
   "metadata": {},
   "source": [
    "## Checking comparability after normalization"
   ]
  },
  {
   "cell_type": "code",
   "execution_count": null,
   "id": "protective-polls",
   "metadata": {
    "ExecuteTime": {
     "end_time": "2021-11-02T23:27:23.677639Z",
     "start_time": "2021-11-02T23:27:23.659569Z"
    },
    "scrolled": true
   },
   "outputs": [],
   "source": [
    "for col in base_indices+spectral_indices:\n",
    "#     col='Blue'\n",
    "    fig_size=(8, 5)\n",
    "    fig, ax = plt.subplots(figsize=fig_size)\n",
    "    plots = ax\n",
    "\n",
    "    for df in all_df_simps:\n",
    "#         if not 'Robot' in df and  not 'Staur' in df:\n",
    "#         if 'Gram' in df and  'Masb' in df:\n",
    "#             if '2020' in df:\n",
    "        temp_df = locals()[df].copy()\n",
    "        ax.boxplot(sorted(temp_df[col].values), positions = [all_df_simps.index(df)], labels=[df.split('_')[0][:5]+'_'+df.split('_')[1]])\n",
    "#         ax.plot(sorted(temp_df[col].values), label=df.split('_')[0]+'_'+df.split('_')[1])\n",
    "    # Printing the band/index name in plot of the fiels_sample for reference\n",
    "    text = col\n",
    "    ax.text(.98, .98, text, ha='right', va='top', weight=100, color='blue', fontsize ='xx-large', transform=ax.transAxes)\n",
    "\n",
    "    ax.legend(loc=1)\n",
    "    plt.tight_layout()\n",
    "    plt.savefig(export_path_comparability+col+'_norm_box.jpg',dpi=250, bbox_inches='tight', transform=ax.transAxes)\n",
    "    plt.show()\n",
    "#     break"
   ]
  },
  {
   "cell_type": "markdown",
   "id": "moving-agency",
   "metadata": {},
   "source": [
    "# Correlation"
   ]
  },
  {
   "cell_type": "markdown",
   "id": "quarterly-fancy",
   "metadata": {},
   "source": [
    "## Scatter Plot"
   ]
  },
  {
   "cell_type": "code",
   "execution_count": null,
   "id": "injured-saying",
   "metadata": {
    "ExecuteTime": {
     "end_time": "2021-11-02T23:27:24.094075Z",
     "start_time": "2021-11-02T23:27:24.080574Z"
    },
    "scrolled": true
   },
   "outputs": [],
   "source": [
    "for df in all_df_simps:\n",
    "    temp_df = locals()[df][base_indices+spectral_indices+[target_features[0]]].copy()\n",
    "    data = temp_df.copy()\n",
    "    for col in base_indices:\n",
    "        print(df)\n",
    "        df_a = temp_df[col]\n",
    "        df_b = temp_df[target_features[0]]\n",
    "\n",
    "\n",
    "        fig, ax = plt.subplots(1, figsize=(12,8))\n",
    "        sns.kdeplot(df_a, y=df_b, cmap='Blues',\n",
    "                   shade=True, thresh=0.05, clip=(-1,300))\n",
    "        plt.scatter(df_a, df_b, color='orangered')\n",
    "        plt.show()"
   ]
  },
  {
   "cell_type": "markdown",
   "id": "thousand-threshold",
   "metadata": {},
   "source": [
    "## Heat Map"
   ]
  },
  {
   "cell_type": "code",
   "execution_count": null,
   "id": "proprietary-farming",
   "metadata": {
    "ExecuteTime": {
     "end_time": "2021-11-02T23:27:24.387122Z",
     "start_time": "2021-11-02T23:27:24.370168Z"
    },
    "scrolled": true
   },
   "outputs": [],
   "source": [
    "for df in all_df_simps:\n",
    "    print(df)\n",
    "    temp_df = locals()[df][[target_features[0]]+spectral_indices].copy()\n",
    "#     temp_df = locals()[df][spectral_indices+[target_features[0]]].copy()\n",
    "    data = temp_df\n",
    "    columns = temp_df.columns\n",
    "    corr = data.corr()\n",
    "    fig_size=(15,8)\n",
    "\n",
    "    fig, ax = plt.subplots(figsize=fig_size)\n",
    "    \n",
    "    mask = np.triu(np.ones_like(corr, dtype=np.bool))\n",
    "\n",
    "    \n",
    "    ax = sns.heatmap(\n",
    "        corr, mask=mask,\n",
    "        vmin=-1, vmax=1, center=0,\n",
    "        cmap=sns.diverging_palette(20, 220, n=200),\n",
    "        square=True\n",
    "    )    \n",
    "    \n",
    "    ax.set_xticklabels(\n",
    "        ax.get_xticklabels(),\n",
    "        rotation=45,\n",
    "        horizontalalignment='right'\n",
    "    );\n",
    "#     plt.savefig(export_path+df+'_corr.jpg',dpi=250, bbox_inches='tight', transform=ax.transAxes)\n",
    "\n",
    "    plt.show()"
   ]
  },
  {
   "cell_type": "code",
   "execution_count": null,
   "id": "5fb144b3",
   "metadata": {},
   "outputs": [],
   "source": [
    "temp_list = [x for x in all_df_simps if not 'Robot' in x]\n",
    "\n",
    "# Making list of df for conct before training\n",
    "# This is different form list of srtings, as this is a list of actual dataframes\n",
    "df_list = []\n",
    "for x in temp_list:\n",
    "    df_list.append(locals()[x])\n",
    "\n",
    "df_ = pd.concat(df_list)\n",
    "\n",
    "data = df_[[target_features[0]]+base_indices+spectral_indices]\n",
    "columns = df_[[target_features[0]]+base_indices+spectral_indices].columns\n",
    "corr = data.corr()\n",
    "fig_size=(15,8)\n",
    "\n",
    "fig, ax = plt.subplots(figsize=fig_size)\n",
    "\n",
    "mask = np.triu(np.ones_like(corr, dtype=np.bool))\n",
    "\n",
    "\n",
    "ax = sns.heatmap(\n",
    "    corr, mask=mask,\n",
    "    vmin=-1, vmax=1, center=0,\n",
    "    cmap=sns.diverging_palette(20, 220, n=200),\n",
    "    square=True\n",
    ")    \n",
    "\n",
    "ax.set_xticklabels(\n",
    "    ax.get_xticklabels(),\n",
    "    rotation=45,\n",
    "    horizontalalignment='right'\n",
    ");\n",
    "# plt.savefig(export_path+'all_mix_corr.jpg',dpi=250, bbox_inches='tight', transform=ax.transAxes)\n",
    "\n",
    "plt.show()"
   ]
  },
  {
   "cell_type": "markdown",
   "id": "sought-temple",
   "metadata": {},
   "source": [
    "## Restart the kernel"
   ]
  },
  {
   "cell_type": "code",
   "execution_count": null,
   "id": "retired-parliament",
   "metadata": {
    "ExecuteTime": {
     "start_time": "2021-10-29T00:04:32.293Z"
    },
    "hide_output": false,
    "run_control": {
     "marked": true
    }
   },
   "outputs": [],
   "source": [
    "from IPython.core.display import HTML\n",
    "HTML(\"<script>Jupyter.notebook.kernel.restart()</script>\")"
   ]
  }
 ],
 "metadata": {
  "hide_input": false,
  "kernelspec": {
   "display_name": "Python 3",
   "language": "python",
   "name": "python3"
  },
  "language_info": {
   "codemirror_mode": {
    "name": "ipython",
    "version": 3
   },
   "file_extension": ".py",
   "mimetype": "text/x-python",
   "name": "python",
   "nbconvert_exporter": "python",
   "pygments_lexer": "ipython3",
   "version": "3.8.8"
  },
  "toc": {
   "base_numbering": 1,
   "nav_menu": {},
   "number_sections": true,
   "sideBar": true,
   "skip_h1_title": false,
   "title_cell": "Table of Contents",
   "title_sidebar": "Contents",
   "toc_cell": false,
   "toc_position": {
    "height": "calc(100% - 180px)",
    "left": "10px",
    "top": "150px",
    "width": "350.547px"
   },
   "toc_section_display": true,
   "toc_window_display": true
  },
  "varInspector": {
   "cols": {
    "lenName": 16,
    "lenType": 16,
    "lenVar": 40
   },
   "kernels_config": {
    "python": {
     "delete_cmd_postfix": "",
     "delete_cmd_prefix": "del ",
     "library": "var_list.py",
     "varRefreshCmd": "print(var_dic_list())"
    },
    "r": {
     "delete_cmd_postfix": ") ",
     "delete_cmd_prefix": "rm(",
     "library": "var_list.r",
     "varRefreshCmd": "cat(var_dic_list()) "
    }
   },
   "position": {
    "height": "801px",
    "left": "1469px",
    "right": "20px",
    "top": "130px",
    "width": "446px"
   },
   "types_to_exclude": [
    "module",
    "function",
    "builtin_function_or_method",
    "instance",
    "_Feature"
   ],
   "window_display": false
  }
 },
 "nbformat": 4,
 "nbformat_minor": 5
}

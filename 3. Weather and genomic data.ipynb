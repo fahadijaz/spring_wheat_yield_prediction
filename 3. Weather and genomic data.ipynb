{
 "cells": [
  {
   "cell_type": "markdown",
   "metadata": {},
   "source": [
    "# Weather and Genomics Data"
   ]
  },
  {
   "cell_type": "markdown",
   "metadata": {},
   "source": [
    "Note: Half datasets, with separate files for east and west subplots have been merged manually in excel"
   ]
  },
  {
   "cell_type": "code",
   "execution_count": 34,
   "metadata": {
    "ExecuteTime": {
     "end_time": "2021-10-28T09:03:45.224758Z",
     "start_time": "2021-10-28T09:03:45.217775Z"
    }
   },
   "outputs": [
    {
     "name": "stdout",
     "output_type": "stream",
     "text": [
      "Wall time: 997 µs\n"
     ]
    }
   ],
   "source": [
    "%%time\n",
    "\n",
    "import os\n",
    "import math\n",
    "from datetime import datetime as dt\n",
    "from datetime import timedelta as timedelta\n",
    "import numpy as np\n",
    "import pandas as pd\n",
    "from copy import copy\n",
    "\n",
    "# Dictionaries\n",
    "import json\n",
    "from pprint import pprint\n",
    "\n",
    "# Iterate in loops\n",
    "from itertools import zip_longest\n",
    "\n",
    "# Simpsons integration\n",
    "from numpy import trapz\n",
    "from scipy.integrate import simps\n",
    "\n",
    "# Visualisation\n",
    "import seaborn as sns\n",
    "import matplotlib.pyplot as plt\n",
    "\n",
    "# To display df nicely in loops\n",
    "from IPython.display import display \n",
    "# display(df1.head()) \n",
    "# display(df2.head())\n",
    "\n",
    "# Display rows and columns Pandas\n",
    "pd.options.display.max_columns = 100\n",
    "pd.set_option('display.max_rows',100)\n",
    "\n",
    "# # For displaying max rows in series\n",
    "# pd.options.display.max_rows = 10"
   ]
  },
  {
   "cell_type": "code",
   "execution_count": null,
   "metadata": {},
   "outputs": [],
   "source": []
  },
  {
   "cell_type": "code",
   "execution_count": 35,
   "metadata": {
    "ExecuteTime": {
     "end_time": "2021-10-28T09:03:45.240007Z",
     "start_time": "2021-10-28T09:03:45.226759Z"
    }
   },
   "outputs": [
    {
     "data": {
      "text/plain": [
       "'C:\\\\Users\\\\fahad\\\\MegaSync\\\\NMBU\\\\GitHub\\\\vPheno'"
      ]
     },
     "execution_count": 35,
     "metadata": {},
     "output_type": "execute_result"
    }
   ],
   "source": [
    "# Prints the current working directory\n",
    "os.getcwd()\n",
    "# os.listdir()"
   ]
  },
  {
   "cell_type": "markdown",
   "metadata": {},
   "source": [
    "## Finding Username folder to make general path for multi PC use"
   ]
  },
  {
   "cell_type": "code",
   "execution_count": 36,
   "metadata": {
    "ExecuteTime": {
     "end_time": "2021-10-28T09:03:45.334970Z",
     "start_time": "2021-10-28T09:03:45.329445Z"
    },
    "scrolled": true
   },
   "outputs": [
    {
     "data": {
      "text/plain": [
       "('fahad', 'C:/Users/fahad/')"
      ]
     },
     "execution_count": 36,
     "metadata": {},
     "output_type": "execute_result"
    }
   ],
   "source": [
    "username = str(os.getcwd()).split('\\\\')[2]\n",
    "user_path = r'C:/Users/'+username+'/'\n",
    "username, user_path"
   ]
  },
  {
   "cell_type": "markdown",
   "metadata": {},
   "source": [
    "## Importing Data"
   ]
  },
  {
   "cell_type": "code",
   "execution_count": 37,
   "metadata": {
    "ExecuteTime": {
     "end_time": "2021-10-28T09:03:45.441199Z",
     "start_time": "2021-10-28T09:03:45.433220Z"
    }
   },
   "outputs": [
    {
     "data": {
      "text/plain": [
       "['Graminor_2019_all.csv',\n",
       " 'Graminor_2020_all.csv',\n",
       " 'Masbasis_2019_all.csv',\n",
       " 'Masbasis_2020_all_lodg.csv',\n",
       " 'Robot_2020_all.csv',\n",
       " 'Staur_2019_all.csv',\n",
       " 'Staur_2020_all_lodg.csv']"
      ]
     },
     "execution_count": 37,
     "metadata": {},
     "output_type": "execute_result"
    }
   ],
   "source": [
    "main_path = r'./Data/'\n",
    "path = r'./Data/2,2. renamed_merged/'\n",
    "export_path = r'./Data/3. merged data/'\n",
    "# temp_export_path = r'./Data/3. Temp_Data/'\n",
    "weather_data_vollebekk = user_path+r'\\\\MegaSync\\NMBU\\Master Thesis\\Data\\Weather\\Weather_Data_Ås-Vollebekk.csv'\n",
    "weather_data_staur = user_path+r'\\\\MegaSync\\NMBU\\Master Thesis\\Data\\Weather\\Weather_Data_Ilseng-Staur.csv'\n",
    "genomics_data = user_path+r'\\\\MegaSync\\NMBU\\Master Thesis\\Data\\Genomics\\\\'\n",
    "\n",
    "# Create export_path folder if not exists already\n",
    "os.makedirs(path, exist_ok=True)\n",
    "os.makedirs(export_path, exist_ok=True)\n",
    "# os.makedirs(temp_export_path, exist_ok=True)\n",
    "\n",
    "os.listdir(path)"
   ]
  },
  {
   "cell_type": "markdown",
   "metadata": {},
   "source": [
    "## Data Preparation\n",
    "### Creating list of complete files"
   ]
  },
  {
   "cell_type": "code",
   "execution_count": 38,
   "metadata": {
    "ExecuteTime": {
     "end_time": "2021-10-28T09:03:45.557843Z",
     "start_time": "2021-10-28T09:03:45.547871Z"
    }
   },
   "outputs": [
    {
     "name": "stdout",
     "output_type": "stream",
     "text": [
      "7 files found in the directory\n"
     ]
    },
    {
     "data": {
      "text/plain": [
       "['Graminor_2019_all.csv',\n",
       " 'Graminor_2020_all.csv',\n",
       " 'Masbasis_2019_all.csv',\n",
       " 'Masbasis_2020_all_lodg.csv',\n",
       " 'Robot_2020_all.csv',\n",
       " 'Staur_2019_all.csv',\n",
       " 'Staur_2020_all_lodg.csv']"
      ]
     },
     "execution_count": 38,
     "metadata": {},
     "output_type": "execute_result"
    }
   ],
   "source": [
    "# Get the list of all files in directory tree at given path\n",
    "\n",
    "files_with_address = []\n",
    "files_list = []\n",
    "\n",
    "for (dirpath, dirnames, filenames) in os.walk(path):\n",
    "    files_with_address += [os.path.join(dirpath, file) for file in filenames]\n",
    "    files_list.extend(filenames)\n",
    "    \n",
    "print(len(files_with_address), 'files found in the directory')\n",
    "# files_with_address\n",
    "files_list"
   ]
  },
  {
   "cell_type": "markdown",
   "metadata": {},
   "source": [
    "## Data Checking/control"
   ]
  },
  {
   "cell_type": "markdown",
   "metadata": {
    "run_control": {
     "marked": true
    }
   },
   "source": [
    "### Check for duplicate filenames"
   ]
  },
  {
   "cell_type": "code",
   "execution_count": 39,
   "metadata": {
    "ExecuteTime": {
     "end_time": "2021-10-28T09:03:45.862781Z",
     "start_time": "2021-10-28T09:03:45.857794Z"
    }
   },
   "outputs": [
    {
     "name": "stdout",
     "output_type": "stream",
     "text": [
      "Total number of files are : 7\n",
      "Number of unique file names are: 7\n",
      "There is/are 0 duplicate file name/names.\n"
     ]
    }
   ],
   "source": [
    "print('Total number of files are :', len(files_list))\n",
    "\n",
    "print('Number of unique file names are:', len(set(files_list)))\n",
    "\n",
    "print('There is/are', len(files_list) - len(set(files_list)),'duplicate file name/names.')\n",
    "if len(files_list) - len(set(files_list)) > 0:\n",
    "    raise NameError"
   ]
  },
  {
   "cell_type": "markdown",
   "metadata": {},
   "source": [
    "## Importing data files to Pandas"
   ]
  },
  {
   "cell_type": "code",
   "execution_count": 40,
   "metadata": {
    "ExecuteTime": {
     "end_time": "2021-10-28T09:03:46.589334Z",
     "start_time": "2021-10-28T09:03:45.965088Z"
    }
   },
   "outputs": [
    {
     "name": "stdout",
     "output_type": "stream",
     "text": [
      "Graminor_2019_all ===== (600, 381)\n",
      "Graminor_2020_all ===== (800, 381)\n",
      "Masbasis_2019_all ===== (528, 280)\n",
      "Masbasis_2020_all_lodg ===== (659, 418)\n",
      "Robot_2020_all ===== (96, 485)\n",
      "Staur_2019_all ===== (1328, 181)\n",
      "Staur_2020_all_lodg ===== (1504, 212)\n",
      "Wall time: 619 ms\n"
     ]
    }
   ],
   "source": [
    "   \n",
    "%%time\n",
    "\n",
    "all_df = []\n",
    "for data in files_with_address:\n",
    "    file_name = os.path.splitext(os.path.basename(data))[0]\n",
    "\n",
    "    # Replce all invalid characters in the name\n",
    "    file_name = file_name.replace(\" \", \"_\")\n",
    "    file_name = file_name.replace(\"-\", \"_\")\n",
    "    file_name = file_name.replace(\")\", \"\")\n",
    "    file_name = file_name.replace(\"(\", \"\")\n",
    "    df_name = file_name.replace(\".\", \"\")\n",
    "    # Test: Check if the same date is already present in the current dict key\n",
    "    if df_name in all_df:\n",
    "        print(f'A file with the same name {df_name} has already been imported. \\n Please check if there is duplication of data.')\n",
    "        raise NameError\n",
    "    all_df.append(df_name)\n",
    "\n",
    "    locals()[df_name] = pd.read_csv(data, index_col=False)\n",
    "    print(df_name, '=====', locals()[df_name].shape)\n",
    "# all_df"
   ]
  },
  {
   "cell_type": "code",
   "execution_count": 41,
   "metadata": {
    "ExecuteTime": {
     "end_time": "2021-10-28T09:03:46.598314Z",
     "start_time": "2021-10-28T09:03:46.591313Z"
    },
    "scrolled": true
   },
   "outputs": [
    {
     "name": "stdout",
     "output_type": "stream",
     "text": [
      "Total imported 7\n"
     ]
    },
    {
     "data": {
      "text/plain": [
       "['Graminor_2019_all',\n",
       " 'Graminor_2020_all',\n",
       " 'Masbasis_2019_all',\n",
       " 'Masbasis_2020_all_lodg',\n",
       " 'Robot_2020_all',\n",
       " 'Staur_2019_all',\n",
       " 'Staur_2020_all_lodg']"
      ]
     },
     "execution_count": 41,
     "metadata": {},
     "output_type": "execute_result"
    }
   ],
   "source": [
    "print(f'Total imported {len(all_df)}')\n",
    "all_df"
   ]
  },
  {
   "cell_type": "markdown",
   "metadata": {},
   "source": [
    "## Summary of imported data"
   ]
  },
  {
   "cell_type": "code",
   "execution_count": 42,
   "metadata": {
    "ExecuteTime": {
     "end_time": "2021-10-28T09:03:46.614253Z",
     "start_time": "2021-10-28T09:03:46.601287Z"
    }
   },
   "outputs": [
    {
     "name": "stdout",
     "output_type": "stream",
     "text": [
      "Graminor_2019_all (600, 381)\n",
      "Graminor_2020_all (800, 381)\n",
      "Masbasis_2019_all (528, 280)\n",
      "Masbasis_2020_all_lodg (659, 418)\n",
      "Robot_2020_all (96, 485)\n",
      "Staur_2019_all (1328, 181)\n",
      "Staur_2020_all_lodg (1504, 212)\n"
     ]
    }
   ],
   "source": [
    "for df in all_df:\n",
    "    temp_df = locals()[df].copy()\n",
    "    print(df, temp_df.shape)"
   ]
  },
  {
   "cell_type": "markdown",
   "metadata": {},
   "source": [
    "## GrainYield data "
   ]
  },
  {
   "cell_type": "code",
   "execution_count": 43,
   "metadata": {
    "ExecuteTime": {
     "end_time": "2021-10-28T09:03:46.636193Z",
     "start_time": "2021-10-28T09:03:46.616248Z"
    }
   },
   "outputs": [
    {
     "name": "stdout",
     "output_type": "stream",
     "text": [
      "Graminor_2019_all\n",
      "Grain Yield data missing for  1 out of  600\n",
      "Graminor_2020_all\n",
      "Grain Yield data missing for  1 out of  800\n",
      "Masbasis_2019_all\n",
      "Grain Yield data missing for  6 out of  528\n",
      "Masbasis_2020_all_lodg\n",
      "Grain Yield data missing for  116 out of  659\n",
      "Robot_2020_all\n",
      "Grain Yield data missing for  0 out of  96\n",
      "Staur_2019_all\n",
      "Grain Yield data missing for  0 out of  1328\n",
      "Staur_2020_all_lodg\n",
      "Grain Yield data missing for  568 out of  1504\n"
     ]
    }
   ],
   "source": [
    "# Masbasis_2019_Simps.info(null_counts=True)\n",
    "for df in all_df:\n",
    "    temp_df = locals()[df].copy()\n",
    "#     print('*************', df, '**************')\n",
    "#     print(locals()[df].info())\n",
    "\n",
    "    print (df)\n",
    "    print('Grain Yield data missing for ', temp_df['GrainYield'].isna().sum(), 'out of ', temp_df.shape[0])\n",
    "# Graminor_2019_Simps.info()"
   ]
  },
  {
   "cell_type": "markdown",
   "metadata": {},
   "source": [
    "# Looking for zero values in data"
   ]
  },
  {
   "cell_type": "code",
   "execution_count": 44,
   "metadata": {
    "ExecuteTime": {
     "end_time": "2021-10-28T09:03:47.344816Z",
     "start_time": "2021-10-28T09:03:46.638188Z"
    }
   },
   "outputs": [
    {
     "name": "stdout",
     "output_type": "stream",
     "text": [
      "Masbasis_2020_all_lodg Lodging 502\n",
      "Staur_2020_all_lodg Lodging 157\n"
     ]
    }
   ],
   "source": [
    "# Masbasis_2019_Simps.info(null_counts=True)\n",
    "for df in all_df:\n",
    "    temp_df = locals()[df].copy()\n",
    "    for col in temp_df.columns.to_list():\n",
    "        if (temp_df[col]==0).sum() >0:\n",
    "#             print(temp_df.columns.to_list())\n",
    "            print(df, col, (temp_df[col]==0).sum())"
   ]
  },
  {
   "cell_type": "markdown",
   "metadata": {},
   "source": [
    "# Importing Yield columns and Spectral Indices"
   ]
  },
  {
   "cell_type": "code",
   "execution_count": 45,
   "metadata": {
    "ExecuteTime": {
     "end_time": "2021-10-28T09:03:47.355787Z",
     "start_time": "2021-10-28T09:03:47.347809Z"
    }
   },
   "outputs": [
    {
     "name": "stdout",
     "output_type": "stream",
     "text": [
      "['Entry', 'Replicates', 'Name', 'Lodging', 'GrainYield', 'iBlock', 'Line', 'Pedigree', 'Block', 'Days2Maturity', 'CodeName', 'Heading_Date', 'Days2Heading', 'Maturity_Date']\n"
     ]
    }
   ],
   "source": [
    "a_file = open(main_path+\"yield_columns.json\", \"r\")\n",
    "output_str = a_file.read()\n",
    "\n",
    "# The file is imported as string\n",
    "# Converting it to dictionary\n",
    "yield_cols = json.loads(output_str)\n",
    "a_file.close()\n",
    "print(yield_cols)"
   ]
  },
  {
   "cell_type": "code",
   "execution_count": 46,
   "metadata": {
    "ExecuteTime": {
     "end_time": "2021-10-28T09:03:47.365761Z",
     "start_time": "2021-10-28T09:03:47.357784Z"
    }
   },
   "outputs": [
    {
     "name": "stdout",
     "output_type": "stream",
     "text": [
      "['NDVI', 'MTCI', 'DVI', 'GDVI', 'MTCI_CI', 'EXG', 'EXGR', 'RDVI', 'TDVI', 'GNDVI', 'NDRE', 'SCCI', 'EVI', 'TVI', 'VARI', 'GARI', 'GCI', 'GLI', 'NLI', 'MNLI', 'SAVI', 'GSAVI', 'OSAVI', 'GOSAVI', 'MSAVI2', 'MSR', 'GRVI', 'WDRVI', 'SR']\n"
     ]
    }
   ],
   "source": [
    "a_file = open(main_path+\"spectral_indices_columns.json\", \"r\")\n",
    "output_str = a_file.read()\n",
    "\n",
    "# The file is imported as string\n",
    "# Converting it to dictionary\n",
    "spectral_indices = json.loads(output_str)\n",
    "a_file.close()\n",
    "print(spectral_indices)"
   ]
  },
  {
   "cell_type": "code",
   "execution_count": 47,
   "metadata": {
    "ExecuteTime": {
     "end_time": "2021-10-28T09:03:47.378728Z",
     "start_time": "2021-10-28T09:03:47.370747Z"
    }
   },
   "outputs": [
    {
     "name": "stdout",
     "output_type": "stream",
     "text": [
      "['Blue', 'Green', 'Red', 'RedEdge', 'NIR']\n"
     ]
    }
   ],
   "source": [
    "a_file = open(main_path+\"base_indices_columns.json\", \"r\")\n",
    "output_str = a_file.read()\n",
    "\n",
    "# The file is imported as string\n",
    "# Converting it to dictionary\n",
    "base_indices = json.loads(output_str)\n",
    "a_file.close()\n",
    "print(base_indices)"
   ]
  },
  {
   "cell_type": "markdown",
   "metadata": {},
   "source": [
    "Zeros only present in Lodging columns where present in the dataset."
   ]
  },
  {
   "cell_type": "markdown",
   "metadata": {},
   "source": [
    "# Finding yield columns"
   ]
  },
  {
   "cell_type": "code",
   "execution_count": 48,
   "metadata": {
    "ExecuteTime": {
     "end_time": "2021-10-28T09:03:47.411644Z",
     "start_time": "2021-10-28T09:03:47.382716Z"
    }
   },
   "outputs": [
    {
     "name": "stdout",
     "output_type": "stream",
     "text": [
      "\"GrainYield\" column in Graminor_2019_all is the yield column\n",
      " as it contains the text \"GrainYield\". It is located at location 6\n",
      "\"Block\" column in Graminor_2019_all is the yield column\n",
      " as it contains the text \"Block\". It is located at location 7\n",
      "\"iBlock\" column in Graminor_2019_all is the yield column\n",
      " as it contains the text \"iBlock\". It is located at location 8\n",
      "\"Entry\" column in Graminor_2019_all is the yield column\n",
      " as it contains the text \"Entry\". It is located at location 9\n",
      "\"Name\" column in Graminor_2019_all is the yield column\n",
      " as it contains the text \"Name\". It is located at location 10\n",
      "\"Pedigree\" column in Graminor_2019_all is the yield column\n",
      " as it contains the text \"Pedigree\". It is located at location 11\n",
      "\"GrainYield\" column in Graminor_2020_all is the yield column\n",
      " as it contains the text \"GrainYield\". It is located at location 6\n",
      "\"Block\" column in Graminor_2020_all is the yield column\n",
      " as it contains the text \"Block\". It is located at location 7\n",
      "\"iBlock\" column in Graminor_2020_all is the yield column\n",
      " as it contains the text \"iBlock\". It is located at location 8\n",
      "\"Entry\" column in Graminor_2020_all is the yield column\n",
      " as it contains the text \"Entry\". It is located at location 9\n",
      "\"Name\" column in Graminor_2020_all is the yield column\n",
      " as it contains the text \"Name\". It is located at location 10\n",
      "\"Pedigree\" column in Graminor_2020_all is the yield column\n",
      " as it contains the text \"Pedigree\". It is located at location 11\n",
      "\"GrainYield\" column in Masbasis_2019_all is the yield column\n",
      " as it contains the text \"GrainYield\". It is located at location 6\n",
      "\"Replicates\" column in Masbasis_2019_all is the yield column\n",
      " as it contains the text \"Replicates\". It is located at location 7\n",
      "\"Block\" column in Masbasis_2019_all is the yield column\n",
      " as it contains the text \"Block\". It is located at location 8\n",
      "\"Name\" column in Masbasis_2019_all is the yield column\n",
      " as it contains the text \"Name\". It is located at location 9\n",
      "\"Line\" column in Masbasis_2019_all is the yield column\n",
      " as it contains the text \"Line\". It is located at location 10\n",
      "\"Days2Heading\" column in Masbasis_2019_all is the yield column\n",
      " as it contains the text \"Days2Heading\". It is located at location 11\n",
      "\"Days2Maturity\" column in Masbasis_2019_all is the yield column\n",
      " as it contains the text \"Days2Maturity\". It is located at location 12\n",
      "\"GrainYield\" column in Masbasis_2020_all_lodg is the yield column\n",
      " as it contains the text \"GrainYield\". It is located at location 6\n",
      "\"Replicates\" column in Masbasis_2020_all_lodg is the yield column\n",
      " as it contains the text \"Replicates\". It is located at location 7\n",
      "\"Block\" column in Masbasis_2020_all_lodg is the yield column\n",
      " as it contains the text \"Block\". It is located at location 8\n",
      "\"Name\" column in Masbasis_2020_all_lodg is the yield column\n",
      " as it contains the text \"Name\". It is located at location 9\n",
      "\"Line\" column in Masbasis_2020_all_lodg is the yield column\n",
      " as it contains the text \"Line\". It is located at location 10\n",
      "\"Maturity_Date\" column in Masbasis_2020_all_lodg is the yield column\n",
      " as it contains the text \"Maturity_Date\". It is located at location 11\n",
      "\"Days2Heading\" column in Masbasis_2020_all_lodg is the yield column\n",
      " as it contains the text \"Days2Heading\". It is located at location 12\n",
      "\"Days2Maturity\" column in Masbasis_2020_all_lodg is the yield column\n",
      " as it contains the text \"Days2Maturity\". It is located at location 13\n",
      "\"Lodging\" column in Masbasis_2020_all_lodg is the yield column\n",
      " as it contains the text \"Lodging\". It is located at location 14\n",
      "\"GrainYield\" column in Robot_2020_all is the yield column\n",
      " as it contains the text \"GrainYield\". It is located at location 6\n",
      "\"Block\" column in Robot_2020_all is the yield column\n",
      " as it contains the text \"Block\". It is located at location 7\n",
      "\"Name\" column in Robot_2020_all is the yield column\n",
      " as it contains the text \"Name\". It is located at location 8\n",
      "\"CodeName\" column in Robot_2020_all is the yield column\n",
      " as it contains the text \"CodeName\". It is located at location 9\n",
      "\"Heading_Date\" column in Robot_2020_all is the yield column\n",
      " as it contains the text \"Heading_Date\". It is located at location 10\n",
      "\"Maturity_Date\" column in Robot_2020_all is the yield column\n",
      " as it contains the text \"Maturity_Date\". It is located at location 11\n",
      "\"Days2Heading\" column in Robot_2020_all is the yield column\n",
      " as it contains the text \"Days2Heading\". It is located at location 12\n",
      "\"Days2Maturity\" column in Robot_2020_all is the yield column\n",
      " as it contains the text \"Days2Maturity\". It is located at location 13\n",
      "\"GrainYield\" column in Staur_2019_all is the yield column\n",
      " as it contains the text \"GrainYield\". It is located at location 6\n",
      "\"iBlock\" column in Staur_2019_all is the yield column\n",
      " as it contains the text \"iBlock\". It is located at location 7\n",
      "\"Entry\" column in Staur_2019_all is the yield column\n",
      " as it contains the text \"Entry\". It is located at location 8\n",
      "\"Pedigree\" column in Staur_2019_all is the yield column\n",
      " as it contains the text \"Pedigree\". It is located at location 9\n",
      "\"Replicates\" column in Staur_2019_all is the yield column\n",
      " as it contains the text \"Replicates\". It is located at location 10\n",
      "\"Line\" column in Staur_2019_all is the yield column\n",
      " as it contains the text \"Line\". It is located at location 11\n",
      "\"Days2Heading\" column in Staur_2019_all is the yield column\n",
      " as it contains the text \"Days2Heading\". It is located at location 12\n",
      "\"Days2Maturity\" column in Staur_2019_all is the yield column\n",
      " as it contains the text \"Days2Maturity\". It is located at location 13\n",
      "\"Name\" column in Staur_2019_all is the yield column\n",
      " as it contains the text \"Name\". It is located at location 14\n",
      "\"Block\" column in Staur_2019_all is the yield column\n",
      " as it contains the text \"Block\". It is located at location 15\n",
      "\"GrainYield\" column in Staur_2020_all_lodg is the yield column\n",
      " as it contains the text \"GrainYield\". It is located at location 6\n",
      "\"Block\" column in Staur_2020_all_lodg is the yield column\n",
      " as it contains the text \"Block\". It is located at location 7\n",
      "\"iBlock\" column in Staur_2020_all_lodg is the yield column\n",
      " as it contains the text \"iBlock\". It is located at location 8\n",
      "\"Entry\" column in Staur_2020_all_lodg is the yield column\n",
      " as it contains the text \"Entry\". It is located at location 9\n",
      "\"Name\" column in Staur_2020_all_lodg is the yield column\n",
      " as it contains the text \"Name\". It is located at location 10\n",
      "\"Pedigree\" column in Staur_2020_all_lodg is the yield column\n",
      " as it contains the text \"Pedigree\". It is located at location 11\n",
      "\"Lodging\" column in Staur_2020_all_lodg is the yield column\n",
      " as it contains the text \"Lodging\". It is located at location 12\n"
     ]
    },
    {
     "data": {
      "text/plain": [
       "{'GrainYield_Graminor_2019_all': 6,\n",
       " 'Block_Graminor_2019_all': 7,\n",
       " 'iBlock_Graminor_2019_all': 8,\n",
       " 'Entry_Graminor_2019_all': 9,\n",
       " 'Name_Graminor_2019_all': 10,\n",
       " 'Pedigree_Graminor_2019_all': 11,\n",
       " 'GrainYield_Graminor_2020_all': 6,\n",
       " 'Block_Graminor_2020_all': 7,\n",
       " 'iBlock_Graminor_2020_all': 8,\n",
       " 'Entry_Graminor_2020_all': 9,\n",
       " 'Name_Graminor_2020_all': 10,\n",
       " 'Pedigree_Graminor_2020_all': 11,\n",
       " 'GrainYield_Masbasis_2019_all': 6,\n",
       " 'Replicates_Masbasis_2019_all': 7,\n",
       " 'Block_Masbasis_2019_all': 8,\n",
       " 'Name_Masbasis_2019_all': 9,\n",
       " 'Line_Masbasis_2019_all': 10,\n",
       " 'Days2Heading_Masbasis_2019_all': 11,\n",
       " 'Days2Maturity_Masbasis_2019_all': 12,\n",
       " 'GrainYield_Masbasis_2020_all_lodg': 6,\n",
       " 'Replicates_Masbasis_2020_all_lodg': 7,\n",
       " 'Block_Masbasis_2020_all_lodg': 8,\n",
       " 'Name_Masbasis_2020_all_lodg': 9,\n",
       " 'Line_Masbasis_2020_all_lodg': 10,\n",
       " 'Maturity_Date_Masbasis_2020_all_lodg': 11,\n",
       " 'Days2Heading_Masbasis_2020_all_lodg': 12,\n",
       " 'Days2Maturity_Masbasis_2020_all_lodg': 13,\n",
       " 'Lodging_Masbasis_2020_all_lodg': 14,\n",
       " 'GrainYield_Robot_2020_all': 6,\n",
       " 'Block_Robot_2020_all': 7,\n",
       " 'Name_Robot_2020_all': 8,\n",
       " 'CodeName_Robot_2020_all': 9,\n",
       " 'Heading_Date_Robot_2020_all': 10,\n",
       " 'Maturity_Date_Robot_2020_all': 11,\n",
       " 'Days2Heading_Robot_2020_all': 12,\n",
       " 'Days2Maturity_Robot_2020_all': 13,\n",
       " 'GrainYield_Staur_2019_all': 6,\n",
       " 'iBlock_Staur_2019_all': 7,\n",
       " 'Entry_Staur_2019_all': 8,\n",
       " 'Pedigree_Staur_2019_all': 9,\n",
       " 'Replicates_Staur_2019_all': 10,\n",
       " 'Line_Staur_2019_all': 11,\n",
       " 'Days2Heading_Staur_2019_all': 12,\n",
       " 'Days2Maturity_Staur_2019_all': 13,\n",
       " 'Name_Staur_2019_all': 14,\n",
       " 'Block_Staur_2019_all': 15,\n",
       " 'GrainYield_Staur_2020_all_lodg': 6,\n",
       " 'Block_Staur_2020_all_lodg': 7,\n",
       " 'iBlock_Staur_2020_all_lodg': 8,\n",
       " 'Entry_Staur_2020_all_lodg': 9,\n",
       " 'Name_Staur_2020_all_lodg': 10,\n",
       " 'Pedigree_Staur_2020_all_lodg': 11,\n",
       " 'Lodging_Staur_2020_all_lodg': 12}"
      ]
     },
     "execution_count": 48,
     "metadata": {},
     "output_type": "execute_result"
    }
   ],
   "source": [
    "# ToDo: Add check for duplicate columns in the df\n",
    "\n",
    "base_indices\n",
    "\n",
    "spectral_indices\n",
    "\n",
    "yield_cols\n",
    "\n",
    "id_cols_new = ['Plot_ID']\n",
    "\n",
    "# Counter for location of column in columns list\n",
    "\n",
    "# Dict for saving the name and location of the yield column/s\n",
    "loc_yield_cols = {}\n",
    "for df in all_df:\n",
    "    loc = 0\n",
    "    for cols in locals()[df].columns.tolist():\n",
    "        for y_col in yield_cols:\n",
    "            if not cols.find(y_col):\n",
    "                loc_yield_cols[cols+'_'+df] = loc\n",
    "                print(f'\\\"{cols}\\\" column in {df} is the yield column\\n as it contains the text \\\"{y_col}\\\". It is located at location {loc}')\n",
    "        loc += 1\n",
    "\n",
    "    yield_cols_found = list(loc_yield_cols.keys())\n",
    "    target_cols=yield_cols_found[0]\n",
    "loc_yield_cols"
   ]
  },
  {
   "cell_type": "markdown",
   "metadata": {},
   "source": [
    "# Finding dates between heading and maturity"
   ]
  },
  {
   "cell_type": "code",
   "execution_count": 49,
   "metadata": {
    "ExecuteTime": {
     "end_time": "2021-10-28T09:03:47.419621Z",
     "start_time": "2021-10-28T09:03:47.413639Z"
    }
   },
   "outputs": [
    {
     "data": {
      "text/plain": [
       "['Entry',\n",
       " 'Replicates',\n",
       " 'Name',\n",
       " 'Lodging',\n",
       " 'GrainYield',\n",
       " 'iBlock',\n",
       " 'Line',\n",
       " 'Pedigree',\n",
       " 'Block',\n",
       " 'Days2Maturity',\n",
       " 'CodeName',\n",
       " 'Heading_Date',\n",
       " 'Days2Heading',\n",
       " 'Maturity_Date']"
      ]
     },
     "execution_count": 49,
     "metadata": {},
     "output_type": "execute_result"
    }
   ],
   "source": [
    "yield_cols"
   ]
  },
  {
   "cell_type": "code",
   "execution_count": 50,
   "metadata": {
    "ExecuteTime": {
     "end_time": "2021-10-28T09:03:47.436210Z",
     "start_time": "2021-10-28T09:03:47.421616Z"
    }
   },
   "outputs": [
    {
     "name": "stdout",
     "output_type": "stream",
     "text": [
      "Masbasis_2019_all\n",
      "Masbasis_2020_all_lodg\n",
      "Robot_2020_all\n",
      "Staur_2019_all\n"
     ]
    },
    {
     "data": {
      "text/plain": [
       "['Graminor_2019_all',\n",
       " 'Graminor_2020_all',\n",
       " 'Masbasis_2019_all',\n",
       " 'Masbasis_2020_all_lodg',\n",
       " 'Robot_2020_all',\n",
       " 'Staur_2019_all',\n",
       " 'Staur_2020_all_lodg']"
      ]
     },
     "execution_count": 50,
     "metadata": {},
     "output_type": "execute_result"
    }
   ],
   "source": [
    "for df in all_df:\n",
    "    temp_df = locals()[df].copy()\n",
    "    if 'Days2Maturity' in temp_df.columns:\n",
    "        print(df)\n",
    "all_df"
   ]
  },
  {
   "cell_type": "markdown",
   "metadata": {},
   "source": [
    "## Declaring the important dates for each field"
   ]
  },
  {
   "cell_type": "code",
   "execution_count": 51,
   "metadata": {
    "ExecuteTime": {
     "end_time": "2021-10-28T09:03:47.442195Z",
     "start_time": "2021-10-28T09:03:47.437206Z"
    }
   },
   "outputs": [],
   "source": [
    "# Dates listed in dict in order; sowing, heading, maturity\n",
    "# The order of fields must be the same as in all_df list\n",
    "# sowing_dict = {\n",
    "#     'Graminor_2019': ['240419', 'XX', 'XX'],\n",
    "#     'Graminor_2020': ['150420', 'XX', 'XX'],\n",
    "#     'Masbasis_2019': ['190519', 'XX', 'XX'],\n",
    "#     'Masbasis_2020': ['150520', 'XX', 'XX'],\n",
    "#     'Robot_2020': ['200420', '170620', '310720'],\n",
    "#     'Staur_2019': ['040619', 'XX', 'XX'],\n",
    "#     'Staur_2020': ['210420', 'XX', 'XX'],\n",
    "# }\n",
    "\n",
    "sowing_dict = {\n",
    "    'Graminor_2019': '240419',\n",
    "    'Graminor_2020': '150420',\n",
    "    'Masbasis_2019': '190519',\n",
    "    'Masbasis_2020': '150520',\n",
    "    'Robot_2020': '200420',\n",
    "    'Staur_2019': '040619',\n",
    "    'Staur_2020': '210420',\n",
    "}\n"
   ]
  },
  {
   "cell_type": "markdown",
   "metadata": {},
   "source": [
    "## Filtering df which have Days2Maturity and Days2Heading "
   ]
  },
  {
   "cell_type": "code",
   "execution_count": 52,
   "metadata": {
    "ExecuteTime": {
     "end_time": "2021-10-28T09:03:47.462141Z",
     "start_time": "2021-10-28T09:03:47.449177Z"
    }
   },
   "outputs": [
    {
     "data": {
      "text/plain": [
       "{'Graminor_2019_all': '240419',\n",
       " 'Graminor_2020_all': '150420',\n",
       " 'Masbasis_2019_all': '190519',\n",
       " 'Masbasis_2020_all_lodg': '150520',\n",
       " 'Robot_2020_all': '200420',\n",
       " 'Staur_2019_all': '040619',\n",
       " 'Staur_2020_all_lodg': '210420'}"
      ]
     },
     "execution_count": 52,
     "metadata": {},
     "output_type": "execute_result"
    }
   ],
   "source": [
    "# If the dataset had Days 2 heading and days to maturity columns then create the\n",
    "# following dictionary with the respective sowing dates of each field as value\n",
    "all_df_sowing = {}\n",
    "\n",
    "for df in all_df:\n",
    "    temp_df = locals()[df].copy()\n",
    "    field_temp = df.split('_')[0]+'_'+df.split('_')[1]\n",
    "#     if 'Days2Heading' in temp_df.columns and 'Days2Maturity' in temp_df.columns:\n",
    "#         print(df)\n",
    "#         all_df_sowing[df] = sowing_dict[field_temp]\n",
    "    all_df_sowing[df] = sowing_dict[field_temp]\n",
    "\n",
    "all_df_sowing"
   ]
  },
  {
   "cell_type": "markdown",
   "metadata": {},
   "source": [
    "## Average DH and DM"
   ]
  },
  {
   "cell_type": "code",
   "execution_count": 53,
   "metadata": {
    "ExecuteTime": {
     "end_time": "2021-10-28T09:03:47.611839Z",
     "start_time": "2021-10-28T09:03:47.593884Z"
    },
    "run_control": {
     "marked": true
    }
   },
   "outputs": [
    {
     "data": {
      "text/plain": [
       "{'Masbasis_2019_all': [68.18939393939394, 108.64393939393939],\n",
       " 'Masbasis_2020_all_lodg': [66.28983308042488, 87.94881170018282],\n",
       " 'Robot_2020_all': [61.09375, 110.84375],\n",
       " 'Staur_2019_all': [48.53333333333333, 101.25757575757575]}"
      ]
     },
     "execution_count": 53,
     "metadata": {},
     "output_type": "execute_result"
    }
   ],
   "source": [
    "# Creating a dictionary with average Days2Heading and Days2Maturity for fields whose data is available\n",
    "dict_avg_dh_dm = {}\n",
    "df_dh_dm = []\n",
    "for df in all_df_sowing.keys():\n",
    "    temp_df = locals()[df].copy()\n",
    "\n",
    "#     print('Days2Heading')\n",
    "#     print(locals()[df].Days2Heading.min(), ':      ', locals()[df].Days2Heading.max(), ':     ', locals()[df].Days2Heading.mean())\n",
    "#     print('Days2Maturity')\n",
    "#     print(locals()[df].Days2Maturity.min(), ':      ', locals()[df].Days2Maturity.max(), ':     ', locals()[df].Days2Maturity.mean())\n",
    "\n",
    "    if 'Days2Heading' in temp_df.columns and 'Days2Maturity' in temp_df.columns:\n",
    "        df_dh_dm.append(df)\n",
    "        dict_avg_dh_dm[df] = [locals()[df].Days2Heading.mean(), locals()[df].Days2Maturity.mean()]\n",
    "dict_avg_dh_dm\n"
   ]
  },
  {
   "cell_type": "code",
   "execution_count": 54,
   "metadata": {
    "ExecuteTime": {
     "end_time": "2021-10-28T09:03:47.620812Z",
     "start_time": "2021-10-28T09:03:47.613833Z"
    }
   },
   "outputs": [
    {
     "name": "stdout",
     "output_type": "stream",
     "text": [
      "Average Days2Heading is 61.026577588288035\n",
      "Average Days2Maturity is 102.17351921292449\n"
     ]
    }
   ],
   "source": [
    "from statistics import mean\n",
    "\n",
    "list_dh = []\n",
    "list_dm = []\n",
    "for field, dhdm in dict_avg_dh_dm.items():\n",
    "    list_dh.append(dhdm[0])\n",
    "    list_dm.append(dhdm[1])\n",
    "mean_dh = mean(list_dh)\n",
    "mean_dm = mean(list_dm)\n",
    "print(f'Average Days2Heading is {mean_dh}')\n",
    "print(f'Average Days2Maturity is {mean_dm}')\n"
   ]
  },
  {
   "cell_type": "markdown",
   "metadata": {},
   "source": [
    "# Integration"
   ]
  },
  {
   "cell_type": "code",
   "execution_count": 55,
   "metadata": {
    "ExecuteTime": {
     "end_time": "2021-10-28T09:03:47.768802Z",
     "start_time": "2021-10-28T09:03:47.754830Z"
    }
   },
   "outputs": [
    {
     "ename": "ImportError",
     "evalue": "cannot import name 'cumulative_trapezoid' from 'scipy.integrate' (C:\\Users\\fahad\\AppData\\Roaming\\Python\\Python38\\site-packages\\scipy\\integrate\\__init__.py)",
     "output_type": "error",
     "traceback": [
      "\u001b[1;31m---------------------------------------------------------------------------\u001b[0m",
      "\u001b[1;31mImportError\u001b[0m                               Traceback (most recent call last)",
      "\u001b[1;32m<ipython-input-55-91eac854b4bd>\u001b[0m in \u001b[0;36m<module>\u001b[1;34m\u001b[0m\n\u001b[0;32m      1\u001b[0m \u001b[1;32mfrom\u001b[0m \u001b[0mscipy\u001b[0m\u001b[1;33m.\u001b[0m\u001b[0mintegrate\u001b[0m \u001b[1;32mimport\u001b[0m \u001b[0msimps\u001b[0m\u001b[1;33m\u001b[0m\u001b[1;33m\u001b[0m\u001b[0m\n\u001b[0;32m      2\u001b[0m \u001b[1;32mfrom\u001b[0m \u001b[0mnumpy\u001b[0m \u001b[1;32mimport\u001b[0m \u001b[0mtrapz\u001b[0m\u001b[1;33m\u001b[0m\u001b[1;33m\u001b[0m\u001b[0m\n\u001b[1;32m----> 3\u001b[1;33m \u001b[1;32mfrom\u001b[0m \u001b[0mscipy\u001b[0m\u001b[1;33m.\u001b[0m\u001b[0mintegrate\u001b[0m \u001b[1;32mimport\u001b[0m \u001b[0mcumulative_trapezoid\u001b[0m\u001b[1;33m\u001b[0m\u001b[1;33m\u001b[0m\u001b[0m\n\u001b[0m\u001b[0;32m      4\u001b[0m \u001b[1;32mfrom\u001b[0m \u001b[0mscipy\u001b[0m\u001b[1;33m.\u001b[0m\u001b[0mintegrate\u001b[0m \u001b[1;32mimport\u001b[0m \u001b[0mromb\u001b[0m\u001b[1;33m\u001b[0m\u001b[1;33m\u001b[0m\u001b[0m\n",
      "\u001b[1;31mImportError\u001b[0m: cannot import name 'cumulative_trapezoid' from 'scipy.integrate' (C:\\Users\\fahad\\AppData\\Roaming\\Python\\Python38\\site-packages\\scipy\\integrate\\__init__.py)"
     ]
    }
   ],
   "source": [
    "from scipy.integrate import simps\n",
    "from numpy import trapz\n",
    "from scipy.integrate import cumulative_trapezoid\n",
    "from scipy.integrate import romb"
   ]
  },
  {
   "cell_type": "markdown",
   "metadata": {},
   "source": [
    "## Testing different alternatives"
   ]
  },
  {
   "cell_type": "code",
   "execution_count": 56,
   "metadata": {
    "ExecuteTime": {
     "end_time": "2021-10-28T09:03:47.903943Z",
     "start_time": "2021-10-28T09:03:47.899953Z"
    }
   },
   "outputs": [],
   "source": [
    "# simps(temp_entries_dropna, days_sow)"
   ]
  },
  {
   "cell_type": "code",
   "execution_count": 57,
   "metadata": {
    "ExecuteTime": {
     "end_time": "2021-10-28T09:03:47.913917Z",
     "start_time": "2021-10-28T09:03:47.908931Z"
    },
    "run_control": {
     "marked": false
    }
   },
   "outputs": [],
   "source": [
    "# days_sow\n",
    "\n",
    "# days = [50, 64, 72, ((72 + 87) / 2), 87]\n",
    "# band = [21, 14, 9, ((9 + 2) / 2), 2]\n",
    "\n",
    "# days2 = [50, 64, 72, 87]\n",
    "# band2 = [21, 14, 9, 2]\n",
    "\n",
    "# simps(band, days), simps(band2, days2), "
   ]
  },
  {
   "cell_type": "code",
   "execution_count": 58,
   "metadata": {
    "ExecuteTime": {
     "end_time": "2021-10-28T09:03:47.920897Z",
     "start_time": "2021-10-28T09:03:47.915910Z"
    }
   },
   "outputs": [],
   "source": [
    "# temp_entries_dropna"
   ]
  },
  {
   "cell_type": "code",
   "execution_count": 59,
   "metadata": {
    "ExecuteTime": {
     "end_time": "2021-10-28T09:03:47.928876Z",
     "start_time": "2021-10-28T09:03:47.922892Z"
    }
   },
   "outputs": [
    {
     "data": {
      "text/plain": [
       "['Graminor_2019_all',\n",
       " 'Graminor_2020_all',\n",
       " 'Masbasis_2019_all',\n",
       " 'Masbasis_2020_all_lodg',\n",
       " 'Robot_2020_all',\n",
       " 'Staur_2019_all',\n",
       " 'Staur_2020_all_lodg']"
      ]
     },
     "execution_count": 59,
     "metadata": {},
     "output_type": "execute_result"
    }
   ],
   "source": [
    "all_df"
   ]
  },
  {
   "cell_type": "markdown",
   "metadata": {},
   "source": [
    "## Creating df with Plot_ID and Grain_Yield only\n",
    "## Calculating AUC and creating new df with calculated values"
   ]
  },
  {
   "cell_type": "code",
   "execution_count": 60,
   "metadata": {
    "ExecuteTime": {
     "end_time": "2021-10-28T09:04:50.156116Z",
     "start_time": "2021-10-28T09:03:48.073490Z"
    }
   },
   "outputs": [
    {
     "name": "stdout",
     "output_type": "stream",
     "text": [
      "Graminor_2019_Simps (600, 41) Graminor_2019_Trapz (600, 41)\n",
      "Graminor_2020_Simps (800, 41) Graminor_2020_Trapz (800, 41)\n",
      "Masbasis_2019_Simps (528, 42) Masbasis_2019_Trapz (528, 42)\n",
      "Masbasis_2020_Simps (659, 44) Masbasis_2020_Trapz (659, 44)\n",
      "Robot_2020_Simps (96, 43) Robot_2020_Trapz (96, 43)\n",
      "Staur_2019_Simps (1328, 45) Staur_2019_Trapz (1328, 45)\n",
      "Staur_2020_Simps (1504, 42) Staur_2020_Trapz (1504, 42)\n"
     ]
    }
   ],
   "source": [
    "simp_df_all = []\n",
    "trapz_df_all = []\n",
    "samples_record_simps = {}\n",
    "for df, sowing in all_df_sowing.items():\n",
    "\n",
    "    temp_df = locals()[df].copy()\n",
    "    cols = temp_df.columns\n",
    "    \n",
    "    # Creating a list of columns which other than the indices (ID and yield columns)\n",
    "    # Making a temp list of yield columns since all entries from yield cols are not present in every df\n",
    "    temp_yield_cols = [x for x in temp_df.columns if x in yield_cols]\n",
    "    non_indices_cols = id_cols_new+temp_yield_cols\n",
    "#     print(non_indices_cols)\n",
    "    \n",
    "    df_auc_simps = temp_df[non_indices_cols].copy()\n",
    "    df_auc_trapz = temp_df[non_indices_cols].copy()\n",
    "#     display(df_auc.head())\n",
    "\n",
    "    # Calculating AUC and creating new df with calculated values\n",
    "    temp_samples = {}\n",
    "    for col_name in base_indices+spectral_indices:\n",
    "        df_simp = []\n",
    "        df_trapz = []\n",
    "        # Making temp_cols list avoids problems finding and differentiating 'OSAVI' and 'GOSAVI'\n",
    "        temp_cols = [x for x in cols if col_name.split('_') == x.split('_')[:-1]]\n",
    "        temp_dates = [dt.strptime(date.split('_')[-1], '%d%m%y').date() for date in temp_cols]\n",
    "\n",
    "        # Calculating the days from sowing,i.e. age of the crop in days\n",
    "        sowing_date = dt.strptime(sowing, '%d%m%y').date() \n",
    "        \n",
    "        temp_samples_list = []\n",
    "        for sample in range(temp_df.shape[0]):\n",
    "            # Number of days since sowing for each entry\n",
    "            days_sow = [(x-sowing_date).days for x in temp_dates]\n",
    "            # The respective value of the index in question \n",
    "            temp_entries = [temp_df[x][sample] for x in temp_cols]\n",
    "\n",
    "            #### DROPPING DATES OUTSIDE HEADING AND MATURITY DATES ####\n",
    "            \n",
    "            # Determining Days2Heading values\n",
    "            if 'Days2Heading' in temp_df.columns:\n",
    "                # Days to heading for current sample \n",
    "                DH = temp_df.Days2Heading[sample]\n",
    "                # If DH is missing then use the smallest of Mean DH from fields whose DH is available\n",
    "                if str(DH)=='nan':\n",
    "                    DH = round(min(list_dh))\n",
    "            else:\n",
    "                DH = round(min(list_dh))\n",
    "                \n",
    "                \n",
    "                \n",
    "                \n",
    "            if 'Days2Maturity' in temp_df.columns:\n",
    "                # Days to maturity for current sample \n",
    "                DM = temp_df.Days2Maturity[sample]\n",
    "                # If DM is missing then use the largest of Mean DM from fields whose DM is available\n",
    "                if str(DM)=='nan':\n",
    "                    DM = round(max(list_dm))\n",
    "            else:\n",
    "                DM = round(max(list_dm))  \n",
    "                    \n",
    "            DH = int(DH)\n",
    "            DM = int(DM)\n",
    "            # Making sure that the maturity comes after heading\n",
    "            if DM < DH:\n",
    "                print(DM, DH)\n",
    "            assert DM > DH\n",
    "#             print(DM, DH)\n",
    "            heading_date = sowing_date + timedelta(days=DH)\n",
    "            maturity_date = sowing_date + timedelta(days=DM)\n",
    "            \n",
    "            # Replacing the respective values of items in temp_entries with np.nan which correspond \n",
    "            # to dates not in between heading and maturity for that specific sub-plot\n",
    "#             temp_entries_filtered = [y if heading_date <= x <= maturity_date else np.nan for x,y in zip(temp_dates, temp_entries)]\n",
    "            \n",
    "            ## CHANGE: REMOVING LIMIT FOR HEADING DATE. USING ALL DATA BEFORE MATURITY\n",
    "            temp_entries_filtered = [y if x <= maturity_date else np.nan for x,y in zip(temp_dates, temp_entries)]\n",
    "\n",
    "            # Dropping missing(nan) values from the entries\n",
    "            temp_entries_dropna = [x for x in temp_entries_filtered if str(x) != 'nan']\n",
    "            days_before_dropping = days_sow.copy()\n",
    "            # Checking if the number of items in temp_entries_filtered and days_sow is the same\n",
    "            # If not, i.e., there are missing values(nan) in temp_entries_filtered then drop the\n",
    "            # respective entries from days_sow list\n",
    "            if not len(temp_entries_dropna) == len(days_sow):\n",
    "                # Dictionary comprehension\n",
    "                # Creating dictionary(dict comprehension) where temp_entries_filtered are not nan\n",
    "                dict_dropna = {i: [temp_entries_filtered[i], days_sow[i]] for i in range(len(temp_entries_filtered))\\\n",
    "                       if not str(temp_entries_filtered[i]) == 'nan' }\n",
    "                \n",
    "                # Checking if the previously created temp_entries_dropna is the same as the new that will\n",
    "                # be created from dict_dropna (Unnecessary check but curious to check if any problems arise)\n",
    "                assert temp_entries_dropna == [dict_dropna[i][0] for i in dict_dropna.keys()]\n",
    "                \n",
    "                # Creating new temp entries and days_sow after dropping nan and respective entries in days_sow\n",
    "                temp_entries_dropna = [dict_dropna[i][0] for i in dict_dropna.keys()]\n",
    "                days_sow = [dict_dropna[i][1] for i in dict_dropna.keys()]\n",
    "\n",
    "            # Checking if the lists have the same number of entries\n",
    "            if len(temp_entries_dropna) != len(days_sow):\n",
    "                print(df, col_name, temp_entries, days_before_dropping, temp_entries_dropna, days_sow, dict_dropna)\n",
    "            assert len(temp_entries_dropna) == len(days_sow)\n",
    "            \n",
    "            # Sorting both lists with dates in ascending order\n",
    "            days_sow, temp_entries_dropna = zip(*sorted(zip(days_sow, temp_entries_dropna)))\n",
    "            \n",
    "            simps_value = simps(temp_entries_dropna, days_sow)\n",
    "            trapz_value = trapz(temp_entries_dropna, days_sow)\n",
    "            \n",
    "            df_simp.append(simps_value)\n",
    "            df_trapz.append(trapz_value)\n",
    "            \n",
    "#             if simps_value == 0:\n",
    "#                 print(temp_entries_filtered, days_before_dropping, temp_entries_dropna, days_sow)\n",
    "            # Adding values to a list for reference and record to verify the results and identify problems later\n",
    "            temp_samples_list.append([df, col_name, temp_df['Plot_ID'][sample], simps_value, temp_entries_dropna, days_sow])\n",
    "        temp_samples[col_name] = temp_samples_list\n",
    "\n",
    "        # Insert the new column at the end, but before GrainYield\n",
    "        df_auc_simps.insert(len(df_auc_simps.columns)-1, col_name, df_simp)\n",
    "        df_auc_trapz.insert(len(df_auc_trapz.columns)-1, col_name, df_trapz)\n",
    "        \n",
    "    samples_record_simps[df.split('_')[0]+'_'+df.split('_')[1]] = temp_samples\n",
    "\n",
    "    # Adding the new name of the df to a list named simp_df_all\n",
    "    simp_df = df.split('_')[0]+'_'+df.split('_')[1]+'_Simps'\n",
    "    trapz_df = df.split('_')[0]+'_'+df.split('_')[1]+'_Trapz'\n",
    "\n",
    "    simp_df_all.append(simp_df)\n",
    "    trapz_df_all.append(trapz_df)\n",
    "    print(simp_df, df_auc_simps.shape, trapz_df, df_auc_trapz.shape)\n",
    "    locals()[simp_df] = df_auc_simps.copy()\n",
    "    locals()[trapz_df] = df_auc_trapz.copy()\n",
    "# simp_df_all, trapz_df_all"
   ]
  },
  {
   "cell_type": "code",
   "execution_count": 61,
   "metadata": {
    "ExecuteTime": {
     "end_time": "2021-10-28T09:04:50.161704Z",
     "start_time": "2021-10-28T09:04:50.159111Z"
    }
   },
   "outputs": [],
   "source": [
    "# Masbasis_2020_all_lodg[[x for x in Masbasis_2020_all_lodg.columns if 'EVI' in x]+['Plot_ID']].head(150)"
   ]
  },
  {
   "cell_type": "code",
   "execution_count": 62,
   "metadata": {
    "ExecuteTime": {
     "end_time": "2021-10-28T09:04:50.180485Z",
     "start_time": "2021-10-28T09:04:50.165093Z"
    }
   },
   "outputs": [
    {
     "data": {
      "text/plain": [
       "dict_keys(['Graminor_2019', 'Graminor_2020', 'Masbasis_2019', 'Masbasis_2020', 'Robot_2020', 'Staur_2019', 'Staur_2020'])"
      ]
     },
     "execution_count": 62,
     "metadata": {},
     "output_type": "execute_result"
    }
   ],
   "source": [
    "samples_record_simps.keys()"
   ]
  },
  {
   "cell_type": "code",
   "execution_count": 63,
   "metadata": {
    "ExecuteTime": {
     "end_time": "2021-10-28T09:04:50.189851Z",
     "start_time": "2021-10-28T09:04:50.182870Z"
    }
   },
   "outputs": [
    {
     "data": {
      "text/plain": [
       "((3.991561550234313,\n",
       "  13.550267393424521,\n",
       "  12.97462438907558,\n",
       "  8.757489999068124,\n",
       "  6.443754326877627,\n",
       "  4.2849224878608485),\n",
       " (60, 65, 79, 86, 94, 101))"
      ]
     },
     "execution_count": 63,
     "metadata": {},
     "output_type": "execute_result"
    }
   ],
   "source": [
    "temp_entries_dropna, days_sow"
   ]
  },
  {
   "cell_type": "code",
   "execution_count": 64,
   "metadata": {
    "ExecuteTime": {
     "end_time": "2021-10-28T09:04:50.196833Z",
     "start_time": "2021-10-28T09:04:50.191846Z"
    }
   },
   "outputs": [],
   "source": [
    "# samples_record_simps['Masbasis_2020']['EVI'][149]"
   ]
  },
  {
   "cell_type": "code",
   "execution_count": 32,
   "metadata": {
    "ExecuteTime": {
     "end_time": "2021-10-28T00:26:15.372830Z",
     "start_time": "2021-10-28T00:26:15.353429Z"
    }
   },
   "outputs": [
    {
     "data": {
      "text/plain": [
       "['Graminor_2019_all',\n",
       " 'Graminor_2020_all',\n",
       " 'Masbasis_2019_all',\n",
       " 'Masbasis_2020_all_lodg',\n",
       " 'Robot_2020_all',\n",
       " 'Staur_2019_all',\n",
       " 'Staur_2020_all_lodg']"
      ]
     },
     "execution_count": 32,
     "metadata": {},
     "output_type": "execute_result"
    }
   ],
   "source": [
    "all_df"
   ]
  },
  {
   "cell_type": "code",
   "execution_count": 33,
   "metadata": {
    "ExecuteTime": {
     "end_time": "2021-10-28T09:03:38.145203Z",
     "start_time": "2021-10-28T00:26:19.258399Z"
    }
   },
   "outputs": [
    {
     "data": {
      "application/vnd.jupyter.widget-view+json": {
       "model_id": "f54ec8410467474881f27d14a96914c7",
       "version_major": 2,
       "version_minor": 0
      },
      "text/plain": [
       "IntProgress(value=0, description='Processing: ', max=3)"
      ]
     },
     "metadata": {},
     "output_type": "display_data"
    },
    {
     "data": {
      "text/html": [
       "<div>\n",
       "<style scoped>\n",
       "    .dataframe tbody tr th:only-of-type {\n",
       "        vertical-align: middle;\n",
       "    }\n",
       "\n",
       "    .dataframe tbody tr th {\n",
       "        vertical-align: top;\n",
       "    }\n",
       "\n",
       "    .dataframe thead th {\n",
       "        text-align: right;\n",
       "    }\n",
       "</style>\n",
       "<table border=\"1\" class=\"dataframe\">\n",
       "  <thead>\n",
       "    <tr style=\"text-align: right;\">\n",
       "      <th></th>\n",
       "      <th></th>\n",
       "      <th></th>\n",
       "    </tr>\n",
       "    <tr>\n",
       "      <th></th>\n",
       "      <th></th>\n",
       "      <th></th>\n",
       "    </tr>\n",
       "  </thead>\n",
       "  <tbody>\n",
       "    <tr>\n",
       "      <th>Initiated</th>\n",
       "      <td>. . . . . . . . . . . . . . . . . .</td>\n",
       "      <td>02:26:20</td>\n",
       "    </tr>\n",
       "    <tr>\n",
       "      <th>Status</th>\n",
       "      <td>. . . . . . . . . . . . . . . . . .</td>\n",
       "      <td>Preprocessing Data</td>\n",
       "    </tr>\n",
       "  </tbody>\n",
       "</table>\n",
       "</div>"
      ],
      "text/plain": [
       "                                                                  \n",
       "                                                                  \n",
       "Initiated  . . . . . . . . . . . . . . . . . .            02:26:20\n",
       "Status     . . . . . . . . . . . . . . . . . .  Preprocessing Data"
      ]
     },
     "metadata": {},
     "output_type": "display_data"
    },
    {
     "data": {
      "application/vnd.jupyter.widget-view+json": {
       "model_id": "63788c81fdce477ba0140954cdfb1abf",
       "version_major": 2,
       "version_minor": 0
      },
      "text/plain": [
       "Text(value=\"Following data types have been inferred automatically, if they are correct press enter to continue…"
      ]
     },
     "metadata": {},
     "output_type": "display_data"
    },
    {
     "data": {
      "text/html": [
       "<div>\n",
       "<style scoped>\n",
       "    .dataframe tbody tr th:only-of-type {\n",
       "        vertical-align: middle;\n",
       "    }\n",
       "\n",
       "    .dataframe tbody tr th {\n",
       "        vertical-align: top;\n",
       "    }\n",
       "\n",
       "    .dataframe thead th {\n",
       "        text-align: right;\n",
       "    }\n",
       "</style>\n",
       "<table border=\"1\" class=\"dataframe\">\n",
       "  <thead>\n",
       "    <tr style=\"text-align: right;\">\n",
       "      <th></th>\n",
       "      <th>Data Type</th>\n",
       "    </tr>\n",
       "  </thead>\n",
       "  <tbody>\n",
       "    <tr>\n",
       "      <th>Plot_ID</th>\n",
       "      <td>Numeric</td>\n",
       "    </tr>\n",
       "    <tr>\n",
       "      <th>Blue_120820</th>\n",
       "      <td>Numeric</td>\n",
       "    </tr>\n",
       "    <tr>\n",
       "      <th>Green_120820</th>\n",
       "      <td>Numeric</td>\n",
       "    </tr>\n",
       "    <tr>\n",
       "      <th>Red_120820</th>\n",
       "      <td>Numeric</td>\n",
       "    </tr>\n",
       "    <tr>\n",
       "      <th>RedEdge_120820</th>\n",
       "      <td>Numeric</td>\n",
       "    </tr>\n",
       "    <tr>\n",
       "      <th>...</th>\n",
       "      <td>...</td>\n",
       "    </tr>\n",
       "    <tr>\n",
       "      <th>MSAVI2_180620</th>\n",
       "      <td>Numeric</td>\n",
       "    </tr>\n",
       "    <tr>\n",
       "      <th>MSR_180620</th>\n",
       "      <td>Numeric</td>\n",
       "    </tr>\n",
       "    <tr>\n",
       "      <th>GRVI_180620</th>\n",
       "      <td>Numeric</td>\n",
       "    </tr>\n",
       "    <tr>\n",
       "      <th>WDRVI_180620</th>\n",
       "      <td>Numeric</td>\n",
       "    </tr>\n",
       "    <tr>\n",
       "      <th>SR_180620</th>\n",
       "      <td>Numeric</td>\n",
       "    </tr>\n",
       "  </tbody>\n",
       "</table>\n",
       "<p>485 rows × 1 columns</p>\n",
       "</div>"
      ],
      "text/plain": [
       "               Data Type\n",
       "Plot_ID          Numeric\n",
       "Blue_120820      Numeric\n",
       "Green_120820     Numeric\n",
       "Red_120820       Numeric\n",
       "RedEdge_120820   Numeric\n",
       "...                  ...\n",
       "MSAVI2_180620    Numeric\n",
       "MSR_180620       Numeric\n",
       "GRVI_180620      Numeric\n",
       "WDRVI_180620     Numeric\n",
       "SR_180620        Numeric\n",
       "\n",
       "[485 rows x 1 columns]"
      ]
     },
     "metadata": {},
     "output_type": "display_data"
    },
    {
     "ename": "KeyboardInterrupt",
     "evalue": "Interrupted by user",
     "output_type": "error",
     "traceback": [
      "\u001b[1;31m---------------------------------------------------------------------------\u001b[0m",
      "\u001b[1;31mKeyboardInterrupt\u001b[0m                         Traceback (most recent call last)",
      "\u001b[1;32m<ipython-input-33-8dbd2b71704e>\u001b[0m in \u001b[0;36m<module>\u001b[1;34m\u001b[0m\n\u001b[0;32m      1\u001b[0m \u001b[1;32mfrom\u001b[0m \u001b[0mpycaret\u001b[0m\u001b[1;33m.\u001b[0m\u001b[0manomaly\u001b[0m \u001b[1;32mimport\u001b[0m \u001b[1;33m*\u001b[0m\u001b[1;33m\u001b[0m\u001b[1;33m\u001b[0m\u001b[0m\n\u001b[1;32m----> 2\u001b[1;33m \u001b[0ms\u001b[0m \u001b[1;33m=\u001b[0m \u001b[0msetup\u001b[0m\u001b[1;33m(\u001b[0m\u001b[0mRobot_2020_all\u001b[0m\u001b[1;33m,\u001b[0m \u001b[0msession_id\u001b[0m \u001b[1;33m=\u001b[0m \u001b[1;36m123\u001b[0m\u001b[1;33m)\u001b[0m\u001b[1;33m\u001b[0m\u001b[1;33m\u001b[0m\u001b[0m\n\u001b[0m",
      "\u001b[1;32m~\\AppData\\Roaming\\Python\\Python38\\site-packages\\pycaret\\anomaly.py\u001b[0m in \u001b[0;36msetup\u001b[1;34m(data, preprocess, imputation_type, iterative_imputation_iters, categorical_features, categorical_imputation, categorical_iterative_imputer, ordinal_features, high_cardinality_features, high_cardinality_method, numeric_features, numeric_imputation, numeric_iterative_imputer, date_features, ignore_features, normalize, normalize_method, transformation, transformation_method, handle_unknown_categorical, unknown_categorical_method, pca, pca_method, pca_components, ignore_low_variance, combine_rare_levels, rare_level_threshold, bin_numeric_features, remove_multicollinearity, multicollinearity_threshold, remove_perfect_collinearity, group_features, group_names, n_jobs, use_gpu, custom_pipeline, html, session_id, log_experiment, experiment_name, log_plots, log_profile, log_data, silent, verbose, profile, profile_kwargs)\u001b[0m\n\u001b[0;32m    376\u001b[0m         \u001b[0mlog_plots\u001b[0m \u001b[1;33m=\u001b[0m \u001b[1;33m[\u001b[0m\u001b[1;34m\"tsne\"\u001b[0m\u001b[1;33m]\u001b[0m\u001b[1;33m\u001b[0m\u001b[1;33m\u001b[0m\u001b[0m\n\u001b[0;32m    377\u001b[0m \u001b[1;33m\u001b[0m\u001b[0m\n\u001b[1;32m--> 378\u001b[1;33m     return pycaret.internal.tabular.setup(\n\u001b[0m\u001b[0;32m    379\u001b[0m         \u001b[0mml_usecase\u001b[0m\u001b[1;33m=\u001b[0m\u001b[1;34m\"anomaly\"\u001b[0m\u001b[1;33m,\u001b[0m\u001b[1;33m\u001b[0m\u001b[1;33m\u001b[0m\u001b[0m\n\u001b[0;32m    380\u001b[0m         \u001b[0mavailable_plots\u001b[0m\u001b[1;33m=\u001b[0m\u001b[0mavailable_plots\u001b[0m\u001b[1;33m,\u001b[0m\u001b[1;33m\u001b[0m\u001b[1;33m\u001b[0m\u001b[0m\n",
      "\u001b[1;32m~\\AppData\\Roaming\\Python\\Python38\\site-packages\\pycaret\\internal\\tabular.py\u001b[0m in \u001b[0;36msetup\u001b[1;34m(data, target, ml_usecase, available_plots, train_size, test_data, preprocess, imputation_type, iterative_imputation_iters, categorical_features, categorical_imputation, categorical_iterative_imputer, ordinal_features, high_cardinality_features, high_cardinality_method, numeric_features, numeric_imputation, numeric_iterative_imputer, date_features, ignore_features, normalize, normalize_method, transformation, transformation_method, handle_unknown_categorical, unknown_categorical_method, pca, pca_method, pca_components, ignore_low_variance, combine_rare_levels, rare_level_threshold, bin_numeric_features, remove_outliers, outliers_threshold, remove_multicollinearity, multicollinearity_threshold, remove_perfect_collinearity, create_clusters, cluster_iter, polynomial_features, polynomial_degree, trigonometry_features, polynomial_threshold, group_features, group_names, feature_selection, feature_selection_threshold, feature_selection_method, feature_interaction, feature_ratio, interaction_threshold, fix_imbalance, fix_imbalance_method, transform_target, transform_target_method, data_split_shuffle, data_split_stratify, fold_strategy, fold, fold_shuffle, fold_groups, n_jobs, use_gpu, custom_pipeline, html, session_id, log_experiment, experiment_name, log_plots, log_profile, log_data, silent, verbose, profile, profile_kwargs, display)\u001b[0m\n\u001b[0;32m   1352\u001b[0m         \u001b[0my\u001b[0m \u001b[1;33m=\u001b[0m \u001b[0mdata\u001b[0m\u001b[1;33m[\u001b[0m\u001b[0mtarget\u001b[0m\u001b[1;33m]\u001b[0m\u001b[1;33m\u001b[0m\u001b[1;33m\u001b[0m\u001b[0m\n\u001b[0;32m   1353\u001b[0m     \u001b[1;32melse\u001b[0m\u001b[1;33m:\u001b[0m\u001b[1;33m\u001b[0m\u001b[1;33m\u001b[0m\u001b[0m\n\u001b[1;32m-> 1354\u001b[1;33m         \u001b[0mX\u001b[0m \u001b[1;33m=\u001b[0m \u001b[0mprep_pipe\u001b[0m\u001b[1;33m.\u001b[0m\u001b[0mfit_transform\u001b[0m\u001b[1;33m(\u001b[0m\u001b[0mtrain_data\u001b[0m\u001b[1;33m)\u001b[0m\u001b[1;33m.\u001b[0m\u001b[0mdrop\u001b[0m\u001b[1;33m(\u001b[0m\u001b[0mtarget\u001b[0m\u001b[1;33m,\u001b[0m \u001b[0maxis\u001b[0m\u001b[1;33m=\u001b[0m\u001b[1;36m1\u001b[0m\u001b[1;33m)\u001b[0m\u001b[1;33m\u001b[0m\u001b[1;33m\u001b[0m\u001b[0m\n\u001b[0m\u001b[0;32m   1355\u001b[0m         \u001b[0mX_train\u001b[0m \u001b[1;33m=\u001b[0m \u001b[0mX\u001b[0m\u001b[1;33m\u001b[0m\u001b[1;33m\u001b[0m\u001b[0m\n\u001b[0;32m   1356\u001b[0m \u001b[1;33m\u001b[0m\u001b[0m\n",
      "\u001b[1;32mC:\\ProgramData\\Anaconda3\\lib\\site-packages\\sklearn\\pipeline.py\u001b[0m in \u001b[0;36mfit_transform\u001b[1;34m(self, X, y, **fit_params)\u001b[0m\n\u001b[0;32m    365\u001b[0m         \"\"\"\n\u001b[0;32m    366\u001b[0m         \u001b[0mfit_params_steps\u001b[0m \u001b[1;33m=\u001b[0m \u001b[0mself\u001b[0m\u001b[1;33m.\u001b[0m\u001b[0m_check_fit_params\u001b[0m\u001b[1;33m(\u001b[0m\u001b[1;33m**\u001b[0m\u001b[0mfit_params\u001b[0m\u001b[1;33m)\u001b[0m\u001b[1;33m\u001b[0m\u001b[1;33m\u001b[0m\u001b[0m\n\u001b[1;32m--> 367\u001b[1;33m         \u001b[0mXt\u001b[0m \u001b[1;33m=\u001b[0m \u001b[0mself\u001b[0m\u001b[1;33m.\u001b[0m\u001b[0m_fit\u001b[0m\u001b[1;33m(\u001b[0m\u001b[0mX\u001b[0m\u001b[1;33m,\u001b[0m \u001b[0my\u001b[0m\u001b[1;33m,\u001b[0m \u001b[1;33m**\u001b[0m\u001b[0mfit_params_steps\u001b[0m\u001b[1;33m)\u001b[0m\u001b[1;33m\u001b[0m\u001b[1;33m\u001b[0m\u001b[0m\n\u001b[0m\u001b[0;32m    368\u001b[0m \u001b[1;33m\u001b[0m\u001b[0m\n\u001b[0;32m    369\u001b[0m         \u001b[0mlast_step\u001b[0m \u001b[1;33m=\u001b[0m \u001b[0mself\u001b[0m\u001b[1;33m.\u001b[0m\u001b[0m_final_estimator\u001b[0m\u001b[1;33m\u001b[0m\u001b[1;33m\u001b[0m\u001b[0m\n",
      "\u001b[1;32mC:\\ProgramData\\Anaconda3\\lib\\site-packages\\sklearn\\pipeline.py\u001b[0m in \u001b[0;36m_fit\u001b[1;34m(self, X, y, **fit_params_steps)\u001b[0m\n\u001b[0;32m    290\u001b[0m                 \u001b[0mcloned_transformer\u001b[0m \u001b[1;33m=\u001b[0m \u001b[0mclone\u001b[0m\u001b[1;33m(\u001b[0m\u001b[0mtransformer\u001b[0m\u001b[1;33m)\u001b[0m\u001b[1;33m\u001b[0m\u001b[1;33m\u001b[0m\u001b[0m\n\u001b[0;32m    291\u001b[0m             \u001b[1;31m# Fit or load from cache the current transformer\u001b[0m\u001b[1;33m\u001b[0m\u001b[1;33m\u001b[0m\u001b[1;33m\u001b[0m\u001b[0m\n\u001b[1;32m--> 292\u001b[1;33m             X, fitted_transformer = fit_transform_one_cached(\n\u001b[0m\u001b[0;32m    293\u001b[0m                 \u001b[0mcloned_transformer\u001b[0m\u001b[1;33m,\u001b[0m \u001b[0mX\u001b[0m\u001b[1;33m,\u001b[0m \u001b[0my\u001b[0m\u001b[1;33m,\u001b[0m \u001b[1;32mNone\u001b[0m\u001b[1;33m,\u001b[0m\u001b[1;33m\u001b[0m\u001b[1;33m\u001b[0m\u001b[0m\n\u001b[0;32m    294\u001b[0m                 \u001b[0mmessage_clsname\u001b[0m\u001b[1;33m=\u001b[0m\u001b[1;34m'Pipeline'\u001b[0m\u001b[1;33m,\u001b[0m\u001b[1;33m\u001b[0m\u001b[1;33m\u001b[0m\u001b[0m\n",
      "\u001b[1;32m~\\AppData\\Roaming\\Python\\Python38\\site-packages\\joblib\\memory.py\u001b[0m in \u001b[0;36m__call__\u001b[1;34m(self, *args, **kwargs)\u001b[0m\n\u001b[0;32m    350\u001b[0m \u001b[1;33m\u001b[0m\u001b[0m\n\u001b[0;32m    351\u001b[0m     \u001b[1;32mdef\u001b[0m \u001b[0m__call__\u001b[0m\u001b[1;33m(\u001b[0m\u001b[0mself\u001b[0m\u001b[1;33m,\u001b[0m \u001b[1;33m*\u001b[0m\u001b[0margs\u001b[0m\u001b[1;33m,\u001b[0m \u001b[1;33m**\u001b[0m\u001b[0mkwargs\u001b[0m\u001b[1;33m)\u001b[0m\u001b[1;33m:\u001b[0m\u001b[1;33m\u001b[0m\u001b[1;33m\u001b[0m\u001b[0m\n\u001b[1;32m--> 352\u001b[1;33m         \u001b[1;32mreturn\u001b[0m \u001b[0mself\u001b[0m\u001b[1;33m.\u001b[0m\u001b[0mfunc\u001b[0m\u001b[1;33m(\u001b[0m\u001b[1;33m*\u001b[0m\u001b[0margs\u001b[0m\u001b[1;33m,\u001b[0m \u001b[1;33m**\u001b[0m\u001b[0mkwargs\u001b[0m\u001b[1;33m)\u001b[0m\u001b[1;33m\u001b[0m\u001b[1;33m\u001b[0m\u001b[0m\n\u001b[0m\u001b[0;32m    353\u001b[0m \u001b[1;33m\u001b[0m\u001b[0m\n\u001b[0;32m    354\u001b[0m     \u001b[1;32mdef\u001b[0m \u001b[0mcall_and_shelve\u001b[0m\u001b[1;33m(\u001b[0m\u001b[0mself\u001b[0m\u001b[1;33m,\u001b[0m \u001b[1;33m*\u001b[0m\u001b[0margs\u001b[0m\u001b[1;33m,\u001b[0m \u001b[1;33m**\u001b[0m\u001b[0mkwargs\u001b[0m\u001b[1;33m)\u001b[0m\u001b[1;33m:\u001b[0m\u001b[1;33m\u001b[0m\u001b[1;33m\u001b[0m\u001b[0m\n",
      "\u001b[1;32mC:\\ProgramData\\Anaconda3\\lib\\site-packages\\sklearn\\pipeline.py\u001b[0m in \u001b[0;36m_fit_transform_one\u001b[1;34m(transformer, X, y, weight, message_clsname, message, **fit_params)\u001b[0m\n\u001b[0;32m    738\u001b[0m     \u001b[1;32mwith\u001b[0m \u001b[0m_print_elapsed_time\u001b[0m\u001b[1;33m(\u001b[0m\u001b[0mmessage_clsname\u001b[0m\u001b[1;33m,\u001b[0m \u001b[0mmessage\u001b[0m\u001b[1;33m)\u001b[0m\u001b[1;33m:\u001b[0m\u001b[1;33m\u001b[0m\u001b[1;33m\u001b[0m\u001b[0m\n\u001b[0;32m    739\u001b[0m         \u001b[1;32mif\u001b[0m \u001b[0mhasattr\u001b[0m\u001b[1;33m(\u001b[0m\u001b[0mtransformer\u001b[0m\u001b[1;33m,\u001b[0m \u001b[1;34m'fit_transform'\u001b[0m\u001b[1;33m)\u001b[0m\u001b[1;33m:\u001b[0m\u001b[1;33m\u001b[0m\u001b[1;33m\u001b[0m\u001b[0m\n\u001b[1;32m--> 740\u001b[1;33m             \u001b[0mres\u001b[0m \u001b[1;33m=\u001b[0m \u001b[0mtransformer\u001b[0m\u001b[1;33m.\u001b[0m\u001b[0mfit_transform\u001b[0m\u001b[1;33m(\u001b[0m\u001b[0mX\u001b[0m\u001b[1;33m,\u001b[0m \u001b[0my\u001b[0m\u001b[1;33m,\u001b[0m \u001b[1;33m**\u001b[0m\u001b[0mfit_params\u001b[0m\u001b[1;33m)\u001b[0m\u001b[1;33m\u001b[0m\u001b[1;33m\u001b[0m\u001b[0m\n\u001b[0m\u001b[0;32m    741\u001b[0m         \u001b[1;32melse\u001b[0m\u001b[1;33m:\u001b[0m\u001b[1;33m\u001b[0m\u001b[1;33m\u001b[0m\u001b[0m\n\u001b[0;32m    742\u001b[0m             \u001b[0mres\u001b[0m \u001b[1;33m=\u001b[0m \u001b[0mtransformer\u001b[0m\u001b[1;33m.\u001b[0m\u001b[0mfit\u001b[0m\u001b[1;33m(\u001b[0m\u001b[0mX\u001b[0m\u001b[1;33m,\u001b[0m \u001b[0my\u001b[0m\u001b[1;33m,\u001b[0m \u001b[1;33m**\u001b[0m\u001b[0mfit_params\u001b[0m\u001b[1;33m)\u001b[0m\u001b[1;33m.\u001b[0m\u001b[0mtransform\u001b[0m\u001b[1;33m(\u001b[0m\u001b[0mX\u001b[0m\u001b[1;33m)\u001b[0m\u001b[1;33m\u001b[0m\u001b[1;33m\u001b[0m\u001b[0m\n",
      "\u001b[1;32m~\\AppData\\Roaming\\Python\\Python38\\site-packages\\pycaret\\internal\\preprocess.py\u001b[0m in \u001b[0;36mfit_transform\u001b[1;34m(self, dataset, y)\u001b[0m\n\u001b[0;32m    419\u001b[0m \u001b[1;33m\u001b[0m\u001b[0m\n\u001b[0;32m    420\u001b[0m         \u001b[1;31m# since this is for training , we dont nees any transformation since it has already been transformed in fit\u001b[0m\u001b[1;33m\u001b[0m\u001b[1;33m\u001b[0m\u001b[1;33m\u001b[0m\u001b[0m\n\u001b[1;32m--> 421\u001b[1;33m         \u001b[0mdata\u001b[0m \u001b[1;33m=\u001b[0m \u001b[0mself\u001b[0m\u001b[1;33m.\u001b[0m\u001b[0mfit\u001b[0m\u001b[1;33m(\u001b[0m\u001b[0mdata\u001b[0m\u001b[1;33m)\u001b[0m\u001b[1;33m\u001b[0m\u001b[1;33m\u001b[0m\u001b[0m\n\u001b[0m\u001b[0;32m    422\u001b[0m \u001b[1;33m\u001b[0m\u001b[0m\n\u001b[0;32m    423\u001b[0m         \u001b[1;31m# additionally we just need to treat the target variable\u001b[0m\u001b[1;33m\u001b[0m\u001b[1;33m\u001b[0m\u001b[1;33m\u001b[0m\u001b[0m\n",
      "\u001b[1;32m~\\AppData\\Roaming\\Python\\Python38\\site-packages\\pycaret\\internal\\preprocess.py\u001b[0m in \u001b[0;36mfit\u001b[1;34m(self, dataset, y)\u001b[0m\n\u001b[0;32m    321\u001b[0m \u001b[1;33m\u001b[0m\u001b[0m\n\u001b[0;32m    322\u001b[0m             \u001b[0mdisplay\u001b[0m\u001b[1;33m(\u001b[0m\u001b[0mdt_print_out\u001b[0m\u001b[1;33m[\u001b[0m\u001b[1;33m[\u001b[0m\u001b[1;34m\"Data Type\"\u001b[0m\u001b[1;33m]\u001b[0m\u001b[1;33m]\u001b[0m\u001b[1;33m)\u001b[0m\u001b[1;33m\u001b[0m\u001b[1;33m\u001b[0m\u001b[0m\n\u001b[1;32m--> 323\u001b[1;33m             \u001b[0mself\u001b[0m\u001b[1;33m.\u001b[0m\u001b[0mresponse\u001b[0m \u001b[1;33m=\u001b[0m \u001b[0minput\u001b[0m\u001b[1;33m(\u001b[0m\u001b[1;33m)\u001b[0m\u001b[1;33m\u001b[0m\u001b[1;33m\u001b[0m\u001b[0m\n\u001b[0m\u001b[0;32m    324\u001b[0m \u001b[1;33m\u001b[0m\u001b[0m\n\u001b[0;32m    325\u001b[0m             if self.response in [\n",
      "\u001b[1;32mC:\\ProgramData\\Anaconda3\\lib\\site-packages\\ipykernel\\kernelbase.py\u001b[0m in \u001b[0;36mraw_input\u001b[1;34m(self, prompt)\u001b[0m\n\u001b[0;32m    858\u001b[0m                 \u001b[1;34m\"raw_input was called, but this frontend does not support input requests.\"\u001b[0m\u001b[1;33m\u001b[0m\u001b[1;33m\u001b[0m\u001b[0m\n\u001b[0;32m    859\u001b[0m             )\n\u001b[1;32m--> 860\u001b[1;33m         return self._input_request(str(prompt),\n\u001b[0m\u001b[0;32m    861\u001b[0m             \u001b[0mself\u001b[0m\u001b[1;33m.\u001b[0m\u001b[0m_parent_ident\u001b[0m\u001b[1;33m,\u001b[0m\u001b[1;33m\u001b[0m\u001b[1;33m\u001b[0m\u001b[0m\n\u001b[0;32m    862\u001b[0m             \u001b[0mself\u001b[0m\u001b[1;33m.\u001b[0m\u001b[0m_parent_header\u001b[0m\u001b[1;33m,\u001b[0m\u001b[1;33m\u001b[0m\u001b[1;33m\u001b[0m\u001b[0m\n",
      "\u001b[1;32mC:\\ProgramData\\Anaconda3\\lib\\site-packages\\ipykernel\\kernelbase.py\u001b[0m in \u001b[0;36m_input_request\u001b[1;34m(self, prompt, ident, parent, password)\u001b[0m\n\u001b[0;32m    902\u001b[0m             \u001b[1;32mexcept\u001b[0m \u001b[0mKeyboardInterrupt\u001b[0m\u001b[1;33m:\u001b[0m\u001b[1;33m\u001b[0m\u001b[1;33m\u001b[0m\u001b[0m\n\u001b[0;32m    903\u001b[0m                 \u001b[1;31m# re-raise KeyboardInterrupt, to truncate traceback\u001b[0m\u001b[1;33m\u001b[0m\u001b[1;33m\u001b[0m\u001b[1;33m\u001b[0m\u001b[0m\n\u001b[1;32m--> 904\u001b[1;33m                 \u001b[1;32mraise\u001b[0m \u001b[0mKeyboardInterrupt\u001b[0m\u001b[1;33m(\u001b[0m\u001b[1;34m\"Interrupted by user\"\u001b[0m\u001b[1;33m)\u001b[0m \u001b[1;32mfrom\u001b[0m \u001b[1;32mNone\u001b[0m\u001b[1;33m\u001b[0m\u001b[1;33m\u001b[0m\u001b[0m\n\u001b[0m\u001b[0;32m    905\u001b[0m             \u001b[1;32mexcept\u001b[0m \u001b[0mException\u001b[0m \u001b[1;32mas\u001b[0m \u001b[0me\u001b[0m\u001b[1;33m:\u001b[0m\u001b[1;33m\u001b[0m\u001b[1;33m\u001b[0m\u001b[0m\n\u001b[0;32m    906\u001b[0m                 \u001b[0mself\u001b[0m\u001b[1;33m.\u001b[0m\u001b[0mlog\u001b[0m\u001b[1;33m.\u001b[0m\u001b[0mwarning\u001b[0m\u001b[1;33m(\u001b[0m\u001b[1;34m\"Invalid Message:\"\u001b[0m\u001b[1;33m,\u001b[0m \u001b[0mexc_info\u001b[0m\u001b[1;33m=\u001b[0m\u001b[1;32mTrue\u001b[0m\u001b[1;33m)\u001b[0m\u001b[1;33m\u001b[0m\u001b[1;33m\u001b[0m\u001b[0m\n",
      "\u001b[1;31mKeyboardInterrupt\u001b[0m: Interrupted by user"
     ]
    }
   ],
   "source": [
    "from pycaret.anomaly import *\n",
    "s = setup(Robot_2020_all, session_id = 123)"
   ]
  },
  {
   "cell_type": "code",
   "execution_count": null,
   "metadata": {
    "ExecuteTime": {
     "end_time": "2021-10-28T09:03:38.147198Z",
     "start_time": "2021-10-28T00:26:27.603Z"
    }
   },
   "outputs": [],
   "source": [
    "iforest = create_model('iforest', fraction = 0.1)\n",
    "iforest_results = assign_model(iforest)\n",
    "iforest_results.head()"
   ]
  },
  {
   "cell_type": "code",
   "execution_count": null,
   "metadata": {},
   "outputs": [],
   "source": [
    "iforest_results[iforest_results['Anomaly'] == 1].head()\n"
   ]
  },
  {
   "cell_type": "code",
   "execution_count": null,
   "metadata": {},
   "outputs": [],
   "source": [
    "import plotly.graph_objects as go\n",
    "# plot value on y-axis and date on x-axis\n",
    "fig = px.line(iforest_results, x=iforest_results.index, y=\"value\", title='NYC TAXI TRIPS - UNSUPERVISED ANOMALY DETECTION', template = 'plotly_dark')\n",
    "# create list of outlier_dates\n",
    "outlier_dates = iforest_results[iforest_results['Anomaly'] == 1].index\n",
    "# obtain y value of anomalies to plot\n",
    "y_values = [iforest_results.loc[i]['value'] for i in outlier_dates]\n",
    "fig.add_trace(go.Scatter(x=outlier_dates, y=y_values, mode = 'markers', \n",
    "                name = 'Anomaly', \n",
    "                marker=dict(color='red',size=10)))\n",
    "        \n",
    "fig.show()"
   ]
  },
  {
   "cell_type": "code",
   "execution_count": null,
   "metadata": {},
   "outputs": [],
   "source": []
  },
  {
   "cell_type": "code",
   "execution_count": null,
   "metadata": {},
   "outputs": [],
   "source": []
  },
  {
   "cell_type": "code",
   "execution_count": 69,
   "metadata": {
    "ExecuteTime": {
     "end_time": "2021-10-28T00:08:38.223304Z",
     "start_time": "2021-10-28T00:08:38.114733Z"
    }
   },
   "outputs": [
    {
     "data": {
      "text/plain": [
       "[<matplotlib.lines.Line2D at 0x191ba09dc40>]"
      ]
     },
     "execution_count": 69,
     "metadata": {},
     "output_type": "execute_result"
    },
    {
     "data": {
      "image/png": "[encoded data removed]",
      "text/plain": [
       "<Figure size 432x288 with 1 Axes>"
      ]
     },
     "metadata": {
      "needs_background": "light"
     },
     "output_type": "display_data"
    }
   ],
   "source": [
    "plt.plot(days_sow, temp_entries_dropna)"
   ]
  },
  {
   "cell_type": "code",
   "execution_count": 70,
   "metadata": {
    "ExecuteTime": {
     "end_time": "2021-10-28T00:08:49.006144Z",
     "start_time": "2021-10-28T00:08:48.987167Z"
    }
   },
   "outputs": [
    {
     "data": {
      "text/plain": [
       "((3.991561550234313,\n",
       "  13.550267393424521,\n",
       "  12.97462438907558,\n",
       "  8.757489999068124,\n",
       "  6.443754326877627,\n",
       "  4.2849224878608485),\n",
       " (60, 65, 79, 86, 94, 101))"
      ]
     },
     "execution_count": 70,
     "metadata": {},
     "output_type": "execute_result"
    }
   ],
   "source": [
    "temp_entries_dropna, days_sow"
   ]
  },
  {
   "cell_type": "code",
   "execution_count": null,
   "metadata": {},
   "outputs": [],
   "source": []
  },
  {
   "cell_type": "code",
   "execution_count": null,
   "metadata": {},
   "outputs": [],
   "source": []
  },
  {
   "cell_type": "markdown",
   "metadata": {},
   "source": [
    "## Looking for Zero values in data"
   ]
  },
  {
   "cell_type": "code",
   "execution_count": 33,
   "metadata": {
    "ExecuteTime": {
     "end_time": "2021-10-27T22:35:49.663787Z",
     "start_time": "2021-10-27T22:35:49.478748Z"
    }
   },
   "outputs": [],
   "source": [
    "# Masbasis_2019_Simps.info(null_counts=True)\n",
    "for df in simp_df_all+trapz_df_all:\n",
    "    temp_df = locals()[df][base_indices+spectral_indices].copy()\n",
    "    for col in temp_df.columns.to_list():\n",
    "        if (temp_df[col]==0).sum() >0:\n",
    "#             print(temp_df.columns.to_list())\n",
    "            print(df, col, (temp_df[col]==0).sum())"
   ]
  },
  {
   "cell_type": "code",
   "execution_count": 34,
   "metadata": {
    "ExecuteTime": {
     "end_time": "2021-10-27T22:35:49.678747Z",
     "start_time": "2021-10-27T22:35:49.665782Z"
    }
   },
   "outputs": [
    {
     "name": "stdout",
     "output_type": "stream",
     "text": [
      "dict_keys(['Blue', 'Green', 'Red', 'RedEdge', 'NIR', 'NDVI', 'MTCI', 'DVI', 'GDVI', 'MTCI_CI', 'EXG', 'EXGR', 'RDVI', 'TDVI', 'GNDVI', 'NDRE', 'SCCI', 'EVI', 'TVI', 'VARI', 'GARI', 'GCI', 'GLI', 'NLI', 'MNLI', 'SAVI', 'GSAVI', 'OSAVI', 'GOSAVI', 'MSAVI2', 'MSR', 'GRVI', 'WDRVI', 'SR'])\n"
     ]
    }
   ],
   "source": [
    "# Plot_ID, simps_value, trapz_value, temp_cols, temp_dates, sowing_date, DH, DM, heading_date, maturity_date, temp_entries, days_before, temp_entries_dropna, days_sow])\n",
    "\n",
    "list_problem = []\n",
    "pprint(samples_record_simps['Masbasis_2019'].keys())\n",
    "for keya, data in samples_record_simps['Masbasis_2019'].items():\n",
    "    for x in data:\n",
    "        if x [1]==0:\n",
    "            temp_entries = x[10]\n",
    "            days_sow = x[11]\n",
    "#             simps(xx,dd)\n",
    "            sowing_date = x[5]\n",
    "            DH = x[6]\n",
    "            DM = x[7]\n",
    "            temp_dates = x[4]\n",
    "            heading_date= x[8]\n",
    "            maturity_date = x[9]\n",
    "#             print(x[0], x[5])\n",
    "#             print(x)\n",
    "            list_problem.append(x[0])\n",
    "            temp_entries_filtered = [x if heading_date <= x <= maturity_date else np.nan for x,y in zip(temp_dates, temp_entries)]\n",
    "            print(heading_date.strftime('%d%m%y'),[x.strftime('%d%m%y') for x in temp_dates],  maturity_date.strftime('%d%m%y'))\n",
    "            print('************************')"
   ]
  },
  {
   "cell_type": "code",
   "execution_count": 35,
   "metadata": {
    "ExecuteTime": {
     "end_time": "2021-10-27T22:35:49.694705Z",
     "start_time": "2021-10-27T22:35:49.680742Z"
    }
   },
   "outputs": [
    {
     "data": {
      "text/plain": [
       "(datetime.date(2020, 4, 21),\n",
       " 49,\n",
       " 111,\n",
       " datetime.date(2020, 6, 9),\n",
       " datetime.date(2020, 8, 10),\n",
       " [datetime.date(2020, 7, 31),\n",
       "  datetime.date(2020, 7, 24),\n",
       "  datetime.date(2020, 7, 16),\n",
       "  datetime.date(2020, 7, 9),\n",
       "  datetime.date(2020, 6, 25),\n",
       "  datetime.date(2020, 6, 20)])"
      ]
     },
     "execution_count": 35,
     "metadata": {},
     "output_type": "execute_result"
    }
   ],
   "source": [
    "\n",
    "temp_entries_filtered = [y if heading_date <= x <= maturity_date else np.nan for x,y in zip(temp_dates, temp_entries)]\n",
    "temp_entries_filtered\n",
    "# \n",
    "sowing_date, DH, DM, heading_date, maturity_date, temp_dates"
   ]
  },
  {
   "cell_type": "code",
   "execution_count": 36,
   "metadata": {
    "ExecuteTime": {
     "end_time": "2021-10-27T22:35:49.710662Z",
     "start_time": "2021-10-27T22:35:49.696699Z"
    }
   },
   "outputs": [
    {
     "data": {
      "text/plain": [
       "[4.2849224878608485,\n",
       " 6.443754326877627,\n",
       " 8.757489999068124,\n",
       " 12.97462438907558,\n",
       " 13.550267393424521,\n",
       " 3.991561550234313]"
      ]
     },
     "execution_count": 36,
     "metadata": {},
     "output_type": "execute_result"
    }
   ],
   "source": [
    "temp_entries"
   ]
  },
  {
   "cell_type": "code",
   "execution_count": 37,
   "metadata": {
    "ExecuteTime": {
     "end_time": "2021-10-27T22:35:49.742672Z",
     "start_time": "2021-10-27T22:35:49.712657Z"
    }
   },
   "outputs": [
    {
     "data": {
      "text/html": [
       "<div>\n",
       "<style scoped>\n",
       "    .dataframe tbody tr th:only-of-type {\n",
       "        vertical-align: middle;\n",
       "    }\n",
       "\n",
       "    .dataframe tbody tr th {\n",
       "        vertical-align: top;\n",
       "    }\n",
       "\n",
       "    .dataframe thead th {\n",
       "        text-align: right;\n",
       "    }\n",
       "</style>\n",
       "<table border=\"1\" class=\"dataframe\">\n",
       "  <thead>\n",
       "    <tr style=\"text-align: right;\">\n",
       "      <th></th>\n",
       "      <th>Blue_070819</th>\n",
       "      <th>Blue_290719</th>\n",
       "      <th>Blue_220719</th>\n",
       "      <th>Blue_150719</th>\n",
       "      <th>Blue_050719</th>\n",
       "      <th>Blue_280619</th>\n",
       "      <th>Blue_260619</th>\n",
       "      <th>Blue_060619</th>\n",
       "    </tr>\n",
       "  </thead>\n",
       "  <tbody>\n",
       "    <tr>\n",
       "      <th>95</th>\n",
       "      <td>0.027306</td>\n",
       "      <td>0.016146</td>\n",
       "      <td>0.014434</td>\n",
       "      <td>0.023842</td>\n",
       "      <td>0.009863</td>\n",
       "      <td>0.015405</td>\n",
       "      <td>0.021012</td>\n",
       "      <td>0.024337</td>\n",
       "    </tr>\n",
       "  </tbody>\n",
       "</table>\n",
       "</div>"
      ],
      "text/plain": [
       "    Blue_070819  Blue_290719  Blue_220719  Blue_150719  Blue_050719  \\\n",
       "95     0.027306     0.016146     0.014434     0.023842     0.009863   \n",
       "\n",
       "    Blue_280619  Blue_260619  Blue_060619  \n",
       "95     0.015405     0.021012     0.024337  "
      ]
     },
     "execution_count": 37,
     "metadata": {},
     "output_type": "execute_result"
    }
   ],
   "source": [
    "blu_cols = [x for x in Masbasis_2019_all.columns if 'Blue' in x]\n",
    "\n",
    "Masbasis_2019_all['Plot_ID']\n",
    "Masbasis_2019_all.iloc[95:96,:][blu_cols]\n",
    "\n",
    "# list_problem"
   ]
  },
  {
   "cell_type": "code",
   "execution_count": 38,
   "metadata": {
    "ExecuteTime": {
     "end_time": "2021-10-27T22:35:49.758141Z",
     "start_time": "2021-10-27T22:35:49.744178Z"
    }
   },
   "outputs": [
    {
     "data": {
      "text/html": [
       "<div>\n",
       "<style scoped>\n",
       "    .dataframe tbody tr th:only-of-type {\n",
       "        vertical-align: middle;\n",
       "    }\n",
       "\n",
       "    .dataframe tbody tr th {\n",
       "        vertical-align: top;\n",
       "    }\n",
       "\n",
       "    .dataframe thead th {\n",
       "        text-align: right;\n",
       "    }\n",
       "</style>\n",
       "<table border=\"1\" class=\"dataframe\">\n",
       "  <thead>\n",
       "    <tr style=\"text-align: right;\">\n",
       "      <th></th>\n",
       "      <th>Plot_ID</th>\n",
       "      <th>Blue_070819</th>\n",
       "      <th>Blue_290719</th>\n",
       "      <th>Blue_220719</th>\n",
       "      <th>Blue_150719</th>\n",
       "      <th>Blue_050719</th>\n",
       "      <th>Blue_280619</th>\n",
       "      <th>Blue_260619</th>\n",
       "      <th>Blue_060619</th>\n",
       "    </tr>\n",
       "  </thead>\n",
       "  <tbody>\n",
       "  </tbody>\n",
       "</table>\n",
       "</div>"
      ],
      "text/plain": [
       "Empty DataFrame\n",
       "Columns: [Plot_ID, Blue_070819, Blue_290719, Blue_220719, Blue_150719, Blue_050719, Blue_280619, Blue_260619, Blue_060619]\n",
       "Index: []"
      ]
     },
     "execution_count": 38,
     "metadata": {},
     "output_type": "execute_result"
    }
   ],
   "source": [
    "idx_found = []\n",
    "for x in list_problem:\n",
    "    idx_found.append(int(Masbasis_2019_all[Masbasis_2019_all['Plot_ID']==x].index.values))\n",
    "#     print()\n",
    "Masbasis_2019_all.iloc[idx_found,:][['Plot_ID']+blu_cols]\n",
    "# idx_found"
   ]
  },
  {
   "cell_type": "code",
   "execution_count": 39,
   "metadata": {
    "ExecuteTime": {
     "end_time": "2021-10-27T22:35:49.774099Z",
     "start_time": "2021-10-27T22:35:49.759137Z"
    }
   },
   "outputs": [
    {
     "data": {
      "text/plain": [
       "list"
      ]
     },
     "execution_count": 39,
     "metadata": {},
     "output_type": "execute_result"
    }
   ],
   "source": [
    "# df['Plot_ID']==x\n",
    "type(x)"
   ]
  },
  {
   "cell_type": "markdown",
   "metadata": {},
   "source": [
    "## Dropping Missing values"
   ]
  },
  {
   "cell_type": "code",
   "execution_count": 40,
   "metadata": {
    "ExecuteTime": {
     "end_time": "2021-10-27T22:35:49.790055Z",
     "start_time": "2021-10-27T22:35:49.775095Z"
    }
   },
   "outputs": [
    {
     "data": {
      "text/plain": [
       "['Masbasis_2019_all',\n",
       " 'Masbasis_2020_all_lodg',\n",
       " 'Robot_2020_all',\n",
       " 'Staur_2019_all']"
      ]
     },
     "execution_count": 40,
     "metadata": {},
     "output_type": "execute_result"
    }
   ],
   "source": [
    "df_dh_dm"
   ]
  },
  {
   "cell_type": "code",
   "execution_count": 41,
   "metadata": {
    "ExecuteTime": {
     "end_time": "2021-10-27T22:35:49.806014Z",
     "start_time": "2021-10-27T22:35:49.791054Z"
    },
    "scrolled": false
   },
   "outputs": [
    {
     "name": "stdout",
     "output_type": "stream",
     "text": [
      "Graminor_2019_Simps\n",
      "Grain Yield data missing for  1 out of  600\n",
      "Graminor_2020_Simps\n",
      "Grain Yield data missing for  1 out of  800\n",
      "Masbasis_2019_Simps\n",
      "Grain Yield data missing for  6 out of  528\n",
      "Masbasis_2020_Simps\n",
      "Grain Yield data missing for  116 out of  659\n",
      "Robot_2020_Simps\n",
      "Grain Yield data missing for  0 out of  96\n",
      "Staur_2019_Simps\n",
      "Grain Yield data missing for  0 out of  1328\n",
      "Staur_2020_Simps\n",
      "Grain Yield data missing for  568 out of  1504\n"
     ]
    }
   ],
   "source": [
    "# Masbasis_2019_Simps.info(null_counts=True)\n",
    "for df in simp_df_all:\n",
    "    temp_df = locals()[df].copy()\n",
    "#     print('*************', df, '**************')\n",
    "#     print(locals()[df].info())\n",
    "\n",
    "    print (df)\n",
    "    print('Grain Yield data missing for ', temp_df['GrainYield'].isna().sum(), 'out of ', temp_df.shape[0])\n",
    "# Graminor_2019_Simps.info()"
   ]
  },
  {
   "cell_type": "markdown",
   "metadata": {
    "ExecuteTime": {
     "end_time": "2021-10-10T23:35:44.442995Z",
     "start_time": "2021-10-10T23:35:44.424577Z"
    }
   },
   "source": [
    "Yield data of Staur 2020 is disjoint with the bands data. There are 568 subplots whose yield is not available in the yield file and there are 10 subplots in the yield data which are not in the bands data sheets.\n",
    "\n",
    "\n",
    "There are atleast 116 missing grain yield values in Masbasis 2020 yield dataset."
   ]
  },
  {
   "cell_type": "code",
   "execution_count": 42,
   "metadata": {
    "ExecuteTime": {
     "end_time": "2021-10-27T22:35:49.852887Z",
     "start_time": "2021-10-27T22:35:49.807010Z"
    }
   },
   "outputs": [
    {
     "name": "stdout",
     "output_type": "stream",
     "text": [
      "Graminor_2019_Simps Dropped entries 0 : 600 600\n",
      "Graminor_2020_Simps Dropped entries 0 : 800 800\n",
      "Masbasis_2019_Simps Dropped entries 0 : 528 528\n",
      "Masbasis_2020_Simps Dropped entries 0 : 659 659\n",
      "Robot_2020_Simps Dropped entries 0 : 96 96\n",
      "Staur_2019_Simps Dropped entries 0 : 1328 1328\n",
      "Staur_2020_Simps Dropped entries 0 : 1504 1504\n"
     ]
    },
    {
     "data": {
      "text/plain": [
       "['Graminor_2019_Simps_dropna',\n",
       " 'Graminor_2020_Simps_dropna',\n",
       " 'Masbasis_2019_Simps_dropna',\n",
       " 'Masbasis_2020_Simps_dropna',\n",
       " 'Robot_2020_Simps_dropna',\n",
       " 'Staur_2019_Simps_dropna',\n",
       " 'Staur_2020_Simps_dropna']"
      ]
     },
     "execution_count": 42,
     "metadata": {},
     "output_type": "execute_result"
    }
   ],
   "source": [
    "simp_df_all_dropna = []\n",
    "for df in simp_df_all:\n",
    "    temp_df = locals()[df].copy()\n",
    "    rows = temp_df.shape[0]\n",
    "#     print(temp_df.shape)\n",
    "    temp_df.dropna(subset=['Blue'],inplace = True)\n",
    "    print(df, 'Dropped entries', rows- temp_df.shape[0],':', rows, temp_df.shape[0])\n",
    "    new_df = df+'_dropna'\n",
    "    locals()[new_df] = temp_df.copy()\n",
    "    simp_df_all_dropna.append(new_df)\n",
    "simp_df_all_dropna"
   ]
  },
  {
   "cell_type": "code",
   "execution_count": 43,
   "metadata": {
    "ExecuteTime": {
     "end_time": "2021-10-27T22:35:49.883805Z",
     "start_time": "2021-10-27T22:35:49.853885Z"
    }
   },
   "outputs": [
    {
     "name": "stdout",
     "output_type": "stream",
     "text": [
      "Graminor_2019_Trapz Dropped entries 0 : 600 600\n",
      "Graminor_2020_Trapz Dropped entries 0 : 800 800\n",
      "Masbasis_2019_Trapz Dropped entries 0 : 528 528\n",
      "Masbasis_2020_Trapz Dropped entries 0 : 659 659\n",
      "Robot_2020_Trapz Dropped entries 0 : 96 96\n",
      "Staur_2019_Trapz Dropped entries 0 : 1328 1328\n",
      "Staur_2020_Trapz Dropped entries 0 : 1504 1504\n"
     ]
    },
    {
     "data": {
      "text/plain": [
       "['Graminor_2019_Trapz_dropna',\n",
       " 'Graminor_2020_Trapz_dropna',\n",
       " 'Masbasis_2019_Trapz_dropna',\n",
       " 'Masbasis_2020_Trapz_dropna',\n",
       " 'Robot_2020_Trapz_dropna',\n",
       " 'Staur_2019_Trapz_dropna',\n",
       " 'Staur_2020_Trapz_dropna']"
      ]
     },
     "execution_count": 43,
     "metadata": {},
     "output_type": "execute_result"
    }
   ],
   "source": [
    "trapz_df_all_dropna = []\n",
    "for df in trapz_df_all:\n",
    "    temp_df = locals()[df].copy()\n",
    "    rows = temp_df.shape[0]\n",
    "#     print(temp_df.shape)\n",
    "    temp_df.dropna(subset=['Blue'],inplace = True)\n",
    "    print(df, 'Dropped entries', rows- temp_df.shape[0],':', rows, temp_df.shape[0])\n",
    "    new_df = df+'_dropna'\n",
    "    locals()[new_df] = temp_df.copy()\n",
    "    trapz_df_all_dropna.append(new_df)\n",
    "trapz_df_all_dropna"
   ]
  },
  {
   "cell_type": "markdown",
   "metadata": {},
   "source": [
    "Old:  \n",
    "Masbasis_2019_Trapz Dropped entries 0 : 528 528  \n",
    "Masbasis_2020_Trapz Dropped entries 112 : 659 547  \n",
    "Robot_2020_Trapz Dropped entries 0 : 96 96  \n",
    "Staur_2019_Trapz Dropped entries 1166 : 1328 162  "
   ]
  },
  {
   "cell_type": "code",
   "execution_count": 44,
   "metadata": {
    "ExecuteTime": {
     "end_time": "2021-10-27T22:35:50.232425Z",
     "start_time": "2021-10-27T22:35:49.885801Z"
    },
    "scrolled": true
   },
   "outputs": [
    {
     "name": "stdout",
     "output_type": "stream",
     "text": [
      "Graminor_2019_Simps_dropna\n"
     ]
    },
    {
     "data": {
      "text/plain": [
       "1"
      ]
     },
     "metadata": {},
     "output_type": "display_data"
    },
    {
     "name": "stdout",
     "output_type": "stream",
     "text": [
      "Graminor_2020_Simps_dropna\n"
     ]
    },
    {
     "data": {
      "text/plain": [
       "1"
      ]
     },
     "metadata": {},
     "output_type": "display_data"
    },
    {
     "name": "stdout",
     "output_type": "stream",
     "text": [
      "Masbasis_2019_Simps_dropna\n"
     ]
    },
    {
     "data": {
      "text/plain": [
       "6"
      ]
     },
     "metadata": {},
     "output_type": "display_data"
    },
    {
     "name": "stdout",
     "output_type": "stream",
     "text": [
      "Masbasis_2020_Simps_dropna\n"
     ]
    },
    {
     "data": {
      "text/plain": [
       "116"
      ]
     },
     "metadata": {},
     "output_type": "display_data"
    },
    {
     "name": "stdout",
     "output_type": "stream",
     "text": [
      "Robot_2020_Simps_dropna\n"
     ]
    },
    {
     "data": {
      "text/plain": [
       "0"
      ]
     },
     "metadata": {},
     "output_type": "display_data"
    },
    {
     "name": "stdout",
     "output_type": "stream",
     "text": [
      "Staur_2019_Simps_dropna\n"
     ]
    },
    {
     "data": {
      "text/plain": [
       "0"
      ]
     },
     "metadata": {},
     "output_type": "display_data"
    },
    {
     "name": "stdout",
     "output_type": "stream",
     "text": [
      "Staur_2020_Simps_dropna\n"
     ]
    },
    {
     "data": {
      "text/plain": [
       "568"
      ]
     },
     "metadata": {},
     "output_type": "display_data"
    },
    {
     "name": "stdout",
     "output_type": "stream",
     "text": [
      "Graminor_2019_Trapz_dropna\n"
     ]
    },
    {
     "data": {
      "text/plain": [
       "1"
      ]
     },
     "metadata": {},
     "output_type": "display_data"
    },
    {
     "name": "stdout",
     "output_type": "stream",
     "text": [
      "Graminor_2020_Trapz_dropna\n"
     ]
    },
    {
     "data": {
      "text/plain": [
       "1"
      ]
     },
     "metadata": {},
     "output_type": "display_data"
    },
    {
     "name": "stdout",
     "output_type": "stream",
     "text": [
      "Masbasis_2019_Trapz_dropna\n"
     ]
    },
    {
     "data": {
      "text/plain": [
       "6"
      ]
     },
     "metadata": {},
     "output_type": "display_data"
    },
    {
     "name": "stdout",
     "output_type": "stream",
     "text": [
      "Masbasis_2020_Trapz_dropna\n"
     ]
    },
    {
     "data": {
      "text/plain": [
       "116"
      ]
     },
     "metadata": {},
     "output_type": "display_data"
    },
    {
     "name": "stdout",
     "output_type": "stream",
     "text": [
      "Robot_2020_Trapz_dropna\n"
     ]
    },
    {
     "data": {
      "text/plain": [
       "0"
      ]
     },
     "metadata": {},
     "output_type": "display_data"
    },
    {
     "name": "stdout",
     "output_type": "stream",
     "text": [
      "Staur_2019_Trapz_dropna\n"
     ]
    },
    {
     "data": {
      "text/plain": [
       "0"
      ]
     },
     "metadata": {},
     "output_type": "display_data"
    },
    {
     "name": "stdout",
     "output_type": "stream",
     "text": [
      "Staur_2020_Trapz_dropna\n"
     ]
    },
    {
     "data": {
      "text/plain": [
       "568"
      ]
     },
     "metadata": {},
     "output_type": "display_data"
    }
   ],
   "source": [
    "def describe_nan(df):\n",
    "    return pd.DataFrame([(i, df[df[i].isna()].shape[0],df[df[i].isna()].shape[0]/df.shape[0]) for i in df.columns], columns=['column', 'nan_counts', 'nan_rate'])\n",
    "for df in simp_df_all_dropna+trapz_df_all_dropna:\n",
    "    print(df)\n",
    "    display(describe_nan(locals()[df][base_indices+spectral_indices+['GrainYield']]).nan_counts.sum())\n",
    "#     display(describe_nan(locals()[df][base_indices+spectral_indices+['GrainYield']]))"
   ]
  },
  {
   "cell_type": "markdown",
   "metadata": {},
   "source": [
    "# Weather Data"
   ]
  },
  {
   "cell_type": "markdown",
   "metadata": {},
   "source": [
    "## Correcting datetime format"
   ]
  },
  {
   "cell_type": "markdown",
   "metadata": {},
   "source": [
    "### Vollebekk"
   ]
  },
  {
   "cell_type": "code",
   "execution_count": 45,
   "metadata": {
    "ExecuteTime": {
     "end_time": "2021-10-27T22:35:50.388009Z",
     "start_time": "2021-10-27T22:35:50.233422Z"
    }
   },
   "outputs": [
    {
     "data": {
      "text/plain": [
       "Index(['Time measured', 'Middeltemperatur i 2m høyde (TM)',\n",
       "       'Maksimum lufttemperatur i 2m høyde (TX)',\n",
       "       'Minimums lufttemperatur i 2m høyde (TN)', 'Nedbør (RR)',\n",
       "       'Relativ luftfuktighet i 2m', 'Relativ luftfuktighet i 2m.1',\n",
       "       'Bladfuktighet i 2m høyde (BT)', ' 10 min glidende middel (FF2)',\n",
       "       ' vindkast (FG2)', 'Vindhastighet i 2m'],\n",
       "      dtype='object')"
      ]
     },
     "execution_count": 45,
     "metadata": {},
     "output_type": "execute_result"
    }
   ],
   "source": [
    "weather_vollebekk = pd.read_csv(weather_data_vollebekk)\n",
    "\n",
    "# Converting date time to python datetime\n",
    "weather_vollebekk['Time measured'] = pd.to_datetime(weather_vollebekk['Time measured'], infer_datetime_format=True)\n",
    "# weather_vollebekk['Time measured'] = weather_vollebekk['Time measured'].dt.normalize()\n",
    "\n",
    "# Removing timezone info from datetime sice other date data is without timezone info\n",
    "weather_vollebekk['Time measured'] = pd.Series(x.replace(tzinfo=None) for x in weather_vollebekk['Time measured'])\n",
    "\n",
    "weather_vollebekk.columns"
   ]
  },
  {
   "cell_type": "markdown",
   "metadata": {},
   "source": [
    "#### Vollebekk: Dropping the two xolumns whixh are not in staur weather data"
   ]
  },
  {
   "cell_type": "code",
   "execution_count": 46,
   "metadata": {
    "ExecuteTime": {
     "end_time": "2021-10-27T22:35:50.402969Z",
     "start_time": "2021-10-27T22:35:50.389006Z"
    }
   },
   "outputs": [
    {
     "data": {
      "text/plain": [
       "Index(['Time measured', 'Middeltemperatur i 2m høyde (TM)',\n",
       "       'Maksimum lufttemperatur i 2m høyde (TX)',\n",
       "       'Minimums lufttemperatur i 2m høyde (TN)', 'Nedbør (RR)',\n",
       "       'Relativ luftfuktighet i 2m', 'Relativ luftfuktighet i 2m.1',\n",
       "       ' vindkast (FG2)', 'Vindhastighet i 2m'],\n",
       "      dtype='object')"
      ]
     },
     "execution_count": 46,
     "metadata": {},
     "output_type": "execute_result"
    }
   ],
   "source": [
    "weather_vollebekk.drop(['Bladfuktighet i 2m høyde (BT)', ' 10 min glidende middel (FF2)'], axis='columns', inplace=True)\n",
    "weather_vollebekk.columns"
   ]
  },
  {
   "cell_type": "markdown",
   "metadata": {},
   "source": [
    "### Staur"
   ]
  },
  {
   "cell_type": "code",
   "execution_count": 47,
   "metadata": {
    "ExecuteTime": {
     "end_time": "2021-10-27T22:35:50.588983Z",
     "start_time": "2021-10-27T22:35:50.404971Z"
    }
   },
   "outputs": [
    {
     "data": {
      "text/plain": [
       "Index(['Time measured', 'Middeltemperatur i 2m høyde (TM)',\n",
       "       'Maksimum lufttemperatur i 2m høyde (TX)',\n",
       "       'Minimums lufttemperatur i 2m høyde (TN)', 'Nedbør (RR)',\n",
       "       'Relativ luftfuktighet i 2m', 'Relativ luftfuktighet i 2m.1',\n",
       "       ' vindkast (FG2)', 'Vindhastighet i 2m'],\n",
       "      dtype='object')"
      ]
     },
     "execution_count": 47,
     "metadata": {},
     "output_type": "execute_result"
    }
   ],
   "source": [
    "weather_staur = pd.read_csv(weather_data_staur)\n",
    "\n",
    "# Converting date time to python datetime\n",
    "weather_staur['Time measured'] = pd.to_datetime(weather_staur['Time measured'], infer_datetime_format=True)\n",
    "# weather_staur['Time measured'] = weather_staur['Time measured'].dt.normalize()\n",
    "\n",
    "# Removing timezone info from datetime sice other date data is without timezone info\n",
    "weather_staur['Time measured'] = pd.Series(x.replace(tzinfo=None) for x in weather_staur['Time measured'])\n",
    "\n",
    "weather_staur.columns"
   ]
  },
  {
   "cell_type": "markdown",
   "metadata": {},
   "source": [
    "## Checking if both weather datas have same colummns"
   ]
  },
  {
   "cell_type": "code",
   "execution_count": 48,
   "metadata": {
    "ExecuteTime": {
     "end_time": "2021-10-27T22:35:50.604168Z",
     "start_time": "2021-10-27T22:35:50.589980Z"
    }
   },
   "outputs": [],
   "source": [
    "assert weather_vollebekk.columns.tolist() == weather_staur.columns.tolist()"
   ]
  },
  {
   "cell_type": "markdown",
   "metadata": {},
   "source": [
    "## Translating column names"
   ]
  },
  {
   "cell_type": "code",
   "execution_count": 49,
   "metadata": {
    "ExecuteTime": {
     "end_time": "2021-10-27T22:35:50.620125Z",
     "start_time": "2021-10-27T22:35:50.605165Z"
    }
   },
   "outputs": [],
   "source": [
    "# Translated the column heading using google translate\n",
    "\n",
    "\n",
    "weather_vollebekk.columns = ['Time measured', 'Average temperature at 2m altitude (TM)',\n",
    "        'Maximum air temperature at 2m altitude (TX)',\n",
    "        'Minimum air temperature at 2m altitude (TN)', 'Precipitation (RR)',\n",
    "        'Relative humidity in 2m', 'Relative humidity in 2m.1',\n",
    "        'Wind gust (FG2)', 'Wind speed in 2m']\n",
    "\n",
    "\n",
    "# Translated the column heading using google translate\n",
    "\n",
    "weather_staur.columns = ['Time measured', 'Average temperature at 2m altitude (TM)',\n",
    "        'Maximum air temperature at 2m altitude (TX)',\n",
    "        'Minimum air temperature at 2m altitude (TN)', 'Precipitation (RR)',\n",
    "        'Relative humidity in 2m', 'Relative humidity in 2m.1',\n",
    "        'Wind gust (FG2)', 'Wind speed in 2m']"
   ]
  },
  {
   "cell_type": "markdown",
   "metadata": {},
   "source": [
    "## Craeting a list of min and max date in every field"
   ]
  },
  {
   "cell_type": "code",
   "execution_count": 50,
   "metadata": {
    "ExecuteTime": {
     "end_time": "2021-10-27T22:35:50.636083Z",
     "start_time": "2021-10-27T22:35:50.621125Z"
    }
   },
   "outputs": [],
   "source": [
    "max_min_dates = {}\n",
    "for df in all_df:\n",
    "    temp_df = locals()[df].copy()\n",
    "    dates = [x.split('_')[1] for x in temp_df.columns if 'Blue' in x]\n",
    "    df_name_temp = df.split('_')[0]+'_'+df.split('_')[1]\n",
    "    sowing_date_temp = dt.strptime(sowing_dict[df_name_temp], '%d%m%y')\n",
    "    min_date_temp = min([dt.strptime(x, '%d%m%y') for x in dates ])\n",
    "    max_date_temp = max([dt.strptime(x, '%d%m%y') for x in dates ])\n",
    "    max_min_dates[df] = [sowing_date_temp, min_date_temp, max_date_temp]\n",
    "# max_min_dates"
   ]
  },
  {
   "cell_type": "markdown",
   "metadata": {
    "ExecuteTime": {
     "end_time": "2021-10-06T23:34:52.239619Z",
     "start_time": "2021-10-06T23:34:52.233535Z"
    }
   },
   "source": [
    "## Calculating average DH and DM"
   ]
  },
  {
   "cell_type": "code",
   "execution_count": 51,
   "metadata": {
    "ExecuteTime": {
     "end_time": "2021-10-27T22:35:50.652040Z",
     "start_time": "2021-10-27T22:35:50.640086Z"
    }
   },
   "outputs": [
    {
     "data": {
      "text/plain": [
       "{'Masbasis_2019_all': [68.18939393939394, 108.64393939393939],\n",
       " 'Masbasis_2020_all_lodg': [66.28983308042488, 87.94881170018282],\n",
       " 'Robot_2020_all': [61.09375, 110.84375],\n",
       " 'Staur_2019_all': [48.53333333333333, 101.25757575757575]}"
      ]
     },
     "execution_count": 51,
     "metadata": {},
     "output_type": "execute_result"
    }
   ],
   "source": [
    "dict_avg_dh_dm"
   ]
  },
  {
   "cell_type": "code",
   "execution_count": 52,
   "metadata": {
    "ExecuteTime": {
     "end_time": "2021-10-27T22:35:50.667998Z",
     "start_time": "2021-10-27T22:35:50.654036Z"
    }
   },
   "outputs": [
    {
     "name": "stdout",
     "output_type": "stream",
     "text": [
      "Average Days2Heading is 61.026577588288035\n",
      "Average Days2Maturity is 102.17351921292449\n"
     ]
    }
   ],
   "source": [
    "print(f'Average Days2Heading is {mean_dh}')\n",
    "print(f'Average Days2Maturity is {mean_dm}')"
   ]
  },
  {
   "cell_type": "markdown",
   "metadata": {},
   "source": [
    "## Filtering weather data"
   ]
  },
  {
   "cell_type": "code",
   "execution_count": 53,
   "metadata": {
    "ExecuteTime": {
     "end_time": "2021-10-27T22:35:50.856648Z",
     "start_time": "2021-10-27T22:35:50.668995Z"
    },
    "scrolled": true
   },
   "outputs": [
    {
     "name": "stderr",
     "output_type": "stream",
     "text": [
      "<ipython-input-53-66b38582c4e5>:29: FutureWarning: DataFrame.mean and DataFrame.median with numeric_only=None will include datetime64 and datetime64tz columns in a future version.\n",
      "  temp_weather.fillna(weather_vollebekk.mean(), inplace = True)\n",
      "C:\\ProgramData\\Anaconda3\\lib\\site-packages\\pandas\\core\\series.py:4517: SettingWithCopyWarning: \n",
      "A value is trying to be set on a copy of a slice from a DataFrame\n",
      "\n",
      "See the caveats in the documentation: https://pandas.pydata.org/pandas-docs/stable/user_guide/indexing.html#returning-a-view-versus-a-copy\n",
      "  return super().fillna(\n",
      "C:\\ProgramData\\Anaconda3\\lib\\site-packages\\pandas\\core\\frame.py:4163: SettingWithCopyWarning: \n",
      "A value is trying to be set on a copy of a slice from a DataFrame\n",
      "\n",
      "See the caveats in the documentation: https://pandas.pydata.org/pandas-docs/stable/user_guide/indexing.html#returning-a-view-versus-a-copy\n",
      "  return super().drop(\n",
      "<ipython-input-53-66b38582c4e5>:22: FutureWarning: DataFrame.mean and DataFrame.median with numeric_only=None will include datetime64 and datetime64tz columns in a future version.\n",
      "  temp_weather.fillna(weather_staur.mean(), inplace = True)\n"
     ]
    },
    {
     "data": {
      "text/plain": [
       "['Graminor_2019_weather_agg',\n",
       " 'Graminor_2020_weather_agg',\n",
       " 'Masbasis_2019_weather_agg',\n",
       " 'Masbasis_2020_weather_agg',\n",
       " 'Robot_2020_weather_agg',\n",
       " 'Staur_2019_weather_agg',\n",
       " 'Staur_2020_weather_agg']"
      ]
     },
     "execution_count": 53,
     "metadata": {},
     "output_type": "execute_result"
    }
   ],
   "source": [
    "# Weather data for days from sowing date. Largerst of the average number of Days2Maturity \n",
    "# is a good measaure to use\n",
    "# Could have used max_date(last date availabel for the field) but that date does not \n",
    "# correspond to the actual crop maturity.\n",
    "# So using approxipame maturity time is a better measure of the affect of weather on yield\n",
    "days_delta = max(list_dm)\n",
    "\n",
    "weather_dfs = []\n",
    "weathers_processed_df = []\n",
    "for df, dates in max_min_dates.items():\n",
    "    df_weather_temp = pd.DataFrame()\n",
    "\n",
    "    sowing_date_temp = dates[0]\n",
    "    min_date_temp = dates[1]\n",
    "    max_date_temp = dates[2]\n",
    "    \n",
    "    if 'Staur' in df:\n",
    "        # Filtering the weather date from sowing_date to max_date the data is available for\n",
    "        temp_weather = weather_staur.loc[(weather_staur['Time measured'] >= sowing_date_temp) &\\\n",
    "                              (weather_staur['Time measured'] <= sowing_date_temp + timedelta(days=days_delta))]\n",
    "        # Filling the missing values with the average value of the area for the given complete weather data\n",
    "        temp_weather.fillna(weather_staur.mean(), inplace = True)\n",
    "\n",
    "    else:\n",
    "        # Filtering the weather date from sowing_date to max_date the data is available for\n",
    "        temp_weather = weather_vollebekk.loc[(weather_vollebekk['Time measured'] >= sowing_date_temp) &\\\n",
    "                              (weather_vollebekk['Time measured'] <= sowing_date_temp + timedelta(days=days_delta))]\n",
    "        # Filling the missing values with the average value of the area for the given complete weather data\n",
    "        temp_weather.fillna(weather_vollebekk.mean(), inplace = True)\n",
    "\n",
    "#     print(df, sowing_date_temp.date(), min_date_temp.date(), max_date_temp.date())\n",
    "#     print(temp_weather.shape)\n",
    "\n",
    "#     # See info to find hoe many missing values and in which column\n",
    "#     display(temp_weather.info())\n",
    "\n",
    "    # Filling themissing values with the average of the column\n",
    "    # Applying Only on columns with NaN values\n",
    "    for i in temp_weather.columns[temp_weather.isnull().any(axis=0)]:\n",
    "        temp_weather[i].fillna(temp_weather[i].mean(),inplace=True)\n",
    "    # Drop the time measures column\n",
    "    temp_weather.drop(['Time measured'], axis=1, inplace=True)\n",
    "    \n",
    "    df_weat_temp = df.split('_')[0]+'_'+df.split('_')[1]+'_weather_all'\n",
    "    locals()[df_name_temp] = temp_weather.copy()\n",
    "    weather_dfs.append(df_name_temp)\n",
    "    \n",
    "    \n",
    "    \n",
    "    # Aggregating the weather data using several statistical methods\n",
    "    mean_df = temp_weather.mean().to_frame().transpose().add_prefix('MEAN ')\n",
    "    median_df = temp_weather.median().to_frame().transpose().add_prefix('MEDIAN ')\n",
    "    # Different for mode since mode returns a df, instead of series object\n",
    "    mode_df = temp_weather.mode().transpose().iloc[:,0].to_frame().transpose().add_prefix('MODE ')\n",
    "    sum_df = temp_weather.sum().to_frame().transpose().add_prefix('SUM ')\n",
    "    min_df = temp_weather.min().to_frame().transpose().add_prefix('MIN ')\n",
    "    max_df = temp_weather.max().to_frame().transpose().add_prefix('MAX ')\n",
    "    std_df = temp_weather.std().to_frame().transpose().add_prefix('STD_DEV ')\n",
    "    # Reset index in quantile since it takes quantile of index as well\n",
    "    quantile_25 = temp_weather.quantile(q=0.25).to_frame().transpose().add_prefix('QUANTILE_25 ').reset_index(drop=True)\n",
    "    quantile_50 = temp_weather.quantile(q=0.5).to_frame().transpose().add_prefix('QUANTILE_50 ').reset_index(drop=True)\n",
    "    quantile_75 = temp_weather.quantile(q=0.75).to_frame().transpose().add_prefix('QUANTILE_75 ').reset_index(drop=True)\n",
    "\n",
    "    single_row_df = pd.concat([mean_df, median_df, mode_df, sum_df, min_df, max_df, std_df, quantile_25, quantile_50, quantile_75], axis=1)\n",
    "    \n",
    "    if single_row_df.isna().sum().sum() > 1:\n",
    "        print(df)\n",
    "        print(single_row_df.isna().sum())\n",
    "        raise ValueError\n",
    "#     display(single_row_df)\n",
    "\n",
    "    df_processed_temp = df.split('_')[0]+'_'+df.split('_')[1]+'_weather_agg'\n",
    "    locals()[df_processed_temp] = single_row_df.copy()\n",
    "    weathers_processed_df.append(df_processed_temp)\n",
    "weathers_processed_df"
   ]
  },
  {
   "cell_type": "code",
   "execution_count": 54,
   "metadata": {
    "ExecuteTime": {
     "end_time": "2021-10-27T22:35:50.872607Z",
     "start_time": "2021-10-27T22:35:50.857646Z"
    }
   },
   "outputs": [
    {
     "data": {
      "text/plain": [
       "(1, 80)"
      ]
     },
     "execution_count": 54,
     "metadata": {},
     "output_type": "execute_result"
    }
   ],
   "source": [
    "Masbasis_2019_weather_agg.shape"
   ]
  },
  {
   "cell_type": "code",
   "execution_count": 55,
   "metadata": {
    "ExecuteTime": {
     "end_time": "2021-10-27T22:35:50.888564Z",
     "start_time": "2021-10-27T22:35:50.873604Z"
    }
   },
   "outputs": [],
   "source": [
    "# Staur_2020_weather_agg.shape"
   ]
  },
  {
   "cell_type": "code",
   "execution_count": 56,
   "metadata": {
    "ExecuteTime": {
     "end_time": "2021-10-27T22:35:50.904522Z",
     "start_time": "2021-10-27T22:35:50.889561Z"
    }
   },
   "outputs": [],
   "source": [
    "vollebekk_fields_weather = [x for x in weathers_processed_df if 'Staur' not  in x]\n",
    "staur_fields_weather = [x for x in weathers_processed_df if 'Staur' in x]\n",
    "\n",
    "weather_cols_vollebekk = locals()[vollebekk_fields_weather[0]].columns.tolist()\n",
    "weather_cols_staur = locals()[staur_fields_weather[0]].columns.tolist()"
   ]
  },
  {
   "cell_type": "markdown",
   "metadata": {},
   "source": [
    "## Exporting Weather Indices for later use"
   ]
  },
  {
   "cell_type": "code",
   "execution_count": 57,
   "metadata": {
    "ExecuteTime": {
     "end_time": "2021-10-27T22:35:50.920480Z",
     "start_time": "2021-10-27T22:35:50.905519Z"
    }
   },
   "outputs": [],
   "source": [
    "# Make sure the folder/dir is there. If not, create one\n",
    "os.makedirs(main_path, exist_ok=True)\n",
    "import json\n",
    "a_file = open(main_path+'vollebekk_weather_columns.json', \"w\")\n",
    "json.dump(weather_cols_vollebekk, a_file)\n",
    "a_file.close()\n",
    "\n",
    "# a_file = open(\"Data\\vollebekk_weather_columns.json\", \"r\")\n",
    "# output_str = a_file.read()\n",
    "\n",
    "# # The file is imported as string\n",
    "# # Converting it to python format\n",
    "# weather_cols_vollebekk = json.loads(output_str)\n",
    "# a_file.close()\n",
    "# print(weather_cols_vollebekk)"
   ]
  },
  {
   "cell_type": "code",
   "execution_count": 58,
   "metadata": {
    "ExecuteTime": {
     "end_time": "2021-10-27T22:35:50.936437Z",
     "start_time": "2021-10-27T22:35:50.921477Z"
    }
   },
   "outputs": [],
   "source": [
    "# Make sure the folder/dir is there. If not, create one\n",
    "os.makedirs(main_path, exist_ok=True)\n",
    "import json\n",
    "a_file = open(main_path+'staur_weather_columns.json', \"w\")\n",
    "json.dump(weather_cols_staur, a_file)\n",
    "a_file.close()\n",
    "\n",
    "# a_file = open(\"Data\\staur_weather_columns.json\", \"r\")\n",
    "# output_str = a_file.read()\n",
    "\n",
    "# # The file is imported as string\n",
    "# # Converting it to python format\n",
    "# weather_cols_staur = json.loads(output_str)\n",
    "# a_file.close()\n",
    "# print(weather_cols_staur)"
   ]
  },
  {
   "cell_type": "markdown",
   "metadata": {},
   "source": [
    "## Adding weather data to the simps integrated df"
   ]
  },
  {
   "cell_type": "code",
   "execution_count": 59,
   "metadata": {
    "ExecuteTime": {
     "end_time": "2021-10-27T22:35:51.015665Z",
     "start_time": "2021-10-27T22:35:50.937434Z"
    }
   },
   "outputs": [],
   "source": [
    "df_to_export = []\n",
    "for df in simp_df_all_dropna+trapz_df_all_dropna:\n",
    "    temp_df = locals()[df].copy()\n",
    "    \n",
    "    field_name = df.split('_')[0]+'_'+df.split('_')[1]\n",
    "    integration_type = df.split('_')[2]\n",
    "    \n",
    "    single_row_name = field_name+'_weather_agg'\n",
    "    single_row_df = locals()[single_row_name]\n",
    "    # Replicating the single_row data multiple times to make the df equal to the number of rows in the original df\n",
    "    rows_df = temp_df.shape[0] \n",
    "    new_df = pd.DataFrame(np.repeat(single_row_df.values, rows_df, axis=0), columns=single_row_df.columns)\n",
    "    \n",
    "    pd.concat([temp_df, new_df], axis=1)\n",
    "    merged_df = pd.concat([temp_df, new_df], axis=1)\n",
    "    \n",
    "    locals()[field_name+'_'+integration_type] = merged_df.copy()\n",
    "    df_to_export.append(field_name+'_'+integration_type)"
   ]
  },
  {
   "cell_type": "code",
   "execution_count": 60,
   "metadata": {
    "ExecuteTime": {
     "end_time": "2021-10-27T22:35:51.031623Z",
     "start_time": "2021-10-27T22:35:51.017660Z"
    }
   },
   "outputs": [
    {
     "data": {
      "text/plain": [
       "Index(['Plot_ID', 'GrainYield', 'Block', 'iBlock', 'Entry', 'Name', 'Blue',\n",
       "       'Green', 'Red', 'RedEdge',\n",
       "       ...\n",
       "       'QUANTILE_50 Wind gust (FG2)', 'QUANTILE_50 Wind speed in 2m',\n",
       "       'QUANTILE_75 Average temperature at 2m altitude (TM)',\n",
       "       'QUANTILE_75 Maximum air temperature at 2m altitude (TX)',\n",
       "       'QUANTILE_75 Minimum air temperature at 2m altitude (TN)',\n",
       "       'QUANTILE_75 Precipitation (RR)', 'QUANTILE_75 Relative humidity in 2m',\n",
       "       'QUANTILE_75 Relative humidity in 2m.1', 'QUANTILE_75 Wind gust (FG2)',\n",
       "       'QUANTILE_75 Wind speed in 2m'],\n",
       "      dtype='object', length=121)"
      ]
     },
     "execution_count": 60,
     "metadata": {},
     "output_type": "execute_result"
    }
   ],
   "source": [
    "Graminor_2019_Simps.columns"
   ]
  },
  {
   "cell_type": "code",
   "execution_count": 61,
   "metadata": {
    "ExecuteTime": {
     "end_time": "2021-10-27T22:35:51.157288Z",
     "start_time": "2021-10-27T22:35:51.033618Z"
    }
   },
   "outputs": [
    {
     "data": {
      "text/html": [
       "<div>\n",
       "<style scoped>\n",
       "    .dataframe tbody tr th:only-of-type {\n",
       "        vertical-align: middle;\n",
       "    }\n",
       "\n",
       "    .dataframe tbody tr th {\n",
       "        vertical-align: top;\n",
       "    }\n",
       "\n",
       "    .dataframe thead th {\n",
       "        text-align: right;\n",
       "    }\n",
       "</style>\n",
       "<table border=\"1\" class=\"dataframe\">\n",
       "  <thead>\n",
       "    <tr style=\"text-align: right;\">\n",
       "      <th></th>\n",
       "      <th>Plot_ID</th>\n",
       "      <th>GrainYield</th>\n",
       "      <th>Block</th>\n",
       "      <th>iBlock</th>\n",
       "      <th>Entry</th>\n",
       "      <th>Name</th>\n",
       "      <th>Blue</th>\n",
       "      <th>Green</th>\n",
       "      <th>Red</th>\n",
       "      <th>RedEdge</th>\n",
       "      <th>NIR</th>\n",
       "      <th>NDVI</th>\n",
       "      <th>MTCI</th>\n",
       "      <th>DVI</th>\n",
       "      <th>GDVI</th>\n",
       "      <th>MTCI_CI</th>\n",
       "      <th>EXG</th>\n",
       "      <th>EXGR</th>\n",
       "      <th>RDVI</th>\n",
       "      <th>TDVI</th>\n",
       "      <th>GNDVI</th>\n",
       "      <th>NDRE</th>\n",
       "      <th>SCCI</th>\n",
       "      <th>EVI</th>\n",
       "      <th>TVI</th>\n",
       "      <th>VARI</th>\n",
       "      <th>GARI</th>\n",
       "      <th>GCI</th>\n",
       "      <th>GLI</th>\n",
       "      <th>NLI</th>\n",
       "      <th>MNLI</th>\n",
       "      <th>SAVI</th>\n",
       "      <th>GSAVI</th>\n",
       "      <th>OSAVI</th>\n",
       "      <th>GOSAVI</th>\n",
       "      <th>MSAVI2</th>\n",
       "      <th>MSR</th>\n",
       "      <th>GRVI</th>\n",
       "      <th>WDRVI</th>\n",
       "      <th>SR</th>\n",
       "      <th>Pedigree</th>\n",
       "      <th>MEAN Average temperature at 2m altitude (TM)</th>\n",
       "      <th>MEAN Maximum air temperature at 2m altitude (TX)</th>\n",
       "      <th>MEAN Minimum air temperature at 2m altitude (TN)</th>\n",
       "      <th>MEAN Precipitation (RR)</th>\n",
       "      <th>MEAN Relative humidity in 2m</th>\n",
       "      <th>MEAN Relative humidity in 2m.1</th>\n",
       "      <th>MEAN Wind gust (FG2)</th>\n",
       "      <th>MEAN Wind speed in 2m</th>\n",
       "      <th>MEDIAN Average temperature at 2m altitude (TM)</th>\n",
       "      <th>...</th>\n",
       "      <th>SUM Wind gust (FG2)</th>\n",
       "      <th>SUM Wind speed in 2m</th>\n",
       "      <th>MIN Average temperature at 2m altitude (TM)</th>\n",
       "      <th>MIN Maximum air temperature at 2m altitude (TX)</th>\n",
       "      <th>MIN Minimum air temperature at 2m altitude (TN)</th>\n",
       "      <th>MIN Precipitation (RR)</th>\n",
       "      <th>MIN Relative humidity in 2m</th>\n",
       "      <th>MIN Relative humidity in 2m.1</th>\n",
       "      <th>MIN Wind gust (FG2)</th>\n",
       "      <th>MIN Wind speed in 2m</th>\n",
       "      <th>MAX Average temperature at 2m altitude (TM)</th>\n",
       "      <th>MAX Maximum air temperature at 2m altitude (TX)</th>\n",
       "      <th>MAX Minimum air temperature at 2m altitude (TN)</th>\n",
       "      <th>MAX Precipitation (RR)</th>\n",
       "      <th>MAX Relative humidity in 2m</th>\n",
       "      <th>MAX Relative humidity in 2m.1</th>\n",
       "      <th>MAX Wind gust (FG2)</th>\n",
       "      <th>MAX Wind speed in 2m</th>\n",
       "      <th>STD_DEV Average temperature at 2m altitude (TM)</th>\n",
       "      <th>STD_DEV Maximum air temperature at 2m altitude (TX)</th>\n",
       "      <th>STD_DEV Minimum air temperature at 2m altitude (TN)</th>\n",
       "      <th>STD_DEV Precipitation (RR)</th>\n",
       "      <th>STD_DEV Relative humidity in 2m</th>\n",
       "      <th>STD_DEV Relative humidity in 2m.1</th>\n",
       "      <th>STD_DEV Wind gust (FG2)</th>\n",
       "      <th>STD_DEV Wind speed in 2m</th>\n",
       "      <th>QUANTILE_25 Average temperature at 2m altitude (TM)</th>\n",
       "      <th>QUANTILE_25 Maximum air temperature at 2m altitude (TX)</th>\n",
       "      <th>QUANTILE_25 Minimum air temperature at 2m altitude (TN)</th>\n",
       "      <th>QUANTILE_25 Precipitation (RR)</th>\n",
       "      <th>QUANTILE_25 Relative humidity in 2m</th>\n",
       "      <th>QUANTILE_25 Relative humidity in 2m.1</th>\n",
       "      <th>QUANTILE_25 Wind gust (FG2)</th>\n",
       "      <th>QUANTILE_25 Wind speed in 2m</th>\n",
       "      <th>QUANTILE_50 Average temperature at 2m altitude (TM)</th>\n",
       "      <th>QUANTILE_50 Maximum air temperature at 2m altitude (TX)</th>\n",
       "      <th>QUANTILE_50 Minimum air temperature at 2m altitude (TN)</th>\n",
       "      <th>QUANTILE_50 Precipitation (RR)</th>\n",
       "      <th>QUANTILE_50 Relative humidity in 2m</th>\n",
       "      <th>QUANTILE_50 Relative humidity in 2m.1</th>\n",
       "      <th>QUANTILE_50 Wind gust (FG2)</th>\n",
       "      <th>QUANTILE_50 Wind speed in 2m</th>\n",
       "      <th>QUANTILE_75 Average temperature at 2m altitude (TM)</th>\n",
       "      <th>QUANTILE_75 Maximum air temperature at 2m altitude (TX)</th>\n",
       "      <th>QUANTILE_75 Minimum air temperature at 2m altitude (TN)</th>\n",
       "      <th>QUANTILE_75 Precipitation (RR)</th>\n",
       "      <th>QUANTILE_75 Relative humidity in 2m</th>\n",
       "      <th>QUANTILE_75 Relative humidity in 2m.1</th>\n",
       "      <th>QUANTILE_75 Wind gust (FG2)</th>\n",
       "      <th>QUANTILE_75 Wind speed in 2m</th>\n",
       "    </tr>\n",
       "  </thead>\n",
       "  <tbody>\n",
       "    <tr>\n",
       "      <th>0</th>\n",
       "      <td>101</td>\n",
       "      <td>499.624440</td>\n",
       "      <td>1</td>\n",
       "      <td>1</td>\n",
       "      <td>1</td>\n",
       "      <td>Zebra</td>\n",
       "      <td>2.730156</td>\n",
       "      <td>6.636563</td>\n",
       "      <td>5.810611</td>\n",
       "      <td>12.271557</td>\n",
       "      <td>29.092428</td>\n",
       "      <td>43.969482</td>\n",
       "      <td>164.325434</td>\n",
       "      <td>24.224897</td>\n",
       "      <td>23.163382</td>\n",
       "      <td>164.325434</td>\n",
       "      <td>4.732360</td>\n",
       "      <td>3.234068</td>\n",
       "      <td>32.372200</td>\n",
       "      <td>39.689907</td>\n",
       "      <td>40.369102</td>\n",
       "      <td>25.945330</td>\n",
       "      <td>37.043150</td>\n",
       "      <td>-62.199180</td>\n",
       "      <td>1495.954392</td>\n",
       "      <td>15.450394</td>\n",
       "      <td>35.135519</td>\n",
       "      <td>276.774899</td>\n",
       "      <td>-1.357544</td>\n",
       "      <td>28.907769</td>\n",
       "      <td>16.646329</td>\n",
       "      <td>34.020520</td>\n",
       "      <td>31.869645</td>\n",
       "      <td>33.669053</td>\n",
       "      <td>31.235529</td>\n",
       "      <td>95.487266</td>\n",
       "      <td>622.673962</td>\n",
       "      <td>338.774899</td>\n",
       "      <td>-6.272951</td>\n",
       "      <td>647.310871</td>\n",
       "      <td>Ralle/Dragon</td>\n",
       "      <td>14.241441</td>\n",
       "      <td>20.056757</td>\n",
       "      <td>8.486486</td>\n",
       "      <td>2.625759</td>\n",
       "      <td>72.75045</td>\n",
       "      <td>96.04955</td>\n",
       "      <td>13.5</td>\n",
       "      <td>13.893694</td>\n",
       "      <td>14.8</td>\n",
       "      <td>...</td>\n",
       "      <td>1498.5</td>\n",
       "      <td>1542.2</td>\n",
       "      <td>2.6</td>\n",
       "      <td>4.6</td>\n",
       "      <td>-5.0</td>\n",
       "      <td>0.0</td>\n",
       "      <td>31.5</td>\n",
       "      <td>39.9</td>\n",
       "      <td>6.6</td>\n",
       "      <td>7.0</td>\n",
       "      <td>24.1</td>\n",
       "      <td>33.1</td>\n",
       "      <td>18.3</td>\n",
       "      <td>21.2</td>\n",
       "      <td>94.5</td>\n",
       "      <td>99.9</td>\n",
       "      <td>19.0</td>\n",
       "      <td>19.5</td>\n",
       "      <td>4.155926</td>\n",
       "      <td>5.043459</td>\n",
       "      <td>4.466206</td>\n",
       "      <td>4.678896</td>\n",
       "      <td>13.428564</td>\n",
       "      <td>7.977854</td>\n",
       "      <td>3.265996</td>\n",
       "      <td>3.466024</td>\n",
       "      <td>12.3</td>\n",
       "      <td>17.75</td>\n",
       "      <td>5.8</td>\n",
       "      <td>0.0</td>\n",
       "      <td>62.55</td>\n",
       "      <td>95.65</td>\n",
       "      <td>11.2</td>\n",
       "      <td>11.55</td>\n",
       "      <td>14.8</td>\n",
       "      <td>20.1</td>\n",
       "      <td>9.3</td>\n",
       "      <td>0.4</td>\n",
       "      <td>73.9</td>\n",
       "      <td>98.8</td>\n",
       "      <td>14.5</td>\n",
       "      <td>15.2</td>\n",
       "      <td>16.8</td>\n",
       "      <td>22.95</td>\n",
       "      <td>11.5</td>\n",
       "      <td>2.838274</td>\n",
       "      <td>84.0</td>\n",
       "      <td>99.9</td>\n",
       "      <td>15.95</td>\n",
       "      <td>16.8</td>\n",
       "    </tr>\n",
       "    <tr>\n",
       "      <th>1</th>\n",
       "      <td>102</td>\n",
       "      <td>515.532751</td>\n",
       "      <td>1</td>\n",
       "      <td>1</td>\n",
       "      <td>11</td>\n",
       "      <td>GN14547</td>\n",
       "      <td>2.592873</td>\n",
       "      <td>6.884701</td>\n",
       "      <td>5.349383</td>\n",
       "      <td>12.983170</td>\n",
       "      <td>30.824851</td>\n",
       "      <td>45.236169</td>\n",
       "      <td>147.322771</td>\n",
       "      <td>26.313920</td>\n",
       "      <td>24.581058</td>\n",
       "      <td>147.322771</td>\n",
       "      <td>5.827146</td>\n",
       "      <td>5.222711</td>\n",
       "      <td>34.040357</td>\n",
       "      <td>41.611941</td>\n",
       "      <td>40.108623</td>\n",
       "      <td>25.355164</td>\n",
       "      <td>35.314448</td>\n",
       "      <td>-76.658632</td>\n",
       "      <td>1648.149684</td>\n",
       "      <td>20.337607</td>\n",
       "      <td>35.344810</td>\n",
       "      <td>259.939814</td>\n",
       "      <td>1.297642</td>\n",
       "      <td>30.657246</td>\n",
       "      <td>19.372180</td>\n",
       "      <td>35.523635</td>\n",
       "      <td>32.258285</td>\n",
       "      <td>34.800715</td>\n",
       "      <td>31.236932</td>\n",
       "      <td>98.453850</td>\n",
       "      <td>721.876915</td>\n",
       "      <td>321.939814</td>\n",
       "      <td>-3.131470</td>\n",
       "      <td>745.322999</td>\n",
       "      <td>SW45126/NK01533</td>\n",
       "      <td>14.241441</td>\n",
       "      <td>20.056757</td>\n",
       "      <td>8.486486</td>\n",
       "      <td>2.625759</td>\n",
       "      <td>72.75045</td>\n",
       "      <td>96.04955</td>\n",
       "      <td>13.5</td>\n",
       "      <td>13.893694</td>\n",
       "      <td>14.8</td>\n",
       "      <td>...</td>\n",
       "      <td>1498.5</td>\n",
       "      <td>1542.2</td>\n",
       "      <td>2.6</td>\n",
       "      <td>4.6</td>\n",
       "      <td>-5.0</td>\n",
       "      <td>0.0</td>\n",
       "      <td>31.5</td>\n",
       "      <td>39.9</td>\n",
       "      <td>6.6</td>\n",
       "      <td>7.0</td>\n",
       "      <td>24.1</td>\n",
       "      <td>33.1</td>\n",
       "      <td>18.3</td>\n",
       "      <td>21.2</td>\n",
       "      <td>94.5</td>\n",
       "      <td>99.9</td>\n",
       "      <td>19.0</td>\n",
       "      <td>19.5</td>\n",
       "      <td>4.155926</td>\n",
       "      <td>5.043459</td>\n",
       "      <td>4.466206</td>\n",
       "      <td>4.678896</td>\n",
       "      <td>13.428564</td>\n",
       "      <td>7.977854</td>\n",
       "      <td>3.265996</td>\n",
       "      <td>3.466024</td>\n",
       "      <td>12.3</td>\n",
       "      <td>17.75</td>\n",
       "      <td>5.8</td>\n",
       "      <td>0.0</td>\n",
       "      <td>62.55</td>\n",
       "      <td>95.65</td>\n",
       "      <td>11.2</td>\n",
       "      <td>11.55</td>\n",
       "      <td>14.8</td>\n",
       "      <td>20.1</td>\n",
       "      <td>9.3</td>\n",
       "      <td>0.4</td>\n",
       "      <td>73.9</td>\n",
       "      <td>98.8</td>\n",
       "      <td>14.5</td>\n",
       "      <td>15.2</td>\n",
       "      <td>16.8</td>\n",
       "      <td>22.95</td>\n",
       "      <td>11.5</td>\n",
       "      <td>2.838274</td>\n",
       "      <td>84.0</td>\n",
       "      <td>99.9</td>\n",
       "      <td>15.95</td>\n",
       "      <td>16.8</td>\n",
       "    </tr>\n",
       "    <tr>\n",
       "      <th>2</th>\n",
       "      <td>103</td>\n",
       "      <td>529.501025</td>\n",
       "      <td>1</td>\n",
       "      <td>1</td>\n",
       "      <td>13</td>\n",
       "      <td>Tarrafal</td>\n",
       "      <td>2.501096</td>\n",
       "      <td>6.534736</td>\n",
       "      <td>5.489296</td>\n",
       "      <td>12.598181</td>\n",
       "      <td>31.084613</td>\n",
       "      <td>44.748670</td>\n",
       "      <td>154.768449</td>\n",
       "      <td>26.484704</td>\n",
       "      <td>25.125277</td>\n",
       "      <td>154.768449</td>\n",
       "      <td>5.079081</td>\n",
       "      <td>3.928804</td>\n",
       "      <td>33.982018</td>\n",
       "      <td>41.619050</td>\n",
       "      <td>40.852849</td>\n",
       "      <td>25.757591</td>\n",
       "      <td>36.211202</td>\n",
       "      <td>-79.584731</td>\n",
       "      <td>1643.459363</td>\n",
       "      <td>16.645912</td>\n",
       "      <td>37.052184</td>\n",
       "      <td>281.105994</td>\n",
       "      <td>-0.153056</td>\n",
       "      <td>29.836273</td>\n",
       "      <td>19.463343</td>\n",
       "      <td>35.454055</td>\n",
       "      <td>32.906460</td>\n",
       "      <td>34.587268</td>\n",
       "      <td>31.841916</td>\n",
       "      <td>98.630131</td>\n",
       "      <td>732.503414</td>\n",
       "      <td>343.105994</td>\n",
       "      <td>-3.556812</td>\n",
       "      <td>756.304479</td>\n",
       "      <td>NaN</td>\n",
       "      <td>14.241441</td>\n",
       "      <td>20.056757</td>\n",
       "      <td>8.486486</td>\n",
       "      <td>2.625759</td>\n",
       "      <td>72.75045</td>\n",
       "      <td>96.04955</td>\n",
       "      <td>13.5</td>\n",
       "      <td>13.893694</td>\n",
       "      <td>14.8</td>\n",
       "      <td>...</td>\n",
       "      <td>1498.5</td>\n",
       "      <td>1542.2</td>\n",
       "      <td>2.6</td>\n",
       "      <td>4.6</td>\n",
       "      <td>-5.0</td>\n",
       "      <td>0.0</td>\n",
       "      <td>31.5</td>\n",
       "      <td>39.9</td>\n",
       "      <td>6.6</td>\n",
       "      <td>7.0</td>\n",
       "      <td>24.1</td>\n",
       "      <td>33.1</td>\n",
       "      <td>18.3</td>\n",
       "      <td>21.2</td>\n",
       "      <td>94.5</td>\n",
       "      <td>99.9</td>\n",
       "      <td>19.0</td>\n",
       "      <td>19.5</td>\n",
       "      <td>4.155926</td>\n",
       "      <td>5.043459</td>\n",
       "      <td>4.466206</td>\n",
       "      <td>4.678896</td>\n",
       "      <td>13.428564</td>\n",
       "      <td>7.977854</td>\n",
       "      <td>3.265996</td>\n",
       "      <td>3.466024</td>\n",
       "      <td>12.3</td>\n",
       "      <td>17.75</td>\n",
       "      <td>5.8</td>\n",
       "      <td>0.0</td>\n",
       "      <td>62.55</td>\n",
       "      <td>95.65</td>\n",
       "      <td>11.2</td>\n",
       "      <td>11.55</td>\n",
       "      <td>14.8</td>\n",
       "      <td>20.1</td>\n",
       "      <td>9.3</td>\n",
       "      <td>0.4</td>\n",
       "      <td>73.9</td>\n",
       "      <td>98.8</td>\n",
       "      <td>14.5</td>\n",
       "      <td>15.2</td>\n",
       "      <td>16.8</td>\n",
       "      <td>22.95</td>\n",
       "      <td>11.5</td>\n",
       "      <td>2.838274</td>\n",
       "      <td>84.0</td>\n",
       "      <td>99.9</td>\n",
       "      <td>15.95</td>\n",
       "      <td>16.8</td>\n",
       "    </tr>\n",
       "    <tr>\n",
       "      <th>3</th>\n",
       "      <td>104</td>\n",
       "      <td>544.503985</td>\n",
       "      <td>1</td>\n",
       "      <td>1</td>\n",
       "      <td>14</td>\n",
       "      <td>GN12760</td>\n",
       "      <td>2.435992</td>\n",
       "      <td>6.382933</td>\n",
       "      <td>5.114914</td>\n",
       "      <td>12.268243</td>\n",
       "      <td>31.222147</td>\n",
       "      <td>45.799529</td>\n",
       "      <td>161.256495</td>\n",
       "      <td>26.923629</td>\n",
       "      <td>25.484633</td>\n",
       "      <td>161.256495</td>\n",
       "      <td>5.214960</td>\n",
       "      <td>4.437015</td>\n",
       "      <td>34.696759</td>\n",
       "      <td>42.503203</td>\n",
       "      <td>41.468851</td>\n",
       "      <td>27.052356</td>\n",
       "      <td>36.695447</td>\n",
       "      <td>-85.771253</td>\n",
       "      <td>1672.977632</td>\n",
       "      <td>20.257647</td>\n",
       "      <td>36.203516</td>\n",
       "      <td>304.100996</td>\n",
       "      <td>1.199624</td>\n",
       "      <td>31.693017</td>\n",
       "      <td>20.282226</td>\n",
       "      <td>36.245078</td>\n",
       "      <td>33.499862</td>\n",
       "      <td>35.402729</td>\n",
       "      <td>32.400147</td>\n",
       "      <td>99.823678</td>\n",
       "      <td>852.238850</td>\n",
       "      <td>366.100996</td>\n",
       "      <td>-0.618760</td>\n",
       "      <td>875.000873</td>\n",
       "      <td>NK02529/NK01533//NK01568</td>\n",
       "      <td>14.241441</td>\n",
       "      <td>20.056757</td>\n",
       "      <td>8.486486</td>\n",
       "      <td>2.625759</td>\n",
       "      <td>72.75045</td>\n",
       "      <td>96.04955</td>\n",
       "      <td>13.5</td>\n",
       "      <td>13.893694</td>\n",
       "      <td>14.8</td>\n",
       "      <td>...</td>\n",
       "      <td>1498.5</td>\n",
       "      <td>1542.2</td>\n",
       "      <td>2.6</td>\n",
       "      <td>4.6</td>\n",
       "      <td>-5.0</td>\n",
       "      <td>0.0</td>\n",
       "      <td>31.5</td>\n",
       "      <td>39.9</td>\n",
       "      <td>6.6</td>\n",
       "      <td>7.0</td>\n",
       "      <td>24.1</td>\n",
       "      <td>33.1</td>\n",
       "      <td>18.3</td>\n",
       "      <td>21.2</td>\n",
       "      <td>94.5</td>\n",
       "      <td>99.9</td>\n",
       "      <td>19.0</td>\n",
       "      <td>19.5</td>\n",
       "      <td>4.155926</td>\n",
       "      <td>5.043459</td>\n",
       "      <td>4.466206</td>\n",
       "      <td>4.678896</td>\n",
       "      <td>13.428564</td>\n",
       "      <td>7.977854</td>\n",
       "      <td>3.265996</td>\n",
       "      <td>3.466024</td>\n",
       "      <td>12.3</td>\n",
       "      <td>17.75</td>\n",
       "      <td>5.8</td>\n",
       "      <td>0.0</td>\n",
       "      <td>62.55</td>\n",
       "      <td>95.65</td>\n",
       "      <td>11.2</td>\n",
       "      <td>11.55</td>\n",
       "      <td>14.8</td>\n",
       "      <td>20.1</td>\n",
       "      <td>9.3</td>\n",
       "      <td>0.4</td>\n",
       "      <td>73.9</td>\n",
       "      <td>98.8</td>\n",
       "      <td>14.5</td>\n",
       "      <td>15.2</td>\n",
       "      <td>16.8</td>\n",
       "      <td>22.95</td>\n",
       "      <td>11.5</td>\n",
       "      <td>2.838274</td>\n",
       "      <td>84.0</td>\n",
       "      <td>99.9</td>\n",
       "      <td>15.95</td>\n",
       "      <td>16.8</td>\n",
       "    </tr>\n",
       "    <tr>\n",
       "      <th>4</th>\n",
       "      <td>105</td>\n",
       "      <td>529.501025</td>\n",
       "      <td>1</td>\n",
       "      <td>1</td>\n",
       "      <td>4</td>\n",
       "      <td>Bjarne</td>\n",
       "      <td>2.443793</td>\n",
       "      <td>6.538687</td>\n",
       "      <td>5.222022</td>\n",
       "      <td>12.900846</td>\n",
       "      <td>32.133394</td>\n",
       "      <td>45.834019</td>\n",
       "      <td>151.222259</td>\n",
       "      <td>27.747350</td>\n",
       "      <td>26.212271</td>\n",
       "      <td>151.222259</td>\n",
       "      <td>5.411559</td>\n",
       "      <td>4.639415</td>\n",
       "      <td>35.230074</td>\n",
       "      <td>43.264567</td>\n",
       "      <td>41.306739</td>\n",
       "      <td>26.369074</td>\n",
       "      <td>35.645460</td>\n",
       "      <td>-86.988860</td>\n",
       "      <td>1726.244157</td>\n",
       "      <td>19.634490</td>\n",
       "      <td>37.183383</td>\n",
       "      <td>288.847536</td>\n",
       "      <td>1.222756</td>\n",
       "      <td>32.224663</td>\n",
       "      <td>21.141887</td>\n",
       "      <td>36.748530</td>\n",
       "      <td>33.865781</td>\n",
       "      <td>35.655822</td>\n",
       "      <td>32.517430</td>\n",
       "      <td>101.067426</td>\n",
       "      <td>798.581638</td>\n",
       "      <td>350.847536</td>\n",
       "      <td>-1.517121</td>\n",
       "      <td>821.425464</td>\n",
       "      <td>SvB87293/Bastian</td>\n",
       "      <td>14.241441</td>\n",
       "      <td>20.056757</td>\n",
       "      <td>8.486486</td>\n",
       "      <td>2.625759</td>\n",
       "      <td>72.75045</td>\n",
       "      <td>96.04955</td>\n",
       "      <td>13.5</td>\n",
       "      <td>13.893694</td>\n",
       "      <td>14.8</td>\n",
       "      <td>...</td>\n",
       "      <td>1498.5</td>\n",
       "      <td>1542.2</td>\n",
       "      <td>2.6</td>\n",
       "      <td>4.6</td>\n",
       "      <td>-5.0</td>\n",
       "      <td>0.0</td>\n",
       "      <td>31.5</td>\n",
       "      <td>39.9</td>\n",
       "      <td>6.6</td>\n",
       "      <td>7.0</td>\n",
       "      <td>24.1</td>\n",
       "      <td>33.1</td>\n",
       "      <td>18.3</td>\n",
       "      <td>21.2</td>\n",
       "      <td>94.5</td>\n",
       "      <td>99.9</td>\n",
       "      <td>19.0</td>\n",
       "      <td>19.5</td>\n",
       "      <td>4.155926</td>\n",
       "      <td>5.043459</td>\n",
       "      <td>4.466206</td>\n",
       "      <td>4.678896</td>\n",
       "      <td>13.428564</td>\n",
       "      <td>7.977854</td>\n",
       "      <td>3.265996</td>\n",
       "      <td>3.466024</td>\n",
       "      <td>12.3</td>\n",
       "      <td>17.75</td>\n",
       "      <td>5.8</td>\n",
       "      <td>0.0</td>\n",
       "      <td>62.55</td>\n",
       "      <td>95.65</td>\n",
       "      <td>11.2</td>\n",
       "      <td>11.55</td>\n",
       "      <td>14.8</td>\n",
       "      <td>20.1</td>\n",
       "      <td>9.3</td>\n",
       "      <td>0.4</td>\n",
       "      <td>73.9</td>\n",
       "      <td>98.8</td>\n",
       "      <td>14.5</td>\n",
       "      <td>15.2</td>\n",
       "      <td>16.8</td>\n",
       "      <td>22.95</td>\n",
       "      <td>11.5</td>\n",
       "      <td>2.838274</td>\n",
       "      <td>84.0</td>\n",
       "      <td>99.9</td>\n",
       "      <td>15.95</td>\n",
       "      <td>16.8</td>\n",
       "    </tr>\n",
       "    <tr>\n",
       "      <th>...</th>\n",
       "      <td>...</td>\n",
       "      <td>...</td>\n",
       "      <td>...</td>\n",
       "      <td>...</td>\n",
       "      <td>...</td>\n",
       "      <td>...</td>\n",
       "      <td>...</td>\n",
       "      <td>...</td>\n",
       "      <td>...</td>\n",
       "      <td>...</td>\n",
       "      <td>...</td>\n",
       "      <td>...</td>\n",
       "      <td>...</td>\n",
       "      <td>...</td>\n",
       "      <td>...</td>\n",
       "      <td>...</td>\n",
       "      <td>...</td>\n",
       "      <td>...</td>\n",
       "      <td>...</td>\n",
       "      <td>...</td>\n",
       "      <td>...</td>\n",
       "      <td>...</td>\n",
       "      <td>...</td>\n",
       "      <td>...</td>\n",
       "      <td>...</td>\n",
       "      <td>...</td>\n",
       "      <td>...</td>\n",
       "      <td>...</td>\n",
       "      <td>...</td>\n",
       "      <td>...</td>\n",
       "      <td>...</td>\n",
       "      <td>...</td>\n",
       "      <td>...</td>\n",
       "      <td>...</td>\n",
       "      <td>...</td>\n",
       "      <td>...</td>\n",
       "      <td>...</td>\n",
       "      <td>...</td>\n",
       "      <td>...</td>\n",
       "      <td>...</td>\n",
       "      <td>...</td>\n",
       "      <td>...</td>\n",
       "      <td>...</td>\n",
       "      <td>...</td>\n",
       "      <td>...</td>\n",
       "      <td>...</td>\n",
       "      <td>...</td>\n",
       "      <td>...</td>\n",
       "      <td>...</td>\n",
       "      <td>...</td>\n",
       "      <td>...</td>\n",
       "      <td>...</td>\n",
       "      <td>...</td>\n",
       "      <td>...</td>\n",
       "      <td>...</td>\n",
       "      <td>...</td>\n",
       "      <td>...</td>\n",
       "      <td>...</td>\n",
       "      <td>...</td>\n",
       "      <td>...</td>\n",
       "      <td>...</td>\n",
       "      <td>...</td>\n",
       "      <td>...</td>\n",
       "      <td>...</td>\n",
       "      <td>...</td>\n",
       "      <td>...</td>\n",
       "      <td>...</td>\n",
       "      <td>...</td>\n",
       "      <td>...</td>\n",
       "      <td>...</td>\n",
       "      <td>...</td>\n",
       "      <td>...</td>\n",
       "      <td>...</td>\n",
       "      <td>...</td>\n",
       "      <td>...</td>\n",
       "      <td>...</td>\n",
       "      <td>...</td>\n",
       "      <td>...</td>\n",
       "      <td>...</td>\n",
       "      <td>...</td>\n",
       "      <td>...</td>\n",
       "      <td>...</td>\n",
       "      <td>...</td>\n",
       "      <td>...</td>\n",
       "      <td>...</td>\n",
       "      <td>...</td>\n",
       "      <td>...</td>\n",
       "      <td>...</td>\n",
       "      <td>...</td>\n",
       "      <td>...</td>\n",
       "      <td>...</td>\n",
       "      <td>...</td>\n",
       "      <td>...</td>\n",
       "      <td>...</td>\n",
       "      <td>...</td>\n",
       "      <td>...</td>\n",
       "      <td>...</td>\n",
       "      <td>...</td>\n",
       "      <td>...</td>\n",
       "      <td>...</td>\n",
       "      <td>...</td>\n",
       "    </tr>\n",
       "    <tr>\n",
       "      <th>595</th>\n",
       "      <td>872</td>\n",
       "      <td>469.682277</td>\n",
       "      <td>4</td>\n",
       "      <td>20</td>\n",
       "      <td>24</td>\n",
       "      <td>GN19602</td>\n",
       "      <td>1.603014</td>\n",
       "      <td>5.170059</td>\n",
       "      <td>2.366899</td>\n",
       "      <td>11.045714</td>\n",
       "      <td>34.513039</td>\n",
       "      <td>53.819248</td>\n",
       "      <td>168.367365</td>\n",
       "      <td>32.146140</td>\n",
       "      <td>29.342981</td>\n",
       "      <td>168.367365</td>\n",
       "      <td>6.370204</td>\n",
       "      <td>8.226603</td>\n",
       "      <td>41.580946</td>\n",
       "      <td>52.122018</td>\n",
       "      <td>45.567609</td>\n",
       "      <td>31.829121</td>\n",
       "      <td>36.353358</td>\n",
       "      <td>-103.012244</td>\n",
       "      <td>2040.894767</td>\n",
       "      <td>34.166735</td>\n",
       "      <td>32.847377</td>\n",
       "      <td>398.870535</td>\n",
       "      <td>7.056784</td>\n",
       "      <td>47.982013</td>\n",
       "      <td>29.608048</td>\n",
       "      <td>43.915254</td>\n",
       "      <td>38.491720</td>\n",
       "      <td>42.454670</td>\n",
       "      <td>36.541753</td>\n",
       "      <td>113.904284</td>\n",
       "      <td>1306.748568</td>\n",
       "      <td>460.870535</td>\n",
       "      <td>16.276288</td>\n",
       "      <td>1322.447264</td>\n",
       "      <td>QUARNA/NK01513//Berserk</td>\n",
       "      <td>14.241441</td>\n",
       "      <td>20.056757</td>\n",
       "      <td>8.486486</td>\n",
       "      <td>2.625759</td>\n",
       "      <td>72.75045</td>\n",
       "      <td>96.04955</td>\n",
       "      <td>13.5</td>\n",
       "      <td>13.893694</td>\n",
       "      <td>14.8</td>\n",
       "      <td>...</td>\n",
       "      <td>1498.5</td>\n",
       "      <td>1542.2</td>\n",
       "      <td>2.6</td>\n",
       "      <td>4.6</td>\n",
       "      <td>-5.0</td>\n",
       "      <td>0.0</td>\n",
       "      <td>31.5</td>\n",
       "      <td>39.9</td>\n",
       "      <td>6.6</td>\n",
       "      <td>7.0</td>\n",
       "      <td>24.1</td>\n",
       "      <td>33.1</td>\n",
       "      <td>18.3</td>\n",
       "      <td>21.2</td>\n",
       "      <td>94.5</td>\n",
       "      <td>99.9</td>\n",
       "      <td>19.0</td>\n",
       "      <td>19.5</td>\n",
       "      <td>4.155926</td>\n",
       "      <td>5.043459</td>\n",
       "      <td>4.466206</td>\n",
       "      <td>4.678896</td>\n",
       "      <td>13.428564</td>\n",
       "      <td>7.977854</td>\n",
       "      <td>3.265996</td>\n",
       "      <td>3.466024</td>\n",
       "      <td>12.3</td>\n",
       "      <td>17.75</td>\n",
       "      <td>5.8</td>\n",
       "      <td>0.0</td>\n",
       "      <td>62.55</td>\n",
       "      <td>95.65</td>\n",
       "      <td>11.2</td>\n",
       "      <td>11.55</td>\n",
       "      <td>14.8</td>\n",
       "      <td>20.1</td>\n",
       "      <td>9.3</td>\n",
       "      <td>0.4</td>\n",
       "      <td>73.9</td>\n",
       "      <td>98.8</td>\n",
       "      <td>14.5</td>\n",
       "      <td>15.2</td>\n",
       "      <td>16.8</td>\n",
       "      <td>22.95</td>\n",
       "      <td>11.5</td>\n",
       "      <td>2.838274</td>\n",
       "      <td>84.0</td>\n",
       "      <td>99.9</td>\n",
       "      <td>15.95</td>\n",
       "      <td>16.8</td>\n",
       "    </tr>\n",
       "    <tr>\n",
       "      <th>596</th>\n",
       "      <td>873</td>\n",
       "      <td>594.682657</td>\n",
       "      <td>4</td>\n",
       "      <td>20</td>\n",
       "      <td>9</td>\n",
       "      <td>GN19587</td>\n",
       "      <td>1.761630</td>\n",
       "      <td>5.725813</td>\n",
       "      <td>2.633292</td>\n",
       "      <td>12.048401</td>\n",
       "      <td>36.967557</td>\n",
       "      <td>53.159690</td>\n",
       "      <td>161.758561</td>\n",
       "      <td>34.334265</td>\n",
       "      <td>31.241744</td>\n",
       "      <td>161.758561</td>\n",
       "      <td>7.056704</td>\n",
       "      <td>9.095909</td>\n",
       "      <td>42.622868</td>\n",
       "      <td>53.535363</td>\n",
       "      <td>44.792480</td>\n",
       "      <td>31.092876</td>\n",
       "      <td>35.952715</td>\n",
       "      <td>-114.137400</td>\n",
       "      <td>2183.756768</td>\n",
       "      <td>33.596050</td>\n",
       "      <td>35.236044</td>\n",
       "      <td>366.930266</td>\n",
       "      <td>6.596603</td>\n",
       "      <td>47.222339</td>\n",
       "      <td>31.768502</td>\n",
       "      <td>44.738760</td>\n",
       "      <td>38.999759</td>\n",
       "      <td>42.514756</td>\n",
       "      <td>36.408533</td>\n",
       "      <td>116.259560</td>\n",
       "      <td>1151.832592</td>\n",
       "      <td>428.930266</td>\n",
       "      <td>14.011561</td>\n",
       "      <td>1168.250166</td>\n",
       "      <td>QUARNA/BAJASS-5//Berserk 4</td>\n",
       "      <td>14.241441</td>\n",
       "      <td>20.056757</td>\n",
       "      <td>8.486486</td>\n",
       "      <td>2.625759</td>\n",
       "      <td>72.75045</td>\n",
       "      <td>96.04955</td>\n",
       "      <td>13.5</td>\n",
       "      <td>13.893694</td>\n",
       "      <td>14.8</td>\n",
       "      <td>...</td>\n",
       "      <td>1498.5</td>\n",
       "      <td>1542.2</td>\n",
       "      <td>2.6</td>\n",
       "      <td>4.6</td>\n",
       "      <td>-5.0</td>\n",
       "      <td>0.0</td>\n",
       "      <td>31.5</td>\n",
       "      <td>39.9</td>\n",
       "      <td>6.6</td>\n",
       "      <td>7.0</td>\n",
       "      <td>24.1</td>\n",
       "      <td>33.1</td>\n",
       "      <td>18.3</td>\n",
       "      <td>21.2</td>\n",
       "      <td>94.5</td>\n",
       "      <td>99.9</td>\n",
       "      <td>19.0</td>\n",
       "      <td>19.5</td>\n",
       "      <td>4.155926</td>\n",
       "      <td>5.043459</td>\n",
       "      <td>4.466206</td>\n",
       "      <td>4.678896</td>\n",
       "      <td>13.428564</td>\n",
       "      <td>7.977854</td>\n",
       "      <td>3.265996</td>\n",
       "      <td>3.466024</td>\n",
       "      <td>12.3</td>\n",
       "      <td>17.75</td>\n",
       "      <td>5.8</td>\n",
       "      <td>0.0</td>\n",
       "      <td>62.55</td>\n",
       "      <td>95.65</td>\n",
       "      <td>11.2</td>\n",
       "      <td>11.55</td>\n",
       "      <td>14.8</td>\n",
       "      <td>20.1</td>\n",
       "      <td>9.3</td>\n",
       "      <td>0.4</td>\n",
       "      <td>73.9</td>\n",
       "      <td>98.8</td>\n",
       "      <td>14.5</td>\n",
       "      <td>15.2</td>\n",
       "      <td>16.8</td>\n",
       "      <td>22.95</td>\n",
       "      <td>11.5</td>\n",
       "      <td>2.838274</td>\n",
       "      <td>84.0</td>\n",
       "      <td>99.9</td>\n",
       "      <td>15.95</td>\n",
       "      <td>16.8</td>\n",
       "    </tr>\n",
       "    <tr>\n",
       "      <th>597</th>\n",
       "      <td>874</td>\n",
       "      <td>528.060114</td>\n",
       "      <td>4</td>\n",
       "      <td>20</td>\n",
       "      <td>21</td>\n",
       "      <td>GN19599</td>\n",
       "      <td>1.669110</td>\n",
       "      <td>5.587970</td>\n",
       "      <td>2.539977</td>\n",
       "      <td>12.098062</td>\n",
       "      <td>36.106442</td>\n",
       "      <td>53.291980</td>\n",
       "      <td>153.443532</td>\n",
       "      <td>33.566464</td>\n",
       "      <td>30.518471</td>\n",
       "      <td>153.443532</td>\n",
       "      <td>6.966853</td>\n",
       "      <td>8.998855</td>\n",
       "      <td>42.206129</td>\n",
       "      <td>52.947844</td>\n",
       "      <td>44.951737</td>\n",
       "      <td>30.508395</td>\n",
       "      <td>35.191737</td>\n",
       "      <td>-111.023485</td>\n",
       "      <td>2135.907584</td>\n",
       "      <td>33.649390</td>\n",
       "      <td>34.586409</td>\n",
       "      <td>359.003049</td>\n",
       "      <td>7.007662</td>\n",
       "      <td>47.134345</td>\n",
       "      <td>30.990429</td>\n",
       "      <td>44.377090</td>\n",
       "      <td>38.677189</td>\n",
       "      <td>42.413351</td>\n",
       "      <td>36.331169</td>\n",
       "      <td>115.244449</td>\n",
       "      <td>1171.546865</td>\n",
       "      <td>421.003049</td>\n",
       "      <td>14.607009</td>\n",
       "      <td>1187.809568</td>\n",
       "      <td>Bombona/NK01513//Berserk</td>\n",
       "      <td>14.241441</td>\n",
       "      <td>20.056757</td>\n",
       "      <td>8.486486</td>\n",
       "      <td>2.625759</td>\n",
       "      <td>72.75045</td>\n",
       "      <td>96.04955</td>\n",
       "      <td>13.5</td>\n",
       "      <td>13.893694</td>\n",
       "      <td>14.8</td>\n",
       "      <td>...</td>\n",
       "      <td>1498.5</td>\n",
       "      <td>1542.2</td>\n",
       "      <td>2.6</td>\n",
       "      <td>4.6</td>\n",
       "      <td>-5.0</td>\n",
       "      <td>0.0</td>\n",
       "      <td>31.5</td>\n",
       "      <td>39.9</td>\n",
       "      <td>6.6</td>\n",
       "      <td>7.0</td>\n",
       "      <td>24.1</td>\n",
       "      <td>33.1</td>\n",
       "      <td>18.3</td>\n",
       "      <td>21.2</td>\n",
       "      <td>94.5</td>\n",
       "      <td>99.9</td>\n",
       "      <td>19.0</td>\n",
       "      <td>19.5</td>\n",
       "      <td>4.155926</td>\n",
       "      <td>5.043459</td>\n",
       "      <td>4.466206</td>\n",
       "      <td>4.678896</td>\n",
       "      <td>13.428564</td>\n",
       "      <td>7.977854</td>\n",
       "      <td>3.265996</td>\n",
       "      <td>3.466024</td>\n",
       "      <td>12.3</td>\n",
       "      <td>17.75</td>\n",
       "      <td>5.8</td>\n",
       "      <td>0.0</td>\n",
       "      <td>62.55</td>\n",
       "      <td>95.65</td>\n",
       "      <td>11.2</td>\n",
       "      <td>11.55</td>\n",
       "      <td>14.8</td>\n",
       "      <td>20.1</td>\n",
       "      <td>9.3</td>\n",
       "      <td>0.4</td>\n",
       "      <td>73.9</td>\n",
       "      <td>98.8</td>\n",
       "      <td>14.5</td>\n",
       "      <td>15.2</td>\n",
       "      <td>16.8</td>\n",
       "      <td>22.95</td>\n",
       "      <td>11.5</td>\n",
       "      <td>2.838274</td>\n",
       "      <td>84.0</td>\n",
       "      <td>99.9</td>\n",
       "      <td>15.95</td>\n",
       "      <td>16.8</td>\n",
       "    </tr>\n",
       "    <tr>\n",
       "      <th>598</th>\n",
       "      <td>875</td>\n",
       "      <td>489.629146</td>\n",
       "      <td>4</td>\n",
       "      <td>20</td>\n",
       "      <td>12</td>\n",
       "      <td>GN19590</td>\n",
       "      <td>2.471685</td>\n",
       "      <td>6.540378</td>\n",
       "      <td>4.632317</td>\n",
       "      <td>12.512835</td>\n",
       "      <td>32.340901</td>\n",
       "      <td>45.761973</td>\n",
       "      <td>163.470812</td>\n",
       "      <td>27.708584</td>\n",
       "      <td>25.800523</td>\n",
       "      <td>163.470812</td>\n",
       "      <td>5.976754</td>\n",
       "      <td>6.031889</td>\n",
       "      <td>35.595181</td>\n",
       "      <td>44.584929</td>\n",
       "      <td>40.184604</td>\n",
       "      <td>26.817527</td>\n",
       "      <td>36.966405</td>\n",
       "      <td>-83.222153</td>\n",
       "      <td>1738.837515</td>\n",
       "      <td>23.231942</td>\n",
       "      <td>35.850166</td>\n",
       "      <td>294.709211</td>\n",
       "      <td>2.662216</td>\n",
       "      <td>34.114133</td>\n",
       "      <td>21.512314</td>\n",
       "      <td>37.565611</td>\n",
       "      <td>33.902335</td>\n",
       "      <td>36.218876</td>\n",
       "      <td>32.233261</td>\n",
       "      <td>103.523845</td>\n",
       "      <td>891.308936</td>\n",
       "      <td>356.709211</td>\n",
       "      <td>0.147699</td>\n",
       "      <td>914.004423</td>\n",
       "      <td>Bombona/NK01513//GN03509</td>\n",
       "      <td>14.241441</td>\n",
       "      <td>20.056757</td>\n",
       "      <td>8.486486</td>\n",
       "      <td>2.625759</td>\n",
       "      <td>72.75045</td>\n",
       "      <td>96.04955</td>\n",
       "      <td>13.5</td>\n",
       "      <td>13.893694</td>\n",
       "      <td>14.8</td>\n",
       "      <td>...</td>\n",
       "      <td>1498.5</td>\n",
       "      <td>1542.2</td>\n",
       "      <td>2.6</td>\n",
       "      <td>4.6</td>\n",
       "      <td>-5.0</td>\n",
       "      <td>0.0</td>\n",
       "      <td>31.5</td>\n",
       "      <td>39.9</td>\n",
       "      <td>6.6</td>\n",
       "      <td>7.0</td>\n",
       "      <td>24.1</td>\n",
       "      <td>33.1</td>\n",
       "      <td>18.3</td>\n",
       "      <td>21.2</td>\n",
       "      <td>94.5</td>\n",
       "      <td>99.9</td>\n",
       "      <td>19.0</td>\n",
       "      <td>19.5</td>\n",
       "      <td>4.155926</td>\n",
       "      <td>5.043459</td>\n",
       "      <td>4.466206</td>\n",
       "      <td>4.678896</td>\n",
       "      <td>13.428564</td>\n",
       "      <td>7.977854</td>\n",
       "      <td>3.265996</td>\n",
       "      <td>3.466024</td>\n",
       "      <td>12.3</td>\n",
       "      <td>17.75</td>\n",
       "      <td>5.8</td>\n",
       "      <td>0.0</td>\n",
       "      <td>62.55</td>\n",
       "      <td>95.65</td>\n",
       "      <td>11.2</td>\n",
       "      <td>11.55</td>\n",
       "      <td>14.8</td>\n",
       "      <td>20.1</td>\n",
       "      <td>9.3</td>\n",
       "      <td>0.4</td>\n",
       "      <td>73.9</td>\n",
       "      <td>98.8</td>\n",
       "      <td>14.5</td>\n",
       "      <td>15.2</td>\n",
       "      <td>16.8</td>\n",
       "      <td>22.95</td>\n",
       "      <td>11.5</td>\n",
       "      <td>2.838274</td>\n",
       "      <td>84.0</td>\n",
       "      <td>99.9</td>\n",
       "      <td>15.95</td>\n",
       "      <td>16.8</td>\n",
       "    </tr>\n",
       "    <tr>\n",
       "      <th>599</th>\n",
       "      <td>801</td>\n",
       "      <td>591.977989</td>\n",
       "      <td>2</td>\n",
       "      <td>6</td>\n",
       "      <td>12</td>\n",
       "      <td>GN17621</td>\n",
       "      <td>1.692110</td>\n",
       "      <td>5.326152</td>\n",
       "      <td>2.587565</td>\n",
       "      <td>12.170790</td>\n",
       "      <td>39.797703</td>\n",
       "      <td>53.877695</td>\n",
       "      <td>176.061381</td>\n",
       "      <td>37.210138</td>\n",
       "      <td>34.471550</td>\n",
       "      <td>176.061381</td>\n",
       "      <td>6.372630</td>\n",
       "      <td>8.076192</td>\n",
       "      <td>44.524385</td>\n",
       "      <td>55.830193</td>\n",
       "      <td>46.954618</td>\n",
       "      <td>32.330990</td>\n",
       "      <td>37.030156</td>\n",
       "      <td>-132.808946</td>\n",
       "      <td>2342.151786</td>\n",
       "      <td>31.625474</td>\n",
       "      <td>38.501891</td>\n",
       "      <td>409.640725</td>\n",
       "      <td>5.406954</td>\n",
       "      <td>48.741000</td>\n",
       "      <td>35.109198</td>\n",
       "      <td>46.362749</td>\n",
       "      <td>41.433068</td>\n",
       "      <td>43.439321</td>\n",
       "      <td>38.300720</td>\n",
       "      <td>120.038180</td>\n",
       "      <td>1221.383376</td>\n",
       "      <td>471.640725</td>\n",
       "      <td>15.617237</td>\n",
       "      <td>1237.143634</td>\n",
       "      <td>QUARNA/GN03531//Bajass-5</td>\n",
       "      <td>14.241441</td>\n",
       "      <td>20.056757</td>\n",
       "      <td>8.486486</td>\n",
       "      <td>2.625759</td>\n",
       "      <td>72.75045</td>\n",
       "      <td>96.04955</td>\n",
       "      <td>13.5</td>\n",
       "      <td>13.893694</td>\n",
       "      <td>14.8</td>\n",
       "      <td>...</td>\n",
       "      <td>1498.5</td>\n",
       "      <td>1542.2</td>\n",
       "      <td>2.6</td>\n",
       "      <td>4.6</td>\n",
       "      <td>-5.0</td>\n",
       "      <td>0.0</td>\n",
       "      <td>31.5</td>\n",
       "      <td>39.9</td>\n",
       "      <td>6.6</td>\n",
       "      <td>7.0</td>\n",
       "      <td>24.1</td>\n",
       "      <td>33.1</td>\n",
       "      <td>18.3</td>\n",
       "      <td>21.2</td>\n",
       "      <td>94.5</td>\n",
       "      <td>99.9</td>\n",
       "      <td>19.0</td>\n",
       "      <td>19.5</td>\n",
       "      <td>4.155926</td>\n",
       "      <td>5.043459</td>\n",
       "      <td>4.466206</td>\n",
       "      <td>4.678896</td>\n",
       "      <td>13.428564</td>\n",
       "      <td>7.977854</td>\n",
       "      <td>3.265996</td>\n",
       "      <td>3.466024</td>\n",
       "      <td>12.3</td>\n",
       "      <td>17.75</td>\n",
       "      <td>5.8</td>\n",
       "      <td>0.0</td>\n",
       "      <td>62.55</td>\n",
       "      <td>95.65</td>\n",
       "      <td>11.2</td>\n",
       "      <td>11.55</td>\n",
       "      <td>14.8</td>\n",
       "      <td>20.1</td>\n",
       "      <td>9.3</td>\n",
       "      <td>0.4</td>\n",
       "      <td>73.9</td>\n",
       "      <td>98.8</td>\n",
       "      <td>14.5</td>\n",
       "      <td>15.2</td>\n",
       "      <td>16.8</td>\n",
       "      <td>22.95</td>\n",
       "      <td>11.5</td>\n",
       "      <td>2.838274</td>\n",
       "      <td>84.0</td>\n",
       "      <td>99.9</td>\n",
       "      <td>15.95</td>\n",
       "      <td>16.8</td>\n",
       "    </tr>\n",
       "  </tbody>\n",
       "</table>\n",
       "<p>600 rows × 121 columns</p>\n",
       "</div>"
      ],
      "text/plain": [
       "     Plot_ID  GrainYield  Block  iBlock  Entry      Name      Blue     Green  \\\n",
       "0        101  499.624440      1       1      1     Zebra  2.730156  6.636563   \n",
       "1        102  515.532751      1       1     11   GN14547  2.592873  6.884701   \n",
       "2        103  529.501025      1       1     13  Tarrafal  2.501096  6.534736   \n",
       "3        104  544.503985      1       1     14   GN12760  2.435992  6.382933   \n",
       "4        105  529.501025      1       1      4    Bjarne  2.443793  6.538687   \n",
       "..       ...         ...    ...     ...    ...       ...       ...       ...   \n",
       "595      872  469.682277      4      20     24   GN19602  1.603014  5.170059   \n",
       "596      873  594.682657      4      20      9   GN19587  1.761630  5.725813   \n",
       "597      874  528.060114      4      20     21   GN19599  1.669110  5.587970   \n",
       "598      875  489.629146      4      20     12   GN19590  2.471685  6.540378   \n",
       "599      801  591.977989      2       6     12   GN17621  1.692110  5.326152   \n",
       "\n",
       "          Red    RedEdge        NIR       NDVI        MTCI        DVI  \\\n",
       "0    5.810611  12.271557  29.092428  43.969482  164.325434  24.224897   \n",
       "1    5.349383  12.983170  30.824851  45.236169  147.322771  26.313920   \n",
       "2    5.489296  12.598181  31.084613  44.748670  154.768449  26.484704   \n",
       "3    5.114914  12.268243  31.222147  45.799529  161.256495  26.923629   \n",
       "4    5.222022  12.900846  32.133394  45.834019  151.222259  27.747350   \n",
       "..        ...        ...        ...        ...         ...        ...   \n",
       "595  2.366899  11.045714  34.513039  53.819248  168.367365  32.146140   \n",
       "596  2.633292  12.048401  36.967557  53.159690  161.758561  34.334265   \n",
       "597  2.539977  12.098062  36.106442  53.291980  153.443532  33.566464   \n",
       "598  4.632317  12.512835  32.340901  45.761973  163.470812  27.708584   \n",
       "599  2.587565  12.170790  39.797703  53.877695  176.061381  37.210138   \n",
       "\n",
       "          GDVI     MTCI_CI       EXG      EXGR       RDVI       TDVI  \\\n",
       "0    23.163382  164.325434  4.732360  3.234068  32.372200  39.689907   \n",
       "1    24.581058  147.322771  5.827146  5.222711  34.040357  41.611941   \n",
       "2    25.125277  154.768449  5.079081  3.928804  33.982018  41.619050   \n",
       "3    25.484633  161.256495  5.214960  4.437015  34.696759  42.503203   \n",
       "4    26.212271  151.222259  5.411559  4.639415  35.230074  43.264567   \n",
       "..         ...         ...       ...       ...        ...        ...   \n",
       "595  29.342981  168.367365  6.370204  8.226603  41.580946  52.122018   \n",
       "596  31.241744  161.758561  7.056704  9.095909  42.622868  53.535363   \n",
       "597  30.518471  153.443532  6.966853  8.998855  42.206129  52.947844   \n",
       "598  25.800523  163.470812  5.976754  6.031889  35.595181  44.584929   \n",
       "599  34.471550  176.061381  6.372630  8.076192  44.524385  55.830193   \n",
       "\n",
       "         GNDVI       NDRE       SCCI         EVI          TVI       VARI  \\\n",
       "0    40.369102  25.945330  37.043150  -62.199180  1495.954392  15.450394   \n",
       "1    40.108623  25.355164  35.314448  -76.658632  1648.149684  20.337607   \n",
       "2    40.852849  25.757591  36.211202  -79.584731  1643.459363  16.645912   \n",
       "3    41.468851  27.052356  36.695447  -85.771253  1672.977632  20.257647   \n",
       "4    41.306739  26.369074  35.645460  -86.988860  1726.244157  19.634490   \n",
       "..         ...        ...        ...         ...          ...        ...   \n",
       "595  45.567609  31.829121  36.353358 -103.012244  2040.894767  34.166735   \n",
       "596  44.792480  31.092876  35.952715 -114.137400  2183.756768  33.596050   \n",
       "597  44.951737  30.508395  35.191737 -111.023485  2135.907584  33.649390   \n",
       "598  40.184604  26.817527  36.966405  -83.222153  1738.837515  23.231942   \n",
       "599  46.954618  32.330990  37.030156 -132.808946  2342.151786  31.625474   \n",
       "\n",
       "          GARI         GCI       GLI        NLI       MNLI       SAVI  \\\n",
       "0    35.135519  276.774899 -1.357544  28.907769  16.646329  34.020520   \n",
       "1    35.344810  259.939814  1.297642  30.657246  19.372180  35.523635   \n",
       "2    37.052184  281.105994 -0.153056  29.836273  19.463343  35.454055   \n",
       "3    36.203516  304.100996  1.199624  31.693017  20.282226  36.245078   \n",
       "4    37.183383  288.847536  1.222756  32.224663  21.141887  36.748530   \n",
       "..         ...         ...       ...        ...        ...        ...   \n",
       "595  32.847377  398.870535  7.056784  47.982013  29.608048  43.915254   \n",
       "596  35.236044  366.930266  6.596603  47.222339  31.768502  44.738760   \n",
       "597  34.586409  359.003049  7.007662  47.134345  30.990429  44.377090   \n",
       "598  35.850166  294.709211  2.662216  34.114133  21.512314  37.565611   \n",
       "599  38.501891  409.640725  5.406954  48.741000  35.109198  46.362749   \n",
       "\n",
       "         GSAVI      OSAVI     GOSAVI      MSAVI2          MSR        GRVI  \\\n",
       "0    31.869645  33.669053  31.235529   95.487266   622.673962  338.774899   \n",
       "1    32.258285  34.800715  31.236932   98.453850   721.876915  321.939814   \n",
       "2    32.906460  34.587268  31.841916   98.630131   732.503414  343.105994   \n",
       "3    33.499862  35.402729  32.400147   99.823678   852.238850  366.100996   \n",
       "4    33.865781  35.655822  32.517430  101.067426   798.581638  350.847536   \n",
       "..         ...        ...        ...         ...          ...         ...   \n",
       "595  38.491720  42.454670  36.541753  113.904284  1306.748568  460.870535   \n",
       "596  38.999759  42.514756  36.408533  116.259560  1151.832592  428.930266   \n",
       "597  38.677189  42.413351  36.331169  115.244449  1171.546865  421.003049   \n",
       "598  33.902335  36.218876  32.233261  103.523845   891.308936  356.709211   \n",
       "599  41.433068  43.439321  38.300720  120.038180  1221.383376  471.640725   \n",
       "\n",
       "         WDRVI           SR                    Pedigree  \\\n",
       "0    -6.272951   647.310871                Ralle/Dragon   \n",
       "1    -3.131470   745.322999             SW45126/NK01533   \n",
       "2    -3.556812   756.304479                         NaN   \n",
       "3    -0.618760   875.000873    NK02529/NK01533//NK01568   \n",
       "4    -1.517121   821.425464            SvB87293/Bastian   \n",
       "..         ...          ...                         ...   \n",
       "595  16.276288  1322.447264     QUARNA/NK01513//Berserk   \n",
       "596  14.011561  1168.250166  QUARNA/BAJASS-5//Berserk 4   \n",
       "597  14.607009  1187.809568    Bombona/NK01513//Berserk   \n",
       "598   0.147699   914.004423    Bombona/NK01513//GN03509   \n",
       "599  15.617237  1237.143634    QUARNA/GN03531//Bajass-5   \n",
       "\n",
       "     MEAN Average temperature at 2m altitude (TM)  \\\n",
       "0                                       14.241441   \n",
       "1                                       14.241441   \n",
       "2                                       14.241441   \n",
       "3                                       14.241441   \n",
       "4                                       14.241441   \n",
       "..                                            ...   \n",
       "595                                     14.241441   \n",
       "596                                     14.241441   \n",
       "597                                     14.241441   \n",
       "598                                     14.241441   \n",
       "599                                     14.241441   \n",
       "\n",
       "     MEAN Maximum air temperature at 2m altitude (TX)  \\\n",
       "0                                           20.056757   \n",
       "1                                           20.056757   \n",
       "2                                           20.056757   \n",
       "3                                           20.056757   \n",
       "4                                           20.056757   \n",
       "..                                                ...   \n",
       "595                                         20.056757   \n",
       "596                                         20.056757   \n",
       "597                                         20.056757   \n",
       "598                                         20.056757   \n",
       "599                                         20.056757   \n",
       "\n",
       "     MEAN Minimum air temperature at 2m altitude (TN)  \\\n",
       "0                                            8.486486   \n",
       "1                                            8.486486   \n",
       "2                                            8.486486   \n",
       "3                                            8.486486   \n",
       "4                                            8.486486   \n",
       "..                                                ...   \n",
       "595                                          8.486486   \n",
       "596                                          8.486486   \n",
       "597                                          8.486486   \n",
       "598                                          8.486486   \n",
       "599                                          8.486486   \n",
       "\n",
       "     MEAN Precipitation (RR)  MEAN Relative humidity in 2m  \\\n",
       "0                   2.625759                      72.75045   \n",
       "1                   2.625759                      72.75045   \n",
       "2                   2.625759                      72.75045   \n",
       "3                   2.625759                      72.75045   \n",
       "4                   2.625759                      72.75045   \n",
       "..                       ...                           ...   \n",
       "595                 2.625759                      72.75045   \n",
       "596                 2.625759                      72.75045   \n",
       "597                 2.625759                      72.75045   \n",
       "598                 2.625759                      72.75045   \n",
       "599                 2.625759                      72.75045   \n",
       "\n",
       "     MEAN Relative humidity in 2m.1  MEAN Wind gust (FG2)  \\\n",
       "0                          96.04955                  13.5   \n",
       "1                          96.04955                  13.5   \n",
       "2                          96.04955                  13.5   \n",
       "3                          96.04955                  13.5   \n",
       "4                          96.04955                  13.5   \n",
       "..                              ...                   ...   \n",
       "595                        96.04955                  13.5   \n",
       "596                        96.04955                  13.5   \n",
       "597                        96.04955                  13.5   \n",
       "598                        96.04955                  13.5   \n",
       "599                        96.04955                  13.5   \n",
       "\n",
       "     MEAN Wind speed in 2m  MEDIAN Average temperature at 2m altitude (TM)  \\\n",
       "0                13.893694                                            14.8   \n",
       "1                13.893694                                            14.8   \n",
       "2                13.893694                                            14.8   \n",
       "3                13.893694                                            14.8   \n",
       "4                13.893694                                            14.8   \n",
       "..                     ...                                             ...   \n",
       "595              13.893694                                            14.8   \n",
       "596              13.893694                                            14.8   \n",
       "597              13.893694                                            14.8   \n",
       "598              13.893694                                            14.8   \n",
       "599              13.893694                                            14.8   \n",
       "\n",
       "     ...  SUM Wind gust (FG2)  SUM Wind speed in 2m  \\\n",
       "0    ...               1498.5                1542.2   \n",
       "1    ...               1498.5                1542.2   \n",
       "2    ...               1498.5                1542.2   \n",
       "3    ...               1498.5                1542.2   \n",
       "4    ...               1498.5                1542.2   \n",
       "..   ...                  ...                   ...   \n",
       "595  ...               1498.5                1542.2   \n",
       "596  ...               1498.5                1542.2   \n",
       "597  ...               1498.5                1542.2   \n",
       "598  ...               1498.5                1542.2   \n",
       "599  ...               1498.5                1542.2   \n",
       "\n",
       "     MIN Average temperature at 2m altitude (TM)  \\\n",
       "0                                            2.6   \n",
       "1                                            2.6   \n",
       "2                                            2.6   \n",
       "3                                            2.6   \n",
       "4                                            2.6   \n",
       "..                                           ...   \n",
       "595                                          2.6   \n",
       "596                                          2.6   \n",
       "597                                          2.6   \n",
       "598                                          2.6   \n",
       "599                                          2.6   \n",
       "\n",
       "     MIN Maximum air temperature at 2m altitude (TX)  \\\n",
       "0                                                4.6   \n",
       "1                                                4.6   \n",
       "2                                                4.6   \n",
       "3                                                4.6   \n",
       "4                                                4.6   \n",
       "..                                               ...   \n",
       "595                                              4.6   \n",
       "596                                              4.6   \n",
       "597                                              4.6   \n",
       "598                                              4.6   \n",
       "599                                              4.6   \n",
       "\n",
       "     MIN Minimum air temperature at 2m altitude (TN)  MIN Precipitation (RR)  \\\n",
       "0                                               -5.0                     0.0   \n",
       "1                                               -5.0                     0.0   \n",
       "2                                               -5.0                     0.0   \n",
       "3                                               -5.0                     0.0   \n",
       "4                                               -5.0                     0.0   \n",
       "..                                               ...                     ...   \n",
       "595                                             -5.0                     0.0   \n",
       "596                                             -5.0                     0.0   \n",
       "597                                             -5.0                     0.0   \n",
       "598                                             -5.0                     0.0   \n",
       "599                                             -5.0                     0.0   \n",
       "\n",
       "     MIN Relative humidity in 2m  MIN Relative humidity in 2m.1  \\\n",
       "0                           31.5                           39.9   \n",
       "1                           31.5                           39.9   \n",
       "2                           31.5                           39.9   \n",
       "3                           31.5                           39.9   \n",
       "4                           31.5                           39.9   \n",
       "..                           ...                            ...   \n",
       "595                         31.5                           39.9   \n",
       "596                         31.5                           39.9   \n",
       "597                         31.5                           39.9   \n",
       "598                         31.5                           39.9   \n",
       "599                         31.5                           39.9   \n",
       "\n",
       "     MIN Wind gust (FG2)  MIN Wind speed in 2m  \\\n",
       "0                    6.6                   7.0   \n",
       "1                    6.6                   7.0   \n",
       "2                    6.6                   7.0   \n",
       "3                    6.6                   7.0   \n",
       "4                    6.6                   7.0   \n",
       "..                   ...                   ...   \n",
       "595                  6.6                   7.0   \n",
       "596                  6.6                   7.0   \n",
       "597                  6.6                   7.0   \n",
       "598                  6.6                   7.0   \n",
       "599                  6.6                   7.0   \n",
       "\n",
       "     MAX Average temperature at 2m altitude (TM)  \\\n",
       "0                                           24.1   \n",
       "1                                           24.1   \n",
       "2                                           24.1   \n",
       "3                                           24.1   \n",
       "4                                           24.1   \n",
       "..                                           ...   \n",
       "595                                         24.1   \n",
       "596                                         24.1   \n",
       "597                                         24.1   \n",
       "598                                         24.1   \n",
       "599                                         24.1   \n",
       "\n",
       "     MAX Maximum air temperature at 2m altitude (TX)  \\\n",
       "0                                               33.1   \n",
       "1                                               33.1   \n",
       "2                                               33.1   \n",
       "3                                               33.1   \n",
       "4                                               33.1   \n",
       "..                                               ...   \n",
       "595                                             33.1   \n",
       "596                                             33.1   \n",
       "597                                             33.1   \n",
       "598                                             33.1   \n",
       "599                                             33.1   \n",
       "\n",
       "     MAX Minimum air temperature at 2m altitude (TN)  MAX Precipitation (RR)  \\\n",
       "0                                               18.3                    21.2   \n",
       "1                                               18.3                    21.2   \n",
       "2                                               18.3                    21.2   \n",
       "3                                               18.3                    21.2   \n",
       "4                                               18.3                    21.2   \n",
       "..                                               ...                     ...   \n",
       "595                                             18.3                    21.2   \n",
       "596                                             18.3                    21.2   \n",
       "597                                             18.3                    21.2   \n",
       "598                                             18.3                    21.2   \n",
       "599                                             18.3                    21.2   \n",
       "\n",
       "     MAX Relative humidity in 2m  MAX Relative humidity in 2m.1  \\\n",
       "0                           94.5                           99.9   \n",
       "1                           94.5                           99.9   \n",
       "2                           94.5                           99.9   \n",
       "3                           94.5                           99.9   \n",
       "4                           94.5                           99.9   \n",
       "..                           ...                            ...   \n",
       "595                         94.5                           99.9   \n",
       "596                         94.5                           99.9   \n",
       "597                         94.5                           99.9   \n",
       "598                         94.5                           99.9   \n",
       "599                         94.5                           99.9   \n",
       "\n",
       "     MAX Wind gust (FG2)  MAX Wind speed in 2m  \\\n",
       "0                   19.0                  19.5   \n",
       "1                   19.0                  19.5   \n",
       "2                   19.0                  19.5   \n",
       "3                   19.0                  19.5   \n",
       "4                   19.0                  19.5   \n",
       "..                   ...                   ...   \n",
       "595                 19.0                  19.5   \n",
       "596                 19.0                  19.5   \n",
       "597                 19.0                  19.5   \n",
       "598                 19.0                  19.5   \n",
       "599                 19.0                  19.5   \n",
       "\n",
       "     STD_DEV Average temperature at 2m altitude (TM)  \\\n",
       "0                                           4.155926   \n",
       "1                                           4.155926   \n",
       "2                                           4.155926   \n",
       "3                                           4.155926   \n",
       "4                                           4.155926   \n",
       "..                                               ...   \n",
       "595                                         4.155926   \n",
       "596                                         4.155926   \n",
       "597                                         4.155926   \n",
       "598                                         4.155926   \n",
       "599                                         4.155926   \n",
       "\n",
       "     STD_DEV Maximum air temperature at 2m altitude (TX)  \\\n",
       "0                                             5.043459     \n",
       "1                                             5.043459     \n",
       "2                                             5.043459     \n",
       "3                                             5.043459     \n",
       "4                                             5.043459     \n",
       "..                                                 ...     \n",
       "595                                           5.043459     \n",
       "596                                           5.043459     \n",
       "597                                           5.043459     \n",
       "598                                           5.043459     \n",
       "599                                           5.043459     \n",
       "\n",
       "     STD_DEV Minimum air temperature at 2m altitude (TN)  \\\n",
       "0                                             4.466206     \n",
       "1                                             4.466206     \n",
       "2                                             4.466206     \n",
       "3                                             4.466206     \n",
       "4                                             4.466206     \n",
       "..                                                 ...     \n",
       "595                                           4.466206     \n",
       "596                                           4.466206     \n",
       "597                                           4.466206     \n",
       "598                                           4.466206     \n",
       "599                                           4.466206     \n",
       "\n",
       "     STD_DEV Precipitation (RR)  STD_DEV Relative humidity in 2m  \\\n",
       "0                      4.678896                        13.428564   \n",
       "1                      4.678896                        13.428564   \n",
       "2                      4.678896                        13.428564   \n",
       "3                      4.678896                        13.428564   \n",
       "4                      4.678896                        13.428564   \n",
       "..                          ...                              ...   \n",
       "595                    4.678896                        13.428564   \n",
       "596                    4.678896                        13.428564   \n",
       "597                    4.678896                        13.428564   \n",
       "598                    4.678896                        13.428564   \n",
       "599                    4.678896                        13.428564   \n",
       "\n",
       "     STD_DEV Relative humidity in 2m.1  STD_DEV Wind gust (FG2)  \\\n",
       "0                             7.977854                 3.265996   \n",
       "1                             7.977854                 3.265996   \n",
       "2                             7.977854                 3.265996   \n",
       "3                             7.977854                 3.265996   \n",
       "4                             7.977854                 3.265996   \n",
       "..                                 ...                      ...   \n",
       "595                           7.977854                 3.265996   \n",
       "596                           7.977854                 3.265996   \n",
       "597                           7.977854                 3.265996   \n",
       "598                           7.977854                 3.265996   \n",
       "599                           7.977854                 3.265996   \n",
       "\n",
       "     STD_DEV Wind speed in 2m  \\\n",
       "0                    3.466024   \n",
       "1                    3.466024   \n",
       "2                    3.466024   \n",
       "3                    3.466024   \n",
       "4                    3.466024   \n",
       "..                        ...   \n",
       "595                  3.466024   \n",
       "596                  3.466024   \n",
       "597                  3.466024   \n",
       "598                  3.466024   \n",
       "599                  3.466024   \n",
       "\n",
       "     QUANTILE_25 Average temperature at 2m altitude (TM)  \\\n",
       "0                                                 12.3     \n",
       "1                                                 12.3     \n",
       "2                                                 12.3     \n",
       "3                                                 12.3     \n",
       "4                                                 12.3     \n",
       "..                                                 ...     \n",
       "595                                               12.3     \n",
       "596                                               12.3     \n",
       "597                                               12.3     \n",
       "598                                               12.3     \n",
       "599                                               12.3     \n",
       "\n",
       "     QUANTILE_25 Maximum air temperature at 2m altitude (TX)  \\\n",
       "0                                                17.75         \n",
       "1                                                17.75         \n",
       "2                                                17.75         \n",
       "3                                                17.75         \n",
       "4                                                17.75         \n",
       "..                                                 ...         \n",
       "595                                              17.75         \n",
       "596                                              17.75         \n",
       "597                                              17.75         \n",
       "598                                              17.75         \n",
       "599                                              17.75         \n",
       "\n",
       "     QUANTILE_25 Minimum air temperature at 2m altitude (TN)  \\\n",
       "0                                                  5.8         \n",
       "1                                                  5.8         \n",
       "2                                                  5.8         \n",
       "3                                                  5.8         \n",
       "4                                                  5.8         \n",
       "..                                                 ...         \n",
       "595                                                5.8         \n",
       "596                                                5.8         \n",
       "597                                                5.8         \n",
       "598                                                5.8         \n",
       "599                                                5.8         \n",
       "\n",
       "     QUANTILE_25 Precipitation (RR)  QUANTILE_25 Relative humidity in 2m  \\\n",
       "0                               0.0                                62.55   \n",
       "1                               0.0                                62.55   \n",
       "2                               0.0                                62.55   \n",
       "3                               0.0                                62.55   \n",
       "4                               0.0                                62.55   \n",
       "..                              ...                                  ...   \n",
       "595                             0.0                                62.55   \n",
       "596                             0.0                                62.55   \n",
       "597                             0.0                                62.55   \n",
       "598                             0.0                                62.55   \n",
       "599                             0.0                                62.55   \n",
       "\n",
       "     QUANTILE_25 Relative humidity in 2m.1  QUANTILE_25 Wind gust (FG2)  \\\n",
       "0                                    95.65                         11.2   \n",
       "1                                    95.65                         11.2   \n",
       "2                                    95.65                         11.2   \n",
       "3                                    95.65                         11.2   \n",
       "4                                    95.65                         11.2   \n",
       "..                                     ...                          ...   \n",
       "595                                  95.65                         11.2   \n",
       "596                                  95.65                         11.2   \n",
       "597                                  95.65                         11.2   \n",
       "598                                  95.65                         11.2   \n",
       "599                                  95.65                         11.2   \n",
       "\n",
       "     QUANTILE_25 Wind speed in 2m  \\\n",
       "0                           11.55   \n",
       "1                           11.55   \n",
       "2                           11.55   \n",
       "3                           11.55   \n",
       "4                           11.55   \n",
       "..                            ...   \n",
       "595                         11.55   \n",
       "596                         11.55   \n",
       "597                         11.55   \n",
       "598                         11.55   \n",
       "599                         11.55   \n",
       "\n",
       "     QUANTILE_50 Average temperature at 2m altitude (TM)  \\\n",
       "0                                                 14.8     \n",
       "1                                                 14.8     \n",
       "2                                                 14.8     \n",
       "3                                                 14.8     \n",
       "4                                                 14.8     \n",
       "..                                                 ...     \n",
       "595                                               14.8     \n",
       "596                                               14.8     \n",
       "597                                               14.8     \n",
       "598                                               14.8     \n",
       "599                                               14.8     \n",
       "\n",
       "     QUANTILE_50 Maximum air temperature at 2m altitude (TX)  \\\n",
       "0                                                 20.1         \n",
       "1                                                 20.1         \n",
       "2                                                 20.1         \n",
       "3                                                 20.1         \n",
       "4                                                 20.1         \n",
       "..                                                 ...         \n",
       "595                                               20.1         \n",
       "596                                               20.1         \n",
       "597                                               20.1         \n",
       "598                                               20.1         \n",
       "599                                               20.1         \n",
       "\n",
       "     QUANTILE_50 Minimum air temperature at 2m altitude (TN)  \\\n",
       "0                                                  9.3         \n",
       "1                                                  9.3         \n",
       "2                                                  9.3         \n",
       "3                                                  9.3         \n",
       "4                                                  9.3         \n",
       "..                                                 ...         \n",
       "595                                                9.3         \n",
       "596                                                9.3         \n",
       "597                                                9.3         \n",
       "598                                                9.3         \n",
       "599                                                9.3         \n",
       "\n",
       "     QUANTILE_50 Precipitation (RR)  QUANTILE_50 Relative humidity in 2m  \\\n",
       "0                               0.4                                 73.9   \n",
       "1                               0.4                                 73.9   \n",
       "2                               0.4                                 73.9   \n",
       "3                               0.4                                 73.9   \n",
       "4                               0.4                                 73.9   \n",
       "..                              ...                                  ...   \n",
       "595                             0.4                                 73.9   \n",
       "596                             0.4                                 73.9   \n",
       "597                             0.4                                 73.9   \n",
       "598                             0.4                                 73.9   \n",
       "599                             0.4                                 73.9   \n",
       "\n",
       "     QUANTILE_50 Relative humidity in 2m.1  QUANTILE_50 Wind gust (FG2)  \\\n",
       "0                                     98.8                         14.5   \n",
       "1                                     98.8                         14.5   \n",
       "2                                     98.8                         14.5   \n",
       "3                                     98.8                         14.5   \n",
       "4                                     98.8                         14.5   \n",
       "..                                     ...                          ...   \n",
       "595                                   98.8                         14.5   \n",
       "596                                   98.8                         14.5   \n",
       "597                                   98.8                         14.5   \n",
       "598                                   98.8                         14.5   \n",
       "599                                   98.8                         14.5   \n",
       "\n",
       "     QUANTILE_50 Wind speed in 2m  \\\n",
       "0                            15.2   \n",
       "1                            15.2   \n",
       "2                            15.2   \n",
       "3                            15.2   \n",
       "4                            15.2   \n",
       "..                            ...   \n",
       "595                          15.2   \n",
       "596                          15.2   \n",
       "597                          15.2   \n",
       "598                          15.2   \n",
       "599                          15.2   \n",
       "\n",
       "     QUANTILE_75 Average temperature at 2m altitude (TM)  \\\n",
       "0                                                 16.8     \n",
       "1                                                 16.8     \n",
       "2                                                 16.8     \n",
       "3                                                 16.8     \n",
       "4                                                 16.8     \n",
       "..                                                 ...     \n",
       "595                                               16.8     \n",
       "596                                               16.8     \n",
       "597                                               16.8     \n",
       "598                                               16.8     \n",
       "599                                               16.8     \n",
       "\n",
       "     QUANTILE_75 Maximum air temperature at 2m altitude (TX)  \\\n",
       "0                                                22.95         \n",
       "1                                                22.95         \n",
       "2                                                22.95         \n",
       "3                                                22.95         \n",
       "4                                                22.95         \n",
       "..                                                 ...         \n",
       "595                                              22.95         \n",
       "596                                              22.95         \n",
       "597                                              22.95         \n",
       "598                                              22.95         \n",
       "599                                              22.95         \n",
       "\n",
       "     QUANTILE_75 Minimum air temperature at 2m altitude (TN)  \\\n",
       "0                                                 11.5         \n",
       "1                                                 11.5         \n",
       "2                                                 11.5         \n",
       "3                                                 11.5         \n",
       "4                                                 11.5         \n",
       "..                                                 ...         \n",
       "595                                               11.5         \n",
       "596                                               11.5         \n",
       "597                                               11.5         \n",
       "598                                               11.5         \n",
       "599                                               11.5         \n",
       "\n",
       "     QUANTILE_75 Precipitation (RR)  QUANTILE_75 Relative humidity in 2m  \\\n",
       "0                          2.838274                                 84.0   \n",
       "1                          2.838274                                 84.0   \n",
       "2                          2.838274                                 84.0   \n",
       "3                          2.838274                                 84.0   \n",
       "4                          2.838274                                 84.0   \n",
       "..                              ...                                  ...   \n",
       "595                        2.838274                                 84.0   \n",
       "596                        2.838274                                 84.0   \n",
       "597                        2.838274                                 84.0   \n",
       "598                        2.838274                                 84.0   \n",
       "599                        2.838274                                 84.0   \n",
       "\n",
       "     QUANTILE_75 Relative humidity in 2m.1  QUANTILE_75 Wind gust (FG2)  \\\n",
       "0                                     99.9                        15.95   \n",
       "1                                     99.9                        15.95   \n",
       "2                                     99.9                        15.95   \n",
       "3                                     99.9                        15.95   \n",
       "4                                     99.9                        15.95   \n",
       "..                                     ...                          ...   \n",
       "595                                   99.9                        15.95   \n",
       "596                                   99.9                        15.95   \n",
       "597                                   99.9                        15.95   \n",
       "598                                   99.9                        15.95   \n",
       "599                                   99.9                        15.95   \n",
       "\n",
       "     QUANTILE_75 Wind speed in 2m  \n",
       "0                            16.8  \n",
       "1                            16.8  \n",
       "2                            16.8  \n",
       "3                            16.8  \n",
       "4                            16.8  \n",
       "..                            ...  \n",
       "595                          16.8  \n",
       "596                          16.8  \n",
       "597                          16.8  \n",
       "598                          16.8  \n",
       "599                          16.8  \n",
       "\n",
       "[600 rows x 121 columns]"
      ]
     },
     "execution_count": 61,
     "metadata": {},
     "output_type": "execute_result"
    }
   ],
   "source": [
    "Graminor_2019_Simps"
   ]
  },
  {
   "cell_type": "markdown",
   "metadata": {
    "ExecuteTime": {
     "end_time": "2021-10-11T00:23:07.734119Z",
     "start_time": "2021-10-11T00:23:07.721143Z"
    }
   },
   "source": [
    "## Summary of processed data"
   ]
  },
  {
   "cell_type": "code",
   "execution_count": 62,
   "metadata": {
    "ExecuteTime": {
     "end_time": "2021-10-27T22:35:51.280955Z",
     "start_time": "2021-10-27T22:35:51.158283Z"
    }
   },
   "outputs": [
    {
     "name": "stdout",
     "output_type": "stream",
     "text": [
      "Graminor_2019_Simps : Missing GrainYield : 1\n",
      "*************************\n",
      "Graminor_2020_Simps : Missing GrainYield : 1\n",
      "*************************\n",
      "Masbasis_2019_Simps : Missing GrainYield : 6\n",
      "*************************\n",
      "Masbasis_2020_Simps : Missing GrainYield : 116\n",
      "*************************\n",
      "No nan values found in any column in Robot_2020_Simps\n",
      "*************************\n",
      "No nan values found in any column in Staur_2019_Simps\n",
      "*************************\n",
      "Staur_2020_Simps : Missing GrainYield : 568\n",
      "*************************\n",
      "Graminor_2019_Trapz : Missing GrainYield : 1\n",
      "*************************\n",
      "Graminor_2020_Trapz : Missing GrainYield : 1\n",
      "*************************\n",
      "Masbasis_2019_Trapz : Missing GrainYield : 6\n",
      "*************************\n",
      "Masbasis_2020_Trapz : Missing GrainYield : 116\n",
      "*************************\n",
      "No nan values found in any column in Robot_2020_Trapz\n",
      "*************************\n",
      "No nan values found in any column in Staur_2019_Trapz\n",
      "*************************\n",
      "Staur_2020_Trapz : Missing GrainYield : 568\n",
      "*************************\n"
     ]
    }
   ],
   "source": [
    "for df in df_to_export:\n",
    "    temp_df = locals()[df].copy()\n",
    "    temp_cols = temp_df.columns.tolist()\n",
    "    # Bands, Indices, Plot_ID and GrainYield columns only\n",
    "    chk_cols = [x for x in temp_cols if x not in weather_cols_staur if x not in yield_cols]+['Plot_ID', 'GrainYield']\n",
    "    nan_found = False\n",
    "    for col in chk_cols:\n",
    "        if temp_df[col].isna().sum() > 0:\n",
    "            nan_found = True\n",
    "            print(df,': Missing', col,':', temp_df[col].isna().sum())\n",
    "    if not nan_found:\n",
    "        print(f'No nan values found in any column in {df}')\n",
    "    \n",
    "    print('*************************')"
   ]
  },
  {
   "cell_type": "code",
   "execution_count": 63,
   "metadata": {
    "ExecuteTime": {
     "end_time": "2021-10-27T22:35:51.296914Z",
     "start_time": "2021-10-27T22:35:51.282953Z"
    }
   },
   "outputs": [
    {
     "data": {
      "text/plain": [
       "['Graminor_2019_Simps',\n",
       " 'Graminor_2020_Simps',\n",
       " 'Masbasis_2019_Simps',\n",
       " 'Masbasis_2020_Simps',\n",
       " 'Robot_2020_Simps',\n",
       " 'Staur_2019_Simps',\n",
       " 'Staur_2020_Simps',\n",
       " 'Graminor_2019_Trapz',\n",
       " 'Graminor_2020_Trapz',\n",
       " 'Masbasis_2019_Trapz',\n",
       " 'Masbasis_2020_Trapz',\n",
       " 'Robot_2020_Trapz',\n",
       " 'Staur_2019_Trapz',\n",
       " 'Staur_2020_Trapz']"
      ]
     },
     "execution_count": 63,
     "metadata": {},
     "output_type": "execute_result"
    }
   ],
   "source": [
    "df_to_export"
   ]
  },
  {
   "cell_type": "markdown",
   "metadata": {},
   "source": [
    "# Creating Environment Variable to differentiate Vollebek and Staur"
   ]
  },
  {
   "cell_type": "code",
   "execution_count": 64,
   "metadata": {
    "ExecuteTime": {
     "end_time": "2021-10-27T22:35:51.328829Z",
     "start_time": "2021-10-27T22:35:51.298909Z"
    }
   },
   "outputs": [],
   "source": [
    "for df in df_to_export:\n",
    "    temp_df = locals()[df].copy()\n",
    "    if 'Staur' in df:\n",
    "        temp_df['Staur_Env'] = int(1)\n",
    "        temp_df['Vollebekk_Env'] = int(0)\n",
    "    else:\n",
    "        temp_df['Staur_Env'] = int(0)\n",
    "        temp_df['Vollebekk_Env'] = int(1)\n",
    "    locals()[df] = temp_df.copy()"
   ]
  },
  {
   "cell_type": "code",
   "execution_count": 65,
   "metadata": {
    "ExecuteTime": {
     "end_time": "2021-10-27T22:35:51.440531Z",
     "start_time": "2021-10-27T22:35:51.329826Z"
    }
   },
   "outputs": [
    {
     "data": {
      "text/html": [
       "<div>\n",
       "<style scoped>\n",
       "    .dataframe tbody tr th:only-of-type {\n",
       "        vertical-align: middle;\n",
       "    }\n",
       "\n",
       "    .dataframe tbody tr th {\n",
       "        vertical-align: top;\n",
       "    }\n",
       "\n",
       "    .dataframe thead th {\n",
       "        text-align: right;\n",
       "    }\n",
       "</style>\n",
       "<table border=\"1\" class=\"dataframe\">\n",
       "  <thead>\n",
       "    <tr style=\"text-align: right;\">\n",
       "      <th></th>\n",
       "      <th>Plot_ID</th>\n",
       "      <th>GrainYield</th>\n",
       "      <th>Block</th>\n",
       "      <th>iBlock</th>\n",
       "      <th>Entry</th>\n",
       "      <th>Name</th>\n",
       "      <th>Blue</th>\n",
       "      <th>Green</th>\n",
       "      <th>Red</th>\n",
       "      <th>RedEdge</th>\n",
       "      <th>NIR</th>\n",
       "      <th>NDVI</th>\n",
       "      <th>MTCI</th>\n",
       "      <th>DVI</th>\n",
       "      <th>GDVI</th>\n",
       "      <th>MTCI_CI</th>\n",
       "      <th>EXG</th>\n",
       "      <th>EXGR</th>\n",
       "      <th>RDVI</th>\n",
       "      <th>TDVI</th>\n",
       "      <th>GNDVI</th>\n",
       "      <th>NDRE</th>\n",
       "      <th>SCCI</th>\n",
       "      <th>EVI</th>\n",
       "      <th>TVI</th>\n",
       "      <th>VARI</th>\n",
       "      <th>GARI</th>\n",
       "      <th>GCI</th>\n",
       "      <th>GLI</th>\n",
       "      <th>NLI</th>\n",
       "      <th>MNLI</th>\n",
       "      <th>SAVI</th>\n",
       "      <th>GSAVI</th>\n",
       "      <th>OSAVI</th>\n",
       "      <th>GOSAVI</th>\n",
       "      <th>MSAVI2</th>\n",
       "      <th>MSR</th>\n",
       "      <th>GRVI</th>\n",
       "      <th>WDRVI</th>\n",
       "      <th>SR</th>\n",
       "      <th>Pedigree</th>\n",
       "      <th>MEAN Average temperature at 2m altitude (TM)</th>\n",
       "      <th>MEAN Maximum air temperature at 2m altitude (TX)</th>\n",
       "      <th>MEAN Minimum air temperature at 2m altitude (TN)</th>\n",
       "      <th>MEAN Precipitation (RR)</th>\n",
       "      <th>MEAN Relative humidity in 2m</th>\n",
       "      <th>MEAN Relative humidity in 2m.1</th>\n",
       "      <th>MEAN Wind gust (FG2)</th>\n",
       "      <th>MEAN Wind speed in 2m</th>\n",
       "      <th>MEDIAN Average temperature at 2m altitude (TM)</th>\n",
       "      <th>...</th>\n",
       "      <th>MIN Average temperature at 2m altitude (TM)</th>\n",
       "      <th>MIN Maximum air temperature at 2m altitude (TX)</th>\n",
       "      <th>MIN Minimum air temperature at 2m altitude (TN)</th>\n",
       "      <th>MIN Precipitation (RR)</th>\n",
       "      <th>MIN Relative humidity in 2m</th>\n",
       "      <th>MIN Relative humidity in 2m.1</th>\n",
       "      <th>MIN Wind gust (FG2)</th>\n",
       "      <th>MIN Wind speed in 2m</th>\n",
       "      <th>MAX Average temperature at 2m altitude (TM)</th>\n",
       "      <th>MAX Maximum air temperature at 2m altitude (TX)</th>\n",
       "      <th>MAX Minimum air temperature at 2m altitude (TN)</th>\n",
       "      <th>MAX Precipitation (RR)</th>\n",
       "      <th>MAX Relative humidity in 2m</th>\n",
       "      <th>MAX Relative humidity in 2m.1</th>\n",
       "      <th>MAX Wind gust (FG2)</th>\n",
       "      <th>MAX Wind speed in 2m</th>\n",
       "      <th>STD_DEV Average temperature at 2m altitude (TM)</th>\n",
       "      <th>STD_DEV Maximum air temperature at 2m altitude (TX)</th>\n",
       "      <th>STD_DEV Minimum air temperature at 2m altitude (TN)</th>\n",
       "      <th>STD_DEV Precipitation (RR)</th>\n",
       "      <th>STD_DEV Relative humidity in 2m</th>\n",
       "      <th>STD_DEV Relative humidity in 2m.1</th>\n",
       "      <th>STD_DEV Wind gust (FG2)</th>\n",
       "      <th>STD_DEV Wind speed in 2m</th>\n",
       "      <th>QUANTILE_25 Average temperature at 2m altitude (TM)</th>\n",
       "      <th>QUANTILE_25 Maximum air temperature at 2m altitude (TX)</th>\n",
       "      <th>QUANTILE_25 Minimum air temperature at 2m altitude (TN)</th>\n",
       "      <th>QUANTILE_25 Precipitation (RR)</th>\n",
       "      <th>QUANTILE_25 Relative humidity in 2m</th>\n",
       "      <th>QUANTILE_25 Relative humidity in 2m.1</th>\n",
       "      <th>QUANTILE_25 Wind gust (FG2)</th>\n",
       "      <th>QUANTILE_25 Wind speed in 2m</th>\n",
       "      <th>QUANTILE_50 Average temperature at 2m altitude (TM)</th>\n",
       "      <th>QUANTILE_50 Maximum air temperature at 2m altitude (TX)</th>\n",
       "      <th>QUANTILE_50 Minimum air temperature at 2m altitude (TN)</th>\n",
       "      <th>QUANTILE_50 Precipitation (RR)</th>\n",
       "      <th>QUANTILE_50 Relative humidity in 2m</th>\n",
       "      <th>QUANTILE_50 Relative humidity in 2m.1</th>\n",
       "      <th>QUANTILE_50 Wind gust (FG2)</th>\n",
       "      <th>QUANTILE_50 Wind speed in 2m</th>\n",
       "      <th>QUANTILE_75 Average temperature at 2m altitude (TM)</th>\n",
       "      <th>QUANTILE_75 Maximum air temperature at 2m altitude (TX)</th>\n",
       "      <th>QUANTILE_75 Minimum air temperature at 2m altitude (TN)</th>\n",
       "      <th>QUANTILE_75 Precipitation (RR)</th>\n",
       "      <th>QUANTILE_75 Relative humidity in 2m</th>\n",
       "      <th>QUANTILE_75 Relative humidity in 2m.1</th>\n",
       "      <th>QUANTILE_75 Wind gust (FG2)</th>\n",
       "      <th>QUANTILE_75 Wind speed in 2m</th>\n",
       "      <th>Staur_Env</th>\n",
       "      <th>Vollebekk_Env</th>\n",
       "    </tr>\n",
       "  </thead>\n",
       "  <tbody>\n",
       "    <tr>\n",
       "      <th>0</th>\n",
       "      <td>101</td>\n",
       "      <td>654.708159</td>\n",
       "      <td>1</td>\n",
       "      <td>1</td>\n",
       "      <td>1</td>\n",
       "      <td>Zebra</td>\n",
       "      <td>0.721881</td>\n",
       "      <td>1.888871</td>\n",
       "      <td>1.432855</td>\n",
       "      <td>4.223841</td>\n",
       "      <td>10.712139</td>\n",
       "      <td>23.284268</td>\n",
       "      <td>70.588699</td>\n",
       "      <td>9.279285</td>\n",
       "      <td>8.823269</td>\n",
       "      <td>70.588699</td>\n",
       "      <td>1.623006</td>\n",
       "      <td>1.505880</td>\n",
       "      <td>14.654757</td>\n",
       "      <td>16.884211</td>\n",
       "      <td>21.353222</td>\n",
       "      <td>13.084044</td>\n",
       "      <td>17.210430</td>\n",
       "      <td>-22.606790</td>\n",
       "      <td>574.997711</td>\n",
       "      <td>6.377567</td>\n",
       "      <td>13.276376</td>\n",
       "      <td>151.859136</td>\n",
       "      <td>-1.163533</td>\n",
       "      <td>12.533213</td>\n",
       "      <td>5.204871</td>\n",
       "      <td>15.399052</td>\n",
       "      <td>14.396864</td>\n",
       "      <td>16.531954</td>\n",
       "      <td>15.309744</td>\n",
       "      <td>41.855845</td>\n",
       "      <td>263.848841</td>\n",
       "      <td>182.859136</td>\n",
       "      <td>-3.743649</td>\n",
       "      <td>275.354056</td>\n",
       "      <td>Ralle/Dragon</td>\n",
       "      <td>12.990991</td>\n",
       "      <td>19.154054</td>\n",
       "      <td>6.290991</td>\n",
       "      <td>2.777477</td>\n",
       "      <td>64.209009</td>\n",
       "      <td>90.356757</td>\n",
       "      <td>12.218018</td>\n",
       "      <td>12.927928</td>\n",
       "      <td>13.3</td>\n",
       "      <td>...</td>\n",
       "      <td>3.3</td>\n",
       "      <td>7.4</td>\n",
       "      <td>-4.5</td>\n",
       "      <td>0.0</td>\n",
       "      <td>36.0</td>\n",
       "      <td>65.9</td>\n",
       "      <td>4.0</td>\n",
       "      <td>4.1</td>\n",
       "      <td>23.3</td>\n",
       "      <td>31.3</td>\n",
       "      <td>16.7</td>\n",
       "      <td>42.4</td>\n",
       "      <td>93.9</td>\n",
       "      <td>99.7</td>\n",
       "      <td>18.3</td>\n",
       "      <td>19.2</td>\n",
       "      <td>4.790607</td>\n",
       "      <td>5.415597</td>\n",
       "      <td>5.258682</td>\n",
       "      <td>6.632615</td>\n",
       "      <td>14.891081</td>\n",
       "      <td>8.833558</td>\n",
       "      <td>4.135922</td>\n",
       "      <td>4.421542</td>\n",
       "      <td>9.6</td>\n",
       "      <td>15.7</td>\n",
       "      <td>1.9</td>\n",
       "      <td>0.0</td>\n",
       "      <td>50.55</td>\n",
       "      <td>86.25</td>\n",
       "      <td>7.95</td>\n",
       "      <td>8.25</td>\n",
       "      <td>13.3</td>\n",
       "      <td>19.3</td>\n",
       "      <td>6.9</td>\n",
       "      <td>0.0</td>\n",
       "      <td>63.9</td>\n",
       "      <td>93.5</td>\n",
       "      <td>14.0</td>\n",
       "      <td>14.4</td>\n",
       "      <td>15.8</td>\n",
       "      <td>22.05</td>\n",
       "      <td>10.8</td>\n",
       "      <td>1.3</td>\n",
       "      <td>73.9</td>\n",
       "      <td>96.9</td>\n",
       "      <td>15.4</td>\n",
       "      <td>16.55</td>\n",
       "      <td>0</td>\n",
       "      <td>1</td>\n",
       "    </tr>\n",
       "    <tr>\n",
       "      <th>1</th>\n",
       "      <td>102</td>\n",
       "      <td>709.595446</td>\n",
       "      <td>1</td>\n",
       "      <td>1</td>\n",
       "      <td>19</td>\n",
       "      <td>GN18666</td>\n",
       "      <td>0.703810</td>\n",
       "      <td>1.796074</td>\n",
       "      <td>1.336747</td>\n",
       "      <td>4.088164</td>\n",
       "      <td>10.598145</td>\n",
       "      <td>23.564953</td>\n",
       "      <td>71.900170</td>\n",
       "      <td>9.261397</td>\n",
       "      <td>8.802070</td>\n",
       "      <td>71.900170</td>\n",
       "      <td>1.551592</td>\n",
       "      <td>1.476220</td>\n",
       "      <td>14.714159</td>\n",
       "      <td>16.879022</td>\n",
       "      <td>21.507834</td>\n",
       "      <td>13.221261</td>\n",
       "      <td>17.093696</td>\n",
       "      <td>-23.499263</td>\n",
       "      <td>574.056919</td>\n",
       "      <td>7.399589</td>\n",
       "      <td>12.858113</td>\n",
       "      <td>163.528613</td>\n",
       "      <td>-0.990845</td>\n",
       "      <td>12.857903</td>\n",
       "      <td>5.315166</td>\n",
       "      <td>15.434645</td>\n",
       "      <td>14.408430</td>\n",
       "      <td>16.636475</td>\n",
       "      <td>15.364705</td>\n",
       "      <td>41.878643</td>\n",
       "      <td>301.267882</td>\n",
       "      <td>194.528613</td>\n",
       "      <td>-2.503716</td>\n",
       "      <td>312.456207</td>\n",
       "      <td>GN04528/GN03509</td>\n",
       "      <td>12.990991</td>\n",
       "      <td>19.154054</td>\n",
       "      <td>6.290991</td>\n",
       "      <td>2.777477</td>\n",
       "      <td>64.209009</td>\n",
       "      <td>90.356757</td>\n",
       "      <td>12.218018</td>\n",
       "      <td>12.927928</td>\n",
       "      <td>13.3</td>\n",
       "      <td>...</td>\n",
       "      <td>3.3</td>\n",
       "      <td>7.4</td>\n",
       "      <td>-4.5</td>\n",
       "      <td>0.0</td>\n",
       "      <td>36.0</td>\n",
       "      <td>65.9</td>\n",
       "      <td>4.0</td>\n",
       "      <td>4.1</td>\n",
       "      <td>23.3</td>\n",
       "      <td>31.3</td>\n",
       "      <td>16.7</td>\n",
       "      <td>42.4</td>\n",
       "      <td>93.9</td>\n",
       "      <td>99.7</td>\n",
       "      <td>18.3</td>\n",
       "      <td>19.2</td>\n",
       "      <td>4.790607</td>\n",
       "      <td>5.415597</td>\n",
       "      <td>5.258682</td>\n",
       "      <td>6.632615</td>\n",
       "      <td>14.891081</td>\n",
       "      <td>8.833558</td>\n",
       "      <td>4.135922</td>\n",
       "      <td>4.421542</td>\n",
       "      <td>9.6</td>\n",
       "      <td>15.7</td>\n",
       "      <td>1.9</td>\n",
       "      <td>0.0</td>\n",
       "      <td>50.55</td>\n",
       "      <td>86.25</td>\n",
       "      <td>7.95</td>\n",
       "      <td>8.25</td>\n",
       "      <td>13.3</td>\n",
       "      <td>19.3</td>\n",
       "      <td>6.9</td>\n",
       "      <td>0.0</td>\n",
       "      <td>63.9</td>\n",
       "      <td>93.5</td>\n",
       "      <td>14.0</td>\n",
       "      <td>14.4</td>\n",
       "      <td>15.8</td>\n",
       "      <td>22.05</td>\n",
       "      <td>10.8</td>\n",
       "      <td>1.3</td>\n",
       "      <td>73.9</td>\n",
       "      <td>96.9</td>\n",
       "      <td>15.4</td>\n",
       "      <td>16.55</td>\n",
       "      <td>0</td>\n",
       "      <td>1</td>\n",
       "    </tr>\n",
       "    <tr>\n",
       "      <th>2</th>\n",
       "      <td>103</td>\n",
       "      <td>707.100569</td>\n",
       "      <td>1</td>\n",
       "      <td>1</td>\n",
       "      <td>11</td>\n",
       "      <td>GN15590</td>\n",
       "      <td>0.753506</td>\n",
       "      <td>2.024628</td>\n",
       "      <td>1.461858</td>\n",
       "      <td>4.504250</td>\n",
       "      <td>11.171614</td>\n",
       "      <td>23.564411</td>\n",
       "      <td>69.505796</td>\n",
       "      <td>9.709755</td>\n",
       "      <td>9.146985</td>\n",
       "      <td>69.505796</td>\n",
       "      <td>1.833892</td>\n",
       "      <td>1.811919</td>\n",
       "      <td>15.094224</td>\n",
       "      <td>17.573120</td>\n",
       "      <td>21.213424</td>\n",
       "      <td>12.977262</td>\n",
       "      <td>16.738608</td>\n",
       "      <td>-23.946305</td>\n",
       "      <td>605.096106</td>\n",
       "      <td>7.809252</td>\n",
       "      <td>13.334074</td>\n",
       "      <td>153.382482</td>\n",
       "      <td>-0.587657</td>\n",
       "      <td>13.871443</td>\n",
       "      <td>5.759528</td>\n",
       "      <td>15.902381</td>\n",
       "      <td>14.672166</td>\n",
       "      <td>16.914848</td>\n",
       "      <td>15.419570</td>\n",
       "      <td>42.982298</td>\n",
       "      <td>287.468088</td>\n",
       "      <td>184.382482</td>\n",
       "      <td>-2.728153</td>\n",
       "      <td>298.687820</td>\n",
       "      <td>Demonstrant/SW51114</td>\n",
       "      <td>12.990991</td>\n",
       "      <td>19.154054</td>\n",
       "      <td>6.290991</td>\n",
       "      <td>2.777477</td>\n",
       "      <td>64.209009</td>\n",
       "      <td>90.356757</td>\n",
       "      <td>12.218018</td>\n",
       "      <td>12.927928</td>\n",
       "      <td>13.3</td>\n",
       "      <td>...</td>\n",
       "      <td>3.3</td>\n",
       "      <td>7.4</td>\n",
       "      <td>-4.5</td>\n",
       "      <td>0.0</td>\n",
       "      <td>36.0</td>\n",
       "      <td>65.9</td>\n",
       "      <td>4.0</td>\n",
       "      <td>4.1</td>\n",
       "      <td>23.3</td>\n",
       "      <td>31.3</td>\n",
       "      <td>16.7</td>\n",
       "      <td>42.4</td>\n",
       "      <td>93.9</td>\n",
       "      <td>99.7</td>\n",
       "      <td>18.3</td>\n",
       "      <td>19.2</td>\n",
       "      <td>4.790607</td>\n",
       "      <td>5.415597</td>\n",
       "      <td>5.258682</td>\n",
       "      <td>6.632615</td>\n",
       "      <td>14.891081</td>\n",
       "      <td>8.833558</td>\n",
       "      <td>4.135922</td>\n",
       "      <td>4.421542</td>\n",
       "      <td>9.6</td>\n",
       "      <td>15.7</td>\n",
       "      <td>1.9</td>\n",
       "      <td>0.0</td>\n",
       "      <td>50.55</td>\n",
       "      <td>86.25</td>\n",
       "      <td>7.95</td>\n",
       "      <td>8.25</td>\n",
       "      <td>13.3</td>\n",
       "      <td>19.3</td>\n",
       "      <td>6.9</td>\n",
       "      <td>0.0</td>\n",
       "      <td>63.9</td>\n",
       "      <td>93.5</td>\n",
       "      <td>14.0</td>\n",
       "      <td>14.4</td>\n",
       "      <td>15.8</td>\n",
       "      <td>22.05</td>\n",
       "      <td>10.8</td>\n",
       "      <td>1.3</td>\n",
       "      <td>73.9</td>\n",
       "      <td>96.9</td>\n",
       "      <td>15.4</td>\n",
       "      <td>16.55</td>\n",
       "      <td>0</td>\n",
       "      <td>1</td>\n",
       "    </tr>\n",
       "    <tr>\n",
       "      <th>3</th>\n",
       "      <td>104</td>\n",
       "      <td>724.958634</td>\n",
       "      <td>1</td>\n",
       "      <td>1</td>\n",
       "      <td>5</td>\n",
       "      <td>Mirakel</td>\n",
       "      <td>0.712553</td>\n",
       "      <td>1.928361</td>\n",
       "      <td>1.322827</td>\n",
       "      <td>4.351697</td>\n",
       "      <td>11.371355</td>\n",
       "      <td>24.329257</td>\n",
       "      <td>71.961077</td>\n",
       "      <td>10.048528</td>\n",
       "      <td>9.442993</td>\n",
       "      <td>71.961077</td>\n",
       "      <td>1.821344</td>\n",
       "      <td>1.897748</td>\n",
       "      <td>15.609909</td>\n",
       "      <td>18.207639</td>\n",
       "      <td>21.773927</td>\n",
       "      <td>13.626138</td>\n",
       "      <td>17.143774</td>\n",
       "      <td>-25.365495</td>\n",
       "      <td>627.133077</td>\n",
       "      <td>8.726720</td>\n",
       "      <td>13.053512</td>\n",
       "      <td>159.651030</td>\n",
       "      <td>-0.168468</td>\n",
       "      <td>15.512663</td>\n",
       "      <td>6.364218</td>\n",
       "      <td>16.454832</td>\n",
       "      <td>15.119848</td>\n",
       "      <td>17.489906</td>\n",
       "      <td>15.864005</td>\n",
       "      <td>43.873589</td>\n",
       "      <td>312.537837</td>\n",
       "      <td>190.651030</td>\n",
       "      <td>-1.221526</td>\n",
       "      <td>323.111850</td>\n",
       "      <td>SW38337/NK98533//NK98535</td>\n",
       "      <td>12.990991</td>\n",
       "      <td>19.154054</td>\n",
       "      <td>6.290991</td>\n",
       "      <td>2.777477</td>\n",
       "      <td>64.209009</td>\n",
       "      <td>90.356757</td>\n",
       "      <td>12.218018</td>\n",
       "      <td>12.927928</td>\n",
       "      <td>13.3</td>\n",
       "      <td>...</td>\n",
       "      <td>3.3</td>\n",
       "      <td>7.4</td>\n",
       "      <td>-4.5</td>\n",
       "      <td>0.0</td>\n",
       "      <td>36.0</td>\n",
       "      <td>65.9</td>\n",
       "      <td>4.0</td>\n",
       "      <td>4.1</td>\n",
       "      <td>23.3</td>\n",
       "      <td>31.3</td>\n",
       "      <td>16.7</td>\n",
       "      <td>42.4</td>\n",
       "      <td>93.9</td>\n",
       "      <td>99.7</td>\n",
       "      <td>18.3</td>\n",
       "      <td>19.2</td>\n",
       "      <td>4.790607</td>\n",
       "      <td>5.415597</td>\n",
       "      <td>5.258682</td>\n",
       "      <td>6.632615</td>\n",
       "      <td>14.891081</td>\n",
       "      <td>8.833558</td>\n",
       "      <td>4.135922</td>\n",
       "      <td>4.421542</td>\n",
       "      <td>9.6</td>\n",
       "      <td>15.7</td>\n",
       "      <td>1.9</td>\n",
       "      <td>0.0</td>\n",
       "      <td>50.55</td>\n",
       "      <td>86.25</td>\n",
       "      <td>7.95</td>\n",
       "      <td>8.25</td>\n",
       "      <td>13.3</td>\n",
       "      <td>19.3</td>\n",
       "      <td>6.9</td>\n",
       "      <td>0.0</td>\n",
       "      <td>63.9</td>\n",
       "      <td>93.5</td>\n",
       "      <td>14.0</td>\n",
       "      <td>14.4</td>\n",
       "      <td>15.8</td>\n",
       "      <td>22.05</td>\n",
       "      <td>10.8</td>\n",
       "      <td>1.3</td>\n",
       "      <td>73.9</td>\n",
       "      <td>96.9</td>\n",
       "      <td>15.4</td>\n",
       "      <td>16.55</td>\n",
       "      <td>0</td>\n",
       "      <td>1</td>\n",
       "    </tr>\n",
       "    <tr>\n",
       "      <th>4</th>\n",
       "      <td>105</td>\n",
       "      <td>740.978368</td>\n",
       "      <td>1</td>\n",
       "      <td>1</td>\n",
       "      <td>24</td>\n",
       "      <td>GN18751</td>\n",
       "      <td>0.658100</td>\n",
       "      <td>1.743676</td>\n",
       "      <td>1.323602</td>\n",
       "      <td>4.100732</td>\n",
       "      <td>10.833495</td>\n",
       "      <td>23.612456</td>\n",
       "      <td>72.361722</td>\n",
       "      <td>9.509893</td>\n",
       "      <td>9.089819</td>\n",
       "      <td>72.361722</td>\n",
       "      <td>1.505651</td>\n",
       "      <td>1.396284</td>\n",
       "      <td>14.906806</td>\n",
       "      <td>17.191042</td>\n",
       "      <td>21.866013</td>\n",
       "      <td>13.393175</td>\n",
       "      <td>17.294627</td>\n",
       "      <td>-25.147813</td>\n",
       "      <td>587.396559</td>\n",
       "      <td>7.278404</td>\n",
       "      <td>13.465021</td>\n",
       "      <td>170.365130</td>\n",
       "      <td>-0.865287</td>\n",
       "      <td>13.034392</td>\n",
       "      <td>5.697493</td>\n",
       "      <td>15.639317</td>\n",
       "      <td>14.714345</td>\n",
       "      <td>16.754845</td>\n",
       "      <td>15.636113</td>\n",
       "      <td>42.453849</td>\n",
       "      <td>329.947148</td>\n",
       "      <td>201.365130</td>\n",
       "      <td>-1.860198</td>\n",
       "      <td>341.028124</td>\n",
       "      <td>QUARNA/GN03531</td>\n",
       "      <td>12.990991</td>\n",
       "      <td>19.154054</td>\n",
       "      <td>6.290991</td>\n",
       "      <td>2.777477</td>\n",
       "      <td>64.209009</td>\n",
       "      <td>90.356757</td>\n",
       "      <td>12.218018</td>\n",
       "      <td>12.927928</td>\n",
       "      <td>13.3</td>\n",
       "      <td>...</td>\n",
       "      <td>3.3</td>\n",
       "      <td>7.4</td>\n",
       "      <td>-4.5</td>\n",
       "      <td>0.0</td>\n",
       "      <td>36.0</td>\n",
       "      <td>65.9</td>\n",
       "      <td>4.0</td>\n",
       "      <td>4.1</td>\n",
       "      <td>23.3</td>\n",
       "      <td>31.3</td>\n",
       "      <td>16.7</td>\n",
       "      <td>42.4</td>\n",
       "      <td>93.9</td>\n",
       "      <td>99.7</td>\n",
       "      <td>18.3</td>\n",
       "      <td>19.2</td>\n",
       "      <td>4.790607</td>\n",
       "      <td>5.415597</td>\n",
       "      <td>5.258682</td>\n",
       "      <td>6.632615</td>\n",
       "      <td>14.891081</td>\n",
       "      <td>8.833558</td>\n",
       "      <td>4.135922</td>\n",
       "      <td>4.421542</td>\n",
       "      <td>9.6</td>\n",
       "      <td>15.7</td>\n",
       "      <td>1.9</td>\n",
       "      <td>0.0</td>\n",
       "      <td>50.55</td>\n",
       "      <td>86.25</td>\n",
       "      <td>7.95</td>\n",
       "      <td>8.25</td>\n",
       "      <td>13.3</td>\n",
       "      <td>19.3</td>\n",
       "      <td>6.9</td>\n",
       "      <td>0.0</td>\n",
       "      <td>63.9</td>\n",
       "      <td>93.5</td>\n",
       "      <td>14.0</td>\n",
       "      <td>14.4</td>\n",
       "      <td>15.8</td>\n",
       "      <td>22.05</td>\n",
       "      <td>10.8</td>\n",
       "      <td>1.3</td>\n",
       "      <td>73.9</td>\n",
       "      <td>96.9</td>\n",
       "      <td>15.4</td>\n",
       "      <td>16.55</td>\n",
       "      <td>0</td>\n",
       "      <td>1</td>\n",
       "    </tr>\n",
       "    <tr>\n",
       "      <th>...</th>\n",
       "      <td>...</td>\n",
       "      <td>...</td>\n",
       "      <td>...</td>\n",
       "      <td>...</td>\n",
       "      <td>...</td>\n",
       "      <td>...</td>\n",
       "      <td>...</td>\n",
       "      <td>...</td>\n",
       "      <td>...</td>\n",
       "      <td>...</td>\n",
       "      <td>...</td>\n",
       "      <td>...</td>\n",
       "      <td>...</td>\n",
       "      <td>...</td>\n",
       "      <td>...</td>\n",
       "      <td>...</td>\n",
       "      <td>...</td>\n",
       "      <td>...</td>\n",
       "      <td>...</td>\n",
       "      <td>...</td>\n",
       "      <td>...</td>\n",
       "      <td>...</td>\n",
       "      <td>...</td>\n",
       "      <td>...</td>\n",
       "      <td>...</td>\n",
       "      <td>...</td>\n",
       "      <td>...</td>\n",
       "      <td>...</td>\n",
       "      <td>...</td>\n",
       "      <td>...</td>\n",
       "      <td>...</td>\n",
       "      <td>...</td>\n",
       "      <td>...</td>\n",
       "      <td>...</td>\n",
       "      <td>...</td>\n",
       "      <td>...</td>\n",
       "      <td>...</td>\n",
       "      <td>...</td>\n",
       "      <td>...</td>\n",
       "      <td>...</td>\n",
       "      <td>...</td>\n",
       "      <td>...</td>\n",
       "      <td>...</td>\n",
       "      <td>...</td>\n",
       "      <td>...</td>\n",
       "      <td>...</td>\n",
       "      <td>...</td>\n",
       "      <td>...</td>\n",
       "      <td>...</td>\n",
       "      <td>...</td>\n",
       "      <td>...</td>\n",
       "      <td>...</td>\n",
       "      <td>...</td>\n",
       "      <td>...</td>\n",
       "      <td>...</td>\n",
       "      <td>...</td>\n",
       "      <td>...</td>\n",
       "      <td>...</td>\n",
       "      <td>...</td>\n",
       "      <td>...</td>\n",
       "      <td>...</td>\n",
       "      <td>...</td>\n",
       "      <td>...</td>\n",
       "      <td>...</td>\n",
       "      <td>...</td>\n",
       "      <td>...</td>\n",
       "      <td>...</td>\n",
       "      <td>...</td>\n",
       "      <td>...</td>\n",
       "      <td>...</td>\n",
       "      <td>...</td>\n",
       "      <td>...</td>\n",
       "      <td>...</td>\n",
       "      <td>...</td>\n",
       "      <td>...</td>\n",
       "      <td>...</td>\n",
       "      <td>...</td>\n",
       "      <td>...</td>\n",
       "      <td>...</td>\n",
       "      <td>...</td>\n",
       "      <td>...</td>\n",
       "      <td>...</td>\n",
       "      <td>...</td>\n",
       "      <td>...</td>\n",
       "      <td>...</td>\n",
       "      <td>...</td>\n",
       "      <td>...</td>\n",
       "      <td>...</td>\n",
       "      <td>...</td>\n",
       "      <td>...</td>\n",
       "      <td>...</td>\n",
       "      <td>...</td>\n",
       "      <td>...</td>\n",
       "      <td>...</td>\n",
       "      <td>...</td>\n",
       "      <td>...</td>\n",
       "      <td>...</td>\n",
       "      <td>...</td>\n",
       "      <td>...</td>\n",
       "      <td>...</td>\n",
       "      <td>...</td>\n",
       "    </tr>\n",
       "    <tr>\n",
       "      <th>795</th>\n",
       "      <td>896</td>\n",
       "      <td>663.899810</td>\n",
       "      <td>2</td>\n",
       "      <td>10</td>\n",
       "      <td>23</td>\n",
       "      <td>GN20696</td>\n",
       "      <td>1.207367</td>\n",
       "      <td>3.129361</td>\n",
       "      <td>1.572211</td>\n",
       "      <td>7.275563</td>\n",
       "      <td>23.610013</td>\n",
       "      <td>40.456534</td>\n",
       "      <td>131.503725</td>\n",
       "      <td>22.037802</td>\n",
       "      <td>20.480652</td>\n",
       "      <td>131.503725</td>\n",
       "      <td>3.479144</td>\n",
       "      <td>4.407410</td>\n",
       "      <td>29.101451</td>\n",
       "      <td>34.466551</td>\n",
       "      <td>35.239972</td>\n",
       "      <td>23.842657</td>\n",
       "      <td>27.476411</td>\n",
       "      <td>-79.213294</td>\n",
       "      <td>1384.554152</td>\n",
       "      <td>21.543120</td>\n",
       "      <td>22.467180</td>\n",
       "      <td>306.912440</td>\n",
       "      <td>1.826122</td>\n",
       "      <td>32.625677</td>\n",
       "      <td>17.906241</td>\n",
       "      <td>30.104828</td>\n",
       "      <td>27.046136</td>\n",
       "      <td>30.283025</td>\n",
       "      <td>26.785210</td>\n",
       "      <td>78.514280</td>\n",
       "      <td>730.474753</td>\n",
       "      <td>353.912440</td>\n",
       "      <td>8.660238</td>\n",
       "      <td>743.081853</td>\n",
       "      <td>Saar/2*Avle</td>\n",
       "      <td>12.990991</td>\n",
       "      <td>19.154054</td>\n",
       "      <td>6.290991</td>\n",
       "      <td>2.777477</td>\n",
       "      <td>64.209009</td>\n",
       "      <td>90.356757</td>\n",
       "      <td>12.218018</td>\n",
       "      <td>12.927928</td>\n",
       "      <td>13.3</td>\n",
       "      <td>...</td>\n",
       "      <td>3.3</td>\n",
       "      <td>7.4</td>\n",
       "      <td>-4.5</td>\n",
       "      <td>0.0</td>\n",
       "      <td>36.0</td>\n",
       "      <td>65.9</td>\n",
       "      <td>4.0</td>\n",
       "      <td>4.1</td>\n",
       "      <td>23.3</td>\n",
       "      <td>31.3</td>\n",
       "      <td>16.7</td>\n",
       "      <td>42.4</td>\n",
       "      <td>93.9</td>\n",
       "      <td>99.7</td>\n",
       "      <td>18.3</td>\n",
       "      <td>19.2</td>\n",
       "      <td>4.790607</td>\n",
       "      <td>5.415597</td>\n",
       "      <td>5.258682</td>\n",
       "      <td>6.632615</td>\n",
       "      <td>14.891081</td>\n",
       "      <td>8.833558</td>\n",
       "      <td>4.135922</td>\n",
       "      <td>4.421542</td>\n",
       "      <td>9.6</td>\n",
       "      <td>15.7</td>\n",
       "      <td>1.9</td>\n",
       "      <td>0.0</td>\n",
       "      <td>50.55</td>\n",
       "      <td>86.25</td>\n",
       "      <td>7.95</td>\n",
       "      <td>8.25</td>\n",
       "      <td>13.3</td>\n",
       "      <td>19.3</td>\n",
       "      <td>6.9</td>\n",
       "      <td>0.0</td>\n",
       "      <td>63.9</td>\n",
       "      <td>93.5</td>\n",
       "      <td>14.0</td>\n",
       "      <td>14.4</td>\n",
       "      <td>15.8</td>\n",
       "      <td>22.05</td>\n",
       "      <td>10.8</td>\n",
       "      <td>1.3</td>\n",
       "      <td>73.9</td>\n",
       "      <td>96.9</td>\n",
       "      <td>15.4</td>\n",
       "      <td>16.55</td>\n",
       "      <td>0</td>\n",
       "      <td>1</td>\n",
       "    </tr>\n",
       "    <tr>\n",
       "      <th>796</th>\n",
       "      <td>897</td>\n",
       "      <td>722.332448</td>\n",
       "      <td>2</td>\n",
       "      <td>10</td>\n",
       "      <td>20</td>\n",
       "      <td>GN20693</td>\n",
       "      <td>1.218547</td>\n",
       "      <td>3.029369</td>\n",
       "      <td>1.604616</td>\n",
       "      <td>6.989788</td>\n",
       "      <td>22.911559</td>\n",
       "      <td>40.178955</td>\n",
       "      <td>136.879506</td>\n",
       "      <td>21.306943</td>\n",
       "      <td>19.882190</td>\n",
       "      <td>136.879506</td>\n",
       "      <td>3.235575</td>\n",
       "      <td>4.018482</td>\n",
       "      <td>28.580419</td>\n",
       "      <td>33.856701</td>\n",
       "      <td>35.241500</td>\n",
       "      <td>23.992506</td>\n",
       "      <td>27.780664</td>\n",
       "      <td>-71.624923</td>\n",
       "      <td>1335.406703</td>\n",
       "      <td>20.377778</td>\n",
       "      <td>21.997887</td>\n",
       "      <td>312.655202</td>\n",
       "      <td>1.199692</td>\n",
       "      <td>31.854774</td>\n",
       "      <td>17.167981</td>\n",
       "      <td>29.636313</td>\n",
       "      <td>26.787846</td>\n",
       "      <td>29.956761</td>\n",
       "      <td>26.671080</td>\n",
       "      <td>77.335205</td>\n",
       "      <td>708.690162</td>\n",
       "      <td>359.655202</td>\n",
       "      <td>7.755615</td>\n",
       "      <td>721.570694</td>\n",
       "      <td>ONPMSYDER 5/GN08588</td>\n",
       "      <td>12.990991</td>\n",
       "      <td>19.154054</td>\n",
       "      <td>6.290991</td>\n",
       "      <td>2.777477</td>\n",
       "      <td>64.209009</td>\n",
       "      <td>90.356757</td>\n",
       "      <td>12.218018</td>\n",
       "      <td>12.927928</td>\n",
       "      <td>13.3</td>\n",
       "      <td>...</td>\n",
       "      <td>3.3</td>\n",
       "      <td>7.4</td>\n",
       "      <td>-4.5</td>\n",
       "      <td>0.0</td>\n",
       "      <td>36.0</td>\n",
       "      <td>65.9</td>\n",
       "      <td>4.0</td>\n",
       "      <td>4.1</td>\n",
       "      <td>23.3</td>\n",
       "      <td>31.3</td>\n",
       "      <td>16.7</td>\n",
       "      <td>42.4</td>\n",
       "      <td>93.9</td>\n",
       "      <td>99.7</td>\n",
       "      <td>18.3</td>\n",
       "      <td>19.2</td>\n",
       "      <td>4.790607</td>\n",
       "      <td>5.415597</td>\n",
       "      <td>5.258682</td>\n",
       "      <td>6.632615</td>\n",
       "      <td>14.891081</td>\n",
       "      <td>8.833558</td>\n",
       "      <td>4.135922</td>\n",
       "      <td>4.421542</td>\n",
       "      <td>9.6</td>\n",
       "      <td>15.7</td>\n",
       "      <td>1.9</td>\n",
       "      <td>0.0</td>\n",
       "      <td>50.55</td>\n",
       "      <td>86.25</td>\n",
       "      <td>7.95</td>\n",
       "      <td>8.25</td>\n",
       "      <td>13.3</td>\n",
       "      <td>19.3</td>\n",
       "      <td>6.9</td>\n",
       "      <td>0.0</td>\n",
       "      <td>63.9</td>\n",
       "      <td>93.5</td>\n",
       "      <td>14.0</td>\n",
       "      <td>14.4</td>\n",
       "      <td>15.8</td>\n",
       "      <td>22.05</td>\n",
       "      <td>10.8</td>\n",
       "      <td>1.3</td>\n",
       "      <td>73.9</td>\n",
       "      <td>96.9</td>\n",
       "      <td>15.4</td>\n",
       "      <td>16.55</td>\n",
       "      <td>0</td>\n",
       "      <td>1</td>\n",
       "    </tr>\n",
       "    <tr>\n",
       "      <th>797</th>\n",
       "      <td>898</td>\n",
       "      <td>782.997343</td>\n",
       "      <td>2</td>\n",
       "      <td>10</td>\n",
       "      <td>6</td>\n",
       "      <td>GN20679</td>\n",
       "      <td>1.247960</td>\n",
       "      <td>3.080470</td>\n",
       "      <td>1.537271</td>\n",
       "      <td>7.084423</td>\n",
       "      <td>23.799795</td>\n",
       "      <td>40.753425</td>\n",
       "      <td>138.820844</td>\n",
       "      <td>22.262524</td>\n",
       "      <td>20.719325</td>\n",
       "      <td>138.820844</td>\n",
       "      <td>3.375709</td>\n",
       "      <td>4.304000</td>\n",
       "      <td>29.359565</td>\n",
       "      <td>34.798807</td>\n",
       "      <td>35.575919</td>\n",
       "      <td>24.503106</td>\n",
       "      <td>28.079689</td>\n",
       "      <td>-76.598149</td>\n",
       "      <td>1397.479419</td>\n",
       "      <td>21.770134</td>\n",
       "      <td>22.292474</td>\n",
       "      <td>315.687079</td>\n",
       "      <td>1.509188</td>\n",
       "      <td>33.348994</td>\n",
       "      <td>18.209840</td>\n",
       "      <td>30.376923</td>\n",
       "      <td>27.339852</td>\n",
       "      <td>30.539019</td>\n",
       "      <td>27.064321</td>\n",
       "      <td>79.085521</td>\n",
       "      <td>736.424395</td>\n",
       "      <td>362.687079</td>\n",
       "      <td>9.233710</td>\n",
       "      <td>748.783266</td>\n",
       "      <td>SW71139/GN06600</td>\n",
       "      <td>12.990991</td>\n",
       "      <td>19.154054</td>\n",
       "      <td>6.290991</td>\n",
       "      <td>2.777477</td>\n",
       "      <td>64.209009</td>\n",
       "      <td>90.356757</td>\n",
       "      <td>12.218018</td>\n",
       "      <td>12.927928</td>\n",
       "      <td>13.3</td>\n",
       "      <td>...</td>\n",
       "      <td>3.3</td>\n",
       "      <td>7.4</td>\n",
       "      <td>-4.5</td>\n",
       "      <td>0.0</td>\n",
       "      <td>36.0</td>\n",
       "      <td>65.9</td>\n",
       "      <td>4.0</td>\n",
       "      <td>4.1</td>\n",
       "      <td>23.3</td>\n",
       "      <td>31.3</td>\n",
       "      <td>16.7</td>\n",
       "      <td>42.4</td>\n",
       "      <td>93.9</td>\n",
       "      <td>99.7</td>\n",
       "      <td>18.3</td>\n",
       "      <td>19.2</td>\n",
       "      <td>4.790607</td>\n",
       "      <td>5.415597</td>\n",
       "      <td>5.258682</td>\n",
       "      <td>6.632615</td>\n",
       "      <td>14.891081</td>\n",
       "      <td>8.833558</td>\n",
       "      <td>4.135922</td>\n",
       "      <td>4.421542</td>\n",
       "      <td>9.6</td>\n",
       "      <td>15.7</td>\n",
       "      <td>1.9</td>\n",
       "      <td>0.0</td>\n",
       "      <td>50.55</td>\n",
       "      <td>86.25</td>\n",
       "      <td>7.95</td>\n",
       "      <td>8.25</td>\n",
       "      <td>13.3</td>\n",
       "      <td>19.3</td>\n",
       "      <td>6.9</td>\n",
       "      <td>0.0</td>\n",
       "      <td>63.9</td>\n",
       "      <td>93.5</td>\n",
       "      <td>14.0</td>\n",
       "      <td>14.4</td>\n",
       "      <td>15.8</td>\n",
       "      <td>22.05</td>\n",
       "      <td>10.8</td>\n",
       "      <td>1.3</td>\n",
       "      <td>73.9</td>\n",
       "      <td>96.9</td>\n",
       "      <td>15.4</td>\n",
       "      <td>16.55</td>\n",
       "      <td>0</td>\n",
       "      <td>1</td>\n",
       "    </tr>\n",
       "    <tr>\n",
       "      <th>798</th>\n",
       "      <td>899</td>\n",
       "      <td>712.352941</td>\n",
       "      <td>2</td>\n",
       "      <td>10</td>\n",
       "      <td>9</td>\n",
       "      <td>GN20682</td>\n",
       "      <td>1.132393</td>\n",
       "      <td>3.076316</td>\n",
       "      <td>1.513926</td>\n",
       "      <td>7.430210</td>\n",
       "      <td>24.824121</td>\n",
       "      <td>40.886503</td>\n",
       "      <td>135.553886</td>\n",
       "      <td>23.310195</td>\n",
       "      <td>21.747806</td>\n",
       "      <td>135.553886</td>\n",
       "      <td>3.506312</td>\n",
       "      <td>4.463132</td>\n",
       "      <td>30.040812</td>\n",
       "      <td>35.677722</td>\n",
       "      <td>35.880533</td>\n",
       "      <td>24.282746</td>\n",
       "      <td>27.728781</td>\n",
       "      <td>-105.584957</td>\n",
       "      <td>1461.107313</td>\n",
       "      <td>21.514268</td>\n",
       "      <td>23.833861</td>\n",
       "      <td>325.437122</td>\n",
       "      <td>2.193865</td>\n",
       "      <td>33.808063</td>\n",
       "      <td>19.187022</td>\n",
       "      <td>31.014451</td>\n",
       "      <td>28.000088</td>\n",
       "      <td>30.902744</td>\n",
       "      <td>27.497131</td>\n",
       "      <td>80.908266</td>\n",
       "      <td>784.139054</td>\n",
       "      <td>372.437122</td>\n",
       "      <td>10.120817</td>\n",
       "      <td>796.301621</td>\n",
       "      <td>GN07574/SW71139</td>\n",
       "      <td>12.990991</td>\n",
       "      <td>19.154054</td>\n",
       "      <td>6.290991</td>\n",
       "      <td>2.777477</td>\n",
       "      <td>64.209009</td>\n",
       "      <td>90.356757</td>\n",
       "      <td>12.218018</td>\n",
       "      <td>12.927928</td>\n",
       "      <td>13.3</td>\n",
       "      <td>...</td>\n",
       "      <td>3.3</td>\n",
       "      <td>7.4</td>\n",
       "      <td>-4.5</td>\n",
       "      <td>0.0</td>\n",
       "      <td>36.0</td>\n",
       "      <td>65.9</td>\n",
       "      <td>4.0</td>\n",
       "      <td>4.1</td>\n",
       "      <td>23.3</td>\n",
       "      <td>31.3</td>\n",
       "      <td>16.7</td>\n",
       "      <td>42.4</td>\n",
       "      <td>93.9</td>\n",
       "      <td>99.7</td>\n",
       "      <td>18.3</td>\n",
       "      <td>19.2</td>\n",
       "      <td>4.790607</td>\n",
       "      <td>5.415597</td>\n",
       "      <td>5.258682</td>\n",
       "      <td>6.632615</td>\n",
       "      <td>14.891081</td>\n",
       "      <td>8.833558</td>\n",
       "      <td>4.135922</td>\n",
       "      <td>4.421542</td>\n",
       "      <td>9.6</td>\n",
       "      <td>15.7</td>\n",
       "      <td>1.9</td>\n",
       "      <td>0.0</td>\n",
       "      <td>50.55</td>\n",
       "      <td>86.25</td>\n",
       "      <td>7.95</td>\n",
       "      <td>8.25</td>\n",
       "      <td>13.3</td>\n",
       "      <td>19.3</td>\n",
       "      <td>6.9</td>\n",
       "      <td>0.0</td>\n",
       "      <td>63.9</td>\n",
       "      <td>93.5</td>\n",
       "      <td>14.0</td>\n",
       "      <td>14.4</td>\n",
       "      <td>15.8</td>\n",
       "      <td>22.05</td>\n",
       "      <td>10.8</td>\n",
       "      <td>1.3</td>\n",
       "      <td>73.9</td>\n",
       "      <td>96.9</td>\n",
       "      <td>15.4</td>\n",
       "      <td>16.55</td>\n",
       "      <td>0</td>\n",
       "      <td>1</td>\n",
       "    </tr>\n",
       "    <tr>\n",
       "      <th>799</th>\n",
       "      <td>900</td>\n",
       "      <td>757.129412</td>\n",
       "      <td>2</td>\n",
       "      <td>10</td>\n",
       "      <td>13</td>\n",
       "      <td>GN20686</td>\n",
       "      <td>1.236763</td>\n",
       "      <td>3.118357</td>\n",
       "      <td>1.631101</td>\n",
       "      <td>7.255371</td>\n",
       "      <td>24.495686</td>\n",
       "      <td>40.224433</td>\n",
       "      <td>140.074036</td>\n",
       "      <td>22.864585</td>\n",
       "      <td>21.377329</td>\n",
       "      <td>140.074036</td>\n",
       "      <td>3.368851</td>\n",
       "      <td>4.203667</td>\n",
       "      <td>29.444886</td>\n",
       "      <td>34.804586</td>\n",
       "      <td>35.437927</td>\n",
       "      <td>24.281965</td>\n",
       "      <td>28.108804</td>\n",
       "      <td>-98.374032</td>\n",
       "      <td>1431.365383</td>\n",
       "      <td>20.780354</td>\n",
       "      <td>23.632170</td>\n",
       "      <td>321.101183</td>\n",
       "      <td>1.370070</td>\n",
       "      <td>32.293985</td>\n",
       "      <td>18.342497</td>\n",
       "      <td>30.339484</td>\n",
       "      <td>27.474205</td>\n",
       "      <td>30.302583</td>\n",
       "      <td>27.057817</td>\n",
       "      <td>79.631179</td>\n",
       "      <td>754.308858</td>\n",
       "      <td>368.101183</td>\n",
       "      <td>8.588260</td>\n",
       "      <td>767.058794</td>\n",
       "      <td>GN05567/SW71139</td>\n",
       "      <td>12.990991</td>\n",
       "      <td>19.154054</td>\n",
       "      <td>6.290991</td>\n",
       "      <td>2.777477</td>\n",
       "      <td>64.209009</td>\n",
       "      <td>90.356757</td>\n",
       "      <td>12.218018</td>\n",
       "      <td>12.927928</td>\n",
       "      <td>13.3</td>\n",
       "      <td>...</td>\n",
       "      <td>3.3</td>\n",
       "      <td>7.4</td>\n",
       "      <td>-4.5</td>\n",
       "      <td>0.0</td>\n",
       "      <td>36.0</td>\n",
       "      <td>65.9</td>\n",
       "      <td>4.0</td>\n",
       "      <td>4.1</td>\n",
       "      <td>23.3</td>\n",
       "      <td>31.3</td>\n",
       "      <td>16.7</td>\n",
       "      <td>42.4</td>\n",
       "      <td>93.9</td>\n",
       "      <td>99.7</td>\n",
       "      <td>18.3</td>\n",
       "      <td>19.2</td>\n",
       "      <td>4.790607</td>\n",
       "      <td>5.415597</td>\n",
       "      <td>5.258682</td>\n",
       "      <td>6.632615</td>\n",
       "      <td>14.891081</td>\n",
       "      <td>8.833558</td>\n",
       "      <td>4.135922</td>\n",
       "      <td>4.421542</td>\n",
       "      <td>9.6</td>\n",
       "      <td>15.7</td>\n",
       "      <td>1.9</td>\n",
       "      <td>0.0</td>\n",
       "      <td>50.55</td>\n",
       "      <td>86.25</td>\n",
       "      <td>7.95</td>\n",
       "      <td>8.25</td>\n",
       "      <td>13.3</td>\n",
       "      <td>19.3</td>\n",
       "      <td>6.9</td>\n",
       "      <td>0.0</td>\n",
       "      <td>63.9</td>\n",
       "      <td>93.5</td>\n",
       "      <td>14.0</td>\n",
       "      <td>14.4</td>\n",
       "      <td>15.8</td>\n",
       "      <td>22.05</td>\n",
       "      <td>10.8</td>\n",
       "      <td>1.3</td>\n",
       "      <td>73.9</td>\n",
       "      <td>96.9</td>\n",
       "      <td>15.4</td>\n",
       "      <td>16.55</td>\n",
       "      <td>0</td>\n",
       "      <td>1</td>\n",
       "    </tr>\n",
       "  </tbody>\n",
       "</table>\n",
       "<p>800 rows × 123 columns</p>\n",
       "</div>"
      ],
      "text/plain": [
       "     Plot_ID  GrainYield  Block  iBlock  Entry     Name      Blue     Green  \\\n",
       "0        101  654.708159      1       1      1    Zebra  0.721881  1.888871   \n",
       "1        102  709.595446      1       1     19  GN18666  0.703810  1.796074   \n",
       "2        103  707.100569      1       1     11  GN15590  0.753506  2.024628   \n",
       "3        104  724.958634      1       1      5  Mirakel  0.712553  1.928361   \n",
       "4        105  740.978368      1       1     24  GN18751  0.658100  1.743676   \n",
       "..       ...         ...    ...     ...    ...      ...       ...       ...   \n",
       "795      896  663.899810      2      10     23  GN20696  1.207367  3.129361   \n",
       "796      897  722.332448      2      10     20  GN20693  1.218547  3.029369   \n",
       "797      898  782.997343      2      10      6  GN20679  1.247960  3.080470   \n",
       "798      899  712.352941      2      10      9  GN20682  1.132393  3.076316   \n",
       "799      900  757.129412      2      10     13  GN20686  1.236763  3.118357   \n",
       "\n",
       "          Red   RedEdge        NIR       NDVI        MTCI        DVI  \\\n",
       "0    1.432855  4.223841  10.712139  23.284268   70.588699   9.279285   \n",
       "1    1.336747  4.088164  10.598145  23.564953   71.900170   9.261397   \n",
       "2    1.461858  4.504250  11.171614  23.564411   69.505796   9.709755   \n",
       "3    1.322827  4.351697  11.371355  24.329257   71.961077  10.048528   \n",
       "4    1.323602  4.100732  10.833495  23.612456   72.361722   9.509893   \n",
       "..        ...       ...        ...        ...         ...        ...   \n",
       "795  1.572211  7.275563  23.610013  40.456534  131.503725  22.037802   \n",
       "796  1.604616  6.989788  22.911559  40.178955  136.879506  21.306943   \n",
       "797  1.537271  7.084423  23.799795  40.753425  138.820844  22.262524   \n",
       "798  1.513926  7.430210  24.824121  40.886503  135.553886  23.310195   \n",
       "799  1.631101  7.255371  24.495686  40.224433  140.074036  22.864585   \n",
       "\n",
       "          GDVI     MTCI_CI       EXG      EXGR       RDVI       TDVI  \\\n",
       "0     8.823269   70.588699  1.623006  1.505880  14.654757  16.884211   \n",
       "1     8.802070   71.900170  1.551592  1.476220  14.714159  16.879022   \n",
       "2     9.146985   69.505796  1.833892  1.811919  15.094224  17.573120   \n",
       "3     9.442993   71.961077  1.821344  1.897748  15.609909  18.207639   \n",
       "4     9.089819   72.361722  1.505651  1.396284  14.906806  17.191042   \n",
       "..         ...         ...       ...       ...        ...        ...   \n",
       "795  20.480652  131.503725  3.479144  4.407410  29.101451  34.466551   \n",
       "796  19.882190  136.879506  3.235575  4.018482  28.580419  33.856701   \n",
       "797  20.719325  138.820844  3.375709  4.304000  29.359565  34.798807   \n",
       "798  21.747806  135.553886  3.506312  4.463132  30.040812  35.677722   \n",
       "799  21.377329  140.074036  3.368851  4.203667  29.444886  34.804586   \n",
       "\n",
       "         GNDVI       NDRE       SCCI         EVI          TVI       VARI  \\\n",
       "0    21.353222  13.084044  17.210430  -22.606790   574.997711   6.377567   \n",
       "1    21.507834  13.221261  17.093696  -23.499263   574.056919   7.399589   \n",
       "2    21.213424  12.977262  16.738608  -23.946305   605.096106   7.809252   \n",
       "3    21.773927  13.626138  17.143774  -25.365495   627.133077   8.726720   \n",
       "4    21.866013  13.393175  17.294627  -25.147813   587.396559   7.278404   \n",
       "..         ...        ...        ...         ...          ...        ...   \n",
       "795  35.239972  23.842657  27.476411  -79.213294  1384.554152  21.543120   \n",
       "796  35.241500  23.992506  27.780664  -71.624923  1335.406703  20.377778   \n",
       "797  35.575919  24.503106  28.079689  -76.598149  1397.479419  21.770134   \n",
       "798  35.880533  24.282746  27.728781 -105.584957  1461.107313  21.514268   \n",
       "799  35.437927  24.281965  28.108804  -98.374032  1431.365383  20.780354   \n",
       "\n",
       "          GARI         GCI       GLI        NLI       MNLI       SAVI  \\\n",
       "0    13.276376  151.859136 -1.163533  12.533213   5.204871  15.399052   \n",
       "1    12.858113  163.528613 -0.990845  12.857903   5.315166  15.434645   \n",
       "2    13.334074  153.382482 -0.587657  13.871443   5.759528  15.902381   \n",
       "3    13.053512  159.651030 -0.168468  15.512663   6.364218  16.454832   \n",
       "4    13.465021  170.365130 -0.865287  13.034392   5.697493  15.639317   \n",
       "..         ...         ...       ...        ...        ...        ...   \n",
       "795  22.467180  306.912440  1.826122  32.625677  17.906241  30.104828   \n",
       "796  21.997887  312.655202  1.199692  31.854774  17.167981  29.636313   \n",
       "797  22.292474  315.687079  1.509188  33.348994  18.209840  30.376923   \n",
       "798  23.833861  325.437122  2.193865  33.808063  19.187022  31.014451   \n",
       "799  23.632170  321.101183  1.370070  32.293985  18.342497  30.339484   \n",
       "\n",
       "         GSAVI      OSAVI     GOSAVI     MSAVI2         MSR        GRVI  \\\n",
       "0    14.396864  16.531954  15.309744  41.855845  263.848841  182.859136   \n",
       "1    14.408430  16.636475  15.364705  41.878643  301.267882  194.528613   \n",
       "2    14.672166  16.914848  15.419570  42.982298  287.468088  184.382482   \n",
       "3    15.119848  17.489906  15.864005  43.873589  312.537837  190.651030   \n",
       "4    14.714345  16.754845  15.636113  42.453849  329.947148  201.365130   \n",
       "..         ...        ...        ...        ...         ...         ...   \n",
       "795  27.046136  30.283025  26.785210  78.514280  730.474753  353.912440   \n",
       "796  26.787846  29.956761  26.671080  77.335205  708.690162  359.655202   \n",
       "797  27.339852  30.539019  27.064321  79.085521  736.424395  362.687079   \n",
       "798  28.000088  30.902744  27.497131  80.908266  784.139054  372.437122   \n",
       "799  27.474205  30.302583  27.057817  79.631179  754.308858  368.101183   \n",
       "\n",
       "         WDRVI          SR                  Pedigree  \\\n",
       "0    -3.743649  275.354056              Ralle/Dragon   \n",
       "1    -2.503716  312.456207           GN04528/GN03509   \n",
       "2    -2.728153  298.687820       Demonstrant/SW51114   \n",
       "3    -1.221526  323.111850  SW38337/NK98533//NK98535   \n",
       "4    -1.860198  341.028124            QUARNA/GN03531   \n",
       "..         ...         ...                       ...   \n",
       "795   8.660238  743.081853               Saar/2*Avle   \n",
       "796   7.755615  721.570694       ONPMSYDER 5/GN08588   \n",
       "797   9.233710  748.783266           SW71139/GN06600   \n",
       "798  10.120817  796.301621           GN07574/SW71139   \n",
       "799   8.588260  767.058794           GN05567/SW71139   \n",
       "\n",
       "     MEAN Average temperature at 2m altitude (TM)  \\\n",
       "0                                       12.990991   \n",
       "1                                       12.990991   \n",
       "2                                       12.990991   \n",
       "3                                       12.990991   \n",
       "4                                       12.990991   \n",
       "..                                            ...   \n",
       "795                                     12.990991   \n",
       "796                                     12.990991   \n",
       "797                                     12.990991   \n",
       "798                                     12.990991   \n",
       "799                                     12.990991   \n",
       "\n",
       "     MEAN Maximum air temperature at 2m altitude (TX)  \\\n",
       "0                                           19.154054   \n",
       "1                                           19.154054   \n",
       "2                                           19.154054   \n",
       "3                                           19.154054   \n",
       "4                                           19.154054   \n",
       "..                                                ...   \n",
       "795                                         19.154054   \n",
       "796                                         19.154054   \n",
       "797                                         19.154054   \n",
       "798                                         19.154054   \n",
       "799                                         19.154054   \n",
       "\n",
       "     MEAN Minimum air temperature at 2m altitude (TN)  \\\n",
       "0                                            6.290991   \n",
       "1                                            6.290991   \n",
       "2                                            6.290991   \n",
       "3                                            6.290991   \n",
       "4                                            6.290991   \n",
       "..                                                ...   \n",
       "795                                          6.290991   \n",
       "796                                          6.290991   \n",
       "797                                          6.290991   \n",
       "798                                          6.290991   \n",
       "799                                          6.290991   \n",
       "\n",
       "     MEAN Precipitation (RR)  MEAN Relative humidity in 2m  \\\n",
       "0                   2.777477                     64.209009   \n",
       "1                   2.777477                     64.209009   \n",
       "2                   2.777477                     64.209009   \n",
       "3                   2.777477                     64.209009   \n",
       "4                   2.777477                     64.209009   \n",
       "..                       ...                           ...   \n",
       "795                 2.777477                     64.209009   \n",
       "796                 2.777477                     64.209009   \n",
       "797                 2.777477                     64.209009   \n",
       "798                 2.777477                     64.209009   \n",
       "799                 2.777477                     64.209009   \n",
       "\n",
       "     MEAN Relative humidity in 2m.1  MEAN Wind gust (FG2)  \\\n",
       "0                         90.356757             12.218018   \n",
       "1                         90.356757             12.218018   \n",
       "2                         90.356757             12.218018   \n",
       "3                         90.356757             12.218018   \n",
       "4                         90.356757             12.218018   \n",
       "..                              ...                   ...   \n",
       "795                       90.356757             12.218018   \n",
       "796                       90.356757             12.218018   \n",
       "797                       90.356757             12.218018   \n",
       "798                       90.356757             12.218018   \n",
       "799                       90.356757             12.218018   \n",
       "\n",
       "     MEAN Wind speed in 2m  MEDIAN Average temperature at 2m altitude (TM)  \\\n",
       "0                12.927928                                            13.3   \n",
       "1                12.927928                                            13.3   \n",
       "2                12.927928                                            13.3   \n",
       "3                12.927928                                            13.3   \n",
       "4                12.927928                                            13.3   \n",
       "..                     ...                                             ...   \n",
       "795              12.927928                                            13.3   \n",
       "796              12.927928                                            13.3   \n",
       "797              12.927928                                            13.3   \n",
       "798              12.927928                                            13.3   \n",
       "799              12.927928                                            13.3   \n",
       "\n",
       "     ...  MIN Average temperature at 2m altitude (TM)  \\\n",
       "0    ...                                          3.3   \n",
       "1    ...                                          3.3   \n",
       "2    ...                                          3.3   \n",
       "3    ...                                          3.3   \n",
       "4    ...                                          3.3   \n",
       "..   ...                                          ...   \n",
       "795  ...                                          3.3   \n",
       "796  ...                                          3.3   \n",
       "797  ...                                          3.3   \n",
       "798  ...                                          3.3   \n",
       "799  ...                                          3.3   \n",
       "\n",
       "     MIN Maximum air temperature at 2m altitude (TX)  \\\n",
       "0                                                7.4   \n",
       "1                                                7.4   \n",
       "2                                                7.4   \n",
       "3                                                7.4   \n",
       "4                                                7.4   \n",
       "..                                               ...   \n",
       "795                                              7.4   \n",
       "796                                              7.4   \n",
       "797                                              7.4   \n",
       "798                                              7.4   \n",
       "799                                              7.4   \n",
       "\n",
       "     MIN Minimum air temperature at 2m altitude (TN)  MIN Precipitation (RR)  \\\n",
       "0                                               -4.5                     0.0   \n",
       "1                                               -4.5                     0.0   \n",
       "2                                               -4.5                     0.0   \n",
       "3                                               -4.5                     0.0   \n",
       "4                                               -4.5                     0.0   \n",
       "..                                               ...                     ...   \n",
       "795                                             -4.5                     0.0   \n",
       "796                                             -4.5                     0.0   \n",
       "797                                             -4.5                     0.0   \n",
       "798                                             -4.5                     0.0   \n",
       "799                                             -4.5                     0.0   \n",
       "\n",
       "     MIN Relative humidity in 2m  MIN Relative humidity in 2m.1  \\\n",
       "0                           36.0                           65.9   \n",
       "1                           36.0                           65.9   \n",
       "2                           36.0                           65.9   \n",
       "3                           36.0                           65.9   \n",
       "4                           36.0                           65.9   \n",
       "..                           ...                            ...   \n",
       "795                         36.0                           65.9   \n",
       "796                         36.0                           65.9   \n",
       "797                         36.0                           65.9   \n",
       "798                         36.0                           65.9   \n",
       "799                         36.0                           65.9   \n",
       "\n",
       "     MIN Wind gust (FG2)  MIN Wind speed in 2m  \\\n",
       "0                    4.0                   4.1   \n",
       "1                    4.0                   4.1   \n",
       "2                    4.0                   4.1   \n",
       "3                    4.0                   4.1   \n",
       "4                    4.0                   4.1   \n",
       "..                   ...                   ...   \n",
       "795                  4.0                   4.1   \n",
       "796                  4.0                   4.1   \n",
       "797                  4.0                   4.1   \n",
       "798                  4.0                   4.1   \n",
       "799                  4.0                   4.1   \n",
       "\n",
       "     MAX Average temperature at 2m altitude (TM)  \\\n",
       "0                                           23.3   \n",
       "1                                           23.3   \n",
       "2                                           23.3   \n",
       "3                                           23.3   \n",
       "4                                           23.3   \n",
       "..                                           ...   \n",
       "795                                         23.3   \n",
       "796                                         23.3   \n",
       "797                                         23.3   \n",
       "798                                         23.3   \n",
       "799                                         23.3   \n",
       "\n",
       "     MAX Maximum air temperature at 2m altitude (TX)  \\\n",
       "0                                               31.3   \n",
       "1                                               31.3   \n",
       "2                                               31.3   \n",
       "3                                               31.3   \n",
       "4                                               31.3   \n",
       "..                                               ...   \n",
       "795                                             31.3   \n",
       "796                                             31.3   \n",
       "797                                             31.3   \n",
       "798                                             31.3   \n",
       "799                                             31.3   \n",
       "\n",
       "     MAX Minimum air temperature at 2m altitude (TN)  MAX Precipitation (RR)  \\\n",
       "0                                               16.7                    42.4   \n",
       "1                                               16.7                    42.4   \n",
       "2                                               16.7                    42.4   \n",
       "3                                               16.7                    42.4   \n",
       "4                                               16.7                    42.4   \n",
       "..                                               ...                     ...   \n",
       "795                                             16.7                    42.4   \n",
       "796                                             16.7                    42.4   \n",
       "797                                             16.7                    42.4   \n",
       "798                                             16.7                    42.4   \n",
       "799                                             16.7                    42.4   \n",
       "\n",
       "     MAX Relative humidity in 2m  MAX Relative humidity in 2m.1  \\\n",
       "0                           93.9                           99.7   \n",
       "1                           93.9                           99.7   \n",
       "2                           93.9                           99.7   \n",
       "3                           93.9                           99.7   \n",
       "4                           93.9                           99.7   \n",
       "..                           ...                            ...   \n",
       "795                         93.9                           99.7   \n",
       "796                         93.9                           99.7   \n",
       "797                         93.9                           99.7   \n",
       "798                         93.9                           99.7   \n",
       "799                         93.9                           99.7   \n",
       "\n",
       "     MAX Wind gust (FG2)  MAX Wind speed in 2m  \\\n",
       "0                   18.3                  19.2   \n",
       "1                   18.3                  19.2   \n",
       "2                   18.3                  19.2   \n",
       "3                   18.3                  19.2   \n",
       "4                   18.3                  19.2   \n",
       "..                   ...                   ...   \n",
       "795                 18.3                  19.2   \n",
       "796                 18.3                  19.2   \n",
       "797                 18.3                  19.2   \n",
       "798                 18.3                  19.2   \n",
       "799                 18.3                  19.2   \n",
       "\n",
       "     STD_DEV Average temperature at 2m altitude (TM)  \\\n",
       "0                                           4.790607   \n",
       "1                                           4.790607   \n",
       "2                                           4.790607   \n",
       "3                                           4.790607   \n",
       "4                                           4.790607   \n",
       "..                                               ...   \n",
       "795                                         4.790607   \n",
       "796                                         4.790607   \n",
       "797                                         4.790607   \n",
       "798                                         4.790607   \n",
       "799                                         4.790607   \n",
       "\n",
       "     STD_DEV Maximum air temperature at 2m altitude (TX)  \\\n",
       "0                                             5.415597     \n",
       "1                                             5.415597     \n",
       "2                                             5.415597     \n",
       "3                                             5.415597     \n",
       "4                                             5.415597     \n",
       "..                                                 ...     \n",
       "795                                           5.415597     \n",
       "796                                           5.415597     \n",
       "797                                           5.415597     \n",
       "798                                           5.415597     \n",
       "799                                           5.415597     \n",
       "\n",
       "     STD_DEV Minimum air temperature at 2m altitude (TN)  \\\n",
       "0                                             5.258682     \n",
       "1                                             5.258682     \n",
       "2                                             5.258682     \n",
       "3                                             5.258682     \n",
       "4                                             5.258682     \n",
       "..                                                 ...     \n",
       "795                                           5.258682     \n",
       "796                                           5.258682     \n",
       "797                                           5.258682     \n",
       "798                                           5.258682     \n",
       "799                                           5.258682     \n",
       "\n",
       "     STD_DEV Precipitation (RR)  STD_DEV Relative humidity in 2m  \\\n",
       "0                      6.632615                        14.891081   \n",
       "1                      6.632615                        14.891081   \n",
       "2                      6.632615                        14.891081   \n",
       "3                      6.632615                        14.891081   \n",
       "4                      6.632615                        14.891081   \n",
       "..                          ...                              ...   \n",
       "795                    6.632615                        14.891081   \n",
       "796                    6.632615                        14.891081   \n",
       "797                    6.632615                        14.891081   \n",
       "798                    6.632615                        14.891081   \n",
       "799                    6.632615                        14.891081   \n",
       "\n",
       "     STD_DEV Relative humidity in 2m.1  STD_DEV Wind gust (FG2)  \\\n",
       "0                             8.833558                 4.135922   \n",
       "1                             8.833558                 4.135922   \n",
       "2                             8.833558                 4.135922   \n",
       "3                             8.833558                 4.135922   \n",
       "4                             8.833558                 4.135922   \n",
       "..                                 ...                      ...   \n",
       "795                           8.833558                 4.135922   \n",
       "796                           8.833558                 4.135922   \n",
       "797                           8.833558                 4.135922   \n",
       "798                           8.833558                 4.135922   \n",
       "799                           8.833558                 4.135922   \n",
       "\n",
       "     STD_DEV Wind speed in 2m  \\\n",
       "0                    4.421542   \n",
       "1                    4.421542   \n",
       "2                    4.421542   \n",
       "3                    4.421542   \n",
       "4                    4.421542   \n",
       "..                        ...   \n",
       "795                  4.421542   \n",
       "796                  4.421542   \n",
       "797                  4.421542   \n",
       "798                  4.421542   \n",
       "799                  4.421542   \n",
       "\n",
       "     QUANTILE_25 Average temperature at 2m altitude (TM)  \\\n",
       "0                                                  9.6     \n",
       "1                                                  9.6     \n",
       "2                                                  9.6     \n",
       "3                                                  9.6     \n",
       "4                                                  9.6     \n",
       "..                                                 ...     \n",
       "795                                                9.6     \n",
       "796                                                9.6     \n",
       "797                                                9.6     \n",
       "798                                                9.6     \n",
       "799                                                9.6     \n",
       "\n",
       "     QUANTILE_25 Maximum air temperature at 2m altitude (TX)  \\\n",
       "0                                                 15.7         \n",
       "1                                                 15.7         \n",
       "2                                                 15.7         \n",
       "3                                                 15.7         \n",
       "4                                                 15.7         \n",
       "..                                                 ...         \n",
       "795                                               15.7         \n",
       "796                                               15.7         \n",
       "797                                               15.7         \n",
       "798                                               15.7         \n",
       "799                                               15.7         \n",
       "\n",
       "     QUANTILE_25 Minimum air temperature at 2m altitude (TN)  \\\n",
       "0                                                  1.9         \n",
       "1                                                  1.9         \n",
       "2                                                  1.9         \n",
       "3                                                  1.9         \n",
       "4                                                  1.9         \n",
       "..                                                 ...         \n",
       "795                                                1.9         \n",
       "796                                                1.9         \n",
       "797                                                1.9         \n",
       "798                                                1.9         \n",
       "799                                                1.9         \n",
       "\n",
       "     QUANTILE_25 Precipitation (RR)  QUANTILE_25 Relative humidity in 2m  \\\n",
       "0                               0.0                                50.55   \n",
       "1                               0.0                                50.55   \n",
       "2                               0.0                                50.55   \n",
       "3                               0.0                                50.55   \n",
       "4                               0.0                                50.55   \n",
       "..                              ...                                  ...   \n",
       "795                             0.0                                50.55   \n",
       "796                             0.0                                50.55   \n",
       "797                             0.0                                50.55   \n",
       "798                             0.0                                50.55   \n",
       "799                             0.0                                50.55   \n",
       "\n",
       "     QUANTILE_25 Relative humidity in 2m.1  QUANTILE_25 Wind gust (FG2)  \\\n",
       "0                                    86.25                         7.95   \n",
       "1                                    86.25                         7.95   \n",
       "2                                    86.25                         7.95   \n",
       "3                                    86.25                         7.95   \n",
       "4                                    86.25                         7.95   \n",
       "..                                     ...                          ...   \n",
       "795                                  86.25                         7.95   \n",
       "796                                  86.25                         7.95   \n",
       "797                                  86.25                         7.95   \n",
       "798                                  86.25                         7.95   \n",
       "799                                  86.25                         7.95   \n",
       "\n",
       "     QUANTILE_25 Wind speed in 2m  \\\n",
       "0                            8.25   \n",
       "1                            8.25   \n",
       "2                            8.25   \n",
       "3                            8.25   \n",
       "4                            8.25   \n",
       "..                            ...   \n",
       "795                          8.25   \n",
       "796                          8.25   \n",
       "797                          8.25   \n",
       "798                          8.25   \n",
       "799                          8.25   \n",
       "\n",
       "     QUANTILE_50 Average temperature at 2m altitude (TM)  \\\n",
       "0                                                 13.3     \n",
       "1                                                 13.3     \n",
       "2                                                 13.3     \n",
       "3                                                 13.3     \n",
       "4                                                 13.3     \n",
       "..                                                 ...     \n",
       "795                                               13.3     \n",
       "796                                               13.3     \n",
       "797                                               13.3     \n",
       "798                                               13.3     \n",
       "799                                               13.3     \n",
       "\n",
       "     QUANTILE_50 Maximum air temperature at 2m altitude (TX)  \\\n",
       "0                                                 19.3         \n",
       "1                                                 19.3         \n",
       "2                                                 19.3         \n",
       "3                                                 19.3         \n",
       "4                                                 19.3         \n",
       "..                                                 ...         \n",
       "795                                               19.3         \n",
       "796                                               19.3         \n",
       "797                                               19.3         \n",
       "798                                               19.3         \n",
       "799                                               19.3         \n",
       "\n",
       "     QUANTILE_50 Minimum air temperature at 2m altitude (TN)  \\\n",
       "0                                                  6.9         \n",
       "1                                                  6.9         \n",
       "2                                                  6.9         \n",
       "3                                                  6.9         \n",
       "4                                                  6.9         \n",
       "..                                                 ...         \n",
       "795                                                6.9         \n",
       "796                                                6.9         \n",
       "797                                                6.9         \n",
       "798                                                6.9         \n",
       "799                                                6.9         \n",
       "\n",
       "     QUANTILE_50 Precipitation (RR)  QUANTILE_50 Relative humidity in 2m  \\\n",
       "0                               0.0                                 63.9   \n",
       "1                               0.0                                 63.9   \n",
       "2                               0.0                                 63.9   \n",
       "3                               0.0                                 63.9   \n",
       "4                               0.0                                 63.9   \n",
       "..                              ...                                  ...   \n",
       "795                             0.0                                 63.9   \n",
       "796                             0.0                                 63.9   \n",
       "797                             0.0                                 63.9   \n",
       "798                             0.0                                 63.9   \n",
       "799                             0.0                                 63.9   \n",
       "\n",
       "     QUANTILE_50 Relative humidity in 2m.1  QUANTILE_50 Wind gust (FG2)  \\\n",
       "0                                     93.5                         14.0   \n",
       "1                                     93.5                         14.0   \n",
       "2                                     93.5                         14.0   \n",
       "3                                     93.5                         14.0   \n",
       "4                                     93.5                         14.0   \n",
       "..                                     ...                          ...   \n",
       "795                                   93.5                         14.0   \n",
       "796                                   93.5                         14.0   \n",
       "797                                   93.5                         14.0   \n",
       "798                                   93.5                         14.0   \n",
       "799                                   93.5                         14.0   \n",
       "\n",
       "     QUANTILE_50 Wind speed in 2m  \\\n",
       "0                            14.4   \n",
       "1                            14.4   \n",
       "2                            14.4   \n",
       "3                            14.4   \n",
       "4                            14.4   \n",
       "..                            ...   \n",
       "795                          14.4   \n",
       "796                          14.4   \n",
       "797                          14.4   \n",
       "798                          14.4   \n",
       "799                          14.4   \n",
       "\n",
       "     QUANTILE_75 Average temperature at 2m altitude (TM)  \\\n",
       "0                                                 15.8     \n",
       "1                                                 15.8     \n",
       "2                                                 15.8     \n",
       "3                                                 15.8     \n",
       "4                                                 15.8     \n",
       "..                                                 ...     \n",
       "795                                               15.8     \n",
       "796                                               15.8     \n",
       "797                                               15.8     \n",
       "798                                               15.8     \n",
       "799                                               15.8     \n",
       "\n",
       "     QUANTILE_75 Maximum air temperature at 2m altitude (TX)  \\\n",
       "0                                                22.05         \n",
       "1                                                22.05         \n",
       "2                                                22.05         \n",
       "3                                                22.05         \n",
       "4                                                22.05         \n",
       "..                                                 ...         \n",
       "795                                              22.05         \n",
       "796                                              22.05         \n",
       "797                                              22.05         \n",
       "798                                              22.05         \n",
       "799                                              22.05         \n",
       "\n",
       "     QUANTILE_75 Minimum air temperature at 2m altitude (TN)  \\\n",
       "0                                                 10.8         \n",
       "1                                                 10.8         \n",
       "2                                                 10.8         \n",
       "3                                                 10.8         \n",
       "4                                                 10.8         \n",
       "..                                                 ...         \n",
       "795                                               10.8         \n",
       "796                                               10.8         \n",
       "797                                               10.8         \n",
       "798                                               10.8         \n",
       "799                                               10.8         \n",
       "\n",
       "     QUANTILE_75 Precipitation (RR)  QUANTILE_75 Relative humidity in 2m  \\\n",
       "0                               1.3                                 73.9   \n",
       "1                               1.3                                 73.9   \n",
       "2                               1.3                                 73.9   \n",
       "3                               1.3                                 73.9   \n",
       "4                               1.3                                 73.9   \n",
       "..                              ...                                  ...   \n",
       "795                             1.3                                 73.9   \n",
       "796                             1.3                                 73.9   \n",
       "797                             1.3                                 73.9   \n",
       "798                             1.3                                 73.9   \n",
       "799                             1.3                                 73.9   \n",
       "\n",
       "     QUANTILE_75 Relative humidity in 2m.1  QUANTILE_75 Wind gust (FG2)  \\\n",
       "0                                     96.9                         15.4   \n",
       "1                                     96.9                         15.4   \n",
       "2                                     96.9                         15.4   \n",
       "3                                     96.9                         15.4   \n",
       "4                                     96.9                         15.4   \n",
       "..                                     ...                          ...   \n",
       "795                                   96.9                         15.4   \n",
       "796                                   96.9                         15.4   \n",
       "797                                   96.9                         15.4   \n",
       "798                                   96.9                         15.4   \n",
       "799                                   96.9                         15.4   \n",
       "\n",
       "     QUANTILE_75 Wind speed in 2m  Staur_Env  Vollebekk_Env  \n",
       "0                           16.55          0              1  \n",
       "1                           16.55          0              1  \n",
       "2                           16.55          0              1  \n",
       "3                           16.55          0              1  \n",
       "4                           16.55          0              1  \n",
       "..                            ...        ...            ...  \n",
       "795                         16.55          0              1  \n",
       "796                         16.55          0              1  \n",
       "797                         16.55          0              1  \n",
       "798                         16.55          0              1  \n",
       "799                         16.55          0              1  \n",
       "\n",
       "[800 rows x 123 columns]"
      ]
     },
     "execution_count": 65,
     "metadata": {},
     "output_type": "execute_result"
    }
   ],
   "source": [
    "Graminor_2020_Trapz"
   ]
  },
  {
   "cell_type": "markdown",
   "metadata": {},
   "source": [
    "# Exporting data for modeling"
   ]
  },
  {
   "cell_type": "code",
   "execution_count": null,
   "metadata": {},
   "outputs": [],
   "source": []
  },
  {
   "cell_type": "code",
   "execution_count": 66,
   "metadata": {
    "ExecuteTime": {
     "end_time": "2021-10-27T22:35:54.054187Z",
     "start_time": "2021-10-27T22:35:51.441525Z"
    }
   },
   "outputs": [],
   "source": [
    "os.makedirs(export_path, exist_ok=True)\n",
    "for df in df_to_export:\n",
    "    locals()[df].to_csv(export_path+df+'.csv', index=False)"
   ]
  },
  {
   "cell_type": "code",
   "execution_count": null,
   "metadata": {},
   "outputs": [],
   "source": []
  },
  {
   "cell_type": "markdown",
   "metadata": {},
   "source": [
    "# END OF SECTION"
   ]
  },
  {
   "cell_type": "code",
   "execution_count": 129,
   "metadata": {
    "ExecuteTime": {
     "end_time": "2021-10-19T23:33:13.235046Z",
     "start_time": "2021-10-19T23:33:13.135451Z"
    }
   },
   "outputs": [
    {
     "ename": "NameError",
     "evalue": "name 'ERROR' is not defined",
     "output_type": "error",
     "traceback": [
      "\u001b[1;31m---------------------------------------------------------------------------\u001b[0m",
      "\u001b[1;31mNameError\u001b[0m                                 Traceback (most recent call last)",
      "\u001b[1;32m<ipython-input-129-709c7506b170>\u001b[0m in \u001b[0;36m<module>\u001b[1;34m\u001b[0m\n\u001b[1;32m----> 1\u001b[1;33m \u001b[0mERROR\u001b[0m\u001b[1;33m\u001b[0m\u001b[1;33m\u001b[0m\u001b[0m\n\u001b[0m",
      "\u001b[1;31mNameError\u001b[0m: name 'ERROR' is not defined"
     ]
    }
   ],
   "source": [
    "ERROR"
   ]
  },
  {
   "cell_type": "markdown",
   "metadata": {},
   "source": [
    "# Import Genomics Data"
   ]
  },
  {
   "cell_type": "code",
   "execution_count": null,
   "metadata": {
    "ExecuteTime": {
     "end_time": "2021-10-19T23:33:13.238039Z",
     "start_time": "2021-10-19T23:33:09.686Z"
    }
   },
   "outputs": [],
   "source": [
    "genomics_data"
   ]
  },
  {
   "cell_type": "markdown",
   "metadata": {},
   "source": [
    "## Importing Genomics Data"
   ]
  },
  {
   "cell_type": "code",
   "execution_count": null,
   "metadata": {
    "ExecuteTime": {
     "end_time": "2021-10-19T23:33:13.239035Z",
     "start_time": "2021-10-19T23:33:10.213Z"
    }
   },
   "outputs": [],
   "source": [
    "# If the dataset had Days 2 heading and days to maturity columns then create the\n",
    "# following dictionary with the respective sowing dates of each field as value\n",
    "\n",
    "for df in all_df:\n",
    "    temp_df = locals()[df].copy()\n",
    "    field_temp = df.split('_')[0]+'_'+df.split('_')[1]\n",
    "    if 'Line' in temp_df.columns:\n",
    "        print(df)\n",
    "#         all_df_dates_filtered[df] = sowing_dict[field_temp]\n",
    "# all_df_dates_filtered"
   ]
  },
  {
   "cell_type": "code",
   "execution_count": null,
   "metadata": {
    "ExecuteTime": {
     "end_time": "2021-10-19T23:33:13.241030Z",
     "start_time": "2021-10-19T23:33:10.216Z"
    }
   },
   "outputs": [],
   "source": [
    "# Importing Yield data with line information"
   ]
  },
  {
   "cell_type": "code",
   "execution_count": null,
   "metadata": {
    "ExecuteTime": {
     "end_time": "2021-10-19T23:33:13.242028Z",
     "start_time": "2021-10-19T23:33:10.220Z"
    }
   },
   "outputs": [],
   "source": [
    "# Vollebekk 2019: Graminor_2019_x_19TvPhenores_x_Vollebekk_res\n",
    "# Masbasis 2020: Masbasis_x_20BMLGI1_2020_tm_x_data\n",
    "# Robot 2020: Robot_x_ROBOT_2020_x_raw\n",
    "# Masbasis 2019: Masbasis_2019_x_Field_data_2019"
   ]
  },
  {
   "cell_type": "code",
   "execution_count": null,
   "metadata": {
    "ExecuteTime": {
     "end_time": "2021-10-19T23:33:13.244022Z",
     "start_time": "2021-10-19T23:33:10.224Z"
    }
   },
   "outputs": [],
   "source": [
    "a_file = open(main_path+'yield_df.json', \"r\")\n",
    "output_str = a_file.read()\n",
    "# The file is imported as string\n",
    "\n",
    "# Converting it to dictionary\n",
    "output_dict = json.loads(output_str)\n",
    "a_file.close()\n",
    "\n",
    "pprint(output_dict)"
   ]
  },
  {
   "cell_type": "markdown",
   "metadata": {},
   "source": [
    "### Checking number of unique cultivars in the field"
   ]
  },
  {
   "cell_type": "code",
   "execution_count": null,
   "metadata": {
    "ExecuteTime": {
     "end_time": "2021-10-19T23:33:13.246017Z",
     "start_time": "2021-10-19T23:33:10.753Z"
    }
   },
   "outputs": [],
   "source": [
    "# plots_data = pd.read_excel(files_with_address[0],engine='openpyxl')\n",
    "# # Pandas converts 'NA' string to NaN. Need to change those to \n",
    "# # some string to get a count as NaNs are not counted as unique values\n",
    "\n",
    "# plots_data.Name.fillna('-', inplace=True)\n",
    "# plots_data.CodeName.fillna('-', inplace=True)\n",
    "\n",
    "# # Creating a new column as multiple plots were named 'NA' but the \n",
    "# # CodeName was different for each one of them\n",
    "# plots_data['NameCode'] = plots_data.Name+plots_data.CodeName\n",
    "\n",
    "# plots_data\n",
    "# len(plots_data.NameCode.unique())\n",
    "# plots_data.NameCode.value_counts()\n",
    "# # plots_data.NameCode.value_counts().sum()\n",
    "# # plots_data"
   ]
  },
  {
   "cell_type": "code",
   "execution_count": null,
   "metadata": {},
   "outputs": [],
   "source": []
  },
  {
   "cell_type": "code",
   "execution_count": null,
   "metadata": {},
   "outputs": [],
   "source": []
  },
  {
   "cell_type": "code",
   "execution_count": null,
   "metadata": {},
   "outputs": [],
   "source": []
  },
  {
   "cell_type": "code",
   "execution_count": null,
   "metadata": {},
   "outputs": [],
   "source": []
  },
  {
   "cell_type": "code",
   "execution_count": null,
   "metadata": {},
   "outputs": [],
   "source": []
  },
  {
   "cell_type": "markdown",
   "metadata": {},
   "source": [
    "# ToDo: Dropping NAN"
   ]
  },
  {
   "cell_type": "markdown",
   "metadata": {},
   "source": [
    "## Finding NAN values\n",
    "### ToDo: Test: Raise error if missing values found"
   ]
  },
  {
   "cell_type": "code",
   "execution_count": null,
   "metadata": {
    "ExecuteTime": {
     "end_time": "2021-10-19T23:33:13.247015Z",
     "start_time": "2021-10-19T23:33:11.813Z"
    }
   },
   "outputs": [],
   "source": [
    "# Finding number of missing values in each dataframe\n",
    "df_with_nan = []\n",
    "missing_values = False\n",
    "for df in all_df:\n",
    "    if locals()[df].isna().sum().sum() > 0:\n",
    "        print(f'Total missing values in {df} are {locals()[df].isna().sum().sum()}')\n",
    "        missing_values = True\n",
    "        df_with_nan.append(df)\n",
    "#     if len(df_with_nan) > 0:\n",
    "#         raise ValueError\n",
    "if not missing_values:\n",
    "    print('No missing value found in any dataframe')"
   ]
  },
  {
   "cell_type": "code",
   "execution_count": null,
   "metadata": {
    "ExecuteTime": {
     "end_time": "2021-10-19T23:33:13.249009Z",
     "start_time": "2021-10-19T23:33:11.816Z"
    }
   },
   "outputs": [],
   "source": [
    "Graminor_2019_all.isnull().sum().sort_values()"
   ]
  },
  {
   "cell_type": "code",
   "execution_count": null,
   "metadata": {
    "ExecuteTime": {
     "end_time": "2021-10-19T23:33:13.250007Z",
     "start_time": "2021-10-19T23:33:11.819Z"
    },
    "scrolled": true
   },
   "outputs": [],
   "source": [
    "df_with_nan"
   ]
  },
  {
   "cell_type": "code",
   "execution_count": null,
   "metadata": {
    "ExecuteTime": {
     "end_time": "2021-10-19T23:33:13.252001Z",
     "start_time": "2021-10-19T23:33:11.821Z"
    }
   },
   "outputs": [],
   "source": [
    "# Finding which column has NAN values\n",
    "for df in df_with_nan:\n",
    "    print(f'{df}:\\n {locals()[df].shape[1]-locals()[df].dropna(axis=1).shape[1]} columns or {locals()[df].shape[0]-locals()[df].dropna().shape[0]} rows to be dropped,')"
   ]
  },
  {
   "cell_type": "markdown",
   "metadata": {},
   "source": [
    "## ToDo: Automate: Drop rows with missing values in df_with_nan"
   ]
  },
  {
   "cell_type": "code",
   "execution_count": null,
   "metadata": {
    "ExecuteTime": {
     "end_time": "2021-10-19T23:33:13.253089Z",
     "start_time": "2021-10-19T23:33:12.370Z"
    }
   },
   "outputs": [],
   "source": [
    "print(f'{Graminor_eastwest_020719_NIR_half_missing.shape} Before dropping')\n",
    "# Graminor_eastwest_020719_NIR_half_missing.dropna(inplace=True)\n",
    "print(f'{Graminor_eastwest_020719_NIR_half_missing.shape} After dropping')\n"
   ]
  },
  {
   "cell_type": "markdown",
   "metadata": {},
   "source": [
    "## ORRR"
   ]
  },
  {
   "cell_type": "markdown",
   "metadata": {},
   "source": [
    "## ToDo: Droppping df with Nan from the all_df_std"
   ]
  },
  {
   "cell_type": "code",
   "execution_count": 130,
   "metadata": {
    "ExecuteTime": {
     "end_time": "2021-10-19T23:33:13.497738Z",
     "start_time": "2021-10-19T23:33:13.466468Z"
    }
   },
   "outputs": [
    {
     "name": "stdout",
     "output_type": "stream",
     "text": [
      "Number of items in all_df is 7\n"
     ]
    }
   ],
   "source": [
    "print(f'Number of items in all_df is {len(all_df)}')"
   ]
  },
  {
   "cell_type": "code",
   "execution_count": 131,
   "metadata": {
    "ExecuteTime": {
     "end_time": "2021-10-19T23:33:13.515424Z",
     "start_time": "2021-10-19T23:33:13.499734Z"
    },
    "scrolled": false
   },
   "outputs": [],
   "source": [
    "# for df in df_with_nan:\n",
    "#     all_df.remove(df)"
   ]
  },
  {
   "cell_type": "markdown",
   "metadata": {},
   "source": [
    "###  ToDo: Update field_year_dict and sorted_field_year_dict after dropping the dataset"
   ]
  },
  {
   "cell_type": "code",
   "execution_count": 132,
   "metadata": {
    "ExecuteTime": {
     "end_time": "2021-10-19T23:33:13.935156Z",
     "start_time": "2021-10-19T23:33:13.923190Z"
    }
   },
   "outputs": [
    {
     "name": "stdout",
     "output_type": "stream",
     "text": [
      "Number of items in all_df now is 7\n"
     ]
    }
   ],
   "source": [
    "print(f'Number of items in all_df now is {len(all_df)}')"
   ]
  }
 ],
 "metadata": {
  "hide_input": false,
  "kernelspec": {
   "display_name": "Python 3",
   "language": "python",
   "name": "python3"
  },
  "language_info": {
   "codemirror_mode": {
    "name": "ipython",
    "version": 3
   },
   "file_extension": ".py",
   "mimetype": "text/x-python",
   "name": "python",
   "nbconvert_exporter": "python",
   "pygments_lexer": "ipython3",
   "version": "3.8.5"
  },
  "toc": {
   "base_numbering": 1,
   "nav_menu": {},
   "number_sections": true,
   "sideBar": true,
   "skip_h1_title": false,
   "title_cell": "Table of Contents",
   "title_sidebar": "Contents",
   "toc_cell": false,
   "toc_position": {
    "height": "calc(100% - 180px)",
    "left": "10px",
    "top": "150px",
    "width": "325.417px"
   },
   "toc_section_display": true,
   "toc_window_display": true
  },
  "varInspector": {
   "cols": {
    "lenName": 16,
    "lenType": 16,
    "lenVar": 40
   },
   "kernels_config": {
    "python": {
     "delete_cmd_postfix": "",
     "delete_cmd_prefix": "del ",
     "library": "var_list.py",
     "varRefreshCmd": "print(var_dic_list())"
    },
    "r": {
     "delete_cmd_postfix": ") ",
     "delete_cmd_prefix": "rm(",
     "library": "var_list.r",
     "varRefreshCmd": "cat(var_dic_list()) "
    }
   },
   "types_to_exclude": [
    "module",
    "function",
    "builtin_function_or_method",
    "instance",
    "_Feature"
   ],
   "window_display": false
  }
 },
 "nbformat": 4,
 "nbformat_minor": 2
}

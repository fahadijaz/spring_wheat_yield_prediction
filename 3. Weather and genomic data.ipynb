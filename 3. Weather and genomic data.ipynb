{
 "cells": [
  {
   "cell_type": "markdown",
   "metadata": {},
   "source": [
    "# Weather and Genomics Data"
   ]
  },
  {
   "cell_type": "markdown",
   "metadata": {},
   "source": [
    "Note: Half datasets, with separate files for east and west subplots have been merged manually in excel"
   ]
  },
  {
   "cell_type": "code",
   "execution_count": 2,
   "metadata": {
    "ExecuteTime": {
     "end_time": "2021-10-13T20:18:41.160761Z",
     "start_time": "2021-10-13T20:18:39.315695Z"
    }
   },
   "outputs": [
    {
     "name": "stdout",
     "output_type": "stream",
     "text": [
      "Wall time: 1.84 s\n"
     ]
    }
   ],
   "source": [
    "%%time\n",
    "\n",
    "import os\n",
    "import math\n",
    "import datetime\n",
    "import numpy as np\n",
    "import pandas as pd\n",
    "from copy import copy\n",
    "\n",
    "# Dictionaries\n",
    "import json\n",
    "from pprint import pprint\n",
    "\n",
    "# Iterate in loops\n",
    "from itertools import zip_longest\n",
    "\n",
    "# Simpsons integration\n",
    "from numpy import trapz\n",
    "from scipy.integrate import simps\n",
    "\n",
    "# Visualisation\n",
    "import seaborn as sns\n",
    "import matplotlib.pyplot as plt\n",
    "\n",
    "# To display df nicely in loops\n",
    "from IPython.display import display \n",
    "# display(df1.head()) \n",
    "# display(df2.head())\n",
    "\n",
    "# Display rows and columns Pandas\n",
    "pd.options.display.max_columns = 100\n",
    "pd.set_option('display.max_rows',100)"
   ]
  },
  {
   "cell_type": "code",
   "execution_count": null,
   "metadata": {},
   "outputs": [],
   "source": []
  },
  {
   "cell_type": "code",
   "execution_count": 3,
   "metadata": {
    "ExecuteTime": {
     "end_time": "2021-10-13T20:18:41.175721Z",
     "start_time": "2021-10-13T20:18:41.163755Z"
    }
   },
   "outputs": [
    {
     "data": {
      "text/plain": [
       "'C:\\\\Users\\\\fahad\\\\MegaSync\\\\NMBU\\\\GitHub\\\\vPheno'"
      ]
     },
     "execution_count": 3,
     "metadata": {},
     "output_type": "execute_result"
    }
   ],
   "source": [
    "# Prints the current working directory\n",
    "os.getcwd()\n",
    "# os.listdir()"
   ]
  },
  {
   "cell_type": "markdown",
   "metadata": {},
   "source": [
    "## Finding Username folder to make general path for multi PC use"
   ]
  },
  {
   "cell_type": "code",
   "execution_count": 4,
   "metadata": {
    "ExecuteTime": {
     "end_time": "2021-10-13T20:18:41.191678Z",
     "start_time": "2021-10-13T20:18:41.179712Z"
    },
    "scrolled": true
   },
   "outputs": [
    {
     "data": {
      "text/plain": [
       "('fahad', 'C:/Users/fahad/')"
      ]
     },
     "execution_count": 4,
     "metadata": {},
     "output_type": "execute_result"
    }
   ],
   "source": [
    "username = str(os.getcwd()).split('\\\\')[2]\n",
    "user_path = r'C:/Users/'+username+'/'\n",
    "username, user_path"
   ]
  },
  {
   "cell_type": "markdown",
   "metadata": {},
   "source": [
    "## Importing Data"
   ]
  },
  {
   "cell_type": "code",
   "execution_count": 5,
   "metadata": {
    "ExecuteTime": {
     "end_time": "2021-10-13T20:18:41.207640Z",
     "start_time": "2021-10-13T20:18:41.195668Z"
    }
   },
   "outputs": [
    {
     "data": {
      "text/plain": [
       "['Graminor_2019_all.csv',\n",
       " 'Graminor_2020_all.csv',\n",
       " 'Masbasis_2019_all.csv',\n",
       " 'Masbasis_2020_all_lodg.csv',\n",
       " 'Robot_2020_all.csv',\n",
       " 'Staur_2019_all.csv',\n",
       " 'Staur_2020_all_lodg.csv']"
      ]
     },
     "execution_count": 5,
     "metadata": {},
     "output_type": "execute_result"
    }
   ],
   "source": [
    "main_path = r'./Data/'\n",
    "path = r'./Data/2. renamed_merged/'\n",
    "export_path = r'./Data/3. merged data/'\n",
    "# temp_export_path = r'./Data/3. Temp_Data/'\n",
    "weather_data = user_path+r'\\\\MegaSync\\NMBU\\Master Thesis\\Data\\Weather\\Weather_Data.csv'\n",
    "genomics_data = user_path+r'\\\\MegaSync\\NMBU\\Master Thesis\\Data\\Genomics\\\\'\n",
    "\n",
    "# Create export_path folder if not exists already\n",
    "os.makedirs(path, exist_ok=True)\n",
    "os.makedirs(export_path, exist_ok=True)\n",
    "# os.makedirs(temp_export_path, exist_ok=True)\n",
    "\n",
    "os.listdir(path)"
   ]
  },
  {
   "cell_type": "markdown",
   "metadata": {},
   "source": [
    "## Data Preparation\n",
    "### Creating list of complete files"
   ]
  },
  {
   "cell_type": "code",
   "execution_count": 6,
   "metadata": {
    "ExecuteTime": {
     "end_time": "2021-10-13T20:18:41.222595Z",
     "start_time": "2021-10-13T20:18:41.210628Z"
    }
   },
   "outputs": [
    {
     "name": "stdout",
     "output_type": "stream",
     "text": [
      "7 files found in the directory\n"
     ]
    },
    {
     "data": {
      "text/plain": [
       "['Graminor_2019_all.csv',\n",
       " 'Graminor_2020_all.csv',\n",
       " 'Masbasis_2019_all.csv',\n",
       " 'Masbasis_2020_all_lodg.csv',\n",
       " 'Robot_2020_all.csv',\n",
       " 'Staur_2019_all.csv',\n",
       " 'Staur_2020_all_lodg.csv']"
      ]
     },
     "execution_count": 6,
     "metadata": {},
     "output_type": "execute_result"
    }
   ],
   "source": [
    "# Get the list of all files in directory tree at given path\n",
    "\n",
    "files_with_address = []\n",
    "files_list = []\n",
    "\n",
    "for (dirpath, dirnames, filenames) in os.walk(path):\n",
    "    files_with_address += [os.path.join(dirpath, file) for file in filenames]\n",
    "    files_list.extend(filenames)\n",
    "    \n",
    "print(len(files_with_address), 'files found in the directory')\n",
    "# files_with_address\n",
    "files_list"
   ]
  },
  {
   "cell_type": "markdown",
   "metadata": {},
   "source": [
    "## Data Checking/control"
   ]
  },
  {
   "cell_type": "markdown",
   "metadata": {
    "run_control": {
     "marked": true
    }
   },
   "source": [
    "### Check for duplicate filenames"
   ]
  },
  {
   "cell_type": "code",
   "execution_count": 7,
   "metadata": {
    "ExecuteTime": {
     "end_time": "2021-10-13T20:18:41.237556Z",
     "start_time": "2021-10-13T20:18:41.226586Z"
    }
   },
   "outputs": [
    {
     "name": "stdout",
     "output_type": "stream",
     "text": [
      "Total number of files are : 7\n",
      "Number of unique file names are: 7\n",
      "There is/are 0 duplicate file name/names.\n"
     ]
    }
   ],
   "source": [
    "print('Total number of files are :', len(files_list))\n",
    "\n",
    "print('Number of unique file names are:', len(set(files_list)))\n",
    "\n",
    "print('There is/are', len(files_list) - len(set(files_list)),'duplicate file name/names.')\n",
    "if len(files_list) - len(set(files_list)) > 0:\n",
    "    raise NameError"
   ]
  },
  {
   "cell_type": "markdown",
   "metadata": {},
   "source": [
    "## Importing data files to Pandas"
   ]
  },
  {
   "cell_type": "code",
   "execution_count": 8,
   "metadata": {
    "ExecuteTime": {
     "end_time": "2021-10-13T20:18:42.072324Z",
     "start_time": "2021-10-13T20:18:41.240556Z"
    }
   },
   "outputs": [
    {
     "name": "stdout",
     "output_type": "stream",
     "text": [
      "Graminor_2019_all ===== (600, 378)\n",
      "Graminor_2020_all ===== (800, 378)\n",
      "Masbasis_2019_all ===== (528, 278)\n",
      "Masbasis_2020_all_lodg ===== (659, 416)\n",
      "Robot_2020_all ===== (96, 484)\n",
      "Staur_2019_all ===== (1328, 175)\n",
      "Staur_2020_all_lodg ===== (1504, 209)\n",
      "Wall time: 823 ms\n"
     ]
    }
   ],
   "source": [
    "   \n",
    "%%time\n",
    "\n",
    "all_df = []\n",
    "for data in files_with_address:\n",
    "    file_name = os.path.splitext(os.path.basename(data))[0]\n",
    "\n",
    "    # Replce all invalid characters in the name\n",
    "    file_name = file_name.replace(\" \", \"_\")\n",
    "    file_name = file_name.replace(\"-\", \"_\")\n",
    "    file_name = file_name.replace(\")\", \"\")\n",
    "    file_name = file_name.replace(\"(\", \"\")\n",
    "    df_name = file_name.replace(\".\", \"\")\n",
    "    # Test: Check if the same date is already present in the current dict key\n",
    "    if df_name in all_df:\n",
    "        print(f'A file with the same name {df_name} has already been imported. \\n Please check if there is duplication of data.')\n",
    "        raise NameError\n",
    "    all_df.append(df_name)\n",
    "\n",
    "    locals()[df_name] = pd.read_csv(data, index_col=False)\n",
    "    print(df_name, '=====', locals()[df_name].shape)\n",
    "# all_df"
   ]
  },
  {
   "cell_type": "code",
   "execution_count": 9,
   "metadata": {
    "ExecuteTime": {
     "end_time": "2021-10-13T20:18:42.087283Z",
     "start_time": "2021-10-13T20:18:42.075316Z"
    },
    "scrolled": true
   },
   "outputs": [
    {
     "name": "stdout",
     "output_type": "stream",
     "text": [
      "Total imported 7\n"
     ]
    },
    {
     "data": {
      "text/plain": [
       "['Graminor_2019_all',\n",
       " 'Graminor_2020_all',\n",
       " 'Masbasis_2019_all',\n",
       " 'Masbasis_2020_all_lodg',\n",
       " 'Robot_2020_all',\n",
       " 'Staur_2019_all',\n",
       " 'Staur_2020_all_lodg']"
      ]
     },
     "execution_count": 9,
     "metadata": {},
     "output_type": "execute_result"
    }
   ],
   "source": [
    "print(f'Total imported {len(all_df)}')\n",
    "all_df"
   ]
  },
  {
   "cell_type": "markdown",
   "metadata": {},
   "source": [
    "## Summary of imported data"
   ]
  },
  {
   "cell_type": "code",
   "execution_count": 10,
   "metadata": {
    "ExecuteTime": {
     "end_time": "2021-10-13T20:18:42.103241Z",
     "start_time": "2021-10-13T20:18:42.090277Z"
    }
   },
   "outputs": [
    {
     "name": "stdout",
     "output_type": "stream",
     "text": [
      "Graminor_2019_all (600, 378)\n",
      "Graminor_2020_all (800, 378)\n",
      "Masbasis_2019_all (528, 278)\n",
      "Masbasis_2020_all_lodg (659, 416)\n",
      "Robot_2020_all (96, 484)\n",
      "Staur_2019_all (1328, 175)\n",
      "Staur_2020_all_lodg (1504, 209)\n"
     ]
    }
   ],
   "source": [
    "for df in all_df:\n",
    "    temp_df = locals()[df].copy()\n",
    "    print(df, temp_df.shape)"
   ]
  },
  {
   "cell_type": "markdown",
   "metadata": {},
   "source": [
    "## GrainYield data "
   ]
  },
  {
   "cell_type": "code",
   "execution_count": 11,
   "metadata": {
    "ExecuteTime": {
     "end_time": "2021-10-13T20:18:42.135156Z",
     "start_time": "2021-10-13T20:18:42.105238Z"
    }
   },
   "outputs": [
    {
     "name": "stdout",
     "output_type": "stream",
     "text": [
      "Graminor_2019_all\n",
      "Grain Yield data missing for  1 out of  600\n",
      "Graminor_2020_all\n",
      "Grain Yield data missing for  1 out of  800\n",
      "Masbasis_2019_all\n",
      "Grain Yield data missing for  6 out of  528\n",
      "Masbasis_2020_all_lodg\n",
      "Grain Yield data missing for  116 out of  659\n",
      "Robot_2020_all\n",
      "Grain Yield data missing for  0 out of  96\n",
      "Staur_2019_all\n",
      "Grain Yield data missing for  0 out of  1328\n",
      "Staur_2020_all_lodg\n",
      "Grain Yield data missing for  568 out of  1504\n"
     ]
    }
   ],
   "source": [
    "# Masbasis_2019_Simps.info(null_counts=True)\n",
    "for df in all_df:\n",
    "    temp_df = locals()[df].copy()\n",
    "#     print('*************', df, '**************')\n",
    "#     print(locals()[df].info())\n",
    "\n",
    "    print (df)\n",
    "    print('Grain Yield data missing for ', temp_df['GrainYield'].isna().sum(), 'out of ', temp_df.shape[0])\n",
    "# Graminor_2019_Simps.info()"
   ]
  },
  {
   "cell_type": "markdown",
   "metadata": {},
   "source": [
    "# Looking for zero values in data"
   ]
  },
  {
   "cell_type": "code",
   "execution_count": 12,
   "metadata": {
    "ExecuteTime": {
     "end_time": "2021-10-13T20:18:43.023784Z",
     "start_time": "2021-10-13T20:18:42.136153Z"
    }
   },
   "outputs": [
    {
     "name": "stdout",
     "output_type": "stream",
     "text": [
      "Masbasis_2020_all_lodg Lodging 502\n",
      "Staur_2020_all_lodg Lodging 157\n"
     ]
    }
   ],
   "source": [
    "# Masbasis_2019_Simps.info(null_counts=True)\n",
    "for df in all_df:\n",
    "    temp_df = locals()[df].copy()\n",
    "    for col in temp_df.columns.to_list():\n",
    "        if (temp_df[col]==0).sum() >0:\n",
    "#             print(temp_df.columns.to_list())\n",
    "            print(df, col, (temp_df[col]==0).sum())"
   ]
  },
  {
   "cell_type": "markdown",
   "metadata": {},
   "source": [
    "Zeros only present in Lodging columns where present in the dataset."
   ]
  },
  {
   "cell_type": "markdown",
   "metadata": {},
   "source": [
    "# Finding yield columns"
   ]
  },
  {
   "cell_type": "code",
   "execution_count": 13,
   "metadata": {
    "ExecuteTime": {
     "end_time": "2021-10-13T20:18:43.053705Z",
     "start_time": "2021-10-13T20:18:43.026780Z"
    }
   },
   "outputs": [
    {
     "name": "stdout",
     "output_type": "stream",
     "text": [
      "\"GrainYield\" column in Graminor_2019_all is the yield column\n",
      " as it contains the text \"GrainYield\". It is located at location 6\n",
      "\"Name\" column in Graminor_2019_all is the yield column\n",
      " as it contains the text \"Name\". It is located at location 7\n",
      "\"Pedigree\" column in Graminor_2019_all is the yield column\n",
      " as it contains the text \"Pedigree\". It is located at location 8\n",
      "\"GrainYield\" column in Graminor_2020_all is the yield column\n",
      " as it contains the text \"GrainYield\". It is located at location 6\n",
      "\"Name\" column in Graminor_2020_all is the yield column\n",
      " as it contains the text \"Name\". It is located at location 7\n",
      "\"Pedigree\" column in Graminor_2020_all is the yield column\n",
      " as it contains the text \"Pedigree\". It is located at location 8\n",
      "\"GrainYield\" column in Masbasis_2019_all is the yield column\n",
      " as it contains the text \"GrainYield\". It is located at location 6\n",
      "\"Name\" column in Masbasis_2019_all is the yield column\n",
      " as it contains the text \"Name\". It is located at location 7\n",
      "\"Line\" column in Masbasis_2019_all is the yield column\n",
      " as it contains the text \"Line\". It is located at location 8\n",
      "\"Days2Heading\" column in Masbasis_2019_all is the yield column\n",
      " as it contains the text \"Days2Heading\". It is located at location 9\n",
      "\"Days2Maturity\" column in Masbasis_2019_all is the yield column\n",
      " as it contains the text \"Days2Maturity\". It is located at location 10\n",
      "\"GrainYield\" column in Masbasis_2020_all_lodg is the yield column\n",
      " as it contains the text \"GrainYield\". It is located at location 6\n",
      "\"Name\" column in Masbasis_2020_all_lodg is the yield column\n",
      " as it contains the text \"Name\". It is located at location 7\n",
      "\"Line\" column in Masbasis_2020_all_lodg is the yield column\n",
      " as it contains the text \"Line\". It is located at location 8\n",
      "\"Maturity_Date\" column in Masbasis_2020_all_lodg is the yield column\n",
      " as it contains the text \"Maturity_Date\". It is located at location 9\n",
      "\"Days2Heading\" column in Masbasis_2020_all_lodg is the yield column\n",
      " as it contains the text \"Days2Heading\". It is located at location 10\n",
      "\"Days2Maturity\" column in Masbasis_2020_all_lodg is the yield column\n",
      " as it contains the text \"Days2Maturity\". It is located at location 11\n",
      "\"Lodging\" column in Masbasis_2020_all_lodg is the yield column\n",
      " as it contains the text \"Lodging\". It is located at location 12\n",
      "\"GrainYield\" column in Robot_2020_all is the yield column\n",
      " as it contains the text \"GrainYield\". It is located at location 6\n",
      "\"Name\" column in Robot_2020_all is the yield column\n",
      " as it contains the text \"Name\". It is located at location 7\n",
      "\"CodeName\" column in Robot_2020_all is the yield column\n",
      " as it contains the text \"CodeName\". It is located at location 8\n",
      "\"Heading_Date\" column in Robot_2020_all is the yield column\n",
      " as it contains the text \"Heading_Date\". It is located at location 9\n",
      "\"Maturity_Date\" column in Robot_2020_all is the yield column\n",
      " as it contains the text \"Maturity_Date\". It is located at location 10\n",
      "\"Days2Heading\" column in Robot_2020_all is the yield column\n",
      " as it contains the text \"Days2Heading\". It is located at location 11\n",
      "\"Days2Maturity\" column in Robot_2020_all is the yield column\n",
      " as it contains the text \"Days2Maturity\". It is located at location 12\n",
      "\"GrainYield\" column in Staur_2019_all is the yield column\n",
      " as it contains the text \"GrainYield\". It is located at location 6\n",
      "\"Line\" column in Staur_2019_all is the yield column\n",
      " as it contains the text \"Line\". It is located at location 7\n",
      "\"Days2Heading\" column in Staur_2019_all is the yield column\n",
      " as it contains the text \"Days2Heading\". It is located at location 8\n",
      "\"Days2Maturity\" column in Staur_2019_all is the yield column\n",
      " as it contains the text \"Days2Maturity\". It is located at location 9\n",
      "\"GrainYield\" column in Staur_2020_all_lodg is the yield column\n",
      " as it contains the text \"GrainYield\". It is located at location 6\n",
      "\"Name\" column in Staur_2020_all_lodg is the yield column\n",
      " as it contains the text \"Name\". It is located at location 7\n",
      "\"Pedigree\" column in Staur_2020_all_lodg is the yield column\n",
      " as it contains the text \"Pedigree\". It is located at location 8\n",
      "\"Lodging\" column in Staur_2020_all_lodg is the yield column\n",
      " as it contains the text \"Lodging\". It is located at location 9\n"
     ]
    },
    {
     "data": {
      "text/plain": [
       "{'GrainYield_Graminor_2019_all': 6,\n",
       " 'Name_Graminor_2019_all': 7,\n",
       " 'Pedigree_Graminor_2019_all': 8,\n",
       " 'GrainYield_Graminor_2020_all': 6,\n",
       " 'Name_Graminor_2020_all': 7,\n",
       " 'Pedigree_Graminor_2020_all': 8,\n",
       " 'GrainYield_Masbasis_2019_all': 6,\n",
       " 'Name_Masbasis_2019_all': 7,\n",
       " 'Line_Masbasis_2019_all': 8,\n",
       " 'Days2Heading_Masbasis_2019_all': 9,\n",
       " 'Days2Maturity_Masbasis_2019_all': 10,\n",
       " 'GrainYield_Masbasis_2020_all_lodg': 6,\n",
       " 'Name_Masbasis_2020_all_lodg': 7,\n",
       " 'Line_Masbasis_2020_all_lodg': 8,\n",
       " 'Maturity_Date_Masbasis_2020_all_lodg': 9,\n",
       " 'Days2Heading_Masbasis_2020_all_lodg': 10,\n",
       " 'Days2Maturity_Masbasis_2020_all_lodg': 11,\n",
       " 'Lodging_Masbasis_2020_all_lodg': 12,\n",
       " 'GrainYield_Robot_2020_all': 6,\n",
       " 'Name_Robot_2020_all': 7,\n",
       " 'CodeName_Robot_2020_all': 8,\n",
       " 'Heading_Date_Robot_2020_all': 9,\n",
       " 'Maturity_Date_Robot_2020_all': 10,\n",
       " 'Days2Heading_Robot_2020_all': 11,\n",
       " 'Days2Maturity_Robot_2020_all': 12,\n",
       " 'GrainYield_Staur_2019_all': 6,\n",
       " 'Line_Staur_2019_all': 7,\n",
       " 'Days2Heading_Staur_2019_all': 8,\n",
       " 'Days2Maturity_Staur_2019_all': 9,\n",
       " 'GrainYield_Staur_2020_all_lodg': 6,\n",
       " 'Name_Staur_2020_all_lodg': 7,\n",
       " 'Pedigree_Staur_2020_all_lodg': 8,\n",
       " 'Lodging_Staur_2020_all_lodg': 9}"
      ]
     },
     "execution_count": 13,
     "metadata": {},
     "output_type": "execute_result"
    }
   ],
   "source": [
    "# ToDo: Add check for duplicate columns in the df\n",
    "\n",
    "general_col_names = ['Plot_ID', 'Blue', 'Green', 'Red', 'RedEdge', 'NIR']\n",
    "\n",
    "base_indices = ['Blue', 'Green', 'Red', 'RedEdge', 'NIR']\n",
    "\n",
    "spectral_indices = ['NDVI', 'MTCI', 'DVI', 'GDVI', 'MTCI_CI', 'EXG', 'EXGR', 'RDVI',\n",
    "                    'TDVI', 'GNDVI', 'NDRE', 'SCCI', 'EVI', 'TVI', 'VARI', 'GARI',\n",
    "                    'GCI', 'GLI', 'NLI', 'MNLI', 'SAVI', 'GSAVI', 'OSAVI', 'GOSAVI',\n",
    "                    'MSAVI2', 'MSR', 'GRVI', 'WDRVI', 'SR']\n",
    "# list_agg_df\n",
    "yield_cols = ['GrainYield', 'Name', 'CodeName', 'Pedigree', 'Line', 'Heading_Date',\n",
    "              'Maturity_Date', 'Days2Heading', 'Days2Maturity', 'Lodging']\n",
    "\n",
    "id_cols_new = ['Plot_ID']\n",
    "\n",
    "# Counter for location of column in columns list\n",
    "\n",
    "# Dict for saving the name and location of the yield column/s\n",
    "loc_yield_cols = {}\n",
    "for df in all_df:\n",
    "    loc = 0\n",
    "    for cols in locals()[df].columns.tolist():\n",
    "        for y_col in yield_cols:\n",
    "            if not cols.find(y_col):\n",
    "                loc_yield_cols[cols+'_'+df] = loc\n",
    "                print(f'\\\"{cols}\\\" column in {df} is the yield column\\n as it contains the text \\\"{y_col}\\\". It is located at location {loc}')\n",
    "        loc += 1\n",
    "\n",
    "    yield_cols_found = list(loc_yield_cols.keys())\n",
    "    target_cols=yield_cols_found[0]\n",
    "loc_yield_cols"
   ]
  },
  {
   "cell_type": "markdown",
   "metadata": {},
   "source": [
    "# Finding dates between heading and maturity"
   ]
  },
  {
   "cell_type": "code",
   "execution_count": 14,
   "metadata": {
    "ExecuteTime": {
     "end_time": "2021-10-13T20:18:43.069660Z",
     "start_time": "2021-10-13T20:18:43.057693Z"
    }
   },
   "outputs": [
    {
     "data": {
      "text/plain": [
       "['GrainYield',\n",
       " 'Name',\n",
       " 'CodeName',\n",
       " 'Pedigree',\n",
       " 'Line',\n",
       " 'Heading_Date',\n",
       " 'Maturity_Date',\n",
       " 'Days2Heading',\n",
       " 'Days2Maturity',\n",
       " 'Lodging']"
      ]
     },
     "execution_count": 14,
     "metadata": {},
     "output_type": "execute_result"
    }
   ],
   "source": [
    "yield_cols"
   ]
  },
  {
   "cell_type": "code",
   "execution_count": 15,
   "metadata": {
    "ExecuteTime": {
     "end_time": "2021-10-13T20:18:43.085619Z",
     "start_time": "2021-10-13T20:18:43.071656Z"
    }
   },
   "outputs": [
    {
     "name": "stdout",
     "output_type": "stream",
     "text": [
      "Masbasis_2019_all\n",
      "Masbasis_2020_all_lodg\n",
      "Robot_2020_all\n",
      "Staur_2019_all\n"
     ]
    },
    {
     "data": {
      "text/plain": [
       "['Graminor_2019_all',\n",
       " 'Graminor_2020_all',\n",
       " 'Masbasis_2019_all',\n",
       " 'Masbasis_2020_all_lodg',\n",
       " 'Robot_2020_all',\n",
       " 'Staur_2019_all',\n",
       " 'Staur_2020_all_lodg']"
      ]
     },
     "execution_count": 15,
     "metadata": {},
     "output_type": "execute_result"
    }
   ],
   "source": [
    "for df in all_df:\n",
    "    temp_df = locals()[df].copy()\n",
    "    if 'Days2Maturity' in temp_df.columns:\n",
    "        print(df)\n",
    "all_df"
   ]
  },
  {
   "cell_type": "markdown",
   "metadata": {},
   "source": [
    "## Declaring the important dates for each field"
   ]
  },
  {
   "cell_type": "code",
   "execution_count": 16,
   "metadata": {
    "ExecuteTime": {
     "end_time": "2021-10-13T20:18:43.100579Z",
     "start_time": "2021-10-13T20:18:43.087615Z"
    }
   },
   "outputs": [],
   "source": [
    "# Dates listed in dict in order; sowing, heading, maturity\n",
    "# The order of fields must be the same as in all_df list\n",
    "# sowing_dict = {\n",
    "#     'Graminor_2019': ['240419', 'XX', 'XX'],\n",
    "#     'Graminor_2020': ['150420', 'XX', 'XX'],\n",
    "#     'Masbasis_2019': ['190519', 'XX', 'XX'],\n",
    "#     'Masbasis_2020': ['150520', 'XX', 'XX'],\n",
    "#     'Robot_2020': ['200420', '170620', '310720'],\n",
    "#     'Staur_2019': ['040619', 'XX', 'XX'],\n",
    "#     'Staur_2020': ['210420', 'XX', 'XX'],\n",
    "# }\n",
    "\n",
    "sowing_dict = {\n",
    "    'Graminor_2019': '240419',\n",
    "    'Graminor_2020': '150420',\n",
    "    'Masbasis_2019': '190519',\n",
    "    'Masbasis_2020': '150520',\n",
    "    'Robot_2020': '200420',\n",
    "    'Staur_2019': '040619',\n",
    "    'Staur_2020': '210420',\n",
    "}\n"
   ]
  },
  {
   "cell_type": "markdown",
   "metadata": {},
   "source": [
    "## Filtering df which have Days2Maturity and Days2Heading "
   ]
  },
  {
   "cell_type": "code",
   "execution_count": 17,
   "metadata": {
    "ExecuteTime": {
     "end_time": "2021-10-13T20:18:43.130498Z",
     "start_time": "2021-10-13T20:18:43.102575Z"
    }
   },
   "outputs": [
    {
     "data": {
      "text/plain": [
       "{'Graminor_2019_all': '240419',\n",
       " 'Graminor_2020_all': '150420',\n",
       " 'Masbasis_2019_all': '190519',\n",
       " 'Masbasis_2020_all_lodg': '150520',\n",
       " 'Robot_2020_all': '200420',\n",
       " 'Staur_2019_all': '040619',\n",
       " 'Staur_2020_all_lodg': '210420'}"
      ]
     },
     "execution_count": 17,
     "metadata": {},
     "output_type": "execute_result"
    }
   ],
   "source": [
    "# If the dataset had Days 2 heading and days to maturity columns then create the\n",
    "# following dictionary with the respective sowing dates of each field as value\n",
    "all_df_sowing = {}\n",
    "\n",
    "for df in all_df:\n",
    "    temp_df = locals()[df].copy()\n",
    "    field_temp = df.split('_')[0]+'_'+df.split('_')[1]\n",
    "#     if 'Days2Heading' in temp_df.columns and 'Days2Maturity' in temp_df.columns:\n",
    "#         print(df)\n",
    "#         all_df_sowing[df] = sowing_dict[field_temp]\n",
    "    all_df_sowing[df] = sowing_dict[field_temp]\n",
    "\n",
    "all_df_sowing"
   ]
  },
  {
   "cell_type": "markdown",
   "metadata": {},
   "source": [
    "## Average DH and DM"
   ]
  },
  {
   "cell_type": "code",
   "execution_count": 18,
   "metadata": {
    "ExecuteTime": {
     "end_time": "2021-10-13T20:18:43.161416Z",
     "start_time": "2021-10-13T20:18:43.132494Z"
    },
    "run_control": {
     "marked": true
    }
   },
   "outputs": [
    {
     "data": {
      "text/plain": [
       "{'Masbasis_2019_all': [68.18939393939394, 108.64393939393939],\n",
       " 'Masbasis_2020_all_lodg': [66.28983308042488, 87.94881170018282],\n",
       " 'Robot_2020_all': [61.09375, 110.84375],\n",
       " 'Staur_2019_all': [48.53333333333333, 101.25757575757575]}"
      ]
     },
     "execution_count": 18,
     "metadata": {},
     "output_type": "execute_result"
    }
   ],
   "source": [
    "# Creating a dictionary with average Days2Heading and Days2Maturity for fields whose data is available\n",
    "dict_avg_dh_dm = {}\n",
    "df_dh_dm = []\n",
    "for df in all_df_sowing.keys():\n",
    "    temp_df = locals()[df].copy()\n",
    "\n",
    "#     print('Days2Heading')\n",
    "#     print(locals()[df].Days2Heading.min(), ':      ', locals()[df].Days2Heading.max(), ':     ', locals()[df].Days2Heading.mean())\n",
    "#     print('Days2Maturity')\n",
    "#     print(locals()[df].Days2Maturity.min(), ':      ', locals()[df].Days2Maturity.max(), ':     ', locals()[df].Days2Maturity.mean())\n",
    "\n",
    "    if 'Days2Heading' in temp_df.columns and 'Days2Maturity' in temp_df.columns:\n",
    "        df_dh_dm.append(df)\n",
    "        dict_avg_dh_dm[df] = [locals()[df].Days2Heading.mean(), locals()[df].Days2Maturity.mean()]\n",
    "dict_avg_dh_dm\n"
   ]
  },
  {
   "cell_type": "code",
   "execution_count": 19,
   "metadata": {
    "ExecuteTime": {
     "end_time": "2021-10-13T20:18:43.191337Z",
     "start_time": "2021-10-13T20:18:43.163411Z"
    }
   },
   "outputs": [
    {
     "name": "stdout",
     "output_type": "stream",
     "text": [
      "Average Days2Heading is 61.026577588288035\n",
      "Average Days2Maturity is 102.17351921292449\n"
     ]
    }
   ],
   "source": [
    "from statistics import mean\n",
    "\n",
    "list_dh = []\n",
    "list_dm = []\n",
    "for field, dhdm in dict_avg_dh_dm.items():\n",
    "    list_dh.append(dhdm[0])\n",
    "    list_dm.append(dhdm[1])\n",
    "mean_dh = mean(list_dh)\n",
    "mean_dm = mean(list_dm)\n",
    "print(f'Average Days2Heading is {mean_dh}')\n",
    "print(f'Average Days2Maturity is {mean_dm}')\n"
   ]
  },
  {
   "cell_type": "markdown",
   "metadata": {},
   "source": [
    "# Integration"
   ]
  },
  {
   "cell_type": "code",
   "execution_count": 20,
   "metadata": {
    "ExecuteTime": {
     "end_time": "2021-10-13T20:18:43.206298Z",
     "start_time": "2021-10-13T20:18:43.193331Z"
    }
   },
   "outputs": [],
   "source": [
    "from scipy.integrate import simps\n",
    "from numpy import trapz\n",
    "from scipy.integrate import cumulative_trapezoid\n",
    "from scipy.integrate import romb"
   ]
  },
  {
   "cell_type": "markdown",
   "metadata": {},
   "source": [
    "## Testing different alternatives"
   ]
  },
  {
   "cell_type": "code",
   "execution_count": 21,
   "metadata": {
    "ExecuteTime": {
     "end_time": "2021-10-13T20:18:43.221259Z",
     "start_time": "2021-10-13T20:18:43.209289Z"
    }
   },
   "outputs": [],
   "source": [
    "# simps(temp_entries_dropna, days_sow)"
   ]
  },
  {
   "cell_type": "code",
   "execution_count": 22,
   "metadata": {
    "ExecuteTime": {
     "end_time": "2021-10-13T20:18:43.236217Z",
     "start_time": "2021-10-13T20:18:43.224248Z"
    },
    "run_control": {
     "marked": false
    }
   },
   "outputs": [],
   "source": [
    "# days_sow\n",
    "\n",
    "# days = [50, 64, 72, ((72 + 87) / 2), 87]\n",
    "# band = [21, 14, 9, ((9 + 2) / 2), 2]\n",
    "\n",
    "# days2 = [50, 64, 72, 87]\n",
    "# band2 = [21, 14, 9, 2]\n",
    "\n",
    "# simps(band, days), simps(band2, days2), "
   ]
  },
  {
   "cell_type": "code",
   "execution_count": 23,
   "metadata": {
    "ExecuteTime": {
     "end_time": "2021-10-13T20:18:43.251176Z",
     "start_time": "2021-10-13T20:18:43.239210Z"
    }
   },
   "outputs": [],
   "source": [
    "# temp_entries_dropna"
   ]
  },
  {
   "cell_type": "markdown",
   "metadata": {},
   "source": [
    "## Sahameh's Method of integration"
   ]
  },
  {
   "cell_type": "code",
   "execution_count": 24,
   "metadata": {
    "ExecuteTime": {
     "end_time": "2021-10-13T20:18:43.266136Z",
     "start_time": "2021-10-13T20:18:43.259155Z"
    }
   },
   "outputs": [],
   "source": [
    "# data\n",
    "# # plot: Plot ID\n",
    "# # x: Number of days after sowing or actual date\n",
    "# # y: Value of the index\n",
    "# temp_entries, days_sow\n",
    "# # x: Days from sowing to data collection\n",
    "# # May 5 2019 Masbasis and Graminor\n",
    "# # Robot: \n",
    "\n",
    "# data={'plot':['1','1','2','2','5'],'x':temp_entries,'y':days_sow }\n",
    "\n",
    "# ACC=[]\n",
    "# A=pd.DataFrame(data, columns=['plot','x','y'])\n",
    "# AA=0\n",
    "\n",
    "# for item in range(len(A)-1):\n",
    "#     if A['plot'][item]!= A['plot'][item+1]:\n",
    "#         Ans=(float((A['y'][item]))+float((A['y'][item+1])))*((float((A['x'][item+1]))-float((A['x'][item]))))/2\n",
    "#         AA+=Ans\n",
    "#         print(AA)\n",
    "#         ACC.append(AA)\n",
    "# ACC"
   ]
  },
  {
   "cell_type": "markdown",
   "metadata": {},
   "source": [
    "### Alternative"
   ]
  },
  {
   "cell_type": "code",
   "execution_count": 25,
   "metadata": {
    "ExecuteTime": {
     "end_time": "2021-10-13T20:18:43.281097Z",
     "start_time": "2021-10-13T20:18:43.270126Z"
    }
   },
   "outputs": [],
   "source": [
    "# df1=A.set_index(['Plot'])\n",
    "# ACC=[]\n",
    "\n",
    "# for item in Numbers_final:\n",
    "#     df2=df1[df1.index==item]\n",
    "#     df2=df2.filter(['X', 'Green', 'Red', 'RedEdge', 'NIR','NDVI', 'MTCI', 'EVI', 'DVI', 'RVI', 'VARI', 'EXG', 'EXGR', 'GLI', 'GNDVI', 'GVI','Time','timepoint'], axis=1)\n",
    "#     df2=df2.sort_values(by='timepoint')\n",
    "#     df3=df2.reset_index()\n",
    "\n",
    "# AA=0\n",
    "# for j in range(0,3):\n",
    "#     Ans=(float((df3['GVI'][j]))+float((df3['GVI'][j+1])))*((float((df3['timepoint'][j+1]))-float((df3['timepoint'][j]))))/2\n",
    "#     AA+=Ans\n",
    "\n",
    "#     print(AA)\n",
    "#     ACC.append(AA)\n",
    "\n",
    "\n",
    "\n",
    "# DA=pd.DataFrame(ACC)\n",
    "# DD=pd.DataFrame(Numbers_final)\n",
    "# DDA=pd.concat([DD, DA], axis=1)\n",
    "# DDA.to_excel('Staur_Accumulative_GVI_2019.xlsx')"
   ]
  },
  {
   "cell_type": "code",
   "execution_count": 26,
   "metadata": {
    "ExecuteTime": {
     "end_time": "2021-10-13T20:18:43.297055Z",
     "start_time": "2021-10-13T20:18:43.284090Z"
    }
   },
   "outputs": [
    {
     "data": {
      "text/plain": [
       "['Graminor_2019_all',\n",
       " 'Graminor_2020_all',\n",
       " 'Masbasis_2019_all',\n",
       " 'Masbasis_2020_all_lodg',\n",
       " 'Robot_2020_all',\n",
       " 'Staur_2019_all',\n",
       " 'Staur_2020_all_lodg']"
      ]
     },
     "execution_count": 26,
     "metadata": {},
     "output_type": "execute_result"
    }
   ],
   "source": [
    "all_df"
   ]
  },
  {
   "cell_type": "code",
   "execution_count": 27,
   "metadata": {
    "ExecuteTime": {
     "end_time": "2021-10-13T20:18:43.312015Z",
     "start_time": "2021-10-13T20:18:43.301046Z"
    }
   },
   "outputs": [
    {
     "data": {
      "text/plain": [
       "{'Graminor_2019_all': '240419',\n",
       " 'Graminor_2020_all': '150420',\n",
       " 'Masbasis_2019_all': '190519',\n",
       " 'Masbasis_2020_all_lodg': '150520',\n",
       " 'Robot_2020_all': '200420',\n",
       " 'Staur_2019_all': '040619',\n",
       " 'Staur_2020_all_lodg': '210420'}"
      ]
     },
     "execution_count": 27,
     "metadata": {},
     "output_type": "execute_result"
    }
   ],
   "source": [
    "all_df_sowing"
   ]
  },
  {
   "cell_type": "code",
   "execution_count": 28,
   "metadata": {
    "ExecuteTime": {
     "end_time": "2021-10-13T20:18:43.326973Z",
     "start_time": "2021-10-13T20:18:43.314009Z"
    }
   },
   "outputs": [
    {
     "data": {
      "text/plain": [
       "{'Masbasis_2019_all': '190519', 'Masbasis_2020_all_lodg': '150520'}"
      ]
     },
     "execution_count": 28,
     "metadata": {},
     "output_type": "execute_result"
    }
   ],
   "source": [
    "all_df_sowing_test = {\n",
    "    'Masbasis_2019_all': '190519',\n",
    "    'Masbasis_2020_all_lodg': '150520'\n",
    "}\n",
    "all_df_sowing_test"
   ]
  },
  {
   "cell_type": "markdown",
   "metadata": {},
   "source": [
    "## Creating df with Plot_ID and Grain_Yield only\n",
    "## Calculating AUC and creating new df with calculated values"
   ]
  },
  {
   "cell_type": "code",
   "execution_count": 29,
   "metadata": {
    "ExecuteTime": {
     "end_time": "2021-10-13T20:18:55.785455Z",
     "start_time": "2021-10-13T20:18:43.328970Z"
    }
   },
   "outputs": [
    {
     "name": "stdout",
     "output_type": "stream",
     "text": [
      "Masbasis_2019_Simps (528, 40) Masbasis_2019_Trapz (528, 40)\n",
      "Masbasis_2020_Simps (659, 42) Masbasis_2020_Trapz (659, 42)\n"
     ]
    }
   ],
   "source": [
    "simp_df_all = []\n",
    "trapz_df_all = []\n",
    "samples_record_simps = {}\n",
    "for df, sowing in all_df_sowing_test.items():\n",
    "\n",
    "    temp_df = locals()[df].copy()\n",
    "    cols = temp_df.columns\n",
    "    \n",
    "    # Creating a list of columns which other than the indices (ID and yield columns)\n",
    "    # Making a temp list of yield columns since all entries from yield cols are not present in every df\n",
    "    temp_yield_cols = [x for x in temp_df.columns if x in yield_cols]\n",
    "    non_indices_cols = id_cols_new+temp_yield_cols\n",
    "#     print(non_indices_cols)\n",
    "    \n",
    "    df_auc_simps = temp_df[non_indices_cols].copy()\n",
    "    df_auc_trapz = temp_df[non_indices_cols].copy()\n",
    "#     display(df_auc.head())\n",
    "\n",
    "    # Calculating AUC and creating new df with calculated values\n",
    "    temp_samples = {}\n",
    "    for col_name in base_indices+spectral_indices:\n",
    "        df_simp = []\n",
    "        df_trapz = []\n",
    "        # Making temp_cols list avoids problems finding and differentiating 'OSAVI' and 'GOSAVI'\n",
    "        temp_cols = [x for x in cols if col_name.split('_') == x.split('_')[:-1]]\n",
    "        temp_dates = [datetime.datetime.strptime(date.split('_')[-1], '%d%m%y').date() for date in temp_cols]\n",
    "\n",
    "        # Calculating the days from sowing,i.e. age of the crop in days\n",
    "        sowing_date = datetime.datetime.strptime(sowing, '%d%m%y').date() \n",
    "        \n",
    "        temp_samples_list = []\n",
    "        for sample in range(temp_df.shape[0]):\n",
    "            # Number of days since sowing for each entry\n",
    "            days_sow = [(x-sowing_date).days for x in temp_dates]\n",
    "            # The respective value of the index in question \n",
    "            temp_entries = [temp_df[x][sample] for x in temp_cols]\n",
    "\n",
    "            #### DROPPING DATES OUTSIDE HEADING AND MATURITY DATES ####\n",
    "            \n",
    "            # Determining Days2Heading values\n",
    "            if 'Days2Heading' in temp_df.columns:\n",
    "                # Days to heading for current sample \n",
    "                DH = temp_df.Days2Heading[sample]\n",
    "                # If DH is missing then use the smallest of Mean DH from fields whose DH is available\n",
    "                if str(DH)=='nan':\n",
    "                    DH = round(min(list_dh))\n",
    "            else:\n",
    "                DH = round(min(list_dh))\n",
    "                \n",
    "                \n",
    "                \n",
    "                \n",
    "            if 'Days2Maturity' in temp_df.columns:\n",
    "                # Days to maturity for current sample \n",
    "                DM = temp_df.Days2Maturity[sample]\n",
    "                # If DM is missing then use the largest of Mean DM from fields whose DM is available\n",
    "                if str(DM)=='nan':\n",
    "                    DM = round(max(list_dm))\n",
    "            else:\n",
    "                DM = round(max(list_dm))  \n",
    "                    \n",
    "            DH = int(DH)\n",
    "            DM = int(DM)\n",
    "            # Making sure that the maturity comes after heading\n",
    "            if DM < DH:\n",
    "                print(DM, DH)\n",
    "            assert DM > DH\n",
    "#             print(DM, DH)\n",
    "            heading_date = sowing_date + datetime.timedelta(days=DH)\n",
    "            maturity_date = sowing_date + datetime.timedelta(days=DM)\n",
    "            \n",
    "            # Replacing the respective values of items in temp_entries with np.nan which correspond \n",
    "            # to dates not in between heading and maturity for that specific sub-plot\n",
    "            temp_entries_filtered = [y if heading_date <= x <= maturity_date else np.nan for x,y in zip(temp_dates, temp_entries)]\n",
    "            \n",
    "            # Dropping missing(nan) values from the entries\n",
    "            temp_entries_dropna = [x for x in temp_entries_filtered if str(x) != 'nan']\n",
    "            days_before = days_sow.copy()\n",
    "            # Checking if the number of items in temp_entries_filtered and days_sow is the same\n",
    "            # If not, i.e., there are missing values(nan) in temp_entries_filtered then drop the\n",
    "            # respective entries from days_sow list\n",
    "            if not len(temp_entries_dropna) == len(days_sow):\n",
    "                # Dictionary comprehension\n",
    "                # Creating dictionary(dict comprehension) where temp_entries_filtered are not nan\n",
    "                dict_dropna = {i: [temp_entries_filtered[i], days_sow[i]] for i in range(len(temp_entries_filtered))\\\n",
    "                       if not str(temp_entries_filtered[i]) == 'nan' }\n",
    "                \n",
    "                # Checking if the previously created temp_entries_dropna is the same as the new that will\n",
    "                # be created from dict_dropna (Unnecessary check but curious to check if any problems arise)\n",
    "                assert temp_entries_dropna == [dict_dropna[i][0] for i in dict_dropna.keys()]\n",
    "                \n",
    "                # Creating new temp entries and days_sow after dropping nan and respective entries in days_sow\n",
    "                temp_entries_dropna = [dict_dropna[i][0] for i in dict_dropna.keys()]\n",
    "                days_sow = [dict_dropna[i][1] for i in dict_dropna.keys()]\n",
    "\n",
    "            # Checking if the lists have the same number of entries\n",
    "            if len(temp_entries_dropna) != len(days_sow):\n",
    "                print(df, col_name, temp_entries, days_before, temp_entries_dropna, days_sow, dict_dropna)\n",
    "            assert len(temp_entries_dropna) == len(days_sow)\n",
    "            \n",
    "            simps_value = simps(temp_entries_dropna, days_sow)\n",
    "            trapz_value = trapz(temp_entries_dropna, days_sow)\n",
    "            \n",
    "            df_simp.append(simps_value)\n",
    "            df_trapz.append(trapz_value)\n",
    "            \n",
    "#             if simps_value == 0:\n",
    "#                 print(temp_entries_filtered, days_before, temp_entries_dropna, days_sow)\n",
    "            # Adding values to a list for reference and record to verify the results and identify problems later\n",
    "            temp_samples_list.append([temp_df['Plot_ID'][sample], simps_value, trapz_value, temp_cols, temp_dates, sowing_date, DH, DM, heading_date, maturity_date, temp_entries, days_before, temp_entries_dropna, days_sow])\n",
    "        temp_samples[col_name] = temp_samples_list\n",
    "\n",
    "        # Insert the new column at the end, but before GrainYield\n",
    "        df_auc_simps.insert(len(df_auc_simps.columns)-1, col_name, df_simp)\n",
    "        df_auc_trapz.insert(len(df_auc_trapz.columns)-1, col_name, df_trapz)\n",
    "        \n",
    "    samples_record_simps[df.split('_')[0]+'_'+df.split('_')[1]] = temp_samples\n",
    "\n",
    "    # Adding the new name of the df to a list named simp_df_all\n",
    "    simp_df = df.split('_')[0]+'_'+df.split('_')[1]+'_Simps'\n",
    "    trapz_df = df.split('_')[0]+'_'+df.split('_')[1]+'_Trapz'\n",
    "\n",
    "    simp_df_all.append(simp_df)\n",
    "    trapz_df_all.append(trapz_df)\n",
    "    print(simp_df, df_auc_simps.shape, trapz_df, df_auc_trapz.shape)\n",
    "    locals()[simp_df] = df_auc_simps.copy()\n",
    "    locals()[trapz_df] = df_auc_trapz.copy()\n",
    "# simp_df_all, trapz_df_all"
   ]
  },
  {
   "cell_type": "markdown",
   "metadata": {},
   "source": [
    "## Looking for Zero values in data"
   ]
  },
  {
   "cell_type": "code",
   "execution_count": 30,
   "metadata": {
    "ExecuteTime": {
     "end_time": "2021-10-13T20:18:55.941039Z",
     "start_time": "2021-10-13T20:18:55.787450Z"
    }
   },
   "outputs": [
    {
     "name": "stdout",
     "output_type": "stream",
     "text": [
      "Masbasis_2019_Simps Blue 19\n",
      "Masbasis_2019_Simps Green 19\n",
      "Masbasis_2019_Simps Red 19\n",
      "Masbasis_2019_Simps RedEdge 19\n",
      "Masbasis_2019_Simps NIR 19\n",
      "Masbasis_2019_Simps NDVI 19\n",
      "Masbasis_2019_Simps MTCI 19\n",
      "Masbasis_2019_Simps DVI 19\n",
      "Masbasis_2019_Simps GDVI 19\n",
      "Masbasis_2019_Simps MTCI_CI 19\n",
      "Masbasis_2019_Simps EXG 19\n",
      "Masbasis_2019_Simps EXGR 19\n",
      "Masbasis_2019_Simps RDVI 19\n",
      "Masbasis_2019_Simps TDVI 19\n",
      "Masbasis_2019_Simps GNDVI 19\n",
      "Masbasis_2019_Simps NDRE 19\n",
      "Masbasis_2019_Simps SCCI 19\n",
      "Masbasis_2019_Simps EVI 19\n",
      "Masbasis_2019_Simps TVI 19\n",
      "Masbasis_2019_Simps VARI 19\n",
      "Masbasis_2019_Simps GARI 19\n",
      "Masbasis_2019_Simps GCI 19\n",
      "Masbasis_2019_Simps GLI 19\n",
      "Masbasis_2019_Simps NLI 19\n",
      "Masbasis_2019_Simps MNLI 19\n",
      "Masbasis_2019_Simps SAVI 19\n",
      "Masbasis_2019_Simps GSAVI 19\n",
      "Masbasis_2019_Simps OSAVI 19\n",
      "Masbasis_2019_Simps GOSAVI 19\n",
      "Masbasis_2019_Simps MSAVI2 19\n",
      "Masbasis_2019_Simps MSR 19\n",
      "Masbasis_2019_Simps GRVI 19\n",
      "Masbasis_2019_Simps WDRVI 19\n",
      "Masbasis_2019_Simps SR 19\n",
      "Masbasis_2020_Simps Blue 1\n",
      "Masbasis_2020_Simps Green 1\n",
      "Masbasis_2020_Simps Red 1\n",
      "Masbasis_2020_Simps RedEdge 1\n",
      "Masbasis_2020_Simps NIR 1\n",
      "Masbasis_2020_Simps NDVI 1\n",
      "Masbasis_2020_Simps MTCI 1\n",
      "Masbasis_2020_Simps DVI 1\n",
      "Masbasis_2020_Simps GDVI 1\n",
      "Masbasis_2020_Simps MTCI_CI 1\n",
      "Masbasis_2020_Simps EXG 1\n",
      "Masbasis_2020_Simps EXGR 1\n",
      "Masbasis_2020_Simps RDVI 1\n",
      "Masbasis_2020_Simps TDVI 1\n",
      "Masbasis_2020_Simps GNDVI 1\n",
      "Masbasis_2020_Simps NDRE 1\n",
      "Masbasis_2020_Simps SCCI 1\n",
      "Masbasis_2020_Simps EVI 1\n",
      "Masbasis_2020_Simps TVI 1\n",
      "Masbasis_2020_Simps VARI 1\n",
      "Masbasis_2020_Simps GARI 1\n",
      "Masbasis_2020_Simps GCI 1\n",
      "Masbasis_2020_Simps GLI 1\n",
      "Masbasis_2020_Simps NLI 1\n",
      "Masbasis_2020_Simps MNLI 1\n",
      "Masbasis_2020_Simps SAVI 1\n",
      "Masbasis_2020_Simps GSAVI 1\n",
      "Masbasis_2020_Simps OSAVI 1\n",
      "Masbasis_2020_Simps GOSAVI 1\n",
      "Masbasis_2020_Simps MSAVI2 1\n",
      "Masbasis_2020_Simps MSR 1\n",
      "Masbasis_2020_Simps GRVI 1\n",
      "Masbasis_2020_Simps WDRVI 1\n",
      "Masbasis_2020_Simps SR 1\n",
      "Masbasis_2019_Trapz Blue 19\n",
      "Masbasis_2019_Trapz Green 19\n",
      "Masbasis_2019_Trapz Red 19\n",
      "Masbasis_2019_Trapz RedEdge 19\n",
      "Masbasis_2019_Trapz NIR 19\n",
      "Masbasis_2019_Trapz NDVI 19\n",
      "Masbasis_2019_Trapz MTCI 19\n",
      "Masbasis_2019_Trapz DVI 19\n",
      "Masbasis_2019_Trapz GDVI 19\n",
      "Masbasis_2019_Trapz MTCI_CI 19\n",
      "Masbasis_2019_Trapz EXG 19\n",
      "Masbasis_2019_Trapz EXGR 19\n",
      "Masbasis_2019_Trapz RDVI 19\n",
      "Masbasis_2019_Trapz TDVI 19\n",
      "Masbasis_2019_Trapz GNDVI 19\n",
      "Masbasis_2019_Trapz NDRE 19\n",
      "Masbasis_2019_Trapz SCCI 19\n",
      "Masbasis_2019_Trapz EVI 19\n",
      "Masbasis_2019_Trapz TVI 19\n",
      "Masbasis_2019_Trapz VARI 19\n",
      "Masbasis_2019_Trapz GARI 19\n",
      "Masbasis_2019_Trapz GCI 19\n",
      "Masbasis_2019_Trapz GLI 19\n",
      "Masbasis_2019_Trapz NLI 19\n",
      "Masbasis_2019_Trapz MNLI 19\n",
      "Masbasis_2019_Trapz SAVI 19\n",
      "Masbasis_2019_Trapz GSAVI 19\n",
      "Masbasis_2019_Trapz OSAVI 19\n",
      "Masbasis_2019_Trapz GOSAVI 19\n",
      "Masbasis_2019_Trapz MSAVI2 19\n",
      "Masbasis_2019_Trapz MSR 19\n",
      "Masbasis_2019_Trapz GRVI 19\n",
      "Masbasis_2019_Trapz WDRVI 19\n",
      "Masbasis_2019_Trapz SR 19\n",
      "Masbasis_2020_Trapz Blue 1\n",
      "Masbasis_2020_Trapz Green 1\n",
      "Masbasis_2020_Trapz Red 1\n",
      "Masbasis_2020_Trapz RedEdge 1\n",
      "Masbasis_2020_Trapz NIR 1\n",
      "Masbasis_2020_Trapz NDVI 1\n",
      "Masbasis_2020_Trapz MTCI 1\n",
      "Masbasis_2020_Trapz DVI 1\n",
      "Masbasis_2020_Trapz GDVI 1\n",
      "Masbasis_2020_Trapz MTCI_CI 1\n",
      "Masbasis_2020_Trapz EXG 1\n",
      "Masbasis_2020_Trapz EXGR 1\n",
      "Masbasis_2020_Trapz RDVI 1\n",
      "Masbasis_2020_Trapz TDVI 1\n",
      "Masbasis_2020_Trapz GNDVI 1\n",
      "Masbasis_2020_Trapz NDRE 1\n",
      "Masbasis_2020_Trapz SCCI 1\n",
      "Masbasis_2020_Trapz EVI 1\n",
      "Masbasis_2020_Trapz TVI 1\n",
      "Masbasis_2020_Trapz VARI 1\n",
      "Masbasis_2020_Trapz GARI 1\n",
      "Masbasis_2020_Trapz GCI 1\n",
      "Masbasis_2020_Trapz GLI 1\n",
      "Masbasis_2020_Trapz NLI 1\n",
      "Masbasis_2020_Trapz MNLI 1\n",
      "Masbasis_2020_Trapz SAVI 1\n",
      "Masbasis_2020_Trapz GSAVI 1\n",
      "Masbasis_2020_Trapz OSAVI 1\n",
      "Masbasis_2020_Trapz GOSAVI 1\n",
      "Masbasis_2020_Trapz MSAVI2 1\n",
      "Masbasis_2020_Trapz MSR 1\n",
      "Masbasis_2020_Trapz GRVI 1\n",
      "Masbasis_2020_Trapz WDRVI 1\n",
      "Masbasis_2020_Trapz SR 1\n"
     ]
    }
   ],
   "source": [
    "# Masbasis_2019_Simps.info(null_counts=True)\n",
    "for df in simp_df_all+trapz_df_all:\n",
    "    temp_df = locals()[df][base_indices+spectral_indices].copy()\n",
    "    for col in temp_df.columns.to_list():\n",
    "        if (temp_df[col]==0).sum() >0:\n",
    "#             print(temp_df.columns.to_list())\n",
    "            print(df, col, (temp_df[col]==0).sum())"
   ]
  },
  {
   "cell_type": "code",
   "execution_count": 36,
   "metadata": {
    "ExecuteTime": {
     "end_time": "2021-10-13T20:29:27.690699Z",
     "start_time": "2021-10-13T20:29:27.395310Z"
    }
   },
   "outputs": [
    {
     "name": "stdout",
     "output_type": "stream",
     "text": [
      "dict_keys(['Blue', 'Green', 'Red', 'RedEdge', 'NIR', 'NDVI', 'MTCI', 'DVI', 'GDVI', 'MTCI_CI', 'EXG', 'EXGR', 'RDVI', 'TDVI', 'GNDVI', 'NDRE', 'SCCI', 'EVI', 'TVI', 'VARI', 'GARI', 'GCI', 'GLI', 'NLI', 'MNLI', 'SAVI', 'GSAVI', 'OSAVI', 'GOSAVI', 'MSAVI2', 'MSR', 'GRVI', 'WDRVI', 'SR'])\n",
      "300719 ['070819', '290719', '220719', '150719', '050719', '280619', '260619', '060619'] 060919\n",
      "************************\n",
      "010819 ['070819', '290719', '220719', '150719', '050719', '280619', '260619', '060619'] 120919\n",
      "************************\n",
      "010819 ['070819', '290719', '220719', '150719', '050719', '280619', '260619', '060619'] 070919\n",
      "************************\n",
      "300719 ['070819', '290719', '220719', '150719', '050719', '280619', '260619', '060619'] 090919\n",
      "************************\n",
      "310719 ['070819', '290719', '220719', '150719', '050719', '280619', '260619', '060619'] 140919\n",
      "************************\n",
      "300719 ['070819', '290719', '220719', '150719', '050719', '280619', '260619', '060619'] 140919\n",
      "************************\n",
      "010819 ['070819', '290719', '220719', '150719', '050719', '280619', '260619', '060619'] 100919\n",
      "************************\n",
      "020819 ['070819', '290719', '220719', '150719', '050719', '280619', '260619', '060619'] 070919\n",
      "************************\n",
      "020819 ['070819', '290719', '220719', '150719', '050719', '280619', '260619', '060619'] 080919\n",
      "************************\n",
      "300719 ['070819', '290719', '220719', '150719', '050719', '280619', '260619', '060619'] 140919\n",
      "************************\n",
      "010819 ['070819', '290719', '220719', '150719', '050719', '280619', '260619', '060619'] 090919\n",
      "************************\n",
      "020819 ['070819', '290719', '220719', '150719', '050719', '280619', '260619', '060619'] 080919\n",
      "************************\n",
      "310719 ['070819', '290719', '220719', '150719', '050719', '280619', '260619', '060619'] 050919\n",
      "************************\n",
      "300719 ['070819', '290719', '220719', '150719', '050719', '280619', '260619', '060619'] 080919\n",
      "************************\n",
      "010819 ['070819', '290719', '220719', '150719', '050719', '280619', '260619', '060619'] 120919\n",
      "************************\n",
      "310719 ['070819', '290719', '220719', '150719', '050719', '280619', '260619', '060619'] 060919\n",
      "************************\n",
      "310719 ['070819', '290719', '220719', '150719', '050719', '280619', '260619', '060619'] 080919\n",
      "************************\n",
      "300719 ['070819', '290719', '220719', '150719', '050719', '280619', '260619', '060619'] 060919\n",
      "************************\n",
      "300719 ['070819', '290719', '220719', '150719', '050719', '280619', '260619', '060619'] 040919\n",
      "************************\n",
      "300719 ['070819', '290719', '220719', '150719', '050719', '280619', '260619', '060619'] 060919\n",
      "************************\n",
      "010819 ['070819', '290719', '220719', '150719', '050719', '280619', '260619', '060619'] 120919\n",
      "************************\n",
      "010819 ['070819', '290719', '220719', '150719', '050719', '280619', '260619', '060619'] 070919\n",
      "************************\n",
      "300719 ['070819', '290719', '220719', '150719', '050719', '280619', '260619', '060619'] 090919\n",
      "************************\n",
      "310719 ['070819', '290719', '220719', '150719', '050719', '280619', '260619', '060619'] 140919\n",
      "************************\n",
      "300719 ['070819', '290719', '220719', '150719', '050719', '280619', '260619', '060619'] 140919\n",
      "************************\n",
      "010819 ['070819', '290719', '220719', '150719', '050719', '280619', '260619', '060619'] 100919\n",
      "************************\n",
      "020819 ['070819', '290719', '220719', '150719', '050719', '280619', '260619', '060619'] 070919\n",
      "************************\n",
      "020819 ['070819', '290719', '220719', '150719', '050719', '280619', '260619', '060619'] 080919\n",
      "************************\n",
      "300719 ['070819', '290719', '220719', '150719', '050719', '280619', '260619', '060619'] 140919\n",
      "************************\n",
      "010819 ['070819', '290719', '220719', '150719', '050719', '280619', '260619', '060619'] 090919\n",
      "************************\n",
      "020819 ['070819', '290719', '220719', '150719', '050719', '280619', '260619', '060619'] 080919\n",
      "************************\n",
      "310719 ['070819', '290719', '220719', '150719', '050719', '280619', '260619', '060619'] 050919\n",
      "************************\n",
      "300719 ['070819', '290719', '220719', '150719', '050719', '280619', '260619', '060619'] 080919\n",
      "************************\n",
      "010819 ['070819', '290719', '220719', '150719', '050719', '280619', '260619', '060619'] 120919\n",
      "************************\n",
      "310719 ['070819', '290719', '220719', '150719', '050719', '280619', '260619', '060619'] 060919\n",
      "************************\n",
      "310719 ['070819', '290719', '220719', '150719', '050719', '280619', '260619', '060619'] 080919\n",
      "************************\n",
      "300719 ['070819', '290719', '220719', '150719', '050719', '280619', '260619', '060619'] 060919\n",
      "************************\n",
      "300719 ['070819', '290719', '220719', '150719', '050719', '280619', '260619', '060619'] 040919\n",
      "************************\n",
      "300719 ['070819', '290719', '220719', '150719', '050719', '280619', '260619', '060619'] 060919\n",
      "************************\n",
      "010819 ['070819', '290719', '220719', '150719', '050719', '280619', '260619', '060619'] 120919\n",
      "************************\n",
      "010819 ['070819', '290719', '220719', '150719', '050719', '280619', '260619', '060619'] 070919\n",
      "************************\n",
      "300719 ['070819', '290719', '220719', '150719', '050719', '280619', '260619', '060619'] 090919\n",
      "************************\n",
      "310719 ['070819', '290719', '220719', '150719', '050719', '280619', '260619', '060619'] 140919\n",
      "************************\n",
      "300719 ['070819', '290719', '220719', '150719', '050719', '280619', '260619', '060619'] 140919\n",
      "************************\n",
      "010819 ['070819', '290719', '220719', '150719', '050719', '280619', '260619', '060619'] 100919\n",
      "************************\n",
      "020819 ['070819', '290719', '220719', '150719', '050719', '280619', '260619', '060619'] 070919\n",
      "************************\n",
      "020819 ['070819', '290719', '220719', '150719', '050719', '280619', '260619', '060619'] 080919\n",
      "************************\n",
      "300719 ['070819', '290719', '220719', '150719', '050719', '280619', '260619', '060619'] 140919\n",
      "************************\n",
      "010819 ['070819', '290719', '220719', '150719', '050719', '280619', '260619', '060619'] 090919\n",
      "************************\n",
      "020819 ['070819', '290719', '220719', '150719', '050719', '280619', '260619', '060619'] 080919\n",
      "************************\n",
      "310719 ['070819', '290719', '220719', '150719', '050719', '280619', '260619', '060619'] 050919\n",
      "************************\n",
      "300719 ['070819', '290719', '220719', '150719', '050719', '280619', '260619', '060619'] 080919\n",
      "************************\n",
      "010819 ['070819', '290719', '220719', '150719', '050719', '280619', '260619', '060619'] 120919\n",
      "************************\n",
      "310719 ['070819', '290719', '220719', '150719', '050719', '280619', '260619', '060619'] 060919\n",
      "************************\n",
      "310719 ['070819', '290719', '220719', '150719', '050719', '280619', '260619', '060619'] 080919\n",
      "************************\n",
      "300719 ['070819', '290719', '220719', '150719', '050719', '280619', '260619', '060619'] 060919\n",
      "************************\n",
      "300719 ['070819', '290719', '220719', '150719', '050719', '280619', '260619', '060619'] 040919\n",
      "************************\n",
      "300719 ['070819', '290719', '220719', '150719', '050719', '280619', '260619', '060619'] 060919\n",
      "************************\n",
      "010819 ['070819', '290719', '220719', '150719', '050719', '280619', '260619', '060619'] 120919\n",
      "************************\n",
      "010819 ['070819', '290719', '220719', '150719', '050719', '280619', '260619', '060619'] 070919\n",
      "************************\n",
      "300719 ['070819', '290719', '220719', '150719', '050719', '280619', '260619', '060619'] 090919\n",
      "************************\n",
      "310719 ['070819', '290719', '220719', '150719', '050719', '280619', '260619', '060619'] 140919\n",
      "************************\n",
      "300719 ['070819', '290719', '220719', '150719', '050719', '280619', '260619', '060619'] 140919\n",
      "************************\n",
      "010819 ['070819', '290719', '220719', '150719', '050719', '280619', '260619', '060619'] 100919\n",
      "************************\n",
      "020819 ['070819', '290719', '220719', '150719', '050719', '280619', '260619', '060619'] 070919\n",
      "************************\n",
      "020819 ['070819', '290719', '220719', '150719', '050719', '280619', '260619', '060619'] 080919\n",
      "************************\n",
      "300719 ['070819', '290719', '220719', '150719', '050719', '280619', '260619', '060619'] 140919\n",
      "************************\n",
      "010819 ['070819', '290719', '220719', '150719', '050719', '280619', '260619', '060619'] 090919\n",
      "************************\n",
      "020819 ['070819', '290719', '220719', '150719', '050719', '280619', '260619', '060619'] 080919\n",
      "************************\n",
      "310719 ['070819', '290719', '220719', '150719', '050719', '280619', '260619', '060619'] 050919\n",
      "************************\n",
      "300719 ['070819', '290719', '220719', '150719', '050719', '280619', '260619', '060619'] 080919\n",
      "************************\n",
      "010819 ['070819', '290719', '220719', '150719', '050719', '280619', '260619', '060619'] 120919\n",
      "************************\n",
      "310719 ['070819', '290719', '220719', '150719', '050719', '280619', '260619', '060619'] 060919\n",
      "************************\n",
      "310719 ['070819', '290719', '220719', '150719', '050719', '280619', '260619', '060619'] 080919\n",
      "************************\n",
      "300719 ['070819', '290719', '220719', '150719', '050719', '280619', '260619', '060619'] 060919\n",
      "************************\n",
      "300719 ['070819', '290719', '220719', '150719', '050719', '280619', '260619', '060619'] 040919\n",
      "************************\n",
      "300719 ['070819', '290719', '220719', '150719', '050719', '280619', '260619', '060619'] 060919\n",
      "************************\n",
      "010819 ['070819', '290719', '220719', '150719', '050719', '280619', '260619', '060619'] 120919\n",
      "************************\n",
      "010819 ['070819', '290719', '220719', '150719', '050719', '280619', '260619', '060619'] 070919\n",
      "************************\n",
      "300719 ['070819', '290719', '220719', '150719', '050719', '280619', '260619', '060619'] 090919\n",
      "************************\n",
      "310719 ['070819', '290719', '220719', '150719', '050719', '280619', '260619', '060619'] 140919\n",
      "************************\n",
      "300719 ['070819', '290719', '220719', '150719', '050719', '280619', '260619', '060619'] 140919\n",
      "************************\n",
      "010819 ['070819', '290719', '220719', '150719', '050719', '280619', '260619', '060619'] 100919\n",
      "************************\n",
      "020819 ['070819', '290719', '220719', '150719', '050719', '280619', '260619', '060619'] 070919\n",
      "************************\n",
      "020819 ['070819', '290719', '220719', '150719', '050719', '280619', '260619', '060619'] 080919\n",
      "************************\n",
      "300719 ['070819', '290719', '220719', '150719', '050719', '280619', '260619', '060619'] 140919\n",
      "************************\n",
      "010819 ['070819', '290719', '220719', '150719', '050719', '280619', '260619', '060619'] 090919\n",
      "************************\n",
      "020819 ['070819', '290719', '220719', '150719', '050719', '280619', '260619', '060619'] 080919\n",
      "************************\n",
      "310719 ['070819', '290719', '220719', '150719', '050719', '280619', '260619', '060619'] 050919\n",
      "************************\n",
      "300719 ['070819', '290719', '220719', '150719', '050719', '280619', '260619', '060619'] 080919\n",
      "************************\n",
      "010819 ['070819', '290719', '220719', '150719', '050719', '280619', '260619', '060619'] 120919\n",
      "************************\n",
      "310719 ['070819', '290719', '220719', '150719', '050719', '280619', '260619', '060619'] 060919\n",
      "************************\n",
      "310719 ['070819', '290719', '220719', '150719', '050719', '280619', '260619', '060619'] 080919\n",
      "************************\n",
      "300719 ['070819', '290719', '220719', '150719', '050719', '280619', '260619', '060619'] 060919\n",
      "************************\n",
      "300719 ['070819', '290719', '220719', '150719', '050719', '280619', '260619', '060619'] 040919\n",
      "************************\n",
      "300719 ['070819', '290719', '220719', '150719', '050719', '280619', '260619', '060619'] 060919\n",
      "************************\n",
      "010819 ['070819', '290719', '220719', '150719', '050719', '280619', '260619', '060619'] 120919\n",
      "************************\n",
      "010819 ['070819', '290719', '220719', '150719', '050719', '280619', '260619', '060619'] 070919\n",
      "************************\n",
      "300719 ['070819', '290719', '220719', '150719', '050719', '280619', '260619', '060619'] 090919\n",
      "************************\n",
      "310719 ['070819', '290719', '220719', '150719', '050719', '280619', '260619', '060619'] 140919\n",
      "************************\n",
      "300719 ['070819', '290719', '220719', '150719', '050719', '280619', '260619', '060619'] 140919\n",
      "************************\n",
      "010819 ['070819', '290719', '220719', '150719', '050719', '280619', '260619', '060619'] 100919\n",
      "************************\n",
      "020819 ['070819', '290719', '220719', '150719', '050719', '280619', '260619', '060619'] 070919\n",
      "************************\n",
      "020819 ['070819', '290719', '220719', '150719', '050719', '280619', '260619', '060619'] 080919\n",
      "************************\n",
      "300719 ['070819', '290719', '220719', '150719', '050719', '280619', '260619', '060619'] 140919\n",
      "************************\n",
      "010819 ['070819', '290719', '220719', '150719', '050719', '280619', '260619', '060619'] 090919\n",
      "************************\n",
      "020819 ['070819', '290719', '220719', '150719', '050719', '280619', '260619', '060619'] 080919\n",
      "************************\n",
      "310719 ['070819', '290719', '220719', '150719', '050719', '280619', '260619', '060619'] 050919\n",
      "************************\n",
      "300719 ['070819', '290719', '220719', '150719', '050719', '280619', '260619', '060619'] 080919\n",
      "************************\n",
      "010819 ['070819', '290719', '220719', '150719', '050719', '280619', '260619', '060619'] 120919\n",
      "************************\n",
      "310719 ['070819', '290719', '220719', '150719', '050719', '280619', '260619', '060619'] 060919\n",
      "************************\n",
      "310719 ['070819', '290719', '220719', '150719', '050719', '280619', '260619', '060619'] 080919\n",
      "************************\n",
      "300719 ['070819', '290719', '220719', '150719', '050719', '280619', '260619', '060619'] 060919\n",
      "************************\n",
      "300719 ['070819', '290719', '220719', '150719', '050719', '280619', '260619', '060619'] 040919\n",
      "************************\n",
      "300719 ['070819', '290719', '220719', '150719', '050719', '280619', '260619', '060619'] 060919\n",
      "************************\n",
      "010819 ['070819', '290719', '220719', '150719', '050719', '280619', '260619', '060619'] 120919\n",
      "************************\n",
      "010819 ['070819', '290719', '220719', '150719', '050719', '280619', '260619', '060619'] 070919\n",
      "************************\n",
      "300719 ['070819', '290719', '220719', '150719', '050719', '280619', '260619', '060619'] 090919\n",
      "************************\n",
      "310719 ['070819', '290719', '220719', '150719', '050719', '280619', '260619', '060619'] 140919\n",
      "************************\n",
      "300719 ['070819', '290719', '220719', '150719', '050719', '280619', '260619', '060619'] 140919\n",
      "************************\n",
      "010819 ['070819', '290719', '220719', '150719', '050719', '280619', '260619', '060619'] 100919\n",
      "************************\n",
      "020819 ['070819', '290719', '220719', '150719', '050719', '280619', '260619', '060619'] 070919\n",
      "************************\n",
      "020819 ['070819', '290719', '220719', '150719', '050719', '280619', '260619', '060619'] 080919\n",
      "************************\n",
      "300719 ['070819', '290719', '220719', '150719', '050719', '280619', '260619', '060619'] 140919\n",
      "************************\n",
      "010819 ['070819', '290719', '220719', '150719', '050719', '280619', '260619', '060619'] 090919\n",
      "************************\n",
      "020819 ['070819', '290719', '220719', '150719', '050719', '280619', '260619', '060619'] 080919\n",
      "************************\n",
      "310719 ['070819', '290719', '220719', '150719', '050719', '280619', '260619', '060619'] 050919\n",
      "************************\n",
      "300719 ['070819', '290719', '220719', '150719', '050719', '280619', '260619', '060619'] 080919\n",
      "************************\n",
      "010819 ['070819', '290719', '220719', '150719', '050719', '280619', '260619', '060619'] 120919\n",
      "************************\n",
      "310719 ['070819', '290719', '220719', '150719', '050719', '280619', '260619', '060619'] 060919\n",
      "************************\n",
      "310719 ['070819', '290719', '220719', '150719', '050719', '280619', '260619', '060619'] 080919\n",
      "************************\n",
      "300719 ['070819', '290719', '220719', '150719', '050719', '280619', '260619', '060619'] 060919\n",
      "************************\n",
      "300719 ['070819', '290719', '220719', '150719', '050719', '280619', '260619', '060619'] 040919\n",
      "************************\n",
      "300719 ['070819', '290719', '220719', '150719', '050719', '280619', '260619', '060619'] 060919\n",
      "************************\n",
      "010819 ['070819', '290719', '220719', '150719', '050719', '280619', '260619', '060619'] 120919\n",
      "************************\n",
      "010819 ['070819', '290719', '220719', '150719', '050719', '280619', '260619', '060619'] 070919\n",
      "************************\n",
      "300719 ['070819', '290719', '220719', '150719', '050719', '280619', '260619', '060619'] 090919\n",
      "************************\n",
      "310719 ['070819', '290719', '220719', '150719', '050719', '280619', '260619', '060619'] 140919\n",
      "************************\n",
      "300719 ['070819', '290719', '220719', '150719', '050719', '280619', '260619', '060619'] 140919\n",
      "************************\n",
      "010819 ['070819', '290719', '220719', '150719', '050719', '280619', '260619', '060619'] 100919\n",
      "************************\n",
      "020819 ['070819', '290719', '220719', '150719', '050719', '280619', '260619', '060619'] 070919\n",
      "************************\n",
      "020819 ['070819', '290719', '220719', '150719', '050719', '280619', '260619', '060619'] 080919\n",
      "************************\n",
      "300719 ['070819', '290719', '220719', '150719', '050719', '280619', '260619', '060619'] 140919\n",
      "************************\n",
      "010819 ['070819', '290719', '220719', '150719', '050719', '280619', '260619', '060619'] 090919\n",
      "************************\n",
      "020819 ['070819', '290719', '220719', '150719', '050719', '280619', '260619', '060619'] 080919\n",
      "************************\n",
      "310719 ['070819', '290719', '220719', '150719', '050719', '280619', '260619', '060619'] 050919\n",
      "************************\n",
      "300719 ['070819', '290719', '220719', '150719', '050719', '280619', '260619', '060619'] 080919\n",
      "************************\n",
      "010819 ['070819', '290719', '220719', '150719', '050719', '280619', '260619', '060619'] 120919\n",
      "************************\n",
      "310719 ['070819', '290719', '220719', '150719', '050719', '280619', '260619', '060619'] 060919\n",
      "************************\n",
      "310719 ['070819', '290719', '220719', '150719', '050719', '280619', '260619', '060619'] 080919\n",
      "************************\n",
      "300719 ['070819', '290719', '220719', '150719', '050719', '280619', '260619', '060619'] 060919\n",
      "************************\n",
      "300719 ['070819', '290719', '220719', '150719', '050719', '280619', '260619', '060619'] 040919\n",
      "************************\n",
      "300719 ['070819', '290719', '220719', '150719', '050719', '280619', '260619', '060619'] 060919\n",
      "************************\n",
      "010819 ['070819', '290719', '220719', '150719', '050719', '280619', '260619', '060619'] 120919\n",
      "************************\n",
      "010819 ['070819', '290719', '220719', '150719', '050719', '280619', '260619', '060619'] 070919\n",
      "************************\n",
      "300719 ['070819', '290719', '220719', '150719', '050719', '280619', '260619', '060619'] 090919\n",
      "************************\n",
      "310719 ['070819', '290719', '220719', '150719', '050719', '280619', '260619', '060619'] 140919\n",
      "************************\n",
      "300719 ['070819', '290719', '220719', '150719', '050719', '280619', '260619', '060619'] 140919\n",
      "************************\n",
      "010819 ['070819', '290719', '220719', '150719', '050719', '280619', '260619', '060619'] 100919\n",
      "************************\n",
      "020819 ['070819', '290719', '220719', '150719', '050719', '280619', '260619', '060619'] 070919\n",
      "************************\n",
      "020819 ['070819', '290719', '220719', '150719', '050719', '280619', '260619', '060619'] 080919\n",
      "************************\n",
      "300719 ['070819', '290719', '220719', '150719', '050719', '280619', '260619', '060619'] 140919\n",
      "************************\n",
      "010819 ['070819', '290719', '220719', '150719', '050719', '280619', '260619', '060619'] 090919\n",
      "************************\n",
      "020819 ['070819', '290719', '220719', '150719', '050719', '280619', '260619', '060619'] 080919\n",
      "************************\n",
      "310719 ['070819', '290719', '220719', '150719', '050719', '280619', '260619', '060619'] 050919\n",
      "************************\n",
      "300719 ['070819', '290719', '220719', '150719', '050719', '280619', '260619', '060619'] 080919\n",
      "************************\n",
      "010819 ['070819', '290719', '220719', '150719', '050719', '280619', '260619', '060619'] 120919\n",
      "************************\n",
      "310719 ['070819', '290719', '220719', '150719', '050719', '280619', '260619', '060619'] 060919\n",
      "************************\n",
      "310719 ['070819', '290719', '220719', '150719', '050719', '280619', '260619', '060619'] 080919\n",
      "************************\n",
      "300719 ['070819', '290719', '220719', '150719', '050719', '280619', '260619', '060619'] 060919\n",
      "************************\n",
      "300719 ['070819', '290719', '220719', '150719', '050719', '280619', '260619', '060619'] 040919\n",
      "************************\n",
      "300719 ['070819', '290719', '220719', '150719', '050719', '280619', '260619', '060619'] 060919\n",
      "************************\n",
      "010819 ['070819', '290719', '220719', '150719', '050719', '280619', '260619', '060619'] 120919\n",
      "************************\n",
      "010819 ['070819', '290719', '220719', '150719', '050719', '280619', '260619', '060619'] 070919\n",
      "************************\n",
      "300719 ['070819', '290719', '220719', '150719', '050719', '280619', '260619', '060619'] 090919\n",
      "************************\n",
      "310719 ['070819', '290719', '220719', '150719', '050719', '280619', '260619', '060619'] 140919\n",
      "************************\n",
      "300719 ['070819', '290719', '220719', '150719', '050719', '280619', '260619', '060619'] 140919\n",
      "************************\n",
      "010819 ['070819', '290719', '220719', '150719', '050719', '280619', '260619', '060619'] 100919\n",
      "************************\n",
      "020819 ['070819', '290719', '220719', '150719', '050719', '280619', '260619', '060619'] 070919\n",
      "************************\n",
      "020819 ['070819', '290719', '220719', '150719', '050719', '280619', '260619', '060619'] 080919\n",
      "************************\n",
      "300719 ['070819', '290719', '220719', '150719', '050719', '280619', '260619', '060619'] 140919\n",
      "************************\n",
      "010819 ['070819', '290719', '220719', '150719', '050719', '280619', '260619', '060619'] 090919\n",
      "************************\n",
      "020819 ['070819', '290719', '220719', '150719', '050719', '280619', '260619', '060619'] 080919\n",
      "************************\n",
      "310719 ['070819', '290719', '220719', '150719', '050719', '280619', '260619', '060619'] 050919\n",
      "************************\n",
      "300719 ['070819', '290719', '220719', '150719', '050719', '280619', '260619', '060619'] 080919\n",
      "************************\n",
      "010819 ['070819', '290719', '220719', '150719', '050719', '280619', '260619', '060619'] 120919\n",
      "************************\n",
      "310719 ['070819', '290719', '220719', '150719', '050719', '280619', '260619', '060619'] 060919\n",
      "************************\n",
      "310719 ['070819', '290719', '220719', '150719', '050719', '280619', '260619', '060619'] 080919\n",
      "************************\n",
      "300719 ['070819', '290719', '220719', '150719', '050719', '280619', '260619', '060619'] 060919\n",
      "************************\n",
      "300719 ['070819', '290719', '220719', '150719', '050719', '280619', '260619', '060619'] 040919\n",
      "************************\n",
      "300719 ['070819', '290719', '220719', '150719', '050719', '280619', '260619', '060619'] 060919\n",
      "************************\n",
      "010819 ['070819', '290719', '220719', '150719', '050719', '280619', '260619', '060619'] 120919\n",
      "************************\n",
      "010819 ['070819', '290719', '220719', '150719', '050719', '280619', '260619', '060619'] 070919\n",
      "************************\n",
      "300719 ['070819', '290719', '220719', '150719', '050719', '280619', '260619', '060619'] 090919\n",
      "************************\n",
      "310719 ['070819', '290719', '220719', '150719', '050719', '280619', '260619', '060619'] 140919\n",
      "************************\n",
      "300719 ['070819', '290719', '220719', '150719', '050719', '280619', '260619', '060619'] 140919\n",
      "************************\n",
      "010819 ['070819', '290719', '220719', '150719', '050719', '280619', '260619', '060619'] 100919\n",
      "************************\n",
      "020819 ['070819', '290719', '220719', '150719', '050719', '280619', '260619', '060619'] 070919\n",
      "************************\n",
      "020819 ['070819', '290719', '220719', '150719', '050719', '280619', '260619', '060619'] 080919\n",
      "************************\n",
      "300719 ['070819', '290719', '220719', '150719', '050719', '280619', '260619', '060619'] 140919\n",
      "************************\n",
      "010819 ['070819', '290719', '220719', '150719', '050719', '280619', '260619', '060619'] 090919\n",
      "************************\n",
      "020819 ['070819', '290719', '220719', '150719', '050719', '280619', '260619', '060619'] 080919\n",
      "************************\n",
      "310719 ['070819', '290719', '220719', '150719', '050719', '280619', '260619', '060619'] 050919\n",
      "************************\n",
      "300719 ['070819', '290719', '220719', '150719', '050719', '280619', '260619', '060619'] 080919\n",
      "************************\n",
      "010819 ['070819', '290719', '220719', '150719', '050719', '280619', '260619', '060619'] 120919\n",
      "************************\n",
      "310719 ['070819', '290719', '220719', '150719', '050719', '280619', '260619', '060619'] 060919\n",
      "************************\n",
      "310719 ['070819', '290719', '220719', '150719', '050719', '280619', '260619', '060619'] 080919\n",
      "************************\n",
      "300719 ['070819', '290719', '220719', '150719', '050719', '280619', '260619', '060619'] 060919\n",
      "************************\n",
      "300719 ['070819', '290719', '220719', '150719', '050719', '280619', '260619', '060619'] 040919\n",
      "************************\n",
      "300719 ['070819', '290719', '220719', '150719', '050719', '280619', '260619', '060619'] 060919\n",
      "************************\n",
      "010819 ['070819', '290719', '220719', '150719', '050719', '280619', '260619', '060619'] 120919\n",
      "************************\n",
      "010819 ['070819', '290719', '220719', '150719', '050719', '280619', '260619', '060619'] 070919\n",
      "************************\n",
      "300719 ['070819', '290719', '220719', '150719', '050719', '280619', '260619', '060619'] 090919\n",
      "************************\n",
      "310719 ['070819', '290719', '220719', '150719', '050719', '280619', '260619', '060619'] 140919\n",
      "************************\n",
      "300719 ['070819', '290719', '220719', '150719', '050719', '280619', '260619', '060619'] 140919\n",
      "************************\n",
      "010819 ['070819', '290719', '220719', '150719', '050719', '280619', '260619', '060619'] 100919\n",
      "************************\n",
      "020819 ['070819', '290719', '220719', '150719', '050719', '280619', '260619', '060619'] 070919\n",
      "************************\n",
      "020819 ['070819', '290719', '220719', '150719', '050719', '280619', '260619', '060619'] 080919\n",
      "************************\n",
      "300719 ['070819', '290719', '220719', '150719', '050719', '280619', '260619', '060619'] 140919\n",
      "************************\n",
      "010819 ['070819', '290719', '220719', '150719', '050719', '280619', '260619', '060619'] 090919\n",
      "************************\n",
      "020819 ['070819', '290719', '220719', '150719', '050719', '280619', '260619', '060619'] 080919\n",
      "************************\n",
      "310719 ['070819', '290719', '220719', '150719', '050719', '280619', '260619', '060619'] 050919\n",
      "************************\n",
      "300719 ['070819', '290719', '220719', '150719', '050719', '280619', '260619', '060619'] 080919\n",
      "************************\n",
      "010819 ['070819', '290719', '220719', '150719', '050719', '280619', '260619', '060619'] 120919\n",
      "************************\n",
      "310719 ['070819', '290719', '220719', '150719', '050719', '280619', '260619', '060619'] 060919\n",
      "************************\n",
      "310719 ['070819', '290719', '220719', '150719', '050719', '280619', '260619', '060619'] 080919\n",
      "************************\n",
      "300719 ['070819', '290719', '220719', '150719', '050719', '280619', '260619', '060619'] 060919\n",
      "************************\n",
      "300719 ['070819', '290719', '220719', '150719', '050719', '280619', '260619', '060619'] 040919\n",
      "************************\n",
      "300719 ['070819', '290719', '220719', '150719', '050719', '280619', '260619', '060619'] 060919\n",
      "************************\n",
      "010819 ['070819', '290719', '220719', '150719', '050719', '280619', '260619', '060619'] 120919\n",
      "************************\n",
      "010819 ['070819', '290719', '220719', '150719', '050719', '280619', '260619', '060619'] 070919\n",
      "************************\n",
      "300719 ['070819', '290719', '220719', '150719', '050719', '280619', '260619', '060619'] 090919\n",
      "************************\n",
      "310719 ['070819', '290719', '220719', '150719', '050719', '280619', '260619', '060619'] 140919\n",
      "************************\n",
      "300719 ['070819', '290719', '220719', '150719', '050719', '280619', '260619', '060619'] 140919\n",
      "************************\n",
      "010819 ['070819', '290719', '220719', '150719', '050719', '280619', '260619', '060619'] 100919\n",
      "************************\n",
      "020819 ['070819', '290719', '220719', '150719', '050719', '280619', '260619', '060619'] 070919\n",
      "************************\n",
      "020819 ['070819', '290719', '220719', '150719', '050719', '280619', '260619', '060619'] 080919\n",
      "************************\n",
      "300719 ['070819', '290719', '220719', '150719', '050719', '280619', '260619', '060619'] 140919\n",
      "************************\n",
      "010819 ['070819', '290719', '220719', '150719', '050719', '280619', '260619', '060619'] 090919\n",
      "************************\n",
      "020819 ['070819', '290719', '220719', '150719', '050719', '280619', '260619', '060619'] 080919\n",
      "************************\n",
      "310719 ['070819', '290719', '220719', '150719', '050719', '280619', '260619', '060619'] 050919\n",
      "************************\n",
      "300719 ['070819', '290719', '220719', '150719', '050719', '280619', '260619', '060619'] 080919\n",
      "************************\n",
      "010819 ['070819', '290719', '220719', '150719', '050719', '280619', '260619', '060619'] 120919\n",
      "************************\n",
      "310719 ['070819', '290719', '220719', '150719', '050719', '280619', '260619', '060619'] 060919\n",
      "************************\n",
      "310719 ['070819', '290719', '220719', '150719', '050719', '280619', '260619', '060619'] 080919\n",
      "************************\n",
      "300719 ['070819', '290719', '220719', '150719', '050719', '280619', '260619', '060619'] 060919\n",
      "************************\n",
      "300719 ['070819', '290719', '220719', '150719', '050719', '280619', '260619', '060619'] 040919\n",
      "************************\n",
      "300719 ['070819', '290719', '220719', '150719', '050719', '280619', '260619', '060619'] 060919\n",
      "************************\n",
      "010819 ['070819', '290719', '220719', '150719', '050719', '280619', '260619', '060619'] 120919\n",
      "************************\n",
      "010819 ['070819', '290719', '220719', '150719', '050719', '280619', '260619', '060619'] 070919\n",
      "************************\n",
      "300719 ['070819', '290719', '220719', '150719', '050719', '280619', '260619', '060619'] 090919\n",
      "************************\n",
      "310719 ['070819', '290719', '220719', '150719', '050719', '280619', '260619', '060619'] 140919\n",
      "************************\n",
      "300719 ['070819', '290719', '220719', '150719', '050719', '280619', '260619', '060619'] 140919\n",
      "************************\n",
      "010819 ['070819', '290719', '220719', '150719', '050719', '280619', '260619', '060619'] 100919\n",
      "************************\n",
      "020819 ['070819', '290719', '220719', '150719', '050719', '280619', '260619', '060619'] 070919\n",
      "************************\n",
      "020819 ['070819', '290719', '220719', '150719', '050719', '280619', '260619', '060619'] 080919\n",
      "************************\n",
      "300719 ['070819', '290719', '220719', '150719', '050719', '280619', '260619', '060619'] 140919\n",
      "************************\n",
      "010819 ['070819', '290719', '220719', '150719', '050719', '280619', '260619', '060619'] 090919\n",
      "************************\n",
      "020819 ['070819', '290719', '220719', '150719', '050719', '280619', '260619', '060619'] 080919\n",
      "************************\n",
      "310719 ['070819', '290719', '220719', '150719', '050719', '280619', '260619', '060619'] 050919\n",
      "************************\n",
      "300719 ['070819', '290719', '220719', '150719', '050719', '280619', '260619', '060619'] 080919\n",
      "************************\n",
      "010819 ['070819', '290719', '220719', '150719', '050719', '280619', '260619', '060619'] 120919\n",
      "************************\n",
      "310719 ['070819', '290719', '220719', '150719', '050719', '280619', '260619', '060619'] 060919\n",
      "************************\n",
      "310719 ['070819', '290719', '220719', '150719', '050719', '280619', '260619', '060619'] 080919\n",
      "************************\n",
      "300719 ['070819', '290719', '220719', '150719', '050719', '280619', '260619', '060619'] 060919\n",
      "************************\n",
      "300719 ['070819', '290719', '220719', '150719', '050719', '280619', '260619', '060619'] 040919\n",
      "************************\n",
      "300719 ['070819', '290719', '220719', '150719', '050719', '280619', '260619', '060619'] 060919\n",
      "************************\n",
      "010819 ['070819', '290719', '220719', '150719', '050719', '280619', '260619', '060619'] 120919\n",
      "************************\n",
      "010819 ['070819', '290719', '220719', '150719', '050719', '280619', '260619', '060619'] 070919\n",
      "************************\n",
      "300719 ['070819', '290719', '220719', '150719', '050719', '280619', '260619', '060619'] 090919\n",
      "************************\n",
      "310719 ['070819', '290719', '220719', '150719', '050719', '280619', '260619', '060619'] 140919\n",
      "************************\n",
      "300719 ['070819', '290719', '220719', '150719', '050719', '280619', '260619', '060619'] 140919\n",
      "************************\n",
      "010819 ['070819', '290719', '220719', '150719', '050719', '280619', '260619', '060619'] 100919\n",
      "************************\n",
      "020819 ['070819', '290719', '220719', '150719', '050719', '280619', '260619', '060619'] 070919\n",
      "************************\n",
      "020819 ['070819', '290719', '220719', '150719', '050719', '280619', '260619', '060619'] 080919\n",
      "************************\n",
      "300719 ['070819', '290719', '220719', '150719', '050719', '280619', '260619', '060619'] 140919\n",
      "************************\n",
      "010819 ['070819', '290719', '220719', '150719', '050719', '280619', '260619', '060619'] 090919\n",
      "************************\n",
      "020819 ['070819', '290719', '220719', '150719', '050719', '280619', '260619', '060619'] 080919\n",
      "************************\n",
      "310719 ['070819', '290719', '220719', '150719', '050719', '280619', '260619', '060619'] 050919\n",
      "************************\n",
      "300719 ['070819', '290719', '220719', '150719', '050719', '280619', '260619', '060619'] 080919\n",
      "************************\n",
      "010819 ['070819', '290719', '220719', '150719', '050719', '280619', '260619', '060619'] 120919\n",
      "************************\n",
      "310719 ['070819', '290719', '220719', '150719', '050719', '280619', '260619', '060619'] 060919\n",
      "************************\n",
      "310719 ['070819', '290719', '220719', '150719', '050719', '280619', '260619', '060619'] 080919\n",
      "************************\n",
      "300719 ['070819', '290719', '220719', '150719', '050719', '280619', '260619', '060619'] 060919\n",
      "************************\n",
      "300719 ['070819', '290719', '220719', '150719', '050719', '280619', '260619', '060619'] 040919\n",
      "************************\n",
      "300719 ['070819', '290719', '220719', '150719', '050719', '280619', '260619', '060619'] 060919\n",
      "************************\n",
      "010819 ['070819', '290719', '220719', '150719', '050719', '280619', '260619', '060619'] 120919\n",
      "************************\n",
      "010819 ['070819', '290719', '220719', '150719', '050719', '280619', '260619', '060619'] 070919\n",
      "************************\n",
      "300719 ['070819', '290719', '220719', '150719', '050719', '280619', '260619', '060619'] 090919\n",
      "************************\n",
      "310719 ['070819', '290719', '220719', '150719', '050719', '280619', '260619', '060619'] 140919\n",
      "************************\n",
      "300719 ['070819', '290719', '220719', '150719', '050719', '280619', '260619', '060619'] 140919\n",
      "************************\n",
      "010819 ['070819', '290719', '220719', '150719', '050719', '280619', '260619', '060619'] 100919\n",
      "************************\n",
      "020819 ['070819', '290719', '220719', '150719', '050719', '280619', '260619', '060619'] 070919\n",
      "************************\n",
      "020819 ['070819', '290719', '220719', '150719', '050719', '280619', '260619', '060619'] 080919\n",
      "************************\n",
      "300719 ['070819', '290719', '220719', '150719', '050719', '280619', '260619', '060619'] 140919\n",
      "************************\n",
      "010819 ['070819', '290719', '220719', '150719', '050719', '280619', '260619', '060619'] 090919\n",
      "************************\n",
      "020819 ['070819', '290719', '220719', '150719', '050719', '280619', '260619', '060619'] 080919\n",
      "************************\n",
      "310719 ['070819', '290719', '220719', '150719', '050719', '280619', '260619', '060619'] 050919\n",
      "************************\n",
      "300719 ['070819', '290719', '220719', '150719', '050719', '280619', '260619', '060619'] 080919\n",
      "************************\n",
      "010819 ['070819', '290719', '220719', '150719', '050719', '280619', '260619', '060619'] 120919\n",
      "************************\n",
      "310719 ['070819', '290719', '220719', '150719', '050719', '280619', '260619', '060619'] 060919\n",
      "************************\n",
      "310719 ['070819', '290719', '220719', '150719', '050719', '280619', '260619', '060619'] 080919\n",
      "************************\n",
      "300719 ['070819', '290719', '220719', '150719', '050719', '280619', '260619', '060619'] 060919\n",
      "************************\n",
      "300719 ['070819', '290719', '220719', '150719', '050719', '280619', '260619', '060619'] 040919\n",
      "************************\n",
      "300719 ['070819', '290719', '220719', '150719', '050719', '280619', '260619', '060619'] 060919\n",
      "************************\n",
      "010819 ['070819', '290719', '220719', '150719', '050719', '280619', '260619', '060619'] 120919\n",
      "************************\n",
      "010819 ['070819', '290719', '220719', '150719', '050719', '280619', '260619', '060619'] 070919\n",
      "************************\n",
      "300719 ['070819', '290719', '220719', '150719', '050719', '280619', '260619', '060619'] 090919\n",
      "************************\n",
      "310719 ['070819', '290719', '220719', '150719', '050719', '280619', '260619', '060619'] 140919\n",
      "************************\n",
      "300719 ['070819', '290719', '220719', '150719', '050719', '280619', '260619', '060619'] 140919\n",
      "************************\n",
      "010819 ['070819', '290719', '220719', '150719', '050719', '280619', '260619', '060619'] 100919\n",
      "************************\n",
      "020819 ['070819', '290719', '220719', '150719', '050719', '280619', '260619', '060619'] 070919\n",
      "************************\n",
      "020819 ['070819', '290719', '220719', '150719', '050719', '280619', '260619', '060619'] 080919\n",
      "************************\n",
      "300719 ['070819', '290719', '220719', '150719', '050719', '280619', '260619', '060619'] 140919\n",
      "************************\n",
      "010819 ['070819', '290719', '220719', '150719', '050719', '280619', '260619', '060619'] 090919\n",
      "************************\n",
      "020819 ['070819', '290719', '220719', '150719', '050719', '280619', '260619', '060619'] 080919\n",
      "************************\n",
      "310719 ['070819', '290719', '220719', '150719', '050719', '280619', '260619', '060619'] 050919\n",
      "************************\n",
      "300719 ['070819', '290719', '220719', '150719', '050719', '280619', '260619', '060619'] 080919\n",
      "************************\n",
      "010819 ['070819', '290719', '220719', '150719', '050719', '280619', '260619', '060619'] 120919\n",
      "************************\n",
      "310719 ['070819', '290719', '220719', '150719', '050719', '280619', '260619', '060619'] 060919\n",
      "************************\n",
      "310719 ['070819', '290719', '220719', '150719', '050719', '280619', '260619', '060619'] 080919\n",
      "************************\n",
      "300719 ['070819', '290719', '220719', '150719', '050719', '280619', '260619', '060619'] 060919\n",
      "************************\n",
      "300719 ['070819', '290719', '220719', '150719', '050719', '280619', '260619', '060619'] 040919\n",
      "************************\n",
      "300719 ['070819', '290719', '220719', '150719', '050719', '280619', '260619', '060619'] 060919\n",
      "************************\n",
      "010819 ['070819', '290719', '220719', '150719', '050719', '280619', '260619', '060619'] 120919\n",
      "************************\n",
      "010819 ['070819', '290719', '220719', '150719', '050719', '280619', '260619', '060619'] 070919\n",
      "************************\n",
      "300719 ['070819', '290719', '220719', '150719', '050719', '280619', '260619', '060619'] 090919\n",
      "************************\n",
      "310719 ['070819', '290719', '220719', '150719', '050719', '280619', '260619', '060619'] 140919\n",
      "************************\n",
      "300719 ['070819', '290719', '220719', '150719', '050719', '280619', '260619', '060619'] 140919\n",
      "************************\n",
      "010819 ['070819', '290719', '220719', '150719', '050719', '280619', '260619', '060619'] 100919\n",
      "************************\n",
      "020819 ['070819', '290719', '220719', '150719', '050719', '280619', '260619', '060619'] 070919\n",
      "************************\n",
      "020819 ['070819', '290719', '220719', '150719', '050719', '280619', '260619', '060619'] 080919\n",
      "************************\n",
      "300719 ['070819', '290719', '220719', '150719', '050719', '280619', '260619', '060619'] 140919\n",
      "************************\n",
      "010819 ['070819', '290719', '220719', '150719', '050719', '280619', '260619', '060619'] 090919\n",
      "************************\n",
      "020819 ['070819', '290719', '220719', '150719', '050719', '280619', '260619', '060619'] 080919\n",
      "************************\n",
      "310719 ['070819', '290719', '220719', '150719', '050719', '280619', '260619', '060619'] 050919\n",
      "************************\n",
      "300719 ['070819', '290719', '220719', '150719', '050719', '280619', '260619', '060619'] 080919\n",
      "************************\n",
      "010819 ['070819', '290719', '220719', '150719', '050719', '280619', '260619', '060619'] 120919\n",
      "************************\n",
      "310719 ['070819', '290719', '220719', '150719', '050719', '280619', '260619', '060619'] 060919\n",
      "************************\n",
      "310719 ['070819', '290719', '220719', '150719', '050719', '280619', '260619', '060619'] 080919\n",
      "************************\n",
      "300719 ['070819', '290719', '220719', '150719', '050719', '280619', '260619', '060619'] 060919\n",
      "************************\n",
      "300719 ['070819', '290719', '220719', '150719', '050719', '280619', '260619', '060619'] 040919\n",
      "************************\n",
      "300719 ['070819', '290719', '220719', '150719', '050719', '280619', '260619', '060619'] 060919\n",
      "************************\n",
      "010819 ['070819', '290719', '220719', '150719', '050719', '280619', '260619', '060619'] 120919\n",
      "************************\n",
      "010819 ['070819', '290719', '220719', '150719', '050719', '280619', '260619', '060619'] 070919\n",
      "************************\n",
      "300719 ['070819', '290719', '220719', '150719', '050719', '280619', '260619', '060619'] 090919\n",
      "************************\n",
      "310719 ['070819', '290719', '220719', '150719', '050719', '280619', '260619', '060619'] 140919\n",
      "************************\n",
      "300719 ['070819', '290719', '220719', '150719', '050719', '280619', '260619', '060619'] 140919\n",
      "************************\n",
      "010819 ['070819', '290719', '220719', '150719', '050719', '280619', '260619', '060619'] 100919\n",
      "************************\n",
      "020819 ['070819', '290719', '220719', '150719', '050719', '280619', '260619', '060619'] 070919\n",
      "************************\n",
      "020819 ['070819', '290719', '220719', '150719', '050719', '280619', '260619', '060619'] 080919\n",
      "************************\n",
      "300719 ['070819', '290719', '220719', '150719', '050719', '280619', '260619', '060619'] 140919\n",
      "************************\n",
      "010819 ['070819', '290719', '220719', '150719', '050719', '280619', '260619', '060619'] 090919\n",
      "************************\n",
      "020819 ['070819', '290719', '220719', '150719', '050719', '280619', '260619', '060619'] 080919\n",
      "************************\n",
      "310719 ['070819', '290719', '220719', '150719', '050719', '280619', '260619', '060619'] 050919\n",
      "************************\n",
      "300719 ['070819', '290719', '220719', '150719', '050719', '280619', '260619', '060619'] 080919\n",
      "************************\n",
      "010819 ['070819', '290719', '220719', '150719', '050719', '280619', '260619', '060619'] 120919\n",
      "************************\n",
      "310719 ['070819', '290719', '220719', '150719', '050719', '280619', '260619', '060619'] 060919\n",
      "************************\n",
      "310719 ['070819', '290719', '220719', '150719', '050719', '280619', '260619', '060619'] 080919\n",
      "************************\n",
      "300719 ['070819', '290719', '220719', '150719', '050719', '280619', '260619', '060619'] 060919\n",
      "************************\n",
      "300719 ['070819', '290719', '220719', '150719', '050719', '280619', '260619', '060619'] 040919\n",
      "************************\n",
      "300719 ['070819', '290719', '220719', '150719', '050719', '280619', '260619', '060619'] 060919\n",
      "************************\n",
      "010819 ['070819', '290719', '220719', '150719', '050719', '280619', '260619', '060619'] 120919\n",
      "************************\n",
      "010819 ['070819', '290719', '220719', '150719', '050719', '280619', '260619', '060619'] 070919\n",
      "************************\n",
      "300719 ['070819', '290719', '220719', '150719', '050719', '280619', '260619', '060619'] 090919\n",
      "************************\n",
      "310719 ['070819', '290719', '220719', '150719', '050719', '280619', '260619', '060619'] 140919\n",
      "************************\n",
      "300719 ['070819', '290719', '220719', '150719', '050719', '280619', '260619', '060619'] 140919\n",
      "************************\n",
      "010819 ['070819', '290719', '220719', '150719', '050719', '280619', '260619', '060619'] 100919\n",
      "************************\n",
      "020819 ['070819', '290719', '220719', '150719', '050719', '280619', '260619', '060619'] 070919\n",
      "************************\n",
      "020819 ['070819', '290719', '220719', '150719', '050719', '280619', '260619', '060619'] 080919\n",
      "************************\n",
      "300719 ['070819', '290719', '220719', '150719', '050719', '280619', '260619', '060619'] 140919\n",
      "************************\n",
      "010819 ['070819', '290719', '220719', '150719', '050719', '280619', '260619', '060619'] 090919\n",
      "************************\n",
      "020819 ['070819', '290719', '220719', '150719', '050719', '280619', '260619', '060619'] 080919\n",
      "************************\n",
      "310719 ['070819', '290719', '220719', '150719', '050719', '280619', '260619', '060619'] 050919\n",
      "************************\n",
      "300719 ['070819', '290719', '220719', '150719', '050719', '280619', '260619', '060619'] 080919\n",
      "************************\n",
      "010819 ['070819', '290719', '220719', '150719', '050719', '280619', '260619', '060619'] 120919\n",
      "************************\n",
      "310719 ['070819', '290719', '220719', '150719', '050719', '280619', '260619', '060619'] 060919\n",
      "************************\n",
      "310719 ['070819', '290719', '220719', '150719', '050719', '280619', '260619', '060619'] 080919\n",
      "************************\n",
      "300719 ['070819', '290719', '220719', '150719', '050719', '280619', '260619', '060619'] 060919\n",
      "************************\n",
      "300719 ['070819', '290719', '220719', '150719', '050719', '280619', '260619', '060619'] 040919\n",
      "************************\n",
      "300719 ['070819', '290719', '220719', '150719', '050719', '280619', '260619', '060619'] 060919\n",
      "************************\n",
      "010819 ['070819', '290719', '220719', '150719', '050719', '280619', '260619', '060619'] 120919\n",
      "************************\n",
      "010819 ['070819', '290719', '220719', '150719', '050719', '280619', '260619', '060619'] 070919\n",
      "************************\n",
      "300719 ['070819', '290719', '220719', '150719', '050719', '280619', '260619', '060619'] 090919\n",
      "************************\n",
      "310719 ['070819', '290719', '220719', '150719', '050719', '280619', '260619', '060619'] 140919\n",
      "************************\n",
      "300719 ['070819', '290719', '220719', '150719', '050719', '280619', '260619', '060619'] 140919\n",
      "************************\n",
      "010819 ['070819', '290719', '220719', '150719', '050719', '280619', '260619', '060619'] 100919\n",
      "************************\n",
      "020819 ['070819', '290719', '220719', '150719', '050719', '280619', '260619', '060619'] 070919\n",
      "************************\n",
      "020819 ['070819', '290719', '220719', '150719', '050719', '280619', '260619', '060619'] 080919\n",
      "************************\n",
      "300719 ['070819', '290719', '220719', '150719', '050719', '280619', '260619', '060619'] 140919\n",
      "************************\n",
      "010819 ['070819', '290719', '220719', '150719', '050719', '280619', '260619', '060619'] 090919\n",
      "************************\n",
      "020819 ['070819', '290719', '220719', '150719', '050719', '280619', '260619', '060619'] 080919\n",
      "************************\n",
      "310719 ['070819', '290719', '220719', '150719', '050719', '280619', '260619', '060619'] 050919\n",
      "************************\n",
      "300719 ['070819', '290719', '220719', '150719', '050719', '280619', '260619', '060619'] 080919\n",
      "************************\n",
      "010819 ['070819', '290719', '220719', '150719', '050719', '280619', '260619', '060619'] 120919\n",
      "************************\n",
      "310719 ['070819', '290719', '220719', '150719', '050719', '280619', '260619', '060619'] 060919\n",
      "************************\n",
      "310719 ['070819', '290719', '220719', '150719', '050719', '280619', '260619', '060619'] 080919\n",
      "************************\n",
      "300719 ['070819', '290719', '220719', '150719', '050719', '280619', '260619', '060619'] 060919\n",
      "************************\n",
      "300719 ['070819', '290719', '220719', '150719', '050719', '280619', '260619', '060619'] 040919\n",
      "************************\n",
      "300719 ['070819', '290719', '220719', '150719', '050719', '280619', '260619', '060619'] 060919\n",
      "************************\n",
      "010819 ['070819', '290719', '220719', '150719', '050719', '280619', '260619', '060619'] 120919\n",
      "************************\n",
      "010819 ['070819', '290719', '220719', '150719', '050719', '280619', '260619', '060619'] 070919\n",
      "************************\n",
      "300719 ['070819', '290719', '220719', '150719', '050719', '280619', '260619', '060619'] 090919\n",
      "************************\n",
      "310719 ['070819', '290719', '220719', '150719', '050719', '280619', '260619', '060619'] 140919\n",
      "************************\n",
      "300719 ['070819', '290719', '220719', '150719', '050719', '280619', '260619', '060619'] 140919\n",
      "************************\n",
      "010819 ['070819', '290719', '220719', '150719', '050719', '280619', '260619', '060619'] 100919\n",
      "************************\n",
      "020819 ['070819', '290719', '220719', '150719', '050719', '280619', '260619', '060619'] 070919\n",
      "************************\n",
      "020819 ['070819', '290719', '220719', '150719', '050719', '280619', '260619', '060619'] 080919\n",
      "************************\n",
      "300719 ['070819', '290719', '220719', '150719', '050719', '280619', '260619', '060619'] 140919\n",
      "************************\n",
      "010819 ['070819', '290719', '220719', '150719', '050719', '280619', '260619', '060619'] 090919\n",
      "************************\n",
      "020819 ['070819', '290719', '220719', '150719', '050719', '280619', '260619', '060619'] 080919\n",
      "************************\n",
      "310719 ['070819', '290719', '220719', '150719', '050719', '280619', '260619', '060619'] 050919\n",
      "************************\n",
      "300719 ['070819', '290719', '220719', '150719', '050719', '280619', '260619', '060619'] 080919\n",
      "************************\n",
      "010819 ['070819', '290719', '220719', '150719', '050719', '280619', '260619', '060619'] 120919\n",
      "************************\n",
      "310719 ['070819', '290719', '220719', '150719', '050719', '280619', '260619', '060619'] 060919\n",
      "************************\n",
      "310719 ['070819', '290719', '220719', '150719', '050719', '280619', '260619', '060619'] 080919\n",
      "************************\n",
      "300719 ['070819', '290719', '220719', '150719', '050719', '280619', '260619', '060619'] 060919\n",
      "************************\n",
      "300719 ['070819', '290719', '220719', '150719', '050719', '280619', '260619', '060619'] 040919\n",
      "************************\n",
      "300719 ['070819', '290719', '220719', '150719', '050719', '280619', '260619', '060619'] 060919\n",
      "************************\n",
      "010819 ['070819', '290719', '220719', '150719', '050719', '280619', '260619', '060619'] 120919\n",
      "************************\n",
      "010819 ['070819', '290719', '220719', '150719', '050719', '280619', '260619', '060619'] 070919\n",
      "************************\n",
      "300719 ['070819', '290719', '220719', '150719', '050719', '280619', '260619', '060619'] 090919\n",
      "************************\n",
      "310719 ['070819', '290719', '220719', '150719', '050719', '280619', '260619', '060619'] 140919\n",
      "************************\n",
      "300719 ['070819', '290719', '220719', '150719', '050719', '280619', '260619', '060619'] 140919\n",
      "************************\n",
      "010819 ['070819', '290719', '220719', '150719', '050719', '280619', '260619', '060619'] 100919\n",
      "************************\n",
      "020819 ['070819', '290719', '220719', '150719', '050719', '280619', '260619', '060619'] 070919\n",
      "************************\n",
      "020819 ['070819', '290719', '220719', '150719', '050719', '280619', '260619', '060619'] 080919\n",
      "************************\n",
      "300719 ['070819', '290719', '220719', '150719', '050719', '280619', '260619', '060619'] 140919\n",
      "************************\n",
      "010819 ['070819', '290719', '220719', '150719', '050719', '280619', '260619', '060619'] 090919\n",
      "************************\n",
      "020819 ['070819', '290719', '220719', '150719', '050719', '280619', '260619', '060619'] 080919\n",
      "************************\n",
      "310719 ['070819', '290719', '220719', '150719', '050719', '280619', '260619', '060619'] 050919\n",
      "************************\n",
      "300719 ['070819', '290719', '220719', '150719', '050719', '280619', '260619', '060619'] 080919\n",
      "************************\n",
      "010819 ['070819', '290719', '220719', '150719', '050719', '280619', '260619', '060619'] 120919\n",
      "************************\n",
      "310719 ['070819', '290719', '220719', '150719', '050719', '280619', '260619', '060619'] 060919\n",
      "************************\n",
      "310719 ['070819', '290719', '220719', '150719', '050719', '280619', '260619', '060619'] 080919\n",
      "************************\n",
      "300719 ['070819', '290719', '220719', '150719', '050719', '280619', '260619', '060619'] 060919\n",
      "************************\n",
      "300719 ['070819', '290719', '220719', '150719', '050719', '280619', '260619', '060619'] 040919\n",
      "************************\n",
      "300719 ['070819', '290719', '220719', '150719', '050719', '280619', '260619', '060619'] 060919\n",
      "************************\n",
      "010819 ['070819', '290719', '220719', '150719', '050719', '280619', '260619', '060619'] 120919\n",
      "************************\n",
      "010819 ['070819', '290719', '220719', '150719', '050719', '280619', '260619', '060619'] 070919\n",
      "************************\n",
      "300719 ['070819', '290719', '220719', '150719', '050719', '280619', '260619', '060619'] 090919\n",
      "************************\n",
      "310719 ['070819', '290719', '220719', '150719', '050719', '280619', '260619', '060619'] 140919\n",
      "************************\n",
      "300719 ['070819', '290719', '220719', '150719', '050719', '280619', '260619', '060619'] 140919\n",
      "************************\n",
      "010819 ['070819', '290719', '220719', '150719', '050719', '280619', '260619', '060619'] 100919\n",
      "************************\n",
      "020819 ['070819', '290719', '220719', '150719', '050719', '280619', '260619', '060619'] 070919\n",
      "************************\n",
      "020819 ['070819', '290719', '220719', '150719', '050719', '280619', '260619', '060619'] 080919\n",
      "************************\n",
      "300719 ['070819', '290719', '220719', '150719', '050719', '280619', '260619', '060619'] 140919\n",
      "************************\n",
      "010819 ['070819', '290719', '220719', '150719', '050719', '280619', '260619', '060619'] 090919\n",
      "************************\n",
      "020819 ['070819', '290719', '220719', '150719', '050719', '280619', '260619', '060619'] 080919\n",
      "************************\n",
      "310719 ['070819', '290719', '220719', '150719', '050719', '280619', '260619', '060619'] 050919\n",
      "************************\n",
      "300719 ['070819', '290719', '220719', '150719', '050719', '280619', '260619', '060619'] 080919\n",
      "************************\n",
      "010819 ['070819', '290719', '220719', '150719', '050719', '280619', '260619', '060619'] 120919\n",
      "************************\n",
      "310719 ['070819', '290719', '220719', '150719', '050719', '280619', '260619', '060619'] 060919\n",
      "************************\n",
      "310719 ['070819', '290719', '220719', '150719', '050719', '280619', '260619', '060619'] 080919\n",
      "************************\n",
      "300719 ['070819', '290719', '220719', '150719', '050719', '280619', '260619', '060619'] 060919\n",
      "************************\n",
      "300719 ['070819', '290719', '220719', '150719', '050719', '280619', '260619', '060619'] 040919\n",
      "************************\n",
      "300719 ['070819', '290719', '220719', '150719', '050719', '280619', '260619', '060619'] 060919\n",
      "************************\n",
      "010819 ['070819', '290719', '220719', '150719', '050719', '280619', '260619', '060619'] 120919\n",
      "************************\n",
      "010819 ['070819', '290719', '220719', '150719', '050719', '280619', '260619', '060619'] 070919\n",
      "************************\n",
      "300719 ['070819', '290719', '220719', '150719', '050719', '280619', '260619', '060619'] 090919\n",
      "************************\n",
      "310719 ['070819', '290719', '220719', '150719', '050719', '280619', '260619', '060619'] 140919\n",
      "************************\n",
      "300719 ['070819', '290719', '220719', '150719', '050719', '280619', '260619', '060619'] 140919\n",
      "************************\n",
      "010819 ['070819', '290719', '220719', '150719', '050719', '280619', '260619', '060619'] 100919\n",
      "************************\n",
      "020819 ['070819', '290719', '220719', '150719', '050719', '280619', '260619', '060619'] 070919\n",
      "************************\n",
      "020819 ['070819', '290719', '220719', '150719', '050719', '280619', '260619', '060619'] 080919\n",
      "************************\n",
      "300719 ['070819', '290719', '220719', '150719', '050719', '280619', '260619', '060619'] 140919\n",
      "************************\n",
      "010819 ['070819', '290719', '220719', '150719', '050719', '280619', '260619', '060619'] 090919\n",
      "************************\n",
      "020819 ['070819', '290719', '220719', '150719', '050719', '280619', '260619', '060619'] 080919\n",
      "************************\n",
      "310719 ['070819', '290719', '220719', '150719', '050719', '280619', '260619', '060619'] 050919\n",
      "************************\n",
      "300719 ['070819', '290719', '220719', '150719', '050719', '280619', '260619', '060619'] 080919\n",
      "************************\n",
      "010819 ['070819', '290719', '220719', '150719', '050719', '280619', '260619', '060619'] 120919\n",
      "************************\n",
      "310719 ['070819', '290719', '220719', '150719', '050719', '280619', '260619', '060619'] 060919\n",
      "************************\n",
      "310719 ['070819', '290719', '220719', '150719', '050719', '280619', '260619', '060619'] 080919\n",
      "************************\n",
      "300719 ['070819', '290719', '220719', '150719', '050719', '280619', '260619', '060619'] 060919\n",
      "************************\n",
      "300719 ['070819', '290719', '220719', '150719', '050719', '280619', '260619', '060619'] 040919\n",
      "************************\n",
      "300719 ['070819', '290719', '220719', '150719', '050719', '280619', '260619', '060619'] 060919\n",
      "************************\n",
      "010819 ['070819', '290719', '220719', '150719', '050719', '280619', '260619', '060619'] 120919\n",
      "************************\n",
      "010819 ['070819', '290719', '220719', '150719', '050719', '280619', '260619', '060619'] 070919\n",
      "************************\n",
      "300719 ['070819', '290719', '220719', '150719', '050719', '280619', '260619', '060619'] 090919\n",
      "************************\n",
      "310719 ['070819', '290719', '220719', '150719', '050719', '280619', '260619', '060619'] 140919\n"
     ]
    },
    {
     "name": "stdout",
     "output_type": "stream",
     "text": [
      "************************\n",
      "300719 ['070819', '290719', '220719', '150719', '050719', '280619', '260619', '060619'] 140919\n",
      "************************\n",
      "010819 ['070819', '290719', '220719', '150719', '050719', '280619', '260619', '060619'] 100919\n",
      "************************\n",
      "020819 ['070819', '290719', '220719', '150719', '050719', '280619', '260619', '060619'] 070919\n",
      "************************\n",
      "020819 ['070819', '290719', '220719', '150719', '050719', '280619', '260619', '060619'] 080919\n",
      "************************\n",
      "300719 ['070819', '290719', '220719', '150719', '050719', '280619', '260619', '060619'] 140919\n",
      "************************\n",
      "010819 ['070819', '290719', '220719', '150719', '050719', '280619', '260619', '060619'] 090919\n",
      "************************\n",
      "020819 ['070819', '290719', '220719', '150719', '050719', '280619', '260619', '060619'] 080919\n",
      "************************\n",
      "310719 ['070819', '290719', '220719', '150719', '050719', '280619', '260619', '060619'] 050919\n",
      "************************\n",
      "300719 ['070819', '290719', '220719', '150719', '050719', '280619', '260619', '060619'] 080919\n",
      "************************\n",
      "010819 ['070819', '290719', '220719', '150719', '050719', '280619', '260619', '060619'] 120919\n",
      "************************\n",
      "310719 ['070819', '290719', '220719', '150719', '050719', '280619', '260619', '060619'] 060919\n",
      "************************\n",
      "310719 ['070819', '290719', '220719', '150719', '050719', '280619', '260619', '060619'] 080919\n",
      "************************\n",
      "300719 ['070819', '290719', '220719', '150719', '050719', '280619', '260619', '060619'] 060919\n",
      "************************\n",
      "300719 ['070819', '290719', '220719', '150719', '050719', '280619', '260619', '060619'] 040919\n",
      "************************\n",
      "300719 ['070819', '290719', '220719', '150719', '050719', '280619', '260619', '060619'] 060919\n",
      "************************\n",
      "010819 ['070819', '290719', '220719', '150719', '050719', '280619', '260619', '060619'] 120919\n",
      "************************\n",
      "010819 ['070819', '290719', '220719', '150719', '050719', '280619', '260619', '060619'] 070919\n",
      "************************\n",
      "300719 ['070819', '290719', '220719', '150719', '050719', '280619', '260619', '060619'] 090919\n",
      "************************\n",
      "310719 ['070819', '290719', '220719', '150719', '050719', '280619', '260619', '060619'] 140919\n",
      "************************\n",
      "300719 ['070819', '290719', '220719', '150719', '050719', '280619', '260619', '060619'] 140919\n",
      "************************\n",
      "010819 ['070819', '290719', '220719', '150719', '050719', '280619', '260619', '060619'] 100919\n",
      "************************\n",
      "020819 ['070819', '290719', '220719', '150719', '050719', '280619', '260619', '060619'] 070919\n",
      "************************\n",
      "020819 ['070819', '290719', '220719', '150719', '050719', '280619', '260619', '060619'] 080919\n",
      "************************\n",
      "300719 ['070819', '290719', '220719', '150719', '050719', '280619', '260619', '060619'] 140919\n",
      "************************\n",
      "010819 ['070819', '290719', '220719', '150719', '050719', '280619', '260619', '060619'] 090919\n",
      "************************\n",
      "020819 ['070819', '290719', '220719', '150719', '050719', '280619', '260619', '060619'] 080919\n",
      "************************\n",
      "310719 ['070819', '290719', '220719', '150719', '050719', '280619', '260619', '060619'] 050919\n",
      "************************\n",
      "300719 ['070819', '290719', '220719', '150719', '050719', '280619', '260619', '060619'] 080919\n",
      "************************\n",
      "010819 ['070819', '290719', '220719', '150719', '050719', '280619', '260619', '060619'] 120919\n",
      "************************\n",
      "310719 ['070819', '290719', '220719', '150719', '050719', '280619', '260619', '060619'] 060919\n",
      "************************\n",
      "310719 ['070819', '290719', '220719', '150719', '050719', '280619', '260619', '060619'] 080919\n",
      "************************\n",
      "300719 ['070819', '290719', '220719', '150719', '050719', '280619', '260619', '060619'] 060919\n",
      "************************\n",
      "300719 ['070819', '290719', '220719', '150719', '050719', '280619', '260619', '060619'] 040919\n",
      "************************\n",
      "300719 ['070819', '290719', '220719', '150719', '050719', '280619', '260619', '060619'] 060919\n",
      "************************\n",
      "010819 ['070819', '290719', '220719', '150719', '050719', '280619', '260619', '060619'] 120919\n",
      "************************\n",
      "010819 ['070819', '290719', '220719', '150719', '050719', '280619', '260619', '060619'] 070919\n",
      "************************\n",
      "300719 ['070819', '290719', '220719', '150719', '050719', '280619', '260619', '060619'] 090919\n",
      "************************\n",
      "310719 ['070819', '290719', '220719', '150719', '050719', '280619', '260619', '060619'] 140919\n",
      "************************\n",
      "300719 ['070819', '290719', '220719', '150719', '050719', '280619', '260619', '060619'] 140919\n",
      "************************\n",
      "010819 ['070819', '290719', '220719', '150719', '050719', '280619', '260619', '060619'] 100919\n",
      "************************\n",
      "020819 ['070819', '290719', '220719', '150719', '050719', '280619', '260619', '060619'] 070919\n",
      "************************\n",
      "020819 ['070819', '290719', '220719', '150719', '050719', '280619', '260619', '060619'] 080919\n",
      "************************\n",
      "300719 ['070819', '290719', '220719', '150719', '050719', '280619', '260619', '060619'] 140919\n",
      "************************\n",
      "010819 ['070819', '290719', '220719', '150719', '050719', '280619', '260619', '060619'] 090919\n",
      "************************\n",
      "020819 ['070819', '290719', '220719', '150719', '050719', '280619', '260619', '060619'] 080919\n",
      "************************\n",
      "310719 ['070819', '290719', '220719', '150719', '050719', '280619', '260619', '060619'] 050919\n",
      "************************\n",
      "300719 ['070819', '290719', '220719', '150719', '050719', '280619', '260619', '060619'] 080919\n",
      "************************\n",
      "010819 ['070819', '290719', '220719', '150719', '050719', '280619', '260619', '060619'] 120919\n",
      "************************\n",
      "310719 ['070819', '290719', '220719', '150719', '050719', '280619', '260619', '060619'] 060919\n",
      "************************\n",
      "310719 ['070819', '290719', '220719', '150719', '050719', '280619', '260619', '060619'] 080919\n",
      "************************\n",
      "300719 ['070819', '290719', '220719', '150719', '050719', '280619', '260619', '060619'] 060919\n",
      "************************\n",
      "300719 ['070819', '290719', '220719', '150719', '050719', '280619', '260619', '060619'] 040919\n",
      "************************\n",
      "300719 ['070819', '290719', '220719', '150719', '050719', '280619', '260619', '060619'] 060919\n",
      "************************\n",
      "010819 ['070819', '290719', '220719', '150719', '050719', '280619', '260619', '060619'] 120919\n",
      "************************\n",
      "010819 ['070819', '290719', '220719', '150719', '050719', '280619', '260619', '060619'] 070919\n",
      "************************\n",
      "300719 ['070819', '290719', '220719', '150719', '050719', '280619', '260619', '060619'] 090919\n",
      "************************\n",
      "310719 ['070819', '290719', '220719', '150719', '050719', '280619', '260619', '060619'] 140919\n",
      "************************\n",
      "300719 ['070819', '290719', '220719', '150719', '050719', '280619', '260619', '060619'] 140919\n",
      "************************\n",
      "010819 ['070819', '290719', '220719', '150719', '050719', '280619', '260619', '060619'] 100919\n",
      "************************\n",
      "020819 ['070819', '290719', '220719', '150719', '050719', '280619', '260619', '060619'] 070919\n",
      "************************\n",
      "020819 ['070819', '290719', '220719', '150719', '050719', '280619', '260619', '060619'] 080919\n",
      "************************\n",
      "300719 ['070819', '290719', '220719', '150719', '050719', '280619', '260619', '060619'] 140919\n",
      "************************\n",
      "010819 ['070819', '290719', '220719', '150719', '050719', '280619', '260619', '060619'] 090919\n",
      "************************\n",
      "020819 ['070819', '290719', '220719', '150719', '050719', '280619', '260619', '060619'] 080919\n",
      "************************\n",
      "310719 ['070819', '290719', '220719', '150719', '050719', '280619', '260619', '060619'] 050919\n",
      "************************\n",
      "300719 ['070819', '290719', '220719', '150719', '050719', '280619', '260619', '060619'] 080919\n",
      "************************\n",
      "010819 ['070819', '290719', '220719', '150719', '050719', '280619', '260619', '060619'] 120919\n",
      "************************\n",
      "310719 ['070819', '290719', '220719', '150719', '050719', '280619', '260619', '060619'] 060919\n",
      "************************\n",
      "310719 ['070819', '290719', '220719', '150719', '050719', '280619', '260619', '060619'] 080919\n",
      "************************\n",
      "300719 ['070819', '290719', '220719', '150719', '050719', '280619', '260619', '060619'] 060919\n",
      "************************\n",
      "300719 ['070819', '290719', '220719', '150719', '050719', '280619', '260619', '060619'] 040919\n",
      "************************\n",
      "300719 ['070819', '290719', '220719', '150719', '050719', '280619', '260619', '060619'] 060919\n",
      "************************\n",
      "010819 ['070819', '290719', '220719', '150719', '050719', '280619', '260619', '060619'] 120919\n",
      "************************\n",
      "010819 ['070819', '290719', '220719', '150719', '050719', '280619', '260619', '060619'] 070919\n",
      "************************\n",
      "300719 ['070819', '290719', '220719', '150719', '050719', '280619', '260619', '060619'] 090919\n",
      "************************\n",
      "310719 ['070819', '290719', '220719', '150719', '050719', '280619', '260619', '060619'] 140919\n",
      "************************\n",
      "300719 ['070819', '290719', '220719', '150719', '050719', '280619', '260619', '060619'] 140919\n",
      "************************\n",
      "010819 ['070819', '290719', '220719', '150719', '050719', '280619', '260619', '060619'] 100919\n",
      "************************\n",
      "020819 ['070819', '290719', '220719', '150719', '050719', '280619', '260619', '060619'] 070919\n",
      "************************\n",
      "020819 ['070819', '290719', '220719', '150719', '050719', '280619', '260619', '060619'] 080919\n",
      "************************\n",
      "300719 ['070819', '290719', '220719', '150719', '050719', '280619', '260619', '060619'] 140919\n",
      "************************\n",
      "010819 ['070819', '290719', '220719', '150719', '050719', '280619', '260619', '060619'] 090919\n",
      "************************\n",
      "020819 ['070819', '290719', '220719', '150719', '050719', '280619', '260619', '060619'] 080919\n",
      "************************\n",
      "310719 ['070819', '290719', '220719', '150719', '050719', '280619', '260619', '060619'] 050919\n",
      "************************\n",
      "300719 ['070819', '290719', '220719', '150719', '050719', '280619', '260619', '060619'] 080919\n",
      "************************\n",
      "010819 ['070819', '290719', '220719', '150719', '050719', '280619', '260619', '060619'] 120919\n",
      "************************\n",
      "310719 ['070819', '290719', '220719', '150719', '050719', '280619', '260619', '060619'] 060919\n",
      "************************\n",
      "310719 ['070819', '290719', '220719', '150719', '050719', '280619', '260619', '060619'] 080919\n",
      "************************\n",
      "300719 ['070819', '290719', '220719', '150719', '050719', '280619', '260619', '060619'] 060919\n",
      "************************\n",
      "300719 ['070819', '290719', '220719', '150719', '050719', '280619', '260619', '060619'] 040919\n",
      "************************\n",
      "300719 ['070819', '290719', '220719', '150719', '050719', '280619', '260619', '060619'] 060919\n",
      "************************\n",
      "010819 ['070819', '290719', '220719', '150719', '050719', '280619', '260619', '060619'] 120919\n",
      "************************\n",
      "010819 ['070819', '290719', '220719', '150719', '050719', '280619', '260619', '060619'] 070919\n",
      "************************\n",
      "300719 ['070819', '290719', '220719', '150719', '050719', '280619', '260619', '060619'] 090919\n",
      "************************\n",
      "310719 ['070819', '290719', '220719', '150719', '050719', '280619', '260619', '060619'] 140919\n",
      "************************\n",
      "300719 ['070819', '290719', '220719', '150719', '050719', '280619', '260619', '060619'] 140919\n",
      "************************\n",
      "010819 ['070819', '290719', '220719', '150719', '050719', '280619', '260619', '060619'] 100919\n",
      "************************\n",
      "020819 ['070819', '290719', '220719', '150719', '050719', '280619', '260619', '060619'] 070919\n",
      "************************\n",
      "020819 ['070819', '290719', '220719', '150719', '050719', '280619', '260619', '060619'] 080919\n",
      "************************\n",
      "300719 ['070819', '290719', '220719', '150719', '050719', '280619', '260619', '060619'] 140919\n",
      "************************\n",
      "010819 ['070819', '290719', '220719', '150719', '050719', '280619', '260619', '060619'] 090919\n",
      "************************\n",
      "020819 ['070819', '290719', '220719', '150719', '050719', '280619', '260619', '060619'] 080919\n",
      "************************\n",
      "310719 ['070819', '290719', '220719', '150719', '050719', '280619', '260619', '060619'] 050919\n",
      "************************\n",
      "300719 ['070819', '290719', '220719', '150719', '050719', '280619', '260619', '060619'] 080919\n",
      "************************\n",
      "010819 ['070819', '290719', '220719', '150719', '050719', '280619', '260619', '060619'] 120919\n",
      "************************\n",
      "310719 ['070819', '290719', '220719', '150719', '050719', '280619', '260619', '060619'] 060919\n",
      "************************\n",
      "310719 ['070819', '290719', '220719', '150719', '050719', '280619', '260619', '060619'] 080919\n",
      "************************\n",
      "300719 ['070819', '290719', '220719', '150719', '050719', '280619', '260619', '060619'] 060919\n",
      "************************\n",
      "300719 ['070819', '290719', '220719', '150719', '050719', '280619', '260619', '060619'] 040919\n",
      "************************\n",
      "300719 ['070819', '290719', '220719', '150719', '050719', '280619', '260619', '060619'] 060919\n",
      "************************\n",
      "010819 ['070819', '290719', '220719', '150719', '050719', '280619', '260619', '060619'] 120919\n",
      "************************\n",
      "010819 ['070819', '290719', '220719', '150719', '050719', '280619', '260619', '060619'] 070919\n",
      "************************\n",
      "300719 ['070819', '290719', '220719', '150719', '050719', '280619', '260619', '060619'] 090919\n",
      "************************\n",
      "310719 ['070819', '290719', '220719', '150719', '050719', '280619', '260619', '060619'] 140919\n",
      "************************\n",
      "300719 ['070819', '290719', '220719', '150719', '050719', '280619', '260619', '060619'] 140919\n",
      "************************\n",
      "010819 ['070819', '290719', '220719', '150719', '050719', '280619', '260619', '060619'] 100919\n",
      "************************\n",
      "020819 ['070819', '290719', '220719', '150719', '050719', '280619', '260619', '060619'] 070919\n",
      "************************\n",
      "020819 ['070819', '290719', '220719', '150719', '050719', '280619', '260619', '060619'] 080919\n",
      "************************\n",
      "300719 ['070819', '290719', '220719', '150719', '050719', '280619', '260619', '060619'] 140919\n",
      "************************\n",
      "010819 ['070819', '290719', '220719', '150719', '050719', '280619', '260619', '060619'] 090919\n",
      "************************\n",
      "020819 ['070819', '290719', '220719', '150719', '050719', '280619', '260619', '060619'] 080919\n",
      "************************\n",
      "310719 ['070819', '290719', '220719', '150719', '050719', '280619', '260619', '060619'] 050919\n",
      "************************\n",
      "300719 ['070819', '290719', '220719', '150719', '050719', '280619', '260619', '060619'] 080919\n",
      "************************\n",
      "010819 ['070819', '290719', '220719', '150719', '050719', '280619', '260619', '060619'] 120919\n",
      "************************\n",
      "310719 ['070819', '290719', '220719', '150719', '050719', '280619', '260619', '060619'] 060919\n",
      "************************\n",
      "310719 ['070819', '290719', '220719', '150719', '050719', '280619', '260619', '060619'] 080919\n",
      "************************\n",
      "300719 ['070819', '290719', '220719', '150719', '050719', '280619', '260619', '060619'] 060919\n",
      "************************\n",
      "300719 ['070819', '290719', '220719', '150719', '050719', '280619', '260619', '060619'] 040919\n",
      "************************\n",
      "300719 ['070819', '290719', '220719', '150719', '050719', '280619', '260619', '060619'] 060919\n",
      "************************\n",
      "010819 ['070819', '290719', '220719', '150719', '050719', '280619', '260619', '060619'] 120919\n",
      "************************\n",
      "010819 ['070819', '290719', '220719', '150719', '050719', '280619', '260619', '060619'] 070919\n",
      "************************\n",
      "300719 ['070819', '290719', '220719', '150719', '050719', '280619', '260619', '060619'] 090919\n",
      "************************\n",
      "310719 ['070819', '290719', '220719', '150719', '050719', '280619', '260619', '060619'] 140919\n",
      "************************\n",
      "300719 ['070819', '290719', '220719', '150719', '050719', '280619', '260619', '060619'] 140919\n",
      "************************\n",
      "010819 ['070819', '290719', '220719', '150719', '050719', '280619', '260619', '060619'] 100919\n",
      "************************\n",
      "020819 ['070819', '290719', '220719', '150719', '050719', '280619', '260619', '060619'] 070919\n",
      "************************\n",
      "020819 ['070819', '290719', '220719', '150719', '050719', '280619', '260619', '060619'] 080919\n",
      "************************\n",
      "300719 ['070819', '290719', '220719', '150719', '050719', '280619', '260619', '060619'] 140919\n",
      "************************\n",
      "010819 ['070819', '290719', '220719', '150719', '050719', '280619', '260619', '060619'] 090919\n",
      "************************\n",
      "020819 ['070819', '290719', '220719', '150719', '050719', '280619', '260619', '060619'] 080919\n",
      "************************\n",
      "310719 ['070819', '290719', '220719', '150719', '050719', '280619', '260619', '060619'] 050919\n",
      "************************\n",
      "300719 ['070819', '290719', '220719', '150719', '050719', '280619', '260619', '060619'] 080919\n",
      "************************\n",
      "010819 ['070819', '290719', '220719', '150719', '050719', '280619', '260619', '060619'] 120919\n",
      "************************\n",
      "310719 ['070819', '290719', '220719', '150719', '050719', '280619', '260619', '060619'] 060919\n",
      "************************\n",
      "310719 ['070819', '290719', '220719', '150719', '050719', '280619', '260619', '060619'] 080919\n",
      "************************\n",
      "300719 ['070819', '290719', '220719', '150719', '050719', '280619', '260619', '060619'] 060919\n",
      "************************\n",
      "300719 ['070819', '290719', '220719', '150719', '050719', '280619', '260619', '060619'] 040919\n",
      "************************\n",
      "300719 ['070819', '290719', '220719', '150719', '050719', '280619', '260619', '060619'] 060919\n",
      "************************\n",
      "010819 ['070819', '290719', '220719', '150719', '050719', '280619', '260619', '060619'] 120919\n",
      "************************\n",
      "010819 ['070819', '290719', '220719', '150719', '050719', '280619', '260619', '060619'] 070919\n",
      "************************\n",
      "300719 ['070819', '290719', '220719', '150719', '050719', '280619', '260619', '060619'] 090919\n",
      "************************\n",
      "310719 ['070819', '290719', '220719', '150719', '050719', '280619', '260619', '060619'] 140919\n",
      "************************\n",
      "300719 ['070819', '290719', '220719', '150719', '050719', '280619', '260619', '060619'] 140919\n",
      "************************\n",
      "010819 ['070819', '290719', '220719', '150719', '050719', '280619', '260619', '060619'] 100919\n",
      "************************\n",
      "020819 ['070819', '290719', '220719', '150719', '050719', '280619', '260619', '060619'] 070919\n",
      "************************\n",
      "020819 ['070819', '290719', '220719', '150719', '050719', '280619', '260619', '060619'] 080919\n",
      "************************\n",
      "300719 ['070819', '290719', '220719', '150719', '050719', '280619', '260619', '060619'] 140919\n",
      "************************\n",
      "010819 ['070819', '290719', '220719', '150719', '050719', '280619', '260619', '060619'] 090919\n",
      "************************\n",
      "020819 ['070819', '290719', '220719', '150719', '050719', '280619', '260619', '060619'] 080919\n",
      "************************\n",
      "310719 ['070819', '290719', '220719', '150719', '050719', '280619', '260619', '060619'] 050919\n",
      "************************\n",
      "300719 ['070819', '290719', '220719', '150719', '050719', '280619', '260619', '060619'] 080919\n",
      "************************\n",
      "010819 ['070819', '290719', '220719', '150719', '050719', '280619', '260619', '060619'] 120919\n",
      "************************\n",
      "310719 ['070819', '290719', '220719', '150719', '050719', '280619', '260619', '060619'] 060919\n",
      "************************\n",
      "310719 ['070819', '290719', '220719', '150719', '050719', '280619', '260619', '060619'] 080919\n",
      "************************\n",
      "300719 ['070819', '290719', '220719', '150719', '050719', '280619', '260619', '060619'] 060919\n",
      "************************\n",
      "300719 ['070819', '290719', '220719', '150719', '050719', '280619', '260619', '060619'] 040919\n",
      "************************\n"
     ]
    }
   ],
   "source": [
    "# Plot_ID, simps_value, trapz_value, temp_cols, temp_dates, sowing_date, DH, DM, heading_date, maturity_date, temp_entries, days_before, temp_entries_dropna, days_sow])\n",
    "\n",
    "list_problem = []\n",
    "pprint(samples_record_simps['Masbasis_2019'].keys())\n",
    "for keya, data in samples_record_simps['Masbasis_2019'].items():\n",
    "    for x in data:\n",
    "        if x [1]==0:\n",
    "            temp_entries = x[10]\n",
    "            days_sow = x[11]\n",
    "#             simps(xx,dd)\n",
    "            sowing_date = x[5]\n",
    "            DH = x[6]\n",
    "            DM = x[7]\n",
    "            temp_dates = x[4]\n",
    "            heading_date= x[8]\n",
    "            maturity_date = x[9]\n",
    "#             print(x[0], x[5])\n",
    "#             print(x)\n",
    "            list_problem.append(x[0])\n",
    "            temp_entries_filtered = [x if heading_date <= x <= maturity_date else np.nan for x,y in zip(temp_dates, temp_entries)]\n",
    "            print(heading_date.strftime('%d%m%y'),[x.strftime('%d%m%y') for x in temp_dates],  maturity_date.strftime('%d%m%y'))\n",
    "            print('************************')"
   ]
  },
  {
   "cell_type": "code",
   "execution_count": null,
   "metadata": {
    "ExecuteTime": {
     "end_time": "2021-10-13T20:18:56.193365Z",
     "start_time": "2021-10-13T20:18:42.772Z"
    }
   },
   "outputs": [],
   "source": [
    "\n",
    "temp_entries_filtered = [y if heading_date <= x <= maturity_date else np.nan for x,y in zip(temp_dates, temp_entries)]\n",
    "temp_entries_filtered\n",
    "# \n",
    "sowing_date, DH, DM, heading_date, maturity_date, temp_dates"
   ]
  },
  {
   "cell_type": "code",
   "execution_count": null,
   "metadata": {
    "ExecuteTime": {
     "end_time": "2021-10-13T20:18:56.194362Z",
     "start_time": "2021-10-13T20:18:42.777Z"
    }
   },
   "outputs": [],
   "source": [
    "temp_entries"
   ]
  },
  {
   "cell_type": "code",
   "execution_count": null,
   "metadata": {
    "ExecuteTime": {
     "end_time": "2021-10-13T20:18:56.195359Z",
     "start_time": "2021-10-13T20:18:42.781Z"
    }
   },
   "outputs": [],
   "source": [
    "blu_cols = [x for x in Masbasis_2019_all.columns if 'Blue' in x]\n",
    "\n",
    "Masbasis_2019_all['Plot_ID']\n",
    "Masbasis_2019_all.iloc[95:96,:][blu_cols]\n",
    "\n",
    "# list_problem"
   ]
  },
  {
   "cell_type": "code",
   "execution_count": null,
   "metadata": {
    "ExecuteTime": {
     "end_time": "2021-10-13T20:18:56.197353Z",
     "start_time": "2021-10-13T20:18:42.787Z"
    }
   },
   "outputs": [],
   "source": [
    "idx_found = []\n",
    "for x in list_problem:\n",
    "    idx_found.append(int(Masbasis_2019_all[Masbasis_2019_all['Plot_ID']==x].index.values))\n",
    "#     print()\n",
    "Masbasis_2019_all.iloc[idx_found,:][['Plot_ID']+blu_cols]\n",
    "# idx_found"
   ]
  },
  {
   "cell_type": "code",
   "execution_count": null,
   "metadata": {
    "ExecuteTime": {
     "end_time": "2021-10-13T20:18:56.198351Z",
     "start_time": "2021-10-13T20:18:42.795Z"
    }
   },
   "outputs": [],
   "source": [
    "# df['Plot_ID']==x\n",
    "type(x)"
   ]
  },
  {
   "cell_type": "markdown",
   "metadata": {},
   "source": [
    "## Dropping Missing values"
   ]
  },
  {
   "cell_type": "code",
   "execution_count": null,
   "metadata": {
    "ExecuteTime": {
     "end_time": "2021-10-13T20:18:56.199350Z",
     "start_time": "2021-10-13T20:18:42.977Z"
    }
   },
   "outputs": [],
   "source": [
    "df_dh_dm"
   ]
  },
  {
   "cell_type": "code",
   "execution_count": null,
   "metadata": {
    "ExecuteTime": {
     "end_time": "2021-10-13T20:18:56.201343Z",
     "start_time": "2021-10-13T20:18:42.980Z"
    },
    "scrolled": false
   },
   "outputs": [],
   "source": [
    "# Masbasis_2019_Simps.info(null_counts=True)\n",
    "for df in simp_df_all:\n",
    "    temp_df = locals()[df].copy()\n",
    "#     print('*************', df, '**************')\n",
    "#     print(locals()[df].info())\n",
    "\n",
    "    print (df)\n",
    "    print('Grain Yield data missing for ', temp_df['GrainYield'].isna().sum(), 'out of ', temp_df.shape[0])\n",
    "# Graminor_2019_Simps.info()"
   ]
  },
  {
   "cell_type": "markdown",
   "metadata": {
    "ExecuteTime": {
     "end_time": "2021-10-10T23:35:44.442995Z",
     "start_time": "2021-10-10T23:35:44.424577Z"
    }
   },
   "source": [
    "Yield data of Staur 2020 is disjoint with the banda data. There are 568 subplots whose yield is not available in the yield file and there are 10 subplots in the yield data which are not in the bands data sheets.\n",
    "\n",
    "\n",
    "There are atleast 116 missing grain yield values in Msbasis 2020 yield dataset."
   ]
  },
  {
   "cell_type": "code",
   "execution_count": null,
   "metadata": {
    "ExecuteTime": {
     "end_time": "2021-10-13T20:18:56.202340Z",
     "start_time": "2021-10-13T20:18:43.174Z"
    }
   },
   "outputs": [],
   "source": [
    "simp_df_all_dropna = []\n",
    "for df in simp_df_all:\n",
    "    temp_df = locals()[df].copy()\n",
    "    rows = temp_df.shape[0]\n",
    "#     print(temp_df.shape)\n",
    "    temp_df.dropna(subset=['Blue'],inplace = True)\n",
    "    print(df, 'Dropped entries', rows- temp_df.shape[0],':', rows, temp_df.shape[0])\n",
    "    new_df = df+'_dropna'\n",
    "    locals()[new_df] = temp_df.copy()\n",
    "    simp_df_all_dropna.append(new_df)\n",
    "simp_df_all_dropna"
   ]
  },
  {
   "cell_type": "code",
   "execution_count": null,
   "metadata": {
    "ExecuteTime": {
     "end_time": "2021-10-13T20:18:56.203339Z",
     "start_time": "2021-10-13T20:18:43.178Z"
    }
   },
   "outputs": [],
   "source": [
    "trapz_df_all_dropna = []\n",
    "for df in trapz_df_all:\n",
    "    temp_df = locals()[df].copy()\n",
    "    rows = temp_df.shape[0]\n",
    "#     print(temp_df.shape)\n",
    "    temp_df.dropna(subset=['Blue'],inplace = True)\n",
    "    print(df, 'Dropped entries', rows- temp_df.shape[0],':', rows, temp_df.shape[0])\n",
    "    new_df = df+'_dropna'\n",
    "    locals()[new_df] = temp_df.copy()\n",
    "    trapz_df_all_dropna.append(new_df)\n",
    "trapz_df_all_dropna"
   ]
  },
  {
   "cell_type": "markdown",
   "metadata": {},
   "source": [
    "Old:  \n",
    "Masbasis_2019_Trapz Dropped entries 0 : 528 528  \n",
    "Masbasis_2020_Trapz Dropped entries 112 : 659 547  \n",
    "Robot_2020_Trapz Dropped entries 0 : 96 96  \n",
    "Staur_2019_Trapz Dropped entries 1166 : 1328 162  "
   ]
  },
  {
   "cell_type": "code",
   "execution_count": null,
   "metadata": {
    "ExecuteTime": {
     "end_time": "2021-10-13T20:18:56.204335Z",
     "start_time": "2021-10-13T20:18:43.421Z"
    },
    "scrolled": true
   },
   "outputs": [],
   "source": [
    "def describe_nan(df):\n",
    "    return pd.DataFrame([(i, df[df[i].isna()].shape[0],df[df[i].isna()].shape[0]/df.shape[0]) for i in df.columns], columns=['column', 'nan_counts', 'nan_rate'])\n",
    "for df in simp_df_all_dropna+trapz_df_all_dropna:\n",
    "    print(df)\n",
    "    display(describe_nan(locals()[df][base_indices+spectral_indices+['GrainYield']]).nan_counts.sum())\n",
    "#     display(describe_nan(locals()[df][base_indices+spectral_indices+['GrainYield']]))"
   ]
  },
  {
   "cell_type": "markdown",
   "metadata": {},
   "source": [
    "# Weather Data"
   ]
  },
  {
   "cell_type": "markdown",
   "metadata": {},
   "source": [
    "## Correcting datetime format"
   ]
  },
  {
   "cell_type": "code",
   "execution_count": null,
   "metadata": {
    "ExecuteTime": {
     "end_time": "2021-10-13T20:18:56.205332Z",
     "start_time": "2021-10-13T20:18:43.821Z"
    }
   },
   "outputs": [],
   "source": [
    "weather = pd.read_csv(weather_data)\n",
    "\n",
    "# Converting date time to python datetime\n",
    "weather['Time measured'] = pd.to_datetime(weather['Time measured'], infer_datetime_format=True)\n",
    "# weather['Time measured'] = weather['Time measured'].dt.normalize()\n",
    "\n",
    "# Removing timezone info from datetime sice other date data is without timezone info\n",
    "weather['Time measured'] = pd.Series(x.replace(tzinfo=None) for x in weather['Time measured'])\n",
    "\n",
    "weather.columns"
   ]
  },
  {
   "cell_type": "markdown",
   "metadata": {},
   "source": [
    "## Translating column names"
   ]
  },
  {
   "cell_type": "code",
   "execution_count": null,
   "metadata": {
    "ExecuteTime": {
     "end_time": "2021-10-13T20:18:56.206329Z",
     "start_time": "2021-10-13T20:18:43.973Z"
    }
   },
   "outputs": [],
   "source": [
    "# Translated the column heading using google translate\n",
    "\n",
    "weather.columns = ['Time measured', 'Average temperature at 2m altitude (TM)',\n",
    " 'Maximum air temperature at 2m altitude (TX)',\n",
    " 'Minimum air temperature at 2m altitude (TN)', 'Precipitation (RR)',\n",
    " 'Relative humidity in 2m', 'Relative humidity in 2m.1',\n",
    " 'last minute value (UU)', 'Leaf moisture at 2m height (BT)',\n",
    " '10 min lubricant (FF2)', '5 sec medium', 'gusts of wind (FG2)',\n",
    " 'Wind speed in 2m']\n"
   ]
  },
  {
   "cell_type": "code",
   "execution_count": null,
   "metadata": {
    "ExecuteTime": {
     "end_time": "2021-10-13T20:18:56.207327Z",
     "start_time": "2021-10-13T20:18:43.977Z"
    }
   },
   "outputs": [],
   "source": [
    "weather['Time measured']"
   ]
  },
  {
   "cell_type": "markdown",
   "metadata": {},
   "source": [
    "## Craeting a list of min and max date in every field"
   ]
  },
  {
   "cell_type": "code",
   "execution_count": null,
   "metadata": {
    "ExecuteTime": {
     "end_time": "2021-10-13T20:18:56.209321Z",
     "start_time": "2021-10-13T20:18:44.149Z"
    }
   },
   "outputs": [],
   "source": [
    "max_min_dates = {}\n",
    "for df in all_df:\n",
    "    temp_df = locals()[df].copy()\n",
    "    dates = [x.split('_')[1] for x in temp_df.columns if 'Blue' in x]\n",
    "    df_name_temp = df.split('_')[0]+'_'+df.split('_')[1]\n",
    "    sowing_date_temp = datetime.datetime.strptime(sowing_dict[df_name_temp], '%d%m%y')\n",
    "    min_date_temp = min([datetime.datetime.strptime(x, '%d%m%y') for x in dates ])\n",
    "    max_date_temp = max([datetime.datetime.strptime(x, '%d%m%y') for x in dates ])\n",
    "    max_min_dates[df] = [sowing_date_temp, min_date_temp, max_date_temp]\n",
    "# max_min_dates"
   ]
  },
  {
   "cell_type": "markdown",
   "metadata": {
    "ExecuteTime": {
     "end_time": "2021-10-06T23:34:52.239619Z",
     "start_time": "2021-10-06T23:34:52.233535Z"
    }
   },
   "source": [
    "## Calculating average DH and DM"
   ]
  },
  {
   "cell_type": "code",
   "execution_count": null,
   "metadata": {
    "ExecuteTime": {
     "end_time": "2021-10-13T20:18:56.210319Z",
     "start_time": "2021-10-13T20:18:44.344Z"
    }
   },
   "outputs": [],
   "source": [
    "dict_avg_dh_dm"
   ]
  },
  {
   "cell_type": "code",
   "execution_count": null,
   "metadata": {
    "ExecuteTime": {
     "end_time": "2021-10-13T20:18:56.212318Z",
     "start_time": "2021-10-13T20:18:44.346Z"
    }
   },
   "outputs": [],
   "source": [
    "print(f'Average Days2Heading is {mean_dh}')\n",
    "print(f'Average Days2Maturity is {mean_dm}')"
   ]
  },
  {
   "cell_type": "markdown",
   "metadata": {},
   "source": [
    "## Filtering weather data"
   ]
  },
  {
   "cell_type": "code",
   "execution_count": null,
   "metadata": {
    "ExecuteTime": {
     "end_time": "2021-10-13T20:18:56.213311Z",
     "start_time": "2021-10-13T20:18:44.525Z"
    },
    "scrolled": true
   },
   "outputs": [],
   "source": [
    "# Weather data for days from sowing date. Largerst of the average number of Days2Maturity \n",
    "# is a good measaure to use\n",
    "# Could have used max_date(last date availabel for the field) but that date does not \n",
    "# correspond to the actual crop maturity.\n",
    "# So using approxipame maturity time is a better measure of the affect of weather on yield\n",
    "days_delta = max(list_dm)\n",
    "\n",
    "weather_dfs = []\n",
    "weathers_processed_df = []\n",
    "for df, dates in max_min_dates.items():\n",
    "    df_weather_temp = pd.DataFrame()\n",
    "\n",
    "    sowing_date_temp = dates[0]\n",
    "    min_date_temp = dates[1]\n",
    "    max_date_temp = dates[2]\n",
    "    \n",
    "    # Filtering the weather date from sowing_date to max_date the data is available for\n",
    "    temp_weather = weather.loc[(weather['Time measured'] >= sowing_date_temp) &\\\n",
    "                          (weather['Time measured'] <= sowing_date_temp + datetime.timedelta(days=days_delta))]\n",
    "\n",
    "#     print(df, sowing_date_temp.date(), min_date_temp.date(), max_date_temp.date())\n",
    "#     print(temp_weather.shape)\n",
    "\n",
    "#     # See info to find hoe many missing values and in which column\n",
    "#     display(temp_weather.info())\n",
    "\n",
    "    # Filling themissing values with the average of the column\n",
    "    # Applying Only on columns with NaN values\n",
    "    for i in temp_weather.columns[temp_weather.isnull().any(axis=0)]:\n",
    "        temp_weather[i].fillna(temp_weather[i].mean(),inplace=True)\n",
    "    # Drop the time measures column\n",
    "    temp_weather.drop(['Time measured'], axis=1, inplace=True)\n",
    "    \n",
    "    df_weat_temp = df.split('_')[0]+'_'+df.split('_')[1]+'_weather_all'\n",
    "    locals()[df_name_temp] = temp_weather.copy()\n",
    "    weather_dfs.append(df_name_temp)\n",
    "    \n",
    "    \n",
    "    \n",
    "    # Aggregating the weather data using several statistical methods\n",
    "    mean_df = temp_weather.mean().to_frame().transpose().add_prefix('MEAN ')\n",
    "    median_df = temp_weather.median().to_frame().transpose().add_prefix('MEDIAN ')\n",
    "    # Different for mode since mode returns a df, instead of series object\n",
    "    mode_df = temp_weather.mode().transpose().iloc[:,0].to_frame().transpose().add_prefix('MODE ')\n",
    "    sum_df = temp_weather.sum().to_frame().transpose().add_prefix('SUM ')\n",
    "    min_df = temp_weather.min().to_frame().transpose().add_prefix('MIN ')\n",
    "    max_df = temp_weather.max().to_frame().transpose().add_prefix('MAX ')\n",
    "    std_df = temp_weather.std().to_frame().transpose().add_prefix('STD_DEV ')\n",
    "    # Reset index in quantile since it takes quantile of index as well\n",
    "    quantile_25 = temp_weather.quantile(q=0.25).to_frame().transpose().add_prefix('QUANTILE_25 ').reset_index(drop=True)\n",
    "    quantile_50 = temp_weather.quantile(q=0.5).to_frame().transpose().add_prefix('QUANTILE_50 ').reset_index(drop=True)\n",
    "    quantile_75 = temp_weather.quantile(q=0.75).to_frame().transpose().add_prefix('QUANTILE_75 ').reset_index(drop=True)\n",
    "\n",
    "    single_row_df = pd.concat([mean_df, median_df, mode_df, sum_df, min_df, max_df, std_df, quantile_25, quantile_50, quantile_75], axis=1)\n",
    "        \n",
    "#     display(single_row_df)\n",
    "\n",
    "    df_processed_temp = df.split('_')[0]+'_'+df.split('_')[1]+'_weather_agg'\n",
    "    locals()[df_processed_temp] = single_row_df.copy()\n",
    "    weathers_processed_df.append(df_processed_temp)\n",
    "weathers_processed_df"
   ]
  },
  {
   "cell_type": "code",
   "execution_count": null,
   "metadata": {
    "ExecuteTime": {
     "end_time": "2021-10-13T20:18:56.215305Z",
     "start_time": "2021-10-13T20:18:44.528Z"
    }
   },
   "outputs": [],
   "source": [
    "Staur_2020"
   ]
  },
  {
   "cell_type": "code",
   "execution_count": null,
   "metadata": {
    "ExecuteTime": {
     "end_time": "2021-10-13T20:18:56.216302Z",
     "start_time": "2021-10-13T20:18:44.533Z"
    }
   },
   "outputs": [],
   "source": [
    "Staur_2020_weather_agg"
   ]
  },
  {
   "cell_type": "code",
   "execution_count": null,
   "metadata": {
    "ExecuteTime": {
     "end_time": "2021-10-13T20:18:56.218298Z",
     "start_time": "2021-10-13T20:18:44.536Z"
    }
   },
   "outputs": [],
   "source": [
    "weather_cols = locals()[weathers_processed_df[0]].columns.tolist()\n",
    "weather_cols"
   ]
  },
  {
   "cell_type": "code",
   "execution_count": null,
   "metadata": {
    "ExecuteTime": {
     "end_time": "2021-10-13T20:18:56.219294Z",
     "start_time": "2021-10-13T20:18:44.538Z"
    }
   },
   "outputs": [],
   "source": [
    "# Make sure the folder/dir is there. If not, create one\n",
    "os.makedirs(main_path, exist_ok=True)\n",
    "import json\n",
    "a_file = open(main_path+'weather_columns.json', \"w\")\n",
    "json.dump(weather_cols, a_file)\n",
    "a_file.close()\n",
    "\n",
    "# a_file = open(\"Data\\weather_columns.json\", \"r\")\n",
    "# output = a_file.read()\n",
    "# a_file.close()\n",
    "# print(output)"
   ]
  },
  {
   "cell_type": "markdown",
   "metadata": {},
   "source": [
    "## Adding weather data to the simps integrated df"
   ]
  },
  {
   "cell_type": "code",
   "execution_count": null,
   "metadata": {
    "ExecuteTime": {
     "end_time": "2021-10-13T20:18:56.221290Z",
     "start_time": "2021-10-13T20:18:44.826Z"
    }
   },
   "outputs": [],
   "source": [
    "df_to_export = []\n",
    "for df in simp_df_all_dropna+trapz_df_all_dropna:\n",
    "    temp_df = locals()[df].copy()\n",
    "    \n",
    "    field_name = df.split('_')[0]+'_'+df.split('_')[1]\n",
    "    integration_type = df.split('_')[2]\n",
    "    \n",
    "    single_row_name = field_name+'_weather_agg'\n",
    "    single_row_df = locals()[single_row_name]\n",
    "    # Replicating the single_row data multiple times to make the df equal to the number of rows in the original df\n",
    "    rows_df = temp_df.shape[0] \n",
    "    new_df = pd.DataFrame(np.repeat(single_row_df.values, rows_df, axis=0), columns=single_row_df.columns)\n",
    "    \n",
    "    pd.concat([temp_df, new_df], axis=1)\n",
    "    merged_df = pd.concat([temp_df, new_df], axis=1)\n",
    "    \n",
    "    locals()[field_name+'_'+integration_type] = merged_df.copy()\n",
    "    df_to_export.append(field_name+'_'+integration_type)"
   ]
  },
  {
   "cell_type": "code",
   "execution_count": null,
   "metadata": {
    "ExecuteTime": {
     "end_time": "2021-10-13T20:18:56.222286Z",
     "start_time": "2021-10-13T20:18:44.830Z"
    }
   },
   "outputs": [],
   "source": [
    "df_to_export"
   ]
  },
  {
   "cell_type": "code",
   "execution_count": null,
   "metadata": {
    "ExecuteTime": {
     "end_time": "2021-10-13T20:18:56.224282Z",
     "start_time": "2021-10-13T20:18:44.834Z"
    }
   },
   "outputs": [],
   "source": [
    "Graminor_2019_Simps.columns"
   ]
  },
  {
   "cell_type": "markdown",
   "metadata": {
    "ExecuteTime": {
     "end_time": "2021-10-11T00:23:07.734119Z",
     "start_time": "2021-10-11T00:23:07.721143Z"
    }
   },
   "source": [
    "## Summary of processed data"
   ]
  },
  {
   "cell_type": "code",
   "execution_count": null,
   "metadata": {
    "ExecuteTime": {
     "end_time": "2021-10-13T20:18:56.226276Z",
     "start_time": "2021-10-13T20:18:45.046Z"
    }
   },
   "outputs": [],
   "source": [
    "for df in df_to_export:\n",
    "    temp_df = locals()[df].copy()\n",
    "    temp_cols = temp_df.columns.tolist()\n",
    "    # Bands, Indices, Plot_ID and GrainYield columns only\n",
    "    chk_cols = [x for x in temp_cols if x not in weather_cols if x not in yield_cols]+['Plot_ID', 'GrainYield']\n",
    "    nan_found = False\n",
    "    for col in chk_cols:\n",
    "        if temp_df[col].isna().sum() > 0:\n",
    "            nan_found = True\n",
    "            print(df,':', col,':', temp_df[col].isna().sum())\n",
    "    if not nan_found:\n",
    "        print(f'No nan values found in any column in {df}')\n",
    "    \n",
    "    print('*************************')"
   ]
  },
  {
   "cell_type": "code",
   "execution_count": null,
   "metadata": {
    "ExecuteTime": {
     "end_time": "2021-10-13T20:18:56.228271Z",
     "start_time": "2021-10-13T20:18:45.048Z"
    }
   },
   "outputs": [],
   "source": [
    "df_to_export"
   ]
  },
  {
   "cell_type": "markdown",
   "metadata": {},
   "source": [
    "# Creating Environment Variable to differentiate Vollebek and Staur"
   ]
  },
  {
   "cell_type": "code",
   "execution_count": null,
   "metadata": {},
   "outputs": [],
   "source": [
    "for df in df_to_export:\n",
    "    \n",
    "    if 'Staur' in df:\n",
    "        "
   ]
  },
  {
   "cell_type": "code",
   "execution_count": 32,
   "metadata": {
    "ExecuteTime": {
     "end_time": "2021-10-13T20:20:07.578815Z",
     "start_time": "2021-10-13T20:20:07.561061Z"
    }
   },
   "outputs": [
    {
     "ename": "NameError",
     "evalue": "name 'Staur_2020_Trapz' is not defined",
     "output_type": "error",
     "traceback": [
      "\u001b[1;31m---------------------------------------------------------------------------\u001b[0m",
      "\u001b[1;31mNameError\u001b[0m                                 Traceback (most recent call last)",
      "\u001b[1;32m<ipython-input-32-f718a1408737>\u001b[0m in \u001b[0;36m<module>\u001b[1;34m\u001b[0m\n\u001b[1;32m----> 1\u001b[1;33m \u001b[0mStaur_2020_Trapz\u001b[0m\u001b[1;33m[\u001b[0m\u001b[1;34m'Name'\u001b[0m\u001b[1;33m]\u001b[0m\u001b[1;33m=\u001b[0m\u001b[1;34m'abc'\u001b[0m\u001b[1;33m\u001b[0m\u001b[1;33m\u001b[0m\u001b[0m\n\u001b[0m\u001b[0;32m      2\u001b[0m \u001b[0mStaur_2020_Trapz\u001b[0m\u001b[1;33m\u001b[0m\u001b[1;33m\u001b[0m\u001b[0m\n",
      "\u001b[1;31mNameError\u001b[0m: name 'Staur_2020_Trapz' is not defined"
     ]
    }
   ],
   "source": [
    "Staur_2020_Trapz['Name']='abc'\n",
    "Staur_2020_Trapz"
   ]
  },
  {
   "cell_type": "markdown",
   "metadata": {},
   "source": [
    "# Temp: Exporting data for modeling"
   ]
  },
  {
   "cell_type": "code",
   "execution_count": null,
   "metadata": {},
   "outputs": [],
   "source": []
  },
  {
   "cell_type": "code",
   "execution_count": 48,
   "metadata": {
    "ExecuteTime": {
     "end_time": "2021-10-11T00:42:03.951074Z",
     "start_time": "2021-10-11T00:42:01.550897Z"
    }
   },
   "outputs": [],
   "source": [
    "os.makedirs(export_path, exist_ok=True)\n",
    "for df in df_to_export:\n",
    "    locals()[df].to_csv(export_path+df+'.csv', index=False)"
   ]
  },
  {
   "cell_type": "code",
   "execution_count": null,
   "metadata": {},
   "outputs": [],
   "source": []
  },
  {
   "cell_type": "markdown",
   "metadata": {},
   "source": [
    "# END OF SECTION"
   ]
  },
  {
   "cell_type": "markdown",
   "metadata": {},
   "source": [
    "# Import Genomics Data"
   ]
  },
  {
   "cell_type": "code",
   "execution_count": 28,
   "metadata": {
    "ExecuteTime": {
     "end_time": "2021-10-03T14:37:23.547182Z",
     "start_time": "2021-10-03T14:37:23.524537Z"
    }
   },
   "outputs": [
    {
     "data": {
      "text/plain": [
       "'C:/Users/Muhammad Fahad Ijaz/\\\\\\\\MegaSync\\\\NMBU\\\\Master Thesis\\\\Data\\\\Genomics\\\\\\\\'"
      ]
     },
     "execution_count": 28,
     "metadata": {},
     "output_type": "execute_result"
    }
   ],
   "source": [
    "genomics_data"
   ]
  },
  {
   "cell_type": "markdown",
   "metadata": {},
   "source": [
    "## Importing Genomics Data"
   ]
  },
  {
   "cell_type": "code",
   "execution_count": 29,
   "metadata": {
    "ExecuteTime": {
     "end_time": "2021-10-03T14:30:08.248569Z",
     "start_time": "2021-10-03T14:30:08.214709Z"
    }
   },
   "outputs": [
    {
     "name": "stdout",
     "output_type": "stream",
     "text": [
      "Masbasis_2019_all\n",
      "Masbasis_2020_all_lodg\n",
      "Staur_2019_all\n"
     ]
    }
   ],
   "source": [
    "# If the dataset had Days 2 heading and days to maturity columns then create the\n",
    "# following dictionary with the respective sowing dates of each field as value\n",
    "\n",
    "for df in all_df:\n",
    "    temp_df = locals()[df].copy()\n",
    "    field_temp = df.split('_')[0]+'_'+df.split('_')[1]\n",
    "    if 'Line' in temp_df.columns:\n",
    "        print(df)\n",
    "#         all_df_dates_filtered[df] = sowing_dict[field_temp]\n",
    "# all_df_dates_filtered"
   ]
  },
  {
   "cell_type": "code",
   "execution_count": null,
   "metadata": {},
   "outputs": [],
   "source": [
    "# Importing Yield data with line information"
   ]
  },
  {
   "cell_type": "code",
   "execution_count": 64,
   "metadata": {
    "ExecuteTime": {
     "end_time": "2021-09-08T17:56:14.818870Z",
     "start_time": "2021-09-08T17:56:14.815434Z"
    }
   },
   "outputs": [],
   "source": [
    "# Vollebekk 2019: Graminor_2019_x_19TvPhenores_x_Vollebekk_res\n",
    "# Masbasis 2020: Masbasis_x_20BMLGI1_2020_tm_x_data\n",
    "# Robot 2020: Robot_x_ROBOT_2020_x_raw\n",
    "# Masbasis 2019: Masbasis_2019_x_Field_data_2019"
   ]
  },
  {
   "cell_type": "code",
   "execution_count": 65,
   "metadata": {
    "ExecuteTime": {
     "end_time": "2021-09-08T17:56:14.833002Z",
     "start_time": "2021-09-08T17:56:14.824218Z"
    }
   },
   "outputs": [
    {
     "name": "stdout",
     "output_type": "stream",
     "text": [
      "{'Graminor 2019': ['Graminor_2019_x_19TvPhenores_x_Vollebekk_res',\n",
      "                   '\\\\MegaSync\\\\NMBU\\\\Master '\n",
      "                   'Thesis\\\\Data\\\\Feb2021\\\\Graminor_2019\\\\19TvPhenores.xlsx'],\n",
      " 'Masbasis 2019': ['Masbasis_2019_x_Field_data_2019',\n",
      "                   '\\\\MegaSync\\\\NMBU\\\\Master '\n",
      "                   'Thesis\\\\Data\\\\Feb2021\\\\Masbasis_2019\\\\Field_data_2019.xlsx'],\n",
      " 'Masbasis 2020': ['Masbasis_x_20BMLGI1_2020_tm_x_data',\n",
      "                   '\\\\MegaSync\\\\NMBU\\\\Master '\n",
      "                   'Thesis\\\\Data\\\\Feb2021\\\\Vollebekke-total_2020\\\\Masbasis\\\\20BMLGI1_2020_tm.xlsx'],\n",
      " 'Robot 2020': ['Robot_x_ROBOT_2020_x_raw',\n",
      "                '\\\\MegaSync\\\\NMBU\\\\Master '\n",
      "                'Thesis\\\\Data\\\\Feb2021\\\\Vollebekke-total_2020\\\\Robot\\\\ROBOT_2020.xlsx'],\n",
      " 'Staur 2019': ['Graminor_2019_x_19TvPhenores_x_Staur_res',\n",
      "                '\\\\MegaSync\\\\NMBU\\\\Master '\n",
      "                'Thesis\\\\Data\\\\Feb2021\\\\Graminor_2019\\\\19TvPhenores.xlsx']}\n"
     ]
    }
   ],
   "source": [
    "a_file = open(main_path+'yield_df.json', \"r\")\n",
    "output_str = a_file.read()\n",
    "# The file is imported as string\n",
    "\n",
    "# Converting it to dictionary\n",
    "output_dict = json.loads(output_str)\n",
    "a_file.close()\n",
    "\n",
    "pprint(output_dict)"
   ]
  },
  {
   "cell_type": "markdown",
   "metadata": {},
   "source": [
    "### Checking number of unique cultivars in the field"
   ]
  },
  {
   "cell_type": "code",
   "execution_count": 66,
   "metadata": {
    "ExecuteTime": {
     "end_time": "2021-09-08T17:56:14.839834Z",
     "start_time": "2021-09-08T17:56:14.835929Z"
    }
   },
   "outputs": [],
   "source": [
    "# plots_data = pd.read_excel(files_with_address[0],engine='openpyxl')\n",
    "# # Pandas converts 'NA' string to NaN. Need to change those to \n",
    "# # some string to get a count as NaNs are not counted as unique values\n",
    "\n",
    "# plots_data.Name.fillna('-', inplace=True)\n",
    "# plots_data.CodeName.fillna('-', inplace=True)\n",
    "\n",
    "# # Creating a new column as multiple plots were named 'NA' but the \n",
    "# # CodeName was different for each one of them\n",
    "# plots_data['NameCode'] = plots_data.Name+plots_data.CodeName\n",
    "\n",
    "# plots_data\n",
    "# len(plots_data.NameCode.unique())\n",
    "# plots_data.NameCode.value_counts()\n",
    "# # plots_data.NameCode.value_counts().sum()\n",
    "# # plots_data"
   ]
  },
  {
   "cell_type": "code",
   "execution_count": null,
   "metadata": {},
   "outputs": [],
   "source": []
  },
  {
   "cell_type": "code",
   "execution_count": null,
   "metadata": {},
   "outputs": [],
   "source": []
  },
  {
   "cell_type": "code",
   "execution_count": null,
   "metadata": {},
   "outputs": [],
   "source": []
  },
  {
   "cell_type": "code",
   "execution_count": null,
   "metadata": {},
   "outputs": [],
   "source": []
  },
  {
   "cell_type": "code",
   "execution_count": null,
   "metadata": {},
   "outputs": [],
   "source": []
  },
  {
   "cell_type": "markdown",
   "metadata": {},
   "source": [
    "# ToDo: Dropping NAN"
   ]
  },
  {
   "cell_type": "markdown",
   "metadata": {},
   "source": [
    "## Finding NAN values\n",
    "### ToDo: Test: Raise error if missing values found"
   ]
  },
  {
   "cell_type": "code",
   "execution_count": 25,
   "metadata": {
    "ExecuteTime": {
     "end_time": "2021-09-08T17:16:55.599254Z",
     "start_time": "2021-09-08T17:16:55.592423Z"
    }
   },
   "outputs": [
    {
     "name": "stdout",
     "output_type": "stream",
     "text": [
      "No missing value found in any dataframe\n"
     ]
    }
   ],
   "source": [
    "# Finding number of missing values in each dataframe\n",
    "df_with_nan = []\n",
    "missing_values = False\n",
    "for df in all_df:\n",
    "    if locals()[df].isna().sum().sum() > 0:\n",
    "        print(f'Total missing values in {df} are {locals()[df].isna().sum().sum()}')\n",
    "        missing_values = True\n",
    "        df_with_nan.append(df)\n",
    "#     if len(df_with_nan) > 0:\n",
    "#         raise ValueError\n",
    "if not missing_values:\n",
    "    print('No missing value found in any dataframe')"
   ]
  },
  {
   "cell_type": "code",
   "execution_count": 26,
   "metadata": {
    "ExecuteTime": {
     "end_time": "2021-09-08T17:16:55.623191Z",
     "start_time": "2021-09-08T17:16:55.601230Z"
    }
   },
   "outputs": [
    {
     "ename": "NameError",
     "evalue": "name 'Graminor_2019_all' is not defined",
     "output_type": "error",
     "traceback": [
      "\u001b[1;31m---------------------------------------------------------------------------\u001b[0m",
      "\u001b[1;31mNameError\u001b[0m                                 Traceback (most recent call last)",
      "\u001b[1;32m<ipython-input-26-92e745b63b43>\u001b[0m in \u001b[0;36m<module>\u001b[1;34m\u001b[0m\n\u001b[1;32m----> 1\u001b[1;33m \u001b[0mGraminor_2019_all\u001b[0m\u001b[1;33m.\u001b[0m\u001b[0misnull\u001b[0m\u001b[1;33m(\u001b[0m\u001b[1;33m)\u001b[0m\u001b[1;33m.\u001b[0m\u001b[0msum\u001b[0m\u001b[1;33m(\u001b[0m\u001b[1;33m)\u001b[0m\u001b[1;33m.\u001b[0m\u001b[0msort_values\u001b[0m\u001b[1;33m(\u001b[0m\u001b[1;33m)\u001b[0m\u001b[1;33m\u001b[0m\u001b[1;33m\u001b[0m\u001b[0m\n\u001b[0m",
      "\u001b[1;31mNameError\u001b[0m: name 'Graminor_2019_all' is not defined"
     ]
    }
   ],
   "source": [
    "Graminor_2019_all.isnull().sum().sort_values()"
   ]
  },
  {
   "cell_type": "code",
   "execution_count": 27,
   "metadata": {
    "ExecuteTime": {
     "end_time": "2021-09-08T17:16:55.632951Z",
     "start_time": "2021-09-08T17:16:55.626119Z"
    },
    "scrolled": true
   },
   "outputs": [
    {
     "data": {
      "text/plain": [
       "[]"
      ]
     },
     "execution_count": 27,
     "metadata": {},
     "output_type": "execute_result"
    }
   ],
   "source": [
    "df_with_nan"
   ]
  },
  {
   "cell_type": "code",
   "execution_count": 28,
   "metadata": {
    "ExecuteTime": {
     "end_time": "2021-09-08T17:16:55.640759Z",
     "start_time": "2021-09-08T17:16:55.635878Z"
    }
   },
   "outputs": [],
   "source": [
    "# Finding which column has NAN values\n",
    "for df in df_with_nan:\n",
    "    print(f'{df}:\\n {locals()[df].shape[1]-locals()[df].dropna(axis=1).shape[1]} columns or {locals()[df].shape[0]-locals()[df].dropna().shape[0]} rows to be dropped,')"
   ]
  },
  {
   "cell_type": "markdown",
   "metadata": {},
   "source": [
    "## ToDo: Automate: Drop rows with missing values in df_with_nan"
   ]
  },
  {
   "cell_type": "code",
   "execution_count": 29,
   "metadata": {
    "ExecuteTime": {
     "end_time": "2021-09-08T17:16:55.936906Z",
     "start_time": "2021-09-08T17:16:55.923195Z"
    }
   },
   "outputs": [
    {
     "ename": "NameError",
     "evalue": "name 'Graminor_eastwest_020719_NIR_half_missing' is not defined",
     "output_type": "error",
     "traceback": [
      "\u001b[1;31m---------------------------------------------------------------------------\u001b[0m",
      "\u001b[1;31mNameError\u001b[0m                                 Traceback (most recent call last)",
      "\u001b[1;32m<ipython-input-29-bd632eb495de>\u001b[0m in \u001b[0;36m<module>\u001b[1;34m\u001b[0m\n\u001b[1;32m----> 1\u001b[1;33m \u001b[0mprint\u001b[0m\u001b[1;33m(\u001b[0m\u001b[1;34mf'{Graminor_eastwest_020719_NIR_half_missing.shape} Before dropping'\u001b[0m\u001b[1;33m)\u001b[0m\u001b[1;33m\u001b[0m\u001b[1;33m\u001b[0m\u001b[0m\n\u001b[0m\u001b[0;32m      2\u001b[0m \u001b[1;31m# Graminor_eastwest_020719_NIR_half_missing.dropna(inplace=True)\u001b[0m\u001b[1;33m\u001b[0m\u001b[1;33m\u001b[0m\u001b[1;33m\u001b[0m\u001b[0m\n\u001b[0;32m      3\u001b[0m \u001b[0mprint\u001b[0m\u001b[1;33m(\u001b[0m\u001b[1;34mf'{Graminor_eastwest_020719_NIR_half_missing.shape} After dropping'\u001b[0m\u001b[1;33m)\u001b[0m\u001b[1;33m\u001b[0m\u001b[1;33m\u001b[0m\u001b[0m\n",
      "\u001b[1;31mNameError\u001b[0m: name 'Graminor_eastwest_020719_NIR_half_missing' is not defined"
     ]
    }
   ],
   "source": [
    "print(f'{Graminor_eastwest_020719_NIR_half_missing.shape} Before dropping')\n",
    "# Graminor_eastwest_020719_NIR_half_missing.dropna(inplace=True)\n",
    "print(f'{Graminor_eastwest_020719_NIR_half_missing.shape} After dropping')\n"
   ]
  },
  {
   "cell_type": "markdown",
   "metadata": {},
   "source": [
    "## ORRR"
   ]
  },
  {
   "cell_type": "markdown",
   "metadata": {},
   "source": [
    "## ToDo: Droppping df with Nan from the all_df_std"
   ]
  },
  {
   "cell_type": "code",
   "execution_count": 30,
   "metadata": {
    "ExecuteTime": {
     "end_time": "2021-09-08T17:16:56.595993Z",
     "start_time": "2021-09-08T17:16:56.591114Z"
    }
   },
   "outputs": [
    {
     "name": "stdout",
     "output_type": "stream",
     "text": [
      "Number of items in all_df is 0\n"
     ]
    }
   ],
   "source": [
    "print(f'Number of items in all_df is {len(all_df)}')"
   ]
  },
  {
   "cell_type": "code",
   "execution_count": 31,
   "metadata": {
    "ExecuteTime": {
     "end_time": "2021-09-08T17:16:56.602824Z",
     "start_time": "2021-09-08T17:16:56.598923Z"
    },
    "scrolled": false
   },
   "outputs": [],
   "source": [
    "# for df in df_with_nan:\n",
    "#     all_df.remove(df)"
   ]
  },
  {
   "cell_type": "markdown",
   "metadata": {},
   "source": [
    "###  ToDo: Update field_year_dict and sorted_field_year_dict after dropping the dataset"
   ]
  },
  {
   "cell_type": "code",
   "execution_count": 32,
   "metadata": {
    "ExecuteTime": {
     "end_time": "2021-09-08T17:16:56.943290Z",
     "start_time": "2021-09-08T17:16:56.938408Z"
    }
   },
   "outputs": [
    {
     "name": "stdout",
     "output_type": "stream",
     "text": [
      "Number of items in all_df now is 0\n"
     ]
    }
   ],
   "source": [
    "print(f'Number of items in all_df now is {len(all_df)}')"
   ]
  },
  {
   "cell_type": "code",
   "execution_count": null,
   "metadata": {},
   "outputs": [],
   "source": []
  },
  {
   "cell_type": "code",
   "execution_count": null,
   "metadata": {},
   "outputs": [],
   "source": []
  },
  {
   "cell_type": "code",
   "execution_count": null,
   "metadata": {},
   "outputs": [],
   "source": []
  },
  {
   "cell_type": "code",
   "execution_count": null,
   "metadata": {},
   "outputs": [],
   "source": []
  },
  {
   "cell_type": "code",
   "execution_count": null,
   "metadata": {},
   "outputs": [],
   "source": []
  },
  {
   "cell_type": "markdown",
   "metadata": {},
   "source": [
    "# Data Trends"
   ]
  },
  {
   "cell_type": "markdown",
   "metadata": {},
   "source": [
    "## Normal Distribution of data"
   ]
  },
  {
   "cell_type": "markdown",
   "metadata": {},
   "source": [
    "ToDo:  \n",
    "see the distribution of data if it is normal  \n",
    "else make transpose to make it normal  \n",
    "dist in Gausion function   \n",
    "in each field  \n",
    "what if the data is normal dist?  \n",
    "the use some transpose to box pox   \n",
    "try diff funct to see which one iis able to make data normal  \n",
    "make heat map of whole if not normal  \n",
    "see which parts are not normal and exculde them  \n",
    "ls_means in R to make the normalisation/transpose  \n",
    "pearson corr bw yield and indices for diff dates  \n"
   ]
  },
  {
   "cell_type": "code",
   "execution_count": 33,
   "metadata": {
    "ExecuteTime": {
     "end_time": "2021-09-08T17:16:57.911154Z",
     "start_time": "2021-09-08T17:16:57.898466Z"
    }
   },
   "outputs": [
    {
     "ename": "NameError",
     "evalue": "name 'x_labels' is not defined",
     "output_type": "error",
     "traceback": [
      "\u001b[1;31m---------------------------------------------------------------------------\u001b[0m",
      "\u001b[1;31mNameError\u001b[0m                                 Traceback (most recent call last)",
      "\u001b[1;32m<ipython-input-33-1ae58ac70b7f>\u001b[0m in \u001b[0;36m<module>\u001b[1;34m\u001b[0m\n\u001b[1;32m----> 1\u001b[1;33m \u001b[0mx_labels\u001b[0m\u001b[1;33m\u001b[0m\u001b[1;33m\u001b[0m\u001b[0m\n\u001b[0m",
      "\u001b[1;31mNameError\u001b[0m: name 'x_labels' is not defined"
     ]
    }
   ],
   "source": [
    "x_labels"
   ]
  },
  {
   "cell_type": "markdown",
   "metadata": {},
   "source": [
    "### Yeo-Johnson Transformation"
   ]
  },
  {
   "cell_type": "code",
   "execution_count": 34,
   "metadata": {
    "ExecuteTime": {
     "end_time": "2021-09-08T17:16:59.631522Z",
     "start_time": "2021-09-08T17:16:58.258599Z"
    },
    "scrolled": false
   },
   "outputs": [
    {
     "ename": "NameError",
     "evalue": "name 'field_year_dict_yield' is not defined",
     "output_type": "error",
     "traceback": [
      "\u001b[1;31m---------------------------------------------------------------------------\u001b[0m",
      "\u001b[1;31mNameError\u001b[0m                                 Traceback (most recent call last)",
      "\u001b[1;32m<ipython-input-34-bf2287054a1d>\u001b[0m in \u001b[0;36m<module>\u001b[1;34m\u001b[0m\n\u001b[0;32m     10\u001b[0m \u001b[1;32mfor\u001b[0m \u001b[0md_type\u001b[0m \u001b[1;32min\u001b[0m \u001b[0mdata_agg_list\u001b[0m\u001b[1;33m:\u001b[0m\u001b[1;33m\u001b[0m\u001b[1;33m\u001b[0m\u001b[0m\n\u001b[0;32m     11\u001b[0m     \u001b[1;32mfor\u001b[0m \u001b[0mcol\u001b[0m \u001b[1;32min\u001b[0m \u001b[0mcol_for_plotting\u001b[0m\u001b[1;33m:\u001b[0m\u001b[1;33m\u001b[0m\u001b[1;33m\u001b[0m\u001b[0m\n\u001b[1;32m---> 12\u001b[1;33m         \u001b[0mfields\u001b[0m \u001b[1;33m=\u001b[0m \u001b[0mlen\u001b[0m\u001b[1;33m(\u001b[0m\u001b[0mfield_year_dict_yield\u001b[0m\u001b[1;33m.\u001b[0m\u001b[0mkeys\u001b[0m\u001b[1;33m(\u001b[0m\u001b[1;33m)\u001b[0m\u001b[1;33m)\u001b[0m\u001b[1;33m\u001b[0m\u001b[1;33m\u001b[0m\u001b[0m\n\u001b[0m\u001b[0;32m     13\u001b[0m         \u001b[0mrows\u001b[0m \u001b[1;33m=\u001b[0m \u001b[0mmath\u001b[0m\u001b[1;33m.\u001b[0m\u001b[0mceil\u001b[0m\u001b[1;33m(\u001b[0m\u001b[0mfields\u001b[0m\u001b[1;33m/\u001b[0m\u001b[1;36m2\u001b[0m\u001b[1;33m)\u001b[0m\u001b[1;33m\u001b[0m\u001b[1;33m\u001b[0m\u001b[0m\n\u001b[0;32m     14\u001b[0m \u001b[1;33m\u001b[0m\u001b[0m\n",
      "\u001b[1;31mNameError\u001b[0m: name 'field_year_dict_yield' is not defined"
     ]
    }
   ],
   "source": [
    "col_for_plotting = ['Blue', 'Green', 'Red', 'RedEdge', 'NIR', 'NDVI', 'MTCI', 'EVI']\n",
    "\n",
    "from sklearn.preprocessing import PowerTransformer, normalize, StandardScaler\n",
    "data_agg_list = ['_median_indices']\n",
    "\n",
    "# col_for_plotting = ['Blue']\n",
    "# col_for_plotting = ['Green']\n",
    "# col_for_plotting = ['Red']\n",
    "\n",
    "for d_type in data_agg_list:\n",
    "    for col in col_for_plotting:\n",
    "        fields = len(field_year_dict_yield.keys())\n",
    "        rows = math.ceil(fields/2)\n",
    "        \n",
    "        fig, ax = plt.subplots(rows,2, figsize=(15,10))\n",
    "        plots = ax.flatten()\n",
    "        n = 0\n",
    "        # TODO: Fix the x ticks\n",
    "        \n",
    "\n",
    "        for field_sample, dates in sorted_field_year_dict_yield.items():\n",
    "            x_labels = []\n",
    "            # Adding required data to a temp dataframe\n",
    "            temp_df = pd.DataFrame()\n",
    "            for date in dates:\n",
    "                date_str = date.strftime('%d%m%y')\n",
    "                field_df = field_sample[:-5]+'_'+date_str+d_type\n",
    "                temp_df[date] = locals()[field_df][col]\n",
    "                x_label = date.strftime('%d-%m-%y')+':'+str(len(locals()[field_df][col]))\n",
    "                \n",
    "                x_labels.append(x_label)\n",
    "                x_labels= list(set(x_labels))\n",
    "            # Transform the df\n",
    "#             pt = PowerTransformer(method='box-cox', standardize=False)\n",
    "            pt = PowerTransformer(method='yeo-johnson', standardize=False)\n",
    "\n",
    "            temp_arr = pt.fit_transform(temp_df)\n",
    "            temp_df = pd.DataFrame(temp_arr)\n",
    "            \n",
    "            # Adding field plot to the subplots\n",
    "            num_of_fields = len(field_year_dict_yield.keys())\n",
    "            \n",
    "            text = \"Grain Yield\"\n",
    "            ax_n = plots[n]\n",
    "            \n",
    "            temp_df.boxplot(ax=ax_n)\n",
    "            ax_n.set_xticklabels(x_labels, rotation=-35)\n",
    "            ax_n.set_title(field_sample+'_'+col+d_type[:-5]+'_yeo-johnson')\n",
    "            \n",
    "#             # Printing the grain yield in plot of the fiels_sample for reference\n",
    "#             ax_n.text(0.85, 1.05, text, ha='center', va='top', weight='bold', color='blue', transform=ax_n.transAxes)\n",
    "            n+=1\n",
    "        plt.tight_layout()\n",
    "\n"
   ]
  },
  {
   "cell_type": "markdown",
   "metadata": {},
   "source": [
    "### Box-Cox Transformation"
   ]
  },
  {
   "cell_type": "code",
   "execution_count": 35,
   "metadata": {
    "ExecuteTime": {
     "end_time": "2021-09-08T17:16:59.656899Z",
     "start_time": "2021-09-08T17:16:59.633474Z"
    },
    "scrolled": false
   },
   "outputs": [
    {
     "ename": "NameError",
     "evalue": "name 'field_year_dict_yield' is not defined",
     "output_type": "error",
     "traceback": [
      "\u001b[1;31m---------------------------------------------------------------------------\u001b[0m",
      "\u001b[1;31mNameError\u001b[0m                                 Traceback (most recent call last)",
      "\u001b[1;32m<ipython-input-35-8b39c1ee47a6>\u001b[0m in \u001b[0;36m<module>\u001b[1;34m\u001b[0m\n\u001b[0;32m     10\u001b[0m \u001b[1;32mfor\u001b[0m \u001b[0md_type\u001b[0m \u001b[1;32min\u001b[0m \u001b[0mdata_agg_list\u001b[0m\u001b[1;33m:\u001b[0m\u001b[1;33m\u001b[0m\u001b[1;33m\u001b[0m\u001b[0m\n\u001b[0;32m     11\u001b[0m     \u001b[1;32mfor\u001b[0m \u001b[0mcol\u001b[0m \u001b[1;32min\u001b[0m \u001b[0mcol_for_plotting\u001b[0m\u001b[1;33m:\u001b[0m\u001b[1;33m\u001b[0m\u001b[1;33m\u001b[0m\u001b[0m\n\u001b[1;32m---> 12\u001b[1;33m         \u001b[0mfields\u001b[0m \u001b[1;33m=\u001b[0m \u001b[0mlen\u001b[0m\u001b[1;33m(\u001b[0m\u001b[0mfield_year_dict_yield\u001b[0m\u001b[1;33m.\u001b[0m\u001b[0mkeys\u001b[0m\u001b[1;33m(\u001b[0m\u001b[1;33m)\u001b[0m\u001b[1;33m)\u001b[0m\u001b[1;33m\u001b[0m\u001b[1;33m\u001b[0m\u001b[0m\n\u001b[0m\u001b[0;32m     13\u001b[0m         \u001b[0mrows\u001b[0m \u001b[1;33m=\u001b[0m \u001b[0mmath\u001b[0m\u001b[1;33m.\u001b[0m\u001b[0mceil\u001b[0m\u001b[1;33m(\u001b[0m\u001b[0mfields\u001b[0m\u001b[1;33m/\u001b[0m\u001b[1;36m2\u001b[0m\u001b[1;33m)\u001b[0m\u001b[1;33m\u001b[0m\u001b[1;33m\u001b[0m\u001b[0m\n\u001b[0;32m     14\u001b[0m \u001b[1;33m\u001b[0m\u001b[0m\n",
      "\u001b[1;31mNameError\u001b[0m: name 'field_year_dict_yield' is not defined"
     ]
    }
   ],
   "source": [
    "col_for_plotting = ['Blue', 'Green', 'Red', 'RedEdge', 'NIR', 'NDVI', 'MTCI', 'EVI']\n",
    "\n",
    "from sklearn.preprocessing import PowerTransformer, normalize, StandardScaler\n",
    "data_agg_list = ['_median_indices']\n",
    "\n",
    "# col_for_plotting = ['Blue']\n",
    "# col_for_plotting = ['Green']\n",
    "# col_for_plotting = ['Red']\n",
    "\n",
    "for d_type in data_agg_list:\n",
    "    for col in col_for_plotting:\n",
    "        fields = len(field_year_dict_yield.keys())\n",
    "        rows = math.ceil(fields/2)\n",
    "        \n",
    "        fig, ax = plt.subplots(rows,2, figsize=(15,10))\n",
    "        plots = ax.flatten()\n",
    "        n = 0\n",
    "        # TODO: Fix the x ticks\n",
    "        for field_sample, dates in sorted_field_year_dict_yield.items():\n",
    "            \n",
    "            # Adding required data to a temp dataframe\n",
    "            temp_df = pd.DataFrame()\n",
    "            for date in dates:\n",
    "                date_str = date.strftime('%d%m%y')\n",
    "                field_df = field_sample[:-5]+'_'+date_str+d_type\n",
    "                temp_df[date] = locals()[field_df][col]\n",
    "            x_labels = temp_df.columns.tolist()\n",
    "\n",
    "            # Transform the df\n",
    "#             pt = PowerTransformer(method='box-cox', standardize=False)\n",
    "            pt = PowerTransformer(method='box-cox', standardize=False)\n",
    "\n",
    "            # Taking absolute values of the dataframe(avoiding negative values)\n",
    "            temp_arr = pt.fit_transform(temp_df.abs())\n",
    "            temp_df = pd.DataFrame(temp_arr)\n",
    "            \n",
    "            # Adding field plot to the subplots\n",
    "            num_of_fields = len(field_year_dict_yield.keys())\n",
    "            \n",
    "            text = \"Grain Yield\"\n",
    "            ax_n = plots[n]\n",
    "\n",
    "            temp_df.boxplot(ax=ax_n)\n",
    "            ax_n.set_xticklabels(x_labels, rotation=90)\n",
    "            ax_n.set_title(field_sample+'_'+col+d_type[:-5]+'_box-cox')\n",
    "            \n",
    "#             # Printing the grain yield in plot of the fiels_sample for reference\n",
    "#             ax_n.text(0.85, 1.05, text, ha='center', va='top', weight='bold', color='blue', transform=ax_n.transAxes)\n",
    "            n+=1\n",
    "        plt.tight_layout()\n",
    "\n"
   ]
  },
  {
   "cell_type": "markdown",
   "metadata": {},
   "source": [
    "### ToDo: Identify Dates and index with problems"
   ]
  },
  {
   "cell_type": "code",
   "execution_count": null,
   "metadata": {},
   "outputs": [],
   "source": []
  },
  {
   "cell_type": "markdown",
   "metadata": {},
   "source": [
    "### Ecxclude the problematic data/dates\n",
    "or\n",
    "### Take average values where the problematic data is"
   ]
  },
  {
   "cell_type": "markdown",
   "metadata": {},
   "source": [
    "Take average of data for date 20200708 and 20200624  \n",
    "Masbasis  \n",
    "Cleanup  \n",
    "Remove dates which have drop  "
   ]
  },
  {
   "cell_type": "markdown",
   "metadata": {},
   "source": [
    "## ToDo: Remove outliers"
   ]
  },
  {
   "cell_type": "code",
   "execution_count": null,
   "metadata": {},
   "outputs": [],
   "source": []
  },
  {
   "cell_type": "markdown",
   "metadata": {},
   "source": [
    "### Find AUC for all dates of one field\n",
    "See if it covers tha gaps under the dates,i.e.\n",
    "\n",
    "Since data points are different  \n",
    "Flying time is different  \n",
    "Cover the gaps between the dates  \n",
    "\n",
    "Since the data collection is not uniform throughout the year so AUC will give a single value instead of multiple values for one field year which will be representative of all the dates "
   ]
  },
  {
   "cell_type": "markdown",
   "metadata": {},
   "source": [
    "#### Option 1: Use Scipy"
   ]
  },
  {
   "cell_type": "code",
   "execution_count": 36,
   "metadata": {
    "ExecuteTime": {
     "end_time": "2021-09-08T17:17:01.226553Z",
     "start_time": "2021-09-08T17:17:01.218744Z"
    }
   },
   "outputs": [
    {
     "data": {
      "text/plain": [
       "'1.6.1'"
      ]
     },
     "execution_count": 36,
     "metadata": {},
     "output_type": "execute_result"
    }
   ],
   "source": [
    "import scipy\n",
    "scipy.__version__"
   ]
  },
  {
   "cell_type": "code",
   "execution_count": 37,
   "metadata": {
    "ExecuteTime": {
     "end_time": "2021-09-08T17:17:01.241194Z",
     "start_time": "2021-09-08T17:17:01.235336Z"
    }
   },
   "outputs": [],
   "source": [
    "from scipy import integrate\n",
    "from scipy.integrate import simps"
   ]
  },
  {
   "cell_type": "code",
   "execution_count": 38,
   "metadata": {
    "ExecuteTime": {
     "end_time": "2021-09-08T17:17:01.254854Z",
     "start_time": "2021-09-08T17:17:01.248025Z"
    }
   },
   "outputs": [],
   "source": [
    "from scipy.integrate import simpson"
   ]
  },
  {
   "cell_type": "code",
   "execution_count": 39,
   "metadata": {
    "ExecuteTime": {
     "end_time": "2021-09-08T17:17:01.280233Z",
     "start_time": "2021-09-08T17:17:01.274374Z"
    }
   },
   "outputs": [],
   "source": [
    "x = np.arange(0, 10)\n",
    "y = np.arange(0, 10)\n"
   ]
  },
  {
   "cell_type": "code",
   "execution_count": 40,
   "metadata": {
    "ExecuteTime": {
     "end_time": "2021-09-08T17:17:01.306584Z",
     "start_time": "2021-09-08T17:17:01.296829Z"
    }
   },
   "outputs": [
    {
     "data": {
      "text/plain": [
       "40.5"
      ]
     },
     "execution_count": 40,
     "metadata": {},
     "output_type": "execute_result"
    }
   ],
   "source": [
    "# integrate.simpson(y, x)\n",
    "integrate.simps(y, x)"
   ]
  },
  {
   "cell_type": "code",
   "execution_count": 41,
   "metadata": {
    "ExecuteTime": {
     "end_time": "2021-09-08T17:17:01.333910Z",
     "start_time": "2021-09-08T17:17:01.323176Z"
    }
   },
   "outputs": [
    {
     "data": {
      "text/plain": [
       "array([  0,   1,   8,  27,  64, 125, 216, 343, 512, 729], dtype=int32)"
      ]
     },
     "execution_count": 41,
     "metadata": {},
     "output_type": "execute_result"
    }
   ],
   "source": [
    "y = np.power(x, 3)\n",
    "y"
   ]
  },
  {
   "cell_type": "code",
   "execution_count": 42,
   "metadata": {
    "ExecuteTime": {
     "end_time": "2021-09-08T17:17:01.356360Z",
     "start_time": "2021-09-08T17:17:01.347576Z"
    }
   },
   "outputs": [
    {
     "data": {
      "text/plain": [
       "1642.5"
      ]
     },
     "execution_count": 42,
     "metadata": {},
     "output_type": "execute_result"
    }
   ],
   "source": [
    "integrate.simpson(y, x)\n",
    "# integrate.simps(y, x)\n"
   ]
  },
  {
   "cell_type": "code",
   "execution_count": 43,
   "metadata": {
    "ExecuteTime": {
     "end_time": "2021-09-08T17:17:01.372949Z",
     "start_time": "2021-09-08T17:17:01.364165Z"
    }
   },
   "outputs": [
    {
     "data": {
      "text/plain": [
       "1640.25"
      ]
     },
     "execution_count": 43,
     "metadata": {},
     "output_type": "execute_result"
    }
   ],
   "source": [
    "integrate.quad(lambda x: x**3, 0, 9)[0]"
   ]
  },
  {
   "cell_type": "code",
   "execution_count": 44,
   "metadata": {
    "ExecuteTime": {
     "end_time": "2021-09-08T17:17:01.392469Z",
     "start_time": "2021-09-08T17:17:01.380762Z"
    }
   },
   "outputs": [
    {
     "data": {
      "text/plain": [
       "1644.5"
      ]
     },
     "execution_count": 44,
     "metadata": {},
     "output_type": "execute_result"
    }
   ],
   "source": [
    "integrate.simpson(y, x, even='first')\n",
    "# integrate.simps(y, x, even='first')"
   ]
  },
  {
   "cell_type": "code",
   "execution_count": null,
   "metadata": {},
   "outputs": [],
   "source": []
  },
  {
   "cell_type": "code",
   "execution_count": null,
   "metadata": {},
   "outputs": [],
   "source": []
  },
  {
   "cell_type": "markdown",
   "metadata": {},
   "source": [
    "#### Option 2"
   ]
  },
  {
   "cell_type": "code",
   "execution_count": 45,
   "metadata": {
    "ExecuteTime": {
     "end_time": "2021-09-08T17:17:01.969977Z",
     "start_time": "2021-09-08T17:17:01.954361Z"
    }
   },
   "outputs": [
    {
     "ename": "NameError",
     "evalue": "name 'data' is not defined",
     "output_type": "error",
     "traceback": [
      "\u001b[1;31m---------------------------------------------------------------------------\u001b[0m",
      "\u001b[1;31mNameError\u001b[0m                                 Traceback (most recent call last)",
      "\u001b[1;32m<ipython-input-45-5c4058e7910f>\u001b[0m in \u001b[0;36m<module>\u001b[1;34m\u001b[0m\n\u001b[1;32m----> 1\u001b[1;33m \u001b[0mdata\u001b[0m\u001b[1;33m\u001b[0m\u001b[1;33m\u001b[0m\u001b[0m\n\u001b[0m\u001b[0;32m      2\u001b[0m \u001b[1;31m# plot: Plot ID\u001b[0m\u001b[1;33m\u001b[0m\u001b[1;33m\u001b[0m\u001b[1;33m\u001b[0m\u001b[0m\n\u001b[0;32m      3\u001b[0m \u001b[1;31m# x: Number of days after sowing or actual date\u001b[0m\u001b[1;33m\u001b[0m\u001b[1;33m\u001b[0m\u001b[1;33m\u001b[0m\u001b[0m\n\u001b[0;32m      4\u001b[0m \u001b[1;31m# y: Value of the index\u001b[0m\u001b[1;33m\u001b[0m\u001b[1;33m\u001b[0m\u001b[1;33m\u001b[0m\u001b[0m\n",
      "\u001b[1;31mNameError\u001b[0m: name 'data' is not defined"
     ]
    }
   ],
   "source": [
    "data\n",
    "# plot: Plot ID\n",
    "# x: Number of days after sowing or actual date\n",
    "# y: Value of the index\n"
   ]
  },
  {
   "cell_type": "code",
   "execution_count": 46,
   "metadata": {
    "ExecuteTime": {
     "end_time": "2021-09-08T17:17:01.991449Z",
     "start_time": "2021-09-08T17:17:01.973882Z"
    }
   },
   "outputs": [
    {
     "name": "stdout",
     "output_type": "stream",
     "text": [
      "0.8500000000000001\n",
      "1.5\n",
      "1.95\n"
     ]
    }
   ],
   "source": [
    "# x: Days from sowing to data collection\n",
    "# May 5 2019 Masbasis and Graminor\n",
    "# Robot: \n",
    "\n",
    "data={'plot':['1','1','2','2','3','3'],'x':['5','6','7','8','9','10'],'y':['0.9','0.8','0.7','0.6','0.5','0.4'] }\n",
    "\n",
    "ACC=[]\n",
    "A=pd.DataFrame(data, columns=['plot','x','y'])\n",
    "AA=0\n",
    "\n",
    "for item in range(len(A)-1):\n",
    "    if A['plot'][item]== A['plot'][item+1]:\n",
    "        Ans=(float((A['y'][item]))+float((A['y'][item+1])))*((float((A['x'][item+1]))-float((A['x'][item]))))/2\n",
    "        AA+=Ans\n",
    "        print(AA)\n",
    "        ACC.append(AA)"
   ]
  },
  {
   "cell_type": "markdown",
   "metadata": {},
   "source": [
    "### Alternative"
   ]
  },
  {
   "cell_type": "code",
   "execution_count": 47,
   "metadata": {
    "ExecuteTime": {
     "end_time": "2021-09-08T17:17:02.434915Z",
     "start_time": "2021-09-08T17:17:02.414078Z"
    }
   },
   "outputs": [
    {
     "ename": "NameError",
     "evalue": "name 'Data' is not defined",
     "output_type": "error",
     "traceback": [
      "\u001b[1;31m---------------------------------------------------------------------------\u001b[0m",
      "\u001b[1;31mNameError\u001b[0m                                 Traceback (most recent call last)",
      "\u001b[1;32m<ipython-input-47-508f0f07663b>\u001b[0m in \u001b[0;36m<module>\u001b[1;34m\u001b[0m\n\u001b[1;32m----> 1\u001b[1;33m \u001b[0mdf1\u001b[0m\u001b[1;33m=\u001b[0m\u001b[0mData\u001b[0m\u001b[1;33m.\u001b[0m\u001b[0mset_index\u001b[0m\u001b[1;33m(\u001b[0m\u001b[1;33m[\u001b[0m\u001b[1;34m'Plot'\u001b[0m\u001b[1;33m]\u001b[0m\u001b[1;33m)\u001b[0m\u001b[1;33m\u001b[0m\u001b[1;33m\u001b[0m\u001b[0m\n\u001b[0m\u001b[0;32m      2\u001b[0m \u001b[0mACC\u001b[0m\u001b[1;33m=\u001b[0m\u001b[1;33m[\u001b[0m\u001b[1;33m]\u001b[0m\u001b[1;33m\u001b[0m\u001b[1;33m\u001b[0m\u001b[0m\n\u001b[0;32m      3\u001b[0m \u001b[1;33m\u001b[0m\u001b[0m\n\u001b[0;32m      4\u001b[0m \u001b[1;32mfor\u001b[0m \u001b[0mitem\u001b[0m \u001b[1;32min\u001b[0m \u001b[0mNumbers_final\u001b[0m\u001b[1;33m:\u001b[0m\u001b[1;33m\u001b[0m\u001b[1;33m\u001b[0m\u001b[0m\n\u001b[0;32m      5\u001b[0m     \u001b[0mdf2\u001b[0m\u001b[1;33m=\u001b[0m\u001b[0mdf1\u001b[0m\u001b[1;33m[\u001b[0m\u001b[0mdf1\u001b[0m\u001b[1;33m.\u001b[0m\u001b[0mindex\u001b[0m\u001b[1;33m==\u001b[0m\u001b[0mitem\u001b[0m\u001b[1;33m]\u001b[0m\u001b[1;33m\u001b[0m\u001b[1;33m\u001b[0m\u001b[0m\n",
      "\u001b[1;31mNameError\u001b[0m: name 'Data' is not defined"
     ]
    }
   ],
   "source": [
    "df1=Data.set_index(['Plot'])\n",
    "ACC=[]\n",
    "\n",
    "for item in Numbers_final:\n",
    "    df2=df1[df1.index==item]\n",
    "    df2=df2.filter(['Blue', 'Green', 'Red', 'RedEdge', 'NIR','NDVI', 'MTCI', 'EVI', 'DVI', 'RVI', 'VARI', 'EXG', 'EXGR', 'GLI', 'GNDVI', 'GVI','Time','timepoint'], axis=1)\n",
    "    df2=df2.sort_values(by='timepoint')\n",
    "    df3=df2.reset_index()\n",
    "\n",
    "AA=0\n",
    "for j in range(0,3):\n",
    "    Ans=(float((df3['GVI'][j]))+float((df3['GVI'][j+1])))*((float((df3['timepoint'][j+1]))-float((df3['timepoint'][j]))))/2\n",
    "    AA+=Ans\n",
    "\n",
    "    print(AA)\n",
    "    ACC.append(AA)\n",
    "\n",
    "\n",
    "\n",
    "DA=pd.DataFrame(ACC)\n",
    "DD=pd.DataFrame(Numbers_final)\n",
    "DDA=pd.concat([DD, DA], axis=1)\n",
    "DDA.to_excel('Staur_Accumulative_GVI_2019.xlsx')"
   ]
  },
  {
   "cell_type": "markdown",
   "metadata": {},
   "source": [
    "### Time series data vs the AUC"
   ]
  },
  {
   "cell_type": "code",
   "execution_count": null,
   "metadata": {},
   "outputs": [],
   "source": []
  },
  {
   "cell_type": "markdown",
   "metadata": {},
   "source": [
    "# ToDo: Model Training"
   ]
  },
  {
   "cell_type": "markdown",
   "metadata": {},
   "source": [
    "\n",
    "Make model for one year at a time and try to predict yield of another field  \n",
    "\n",
    "TODO: Train on Masbasis 2019 an 2020  \n",
    "Test on Staur  \n",
    "\n",
    "Use data until august for yield prediction since it is most relavant  \n",
    "Use all data for predicting date to maturity  \n",
    "\n",
    "Data Collection:  \n",
    "Data collection usually starts after heading  \n",
    "2019 has the data before hading as well. To use that, dont use dates before heading  \n",
    "\n",
    "NDVI is resistant to shadows  \n",
    "\n",
    "DAT390 Report: Do the report with Robot Data only  \n",
    "\n",
    "TODO: Use AUC for each index for prediction  \n",
    "\n",
    "TODO:   \n",
    "Time series data vs the AUC  "
   ]
  },
  {
   "cell_type": "code",
   "execution_count": null,
   "metadata": {},
   "outputs": [],
   "source": []
  }
 ],
 "metadata": {
  "hide_input": false,
  "kernelspec": {
   "display_name": "Python 3",
   "language": "python",
   "name": "python3"
  },
  "language_info": {
   "codemirror_mode": {
    "name": "ipython",
    "version": 3
   },
   "file_extension": ".py",
   "mimetype": "text/x-python",
   "name": "python",
   "nbconvert_exporter": "python",
   "pygments_lexer": "ipython3",
   "version": "3.8.5"
  },
  "toc": {
   "base_numbering": 1,
   "nav_menu": {},
   "number_sections": true,
   "sideBar": true,
   "skip_h1_title": false,
   "title_cell": "Table of Contents",
   "title_sidebar": "Contents",
   "toc_cell": false,
   "toc_position": {
    "height": "calc(100% - 180px)",
    "left": "10px",
    "top": "150px",
    "width": "325.431px"
   },
   "toc_section_display": true,
   "toc_window_display": true
  },
  "varInspector": {
   "cols": {
    "lenName": 16,
    "lenType": 16,
    "lenVar": 40
   },
   "kernels_config": {
    "python": {
     "delete_cmd_postfix": "",
     "delete_cmd_prefix": "del ",
     "library": "var_list.py",
     "varRefreshCmd": "print(var_dic_list())"
    },
    "r": {
     "delete_cmd_postfix": ") ",
     "delete_cmd_prefix": "rm(",
     "library": "var_list.r",
     "varRefreshCmd": "cat(var_dic_list()) "
    }
   },
   "types_to_exclude": [
    "module",
    "function",
    "builtin_function_or_method",
    "instance",
    "_Feature"
   ],
   "window_display": false
  }
 },
 "nbformat": 4,
 "nbformat_minor": 2
}

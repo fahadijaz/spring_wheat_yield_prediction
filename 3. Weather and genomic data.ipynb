{
 "cells": [
  {
   "cell_type": "markdown",
   "metadata": {},
   "source": [
    "# 2. Renaming and merging"
   ]
  },
  {
   "cell_type": "markdown",
   "metadata": {},
   "source": [
    "Note: Half datasets, with separate files for east and west subplots have been merged manually in excel"
   ]
  },
  {
   "cell_type": "code",
   "execution_count": 32,
   "metadata": {
    "ExecuteTime": {
     "end_time": "2021-09-08T17:38:23.804046Z",
     "start_time": "2021-09-08T17:38:23.798190Z"
    }
   },
   "outputs": [
    {
     "name": "stdout",
     "output_type": "stream",
     "text": [
      "Wall time: 0 ns\n"
     ]
    }
   ],
   "source": [
    "%%time\n",
    "\n",
    "import pandas as pd\n",
    "import numpy as np\n",
    "import math\n",
    "import os\n",
    "import datetime\n",
    "from copy import copy\n",
    "from pprint import pprint\n",
    "import json\n",
    "\n",
    "# Visualisation\n",
    "import matplotlib.pyplot as plt\n",
    "import seaborn as sns\n",
    "\n",
    "# To display df nicely in loops\n",
    "from IPython.display import display \n",
    "# display(df1.head()) \n",
    "# display(df2.head())\n",
    "\n",
    "# Display rows and columns Pandas\n",
    "pd.options.display.max_columns = 100\n",
    "pd.set_option('display.max_rows',100)"
   ]
  },
  {
   "cell_type": "code",
   "execution_count": 33,
   "metadata": {
    "ExecuteTime": {
     "end_time": "2021-09-08T17:38:23.811854Z",
     "start_time": "2021-09-08T17:38:23.806000Z"
    }
   },
   "outputs": [
    {
     "data": {
      "text/plain": [
       "'C:\\\\Users\\\\fahad\\\\MegaSync\\\\NMBU\\\\GitHub\\\\vPheno'"
      ]
     },
     "execution_count": 33,
     "metadata": {},
     "output_type": "execute_result"
    }
   ],
   "source": [
    "# Prints the current working directory\n",
    "os.getcwd()\n",
    "# os.listdir()"
   ]
  },
  {
   "cell_type": "markdown",
   "metadata": {},
   "source": [
    "## Finding Username folder to make general path for multi PC use"
   ]
  },
  {
   "cell_type": "code",
   "execution_count": 34,
   "metadata": {
    "ExecuteTime": {
     "end_time": "2021-09-08T17:38:23.931438Z",
     "start_time": "2021-09-08T17:38:23.925582Z"
    },
    "scrolled": true
   },
   "outputs": [
    {
     "data": {
      "text/plain": [
       "('fahad', 'C:/Users/fahad/')"
      ]
     },
     "execution_count": 34,
     "metadata": {},
     "output_type": "execute_result"
    }
   ],
   "source": [
    "username = str(os.getcwd()).split('\\\\')[2]\n",
    "user_path = r'C:/Users/'+username+'/'\n",
    "username, user_path"
   ]
  },
  {
   "cell_type": "markdown",
   "metadata": {},
   "source": [
    "## Importing Data"
   ]
  },
  {
   "cell_type": "code",
   "execution_count": 35,
   "metadata": {
    "ExecuteTime": {
     "end_time": "2021-09-08T17:38:24.072851Z",
     "start_time": "2021-09-08T17:38:24.062112Z"
    }
   },
   "outputs": [
    {
     "data": {
      "text/plain": [
       "['Graminor_2019_all.csv',\n",
       " 'Masbasis_2019_all.csv',\n",
       " 'Masbasis_2020_all.csv',\n",
       " 'Robot_2020_all.csv']"
      ]
     },
     "execution_count": 35,
     "metadata": {},
     "output_type": "execute_result"
    }
   ],
   "source": [
    "main_path = r'./Data/'\n",
    "path = r'./Data/renamed_merged/'\n",
    "export_path = './Data/results/'\n",
    "\n",
    "# Create export_path folder if not exists already\n",
    "os.makedirs(path, exist_ok=True)\n",
    "os.makedirs(export_path, exist_ok=True)\n",
    "\n",
    "os.listdir(path)"
   ]
  },
  {
   "cell_type": "markdown",
   "metadata": {},
   "source": [
    "## Data Preparation\n",
    "### Creating list of complete files"
   ]
  },
  {
   "cell_type": "code",
   "execution_count": 36,
   "metadata": {
    "ExecuteTime": {
     "end_time": "2021-09-08T17:38:24.234865Z",
     "start_time": "2021-09-08T17:38:24.224129Z"
    }
   },
   "outputs": [
    {
     "name": "stdout",
     "output_type": "stream",
     "text": [
      "4 files found in the directory\n"
     ]
    },
    {
     "data": {
      "text/plain": [
       "['Graminor_2019_all.csv',\n",
       " 'Masbasis_2019_all.csv',\n",
       " 'Masbasis_2020_all.csv',\n",
       " 'Robot_2020_all.csv']"
      ]
     },
     "execution_count": 36,
     "metadata": {},
     "output_type": "execute_result"
    }
   ],
   "source": [
    "# Get the list of all files in directory tree at given path\n",
    "\n",
    "files_with_address = []\n",
    "files_list = []\n",
    "\n",
    "for (dirpath, dirnames, filenames) in os.walk(path):\n",
    "    files_with_address += [os.path.join(dirpath, file) for file in filenames]\n",
    "    files_list.extend(filenames)\n",
    "    \n",
    "print(len(files_with_address), 'files found in the directory')\n",
    "# files_with_address\n",
    "files_list"
   ]
  },
  {
   "cell_type": "markdown",
   "metadata": {},
   "source": [
    "## Data Checking/control"
   ]
  },
  {
   "cell_type": "markdown",
   "metadata": {
    "run_control": {
     "marked": true
    }
   },
   "source": [
    "### Check for duplicate filenames"
   ]
  },
  {
   "cell_type": "code",
   "execution_count": 37,
   "metadata": {
    "ExecuteTime": {
     "end_time": "2021-09-08T17:38:24.539448Z",
     "start_time": "2021-09-08T17:38:24.531638Z"
    }
   },
   "outputs": [
    {
     "name": "stdout",
     "output_type": "stream",
     "text": [
      "Total number of files are : 4\n",
      "Number of unique file names are: 4\n",
      "There is/are 0 duplicate file name/names.\n"
     ]
    }
   ],
   "source": [
    "print('Total number of files are :', len(files_list))\n",
    "\n",
    "print('Number of unique file names are:', len(set(files_list)))\n",
    "\n",
    "print('There is/are', len(files_list) - len(set(files_list)),'duplicate file name/names.')\n",
    "if len(files_list) - len(set(files_list)) > 0:\n",
    "    raise NameError"
   ]
  },
  {
   "cell_type": "markdown",
   "metadata": {},
   "source": [
    "## Importing Genomics Data"
   ]
  },
  {
   "cell_type": "markdown",
   "metadata": {},
   "source": [
    "### Checking number of unique cultivars in the field"
   ]
  },
  {
   "cell_type": "code",
   "execution_count": 38,
   "metadata": {
    "ExecuteTime": {
     "end_time": "2021-09-08T17:38:24.854693Z",
     "start_time": "2021-09-08T17:38:24.850789Z"
    }
   },
   "outputs": [],
   "source": [
    "# Vollebekk 2019: Graminor_2019_x_19TvPhenores_x_Vollebekk_res\n",
    "# Masbasis 2020: Masbasis_x_20BMLGI1_2020_tm_x_data\n",
    "# Robot 2020: Robot_x_ROBOT_2020_x_raw\n",
    "# Masbasis 2019: Masbasis_2019_x_Field_data_2019"
   ]
  },
  {
   "cell_type": "code",
   "execution_count": 39,
   "metadata": {
    "ExecuteTime": {
     "end_time": "2021-09-08T17:38:24.865429Z",
     "start_time": "2021-09-08T17:38:24.857621Z"
    }
   },
   "outputs": [
    {
     "name": "stdout",
     "output_type": "stream",
     "text": [
      "{'Graminor 2019': ['Graminor_2019_x_19TvPhenores_x_Vollebekk_res',\n",
      "                   '\\\\MegaSync\\\\NMBU\\\\Master '\n",
      "                   'Thesis\\\\Data\\\\Feb2021\\\\Graminor_2019\\\\19TvPhenores.xlsx'],\n",
      " 'Masbasis 2019': ['Masbasis_2019_x_Field_data_2019',\n",
      "                   '\\\\MegaSync\\\\NMBU\\\\Master '\n",
      "                   'Thesis\\\\Data\\\\Feb2021\\\\Masbasis_2019\\\\Field_data_2019.xlsx'],\n",
      " 'Masbasis 2020': ['Masbasis_x_20BMLGI1_2020_tm_x_data',\n",
      "                   '\\\\MegaSync\\\\NMBU\\\\Master '\n",
      "                   'Thesis\\\\Data\\\\Feb2021\\\\Vollebekke-total_2020\\\\Masbasis\\\\20BMLGI1_2020_tm.xlsx'],\n",
      " 'Robot 2020': ['Robot_x_ROBOT_2020_x_raw',\n",
      "                '\\\\MegaSync\\\\NMBU\\\\Master '\n",
      "                'Thesis\\\\Data\\\\Feb2021\\\\Vollebekke-total_2020\\\\Robot\\\\ROBOT_2020.xlsx'],\n",
      " 'Staur 2019': ['Graminor_2019_x_19TvPhenores_x_Staur_res',\n",
      "                '\\\\MegaSync\\\\NMBU\\\\Master '\n",
      "                'Thesis\\\\Data\\\\Feb2021\\\\Graminor_2019\\\\19TvPhenores.xlsx']}\n"
     ]
    }
   ],
   "source": [
    "a_file = open(main_path+'yield_df.json', \"r\")\n",
    "output_str = a_file.read()\n",
    "# The file is imported as string\n",
    "\n",
    "# Converting it to dictionary\n",
    "output_dict = json.loads(output_str)\n",
    "a_file.close()\n",
    "\n",
    "pprint(output_dict)"
   ]
  },
  {
   "cell_type": "code",
   "execution_count": 40,
   "metadata": {
    "ExecuteTime": {
     "end_time": "2021-09-08T17:38:24.873952Z",
     "start_time": "2021-09-08T17:38:24.869072Z"
    }
   },
   "outputs": [],
   "source": [
    "# plots_data = pd.read_excel(files_with_address[0],engine='openpyxl')\n",
    "# # Pandas converts 'NA' string to NaN. Need to change those to \n",
    "# # some string to get a count as NaNs are not counted as unique values\n",
    "\n",
    "# plots_data.Name.fillna('-', inplace=True)\n",
    "# plots_data.CodeName.fillna('-', inplace=True)\n",
    "\n",
    "# # Creating a new column as multiple plots were named 'NA' but the \n",
    "# # CodeName was different for each one of them\n",
    "# plots_data['NameCode'] = plots_data.Name+plots_data.CodeName\n",
    "\n",
    "# plots_data\n",
    "# len(plots_data.NameCode.unique())\n",
    "# plots_data.NameCode.value_counts()\n",
    "# # plots_data.NameCode.value_counts().sum()\n",
    "# # plots_data"
   ]
  },
  {
   "cell_type": "markdown",
   "metadata": {},
   "source": [
    "## Importing data files to Pandas"
   ]
  },
  {
   "cell_type": "code",
   "execution_count": 41,
   "metadata": {
    "ExecuteTime": {
     "end_time": "2021-09-08T17:38:25.400155Z",
     "start_time": "2021-09-08T17:38:25.038544Z"
    }
   },
   "outputs": [
    {
     "name": "stdout",
     "output_type": "stream",
     "text": [
      "Graminor_2019_all ===== (601, 376)\n",
      "Masbasis_2019_all ===== (528, 274)\n",
      "Masbasis_2020_all ===== (688, 410)\n",
      "Robot_2020_all ===== (96, 478)\n",
      "Wall time: 356 ms\n"
     ]
    }
   ],
   "source": [
    "   \n",
    "%%time\n",
    "\n",
    "all_df = []\n",
    "for data in files_with_address:\n",
    "    file_name = os.path.splitext(os.path.basename(data))[0]\n",
    "\n",
    "    # Replce all invalid characters in the name\n",
    "    file_name = file_name.replace(\" \", \"_\")\n",
    "    file_name = file_name.replace(\"-\", \"_\")\n",
    "    file_name = file_name.replace(\")\", \"\")\n",
    "    file_name = file_name.replace(\"(\", \"\")\n",
    "    df_name = file_name.replace(\".\", \"\")\n",
    "    # Test: Check if the same date is already present in the current dict key\n",
    "    if df_name in all_df:\n",
    "        print(f'A file with the same name {df_name} has already been imported. \\n Please check if there is duplication of data.')\n",
    "        raise NameError\n",
    "    all_df.append(df_name)\n",
    "\n",
    "    locals()[df_name] = pd.read_csv(data, index_col=False)\n",
    "    print(df_name, '=====', locals()[df_name].shape)\n",
    "# all_df"
   ]
  },
  {
   "cell_type": "code",
   "execution_count": 42,
   "metadata": {
    "ExecuteTime": {
     "end_time": "2021-09-08T17:38:25.410893Z",
     "start_time": "2021-09-08T17:38:25.403082Z"
    }
   },
   "outputs": [
    {
     "name": "stdout",
     "output_type": "stream",
     "text": [
      "Total imported 4\n"
     ]
    },
    {
     "data": {
      "text/plain": [
       "['Graminor_2019_all',\n",
       " 'Masbasis_2019_all',\n",
       " 'Masbasis_2020_all',\n",
       " 'Robot_2020_all']"
      ]
     },
     "execution_count": 42,
     "metadata": {},
     "output_type": "execute_result"
    }
   ],
   "source": [
    "print(f'Total imported {len(all_df)}')\n",
    "all_df"
   ]
  },
  {
   "cell_type": "markdown",
   "metadata": {},
   "source": [
    "# Simpsons Integration"
   ]
  },
  {
   "cell_type": "markdown",
   "metadata": {},
   "source": [
    "## Listing down the important dates for each field"
   ]
  },
  {
   "cell_type": "code",
   "execution_count": 43,
   "metadata": {
    "ExecuteTime": {
     "end_time": "2021-09-08T17:38:25.422602Z",
     "start_time": "2021-09-08T17:38:25.414794Z"
    }
   },
   "outputs": [],
   "source": [
    "# Sowing date of the field\n",
    "sowing = '200420'\n",
    "maturity = '310720'\n",
    "heading = '170620'\n",
    "\n",
    "sowing_date = datetime.datetime.strptime(sowing, '%d%m%y').date()\n",
    "maturity_date = datetime.datetime.strptime(maturity, '%d%m%y').date()\n",
    "heading_date =datetime.datetime.strptime(heading, '%d%m%y').date()"
   ]
  },
  {
   "cell_type": "code",
   "execution_count": 44,
   "metadata": {
    "ExecuteTime": {
     "end_time": "2021-09-08T17:38:25.442122Z",
     "start_time": "2021-09-08T17:38:25.424554Z"
    }
   },
   "outputs": [
    {
     "name": "stdout",
     "output_type": "stream",
     "text": [
      "\"GrainYield\" column in Graminor_2019_all is the yield column\n",
      " as it contains the text \"GrainYield\". It is located at location 6\n",
      "\"GrainYield\" column in Masbasis_2019_all is the yield column\n",
      " as it contains the text \"GrainYield\". It is located at location 6\n",
      "\"GrainYield\" column in Masbasis_2020_all is the yield column\n",
      " as it contains the text \"GrainYield\". It is located at location 6\n",
      "\"GrainYield\" column in Robot_2020_all is the yield column\n",
      " as it contains the text \"GrainYield\". It is located at location 6\n"
     ]
    },
    {
     "data": {
      "text/plain": [
       "{'GrainYield': 6}"
      ]
     },
     "execution_count": 44,
     "metadata": {},
     "output_type": "execute_result"
    }
   ],
   "source": [
    "# ToDo: Add check for duplicate columns in the df\n",
    "\n",
    "general_col_names = ['Plot_ID', 'Blue', 'Green', 'Red', 'RedEdge', 'NIR']\n",
    "\n",
    "# list_agg_df\n",
    "yield_cols = ['GrainYield', 'Days2Heading', 'Days2Maturity']\n",
    "id_cols_new = ['Plot_ID']\n",
    "\n",
    "# Counter for location of column in columns list\n",
    "\n",
    "# Dict for saving the name and location of the yield column/s\n",
    "loc_yield_cols = {}\n",
    "for df in all_df:\n",
    "    loc = 0\n",
    "    for cols in locals()[df].columns.tolist():\n",
    "        for y_col in yield_cols:\n",
    "            if not cols.find(y_col):\n",
    "                loc_yield_cols[cols] = loc\n",
    "                print(f'\\\"{cols}\\\" column in {df} is the yield column\\n as it contains the text \\\"{y_col}\\\". It is located at location {loc}')\n",
    "        loc += 1\n",
    "\n",
    "    yield_cols_found = list(loc_yield_cols.keys())\n",
    "    target_cols=yield_cols_found[0]\n",
    "loc_yield_cols"
   ]
  },
  {
   "cell_type": "code",
   "execution_count": 50,
   "metadata": {
    "ExecuteTime": {
     "end_time": "2021-09-08T17:39:44.197205Z",
     "start_time": "2021-09-08T17:39:44.192325Z"
    }
   },
   "outputs": [
    {
     "data": {
      "text/plain": [
       "['Plot_ID', 'GrainYield']"
      ]
     },
     "execution_count": 50,
     "metadata": {},
     "output_type": "execute_result"
    }
   ],
   "source": [
    "id_cols_new+yield_cols_found"
   ]
  },
  {
   "cell_type": "code",
   "execution_count": 47,
   "metadata": {
    "ExecuteTime": {
     "end_time": "2021-09-08T17:39:26.329371Z",
     "start_time": "2021-09-08T17:39:26.320509Z"
    }
   },
   "outputs": [
    {
     "ename": "TypeError",
     "evalue": "string indices must be integers",
     "output_type": "error",
     "traceback": [
      "\u001b[1;31m---------------------------------------------------------------------------\u001b[0m",
      "\u001b[1;31mTypeError\u001b[0m                                 Traceback (most recent call last)",
      "\u001b[1;32m<ipython-input-47-23f092e03704>\u001b[0m in \u001b[0;36m<module>\u001b[1;34m\u001b[0m\n\u001b[1;32m----> 1\u001b[1;33m \u001b[0mdf_aoc\u001b[0m \u001b[1;33m=\u001b[0m \u001b[0mdf\u001b[0m\u001b[1;33m[\u001b[0m\u001b[0mid_cols_new\u001b[0m\u001b[1;33m+\u001b[0m\u001b[0myield_cols_found\u001b[0m\u001b[1;33m]\u001b[0m\u001b[1;33m\u001b[0m\u001b[1;33m\u001b[0m\u001b[0m\n\u001b[0m\u001b[0;32m      2\u001b[0m \u001b[0mdf_aoc\u001b[0m\u001b[1;33m\u001b[0m\u001b[1;33m\u001b[0m\u001b[0m\n",
      "\u001b[1;31mTypeError\u001b[0m: string indices must be integers"
     ]
    }
   ],
   "source": [
    "df_aoc = df[id_cols_new+yield_cols_found]\n",
    "df_aoc"
   ]
  },
  {
   "cell_type": "code",
   "execution_count": 46,
   "metadata": {
    "ExecuteTime": {
     "end_time": "2021-09-08T17:39:09.931620Z",
     "start_time": "2021-09-08T17:39:09.913490Z"
    }
   },
   "outputs": [
    {
     "ename": "TypeError",
     "evalue": "string indices must be integers",
     "output_type": "error",
     "traceback": [
      "\u001b[1;31m---------------------------------------------------------------------------\u001b[0m",
      "\u001b[1;31mTypeError\u001b[0m                                 Traceback (most recent call last)",
      "\u001b[1;32m<ipython-input-46-52d6c102edc4>\u001b[0m in \u001b[0;36m<module>\u001b[1;34m\u001b[0m\n\u001b[1;32m----> 1\u001b[1;33m \u001b[0mdf_aoc\u001b[0m \u001b[1;33m=\u001b[0m \u001b[0mdf\u001b[0m\u001b[1;33m[\u001b[0m\u001b[0mid_cols_new\u001b[0m\u001b[1;33m+\u001b[0m\u001b[0myield_cols_found\u001b[0m\u001b[1;33m]\u001b[0m\u001b[1;33m\u001b[0m\u001b[1;33m\u001b[0m\u001b[0m\n\u001b[0m\u001b[0;32m      2\u001b[0m \u001b[1;31m# Renaming Grain_Yield Column #custom\u001b[0m\u001b[1;33m\u001b[0m\u001b[1;33m\u001b[0m\u001b[1;33m\u001b[0m\u001b[0m\n\u001b[0;32m      3\u001b[0m \u001b[0mdf_aoc\u001b[0m\u001b[1;33m.\u001b[0m\u001b[0mcolumns\u001b[0m \u001b[1;33m=\u001b[0m \u001b[1;33m[\u001b[0m\u001b[0mdf_aoc\u001b[0m\u001b[1;33m.\u001b[0m\u001b[0mcolumns\u001b[0m\u001b[1;33m[\u001b[0m\u001b[1;36m0\u001b[0m\u001b[1;33m]\u001b[0m\u001b[1;33m]\u001b[0m\u001b[1;33m+\u001b[0m\u001b[1;33m[\u001b[0m\u001b[1;34m'GrainYield'\u001b[0m\u001b[1;33m]\u001b[0m\u001b[1;33m\u001b[0m\u001b[1;33m\u001b[0m\u001b[0m\n\u001b[0;32m      4\u001b[0m \u001b[0mdf_aoc\u001b[0m\u001b[1;33m.\u001b[0m\u001b[0mhead\u001b[0m\u001b[1;33m(\u001b[0m\u001b[1;36m2\u001b[0m\u001b[1;33m)\u001b[0m\u001b[1;33m\u001b[0m\u001b[1;33m\u001b[0m\u001b[0m\n",
      "\u001b[1;31mTypeError\u001b[0m: string indices must be integers"
     ]
    }
   ],
   "source": [
    "df_aoc = df[id_cols_new+yield_cols_found]\n",
    "# Renaming Grain_Yield Column #custom\n",
    "df_aoc.columns = [df_aoc.columns[0]]+['GrainYield']\n",
    "df_aoc.head(2)"
   ]
  },
  {
   "cell_type": "code",
   "execution_count": null,
   "metadata": {},
   "outputs": [],
   "source": []
  },
  {
   "cell_type": "code",
   "execution_count": null,
   "metadata": {},
   "outputs": [],
   "source": []
  },
  {
   "cell_type": "code",
   "execution_count": null,
   "metadata": {},
   "outputs": [],
   "source": []
  },
  {
   "cell_type": "code",
   "execution_count": null,
   "metadata": {},
   "outputs": [],
   "source": []
  },
  {
   "cell_type": "code",
   "execution_count": null,
   "metadata": {},
   "outputs": [],
   "source": []
  },
  {
   "cell_type": "code",
   "execution_count": 45,
   "metadata": {
    "ExecuteTime": {
     "end_time": "2021-09-08T17:38:28.110043Z",
     "start_time": "2021-09-08T17:38:28.004228Z"
    }
   },
   "outputs": [
    {
     "data": {
      "text/html": [
       "<div>\n",
       "<style scoped>\n",
       "    .dataframe tbody tr th:only-of-type {\n",
       "        vertical-align: middle;\n",
       "    }\n",
       "\n",
       "    .dataframe tbody tr th {\n",
       "        vertical-align: top;\n",
       "    }\n",
       "\n",
       "    .dataframe thead th {\n",
       "        text-align: right;\n",
       "    }\n",
       "</style>\n",
       "<table border=\"1\" class=\"dataframe\">\n",
       "  <thead>\n",
       "    <tr style=\"text-align: right;\">\n",
       "      <th></th>\n",
       "      <th>Plot_ID</th>\n",
       "      <th>Blue_060619</th>\n",
       "      <th>Green_060619</th>\n",
       "      <th>Red_060619</th>\n",
       "      <th>RedEdge_060619</th>\n",
       "      <th>NIR_060619</th>\n",
       "      <th>GrainYield</th>\n",
       "      <th>NDVI_060619</th>\n",
       "      <th>MTCI_060619</th>\n",
       "      <th>DVI_060619</th>\n",
       "      <th>GDVI_060619</th>\n",
       "      <th>MTCI_CI_060619</th>\n",
       "      <th>EXG_060619</th>\n",
       "      <th>EXGR_060619</th>\n",
       "      <th>RDVI_060619</th>\n",
       "      <th>TDVI_060619</th>\n",
       "      <th>GNDVI_060619</th>\n",
       "      <th>NDRE_060619</th>\n",
       "      <th>SCCI_060619</th>\n",
       "      <th>EVI_060619</th>\n",
       "      <th>TVI_060619</th>\n",
       "      <th>VARI_060619</th>\n",
       "      <th>GARI_060619</th>\n",
       "      <th>GCI_060619</th>\n",
       "      <th>GLI_060619</th>\n",
       "      <th>NLI_060619</th>\n",
       "      <th>MNLI_060619</th>\n",
       "      <th>SAVI_060619</th>\n",
       "      <th>GSAVI_060619</th>\n",
       "      <th>OSAVI_060619</th>\n",
       "      <th>GOSAVI_060619</th>\n",
       "      <th>MSAVI2_060619</th>\n",
       "      <th>MSR_060619</th>\n",
       "      <th>GRVI_060619</th>\n",
       "      <th>WDRVI_060619</th>\n",
       "      <th>SR_060619</th>\n",
       "      <th>Blue_110619</th>\n",
       "      <th>Green_110619</th>\n",
       "      <th>Red_110619</th>\n",
       "      <th>RedEdge_110619</th>\n",
       "      <th>NIR_110619</th>\n",
       "      <th>NDVI_110619</th>\n",
       "      <th>MTCI_110619</th>\n",
       "      <th>DVI_110619</th>\n",
       "      <th>GDVI_110619</th>\n",
       "      <th>MTCI_CI_110619</th>\n",
       "      <th>EXG_110619</th>\n",
       "      <th>EXGR_110619</th>\n",
       "      <th>RDVI_110619</th>\n",
       "      <th>TDVI_110619</th>\n",
       "      <th>...</th>\n",
       "      <th>TVI_070819</th>\n",
       "      <th>VARI_070819</th>\n",
       "      <th>GARI_070819</th>\n",
       "      <th>GCI_070819</th>\n",
       "      <th>GLI_070819</th>\n",
       "      <th>NLI_070819</th>\n",
       "      <th>MNLI_070819</th>\n",
       "      <th>SAVI_070819</th>\n",
       "      <th>GSAVI_070819</th>\n",
       "      <th>OSAVI_070819</th>\n",
       "      <th>GOSAVI_070819</th>\n",
       "      <th>MSAVI2_070819</th>\n",
       "      <th>MSR_070819</th>\n",
       "      <th>GRVI_070819</th>\n",
       "      <th>WDRVI_070819</th>\n",
       "      <th>SR_070819</th>\n",
       "      <th>Blue_150819</th>\n",
       "      <th>Green_150819</th>\n",
       "      <th>Red_150819</th>\n",
       "      <th>RedEdge_150819</th>\n",
       "      <th>NIR_150819</th>\n",
       "      <th>NDVI_150819</th>\n",
       "      <th>MTCI_150819</th>\n",
       "      <th>DVI_150819</th>\n",
       "      <th>GDVI_150819</th>\n",
       "      <th>MTCI_CI_150819</th>\n",
       "      <th>EXG_150819</th>\n",
       "      <th>EXGR_150819</th>\n",
       "      <th>RDVI_150819</th>\n",
       "      <th>TDVI_150819</th>\n",
       "      <th>GNDVI_150819</th>\n",
       "      <th>NDRE_150819</th>\n",
       "      <th>SCCI_150819</th>\n",
       "      <th>EVI_150819</th>\n",
       "      <th>TVI_150819</th>\n",
       "      <th>VARI_150819</th>\n",
       "      <th>GARI_150819</th>\n",
       "      <th>GCI_150819</th>\n",
       "      <th>GLI_150819</th>\n",
       "      <th>NLI_150819</th>\n",
       "      <th>MNLI_150819</th>\n",
       "      <th>SAVI_150819</th>\n",
       "      <th>GSAVI_150819</th>\n",
       "      <th>OSAVI_150819</th>\n",
       "      <th>GOSAVI_150819</th>\n",
       "      <th>MSAVI2_150819</th>\n",
       "      <th>MSR_150819</th>\n",
       "      <th>GRVI_150819</th>\n",
       "      <th>WDRVI_150819</th>\n",
       "      <th>SR_150819</th>\n",
       "    </tr>\n",
       "  </thead>\n",
       "  <tbody>\n",
       "    <tr>\n",
       "      <th>0</th>\n",
       "      <td>101</td>\n",
       "      <td>0.062427</td>\n",
       "      <td>0.129283</td>\n",
       "      <td>0.129278</td>\n",
       "      <td>0.185566</td>\n",
       "      <td>0.407937</td>\n",
       "      <td>499.624440</td>\n",
       "      <td>0.518710</td>\n",
       "      <td>3.950610</td>\n",
       "      <td>0.278659</td>\n",
       "      <td>0.278654</td>\n",
       "      <td>3.950610</td>\n",
       "      <td>0.066861</td>\n",
       "      <td>0.015155</td>\n",
       "      <td>0.380188</td>\n",
       "      <td>0.468589</td>\n",
       "      <td>0.518696</td>\n",
       "      <td>0.374675</td>\n",
       "      <td>0.722322</td>\n",
       "      <td>-0.379451</td>\n",
       "      <td>16.719722</td>\n",
       "      <td>0.000025</td>\n",
       "      <td>0.603848</td>\n",
       "      <td>2.155378</td>\n",
       "      <td>-0.138632</td>\n",
       "      <td>0.125585</td>\n",
       "      <td>0.070004</td>\n",
       "      <td>0.402991</td>\n",
       "      <td>0.402982</td>\n",
       "      <td>0.399674</td>\n",
       "      <td>0.399664</td>\n",
       "      <td>1.299123</td>\n",
       "      <td>2.592551</td>\n",
       "      <td>3.155378</td>\n",
       "      <td>-0.520277</td>\n",
       "      <td>3.155496</td>\n",
       "      <td>0.079597</td>\n",
       "      <td>0.157513</td>\n",
       "      <td>0.168775</td>\n",
       "      <td>0.220306</td>\n",
       "      <td>0.404954</td>\n",
       "      <td>0.411656</td>\n",
       "      <td>3.583244</td>\n",
       "      <td>0.236179</td>\n",
       "      <td>0.247441</td>\n",
       "      <td>3.583244</td>\n",
       "      <td>0.066653</td>\n",
       "      <td>-0.012119</td>\n",
       "      <td>0.311809</td>\n",
       "      <td>0.388215</td>\n",
       "      <td>...</td>\n",
       "      <td>12.397675</td>\n",
       "      <td>-0.448297</td>\n",
       "      <td>0.347059</td>\n",
       "      <td>9.475924</td>\n",
       "      <td>-0.379698</td>\n",
       "      <td>0.230615</td>\n",
       "      <td>0.062710</td>\n",
       "      <td>0.407691</td>\n",
       "      <td>0.450596</td>\n",
       "      <td>0.471129</td>\n",
       "      <td>0.529443</td>\n",
       "      <td>1.144776</td>\n",
       "      <td>5.724268</td>\n",
       "      <td>10.475924</td>\n",
       "      <td>-0.240062</td>\n",
       "      <td>6.128223</td>\n",
       "      <td>0.028785</td>\n",
       "      <td>0.058441</td>\n",
       "      <td>0.117516</td>\n",
       "      <td>0.140037</td>\n",
       "      <td>0.219810</td>\n",
       "      <td>0.303250</td>\n",
       "      <td>3.542136</td>\n",
       "      <td>0.102294</td>\n",
       "      <td>0.161369</td>\n",
       "      <td>3.542136</td>\n",
       "      <td>-0.029419</td>\n",
       "      <td>-0.135500</td>\n",
       "      <td>0.176127</td>\n",
       "      <td>0.188044</td>\n",
       "      <td>0.579940</td>\n",
       "      <td>0.221686</td>\n",
       "      <td>0.731033</td>\n",
       "      <td>-0.150329</td>\n",
       "      <td>3.774674</td>\n",
       "      <td>-0.401399</td>\n",
       "      <td>0.854320</td>\n",
       "      <td>2.761220</td>\n",
       "      <td>-0.333835</td>\n",
       "      <td>-0.417284</td>\n",
       "      <td>-0.155894</td>\n",
       "      <td>0.183252</td>\n",
       "      <td>0.311022</td>\n",
       "      <td>0.205689</td>\n",
       "      <td>0.368211</td>\n",
       "      <td>0.879676</td>\n",
       "      <td>1.139292</td>\n",
       "      <td>3.761220</td>\n",
       "      <td>-0.684853</td>\n",
       "      <td>1.870472</td>\n",
       "    </tr>\n",
       "    <tr>\n",
       "      <th>1</th>\n",
       "      <td>102</td>\n",
       "      <td>0.061705</td>\n",
       "      <td>0.129847</td>\n",
       "      <td>0.127858</td>\n",
       "      <td>0.184991</td>\n",
       "      <td>0.404994</td>\n",
       "      <td>515.532751</td>\n",
       "      <td>0.520099</td>\n",
       "      <td>3.850745</td>\n",
       "      <td>0.277136</td>\n",
       "      <td>0.275147</td>\n",
       "      <td>3.850745</td>\n",
       "      <td>0.070131</td>\n",
       "      <td>0.020976</td>\n",
       "      <td>0.379655</td>\n",
       "      <td>0.467148</td>\n",
       "      <td>0.514447</td>\n",
       "      <td>0.372896</td>\n",
       "      <td>0.716972</td>\n",
       "      <td>-0.379650</td>\n",
       "      <td>16.707685</td>\n",
       "      <td>0.010147</td>\n",
       "      <td>0.597877</td>\n",
       "      <td>2.119012</td>\n",
       "      <td>-0.132922</td>\n",
       "      <td>0.123894</td>\n",
       "      <td>0.068499</td>\n",
       "      <td>0.402481</td>\n",
       "      <td>0.398825</td>\n",
       "      <td>0.399993</td>\n",
       "      <td>0.395986</td>\n",
       "      <td>1.295456</td>\n",
       "      <td>2.605650</td>\n",
       "      <td>3.119012</td>\n",
       "      <td>-0.518888</td>\n",
       "      <td>3.167525</td>\n",
       "      <td>0.075853</td>\n",
       "      <td>0.152404</td>\n",
       "      <td>0.163355</td>\n",
       "      <td>0.220335</td>\n",
       "      <td>0.405466</td>\n",
       "      <td>0.425636</td>\n",
       "      <td>3.249073</td>\n",
       "      <td>0.242111</td>\n",
       "      <td>0.253062</td>\n",
       "      <td>3.249073</td>\n",
       "      <td>0.065600</td>\n",
       "      <td>-0.010693</td>\n",
       "      <td>0.321016</td>\n",
       "      <td>0.399166</td>\n",
       "      <td>...</td>\n",
       "      <td>11.737341</td>\n",
       "      <td>-0.482118</td>\n",
       "      <td>0.363954</td>\n",
       "      <td>9.827102</td>\n",
       "      <td>-0.392431</td>\n",
       "      <td>0.193261</td>\n",
       "      <td>0.050652</td>\n",
       "      <td>0.394101</td>\n",
       "      <td>0.441762</td>\n",
       "      <td>0.459487</td>\n",
       "      <td>0.524948</td>\n",
       "      <td>1.118907</td>\n",
       "      <td>5.473275</td>\n",
       "      <td>10.827102</td>\n",
       "      <td>-0.259012</td>\n",
       "      <td>5.885476</td>\n",
       "      <td>0.025709</td>\n",
       "      <td>0.051825</td>\n",
       "      <td>0.102399</td>\n",
       "      <td>0.122849</td>\n",
       "      <td>0.201019</td>\n",
       "      <td>0.325028</td>\n",
       "      <td>3.822563</td>\n",
       "      <td>0.098619</td>\n",
       "      <td>0.149194</td>\n",
       "      <td>3.822563</td>\n",
       "      <td>-0.024459</td>\n",
       "      <td>-0.115994</td>\n",
       "      <td>0.179037</td>\n",
       "      <td>0.184507</td>\n",
       "      <td>0.590065</td>\n",
       "      <td>0.241364</td>\n",
       "      <td>0.742593</td>\n",
       "      <td>-0.153498</td>\n",
       "      <td>3.894176</td>\n",
       "      <td>-0.393533</td>\n",
       "      <td>0.795194</td>\n",
       "      <td>2.878825</td>\n",
       "      <td>-0.329154</td>\n",
       "      <td>-0.434086</td>\n",
       "      <td>-0.144656</td>\n",
       "      <td>0.184125</td>\n",
       "      <td>0.297261</td>\n",
       "      <td>0.212809</td>\n",
       "      <td>0.361382</td>\n",
       "      <td>0.859646</td>\n",
       "      <td>1.249363</td>\n",
       "      <td>3.878825</td>\n",
       "      <td>-0.671809</td>\n",
       "      <td>1.963087</td>\n",
       "    </tr>\n",
       "    <tr>\n",
       "      <th>2</th>\n",
       "      <td>103</td>\n",
       "      <td>0.063729</td>\n",
       "      <td>0.132427</td>\n",
       "      <td>0.132313</td>\n",
       "      <td>0.194414</td>\n",
       "      <td>0.430182</td>\n",
       "      <td>529.501025</td>\n",
       "      <td>0.529549</td>\n",
       "      <td>3.796499</td>\n",
       "      <td>0.297869</td>\n",
       "      <td>0.297755</td>\n",
       "      <td>3.796499</td>\n",
       "      <td>0.068813</td>\n",
       "      <td>0.016002</td>\n",
       "      <td>0.397160</td>\n",
       "      <td>0.494205</td>\n",
       "      <td>0.529238</td>\n",
       "      <td>0.377472</td>\n",
       "      <td>0.712817</td>\n",
       "      <td>-0.404347</td>\n",
       "      <td>17.876711</td>\n",
       "      <td>0.000569</td>\n",
       "      <td>0.621582</td>\n",
       "      <td>2.248436</td>\n",
       "      <td>-0.138024</td>\n",
       "      <td>0.166189</td>\n",
       "      <td>0.096792</td>\n",
       "      <td>0.420523</td>\n",
       "      <td>0.420316</td>\n",
       "      <td>0.412278</td>\n",
       "      <td>0.412055</td>\n",
       "      <td>1.341230</td>\n",
       "      <td>2.696649</td>\n",
       "      <td>3.248436</td>\n",
       "      <td>-0.509292</td>\n",
       "      <td>3.251243</td>\n",
       "      <td>0.075147</td>\n",
       "      <td>0.149900</td>\n",
       "      <td>0.164103</td>\n",
       "      <td>0.221534</td>\n",
       "      <td>0.412597</td>\n",
       "      <td>0.430889</td>\n",
       "      <td>3.326803</td>\n",
       "      <td>0.248494</td>\n",
       "      <td>0.262697</td>\n",
       "      <td>3.326803</td>\n",
       "      <td>0.060550</td>\n",
       "      <td>-0.019294</td>\n",
       "      <td>0.327221</td>\n",
       "      <td>0.408071</td>\n",
       "      <td>...</td>\n",
       "      <td>12.233252</td>\n",
       "      <td>-0.350342</td>\n",
       "      <td>0.323931</td>\n",
       "      <td>9.840122</td>\n",
       "      <td>-0.338834</td>\n",
       "      <td>0.269818</td>\n",
       "      <td>0.065369</td>\n",
       "      <td>0.406650</td>\n",
       "      <td>0.437229</td>\n",
       "      <td>0.479428</td>\n",
       "      <td>0.521912</td>\n",
       "      <td>1.128248</td>\n",
       "      <td>6.655479</td>\n",
       "      <td>10.840122</td>\n",
       "      <td>-0.174221</td>\n",
       "      <td>7.032567</td>\n",
       "      <td>0.024099</td>\n",
       "      <td>0.047830</td>\n",
       "      <td>0.084905</td>\n",
       "      <td>0.113178</td>\n",
       "      <td>0.184771</td>\n",
       "      <td>0.370319</td>\n",
       "      <td>2.532189</td>\n",
       "      <td>0.099866</td>\n",
       "      <td>0.136941</td>\n",
       "      <td>2.532189</td>\n",
       "      <td>-0.013344</td>\n",
       "      <td>-0.084380</td>\n",
       "      <td>0.192308</td>\n",
       "      <td>0.190392</td>\n",
       "      <td>0.588738</td>\n",
       "      <td>0.240286</td>\n",
       "      <td>0.648862</td>\n",
       "      <td>-0.165847</td>\n",
       "      <td>4.508981</td>\n",
       "      <td>-0.341276</td>\n",
       "      <td>0.684723</td>\n",
       "      <td>2.863084</td>\n",
       "      <td>-0.298898</td>\n",
       "      <td>-0.426430</td>\n",
       "      <td>-0.123007</td>\n",
       "      <td>0.194627</td>\n",
       "      <td>0.280387</td>\n",
       "      <td>0.232422</td>\n",
       "      <td>0.348805</td>\n",
       "      <td>0.850718</td>\n",
       "      <td>1.498339</td>\n",
       "      <td>3.863084</td>\n",
       "      <td>-0.642547</td>\n",
       "      <td>2.176214</td>\n",
       "    </tr>\n",
       "    <tr>\n",
       "      <th>3</th>\n",
       "      <td>104</td>\n",
       "      <td>0.062525</td>\n",
       "      <td>0.127990</td>\n",
       "      <td>0.130862</td>\n",
       "      <td>0.186196</td>\n",
       "      <td>0.397415</td>\n",
       "      <td>544.503985</td>\n",
       "      <td>0.504571</td>\n",
       "      <td>3.817141</td>\n",
       "      <td>0.266553</td>\n",
       "      <td>0.269425</td>\n",
       "      <td>3.817141</td>\n",
       "      <td>0.062594</td>\n",
       "      <td>0.007378</td>\n",
       "      <td>0.366736</td>\n",
       "      <td>0.450186</td>\n",
       "      <td>0.512794</td>\n",
       "      <td>0.361917</td>\n",
       "      <td>0.717277</td>\n",
       "      <td>-0.358909</td>\n",
       "      <td>15.878329</td>\n",
       "      <td>-0.014626</td>\n",
       "      <td>0.606708</td>\n",
       "      <td>2.105043</td>\n",
       "      <td>-0.145530</td>\n",
       "      <td>0.093756</td>\n",
       "      <td>0.051490</td>\n",
       "      <td>0.388835</td>\n",
       "      <td>0.394124</td>\n",
       "      <td>0.387276</td>\n",
       "      <td>0.393088</td>\n",
       "      <td>1.273057</td>\n",
       "      <td>2.463077</td>\n",
       "      <td>3.105043</td>\n",
       "      <td>-0.534106</td>\n",
       "      <td>3.036908</td>\n",
       "      <td>0.073349</td>\n",
       "      <td>0.151789</td>\n",
       "      <td>0.159115</td>\n",
       "      <td>0.224403</td>\n",
       "      <td>0.416914</td>\n",
       "      <td>0.447545</td>\n",
       "      <td>2.948651</td>\n",
       "      <td>0.257799</td>\n",
       "      <td>0.265125</td>\n",
       "      <td>2.948651</td>\n",
       "      <td>0.071114</td>\n",
       "      <td>0.000143</td>\n",
       "      <td>0.339671</td>\n",
       "      <td>0.423709</td>\n",
       "      <td>...</td>\n",
       "      <td>10.578978</td>\n",
       "      <td>-0.517790</td>\n",
       "      <td>0.359574</td>\n",
       "      <td>10.759718</td>\n",
       "      <td>-0.408050</td>\n",
       "      <td>0.147209</td>\n",
       "      <td>0.033778</td>\n",
       "      <td>0.370224</td>\n",
       "      <td>0.418171</td>\n",
       "      <td>0.443765</td>\n",
       "      <td>0.511705</td>\n",
       "      <td>1.066306</td>\n",
       "      <td>5.499631</td>\n",
       "      <td>11.759718</td>\n",
       "      <td>-0.256996</td>\n",
       "      <td>5.910944</td>\n",
       "      <td>0.022502</td>\n",
       "      <td>0.044899</td>\n",
       "      <td>0.085384</td>\n",
       "      <td>0.108823</td>\n",
       "      <td>0.182668</td>\n",
       "      <td>0.362930</td>\n",
       "      <td>3.150474</td>\n",
       "      <td>0.097284</td>\n",
       "      <td>0.137769</td>\n",
       "      <td>3.150474</td>\n",
       "      <td>-0.018088</td>\n",
       "      <td>-0.092726</td>\n",
       "      <td>0.187902</td>\n",
       "      <td>0.185513</td>\n",
       "      <td>0.605400</td>\n",
       "      <td>0.253334</td>\n",
       "      <td>0.698026</td>\n",
       "      <td>-0.162313</td>\n",
       "      <td>4.217642</td>\n",
       "      <td>-0.375622</td>\n",
       "      <td>0.714421</td>\n",
       "      <td>3.068425</td>\n",
       "      <td>-0.318624</td>\n",
       "      <td>-0.438027</td>\n",
       "      <td>-0.126100</td>\n",
       "      <td>0.189995</td>\n",
       "      <td>0.284034</td>\n",
       "      <td>0.227272</td>\n",
       "      <td>0.355472</td>\n",
       "      <td>0.844311</td>\n",
       "      <td>1.455684</td>\n",
       "      <td>4.068425</td>\n",
       "      <td>-0.647532</td>\n",
       "      <td>2.139371</td>\n",
       "    </tr>\n",
       "    <tr>\n",
       "      <th>4</th>\n",
       "      <td>105</td>\n",
       "      <td>0.056797</td>\n",
       "      <td>0.127818</td>\n",
       "      <td>0.129993</td>\n",
       "      <td>0.191037</td>\n",
       "      <td>0.466161</td>\n",
       "      <td>529.501025</td>\n",
       "      <td>0.563895</td>\n",
       "      <td>4.506941</td>\n",
       "      <td>0.336168</td>\n",
       "      <td>0.338343</td>\n",
       "      <td>4.506941</td>\n",
       "      <td>0.068845</td>\n",
       "      <td>0.014673</td>\n",
       "      <td>0.435389</td>\n",
       "      <td>0.547809</td>\n",
       "      <td>0.569622</td>\n",
       "      <td>0.418631</td>\n",
       "      <td>0.742392</td>\n",
       "      <td>-0.483063</td>\n",
       "      <td>20.083072</td>\n",
       "      <td>-0.010822</td>\n",
       "      <td>0.672267</td>\n",
       "      <td>2.647081</td>\n",
       "      <td>-0.133293</td>\n",
       "      <td>0.251406</td>\n",
       "      <td>0.154573</td>\n",
       "      <td>0.460020</td>\n",
       "      <td>0.463917</td>\n",
       "      <td>0.444576</td>\n",
       "      <td>0.448744</td>\n",
       "      <td>1.421312</td>\n",
       "      <td>3.057981</td>\n",
       "      <td>3.647081</td>\n",
       "      <td>-0.472098</td>\n",
       "      <td>3.586051</td>\n",
       "      <td>0.067687</td>\n",
       "      <td>0.141492</td>\n",
       "      <td>0.153007</td>\n",
       "      <td>0.224422</td>\n",
       "      <td>0.422184</td>\n",
       "      <td>0.467978</td>\n",
       "      <td>2.769218</td>\n",
       "      <td>0.269177</td>\n",
       "      <td>0.280692</td>\n",
       "      <td>2.769218</td>\n",
       "      <td>0.062289</td>\n",
       "      <td>-0.010430</td>\n",
       "      <td>0.354921</td>\n",
       "      <td>0.442857</td>\n",
       "      <td>...</td>\n",
       "      <td>10.081904</td>\n",
       "      <td>-0.532498</td>\n",
       "      <td>0.353657</td>\n",
       "      <td>10.949825</td>\n",
       "      <td>-0.414830</td>\n",
       "      <td>0.121620</td>\n",
       "      <td>0.026395</td>\n",
       "      <td>0.358928</td>\n",
       "      <td>0.406717</td>\n",
       "      <td>0.435354</td>\n",
       "      <td>0.503935</td>\n",
       "      <td>1.043241</td>\n",
       "      <td>5.449990</td>\n",
       "      <td>11.949825</td>\n",
       "      <td>-0.260797</td>\n",
       "      <td>5.862981</td>\n",
       "      <td>0.022015</td>\n",
       "      <td>0.043172</td>\n",
       "      <td>0.082700</td>\n",
       "      <td>0.103487</td>\n",
       "      <td>0.172024</td>\n",
       "      <td>0.350668</td>\n",
       "      <td>3.297066</td>\n",
       "      <td>0.089323</td>\n",
       "      <td>0.128851</td>\n",
       "      <td>3.297066</td>\n",
       "      <td>-0.018371</td>\n",
       "      <td>-0.090978</td>\n",
       "      <td>0.176983</td>\n",
       "      <td>0.171229</td>\n",
       "      <td>0.598762</td>\n",
       "      <td>0.248761</td>\n",
       "      <td>0.709392</td>\n",
       "      <td>-0.149943</td>\n",
       "      <td>3.778293</td>\n",
       "      <td>-0.380597</td>\n",
       "      <td>0.711413</td>\n",
       "      <td>2.984571</td>\n",
       "      <td>-0.322113</td>\n",
       "      <td>-0.472945</td>\n",
       "      <td>-0.130105</td>\n",
       "      <td>0.177529</td>\n",
       "      <td>0.270243</td>\n",
       "      <td>0.215380</td>\n",
       "      <td>0.343424</td>\n",
       "      <td>0.821583</td>\n",
       "      <td>1.386726</td>\n",
       "      <td>3.984571</td>\n",
       "      <td>-0.655617</td>\n",
       "      <td>2.080087</td>\n",
       "    </tr>\n",
       "    <tr>\n",
       "      <th>...</th>\n",
       "      <td>...</td>\n",
       "      <td>...</td>\n",
       "      <td>...</td>\n",
       "      <td>...</td>\n",
       "      <td>...</td>\n",
       "      <td>...</td>\n",
       "      <td>...</td>\n",
       "      <td>...</td>\n",
       "      <td>...</td>\n",
       "      <td>...</td>\n",
       "      <td>...</td>\n",
       "      <td>...</td>\n",
       "      <td>...</td>\n",
       "      <td>...</td>\n",
       "      <td>...</td>\n",
       "      <td>...</td>\n",
       "      <td>...</td>\n",
       "      <td>...</td>\n",
       "      <td>...</td>\n",
       "      <td>...</td>\n",
       "      <td>...</td>\n",
       "      <td>...</td>\n",
       "      <td>...</td>\n",
       "      <td>...</td>\n",
       "      <td>...</td>\n",
       "      <td>...</td>\n",
       "      <td>...</td>\n",
       "      <td>...</td>\n",
       "      <td>...</td>\n",
       "      <td>...</td>\n",
       "      <td>...</td>\n",
       "      <td>...</td>\n",
       "      <td>...</td>\n",
       "      <td>...</td>\n",
       "      <td>...</td>\n",
       "      <td>...</td>\n",
       "      <td>...</td>\n",
       "      <td>...</td>\n",
       "      <td>...</td>\n",
       "      <td>...</td>\n",
       "      <td>...</td>\n",
       "      <td>...</td>\n",
       "      <td>...</td>\n",
       "      <td>...</td>\n",
       "      <td>...</td>\n",
       "      <td>...</td>\n",
       "      <td>...</td>\n",
       "      <td>...</td>\n",
       "      <td>...</td>\n",
       "      <td>...</td>\n",
       "      <td>...</td>\n",
       "      <td>...</td>\n",
       "      <td>...</td>\n",
       "      <td>...</td>\n",
       "      <td>...</td>\n",
       "      <td>...</td>\n",
       "      <td>...</td>\n",
       "      <td>...</td>\n",
       "      <td>...</td>\n",
       "      <td>...</td>\n",
       "      <td>...</td>\n",
       "      <td>...</td>\n",
       "      <td>...</td>\n",
       "      <td>...</td>\n",
       "      <td>...</td>\n",
       "      <td>...</td>\n",
       "      <td>...</td>\n",
       "      <td>...</td>\n",
       "      <td>...</td>\n",
       "      <td>...</td>\n",
       "      <td>...</td>\n",
       "      <td>...</td>\n",
       "      <td>...</td>\n",
       "      <td>...</td>\n",
       "      <td>...</td>\n",
       "      <td>...</td>\n",
       "      <td>...</td>\n",
       "      <td>...</td>\n",
       "      <td>...</td>\n",
       "      <td>...</td>\n",
       "      <td>...</td>\n",
       "      <td>...</td>\n",
       "      <td>...</td>\n",
       "      <td>...</td>\n",
       "      <td>...</td>\n",
       "      <td>...</td>\n",
       "      <td>...</td>\n",
       "      <td>...</td>\n",
       "      <td>...</td>\n",
       "      <td>...</td>\n",
       "      <td>...</td>\n",
       "      <td>...</td>\n",
       "      <td>...</td>\n",
       "      <td>...</td>\n",
       "      <td>...</td>\n",
       "      <td>...</td>\n",
       "      <td>...</td>\n",
       "      <td>...</td>\n",
       "      <td>...</td>\n",
       "      <td>...</td>\n",
       "      <td>...</td>\n",
       "    </tr>\n",
       "    <tr>\n",
       "      <th>596</th>\n",
       "      <td>872</td>\n",
       "      <td>0.031274</td>\n",
       "      <td>0.095103</td>\n",
       "      <td>0.045338</td>\n",
       "      <td>0.175002</td>\n",
       "      <td>0.519788</td>\n",
       "      <td>469.682277</td>\n",
       "      <td>0.839548</td>\n",
       "      <td>2.659075</td>\n",
       "      <td>0.474451</td>\n",
       "      <td>0.424686</td>\n",
       "      <td>2.659075</td>\n",
       "      <td>0.113593</td>\n",
       "      <td>0.145222</td>\n",
       "      <td>0.631129</td>\n",
       "      <td>0.788071</td>\n",
       "      <td>0.690669</td>\n",
       "      <td>0.496245</td>\n",
       "      <td>0.591086</td>\n",
       "      <td>-1.201996</td>\n",
       "      <td>30.457618</td>\n",
       "      <td>0.455862</td>\n",
       "      <td>0.487476</td>\n",
       "      <td>4.465558</td>\n",
       "      <td>0.069299</td>\n",
       "      <td>0.712613</td>\n",
       "      <td>0.413557</td>\n",
       "      <td>0.668161</td>\n",
       "      <td>0.571382</td>\n",
       "      <td>0.654300</td>\n",
       "      <td>0.548059</td>\n",
       "      <td>1.737803</td>\n",
       "      <td>11.169425</td>\n",
       "      <td>5.465558</td>\n",
       "      <td>0.068240</td>\n",
       "      <td>11.464762</td>\n",
       "      <td>0.030750</td>\n",
       "      <td>0.107035</td>\n",
       "      <td>0.038412</td>\n",
       "      <td>0.199857</td>\n",
       "      <td>0.597318</td>\n",
       "      <td>0.879156</td>\n",
       "      <td>2.461898</td>\n",
       "      <td>0.558906</td>\n",
       "      <td>0.490284</td>\n",
       "      <td>2.461898</td>\n",
       "      <td>0.144907</td>\n",
       "      <td>0.198165</td>\n",
       "      <td>0.700975</td>\n",
       "      <td>0.886074</td>\n",
       "      <td>...</td>\n",
       "      <td>13.769518</td>\n",
       "      <td>-0.130674</td>\n",
       "      <td>0.286580</td>\n",
       "      <td>9.704081</td>\n",
       "      <td>-0.261456</td>\n",
       "      <td>0.410410</td>\n",
       "      <td>0.099399</td>\n",
       "      <td>0.441445</td>\n",
       "      <td>0.451436</td>\n",
       "      <td>0.517174</td>\n",
       "      <td>0.530948</td>\n",
       "      <td>1.183358</td>\n",
       "      <td>8.850674</td>\n",
       "      <td>10.704081</td>\n",
       "      <td>-0.042714</td>\n",
       "      <td>9.180710</td>\n",
       "      <td>0.027015</td>\n",
       "      <td>0.064249</td>\n",
       "      <td>0.042983</td>\n",
       "      <td>0.150733</td>\n",
       "      <td>0.305187</td>\n",
       "      <td>0.753093</td>\n",
       "      <td>1.433444</td>\n",
       "      <td>0.262204</td>\n",
       "      <td>0.240938</td>\n",
       "      <td>1.433444</td>\n",
       "      <td>0.058501</td>\n",
       "      <td>0.062575</td>\n",
       "      <td>0.444369</td>\n",
       "      <td>0.493129</td>\n",
       "      <td>0.652176</td>\n",
       "      <td>0.338774</td>\n",
       "      <td>0.449844</td>\n",
       "      <td>-0.567385</td>\n",
       "      <td>16.582922</td>\n",
       "      <td>0.265110</td>\n",
       "      <td>0.341564</td>\n",
       "      <td>3.750038</td>\n",
       "      <td>-0.028958</td>\n",
       "      <td>0.368466</td>\n",
       "      <td>0.118271</td>\n",
       "      <td>0.463712</td>\n",
       "      <td>0.415679</td>\n",
       "      <td>0.515977</td>\n",
       "      <td>0.455083</td>\n",
       "      <td>1.258355</td>\n",
       "      <td>6.724913</td>\n",
       "      <td>4.750038</td>\n",
       "      <td>-0.169577</td>\n",
       "      <td>7.100201</td>\n",
       "    </tr>\n",
       "    <tr>\n",
       "      <th>597</th>\n",
       "      <td>873</td>\n",
       "      <td>0.026577</td>\n",
       "      <td>0.091572</td>\n",
       "      <td>0.036885</td>\n",
       "      <td>0.180711</td>\n",
       "      <td>0.568449</td>\n",
       "      <td>594.682657</td>\n",
       "      <td>0.878133</td>\n",
       "      <td>2.695898</td>\n",
       "      <td>0.531564</td>\n",
       "      <td>0.476878</td>\n",
       "      <td>2.695898</td>\n",
       "      <td>0.119680</td>\n",
       "      <td>0.159613</td>\n",
       "      <td>0.683216</td>\n",
       "      <td>0.859791</td>\n",
       "      <td>0.722519</td>\n",
       "      <td>0.517565</td>\n",
       "      <td>0.589392</td>\n",
       "      <td>-1.559402</td>\n",
       "      <td>34.081314</td>\n",
       "      <td>0.536777</td>\n",
       "      <td>0.520950</td>\n",
       "      <td>5.207708</td>\n",
       "      <td>0.113983</td>\n",
       "      <td>0.795094</td>\n",
       "      <td>0.499261</td>\n",
       "      <td>0.721362</td>\n",
       "      <td>0.616641</td>\n",
       "      <td>0.694551</td>\n",
       "      <td>0.581544</td>\n",
       "      <td>1.856800</td>\n",
       "      <td>15.156602</td>\n",
       "      <td>6.207708</td>\n",
       "      <td>0.212950</td>\n",
       "      <td>15.411332</td>\n",
       "      <td>0.032683</td>\n",
       "      <td>0.111978</td>\n",
       "      <td>0.040707</td>\n",
       "      <td>0.201914</td>\n",
       "      <td>0.612264</td>\n",
       "      <td>0.875316</td>\n",
       "      <td>2.545487</td>\n",
       "      <td>0.571557</td>\n",
       "      <td>0.500286</td>\n",
       "      <td>2.545487</td>\n",
       "      <td>0.150567</td>\n",
       "      <td>0.205555</td>\n",
       "      <td>0.707314</td>\n",
       "      <td>0.895991</td>\n",
       "      <td>...</td>\n",
       "      <td>11.892889</td>\n",
       "      <td>-0.271709</td>\n",
       "      <td>0.293344</td>\n",
       "      <td>10.335547</td>\n",
       "      <td>-0.306838</td>\n",
       "      <td>0.305953</td>\n",
       "      <td>0.065132</td>\n",
       "      <td>0.401432</td>\n",
       "      <td>0.422137</td>\n",
       "      <td>0.483713</td>\n",
       "      <td>0.513174</td>\n",
       "      <td>1.105566</td>\n",
       "      <td>7.745936</td>\n",
       "      <td>11.335547</td>\n",
       "      <td>-0.105134</td>\n",
       "      <td>8.097357</td>\n",
       "      <td>0.027351</td>\n",
       "      <td>0.064749</td>\n",
       "      <td>0.045209</td>\n",
       "      <td>0.148332</td>\n",
       "      <td>0.298534</td>\n",
       "      <td>0.736961</td>\n",
       "      <td>1.456531</td>\n",
       "      <td>0.253325</td>\n",
       "      <td>0.233785</td>\n",
       "      <td>1.456531</td>\n",
       "      <td>0.056937</td>\n",
       "      <td>0.058393</td>\n",
       "      <td>0.432077</td>\n",
       "      <td>0.477102</td>\n",
       "      <td>0.643536</td>\n",
       "      <td>0.336123</td>\n",
       "      <td>0.456094</td>\n",
       "      <td>-0.537684</td>\n",
       "      <td>15.981078</td>\n",
       "      <td>0.236539</td>\n",
       "      <td>0.347710</td>\n",
       "      <td>3.610663</td>\n",
       "      <td>-0.038659</td>\n",
       "      <td>0.326905</td>\n",
       "      <td>0.103842</td>\n",
       "      <td>0.450359</td>\n",
       "      <td>0.406215</td>\n",
       "      <td>0.502885</td>\n",
       "      <td>0.446767</td>\n",
       "      <td>1.235119</td>\n",
       "      <td>6.214283</td>\n",
       "      <td>4.610663</td>\n",
       "      <td>-0.204570</td>\n",
       "      <td>6.603431</td>\n",
       "    </tr>\n",
       "    <tr>\n",
       "      <th>598</th>\n",
       "      <td>874</td>\n",
       "      <td>0.028344</td>\n",
       "      <td>0.095014</td>\n",
       "      <td>0.039843</td>\n",
       "      <td>0.181375</td>\n",
       "      <td>0.544136</td>\n",
       "      <td>528.060114</td>\n",
       "      <td>0.863547</td>\n",
       "      <td>2.563096</td>\n",
       "      <td>0.504293</td>\n",
       "      <td>0.449121</td>\n",
       "      <td>2.563096</td>\n",
       "      <td>0.121842</td>\n",
       "      <td>0.161077</td>\n",
       "      <td>0.659910</td>\n",
       "      <td>0.827352</td>\n",
       "      <td>0.702685</td>\n",
       "      <td>0.500007</td>\n",
       "      <td>0.579016</td>\n",
       "      <td>-1.389237</td>\n",
       "      <td>32.464444</td>\n",
       "      <td>0.517978</td>\n",
       "      <td>0.499254</td>\n",
       "      <td>4.726871</td>\n",
       "      <td>0.103897</td>\n",
       "      <td>0.762789</td>\n",
       "      <td>0.459803</td>\n",
       "      <td>0.697836</td>\n",
       "      <td>0.591390</td>\n",
       "      <td>0.677833</td>\n",
       "      <td>0.561999</td>\n",
       "      <td>1.802556</td>\n",
       "      <td>13.386467</td>\n",
       "      <td>5.726871</td>\n",
       "      <td>0.154587</td>\n",
       "      <td>13.657063</td>\n",
       "      <td>0.031505</td>\n",
       "      <td>0.109895</td>\n",
       "      <td>0.039021</td>\n",
       "      <td>0.201211</td>\n",
       "      <td>0.618383</td>\n",
       "      <td>0.881289</td>\n",
       "      <td>2.572103</td>\n",
       "      <td>0.579362</td>\n",
       "      <td>0.508488</td>\n",
       "      <td>2.572103</td>\n",
       "      <td>0.149264</td>\n",
       "      <td>0.204530</td>\n",
       "      <td>0.714553</td>\n",
       "      <td>0.905343</td>\n",
       "      <td>...</td>\n",
       "      <td>13.046540</td>\n",
       "      <td>-0.091439</td>\n",
       "      <td>0.259371</td>\n",
       "      <td>11.434364</td>\n",
       "      <td>-0.247496</td>\n",
       "      <td>0.457281</td>\n",
       "      <td>0.093933</td>\n",
       "      <td>0.430935</td>\n",
       "      <td>0.436508</td>\n",
       "      <td>0.518777</td>\n",
       "      <td>0.526710</td>\n",
       "      <td>1.148552</td>\n",
       "      <td>10.868752</td>\n",
       "      <td>12.434364</td>\n",
       "      <td>0.055177</td>\n",
       "      <td>11.167987</td>\n",
       "      <td>0.028029</td>\n",
       "      <td>0.063449</td>\n",
       "      <td>0.046859</td>\n",
       "      <td>0.139275</td>\n",
       "      <td>0.267183</td>\n",
       "      <td>0.701574</td>\n",
       "      <td>1.384058</td>\n",
       "      <td>0.220324</td>\n",
       "      <td>0.203734</td>\n",
       "      <td>1.384058</td>\n",
       "      <td>0.052010</td>\n",
       "      <td>0.049857</td>\n",
       "      <td>0.393158</td>\n",
       "      <td>0.420312</td>\n",
       "      <td>0.616194</td>\n",
       "      <td>0.314690</td>\n",
       "      <td>0.448549</td>\n",
       "      <td>-0.449938</td>\n",
       "      <td>13.883026</td>\n",
       "      <td>0.201631</td>\n",
       "      <td>0.332564</td>\n",
       "      <td>3.210971</td>\n",
       "      <td>-0.056688</td>\n",
       "      <td>0.207428</td>\n",
       "      <td>0.059509</td>\n",
       "      <td>0.405981</td>\n",
       "      <td>0.367913</td>\n",
       "      <td>0.464777</td>\n",
       "      <td>0.415247</td>\n",
       "      <td>1.149759</td>\n",
       "      <td>5.283039</td>\n",
       "      <td>4.210971</td>\n",
       "      <td>-0.273737</td>\n",
       "      <td>5.701826</td>\n",
       "    </tr>\n",
       "    <tr>\n",
       "      <th>599</th>\n",
       "      <td>875</td>\n",
       "      <td>0.031130</td>\n",
       "      <td>0.109043</td>\n",
       "      <td>0.040605</td>\n",
       "      <td>0.211467</td>\n",
       "      <td>0.630192</td>\n",
       "      <td>489.629146</td>\n",
       "      <td>0.878935</td>\n",
       "      <td>2.450667</td>\n",
       "      <td>0.589587</td>\n",
       "      <td>0.521149</td>\n",
       "      <td>2.450667</td>\n",
       "      <td>0.146350</td>\n",
       "      <td>0.198546</td>\n",
       "      <td>0.719867</td>\n",
       "      <td>0.913264</td>\n",
       "      <td>0.704985</td>\n",
       "      <td>0.497500</td>\n",
       "      <td>0.566026</td>\n",
       "      <td>-1.740399</td>\n",
       "      <td>38.112697</td>\n",
       "      <td>0.577447</td>\n",
       "      <td>0.559046</td>\n",
       "      <td>4.779312</td>\n",
       "      <td>0.128727</td>\n",
       "      <td>0.814482</td>\n",
       "      <td>0.570308</td>\n",
       "      <td>0.755366</td>\n",
       "      <td>0.630812</td>\n",
       "      <td>0.709664</td>\n",
       "      <td>0.579547</td>\n",
       "      <td>1.947078</td>\n",
       "      <td>15.266213</td>\n",
       "      <td>5.779312</td>\n",
       "      <td>0.216302</td>\n",
       "      <td>15.520049</td>\n",
       "      <td>0.076674</td>\n",
       "      <td>0.159097</td>\n",
       "      <td>0.151785</td>\n",
       "      <td>0.204902</td>\n",
       "      <td>0.391301</td>\n",
       "      <td>0.441028</td>\n",
       "      <td>3.509231</td>\n",
       "      <td>0.239516</td>\n",
       "      <td>0.232204</td>\n",
       "      <td>3.509231</td>\n",
       "      <td>0.089734</td>\n",
       "      <td>0.036332</td>\n",
       "      <td>0.325013</td>\n",
       "      <td>0.400456</td>\n",
       "      <td>...</td>\n",
       "      <td>11.895290</td>\n",
       "      <td>-0.198792</td>\n",
       "      <td>0.269476</td>\n",
       "      <td>10.677534</td>\n",
       "      <td>-0.281022</td>\n",
       "      <td>0.350110</td>\n",
       "      <td>0.069277</td>\n",
       "      <td>0.402945</td>\n",
       "      <td>0.416455</td>\n",
       "      <td>0.490766</td>\n",
       "      <td>0.510215</td>\n",
       "      <td>1.100536</td>\n",
       "      <td>8.842800</td>\n",
       "      <td>11.677534</td>\n",
       "      <td>-0.043135</td>\n",
       "      <td>9.172976</td>\n",
       "      <td>0.024904</td>\n",
       "      <td>0.060438</td>\n",
       "      <td>0.040716</td>\n",
       "      <td>0.136301</td>\n",
       "      <td>0.288011</td>\n",
       "      <td>0.752280</td>\n",
       "      <td>1.587168</td>\n",
       "      <td>0.247294</td>\n",
       "      <td>0.227572</td>\n",
       "      <td>1.587168</td>\n",
       "      <td>0.055256</td>\n",
       "      <td>0.058692</td>\n",
       "      <td>0.431317</td>\n",
       "      <td>0.469710</td>\n",
       "      <td>0.653100</td>\n",
       "      <td>0.357543</td>\n",
       "      <td>0.475279</td>\n",
       "      <td>-0.540856</td>\n",
       "      <td>15.626556</td>\n",
       "      <td>0.258652</td>\n",
       "      <td>0.331594</td>\n",
       "      <td>3.765354</td>\n",
       "      <td>-0.027786</td>\n",
       "      <td>0.341516</td>\n",
       "      <td>0.101578</td>\n",
       "      <td>0.447604</td>\n",
       "      <td>0.402332</td>\n",
       "      <td>0.505997</td>\n",
       "      <td>0.447581</td>\n",
       "      <td>1.220533</td>\n",
       "      <td>6.697631</td>\n",
       "      <td>4.765354</td>\n",
       "      <td>-0.171398</td>\n",
       "      <td>7.073623</td>\n",
       "    </tr>\n",
       "    <tr>\n",
       "      <th>600</th>\n",
       "      <td>801</td>\n",
       "      <td>0.031697</td>\n",
       "      <td>0.104229</td>\n",
       "      <td>0.042181</td>\n",
       "      <td>0.218263</td>\n",
       "      <td>0.718068</td>\n",
       "      <td>591.977989</td>\n",
       "      <td>0.889035</td>\n",
       "      <td>2.838467</td>\n",
       "      <td>0.675888</td>\n",
       "      <td>0.613839</td>\n",
       "      <td>2.838467</td>\n",
       "      <td>0.134581</td>\n",
       "      <td>0.179758</td>\n",
       "      <td>0.775169</td>\n",
       "      <td>0.985742</td>\n",
       "      <td>0.746492</td>\n",
       "      <td>0.533791</td>\n",
       "      <td>0.600416</td>\n",
       "      <td>-2.186653</td>\n",
       "      <td>43.035210</td>\n",
       "      <td>0.540904</td>\n",
       "      <td>0.653335</td>\n",
       "      <td>5.889306</td>\n",
       "      <td>0.107503</td>\n",
       "      <td>0.848762</td>\n",
       "      <td>0.671356</td>\n",
       "      <td>0.804469</td>\n",
       "      <td>0.696332</td>\n",
       "      <td>0.734462</td>\n",
       "      <td>0.624901</td>\n",
       "      <td>2.072935</td>\n",
       "      <td>16.781292</td>\n",
       "      <td>6.889306</td>\n",
       "      <td>0.259908</td>\n",
       "      <td>17.023659</td>\n",
       "      <td>0.033357</td>\n",
       "      <td>0.110367</td>\n",
       "      <td>0.040200</td>\n",
       "      <td>0.223602</td>\n",
       "      <td>0.776458</td>\n",
       "      <td>0.901551</td>\n",
       "      <td>3.014455</td>\n",
       "      <td>0.736258</td>\n",
       "      <td>0.666091</td>\n",
       "      <td>3.014455</td>\n",
       "      <td>0.147178</td>\n",
       "      <td>0.201266</td>\n",
       "      <td>0.814723</td>\n",
       "      <td>1.032956</td>\n",
       "      <td>...</td>\n",
       "      <td>15.540161</td>\n",
       "      <td>-0.109149</td>\n",
       "      <td>0.299467</td>\n",
       "      <td>11.842731</td>\n",
       "      <td>-0.258444</td>\n",
       "      <td>0.528726</td>\n",
       "      <td>0.140011</td>\n",
       "      <td>0.482408</td>\n",
       "      <td>0.489691</td>\n",
       "      <td>0.553516</td>\n",
       "      <td>0.563365</td>\n",
       "      <td>1.262306</td>\n",
       "      <td>11.035393</td>\n",
       "      <td>12.842731</td>\n",
       "      <td>0.062461</td>\n",
       "      <td>11.332449</td>\n",
       "      <td>0.028468</td>\n",
       "      <td>0.067090</td>\n",
       "      <td>0.053435</td>\n",
       "      <td>0.162061</td>\n",
       "      <td>0.282282</td>\n",
       "      <td>0.681664</td>\n",
       "      <td>1.106746</td>\n",
       "      <td>0.228847</td>\n",
       "      <td>0.215192</td>\n",
       "      <td>1.106746</td>\n",
       "      <td>0.052276</td>\n",
       "      <td>0.044556</td>\n",
       "      <td>0.394964</td>\n",
       "      <td>0.431413</td>\n",
       "      <td>0.615940</td>\n",
       "      <td>0.270559</td>\n",
       "      <td>0.396909</td>\n",
       "      <td>-0.457019</td>\n",
       "      <td>14.276989</td>\n",
       "      <td>0.148327</td>\n",
       "      <td>0.379122</td>\n",
       "      <td>3.207515</td>\n",
       "      <td>-0.068556</td>\n",
       "      <td>0.197176</td>\n",
       "      <td>0.062187</td>\n",
       "      <td>0.410749</td>\n",
       "      <td>0.380032</td>\n",
       "      <td>0.461647</td>\n",
       "      <td>0.422466</td>\n",
       "      <td>1.171790</td>\n",
       "      <td>4.847593</td>\n",
       "      <td>4.207515</td>\n",
       "      <td>-0.308671</td>\n",
       "      <td>5.282677</td>\n",
       "    </tr>\n",
       "  </tbody>\n",
       "</table>\n",
       "<p>601 rows × 376 columns</p>\n",
       "</div>"
      ],
      "text/plain": [
       "     Plot_ID  Blue_060619  Green_060619  Red_060619  RedEdge_060619  \\\n",
       "0        101     0.062427      0.129283    0.129278        0.185566   \n",
       "1        102     0.061705      0.129847    0.127858        0.184991   \n",
       "2        103     0.063729      0.132427    0.132313        0.194414   \n",
       "3        104     0.062525      0.127990    0.130862        0.186196   \n",
       "4        105     0.056797      0.127818    0.129993        0.191037   \n",
       "..       ...          ...           ...         ...             ...   \n",
       "596      872     0.031274      0.095103    0.045338        0.175002   \n",
       "597      873     0.026577      0.091572    0.036885        0.180711   \n",
       "598      874     0.028344      0.095014    0.039843        0.181375   \n",
       "599      875     0.031130      0.109043    0.040605        0.211467   \n",
       "600      801     0.031697      0.104229    0.042181        0.218263   \n",
       "\n",
       "     NIR_060619  GrainYield  NDVI_060619  MTCI_060619  DVI_060619  \\\n",
       "0      0.407937  499.624440     0.518710     3.950610    0.278659   \n",
       "1      0.404994  515.532751     0.520099     3.850745    0.277136   \n",
       "2      0.430182  529.501025     0.529549     3.796499    0.297869   \n",
       "3      0.397415  544.503985     0.504571     3.817141    0.266553   \n",
       "4      0.466161  529.501025     0.563895     4.506941    0.336168   \n",
       "..          ...         ...          ...          ...         ...   \n",
       "596    0.519788  469.682277     0.839548     2.659075    0.474451   \n",
       "597    0.568449  594.682657     0.878133     2.695898    0.531564   \n",
       "598    0.544136  528.060114     0.863547     2.563096    0.504293   \n",
       "599    0.630192  489.629146     0.878935     2.450667    0.589587   \n",
       "600    0.718068  591.977989     0.889035     2.838467    0.675888   \n",
       "\n",
       "     GDVI_060619  MTCI_CI_060619  EXG_060619  EXGR_060619  RDVI_060619  \\\n",
       "0       0.278654        3.950610    0.066861     0.015155     0.380188   \n",
       "1       0.275147        3.850745    0.070131     0.020976     0.379655   \n",
       "2       0.297755        3.796499    0.068813     0.016002     0.397160   \n",
       "3       0.269425        3.817141    0.062594     0.007378     0.366736   \n",
       "4       0.338343        4.506941    0.068845     0.014673     0.435389   \n",
       "..           ...             ...         ...          ...          ...   \n",
       "596     0.424686        2.659075    0.113593     0.145222     0.631129   \n",
       "597     0.476878        2.695898    0.119680     0.159613     0.683216   \n",
       "598     0.449121        2.563096    0.121842     0.161077     0.659910   \n",
       "599     0.521149        2.450667    0.146350     0.198546     0.719867   \n",
       "600     0.613839        2.838467    0.134581     0.179758     0.775169   \n",
       "\n",
       "     TDVI_060619  GNDVI_060619  NDRE_060619  SCCI_060619  EVI_060619  \\\n",
       "0       0.468589      0.518696     0.374675     0.722322   -0.379451   \n",
       "1       0.467148      0.514447     0.372896     0.716972   -0.379650   \n",
       "2       0.494205      0.529238     0.377472     0.712817   -0.404347   \n",
       "3       0.450186      0.512794     0.361917     0.717277   -0.358909   \n",
       "4       0.547809      0.569622     0.418631     0.742392   -0.483063   \n",
       "..           ...           ...          ...          ...         ...   \n",
       "596     0.788071      0.690669     0.496245     0.591086   -1.201996   \n",
       "597     0.859791      0.722519     0.517565     0.589392   -1.559402   \n",
       "598     0.827352      0.702685     0.500007     0.579016   -1.389237   \n",
       "599     0.913264      0.704985     0.497500     0.566026   -1.740399   \n",
       "600     0.985742      0.746492     0.533791     0.600416   -2.186653   \n",
       "\n",
       "     TVI_060619  VARI_060619  GARI_060619  GCI_060619  GLI_060619  NLI_060619  \\\n",
       "0     16.719722     0.000025     0.603848    2.155378   -0.138632    0.125585   \n",
       "1     16.707685     0.010147     0.597877    2.119012   -0.132922    0.123894   \n",
       "2     17.876711     0.000569     0.621582    2.248436   -0.138024    0.166189   \n",
       "3     15.878329    -0.014626     0.606708    2.105043   -0.145530    0.093756   \n",
       "4     20.083072    -0.010822     0.672267    2.647081   -0.133293    0.251406   \n",
       "..          ...          ...          ...         ...         ...         ...   \n",
       "596   30.457618     0.455862     0.487476    4.465558    0.069299    0.712613   \n",
       "597   34.081314     0.536777     0.520950    5.207708    0.113983    0.795094   \n",
       "598   32.464444     0.517978     0.499254    4.726871    0.103897    0.762789   \n",
       "599   38.112697     0.577447     0.559046    4.779312    0.128727    0.814482   \n",
       "600   43.035210     0.540904     0.653335    5.889306    0.107503    0.848762   \n",
       "\n",
       "     MNLI_060619  SAVI_060619  GSAVI_060619  OSAVI_060619  GOSAVI_060619  \\\n",
       "0       0.070004     0.402991      0.402982      0.399674       0.399664   \n",
       "1       0.068499     0.402481      0.398825      0.399993       0.395986   \n",
       "2       0.096792     0.420523      0.420316      0.412278       0.412055   \n",
       "3       0.051490     0.388835      0.394124      0.387276       0.393088   \n",
       "4       0.154573     0.460020      0.463917      0.444576       0.448744   \n",
       "..           ...          ...           ...           ...            ...   \n",
       "596     0.413557     0.668161      0.571382      0.654300       0.548059   \n",
       "597     0.499261     0.721362      0.616641      0.694551       0.581544   \n",
       "598     0.459803     0.697836      0.591390      0.677833       0.561999   \n",
       "599     0.570308     0.755366      0.630812      0.709664       0.579547   \n",
       "600     0.671356     0.804469      0.696332      0.734462       0.624901   \n",
       "\n",
       "     MSAVI2_060619  MSR_060619  GRVI_060619  WDRVI_060619  SR_060619  \\\n",
       "0         1.299123    2.592551     3.155378     -0.520277   3.155496   \n",
       "1         1.295456    2.605650     3.119012     -0.518888   3.167525   \n",
       "2         1.341230    2.696649     3.248436     -0.509292   3.251243   \n",
       "3         1.273057    2.463077     3.105043     -0.534106   3.036908   \n",
       "4         1.421312    3.057981     3.647081     -0.472098   3.586051   \n",
       "..             ...         ...          ...           ...        ...   \n",
       "596       1.737803   11.169425     5.465558      0.068240  11.464762   \n",
       "597       1.856800   15.156602     6.207708      0.212950  15.411332   \n",
       "598       1.802556   13.386467     5.726871      0.154587  13.657063   \n",
       "599       1.947078   15.266213     5.779312      0.216302  15.520049   \n",
       "600       2.072935   16.781292     6.889306      0.259908  17.023659   \n",
       "\n",
       "     Blue_110619  Green_110619  Red_110619  RedEdge_110619  NIR_110619  \\\n",
       "0       0.079597      0.157513    0.168775        0.220306    0.404954   \n",
       "1       0.075853      0.152404    0.163355        0.220335    0.405466   \n",
       "2       0.075147      0.149900    0.164103        0.221534    0.412597   \n",
       "3       0.073349      0.151789    0.159115        0.224403    0.416914   \n",
       "4       0.067687      0.141492    0.153007        0.224422    0.422184   \n",
       "..           ...           ...         ...             ...         ...   \n",
       "596     0.030750      0.107035    0.038412        0.199857    0.597318   \n",
       "597     0.032683      0.111978    0.040707        0.201914    0.612264   \n",
       "598     0.031505      0.109895    0.039021        0.201211    0.618383   \n",
       "599     0.076674      0.159097    0.151785        0.204902    0.391301   \n",
       "600     0.033357      0.110367    0.040200        0.223602    0.776458   \n",
       "\n",
       "     NDVI_110619  MTCI_110619  DVI_110619  GDVI_110619  MTCI_CI_110619  \\\n",
       "0       0.411656     3.583244    0.236179     0.247441        3.583244   \n",
       "1       0.425636     3.249073    0.242111     0.253062        3.249073   \n",
       "2       0.430889     3.326803    0.248494     0.262697        3.326803   \n",
       "3       0.447545     2.948651    0.257799     0.265125        2.948651   \n",
       "4       0.467978     2.769218    0.269177     0.280692        2.769218   \n",
       "..           ...          ...         ...          ...             ...   \n",
       "596     0.879156     2.461898    0.558906     0.490284        2.461898   \n",
       "597     0.875316     2.545487    0.571557     0.500286        2.545487   \n",
       "598     0.881289     2.572103    0.579362     0.508488        2.572103   \n",
       "599     0.441028     3.509231    0.239516     0.232204        3.509231   \n",
       "600     0.901551     3.014455    0.736258     0.666091        3.014455   \n",
       "\n",
       "     EXG_110619  EXGR_110619  RDVI_110619  TDVI_110619  ...  TVI_070819  \\\n",
       "0      0.066653    -0.012119     0.311809     0.388215  ...   12.397675   \n",
       "1      0.065600    -0.010693     0.321016     0.399166  ...   11.737341   \n",
       "2      0.060550    -0.019294     0.327221     0.408071  ...   12.233252   \n",
       "3      0.071114     0.000143     0.339671     0.423709  ...   10.578978   \n",
       "4      0.062289    -0.010430     0.354921     0.442857  ...   10.081904   \n",
       "..          ...          ...          ...          ...  ...         ...   \n",
       "596    0.144907     0.198165     0.700975     0.886074  ...   13.769518   \n",
       "597    0.150567     0.205555     0.707314     0.895991  ...   11.892889   \n",
       "598    0.149264     0.204530     0.714553     0.905343  ...   13.046540   \n",
       "599    0.089734     0.036332     0.325013     0.400456  ...   11.895290   \n",
       "600    0.147178     0.201266     0.814723     1.032956  ...   15.540161   \n",
       "\n",
       "     VARI_070819  GARI_070819  GCI_070819  GLI_070819  NLI_070819  \\\n",
       "0      -0.448297     0.347059    9.475924   -0.379698    0.230615   \n",
       "1      -0.482118     0.363954    9.827102   -0.392431    0.193261   \n",
       "2      -0.350342     0.323931    9.840122   -0.338834    0.269818   \n",
       "3      -0.517790     0.359574   10.759718   -0.408050    0.147209   \n",
       "4      -0.532498     0.353657   10.949825   -0.414830    0.121620   \n",
       "..           ...          ...         ...         ...         ...   \n",
       "596    -0.130674     0.286580    9.704081   -0.261456    0.410410   \n",
       "597    -0.271709     0.293344   10.335547   -0.306838    0.305953   \n",
       "598    -0.091439     0.259371   11.434364   -0.247496    0.457281   \n",
       "599    -0.198792     0.269476   10.677534   -0.281022    0.350110   \n",
       "600    -0.109149     0.299467   11.842731   -0.258444    0.528726   \n",
       "\n",
       "     MNLI_070819  SAVI_070819  GSAVI_070819  OSAVI_070819  GOSAVI_070819  \\\n",
       "0       0.062710     0.407691      0.450596      0.471129       0.529443   \n",
       "1       0.050652     0.394101      0.441762      0.459487       0.524948   \n",
       "2       0.065369     0.406650      0.437229      0.479428       0.521912   \n",
       "3       0.033778     0.370224      0.418171      0.443765       0.511705   \n",
       "4       0.026395     0.358928      0.406717      0.435354       0.503935   \n",
       "..           ...          ...           ...           ...            ...   \n",
       "596     0.099399     0.441445      0.451436      0.517174       0.530948   \n",
       "597     0.065132     0.401432      0.422137      0.483713       0.513174   \n",
       "598     0.093933     0.430935      0.436508      0.518777       0.526710   \n",
       "599     0.069277     0.402945      0.416455      0.490766       0.510215   \n",
       "600     0.140011     0.482408      0.489691      0.553516       0.563365   \n",
       "\n",
       "     MSAVI2_070819  MSR_070819  GRVI_070819  WDRVI_070819  SR_070819  \\\n",
       "0         1.144776    5.724268    10.475924     -0.240062   6.128223   \n",
       "1         1.118907    5.473275    10.827102     -0.259012   5.885476   \n",
       "2         1.128248    6.655479    10.840122     -0.174221   7.032567   \n",
       "3         1.066306    5.499631    11.759718     -0.256996   5.910944   \n",
       "4         1.043241    5.449990    11.949825     -0.260797   5.862981   \n",
       "..             ...         ...          ...           ...        ...   \n",
       "596       1.183358    8.850674    10.704081     -0.042714   9.180710   \n",
       "597       1.105566    7.745936    11.335547     -0.105134   8.097357   \n",
       "598       1.148552   10.868752    12.434364      0.055177  11.167987   \n",
       "599       1.100536    8.842800    11.677534     -0.043135   9.172976   \n",
       "600       1.262306   11.035393    12.842731      0.062461  11.332449   \n",
       "\n",
       "     Blue_150819  Green_150819  Red_150819  RedEdge_150819  NIR_150819  \\\n",
       "0       0.028785      0.058441    0.117516        0.140037    0.219810   \n",
       "1       0.025709      0.051825    0.102399        0.122849    0.201019   \n",
       "2       0.024099      0.047830    0.084905        0.113178    0.184771   \n",
       "3       0.022502      0.044899    0.085384        0.108823    0.182668   \n",
       "4       0.022015      0.043172    0.082700        0.103487    0.172024   \n",
       "..           ...           ...         ...             ...         ...   \n",
       "596     0.027015      0.064249    0.042983        0.150733    0.305187   \n",
       "597     0.027351      0.064749    0.045209        0.148332    0.298534   \n",
       "598     0.028029      0.063449    0.046859        0.139275    0.267183   \n",
       "599     0.024904      0.060438    0.040716        0.136301    0.288011   \n",
       "600     0.028468      0.067090    0.053435        0.162061    0.282282   \n",
       "\n",
       "     NDVI_150819  MTCI_150819  DVI_150819  GDVI_150819  MTCI_CI_150819  \\\n",
       "0       0.303250     3.542136    0.102294     0.161369        3.542136   \n",
       "1       0.325028     3.822563    0.098619     0.149194        3.822563   \n",
       "2       0.370319     2.532189    0.099866     0.136941        2.532189   \n",
       "3       0.362930     3.150474    0.097284     0.137769        3.150474   \n",
       "4       0.350668     3.297066    0.089323     0.128851        3.297066   \n",
       "..           ...          ...         ...          ...             ...   \n",
       "596     0.753093     1.433444    0.262204     0.240938        1.433444   \n",
       "597     0.736961     1.456531    0.253325     0.233785        1.456531   \n",
       "598     0.701574     1.384058    0.220324     0.203734        1.384058   \n",
       "599     0.752280     1.587168    0.247294     0.227572        1.587168   \n",
       "600     0.681664     1.106746    0.228847     0.215192        1.106746   \n",
       "\n",
       "     EXG_150819  EXGR_150819  RDVI_150819  TDVI_150819  GNDVI_150819  \\\n",
       "0     -0.029419    -0.135500     0.176127     0.188044      0.579940   \n",
       "1     -0.024459    -0.115994     0.179037     0.184507      0.590065   \n",
       "2     -0.013344    -0.084380     0.192308     0.190392      0.588738   \n",
       "3     -0.018088    -0.092726     0.187902     0.185513      0.605400   \n",
       "4     -0.018371    -0.090978     0.176983     0.171229      0.598762   \n",
       "..          ...          ...          ...          ...           ...   \n",
       "596    0.058501     0.062575     0.444369     0.493129      0.652176   \n",
       "597    0.056937     0.058393     0.432077     0.477102      0.643536   \n",
       "598    0.052010     0.049857     0.393158     0.420312      0.616194   \n",
       "599    0.055256     0.058692     0.431317     0.469710      0.653100   \n",
       "600    0.052276     0.044556     0.394964     0.431413      0.615940   \n",
       "\n",
       "     NDRE_150819  SCCI_150819  EVI_150819  TVI_150819  VARI_150819  \\\n",
       "0       0.221686     0.731033   -0.150329    3.774674    -0.401399   \n",
       "1       0.241364     0.742593   -0.153498    3.894176    -0.393533   \n",
       "2       0.240286     0.648862   -0.165847    4.508981    -0.341276   \n",
       "3       0.253334     0.698026   -0.162313    4.217642    -0.375622   \n",
       "4       0.248761     0.709392   -0.149943    3.778293    -0.380597   \n",
       "..           ...          ...         ...         ...          ...   \n",
       "596     0.338774     0.449844   -0.567385   16.582922     0.265110   \n",
       "597     0.336123     0.456094   -0.537684   15.981078     0.236539   \n",
       "598     0.314690     0.448549   -0.449938   13.883026     0.201631   \n",
       "599     0.357543     0.475279   -0.540856   15.626556     0.258652   \n",
       "600     0.270559     0.396909   -0.457019   14.276989     0.148327   \n",
       "\n",
       "     GARI_150819  GCI_150819  GLI_150819  NLI_150819  MNLI_150819  \\\n",
       "0       0.854320    2.761220   -0.333835   -0.417284    -0.155894   \n",
       "1       0.795194    2.878825   -0.329154   -0.434086    -0.144656   \n",
       "2       0.684723    2.863084   -0.298898   -0.426430    -0.123007   \n",
       "3       0.714421    3.068425   -0.318624   -0.438027    -0.126100   \n",
       "4       0.711413    2.984571   -0.322113   -0.472945    -0.130105   \n",
       "..           ...         ...         ...         ...          ...   \n",
       "596     0.341564    3.750038   -0.028958    0.368466     0.118271   \n",
       "597     0.347710    3.610663   -0.038659    0.326905     0.103842   \n",
       "598     0.332564    3.210971   -0.056688    0.207428     0.059509   \n",
       "599     0.331594    3.765354   -0.027786    0.341516     0.101578   \n",
       "600     0.379122    3.207515   -0.068556    0.197176     0.062187   \n",
       "\n",
       "     SAVI_150819  GSAVI_150819  OSAVI_150819  GOSAVI_150819  MSAVI2_150819  \\\n",
       "0       0.183252      0.311022      0.205689       0.368211       0.879676   \n",
       "1       0.184125      0.297261      0.212809       0.361382       0.859646   \n",
       "2       0.194627      0.280387      0.232422       0.348805       0.850718   \n",
       "3       0.189995      0.284034      0.227272       0.355472       0.844311   \n",
       "4       0.177529      0.270243      0.215380       0.343424       0.821583   \n",
       "..           ...           ...           ...            ...            ...   \n",
       "596     0.463712      0.415679      0.515977       0.455083       1.258355   \n",
       "597     0.450359      0.406215      0.502885       0.446767       1.235119   \n",
       "598     0.405981      0.367913      0.464777       0.415247       1.149759   \n",
       "599     0.447604      0.402332      0.505997       0.447581       1.220533   \n",
       "600     0.410749      0.380032      0.461647       0.422466       1.171790   \n",
       "\n",
       "     MSR_150819  GRVI_150819  WDRVI_150819  SR_150819  \n",
       "0      1.139292     3.761220     -0.684853   1.870472  \n",
       "1      1.249363     3.878825     -0.671809   1.963087  \n",
       "2      1.498339     3.863084     -0.642547   2.176214  \n",
       "3      1.455684     4.068425     -0.647532   2.139371  \n",
       "4      1.386726     3.984571     -0.655617   2.080087  \n",
       "..          ...          ...           ...        ...  \n",
       "596    6.724913     4.750038     -0.169577   7.100201  \n",
       "597    6.214283     4.610663     -0.204570   6.603431  \n",
       "598    5.283039     4.210971     -0.273737   5.701826  \n",
       "599    6.697631     4.765354     -0.171398   7.073623  \n",
       "600    4.847593     4.207515     -0.308671   5.282677  \n",
       "\n",
       "[601 rows x 376 columns]"
      ]
     },
     "execution_count": 45,
     "metadata": {},
     "output_type": "execute_result"
    }
   ],
   "source": [
    "Graminor_2019_all"
   ]
  },
  {
   "cell_type": "markdown",
   "metadata": {},
   "source": [
    "# Import Genomics Data"
   ]
  },
  {
   "cell_type": "code",
   "execution_count": null,
   "metadata": {},
   "outputs": [],
   "source": []
  },
  {
   "cell_type": "code",
   "execution_count": null,
   "metadata": {},
   "outputs": [],
   "source": []
  },
  {
   "cell_type": "code",
   "execution_count": null,
   "metadata": {},
   "outputs": [],
   "source": []
  },
  {
   "cell_type": "code",
   "execution_count": null,
   "metadata": {},
   "outputs": [],
   "source": []
  },
  {
   "cell_type": "code",
   "execution_count": null,
   "metadata": {},
   "outputs": [],
   "source": []
  },
  {
   "cell_type": "markdown",
   "metadata": {},
   "source": [
    "# ToDo: Dropping NAN"
   ]
  },
  {
   "cell_type": "markdown",
   "metadata": {},
   "source": [
    "## Finding NAN values\n",
    "### ToDo: Test: Raise error if missing values found"
   ]
  },
  {
   "cell_type": "code",
   "execution_count": 25,
   "metadata": {
    "ExecuteTime": {
     "end_time": "2021-09-08T17:16:55.599254Z",
     "start_time": "2021-09-08T17:16:55.592423Z"
    }
   },
   "outputs": [
    {
     "name": "stdout",
     "output_type": "stream",
     "text": [
      "No missing value found in any dataframe\n"
     ]
    }
   ],
   "source": [
    "# Finding number of missing values in each dataframe\n",
    "df_with_nan = []\n",
    "missing_values = False\n",
    "for df in all_df:\n",
    "    if locals()[df].isna().sum().sum() > 0:\n",
    "        print(f'Total missing values in {df} are {locals()[df].isna().sum().sum()}')\n",
    "        missing_values = True\n",
    "        df_with_nan.append(df)\n",
    "#     if len(df_with_nan) > 0:\n",
    "#         raise ValueError\n",
    "if not missing_values:\n",
    "    print('No missing value found in any dataframe')"
   ]
  },
  {
   "cell_type": "code",
   "execution_count": 26,
   "metadata": {
    "ExecuteTime": {
     "end_time": "2021-09-08T17:16:55.623191Z",
     "start_time": "2021-09-08T17:16:55.601230Z"
    }
   },
   "outputs": [
    {
     "ename": "NameError",
     "evalue": "name 'Graminor_2019_all' is not defined",
     "output_type": "error",
     "traceback": [
      "\u001b[1;31m---------------------------------------------------------------------------\u001b[0m",
      "\u001b[1;31mNameError\u001b[0m                                 Traceback (most recent call last)",
      "\u001b[1;32m<ipython-input-26-92e745b63b43>\u001b[0m in \u001b[0;36m<module>\u001b[1;34m\u001b[0m\n\u001b[1;32m----> 1\u001b[1;33m \u001b[0mGraminor_2019_all\u001b[0m\u001b[1;33m.\u001b[0m\u001b[0misnull\u001b[0m\u001b[1;33m(\u001b[0m\u001b[1;33m)\u001b[0m\u001b[1;33m.\u001b[0m\u001b[0msum\u001b[0m\u001b[1;33m(\u001b[0m\u001b[1;33m)\u001b[0m\u001b[1;33m.\u001b[0m\u001b[0msort_values\u001b[0m\u001b[1;33m(\u001b[0m\u001b[1;33m)\u001b[0m\u001b[1;33m\u001b[0m\u001b[1;33m\u001b[0m\u001b[0m\n\u001b[0m",
      "\u001b[1;31mNameError\u001b[0m: name 'Graminor_2019_all' is not defined"
     ]
    }
   ],
   "source": [
    "Graminor_2019_all.isnull().sum().sort_values()"
   ]
  },
  {
   "cell_type": "code",
   "execution_count": 27,
   "metadata": {
    "ExecuteTime": {
     "end_time": "2021-09-08T17:16:55.632951Z",
     "start_time": "2021-09-08T17:16:55.626119Z"
    },
    "scrolled": true
   },
   "outputs": [
    {
     "data": {
      "text/plain": [
       "[]"
      ]
     },
     "execution_count": 27,
     "metadata": {},
     "output_type": "execute_result"
    }
   ],
   "source": [
    "df_with_nan"
   ]
  },
  {
   "cell_type": "code",
   "execution_count": 28,
   "metadata": {
    "ExecuteTime": {
     "end_time": "2021-09-08T17:16:55.640759Z",
     "start_time": "2021-09-08T17:16:55.635878Z"
    }
   },
   "outputs": [],
   "source": [
    "# Finding which column has NAN values\n",
    "for df in df_with_nan:\n",
    "    print(f'{df}:\\n {locals()[df].shape[1]-locals()[df].dropna(axis=1).shape[1]} columns or {locals()[df].shape[0]-locals()[df].dropna().shape[0]} rows to be dropped,')"
   ]
  },
  {
   "cell_type": "markdown",
   "metadata": {},
   "source": [
    "## ToDo: Automate: Drop rows with missing values in df_with_nan"
   ]
  },
  {
   "cell_type": "code",
   "execution_count": 29,
   "metadata": {
    "ExecuteTime": {
     "end_time": "2021-09-08T17:16:55.936906Z",
     "start_time": "2021-09-08T17:16:55.923195Z"
    }
   },
   "outputs": [
    {
     "ename": "NameError",
     "evalue": "name 'Graminor_eastwest_020719_NIR_half_missing' is not defined",
     "output_type": "error",
     "traceback": [
      "\u001b[1;31m---------------------------------------------------------------------------\u001b[0m",
      "\u001b[1;31mNameError\u001b[0m                                 Traceback (most recent call last)",
      "\u001b[1;32m<ipython-input-29-bd632eb495de>\u001b[0m in \u001b[0;36m<module>\u001b[1;34m\u001b[0m\n\u001b[1;32m----> 1\u001b[1;33m \u001b[0mprint\u001b[0m\u001b[1;33m(\u001b[0m\u001b[1;34mf'{Graminor_eastwest_020719_NIR_half_missing.shape} Before dropping'\u001b[0m\u001b[1;33m)\u001b[0m\u001b[1;33m\u001b[0m\u001b[1;33m\u001b[0m\u001b[0m\n\u001b[0m\u001b[0;32m      2\u001b[0m \u001b[1;31m# Graminor_eastwest_020719_NIR_half_missing.dropna(inplace=True)\u001b[0m\u001b[1;33m\u001b[0m\u001b[1;33m\u001b[0m\u001b[1;33m\u001b[0m\u001b[0m\n\u001b[0;32m      3\u001b[0m \u001b[0mprint\u001b[0m\u001b[1;33m(\u001b[0m\u001b[1;34mf'{Graminor_eastwest_020719_NIR_half_missing.shape} After dropping'\u001b[0m\u001b[1;33m)\u001b[0m\u001b[1;33m\u001b[0m\u001b[1;33m\u001b[0m\u001b[0m\n",
      "\u001b[1;31mNameError\u001b[0m: name 'Graminor_eastwest_020719_NIR_half_missing' is not defined"
     ]
    }
   ],
   "source": [
    "print(f'{Graminor_eastwest_020719_NIR_half_missing.shape} Before dropping')\n",
    "# Graminor_eastwest_020719_NIR_half_missing.dropna(inplace=True)\n",
    "print(f'{Graminor_eastwest_020719_NIR_half_missing.shape} After dropping')\n"
   ]
  },
  {
   "cell_type": "markdown",
   "metadata": {},
   "source": [
    "## ORRR"
   ]
  },
  {
   "cell_type": "markdown",
   "metadata": {},
   "source": [
    "## ToDo: Droppping df with Nan from the all_df_std"
   ]
  },
  {
   "cell_type": "code",
   "execution_count": 30,
   "metadata": {
    "ExecuteTime": {
     "end_time": "2021-09-08T17:16:56.595993Z",
     "start_time": "2021-09-08T17:16:56.591114Z"
    }
   },
   "outputs": [
    {
     "name": "stdout",
     "output_type": "stream",
     "text": [
      "Number of items in all_df is 0\n"
     ]
    }
   ],
   "source": [
    "print(f'Number of items in all_df is {len(all_df)}')"
   ]
  },
  {
   "cell_type": "code",
   "execution_count": 31,
   "metadata": {
    "ExecuteTime": {
     "end_time": "2021-09-08T17:16:56.602824Z",
     "start_time": "2021-09-08T17:16:56.598923Z"
    },
    "scrolled": false
   },
   "outputs": [],
   "source": [
    "# for df in df_with_nan:\n",
    "#     all_df.remove(df)"
   ]
  },
  {
   "cell_type": "markdown",
   "metadata": {},
   "source": [
    "###  ToDo: Update field_year_dict and sorted_field_year_dict after dropping the dataset"
   ]
  },
  {
   "cell_type": "code",
   "execution_count": 32,
   "metadata": {
    "ExecuteTime": {
     "end_time": "2021-09-08T17:16:56.943290Z",
     "start_time": "2021-09-08T17:16:56.938408Z"
    }
   },
   "outputs": [
    {
     "name": "stdout",
     "output_type": "stream",
     "text": [
      "Number of items in all_df now is 0\n"
     ]
    }
   ],
   "source": [
    "print(f'Number of items in all_df now is {len(all_df)}')"
   ]
  },
  {
   "cell_type": "code",
   "execution_count": null,
   "metadata": {},
   "outputs": [],
   "source": []
  },
  {
   "cell_type": "code",
   "execution_count": null,
   "metadata": {},
   "outputs": [],
   "source": []
  },
  {
   "cell_type": "code",
   "execution_count": null,
   "metadata": {},
   "outputs": [],
   "source": []
  },
  {
   "cell_type": "code",
   "execution_count": null,
   "metadata": {},
   "outputs": [],
   "source": []
  },
  {
   "cell_type": "code",
   "execution_count": null,
   "metadata": {},
   "outputs": [],
   "source": []
  },
  {
   "cell_type": "markdown",
   "metadata": {},
   "source": [
    "# Data Trends"
   ]
  },
  {
   "cell_type": "markdown",
   "metadata": {},
   "source": [
    "## Normal Distribution of data"
   ]
  },
  {
   "cell_type": "markdown",
   "metadata": {},
   "source": [
    "ToDo:  \n",
    "see the distribution of data if it is normal  \n",
    "else make transpose to make it normal  \n",
    "dist in Gausion function   \n",
    "in each field  \n",
    "what if the data is normal dist?  \n",
    "the use some transpose to box pox   \n",
    "try diff funct to see which one iis able to make data normal  \n",
    "make heat map of whole if not normal  \n",
    "see which parts are not normal and exculde them  \n",
    "ls_means in R to make the normalisation/transpose  \n",
    "pearson corr bw yield and indices for diff dates  \n"
   ]
  },
  {
   "cell_type": "code",
   "execution_count": 33,
   "metadata": {
    "ExecuteTime": {
     "end_time": "2021-09-08T17:16:57.911154Z",
     "start_time": "2021-09-08T17:16:57.898466Z"
    }
   },
   "outputs": [
    {
     "ename": "NameError",
     "evalue": "name 'x_labels' is not defined",
     "output_type": "error",
     "traceback": [
      "\u001b[1;31m---------------------------------------------------------------------------\u001b[0m",
      "\u001b[1;31mNameError\u001b[0m                                 Traceback (most recent call last)",
      "\u001b[1;32m<ipython-input-33-1ae58ac70b7f>\u001b[0m in \u001b[0;36m<module>\u001b[1;34m\u001b[0m\n\u001b[1;32m----> 1\u001b[1;33m \u001b[0mx_labels\u001b[0m\u001b[1;33m\u001b[0m\u001b[1;33m\u001b[0m\u001b[0m\n\u001b[0m",
      "\u001b[1;31mNameError\u001b[0m: name 'x_labels' is not defined"
     ]
    }
   ],
   "source": [
    "x_labels"
   ]
  },
  {
   "cell_type": "markdown",
   "metadata": {},
   "source": [
    "### Yeo-Johnson Transformation"
   ]
  },
  {
   "cell_type": "code",
   "execution_count": 34,
   "metadata": {
    "ExecuteTime": {
     "end_time": "2021-09-08T17:16:59.631522Z",
     "start_time": "2021-09-08T17:16:58.258599Z"
    },
    "scrolled": false
   },
   "outputs": [
    {
     "ename": "NameError",
     "evalue": "name 'field_year_dict_yield' is not defined",
     "output_type": "error",
     "traceback": [
      "\u001b[1;31m---------------------------------------------------------------------------\u001b[0m",
      "\u001b[1;31mNameError\u001b[0m                                 Traceback (most recent call last)",
      "\u001b[1;32m<ipython-input-34-bf2287054a1d>\u001b[0m in \u001b[0;36m<module>\u001b[1;34m\u001b[0m\n\u001b[0;32m     10\u001b[0m \u001b[1;32mfor\u001b[0m \u001b[0md_type\u001b[0m \u001b[1;32min\u001b[0m \u001b[0mdata_agg_list\u001b[0m\u001b[1;33m:\u001b[0m\u001b[1;33m\u001b[0m\u001b[1;33m\u001b[0m\u001b[0m\n\u001b[0;32m     11\u001b[0m     \u001b[1;32mfor\u001b[0m \u001b[0mcol\u001b[0m \u001b[1;32min\u001b[0m \u001b[0mcol_for_plotting\u001b[0m\u001b[1;33m:\u001b[0m\u001b[1;33m\u001b[0m\u001b[1;33m\u001b[0m\u001b[0m\n\u001b[1;32m---> 12\u001b[1;33m         \u001b[0mfields\u001b[0m \u001b[1;33m=\u001b[0m \u001b[0mlen\u001b[0m\u001b[1;33m(\u001b[0m\u001b[0mfield_year_dict_yield\u001b[0m\u001b[1;33m.\u001b[0m\u001b[0mkeys\u001b[0m\u001b[1;33m(\u001b[0m\u001b[1;33m)\u001b[0m\u001b[1;33m)\u001b[0m\u001b[1;33m\u001b[0m\u001b[1;33m\u001b[0m\u001b[0m\n\u001b[0m\u001b[0;32m     13\u001b[0m         \u001b[0mrows\u001b[0m \u001b[1;33m=\u001b[0m \u001b[0mmath\u001b[0m\u001b[1;33m.\u001b[0m\u001b[0mceil\u001b[0m\u001b[1;33m(\u001b[0m\u001b[0mfields\u001b[0m\u001b[1;33m/\u001b[0m\u001b[1;36m2\u001b[0m\u001b[1;33m)\u001b[0m\u001b[1;33m\u001b[0m\u001b[1;33m\u001b[0m\u001b[0m\n\u001b[0;32m     14\u001b[0m \u001b[1;33m\u001b[0m\u001b[0m\n",
      "\u001b[1;31mNameError\u001b[0m: name 'field_year_dict_yield' is not defined"
     ]
    }
   ],
   "source": [
    "col_for_plotting = ['Blue', 'Green', 'Red', 'RedEdge', 'NIR', 'NDVI', 'MTCI', 'EVI']\n",
    "\n",
    "from sklearn.preprocessing import PowerTransformer, normalize, StandardScaler\n",
    "data_agg_list = ['_median_indices']\n",
    "\n",
    "# col_for_plotting = ['Blue']\n",
    "# col_for_plotting = ['Green']\n",
    "# col_for_plotting = ['Red']\n",
    "\n",
    "for d_type in data_agg_list:\n",
    "    for col in col_for_plotting:\n",
    "        fields = len(field_year_dict_yield.keys())\n",
    "        rows = math.ceil(fields/2)\n",
    "        \n",
    "        fig, ax = plt.subplots(rows,2, figsize=(15,10))\n",
    "        plots = ax.flatten()\n",
    "        n = 0\n",
    "        # TODO: Fix the x ticks\n",
    "        \n",
    "\n",
    "        for field_sample, dates in sorted_field_year_dict_yield.items():\n",
    "            x_labels = []\n",
    "            # Adding required data to a temp dataframe\n",
    "            temp_df = pd.DataFrame()\n",
    "            for date in dates:\n",
    "                date_str = date.strftime('%d%m%y')\n",
    "                field_df = field_sample[:-5]+'_'+date_str+d_type\n",
    "                temp_df[date] = locals()[field_df][col]\n",
    "                x_label = date.strftime('%d-%m-%y')+':'+str(len(locals()[field_df][col]))\n",
    "                \n",
    "                x_labels.append(x_label)\n",
    "                x_labels= list(set(x_labels))\n",
    "            # Transform the df\n",
    "#             pt = PowerTransformer(method='box-cox', standardize=False)\n",
    "            pt = PowerTransformer(method='yeo-johnson', standardize=False)\n",
    "\n",
    "            temp_arr = pt.fit_transform(temp_df)\n",
    "            temp_df = pd.DataFrame(temp_arr)\n",
    "            \n",
    "            # Adding field plot to the subplots\n",
    "            num_of_fields = len(field_year_dict_yield.keys())\n",
    "            \n",
    "            text = \"Grain Yield\"\n",
    "            ax_n = plots[n]\n",
    "            \n",
    "            temp_df.boxplot(ax=ax_n)\n",
    "            ax_n.set_xticklabels(x_labels, rotation=-35)\n",
    "            ax_n.set_title(field_sample+'_'+col+d_type[:-5]+'_yeo-johnson')\n",
    "            \n",
    "#             # Printing the grain yield in plot of the fiels_sample for reference\n",
    "#             ax_n.text(0.85, 1.05, text, ha='center', va='top', weight='bold', color='blue', transform=ax_n.transAxes)\n",
    "            n+=1\n",
    "        plt.tight_layout()\n",
    "\n"
   ]
  },
  {
   "cell_type": "markdown",
   "metadata": {},
   "source": [
    "### Box-Cox Transformation"
   ]
  },
  {
   "cell_type": "code",
   "execution_count": 35,
   "metadata": {
    "ExecuteTime": {
     "end_time": "2021-09-08T17:16:59.656899Z",
     "start_time": "2021-09-08T17:16:59.633474Z"
    },
    "scrolled": false
   },
   "outputs": [
    {
     "ename": "NameError",
     "evalue": "name 'field_year_dict_yield' is not defined",
     "output_type": "error",
     "traceback": [
      "\u001b[1;31m---------------------------------------------------------------------------\u001b[0m",
      "\u001b[1;31mNameError\u001b[0m                                 Traceback (most recent call last)",
      "\u001b[1;32m<ipython-input-35-8b39c1ee47a6>\u001b[0m in \u001b[0;36m<module>\u001b[1;34m\u001b[0m\n\u001b[0;32m     10\u001b[0m \u001b[1;32mfor\u001b[0m \u001b[0md_type\u001b[0m \u001b[1;32min\u001b[0m \u001b[0mdata_agg_list\u001b[0m\u001b[1;33m:\u001b[0m\u001b[1;33m\u001b[0m\u001b[1;33m\u001b[0m\u001b[0m\n\u001b[0;32m     11\u001b[0m     \u001b[1;32mfor\u001b[0m \u001b[0mcol\u001b[0m \u001b[1;32min\u001b[0m \u001b[0mcol_for_plotting\u001b[0m\u001b[1;33m:\u001b[0m\u001b[1;33m\u001b[0m\u001b[1;33m\u001b[0m\u001b[0m\n\u001b[1;32m---> 12\u001b[1;33m         \u001b[0mfields\u001b[0m \u001b[1;33m=\u001b[0m \u001b[0mlen\u001b[0m\u001b[1;33m(\u001b[0m\u001b[0mfield_year_dict_yield\u001b[0m\u001b[1;33m.\u001b[0m\u001b[0mkeys\u001b[0m\u001b[1;33m(\u001b[0m\u001b[1;33m)\u001b[0m\u001b[1;33m)\u001b[0m\u001b[1;33m\u001b[0m\u001b[1;33m\u001b[0m\u001b[0m\n\u001b[0m\u001b[0;32m     13\u001b[0m         \u001b[0mrows\u001b[0m \u001b[1;33m=\u001b[0m \u001b[0mmath\u001b[0m\u001b[1;33m.\u001b[0m\u001b[0mceil\u001b[0m\u001b[1;33m(\u001b[0m\u001b[0mfields\u001b[0m\u001b[1;33m/\u001b[0m\u001b[1;36m2\u001b[0m\u001b[1;33m)\u001b[0m\u001b[1;33m\u001b[0m\u001b[1;33m\u001b[0m\u001b[0m\n\u001b[0;32m     14\u001b[0m \u001b[1;33m\u001b[0m\u001b[0m\n",
      "\u001b[1;31mNameError\u001b[0m: name 'field_year_dict_yield' is not defined"
     ]
    }
   ],
   "source": [
    "col_for_plotting = ['Blue', 'Green', 'Red', 'RedEdge', 'NIR', 'NDVI', 'MTCI', 'EVI']\n",
    "\n",
    "from sklearn.preprocessing import PowerTransformer, normalize, StandardScaler\n",
    "data_agg_list = ['_median_indices']\n",
    "\n",
    "# col_for_plotting = ['Blue']\n",
    "# col_for_plotting = ['Green']\n",
    "# col_for_plotting = ['Red']\n",
    "\n",
    "for d_type in data_agg_list:\n",
    "    for col in col_for_plotting:\n",
    "        fields = len(field_year_dict_yield.keys())\n",
    "        rows = math.ceil(fields/2)\n",
    "        \n",
    "        fig, ax = plt.subplots(rows,2, figsize=(15,10))\n",
    "        plots = ax.flatten()\n",
    "        n = 0\n",
    "        # TODO: Fix the x ticks\n",
    "        for field_sample, dates in sorted_field_year_dict_yield.items():\n",
    "            \n",
    "            # Adding required data to a temp dataframe\n",
    "            temp_df = pd.DataFrame()\n",
    "            for date in dates:\n",
    "                date_str = date.strftime('%d%m%y')\n",
    "                field_df = field_sample[:-5]+'_'+date_str+d_type\n",
    "                temp_df[date] = locals()[field_df][col]\n",
    "            x_labels = temp_df.columns.tolist()\n",
    "\n",
    "            # Transform the df\n",
    "#             pt = PowerTransformer(method='box-cox', standardize=False)\n",
    "            pt = PowerTransformer(method='box-cox', standardize=False)\n",
    "\n",
    "            # Taking absolute values of the dataframe(avoiding negative values)\n",
    "            temp_arr = pt.fit_transform(temp_df.abs())\n",
    "            temp_df = pd.DataFrame(temp_arr)\n",
    "            \n",
    "            # Adding field plot to the subplots\n",
    "            num_of_fields = len(field_year_dict_yield.keys())\n",
    "            \n",
    "            text = \"Grain Yield\"\n",
    "            ax_n = plots[n]\n",
    "\n",
    "            temp_df.boxplot(ax=ax_n)\n",
    "            ax_n.set_xticklabels(x_labels, rotation=90)\n",
    "            ax_n.set_title(field_sample+'_'+col+d_type[:-5]+'_box-cox')\n",
    "            \n",
    "#             # Printing the grain yield in plot of the fiels_sample for reference\n",
    "#             ax_n.text(0.85, 1.05, text, ha='center', va='top', weight='bold', color='blue', transform=ax_n.transAxes)\n",
    "            n+=1\n",
    "        plt.tight_layout()\n",
    "\n"
   ]
  },
  {
   "cell_type": "markdown",
   "metadata": {},
   "source": [
    "### ToDo: Identify Dates and index with problems"
   ]
  },
  {
   "cell_type": "code",
   "execution_count": null,
   "metadata": {},
   "outputs": [],
   "source": []
  },
  {
   "cell_type": "markdown",
   "metadata": {},
   "source": [
    "### Ecxclude the problematic data/dates\n",
    "or\n",
    "### Take average values where the problematic data is"
   ]
  },
  {
   "cell_type": "markdown",
   "metadata": {},
   "source": [
    "Take average of data for date 20200708 and 20200624  \n",
    "Masbasis  \n",
    "Cleanup  \n",
    "Remove dates which have drop  "
   ]
  },
  {
   "cell_type": "markdown",
   "metadata": {},
   "source": [
    "## ToDo: Remove outliers"
   ]
  },
  {
   "cell_type": "code",
   "execution_count": null,
   "metadata": {},
   "outputs": [],
   "source": []
  },
  {
   "cell_type": "markdown",
   "metadata": {},
   "source": [
    "### Find AUC for all dates of one field\n",
    "See if it covers tha gaps under the dates,i.e.\n",
    "\n",
    "Since data points are different  \n",
    "Flying time is different  \n",
    "Cover the gaps between the dates  \n",
    "\n",
    "Since the data collection is not uniform throughout the year so AUC will give a single value instead of multiple values for one field year which will be representative of all the dates "
   ]
  },
  {
   "cell_type": "markdown",
   "metadata": {},
   "source": [
    "#### Option 1: Use Scipy"
   ]
  },
  {
   "cell_type": "code",
   "execution_count": 36,
   "metadata": {
    "ExecuteTime": {
     "end_time": "2021-09-08T17:17:01.226553Z",
     "start_time": "2021-09-08T17:17:01.218744Z"
    }
   },
   "outputs": [
    {
     "data": {
      "text/plain": [
       "'1.6.1'"
      ]
     },
     "execution_count": 36,
     "metadata": {},
     "output_type": "execute_result"
    }
   ],
   "source": [
    "import scipy\n",
    "scipy.__version__"
   ]
  },
  {
   "cell_type": "code",
   "execution_count": 37,
   "metadata": {
    "ExecuteTime": {
     "end_time": "2021-09-08T17:17:01.241194Z",
     "start_time": "2021-09-08T17:17:01.235336Z"
    }
   },
   "outputs": [],
   "source": [
    "from scipy import integrate\n",
    "from scipy.integrate import simps"
   ]
  },
  {
   "cell_type": "code",
   "execution_count": 38,
   "metadata": {
    "ExecuteTime": {
     "end_time": "2021-09-08T17:17:01.254854Z",
     "start_time": "2021-09-08T17:17:01.248025Z"
    }
   },
   "outputs": [],
   "source": [
    "from scipy.integrate import simpson"
   ]
  },
  {
   "cell_type": "code",
   "execution_count": 39,
   "metadata": {
    "ExecuteTime": {
     "end_time": "2021-09-08T17:17:01.280233Z",
     "start_time": "2021-09-08T17:17:01.274374Z"
    }
   },
   "outputs": [],
   "source": [
    "x = np.arange(0, 10)\n",
    "y = np.arange(0, 10)\n"
   ]
  },
  {
   "cell_type": "code",
   "execution_count": 40,
   "metadata": {
    "ExecuteTime": {
     "end_time": "2021-09-08T17:17:01.306584Z",
     "start_time": "2021-09-08T17:17:01.296829Z"
    }
   },
   "outputs": [
    {
     "data": {
      "text/plain": [
       "40.5"
      ]
     },
     "execution_count": 40,
     "metadata": {},
     "output_type": "execute_result"
    }
   ],
   "source": [
    "# integrate.simpson(y, x)\n",
    "integrate.simps(y, x)"
   ]
  },
  {
   "cell_type": "code",
   "execution_count": 41,
   "metadata": {
    "ExecuteTime": {
     "end_time": "2021-09-08T17:17:01.333910Z",
     "start_time": "2021-09-08T17:17:01.323176Z"
    }
   },
   "outputs": [
    {
     "data": {
      "text/plain": [
       "array([  0,   1,   8,  27,  64, 125, 216, 343, 512, 729], dtype=int32)"
      ]
     },
     "execution_count": 41,
     "metadata": {},
     "output_type": "execute_result"
    }
   ],
   "source": [
    "y = np.power(x, 3)\n",
    "y"
   ]
  },
  {
   "cell_type": "code",
   "execution_count": 42,
   "metadata": {
    "ExecuteTime": {
     "end_time": "2021-09-08T17:17:01.356360Z",
     "start_time": "2021-09-08T17:17:01.347576Z"
    }
   },
   "outputs": [
    {
     "data": {
      "text/plain": [
       "1642.5"
      ]
     },
     "execution_count": 42,
     "metadata": {},
     "output_type": "execute_result"
    }
   ],
   "source": [
    "integrate.simpson(y, x)\n",
    "# integrate.simps(y, x)\n"
   ]
  },
  {
   "cell_type": "code",
   "execution_count": 43,
   "metadata": {
    "ExecuteTime": {
     "end_time": "2021-09-08T17:17:01.372949Z",
     "start_time": "2021-09-08T17:17:01.364165Z"
    }
   },
   "outputs": [
    {
     "data": {
      "text/plain": [
       "1640.25"
      ]
     },
     "execution_count": 43,
     "metadata": {},
     "output_type": "execute_result"
    }
   ],
   "source": [
    "integrate.quad(lambda x: x**3, 0, 9)[0]"
   ]
  },
  {
   "cell_type": "code",
   "execution_count": 44,
   "metadata": {
    "ExecuteTime": {
     "end_time": "2021-09-08T17:17:01.392469Z",
     "start_time": "2021-09-08T17:17:01.380762Z"
    }
   },
   "outputs": [
    {
     "data": {
      "text/plain": [
       "1644.5"
      ]
     },
     "execution_count": 44,
     "metadata": {},
     "output_type": "execute_result"
    }
   ],
   "source": [
    "integrate.simpson(y, x, even='first')\n",
    "# integrate.simps(y, x, even='first')"
   ]
  },
  {
   "cell_type": "code",
   "execution_count": null,
   "metadata": {},
   "outputs": [],
   "source": []
  },
  {
   "cell_type": "code",
   "execution_count": null,
   "metadata": {},
   "outputs": [],
   "source": []
  },
  {
   "cell_type": "markdown",
   "metadata": {},
   "source": [
    "#### Option 2"
   ]
  },
  {
   "cell_type": "code",
   "execution_count": 45,
   "metadata": {
    "ExecuteTime": {
     "end_time": "2021-09-08T17:17:01.969977Z",
     "start_time": "2021-09-08T17:17:01.954361Z"
    }
   },
   "outputs": [
    {
     "ename": "NameError",
     "evalue": "name 'data' is not defined",
     "output_type": "error",
     "traceback": [
      "\u001b[1;31m---------------------------------------------------------------------------\u001b[0m",
      "\u001b[1;31mNameError\u001b[0m                                 Traceback (most recent call last)",
      "\u001b[1;32m<ipython-input-45-5c4058e7910f>\u001b[0m in \u001b[0;36m<module>\u001b[1;34m\u001b[0m\n\u001b[1;32m----> 1\u001b[1;33m \u001b[0mdata\u001b[0m\u001b[1;33m\u001b[0m\u001b[1;33m\u001b[0m\u001b[0m\n\u001b[0m\u001b[0;32m      2\u001b[0m \u001b[1;31m# plot: Plot ID\u001b[0m\u001b[1;33m\u001b[0m\u001b[1;33m\u001b[0m\u001b[1;33m\u001b[0m\u001b[0m\n\u001b[0;32m      3\u001b[0m \u001b[1;31m# x: Number of days after sowing or actual date\u001b[0m\u001b[1;33m\u001b[0m\u001b[1;33m\u001b[0m\u001b[1;33m\u001b[0m\u001b[0m\n\u001b[0;32m      4\u001b[0m \u001b[1;31m# y: Value of the index\u001b[0m\u001b[1;33m\u001b[0m\u001b[1;33m\u001b[0m\u001b[1;33m\u001b[0m\u001b[0m\n",
      "\u001b[1;31mNameError\u001b[0m: name 'data' is not defined"
     ]
    }
   ],
   "source": [
    "data\n",
    "# plot: Plot ID\n",
    "# x: Number of days after sowing or actual date\n",
    "# y: Value of the index\n"
   ]
  },
  {
   "cell_type": "code",
   "execution_count": 46,
   "metadata": {
    "ExecuteTime": {
     "end_time": "2021-09-08T17:17:01.991449Z",
     "start_time": "2021-09-08T17:17:01.973882Z"
    }
   },
   "outputs": [
    {
     "name": "stdout",
     "output_type": "stream",
     "text": [
      "0.8500000000000001\n",
      "1.5\n",
      "1.95\n"
     ]
    }
   ],
   "source": [
    "# x: Days from sowing to data collection\n",
    "# May 5 2019 Masbasis and Graminor\n",
    "# Robot: \n",
    "\n",
    "data={'plot':['1','1','2','2','3','3'],'x':['5','6','7','8','9','10'],'y':['0.9','0.8','0.7','0.6','0.5','0.4'] }\n",
    "\n",
    "ACC=[]\n",
    "A=pd.DataFrame(data, columns=['plot','x','y'])\n",
    "AA=0\n",
    "\n",
    "for item in range(len(A)-1):\n",
    "    if A['plot'][item]== A['plot'][item+1]:\n",
    "        Ans=(float((A['y'][item]))+float((A['y'][item+1])))*((float((A['x'][item+1]))-float((A['x'][item]))))/2\n",
    "        AA+=Ans\n",
    "        print(AA)\n",
    "        ACC.append(AA)"
   ]
  },
  {
   "cell_type": "markdown",
   "metadata": {},
   "source": [
    "### Alternative"
   ]
  },
  {
   "cell_type": "code",
   "execution_count": 47,
   "metadata": {
    "ExecuteTime": {
     "end_time": "2021-09-08T17:17:02.434915Z",
     "start_time": "2021-09-08T17:17:02.414078Z"
    }
   },
   "outputs": [
    {
     "ename": "NameError",
     "evalue": "name 'Data' is not defined",
     "output_type": "error",
     "traceback": [
      "\u001b[1;31m---------------------------------------------------------------------------\u001b[0m",
      "\u001b[1;31mNameError\u001b[0m                                 Traceback (most recent call last)",
      "\u001b[1;32m<ipython-input-47-508f0f07663b>\u001b[0m in \u001b[0;36m<module>\u001b[1;34m\u001b[0m\n\u001b[1;32m----> 1\u001b[1;33m \u001b[0mdf1\u001b[0m\u001b[1;33m=\u001b[0m\u001b[0mData\u001b[0m\u001b[1;33m.\u001b[0m\u001b[0mset_index\u001b[0m\u001b[1;33m(\u001b[0m\u001b[1;33m[\u001b[0m\u001b[1;34m'Plot'\u001b[0m\u001b[1;33m]\u001b[0m\u001b[1;33m)\u001b[0m\u001b[1;33m\u001b[0m\u001b[1;33m\u001b[0m\u001b[0m\n\u001b[0m\u001b[0;32m      2\u001b[0m \u001b[0mACC\u001b[0m\u001b[1;33m=\u001b[0m\u001b[1;33m[\u001b[0m\u001b[1;33m]\u001b[0m\u001b[1;33m\u001b[0m\u001b[1;33m\u001b[0m\u001b[0m\n\u001b[0;32m      3\u001b[0m \u001b[1;33m\u001b[0m\u001b[0m\n\u001b[0;32m      4\u001b[0m \u001b[1;32mfor\u001b[0m \u001b[0mitem\u001b[0m \u001b[1;32min\u001b[0m \u001b[0mNumbers_final\u001b[0m\u001b[1;33m:\u001b[0m\u001b[1;33m\u001b[0m\u001b[1;33m\u001b[0m\u001b[0m\n\u001b[0;32m      5\u001b[0m     \u001b[0mdf2\u001b[0m\u001b[1;33m=\u001b[0m\u001b[0mdf1\u001b[0m\u001b[1;33m[\u001b[0m\u001b[0mdf1\u001b[0m\u001b[1;33m.\u001b[0m\u001b[0mindex\u001b[0m\u001b[1;33m==\u001b[0m\u001b[0mitem\u001b[0m\u001b[1;33m]\u001b[0m\u001b[1;33m\u001b[0m\u001b[1;33m\u001b[0m\u001b[0m\n",
      "\u001b[1;31mNameError\u001b[0m: name 'Data' is not defined"
     ]
    }
   ],
   "source": [
    "df1=Data.set_index(['Plot'])\n",
    "ACC=[]\n",
    "\n",
    "for item in Numbers_final:\n",
    "    df2=df1[df1.index==item]\n",
    "    df2=df2.filter(['Blue', 'Green', 'Red', 'RedEdge', 'NIR','NDVI', 'MTCI', 'EVI', 'DVI', 'RVI', 'VARI', 'EXG', 'EXGR', 'GLI', 'GNDVI', 'GVI','Time','timepoint'], axis=1)\n",
    "    df2=df2.sort_values(by='timepoint')\n",
    "    df3=df2.reset_index()\n",
    "\n",
    "AA=0\n",
    "for j in range(0,3):\n",
    "    Ans=(float((df3['GVI'][j]))+float((df3['GVI'][j+1])))*((float((df3['timepoint'][j+1]))-float((df3['timepoint'][j]))))/2\n",
    "    AA+=Ans\n",
    "\n",
    "    print(AA)\n",
    "    ACC.append(AA)\n",
    "\n",
    "\n",
    "\n",
    "DA=pd.DataFrame(ACC)\n",
    "DD=pd.DataFrame(Numbers_final)\n",
    "DDA=pd.concat([DD, DA], axis=1)\n",
    "DDA.to_excel('Staur_Accumulative_GVI_2019.xlsx')"
   ]
  },
  {
   "cell_type": "markdown",
   "metadata": {},
   "source": [
    "### Time series data vs the AUC"
   ]
  },
  {
   "cell_type": "code",
   "execution_count": null,
   "metadata": {},
   "outputs": [],
   "source": []
  },
  {
   "cell_type": "markdown",
   "metadata": {},
   "source": [
    "# ToDo: Model Training"
   ]
  },
  {
   "cell_type": "markdown",
   "metadata": {},
   "source": [
    "\n",
    "Make model for one year at a time and try to predict yield of another field  \n",
    "\n",
    "TODO: Train on Masbasis 2019 an 2020  \n",
    "Test on Staur  \n",
    "\n",
    "Use data until august for yield prediction since it is most relavant  \n",
    "Use all data for predicting date to maturity  \n",
    "\n",
    "Data Collection:  \n",
    "Data collection usually starts after heading  \n",
    "2019 has the data before hading as well. To use that, dont use dates before heading  \n",
    "\n",
    "NDVI is resistant to shadows  \n",
    "\n",
    "DAT390 Report: Do the report with Robot Data only  \n",
    "\n",
    "TODO: Use AUC for each index for prediction  \n",
    "\n",
    "TODO:   \n",
    "Time series data vs the AUC  "
   ]
  },
  {
   "cell_type": "code",
   "execution_count": null,
   "metadata": {},
   "outputs": [],
   "source": []
  }
 ],
 "metadata": {
  "hide_input": false,
  "kernelspec": {
   "display_name": "Python 3",
   "language": "python",
   "name": "python3"
  },
  "language_info": {
   "codemirror_mode": {
    "name": "ipython",
    "version": 3
   },
   "file_extension": ".py",
   "mimetype": "text/x-python",
   "name": "python",
   "nbconvert_exporter": "python",
   "pygments_lexer": "ipython3",
   "version": "3.8.5"
  },
  "toc": {
   "base_numbering": 1,
   "nav_menu": {},
   "number_sections": true,
   "sideBar": true,
   "skip_h1_title": false,
   "title_cell": "Table of Contents",
   "title_sidebar": "Contents",
   "toc_cell": false,
   "toc_position": {
    "height": "calc(100% - 180px)",
    "left": "10px",
    "top": "150px",
    "width": "224.432px"
   },
   "toc_section_display": true,
   "toc_window_display": true
  },
  "varInspector": {
   "cols": {
    "lenName": 16,
    "lenType": 16,
    "lenVar": 40
   },
   "kernels_config": {
    "python": {
     "delete_cmd_postfix": "",
     "delete_cmd_prefix": "del ",
     "library": "var_list.py",
     "varRefreshCmd": "print(var_dic_list())"
    },
    "r": {
     "delete_cmd_postfix": ") ",
     "delete_cmd_prefix": "rm(",
     "library": "var_list.r",
     "varRefreshCmd": "cat(var_dic_list()) "
    }
   },
   "types_to_exclude": [
    "module",
    "function",
    "builtin_function_or_method",
    "instance",
    "_Feature"
   ],
   "window_display": false
  }
 },
 "nbformat": 4,
 "nbformat_minor": 2
}

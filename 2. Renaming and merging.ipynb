{
 "cells": [
  {
   "cell_type": "markdown",
   "metadata": {},
   "source": [
    "# 2. Renaming and merging"
   ]
  },
  {
   "cell_type": "markdown",
   "metadata": {},
   "source": [
    "Note: Half datasets, with separate files for east and west subplots have been merged manually in excel"
   ]
  },
  {
   "cell_type": "code",
   "execution_count": 1,
   "metadata": {
    "ExecuteTime": {
     "end_time": "2021-09-28T16:03:15.285179Z",
     "start_time": "2021-09-28T16:03:14.113257Z"
    }
   },
   "outputs": [
    {
     "name": "stdout",
     "output_type": "stream",
     "text": [
      "Wall time: 1.16 s\n"
     ]
    }
   ],
   "source": [
    "%%time\n",
    "\n",
    "import os\n",
    "import math\n",
    "import datetime\n",
    "import numpy as np\n",
    "import pandas as pd\n",
    "from copy import copy\n",
    "\n",
    "# Dictionaries\n",
    "import json\n",
    "from pprint import pprint\n",
    "\n",
    "# Visualisation\n",
    "import seaborn as sns\n",
    "import matplotlib.pyplot as plt\n",
    "\n",
    "# To display df nicely in loops\n",
    "from IPython.display import display \n",
    "# display(df1.head()) \n",
    "# display(df2.head())\n",
    "\n",
    "# Display rows and columns Pandas\n",
    "pd.options.display.max_columns = 100\n",
    "pd.set_option('display.max_rows',100)"
   ]
  },
  {
   "cell_type": "code",
   "execution_count": 2,
   "metadata": {
    "ExecuteTime": {
     "end_time": "2021-09-28T16:03:15.301135Z",
     "start_time": "2021-09-28T16:03:15.287172Z"
    }
   },
   "outputs": [
    {
     "data": {
      "text/plain": [
       "'C:\\\\Users\\\\fahad\\\\MegaSync\\\\NMBU\\\\GitHub\\\\vPheno'"
      ]
     },
     "execution_count": 2,
     "metadata": {},
     "output_type": "execute_result"
    }
   ],
   "source": [
    "# Prints the current working directory\n",
    "os.getcwd()\n",
    "# os.listdir()"
   ]
  },
  {
   "cell_type": "markdown",
   "metadata": {},
   "source": [
    "## Finding Username folder to make general path for multi PC use"
   ]
  },
  {
   "cell_type": "code",
   "execution_count": 3,
   "metadata": {
    "ExecuteTime": {
     "end_time": "2021-09-28T16:03:15.317092Z",
     "start_time": "2021-09-28T16:03:15.303129Z"
    },
    "scrolled": true
   },
   "outputs": [
    {
     "data": {
      "text/plain": [
       "'fahad'"
      ]
     },
     "execution_count": 3,
     "metadata": {},
     "output_type": "execute_result"
    }
   ],
   "source": [
    "username = str(os.getcwd()).split('\\\\')[2]\n",
    "username"
   ]
  },
  {
   "cell_type": "markdown",
   "metadata": {},
   "source": [
    "## Importing Data"
   ]
  },
  {
   "cell_type": "code",
   "execution_count": 4,
   "metadata": {
    "ExecuteTime": {
     "end_time": "2021-09-28T16:03:15.333050Z",
     "start_time": "2021-09-28T16:03:15.319088Z"
    }
   },
   "outputs": [
    {
     "data": {
      "text/plain": [
       "['complete',\n",
       " 'incomplete',\n",
       " 'renamed_merged',\n",
       " 'results',\n",
       " 'std_columns.json',\n",
       " 'yield_df.json']"
      ]
     },
     "execution_count": 4,
     "metadata": {},
     "output_type": "execute_result"
    }
   ],
   "source": [
    "path = r'./Data/'\n",
    "path_complete = r'./Data/complete/'\n",
    "path_incomplete = r'./Data/incomplete/'\n",
    "\n",
    "path_yield = r'C:\\\\Users\\\\'+username+'\\\\MegaSync\\\\NMBU\\\\Master Thesis\\\\Data\\\\Feb2021'\n",
    "\n",
    "export_path = './Data/renamed_merged/'\n",
    "\n",
    "# Create export_path folder if not exists already\n",
    "os.makedirs(export_path, exist_ok=True)\n",
    "\n",
    "os.listdir(path)"
   ]
  },
  {
   "cell_type": "markdown",
   "metadata": {},
   "source": [
    "## Data Preparation\n",
    "### Creating list of complete files"
   ]
  },
  {
   "cell_type": "code",
   "execution_count": 5,
   "metadata": {
    "ExecuteTime": {
     "end_time": "2021-09-28T16:03:15.349006Z",
     "start_time": "2021-09-28T16:03:15.335044Z"
    }
   },
   "outputs": [
    {
     "name": "stdout",
     "output_type": "stream",
     "text": [
      "63 files found in the directory\n"
     ]
    }
   ],
   "source": [
    "# Get the list of all files in directory tree at given path\n",
    "\n",
    "files_with_address = []\n",
    "files_list = []\n",
    "\n",
    "for (dirpath, dirnames, filenames) in os.walk(path_complete):\n",
    "    files_with_address += [os.path.join(dirpath, file) for file in filenames]\n",
    "    files_list.extend(filenames)\n",
    "    \n",
    "print(len(files_with_address), 'files found in the directory')\n",
    "# files_with_address\n",
    "# files_list"
   ]
  },
  {
   "cell_type": "markdown",
   "metadata": {},
   "source": [
    "## Data Checking/control"
   ]
  },
  {
   "cell_type": "markdown",
   "metadata": {
    "run_control": {
     "marked": true
    }
   },
   "source": [
    "### Check for duplicate filenames"
   ]
  },
  {
   "cell_type": "code",
   "execution_count": 6,
   "metadata": {
    "ExecuteTime": {
     "end_time": "2021-09-28T16:03:15.364963Z",
     "start_time": "2021-09-28T16:03:15.350005Z"
    }
   },
   "outputs": [
    {
     "name": "stdout",
     "output_type": "stream",
     "text": [
      "Total number of files are : 63\n",
      "Number of unique file names are: 63\n",
      "There is/are 0 duplicate file name/names.\n"
     ]
    }
   ],
   "source": [
    "print('Total number of files are :', len(files_list))\n",
    "\n",
    "print('Number of unique file names are:', len(set(files_list)))\n",
    "\n",
    "print('There is/are', len(files_list) - len(set(files_list)),'duplicate file name/names.')\n",
    "if len(files_list) - len(set(files_list)) > 0:\n",
    "    raise NameError"
   ]
  },
  {
   "cell_type": "code",
   "execution_count": 7,
   "metadata": {
    "ExecuteTime": {
     "end_time": "2021-09-28T16:03:15.380921Z",
     "start_time": "2021-09-28T16:03:15.365963Z"
    }
   },
   "outputs": [],
   "source": [
    "# files_list"
   ]
  },
  {
   "cell_type": "code",
   "execution_count": 8,
   "metadata": {
    "ExecuteTime": {
     "end_time": "2021-09-28T16:03:15.396879Z",
     "start_time": "2021-09-28T16:03:15.382916Z"
    }
   },
   "outputs": [
    {
     "data": {
      "text/plain": [
       "63"
      ]
     },
     "execution_count": 8,
     "metadata": {},
     "output_type": "execute_result"
    }
   ],
   "source": [
    "len(files_with_address)\n",
    "# files_with_address"
   ]
  },
  {
   "cell_type": "markdown",
   "metadata": {},
   "source": [
    "## Importing data files to Pandas"
   ]
  },
  {
   "cell_type": "code",
   "execution_count": 9,
   "metadata": {
    "ExecuteTime": {
     "end_time": "2021-09-28T16:03:15.943419Z",
     "start_time": "2021-09-28T16:03:15.397877Z"
    }
   },
   "outputs": [
    {
     "name": "stdout",
     "output_type": "stream",
     "text": [
      "Graminor_050719_plots_826,_837_deleted,_one_missing_row_deleted ===== (597, 49)\n",
      "Graminor_060619 ===== (600, 49)\n",
      "Graminor_070819_2 ===== (600, 49)\n",
      "Graminor_110619 ===== (600, 49)\n",
      "Graminor_150719 ===== (600, 49)\n",
      "Graminor_150819 ===== (600, 49)\n",
      "Graminor_250719 ===== (600, 46)\n",
      "Graminor_280619_corrected ===== (600, 49)\n",
      "Graminor_eastwest_020719_NIR_half_missing ===== (600, 22)\n",
      "Graminor_eastwest_040720 ===== (800, 49)\n",
      "Graminor_eastwest_040820 ===== (793, 22)\n",
      "Graminor_eastwest_050819 ===== (600, 49)\n",
      "Graminor_eastwest_070720_correct ===== (800, 49)\n",
      "Graminor_eastwest_130720 ===== (800, 22)\n",
      "Graminor_eastwest_140820 ===== (800, 49)\n",
      "Graminor_eastwest_300720 ===== (787, 22)\n",
      "Graminor_east_010720 ===== (400, 51)\n",
      "Graminor_east_110719 ===== (300, 49)\n",
      "Graminor_east_170720cpg ===== (400, 49)\n",
      "Graminor_east_180620 ===== (400, 46)\n",
      "Graminor_east_200720 ===== (400, 22)\n",
      "Graminor_Mica_eastcorrect_west_240620 ===== (757, 49)\n",
      "Masbasis_050719_corrected ===== (528, 49)\n",
      "Masbasis_060619_Indices ===== (528, 56)\n",
      "Masbasis_070819_correct ===== (528, 49)\n",
      "Masbasis_150719 ===== (528, 49)\n",
      "Masbasis_220719_correct ===== (528, 49)\n",
      "Masbasis_260619_color_and_othe_indecies ===== (528, 47)\n",
      "Masbasis_290719 ===== (528, 49)\n",
      "Masbasis_indices_280619 ===== (528, 49)\n",
      "Masbasis_Mica_010720 ===== (688, 49)\n",
      "Masbasis_mica_020621 ===== (696, 19)\n",
      "Masbasis_Mica_070820 ===== (688, 49)\n",
      "Masbasis_Mica_080720 ===== (688, 22)\n",
      "Masbasis_mica_090721_excel ===== (696, 19)\n",
      "Masbasis_Mica_120820 ===== (688, 49)\n",
      "Masbasis_Mica_130720 ===== (688, 50)\n",
      "Masbasis_Mica_140820 ===== (688, 49)\n",
      "Masbasis_mica_170621 ===== (696, 19)\n",
      "Masbasis_mica_170720 ===== (688, 23)\n",
      "Masbasis_mica_180620_several_missing_rows_deleted ===== (688, 46)\n",
      "Masbasis_Mica_220720 ===== (688, 49)\n",
      "Masbasis_mica_220721 ===== (696, 19)\n",
      "Masbasis_mica_230621_excel ===== (696, 19)\n",
      "Masbasis_mica_240620 ===== (688, 22)\n",
      "Masbasis_mica_240621_excel ===== (696, 19)\n",
      "Masbasis_Mica_260620 ===== (688, 46)\n",
      "Masbasis_mica_260721 ===== (696, 19)\n",
      "Masbasis_Mica_300720_duplicate_plots_deleted_1332,1329,1330,1331same_data ===== (688, 49)\n",
      "Robot_Mica_010720 ===== (96, 22)\n",
      "Robot_Mica_040820 ===== (96, 49)\n",
      "Robot_Mica_070720 ===== (96, 22)\n",
      "Robot_Mica_120820 ===== (96, 22)\n",
      "Robot_Mica_130720 ===== (96, 22)\n",
      "Robot_mica_180620 ===== (96, 49)\n",
      "Robot_Mica_200720 ===== (96, 49)\n",
      "Robot_Mica_220720 ===== (96, 49)\n",
      "Robot_Mica_230620 ===== (96, 46)\n",
      "Robot_Mica_240620 ===== (96, 49)\n",
      "Robot_Mica_250620 ===== (96, 46)\n",
      "Robot_Mica_270720 ===== (96, 49)\n",
      "Robot_Mica_290620 ===== (96, 49)\n",
      "Robot_Mica_300720 ===== (96, 22)\n",
      "Wall time: 534 ms\n"
     ]
    }
   ],
   "source": [
    "%%time\n",
    "\n",
    "all_df = []\n",
    "for data in files_with_address:\n",
    "    file_name = os.path.splitext(os.path.basename(data))[0]\n",
    "\n",
    "    # Replce all invalid characters in the name\n",
    "    file_name = file_name.replace(\" \", \"_\")\n",
    "    file_name = file_name.replace(\"-\", \"_\")\n",
    "    file_name = file_name.replace(\")\", \"\")\n",
    "    file_name = file_name.replace(\"(\", \"\")\n",
    "    df_name = file_name.replace(\".\", \"\")\n",
    "    # Test: Check if the same date is already present in the current dict key\n",
    "    if df_name in all_df:\n",
    "        print(f'A file with the same name {df_name} has already been imported. \\n Please check if there is duplication of data.')\n",
    "        raise NameError\n",
    "    all_df.append(df_name)\n",
    "\n",
    "    locals()[df_name] = pd.read_csv(data, index_col=False)\n",
    "    print(df_name, '=====', locals()[df_name].shape)"
   ]
  },
  {
   "cell_type": "code",
   "execution_count": 10,
   "metadata": {
    "ExecuteTime": {
     "end_time": "2021-09-28T16:03:15.958321Z",
     "start_time": "2021-09-28T16:03:15.944414Z"
    }
   },
   "outputs": [
    {
     "name": "stdout",
     "output_type": "stream",
     "text": [
      "Total imported 63\n"
     ]
    }
   ],
   "source": [
    "print(f'Total imported {len(all_df)}')"
   ]
  },
  {
   "cell_type": "markdown",
   "metadata": {},
   "source": [
    "# Drop derieved indices"
   ]
  },
  {
   "cell_type": "markdown",
   "metadata": {},
   "source": [
    "## Import and process standard columns json"
   ]
  },
  {
   "cell_type": "code",
   "execution_count": 11,
   "metadata": {
    "ExecuteTime": {
     "end_time": "2021-09-28T16:03:15.974282Z",
     "start_time": "2021-09-28T16:03:15.960315Z"
    }
   },
   "outputs": [
    {
     "data": {
      "text/plain": [
       "str"
      ]
     },
     "execution_count": 11,
     "metadata": {},
     "output_type": "execute_result"
    }
   ],
   "source": [
    "std_cols_json = open(\"Data\\std_columns.json\", \"r\")\n",
    "import_columns = std_cols_json.read()\n",
    "std_cols_json.close()\n",
    "type(import_columns)"
   ]
  },
  {
   "cell_type": "code",
   "execution_count": 12,
   "metadata": {
    "ExecuteTime": {
     "end_time": "2021-09-28T16:03:15.990282Z",
     "start_time": "2021-09-28T16:03:15.975276Z"
    }
   },
   "outputs": [
    {
     "data": {
      "text/plain": [
       "['Plot_ID',\n",
       " 'Blue_Mean_Value',\n",
       " 'Blue_Median_Value',\n",
       " 'Blue_Std_Dev_Value',\n",
       " 'Green_Mean_Value',\n",
       " 'Green_Median_Value',\n",
       " 'Green_Std_Dev_Value',\n",
       " 'Red_Mean_Value',\n",
       " 'Red_Median_Value',\n",
       " 'Red_Std_Dev_Value',\n",
       " 'RedEdge_Mean_Value',\n",
       " 'RedEdge_Median_Value',\n",
       " 'RedEdge_Std_Dev_Value',\n",
       " 'NIR_Mean_Value',\n",
       " 'NIR_Median_Value',\n",
       " 'NIR_Std_Dev_Value']"
      ]
     },
     "execution_count": 12,
     "metadata": {},
     "output_type": "execute_result"
    }
   ],
   "source": [
    "# Converting list stored as string to list\n",
    "import_columns = import_columns.strip('][').split(', ')\n",
    "\n",
    "# Stripping extra quotes enclosing the strings\n",
    "x=0\n",
    "std_columns = []\n",
    "for item in import_columns: \n",
    "    std_columns.append(item[1:-1])\n",
    "    x=+1\n",
    "std_columns"
   ]
  },
  {
   "cell_type": "code",
   "execution_count": 13,
   "metadata": {
    "ExecuteTime": {
     "end_time": "2021-09-28T16:03:16.005820Z",
     "start_time": "2021-09-28T16:03:15.991787Z"
    }
   },
   "outputs": [
    {
     "name": "stdout",
     "output_type": "stream",
     "text": [
      "['Plot_ID', 'Blue_Mean_Value', 'Green_Mean_Value', 'Red_Mean_Value', 'RedEdge_Mean_Value', 'NIR_Mean_Value']\n",
      "['Plot_ID', 'Blue_Median_Value', 'Green_Median_Value', 'Red_Median_Value', 'RedEdge_Median_Value', 'NIR_Median_Value']\n",
      "['Plot_ID', 'Blue_Std_Dev_Value', 'Green_Std_Dev_Value', 'Red_Std_Dev_Value', 'RedEdge_Std_Dev_Value', 'NIR_Std_Dev_Value']\n"
     ]
    }
   ],
   "source": [
    "# Creating lists of standard columns for Mean, Median and Std_Dev\n",
    "\n",
    "std_columns_mean = ['Plot_ID']\n",
    "std_columns_median = ['Plot_ID']\n",
    "std_columns_stdev = ['Plot_ID']\n",
    "\n",
    "for item in std_columns:\n",
    "    if item.find(\"Mean\") != -1:\n",
    "        std_columns_mean.append(item)\n",
    "    if item.find(\"Median\") != -1:\n",
    "        std_columns_median.append(item)\n",
    "    if item.find(\"Std_Dev\") != -1:\n",
    "        std_columns_stdev.append(item)\n",
    "print(std_columns_mean)\n",
    "print(std_columns_median)\n",
    "print(std_columns_stdev)"
   ]
  },
  {
   "cell_type": "markdown",
   "metadata": {},
   "source": [
    "## Dropping extra/derieved indices columns from dataframes"
   ]
  },
  {
   "cell_type": "code",
   "execution_count": 14,
   "metadata": {
    "ExecuteTime": {
     "end_time": "2021-09-28T16:03:16.069159Z",
     "start_time": "2021-09-28T16:03:16.007326Z"
    }
   },
   "outputs": [],
   "source": [
    "# Filtering the datasets with only the standard columns\n",
    "\n",
    "for df in all_df:\n",
    "    locals()[df] = locals()[df].copy()[std_columns]"
   ]
  },
  {
   "cell_type": "markdown",
   "metadata": {},
   "source": [
    "# ToDo: Dropping NAN"
   ]
  },
  {
   "cell_type": "markdown",
   "metadata": {},
   "source": [
    "## Finding NAN values\n",
    "### ToDo: Test: Raise error if missing values found"
   ]
  },
  {
   "cell_type": "code",
   "execution_count": 15,
   "metadata": {
    "ExecuteTime": {
     "end_time": "2021-09-28T16:03:16.115038Z",
     "start_time": "2021-09-28T16:03:16.070157Z"
    }
   },
   "outputs": [
    {
     "name": "stdout",
     "output_type": "stream",
     "text": [
      "Total missing values in Graminor_eastwest_020719_NIR_half_missing are 900\n"
     ]
    }
   ],
   "source": [
    "# Finding number of missing values in each dataframe\n",
    "df_with_nan = []\n",
    "missing_values = False\n",
    "for df in all_df:\n",
    "    if locals()[df].isna().sum().sum() > 0:\n",
    "        print(f'Total missing values in {df} are {locals()[df].isna().sum().sum()}')\n",
    "        missing_values = True\n",
    "        df_with_nan.append(df)\n",
    "#     if len(df_with_nan) > 0:\n",
    "#         raise ValueError\n",
    "if not missing_values:\n",
    "    print('No missing value found in any dataframe')"
   ]
  },
  {
   "cell_type": "code",
   "execution_count": 16,
   "metadata": {
    "ExecuteTime": {
     "end_time": "2021-09-28T16:03:16.130994Z",
     "start_time": "2021-09-28T16:03:16.117033Z"
    },
    "scrolled": true
   },
   "outputs": [
    {
     "data": {
      "text/plain": [
       "['Graminor_eastwest_020719_NIR_half_missing']"
      ]
     },
     "execution_count": 16,
     "metadata": {},
     "output_type": "execute_result"
    }
   ],
   "source": [
    "df_with_nan"
   ]
  },
  {
   "cell_type": "code",
   "execution_count": 17,
   "metadata": {
    "ExecuteTime": {
     "end_time": "2021-09-28T16:03:16.162909Z",
     "start_time": "2021-09-28T16:03:16.131994Z"
    }
   },
   "outputs": [
    {
     "name": "stdout",
     "output_type": "stream",
     "text": [
      "Graminor_eastwest_020719_NIR_half_missing:\n",
      " 3 columns or 300 rows to be dropped,\n"
     ]
    }
   ],
   "source": [
    "# Finding which column has NAN values\n",
    "for df in df_with_nan:\n",
    "    print(f'{df}:\\n {locals()[df].shape[1]-locals()[df].dropna(axis=1).shape[1]} columns or {locals()[df].shape[0]-locals()[df].dropna().shape[0]} rows to be dropped,')"
   ]
  },
  {
   "cell_type": "markdown",
   "metadata": {},
   "source": [
    "## ToDo: Automate: Drop rows with missing values in df_with_nan"
   ]
  },
  {
   "cell_type": "code",
   "execution_count": 18,
   "metadata": {
    "ExecuteTime": {
     "end_time": "2021-09-28T16:03:16.178866Z",
     "start_time": "2021-09-28T16:03:16.164904Z"
    }
   },
   "outputs": [
    {
     "name": "stdout",
     "output_type": "stream",
     "text": [
      "(600, 16) Before dropping\n",
      "(300, 16) After dropping\n"
     ]
    }
   ],
   "source": [
    "for df in df_with_nan:\n",
    "    print(f'{locals()[df].shape} Before dropping')\n",
    "    locals()[df].dropna(inplace=True)\n",
    "    print(f'{locals()[df].shape} After dropping')\n"
   ]
  },
  {
   "cell_type": "markdown",
   "metadata": {},
   "source": [
    "## ORRR"
   ]
  },
  {
   "cell_type": "markdown",
   "metadata": {},
   "source": [
    "## ToDo: Droppping df with Nan from the all_df_std"
   ]
  },
  {
   "cell_type": "code",
   "execution_count": 19,
   "metadata": {
    "ExecuteTime": {
     "end_time": "2021-09-28T16:03:16.384322Z",
     "start_time": "2021-09-28T16:03:16.378332Z"
    }
   },
   "outputs": [
    {
     "name": "stdout",
     "output_type": "stream",
     "text": [
      "Number of items in all_df is 63\n"
     ]
    }
   ],
   "source": [
    "print(f'Number of items in all_df is {len(all_df)}')"
   ]
  },
  {
   "cell_type": "code",
   "execution_count": 20,
   "metadata": {
    "ExecuteTime": {
     "end_time": "2021-09-28T16:03:16.400275Z",
     "start_time": "2021-09-28T16:03:16.386311Z"
    },
    "scrolled": false
   },
   "outputs": [],
   "source": [
    "# for df in df_with_nan:\n",
    "#     all_df.remove(df)"
   ]
  },
  {
   "cell_type": "markdown",
   "metadata": {},
   "source": [
    "###  ToDo: Update field_year_dict and sorted_field_year_dict after dropping the dataset"
   ]
  },
  {
   "cell_type": "code",
   "execution_count": 21,
   "metadata": {
    "ExecuteTime": {
     "end_time": "2021-09-28T16:03:16.507985Z",
     "start_time": "2021-09-28T16:03:16.496018Z"
    }
   },
   "outputs": [
    {
     "name": "stdout",
     "output_type": "stream",
     "text": [
      "Number of items in all_df now is 63\n"
     ]
    }
   ],
   "source": [
    "print(f'Number of items in all_df now is {len(all_df)}')"
   ]
  },
  {
   "cell_type": "markdown",
   "metadata": {},
   "source": [
    "# Standardizing the names"
   ]
  },
  {
   "cell_type": "markdown",
   "metadata": {},
   "source": [
    "## Creating a dictionary with all dates for a certain field for a certain year"
   ]
  },
  {
   "cell_type": "code",
   "execution_count": 22,
   "metadata": {
    "ExecuteTime": {
     "end_time": "2021-09-28T16:03:16.744802Z",
     "start_time": "2021-09-28T16:03:16.738370Z"
    }
   },
   "outputs": [
    {
     "data": {
      "text/plain": [
       "63"
      ]
     },
     "execution_count": 22,
     "metadata": {},
     "output_type": "execute_result"
    }
   ],
   "source": [
    "len(all_df)\n",
    "# all_df"
   ]
  },
  {
   "cell_type": "code",
   "execution_count": 23,
   "metadata": {
    "ExecuteTime": {
     "end_time": "2021-09-28T16:03:16.807145Z",
     "start_time": "2021-09-28T16:03:16.746799Z"
    },
    "run_control": {
     "marked": false
    },
    "scrolled": true
   },
   "outputs": [
    {
     "name": "stdout",
     "output_type": "stream",
     "text": [
      "field_year_dict created.\n",
      "{'Graminor_2019': ['050719',\n",
      "                   '060619',\n",
      "                   '070819',\n",
      "                   '110619',\n",
      "                   '150719',\n",
      "                   '150819',\n",
      "                   '250719',\n",
      "                   '280619',\n",
      "                   '020719',\n",
      "                   '050819',\n",
      "                   '110719'],\n",
      " 'Graminor_2020': ['040720',\n",
      "                   '040820',\n",
      "                   '070720',\n",
      "                   '130720',\n",
      "                   '140820',\n",
      "                   '300720',\n",
      "                   '010720',\n",
      "                   '170720',\n",
      "                   '180620',\n",
      "                   '200720',\n",
      "                   '240620'],\n",
      " 'Masbasis_2019': ['050719',\n",
      "                   '060619',\n",
      "                   '070819',\n",
      "                   '150719',\n",
      "                   '220719',\n",
      "                   '260619',\n",
      "                   '290719',\n",
      "                   '280619'],\n",
      " 'Masbasis_2020': ['010720',\n",
      "                   '070820',\n",
      "                   '080720',\n",
      "                   '120820',\n",
      "                   '130720',\n",
      "                   '140820',\n",
      "                   '170720',\n",
      "                   '180620',\n",
      "                   '220720',\n",
      "                   '240620',\n",
      "                   '260620',\n",
      "                   '300720'],\n",
      " 'Masbasis_2021': ['020621',\n",
      "                   '090721',\n",
      "                   '170621',\n",
      "                   '220721',\n",
      "                   '230621',\n",
      "                   '240621',\n",
      "                   '260721'],\n",
      " 'Robot_2020': ['010720',\n",
      "                '040820',\n",
      "                '070720',\n",
      "                '120820',\n",
      "                '130720',\n",
      "                '180620',\n",
      "                '200720',\n",
      "                '220720',\n",
      "                '230620',\n",
      "                '240620',\n",
      "                '250620',\n",
      "                '270720',\n",
      "                '290620',\n",
      "                '300720']}\n",
      "Wall time: 34.9 ms\n"
     ]
    }
   ],
   "source": [
    "%%time\n",
    "\n",
    "elements_to_strip = \"abcdefghijklmnopqrstuvwxyzABCDEFGHIJKLMNOPQRSTUVWXYZ_-().\"\n",
    "\n",
    "all_df_std = []\n",
    "\n",
    "field_year_dict = {}\n",
    "\n",
    "# A reference dict to keep record of the names of files before they got renamed \n",
    "renamed_to_from = {}\n",
    "\n",
    "for df in all_df:\n",
    "    \n",
    "    # Getting date from the df name\n",
    "    date1 = copy(df)\n",
    "\n",
    "    for x in range(3):\n",
    "        date1 = date1.rstrip(elements_to_strip)\n",
    "        date1 = date1.lstrip(elements_to_strip)\n",
    "        for c in range(3):\n",
    "            date1 = date1.rstrip(elements_to_strip)\n",
    "            date1 = date1.lstrip(elements_to_strip)\n",
    "        date1 = date1.split('_')[0]\n",
    "    \n",
    "    field_name = df.split('_')[0]\n",
    "    field_name = field_name.split('-')[0]\n",
    "\n",
    "    new_df_name = field_name +'_'+date1\n",
    "    \n",
    "    # Drop all columns except the std columns \n",
    "    locals()[new_df_name] = locals()[df][std_columns]\n",
    "    \n",
    "    all_df_std.append(new_df_name)\n",
    "\n",
    "    \n",
    "    \n",
    "    # Creating a dict with all dates for a certain field for a certain year\n",
    "    dict_key = field_name+'_20'+date1[-2:]\n",
    "    \n",
    "    if dict_key in field_year_dict:\n",
    "        # Test: Check if the same date is already present in the current dict key\n",
    "        if date1 in field_year_dict[dict_key]:\n",
    "            print(f'Duplicate Data file Error: {date1} is already present in {dict_key}\\n Current df {df}\\n Conflict with {renamed_to_from[new_df_name]}')\n",
    "            raise NameError\n",
    "        field_year_dict[dict_key].append(date1)\n",
    "    else:\n",
    "        field_year_dict[dict_key] = [date1]\n",
    "    \n",
    "    # Adding new and old names to a dict for record\n",
    "    renamed_to_from[new_df_name] = df\n",
    "    \n",
    "#     print(date1)\n",
    "print('field_year_dict created.')\n",
    "\n",
    "pprint(field_year_dict)\n",
    "# all_df_std\n"
   ]
  },
  {
   "cell_type": "markdown",
   "metadata": {},
   "source": [
    "## Test: Check if there are duplicate datasets/names in all_df_std"
   ]
  },
  {
   "cell_type": "code",
   "execution_count": 24,
   "metadata": {
    "ExecuteTime": {
     "end_time": "2021-09-28T16:03:16.882944Z",
     "start_time": "2021-09-28T16:03:16.863996Z"
    }
   },
   "outputs": [
    {
     "name": "stdout",
     "output_type": "stream",
     "text": [
      "No duplicate dataset found\n"
     ]
    }
   ],
   "source": [
    "\n",
    "if len(all_df_std) > len(set(all_df_std)):\n",
    "    duplicates = len(all_df_std) - len(set(all_df_std))\n",
    "    if duplicates>1:\n",
    "        verb, plural='are', 's'\n",
    "    else:\n",
    "        verb, plural='is', ''\n",
    "    print(f'Error:\\nThere {verb} {duplicates} duplicate name{plural} in the datasets out of total {len(all_df_std)}.\\n \\\n",
    "    Make sure no dataset has been lost because of data being separated in east/west fields on the same date')\n",
    "    # Printing the names of the duplicate datasets, if any\n",
    "    find_duplicates=[]\n",
    "    for i in all_df_std:\n",
    "        if i not in find_duplicates:\n",
    "            find_duplicates.append(i)\n",
    "        else:\n",
    "            print(f'Duplicate dataset named \\'{i}\\',\\n')\n",
    "    raise NameError\n",
    "    \n",
    "else:\n",
    "    print('No duplicate dataset found')"
   ]
  },
  {
   "cell_type": "markdown",
   "metadata": {},
   "source": [
    "### Arranging the dates in field_year_Dict in ascending order\n"
   ]
  },
  {
   "cell_type": "code",
   "execution_count": 25,
   "metadata": {
    "ExecuteTime": {
     "end_time": "2021-09-28T16:03:17.007206Z",
     "start_time": "2021-09-28T16:03:16.994261Z"
    }
   },
   "outputs": [
    {
     "name": "stdout",
     "output_type": "stream",
     "text": [
      "{'Graminor_2019': [datetime.date(2019, 6, 6),\n",
      "                   datetime.date(2019, 6, 11),\n",
      "                   datetime.date(2019, 6, 28),\n",
      "                   datetime.date(2019, 7, 2),\n",
      "                   datetime.date(2019, 7, 5),\n",
      "                   datetime.date(2019, 7, 11),\n",
      "                   datetime.date(2019, 7, 15),\n",
      "                   datetime.date(2019, 7, 25),\n",
      "                   datetime.date(2019, 8, 5),\n",
      "                   datetime.date(2019, 8, 7),\n",
      "                   datetime.date(2019, 8, 15)],\n",
      " 'Graminor_2020': [datetime.date(2020, 6, 18),\n",
      "                   datetime.date(2020, 6, 24),\n",
      "                   datetime.date(2020, 7, 1),\n",
      "                   datetime.date(2020, 7, 4),\n",
      "                   datetime.date(2020, 7, 7),\n",
      "                   datetime.date(2020, 7, 13),\n",
      "                   datetime.date(2020, 7, 17),\n",
      "                   datetime.date(2020, 7, 20),\n",
      "                   datetime.date(2020, 7, 30),\n",
      "                   datetime.date(2020, 8, 4),\n",
      "                   datetime.date(2020, 8, 14)],\n",
      " 'Masbasis_2019': [datetime.date(2019, 6, 6),\n",
      "                   datetime.date(2019, 6, 26),\n",
      "                   datetime.date(2019, 6, 28),\n",
      "                   datetime.date(2019, 7, 5),\n",
      "                   datetime.date(2019, 7, 15),\n",
      "                   datetime.date(2019, 7, 22),\n",
      "                   datetime.date(2019, 7, 29),\n",
      "                   datetime.date(2019, 8, 7)],\n",
      " 'Masbasis_2020': [datetime.date(2020, 6, 18),\n",
      "                   datetime.date(2020, 6, 24),\n",
      "                   datetime.date(2020, 6, 26),\n",
      "                   datetime.date(2020, 7, 1),\n",
      "                   datetime.date(2020, 7, 8),\n",
      "                   datetime.date(2020, 7, 13),\n",
      "                   datetime.date(2020, 7, 17),\n",
      "                   datetime.date(2020, 7, 22),\n",
      "                   datetime.date(2020, 7, 30),\n",
      "                   datetime.date(2020, 8, 7),\n",
      "                   datetime.date(2020, 8, 12),\n",
      "                   datetime.date(2020, 8, 14)],\n",
      " 'Masbasis_2021': [datetime.date(2021, 6, 2),\n",
      "                   datetime.date(2021, 6, 17),\n",
      "                   datetime.date(2021, 6, 23),\n",
      "                   datetime.date(2021, 6, 24),\n",
      "                   datetime.date(2021, 7, 9),\n",
      "                   datetime.date(2021, 7, 22),\n",
      "                   datetime.date(2021, 7, 26)],\n",
      " 'Robot_2020': [datetime.date(2020, 6, 18),\n",
      "                datetime.date(2020, 6, 23),\n",
      "                datetime.date(2020, 6, 24),\n",
      "                datetime.date(2020, 6, 25),\n",
      "                datetime.date(2020, 6, 29),\n",
      "                datetime.date(2020, 7, 1),\n",
      "                datetime.date(2020, 7, 7),\n",
      "                datetime.date(2020, 7, 13),\n",
      "                datetime.date(2020, 7, 20),\n",
      "                datetime.date(2020, 7, 22),\n",
      "                datetime.date(2020, 7, 27),\n",
      "                datetime.date(2020, 7, 30),\n",
      "                datetime.date(2020, 8, 4),\n",
      "                datetime.date(2020, 8, 12)]}\n"
     ]
    }
   ],
   "source": [
    "sorted_field_year_dict = {}\n",
    "for key, dates_list in field_year_dict.items():\n",
    "    # Converting the dates to a datetime date object and sorting them in list\n",
    "    sorted_dated = sorted([\n",
    "        datetime.datetime.strptime(date, '%d%m%y').date()\n",
    "        for date in dates_list])\n",
    "\n",
    "    sorted_field_year_dict[key] = sorted_dated\n",
    "\n",
    "pprint(sorted_field_year_dict)"
   ]
  },
  {
   "cell_type": "markdown",
   "metadata": {},
   "source": [
    "# Identify & drop duplicate sub-plots in each datasets, if any"
   ]
  },
  {
   "cell_type": "markdown",
   "metadata": {},
   "source": [
    "## Checking if duplicates exist"
   ]
  },
  {
   "cell_type": "code",
   "execution_count": 26,
   "metadata": {
    "ExecuteTime": {
     "end_time": "2021-09-28T16:03:17.319666Z",
     "start_time": "2021-09-28T16:03:17.234397Z"
    }
   },
   "outputs": [
    {
     "name": "stdout",
     "output_type": "stream",
     "text": [
      "No duplicate subplots found in any dataset.\n"
     ]
    }
   ],
   "source": [
    "found_duplicates = False\n",
    "for df in all_df_std:\n",
    "    duplicates = locals()[df][locals()[df].duplicated(subset='Plot_ID')]['Plot_ID']\n",
    "    if duplicates.size > 0:\n",
    "        found_duplicates = True\n",
    "        print(f'Following {duplicates.size} duplicates in {df} ')\n",
    "        for x in range(duplicates.size):\n",
    "            print(duplicates.iloc[x])\n",
    "if found_duplicates:\n",
    "    raise NameError\n",
    "else:\n",
    "    print(f'No duplicate subplots found in any dataset.')"
   ]
  },
  {
   "cell_type": "markdown",
   "metadata": {},
   "source": [
    "## Finding out which plots are duplicate/ non-unique"
   ]
  },
  {
   "cell_type": "code",
   "execution_count": 27,
   "metadata": {
    "ExecuteTime": {
     "end_time": "2021-09-28T16:03:17.397445Z",
     "start_time": "2021-09-28T16:03:17.372512Z"
    }
   },
   "outputs": [
    {
     "name": "stdout",
     "output_type": "stream",
     "text": [
      "No duplicate subplots found in any dataset.\n"
     ]
    }
   ],
   "source": [
    "found_duplicates = False\n",
    "\n",
    "for df in all_df_std:\n",
    "    plot_list_series = locals()[df].Plot_ID\n",
    "    if len(plot_list_series[plot_list_series.duplicated()]) > 0:\n",
    "        found_duplicates = True\n",
    "        print(f'Duplicate subplots in {df} are {plot_list_series[plot_list_series.duplicated()]}')\n",
    "        print(f'Number of plots {len(plot_list_series)}, vs Number of duplicate plots {len(set(plot_list_series))-len(plot_list_series)}')\n",
    "\n",
    "if found_duplicates:\n",
    "    raise NameError\n",
    "else:\n",
    "    print(f'No duplicate subplots found in any dataset.')"
   ]
  },
  {
   "cell_type": "code",
   "execution_count": 28,
   "metadata": {
    "ExecuteTime": {
     "end_time": "2021-09-28T16:03:17.413403Z",
     "start_time": "2021-09-28T16:03:17.398442Z"
    }
   },
   "outputs": [
    {
     "name": "stdout",
     "output_type": "stream",
     "text": [
      "Number of plots 96, vs Number of duplicate plots 0\n",
      "Plot_ID                  1827.000000\n",
      "Blue_Mean_Value             0.004315\n",
      "Blue_Median_Value           0.004155\n",
      "Blue_Std_Dev_Value          0.001230\n",
      "Green_Mean_Value            0.010959\n",
      "Green_Median_Value          0.010581\n",
      "Green_Std_Dev_Value         0.003384\n",
      "Red_Mean_Value              0.006048\n",
      "Red_Median_Value            0.005484\n",
      "Red_Std_Dev_Value           0.002242\n",
      "RedEdge_Mean_Value          0.027218\n",
      "RedEdge_Median_Value        0.026672\n",
      "RedEdge_Std_Dev_Value       0.006525\n",
      "NIR_Mean_Value              0.097022\n",
      "NIR_Median_Value            0.097314\n",
      "NIR_Std_Dev_Value           0.015057\n",
      "Name: 379, dtype: float64\n",
      "Plot_ID                  1727.000000\n",
      "Blue_Mean_Value             0.004014\n",
      "Blue_Median_Value           0.003858\n",
      "Blue_Std_Dev_Value          0.000914\n",
      "Green_Mean_Value            0.009829\n",
      "Green_Median_Value          0.009518\n",
      "Green_Std_Dev_Value         0.002195\n",
      "Red_Mean_Value              0.004742\n",
      "Red_Median_Value            0.004602\n",
      "Red_Std_Dev_Value           0.001046\n",
      "RedEdge_Mean_Value          0.024871\n",
      "RedEdge_Median_Value        0.024547\n",
      "RedEdge_Std_Dev_Value       0.004028\n",
      "NIR_Mean_Value              0.099311\n",
      "NIR_Median_Value            0.099186\n",
      "NIR_Std_Dev_Value           0.008982\n",
      "Name: 293, dtype: float64\n"
     ]
    },
    {
     "data": {
      "text/plain": [
       "Plot_ID                  False\n",
       "Blue_Mean_Value          False\n",
       "Blue_Median_Value        False\n",
       "Blue_Std_Dev_Value       False\n",
       "Green_Mean_Value         False\n",
       "Green_Median_Value       False\n",
       "Green_Std_Dev_Value      False\n",
       "Red_Mean_Value           False\n",
       "Red_Median_Value         False\n",
       "Red_Std_Dev_Value        False\n",
       "RedEdge_Mean_Value       False\n",
       "RedEdge_Median_Value     False\n",
       "RedEdge_Std_Dev_Value    False\n",
       "NIR_Mean_Value           False\n",
       "NIR_Median_Value         False\n",
       "NIR_Std_Dev_Value        False\n",
       "dtype: bool"
      ]
     },
     "execution_count": 28,
     "metadata": {},
     "output_type": "execute_result"
    }
   ],
   "source": [
    "print(f'Number of plots {len(plot_list_series)}, vs Number of duplicate plots {len(set(plot_list_series))-len(plot_list_series)}')\n",
    "print(Masbasis_130720.iloc[379,:])\n",
    "print(Masbasis_130720.iloc[293,:])\n",
    "Masbasis_130720.iloc[379,:] == Masbasis_130720.iloc[293,:]\n"
   ]
  },
  {
   "cell_type": "code",
   "execution_count": 29,
   "metadata": {
    "ExecuteTime": {
     "end_time": "2021-09-28T16:03:17.429361Z",
     "start_time": "2021-09-28T16:03:17.416396Z"
    }
   },
   "outputs": [
    {
     "data": {
      "text/plain": [
       "[]"
      ]
     },
     "execution_count": 29,
     "metadata": {},
     "output_type": "execute_result"
    }
   ],
   "source": [
    "plots_list = (np.array(Masbasis_130720.Plot_ID.tolist()))\n",
    "\n",
    "# ToDo Figure out the problem in the following code\n",
    "seen = set(plots_list)\n",
    "uniq = [x for x in plots_list if x not in seen and not seen.add(x)] \n",
    "uniq"
   ]
  },
  {
   "cell_type": "markdown",
   "metadata": {},
   "source": [
    "There are no duplicate datasets.  \n",
    "There is a slight possibility that there may be duplicate sub-plots in a field. That is yet to be checked."
   ]
  },
  {
   "cell_type": "markdown",
   "metadata": {},
   "source": [
    "\n",
    "# Find grain yield, DH, DT etc values and attach to the dataframes"
   ]
  },
  {
   "cell_type": "code",
   "execution_count": 30,
   "metadata": {
    "ExecuteTime": {
     "end_time": "2021-09-28T16:03:17.714433Z",
     "start_time": "2021-09-28T16:03:17.696480Z"
    }
   },
   "outputs": [
    {
     "data": {
      "text/plain": [
       "['2019 Staur Graminor',\n",
       " '2019 Staur Masbasis',\n",
       " '2019 Vollebekk Graminor',\n",
       " '2019 Vollebekk Masbasis',\n",
       " '2020 Staur Graminor',\n",
       " '2020 Staur Masbasis',\n",
       " '2020 Vollebekk Graminor',\n",
       " '2020 Vollebekk Masbasis',\n",
       " '2020 Vollebekk Robot',\n",
       " '2021 Vollebekk Masbasis']"
      ]
     },
     "execution_count": 30,
     "metadata": {},
     "output_type": "execute_result"
    }
   ],
   "source": [
    "os.listdir(path_yield)"
   ]
  },
  {
   "cell_type": "markdown",
   "metadata": {},
   "source": [
    "## Data Preparation\n",
    "### Creating list of all files"
   ]
  },
  {
   "cell_type": "code",
   "execution_count": 31,
   "metadata": {
    "ExecuteTime": {
     "end_time": "2021-09-28T16:03:17.887968Z",
     "start_time": "2021-09-28T16:03:17.866026Z"
    }
   },
   "outputs": [
    {
     "name": "stdout",
     "output_type": "stream",
     "text": [
      "90 files found in the directory\n"
     ]
    }
   ],
   "source": [
    "# Get the list of all files in directory tree at given path_yield\n",
    "\n",
    "files_with_address = []\n",
    "files_list = []\n",
    "\n",
    "for (dirpath, dirnames, filenames) in os.walk(path_yield):\n",
    "    files_with_address += [os.path.join(dirpath, file) for file in filenames]\n",
    "    files_list.extend(filenames)\n",
    "    \n",
    "print(len(files_with_address), 'files found in the directory')\n",
    "# files_with_address\n",
    "# files_list\n",
    "files_with_address_bkp = copy(files_with_address)"
   ]
  },
  {
   "cell_type": "markdown",
   "metadata": {},
   "source": [
    "### Checking if there are multiple sheets in the files"
   ]
  },
  {
   "cell_type": "code",
   "execution_count": 32,
   "metadata": {
    "ExecuteTime": {
     "end_time": "2021-09-28T16:03:21.738578Z",
     "start_time": "2021-09-28T16:03:18.011290Z"
    }
   },
   "outputs": [
    {
     "name": "stdout",
     "output_type": "stream",
     "text": [
      "The following files have multiple sheets.\n",
      "3 19BMLFN3 - MASBASIS yield trial Staur 2019.xlsx in folder 2019 Staur Masbasis\n",
      "4 19TvPhenores.xlsx in folder 2019 Vollebekk Graminor\n",
      "4 Graminor_Staur_Vollebekk_2019.xlsx in folder 2019 Vollebekk Graminor\n",
      "4 19BMLGI1 - MASBASIS yield trial Vollebekk 2019.xlsx in folder 2019 Vollebekk Masbasis\n",
      "3 Masbasis_vollebekk trial_data_2020.xlsx in folder 2019 Vollebekk Masbasis\n",
      "3 Staur-Graminor-Masbasis_2020.xlsx in folder 2020 Staur Graminor\n",
      "2 20BMLFN3 - MASBASIS avlingsforsøk Staur 2020 lodging data.xlsx in folder 2020 Staur Masbasis\n",
      "2 Masbasis_2020_staur.xlsx in folder 2020 Staur Masbasis\n",
      "2 Staur_maturity_heading_yield_2020.xlsx in folder 2020 Staur Masbasis\n",
      "3 20BMLGI1_2020_tm.xlsx in folder 2020 Vollebekk Masbasis\n",
      "3 Masbasis_Mica_2020_all_dates_MEDIAN_DP.xlsx in folder 2020 Vollebekk Masbasis\n",
      "3 Masbasis_vollebekk trial_data_2020.xlsx in folder 2020 Vollebekk Masbasis\n",
      "3 ROBOT_2020.xlsx in folder 2020 Vollebekk Robot\n"
     ]
    }
   ],
   "source": [
    "# Print number of sheets in all files\n",
    "print('The following files have multiple sheets.')\n",
    "\n",
    "list_multi_sheet = []\n",
    "for file in files_with_address:\n",
    "    xl_file = pd.ExcelFile(file,engine='openpyxl')\n",
    "    number_of_sheets = len(xl_file.sheet_names)\n",
    "    if number_of_sheets > 1:\n",
    "        print(number_of_sheets, os.path.basename(file), 'in folder', os.path.basename(os.path.dirname(file))\n",
    ")\n",
    "        list_multi_sheet.append(file)"
   ]
  },
  {
   "cell_type": "code",
   "execution_count": 33,
   "metadata": {
    "ExecuteTime": {
     "end_time": "2021-09-28T16:12:03.854074Z",
     "start_time": "2021-09-28T16:12:03.836030Z"
    }
   },
   "outputs": [
    {
     "data": {
      "text/plain": [
       "['C:\\\\\\\\Users\\\\\\\\fahad\\\\MegaSync\\\\NMBU\\\\Master Thesis\\\\Data\\\\Feb2021\\\\2019 Staur Masbasis\\\\19BMLFN3 - MASBASIS yield trial Staur 2019.xlsx',\n",
       " 'C:\\\\\\\\Users\\\\\\\\fahad\\\\MegaSync\\\\NMBU\\\\Master Thesis\\\\Data\\\\Feb2021\\\\2019 Vollebekk Graminor\\\\19TvPhenores.xlsx',\n",
       " 'C:\\\\\\\\Users\\\\\\\\fahad\\\\MegaSync\\\\NMBU\\\\Master Thesis\\\\Data\\\\Feb2021\\\\2019 Vollebekk Graminor\\\\Graminor_Staur_Vollebekk_2019.xlsx',\n",
       " 'C:\\\\\\\\Users\\\\\\\\fahad\\\\MegaSync\\\\NMBU\\\\Master Thesis\\\\Data\\\\Feb2021\\\\2019 Vollebekk Masbasis\\\\19BMLGI1 - MASBASIS yield trial Vollebekk 2019.xlsx',\n",
       " 'C:\\\\\\\\Users\\\\\\\\fahad\\\\MegaSync\\\\NMBU\\\\Master Thesis\\\\Data\\\\Feb2021\\\\2019 Vollebekk Masbasis\\\\Masbasis_vollebekk trial_data_2020.xlsx',\n",
       " 'C:\\\\\\\\Users\\\\\\\\fahad\\\\MegaSync\\\\NMBU\\\\Master Thesis\\\\Data\\\\Feb2021\\\\2020 Staur Graminor\\\\Staur-Graminor-Masbasis_2020.xlsx',\n",
       " 'C:\\\\\\\\Users\\\\\\\\fahad\\\\MegaSync\\\\NMBU\\\\Master Thesis\\\\Data\\\\Feb2021\\\\2020 Staur Masbasis\\\\20BMLFN3 - MASBASIS avlingsforsøk Staur 2020 lodging data.xlsx',\n",
       " 'C:\\\\\\\\Users\\\\\\\\fahad\\\\MegaSync\\\\NMBU\\\\Master Thesis\\\\Data\\\\Feb2021\\\\2020 Staur Masbasis\\\\Masbasis_2020_staur.xlsx',\n",
       " 'C:\\\\\\\\Users\\\\\\\\fahad\\\\MegaSync\\\\NMBU\\\\Master Thesis\\\\Data\\\\Feb2021\\\\2020 Staur Masbasis\\\\Staur_maturity_heading_yield_2020.xlsx',\n",
       " 'C:\\\\\\\\Users\\\\\\\\fahad\\\\MegaSync\\\\NMBU\\\\Master Thesis\\\\Data\\\\Feb2021\\\\2020 Vollebekk Masbasis\\\\20BMLGI1_2020_tm.xlsx',\n",
       " 'C:\\\\\\\\Users\\\\\\\\fahad\\\\MegaSync\\\\NMBU\\\\Master Thesis\\\\Data\\\\Feb2021\\\\2020 Vollebekk Masbasis\\\\Masbasis_Mica_2020_all_dates_MEDIAN_DP.xlsx',\n",
       " 'C:\\\\\\\\Users\\\\\\\\fahad\\\\MegaSync\\\\NMBU\\\\Master Thesis\\\\Data\\\\Feb2021\\\\2020 Vollebekk Masbasis\\\\Masbasis_vollebekk trial_data_2020.xlsx',\n",
       " 'C:\\\\\\\\Users\\\\\\\\fahad\\\\MegaSync\\\\NMBU\\\\Master Thesis\\\\Data\\\\Feb2021\\\\2020 Vollebekk Robot\\\\ROBOT_2020.xlsx']"
      ]
     },
     "execution_count": 33,
     "metadata": {},
     "output_type": "execute_result"
    }
   ],
   "source": [
    "# Files dropped in the initial stage\n",
    "list_multi_sheet"
   ]
  },
  {
   "cell_type": "markdown",
   "metadata": {},
   "source": [
    "### Identifying files without dates\n",
    "(with 2019 in name means they dont have date format)"
   ]
  },
  {
   "cell_type": "code",
   "execution_count": 34,
   "metadata": {
    "ExecuteTime": {
     "end_time": "2021-09-28T16:12:05.596111Z",
     "start_time": "2021-09-28T16:12:05.577161Z"
    },
    "run_control": {
     "marked": false
    }
   },
   "outputs": [
    {
     "name": "stdout",
     "output_type": "stream",
     "text": [
      "Staur_Graminor_2019_median 240719 070819 150819 210819 300819.xlsx in folder 2019 Staur Graminor\n",
      "Staur_Masbasis_2019 240719 070819 150819 300819.xlsx in folder 2019 Staur Masbasis\n",
      "Field_data_2019.xlsx in folder 2019 Vollebekk Masbasis\n",
      "Masbasis_2019_ForDP_median.xlsx in folder 2019 Vollebekk Masbasis\n",
      "NEW_Field_data_2019.xlsx in folder 2019 Vollebekk Masbasis\n",
      "2020TGraminor-Vollebekk-res.xlsx in folder 2020 Vollebekk Graminor\n"
     ]
    }
   ],
   "source": [
    "files_w_2019 = []\n",
    "for file in files_with_address:\n",
    "    if file not in list_multi_sheet:\n",
    "        file_name = os.path.basename(file)\n",
    "        if '2019' in file_name:\n",
    "            print(file_name, 'in folder', os.path.basename(os.path.dirname(file)))\n",
    "            files_w_2019.append(file)\n",
    "        if '2020' in file_name:\n",
    "            print(file_name, 'in folder', os.path.basename(os.path.dirname(file)))\n",
    "            files_w_2019.append(file)"
   ]
  },
  {
   "cell_type": "code",
   "execution_count": 35,
   "metadata": {
    "ExecuteTime": {
     "end_time": "2021-09-28T16:12:20.119151Z",
     "start_time": "2021-09-28T16:12:20.113737Z"
    }
   },
   "outputs": [
    {
     "data": {
      "text/plain": [
       "['C:\\\\\\\\Users\\\\\\\\fahad\\\\MegaSync\\\\NMBU\\\\Master Thesis\\\\Data\\\\Feb2021\\\\2019 Staur Graminor\\\\Staur_Graminor_2019_median 240719 070819 150819 210819 300819.xlsx',\n",
       " 'C:\\\\\\\\Users\\\\\\\\fahad\\\\MegaSync\\\\NMBU\\\\Master Thesis\\\\Data\\\\Feb2021\\\\2019 Staur Masbasis\\\\Staur_Masbasis_2019 240719 070819 150819 300819.xlsx',\n",
       " 'C:\\\\\\\\Users\\\\\\\\fahad\\\\MegaSync\\\\NMBU\\\\Master Thesis\\\\Data\\\\Feb2021\\\\2019 Vollebekk Masbasis\\\\Field_data_2019.xlsx',\n",
       " 'C:\\\\\\\\Users\\\\\\\\fahad\\\\MegaSync\\\\NMBU\\\\Master Thesis\\\\Data\\\\Feb2021\\\\2019 Vollebekk Masbasis\\\\Masbasis_2019_ForDP_median.xlsx',\n",
       " 'C:\\\\\\\\Users\\\\\\\\fahad\\\\MegaSync\\\\NMBU\\\\Master Thesis\\\\Data\\\\Feb2021\\\\2019 Vollebekk Masbasis\\\\NEW_Field_data_2019.xlsx',\n",
       " 'C:\\\\\\\\Users\\\\\\\\fahad\\\\MegaSync\\\\NMBU\\\\Master Thesis\\\\Data\\\\Feb2021\\\\2020 Vollebekk Graminor\\\\2020TGraminor-Vollebekk-res.xlsx']"
      ]
     },
     "execution_count": 35,
     "metadata": {},
     "output_type": "execute_result"
    }
   ],
   "source": [
    "files_w_2019"
   ]
  },
  {
   "cell_type": "code",
   "execution_count": 36,
   "metadata": {
    "ExecuteTime": {
     "end_time": "2021-09-28T16:12:24.566500Z",
     "start_time": "2021-09-28T16:12:24.559534Z"
    }
   },
   "outputs": [
    {
     "data": {
      "text/plain": [
       "63"
      ]
     },
     "execution_count": 36,
     "metadata": {},
     "output_type": "execute_result"
    }
   ],
   "source": [
    "len(all_df_std)"
   ]
  },
  {
   "cell_type": "markdown",
   "metadata": {},
   "source": [
    "### Importing all files & their sheets into pandas"
   ]
  },
  {
   "cell_type": "code",
   "execution_count": 37,
   "metadata": {
    "ExecuteTime": {
     "end_time": "2021-09-28T16:12:52.182715Z",
     "start_time": "2021-09-28T16:12:26.695616Z"
    },
    "scrolled": false
   },
   "outputs": [
    {
     "name": "stdout",
     "output_type": "stream",
     "text": [
      "2019_Staur_Masbasis_x_19BMLFN3___MASBASIS_yield_trial_Staur_2019_x_Data\n"
     ]
    },
    {
     "name": "stderr",
     "output_type": "stream",
     "text": [
      "C:\\ProgramData\\Anaconda3\\lib\\site-packages\\openpyxl\\worksheet\\header_footer.py:48: UserWarning: Cannot parse header or footer so it will be ignored\n",
      "  warn(\"\"\"Cannot parse header or footer so it will be ignored\"\"\")\n"
     ]
    },
    {
     "name": "stdout",
     "output_type": "stream",
     "text": [
      "2019_Staur_Masbasis_x_19BMLFN3___MASBASIS_yield_trial_Staur_2019_x_Field_map\n",
      "2019_Staur_Masbasis_x_19BMLFN3___MASBASIS_yield_trial_Staur_2019_x_lsmeans\n",
      "2019_Vollebekk_Graminor_x_19TvPhenores_x_Staur_kart\n",
      "2019_Vollebekk_Graminor_x_19TvPhenores_x_Staur_res\n",
      "2019_Vollebekk_Graminor_x_19TvPhenores_x_Vollebekk_kart\n",
      "2019_Vollebekk_Graminor_x_19TvPhenores_x_Vollebekk_res\n",
      "2019_Vollebekk_Graminor_x_Graminor_Staur_Vollebekk_2019_x_Staur_kart_new\n",
      "2019_Vollebekk_Graminor_x_Graminor_Staur_Vollebekk_2019_x_Staur_res_new\n",
      "2019_Vollebekk_Graminor_x_Graminor_Staur_Vollebekk_2019_x_Vollebekk_kart_new\n",
      "2019_Vollebekk_Graminor_x_Graminor_Staur_Vollebekk_2019_x_Vollebekk_res_new\n",
      "2019_Vollebekk_Masbasis_x_19BMLGI1___MASBASIS_yield_trial_Vollebekk_2019_x_data\n"
     ]
    },
    {
     "name": "stderr",
     "output_type": "stream",
     "text": [
      "C:\\ProgramData\\Anaconda3\\lib\\site-packages\\openpyxl\\worksheet\\header_footer.py:48: UserWarning: Cannot parse header or footer so it will be ignored\n",
      "  warn(\"\"\"Cannot parse header or footer so it will be ignored\"\"\")\n"
     ]
    },
    {
     "name": "stdout",
     "output_type": "stream",
     "text": [
      "2019_Vollebekk_Masbasis_x_19BMLGI1___MASBASIS_yield_trial_Vollebekk_2019_x_lsmeans\n",
      "2019_Vollebekk_Masbasis_x_19BMLGI1___MASBASIS_yield_trial_Vollebekk_2019_x_Sheet1\n",
      "2019_Vollebekk_Masbasis_x_19BMLGI1___MASBASIS_yield_trial_Vollebekk_2019_x_Sheet2\n",
      "2019_Vollebekk_Masbasis_x_Masbasis_vollebekk_trial_data_2020_x_data\n",
      "2019_Vollebekk_Masbasis_x_Masbasis_vollebekk_trial_data_2020_x_lsmeans\n",
      "2019_Vollebekk_Masbasis_x_Masbasis_vollebekk_trial_data_2020_x_lsmeans_lmer\n",
      "2020_Staur_Graminor_x_Staur_Graminor_Masbasis_2020_x_Map\n",
      "2020_Staur_Graminor_x_Staur_Graminor_Masbasis_2020_x_Res\n",
      "2020_Staur_Graminor_x_Staur_Graminor_Masbasis_2020_x_Sheet1\n",
      "2020_Staur_Masbasis_x_20BMLFN3___MASBASIS_avlingsforsøk_Staur_2020_lodging_data_x_Feltbok\n",
      "2020_Staur_Masbasis_x_20BMLFN3___MASBASIS_avlingsforsøk_Staur_2020_lodging_data_x_kart\n",
      "2020_Staur_Masbasis_x_Masbasis_2020_staur_x_Feltbok\n",
      "2020_Staur_Masbasis_x_Masbasis_2020_staur_x_kart\n",
      "2020_Staur_Masbasis_x_Staur_maturity_heading_yield_2020_x_Feltbok\n",
      "2020_Staur_Masbasis_x_Staur_maturity_heading_yield_2020_x_kart\n",
      "2020_Vollebekk_Masbasis_x_20BMLGI1_2020_tm_x_data\n",
      "2020_Vollebekk_Masbasis_x_20BMLGI1_2020_tm_x_lsmeans\n",
      "2020_Vollebekk_Masbasis_x_20BMLGI1_2020_tm_x_lsmeans_lmer\n",
      "2020_Vollebekk_Masbasis_x_Masbasis_Mica_2020_all_dates_MEDIAN_DP_x_Sheet1\n",
      "2020_Vollebekk_Masbasis_x_Masbasis_Mica_2020_all_dates_MEDIAN_DP_x_biomass\n",
      "2020_Vollebekk_Masbasis_x_Masbasis_Mica_2020_all_dates_MEDIAN_DP_x_Without_loadging\n",
      "2020_Vollebekk_Masbasis_x_Masbasis_vollebekk_trial_data_2020_x_data\n",
      "2020_Vollebekk_Masbasis_x_Masbasis_vollebekk_trial_data_2020_x_lsmeans\n",
      "2020_Vollebekk_Masbasis_x_Masbasis_vollebekk_trial_data_2020_x_lsmeans_lmer\n",
      "2020_Vollebekk_Robot_x_ROBOT_2020_x_raw\n",
      "2020_Vollebekk_Robot_x_ROBOT_2020_x_lsmeans_EntryRobot_x_Fert\n",
      "2020_Vollebekk_Robot_x_ROBOT_2020_x_layout\n",
      "2019_Staur_Graminor_x_Staur_Graminor_2019_median_240719_070819_150819_210819_300819\n",
      "2019_Staur_Masbasis_x_Staur_Masbasis_2019_240719_070819_150819_300819\n",
      "2019_Vollebekk_Masbasis_x_Field_data_2019\n",
      "2019_Vollebekk_Masbasis_x_Masbasis_2019_ForDP_median\n",
      "2019_Vollebekk_Masbasis_x_NEW_Field_data_2019\n",
      "2020_Vollebekk_Graminor_x_2020TGraminor_Vollebekk_res\n",
      "Wall time: 25.5 s\n"
     ]
    }
   ],
   "source": [
    "%%time\n",
    "\n",
    "df_yield = []\n",
    "\n",
    "# A reference dict to keep record of the names of files before they got renamed \n",
    "yield_import_to_from = {}\n",
    "\n",
    "for data in list_multi_sheet+files_w_2019:\n",
    "    file_name = os.path.splitext(os.path.basename(data))[0]\n",
    "    # Moving numbers to the end of the string/file_name\n",
    "    parent_dir = os.path.dirname(data).split('\\\\')[-1]\n",
    "    file_name = parent_dir+'_x_'+file_name\n",
    "        \n",
    "#     # Parent dir\n",
    "#     dir1_name = os.path.basename(os.path.dirname(data))\n",
    "#     # grand parent dir\n",
    "#     dir2_name = os.path.basename(os.path.dirname(os.path.dirname(data)))\n",
    "\n",
    "    # Replce all invalid characters in the name\n",
    "    file_name = file_name.replace(\"-\", \"_\")\n",
    "    file_name = file_name.replace(\" \", \"_\")\n",
    "    file_name = file_name.replace(\"(\", \"\")\n",
    "    file_name = file_name.replace(\")\", \"\")\n",
    "    file_name = file_name.replace(\".\", \"\")\n",
    "\n",
    "    xl_file = pd.ExcelFile(data,engine='openpyxl')\n",
    "    \n",
    "    for sheet in xl_file.sheet_names:\n",
    "        if len(xl_file.sheet_names)>1:\n",
    "            sheet_str = sheet\n",
    "            sheet_str = sheet_str.replace(\"-\", \"_\")\n",
    "            sheet_str = sheet_str.replace(\" \", \"_\")\n",
    "            sheet_str = sheet_str.replace(\"(\", \"\")\n",
    "            sheet_str = sheet_str.replace(\")\", \"\")\n",
    "            sheet_str = sheet_str.replace(\".\", \"\")\n",
    "\n",
    "            df_name = file_name+'_x_'+sheet_str\n",
    "            \n",
    "        else:\n",
    "            df_name = file_name\n",
    "\n",
    "        # Test: Check if the same date is already present in the current dict key\n",
    "        if df_name in df_yield:\n",
    "            print(f'A file with the same name {df_name} has already been imported. \\n Please check if there is duplication of data.')\n",
    "            raise NameError\n",
    "    \n",
    "        df_yield.append(df_name)\n",
    "        print(df_name)\n",
    "        # Adding new and old names+path to a dict for record\n",
    "        yield_import_to_from[df_name] = data\n",
    "        \n",
    "        locals()[df_name] = pd.read_excel(data, sheet_name=sheet, engine='openpyxl')\n"
   ]
  },
  {
   "cell_type": "markdown",
   "metadata": {},
   "source": [
    "## Identifying the sheets with yield data"
   ]
  },
  {
   "cell_type": "code",
   "execution_count": 39,
   "metadata": {
    "ExecuteTime": {
     "end_time": "2021-09-28T16:20:53.654869Z",
     "start_time": "2021-09-28T16:20:53.647881Z"
    },
    "scrolled": true
   },
   "outputs": [],
   "source": [
    "# # Listing datasets for reference\n",
    "# for df in all_df_std:\n",
    "#     print(df, locals()[df].shape, 'Min Plot_ID value:', locals()[df]['Plot_ID'].min(), 'Max Plot_ID value:', locals()[df]['Plot_ID'].max())"
   ]
  },
  {
   "cell_type": "markdown",
   "metadata": {},
   "source": [
    "Inspecting the datasets from Graminor, it can be noted that the plot id of all the plots of Graminor correspond to the range from 100 to 900, which are aparently all in Gramminor. Staur Plot IDs are 4 digit. So, we do not any bands data from Staur at this point."
   ]
  },
  {
   "cell_type": "code",
   "execution_count": 39,
   "metadata": {
    "ExecuteTime": {
     "end_time": "2021-09-28T11:03:55.812658Z",
     "start_time": "2021-09-28T11:03:55.800699Z"
    }
   },
   "outputs": [],
   "source": [
    "# Ask: Yield data not available"
   ]
  },
  {
   "cell_type": "markdown",
   "metadata": {},
   "source": [
    "### Graminor 2019 \n",
    "#### Vollebekk\n",
    "19TvPhenores"
   ]
  },
  {
   "cell_type": "code",
   "execution_count": 40,
   "metadata": {
    "ExecuteTime": {
     "end_time": "2021-09-28T16:21:04.627208Z",
     "start_time": "2021-09-28T16:21:04.609258Z"
    }
   },
   "outputs": [
    {
     "data": {
      "text/plain": [
       "['2019_Staur_Masbasis_x_19BMLFN3___MASBASIS_yield_trial_Staur_2019_x_Data',\n",
       " '2019_Staur_Masbasis_x_19BMLFN3___MASBASIS_yield_trial_Staur_2019_x_Field_map',\n",
       " '2019_Staur_Masbasis_x_19BMLFN3___MASBASIS_yield_trial_Staur_2019_x_lsmeans',\n",
       " '2019_Vollebekk_Graminor_x_19TvPhenores_x_Staur_kart',\n",
       " '2019_Vollebekk_Graminor_x_19TvPhenores_x_Staur_res',\n",
       " '2019_Vollebekk_Graminor_x_19TvPhenores_x_Vollebekk_kart',\n",
       " '2019_Vollebekk_Graminor_x_19TvPhenores_x_Vollebekk_res',\n",
       " '2019_Vollebekk_Graminor_x_Graminor_Staur_Vollebekk_2019_x_Staur_kart_new',\n",
       " '2019_Vollebekk_Graminor_x_Graminor_Staur_Vollebekk_2019_x_Staur_res_new',\n",
       " '2019_Vollebekk_Graminor_x_Graminor_Staur_Vollebekk_2019_x_Vollebekk_kart_new',\n",
       " '2019_Vollebekk_Graminor_x_Graminor_Staur_Vollebekk_2019_x_Vollebekk_res_new',\n",
       " '2019_Vollebekk_Masbasis_x_19BMLGI1___MASBASIS_yield_trial_Vollebekk_2019_x_data',\n",
       " '2019_Vollebekk_Masbasis_x_19BMLGI1___MASBASIS_yield_trial_Vollebekk_2019_x_lsmeans',\n",
       " '2019_Vollebekk_Masbasis_x_19BMLGI1___MASBASIS_yield_trial_Vollebekk_2019_x_Sheet1',\n",
       " '2019_Vollebekk_Masbasis_x_19BMLGI1___MASBASIS_yield_trial_Vollebekk_2019_x_Sheet2',\n",
       " '2019_Vollebekk_Masbasis_x_Masbasis_vollebekk_trial_data_2020_x_data',\n",
       " '2019_Vollebekk_Masbasis_x_Masbasis_vollebekk_trial_data_2020_x_lsmeans',\n",
       " '2019_Vollebekk_Masbasis_x_Masbasis_vollebekk_trial_data_2020_x_lsmeans_lmer',\n",
       " '2020_Staur_Graminor_x_Staur_Graminor_Masbasis_2020_x_Map',\n",
       " '2020_Staur_Graminor_x_Staur_Graminor_Masbasis_2020_x_Res',\n",
       " '2020_Staur_Graminor_x_Staur_Graminor_Masbasis_2020_x_Sheet1',\n",
       " '2020_Staur_Masbasis_x_20BMLFN3___MASBASIS_avlingsforsøk_Staur_2020_lodging_data_x_Feltbok',\n",
       " '2020_Staur_Masbasis_x_20BMLFN3___MASBASIS_avlingsforsøk_Staur_2020_lodging_data_x_kart',\n",
       " '2020_Staur_Masbasis_x_Masbasis_2020_staur_x_Feltbok',\n",
       " '2020_Staur_Masbasis_x_Masbasis_2020_staur_x_kart',\n",
       " '2020_Staur_Masbasis_x_Staur_maturity_heading_yield_2020_x_Feltbok',\n",
       " '2020_Staur_Masbasis_x_Staur_maturity_heading_yield_2020_x_kart',\n",
       " '2020_Vollebekk_Masbasis_x_20BMLGI1_2020_tm_x_data',\n",
       " '2020_Vollebekk_Masbasis_x_20BMLGI1_2020_tm_x_lsmeans',\n",
       " '2020_Vollebekk_Masbasis_x_20BMLGI1_2020_tm_x_lsmeans_lmer',\n",
       " '2020_Vollebekk_Masbasis_x_Masbasis_Mica_2020_all_dates_MEDIAN_DP_x_Sheet1',\n",
       " '2020_Vollebekk_Masbasis_x_Masbasis_Mica_2020_all_dates_MEDIAN_DP_x_biomass',\n",
       " '2020_Vollebekk_Masbasis_x_Masbasis_Mica_2020_all_dates_MEDIAN_DP_x_Without_loadging',\n",
       " '2020_Vollebekk_Masbasis_x_Masbasis_vollebekk_trial_data_2020_x_data',\n",
       " '2020_Vollebekk_Masbasis_x_Masbasis_vollebekk_trial_data_2020_x_lsmeans',\n",
       " '2020_Vollebekk_Masbasis_x_Masbasis_vollebekk_trial_data_2020_x_lsmeans_lmer',\n",
       " '2020_Vollebekk_Robot_x_ROBOT_2020_x_raw',\n",
       " '2020_Vollebekk_Robot_x_ROBOT_2020_x_lsmeans_EntryRobot_x_Fert',\n",
       " '2020_Vollebekk_Robot_x_ROBOT_2020_x_layout',\n",
       " '2019_Staur_Graminor_x_Staur_Graminor_2019_median_240719_070819_150819_210819_300819',\n",
       " '2019_Staur_Masbasis_x_Staur_Masbasis_2019_240719_070819_150819_300819',\n",
       " '2019_Vollebekk_Masbasis_x_Field_data_2019',\n",
       " '2019_Vollebekk_Masbasis_x_Masbasis_2019_ForDP_median',\n",
       " '2019_Vollebekk_Masbasis_x_NEW_Field_data_2019',\n",
       " '2020_Vollebekk_Graminor_x_2020TGraminor_Vollebekk_res']"
      ]
     },
     "execution_count": 40,
     "metadata": {},
     "output_type": "execute_result"
    }
   ],
   "source": [
    "df_yield"
   ]
  },
  {
   "cell_type": "code",
   "execution_count": null,
   "metadata": {},
   "outputs": [],
   "source": []
  },
  {
   "cell_type": "code",
   "execution_count": 40,
   "metadata": {
    "ExecuteTime": {
     "end_time": "2021-09-28T11:03:55.828616Z",
     "start_time": "2021-09-28T11:03:55.814653Z"
    }
   },
   "outputs": [],
   "source": [
    "# # Checking if the sheets from the file '19TvPhenores' and '19TvPhenores_pedigree' are the same\n",
    "\n",
    "# # Graminor_2019_x_19TvPhenores vs Staur_2019_x_19TvPhenores\n",
    "# # Staur Check\n",
    "# print(Graminor_2019_x_19TvPhenores_x_Staur_res.equals(Staur_2019_x_19TvPhenores_pedigree_x_Staur_res))\n",
    "# # Reverse check\n",
    "# print(Staur_2019_x_19TvPhenores_pedigree_x_Staur_res.equals(Graminor_2019_x_19TvPhenores_x_Staur_res))\n",
    "# # Vollebekk check\n",
    "# print(Graminor_2019_x_19TvPhenores_x_Vollebekk_res.equals(Staur_2019_x_19TvPhenores_pedigree_x_Vollebekk_res))\n",
    "# # Reverse check\n",
    "# print(Staur_2019_x_19TvPhenores_pedigree_x_Vollebekk_res.equals(Graminor_2019_x_19TvPhenores_x_Vollebekk_res))\n",
    "\n",
    "# # Graminor_2019_x_19TvPhenores vs Staur_2019_x_19TvPhenores_pedigree\n",
    "# # Staur Check\n",
    "# print(Graminor_2019_x_19TvPhenores_x_Staur_res.equals(Staur_2019_x_19TvPhenores_pedigree_x_Staur_res))\n",
    "# # Reverse check\n",
    "# print(Staur_2019_x_19TvPhenores_pedigree_x_Staur_res.equals(Graminor_2019_x_19TvPhenores_x_Staur_res))\n",
    "# # Vollebekk check\n",
    "# print(Graminor_2019_x_19TvPhenores_x_Vollebekk_res.equals(Staur_2019_x_19TvPhenores_pedigree_x_Vollebekk_res))\n",
    "# # Reverse check\n",
    "# print(Staur_2019_x_19TvPhenores_pedigree_x_Vollebekk_res.equals(Graminor_2019_x_19TvPhenores_x_Vollebekk_res))\n",
    "\n",
    "# # Staur_2019_x_19TvPhenores vs Staur_2019_x_19TvPhenores_pedigree\n",
    "# # Staur Check\n",
    "# print(Staur_2019_x_19TvPhenores_x_Vollebekk_res.equals(Staur_2019_x_19TvPhenores_pedigree_x_Vollebekk_res))\n",
    "# # Reverse check\n",
    "# print(Staur_2019_x_19TvPhenores_pedigree_x_Vollebekk_res.equals(Staur_2019_x_19TvPhenores_x_Vollebekk_res))\n",
    "# # Vollebekk check\n",
    "# print(Staur_2019_x_19TvPhenores_x_Staur_res.equals(Staur_2019_x_19TvPhenores_pedigree_x_Staur_res))\n",
    "# # Reverse check\n",
    "# print(Staur_2019_x_19TvPhenores_pedigree_x_Staur_res.equals(Staur_2019_x_19TvPhenores_x_Staur_res))"
   ]
  },
  {
   "cell_type": "markdown",
   "metadata": {},
   "source": [
    "Turns out that the file '19TvPhenores' in Graminor_2019 and in Staur_2019, and 19TvPhenores_pedigree file in Staur_2019 have the same sheets regarding grain yield data. So we will use the '19TvPhenores' in Graminor_2019 directory."
   ]
  },
  {
   "cell_type": "markdown",
   "metadata": {},
   "source": [
    "19TvPhenores_pedigree and 19TvPhenores files in Staur 2019 have been removed.\n"
   ]
  },
  {
   "cell_type": "markdown",
   "metadata": {},
   "source": [
    "##### Graminor_2019_x_Graminor_Staur_Vollebekk_2019 vs Graminor_2019_x_19TvPhenores  \n"
   ]
  },
  {
   "cell_type": "code",
   "execution_count": 41,
   "metadata": {
    "ExecuteTime": {
     "end_time": "2021-09-28T11:03:55.844573Z",
     "start_time": "2021-09-28T11:03:55.830610Z"
    }
   },
   "outputs": [
    {
     "name": "stdout",
     "output_type": "stream",
     "text": [
      "False\n",
      "False\n",
      "True\n",
      "True\n"
     ]
    }
   ],
   "source": [
    "# # Graminor_2019_x_Graminor_Staur_Vollebekk_2019 vs Graminor_2019_x_19TvPhenores\n",
    "\n",
    "# Staur res Check\n",
    "print(Graminor_2019_x_19TvPhenores_x_Staur_res.equals(Graminor_2019_x_Graminor_Staur_Vollebekk_2019_x_Staur_res_new))\n",
    "# Reverse check\n",
    "print(Graminor_2019_x_Graminor_Staur_Vollebekk_2019_x_Staur_res_new.equals(Graminor_2019_x_19TvPhenores_x_Staur_res))\n",
    "# Vollebekk res check\n",
    "print(Graminor_2019_x_19TvPhenores_x_Vollebekk_res.equals(Graminor_2019_x_Graminor_Staur_Vollebekk_2019_x_Vollebekk_res_new))\n",
    "# Reverse check\n",
    "print(Graminor_2019_x_Graminor_Staur_Vollebekk_2019_x_Vollebekk_res_new.equals(Graminor_2019_x_19TvPhenores_x_Vollebekk_res))\n"
   ]
  },
  {
   "cell_type": "markdown",
   "metadata": {},
   "source": [
    "KART are same in both files. Graminor res has been corrected and found to be same.  \n",
    "Graminor_2019_x_Graminor_Staur_Vollebekk_2019 has more rows in res sheet for staur\n",
    "\n",
    "ToDo: Staur: The data for Staur is totally different in both files. Even the plant varieties planted in each subplot are also different. Check"
   ]
  },
  {
   "cell_type": "code",
   "execution_count": 70,
   "metadata": {
    "ExecuteTime": {
     "end_time": "2021-09-28T11:38:48.130858Z",
     "start_time": "2021-09-28T11:38:48.117261Z"
    }
   },
   "outputs": [],
   "source": [
    "# Removing the files that have been inspected\n",
    "\n",
    "inspected_df_graminor19 = ['Graminor_2019_x_19TvPhenores_x_Staur_kart',\n",
    " 'Graminor_2019_x_19TvPhenores_x_Vollebekk_kart',\n",
    " 'Graminor_2019_x_19TvPhenores_x_Vollebekk_res',\n",
    " 'Graminor_2019_x_Graminor_Staur_Vollebekk_2019_x_Staur_kart_new',\n",
    " 'Graminor_2019_x_Graminor_Staur_Vollebekk_2019_x_Vollebekk_kart_new',\n",
    " 'Graminor_2019_x_Graminor_Staur_Vollebekk_2019_x_Vollebekk_res_new']\n",
    "\n",
    "df_yield = [x for x in df_yield if x not in inspected_df_graminor19]\n",
    "df_yield"
   ]
  },
  {
   "cell_type": "markdown",
   "metadata": {},
   "source": [
    "#### Staur"
   ]
  },
  {
   "cell_type": "markdown",
   "metadata": {},
   "source": [
    "### Graminor 2020"
   ]
  },
  {
   "cell_type": "markdown",
   "metadata": {},
   "source": [
    "#### Vollebekk"
   ]
  },
  {
   "cell_type": "code",
   "execution_count": null,
   "metadata": {},
   "outputs": [],
   "source": []
  },
  {
   "cell_type": "code",
   "execution_count": 54,
   "metadata": {
    "ExecuteTime": {
     "end_time": "2021-09-28T11:33:50.202259Z",
     "start_time": "2021-09-28T11:33:50.185739Z"
    }
   },
   "outputs": [
    {
     "data": {
      "text/plain": [
       "['Graminor_2019_x_19TvPhenores_x_Staur_res',\n",
       " 'Graminor_2019_x_Graminor_Staur_Vollebekk_2019_x_Staur_res_new',\n",
       " 'Masbasis_2019_x_19BMLGI1___MASBASIS_yield_trial_Vollebekk_2019_x_data',\n",
       " 'Masbasis_2019_x_19BMLGI1___MASBASIS_yield_trial_Vollebekk_2019_x_lsmeans',\n",
       " 'Masbasis_2019_x_19BMLGI1___MASBASIS_yield_trial_Vollebekk_2019_x_Sheet1',\n",
       " 'Masbasis_2019_x_19BMLGI1___MASBASIS_yield_trial_Vollebekk_2019_x_Sheet2',\n",
       " 'Staur_Masbasis_x_19BMLFN3___MASBASIS_yield_trial_Staur_2019_x_Data',\n",
       " 'Staur_Masbasis_x_19BMLFN3___MASBASIS_yield_trial_Staur_2019_x_Field_map',\n",
       " 'Staur_Masbasis_x_19BMLFN3___MASBASIS_yield_trial_Staur_2019_x_lsmeans',\n",
       " 'Masbasis_x_20BMLGI1_2020_tm_x_data',\n",
       " 'Masbasis_x_20BMLGI1_2020_tm_x_lsmeans',\n",
       " 'Masbasis_x_20BMLGI1_2020_tm_x_lsmeans_lmer',\n",
       " 'Masbasis_x_Masbasis_Mica_2020_all_dates_MEDIAN_DP_x_Sheet1',\n",
       " 'Masbasis_x_Masbasis_Mica_2020_all_dates_MEDIAN_DP_x_biomass',\n",
       " 'Masbasis_x_Masbasis_Mica_2020_all_dates_MEDIAN_DP_x_Without_loadging',\n",
       " 'Robot_x_ROBOT_2020_x_raw',\n",
       " 'Robot_x_ROBOT_2020_x_lsmeans_EntryRobot_x_Fert',\n",
       " 'Robot_x_ROBOT_2020_x_layout',\n",
       " 'Masbasis_2019_x_Field_data_2019',\n",
       " 'Masbasis_2019_x_Masbasis_2019_ForDP_median',\n",
       " 'Masbasis_2019_x_NEW_Field_data_2019',\n",
       " 'Staur_2019_x_Staur_Graminor_2019_median_240719_070819_150819_210819_300819',\n",
       " 'Staur_Masbasis_x_Staur_Masbasis_2019_240719_070819_150819_300819',\n",
       " 'Graminor_x_2020TGraminor_Vollebekk_res']"
      ]
     },
     "execution_count": 54,
     "metadata": {},
     "output_type": "execute_result"
    }
   ],
   "source": [
    "df_yield"
   ]
  },
  {
   "cell_type": "code",
   "execution_count": 44,
   "metadata": {
    "ExecuteTime": {
     "end_time": "2021-09-28T10:41:31.850874Z",
     "start_time": "2021-09-28T10:41:31.830241Z"
    }
   },
   "outputs": [
    {
     "data": {
      "text/html": [
       "<div>\n",
       "<style scoped>\n",
       "    .dataframe tbody tr th:only-of-type {\n",
       "        vertical-align: middle;\n",
       "    }\n",
       "\n",
       "    .dataframe tbody tr th {\n",
       "        vertical-align: top;\n",
       "    }\n",
       "\n",
       "    .dataframe thead th {\n",
       "        text-align: right;\n",
       "    }\n",
       "</style>\n",
       "<table border=\"1\" class=\"dataframe\">\n",
       "  <thead>\n",
       "    <tr style=\"text-align: right;\">\n",
       "      <th></th>\n",
       "      <th>20T1A</th>\n",
       "      <th>Unnamed: 1</th>\n",
       "      <th>Unnamed: 2</th>\n",
       "      <th>Unnamed: 3</th>\n",
       "      <th>Unnamed: 4</th>\n",
       "      <th>Unnamed: 5</th>\n",
       "      <th>Unnamed: 6</th>\n",
       "      <th>Unnamed: 7</th>\n",
       "      <th>Unnamed: 8</th>\n",
       "      <th>Unnamed: 9</th>\n",
       "      <th>%</th>\n",
       "      <th>Avl.</th>\n",
       "      <th>Hl.-</th>\n",
       "      <th>%.1</th>\n",
       "    </tr>\n",
       "  </thead>\n",
       "  <tbody>\n",
       "    <tr>\n",
       "      <th>0</th>\n",
       "      <td>r_expt</td>\n",
       "      <td>r_location</td>\n",
       "      <td>loccode</td>\n",
       "      <td>plot</td>\n",
       "      <td>bloc</td>\n",
       "      <td>ibloc</td>\n",
       "      <td>entry</td>\n",
       "      <td>NaN</td>\n",
       "      <td>name</td>\n",
       "      <td>pedigree</td>\n",
       "      <td>Vann</td>\n",
       "      <td>kg/daa</td>\n",
       "      <td>vekt</td>\n",
       "      <td>Prot</td>\n",
       "    </tr>\n",
       "    <tr>\n",
       "      <th>1</th>\n",
       "      <td>20T1A_4</td>\n",
       "      <td>Vollebekk</td>\n",
       "      <td>04</td>\n",
       "      <td>101</td>\n",
       "      <td>1</td>\n",
       "      <td>1</td>\n",
       "      <td>1</td>\n",
       "      <td>NaN</td>\n",
       "      <td>Zebra</td>\n",
       "      <td>Ralle/Dragon</td>\n",
       "      <td>15.9281</td>\n",
       "      <td>654.708</td>\n",
       "      <td>78.8</td>\n",
       "      <td>11.5</td>\n",
       "    </tr>\n",
       "    <tr>\n",
       "      <th>2</th>\n",
       "      <td>20T1A_4</td>\n",
       "      <td>Vollebekk</td>\n",
       "      <td>04</td>\n",
       "      <td>102</td>\n",
       "      <td>1</td>\n",
       "      <td>1</td>\n",
       "      <td>19</td>\n",
       "      <td>NaN</td>\n",
       "      <td>GN18666</td>\n",
       "      <td>GN04528/GN03509</td>\n",
       "      <td>15.7755</td>\n",
       "      <td>709.595</td>\n",
       "      <td>78.3</td>\n",
       "      <td>10.7</td>\n",
       "    </tr>\n",
       "    <tr>\n",
       "      <th>3</th>\n",
       "      <td>20T1A_4</td>\n",
       "      <td>Vollebekk</td>\n",
       "      <td>04</td>\n",
       "      <td>103</td>\n",
       "      <td>1</td>\n",
       "      <td>1</td>\n",
       "      <td>11</td>\n",
       "      <td>NaN</td>\n",
       "      <td>GN15590</td>\n",
       "      <td>Demonstrant/SW51114</td>\n",
       "      <td>16.2226</td>\n",
       "      <td>707.101</td>\n",
       "      <td>80.1</td>\n",
       "      <td>10.6</td>\n",
       "    </tr>\n",
       "    <tr>\n",
       "      <th>4</th>\n",
       "      <td>20T1A_4</td>\n",
       "      <td>Vollebekk</td>\n",
       "      <td>04</td>\n",
       "      <td>104</td>\n",
       "      <td>1</td>\n",
       "      <td>1</td>\n",
       "      <td>5</td>\n",
       "      <td>NaN</td>\n",
       "      <td>Mirakel</td>\n",
       "      <td>SW38337/NK98533//NK98535</td>\n",
       "      <td>15.3251</td>\n",
       "      <td>724.959</td>\n",
       "      <td>78.1</td>\n",
       "      <td>10.8</td>\n",
       "    </tr>\n",
       "    <tr>\n",
       "      <th>...</th>\n",
       "      <td>...</td>\n",
       "      <td>...</td>\n",
       "      <td>...</td>\n",
       "      <td>...</td>\n",
       "      <td>...</td>\n",
       "      <td>...</td>\n",
       "      <td>...</td>\n",
       "      <td>...</td>\n",
       "      <td>...</td>\n",
       "      <td>...</td>\n",
       "      <td>...</td>\n",
       "      <td>...</td>\n",
       "      <td>...</td>\n",
       "      <td>...</td>\n",
       "    </tr>\n",
       "    <tr>\n",
       "      <th>796</th>\n",
       "      <td>20T16B4</td>\n",
       "      <td>Vollebekk</td>\n",
       "      <td>04</td>\n",
       "      <td>896</td>\n",
       "      <td>2</td>\n",
       "      <td>10</td>\n",
       "      <td>23</td>\n",
       "      <td>NaN</td>\n",
       "      <td>GN20696</td>\n",
       "      <td>Saar/2*Avle</td>\n",
       "      <td>17.0125</td>\n",
       "      <td>663.9</td>\n",
       "      <td>NaN</td>\n",
       "      <td>NaN</td>\n",
       "    </tr>\n",
       "    <tr>\n",
       "      <th>797</th>\n",
       "      <td>20T16B4</td>\n",
       "      <td>Vollebekk</td>\n",
       "      <td>04</td>\n",
       "      <td>897</td>\n",
       "      <td>2</td>\n",
       "      <td>10</td>\n",
       "      <td>20</td>\n",
       "      <td>NaN</td>\n",
       "      <td>GN20693</td>\n",
       "      <td>ONPMSYDER 5/GN08588</td>\n",
       "      <td>17.8175</td>\n",
       "      <td>722.332</td>\n",
       "      <td>NaN</td>\n",
       "      <td>NaN</td>\n",
       "    </tr>\n",
       "    <tr>\n",
       "      <th>798</th>\n",
       "      <td>20T16B4</td>\n",
       "      <td>Vollebekk</td>\n",
       "      <td>04</td>\n",
       "      <td>898</td>\n",
       "      <td>2</td>\n",
       "      <td>10</td>\n",
       "      <td>6</td>\n",
       "      <td>NaN</td>\n",
       "      <td>GN20679</td>\n",
       "      <td>SW71139/GN06600</td>\n",
       "      <td>18.1271</td>\n",
       "      <td>782.997</td>\n",
       "      <td>NaN</td>\n",
       "      <td>NaN</td>\n",
       "    </tr>\n",
       "    <tr>\n",
       "      <th>799</th>\n",
       "      <td>20T16B4</td>\n",
       "      <td>Vollebekk</td>\n",
       "      <td>04</td>\n",
       "      <td>899</td>\n",
       "      <td>2</td>\n",
       "      <td>10</td>\n",
       "      <td>9</td>\n",
       "      <td>NaN</td>\n",
       "      <td>GN20682</td>\n",
       "      <td>GN07574/SW71139</td>\n",
       "      <td>17.6732</td>\n",
       "      <td>712.353</td>\n",
       "      <td>NaN</td>\n",
       "      <td>NaN</td>\n",
       "    </tr>\n",
       "    <tr>\n",
       "      <th>800</th>\n",
       "      <td>20T16B4</td>\n",
       "      <td>Vollebekk</td>\n",
       "      <td>04</td>\n",
       "      <td>900</td>\n",
       "      <td>2</td>\n",
       "      <td>10</td>\n",
       "      <td>13</td>\n",
       "      <td>NaN</td>\n",
       "      <td>GN20686</td>\n",
       "      <td>GN05567/SW71139</td>\n",
       "      <td>17.9673</td>\n",
       "      <td>757.129</td>\n",
       "      <td>NaN</td>\n",
       "      <td>NaN</td>\n",
       "    </tr>\n",
       "  </tbody>\n",
       "</table>\n",
       "<p>801 rows × 14 columns</p>\n",
       "</div>"
      ],
      "text/plain": [
       "       20T1A  Unnamed: 1 Unnamed: 2 Unnamed: 3 Unnamed: 4 Unnamed: 5  \\\n",
       "0     r_expt  r_location    loccode       plot       bloc      ibloc   \n",
       "1    20T1A_4   Vollebekk         04        101          1          1   \n",
       "2    20T1A_4   Vollebekk         04        102          1          1   \n",
       "3    20T1A_4   Vollebekk         04        103          1          1   \n",
       "4    20T1A_4   Vollebekk         04        104          1          1   \n",
       "..       ...         ...        ...        ...        ...        ...   \n",
       "796  20T16B4   Vollebekk         04        896          2         10   \n",
       "797  20T16B4   Vollebekk         04        897          2         10   \n",
       "798  20T16B4   Vollebekk         04        898          2         10   \n",
       "799  20T16B4   Vollebekk         04        899          2         10   \n",
       "800  20T16B4   Vollebekk         04        900          2         10   \n",
       "\n",
       "    Unnamed: 6  Unnamed: 7 Unnamed: 8                Unnamed: 9        %  \\\n",
       "0        entry         NaN       name                  pedigree     Vann   \n",
       "1            1         NaN      Zebra              Ralle/Dragon  15.9281   \n",
       "2           19         NaN    GN18666           GN04528/GN03509  15.7755   \n",
       "3           11         NaN    GN15590       Demonstrant/SW51114  16.2226   \n",
       "4            5         NaN    Mirakel  SW38337/NK98533//NK98535  15.3251   \n",
       "..         ...         ...        ...                       ...      ...   \n",
       "796         23         NaN    GN20696               Saar/2*Avle  17.0125   \n",
       "797         20         NaN    GN20693       ONPMSYDER 5/GN08588  17.8175   \n",
       "798          6         NaN    GN20679           SW71139/GN06600  18.1271   \n",
       "799          9         NaN    GN20682           GN07574/SW71139  17.6732   \n",
       "800         13         NaN    GN20686           GN05567/SW71139  17.9673   \n",
       "\n",
       "        Avl.  Hl.-   %.1  \n",
       "0     kg/daa  vekt  Prot  \n",
       "1    654.708  78.8  11.5  \n",
       "2    709.595  78.3  10.7  \n",
       "3    707.101  80.1  10.6  \n",
       "4    724.959  78.1  10.8  \n",
       "..       ...   ...   ...  \n",
       "796    663.9   NaN   NaN  \n",
       "797  722.332   NaN   NaN  \n",
       "798  782.997   NaN   NaN  \n",
       "799  712.353   NaN   NaN  \n",
       "800  757.129   NaN   NaN  \n",
       "\n",
       "[801 rows x 14 columns]"
      ]
     },
     "execution_count": 44,
     "metadata": {},
     "output_type": "execute_result"
    }
   ],
   "source": [
    "Graminor_x_2020TGraminor_Vollebekk_res"
   ]
  },
  {
   "cell_type": "code",
   "execution_count": 71,
   "metadata": {
    "ExecuteTime": {
     "end_time": "2021-09-28T11:39:03.098299Z",
     "start_time": "2021-09-28T11:39:03.090279Z"
    }
   },
   "outputs": [
    {
     "data": {
      "text/plain": [
       "['Graminor_2019_x_19TvPhenores_x_Staur_res',\n",
       " 'Graminor_2019_x_Graminor_Staur_Vollebekk_2019_x_Staur_res_new',\n",
       " 'Masbasis_2019_x_19BMLGI1___MASBASIS_yield_trial_Vollebekk_2019_x_data',\n",
       " 'Masbasis_2019_x_19BMLGI1___MASBASIS_yield_trial_Vollebekk_2019_x_lsmeans',\n",
       " 'Masbasis_2019_x_19BMLGI1___MASBASIS_yield_trial_Vollebekk_2019_x_Sheet1',\n",
       " 'Masbasis_2019_x_19BMLGI1___MASBASIS_yield_trial_Vollebekk_2019_x_Sheet2',\n",
       " 'Staur_Masbasis_x_19BMLFN3___MASBASIS_yield_trial_Staur_2019_x_Data',\n",
       " 'Staur_Masbasis_x_19BMLFN3___MASBASIS_yield_trial_Staur_2019_x_Field_map',\n",
       " 'Staur_Masbasis_x_19BMLFN3___MASBASIS_yield_trial_Staur_2019_x_lsmeans',\n",
       " 'Masbasis_x_20BMLGI1_2020_tm_x_data',\n",
       " 'Masbasis_x_20BMLGI1_2020_tm_x_lsmeans',\n",
       " 'Masbasis_x_20BMLGI1_2020_tm_x_lsmeans_lmer',\n",
       " 'Masbasis_x_Masbasis_Mica_2020_all_dates_MEDIAN_DP_x_Sheet1',\n",
       " 'Masbasis_x_Masbasis_Mica_2020_all_dates_MEDIAN_DP_x_biomass',\n",
       " 'Masbasis_x_Masbasis_Mica_2020_all_dates_MEDIAN_DP_x_Without_loadging',\n",
       " 'Robot_x_ROBOT_2020_x_raw',\n",
       " 'Robot_x_ROBOT_2020_x_lsmeans_EntryRobot_x_Fert',\n",
       " 'Robot_x_ROBOT_2020_x_layout',\n",
       " 'Masbasis_2019_x_Field_data_2019',\n",
       " 'Masbasis_2019_x_Masbasis_2019_ForDP_median',\n",
       " 'Masbasis_2019_x_NEW_Field_data_2019',\n",
       " 'Staur_2019_x_Staur_Graminor_2019_median_240719_070819_150819_210819_300819',\n",
       " 'Staur_Masbasis_x_Staur_Masbasis_2019_240719_070819_150819_300819']"
      ]
     },
     "execution_count": 71,
     "metadata": {},
     "output_type": "execute_result"
    }
   ],
   "source": [
    "# Removing the files that have been inspected\n",
    "\n",
    "inspected_df_graminor20 = ['Graminor_x_2020TGraminor_Vollebekk_res']\n",
    "\n",
    "df_yield = [x for x in df_yield if x not in inspected_df_graminor20]\n",
    "df_yield"
   ]
  },
  {
   "cell_type": "code",
   "execution_count": null,
   "metadata": {},
   "outputs": [],
   "source": []
  },
  {
   "cell_type": "markdown",
   "metadata": {},
   "source": [
    "Yield data is not available"
   ]
  },
  {
   "cell_type": "markdown",
   "metadata": {},
   "source": [
    "#### Staur"
   ]
  },
  {
   "cell_type": "markdown",
   "metadata": {},
   "source": [
    "### Masbasis 2019"
   ]
  },
  {
   "cell_type": "markdown",
   "metadata": {},
   "source": [
    "#### Vollebekk"
   ]
  },
  {
   "cell_type": "code",
   "execution_count": 55,
   "metadata": {
    "ExecuteTime": {
     "end_time": "2021-09-28T11:34:06.868723Z",
     "start_time": "2021-09-28T11:34:06.860746Z"
    }
   },
   "outputs": [
    {
     "name": "stdout",
     "output_type": "stream",
     "text": [
      "True\n",
      "True\n"
     ]
    }
   ],
   "source": [
    "print(Masbasis_2019_x_Field_data_2019['GrainYield'].equals(Masbasis_2019_x_NEW_Field_data_2019['GrainYield']))\n",
    "# Reverse check\n",
    "print(Masbasis_2019_x_NEW_Field_data_2019['GrainYield'].equals(Masbasis_2019_x_Field_data_2019['GrainYield']))"
   ]
  },
  {
   "cell_type": "markdown",
   "metadata": {},
   "source": [
    "Masbasis_2019_x_Field_data_2019 and Masbasis_2019_x_NEW_Field_data_2019 have same grain yield data."
   ]
  },
  {
   "cell_type": "markdown",
   "metadata": {},
   "source": [
    "For Masbasis_2019_x_Masbasis_2019_ForDP_median, the difference is extremely small. So we will use Masbasis_2019_x_Field_data_2019."
   ]
  },
  {
   "cell_type": "code",
   "execution_count": 56,
   "metadata": {
    "ExecuteTime": {
     "end_time": "2021-09-28T11:34:08.706559Z",
     "start_time": "2021-09-28T11:34:08.690463Z"
    }
   },
   "outputs": [
    {
     "data": {
      "text/html": [
       "<div>\n",
       "<style scoped>\n",
       "    .dataframe tbody tr th:only-of-type {\n",
       "        vertical-align: middle;\n",
       "    }\n",
       "\n",
       "    .dataframe tbody tr th {\n",
       "        vertical-align: top;\n",
       "    }\n",
       "\n",
       "    .dataframe thead th {\n",
       "        text-align: right;\n",
       "    }\n",
       "</style>\n",
       "<table border=\"1\" class=\"dataframe\">\n",
       "  <thead>\n",
       "    <tr style=\"text-align: right;\">\n",
       "      <th></th>\n",
       "      <th>self</th>\n",
       "      <th>other</th>\n",
       "    </tr>\n",
       "  </thead>\n",
       "  <tbody>\n",
       "    <tr>\n",
       "      <th>10</th>\n",
       "      <td>486.66666666666657</td>\n",
       "      <td>486.66666666666663</td>\n",
       "    </tr>\n",
       "    <tr>\n",
       "      <th>14</th>\n",
       "      <td>414.66666666666657</td>\n",
       "      <td>414.66666666666663</td>\n",
       "    </tr>\n",
       "    <tr>\n",
       "      <th>15</th>\n",
       "      <td>480.00000000000011</td>\n",
       "      <td>480.00000000000006</td>\n",
       "    </tr>\n",
       "    <tr>\n",
       "      <th>25</th>\n",
       "      <td>497.33333333333343</td>\n",
       "      <td>497.33333333333337</td>\n",
       "    </tr>\n",
       "    <tr>\n",
       "      <th>31</th>\n",
       "      <td>457.33333333333343</td>\n",
       "      <td>457.33333333333337</td>\n",
       "    </tr>\n",
       "  </tbody>\n",
       "</table>\n",
       "</div>"
      ],
      "text/plain": [
       "                  self               other\n",
       "10  486.66666666666657  486.66666666666663\n",
       "14  414.66666666666657  414.66666666666663\n",
       "15  480.00000000000011  480.00000000000006\n",
       "25  497.33333333333343  497.33333333333337\n",
       "31  457.33333333333343  457.33333333333337"
      ]
     },
     "execution_count": 56,
     "metadata": {},
     "output_type": "execute_result"
    }
   ],
   "source": [
    "Masbasis_2019_x_Masbasis_2019_ForDP_median['GrainYield']==(Masbasis_2019_x_NEW_Field_data_2019['GrainYield'])\n",
    "pd.set_option(\"display.precision\", 14)\n",
    "comparision = Masbasis_2019_x_Masbasis_2019_ForDP_median['GrainYield'].compare(Masbasis_2019_x_NEW_Field_data_2019['GrainYield'])\n",
    "# comparision.iloc[:,0:1].sub(comparision.iloc[:,1:2])\n",
    "comparision.head()"
   ]
  },
  {
   "cell_type": "code",
   "execution_count": 72,
   "metadata": {
    "ExecuteTime": {
     "end_time": "2021-09-28T11:40:02.175183Z",
     "start_time": "2021-09-28T11:40:02.162713Z"
    }
   },
   "outputs": [
    {
     "data": {
      "text/plain": [
       "['Graminor_2019_x_19TvPhenores_x_Staur_res',\n",
       " 'Graminor_2019_x_Graminor_Staur_Vollebekk_2019_x_Staur_res_new',\n",
       " 'Masbasis_2019_x_19BMLGI1___MASBASIS_yield_trial_Vollebekk_2019_x_data',\n",
       " 'Masbasis_2019_x_19BMLGI1___MASBASIS_yield_trial_Vollebekk_2019_x_lsmeans',\n",
       " 'Masbasis_2019_x_19BMLGI1___MASBASIS_yield_trial_Vollebekk_2019_x_Sheet1',\n",
       " 'Masbasis_2019_x_19BMLGI1___MASBASIS_yield_trial_Vollebekk_2019_x_Sheet2',\n",
       " 'Staur_Masbasis_x_19BMLFN3___MASBASIS_yield_trial_Staur_2019_x_Data',\n",
       " 'Staur_Masbasis_x_19BMLFN3___MASBASIS_yield_trial_Staur_2019_x_Field_map',\n",
       " 'Staur_Masbasis_x_19BMLFN3___MASBASIS_yield_trial_Staur_2019_x_lsmeans',\n",
       " 'Masbasis_x_20BMLGI1_2020_tm_x_data',\n",
       " 'Masbasis_x_20BMLGI1_2020_tm_x_lsmeans',\n",
       " 'Masbasis_x_20BMLGI1_2020_tm_x_lsmeans_lmer',\n",
       " 'Masbasis_x_Masbasis_Mica_2020_all_dates_MEDIAN_DP_x_Sheet1',\n",
       " 'Masbasis_x_Masbasis_Mica_2020_all_dates_MEDIAN_DP_x_biomass',\n",
       " 'Masbasis_x_Masbasis_Mica_2020_all_dates_MEDIAN_DP_x_Without_loadging',\n",
       " 'Robot_x_ROBOT_2020_x_raw',\n",
       " 'Robot_x_ROBOT_2020_x_lsmeans_EntryRobot_x_Fert',\n",
       " 'Robot_x_ROBOT_2020_x_layout',\n",
       " 'Masbasis_2019_x_Field_data_2019',\n",
       " 'Masbasis_2019_x_Masbasis_2019_ForDP_median',\n",
       " 'Masbasis_2019_x_NEW_Field_data_2019',\n",
       " 'Staur_2019_x_Staur_Graminor_2019_median_240719_070819_150819_210819_300819',\n",
       " 'Staur_Masbasis_x_Staur_Masbasis_2019_240719_070819_150819_300819']"
      ]
     },
     "execution_count": 72,
     "metadata": {},
     "output_type": "execute_result"
    }
   ],
   "source": [
    "df_yield"
   ]
  },
  {
   "cell_type": "code",
   "execution_count": 74,
   "metadata": {
    "ExecuteTime": {
     "end_time": "2021-09-28T11:40:30.389864Z",
     "start_time": "2021-09-28T11:40:30.360922Z"
    }
   },
   "outputs": [
    {
     "data": {
      "text/html": [
       "<div>\n",
       "<style scoped>\n",
       "    .dataframe tbody tr th:only-of-type {\n",
       "        vertical-align: middle;\n",
       "    }\n",
       "\n",
       "    .dataframe tbody tr th {\n",
       "        vertical-align: top;\n",
       "    }\n",
       "\n",
       "    .dataframe thead th {\n",
       "        text-align: right;\n",
       "    }\n",
       "</style>\n",
       "<table border=\"1\" class=\"dataframe\">\n",
       "  <thead>\n",
       "    <tr style=\"text-align: right;\">\n",
       "      <th></th>\n",
       "      <th>Line</th>\n",
       "      <th>MASBASIS 2015</th>\n",
       "      <th>Name</th>\n",
       "      <th>DH</th>\n",
       "      <th>StdErr</th>\n",
       "      <th>DM</th>\n",
       "      <th>StdErr.1</th>\n",
       "      <th>PH</th>\n",
       "      <th>StdErr.2</th>\n",
       "      <th>GrainYield</th>\n",
       "      <th>StdErr.3</th>\n",
       "      <th>Protein</th>\n",
       "      <th>StdErr.4</th>\n",
       "      <th>TW</th>\n",
       "      <th>StdErr.5</th>\n",
       "      <th>TKW</th>\n",
       "      <th>StdErr.6</th>\n",
       "    </tr>\n",
       "  </thead>\n",
       "  <tbody>\n",
       "    <tr>\n",
       "      <th>0</th>\n",
       "      <td>5</td>\n",
       "      <td>1003</td>\n",
       "      <td>Bastian</td>\n",
       "      <td>65.57490000000000</td>\n",
       "      <td>0.3821</td>\n",
       "      <td>107.41000000000000</td>\n",
       "      <td>0.4893</td>\n",
       "      <td>91.45200000000000</td>\n",
       "      <td>1.9445</td>\n",
       "      <td>558.12000000000000</td>\n",
       "      <td>15.5952</td>\n",
       "      <td>10.9795</td>\n",
       "      <td>0.2265</td>\n",
       "      <td>79.61369999999999</td>\n",
       "      <td>0.3552</td>\n",
       "      <td>34.3422</td>\n",
       "      <td>0.8559</td>\n",
       "    </tr>\n",
       "    <tr>\n",
       "      <th>1</th>\n",
       "      <td>3</td>\n",
       "      <td>1005</td>\n",
       "      <td>Bjarne</td>\n",
       "      <td>67.44350000000000</td>\n",
       "      <td>0.3850</td>\n",
       "      <td>109.19000000000000</td>\n",
       "      <td>0.4848</td>\n",
       "      <td>81.92659999999999</td>\n",
       "      <td>1.9396</td>\n",
       "      <td>614.54999999999995</td>\n",
       "      <td>15.4297</td>\n",
       "      <td>10.6130</td>\n",
       "      <td>0.2274</td>\n",
       "      <td>79.32129999999999</td>\n",
       "      <td>0.3563</td>\n",
       "      <td>36.0514</td>\n",
       "      <td>0.8509</td>\n",
       "    </tr>\n",
       "    <tr>\n",
       "      <th>2</th>\n",
       "      <td>1</td>\n",
       "      <td>1006</td>\n",
       "      <td>Tjalve</td>\n",
       "      <td>68.51360000000000</td>\n",
       "      <td>0.3821</td>\n",
       "      <td>108.19000000000000</td>\n",
       "      <td>0.4892</td>\n",
       "      <td>95.49379999999999</td>\n",
       "      <td>1.9445</td>\n",
       "      <td>551.54999999999995</td>\n",
       "      <td>15.5794</td>\n",
       "      <td>11.1814</td>\n",
       "      <td>0.2264</td>\n",
       "      <td>77.44390000000000</td>\n",
       "      <td>0.3551</td>\n",
       "      <td>35.6983</td>\n",
       "      <td>0.8559</td>\n",
       "    </tr>\n",
       "    <tr>\n",
       "      <th>3</th>\n",
       "      <td>2</td>\n",
       "      <td>1009</td>\n",
       "      <td>Avle</td>\n",
       "      <td>67.68290000000000</td>\n",
       "      <td>0.3811</td>\n",
       "      <td>107.80000000000000</td>\n",
       "      <td>0.4895</td>\n",
       "      <td>91.29640000000001</td>\n",
       "      <td>1.9446</td>\n",
       "      <td>570.34000000000003</td>\n",
       "      <td>15.5899</td>\n",
       "      <td>10.7511</td>\n",
       "      <td>0.2261</td>\n",
       "      <td>77.81290000000000</td>\n",
       "      <td>0.3545</td>\n",
       "      <td>33.2953</td>\n",
       "      <td>0.8560</td>\n",
       "    </tr>\n",
       "    <tr>\n",
       "      <th>4</th>\n",
       "      <td>4</td>\n",
       "      <td>1011</td>\n",
       "      <td>Zebra</td>\n",
       "      <td>66.88580000000000</td>\n",
       "      <td>0.3828</td>\n",
       "      <td>109.11000000000000</td>\n",
       "      <td>0.4888</td>\n",
       "      <td>109.20999999999999</td>\n",
       "      <td>1.9445</td>\n",
       "      <td>635.24000000000001</td>\n",
       "      <td>15.5656</td>\n",
       "      <td>10.5530</td>\n",
       "      <td>0.2274</td>\n",
       "      <td>79.73540000000000</td>\n",
       "      <td>0.3564</td>\n",
       "      <td>41.8470</td>\n",
       "      <td>0.8557</td>\n",
       "    </tr>\n",
       "    <tr>\n",
       "      <th>...</th>\n",
       "      <td>...</td>\n",
       "      <td>...</td>\n",
       "      <td>...</td>\n",
       "      <td>...</td>\n",
       "      <td>...</td>\n",
       "      <td>...</td>\n",
       "      <td>...</td>\n",
       "      <td>...</td>\n",
       "      <td>...</td>\n",
       "      <td>...</td>\n",
       "      <td>...</td>\n",
       "      <td>...</td>\n",
       "      <td>...</td>\n",
       "      <td>...</td>\n",
       "      <td>...</td>\n",
       "      <td>...</td>\n",
       "      <td>...</td>\n",
       "    </tr>\n",
       "    <tr>\n",
       "      <th>296</th>\n",
       "      <td>1632</td>\n",
       "      <td>1632</td>\n",
       "      <td>TRAP#1/BOW//TAIGU DERIVATIVE</td>\n",
       "      <td>69.58580000000001</td>\n",
       "      <td>0.3811</td>\n",
       "      <td>109.04000000000001</td>\n",
       "      <td>0.4759</td>\n",
       "      <td>88.23210000000000</td>\n",
       "      <td>1.9328</td>\n",
       "      <td>411.54000000000002</td>\n",
       "      <td>15.1224</td>\n",
       "      <td>12.5090</td>\n",
       "      <td>0.2252</td>\n",
       "      <td>78.46030000000000</td>\n",
       "      <td>0.3525</td>\n",
       "      <td>38.5857</td>\n",
       "      <td>0.8425</td>\n",
       "    </tr>\n",
       "    <tr>\n",
       "      <th>297</th>\n",
       "      <td>1633</td>\n",
       "      <td>1633</td>\n",
       "      <td>IVAN/6/SABUF/5/BCN/4/RABI//GS/CRA/3/AE.SQUARRO...</td>\n",
       "      <td>74.25690000000000</td>\n",
       "      <td>0.5300</td>\n",
       "      <td>110.83000000000000</td>\n",
       "      <td>0.6617</td>\n",
       "      <td>88.23410000000000</td>\n",
       "      <td>2.6665</td>\n",
       "      <td>439.41000000000003</td>\n",
       "      <td>21.1052</td>\n",
       "      <td>11.5865</td>\n",
       "      <td>0.2778</td>\n",
       "      <td>80.82259999999999</td>\n",
       "      <td>0.4884</td>\n",
       "      <td>39.8087</td>\n",
       "      <td>1.1717</td>\n",
       "    </tr>\n",
       "    <tr>\n",
       "      <th>298</th>\n",
       "      <td>1634</td>\n",
       "      <td>1634</td>\n",
       "      <td>GAMENYA</td>\n",
       "      <td>66.14480000000000</td>\n",
       "      <td>0.5304</td>\n",
       "      <td>108.02000000000000</td>\n",
       "      <td>0.6624</td>\n",
       "      <td>101.18000000000001</td>\n",
       "      <td>2.6666</td>\n",
       "      <td>432.63000000000000</td>\n",
       "      <td>21.7812</td>\n",
       "      <td>10.6785</td>\n",
       "      <td>0.2782</td>\n",
       "      <td>73.93400000000000</td>\n",
       "      <td>0.4889</td>\n",
       "      <td>38.2115</td>\n",
       "      <td>1.1720</td>\n",
       "    </tr>\n",
       "    <tr>\n",
       "      <th>299</th>\n",
       "      <td>1635</td>\n",
       "      <td>1635</td>\n",
       "      <td>WHEAR/2*KRONSTAD F2004</td>\n",
       "      <td>69.72929999999999</td>\n",
       "      <td>0.5285</td>\n",
       "      <td>112.31000000000000</td>\n",
       "      <td>0.6627</td>\n",
       "      <td>99.68370000000000</td>\n",
       "      <td>2.6666</td>\n",
       "      <td>524.11000000000001</td>\n",
       "      <td>21.1400</td>\n",
       "      <td>10.4479</td>\n",
       "      <td>0.2773</td>\n",
       "      <td>79.87050000000001</td>\n",
       "      <td>0.4877</td>\n",
       "      <td>37.1370</td>\n",
       "      <td>1.1722</td>\n",
       "    </tr>\n",
       "    <tr>\n",
       "      <th>300</th>\n",
       "      <td>1636</td>\n",
       "      <td>1636</td>\n",
       "      <td>T.DICOCCON PI94625/AE.SQUARROSA (372)//TUI/CLM...</td>\n",
       "      <td>72.24410000000000</td>\n",
       "      <td>0.5327</td>\n",
       "      <td>113.20000000000000</td>\n",
       "      <td>0.6624</td>\n",
       "      <td>88.58240000000001</td>\n",
       "      <td>2.6666</td>\n",
       "      <td>458.91000000000003</td>\n",
       "      <td>21.1335</td>\n",
       "      <td>11.4852</td>\n",
       "      <td>0.2791</td>\n",
       "      <td>82.91260000000000</td>\n",
       "      <td>0.4902</td>\n",
       "      <td>34.8575</td>\n",
       "      <td>1.1720</td>\n",
       "    </tr>\n",
       "  </tbody>\n",
       "</table>\n",
       "<p>301 rows × 17 columns</p>\n",
       "</div>"
      ],
      "text/plain": [
       "     Line  MASBASIS 2015                                               Name  \\\n",
       "0       5           1003                                            Bastian   \n",
       "1       3           1005                                             Bjarne   \n",
       "2       1           1006                                             Tjalve   \n",
       "3       2           1009                                               Avle   \n",
       "4       4           1011                                              Zebra   \n",
       "..    ...            ...                                                ...   \n",
       "296  1632           1632                       TRAP#1/BOW//TAIGU DERIVATIVE   \n",
       "297  1633           1633  IVAN/6/SABUF/5/BCN/4/RABI//GS/CRA/3/AE.SQUARRO...   \n",
       "298  1634           1634                                            GAMENYA   \n",
       "299  1635           1635                             WHEAR/2*KRONSTAD F2004   \n",
       "300  1636           1636  T.DICOCCON PI94625/AE.SQUARROSA (372)//TUI/CLM...   \n",
       "\n",
       "                    DH  StdErr                  DM  StdErr.1  \\\n",
       "0    65.57490000000000  0.3821  107.41000000000000    0.4893   \n",
       "1    67.44350000000000  0.3850  109.19000000000000    0.4848   \n",
       "2    68.51360000000000  0.3821  108.19000000000000    0.4892   \n",
       "3    67.68290000000000  0.3811  107.80000000000000    0.4895   \n",
       "4    66.88580000000000  0.3828  109.11000000000000    0.4888   \n",
       "..                 ...     ...                 ...       ...   \n",
       "296  69.58580000000001  0.3811  109.04000000000001    0.4759   \n",
       "297  74.25690000000000  0.5300  110.83000000000000    0.6617   \n",
       "298  66.14480000000000  0.5304  108.02000000000000    0.6624   \n",
       "299  69.72929999999999  0.5285  112.31000000000000    0.6627   \n",
       "300  72.24410000000000  0.5327  113.20000000000000    0.6624   \n",
       "\n",
       "                     PH  StdErr.2          GrainYield  StdErr.3  Protein  \\\n",
       "0     91.45200000000000    1.9445  558.12000000000000   15.5952  10.9795   \n",
       "1     81.92659999999999    1.9396  614.54999999999995   15.4297  10.6130   \n",
       "2     95.49379999999999    1.9445  551.54999999999995   15.5794  11.1814   \n",
       "3     91.29640000000001    1.9446  570.34000000000003   15.5899  10.7511   \n",
       "4    109.20999999999999    1.9445  635.24000000000001   15.5656  10.5530   \n",
       "..                  ...       ...                 ...       ...      ...   \n",
       "296   88.23210000000000    1.9328  411.54000000000002   15.1224  12.5090   \n",
       "297   88.23410000000000    2.6665  439.41000000000003   21.1052  11.5865   \n",
       "298  101.18000000000001    2.6666  432.63000000000000   21.7812  10.6785   \n",
       "299   99.68370000000000    2.6666  524.11000000000001   21.1400  10.4479   \n",
       "300   88.58240000000001    2.6666  458.91000000000003   21.1335  11.4852   \n",
       "\n",
       "     StdErr.4                 TW  StdErr.5      TKW  StdErr.6  \n",
       "0      0.2265  79.61369999999999    0.3552  34.3422    0.8559  \n",
       "1      0.2274  79.32129999999999    0.3563  36.0514    0.8509  \n",
       "2      0.2264  77.44390000000000    0.3551  35.6983    0.8559  \n",
       "3      0.2261  77.81290000000000    0.3545  33.2953    0.8560  \n",
       "4      0.2274  79.73540000000000    0.3564  41.8470    0.8557  \n",
       "..        ...                ...       ...      ...       ...  \n",
       "296    0.2252  78.46030000000000    0.3525  38.5857    0.8425  \n",
       "297    0.2778  80.82259999999999    0.4884  39.8087    1.1717  \n",
       "298    0.2782  73.93400000000000    0.4889  38.2115    1.1720  \n",
       "299    0.2773  79.87050000000001    0.4877  37.1370    1.1722  \n",
       "300    0.2791  82.91260000000000    0.4902  34.8575    1.1720  \n",
       "\n",
       "[301 rows x 17 columns]"
      ]
     },
     "execution_count": 74,
     "metadata": {},
     "output_type": "execute_result"
    }
   ],
   "source": [
    "Masbasis_2019_x_19BMLGI1___MASBASIS_yield_trial_Vollebekk_2019_x_lsmeans"
   ]
  },
  {
   "cell_type": "code",
   "execution_count": null,
   "metadata": {},
   "outputs": [],
   "source": [
    "# Removing the files that have been inspected\n",
    "\n",
    "inspected_df_mas19 = ['Graminor_x_2020TGraminor_Vollebekk_res']\n",
    "\n",
    "df_yield = [x for x in df_yield if x not in inspected_df_graminor20]\n",
    "df_yield"
   ]
  },
  {
   "cell_type": "markdown",
   "metadata": {},
   "source": [
    "#### Staur"
   ]
  },
  {
   "cell_type": "markdown",
   "metadata": {},
   "source": [
    "### Masbasis 2020"
   ]
  },
  {
   "cell_type": "markdown",
   "metadata": {},
   "source": [
    "#### Vollebekk"
   ]
  },
  {
   "cell_type": "code",
   "execution_count": 57,
   "metadata": {
    "ExecuteTime": {
     "end_time": "2021-09-28T11:34:16.016804Z",
     "start_time": "2021-09-28T11:34:15.999708Z"
    }
   },
   "outputs": [
    {
     "data": {
      "text/plain": [
       "4      713.33333333333337\n",
       "5      677.33333333333337\n",
       "6      361.33333333333331\n",
       "7      697.33333333333337\n",
       "8      664.00000000000000\n",
       "              ...        \n",
       "679    646.66666666666663\n",
       "680    478.66666666666669\n",
       "681    732.00000000000000\n",
       "682    600.00000000000000\n",
       "683    714.66666666666663\n",
       "Name: GrainYield, Length: 571, dtype: float64"
      ]
     },
     "execution_count": 57,
     "metadata": {},
     "output_type": "execute_result"
    }
   ],
   "source": [
    "Masbasis_x_20BMLGI1_2020_tm_x_data['GrainYield'].dropna()"
   ]
  },
  {
   "cell_type": "code",
   "execution_count": 58,
   "metadata": {
    "ExecuteTime": {
     "end_time": "2021-09-28T11:34:16.048827Z",
     "start_time": "2021-09-28T11:34:16.043840Z"
    }
   },
   "outputs": [
    {
     "data": {
      "text/plain": [
       "0      692.64982695641095\n",
       "1      677.86196971022900\n",
       "2      662.28221171870598\n",
       "3      667.96322901550400\n",
       "4      654.33320147100403\n",
       "              ...        \n",
       "283    517.81248520565703\n",
       "284    593.26000855945904\n",
       "285    499.96906032742100\n",
       "286    539.15045569047300\n",
       "287    535.09866305721403\n",
       "Name: GrainYield, Length: 288, dtype: float64"
      ]
     },
     "execution_count": 58,
     "metadata": {},
     "output_type": "execute_result"
    }
   ],
   "source": [
    "Masbasis_x_20BMLGI1_2020_tm_x_lsmeans_lmer['GrainYield']"
   ]
  },
  {
   "cell_type": "markdown",
   "metadata": {},
   "source": [
    "Analysing the grain yields in thee above sheets for Masbasis 2020, 'Masbasis_x_20BMLGI1_2020_tm_x_data' seems to have more data than the other one. Also, the second sheet seems to have the yields for different varieties, not for individual subplots. If a varaiety is sown in two subplots, the secondd file only has one entry for that variety. So, it is decided to use 'Masbasis_x_20BMLGI1_2020_tm_x_data' tto get the grain yield datata."
   ]
  },
  {
   "cell_type": "markdown",
   "metadata": {},
   "source": [
    "#### Staur"
   ]
  },
  {
   "cell_type": "markdown",
   "metadata": {},
   "source": [
    "### Robot 2020"
   ]
  },
  {
   "cell_type": "code",
   "execution_count": 59,
   "metadata": {
    "ExecuteTime": {
     "end_time": "2021-09-28T11:34:16.931993Z",
     "start_time": "2021-09-28T11:34:16.921001Z"
    }
   },
   "outputs": [
    {
     "data": {
      "text/plain": [
       "(48, 15)"
      ]
     },
     "execution_count": 59,
     "metadata": {},
     "output_type": "execute_result"
    }
   ],
   "source": [
    "Robot_x_ROBOT_2020_x_lsmeans_EntryRobot_x_Fert.shape"
   ]
  },
  {
   "cell_type": "code",
   "execution_count": 60,
   "metadata": {
    "ExecuteTime": {
     "end_time": "2021-09-28T11:34:19.888510Z",
     "start_time": "2021-09-28T11:34:19.876558Z"
    }
   },
   "outputs": [
    {
     "data": {
      "text/plain": [
       "(96, 29)"
      ]
     },
     "execution_count": 60,
     "metadata": {},
     "output_type": "execute_result"
    }
   ],
   "source": [
    "Robot_x_ROBOT_2020_x_raw.shape"
   ]
  },
  {
   "cell_type": "markdown",
   "metadata": {},
   "source": [
    "'Robot_x_ROBOT_2020_x_raw' has more data points, and all of them correspond to the number of subplots on the Robot field of 2020. So this is the one used for grain yield data."
   ]
  },
  {
   "cell_type": "markdown",
   "metadata": {},
   "source": [
    "Following datasets have grain yield data  \n",
    "\n",
    "Staur 2019: Graminor_2019_x_19TvPhenores_x_Staur_res  \n",
    "Vollebekk 2019: Graminor_2019_x_19TvPhenores_x_Vollebekk_res  \n",
    "Masbasis 2020: Masbasis_x_20BMLGI1_2020_tm_x_data  \n",
    "Robot 2020: Robot_x_ROBOT_2020_x_raw  \n",
    "Masbasis 2019: Masbasis_2019_x_Field_data_2019  "
   ]
  },
  {
   "cell_type": "code",
   "execution_count": null,
   "metadata": {
    "ExecuteTime": {
     "end_time": "2021-09-28T09:42:59.952435Z",
     "start_time": "2021-09-28T09:42:51.855Z"
    }
   },
   "outputs": [],
   "source": [
    "# Yield data is required for the following fields/years\n",
    "sorted_field_year_dict.keys()"
   ]
  },
  {
   "cell_type": "markdown",
   "metadata": {},
   "source": [
    "### Masbasis 2021"
   ]
  },
  {
   "cell_type": "markdown",
   "metadata": {},
   "source": [
    "#### Vollebekk"
   ]
  },
  {
   "cell_type": "code",
   "execution_count": null,
   "metadata": {},
   "outputs": [],
   "source": []
  },
  {
   "cell_type": "markdown",
   "metadata": {},
   "source": [
    "#### Staur"
   ]
  },
  {
   "cell_type": "code",
   "execution_count": null,
   "metadata": {},
   "outputs": [],
   "source": []
  },
  {
   "cell_type": "markdown",
   "metadata": {},
   "source": [
    "## ToDo: Automate: Exporting the path of datasets with yield data"
   ]
  },
  {
   "cell_type": "code",
   "execution_count": null,
   "metadata": {
    "ExecuteTime": {
     "end_time": "2021-09-28T09:42:59.955332Z",
     "start_time": "2021-09-28T09:42:52.166Z"
    }
   },
   "outputs": [],
   "source": [
    "yield_df = {\n",
    "    'Staur 2019': 'Graminor_2019_x_19TvPhenores_x_Staur_res',\n",
    "    'Graminor 2019': 'Graminor_2019_x_19TvPhenores_x_Vollebekk_res',\n",
    "    'Masbasis 2020': 'Masbasis_x_20BMLGI1_2020_tm_x_data',\n",
    "    'Robot 2020': 'Robot_x_ROBOT_2020_x_raw',\n",
    "    'Masbasis 2019': 'Masbasis_2019_x_Field_data_2019'\n",
    "}\n",
    "# yield_import_to_from\n",
    "yield_df_path = {}\n",
    "for field, df in yield_df.items():\n",
    "    shrinked_path = yield_import_to_from[df].split(username)[1]\n",
    "    yield_df_path[field] = [df, shrinked_path]\n",
    "pprint(yield_df_path)"
   ]
  },
  {
   "cell_type": "code",
   "execution_count": null,
   "metadata": {
    "ExecuteTime": {
     "end_time": "2021-09-28T09:42:59.958376Z",
     "start_time": "2021-09-28T09:42:52.170Z"
    }
   },
   "outputs": [],
   "source": [
    "# Make sure the folder/dir is there. If not, create one\n",
    "os.makedirs(path, exist_ok=True)\n",
    "import json\n",
    "a_file = open(path+'yield_df.json', \"w\")\n",
    "json.dump(yield_df_path, a_file)\n",
    "a_file.close()\n",
    "\n",
    "# a_file = open(\"Data\\std_columns.json\", \"r\")\n",
    "# output = a_file.read()\n",
    "# a_file.close()\n",
    "# print(output)"
   ]
  },
  {
   "cell_type": "markdown",
   "metadata": {},
   "source": [
    "## Adding yield data to all datasets"
   ]
  },
  {
   "cell_type": "code",
   "execution_count": 61,
   "metadata": {
    "ExecuteTime": {
     "end_time": "2021-09-28T11:34:38.565372Z",
     "start_time": "2021-09-28T11:34:38.562278Z"
    }
   },
   "outputs": [],
   "source": [
    "# Defining expty list to collect names of the final df with yields\n",
    "df_w_yields = []"
   ]
  },
  {
   "cell_type": "markdown",
   "metadata": {},
   "source": [
    "### Graminor 2019"
   ]
  },
  {
   "cell_type": "code",
   "execution_count": 66,
   "metadata": {
    "ExecuteTime": {
     "end_time": "2021-09-28T11:34:52.015303Z",
     "start_time": "2021-09-28T11:34:52.011314Z"
    }
   },
   "outputs": [],
   "source": [
    "# Graminor_2019_x_19TvPhenores_x_Vollebekk_res.head()"
   ]
  },
  {
   "cell_type": "code",
   "execution_count": 63,
   "metadata": {
    "ExecuteTime": {
     "end_time": "2021-09-28T11:34:39.195512Z",
     "start_time": "2021-09-28T11:34:39.183552Z"
    }
   },
   "outputs": [],
   "source": [
    "# Dropping first row/ unnamed column headings and replacing them with the second row.\n",
    "Graminor_2019_x_19TvPhenores_x_Vollebekk_res_temp = Graminor_2019_x_19TvPhenores_x_Vollebekk_res.copy()\n",
    "Graminor_2019_x_19TvPhenores_x_Vollebekk_res_temp.columns = Graminor_2019_x_19TvPhenores_x_Vollebekk_res.iloc[0]\n",
    "Graminor_2019_x_19TvPhenores_x_Vollebekk_res_new = Graminor_2019_x_19TvPhenores_x_Vollebekk_res_temp[1:]\n",
    "# Graminor_2019_x_19TvPhenores_x_Vollebekk_res_new.head()"
   ]
  },
  {
   "cell_type": "code",
   "execution_count": 64,
   "metadata": {
    "ExecuteTime": {
     "end_time": "2021-09-28T11:34:39.865487Z",
     "start_time": "2021-09-28T11:34:39.828469Z"
    }
   },
   "outputs": [
    {
     "data": {
      "text/html": [
       "<div>\n",
       "<style scoped>\n",
       "    .dataframe tbody tr th:only-of-type {\n",
       "        vertical-align: middle;\n",
       "    }\n",
       "\n",
       "    .dataframe tbody tr th {\n",
       "        vertical-align: top;\n",
       "    }\n",
       "\n",
       "    .dataframe thead th {\n",
       "        text-align: right;\n",
       "    }\n",
       "</style>\n",
       "<table border=\"1\" class=\"dataframe\">\n",
       "  <thead>\n",
       "    <tr style=\"text-align: right;\">\n",
       "      <th></th>\n",
       "      <th>r_expt</th>\n",
       "      <th>r_location</th>\n",
       "      <th>plot</th>\n",
       "      <th>bloc</th>\n",
       "      <th>ibloc</th>\n",
       "      <th>entry</th>\n",
       "      <th>NaN</th>\n",
       "      <th>name</th>\n",
       "      <th>pedigree</th>\n",
       "      <th>Legde</th>\n",
       "      <th>høyde</th>\n",
       "      <th>Juli</th>\n",
       "      <th>Aug.</th>\n",
       "      <th>kg/daa</th>\n",
       "    </tr>\n",
       "  </thead>\n",
       "  <tbody>\n",
       "    <tr>\n",
       "      <th>1</th>\n",
       "      <td>19T1A 4</td>\n",
       "      <td>Vollebekk</td>\n",
       "      <td>101</td>\n",
       "      <td>1</td>\n",
       "      <td>1</td>\n",
       "      <td>1</td>\n",
       "      <td>NaN</td>\n",
       "      <td>Zebra</td>\n",
       "      <td>Ralle/Dragon</td>\n",
       "      <td>NaN</td>\n",
       "      <td>107.5</td>\n",
       "      <td>0</td>\n",
       "      <td>9</td>\n",
       "      <td>499.6244402277</td>\n",
       "    </tr>\n",
       "    <tr>\n",
       "      <th>2</th>\n",
       "      <td>19T1A 4</td>\n",
       "      <td>Vollebekk</td>\n",
       "      <td>102</td>\n",
       "      <td>1</td>\n",
       "      <td>1</td>\n",
       "      <td>11</td>\n",
       "      <td>NaN</td>\n",
       "      <td>GN14547</td>\n",
       "      <td>SW45126/NK01533</td>\n",
       "      <td>NaN</td>\n",
       "      <td>88.5</td>\n",
       "      <td>0</td>\n",
       "      <td>8</td>\n",
       "      <td>515.53275142315</td>\n",
       "    </tr>\n",
       "    <tr>\n",
       "      <th>3</th>\n",
       "      <td>19T1A 4</td>\n",
       "      <td>Vollebekk</td>\n",
       "      <td>103</td>\n",
       "      <td>1</td>\n",
       "      <td>1</td>\n",
       "      <td>13</td>\n",
       "      <td>NaN</td>\n",
       "      <td>Tarrafal</td>\n",
       "      <td>NaN</td>\n",
       "      <td>NaN</td>\n",
       "      <td>87</td>\n",
       "      <td>0</td>\n",
       "      <td>10</td>\n",
       "      <td>529.50102466793</td>\n",
       "    </tr>\n",
       "    <tr>\n",
       "      <th>4</th>\n",
       "      <td>19T1A 4</td>\n",
       "      <td>Vollebekk</td>\n",
       "      <td>104</td>\n",
       "      <td>1</td>\n",
       "      <td>1</td>\n",
       "      <td>14</td>\n",
       "      <td>NaN</td>\n",
       "      <td>GN12760</td>\n",
       "      <td>NK02529/NK01533//NK01568</td>\n",
       "      <td>NaN</td>\n",
       "      <td>95</td>\n",
       "      <td>0</td>\n",
       "      <td>7</td>\n",
       "      <td>544.50398481973</td>\n",
       "    </tr>\n",
       "    <tr>\n",
       "      <th>5</th>\n",
       "      <td>19T1A 4</td>\n",
       "      <td>Vollebekk</td>\n",
       "      <td>105</td>\n",
       "      <td>1</td>\n",
       "      <td>1</td>\n",
       "      <td>4</td>\n",
       "      <td>NaN</td>\n",
       "      <td>Bjarne</td>\n",
       "      <td>SvB87293/Bastian</td>\n",
       "      <td>NaN</td>\n",
       "      <td>79.5</td>\n",
       "      <td>-1</td>\n",
       "      <td>8</td>\n",
       "      <td>529.50102466793</td>\n",
       "    </tr>\n",
       "    <tr>\n",
       "      <th>...</th>\n",
       "      <td>...</td>\n",
       "      <td>...</td>\n",
       "      <td>...</td>\n",
       "      <td>...</td>\n",
       "      <td>...</td>\n",
       "      <td>...</td>\n",
       "      <td>...</td>\n",
       "      <td>...</td>\n",
       "      <td>...</td>\n",
       "      <td>...</td>\n",
       "      <td>...</td>\n",
       "      <td>...</td>\n",
       "      <td>...</td>\n",
       "      <td>...</td>\n",
       "    </tr>\n",
       "    <tr>\n",
       "      <th>596</th>\n",
       "      <td>19T15B</td>\n",
       "      <td>Vollebekk</td>\n",
       "      <td>871</td>\n",
       "      <td>4</td>\n",
       "      <td>20</td>\n",
       "      <td>10</td>\n",
       "      <td>NaN</td>\n",
       "      <td>GN19588</td>\n",
       "      <td>QUARNA/BAJASS-5//Berserk 4</td>\n",
       "      <td>NaN</td>\n",
       "      <td>78.5</td>\n",
       "      <td>1</td>\n",
       "      <td>10</td>\n",
       "      <td>542.82079696395</td>\n",
       "    </tr>\n",
       "    <tr>\n",
       "      <th>597</th>\n",
       "      <td>19T15B</td>\n",
       "      <td>Vollebekk</td>\n",
       "      <td>872</td>\n",
       "      <td>4</td>\n",
       "      <td>20</td>\n",
       "      <td>24</td>\n",
       "      <td>NaN</td>\n",
       "      <td>GN19602</td>\n",
       "      <td>QUARNA/NK01513//Berserk</td>\n",
       "      <td>NaN</td>\n",
       "      <td>88</td>\n",
       "      <td>5</td>\n",
       "      <td>11</td>\n",
       "      <td>469.68227703985</td>\n",
       "    </tr>\n",
       "    <tr>\n",
       "      <th>598</th>\n",
       "      <td>19T15B</td>\n",
       "      <td>Vollebekk</td>\n",
       "      <td>873</td>\n",
       "      <td>4</td>\n",
       "      <td>20</td>\n",
       "      <td>9</td>\n",
       "      <td>NaN</td>\n",
       "      <td>GN19587</td>\n",
       "      <td>QUARNA/BAJASS-5//Berserk 4</td>\n",
       "      <td>NaN</td>\n",
       "      <td>79</td>\n",
       "      <td>0</td>\n",
       "      <td>10</td>\n",
       "      <td>594.68265654649</td>\n",
       "    </tr>\n",
       "    <tr>\n",
       "      <th>599</th>\n",
       "      <td>19T15B</td>\n",
       "      <td>Vollebekk</td>\n",
       "      <td>874</td>\n",
       "      <td>4</td>\n",
       "      <td>20</td>\n",
       "      <td>21</td>\n",
       "      <td>NaN</td>\n",
       "      <td>GN19599</td>\n",
       "      <td>Bombona/NK01513//Berserk</td>\n",
       "      <td>NaN</td>\n",
       "      <td>90.5</td>\n",
       "      <td>4</td>\n",
       "      <td>11</td>\n",
       "      <td>528.06011385199</td>\n",
       "    </tr>\n",
       "    <tr>\n",
       "      <th>600</th>\n",
       "      <td>19T15B</td>\n",
       "      <td>Vollebekk</td>\n",
       "      <td>875</td>\n",
       "      <td>4</td>\n",
       "      <td>20</td>\n",
       "      <td>12</td>\n",
       "      <td>NaN</td>\n",
       "      <td>GN19590</td>\n",
       "      <td>Bombona/NK01513//GN03509</td>\n",
       "      <td>NaN</td>\n",
       "      <td>94</td>\n",
       "      <td>4</td>\n",
       "      <td>11</td>\n",
       "      <td>489.62914611006</td>\n",
       "    </tr>\n",
       "  </tbody>\n",
       "</table>\n",
       "<p>600 rows × 14 columns</p>\n",
       "</div>"
      ],
      "text/plain": [
       "0     r_expt r_location plot bloc ibloc entry  NaN      name  \\\n",
       "1    19T1A 4  Vollebekk  101    1     1     1  NaN     Zebra   \n",
       "2    19T1A 4  Vollebekk  102    1     1    11  NaN   GN14547   \n",
       "3    19T1A 4  Vollebekk  103    1     1    13  NaN  Tarrafal   \n",
       "4    19T1A 4  Vollebekk  104    1     1    14  NaN   GN12760   \n",
       "5    19T1A 4  Vollebekk  105    1     1     4  NaN    Bjarne   \n",
       "..       ...        ...  ...  ...   ...   ...  ...       ...   \n",
       "596   19T15B  Vollebekk  871    4    20    10  NaN   GN19588   \n",
       "597   19T15B  Vollebekk  872    4    20    24  NaN   GN19602   \n",
       "598   19T15B  Vollebekk  873    4    20     9  NaN   GN19587   \n",
       "599   19T15B  Vollebekk  874    4    20    21  NaN   GN19599   \n",
       "600   19T15B  Vollebekk  875    4    20    12  NaN   GN19590   \n",
       "\n",
       "0                      pedigree Legde  høyde Juli Aug.           kg/daa  \n",
       "1                  Ralle/Dragon   NaN  107.5    0    9   499.6244402277  \n",
       "2               SW45126/NK01533   NaN   88.5    0    8  515.53275142315  \n",
       "3                           NaN   NaN     87    0   10  529.50102466793  \n",
       "4      NK02529/NK01533//NK01568   NaN     95    0    7  544.50398481973  \n",
       "5              SvB87293/Bastian   NaN   79.5   -1    8  529.50102466793  \n",
       "..                          ...   ...    ...  ...  ...              ...  \n",
       "596  QUARNA/BAJASS-5//Berserk 4   NaN   78.5    1   10  542.82079696395  \n",
       "597     QUARNA/NK01513//Berserk   NaN     88    5   11  469.68227703985  \n",
       "598  QUARNA/BAJASS-5//Berserk 4   NaN     79    0   10  594.68265654649  \n",
       "599    Bombona/NK01513//Berserk   NaN   90.5    4   11  528.06011385199  \n",
       "600    Bombona/NK01513//GN03509   NaN     94    4   11  489.62914611006  \n",
       "\n",
       "[600 rows x 14 columns]"
      ]
     },
     "execution_count": 64,
     "metadata": {},
     "output_type": "execute_result"
    }
   ],
   "source": [
    "Graminor_2019_x_19TvPhenores_x_Vollebekk_res_new"
   ]
  },
  {
   "cell_type": "code",
   "execution_count": null,
   "metadata": {
    "ExecuteTime": {
     "end_time": "2021-09-28T09:42:59.972508Z",
     "start_time": "2021-09-28T09:42:52.956Z"
    }
   },
   "outputs": [],
   "source": [
    "field = 'Graminor_2019'\n",
    "field_plot_id = 'Plot_ID'\n",
    "ref_df_yield = Graminor_2019_x_19TvPhenores_x_Vollebekk_res_new\n",
    "red_df_id = 'plot'\n",
    "\n",
    "\n",
    "cols2add_dict = {'GrainYield':'kg/daa',\n",
    "                 'Name':'name',\n",
    "#                  'CodeName':'CodeName',\n",
    "                 'Pedigree':'pedigree',\n",
    "#                  'Line':'Line',\n",
    "#                  'Heading_Date':'Hd_date_jd',\n",
    "#                  'Maturity_Date':'maturity_dates',\n",
    "#                  'Days2Heading':'DH',\n",
    "#                  'Days2Maturity':'DM',\n",
    "#                  'Lodging':'Lodging_images'\n",
    "                }\n",
    "\n",
    "\n",
    "for date in field_year_dict[field]:\n",
    "    temp_df = locals()[field[:-4]+date].copy()\n",
    "    temp_ref_df = ref_df_yield.copy()\n",
    "    \n",
    "    temp_df.set_index(field_plot_id, inplace=True)\n",
    "    temp_ref_df.set_index(red_df_id, inplace=True)\n",
    "    for field_df_col, ref_df_col in cols2add_dict.items():\n",
    "        temp_df[field_df_col]=temp_ref_df[ref_df_col]\n",
    "    new_df_name = field[:-4]+date+'_yield'\n",
    "    locals()[new_df_name] = temp_df.reset_index()\n",
    "    df_w_yields.append(new_df_name)\n",
    "    print(new_df_name)\n",
    "    display(locals()[new_df_name].head())"
   ]
  },
  {
   "cell_type": "markdown",
   "metadata": {},
   "source": [
    "### Graminor_2020"
   ]
  },
  {
   "cell_type": "code",
   "execution_count": 68,
   "metadata": {
    "ExecuteTime": {
     "end_time": "2021-09-28T11:36:13.205277Z",
     "start_time": "2021-09-28T11:36:13.185090Z"
    }
   },
   "outputs": [
    {
     "data": {
      "text/html": [
       "<div>\n",
       "<style scoped>\n",
       "    .dataframe tbody tr th:only-of-type {\n",
       "        vertical-align: middle;\n",
       "    }\n",
       "\n",
       "    .dataframe tbody tr th {\n",
       "        vertical-align: top;\n",
       "    }\n",
       "\n",
       "    .dataframe thead th {\n",
       "        text-align: right;\n",
       "    }\n",
       "</style>\n",
       "<table border=\"1\" class=\"dataframe\">\n",
       "  <thead>\n",
       "    <tr style=\"text-align: right;\">\n",
       "      <th></th>\n",
       "      <th>20T1A</th>\n",
       "      <th>Unnamed: 1</th>\n",
       "      <th>Unnamed: 2</th>\n",
       "      <th>Unnamed: 3</th>\n",
       "      <th>Unnamed: 4</th>\n",
       "      <th>Unnamed: 5</th>\n",
       "      <th>Unnamed: 6</th>\n",
       "      <th>Unnamed: 7</th>\n",
       "      <th>Unnamed: 8</th>\n",
       "      <th>Unnamed: 9</th>\n",
       "      <th>%</th>\n",
       "      <th>Avl.</th>\n",
       "      <th>Hl.-</th>\n",
       "      <th>%.1</th>\n",
       "    </tr>\n",
       "  </thead>\n",
       "  <tbody>\n",
       "    <tr>\n",
       "      <th>0</th>\n",
       "      <td>r_expt</td>\n",
       "      <td>r_location</td>\n",
       "      <td>loccode</td>\n",
       "      <td>plot</td>\n",
       "      <td>bloc</td>\n",
       "      <td>ibloc</td>\n",
       "      <td>entry</td>\n",
       "      <td>NaN</td>\n",
       "      <td>name</td>\n",
       "      <td>pedigree</td>\n",
       "      <td>Vann</td>\n",
       "      <td>kg/daa</td>\n",
       "      <td>vekt</td>\n",
       "      <td>Prot</td>\n",
       "    </tr>\n",
       "    <tr>\n",
       "      <th>1</th>\n",
       "      <td>20T1A_4</td>\n",
       "      <td>Vollebekk</td>\n",
       "      <td>04</td>\n",
       "      <td>101</td>\n",
       "      <td>1</td>\n",
       "      <td>1</td>\n",
       "      <td>1</td>\n",
       "      <td>NaN</td>\n",
       "      <td>Zebra</td>\n",
       "      <td>Ralle/Dragon</td>\n",
       "      <td>15.928070175439</td>\n",
       "      <td>654.70815939279</td>\n",
       "      <td>78.8</td>\n",
       "      <td>11.5</td>\n",
       "    </tr>\n",
       "    <tr>\n",
       "      <th>2</th>\n",
       "      <td>20T1A_4</td>\n",
       "      <td>Vollebekk</td>\n",
       "      <td>04</td>\n",
       "      <td>102</td>\n",
       "      <td>1</td>\n",
       "      <td>1</td>\n",
       "      <td>19</td>\n",
       "      <td>NaN</td>\n",
       "      <td>GN18666</td>\n",
       "      <td>GN04528/GN03509</td>\n",
       "      <td>15.775495495495</td>\n",
       "      <td>709.5954459203</td>\n",
       "      <td>78.3</td>\n",
       "      <td>10.7</td>\n",
       "    </tr>\n",
       "    <tr>\n",
       "      <th>3</th>\n",
       "      <td>20T1A_4</td>\n",
       "      <td>Vollebekk</td>\n",
       "      <td>04</td>\n",
       "      <td>103</td>\n",
       "      <td>1</td>\n",
       "      <td>1</td>\n",
       "      <td>11</td>\n",
       "      <td>NaN</td>\n",
       "      <td>GN15590</td>\n",
       "      <td>Demonstrant/SW51114</td>\n",
       "      <td>16.222571942446</td>\n",
       "      <td>707.10056925996</td>\n",
       "      <td>80.1</td>\n",
       "      <td>10.6</td>\n",
       "    </tr>\n",
       "    <tr>\n",
       "      <th>4</th>\n",
       "      <td>20T1A_4</td>\n",
       "      <td>Vollebekk</td>\n",
       "      <td>04</td>\n",
       "      <td>104</td>\n",
       "      <td>1</td>\n",
       "      <td>1</td>\n",
       "      <td>5</td>\n",
       "      <td>NaN</td>\n",
       "      <td>Mirakel</td>\n",
       "      <td>SW38337/NK98533//NK98535</td>\n",
       "      <td>15.325088652482</td>\n",
       "      <td>724.95863377609</td>\n",
       "      <td>78.1</td>\n",
       "      <td>10.8</td>\n",
       "    </tr>\n",
       "  </tbody>\n",
       "</table>\n",
       "</div>"
      ],
      "text/plain": [
       "     20T1A  Unnamed: 1 Unnamed: 2 Unnamed: 3 Unnamed: 4 Unnamed: 5 Unnamed: 6  \\\n",
       "0   r_expt  r_location    loccode       plot       bloc      ibloc      entry   \n",
       "1  20T1A_4   Vollebekk         04        101          1          1          1   \n",
       "2  20T1A_4   Vollebekk         04        102          1          1         19   \n",
       "3  20T1A_4   Vollebekk         04        103          1          1         11   \n",
       "4  20T1A_4   Vollebekk         04        104          1          1          5   \n",
       "\n",
       "   Unnamed: 7 Unnamed: 8                Unnamed: 9                %  \\\n",
       "0         NaN       name                  pedigree             Vann   \n",
       "1         NaN      Zebra              Ralle/Dragon  15.928070175439   \n",
       "2         NaN    GN18666           GN04528/GN03509  15.775495495495   \n",
       "3         NaN    GN15590       Demonstrant/SW51114  16.222571942446   \n",
       "4         NaN    Mirakel  SW38337/NK98533//NK98535  15.325088652482   \n",
       "\n",
       "              Avl.  Hl.-   %.1  \n",
       "0           kg/daa  vekt  Prot  \n",
       "1  654.70815939279  78.8  11.5  \n",
       "2   709.5954459203  78.3  10.7  \n",
       "3  707.10056925996  80.1  10.6  \n",
       "4  724.95863377609  78.1  10.8  "
      ]
     },
     "execution_count": 68,
     "metadata": {},
     "output_type": "execute_result"
    }
   ],
   "source": [
    "Graminor_x_2020TGraminor_Vollebekk_res.head()"
   ]
  },
  {
   "cell_type": "code",
   "execution_count": 67,
   "metadata": {
    "ExecuteTime": {
     "end_time": "2021-09-28T11:35:51.348949Z",
     "start_time": "2021-09-28T11:35:51.322457Z"
    }
   },
   "outputs": [
    {
     "data": {
      "text/html": [
       "<div>\n",
       "<style scoped>\n",
       "    .dataframe tbody tr th:only-of-type {\n",
       "        vertical-align: middle;\n",
       "    }\n",
       "\n",
       "    .dataframe tbody tr th {\n",
       "        vertical-align: top;\n",
       "    }\n",
       "\n",
       "    .dataframe thead th {\n",
       "        text-align: right;\n",
       "    }\n",
       "</style>\n",
       "<table border=\"1\" class=\"dataframe\">\n",
       "  <thead>\n",
       "    <tr style=\"text-align: right;\">\n",
       "      <th></th>\n",
       "      <th>r_expt</th>\n",
       "      <th>r_location</th>\n",
       "      <th>loccode</th>\n",
       "      <th>plot</th>\n",
       "      <th>bloc</th>\n",
       "      <th>ibloc</th>\n",
       "      <th>entry</th>\n",
       "      <th>NaN</th>\n",
       "      <th>name</th>\n",
       "      <th>pedigree</th>\n",
       "      <th>Vann</th>\n",
       "      <th>kg/daa</th>\n",
       "      <th>vekt</th>\n",
       "      <th>Prot</th>\n",
       "    </tr>\n",
       "  </thead>\n",
       "  <tbody>\n",
       "    <tr>\n",
       "      <th>1</th>\n",
       "      <td>20T1A_4</td>\n",
       "      <td>Vollebekk</td>\n",
       "      <td>04</td>\n",
       "      <td>101</td>\n",
       "      <td>1</td>\n",
       "      <td>1</td>\n",
       "      <td>1</td>\n",
       "      <td>NaN</td>\n",
       "      <td>Zebra</td>\n",
       "      <td>Ralle/Dragon</td>\n",
       "      <td>15.928070175439</td>\n",
       "      <td>654.70815939279</td>\n",
       "      <td>78.8</td>\n",
       "      <td>11.5</td>\n",
       "    </tr>\n",
       "    <tr>\n",
       "      <th>2</th>\n",
       "      <td>20T1A_4</td>\n",
       "      <td>Vollebekk</td>\n",
       "      <td>04</td>\n",
       "      <td>102</td>\n",
       "      <td>1</td>\n",
       "      <td>1</td>\n",
       "      <td>19</td>\n",
       "      <td>NaN</td>\n",
       "      <td>GN18666</td>\n",
       "      <td>GN04528/GN03509</td>\n",
       "      <td>15.775495495495</td>\n",
       "      <td>709.5954459203</td>\n",
       "      <td>78.3</td>\n",
       "      <td>10.7</td>\n",
       "    </tr>\n",
       "    <tr>\n",
       "      <th>3</th>\n",
       "      <td>20T1A_4</td>\n",
       "      <td>Vollebekk</td>\n",
       "      <td>04</td>\n",
       "      <td>103</td>\n",
       "      <td>1</td>\n",
       "      <td>1</td>\n",
       "      <td>11</td>\n",
       "      <td>NaN</td>\n",
       "      <td>GN15590</td>\n",
       "      <td>Demonstrant/SW51114</td>\n",
       "      <td>16.222571942446</td>\n",
       "      <td>707.10056925996</td>\n",
       "      <td>80.1</td>\n",
       "      <td>10.6</td>\n",
       "    </tr>\n",
       "    <tr>\n",
       "      <th>4</th>\n",
       "      <td>20T1A_4</td>\n",
       "      <td>Vollebekk</td>\n",
       "      <td>04</td>\n",
       "      <td>104</td>\n",
       "      <td>1</td>\n",
       "      <td>1</td>\n",
       "      <td>5</td>\n",
       "      <td>NaN</td>\n",
       "      <td>Mirakel</td>\n",
       "      <td>SW38337/NK98533//NK98535</td>\n",
       "      <td>15.325088652482</td>\n",
       "      <td>724.95863377609</td>\n",
       "      <td>78.1</td>\n",
       "      <td>10.8</td>\n",
       "    </tr>\n",
       "    <tr>\n",
       "      <th>5</th>\n",
       "      <td>20T1A_4</td>\n",
       "      <td>Vollebekk</td>\n",
       "      <td>04</td>\n",
       "      <td>105</td>\n",
       "      <td>1</td>\n",
       "      <td>1</td>\n",
       "      <td>24</td>\n",
       "      <td>NaN</td>\n",
       "      <td>GN18751</td>\n",
       "      <td>QUARNA/GN03531</td>\n",
       "      <td>16.845059625213</td>\n",
       "      <td>740.97836812144</td>\n",
       "      <td>77.7</td>\n",
       "      <td>10.6</td>\n",
       "    </tr>\n",
       "  </tbody>\n",
       "</table>\n",
       "</div>"
      ],
      "text/plain": [
       "0   r_expt r_location loccode plot bloc ibloc entry  NaN     name  \\\n",
       "1  20T1A_4  Vollebekk      04  101    1     1     1  NaN    Zebra   \n",
       "2  20T1A_4  Vollebekk      04  102    1     1    19  NaN  GN18666   \n",
       "3  20T1A_4  Vollebekk      04  103    1     1    11  NaN  GN15590   \n",
       "4  20T1A_4  Vollebekk      04  104    1     1     5  NaN  Mirakel   \n",
       "5  20T1A_4  Vollebekk      04  105    1     1    24  NaN  GN18751   \n",
       "\n",
       "0                  pedigree             Vann           kg/daa  vekt  Prot  \n",
       "1              Ralle/Dragon  15.928070175439  654.70815939279  78.8  11.5  \n",
       "2           GN04528/GN03509  15.775495495495   709.5954459203  78.3  10.7  \n",
       "3       Demonstrant/SW51114  16.222571942446  707.10056925996  80.1  10.6  \n",
       "4  SW38337/NK98533//NK98535  15.325088652482  724.95863377609  78.1  10.8  \n",
       "5            QUARNA/GN03531  16.845059625213  740.97836812144  77.7  10.6  "
      ]
     },
     "execution_count": 67,
     "metadata": {},
     "output_type": "execute_result"
    }
   ],
   "source": [
    "# Dropping first row/ unnamed column headings and replacing them with the second row.\n",
    "Graminor_x_2020TGraminor_Vollebekk_res_temp = Graminor_x_2020TGraminor_Vollebekk_res.copy()\n",
    "Graminor_x_2020TGraminor_Vollebekk_res_temp.columns = Graminor_x_2020TGraminor_Vollebekk_res.iloc[0]\n",
    "Graminor_x_2020TGraminor_Vollebekk_res_new = Graminor_x_2020TGraminor_Vollebekk_res_temp[1:]\n",
    "Graminor_x_2020TGraminor_Vollebekk_res_new.head()"
   ]
  },
  {
   "cell_type": "code",
   "execution_count": 69,
   "metadata": {
    "ExecuteTime": {
     "end_time": "2021-09-28T11:37:35.216483Z",
     "start_time": "2021-09-28T11:37:35.035654Z"
    }
   },
   "outputs": [
    {
     "name": "stdout",
     "output_type": "stream",
     "text": [
      "Graminor_040720_yield\n"
     ]
    },
    {
     "data": {
      "text/html": [
       "<div>\n",
       "<style scoped>\n",
       "    .dataframe tbody tr th:only-of-type {\n",
       "        vertical-align: middle;\n",
       "    }\n",
       "\n",
       "    .dataframe tbody tr th {\n",
       "        vertical-align: top;\n",
       "    }\n",
       "\n",
       "    .dataframe thead th {\n",
       "        text-align: right;\n",
       "    }\n",
       "</style>\n",
       "<table border=\"1\" class=\"dataframe\">\n",
       "  <thead>\n",
       "    <tr style=\"text-align: right;\">\n",
       "      <th></th>\n",
       "      <th>Plot_ID</th>\n",
       "      <th>Blue_Mean_Value</th>\n",
       "      <th>Blue_Median_Value</th>\n",
       "      <th>Blue_Std_Dev_Value</th>\n",
       "      <th>Green_Mean_Value</th>\n",
       "      <th>Green_Median_Value</th>\n",
       "      <th>Green_Std_Dev_Value</th>\n",
       "      <th>Red_Mean_Value</th>\n",
       "      <th>Red_Median_Value</th>\n",
       "      <th>Red_Std_Dev_Value</th>\n",
       "      <th>RedEdge_Mean_Value</th>\n",
       "      <th>RedEdge_Median_Value</th>\n",
       "      <th>RedEdge_Std_Dev_Value</th>\n",
       "      <th>NIR_Mean_Value</th>\n",
       "      <th>NIR_Median_Value</th>\n",
       "      <th>NIR_Std_Dev_Value</th>\n",
       "      <th>GrainYield</th>\n",
       "      <th>Name</th>\n",
       "      <th>Pedigree</th>\n",
       "    </tr>\n",
       "  </thead>\n",
       "  <tbody>\n",
       "    <tr>\n",
       "      <th>0</th>\n",
       "      <td>101</td>\n",
       "      <td>0.01785124426339</td>\n",
       "      <td>0.01731912605465</td>\n",
       "      <td>0.00503656913861</td>\n",
       "      <td>0.04316562577981</td>\n",
       "      <td>0.04214972630143</td>\n",
       "      <td>0.01056329130895</td>\n",
       "      <td>0.02178064962805</td>\n",
       "      <td>0.02136499434710</td>\n",
       "      <td>0.00515298584236</td>\n",
       "      <td>0.11197198990172</td>\n",
       "      <td>0.11029557138681</td>\n",
       "      <td>0.02075150750696</td>\n",
       "      <td>0.48582822174294</td>\n",
       "      <td>0.48360610008240</td>\n",
       "      <td>0.06080637707182</td>\n",
       "      <td>654.70815939279</td>\n",
       "      <td>Zebra</td>\n",
       "      <td>Ralle/Dragon</td>\n",
       "    </tr>\n",
       "    <tr>\n",
       "      <th>1</th>\n",
       "      <td>102</td>\n",
       "      <td>0.01732559858581</td>\n",
       "      <td>0.01709566265345</td>\n",
       "      <td>0.00412828927984</td>\n",
       "      <td>0.04489375691789</td>\n",
       "      <td>0.04406672716141</td>\n",
       "      <td>0.00964595604654</td>\n",
       "      <td>0.02146992840469</td>\n",
       "      <td>0.02111094258726</td>\n",
       "      <td>0.00476094477466</td>\n",
       "      <td>0.11374823961286</td>\n",
       "      <td>0.11248160898685</td>\n",
       "      <td>0.01752475032538</td>\n",
       "      <td>0.49904403830504</td>\n",
       "      <td>0.50077459216118</td>\n",
       "      <td>0.04689259690942</td>\n",
       "      <td>709.5954459203</td>\n",
       "      <td>GN18666</td>\n",
       "      <td>GN04528/GN03509</td>\n",
       "    </tr>\n",
       "    <tr>\n",
       "      <th>2</th>\n",
       "      <td>103</td>\n",
       "      <td>0.01779076703092</td>\n",
       "      <td>0.01724500674754</td>\n",
       "      <td>0.00494665146184</td>\n",
       "      <td>0.04828509524885</td>\n",
       "      <td>0.04677460156381</td>\n",
       "      <td>0.01231924298816</td>\n",
       "      <td>0.02239840297244</td>\n",
       "      <td>0.02177555020899</td>\n",
       "      <td>0.00543271682182</td>\n",
       "      <td>0.12127026558460</td>\n",
       "      <td>0.11889328435063</td>\n",
       "      <td>0.02300496857624</td>\n",
       "      <td>0.50042118751948</td>\n",
       "      <td>0.50010347366333</td>\n",
       "      <td>0.06193161416382</td>\n",
       "      <td>707.10056925996</td>\n",
       "      <td>GN15590</td>\n",
       "      <td>Demonstrant/SW51114</td>\n",
       "    </tr>\n",
       "    <tr>\n",
       "      <th>3</th>\n",
       "      <td>104</td>\n",
       "      <td>0.01614745066061</td>\n",
       "      <td>0.01585669536144</td>\n",
       "      <td>0.00351963312038</td>\n",
       "      <td>0.04309530835470</td>\n",
       "      <td>0.04220090247691</td>\n",
       "      <td>0.00864687516408</td>\n",
       "      <td>0.01938866181705</td>\n",
       "      <td>0.01899677887559</td>\n",
       "      <td>0.00369131814613</td>\n",
       "      <td>0.11692252363026</td>\n",
       "      <td>0.11562358587980</td>\n",
       "      <td>0.01790956473573</td>\n",
       "      <td>0.50405047827974</td>\n",
       "      <td>0.50624313950539</td>\n",
       "      <td>0.04929491721741</td>\n",
       "      <td>724.95863377609</td>\n",
       "      <td>Mirakel</td>\n",
       "      <td>SW38337/NK98533//NK98535</td>\n",
       "    </tr>\n",
       "    <tr>\n",
       "      <th>4</th>\n",
       "      <td>105</td>\n",
       "      <td>0.01904844114652</td>\n",
       "      <td>0.01848565228283</td>\n",
       "      <td>0.00519994870793</td>\n",
       "      <td>0.05067893788090</td>\n",
       "      <td>0.04919448308647</td>\n",
       "      <td>0.01231680829260</td>\n",
       "      <td>0.02236159910939</td>\n",
       "      <td>0.02177054807544</td>\n",
       "      <td>0.00544669129795</td>\n",
       "      <td>0.12990068230758</td>\n",
       "      <td>0.12781217694283</td>\n",
       "      <td>0.02330782278256</td>\n",
       "      <td>0.56038144935303</td>\n",
       "      <td>0.56282949447632</td>\n",
       "      <td>0.05873137707639</td>\n",
       "      <td>740.97836812144</td>\n",
       "      <td>GN18751</td>\n",
       "      <td>QUARNA/GN03531</td>\n",
       "    </tr>\n",
       "  </tbody>\n",
       "</table>\n",
       "</div>"
      ],
      "text/plain": [
       "   Plot_ID   Blue_Mean_Value  Blue_Median_Value  Blue_Std_Dev_Value  \\\n",
       "0      101  0.01785124426339   0.01731912605465    0.00503656913861   \n",
       "1      102  0.01732559858581   0.01709566265345    0.00412828927984   \n",
       "2      103  0.01779076703092   0.01724500674754    0.00494665146184   \n",
       "3      104  0.01614745066061   0.01585669536144    0.00351963312038   \n",
       "4      105  0.01904844114652   0.01848565228283    0.00519994870793   \n",
       "\n",
       "   Green_Mean_Value  Green_Median_Value  Green_Std_Dev_Value  \\\n",
       "0  0.04316562577981    0.04214972630143     0.01056329130895   \n",
       "1  0.04489375691789    0.04406672716141     0.00964595604654   \n",
       "2  0.04828509524885    0.04677460156381     0.01231924298816   \n",
       "3  0.04309530835470    0.04220090247691     0.00864687516408   \n",
       "4  0.05067893788090    0.04919448308647     0.01231680829260   \n",
       "\n",
       "     Red_Mean_Value  Red_Median_Value  Red_Std_Dev_Value  RedEdge_Mean_Value  \\\n",
       "0  0.02178064962805  0.02136499434710   0.00515298584236    0.11197198990172   \n",
       "1  0.02146992840469  0.02111094258726   0.00476094477466    0.11374823961286   \n",
       "2  0.02239840297244  0.02177555020899   0.00543271682182    0.12127026558460   \n",
       "3  0.01938866181705  0.01899677887559   0.00369131814613    0.11692252363026   \n",
       "4  0.02236159910939  0.02177054807544   0.00544669129795    0.12990068230758   \n",
       "\n",
       "   RedEdge_Median_Value  RedEdge_Std_Dev_Value    NIR_Mean_Value  \\\n",
       "0      0.11029557138681       0.02075150750696  0.48582822174294   \n",
       "1      0.11248160898685       0.01752475032538  0.49904403830504   \n",
       "2      0.11889328435063       0.02300496857624  0.50042118751948   \n",
       "3      0.11562358587980       0.01790956473573  0.50405047827974   \n",
       "4      0.12781217694283       0.02330782278256  0.56038144935303   \n",
       "\n",
       "   NIR_Median_Value  NIR_Std_Dev_Value       GrainYield     Name  \\\n",
       "0  0.48360610008240   0.06080637707182  654.70815939279    Zebra   \n",
       "1  0.50077459216118   0.04689259690942   709.5954459203  GN18666   \n",
       "2  0.50010347366333   0.06193161416382  707.10056925996  GN15590   \n",
       "3  0.50624313950539   0.04929491721741  724.95863377609  Mirakel   \n",
       "4  0.56282949447632   0.05873137707639  740.97836812144  GN18751   \n",
       "\n",
       "                   Pedigree  \n",
       "0              Ralle/Dragon  \n",
       "1           GN04528/GN03509  \n",
       "2       Demonstrant/SW51114  \n",
       "3  SW38337/NK98533//NK98535  \n",
       "4            QUARNA/GN03531  "
      ]
     },
     "metadata": {},
     "output_type": "display_data"
    },
    {
     "name": "stdout",
     "output_type": "stream",
     "text": [
      "Graminor_040820_yield\n"
     ]
    },
    {
     "data": {
      "text/html": [
       "<div>\n",
       "<style scoped>\n",
       "    .dataframe tbody tr th:only-of-type {\n",
       "        vertical-align: middle;\n",
       "    }\n",
       "\n",
       "    .dataframe tbody tr th {\n",
       "        vertical-align: top;\n",
       "    }\n",
       "\n",
       "    .dataframe thead th {\n",
       "        text-align: right;\n",
       "    }\n",
       "</style>\n",
       "<table border=\"1\" class=\"dataframe\">\n",
       "  <thead>\n",
       "    <tr style=\"text-align: right;\">\n",
       "      <th></th>\n",
       "      <th>Plot_ID</th>\n",
       "      <th>Blue_Mean_Value</th>\n",
       "      <th>Blue_Median_Value</th>\n",
       "      <th>Blue_Std_Dev_Value</th>\n",
       "      <th>Green_Mean_Value</th>\n",
       "      <th>Green_Median_Value</th>\n",
       "      <th>Green_Std_Dev_Value</th>\n",
       "      <th>Red_Mean_Value</th>\n",
       "      <th>Red_Median_Value</th>\n",
       "      <th>Red_Std_Dev_Value</th>\n",
       "      <th>RedEdge_Mean_Value</th>\n",
       "      <th>RedEdge_Median_Value</th>\n",
       "      <th>RedEdge_Std_Dev_Value</th>\n",
       "      <th>NIR_Mean_Value</th>\n",
       "      <th>NIR_Median_Value</th>\n",
       "      <th>NIR_Std_Dev_Value</th>\n",
       "      <th>GrainYield</th>\n",
       "      <th>Name</th>\n",
       "      <th>Pedigree</th>\n",
       "    </tr>\n",
       "  </thead>\n",
       "  <tbody>\n",
       "    <tr>\n",
       "      <th>0</th>\n",
       "      <td>101</td>\n",
       "      <td>0.03080202141778</td>\n",
       "      <td>0.02888692356646</td>\n",
       "      <td>0.01126231863643</td>\n",
       "      <td>0.06331523748071</td>\n",
       "      <td>0.06124439090490</td>\n",
       "      <td>0.01996896454359</td>\n",
       "      <td>0.09230243986102</td>\n",
       "      <td>0.08660537749529</td>\n",
       "      <td>0.03105507878195</td>\n",
       "      <td>0.17395000717765</td>\n",
       "      <td>0.16973912715912</td>\n",
       "      <td>0.04181885611259</td>\n",
       "      <td>0.31472062188135</td>\n",
       "      <td>0.30749645829201</td>\n",
       "      <td>0.06138482561309</td>\n",
       "      <td>654.70815939279</td>\n",
       "      <td>Zebra</td>\n",
       "      <td>Ralle/Dragon</td>\n",
       "    </tr>\n",
       "    <tr>\n",
       "      <th>1</th>\n",
       "      <td>102</td>\n",
       "      <td>0.02994548378188</td>\n",
       "      <td>0.02778669912368</td>\n",
       "      <td>0.01171717891633</td>\n",
       "      <td>0.06045146374125</td>\n",
       "      <td>0.05822783522308</td>\n",
       "      <td>0.01934226326273</td>\n",
       "      <td>0.09098579468548</td>\n",
       "      <td>0.08270449191332</td>\n",
       "      <td>0.03274571331715</td>\n",
       "      <td>0.16541110998700</td>\n",
       "      <td>0.16041847318411</td>\n",
       "      <td>0.03996604335603</td>\n",
       "      <td>0.29753544097807</td>\n",
       "      <td>0.28869172930717</td>\n",
       "      <td>0.05756787840363</td>\n",
       "      <td>709.5954459203</td>\n",
       "      <td>GN18666</td>\n",
       "      <td>GN04528/GN03509</td>\n",
       "    </tr>\n",
       "    <tr>\n",
       "      <th>2</th>\n",
       "      <td>103</td>\n",
       "      <td>0.03150665360917</td>\n",
       "      <td>0.02882610075176</td>\n",
       "      <td>0.01298940114176</td>\n",
       "      <td>0.06072599327545</td>\n",
       "      <td>0.05806675925851</td>\n",
       "      <td>0.02083064394317</td>\n",
       "      <td>0.08992066418909</td>\n",
       "      <td>0.08406268805265</td>\n",
       "      <td>0.03441703102692</td>\n",
       "      <td>0.16005584374937</td>\n",
       "      <td>0.15537573397160</td>\n",
       "      <td>0.04114175859206</td>\n",
       "      <td>0.28656492635971</td>\n",
       "      <td>0.27746567130089</td>\n",
       "      <td>0.06058272001647</td>\n",
       "      <td>707.10056925996</td>\n",
       "      <td>GN15590</td>\n",
       "      <td>Demonstrant/SW51114</td>\n",
       "    </tr>\n",
       "    <tr>\n",
       "      <th>3</th>\n",
       "      <td>104</td>\n",
       "      <td>0.03962737313458</td>\n",
       "      <td>0.03581303358078</td>\n",
       "      <td>0.01961923450805</td>\n",
       "      <td>0.07839145754922</td>\n",
       "      <td>0.07255017384887</td>\n",
       "      <td>0.03055626909658</td>\n",
       "      <td>0.10604226548866</td>\n",
       "      <td>0.09702980145812</td>\n",
       "      <td>0.04371585061603</td>\n",
       "      <td>0.19669524414641</td>\n",
       "      <td>0.18787904083729</td>\n",
       "      <td>0.05728325857278</td>\n",
       "      <td>0.32495923356092</td>\n",
       "      <td>0.31686189770698</td>\n",
       "      <td>0.07062041992232</td>\n",
       "      <td>724.95863377609</td>\n",
       "      <td>Mirakel</td>\n",
       "      <td>SW38337/NK98533//NK98535</td>\n",
       "    </tr>\n",
       "    <tr>\n",
       "      <th>4</th>\n",
       "      <td>105</td>\n",
       "      <td>0.03429953950622</td>\n",
       "      <td>0.03172615915537</td>\n",
       "      <td>0.01428203601431</td>\n",
       "      <td>0.07499742881638</td>\n",
       "      <td>0.07085644453764</td>\n",
       "      <td>0.02673534011350</td>\n",
       "      <td>0.09279282041724</td>\n",
       "      <td>0.08739325404167</td>\n",
       "      <td>0.03207677884582</td>\n",
       "      <td>0.19735332438324</td>\n",
       "      <td>0.18942515552044</td>\n",
       "      <td>0.05411010649480</td>\n",
       "      <td>0.35199003485884</td>\n",
       "      <td>0.34768979251385</td>\n",
       "      <td>0.07619284034753</td>\n",
       "      <td>740.97836812144</td>\n",
       "      <td>GN18751</td>\n",
       "      <td>QUARNA/GN03531</td>\n",
       "    </tr>\n",
       "  </tbody>\n",
       "</table>\n",
       "</div>"
      ],
      "text/plain": [
       "   Plot_ID   Blue_Mean_Value  Blue_Median_Value  Blue_Std_Dev_Value  \\\n",
       "0      101  0.03080202141778   0.02888692356646    0.01126231863643   \n",
       "1      102  0.02994548378188   0.02778669912368    0.01171717891633   \n",
       "2      103  0.03150665360917   0.02882610075176    0.01298940114176   \n",
       "3      104  0.03962737313458   0.03581303358078    0.01961923450805   \n",
       "4      105  0.03429953950622   0.03172615915537    0.01428203601431   \n",
       "\n",
       "   Green_Mean_Value  Green_Median_Value  Green_Std_Dev_Value  \\\n",
       "0  0.06331523748071    0.06124439090490     0.01996896454359   \n",
       "1  0.06045146374125    0.05822783522308     0.01934226326273   \n",
       "2  0.06072599327545    0.05806675925851     0.02083064394317   \n",
       "3  0.07839145754922    0.07255017384887     0.03055626909658   \n",
       "4  0.07499742881638    0.07085644453764     0.02673534011350   \n",
       "\n",
       "     Red_Mean_Value  Red_Median_Value  Red_Std_Dev_Value  RedEdge_Mean_Value  \\\n",
       "0  0.09230243986102  0.08660537749529   0.03105507878195    0.17395000717765   \n",
       "1  0.09098579468548  0.08270449191332   0.03274571331715    0.16541110998700   \n",
       "2  0.08992066418909  0.08406268805265   0.03441703102692    0.16005584374937   \n",
       "3  0.10604226548866  0.09702980145812   0.04371585061603    0.19669524414641   \n",
       "4  0.09279282041724  0.08739325404167   0.03207677884582    0.19735332438324   \n",
       "\n",
       "   RedEdge_Median_Value  RedEdge_Std_Dev_Value    NIR_Mean_Value  \\\n",
       "0      0.16973912715912       0.04181885611259  0.31472062188135   \n",
       "1      0.16041847318411       0.03996604335603  0.29753544097807   \n",
       "2      0.15537573397160       0.04114175859206  0.28656492635971   \n",
       "3      0.18787904083729       0.05728325857278  0.32495923356092   \n",
       "4      0.18942515552044       0.05411010649480  0.35199003485884   \n",
       "\n",
       "   NIR_Median_Value  NIR_Std_Dev_Value       GrainYield     Name  \\\n",
       "0  0.30749645829201   0.06138482561309  654.70815939279    Zebra   \n",
       "1  0.28869172930717   0.05756787840363   709.5954459203  GN18666   \n",
       "2  0.27746567130089   0.06058272001647  707.10056925996  GN15590   \n",
       "3  0.31686189770698   0.07062041992232  724.95863377609  Mirakel   \n",
       "4  0.34768979251385   0.07619284034753  740.97836812144  GN18751   \n",
       "\n",
       "                   Pedigree  \n",
       "0              Ralle/Dragon  \n",
       "1           GN04528/GN03509  \n",
       "2       Demonstrant/SW51114  \n",
       "3  SW38337/NK98533//NK98535  \n",
       "4            QUARNA/GN03531  "
      ]
     },
     "metadata": {},
     "output_type": "display_data"
    },
    {
     "name": "stdout",
     "output_type": "stream",
     "text": [
      "Graminor_070720_yield\n"
     ]
    },
    {
     "data": {
      "text/html": [
       "<div>\n",
       "<style scoped>\n",
       "    .dataframe tbody tr th:only-of-type {\n",
       "        vertical-align: middle;\n",
       "    }\n",
       "\n",
       "    .dataframe tbody tr th {\n",
       "        vertical-align: top;\n",
       "    }\n",
       "\n",
       "    .dataframe thead th {\n",
       "        text-align: right;\n",
       "    }\n",
       "</style>\n",
       "<table border=\"1\" class=\"dataframe\">\n",
       "  <thead>\n",
       "    <tr style=\"text-align: right;\">\n",
       "      <th></th>\n",
       "      <th>Plot_ID</th>\n",
       "      <th>Blue_Mean_Value</th>\n",
       "      <th>Blue_Median_Value</th>\n",
       "      <th>Blue_Std_Dev_Value</th>\n",
       "      <th>Green_Mean_Value</th>\n",
       "      <th>Green_Median_Value</th>\n",
       "      <th>Green_Std_Dev_Value</th>\n",
       "      <th>Red_Mean_Value</th>\n",
       "      <th>Red_Median_Value</th>\n",
       "      <th>Red_Std_Dev_Value</th>\n",
       "      <th>RedEdge_Mean_Value</th>\n",
       "      <th>RedEdge_Median_Value</th>\n",
       "      <th>RedEdge_Std_Dev_Value</th>\n",
       "      <th>NIR_Mean_Value</th>\n",
       "      <th>NIR_Median_Value</th>\n",
       "      <th>NIR_Std_Dev_Value</th>\n",
       "      <th>GrainYield</th>\n",
       "      <th>Name</th>\n",
       "      <th>Pedigree</th>\n",
       "    </tr>\n",
       "  </thead>\n",
       "  <tbody>\n",
       "    <tr>\n",
       "      <th>0</th>\n",
       "      <td>101</td>\n",
       "      <td>0.04061894520185</td>\n",
       "      <td>0.03208063915372</td>\n",
       "      <td>0.02114911397436</td>\n",
       "      <td>0.07870103181063</td>\n",
       "      <td>0.07948572933674</td>\n",
       "      <td>0.02245027108097</td>\n",
       "      <td>0.06270654071841</td>\n",
       "      <td>0.04554501548410</td>\n",
       "      <td>0.04129163655660</td>\n",
       "      <td>0.13876918519485</td>\n",
       "      <td>0.12723475694656</td>\n",
       "      <td>0.04252153906600</td>\n",
       "      <td>0.38818282451428</td>\n",
       "      <td>0.29145963490009</td>\n",
       "      <td>0.18870975875866</td>\n",
       "      <td>654.70815939279</td>\n",
       "      <td>Zebra</td>\n",
       "      <td>Ralle/Dragon</td>\n",
       "    </tr>\n",
       "    <tr>\n",
       "      <th>1</th>\n",
       "      <td>102</td>\n",
       "      <td>0.03767789468789</td>\n",
       "      <td>0.03192751482129</td>\n",
       "      <td>0.01677714025841</td>\n",
       "      <td>0.07104846627470</td>\n",
       "      <td>0.07145847380161</td>\n",
       "      <td>0.01914662569990</td>\n",
       "      <td>0.05990203527222</td>\n",
       "      <td>0.03559897840023</td>\n",
       "      <td>0.03666797506687</td>\n",
       "      <td>0.11748223797816</td>\n",
       "      <td>0.12158375978470</td>\n",
       "      <td>0.02169653428424</td>\n",
       "      <td>0.34488689839134</td>\n",
       "      <td>0.26160323619843</td>\n",
       "      <td>0.13407702040360</td>\n",
       "      <td>709.5954459203</td>\n",
       "      <td>GN18666</td>\n",
       "      <td>GN04528/GN03509</td>\n",
       "    </tr>\n",
       "    <tr>\n",
       "      <th>2</th>\n",
       "      <td>103</td>\n",
       "      <td>0.03598714207278</td>\n",
       "      <td>0.02993765659630</td>\n",
       "      <td>0.01668460260122</td>\n",
       "      <td>0.06626562284965</td>\n",
       "      <td>0.06507416069508</td>\n",
       "      <td>0.02093992628317</td>\n",
       "      <td>0.05699693088406</td>\n",
       "      <td>0.03257780894637</td>\n",
       "      <td>0.03662318201242</td>\n",
       "      <td>0.10979506059642</td>\n",
       "      <td>0.11390871554613</td>\n",
       "      <td>0.02232043835459</td>\n",
       "      <td>0.33233053659994</td>\n",
       "      <td>0.28924092650414</td>\n",
       "      <td>0.11769317517429</td>\n",
       "      <td>707.10056925996</td>\n",
       "      <td>GN15590</td>\n",
       "      <td>Demonstrant/SW51114</td>\n",
       "    </tr>\n",
       "    <tr>\n",
       "      <th>3</th>\n",
       "      <td>104</td>\n",
       "      <td>0.03761986586629</td>\n",
       "      <td>0.03123905044049</td>\n",
       "      <td>0.01673034163253</td>\n",
       "      <td>0.07151161467383</td>\n",
       "      <td>0.07095941528678</td>\n",
       "      <td>0.01882759495224</td>\n",
       "      <td>0.05926011452036</td>\n",
       "      <td>0.03552260808647</td>\n",
       "      <td>0.03695578616184</td>\n",
       "      <td>0.11741871567254</td>\n",
       "      <td>0.11930082365870</td>\n",
       "      <td>0.01886106500201</td>\n",
       "      <td>0.35174880644296</td>\n",
       "      <td>0.33665755391121</td>\n",
       "      <td>0.12566855190665</td>\n",
       "      <td>724.95863377609</td>\n",
       "      <td>Mirakel</td>\n",
       "      <td>SW38337/NK98533//NK98535</td>\n",
       "    </tr>\n",
       "    <tr>\n",
       "      <th>4</th>\n",
       "      <td>105</td>\n",
       "      <td>0.03738327026512</td>\n",
       "      <td>0.03136086650193</td>\n",
       "      <td>0.01710331006999</td>\n",
       "      <td>0.07100314595706</td>\n",
       "      <td>0.07083886489272</td>\n",
       "      <td>0.01991639067131</td>\n",
       "      <td>0.05896704718490</td>\n",
       "      <td>0.03595094382763</td>\n",
       "      <td>0.03662439300575</td>\n",
       "      <td>0.11541233198339</td>\n",
       "      <td>0.11881457641721</td>\n",
       "      <td>0.02056020142772</td>\n",
       "      <td>0.34202057361072</td>\n",
       "      <td>0.29493974149227</td>\n",
       "      <td>0.12526533209928</td>\n",
       "      <td>740.97836812144</td>\n",
       "      <td>GN18751</td>\n",
       "      <td>QUARNA/GN03531</td>\n",
       "    </tr>\n",
       "  </tbody>\n",
       "</table>\n",
       "</div>"
      ],
      "text/plain": [
       "   Plot_ID   Blue_Mean_Value  Blue_Median_Value  Blue_Std_Dev_Value  \\\n",
       "0      101  0.04061894520185   0.03208063915372    0.02114911397436   \n",
       "1      102  0.03767789468789   0.03192751482129    0.01677714025841   \n",
       "2      103  0.03598714207278   0.02993765659630    0.01668460260122   \n",
       "3      104  0.03761986586629   0.03123905044049    0.01673034163253   \n",
       "4      105  0.03738327026512   0.03136086650193    0.01710331006999   \n",
       "\n",
       "   Green_Mean_Value  Green_Median_Value  Green_Std_Dev_Value  \\\n",
       "0  0.07870103181063    0.07948572933674     0.02245027108097   \n",
       "1  0.07104846627470    0.07145847380161     0.01914662569990   \n",
       "2  0.06626562284965    0.06507416069508     0.02093992628317   \n",
       "3  0.07151161467383    0.07095941528678     0.01882759495224   \n",
       "4  0.07100314595706    0.07083886489272     0.01991639067131   \n",
       "\n",
       "     Red_Mean_Value  Red_Median_Value  Red_Std_Dev_Value  RedEdge_Mean_Value  \\\n",
       "0  0.06270654071841  0.04554501548410   0.04129163655660    0.13876918519485   \n",
       "1  0.05990203527222  0.03559897840023   0.03666797506687    0.11748223797816   \n",
       "2  0.05699693088406  0.03257780894637   0.03662318201242    0.10979506059642   \n",
       "3  0.05926011452036  0.03552260808647   0.03695578616184    0.11741871567254   \n",
       "4  0.05896704718490  0.03595094382763   0.03662439300575    0.11541233198339   \n",
       "\n",
       "   RedEdge_Median_Value  RedEdge_Std_Dev_Value    NIR_Mean_Value  \\\n",
       "0      0.12723475694656       0.04252153906600  0.38818282451428   \n",
       "1      0.12158375978470       0.02169653428424  0.34488689839134   \n",
       "2      0.11390871554613       0.02232043835459  0.33233053659994   \n",
       "3      0.11930082365870       0.01886106500201  0.35174880644296   \n",
       "4      0.11881457641721       0.02056020142772  0.34202057361072   \n",
       "\n",
       "   NIR_Median_Value  NIR_Std_Dev_Value       GrainYield     Name  \\\n",
       "0  0.29145963490009   0.18870975875866  654.70815939279    Zebra   \n",
       "1  0.26160323619843   0.13407702040360   709.5954459203  GN18666   \n",
       "2  0.28924092650414   0.11769317517429  707.10056925996  GN15590   \n",
       "3  0.33665755391121   0.12566855190665  724.95863377609  Mirakel   \n",
       "4  0.29493974149227   0.12526533209928  740.97836812144  GN18751   \n",
       "\n",
       "                   Pedigree  \n",
       "0              Ralle/Dragon  \n",
       "1           GN04528/GN03509  \n",
       "2       Demonstrant/SW51114  \n",
       "3  SW38337/NK98533//NK98535  \n",
       "4            QUARNA/GN03531  "
      ]
     },
     "metadata": {},
     "output_type": "display_data"
    },
    {
     "name": "stdout",
     "output_type": "stream",
     "text": [
      "Graminor_130720_yield\n"
     ]
    },
    {
     "data": {
      "text/html": [
       "<div>\n",
       "<style scoped>\n",
       "    .dataframe tbody tr th:only-of-type {\n",
       "        vertical-align: middle;\n",
       "    }\n",
       "\n",
       "    .dataframe tbody tr th {\n",
       "        vertical-align: top;\n",
       "    }\n",
       "\n",
       "    .dataframe thead th {\n",
       "        text-align: right;\n",
       "    }\n",
       "</style>\n",
       "<table border=\"1\" class=\"dataframe\">\n",
       "  <thead>\n",
       "    <tr style=\"text-align: right;\">\n",
       "      <th></th>\n",
       "      <th>Plot_ID</th>\n",
       "      <th>Blue_Mean_Value</th>\n",
       "      <th>Blue_Median_Value</th>\n",
       "      <th>Blue_Std_Dev_Value</th>\n",
       "      <th>Green_Mean_Value</th>\n",
       "      <th>Green_Median_Value</th>\n",
       "      <th>Green_Std_Dev_Value</th>\n",
       "      <th>Red_Mean_Value</th>\n",
       "      <th>Red_Median_Value</th>\n",
       "      <th>Red_Std_Dev_Value</th>\n",
       "      <th>RedEdge_Mean_Value</th>\n",
       "      <th>RedEdge_Median_Value</th>\n",
       "      <th>RedEdge_Std_Dev_Value</th>\n",
       "      <th>NIR_Mean_Value</th>\n",
       "      <th>NIR_Median_Value</th>\n",
       "      <th>NIR_Std_Dev_Value</th>\n",
       "      <th>GrainYield</th>\n",
       "      <th>Name</th>\n",
       "      <th>Pedigree</th>\n",
       "    </tr>\n",
       "  </thead>\n",
       "  <tbody>\n",
       "    <tr>\n",
       "      <th>0</th>\n",
       "      <td>101</td>\n",
       "      <td>0.02069676422398</td>\n",
       "      <td>0.01943485252559</td>\n",
       "      <td>0.00713763336106</td>\n",
       "      <td>0.05826330034885</td>\n",
       "      <td>0.05616546049714</td>\n",
       "      <td>0.01644311211597</td>\n",
       "      <td>0.03495327281505</td>\n",
       "      <td>0.03275330737233</td>\n",
       "      <td>0.01233889247247</td>\n",
       "      <td>0.13676161535444</td>\n",
       "      <td>0.13417160511017</td>\n",
       "      <td>0.02814143746396</td>\n",
       "      <td>0.42050718372232</td>\n",
       "      <td>0.42078544199467</td>\n",
       "      <td>0.05487823318374</td>\n",
       "      <td>654.70815939279</td>\n",
       "      <td>Zebra</td>\n",
       "      <td>Ralle/Dragon</td>\n",
       "    </tr>\n",
       "    <tr>\n",
       "      <th>1</th>\n",
       "      <td>102</td>\n",
       "      <td>0.01979138687197</td>\n",
       "      <td>0.01763908099383</td>\n",
       "      <td>0.00823058270283</td>\n",
       "      <td>0.05151894620904</td>\n",
       "      <td>0.04844906181097</td>\n",
       "      <td>0.01541690384574</td>\n",
       "      <td>0.03175766091482</td>\n",
       "      <td>0.02694509271532</td>\n",
       "      <td>0.01650096111238</td>\n",
       "      <td>0.12486886421940</td>\n",
       "      <td>0.12227071076631</td>\n",
       "      <td>0.02387295415382</td>\n",
       "      <td>0.42461855390711</td>\n",
       "      <td>0.42546781897545</td>\n",
       "      <td>0.05480916022830</td>\n",
       "      <td>709.5954459203</td>\n",
       "      <td>GN18666</td>\n",
       "      <td>GN04528/GN03509</td>\n",
       "    </tr>\n",
       "    <tr>\n",
       "      <th>2</th>\n",
       "      <td>103</td>\n",
       "      <td>0.01926402060474</td>\n",
       "      <td>0.01708567328751</td>\n",
       "      <td>0.00795459530279</td>\n",
       "      <td>0.05416055000902</td>\n",
       "      <td>0.05166833475232</td>\n",
       "      <td>0.01513590154284</td>\n",
       "      <td>0.03419611039174</td>\n",
       "      <td>0.02986929006875</td>\n",
       "      <td>0.01638024041773</td>\n",
       "      <td>0.12673902599630</td>\n",
       "      <td>0.12535209953785</td>\n",
       "      <td>0.02317579025933</td>\n",
       "      <td>0.41291824620216</td>\n",
       "      <td>0.42028772830963</td>\n",
       "      <td>0.05366420479830</td>\n",
       "      <td>707.10056925996</td>\n",
       "      <td>GN15590</td>\n",
       "      <td>Demonstrant/SW51114</td>\n",
       "    </tr>\n",
       "    <tr>\n",
       "      <th>3</th>\n",
       "      <td>104</td>\n",
       "      <td>0.02050460974841</td>\n",
       "      <td>0.01794050540775</td>\n",
       "      <td>0.00939622542776</td>\n",
       "      <td>0.05721370392068</td>\n",
       "      <td>0.05460357666016</td>\n",
       "      <td>0.01597928815362</td>\n",
       "      <td>0.03579915599326</td>\n",
       "      <td>0.02966742496937</td>\n",
       "      <td>0.02000861486508</td>\n",
       "      <td>0.13183958163480</td>\n",
       "      <td>0.13090482354164</td>\n",
       "      <td>0.02377109903348</td>\n",
       "      <td>0.41544207426076</td>\n",
       "      <td>0.42073749005795</td>\n",
       "      <td>0.06267779402184</td>\n",
       "      <td>724.95863377609</td>\n",
       "      <td>Mirakel</td>\n",
       "      <td>SW38337/NK98533//NK98535</td>\n",
       "    </tr>\n",
       "    <tr>\n",
       "      <th>4</th>\n",
       "      <td>105</td>\n",
       "      <td>0.01837324907977</td>\n",
       "      <td>0.01588864158839</td>\n",
       "      <td>0.00861284169206</td>\n",
       "      <td>0.05164338378684</td>\n",
       "      <td>0.04833815060556</td>\n",
       "      <td>0.01554543484438</td>\n",
       "      <td>0.02985143612242</td>\n",
       "      <td>0.02423826511949</td>\n",
       "      <td>0.01881824830411</td>\n",
       "      <td>0.12904812267484</td>\n",
       "      <td>0.12712229043245</td>\n",
       "      <td>0.02400155983392</td>\n",
       "      <td>0.43026833540201</td>\n",
       "      <td>0.43655633926392</td>\n",
       "      <td>0.05824927252099</td>\n",
       "      <td>740.97836812144</td>\n",
       "      <td>GN18751</td>\n",
       "      <td>QUARNA/GN03531</td>\n",
       "    </tr>\n",
       "  </tbody>\n",
       "</table>\n",
       "</div>"
      ],
      "text/plain": [
       "   Plot_ID   Blue_Mean_Value  Blue_Median_Value  Blue_Std_Dev_Value  \\\n",
       "0      101  0.02069676422398   0.01943485252559    0.00713763336106   \n",
       "1      102  0.01979138687197   0.01763908099383    0.00823058270283   \n",
       "2      103  0.01926402060474   0.01708567328751    0.00795459530279   \n",
       "3      104  0.02050460974841   0.01794050540775    0.00939622542776   \n",
       "4      105  0.01837324907977   0.01588864158839    0.00861284169206   \n",
       "\n",
       "   Green_Mean_Value  Green_Median_Value  Green_Std_Dev_Value  \\\n",
       "0  0.05826330034885    0.05616546049714     0.01644311211597   \n",
       "1  0.05151894620904    0.04844906181097     0.01541690384574   \n",
       "2  0.05416055000902    0.05166833475232     0.01513590154284   \n",
       "3  0.05721370392068    0.05460357666016     0.01597928815362   \n",
       "4  0.05164338378684    0.04833815060556     0.01554543484438   \n",
       "\n",
       "     Red_Mean_Value  Red_Median_Value  Red_Std_Dev_Value  RedEdge_Mean_Value  \\\n",
       "0  0.03495327281505  0.03275330737233   0.01233889247247    0.13676161535444   \n",
       "1  0.03175766091482  0.02694509271532   0.01650096111238    0.12486886421940   \n",
       "2  0.03419611039174  0.02986929006875   0.01638024041773    0.12673902599630   \n",
       "3  0.03579915599326  0.02966742496937   0.02000861486508    0.13183958163480   \n",
       "4  0.02985143612242  0.02423826511949   0.01881824830411    0.12904812267484   \n",
       "\n",
       "   RedEdge_Median_Value  RedEdge_Std_Dev_Value    NIR_Mean_Value  \\\n",
       "0      0.13417160511017       0.02814143746396  0.42050718372232   \n",
       "1      0.12227071076631       0.02387295415382  0.42461855390711   \n",
       "2      0.12535209953785       0.02317579025933  0.41291824620216   \n",
       "3      0.13090482354164       0.02377109903348  0.41544207426076   \n",
       "4      0.12712229043245       0.02400155983392  0.43026833540201   \n",
       "\n",
       "   NIR_Median_Value  NIR_Std_Dev_Value       GrainYield     Name  \\\n",
       "0  0.42078544199467   0.05487823318374  654.70815939279    Zebra   \n",
       "1  0.42546781897545   0.05480916022830   709.5954459203  GN18666   \n",
       "2  0.42028772830963   0.05366420479830  707.10056925996  GN15590   \n",
       "3  0.42073749005795   0.06267779402184  724.95863377609  Mirakel   \n",
       "4  0.43655633926392   0.05824927252099  740.97836812144  GN18751   \n",
       "\n",
       "                   Pedigree  \n",
       "0              Ralle/Dragon  \n",
       "1           GN04528/GN03509  \n",
       "2       Demonstrant/SW51114  \n",
       "3  SW38337/NK98533//NK98535  \n",
       "4            QUARNA/GN03531  "
      ]
     },
     "metadata": {},
     "output_type": "display_data"
    },
    {
     "name": "stdout",
     "output_type": "stream",
     "text": [
      "Graminor_140820_yield\n"
     ]
    },
    {
     "data": {
      "text/html": [
       "<div>\n",
       "<style scoped>\n",
       "    .dataframe tbody tr th:only-of-type {\n",
       "        vertical-align: middle;\n",
       "    }\n",
       "\n",
       "    .dataframe tbody tr th {\n",
       "        vertical-align: top;\n",
       "    }\n",
       "\n",
       "    .dataframe thead th {\n",
       "        text-align: right;\n",
       "    }\n",
       "</style>\n",
       "<table border=\"1\" class=\"dataframe\">\n",
       "  <thead>\n",
       "    <tr style=\"text-align: right;\">\n",
       "      <th></th>\n",
       "      <th>Plot_ID</th>\n",
       "      <th>Blue_Mean_Value</th>\n",
       "      <th>Blue_Median_Value</th>\n",
       "      <th>Blue_Std_Dev_Value</th>\n",
       "      <th>Green_Mean_Value</th>\n",
       "      <th>Green_Median_Value</th>\n",
       "      <th>Green_Std_Dev_Value</th>\n",
       "      <th>Red_Mean_Value</th>\n",
       "      <th>Red_Median_Value</th>\n",
       "      <th>Red_Std_Dev_Value</th>\n",
       "      <th>RedEdge_Mean_Value</th>\n",
       "      <th>RedEdge_Median_Value</th>\n",
       "      <th>RedEdge_Std_Dev_Value</th>\n",
       "      <th>NIR_Mean_Value</th>\n",
       "      <th>NIR_Median_Value</th>\n",
       "      <th>NIR_Std_Dev_Value</th>\n",
       "      <th>GrainYield</th>\n",
       "      <th>Name</th>\n",
       "      <th>Pedigree</th>\n",
       "    </tr>\n",
       "  </thead>\n",
       "  <tbody>\n",
       "    <tr>\n",
       "      <th>0</th>\n",
       "      <td>101</td>\n",
       "      <td>0.06365760140611</td>\n",
       "      <td>0.05545852705836</td>\n",
       "      <td>0.03191644483565</td>\n",
       "      <td>0.11812153104876</td>\n",
       "      <td>0.10966078937054</td>\n",
       "      <td>0.04482303933188</td>\n",
       "      <td>0.17333572438062</td>\n",
       "      <td>0.16714072972536</td>\n",
       "      <td>0.06866946770430</td>\n",
       "      <td>0.20563688416969</td>\n",
       "      <td>0.20293719321489</td>\n",
       "      <td>0.05332301355665</td>\n",
       "      <td>0.34110456771591</td>\n",
       "      <td>0.32879169285297</td>\n",
       "      <td>0.08087230633504</td>\n",
       "      <td>654.70815939279</td>\n",
       "      <td>Zebra</td>\n",
       "      <td>Ralle/Dragon</td>\n",
       "    </tr>\n",
       "    <tr>\n",
       "      <th>1</th>\n",
       "      <td>102</td>\n",
       "      <td>0.04602342843367</td>\n",
       "      <td>0.04171454161406</td>\n",
       "      <td>0.01978163008126</td>\n",
       "      <td>0.09345378414026</td>\n",
       "      <td>0.08938934281468</td>\n",
       "      <td>0.03196993668411</td>\n",
       "      <td>0.14311977320449</td>\n",
       "      <td>0.13603235781193</td>\n",
       "      <td>0.05269293891000</td>\n",
       "      <td>0.18447293562952</td>\n",
       "      <td>0.18076609820127</td>\n",
       "      <td>0.04526402240021</td>\n",
       "      <td>0.31890065741105</td>\n",
       "      <td>0.30829742550850</td>\n",
       "      <td>0.07063567135419</td>\n",
       "      <td>709.5954459203</td>\n",
       "      <td>GN18666</td>\n",
       "      <td>GN04528/GN03509</td>\n",
       "    </tr>\n",
       "    <tr>\n",
       "      <th>2</th>\n",
       "      <td>103</td>\n",
       "      <td>0.04799051061602</td>\n",
       "      <td>0.04265864379704</td>\n",
       "      <td>0.02466847904337</td>\n",
       "      <td>0.09218440887095</td>\n",
       "      <td>0.08891965448856</td>\n",
       "      <td>0.03934829412986</td>\n",
       "      <td>0.14013370373018</td>\n",
       "      <td>0.12782566994429</td>\n",
       "      <td>0.06217950875001</td>\n",
       "      <td>0.17140608798056</td>\n",
       "      <td>0.16898018121719</td>\n",
       "      <td>0.05491441406617</td>\n",
       "      <td>0.29243074427196</td>\n",
       "      <td>0.28528659045696</td>\n",
       "      <td>0.07384597885741</td>\n",
       "      <td>707.10056925996</td>\n",
       "      <td>GN15590</td>\n",
       "      <td>Demonstrant/SW51114</td>\n",
       "    </tr>\n",
       "    <tr>\n",
       "      <th>3</th>\n",
       "      <td>104</td>\n",
       "      <td>0.05174264129380</td>\n",
       "      <td>0.04533242620528</td>\n",
       "      <td>0.02540195632359</td>\n",
       "      <td>0.09934769357895</td>\n",
       "      <td>0.09389511123300</td>\n",
       "      <td>0.03683590474429</td>\n",
       "      <td>0.14716692505053</td>\n",
       "      <td>0.13479708880186</td>\n",
       "      <td>0.05574349271070</td>\n",
       "      <td>0.18468032687470</td>\n",
       "      <td>0.17875427007675</td>\n",
       "      <td>0.04726028271207</td>\n",
       "      <td>0.31275551435506</td>\n",
       "      <td>0.30263090133667</td>\n",
       "      <td>0.06380367267246</td>\n",
       "      <td>724.95863377609</td>\n",
       "      <td>Mirakel</td>\n",
       "      <td>SW38337/NK98533//NK98535</td>\n",
       "    </tr>\n",
       "    <tr>\n",
       "      <th>4</th>\n",
       "      <td>105</td>\n",
       "      <td>0.03889165480757</td>\n",
       "      <td>0.03555231168866</td>\n",
       "      <td>0.01586311337935</td>\n",
       "      <td>0.08034058928732</td>\n",
       "      <td>0.07677070051432</td>\n",
       "      <td>0.02715563519750</td>\n",
       "      <td>0.11948707410937</td>\n",
       "      <td>0.11304578930139</td>\n",
       "      <td>0.04295033026747</td>\n",
       "      <td>0.16187756520637</td>\n",
       "      <td>0.15748612582684</td>\n",
       "      <td>0.04141167140874</td>\n",
       "      <td>0.29081673278985</td>\n",
       "      <td>0.27819603681564</td>\n",
       "      <td>0.07141687169922</td>\n",
       "      <td>740.97836812144</td>\n",
       "      <td>GN18751</td>\n",
       "      <td>QUARNA/GN03531</td>\n",
       "    </tr>\n",
       "  </tbody>\n",
       "</table>\n",
       "</div>"
      ],
      "text/plain": [
       "   Plot_ID   Blue_Mean_Value  Blue_Median_Value  Blue_Std_Dev_Value  \\\n",
       "0      101  0.06365760140611   0.05545852705836    0.03191644483565   \n",
       "1      102  0.04602342843367   0.04171454161406    0.01978163008126   \n",
       "2      103  0.04799051061602   0.04265864379704    0.02466847904337   \n",
       "3      104  0.05174264129380   0.04533242620528    0.02540195632359   \n",
       "4      105  0.03889165480757   0.03555231168866    0.01586311337935   \n",
       "\n",
       "   Green_Mean_Value  Green_Median_Value  Green_Std_Dev_Value  \\\n",
       "0  0.11812153104876    0.10966078937054     0.04482303933188   \n",
       "1  0.09345378414026    0.08938934281468     0.03196993668411   \n",
       "2  0.09218440887095    0.08891965448856     0.03934829412986   \n",
       "3  0.09934769357895    0.09389511123300     0.03683590474429   \n",
       "4  0.08034058928732    0.07677070051432     0.02715563519750   \n",
       "\n",
       "     Red_Mean_Value  Red_Median_Value  Red_Std_Dev_Value  RedEdge_Mean_Value  \\\n",
       "0  0.17333572438062  0.16714072972536   0.06866946770430    0.20563688416969   \n",
       "1  0.14311977320449  0.13603235781193   0.05269293891000    0.18447293562952   \n",
       "2  0.14013370373018  0.12782566994429   0.06217950875001    0.17140608798056   \n",
       "3  0.14716692505053  0.13479708880186   0.05574349271070    0.18468032687470   \n",
       "4  0.11948707410937  0.11304578930139   0.04295033026747    0.16187756520637   \n",
       "\n",
       "   RedEdge_Median_Value  RedEdge_Std_Dev_Value    NIR_Mean_Value  \\\n",
       "0      0.20293719321489       0.05332301355665  0.34110456771591   \n",
       "1      0.18076609820127       0.04526402240021  0.31890065741105   \n",
       "2      0.16898018121719       0.05491441406617  0.29243074427196   \n",
       "3      0.17875427007675       0.04726028271207  0.31275551435506   \n",
       "4      0.15748612582684       0.04141167140874  0.29081673278985   \n",
       "\n",
       "   NIR_Median_Value  NIR_Std_Dev_Value       GrainYield     Name  \\\n",
       "0  0.32879169285297   0.08087230633504  654.70815939279    Zebra   \n",
       "1  0.30829742550850   0.07063567135419   709.5954459203  GN18666   \n",
       "2  0.28528659045696   0.07384597885741  707.10056925996  GN15590   \n",
       "3  0.30263090133667   0.06380367267246  724.95863377609  Mirakel   \n",
       "4  0.27819603681564   0.07141687169922  740.97836812144  GN18751   \n",
       "\n",
       "                   Pedigree  \n",
       "0              Ralle/Dragon  \n",
       "1           GN04528/GN03509  \n",
       "2       Demonstrant/SW51114  \n",
       "3  SW38337/NK98533//NK98535  \n",
       "4            QUARNA/GN03531  "
      ]
     },
     "metadata": {},
     "output_type": "display_data"
    },
    {
     "name": "stdout",
     "output_type": "stream",
     "text": [
      "Graminor_300720_yield\n"
     ]
    },
    {
     "data": {
      "text/html": [
       "<div>\n",
       "<style scoped>\n",
       "    .dataframe tbody tr th:only-of-type {\n",
       "        vertical-align: middle;\n",
       "    }\n",
       "\n",
       "    .dataframe tbody tr th {\n",
       "        vertical-align: top;\n",
       "    }\n",
       "\n",
       "    .dataframe thead th {\n",
       "        text-align: right;\n",
       "    }\n",
       "</style>\n",
       "<table border=\"1\" class=\"dataframe\">\n",
       "  <thead>\n",
       "    <tr style=\"text-align: right;\">\n",
       "      <th></th>\n",
       "      <th>Plot_ID</th>\n",
       "      <th>Blue_Mean_Value</th>\n",
       "      <th>Blue_Median_Value</th>\n",
       "      <th>Blue_Std_Dev_Value</th>\n",
       "      <th>Green_Mean_Value</th>\n",
       "      <th>Green_Median_Value</th>\n",
       "      <th>Green_Std_Dev_Value</th>\n",
       "      <th>Red_Mean_Value</th>\n",
       "      <th>Red_Median_Value</th>\n",
       "      <th>Red_Std_Dev_Value</th>\n",
       "      <th>RedEdge_Mean_Value</th>\n",
       "      <th>RedEdge_Median_Value</th>\n",
       "      <th>RedEdge_Std_Dev_Value</th>\n",
       "      <th>NIR_Mean_Value</th>\n",
       "      <th>NIR_Median_Value</th>\n",
       "      <th>NIR_Std_Dev_Value</th>\n",
       "      <th>GrainYield</th>\n",
       "      <th>Name</th>\n",
       "      <th>Pedigree</th>\n",
       "    </tr>\n",
       "  </thead>\n",
       "  <tbody>\n",
       "    <tr>\n",
       "      <th>0</th>\n",
       "      <td>101</td>\n",
       "      <td>0.02576075868035</td>\n",
       "      <td>0.02325643971562</td>\n",
       "      <td>0.01061978988807</td>\n",
       "      <td>0.06655299323890</td>\n",
       "      <td>0.06081332825124</td>\n",
       "      <td>0.02544311201295</td>\n",
       "      <td>0.05936101282825</td>\n",
       "      <td>0.05478893965483</td>\n",
       "      <td>0.02163396467863</td>\n",
       "      <td>0.14486686207498</td>\n",
       "      <td>0.13804723322392</td>\n",
       "      <td>0.03934781873331</td>\n",
       "      <td>0.28517906908081</td>\n",
       "      <td>0.27885347604752</td>\n",
       "      <td>0.05097086459055</td>\n",
       "      <td>654.70815939279</td>\n",
       "      <td>Zebra</td>\n",
       "      <td>Ralle/Dragon</td>\n",
       "    </tr>\n",
       "    <tr>\n",
       "      <th>1</th>\n",
       "      <td>102</td>\n",
       "      <td>0.02537091666789</td>\n",
       "      <td>0.02383422106504</td>\n",
       "      <td>0.00913779234596</td>\n",
       "      <td>0.06735055602576</td>\n",
       "      <td>0.06415249407291</td>\n",
       "      <td>0.02231326135999</td>\n",
       "      <td>0.05963779036267</td>\n",
       "      <td>0.05711416527629</td>\n",
       "      <td>0.01885081842209</td>\n",
       "      <td>0.14604125529319</td>\n",
       "      <td>0.14228685200214</td>\n",
       "      <td>0.03528391655293</td>\n",
       "      <td>0.27988822493242</td>\n",
       "      <td>0.27774173021317</td>\n",
       "      <td>0.04725911391982</td>\n",
       "      <td>709.5954459203</td>\n",
       "      <td>GN18666</td>\n",
       "      <td>GN04528/GN03509</td>\n",
       "    </tr>\n",
       "    <tr>\n",
       "      <th>2</th>\n",
       "      <td>103</td>\n",
       "      <td>0.03299730945502</td>\n",
       "      <td>0.02948808670044</td>\n",
       "      <td>0.01548449563012</td>\n",
       "      <td>0.09003070015729</td>\n",
       "      <td>0.08384364098310</td>\n",
       "      <td>0.03487663171271</td>\n",
       "      <td>0.07078313040187</td>\n",
       "      <td>0.06626740098000</td>\n",
       "      <td>0.02840810666941</td>\n",
       "      <td>0.18827160670458</td>\n",
       "      <td>0.18030296266079</td>\n",
       "      <td>0.05359960544511</td>\n",
       "      <td>0.33421497480850</td>\n",
       "      <td>0.32662737369537</td>\n",
       "      <td>0.06313132851440</td>\n",
       "      <td>707.10056925996</td>\n",
       "      <td>GN15590</td>\n",
       "      <td>Demonstrant/SW51114</td>\n",
       "    </tr>\n",
       "    <tr>\n",
       "      <th>3</th>\n",
       "      <td>104</td>\n",
       "      <td>0.02468399145378</td>\n",
       "      <td>0.02294030319899</td>\n",
       "      <td>0.00930754301133</td>\n",
       "      <td>0.07070330639006</td>\n",
       "      <td>0.06694783270359</td>\n",
       "      <td>0.02412235104270</td>\n",
       "      <td>0.05251882749716</td>\n",
       "      <td>0.05006634443998</td>\n",
       "      <td>0.01589181582385</td>\n",
       "      <td>0.15621307648422</td>\n",
       "      <td>0.15148229151964</td>\n",
       "      <td>0.03815872164227</td>\n",
       "      <td>0.31910715876824</td>\n",
       "      <td>0.31512682139873</td>\n",
       "      <td>0.05500252304765</td>\n",
       "      <td>724.95863377609</td>\n",
       "      <td>Mirakel</td>\n",
       "      <td>SW38337/NK98533//NK98535</td>\n",
       "    </tr>\n",
       "    <tr>\n",
       "      <th>4</th>\n",
       "      <td>105</td>\n",
       "      <td>0.02271655872337</td>\n",
       "      <td>0.02065573260188</td>\n",
       "      <td>0.00864912137788</td>\n",
       "      <td>0.06045417497354</td>\n",
       "      <td>0.05618909001350</td>\n",
       "      <td>0.02099032097797</td>\n",
       "      <td>0.06191970540196</td>\n",
       "      <td>0.05744943767786</td>\n",
       "      <td>0.02087346855396</td>\n",
       "      <td>0.13618078992932</td>\n",
       "      <td>0.13080714643002</td>\n",
       "      <td>0.03468981901093</td>\n",
       "      <td>0.25650245627015</td>\n",
       "      <td>0.25203633308411</td>\n",
       "      <td>0.04447177614298</td>\n",
       "      <td>740.97836812144</td>\n",
       "      <td>GN18751</td>\n",
       "      <td>QUARNA/GN03531</td>\n",
       "    </tr>\n",
       "  </tbody>\n",
       "</table>\n",
       "</div>"
      ],
      "text/plain": [
       "   Plot_ID   Blue_Mean_Value  Blue_Median_Value  Blue_Std_Dev_Value  \\\n",
       "0      101  0.02576075868035   0.02325643971562    0.01061978988807   \n",
       "1      102  0.02537091666789   0.02383422106504    0.00913779234596   \n",
       "2      103  0.03299730945502   0.02948808670044    0.01548449563012   \n",
       "3      104  0.02468399145378   0.02294030319899    0.00930754301133   \n",
       "4      105  0.02271655872337   0.02065573260188    0.00864912137788   \n",
       "\n",
       "   Green_Mean_Value  Green_Median_Value  Green_Std_Dev_Value  \\\n",
       "0  0.06655299323890    0.06081332825124     0.02544311201295   \n",
       "1  0.06735055602576    0.06415249407291     0.02231326135999   \n",
       "2  0.09003070015729    0.08384364098310     0.03487663171271   \n",
       "3  0.07070330639006    0.06694783270359     0.02412235104270   \n",
       "4  0.06045417497354    0.05618909001350     0.02099032097797   \n",
       "\n",
       "     Red_Mean_Value  Red_Median_Value  Red_Std_Dev_Value  RedEdge_Mean_Value  \\\n",
       "0  0.05936101282825  0.05478893965483   0.02163396467863    0.14486686207498   \n",
       "1  0.05963779036267  0.05711416527629   0.01885081842209    0.14604125529319   \n",
       "2  0.07078313040187  0.06626740098000   0.02840810666941    0.18827160670458   \n",
       "3  0.05251882749716  0.05006634443998   0.01589181582385    0.15621307648422   \n",
       "4  0.06191970540196  0.05744943767786   0.02087346855396    0.13618078992932   \n",
       "\n",
       "   RedEdge_Median_Value  RedEdge_Std_Dev_Value    NIR_Mean_Value  \\\n",
       "0      0.13804723322392       0.03934781873331  0.28517906908081   \n",
       "1      0.14228685200214       0.03528391655293  0.27988822493242   \n",
       "2      0.18030296266079       0.05359960544511  0.33421497480850   \n",
       "3      0.15148229151964       0.03815872164227  0.31910715876824   \n",
       "4      0.13080714643002       0.03468981901093  0.25650245627015   \n",
       "\n",
       "   NIR_Median_Value  NIR_Std_Dev_Value       GrainYield     Name  \\\n",
       "0  0.27885347604752   0.05097086459055  654.70815939279    Zebra   \n",
       "1  0.27774173021317   0.04725911391982   709.5954459203  GN18666   \n",
       "2  0.32662737369537   0.06313132851440  707.10056925996  GN15590   \n",
       "3  0.31512682139873   0.05500252304765  724.95863377609  Mirakel   \n",
       "4  0.25203633308411   0.04447177614298  740.97836812144  GN18751   \n",
       "\n",
       "                   Pedigree  \n",
       "0              Ralle/Dragon  \n",
       "1           GN04528/GN03509  \n",
       "2       Demonstrant/SW51114  \n",
       "3  SW38337/NK98533//NK98535  \n",
       "4            QUARNA/GN03531  "
      ]
     },
     "metadata": {},
     "output_type": "display_data"
    },
    {
     "name": "stdout",
     "output_type": "stream",
     "text": [
      "Graminor_010720_yield\n"
     ]
    },
    {
     "data": {
      "text/html": [
       "<div>\n",
       "<style scoped>\n",
       "    .dataframe tbody tr th:only-of-type {\n",
       "        vertical-align: middle;\n",
       "    }\n",
       "\n",
       "    .dataframe tbody tr th {\n",
       "        vertical-align: top;\n",
       "    }\n",
       "\n",
       "    .dataframe thead th {\n",
       "        text-align: right;\n",
       "    }\n",
       "</style>\n",
       "<table border=\"1\" class=\"dataframe\">\n",
       "  <thead>\n",
       "    <tr style=\"text-align: right;\">\n",
       "      <th></th>\n",
       "      <th>Plot_ID</th>\n",
       "      <th>Blue_Mean_Value</th>\n",
       "      <th>Blue_Median_Value</th>\n",
       "      <th>Blue_Std_Dev_Value</th>\n",
       "      <th>Green_Mean_Value</th>\n",
       "      <th>Green_Median_Value</th>\n",
       "      <th>Green_Std_Dev_Value</th>\n",
       "      <th>Red_Mean_Value</th>\n",
       "      <th>Red_Median_Value</th>\n",
       "      <th>Red_Std_Dev_Value</th>\n",
       "      <th>RedEdge_Mean_Value</th>\n",
       "      <th>RedEdge_Median_Value</th>\n",
       "      <th>RedEdge_Std_Dev_Value</th>\n",
       "      <th>NIR_Mean_Value</th>\n",
       "      <th>NIR_Median_Value</th>\n",
       "      <th>NIR_Std_Dev_Value</th>\n",
       "      <th>GrainYield</th>\n",
       "      <th>Name</th>\n",
       "      <th>Pedigree</th>\n",
       "    </tr>\n",
       "  </thead>\n",
       "  <tbody>\n",
       "    <tr>\n",
       "      <th>0</th>\n",
       "      <td>151</td>\n",
       "      <td>0.05379177662822</td>\n",
       "      <td>0.05252161063254</td>\n",
       "      <td>0.01360181542226</td>\n",
       "      <td>0.14755533898982</td>\n",
       "      <td>0.14502110332251</td>\n",
       "      <td>0.03336375231653</td>\n",
       "      <td>0.06624147084375</td>\n",
       "      <td>0.06502427533269</td>\n",
       "      <td>0.01408891577493</td>\n",
       "      <td>0.35692002414783</td>\n",
       "      <td>0.35323092341423</td>\n",
       "      <td>0.06067951718905</td>\n",
       "      <td>1.43886574570183</td>\n",
       "      <td>1.43700313568115</td>\n",
       "      <td>0.15702581777483</td>\n",
       "      <td>708.4544971537</td>\n",
       "      <td>GN20540</td>\n",
       "      <td>SW71139/GN07501</td>\n",
       "    </tr>\n",
       "    <tr>\n",
       "      <th>1</th>\n",
       "      <td>152</td>\n",
       "      <td>0.05630232519063</td>\n",
       "      <td>0.05525885522366</td>\n",
       "      <td>0.01361297295100</td>\n",
       "      <td>0.15130297684692</td>\n",
       "      <td>0.14930035918951</td>\n",
       "      <td>0.03156057574063</td>\n",
       "      <td>0.06935183182095</td>\n",
       "      <td>0.06863539665937</td>\n",
       "      <td>0.01397291426276</td>\n",
       "      <td>0.36398281138860</td>\n",
       "      <td>0.36128100752830</td>\n",
       "      <td>0.05480531475947</td>\n",
       "      <td>1.46203700257117</td>\n",
       "      <td>1.46168011426926</td>\n",
       "      <td>0.14745845386702</td>\n",
       "      <td>666.22785578748</td>\n",
       "      <td>GN20536</td>\n",
       "      <td>SW51069/GN03509</td>\n",
       "    </tr>\n",
       "    <tr>\n",
       "      <th>2</th>\n",
       "      <td>153</td>\n",
       "      <td>0.05581866168363</td>\n",
       "      <td>0.05491602979600</td>\n",
       "      <td>0.01366234955534</td>\n",
       "      <td>0.14984409771056</td>\n",
       "      <td>0.14838950335980</td>\n",
       "      <td>0.03156114876691</td>\n",
       "      <td>0.07128157057224</td>\n",
       "      <td>0.07078363746405</td>\n",
       "      <td>0.01402152831806</td>\n",
       "      <td>0.36529950482383</td>\n",
       "      <td>0.36303092539310</td>\n",
       "      <td>0.05747927232414</td>\n",
       "      <td>1.42356956429091</td>\n",
       "      <td>1.42449212074280</td>\n",
       "      <td>0.16563291042730</td>\n",
       "      <td>654.71149905123</td>\n",
       "      <td>GN20534</td>\n",
       "      <td>GN04526/GN08581</td>\n",
       "    </tr>\n",
       "    <tr>\n",
       "      <th>3</th>\n",
       "      <td>154</td>\n",
       "      <td>0.05221651453118</td>\n",
       "      <td>0.05004250630736</td>\n",
       "      <td>0.01414776939901</td>\n",
       "      <td>0.15213127229015</td>\n",
       "      <td>0.14721833169460</td>\n",
       "      <td>0.03534919132504</td>\n",
       "      <td>0.06451836063535</td>\n",
       "      <td>0.06284533441067</td>\n",
       "      <td>0.01410459988946</td>\n",
       "      <td>0.36550911230703</td>\n",
       "      <td>0.35865554213524</td>\n",
       "      <td>0.06053484750146</td>\n",
       "      <td>1.43809681055839</td>\n",
       "      <td>1.43727421760559</td>\n",
       "      <td>0.17504160878731</td>\n",
       "      <td>621.48614800759</td>\n",
       "      <td>GN20529</td>\n",
       "      <td>Krabat/GN08536</td>\n",
       "    </tr>\n",
       "    <tr>\n",
       "      <th>4</th>\n",
       "      <td>155</td>\n",
       "      <td>0.05131954050513</td>\n",
       "      <td>0.04993262328207</td>\n",
       "      <td>0.01210547909126</td>\n",
       "      <td>0.14590106296509</td>\n",
       "      <td>0.14262174814939</td>\n",
       "      <td>0.03069407565881</td>\n",
       "      <td>0.06442797513772</td>\n",
       "      <td>0.06338872760534</td>\n",
       "      <td>0.01247756180031</td>\n",
       "      <td>0.34706927251994</td>\n",
       "      <td>0.34286560118198</td>\n",
       "      <td>0.05769250304833</td>\n",
       "      <td>1.32617517443416</td>\n",
       "      <td>1.33971440792084</td>\n",
       "      <td>0.18010785252764</td>\n",
       "      <td>674.96440227704</td>\n",
       "      <td>Demonstrant</td>\n",
       "      <td>T1005/NK93512</td>\n",
       "    </tr>\n",
       "  </tbody>\n",
       "</table>\n",
       "</div>"
      ],
      "text/plain": [
       "   Plot_ID   Blue_Mean_Value  Blue_Median_Value  Blue_Std_Dev_Value  \\\n",
       "0      151  0.05379177662822   0.05252161063254    0.01360181542226   \n",
       "1      152  0.05630232519063   0.05525885522366    0.01361297295100   \n",
       "2      153  0.05581866168363   0.05491602979600    0.01366234955534   \n",
       "3      154  0.05221651453118   0.05004250630736    0.01414776939901   \n",
       "4      155  0.05131954050513   0.04993262328207    0.01210547909126   \n",
       "\n",
       "   Green_Mean_Value  Green_Median_Value  Green_Std_Dev_Value  \\\n",
       "0  0.14755533898982    0.14502110332251     0.03336375231653   \n",
       "1  0.15130297684692    0.14930035918951     0.03156057574063   \n",
       "2  0.14984409771056    0.14838950335980     0.03156114876691   \n",
       "3  0.15213127229015    0.14721833169460     0.03534919132504   \n",
       "4  0.14590106296509    0.14262174814939     0.03069407565881   \n",
       "\n",
       "     Red_Mean_Value  Red_Median_Value  Red_Std_Dev_Value  RedEdge_Mean_Value  \\\n",
       "0  0.06624147084375  0.06502427533269   0.01408891577493    0.35692002414783   \n",
       "1  0.06935183182095  0.06863539665937   0.01397291426276    0.36398281138860   \n",
       "2  0.07128157057224  0.07078363746405   0.01402152831806    0.36529950482383   \n",
       "3  0.06451836063535  0.06284533441067   0.01410459988946    0.36550911230703   \n",
       "4  0.06442797513772  0.06338872760534   0.01247756180031    0.34706927251994   \n",
       "\n",
       "   RedEdge_Median_Value  RedEdge_Std_Dev_Value    NIR_Mean_Value  \\\n",
       "0      0.35323092341423       0.06067951718905  1.43886574570183   \n",
       "1      0.36128100752830       0.05480531475947  1.46203700257117   \n",
       "2      0.36303092539310       0.05747927232414  1.42356956429091   \n",
       "3      0.35865554213524       0.06053484750146  1.43809681055839   \n",
       "4      0.34286560118198       0.05769250304833  1.32617517443416   \n",
       "\n",
       "   NIR_Median_Value  NIR_Std_Dev_Value       GrainYield         Name  \\\n",
       "0  1.43700313568115   0.15702581777483   708.4544971537      GN20540   \n",
       "1  1.46168011426926   0.14745845386702  666.22785578748      GN20536   \n",
       "2  1.42449212074280   0.16563291042730  654.71149905123      GN20534   \n",
       "3  1.43727421760559   0.17504160878731  621.48614800759      GN20529   \n",
       "4  1.33971440792084   0.18010785252764  674.96440227704  Demonstrant   \n",
       "\n",
       "          Pedigree  \n",
       "0  SW71139/GN07501  \n",
       "1  SW51069/GN03509  \n",
       "2  GN04526/GN08581  \n",
       "3   Krabat/GN08536  \n",
       "4    T1005/NK93512  "
      ]
     },
     "metadata": {},
     "output_type": "display_data"
    },
    {
     "name": "stdout",
     "output_type": "stream",
     "text": [
      "Graminor_170720_yield\n"
     ]
    },
    {
     "data": {
      "text/html": [
       "<div>\n",
       "<style scoped>\n",
       "    .dataframe tbody tr th:only-of-type {\n",
       "        vertical-align: middle;\n",
       "    }\n",
       "\n",
       "    .dataframe tbody tr th {\n",
       "        vertical-align: top;\n",
       "    }\n",
       "\n",
       "    .dataframe thead th {\n",
       "        text-align: right;\n",
       "    }\n",
       "</style>\n",
       "<table border=\"1\" class=\"dataframe\">\n",
       "  <thead>\n",
       "    <tr style=\"text-align: right;\">\n",
       "      <th></th>\n",
       "      <th>Plot_ID</th>\n",
       "      <th>Blue_Mean_Value</th>\n",
       "      <th>Blue_Median_Value</th>\n",
       "      <th>Blue_Std_Dev_Value</th>\n",
       "      <th>Green_Mean_Value</th>\n",
       "      <th>Green_Median_Value</th>\n",
       "      <th>Green_Std_Dev_Value</th>\n",
       "      <th>Red_Mean_Value</th>\n",
       "      <th>Red_Median_Value</th>\n",
       "      <th>Red_Std_Dev_Value</th>\n",
       "      <th>RedEdge_Mean_Value</th>\n",
       "      <th>RedEdge_Median_Value</th>\n",
       "      <th>RedEdge_Std_Dev_Value</th>\n",
       "      <th>NIR_Mean_Value</th>\n",
       "      <th>NIR_Median_Value</th>\n",
       "      <th>NIR_Std_Dev_Value</th>\n",
       "      <th>GrainYield</th>\n",
       "      <th>Name</th>\n",
       "      <th>Pedigree</th>\n",
       "    </tr>\n",
       "  </thead>\n",
       "  <tbody>\n",
       "    <tr>\n",
       "      <th>0</th>\n",
       "      <td>151</td>\n",
       "      <td>0.02343377995269</td>\n",
       "      <td>0.02228823490441</td>\n",
       "      <td>0.00556491155162</td>\n",
       "      <td>0.07125475712507</td>\n",
       "      <td>0.06793008744717</td>\n",
       "      <td>0.01753658915487</td>\n",
       "      <td>0.03576835509367</td>\n",
       "      <td>0.03432929515839</td>\n",
       "      <td>0.00836401676309</td>\n",
       "      <td>0.16306936094160</td>\n",
       "      <td>0.15943202376366</td>\n",
       "      <td>0.02947015541273</td>\n",
       "      <td>0.49507949110853</td>\n",
       "      <td>0.49244546890259</td>\n",
       "      <td>0.04850164397326</td>\n",
       "      <td>708.4544971537</td>\n",
       "      <td>GN20540</td>\n",
       "      <td>SW71139/GN07501</td>\n",
       "    </tr>\n",
       "    <tr>\n",
       "      <th>1</th>\n",
       "      <td>152</td>\n",
       "      <td>0.02525469302840</td>\n",
       "      <td>0.02431623544544</td>\n",
       "      <td>0.00599911289709</td>\n",
       "      <td>0.07479687658662</td>\n",
       "      <td>0.07310711592436</td>\n",
       "      <td>0.01577851472082</td>\n",
       "      <td>0.04544237876110</td>\n",
       "      <td>0.04503541067243</td>\n",
       "      <td>0.00861726460394</td>\n",
       "      <td>0.16542778119455</td>\n",
       "      <td>0.16368761658668</td>\n",
       "      <td>0.02672965490693</td>\n",
       "      <td>0.47253818556139</td>\n",
       "      <td>0.47009554505348</td>\n",
       "      <td>0.05283100292219</td>\n",
       "      <td>666.22785578748</td>\n",
       "      <td>GN20536</td>\n",
       "      <td>SW51069/GN03509</td>\n",
       "    </tr>\n",
       "    <tr>\n",
       "      <th>2</th>\n",
       "      <td>153</td>\n",
       "      <td>0.02480668742112</td>\n",
       "      <td>0.02390163391829</td>\n",
       "      <td>0.00550102558819</td>\n",
       "      <td>0.07311205194543</td>\n",
       "      <td>0.07059001177549</td>\n",
       "      <td>0.01683972574997</td>\n",
       "      <td>0.03955700796294</td>\n",
       "      <td>0.03885679692030</td>\n",
       "      <td>0.00797130033206</td>\n",
       "      <td>0.16582738759239</td>\n",
       "      <td>0.16280086338520</td>\n",
       "      <td>0.02860166522563</td>\n",
       "      <td>0.47931741681318</td>\n",
       "      <td>0.47816938161850</td>\n",
       "      <td>0.05103851436639</td>\n",
       "      <td>654.71149905123</td>\n",
       "      <td>GN20534</td>\n",
       "      <td>GN04526/GN08581</td>\n",
       "    </tr>\n",
       "    <tr>\n",
       "      <th>3</th>\n",
       "      <td>154</td>\n",
       "      <td>0.02525924274821</td>\n",
       "      <td>0.02424799464643</td>\n",
       "      <td>0.00618649621959</td>\n",
       "      <td>0.07810087012175</td>\n",
       "      <td>0.07628740742803</td>\n",
       "      <td>0.01815222592513</td>\n",
       "      <td>0.04339767656165</td>\n",
       "      <td>0.04275009967387</td>\n",
       "      <td>0.01087830786360</td>\n",
       "      <td>0.17309658179905</td>\n",
       "      <td>0.17022757232189</td>\n",
       "      <td>0.03060264127573</td>\n",
       "      <td>0.48882499744554</td>\n",
       "      <td>0.49033774435520</td>\n",
       "      <td>0.06037544835018</td>\n",
       "      <td>621.48614800759</td>\n",
       "      <td>GN20529</td>\n",
       "      <td>Krabat/GN08536</td>\n",
       "    </tr>\n",
       "    <tr>\n",
       "      <th>4</th>\n",
       "      <td>155</td>\n",
       "      <td>0.02441536834808</td>\n",
       "      <td>0.02308773249388</td>\n",
       "      <td>0.00580299482815</td>\n",
       "      <td>0.07226844755745</td>\n",
       "      <td>0.06872000545263</td>\n",
       "      <td>0.01730862903394</td>\n",
       "      <td>0.03954874765818</td>\n",
       "      <td>0.03835338726640</td>\n",
       "      <td>0.00840369471849</td>\n",
       "      <td>0.15841479522546</td>\n",
       "      <td>0.15390978753567</td>\n",
       "      <td>0.02757796324304</td>\n",
       "      <td>0.44960809775287</td>\n",
       "      <td>0.44838109612465</td>\n",
       "      <td>0.05277790051951</td>\n",
       "      <td>674.96440227704</td>\n",
       "      <td>Demonstrant</td>\n",
       "      <td>T1005/NK93512</td>\n",
       "    </tr>\n",
       "  </tbody>\n",
       "</table>\n",
       "</div>"
      ],
      "text/plain": [
       "   Plot_ID   Blue_Mean_Value  Blue_Median_Value  Blue_Std_Dev_Value  \\\n",
       "0      151  0.02343377995269   0.02228823490441    0.00556491155162   \n",
       "1      152  0.02525469302840   0.02431623544544    0.00599911289709   \n",
       "2      153  0.02480668742112   0.02390163391829    0.00550102558819   \n",
       "3      154  0.02525924274821   0.02424799464643    0.00618649621959   \n",
       "4      155  0.02441536834808   0.02308773249388    0.00580299482815   \n",
       "\n",
       "   Green_Mean_Value  Green_Median_Value  Green_Std_Dev_Value  \\\n",
       "0  0.07125475712507    0.06793008744717     0.01753658915487   \n",
       "1  0.07479687658662    0.07310711592436     0.01577851472082   \n",
       "2  0.07311205194543    0.07059001177549     0.01683972574997   \n",
       "3  0.07810087012175    0.07628740742803     0.01815222592513   \n",
       "4  0.07226844755745    0.06872000545263     0.01730862903394   \n",
       "\n",
       "     Red_Mean_Value  Red_Median_Value  Red_Std_Dev_Value  RedEdge_Mean_Value  \\\n",
       "0  0.03576835509367  0.03432929515839   0.00836401676309    0.16306936094160   \n",
       "1  0.04544237876110  0.04503541067243   0.00861726460394    0.16542778119455   \n",
       "2  0.03955700796294  0.03885679692030   0.00797130033206    0.16582738759239   \n",
       "3  0.04339767656165  0.04275009967387   0.01087830786360    0.17309658179905   \n",
       "4  0.03954874765818  0.03835338726640   0.00840369471849    0.15841479522546   \n",
       "\n",
       "   RedEdge_Median_Value  RedEdge_Std_Dev_Value    NIR_Mean_Value  \\\n",
       "0      0.15943202376366       0.02947015541273  0.49507949110853   \n",
       "1      0.16368761658668       0.02672965490693  0.47253818556139   \n",
       "2      0.16280086338520       0.02860166522563  0.47931741681318   \n",
       "3      0.17022757232189       0.03060264127573  0.48882499744554   \n",
       "4      0.15390978753567       0.02757796324304  0.44960809775287   \n",
       "\n",
       "   NIR_Median_Value  NIR_Std_Dev_Value       GrainYield         Name  \\\n",
       "0  0.49244546890259   0.04850164397326   708.4544971537      GN20540   \n",
       "1  0.47009554505348   0.05283100292219  666.22785578748      GN20536   \n",
       "2  0.47816938161850   0.05103851436639  654.71149905123      GN20534   \n",
       "3  0.49033774435520   0.06037544835018  621.48614800759      GN20529   \n",
       "4  0.44838109612465   0.05277790051951  674.96440227704  Demonstrant   \n",
       "\n",
       "          Pedigree  \n",
       "0  SW71139/GN07501  \n",
       "1  SW51069/GN03509  \n",
       "2  GN04526/GN08581  \n",
       "3   Krabat/GN08536  \n",
       "4    T1005/NK93512  "
      ]
     },
     "metadata": {},
     "output_type": "display_data"
    },
    {
     "name": "stdout",
     "output_type": "stream",
     "text": [
      "Graminor_180620_yield\n"
     ]
    },
    {
     "data": {
      "text/html": [
       "<div>\n",
       "<style scoped>\n",
       "    .dataframe tbody tr th:only-of-type {\n",
       "        vertical-align: middle;\n",
       "    }\n",
       "\n",
       "    .dataframe tbody tr th {\n",
       "        vertical-align: top;\n",
       "    }\n",
       "\n",
       "    .dataframe thead th {\n",
       "        text-align: right;\n",
       "    }\n",
       "</style>\n",
       "<table border=\"1\" class=\"dataframe\">\n",
       "  <thead>\n",
       "    <tr style=\"text-align: right;\">\n",
       "      <th></th>\n",
       "      <th>Plot_ID</th>\n",
       "      <th>Blue_Mean_Value</th>\n",
       "      <th>Blue_Median_Value</th>\n",
       "      <th>Blue_Std_Dev_Value</th>\n",
       "      <th>Green_Mean_Value</th>\n",
       "      <th>Green_Median_Value</th>\n",
       "      <th>Green_Std_Dev_Value</th>\n",
       "      <th>Red_Mean_Value</th>\n",
       "      <th>Red_Median_Value</th>\n",
       "      <th>Red_Std_Dev_Value</th>\n",
       "      <th>RedEdge_Mean_Value</th>\n",
       "      <th>RedEdge_Median_Value</th>\n",
       "      <th>RedEdge_Std_Dev_Value</th>\n",
       "      <th>NIR_Mean_Value</th>\n",
       "      <th>NIR_Median_Value</th>\n",
       "      <th>NIR_Std_Dev_Value</th>\n",
       "      <th>GrainYield</th>\n",
       "      <th>Name</th>\n",
       "      <th>Pedigree</th>\n",
       "    </tr>\n",
       "  </thead>\n",
       "  <tbody>\n",
       "    <tr>\n",
       "      <th>0</th>\n",
       "      <td>151</td>\n",
       "      <td>0.03213385047758</td>\n",
       "      <td>0.02500713057816</td>\n",
       "      <td>0.02109973232802</td>\n",
       "      <td>0.06484386590164</td>\n",
       "      <td>0.06103284284473</td>\n",
       "      <td>0.02560158724755</td>\n",
       "      <td>0.04464433494469</td>\n",
       "      <td>0.02360297739506</td>\n",
       "      <td>0.04140486919470</td>\n",
       "      <td>0.15080864585243</td>\n",
       "      <td>0.14782261848450</td>\n",
       "      <td>0.03201022599812</td>\n",
       "      <td>0.47119734252987</td>\n",
       "      <td>0.49470546841621</td>\n",
       "      <td>0.13172726748099</td>\n",
       "      <td>708.4544971537</td>\n",
       "      <td>GN20540</td>\n",
       "      <td>SW71139/GN07501</td>\n",
       "    </tr>\n",
       "    <tr>\n",
       "      <th>1</th>\n",
       "      <td>152</td>\n",
       "      <td>0.03335237292255</td>\n",
       "      <td>0.02698950842023</td>\n",
       "      <td>0.01772455196957</td>\n",
       "      <td>0.06672974564584</td>\n",
       "      <td>0.06481597572565</td>\n",
       "      <td>0.02094243555161</td>\n",
       "      <td>0.04474580737820</td>\n",
       "      <td>0.02611383050680</td>\n",
       "      <td>0.03631227567283</td>\n",
       "      <td>0.15255196559753</td>\n",
       "      <td>0.14868681132793</td>\n",
       "      <td>0.02983908579898</td>\n",
       "      <td>0.46646194007602</td>\n",
       "      <td>0.49543772637844</td>\n",
       "      <td>0.13988956190871</td>\n",
       "      <td>666.22785578748</td>\n",
       "      <td>GN20536</td>\n",
       "      <td>SW51069/GN03509</td>\n",
       "    </tr>\n",
       "    <tr>\n",
       "      <th>2</th>\n",
       "      <td>153</td>\n",
       "      <td>0.03043436059387</td>\n",
       "      <td>0.02630499657243</td>\n",
       "      <td>0.01363782760163</td>\n",
       "      <td>0.06200760242408</td>\n",
       "      <td>0.06199061125517</td>\n",
       "      <td>0.01698878814119</td>\n",
       "      <td>0.04061590337346</td>\n",
       "      <td>0.02458008751273</td>\n",
       "      <td>0.02926316298477</td>\n",
       "      <td>0.14560045677997</td>\n",
       "      <td>0.13743014633656</td>\n",
       "      <td>0.03132187632948</td>\n",
       "      <td>0.46057262414494</td>\n",
       "      <td>0.48579984903336</td>\n",
       "      <td>0.14678913578655</td>\n",
       "      <td>654.71149905123</td>\n",
       "      <td>GN20534</td>\n",
       "      <td>GN04526/GN08581</td>\n",
       "    </tr>\n",
       "    <tr>\n",
       "      <th>3</th>\n",
       "      <td>154</td>\n",
       "      <td>0.03444844642793</td>\n",
       "      <td>0.02678878419101</td>\n",
       "      <td>0.02109226058293</td>\n",
       "      <td>0.06559076689600</td>\n",
       "      <td>0.06211842969060</td>\n",
       "      <td>0.02585696018635</td>\n",
       "      <td>0.04753483436194</td>\n",
       "      <td>0.02538747154176</td>\n",
       "      <td>0.04181523538322</td>\n",
       "      <td>0.14841092445349</td>\n",
       "      <td>0.14423263072967</td>\n",
       "      <td>0.03437751773452</td>\n",
       "      <td>0.46220747147682</td>\n",
       "      <td>0.46459522843361</td>\n",
       "      <td>0.14432932843426</td>\n",
       "      <td>621.48614800759</td>\n",
       "      <td>GN20529</td>\n",
       "      <td>Krabat/GN08536</td>\n",
       "    </tr>\n",
       "    <tr>\n",
       "      <th>4</th>\n",
       "      <td>155</td>\n",
       "      <td>0.03228616375828</td>\n",
       "      <td>0.02933445945382</td>\n",
       "      <td>0.01248274273806</td>\n",
       "      <td>0.06685170656152</td>\n",
       "      <td>0.06688608974218</td>\n",
       "      <td>0.01640636256656</td>\n",
       "      <td>0.04128509952550</td>\n",
       "      <td>0.02741109300405</td>\n",
       "      <td>0.02796708472376</td>\n",
       "      <td>0.15754510767176</td>\n",
       "      <td>0.15244185924530</td>\n",
       "      <td>0.03242753363076</td>\n",
       "      <td>0.48712174423463</td>\n",
       "      <td>0.53210029006004</td>\n",
       "      <td>0.15142815106172</td>\n",
       "      <td>674.96440227704</td>\n",
       "      <td>Demonstrant</td>\n",
       "      <td>T1005/NK93512</td>\n",
       "    </tr>\n",
       "  </tbody>\n",
       "</table>\n",
       "</div>"
      ],
      "text/plain": [
       "   Plot_ID   Blue_Mean_Value  Blue_Median_Value  Blue_Std_Dev_Value  \\\n",
       "0      151  0.03213385047758   0.02500713057816    0.02109973232802   \n",
       "1      152  0.03335237292255   0.02698950842023    0.01772455196957   \n",
       "2      153  0.03043436059387   0.02630499657243    0.01363782760163   \n",
       "3      154  0.03444844642793   0.02678878419101    0.02109226058293   \n",
       "4      155  0.03228616375828   0.02933445945382    0.01248274273806   \n",
       "\n",
       "   Green_Mean_Value  Green_Median_Value  Green_Std_Dev_Value  \\\n",
       "0  0.06484386590164    0.06103284284473     0.02560158724755   \n",
       "1  0.06672974564584    0.06481597572565     0.02094243555161   \n",
       "2  0.06200760242408    0.06199061125517     0.01698878814119   \n",
       "3  0.06559076689600    0.06211842969060     0.02585696018635   \n",
       "4  0.06685170656152    0.06688608974218     0.01640636256656   \n",
       "\n",
       "     Red_Mean_Value  Red_Median_Value  Red_Std_Dev_Value  RedEdge_Mean_Value  \\\n",
       "0  0.04464433494469  0.02360297739506   0.04140486919470    0.15080864585243   \n",
       "1  0.04474580737820  0.02611383050680   0.03631227567283    0.15255196559753   \n",
       "2  0.04061590337346  0.02458008751273   0.02926316298477    0.14560045677997   \n",
       "3  0.04753483436194  0.02538747154176   0.04181523538322    0.14841092445349   \n",
       "4  0.04128509952550  0.02741109300405   0.02796708472376    0.15754510767176   \n",
       "\n",
       "   RedEdge_Median_Value  RedEdge_Std_Dev_Value    NIR_Mean_Value  \\\n",
       "0      0.14782261848450       0.03201022599812  0.47119734252987   \n",
       "1      0.14868681132793       0.02983908579898  0.46646194007602   \n",
       "2      0.13743014633656       0.03132187632948  0.46057262414494   \n",
       "3      0.14423263072967       0.03437751773452  0.46220747147682   \n",
       "4      0.15244185924530       0.03242753363076  0.48712174423463   \n",
       "\n",
       "   NIR_Median_Value  NIR_Std_Dev_Value       GrainYield         Name  \\\n",
       "0  0.49470546841621   0.13172726748099   708.4544971537      GN20540   \n",
       "1  0.49543772637844   0.13988956190871  666.22785578748      GN20536   \n",
       "2  0.48579984903336   0.14678913578655  654.71149905123      GN20534   \n",
       "3  0.46459522843361   0.14432932843426  621.48614800759      GN20529   \n",
       "4  0.53210029006004   0.15142815106172  674.96440227704  Demonstrant   \n",
       "\n",
       "          Pedigree  \n",
       "0  SW71139/GN07501  \n",
       "1  SW51069/GN03509  \n",
       "2  GN04526/GN08581  \n",
       "3   Krabat/GN08536  \n",
       "4    T1005/NK93512  "
      ]
     },
     "metadata": {},
     "output_type": "display_data"
    },
    {
     "name": "stdout",
     "output_type": "stream",
     "text": [
      "Graminor_200720_yield\n"
     ]
    },
    {
     "data": {
      "text/html": [
       "<div>\n",
       "<style scoped>\n",
       "    .dataframe tbody tr th:only-of-type {\n",
       "        vertical-align: middle;\n",
       "    }\n",
       "\n",
       "    .dataframe tbody tr th {\n",
       "        vertical-align: top;\n",
       "    }\n",
       "\n",
       "    .dataframe thead th {\n",
       "        text-align: right;\n",
       "    }\n",
       "</style>\n",
       "<table border=\"1\" class=\"dataframe\">\n",
       "  <thead>\n",
       "    <tr style=\"text-align: right;\">\n",
       "      <th></th>\n",
       "      <th>Plot_ID</th>\n",
       "      <th>Blue_Mean_Value</th>\n",
       "      <th>Blue_Median_Value</th>\n",
       "      <th>Blue_Std_Dev_Value</th>\n",
       "      <th>Green_Mean_Value</th>\n",
       "      <th>Green_Median_Value</th>\n",
       "      <th>Green_Std_Dev_Value</th>\n",
       "      <th>Red_Mean_Value</th>\n",
       "      <th>Red_Median_Value</th>\n",
       "      <th>Red_Std_Dev_Value</th>\n",
       "      <th>RedEdge_Mean_Value</th>\n",
       "      <th>RedEdge_Median_Value</th>\n",
       "      <th>RedEdge_Std_Dev_Value</th>\n",
       "      <th>NIR_Mean_Value</th>\n",
       "      <th>NIR_Median_Value</th>\n",
       "      <th>NIR_Std_Dev_Value</th>\n",
       "      <th>GrainYield</th>\n",
       "      <th>Name</th>\n",
       "      <th>Pedigree</th>\n",
       "    </tr>\n",
       "  </thead>\n",
       "  <tbody>\n",
       "    <tr>\n",
       "      <th>0</th>\n",
       "      <td>151</td>\n",
       "      <td>0.02159986026629</td>\n",
       "      <td>0.02052104379982</td>\n",
       "      <td>0.00601684148737</td>\n",
       "      <td>0.06343362275714</td>\n",
       "      <td>0.06073131039739</td>\n",
       "      <td>0.01733408407285</td>\n",
       "      <td>0.03327499431132</td>\n",
       "      <td>0.03193806298077</td>\n",
       "      <td>0.00912226998864</td>\n",
       "      <td>0.14601712852760</td>\n",
       "      <td>0.14240511506796</td>\n",
       "      <td>0.02910731964140</td>\n",
       "      <td>0.38715196228318</td>\n",
       "      <td>0.38521130383015</td>\n",
       "      <td>0.04442337585817</td>\n",
       "      <td>708.4544971537</td>\n",
       "      <td>GN20540</td>\n",
       "      <td>SW71139/GN07501</td>\n",
       "    </tr>\n",
       "    <tr>\n",
       "      <th>1</th>\n",
       "      <td>152</td>\n",
       "      <td>0.02468500379982</td>\n",
       "      <td>0.02352127619088</td>\n",
       "      <td>0.00724769961060</td>\n",
       "      <td>0.06926058144930</td>\n",
       "      <td>0.06676716357470</td>\n",
       "      <td>0.01767773452256</td>\n",
       "      <td>0.04497625586361</td>\n",
       "      <td>0.04440850950778</td>\n",
       "      <td>0.00995424301235</td>\n",
       "      <td>0.15576125339014</td>\n",
       "      <td>0.15232443064451</td>\n",
       "      <td>0.02910502649312</td>\n",
       "      <td>0.38252880708523</td>\n",
       "      <td>0.37749837338924</td>\n",
       "      <td>0.05366883658171</td>\n",
       "      <td>666.22785578748</td>\n",
       "      <td>GN20536</td>\n",
       "      <td>SW51069/GN03509</td>\n",
       "    </tr>\n",
       "    <tr>\n",
       "      <th>2</th>\n",
       "      <td>153</td>\n",
       "      <td>0.02194380651548</td>\n",
       "      <td>0.02119263634086</td>\n",
       "      <td>0.00577078871897</td>\n",
       "      <td>0.06260020861200</td>\n",
       "      <td>0.06027925387025</td>\n",
       "      <td>0.01635446038164</td>\n",
       "      <td>0.03560792489691</td>\n",
       "      <td>0.03469301760197</td>\n",
       "      <td>0.00833960446334</td>\n",
       "      <td>0.14511067557380</td>\n",
       "      <td>0.14231227338314</td>\n",
       "      <td>0.02769542010507</td>\n",
       "      <td>0.37354604076689</td>\n",
       "      <td>0.37120103836060</td>\n",
       "      <td>0.04496683610180</td>\n",
       "      <td>654.71149905123</td>\n",
       "      <td>GN20534</td>\n",
       "      <td>GN04526/GN08581</td>\n",
       "    </tr>\n",
       "    <tr>\n",
       "      <th>3</th>\n",
       "      <td>154</td>\n",
       "      <td>0.02186740285061</td>\n",
       "      <td>0.02113559655845</td>\n",
       "      <td>0.00576407994523</td>\n",
       "      <td>0.06422586687028</td>\n",
       "      <td>0.06225795857608</td>\n",
       "      <td>0.01534806261332</td>\n",
       "      <td>0.03770472429041</td>\n",
       "      <td>0.03737545385957</td>\n",
       "      <td>0.00946308889664</td>\n",
       "      <td>0.14671362074999</td>\n",
       "      <td>0.14357797801495</td>\n",
       "      <td>0.02554821718027</td>\n",
       "      <td>0.37362543327913</td>\n",
       "      <td>0.37263041734695</td>\n",
       "      <td>0.04996456896537</td>\n",
       "      <td>621.48614800759</td>\n",
       "      <td>GN20529</td>\n",
       "      <td>Krabat/GN08536</td>\n",
       "    </tr>\n",
       "    <tr>\n",
       "      <th>4</th>\n",
       "      <td>155</td>\n",
       "      <td>0.02082497385994</td>\n",
       "      <td>0.01975152548402</td>\n",
       "      <td>0.00570507796918</td>\n",
       "      <td>0.06007707453441</td>\n",
       "      <td>0.05702294781804</td>\n",
       "      <td>0.01596157684472</td>\n",
       "      <td>0.03397111573818</td>\n",
       "      <td>0.03292134776712</td>\n",
       "      <td>0.00831867795230</td>\n",
       "      <td>0.13469903893354</td>\n",
       "      <td>0.13056176155806</td>\n",
       "      <td>0.02574132912536</td>\n",
       "      <td>0.34099238840548</td>\n",
       "      <td>0.33940501511097</td>\n",
       "      <td>0.04313883804052</td>\n",
       "      <td>674.96440227704</td>\n",
       "      <td>Demonstrant</td>\n",
       "      <td>T1005/NK93512</td>\n",
       "    </tr>\n",
       "  </tbody>\n",
       "</table>\n",
       "</div>"
      ],
      "text/plain": [
       "   Plot_ID   Blue_Mean_Value  Blue_Median_Value  Blue_Std_Dev_Value  \\\n",
       "0      151  0.02159986026629   0.02052104379982    0.00601684148737   \n",
       "1      152  0.02468500379982   0.02352127619088    0.00724769961060   \n",
       "2      153  0.02194380651548   0.02119263634086    0.00577078871897   \n",
       "3      154  0.02186740285061   0.02113559655845    0.00576407994523   \n",
       "4      155  0.02082497385994   0.01975152548402    0.00570507796918   \n",
       "\n",
       "   Green_Mean_Value  Green_Median_Value  Green_Std_Dev_Value  \\\n",
       "0  0.06343362275714    0.06073131039739     0.01733408407285   \n",
       "1  0.06926058144930    0.06676716357470     0.01767773452256   \n",
       "2  0.06260020861200    0.06027925387025     0.01635446038164   \n",
       "3  0.06422586687028    0.06225795857608     0.01534806261332   \n",
       "4  0.06007707453441    0.05702294781804     0.01596157684472   \n",
       "\n",
       "     Red_Mean_Value  Red_Median_Value  Red_Std_Dev_Value  RedEdge_Mean_Value  \\\n",
       "0  0.03327499431132  0.03193806298077   0.00912226998864    0.14601712852760   \n",
       "1  0.04497625586361  0.04440850950778   0.00995424301235    0.15576125339014   \n",
       "2  0.03560792489691  0.03469301760197   0.00833960446334    0.14511067557380   \n",
       "3  0.03770472429041  0.03737545385957   0.00946308889664    0.14671362074999   \n",
       "4  0.03397111573818  0.03292134776712   0.00831867795230    0.13469903893354   \n",
       "\n",
       "   RedEdge_Median_Value  RedEdge_Std_Dev_Value    NIR_Mean_Value  \\\n",
       "0      0.14240511506796       0.02910731964140  0.38715196228318   \n",
       "1      0.15232443064451       0.02910502649312  0.38252880708523   \n",
       "2      0.14231227338314       0.02769542010507  0.37354604076689   \n",
       "3      0.14357797801495       0.02554821718027  0.37362543327913   \n",
       "4      0.13056176155806       0.02574132912536  0.34099238840548   \n",
       "\n",
       "   NIR_Median_Value  NIR_Std_Dev_Value       GrainYield         Name  \\\n",
       "0  0.38521130383015   0.04442337585817   708.4544971537      GN20540   \n",
       "1  0.37749837338924   0.05366883658171  666.22785578748      GN20536   \n",
       "2  0.37120103836060   0.04496683610180  654.71149905123      GN20534   \n",
       "3  0.37263041734695   0.04996456896537  621.48614800759      GN20529   \n",
       "4  0.33940501511097   0.04313883804052  674.96440227704  Demonstrant   \n",
       "\n",
       "          Pedigree  \n",
       "0  SW71139/GN07501  \n",
       "1  SW51069/GN03509  \n",
       "2  GN04526/GN08581  \n",
       "3   Krabat/GN08536  \n",
       "4    T1005/NK93512  "
      ]
     },
     "metadata": {},
     "output_type": "display_data"
    },
    {
     "name": "stdout",
     "output_type": "stream",
     "text": [
      "Graminor_240620_yield\n"
     ]
    },
    {
     "data": {
      "text/html": [
       "<div>\n",
       "<style scoped>\n",
       "    .dataframe tbody tr th:only-of-type {\n",
       "        vertical-align: middle;\n",
       "    }\n",
       "\n",
       "    .dataframe tbody tr th {\n",
       "        vertical-align: top;\n",
       "    }\n",
       "\n",
       "    .dataframe thead th {\n",
       "        text-align: right;\n",
       "    }\n",
       "</style>\n",
       "<table border=\"1\" class=\"dataframe\">\n",
       "  <thead>\n",
       "    <tr style=\"text-align: right;\">\n",
       "      <th></th>\n",
       "      <th>Plot_ID</th>\n",
       "      <th>Blue_Mean_Value</th>\n",
       "      <th>Blue_Median_Value</th>\n",
       "      <th>Blue_Std_Dev_Value</th>\n",
       "      <th>Green_Mean_Value</th>\n",
       "      <th>Green_Median_Value</th>\n",
       "      <th>Green_Std_Dev_Value</th>\n",
       "      <th>Red_Mean_Value</th>\n",
       "      <th>Red_Median_Value</th>\n",
       "      <th>Red_Std_Dev_Value</th>\n",
       "      <th>RedEdge_Mean_Value</th>\n",
       "      <th>RedEdge_Median_Value</th>\n",
       "      <th>RedEdge_Std_Dev_Value</th>\n",
       "      <th>NIR_Mean_Value</th>\n",
       "      <th>NIR_Median_Value</th>\n",
       "      <th>NIR_Std_Dev_Value</th>\n",
       "      <th>GrainYield</th>\n",
       "      <th>Name</th>\n",
       "      <th>Pedigree</th>\n",
       "    </tr>\n",
       "  </thead>\n",
       "  <tbody>\n",
       "    <tr>\n",
       "      <th>0</th>\n",
       "      <td>144</td>\n",
       "      <td>0.02817893361881</td>\n",
       "      <td>0.02511692885310</td>\n",
       "      <td>0.01449081109889</td>\n",
       "      <td>0.05568061536345</td>\n",
       "      <td>0.05883832648396</td>\n",
       "      <td>0.01989481038031</td>\n",
       "      <td>0.04196863725400</td>\n",
       "      <td>0.02690711151808</td>\n",
       "      <td>0.03258502375446</td>\n",
       "      <td>0.11594915038122</td>\n",
       "      <td>0.11709716543555</td>\n",
       "      <td>0.03367086398143</td>\n",
       "      <td>0.37627973420333</td>\n",
       "      <td>0.39436191320419</td>\n",
       "      <td>0.14785040924578</td>\n",
       "      <td>668.10170777989</td>\n",
       "      <td>GN19529</td>\n",
       "      <td>GN05567/Bjarne</td>\n",
       "    </tr>\n",
       "    <tr>\n",
       "      <th>1</th>\n",
       "      <td>145</td>\n",
       "      <td>0.02696298183293</td>\n",
       "      <td>0.02271206118166</td>\n",
       "      <td>0.01296713623498</td>\n",
       "      <td>0.05082092481528</td>\n",
       "      <td>0.04885277338326</td>\n",
       "      <td>0.01682518357852</td>\n",
       "      <td>0.04119368888863</td>\n",
       "      <td>0.02545636519790</td>\n",
       "      <td>0.03052140220178</td>\n",
       "      <td>0.10297616647078</td>\n",
       "      <td>0.10728264600038</td>\n",
       "      <td>0.02296132823749</td>\n",
       "      <td>0.34075735043258</td>\n",
       "      <td>0.36530631780624</td>\n",
       "      <td>0.11106050639497</td>\n",
       "      <td>752.13965844402</td>\n",
       "      <td>Demonstrant</td>\n",
       "      <td>T1005/NK93512</td>\n",
       "    </tr>\n",
       "    <tr>\n",
       "      <th>2</th>\n",
       "      <td>146</td>\n",
       "      <td>0.02590350882783</td>\n",
       "      <td>0.02165622822940</td>\n",
       "      <td>0.01452103077283</td>\n",
       "      <td>0.04846454203462</td>\n",
       "      <td>0.04802346602082</td>\n",
       "      <td>0.01992785909139</td>\n",
       "      <td>0.03959594697351</td>\n",
       "      <td>0.02287205122411</td>\n",
       "      <td>0.03296989012317</td>\n",
       "      <td>0.09658321599033</td>\n",
       "      <td>0.10473021864891</td>\n",
       "      <td>0.02962222670910</td>\n",
       "      <td>0.32813140410709</td>\n",
       "      <td>0.32287809252739</td>\n",
       "      <td>0.11978354560703</td>\n",
       "      <td>651.16280834915</td>\n",
       "      <td>GN19524</td>\n",
       "      <td>GN08595/Berserk</td>\n",
       "    </tr>\n",
       "    <tr>\n",
       "      <th>3</th>\n",
       "      <td>147</td>\n",
       "      <td>0.02459887203937</td>\n",
       "      <td>0.02048542350531</td>\n",
       "      <td>0.01359734012729</td>\n",
       "      <td>0.04714899867650</td>\n",
       "      <td>0.04710882157087</td>\n",
       "      <td>0.01886670634570</td>\n",
       "      <td>0.03843117157312</td>\n",
       "      <td>0.02204723563045</td>\n",
       "      <td>0.03208380460623</td>\n",
       "      <td>0.09466193198509</td>\n",
       "      <td>0.10316145047545</td>\n",
       "      <td>0.02946936344106</td>\n",
       "      <td>0.31773285328636</td>\n",
       "      <td>0.31554086506367</td>\n",
       "      <td>0.11378397630287</td>\n",
       "      <td>693.31309297913</td>\n",
       "      <td>GN19604</td>\n",
       "      <td>Sommerset/GN08596</td>\n",
       "    </tr>\n",
       "    <tr>\n",
       "      <th>4</th>\n",
       "      <td>148</td>\n",
       "      <td>0.02614517630534</td>\n",
       "      <td>0.02118466049433</td>\n",
       "      <td>0.01371351496621</td>\n",
       "      <td>0.04967204578282</td>\n",
       "      <td>0.04753368720412</td>\n",
       "      <td>0.01695254727022</td>\n",
       "      <td>0.03972029382507</td>\n",
       "      <td>0.02270166389644</td>\n",
       "      <td>0.03186389171533</td>\n",
       "      <td>0.10164455316601</td>\n",
       "      <td>0.10553495585918</td>\n",
       "      <td>0.02139195485107</td>\n",
       "      <td>0.34994448360088</td>\n",
       "      <td>0.38023635745049</td>\n",
       "      <td>0.11378944152457</td>\n",
       "      <td>716.29222011385</td>\n",
       "      <td>GN19606</td>\n",
       "      <td>NK01513/Sommerset</td>\n",
       "    </tr>\n",
       "  </tbody>\n",
       "</table>\n",
       "</div>"
      ],
      "text/plain": [
       "   Plot_ID   Blue_Mean_Value  Blue_Median_Value  Blue_Std_Dev_Value  \\\n",
       "0      144  0.02817893361881   0.02511692885310    0.01449081109889   \n",
       "1      145  0.02696298183293   0.02271206118166    0.01296713623498   \n",
       "2      146  0.02590350882783   0.02165622822940    0.01452103077283   \n",
       "3      147  0.02459887203937   0.02048542350531    0.01359734012729   \n",
       "4      148  0.02614517630534   0.02118466049433    0.01371351496621   \n",
       "\n",
       "   Green_Mean_Value  Green_Median_Value  Green_Std_Dev_Value  \\\n",
       "0  0.05568061536345    0.05883832648396     0.01989481038031   \n",
       "1  0.05082092481528    0.04885277338326     0.01682518357852   \n",
       "2  0.04846454203462    0.04802346602082     0.01992785909139   \n",
       "3  0.04714899867650    0.04710882157087     0.01886670634570   \n",
       "4  0.04967204578282    0.04753368720412     0.01695254727022   \n",
       "\n",
       "     Red_Mean_Value  Red_Median_Value  Red_Std_Dev_Value  RedEdge_Mean_Value  \\\n",
       "0  0.04196863725400  0.02690711151808   0.03258502375446    0.11594915038122   \n",
       "1  0.04119368888863  0.02545636519790   0.03052140220178    0.10297616647078   \n",
       "2  0.03959594697351  0.02287205122411   0.03296989012317    0.09658321599033   \n",
       "3  0.03843117157312  0.02204723563045   0.03208380460623    0.09466193198509   \n",
       "4  0.03972029382507  0.02270166389644   0.03186389171533    0.10164455316601   \n",
       "\n",
       "   RedEdge_Median_Value  RedEdge_Std_Dev_Value    NIR_Mean_Value  \\\n",
       "0      0.11709716543555       0.03367086398143  0.37627973420333   \n",
       "1      0.10728264600038       0.02296132823749  0.34075735043258   \n",
       "2      0.10473021864891       0.02962222670910  0.32813140410709   \n",
       "3      0.10316145047545       0.02946936344106  0.31773285328636   \n",
       "4      0.10553495585918       0.02139195485107  0.34994448360088   \n",
       "\n",
       "   NIR_Median_Value  NIR_Std_Dev_Value       GrainYield         Name  \\\n",
       "0  0.39436191320419   0.14785040924578  668.10170777989      GN19529   \n",
       "1  0.36530631780624   0.11106050639497  752.13965844402  Demonstrant   \n",
       "2  0.32287809252739   0.11978354560703  651.16280834915      GN19524   \n",
       "3  0.31554086506367   0.11378397630287  693.31309297913      GN19604   \n",
       "4  0.38023635745049   0.11378944152457  716.29222011385      GN19606   \n",
       "\n",
       "            Pedigree  \n",
       "0     GN05567/Bjarne  \n",
       "1      T1005/NK93512  \n",
       "2    GN08595/Berserk  \n",
       "3  Sommerset/GN08596  \n",
       "4  NK01513/Sommerset  "
      ]
     },
     "metadata": {},
     "output_type": "display_data"
    }
   ],
   "source": [
    "field = 'Graminor_2020'\n",
    "field_plot_id = 'Plot_ID'\n",
    "ref_df_yield = Graminor_x_2020TGraminor_Vollebekk_res_new\n",
    "red_df_id = 'plot'\n",
    "\n",
    "cols2add_dict = {'GrainYield':'kg/daa',\n",
    "                 'Name':'name',\n",
    "#                  'CodeName':'CodeName',\n",
    "                 'Pedigree':'pedigree',\n",
    "#                  'Line':'Line',\n",
    "#                  'Heading_Date':'Hd_date_jd',\n",
    "#                  'Maturity_Date':'maturity_dates',\n",
    "#                  'Days2Heading':'DH',\n",
    "#                  'Days2Maturity':'DM',\n",
    "#                  'Lodging':'Lodging_images'\n",
    "                }\n",
    "\n",
    "\n",
    "for date in field_year_dict[field]:\n",
    "    temp_df = locals()[field[:-4]+date].copy()\n",
    "    temp_ref_df = ref_df_yield.copy()\n",
    "    \n",
    "    temp_df.set_index(field_plot_id, inplace=True)\n",
    "    temp_ref_df.set_index(red_df_id, inplace=True)\n",
    "    for field_df_col, ref_df_col in cols2add_dict.items():\n",
    "        temp_df[field_df_col]=temp_ref_df[ref_df_col]\n",
    "    new_df_name = field[:-4]+date+'_yield'\n",
    "    locals()[new_df_name] = temp_df.reset_index()\n",
    "    df_w_yields.append(new_df_name)\n",
    "    print(new_df_name)\n",
    "    display(locals()[new_df_name].head())"
   ]
  },
  {
   "cell_type": "markdown",
   "metadata": {},
   "source": [
    "### Masbasis_2019"
   ]
  },
  {
   "cell_type": "code",
   "execution_count": null,
   "metadata": {
    "ExecuteTime": {
     "end_time": "2021-09-28T09:42:59.977751Z",
     "start_time": "2021-09-28T09:42:53.975Z"
    }
   },
   "outputs": [],
   "source": [
    " Masbasis_2019_x_Field_data_2019"
   ]
  },
  {
   "cell_type": "code",
   "execution_count": null,
   "metadata": {
    "ExecuteTime": {
     "end_time": "2021-09-28T09:42:59.980630Z",
     "start_time": "2021-09-28T09:42:54.003Z"
    }
   },
   "outputs": [],
   "source": [
    "field = 'Masbasis_2019'\n",
    "field_plot_id = 'Plot_ID'\n",
    "ref_df_yield = Masbasis_2019_x_Field_data_2019\n",
    "red_df_id = 'Rute'\n",
    "\n",
    "cols2add_dict = {'GrainYield':'GrainYield',\n",
    "                 'Name':'Name',\n",
    "#                  'CodeName':'CodeName',\n",
    "#                  'Pedigree':'pedigree',\n",
    "                 'Line':'Line',\n",
    "#                  'Heading_Date':'Hd_date_jd',\n",
    "#                  'Maturity_Date':'maturity_dates',\n",
    "                 'Days2Heading':'DH',\n",
    "                 'Days2Maturity':'DM',\n",
    "#                  'Lodging':'Lodging_images'\n",
    "                }\n",
    "\n",
    "\n",
    "for date in field_year_dict[field]:\n",
    "    temp_df = locals()[field[:-4]+date].copy()\n",
    "    temp_ref_df = ref_df_yield.copy()\n",
    "    \n",
    "    temp_df.set_index(field_plot_id, inplace=True)\n",
    "    temp_ref_df.set_index(red_df_id, inplace=True)\n",
    "    for field_df_col, ref_df_col in cols2add_dict.items():\n",
    "        temp_df[field_df_col]=temp_ref_df[ref_df_col]\n",
    "    new_df_name = field[:-4]+date+'_yield'\n",
    "    locals()[new_df_name] = temp_df.reset_index()\n",
    "    df_w_yields.append(new_df_name)\n",
    "    print(new_df_name)\n",
    "    display(locals()[new_df_name].head())"
   ]
  },
  {
   "cell_type": "markdown",
   "metadata": {},
   "source": [
    "### Masbasis 2020"
   ]
  },
  {
   "cell_type": "code",
   "execution_count": null,
   "metadata": {
    "ExecuteTime": {
     "end_time": "2021-09-28T09:42:59.983603Z",
     "start_time": "2021-09-28T09:42:54.418Z"
    }
   },
   "outputs": [],
   "source": [
    "Masbasis_x_20BMLGI1_2020_tm_x_data"
   ]
  },
  {
   "cell_type": "code",
   "execution_count": null,
   "metadata": {
    "ExecuteTime": {
     "end_time": "2021-09-28T09:42:59.985743Z",
     "start_time": "2021-09-28T09:42:54.442Z"
    }
   },
   "outputs": [],
   "source": [
    "field = 'Masbasis_2020'\n",
    "field_plot_id = 'Plot_ID'\n",
    "ref_df_yield = Masbasis_x_20BMLGI1_2020_tm_x_data\n",
    "red_df_id = 'Rute'\n",
    "\n",
    "cols2add_dict = {'GrainYield':'GrainYield',\n",
    "                 'Name':'Name',\n",
    "#                  'CodeName':'CodeName',\n",
    "#                  'Pedigree':'pedigree',\n",
    "                 'Line':'Line',\n",
    "#                  'Heading_Date':'Hd_date_jd',\n",
    "                 'Maturity_Date':'maturity_dates',\n",
    "                 'Days2Heading':'DH',\n",
    "                 'Days2Maturity':'DM',\n",
    "                 'Lodging':'Lodging_images'\n",
    "                }\n",
    "\n",
    "\n",
    "\n",
    "for date in field_year_dict[field]:\n",
    "    temp_df = locals()[field[:-4]+date].copy()\n",
    "    temp_ref_df = ref_df_yield.copy()\n",
    "    \n",
    "    temp_df.set_index(field_plot_id, inplace=True)\n",
    "    temp_ref_df.set_index(red_df_id, inplace=True)\n",
    "    for field_df_col, ref_df_col in cols2add_dict.items():\n",
    "        temp_df[field_df_col]=temp_ref_df[ref_df_col]\n",
    "    new_df_name = field[:-4]+date+'_yield'\n",
    "    locals()[new_df_name] = temp_df.reset_index()\n",
    "    df_w_yields.append(new_df_name)\n",
    "    print(new_df_name)\n",
    "    display(locals()[new_df_name].head())"
   ]
  },
  {
   "cell_type": "markdown",
   "metadata": {},
   "source": [
    "### Robot 2020"
   ]
  },
  {
   "cell_type": "code",
   "execution_count": null,
   "metadata": {
    "ExecuteTime": {
     "end_time": "2021-09-28T09:42:59.989322Z",
     "start_time": "2021-09-28T09:42:54.828Z"
    }
   },
   "outputs": [],
   "source": [
    "Robot_x_ROBOT_2020_x_raw"
   ]
  },
  {
   "cell_type": "code",
   "execution_count": null,
   "metadata": {
    "ExecuteTime": {
     "end_time": "2021-09-28T09:42:59.992842Z",
     "start_time": "2021-09-28T09:42:54.853Z"
    }
   },
   "outputs": [],
   "source": [
    "%%time\n",
    "\n",
    "field = 'Robot_2020'\n",
    "field_plot_id = 'Plot_ID'\n",
    "ref_df_yield = Robot_x_ROBOT_2020_x_raw\n",
    "red_df_id = 'SpatialRute'\n",
    "\n",
    "cols2add_dict = {'GrainYield':'GY_Calc_gm2',\n",
    "                 'Name':'Name',\n",
    "                 'CodeName':'CodeName',\n",
    "#                  'Pedigree':'pedigree',\n",
    "#                  'Line':'Line',\n",
    "                 'Heading_Date':'Hd_date_jd',\n",
    "                 'Maturity_Date':'Mat_date_jd',\n",
    "                 'Days2Heading':'Hd_dto_day',\n",
    "                 'Days2Maturity':'Mat_dto_day',\n",
    "#                  'Lodging':'Lodging_images'\n",
    "                }\n",
    "\n",
    "\n",
    "\n",
    "for date in field_year_dict[field]:\n",
    "    temp_df = locals()[field[:-4]+date].copy()\n",
    "    temp_ref_df = ref_df_yield.copy()\n",
    "    \n",
    "    temp_df.set_index(field_plot_id, inplace=True)\n",
    "    temp_ref_df.set_index(red_df_id, inplace=True)\n",
    "    for field_df_col, ref_df_col in cols2add_dict.items():\n",
    "        temp_df[field_df_col]=temp_ref_df[ref_df_col]\n",
    "    new_df_name = field[:-4]+date+'_yield'\n",
    "    locals()[new_df_name] = temp_df.reset_index()\n",
    "    df_w_yields.append(new_df_name)\n",
    "    print(new_df_name)\n",
    "    display(locals()[new_df_name].head())"
   ]
  },
  {
   "cell_type": "code",
   "execution_count": null,
   "metadata": {
    "ExecuteTime": {
     "end_time": "2021-09-28T09:42:59.995658Z",
     "start_time": "2021-09-28T09:42:54.858Z"
    }
   },
   "outputs": [],
   "source": [
    "# Yield data is required for the following fields/years\n",
    "sorted_field_year_dict.keys()"
   ]
  },
  {
   "cell_type": "code",
   "execution_count": null,
   "metadata": {
    "ExecuteTime": {
     "end_time": "2021-09-28T09:42:59.998986Z",
     "start_time": "2021-09-28T09:42:54.863Z"
    }
   },
   "outputs": [],
   "source": [
    "print('Yield data added for the following datasets. ToDo: Yield data for Graminor 2020 and Masbasis 2021 not available.')\n",
    "df_w_yields"
   ]
  },
  {
   "cell_type": "markdown",
   "metadata": {},
   "source": [
    "# Create field_year_dict_yield and sorted_field_year_dict_yield since a few datasets have been dropped now"
   ]
  },
  {
   "cell_type": "code",
   "execution_count": null,
   "metadata": {
    "ExecuteTime": {
     "end_time": "2021-09-28T09:43:00.001590Z",
     "start_time": "2021-09-28T09:42:55.252Z"
    }
   },
   "outputs": [],
   "source": [
    "%%time\n",
    "\n",
    "field_year_dict_yield = {}\n",
    "\n",
    "for df in df_w_yields:\n",
    "\n",
    "    # Splitting the df name to get field name and date\n",
    "    split_name = df.split('_')\n",
    "    field_name = split_name[0]\n",
    "    date1 = split_name[1]\n",
    "    \n",
    "    # Creating a dict with all dates for a certain field for a certain year\n",
    "    dict_key = field_name+'_20'+date1[-2:]\n",
    "    if dict_key in field_year_dict_yield:\n",
    "        field_year_dict_yield[dict_key].append(date1)\n",
    "    else:\n",
    "        field_year_dict_yield[dict_key] = [date1]\n",
    "        \n",
    "#     print(date1)\n",
    "print('field_year_dict_yield created.')\n",
    "\n",
    "# pprint(field_year_dict_yield)\n"
   ]
  },
  {
   "cell_type": "code",
   "execution_count": null,
   "metadata": {
    "ExecuteTime": {
     "end_time": "2021-09-28T09:43:00.005725Z",
     "start_time": "2021-09-28T09:42:55.257Z"
    }
   },
   "outputs": [],
   "source": [
    "sorted_field_year_dict_yield = {}\n",
    "for key, dates_list in field_year_dict_yield.items():\n",
    "    # Converting the dates to a datetime date object and sorting them in list\n",
    "    sorted_dated = sorted([\n",
    "        datetime.datetime.strptime(date, '%d%m%y').date()\n",
    "        for date in dates_list])\n",
    "\n",
    "    sorted_field_year_dict_yield[key] = sorted_dated\n",
    "    \n",
    "print('sorted_field_year_dict_yield created.')\n",
    "# pprint(sorted_field_year_dict_yield)"
   ]
  },
  {
   "cell_type": "markdown",
   "metadata": {},
   "source": [
    "# Separate Mean, Median and StdDev datasets with new column names"
   ]
  },
  {
   "cell_type": "code",
   "execution_count": null,
   "metadata": {
    "ExecuteTime": {
     "end_time": "2021-09-28T09:43:00.009942Z",
     "start_time": "2021-09-28T09:42:55.609Z"
    }
   },
   "outputs": [],
   "source": [
    "%%time\n",
    "cols2add_dict = {'GrainYield':'GY_Calc_gm2',\n",
    "                 'Name':'Name',\n",
    "                 'CodeName':'CodeName',\n",
    "#                  'Pedigree':'pedigree',\n",
    "#                  'Line':'Line',\n",
    "                 'Heading_Date':'Hd_date_jd',\n",
    "                 'Maturity_Date':'Mat_date_jd',\n",
    "                 'Days2Heading':'Hd_dto_day',\n",
    "                 'Days2Maturity':'Mat_dto_day',\n",
    "#                  'Lodging':'Lodging_images'\n",
    "                }\n",
    "\n",
    "general_col_names = ['Plot_ID', 'Blue', 'Green', 'Red', 'RedEdge', 'NIR']\n",
    "# Can add Days2Heading and Days2Manutiry at later stage as target variables, if required\n",
    "yield_cols = ['GrainYield', 'Name', 'CodeName', 'Pedigree', 'Line', 'Heading_Date', 'Maturity_Date', 'Days2Heading', 'Days2Maturity', 'Lodging']\n",
    "\n",
    "df_all_mean = []\n",
    "df_all_median = []\n",
    "df_all_stdev = []\n",
    "\n",
    "for df in df_w_yields:\n",
    "    temp_mean_df = df+'_mean'\n",
    "    temp_median_df = df+'_median'\n",
    "    temp_stdev_df = df+'_stdev'\n",
    "    \n",
    "    # Making a temp list of yield columns since all entries from yield cols are not present in every df\n",
    "    temp_yield_cols = [x for x in locals()[df].columns if x in yield_cols]\n",
    "\n",
    "    # Filtering columns for each type\n",
    "    locals()[temp_mean_df] = locals()[df][std_columns_mean+temp_yield_cols]\n",
    "    locals()[temp_median_df] = locals()[df][std_columns_median+temp_yield_cols]\n",
    "    locals()[temp_stdev_df] = locals()[df][std_columns_stdev+temp_yield_cols]\n",
    "\n",
    "    # Renaming column names to general names for all (without mean, median, std_dev in col name)\n",
    "    locals()[temp_mean_df].columns = general_col_names+temp_yield_cols\n",
    "    locals()[temp_median_df].columns = general_col_names+temp_yield_cols\n",
    "    locals()[temp_stdev_df].columns = general_col_names+temp_yield_cols\n",
    "    \n",
    "\n",
    "    df_all_mean.append(temp_mean_df)\n",
    "    df_all_median.append(temp_median_df)\n",
    "    df_all_stdev.append(temp_stdev_df)\n",
    "\n",
    "final_df = df_all_mean + df_all_median + df_all_stdev\n",
    "# final_df\n",
    "for x in final_df:\n",
    "    print(x, locals()[x].shape)"
   ]
  },
  {
   "cell_type": "code",
   "execution_count": null,
   "metadata": {
    "ExecuteTime": {
     "end_time": "2021-09-28T09:43:00.014047Z",
     "start_time": "2021-09-28T09:42:55.614Z"
    }
   },
   "outputs": [],
   "source": [
    "final_df"
   ]
  },
  {
   "cell_type": "markdown",
   "metadata": {},
   "source": [
    "# Generate more indices"
   ]
  },
  {
   "cell_type": "code",
   "execution_count": null,
   "metadata": {
    "ExecuteTime": {
     "end_time": "2021-09-28T09:43:00.018484Z",
     "start_time": "2021-09-28T09:42:55.957Z"
    }
   },
   "outputs": [],
   "source": [
    "%%time\n",
    "\n",
    "# Extract the date from the name of df\n",
    "date_col = 'Date'\n",
    "spectral_indices = ['NDVI', 'MTCI', 'DVI', 'GDVI', 'MTCI_CI', 'EXG', 'EXGR', 'RDVI',\n",
    "                    'TDVI', 'GNDVI', 'NDRE', 'SCCI', 'EVI', 'TVI', 'VARI', 'GARI',\n",
    "                    'GCI', 'GLI', 'NLI', 'MNLI', 'SAVI', 'GSAVI', 'OSAVI', 'GOSAVI',\n",
    "                    'MSAVI2', 'MSR', 'GRVI', 'WDRVI', 'SR']\n",
    "list_df_all_indices = []\n",
    "\n",
    "for df in final_df:\n",
    "    new_df_name = df + '_indices'\n",
    "    date1 = new_df_name.split('_')[1]\n",
    "    \n",
    "    temp_df = locals()[df].copy()\n",
    "    \n",
    "    # Decided to generate the idices after applying Simpsons integration on the base indices\n",
    "    \n",
    "#     ######indices definition\n",
    "    temp_df['NDVI']= (temp_df['NIR']-temp_df['Red']) / (temp_df['NIR']+temp_df['Red'])\n",
    "    temp_df['MTCI']= (temp_df['NIR']-temp_df['RedEdge']) / (temp_df['RedEdge']-temp_df['Red'])\n",
    "\n",
    "    temp_df['DVI']=temp_df['NIR']-temp_df['Red']\n",
    "    temp_df['GDVI']=temp_df['NIR']-temp_df['Green']\n",
    "    temp_df['MTCI_CI']=(temp_df['NIR']-temp_df['RedEdge'])/(temp_df['RedEdge']-temp_df['Red'])\n",
    "    temp_df['EXG']=(2*temp_df['Green'])-temp_df['Red']-temp_df['Blue']\n",
    "    temp_df['EXGR']=(3*temp_df['Green'])-(2.4*temp_df['Red'])-temp_df['Blue']\n",
    "\n",
    "    \n",
    "    temp_df['RDVI']=(temp_df['NIR']-temp_df['Red'])/np.sqrt(temp_df[['NIR','Red']].sum(axis=1))\n",
    "    temp_df['TDVI']=1.5*(temp_df['NIR']-temp_df['Red'])/np.sqrt((np.power(temp_df['NIR'],2)+ temp_df['Red']+0.5 ))\n",
    "    temp_df['GNDVI']=(temp_df['NIR']-temp_df['Green'])/(temp_df['NIR']+temp_df['Green'])\n",
    "    temp_df['NDRE']=(temp_df['NIR']-temp_df['RedEdge'])/(temp_df['NIR']+temp_df['RedEdge'])\n",
    "    temp_df['SCCI']=temp_df['NDRE']/temp_df['NDVI']\n",
    "    temp_df['EVI']=2.5*(temp_df['NIR']-temp_df['Red'])/(temp_df['NIR']-6*(temp_df['Red'])-(7.5*temp_df['Blue'])-1)\n",
    "    temp_df['TVI']=0.5*(120*(temp_df['NIR']-temp_df['Green'])-200*(temp_df['Red']-temp_df['Green']))\n",
    "    temp_df['VARI']=(temp_df['Green']-temp_df['Red'])/(temp_df['Green']+temp_df['Red']-temp_df['Blue'])\n",
    "    temp_df['GARI']=(temp_df['NIR' ]-temp_df['Green'])-(1.7*(temp_df['Blue']-temp_df['Red']))/(temp_df['NIR']+temp_df['Green'])-(1.7*(temp_df['Blue']-temp_df['Red']))\n",
    "    temp_df['GCI']=(temp_df['NIR']/temp_df['Green'])-1\n",
    "    temp_df['GLI']=(temp_df['Green']-temp_df['Red']-temp_df['Blue'])/(2*temp_df['Green']+temp_df['Red']+temp_df['Blue'])\n",
    "    temp_df['NLI']=(np.power(temp_df['NIR'],2)-temp_df['Red'])/(np.power(temp_df['NIR'],2)+temp_df['Red'])\n",
    "    temp_df['MNLI']=(np.power(temp_df['NIR'],2)-temp_df['Red'])*1.5/(np.power(temp_df['NIR'],2)+temp_df['Red'] + 0.5)\n",
    "    temp_df['SAVI']= ((temp_df['NIR']-temp_df['Red'])*1.5)/(temp_df['NIR']+ temp_df['Red']+ 0.5) \n",
    "    temp_df['GSAVI']= ((temp_df['NIR']-temp_df['Green'])*1.5)/(temp_df['NIR']+ temp_df['Green']+ 0.5)                                    \n",
    "    temp_df['OSAVI']= ((temp_df['NIR']-temp_df['Red']))/(temp_df['NIR']+ temp_df['Red']+ 0.16)\n",
    "    temp_df['GOSAVI']= ((temp_df['NIR']-temp_df['Green']))/(temp_df['NIR']+ (temp_df['Green'])+ 0.16)\n",
    "    temp_df['MSAVI2']=(2*temp_df['NIR'])+1-np.sqrt(np.power((2*temp_df['NIR']+1),2)-8*(temp_df['NIR']-temp_df['Red']))/2\n",
    "    temp_df['MSR']=(temp_df['NIR']/temp_df['Red'])-(1/np.sqrt(temp_df['NIR']/temp_df['Red']))\n",
    "    temp_df['GRVI']=(temp_df['NIR']/temp_df['Green'])\n",
    "    temp_df['WDRVI']=((0.1*temp_df['NIR'])-temp_df['Red'])/((0.1*temp_df['NIR'])+temp_df['Red'])\n",
    "    temp_df['SR']=(temp_df['NIR']/temp_df['Red'])\n",
    "    \n",
    "#     # Mistake: Need to define date1 variable\n",
    "#     temp_df[date_col]=pd.to_datetime(date1, format = '%d%m%y')\n",
    "\n",
    "    \n",
    "    list_df_all_indices.append(new_df_name)\n",
    "    locals()[new_df_name] = temp_df.copy()\n",
    "list_df_all_indices\n",
    "for x in list_df_all_indices:\n",
    "    print(x, locals()[x].shape)"
   ]
  },
  {
   "cell_type": "code",
   "execution_count": null,
   "metadata": {
    "ExecuteTime": {
     "end_time": "2021-09-28T09:43:00.020988Z",
     "start_time": "2021-09-28T09:42:55.962Z"
    }
   },
   "outputs": [],
   "source": [
    "len(list_df_all_indices)\n",
    "list_df_all_indices\n",
    "# Masbasis_040820_mean_indices\n",
    "print(len(spectral_indices))\n",
    "Graminor_250719_yield_mean_indices.shape"
   ]
  },
  {
   "cell_type": "markdown",
   "metadata": {},
   "source": [
    "# Visualisation"
   ]
  },
  {
   "cell_type": "markdown",
   "metadata": {},
   "source": [
    "## Create Separate df for each index for data plotting"
   ]
  },
  {
   "cell_type": "markdown",
   "metadata": {},
   "source": [
    "Using median data for further steps"
   ]
  },
  {
   "cell_type": "code",
   "execution_count": 36,
   "metadata": {
    "ExecuteTime": {
     "end_time": "2021-09-28T09:42:10.092247Z",
     "start_time": "2021-09-28T09:42:10.042916Z"
    }
   },
   "outputs": [],
   "source": [
    "from matplotlib.backends.backend_pdf import PdfPages\n",
    "\n",
    "# create a PdfPages object\n",
    "pdf = PdfPages(export_path+'/plots/'+'pllp.pdf')\n",
    "#     pdf.savefig(fig)\n",
    "\n",
    "#     # destroy the current figure\n",
    "#     # saves memory as opposed to create a new figure\n",
    "#     plt.clf()\n",
    "\n",
    "# remember to close the object to ensure writing multiple plots\n"
   ]
  },
  {
   "cell_type": "code",
   "execution_count": 37,
   "metadata": {
    "ExecuteTime": {
     "end_time": "2021-09-28T09:42:24.020701Z",
     "start_time": "2021-09-28T09:42:22.981662Z"
    },
    "run_control": {
     "marked": true
    },
    "scrolled": true
   },
   "outputs": [
    {
     "ename": "NameError",
     "evalue": "name 'spectral_indices' is not defined",
     "output_type": "error",
     "traceback": [
      "\u001b[1;31m---------------------------------------------------------------------------\u001b[0m",
      "\u001b[1;31mNameError\u001b[0m                                 Traceback (most recent call last)",
      "\u001b[1;32m<ipython-input-37-848c2013a5e9>\u001b[0m in \u001b[0;36m<module>\u001b[1;34m\u001b[0m\n\u001b[0;32m     17\u001b[0m \u001b[1;33m\u001b[0m\u001b[0m\n\u001b[0;32m     18\u001b[0m \u001b[1;32mfor\u001b[0m \u001b[0md_type\u001b[0m \u001b[1;32min\u001b[0m \u001b[0mdata_agg_list\u001b[0m\u001b[1;33m:\u001b[0m\u001b[1;33m\u001b[0m\u001b[1;33m\u001b[0m\u001b[0m\n\u001b[1;32m---> 19\u001b[1;33m     \u001b[1;32mfor\u001b[0m \u001b[0mcol\u001b[0m \u001b[1;32min\u001b[0m \u001b[0mbase_indices\u001b[0m\u001b[1;33m+\u001b[0m\u001b[0mspectral_indices\u001b[0m\u001b[1;33m:\u001b[0m\u001b[1;33m\u001b[0m\u001b[1;33m\u001b[0m\u001b[0m\n\u001b[0m\u001b[0;32m     20\u001b[0m         \u001b[0mprint\u001b[0m\u001b[1;33m(\u001b[0m\u001b[0mcol\u001b[0m\u001b[1;33m)\u001b[0m\u001b[1;33m\u001b[0m\u001b[1;33m\u001b[0m\u001b[0m\n\u001b[0;32m     21\u001b[0m         \u001b[0mfields\u001b[0m \u001b[1;33m=\u001b[0m \u001b[0mlen\u001b[0m\u001b[1;33m(\u001b[0m\u001b[0msorted_field_year_dict_yield\u001b[0m\u001b[1;33m.\u001b[0m\u001b[0mkeys\u001b[0m\u001b[1;33m(\u001b[0m\u001b[1;33m)\u001b[0m\u001b[1;33m)\u001b[0m\u001b[1;33m\u001b[0m\u001b[1;33m\u001b[0m\u001b[0m\n",
      "\u001b[1;31mNameError\u001b[0m: name 'spectral_indices' is not defined"
     ]
    }
   ],
   "source": [
    "base_indices = ['Blue', 'Green', 'Red', 'RedEdge', 'NIR']\n",
    "# yield_cols = ['GrainYield']\n",
    "\n",
    "# data_agg_list = ['_yield_mean_indices', '_yield_median_indices', '_yield_stdev_indices']\n",
    "\n",
    "# data_agg_list = ['_yield_mean_indices']\n",
    "data_agg_list = ['_yield_median_indices']\n",
    "# data_agg_list = ['_yield_stdev_indices']\n",
    "# base_indices = general_col_names[1:]\n",
    "\n",
    "# base_indices = ['Blue']\n",
    "# base_indices = ['Green']\n",
    "# base_indices = ['Red']\n",
    "# base_indices = ['RedEdge']\n",
    "# base_indices = ['NIR']\n",
    "\n",
    "\n",
    "for d_type in data_agg_list:\n",
    "    for col in base_indices+spectral_indices:\n",
    "        print(col)\n",
    "        fields = len(sorted_field_year_dict_yield.keys())\n",
    "        rows = math.ceil(fields/2)\n",
    "        fig_size=(15,10)\n",
    "        n_plot = 0\n",
    "        \n",
    "        if fields < 2:\n",
    "            columns = 1\n",
    "            fig, ax = plt.subplots(rows,columns, figsize=fig_size)\n",
    "            plots = [ax]\n",
    "        else:\n",
    "            columns = 2\n",
    "            fig, ax = plt.subplots(rows,columns, figsize=fig_size)\n",
    "            plots = ax.flatten()\n",
    "            \n",
    "        for field_sample, dates in sorted_field_year_dict_yield.items():\n",
    "            \n",
    "            # Adding required data to a temp dataframe\n",
    "            temp_df = pd.DataFrame()\n",
    "            for date in dates:\n",
    "                date_str = date.strftime('%d%m%y')\n",
    "                field_df = field_sample[:-5]+'_'+date_str+d_type\n",
    "                col_name = date.strftime('%d-%b')+'_'+col\n",
    "                temp_df[col_name] = locals()[field_df][col]\n",
    "            \n",
    "            # Adding field plot to the subplots\n",
    "            \n",
    "            ax_n = plots[n_plot]\n",
    "            x_labels = [date[:-(len(col)+1)] for date in temp_df.columns.tolist()]\n",
    "            temp_df.boxplot(ax=ax_n)\n",
    "\n",
    "            ax_n.set_xticklabels(x_labels, rotation=45)\n",
    "            data_type = d_type.split('_')[2]\n",
    "            ax_n.set_title(field_sample+'_'+col+'_'+data_type)\n",
    "            \n",
    "#             # Printing the grain yield in plot of the fiels_sample for reference\n",
    "#             text = \"Grain Yield\"\n",
    "#             ax_n.text(0.85, 1.05, text, ha='center', va='top', weight='bold', color='blue', transform=ax_n.transAxes)\n",
    "\n",
    "            # Create export_path folder if not exists already\n",
    "            os.makedirs(export_path+'/plots/', exist_ok=True)\n",
    "\n",
    "            n_plot += 1\n",
    "\n",
    "\n",
    "        plt.tight_layout()\n",
    "        pdf.savefig(fig)\n",
    "\n",
    "#         plt.savefig(export_path+'/plots/'+col+'.png',dpi=500, bbox_inches='tight')\n",
    "#         plt.savefig(export_path+'/plots/'+col+'.pdf',dpi=500, bbox_inches='tight')\n",
    "#         plt.savefig(export_path+'/plots/'+col+'.jpg',dpi=150, bbox_inches='tight')\n",
    "\n",
    "        plt.show()\n",
    "pdf.close()"
   ]
  },
  {
   "cell_type": "markdown",
   "metadata": {},
   "source": [
    "# ToDo: Identify df which are outliers"
   ]
  },
  {
   "cell_type": "markdown",
   "metadata": {},
   "source": [
    "Identify the datasets from the plots above which do not aligh with the trends of their neighbouring datasets."
   ]
  },
  {
   "cell_type": "markdown",
   "metadata": {},
   "source": [
    "## Drop outlier datasets"
   ]
  },
  {
   "cell_type": "markdown",
   "metadata": {},
   "source": [
    "Graminor 2019\t7 Aug Green  \n",
    "Masbasis 2019\t15-Jul BlueGreenRedRedEdgeNIR  \n",
    "Masbasis 2020\t13 jul BlueGreenRedRedEdgeNIR  \n",
    "Robot 2020\t29Jun BlueGreenRedRedEdgeNIR  "
   ]
  },
  {
   "cell_type": "code",
   "execution_count": 89,
   "metadata": {
    "ExecuteTime": {
     "end_time": "2021-09-22T20:04:38.773659Z",
     "start_time": "2021-09-22T20:04:38.763581Z"
    }
   },
   "outputs": [
    {
     "data": {
      "text/plain": [
       "{'Masbasis_2019': '150719', 'Masbasis_2020': '130720', 'Robot_2020': '290620'}"
      ]
     },
     "execution_count": 89,
     "metadata": {},
     "output_type": "execute_result"
    }
   ],
   "source": [
    "outliers = {\n",
    "    'Graminor_2019':'',\n",
    "    'Masbasis_2019':'150719',\n",
    "    'Masbasis_2020':'130720',\n",
    "    'Robot_2020':'290620'\n",
    "           }\n",
    "outliers"
   ]
  },
  {
   "cell_type": "markdown",
   "metadata": {},
   "source": [
    "## Update field_year_dict and sorted_field_year_dict"
   ]
  },
  {
   "cell_type": "code",
   "execution_count": 84,
   "metadata": {
    "ExecuteTime": {
     "end_time": "2021-09-22T19:56:42.343816Z",
     "start_time": "2021-09-22T19:56:42.333774Z"
    }
   },
   "outputs": [
    {
     "data": {
      "text/plain": [
       "dict_keys(['Graminor_2019', 'Masbasis_2019', 'Masbasis_2020', 'Robot_2020'])"
      ]
     },
     "execution_count": 84,
     "metadata": {},
     "output_type": "execute_result"
    }
   ],
   "source": [
    "sorted_field_year_dict.keys()\n",
    "# field_year_dict\n",
    "sorted_field_year_dict_yield.keys()"
   ]
  },
  {
   "cell_type": "markdown",
   "metadata": {},
   "source": [
    "# Merge data at plots"
   ]
  },
  {
   "cell_type": "markdown",
   "metadata": {},
   "source": [
    "## Merging datasets on Plot_ID "
   ]
  },
  {
   "cell_type": "code",
   "execution_count": 367,
   "metadata": {
    "ExecuteTime": {
     "end_time": "2021-09-22T11:31:21.871932Z",
     "start_time": "2021-09-22T11:31:21.532270Z"
    },
    "scrolled": false
   },
   "outputs": [
    {
     "name": "stdout",
     "output_type": "stream",
     "text": [
      "Graminor_2019_all (600, 59)\n",
      "Masbasis_2019_all (528, 46)\n",
      "Masbasis_2020_all (688, 68)\n",
      "Robot_2020_all (96, 78)\n"
     ]
    }
   ],
   "source": [
    "# data_agg_list = ['_yield_median_indices']\n",
    "# yield_cols = ['GrainYield']\n",
    "list_agg_df = []\n",
    "# In this loop we select which aggregated data type we will use for further processing.\n",
    "# It is defined in the list data_agg_list\n",
    "for d_type in data_agg_list:\n",
    "    \n",
    "    for field_sample, dates in sorted_field_year_dict_yield.items():\n",
    "\n",
    "        # Adding required data to a temp dataframe\n",
    "        temp_df_all = field_sample+'_all'\n",
    "        locals()[temp_df_all] = pd.DataFrame()\n",
    "\n",
    "        for date in dates:\n",
    "            date_str = date.strftime('%d%m%y')\n",
    "            field_df = field_sample[:-5]+'_'+date_str+d_type\n",
    "#             print(field_df)\n",
    "            temp_df = locals()[field_df].copy()\n",
    "    \n",
    "            # Adding date as a suffix to all column headings except Plot_ID\n",
    "            columns_temp = ['Plot_ID']+[x+'_'+date_str for x in temp_df.columns[1:]]\n",
    "            \n",
    "            # Making a temp list of yield columns since all entries from yield cols are not present in every df\n",
    "            temp_yield_cols = [x for x in temp_df.columns if x in yield_cols]\n",
    "\n",
    "            # Removing the date suffix from the yield columns\n",
    "            for ycol in temp_yield_cols:\n",
    "                temp_yield_col = ycol+'_'+date_str\n",
    "                if temp_yield_col in columns_temp:\n",
    "                    index_yield = columns_temp.index(temp_yield_col)\n",
    "                    if columns_temp[index_yield] == temp_yield_col:\n",
    "                        columns_temp.remove(temp_yield_col)\n",
    "                        columns_temp.insert(index_yield, ycol)\n",
    "\n",
    "            temp_df.columns = columns_temp\n",
    "            \n",
    "            # Dropping Date Column, if it exists, as it is not necessary...\n",
    "            # since date imformation is moved to column headings\n",
    "            if (date_col+'_'+date_str in temp_df.columns):\n",
    "                temp_df.drop(columns=[date_col+'_'+date_str], inplace=True)\n",
    "        \n",
    "            # For first dataset, keep all columns\n",
    "            if locals()[temp_df_all].shape[1] < len(base_indices):\n",
    "                locals()[temp_df_all] = temp_df.copy()\n",
    "#                 display(temp_df)\n",
    "            \n",
    "            # For the remaining, delete yield columns\n",
    "            else:\n",
    "                # Dropping grain yield columns to avoid duplication\n",
    "                for col in temp_yield_cols:\n",
    "                    temp_df.drop(columns=[col], inplace=True)\n",
    "                \n",
    "\n",
    "\n",
    "                # Merging dataframes\n",
    "#                 locals()[temp_df_all] = pd.concat([locals()[temp_df_all].set_index('Plot_ID'),temp_df.set_index('Plot_ID')], axis=1, join='inner').reset_index()\n",
    "            \n",
    "                # The following does not handle duplicate values in the reference column. It will not merge them, rather keep both.\n",
    "                # So the duplicates should have be dealt with before this step\n",
    "                locals()[temp_df_all] = locals()[temp_df_all].merge(temp_df, on='Plot_ID', how='left', suffixes=('', date_str))\n",
    "            \n",
    "#                 locals()[temp_df_all] = locals()[temp_df_all].join(temp_df, on='Plot_ID', lsuffix='', rsuffix='_right')\n",
    "\n",
    "#                 display(locals()[temp_df_all])\n",
    "\n",
    "\n",
    "        list_agg_df.append(temp_df_all)  \n",
    "        print(temp_df_all, locals()[temp_df_all].shape)\n",
    "#         display(locals()[temp_df_all].head())\n",
    "        "
   ]
  },
  {
   "cell_type": "markdown",
   "metadata": {},
   "source": [
    "### Test: Checking if GrainYield columns have been renamed/corrected"
   ]
  },
  {
   "cell_type": "code",
   "execution_count": 368,
   "metadata": {
    "ExecuteTime": {
     "end_time": "2021-09-22T11:31:21.902870Z",
     "start_time": "2021-09-22T11:31:21.880909Z"
    }
   },
   "outputs": [
    {
     "name": "stdout",
     "output_type": "stream",
     "text": [
      "Graminor_2019_all ['GrainYield']\n",
      "Masbasis_2019_all ['GrainYield']\n",
      "Masbasis_2020_all ['GrainYield']\n",
      "Robot_2020_all ['GrainYield']\n"
     ]
    }
   ],
   "source": [
    "# Test: Checking if GrainYield columns have been renamed/corrected\n",
    "\n",
    "find_text_in_cols = 'Grain'\n",
    "for df in list_agg_df:\n",
    "    temp_cols = locals()[df].columns.to_list()\n",
    "    temp_grain_cols = [s for s in temp_cols if find_text_in_cols in s]\n",
    "    print(df, temp_grain_cols)"
   ]
  },
  {
   "cell_type": "markdown",
   "metadata": {},
   "source": [
    "## Test: Checking if the number of columns is correct"
   ]
  },
  {
   "cell_type": "code",
   "execution_count": 369,
   "metadata": {
    "ExecuteTime": {
     "end_time": "2021-09-22T11:31:21.934786Z",
     "start_time": "2021-09-22T11:31:21.908854Z"
    }
   },
   "outputs": [
    {
     "data": {
      "text/html": [
       "<div>\n",
       "<style scoped>\n",
       "    .dataframe tbody tr th:only-of-type {\n",
       "        vertical-align: middle;\n",
       "    }\n",
       "\n",
       "    .dataframe tbody tr th {\n",
       "        vertical-align: top;\n",
       "    }\n",
       "\n",
       "    .dataframe thead th {\n",
       "        text-align: right;\n",
       "    }\n",
       "</style>\n",
       "<table border=\"1\" class=\"dataframe\">\n",
       "  <thead>\n",
       "    <tr style=\"text-align: right;\">\n",
       "      <th></th>\n",
       "      <th>Plot_ID</th>\n",
       "      <th>Blue</th>\n",
       "      <th>Green</th>\n",
       "      <th>Red</th>\n",
       "      <th>RedEdge</th>\n",
       "      <th>NIR</th>\n",
       "      <th>GrainYield</th>\n",
       "      <th>Name</th>\n",
       "      <th>Pedigree</th>\n",
       "    </tr>\n",
       "  </thead>\n",
       "  <tbody>\n",
       "    <tr>\n",
       "      <th>0</th>\n",
       "      <td>101</td>\n",
       "      <td>0.03803116083145</td>\n",
       "      <td>0.08950795233250</td>\n",
       "      <td>0.11108756065369</td>\n",
       "      <td>0.20793855190277</td>\n",
       "      <td>0.33830684423447</td>\n",
       "      <td>499.6244402277</td>\n",
       "      <td>Zebra</td>\n",
       "      <td>Ralle/Dragon</td>\n",
       "    </tr>\n",
       "    <tr>\n",
       "      <th>1</th>\n",
       "      <td>102</td>\n",
       "      <td>0.03603747859597</td>\n",
       "      <td>0.08863708749414</td>\n",
       "      <td>0.09795098751783</td>\n",
       "      <td>0.20319047570229</td>\n",
       "      <td>0.33689895272255</td>\n",
       "      <td>515.53275142315</td>\n",
       "      <td>GN14547</td>\n",
       "      <td>SW45126/NK01533</td>\n",
       "    </tr>\n",
       "    <tr>\n",
       "      <th>2</th>\n",
       "      <td>103</td>\n",
       "      <td>0.03329745121300</td>\n",
       "      <td>0.08074614033103</td>\n",
       "      <td>0.10181091353297</td>\n",
       "      <td>0.18583717197180</td>\n",
       "      <td>0.31033453345299</td>\n",
       "      <td>529.50102466793</td>\n",
       "      <td>Tarrafal</td>\n",
       "      <td>NaN</td>\n",
       "    </tr>\n",
       "    <tr>\n",
       "      <th>3</th>\n",
       "      <td>104</td>\n",
       "      <td>0.03360477834940</td>\n",
       "      <td>0.07923398911953</td>\n",
       "      <td>0.09677043929696</td>\n",
       "      <td>0.18409106135368</td>\n",
       "      <td>0.31025590002537</td>\n",
       "      <td>544.50398481973</td>\n",
       "      <td>GN12760</td>\n",
       "      <td>NK02529/NK01533//NK01568</td>\n",
       "    </tr>\n",
       "    <tr>\n",
       "      <th>4</th>\n",
       "      <td>105</td>\n",
       "      <td>0.03652532957494</td>\n",
       "      <td>0.08715170621872</td>\n",
       "      <td>0.10119498148561</td>\n",
       "      <td>0.19789596647024</td>\n",
       "      <td>0.32438720762730</td>\n",
       "      <td>529.50102466793</td>\n",
       "      <td>Bjarne</td>\n",
       "      <td>SvB87293/Bastian</td>\n",
       "    </tr>\n",
       "    <tr>\n",
       "      <th>...</th>\n",
       "      <td>...</td>\n",
       "      <td>...</td>\n",
       "      <td>...</td>\n",
       "      <td>...</td>\n",
       "      <td>...</td>\n",
       "      <td>...</td>\n",
       "      <td>...</td>\n",
       "      <td>...</td>\n",
       "      <td>...</td>\n",
       "    </tr>\n",
       "    <tr>\n",
       "      <th>595</th>\n",
       "      <td>872</td>\n",
       "      <td>0.04491492733359</td>\n",
       "      <td>0.11676476150751</td>\n",
       "      <td>0.08983241766691</td>\n",
       "      <td>0.21591666340828</td>\n",
       "      <td>0.40492108464241</td>\n",
       "      <td>469.68227703985</td>\n",
       "      <td>GN19602</td>\n",
       "      <td>QUARNA/NK01513//Berserk</td>\n",
       "    </tr>\n",
       "    <tr>\n",
       "      <th>596</th>\n",
       "      <td>873</td>\n",
       "      <td>0.04470389150083</td>\n",
       "      <td>0.11402246356010</td>\n",
       "      <td>0.09582930430770</td>\n",
       "      <td>0.21251735836267</td>\n",
       "      <td>0.38515408337116</td>\n",
       "      <td>594.68265654649</td>\n",
       "      <td>GN19587</td>\n",
       "      <td>QUARNA/BAJASS-5//Berserk 4</td>\n",
       "    </tr>\n",
       "    <tr>\n",
       "      <th>597</th>\n",
       "      <td>874</td>\n",
       "      <td>0.04412870667875</td>\n",
       "      <td>0.10658716410398</td>\n",
       "      <td>0.09513810649514</td>\n",
       "      <td>0.21512669324875</td>\n",
       "      <td>0.38958498835564</td>\n",
       "      <td>528.06011385199</td>\n",
       "      <td>GN19599</td>\n",
       "      <td>Bombona/NK01513//Berserk</td>\n",
       "    </tr>\n",
       "    <tr>\n",
       "      <th>598</th>\n",
       "      <td>875</td>\n",
       "      <td>0.05810645222664</td>\n",
       "      <td>0.13230757415295</td>\n",
       "      <td>0.12883347272873</td>\n",
       "      <td>0.24708507210016</td>\n",
       "      <td>0.43111488223076</td>\n",
       "      <td>489.62914611006</td>\n",
       "      <td>GN19590</td>\n",
       "      <td>Bombona/NK01513//GN03509</td>\n",
       "    </tr>\n",
       "    <tr>\n",
       "      <th>599</th>\n",
       "      <td>801</td>\n",
       "      <td>0.03368105739355</td>\n",
       "      <td>0.08885985612869</td>\n",
       "      <td>0.08853852003813</td>\n",
       "      <td>0.20499540865421</td>\n",
       "      <td>0.44586873054504</td>\n",
       "      <td>591.9779886148</td>\n",
       "      <td>GN17621</td>\n",
       "      <td>QUARNA/GN03531//Bajass-5</td>\n",
       "    </tr>\n",
       "  </tbody>\n",
       "</table>\n",
       "<p>600 rows × 9 columns</p>\n",
       "</div>"
      ],
      "text/plain": [
       "     Plot_ID              Blue             Green               Red  \\\n",
       "0        101  0.03803116083145  0.08950795233250  0.11108756065369   \n",
       "1        102  0.03603747859597  0.08863708749414  0.09795098751783   \n",
       "2        103  0.03329745121300  0.08074614033103  0.10181091353297   \n",
       "3        104  0.03360477834940  0.07923398911953  0.09677043929696   \n",
       "4        105  0.03652532957494  0.08715170621872  0.10119498148561   \n",
       "..       ...               ...               ...               ...   \n",
       "595      872  0.04491492733359  0.11676476150751  0.08983241766691   \n",
       "596      873  0.04470389150083  0.11402246356010  0.09582930430770   \n",
       "597      874  0.04412870667875  0.10658716410398  0.09513810649514   \n",
       "598      875  0.05810645222664  0.13230757415295  0.12883347272873   \n",
       "599      801  0.03368105739355  0.08885985612869  0.08853852003813   \n",
       "\n",
       "              RedEdge               NIR       GrainYield      Name  \\\n",
       "0    0.20793855190277  0.33830684423447   499.6244402277     Zebra   \n",
       "1    0.20319047570229  0.33689895272255  515.53275142315   GN14547   \n",
       "2    0.18583717197180  0.31033453345299  529.50102466793  Tarrafal   \n",
       "3    0.18409106135368  0.31025590002537  544.50398481973   GN12760   \n",
       "4    0.19789596647024  0.32438720762730  529.50102466793    Bjarne   \n",
       "..                ...               ...              ...       ...   \n",
       "595  0.21591666340828  0.40492108464241  469.68227703985   GN19602   \n",
       "596  0.21251735836267  0.38515408337116  594.68265654649   GN19587   \n",
       "597  0.21512669324875  0.38958498835564  528.06011385199   GN19599   \n",
       "598  0.24708507210016  0.43111488223076  489.62914611006   GN19590   \n",
       "599  0.20499540865421  0.44586873054504   591.9779886148   GN17621   \n",
       "\n",
       "                       Pedigree  \n",
       "0                  Ralle/Dragon  \n",
       "1               SW45126/NK01533  \n",
       "2                           NaN  \n",
       "3      NK02529/NK01533//NK01568  \n",
       "4              SvB87293/Bastian  \n",
       "..                          ...  \n",
       "595     QUARNA/NK01513//Berserk  \n",
       "596  QUARNA/BAJASS-5//Berserk 4  \n",
       "597    Bombona/NK01513//Berserk  \n",
       "598    Bombona/NK01513//GN03509  \n",
       "599    QUARNA/GN03531//Bajass-5  \n",
       "\n",
       "[600 rows x 9 columns]"
      ]
     },
     "execution_count": 369,
     "metadata": {},
     "output_type": "execute_result"
    }
   ],
   "source": [
    "Graminor_050819_yield_median_indices "
   ]
  },
  {
   "cell_type": "code",
   "execution_count": 370,
   "metadata": {
    "ExecuteTime": {
     "end_time": "2021-09-22T11:31:21.966729Z",
     "start_time": "2021-09-22T11:31:21.940768Z"
    }
   },
   "outputs": [
    {
     "name": "stdout",
     "output_type": "stream",
     "text": [
      "Graminor_2019_all\n",
      "Masbasis_2019_all\n",
      "Masbasis_2020_all\n",
      "Robot_2020_all\n"
     ]
    }
   ],
   "source": [
    "# Assert if the number of columns is the same as they should be, based on the number of dates/subsets\n",
    "\n",
    "for field_sample, dates in sorted_field_year_dict_yield.items():\n",
    "    dates_satasets = len(sorted_field_year_dict_yield[field_sample])\n",
    "    temp_all_df = field_sample+'_all'\n",
    "    print(temp_all_df)\n",
    "    # Creating a temp list of yield columns present in the subject dataset\n",
    "    temp_yield_cols = [x for x in locals()[temp_all_df].columns if x in yield_cols]\n",
    "    assert locals()[temp_all_df].shape[1] == (dates_satasets*len(base_indices))+len(temp_yield_cols)+1"
   ]
  },
  {
   "cell_type": "markdown",
   "metadata": {},
   "source": [
    "## ToDo: Test: Check if the number of subplots/rows is corect"
   ]
  },
  {
   "cell_type": "code",
   "execution_count": 371,
   "metadata": {
    "ExecuteTime": {
     "end_time": "2021-09-22T11:31:21.982658Z",
     "start_time": "2021-09-22T11:31:21.972685Z"
    }
   },
   "outputs": [],
   "source": [
    "# list_agg_df"
   ]
  },
  {
   "cell_type": "markdown",
   "metadata": {},
   "source": [
    "# Check subplot with lodging and drop them"
   ]
  },
  {
   "cell_type": "code",
   "execution_count": 394,
   "metadata": {
    "ExecuteTime": {
     "end_time": "2021-09-22T11:57:55.786296Z",
     "start_time": "2021-09-22T11:57:55.746884Z"
    }
   },
   "outputs": [
    {
     "name": "stdout",
     "output_type": "stream",
     "text": [
      "Masbasis_2020_all has lodging column.\n",
      "29 subplots with lodging above the threshold 70 have been droppped.\n"
     ]
    },
    {
     "data": {
      "text/plain": [
       "['Masbasis_2020_all_lodg',\n",
       " 'Graminor_2019_all',\n",
       " 'Masbasis_2019_all',\n",
       " 'Masbasis_2020_all',\n",
       " 'Robot_2020_all']"
      ]
     },
     "execution_count": 394,
     "metadata": {},
     "output_type": "execute_result"
    }
   ],
   "source": [
    "# Masbasis 2020, some plots are lodged because of wind and rain. So reflection is not the same\n",
    "# Remove 70+ lodged lots\n",
    "# No lodging in 2019\n",
    "# Mostly in 2020, but arounf 5 plots. Remove them\n",
    "\n",
    "lodging_col = 'Lodging'\n",
    "# Lodging threshold, above which all subplots will be dropped\n",
    "lodging_threshold = 70\n",
    "\n",
    "lodg_df = []\n",
    "for df in list_agg_df:\n",
    "    temp_df = locals()[df]\n",
    "    if lodging_col in temp_df.columns:\n",
    "        # Fill the missing values in Lodging column with 1.0\n",
    "        temp_df['Lodging'] = temp_df['Lodging'].fillna(value=1.0)\n",
    "        print(df, 'has lodging column.')\n",
    "        df_lodg = df+'_lodg'\n",
    "        locals()[df_lodg] = temp_df[temp_df.Lodging < lodging_threshold]\n",
    "        rows_dropped = temp_df[temp_df.Lodging >= lodging_threshold].shape[0]\n",
    "\n",
    "        print(f'{rows_dropped} subplots with lodging above the threshold {lodging_threshold} have been droppped.')\n",
    "        # Appending the name of new df to a list\n",
    "        lodg_df.append(df_lodg)\n",
    "        \n",
    "# Updating the lodg_df list with remaining df wihtout lodging\n",
    "for df in list_agg_df:\n",
    "    if lodging_col not in temp_df.columns:\n",
    "        lodg_df.append(df)\n",
    "lodg_df"
   ]
  },
  {
   "cell_type": "markdown",
   "metadata": {},
   "source": [
    "# Exporting the datasets to csv files"
   ]
  },
  {
   "cell_type": "code",
   "execution_count": 286,
   "metadata": {
    "ExecuteTime": {
     "end_time": "2021-09-22T11:12:22.149898Z",
     "start_time": "2021-09-22T11:12:21.891026Z"
    }
   },
   "outputs": [],
   "source": [
    "os.makedirs(export_path, exist_ok=True)\n",
    "for df in lodg_df:\n",
    "    locals()[df].to_csv(export_path+df+'.csv', index=False)"
   ]
  },
  {
   "cell_type": "markdown",
   "metadata": {},
   "source": [
    "# Test: Missing values in datasets"
   ]
  },
  {
   "cell_type": "code",
   "execution_count": null,
   "metadata": {
    "ExecuteTime": {
     "end_time": "2021-09-21T15:35:15.887062Z",
     "start_time": "2021-09-21T15:34:50.587Z"
    }
   },
   "outputs": [],
   "source": [
    "print(df_with_nan)\n",
    "# Finding which column has NAN values\n",
    "for df in df_with_nan:\n",
    "    print(f'{df}, {locals()[df].shape[1]-locals()[df].dropna().shape[1]} columns and {locals()[df].shape[0]-locals()[df].dropna().shape[0]} rows to be dropped,')\n",
    "if len(df_with_nan) > 0:\n",
    "    raise ValueError"
   ]
  },
  {
   "cell_type": "markdown",
   "metadata": {},
   "source": [
    "# END OF SECTION"
   ]
  },
  {
   "cell_type": "code",
   "execution_count": null,
   "metadata": {
    "ExecuteTime": {
     "end_time": "2021-09-08T17:52:41.871964Z",
     "start_time": "2021-09-08T17:52:11.675Z"
    }
   },
   "outputs": [],
   "source": [
    "Graminor_020719.isnull().sum().sort_values"
   ]
  },
  {
   "cell_type": "markdown",
   "metadata": {},
   "source": [
    "## What is thisssssssss?"
   ]
  },
  {
   "cell_type": "code",
   "execution_count": 123,
   "metadata": {
    "ExecuteTime": {
     "end_time": "2021-09-27T17:07:07.689038Z",
     "start_time": "2021-09-27T17:07:07.663443Z"
    }
   },
   "outputs": [
    {
     "ename": "NameError",
     "evalue": "name 'Robot_2020_all' is not defined",
     "output_type": "error",
     "traceback": [
      "\u001b[1;31m---------------------------------------------------------------------------\u001b[0m",
      "\u001b[1;31mNameError\u001b[0m                                 Traceback (most recent call last)",
      "\u001b[1;32m<ipython-input-123-4f6fda860533>\u001b[0m in \u001b[0;36m<module>\u001b[1;34m\u001b[0m\n\u001b[0;32m      3\u001b[0m \u001b[1;33m\u001b[0m\u001b[0m\n\u001b[0;32m      4\u001b[0m \u001b[1;32mfor\u001b[0m \u001b[0mcol\u001b[0m \u001b[1;32min\u001b[0m \u001b[0mbase_indices\u001b[0m\u001b[1;33m:\u001b[0m\u001b[1;33m\u001b[0m\u001b[1;33m\u001b[0m\u001b[0m\n\u001b[1;32m----> 5\u001b[1;33m     \u001b[0mtemp_list\u001b[0m \u001b[1;33m=\u001b[0m \u001b[1;33m[\u001b[0m\u001b[0mx\u001b[0m \u001b[1;32mfor\u001b[0m \u001b[0mx\u001b[0m \u001b[1;32min\u001b[0m \u001b[0mRobot_2020_all\u001b[0m\u001b[1;33m.\u001b[0m\u001b[0mcolumns\u001b[0m \u001b[1;32mif\u001b[0m \u001b[1;33m(\u001b[0m\u001b[0mx\u001b[0m\u001b[1;33m.\u001b[0m\u001b[0mfind\u001b[0m\u001b[1;33m(\u001b[0m\u001b[0mcol\u001b[0m\u001b[1;33m)\u001b[0m\u001b[1;33m==\u001b[0m\u001b[1;36m0\u001b[0m\u001b[1;33m)\u001b[0m \u001b[1;32mif\u001b[0m \u001b[0mx\u001b[0m \u001b[1;33m!=\u001b[0m \u001b[1;34m'MTCI-CI'\u001b[0m\u001b[1;33m]\u001b[0m\u001b[1;33m\u001b[0m\u001b[1;33m\u001b[0m\u001b[0m\n\u001b[0m\u001b[0;32m      6\u001b[0m     \u001b[0mprint\u001b[0m\u001b[1;33m(\u001b[0m\u001b[0mlen\u001b[0m\u001b[1;33m(\u001b[0m\u001b[0mtemp_list\u001b[0m\u001b[1;33m)\u001b[0m\u001b[1;33m,\u001b[0m \u001b[0mtemp_list\u001b[0m\u001b[1;33m)\u001b[0m\u001b[1;33m\u001b[0m\u001b[1;33m\u001b[0m\u001b[0m\n\u001b[0;32m      7\u001b[0m \u001b[1;33m\u001b[0m\u001b[0m\n",
      "\u001b[1;31mNameError\u001b[0m: name 'Robot_2020_all' is not defined"
     ]
    }
   ],
   "source": [
    "# base_indices = ['Blue', 'Green', 'Red', 'RedEdge', 'NIR', 'NDVI', 'MTCI', 'EVI']\n",
    "# yield_cols = ['GrainYield']\n",
    "\n",
    "for col in base_indices:\n",
    "    temp_list = [x for x in Robot_2020_all.columns if (x.find(col)==0) if x != 'MTCI-CI']\n",
    "    print(len(temp_list), temp_list)\n",
    "\n",
    "# item.lower().find('sum'.lower()) == -1"
   ]
  },
  {
   "cell_type": "markdown",
   "metadata": {},
   "source": [
    "# Data Trends"
   ]
  },
  {
   "cell_type": "markdown",
   "metadata": {},
   "source": [
    "## Normal Distribution of data"
   ]
  },
  {
   "cell_type": "markdown",
   "metadata": {},
   "source": [
    "ToDo:  \n",
    "see the distribution of data if it is normal  \n",
    "else make transpose to make it normal  \n",
    "dist in Gausion function   \n",
    "in each field  \n",
    "what if the data is normal dist?  \n",
    "the use some transpose to box pox   \n",
    "try diff funct to see which one iis able to make data normal  \n",
    "make heat map of whole if not normal  \n",
    "see which parts are not normal and exculde them  \n",
    "ls_means in R to make the normalisation/transpose  \n",
    "pearson corr bw yield and indices for diff dates  \n"
   ]
  },
  {
   "cell_type": "code",
   "execution_count": null,
   "metadata": {
    "ExecuteTime": {
     "end_time": "2021-09-08T16:03:48.899019Z",
     "start_time": "2021-09-08T16:03:34.494Z"
    }
   },
   "outputs": [],
   "source": [
    "x_labels"
   ]
  },
  {
   "cell_type": "markdown",
   "metadata": {},
   "source": [
    "### Yeo-Johnson Transformation"
   ]
  },
  {
   "cell_type": "code",
   "execution_count": null,
   "metadata": {
    "ExecuteTime": {
     "end_time": "2021-09-08T16:03:48.900017Z",
     "start_time": "2021-09-08T16:03:35.148Z"
    },
    "scrolled": false
   },
   "outputs": [],
   "source": [
    "col_for_plotting = ['Blue', 'Green', 'Red', 'RedEdge', 'NIR', 'NDVI', 'MTCI', 'EVI']\n",
    "\n",
    "from sklearn.preprocessing import PowerTransformer, normalize, StandardScaler\n",
    "data_agg_list = ['_median_indices']\n",
    "\n",
    "# col_for_plotting = ['Blue']\n",
    "# col_for_plotting = ['Green']\n",
    "# col_for_plotting = ['Red']\n",
    "\n",
    "for d_type in data_agg_list:\n",
    "    for col in col_for_plotting:\n",
    "        fields = len(field_year_dict_yield.keys())\n",
    "        rows = math.ceil(fields/2)\n",
    "        \n",
    "        fig, ax = plt.subplots(rows,2, figsize=(15,10))\n",
    "        plots = ax.flatten()\n",
    "        n = 0\n",
    "        # TODO: Fix the x ticks\n",
    "        \n",
    "\n",
    "        for field_sample, dates in sorted_field_year_dict_yield.items():\n",
    "            x_labels = []\n",
    "            # Adding required data to a temp dataframe\n",
    "            temp_df = pd.DataFrame()\n",
    "            for date in dates:\n",
    "                date_str = date.strftime('%d%m%y')\n",
    "                field_df = field_sample[:-5]+'_'+date_str+d_type\n",
    "                temp_df[date] = locals()[field_df][col]\n",
    "                x_label = date.strftime('%d-%m-%y')+':'+str(len(locals()[field_df][col]))\n",
    "                \n",
    "                x_labels.append(x_label)\n",
    "                x_labels= list(set(x_labels))\n",
    "            # Transform the df\n",
    "#             pt = PowerTransformer(method='box-cox', standardize=False)\n",
    "            pt = PowerTransformer(method='yeo-johnson', standardize=False)\n",
    "\n",
    "            temp_arr = pt.fit_transform(temp_df)\n",
    "            temp_df = pd.DataFrame(temp_arr)\n",
    "            \n",
    "            # Adding field plot to the subplots\n",
    "            num_of_fields = len(field_year_dict_yield.keys())\n",
    "            \n",
    "            text = \"Grain Yield\"\n",
    "            ax_n = plots[n]\n",
    "            \n",
    "            temp_df.boxplot(ax=ax_n)\n",
    "            ax_n.set_xticklabels(x_labels, rotation=-35)\n",
    "            ax_n.set_title(field_sample+'_'+col+d_type[:-5]+'_yeo-johnson')\n",
    "            \n",
    "#             # Printing the grain yield in plot of the fiels_sample for reference\n",
    "#             ax_n.text(0.85, 1.05, text, ha='center', va='top', weight='bold', color='blue', transform=ax_n.transAxes)\n",
    "            n+=1\n",
    "        plt.tight_layout()\n",
    "\n"
   ]
  },
  {
   "cell_type": "markdown",
   "metadata": {},
   "source": [
    "### Box-Cox Transformation"
   ]
  },
  {
   "cell_type": "code",
   "execution_count": null,
   "metadata": {
    "ExecuteTime": {
     "end_time": "2021-09-08T16:03:48.901015Z",
     "start_time": "2021-09-08T16:03:35.759Z"
    },
    "scrolled": false
   },
   "outputs": [],
   "source": [
    "col_for_plotting = ['Blue', 'Green', 'Red', 'RedEdge', 'NIR', 'NDVI', 'MTCI', 'EVI']\n",
    "\n",
    "from sklearn.preprocessing import PowerTransformer, normalize, StandardScaler\n",
    "data_agg_list = ['_median_indices']\n",
    "\n",
    "# col_for_plotting = ['Blue']\n",
    "# col_for_plotting = ['Green']\n",
    "# col_for_plotting = ['Red']\n",
    "\n",
    "for d_type in data_agg_list:\n",
    "    for col in col_for_plotting:\n",
    "        fields = len(field_year_dict_yield.keys())\n",
    "        rows = math.ceil(fields/2)\n",
    "        \n",
    "        fig, ax = plt.subplots(rows,2, figsize=(15,10))\n",
    "        plots = ax.flatten()\n",
    "        n = 0\n",
    "        # TODO: Fix the x ticks\n",
    "        for field_sample, dates in sorted_field_year_dict_yield.items():\n",
    "            \n",
    "            # Adding required data to a temp dataframe\n",
    "            temp_df = pd.DataFrame()\n",
    "            for date in dates:\n",
    "                date_str = date.strftime('%d%m%y')\n",
    "                field_df = field_sample[:-5]+'_'+date_str+d_type\n",
    "                temp_df[date] = locals()[field_df][col]\n",
    "            x_labels = temp_df.columns.tolist()\n",
    "\n",
    "            # Transform the df\n",
    "#             pt = PowerTransformer(method='box-cox', standardize=False)\n",
    "            pt = PowerTransformer(method='box-cox', standardize=False)\n",
    "\n",
    "            # Taking absolute values of the dataframe(avoiding negative values)\n",
    "            temp_arr = pt.fit_transform(temp_df.abs())\n",
    "            temp_df = pd.DataFrame(temp_arr)\n",
    "            \n",
    "            # Adding field plot to the subplots\n",
    "            num_of_fields = len(field_year_dict_yield.keys())\n",
    "            \n",
    "            text = \"Grain Yield\"\n",
    "            ax_n = plots[n]\n",
    "\n",
    "            temp_df.boxplot(ax=ax_n)\n",
    "            ax_n.set_xticklabels(x_labels, rotation=90)\n",
    "            ax_n.set_title(field_sample+'_'+col+d_type[:-5]+'_box-cox')\n",
    "            \n",
    "#             # Printing the grain yield in plot of the fiels_sample for reference\n",
    "#             ax_n.text(0.85, 1.05, text, ha='center', va='top', weight='bold', color='blue', transform=ax_n.transAxes)\n",
    "            n+=1\n",
    "        plt.tight_layout()\n",
    "\n"
   ]
  },
  {
   "cell_type": "markdown",
   "metadata": {},
   "source": [
    "### ToDo: Identify Dates and index with problems"
   ]
  },
  {
   "cell_type": "code",
   "execution_count": null,
   "metadata": {},
   "outputs": [],
   "source": []
  },
  {
   "cell_type": "markdown",
   "metadata": {},
   "source": [
    "### Ecxclude the problematic data/dates\n",
    "or\n",
    "### Take average values where the problematic data is"
   ]
  },
  {
   "cell_type": "markdown",
   "metadata": {},
   "source": [
    "Take average of data for date 20200708 and 20200624  \n",
    "Masbasis  \n",
    "Cleanup  \n",
    "Remove dates which have drop  "
   ]
  },
  {
   "cell_type": "markdown",
   "metadata": {},
   "source": [
    "## ToDo: Remove outliers"
   ]
  },
  {
   "cell_type": "code",
   "execution_count": null,
   "metadata": {},
   "outputs": [],
   "source": []
  },
  {
   "cell_type": "markdown",
   "metadata": {},
   "source": [
    "### Find AUC for all dates of one field\n",
    "See if it covers tha gaps under the dates,i.e.\n",
    "\n",
    "Since data points are different  \n",
    "Flying time is different  \n",
    "Cover the gaps between the dates  \n",
    "\n",
    "Since the data collection is not uniform throughout the year so AUC will give a single value instead of multiple values for one field year which will be representative of all the dates "
   ]
  },
  {
   "cell_type": "markdown",
   "metadata": {},
   "source": [
    "#### Option 1: Use Scipy"
   ]
  },
  {
   "cell_type": "code",
   "execution_count": null,
   "metadata": {
    "ExecuteTime": {
     "end_time": "2021-09-08T16:03:48.902011Z",
     "start_time": "2021-09-08T16:03:39.032Z"
    }
   },
   "outputs": [],
   "source": [
    "import scipy\n",
    "scipy.__version__"
   ]
  },
  {
   "cell_type": "code",
   "execution_count": null,
   "metadata": {
    "ExecuteTime": {
     "end_time": "2021-09-08T16:03:48.903009Z",
     "start_time": "2021-09-08T16:03:39.036Z"
    }
   },
   "outputs": [],
   "source": [
    "from scipy import integrate\n",
    "from scipy.integrate import simps"
   ]
  },
  {
   "cell_type": "code",
   "execution_count": null,
   "metadata": {
    "ExecuteTime": {
     "end_time": "2021-09-08T16:03:48.904006Z",
     "start_time": "2021-09-08T16:03:39.040Z"
    }
   },
   "outputs": [],
   "source": [
    "from scipy.integrate import simpson"
   ]
  },
  {
   "cell_type": "code",
   "execution_count": null,
   "metadata": {
    "ExecuteTime": {
     "end_time": "2021-09-08T16:03:48.905003Z",
     "start_time": "2021-09-08T16:03:39.044Z"
    }
   },
   "outputs": [],
   "source": [
    "x = np.arange(0, 10)\n",
    "y = np.arange(0, 10)\n"
   ]
  },
  {
   "cell_type": "code",
   "execution_count": null,
   "metadata": {
    "ExecuteTime": {
     "end_time": "2021-09-08T16:03:48.906999Z",
     "start_time": "2021-09-08T16:03:39.049Z"
    }
   },
   "outputs": [],
   "source": [
    "# integrate.simpson(y, x)\n",
    "integrate.simps(y, x)"
   ]
  },
  {
   "cell_type": "code",
   "execution_count": null,
   "metadata": {
    "ExecuteTime": {
     "end_time": "2021-09-08T16:03:48.907995Z",
     "start_time": "2021-09-08T16:03:39.053Z"
    }
   },
   "outputs": [],
   "source": [
    "y = np.power(x, 3)\n",
    "y"
   ]
  },
  {
   "cell_type": "code",
   "execution_count": null,
   "metadata": {
    "ExecuteTime": {
     "end_time": "2021-09-08T16:03:48.908993Z",
     "start_time": "2021-09-08T16:03:39.056Z"
    }
   },
   "outputs": [],
   "source": [
    "integrate.simpson(y, x)\n",
    "# integrate.simps(y, x)\n"
   ]
  },
  {
   "cell_type": "code",
   "execution_count": null,
   "metadata": {
    "ExecuteTime": {
     "end_time": "2021-09-08T16:03:48.909989Z",
     "start_time": "2021-09-08T16:03:39.061Z"
    }
   },
   "outputs": [],
   "source": [
    "integrate.quad(lambda x: x**3, 0, 9)[0]"
   ]
  },
  {
   "cell_type": "code",
   "execution_count": null,
   "metadata": {
    "ExecuteTime": {
     "end_time": "2021-09-08T16:03:48.910987Z",
     "start_time": "2021-09-08T16:03:39.066Z"
    }
   },
   "outputs": [],
   "source": [
    "integrate.simpson(y, x, even='first')\n",
    "# integrate.simps(y, x, even='first')"
   ]
  },
  {
   "cell_type": "code",
   "execution_count": null,
   "metadata": {},
   "outputs": [],
   "source": []
  },
  {
   "cell_type": "code",
   "execution_count": null,
   "metadata": {},
   "outputs": [],
   "source": []
  },
  {
   "cell_type": "markdown",
   "metadata": {},
   "source": [
    "#### Option 2"
   ]
  },
  {
   "cell_type": "code",
   "execution_count": null,
   "metadata": {
    "ExecuteTime": {
     "end_time": "2021-09-08T16:03:48.911985Z",
     "start_time": "2021-09-08T16:03:39.728Z"
    }
   },
   "outputs": [],
   "source": [
    "data\n",
    "# plot: Plot ID\n",
    "# x: Number of days after sowing or actual date\n",
    "# y: Value of the index\n"
   ]
  },
  {
   "cell_type": "code",
   "execution_count": null,
   "metadata": {
    "ExecuteTime": {
     "end_time": "2021-09-08T16:03:48.913980Z",
     "start_time": "2021-09-08T16:03:39.733Z"
    }
   },
   "outputs": [],
   "source": [
    "# x: Days from sowing to data collection\n",
    "# May 5 2019 Masbasis and Graminor\n",
    "# Robot: \n",
    "\n",
    "data={'plot':['1','1','2','2','3','3'],'x':['5','6','7','8','9','10'],'y':['0.9','0.8','0.7','0.6','0.5','0.4'] }\n",
    "\n",
    "ACC=[]\n",
    "A=pd.DataFrame(data, columns=['plot','x','y'])\n",
    "AA=0\n",
    "\n",
    "for item in range(len(A)-1):\n",
    "    if A['plot'][item]== A['plot'][item+1]:\n",
    "        Ans=(float((A['y'][item]))+float((A['y'][item+1])))*((float((A['x'][item+1]))-float((A['x'][item]))))/2\n",
    "        AA+=Ans\n",
    "        print(AA)\n",
    "        ACC.append(AA)"
   ]
  },
  {
   "cell_type": "markdown",
   "metadata": {},
   "source": [
    "### Alternative"
   ]
  },
  {
   "cell_type": "code",
   "execution_count": null,
   "metadata": {
    "ExecuteTime": {
     "end_time": "2021-09-08T16:03:48.914977Z",
     "start_time": "2021-09-08T16:03:40.283Z"
    }
   },
   "outputs": [],
   "source": [
    "df1=Data.set_index(['Plot'])\n",
    "ACC=[]\n",
    "\n",
    "for item in Numbers_final:\n",
    "    df2=df1[df1.index==item]\n",
    "    df2=df2.filter(['Blue', 'Green', 'Red', 'RedEdge', 'NIR','NDVI', 'MTCI', 'EVI', 'DVI', 'RVI', 'VARI', 'EXG', 'EXGR', 'GLI', 'GNDVI', 'GVI','Time','timepoint'], axis=1)\n",
    "    df2=df2.sort_values(by='timepoint')\n",
    "    df3=df2.reset_index()\n",
    "\n",
    "AA=0\n",
    "for j in range(0,3):\n",
    "    Ans=(float((df3['GVI'][j]))+float((df3['GVI'][j+1])))*((float((df3['timepoint'][j+1]))-float((df3['timepoint'][j]))))/2\n",
    "    AA+=Ans\n",
    "\n",
    "    print(AA)\n",
    "    ACC.append(AA)\n",
    "\n",
    "\n",
    "\n",
    "DA=pd.DataFrame(ACC)\n",
    "DD=pd.DataFrame(Numbers_final)\n",
    "DDA=pd.concat([DD, DA], axis=1)\n",
    "DDA.to_excel('Staur_Accumulative_GVI_2019.xlsx')"
   ]
  },
  {
   "cell_type": "markdown",
   "metadata": {},
   "source": [
    "### Time series data vs the AUC"
   ]
  },
  {
   "cell_type": "code",
   "execution_count": null,
   "metadata": {},
   "outputs": [],
   "source": []
  },
  {
   "cell_type": "markdown",
   "metadata": {},
   "source": [
    "# ToDo: Model Training"
   ]
  },
  {
   "cell_type": "markdown",
   "metadata": {},
   "source": [
    "\n",
    "Make model for one year at a time and try to predict yield of another field  \n",
    "\n",
    "TODO: Train on Masbasis 2019 an 2020  \n",
    "Test on Staur  \n",
    "\n",
    "Use data until august for yield prediction since it is most relavant  \n",
    "Use all data for predicting date to maturity  \n",
    "\n",
    "Data Collection:  \n",
    "Data collection usually starts after heading  \n",
    "2019 has the data before hading as well. To use that, dont use dates before heading  \n",
    "\n",
    "NDVI is resistant to shadows  \n",
    "\n",
    "DAT390 Report: Do the report with Robot Data only  \n",
    "\n",
    "TODO: Use AUC for each index for prediction  \n",
    "\n",
    "TODO:   \n",
    "Time series data vs the AUC  "
   ]
  },
  {
   "cell_type": "code",
   "execution_count": null,
   "metadata": {},
   "outputs": [],
   "source": []
  }
 ],
 "metadata": {
  "hide_input": false,
  "kernelspec": {
   "display_name": "Python 3",
   "language": "python",
   "name": "python3"
  },
  "language_info": {
   "codemirror_mode": {
    "name": "ipython",
    "version": 3
   },
   "file_extension": ".py",
   "mimetype": "text/x-python",
   "name": "python",
   "nbconvert_exporter": "python",
   "pygments_lexer": "ipython3",
   "version": "3.8.5"
  },
  "toc": {
   "base_numbering": 1,
   "nav_menu": {},
   "number_sections": true,
   "sideBar": true,
   "skip_h1_title": false,
   "title_cell": "Table of Contents",
   "title_sidebar": "Contents",
   "toc_cell": false,
   "toc_position": {
    "height": "calc(100% - 180px)",
    "left": "10px",
    "top": "150px",
    "width": "316.431px"
   },
   "toc_section_display": true,
   "toc_window_display": true
  },
  "varInspector": {
   "cols": {
    "lenName": 16,
    "lenType": 16,
    "lenVar": 40
   },
   "kernels_config": {
    "python": {
     "delete_cmd_postfix": "",
     "delete_cmd_prefix": "del ",
     "library": "var_list.py",
     "varRefreshCmd": "print(var_dic_list())"
    },
    "r": {
     "delete_cmd_postfix": ") ",
     "delete_cmd_prefix": "rm(",
     "library": "var_list.r",
     "varRefreshCmd": "cat(var_dic_list()) "
    }
   },
   "types_to_exclude": [
    "module",
    "function",
    "builtin_function_or_method",
    "instance",
    "_Feature"
   ],
   "window_display": false
  }
 },
 "nbformat": 4,
 "nbformat_minor": 2
}

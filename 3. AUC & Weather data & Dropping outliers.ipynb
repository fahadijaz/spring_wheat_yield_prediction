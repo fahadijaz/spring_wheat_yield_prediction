{
 "cells": [
  {
   "cell_type": "markdown",
   "metadata": {},
   "source": [
    "# Weather and Genomics Data"
   ]
  },
  {
   "cell_type": "markdown",
   "metadata": {},
   "source": [
    "Note: Half datasets, with separate files for east and west subplots have been merged manually in excel"
   ]
  },
  {
   "cell_type": "code",
   "execution_count": 1,
   "metadata": {
    "ExecuteTime": {
     "end_time": "2021-12-03T17:50:48.340321Z",
     "start_time": "2021-12-03T17:50:47.302194Z"
    }
   },
   "outputs": [
    {
     "name": "stdout",
     "output_type": "stream",
     "text": [
      "Wall time: 1.02 s\n"
     ]
    }
   ],
   "source": [
    "%%time\n",
    "\n",
    "import os\n",
    "import math\n",
    "from datetime import datetime as dt\n",
    "from datetime import timedelta as timedelta\n",
    "import numpy as np\n",
    "import pandas as pd\n",
    "from copy import copy\n",
    "\n",
    "# Dictionaries\n",
    "import json\n",
    "from pprint import pprint\n",
    "\n",
    "# Iterate in loops\n",
    "from itertools import zip_longest\n",
    "\n",
    "# Simpsons integration\n",
    "from numpy import trapz\n",
    "from scipy.integrate import simps\n",
    "\n",
    "# Visualisation\n",
    "import seaborn as sns\n",
    "import matplotlib.pyplot as plt\n",
    "\n",
    "# To display df nicely in loops\n",
    "from IPython.display import display \n",
    "# display(df1.head()) \n",
    "# display(df2.head())\n",
    "\n",
    "# Display rows and columns Pandas\n",
    "pd.options.display.max_columns = 100\n",
    "pd.set_option('display.max_rows',100)\n",
    "\n",
    "# # For displaying max rows in series\n",
    "# pd.options.display.max_rows = 10"
   ]
  },
  {
   "cell_type": "code",
   "execution_count": null,
   "metadata": {},
   "outputs": [],
   "source": []
  },
  {
   "cell_type": "code",
   "execution_count": 2,
   "metadata": {
    "ExecuteTime": {
     "end_time": "2021-12-03T17:50:48.355295Z",
     "start_time": "2021-12-03T17:50:48.343312Z"
    }
   },
   "outputs": [
    {
     "data": {
      "text/plain": [
       "'C:\\\\Users\\\\fahad\\\\MegaSync\\\\NMBU\\\\GitHub\\\\vPheno'"
      ]
     },
     "execution_count": 2,
     "metadata": {},
     "output_type": "execute_result"
    }
   ],
   "source": [
    "# Prints the current working directory\n",
    "os.getcwd()\n",
    "# os.listdir()"
   ]
  },
  {
   "cell_type": "markdown",
   "metadata": {},
   "source": [
    "## Finding Username folder to make general path for multi PC use"
   ]
  },
  {
   "cell_type": "code",
   "execution_count": 3,
   "metadata": {
    "ExecuteTime": {
     "end_time": "2021-12-03T17:50:48.378045Z",
     "start_time": "2021-12-03T17:50:48.357290Z"
    },
    "scrolled": true
   },
   "outputs": [
    {
     "data": {
      "text/plain": [
       "('fahad', 'C:/Users/fahad/')"
      ]
     },
     "execution_count": 3,
     "metadata": {},
     "output_type": "execute_result"
    }
   ],
   "source": [
    "username = str(os.getcwd()).split('\\\\')[2]\n",
    "user_path = r'C:/Users/'+username+'/'\n",
    "username, user_path"
   ]
  },
  {
   "cell_type": "markdown",
   "metadata": {},
   "source": [
    "## Importing Data"
   ]
  },
  {
   "cell_type": "code",
   "execution_count": 4,
   "metadata": {
    "ExecuteTime": {
     "end_time": "2021-12-03T17:50:48.394678Z",
     "start_time": "2021-12-03T17:50:48.379051Z"
    }
   },
   "outputs": [
    {
     "data": {
      "text/plain": [
       "['Graminor_2019_all.csv',\n",
       " 'Graminor_2020_all.csv',\n",
       " 'Masbasis_2019_all.csv',\n",
       " 'Masbasis_2020_all_lodg.csv',\n",
       " 'Robot_2020_all.csv',\n",
       " 'Staur_2019_all.csv',\n",
       " 'Staur_2020_all_lodg.csv']"
      ]
     },
     "execution_count": 4,
     "metadata": {},
     "output_type": "execute_result"
    }
   ],
   "source": [
    "main_path = r'./Data/'\n",
    "path = r'./Data/2,2. renamed_merged/'\n",
    "export_path = r'./Data/3. merged data/'\n",
    "# temp_export_path = r'./Data/3. Temp_Data/'\n",
    "weather_data_vollebekk = user_path+r'\\\\MegaSync\\NMBU\\Master Thesis\\Data\\Weather\\Weather_Data_Ås-Vollebekk.csv'\n",
    "weather_data_staur = user_path+r'\\\\MegaSync\\NMBU\\Master Thesis\\Data\\Weather\\Weather_Data_Ilseng-Staur.csv'\n",
    "genomics_data = user_path+r'\\\\MegaSync\\NMBU\\Master Thesis\\Data\\Genomics\\\\'\n",
    "\n",
    "# Create export_path folder if not exists already\n",
    "os.makedirs(path, exist_ok=True)\n",
    "os.makedirs(export_path, exist_ok=True)\n",
    "# os.makedirs(temp_export_path, exist_ok=True)\n",
    "\n",
    "os.listdir(path)"
   ]
  },
  {
   "cell_type": "markdown",
   "metadata": {},
   "source": [
    "## Data Preparation\n",
    "### Creating list of complete files"
   ]
  },
  {
   "cell_type": "code",
   "execution_count": 5,
   "metadata": {
    "ExecuteTime": {
     "end_time": "2021-12-03T17:50:48.411444Z",
     "start_time": "2021-12-03T17:50:48.395684Z"
    }
   },
   "outputs": [
    {
     "name": "stdout",
     "output_type": "stream",
     "text": [
      "7 files found in the directory\n"
     ]
    },
    {
     "data": {
      "text/plain": [
       "['Graminor_2019_all.csv',\n",
       " 'Graminor_2020_all.csv',\n",
       " 'Masbasis_2019_all.csv',\n",
       " 'Masbasis_2020_all_lodg.csv',\n",
       " 'Robot_2020_all.csv',\n",
       " 'Staur_2019_all.csv',\n",
       " 'Staur_2020_all_lodg.csv']"
      ]
     },
     "execution_count": 5,
     "metadata": {},
     "output_type": "execute_result"
    }
   ],
   "source": [
    "# Get the list of all files in directory tree at given path\n",
    "\n",
    "files_with_address = []\n",
    "files_list = []\n",
    "\n",
    "for (dirpath, dirnames, filenames) in os.walk(path):\n",
    "    files_with_address += [os.path.join(dirpath, file) for file in filenames]\n",
    "    files_list.extend(filenames)\n",
    "    \n",
    "print(len(files_with_address), 'files found in the directory')\n",
    "# files_with_address\n",
    "files_list"
   ]
  },
  {
   "cell_type": "markdown",
   "metadata": {},
   "source": [
    "## Data Checking/control"
   ]
  },
  {
   "cell_type": "markdown",
   "metadata": {
    "run_control": {
     "marked": true
    }
   },
   "source": [
    "### Check for duplicate filenames"
   ]
  },
  {
   "cell_type": "code",
   "execution_count": 6,
   "metadata": {
    "ExecuteTime": {
     "end_time": "2021-12-03T17:50:48.427406Z",
     "start_time": "2021-12-03T17:50:48.412446Z"
    }
   },
   "outputs": [
    {
     "name": "stdout",
     "output_type": "stream",
     "text": [
      "Total number of files are : 7\n",
      "Number of unique file names are: 7\n",
      "There is/are 0 duplicate file name/names.\n"
     ]
    }
   ],
   "source": [
    "print('Total number of files are :', len(files_list))\n",
    "\n",
    "print('Number of unique file names are:', len(set(files_list)))\n",
    "\n",
    "print('There is/are', len(files_list) - len(set(files_list)),'duplicate file name/names.')\n",
    "if len(files_list) - len(set(files_list)) > 0:\n",
    "    raise NameError"
   ]
  },
  {
   "cell_type": "markdown",
   "metadata": {},
   "source": [
    "## Importing data files to Pandas"
   ]
  },
  {
   "cell_type": "code",
   "execution_count": 7,
   "metadata": {
    "ExecuteTime": {
     "end_time": "2021-12-03T17:50:48.811418Z",
     "start_time": "2021-12-03T17:50:48.428940Z"
    }
   },
   "outputs": [
    {
     "name": "stdout",
     "output_type": "stream",
     "text": [
      "Graminor_2019_all ===== (600, 370)\n",
      "Graminor_2020_all ===== (800, 370)\n",
      "Masbasis_2019_all ===== (528, 272)\n",
      "Masbasis_2020_all_lodg ===== (624, 406)\n",
      "Robot_2020_all ===== (96, 471)\n",
      "Staur_2019_all ===== (1328, 176)\n",
      "Staur_2020_all_lodg ===== (1488, 206)\n",
      "Wall time: 367 ms\n"
     ]
    }
   ],
   "source": [
    "   \n",
    "%%time\n",
    "\n",
    "all_df = []\n",
    "for data in files_with_address:\n",
    "    file_name = os.path.splitext(os.path.basename(data))[0]\n",
    "\n",
    "    # Replce all invalid characters in the name\n",
    "    file_name = file_name.replace(\" \", \"_\")\n",
    "    file_name = file_name.replace(\"-\", \"_\")\n",
    "    file_name = file_name.replace(\")\", \"\")\n",
    "    file_name = file_name.replace(\"(\", \"\")\n",
    "    df_name = file_name.replace(\".\", \"\")\n",
    "    # Test: Check if the same date is already present in the current dict key\n",
    "    if df_name in all_df:\n",
    "        print(f'A file with the same name {df_name} has already been imported. \\n Please check if there is duplication of data.')\n",
    "        raise NameError\n",
    "    all_df.append(df_name)\n",
    "\n",
    "    locals()[df_name] = pd.read_csv(data, index_col=False)\n",
    "    print(df_name, '=====', locals()[df_name].shape)\n",
    "# all_df"
   ]
  },
  {
   "cell_type": "code",
   "execution_count": 8,
   "metadata": {
    "ExecuteTime": {
     "end_time": "2021-12-03T17:50:48.827117Z",
     "start_time": "2021-12-03T17:50:48.814152Z"
    },
    "scrolled": true
   },
   "outputs": [
    {
     "name": "stdout",
     "output_type": "stream",
     "text": [
      "Total imported 7\n"
     ]
    },
    {
     "data": {
      "text/plain": [
       "['Graminor_2019_all',\n",
       " 'Graminor_2020_all',\n",
       " 'Masbasis_2019_all',\n",
       " 'Masbasis_2020_all_lodg',\n",
       " 'Robot_2020_all',\n",
       " 'Staur_2019_all',\n",
       " 'Staur_2020_all_lodg']"
      ]
     },
     "execution_count": 8,
     "metadata": {},
     "output_type": "execute_result"
    }
   ],
   "source": [
    "print(f'Total imported {len(all_df)}')\n",
    "all_df"
   ]
  },
  {
   "cell_type": "markdown",
   "metadata": {},
   "source": [
    "## Summary of imported data"
   ]
  },
  {
   "cell_type": "code",
   "execution_count": 9,
   "metadata": {
    "ExecuteTime": {
     "end_time": "2021-12-03T17:50:48.844799Z",
     "start_time": "2021-12-03T17:50:48.828114Z"
    }
   },
   "outputs": [
    {
     "name": "stdout",
     "output_type": "stream",
     "text": [
      "Graminor_2019_all (600, 370)\n",
      "Graminor_2020_all (800, 370)\n",
      "Masbasis_2019_all (528, 272)\n",
      "Masbasis_2020_all_lodg (624, 406)\n",
      "Robot_2020_all (96, 471)\n",
      "Staur_2019_all (1328, 176)\n",
      "Staur_2020_all_lodg (1488, 206)\n"
     ]
    }
   ],
   "source": [
    "for df in all_df:\n",
    "    temp_df = locals()[df].copy()\n",
    "    print(df, temp_df.shape)"
   ]
  },
  {
   "cell_type": "markdown",
   "metadata": {},
   "source": [
    "## GrainYield data "
   ]
  },
  {
   "cell_type": "code",
   "execution_count": 10,
   "metadata": {
    "ExecuteTime": {
     "end_time": "2021-12-03T17:50:48.877776Z",
     "start_time": "2021-12-03T17:50:48.846590Z"
    }
   },
   "outputs": [
    {
     "name": "stdout",
     "output_type": "stream",
     "text": [
      "Graminor_2019_all\n",
      "Grain Yield data missing for  1 out of  600\n",
      "Graminor_2020_all\n",
      "Grain Yield data missing for  1 out of  800\n",
      "Masbasis_2019_all\n",
      "Grain Yield data missing for  6 out of  528\n",
      "Masbasis_2020_all_lodg\n",
      "Grain Yield data missing for  116 out of  624\n",
      "Robot_2020_all\n",
      "Grain Yield data missing for  0 out of  96\n",
      "Staur_2019_all\n",
      "Grain Yield data missing for  0 out of  1328\n",
      "Staur_2020_all_lodg\n",
      "Grain Yield data missing for  568 out of  1488\n"
     ]
    }
   ],
   "source": [
    "# Masbasis_2019_Simps.info(null_counts=True)\n",
    "for df in all_df:\n",
    "    temp_df = locals()[df].copy()\n",
    "#     print('*************', df, '**************')\n",
    "#     print(locals()[df].info())\n",
    "\n",
    "    print (df)\n",
    "    print('Grain Yield data missing for ', temp_df['GrainYield'].isna().sum(), 'out of ', temp_df.shape[0])\n",
    "# Graminor_2019_Simps.info()"
   ]
  },
  {
   "cell_type": "markdown",
   "metadata": {},
   "source": [
    "# Looking for zero values in data"
   ]
  },
  {
   "cell_type": "code",
   "execution_count": 11,
   "metadata": {
    "ExecuteTime": {
     "end_time": "2021-12-03T17:50:49.390533Z",
     "start_time": "2021-12-03T17:50:48.878965Z"
    }
   },
   "outputs": [
    {
     "name": "stdout",
     "output_type": "stream",
     "text": [
      "Masbasis_2020_all_lodg Lodging 502\n",
      "Staur_2020_all_lodg Lodging 157\n"
     ]
    }
   ],
   "source": [
    "# Masbasis_2019_Simps.info(null_counts=True)\n",
    "for df in all_df:\n",
    "    temp_df = locals()[df].copy()\n",
    "    for col in temp_df.columns.to_list():\n",
    "        if (temp_df[col]==0).sum() >0:\n",
    "#             print(temp_df.columns.to_list())\n",
    "            print(df, col, (temp_df[col]==0).sum())"
   ]
  },
  {
   "cell_type": "markdown",
   "metadata": {},
   "source": [
    "# Importing Yield columns and Spectral Indices"
   ]
  },
  {
   "cell_type": "code",
   "execution_count": 12,
   "metadata": {
    "ExecuteTime": {
     "end_time": "2021-12-03T17:50:49.406509Z",
     "start_time": "2021-12-03T17:50:49.391531Z"
    }
   },
   "outputs": [
    {
     "name": "stdout",
     "output_type": "stream",
     "text": [
      "['Entry', 'CodeName', 'Block', 'Pedigree', 'Replicates', 'iBlock', 'Heading_Date', 'Maturity_Date', 'Days2Maturity', 'Line', 'Lodging', 'GrainYield', 'Days2Heading', 'Name']\n"
     ]
    }
   ],
   "source": [
    "a_file = open(main_path+\"yield_columns.json\", \"r\")\n",
    "output_str = a_file.read()\n",
    "\n",
    "# The file is imported as string\n",
    "# Converting it to dictionary\n",
    "yield_cols = json.loads(output_str)\n",
    "a_file.close()\n",
    "print(yield_cols)"
   ]
  },
  {
   "cell_type": "code",
   "execution_count": 13,
   "metadata": {
    "ExecuteTime": {
     "end_time": "2021-12-03T17:50:49.422466Z",
     "start_time": "2021-12-03T17:50:49.407507Z"
    }
   },
   "outputs": [
    {
     "name": "stdout",
     "output_type": "stream",
     "text": [
      "['NDVI', 'MTCI', 'DVI', 'GDVI', 'EXG', 'EXGR', 'RDVI', 'TDVI', 'GNDVI', 'NDRE', 'SCCI', 'EVI', 'TVI', 'VARI', 'GARI', 'GCI', 'GLI', 'NLI', 'MNLI', 'SAVI', 'GSAVI', 'OSAVI', 'GOSAVI', 'MSAVI2', 'MSR', 'GRVI', 'WDRVI', 'SR']\n"
     ]
    }
   ],
   "source": [
    "a_file = open(main_path+\"spectral_indices_columns.json\", \"r\")\n",
    "output_str = a_file.read()\n",
    "\n",
    "# The file is imported as string\n",
    "# Converting it to dictionary\n",
    "spectral_indices = json.loads(output_str)\n",
    "a_file.close()\n",
    "print(spectral_indices)"
   ]
  },
  {
   "cell_type": "code",
   "execution_count": 14,
   "metadata": {
    "ExecuteTime": {
     "end_time": "2021-12-03T17:50:49.438424Z",
     "start_time": "2021-12-03T17:50:49.423464Z"
    }
   },
   "outputs": [
    {
     "name": "stdout",
     "output_type": "stream",
     "text": [
      "['Blue', 'Green', 'Red', 'RedEdge', 'NIR']\n"
     ]
    }
   ],
   "source": [
    "a_file = open(main_path+\"base_indices_columns.json\", \"r\")\n",
    "output_str = a_file.read()\n",
    "\n",
    "# The file is imported as string\n",
    "# Converting it to dictionary\n",
    "base_indices = json.loads(output_str)\n",
    "a_file.close()\n",
    "print(base_indices)"
   ]
  },
  {
   "cell_type": "markdown",
   "metadata": {},
   "source": [
    "Zeros only present in Lodging columns where present in the dataset."
   ]
  },
  {
   "cell_type": "markdown",
   "metadata": {},
   "source": [
    "# Finding yield columns"
   ]
  },
  {
   "cell_type": "code",
   "execution_count": 15,
   "metadata": {
    "ExecuteTime": {
     "end_time": "2021-12-03T17:50:49.479173Z",
     "start_time": "2021-12-03T17:50:49.439423Z"
    }
   },
   "outputs": [
    {
     "name": "stdout",
     "output_type": "stream",
     "text": [
      "\"GrainYield\" column in Graminor_2019_all is the yield column\n",
      " as it contains the text \"GrainYield\". It is located at location 6\n",
      "\"Block\" column in Graminor_2019_all is the yield column\n",
      " as it contains the text \"Block\". It is located at location 7\n",
      "\"iBlock\" column in Graminor_2019_all is the yield column\n",
      " as it contains the text \"iBlock\". It is located at location 8\n",
      "\"Entry\" column in Graminor_2019_all is the yield column\n",
      " as it contains the text \"Entry\". It is located at location 9\n",
      "\"Name\" column in Graminor_2019_all is the yield column\n",
      " as it contains the text \"Name\". It is located at location 10\n",
      "\"Pedigree\" column in Graminor_2019_all is the yield column\n",
      " as it contains the text \"Pedigree\". It is located at location 11\n",
      "\"GrainYield\" column in Graminor_2020_all is the yield column\n",
      " as it contains the text \"GrainYield\". It is located at location 6\n",
      "\"Block\" column in Graminor_2020_all is the yield column\n",
      " as it contains the text \"Block\". It is located at location 7\n",
      "\"iBlock\" column in Graminor_2020_all is the yield column\n",
      " as it contains the text \"iBlock\". It is located at location 8\n",
      "\"Entry\" column in Graminor_2020_all is the yield column\n",
      " as it contains the text \"Entry\". It is located at location 9\n",
      "\"Name\" column in Graminor_2020_all is the yield column\n",
      " as it contains the text \"Name\". It is located at location 10\n",
      "\"Pedigree\" column in Graminor_2020_all is the yield column\n",
      " as it contains the text \"Pedigree\". It is located at location 11\n",
      "\"GrainYield\" column in Masbasis_2019_all is the yield column\n",
      " as it contains the text \"GrainYield\". It is located at location 6\n",
      "\"Replicates\" column in Masbasis_2019_all is the yield column\n",
      " as it contains the text \"Replicates\". It is located at location 7\n",
      "\"Block\" column in Masbasis_2019_all is the yield column\n",
      " as it contains the text \"Block\". It is located at location 8\n",
      "\"Name\" column in Masbasis_2019_all is the yield column\n",
      " as it contains the text \"Name\". It is located at location 9\n",
      "\"Line\" column in Masbasis_2019_all is the yield column\n",
      " as it contains the text \"Line\". It is located at location 10\n",
      "\"Days2Heading\" column in Masbasis_2019_all is the yield column\n",
      " as it contains the text \"Days2Heading\". It is located at location 11\n",
      "\"Days2Maturity\" column in Masbasis_2019_all is the yield column\n",
      " as it contains the text \"Days2Maturity\". It is located at location 12\n",
      "\"GrainYield\" column in Masbasis_2020_all_lodg is the yield column\n",
      " as it contains the text \"GrainYield\". It is located at location 6\n",
      "\"Replicates\" column in Masbasis_2020_all_lodg is the yield column\n",
      " as it contains the text \"Replicates\". It is located at location 7\n",
      "\"Block\" column in Masbasis_2020_all_lodg is the yield column\n",
      " as it contains the text \"Block\". It is located at location 8\n",
      "\"Name\" column in Masbasis_2020_all_lodg is the yield column\n",
      " as it contains the text \"Name\". It is located at location 9\n",
      "\"Line\" column in Masbasis_2020_all_lodg is the yield column\n",
      " as it contains the text \"Line\". It is located at location 10\n",
      "\"Maturity_Date\" column in Masbasis_2020_all_lodg is the yield column\n",
      " as it contains the text \"Maturity_Date\". It is located at location 11\n",
      "\"Days2Heading\" column in Masbasis_2020_all_lodg is the yield column\n",
      " as it contains the text \"Days2Heading\". It is located at location 12\n",
      "\"Days2Maturity\" column in Masbasis_2020_all_lodg is the yield column\n",
      " as it contains the text \"Days2Maturity\". It is located at location 13\n",
      "\"Lodging\" column in Masbasis_2020_all_lodg is the yield column\n",
      " as it contains the text \"Lodging\". It is located at location 14\n",
      "\"GrainYield\" column in Robot_2020_all is the yield column\n",
      " as it contains the text \"GrainYield\". It is located at location 6\n",
      "\"Block\" column in Robot_2020_all is the yield column\n",
      " as it contains the text \"Block\". It is located at location 7\n",
      "\"Name\" column in Robot_2020_all is the yield column\n",
      " as it contains the text \"Name\". It is located at location 8\n",
      "\"CodeName\" column in Robot_2020_all is the yield column\n",
      " as it contains the text \"CodeName\". It is located at location 9\n",
      "\"Heading_Date\" column in Robot_2020_all is the yield column\n",
      " as it contains the text \"Heading_Date\". It is located at location 10\n",
      "\"Maturity_Date\" column in Robot_2020_all is the yield column\n",
      " as it contains the text \"Maturity_Date\". It is located at location 11\n",
      "\"Days2Heading\" column in Robot_2020_all is the yield column\n",
      " as it contains the text \"Days2Heading\". It is located at location 12\n",
      "\"Days2Maturity\" column in Robot_2020_all is the yield column\n",
      " as it contains the text \"Days2Maturity\". It is located at location 13\n",
      "\"GrainYield\" column in Staur_2019_all is the yield column\n",
      " as it contains the text \"GrainYield\". It is located at location 6\n",
      "\"iBlock\" column in Staur_2019_all is the yield column\n",
      " as it contains the text \"iBlock\". It is located at location 7\n",
      "\"Entry\" column in Staur_2019_all is the yield column\n",
      " as it contains the text \"Entry\". It is located at location 8\n",
      "\"Pedigree\" column in Staur_2019_all is the yield column\n",
      " as it contains the text \"Pedigree\". It is located at location 9\n",
      "\"Replicates\" column in Staur_2019_all is the yield column\n",
      " as it contains the text \"Replicates\". It is located at location 10\n",
      "\"Line\" column in Staur_2019_all is the yield column\n",
      " as it contains the text \"Line\". It is located at location 11\n",
      "\"Days2Heading\" column in Staur_2019_all is the yield column\n",
      " as it contains the text \"Days2Heading\". It is located at location 12\n",
      "\"Days2Maturity\" column in Staur_2019_all is the yield column\n",
      " as it contains the text \"Days2Maturity\". It is located at location 13\n",
      "\"Name\" column in Staur_2019_all is the yield column\n",
      " as it contains the text \"Name\". It is located at location 14\n",
      "\"Block\" column in Staur_2019_all is the yield column\n",
      " as it contains the text \"Block\". It is located at location 15\n",
      "\"GrainYield\" column in Staur_2020_all_lodg is the yield column\n",
      " as it contains the text \"GrainYield\". It is located at location 6\n",
      "\"Block\" column in Staur_2020_all_lodg is the yield column\n",
      " as it contains the text \"Block\". It is located at location 7\n",
      "\"iBlock\" column in Staur_2020_all_lodg is the yield column\n",
      " as it contains the text \"iBlock\". It is located at location 8\n",
      "\"Entry\" column in Staur_2020_all_lodg is the yield column\n",
      " as it contains the text \"Entry\". It is located at location 9\n",
      "\"Name\" column in Staur_2020_all_lodg is the yield column\n",
      " as it contains the text \"Name\". It is located at location 10\n",
      "\"Pedigree\" column in Staur_2020_all_lodg is the yield column\n",
      " as it contains the text \"Pedigree\". It is located at location 11\n",
      "\"Lodging\" column in Staur_2020_all_lodg is the yield column\n",
      " as it contains the text \"Lodging\". It is located at location 12\n"
     ]
    },
    {
     "data": {
      "text/plain": [
       "{'GrainYield_Graminor_2019_all': 6,\n",
       " 'Block_Graminor_2019_all': 7,\n",
       " 'iBlock_Graminor_2019_all': 8,\n",
       " 'Entry_Graminor_2019_all': 9,\n",
       " 'Name_Graminor_2019_all': 10,\n",
       " 'Pedigree_Graminor_2019_all': 11,\n",
       " 'GrainYield_Graminor_2020_all': 6,\n",
       " 'Block_Graminor_2020_all': 7,\n",
       " 'iBlock_Graminor_2020_all': 8,\n",
       " 'Entry_Graminor_2020_all': 9,\n",
       " 'Name_Graminor_2020_all': 10,\n",
       " 'Pedigree_Graminor_2020_all': 11,\n",
       " 'GrainYield_Masbasis_2019_all': 6,\n",
       " 'Replicates_Masbasis_2019_all': 7,\n",
       " 'Block_Masbasis_2019_all': 8,\n",
       " 'Name_Masbasis_2019_all': 9,\n",
       " 'Line_Masbasis_2019_all': 10,\n",
       " 'Days2Heading_Masbasis_2019_all': 11,\n",
       " 'Days2Maturity_Masbasis_2019_all': 12,\n",
       " 'GrainYield_Masbasis_2020_all_lodg': 6,\n",
       " 'Replicates_Masbasis_2020_all_lodg': 7,\n",
       " 'Block_Masbasis_2020_all_lodg': 8,\n",
       " 'Name_Masbasis_2020_all_lodg': 9,\n",
       " 'Line_Masbasis_2020_all_lodg': 10,\n",
       " 'Maturity_Date_Masbasis_2020_all_lodg': 11,\n",
       " 'Days2Heading_Masbasis_2020_all_lodg': 12,\n",
       " 'Days2Maturity_Masbasis_2020_all_lodg': 13,\n",
       " 'Lodging_Masbasis_2020_all_lodg': 14,\n",
       " 'GrainYield_Robot_2020_all': 6,\n",
       " 'Block_Robot_2020_all': 7,\n",
       " 'Name_Robot_2020_all': 8,\n",
       " 'CodeName_Robot_2020_all': 9,\n",
       " 'Heading_Date_Robot_2020_all': 10,\n",
       " 'Maturity_Date_Robot_2020_all': 11,\n",
       " 'Days2Heading_Robot_2020_all': 12,\n",
       " 'Days2Maturity_Robot_2020_all': 13,\n",
       " 'GrainYield_Staur_2019_all': 6,\n",
       " 'iBlock_Staur_2019_all': 7,\n",
       " 'Entry_Staur_2019_all': 8,\n",
       " 'Pedigree_Staur_2019_all': 9,\n",
       " 'Replicates_Staur_2019_all': 10,\n",
       " 'Line_Staur_2019_all': 11,\n",
       " 'Days2Heading_Staur_2019_all': 12,\n",
       " 'Days2Maturity_Staur_2019_all': 13,\n",
       " 'Name_Staur_2019_all': 14,\n",
       " 'Block_Staur_2019_all': 15,\n",
       " 'GrainYield_Staur_2020_all_lodg': 6,\n",
       " 'Block_Staur_2020_all_lodg': 7,\n",
       " 'iBlock_Staur_2020_all_lodg': 8,\n",
       " 'Entry_Staur_2020_all_lodg': 9,\n",
       " 'Name_Staur_2020_all_lodg': 10,\n",
       " 'Pedigree_Staur_2020_all_lodg': 11,\n",
       " 'Lodging_Staur_2020_all_lodg': 12}"
      ]
     },
     "execution_count": 15,
     "metadata": {},
     "output_type": "execute_result"
    }
   ],
   "source": [
    "# ToDo: Add check for duplicate columns in the df\n",
    "\n",
    "base_indices\n",
    "\n",
    "spectral_indices\n",
    "\n",
    "yield_cols\n",
    "\n",
    "id_cols_new = ['Plot_ID']\n",
    "\n",
    "# Counter for location of column in columns list\n",
    "\n",
    "# Dict for saving the name and location of the yield column/s\n",
    "loc_yield_cols = {}\n",
    "for df in all_df:\n",
    "    loc = 0\n",
    "    for cols in locals()[df].columns.tolist():\n",
    "        for y_col in yield_cols:\n",
    "            if not cols.find(y_col):\n",
    "                loc_yield_cols[cols+'_'+df] = loc\n",
    "                print(f'\\\"{cols}\\\" column in {df} is the yield column\\n as it contains the text \\\"{y_col}\\\". It is located at location {loc}')\n",
    "        loc += 1\n",
    "\n",
    "    yield_cols_found = list(loc_yield_cols.keys())\n",
    "    target_cols=yield_cols_found[0]\n",
    "loc_yield_cols"
   ]
  },
  {
   "cell_type": "markdown",
   "metadata": {},
   "source": [
    "# Finding dates between heading and maturity"
   ]
  },
  {
   "cell_type": "code",
   "execution_count": 16,
   "metadata": {
    "ExecuteTime": {
     "end_time": "2021-12-03T17:50:49.494134Z",
     "start_time": "2021-12-03T17:50:49.480171Z"
    }
   },
   "outputs": [
    {
     "data": {
      "text/plain": [
       "['Entry',\n",
       " 'CodeName',\n",
       " 'Block',\n",
       " 'Pedigree',\n",
       " 'Replicates',\n",
       " 'iBlock',\n",
       " 'Heading_Date',\n",
       " 'Maturity_Date',\n",
       " 'Days2Maturity',\n",
       " 'Line',\n",
       " 'Lodging',\n",
       " 'GrainYield',\n",
       " 'Days2Heading',\n",
       " 'Name']"
      ]
     },
     "execution_count": 16,
     "metadata": {},
     "output_type": "execute_result"
    }
   ],
   "source": [
    "yield_cols"
   ]
  },
  {
   "cell_type": "code",
   "execution_count": 17,
   "metadata": {
    "ExecuteTime": {
     "end_time": "2021-12-03T17:50:49.512262Z",
     "start_time": "2021-12-03T17:50:49.495130Z"
    }
   },
   "outputs": [
    {
     "name": "stdout",
     "output_type": "stream",
     "text": [
      "Masbasis_2019_all\n",
      "Masbasis_2020_all_lodg\n",
      "Robot_2020_all\n",
      "Staur_2019_all\n"
     ]
    },
    {
     "data": {
      "text/plain": [
       "['Graminor_2019_all',\n",
       " 'Graminor_2020_all',\n",
       " 'Masbasis_2019_all',\n",
       " 'Masbasis_2020_all_lodg',\n",
       " 'Robot_2020_all',\n",
       " 'Staur_2019_all',\n",
       " 'Staur_2020_all_lodg']"
      ]
     },
     "execution_count": 17,
     "metadata": {},
     "output_type": "execute_result"
    }
   ],
   "source": [
    "for df in all_df:\n",
    "    temp_df = locals()[df].copy()\n",
    "    if 'Days2Maturity' in temp_df.columns:\n",
    "        print(df)\n",
    "all_df"
   ]
  },
  {
   "cell_type": "markdown",
   "metadata": {},
   "source": [
    "## Declaring the important dates for each field"
   ]
  },
  {
   "cell_type": "code",
   "execution_count": 18,
   "metadata": {
    "ExecuteTime": {
     "end_time": "2021-12-03T17:50:49.527383Z",
     "start_time": "2021-12-03T17:50:49.513419Z"
    }
   },
   "outputs": [],
   "source": [
    "# Dates listed in dict in order; sowing, heading, maturity\n",
    "# The order of fields must be the same as in all_df list\n",
    "# sowing_dict = {\n",
    "#     'Graminor_2019': ['240419', 'XX', 'XX'],\n",
    "#     'Graminor_2020': ['150420', 'XX', 'XX'],\n",
    "#     'Masbasis_2019': ['190519', 'XX', 'XX'],\n",
    "#     'Masbasis_2020': ['150520', 'XX', 'XX'],\n",
    "#     'Robot_2020': ['200420', '170620', '310720'],\n",
    "#     'Staur_2019': ['040619', 'XX', 'XX'],\n",
    "#     'Staur_2020': ['210420', 'XX', 'XX'],\n",
    "# }\n",
    "\n",
    "sowing_dict = {\n",
    "    'Graminor_2019': '240419',\n",
    "    'Graminor_2020': '150420',\n",
    "    'Masbasis_2019': '190519',\n",
    "    'Masbasis_2020': '150520',\n",
    "    'Robot_2020': '200420',\n",
    "    'Staur_2019': '040619',\n",
    "    'Staur_2020': '210420',\n",
    "}\n"
   ]
  },
  {
   "cell_type": "markdown",
   "metadata": {},
   "source": [
    "## Filtering df which have Days2Maturity and Days2Heading "
   ]
  },
  {
   "cell_type": "code",
   "execution_count": 19,
   "metadata": {
    "ExecuteTime": {
     "end_time": "2021-12-03T17:50:49.545690Z",
     "start_time": "2021-12-03T17:50:49.528379Z"
    }
   },
   "outputs": [
    {
     "data": {
      "text/plain": [
       "{'Graminor_2019_all': '240419',\n",
       " 'Graminor_2020_all': '150420',\n",
       " 'Masbasis_2019_all': '190519',\n",
       " 'Masbasis_2020_all_lodg': '150520',\n",
       " 'Robot_2020_all': '200420',\n",
       " 'Staur_2019_all': '040619',\n",
       " 'Staur_2020_all_lodg': '210420'}"
      ]
     },
     "execution_count": 19,
     "metadata": {},
     "output_type": "execute_result"
    }
   ],
   "source": [
    "# If the dataset had Days 2 heading and days to maturity columns then create the\n",
    "# following dictionary with the respective sowing dates of each field as value\n",
    "all_df_sowing = {}\n",
    "\n",
    "for df in all_df:\n",
    "    temp_df = locals()[df].copy()\n",
    "    field_temp = df.split('_')[0]+'_'+df.split('_')[1]\n",
    "#     if 'Days2Heading' in temp_df.columns and 'Days2Maturity' in temp_df.columns:\n",
    "#         print(df)\n",
    "#         all_df_sowing[df] = sowing_dict[field_temp]\n",
    "    all_df_sowing[df] = sowing_dict[field_temp]\n",
    "\n",
    "all_df_sowing"
   ]
  },
  {
   "cell_type": "markdown",
   "metadata": {},
   "source": [
    "## Average DH and DM"
   ]
  },
  {
   "cell_type": "code",
   "execution_count": 20,
   "metadata": {
    "ExecuteTime": {
     "end_time": "2021-12-03T17:50:49.561650Z",
     "start_time": "2021-12-03T17:50:49.546688Z"
    },
    "run_control": {
     "marked": true
    }
   },
   "outputs": [
    {
     "data": {
      "text/plain": [
       "{'Masbasis_2019_all': [68.18939393939394, 108.64393939393939],\n",
       " 'Masbasis_2020_all_lodg': [66.24839743589743, 87.794921875],\n",
       " 'Robot_2020_all': [61.09375, 110.84375],\n",
       " 'Staur_2019_all': [48.53333333333333, 101.25757575757575]}"
      ]
     },
     "execution_count": 20,
     "metadata": {},
     "output_type": "execute_result"
    }
   ],
   "source": [
    "# Creating a dictionary with average Days2Heading and Days2Maturity for fields whose data is available\n",
    "dict_avg_dh_dm = {}\n",
    "df_dh_dm = []\n",
    "for df in all_df_sowing.keys():\n",
    "    temp_df = locals()[df].copy()\n",
    "\n",
    "#     print('Days2Heading')\n",
    "#     print(locals()[df].Days2Heading.min(), ':      ', locals()[df].Days2Heading.max(), ':     ', locals()[df].Days2Heading.mean())\n",
    "#     print('Days2Maturity')\n",
    "#     print(locals()[df].Days2Maturity.min(), ':      ', locals()[df].Days2Maturity.max(), ':     ', locals()[df].Days2Maturity.mean())\n",
    "\n",
    "    if 'Days2Heading' in temp_df.columns and 'Days2Maturity' in temp_df.columns:\n",
    "        df_dh_dm.append(df)\n",
    "        dict_avg_dh_dm[df] = [locals()[df].Days2Heading.mean(), locals()[df].Days2Maturity.mean()]\n",
    "dict_avg_dh_dm\n"
   ]
  },
  {
   "cell_type": "code",
   "execution_count": 21,
   "metadata": {
    "ExecuteTime": {
     "end_time": "2021-12-03T17:50:49.578823Z",
     "start_time": "2021-12-03T17:50:49.562647Z"
    }
   },
   "outputs": [
    {
     "name": "stdout",
     "output_type": "stream",
     "text": [
      "Average Days2Heading is 61.016218677156175\n",
      "Average Days2Maturity is 102.13504675662878\n"
     ]
    }
   ],
   "source": [
    "from statistics import mean\n",
    "\n",
    "list_dh = []\n",
    "list_dm = []\n",
    "for field, dhdm in dict_avg_dh_dm.items():\n",
    "    list_dh.append(dhdm[0])\n",
    "    list_dm.append(dhdm[1])\n",
    "mean_dh = mean(list_dh)\n",
    "mean_dm = mean(list_dm)\n",
    "print(f'Average Days2Heading is {mean_dh}')\n",
    "print(f'Average Days2Maturity is {mean_dm}')\n"
   ]
  },
  {
   "cell_type": "markdown",
   "metadata": {},
   "source": [
    "# Integration"
   ]
  },
  {
   "cell_type": "code",
   "execution_count": 22,
   "metadata": {
    "ExecuteTime": {
     "end_time": "2021-12-03T17:50:49.594007Z",
     "start_time": "2021-12-03T17:50:49.580043Z"
    }
   },
   "outputs": [],
   "source": [
    "from scipy.integrate import simps\n",
    "from numpy import trapz\n",
    "# from scipy.integrate import cumulative_trapezoid\n",
    "\n",
    "from scipy.integrate import romb"
   ]
  },
  {
   "cell_type": "markdown",
   "metadata": {},
   "source": [
    "## Testing different alternatives"
   ]
  },
  {
   "cell_type": "code",
   "execution_count": 23,
   "metadata": {
    "ExecuteTime": {
     "end_time": "2021-12-03T17:50:49.612085Z",
     "start_time": "2021-12-03T17:50:49.597079Z"
    }
   },
   "outputs": [],
   "source": [
    "# simps(temp_entries_dropna, days_sow)"
   ]
  },
  {
   "cell_type": "code",
   "execution_count": 24,
   "metadata": {
    "ExecuteTime": {
     "end_time": "2021-12-03T17:50:49.627255Z",
     "start_time": "2021-12-03T17:50:49.615281Z"
    },
    "run_control": {
     "marked": false
    }
   },
   "outputs": [],
   "source": [
    "# days_sow\n",
    "\n",
    "# days = [50, 64, 72, ((72 + 87) / 2), 87]\n",
    "# band = [21, 14, 9, ((9 + 2) / 2), 2]\n",
    "\n",
    "# days2 = [50, 64, 72, 87]\n",
    "# band2 = [21, 14, 9, 2]\n",
    "\n",
    "# simps(band, days), simps(band2, days2), "
   ]
  },
  {
   "cell_type": "code",
   "execution_count": 25,
   "metadata": {
    "ExecuteTime": {
     "end_time": "2021-12-03T17:50:49.645014Z",
     "start_time": "2021-12-03T17:50:49.629279Z"
    }
   },
   "outputs": [],
   "source": [
    "# temp_entries_dropna"
   ]
  },
  {
   "cell_type": "code",
   "execution_count": 26,
   "metadata": {
    "ExecuteTime": {
     "end_time": "2021-12-03T17:50:49.660483Z",
     "start_time": "2021-12-03T17:50:49.646518Z"
    }
   },
   "outputs": [
    {
     "data": {
      "text/plain": [
       "['Graminor_2019_all',\n",
       " 'Graminor_2020_all',\n",
       " 'Masbasis_2019_all',\n",
       " 'Masbasis_2020_all_lodg',\n",
       " 'Robot_2020_all',\n",
       " 'Staur_2019_all',\n",
       " 'Staur_2020_all_lodg']"
      ]
     },
     "execution_count": 26,
     "metadata": {},
     "output_type": "execute_result"
    }
   ],
   "source": [
    "all_df"
   ]
  },
  {
   "cell_type": "markdown",
   "metadata": {},
   "source": [
    "## Creating df with Plot_ID and Grain_Yield only\n",
    "## Calculating AUC and creating new df with calculated values"
   ]
  },
  {
   "cell_type": "code",
   "execution_count": 27,
   "metadata": {
    "ExecuteTime": {
     "end_time": "2021-12-03T17:51:24.831676Z",
     "start_time": "2021-12-03T17:50:49.661480Z"
    }
   },
   "outputs": [
    {
     "name": "stdout",
     "output_type": "stream",
     "text": [
      "Graminor_2019_Simps (600, 40) Graminor_2019_Trapz (600, 40)\n",
      "Graminor_2020_Simps (800, 40) Graminor_2020_Trapz (800, 40)\n",
      "Masbasis_2019_Simps (528, 41) Masbasis_2019_Trapz (528, 41)\n",
      "Masbasis_2020_Simps (624, 43) Masbasis_2020_Trapz (624, 43)\n",
      "Robot_2020_Simps (96, 42) Robot_2020_Trapz (96, 42)\n",
      "Staur_2019_Simps (1328, 44) Staur_2019_Trapz (1328, 44)\n",
      "Staur_2020_Simps (1488, 41) Staur_2020_Trapz (1488, 41)\n"
     ]
    }
   ],
   "source": [
    "simp_df_all = []\n",
    "trapz_df_all = []\n",
    "samples_record_simps = {}\n",
    "for df, sowing in all_df_sowing.items():\n",
    "\n",
    "    temp_df = locals()[df].copy()\n",
    "    cols = temp_df.columns\n",
    "    \n",
    "    # Creating a list of columns which other than the indices (ID and yield columns)\n",
    "    # Making a temp list of yield columns since all entries from yield cols are not present in every df\n",
    "    temp_yield_cols = [x for x in temp_df.columns if x in yield_cols]\n",
    "    non_indices_cols = id_cols_new+temp_yield_cols\n",
    "#     print(non_indices_cols)\n",
    "    \n",
    "    df_auc_simps = temp_df[non_indices_cols].copy()\n",
    "    df_auc_trapz = temp_df[non_indices_cols].copy()\n",
    "#     display(df_auc.head())\n",
    "\n",
    "    # Calculating AUC and creating new df with calculated values\n",
    "    temp_samples = {}\n",
    "    for col_name in base_indices+spectral_indices:\n",
    "        df_simp = []\n",
    "        df_trapz = []\n",
    "        # Making temp_cols list avoids problems finding and differentiating 'OSAVI' and 'GOSAVI'\n",
    "        temp_cols = [x for x in cols if col_name.split('_') == x.split('_')[:-1]]\n",
    "        temp_dates = [dt.strptime(date.split('_')[-1], '%d%m%y').date() for date in temp_cols]\n",
    "\n",
    "        # Calculating the days from sowing,i.e. age of the crop in days\n",
    "        sowing_date = dt.strptime(sowing, '%d%m%y').date() \n",
    "        \n",
    "        temp_samples_list = []\n",
    "        for sample in range(temp_df.shape[0]):\n",
    "            # Number of days since sowing for each entry\n",
    "            days_sow = [(x-sowing_date).days for x in temp_dates]\n",
    "            # The respective value of the index in question \n",
    "            temp_entries = [temp_df[x][sample] for x in temp_cols]\n",
    "\n",
    "            #### DROPPING DATES OUTSIDE HEADING AND MATURITY DATES ####\n",
    "            \n",
    "            # Determining Days2Heading values\n",
    "            if 'Days2Heading' in temp_df.columns:\n",
    "                # Days to heading for current sample \n",
    "                DH = temp_df.Days2Heading[sample]\n",
    "                # If DH is missing then use the smallest of Mean DH from fields whose DH is available\n",
    "                if str(DH)=='nan':\n",
    "                    DH = round(min(list_dh))\n",
    "            else:\n",
    "                DH = round(min(list_dh))\n",
    "                \n",
    "                \n",
    "                \n",
    "                \n",
    "            if 'Days2Maturity' in temp_df.columns:\n",
    "                # Days to maturity for current sample \n",
    "                DM = temp_df.Days2Maturity[sample]\n",
    "                # If DM is missing then use the largest of Mean DM from fields whose DM is available\n",
    "                if str(DM)=='nan':\n",
    "                    DM = round(max(list_dm))\n",
    "            else:\n",
    "                DM = round(max(list_dm))  \n",
    "                    \n",
    "            DH = int(DH)\n",
    "            DM = int(DM)\n",
    "            # Making sure that the maturity comes after heading\n",
    "            if DM < DH:\n",
    "                print(DM, DH)\n",
    "            assert DM > DH\n",
    "#             print(DM, DH)\n",
    "            heading_date = sowing_date + timedelta(days=DH)\n",
    "            maturity_date = sowing_date + timedelta(days=DM)\n",
    "            \n",
    "            # Replacing the respective values of items in temp_entries with np.nan which correspond \n",
    "            # to dates not in between heading and maturity for that specific sub-plot\n",
    "#             temp_entries_filtered = [y if heading_date <= x <= maturity_date else np.nan for x,y in zip(temp_dates, temp_entries)]\n",
    "            \n",
    "            ## CHANGE: REMOVING LIMIT FOR HEADING DATE. USING ALL DATA BEFORE MATURITY\n",
    "            temp_entries_filtered = [y if x <= maturity_date else np.nan for x,y in zip(temp_dates, temp_entries)]\n",
    "\n",
    "            # Dropping missing(nan) values from the entries\n",
    "            temp_entries_dropna = [x for x in temp_entries_filtered if str(x) != 'nan']\n",
    "            days_before_dropping = days_sow.copy()\n",
    "            # Checking if the number of items in temp_entries_filtered and days_sow is the same\n",
    "            # If not, i.e., there are missing values(nan) in temp_entries_filtered then drop the\n",
    "            # respective entries from days_sow list\n",
    "            if not len(temp_entries_dropna) == len(days_sow):\n",
    "                # Dictionary comprehension\n",
    "                # Creating dictionary(dict comprehension) where temp_entries_filtered are not nan\n",
    "                dict_dropna = {i: [temp_entries_filtered[i], days_sow[i]] for i in range(len(temp_entries_filtered))\\\n",
    "                       if not str(temp_entries_filtered[i]) == 'nan' }\n",
    "                \n",
    "                # Checking if the previously created temp_entries_dropna is the same as the new that will\n",
    "                # be created from dict_dropna (Unnecessary check but curious to check if any problems arise)\n",
    "                assert temp_entries_dropna == [dict_dropna[i][0] for i in dict_dropna.keys()]\n",
    "                \n",
    "                # Creating new temp entries and days_sow after dropping nan and respective entries in days_sow\n",
    "                temp_entries_dropna = [dict_dropna[i][0] for i in dict_dropna.keys()]\n",
    "                days_sow = [dict_dropna[i][1] for i in dict_dropna.keys()]\n",
    "\n",
    "            # Checking if the lists have the same number of entries\n",
    "            if len(temp_entries_dropna) != len(days_sow):\n",
    "                print(df, col_name, temp_entries, days_before_dropping, temp_entries_dropna, days_sow, dict_dropna)\n",
    "            assert len(temp_entries_dropna) == len(days_sow)\n",
    "            \n",
    "            # Sorting both lists with dates in ascending order\n",
    "            days_sow, temp_entries_dropna = zip(*sorted(zip(days_sow, temp_entries_dropna)))\n",
    "            \n",
    "            simps_value = simps(temp_entries_dropna, days_sow)\n",
    "            trapz_value = trapz(temp_entries_dropna, days_sow)\n",
    "            \n",
    "            df_simp.append(simps_value)\n",
    "            df_trapz.append(trapz_value)\n",
    "            \n",
    "#             if simps_value == 0:\n",
    "#                 print(temp_entries_filtered, days_before_dropping, temp_entries_dropna, days_sow)\n",
    "            # Adding values to a list for reference and record to verify the results and identify problems later\n",
    "            temp_samples_list.append([df, col_name, temp_df['Plot_ID'][sample], simps_value, temp_entries_dropna, days_sow])\n",
    "        temp_samples[col_name] = temp_samples_list\n",
    "\n",
    "        # Insert the new column at the end, but before GrainYield\n",
    "        df_auc_simps.insert(len(df_auc_simps.columns)-1, col_name, df_simp)\n",
    "        df_auc_trapz.insert(len(df_auc_trapz.columns)-1, col_name, df_trapz)\n",
    "        \n",
    "    samples_record_simps[df.split('_')[0]+'_'+df.split('_')[1]] = temp_samples\n",
    "\n",
    "    # Adding the new name of the df to a list named simp_df_all\n",
    "    simp_df = df.split('_')[0]+'_'+df.split('_')[1]+'_Simps'\n",
    "    trapz_df = df.split('_')[0]+'_'+df.split('_')[1]+'_Trapz'\n",
    "\n",
    "    simp_df_all.append(simp_df)\n",
    "    trapz_df_all.append(trapz_df)\n",
    "    print(simp_df, df_auc_simps.shape, trapz_df, df_auc_trapz.shape)\n",
    "    locals()[simp_df] = df_auc_simps.copy()\n",
    "    locals()[trapz_df] = df_auc_trapz.copy()\n",
    "# simp_df_all, trapz_df_all"
   ]
  },
  {
   "cell_type": "code",
   "execution_count": 28,
   "metadata": {
    "ExecuteTime": {
     "end_time": "2021-12-03T17:51:24.847633Z",
     "start_time": "2021-12-03T17:51:24.832686Z"
    }
   },
   "outputs": [],
   "source": [
    "# Masbasis_2020_all_lodg[[x for x in Masbasis_2020_all_lodg.columns if 'EVI' in x]+['Plot_ID']].head(150)"
   ]
  },
  {
   "cell_type": "code",
   "execution_count": 29,
   "metadata": {
    "ExecuteTime": {
     "end_time": "2021-12-03T17:51:24.862686Z",
     "start_time": "2021-12-03T17:51:24.849630Z"
    }
   },
   "outputs": [
    {
     "data": {
      "text/plain": [
       "dict_keys(['Graminor_2019', 'Graminor_2020', 'Masbasis_2019', 'Masbasis_2020', 'Robot_2020', 'Staur_2019', 'Staur_2020'])"
      ]
     },
     "execution_count": 29,
     "metadata": {},
     "output_type": "execute_result"
    }
   ],
   "source": [
    "samples_record_simps.keys()"
   ]
  },
  {
   "cell_type": "code",
   "execution_count": 30,
   "metadata": {
    "ExecuteTime": {
     "end_time": "2021-12-03T17:51:24.877464Z",
     "start_time": "2021-12-03T17:51:24.864499Z"
    }
   },
   "outputs": [],
   "source": [
    "# temp_entries_dropna, days_sow"
   ]
  },
  {
   "cell_type": "code",
   "execution_count": 31,
   "metadata": {
    "ExecuteTime": {
     "end_time": "2021-12-03T17:51:24.892424Z",
     "start_time": "2021-12-03T17:51:24.878461Z"
    }
   },
   "outputs": [],
   "source": [
    "# samples_record_simps['Masbasis_2020']['EVI'][149]"
   ]
  },
  {
   "cell_type": "code",
   "execution_count": 32,
   "metadata": {
    "ExecuteTime": {
     "end_time": "2021-12-03T17:51:24.907383Z",
     "start_time": "2021-12-03T17:51:24.893421Z"
    }
   },
   "outputs": [],
   "source": [
    "# all_df"
   ]
  },
  {
   "cell_type": "code",
   "execution_count": 33,
   "metadata": {
    "ExecuteTime": {
     "end_time": "2021-12-03T17:51:24.923275Z",
     "start_time": "2021-12-03T17:51:24.908381Z"
    }
   },
   "outputs": [],
   "source": [
    "# from pycaret.anomaly import *\n",
    "# s = setup(Robot_2020_all, session_id = 123)"
   ]
  },
  {
   "cell_type": "code",
   "execution_count": 34,
   "metadata": {
    "ExecuteTime": {
     "end_time": "2021-12-03T17:51:24.938746Z",
     "start_time": "2021-12-03T17:51:24.925263Z"
    }
   },
   "outputs": [],
   "source": [
    "# iforest = create_model('iforest', fraction = 0.1)\n",
    "# iforest_results = assign_model(iforest)\n",
    "# iforest_results.head()"
   ]
  },
  {
   "cell_type": "code",
   "execution_count": 35,
   "metadata": {
    "ExecuteTime": {
     "end_time": "2021-12-03T17:51:24.954837Z",
     "start_time": "2021-12-03T17:51:24.942733Z"
    }
   },
   "outputs": [],
   "source": [
    "# iforest_results[iforest_results['Anomaly'] == 1].head()\n"
   ]
  },
  {
   "cell_type": "code",
   "execution_count": 36,
   "metadata": {
    "ExecuteTime": {
     "end_time": "2021-12-03T17:51:24.969663Z",
     "start_time": "2021-12-03T17:51:24.957693Z"
    }
   },
   "outputs": [],
   "source": [
    "# import plotly.graph_objects as go\n",
    "# # plot value on y-axis and date on x-axis\n",
    "# fig = px.line(iforest_results, x=iforest_results.index, y=\"value\", title='NYC TAXI TRIPS - UNSUPERVISED ANOMALY DETECTION', template = 'plotly_dark')\n",
    "# # create list of outlier_dates\n",
    "# outlier_dates = iforest_results[iforest_results['Anomaly'] == 1].index\n",
    "# # obtain y value of anomalies to plot\n",
    "# y_values = [iforest_results.loc[i]['value'] for i in outlier_dates]\n",
    "# fig.add_trace(go.Scatter(x=outlier_dates, y=y_values, mode = 'markers', \n",
    "#                 name = 'Anomaly', \n",
    "#                 marker=dict(color='red',size=10)))\n",
    "        \n",
    "# fig.show()"
   ]
  },
  {
   "cell_type": "code",
   "execution_count": null,
   "metadata": {},
   "outputs": [],
   "source": []
  },
  {
   "cell_type": "code",
   "execution_count": null,
   "metadata": {},
   "outputs": [],
   "source": []
  },
  {
   "cell_type": "code",
   "execution_count": 37,
   "metadata": {
    "ExecuteTime": {
     "end_time": "2021-12-03T17:51:24.984620Z",
     "start_time": "2021-12-03T17:51:24.971656Z"
    }
   },
   "outputs": [],
   "source": [
    "# plt.plot(days_sow, temp_entries_dropna)"
   ]
  },
  {
   "cell_type": "code",
   "execution_count": 38,
   "metadata": {
    "ExecuteTime": {
     "end_time": "2021-12-03T17:51:25.000578Z",
     "start_time": "2021-12-03T17:51:24.985619Z"
    }
   },
   "outputs": [],
   "source": [
    "# temp_entries_dropna, days_sow"
   ]
  },
  {
   "cell_type": "code",
   "execution_count": null,
   "metadata": {},
   "outputs": [],
   "source": []
  },
  {
   "cell_type": "code",
   "execution_count": null,
   "metadata": {},
   "outputs": [],
   "source": []
  },
  {
   "cell_type": "markdown",
   "metadata": {},
   "source": [
    "## Looking for Zero values in data"
   ]
  },
  {
   "cell_type": "code",
   "execution_count": 39,
   "metadata": {
    "ExecuteTime": {
     "end_time": "2021-12-03T17:51:25.141202Z",
     "start_time": "2021-12-03T17:51:25.003570Z"
    }
   },
   "outputs": [],
   "source": [
    "# Masbasis_2019_Simps.info(null_counts=True)\n",
    "for df in simp_df_all+trapz_df_all:\n",
    "    temp_df = locals()[df][base_indices+spectral_indices].copy()\n",
    "    for col in temp_df.columns.to_list():\n",
    "        if (temp_df[col]==0).sum() >0:\n",
    "#             print(temp_df.columns.to_list())\n",
    "            print(df, col, (temp_df[col]==0).sum())"
   ]
  },
  {
   "cell_type": "code",
   "execution_count": 40,
   "metadata": {
    "ExecuteTime": {
     "end_time": "2021-12-03T17:51:25.156162Z",
     "start_time": "2021-12-03T17:51:25.142200Z"
    }
   },
   "outputs": [
    {
     "name": "stdout",
     "output_type": "stream",
     "text": [
      "dict_keys(['Blue', 'Green', 'Red', 'RedEdge', 'NIR', 'NDVI', 'MTCI', 'DVI', 'GDVI', 'EXG', 'EXGR', 'RDVI', 'TDVI', 'GNDVI', 'NDRE', 'SCCI', 'EVI', 'TVI', 'VARI', 'GARI', 'GCI', 'GLI', 'NLI', 'MNLI', 'SAVI', 'GSAVI', 'OSAVI', 'GOSAVI', 'MSAVI2', 'MSR', 'GRVI', 'WDRVI', 'SR'])\n"
     ]
    }
   ],
   "source": [
    "# Plot_ID, simps_value, trapz_value, temp_cols, temp_dates, sowing_date, DH, DM, heading_date, maturity_date, temp_entries, days_before, temp_entries_dropna, days_sow])\n",
    "\n",
    "list_problem = []\n",
    "pprint(samples_record_simps['Masbasis_2019'].keys())\n",
    "for keya, data in samples_record_simps['Masbasis_2019'].items():\n",
    "    for x in data:\n",
    "        if x [1]==0:\n",
    "            temp_entries = x[10]\n",
    "            days_sow = x[11]\n",
    "#             simps(xx,dd)\n",
    "            sowing_date = x[5]\n",
    "            DH = x[6]\n",
    "            DM = x[7]\n",
    "            temp_dates = x[4]\n",
    "            heading_date= x[8]\n",
    "            maturity_date = x[9]\n",
    "#             print(x[0], x[5])\n",
    "#             print(x)\n",
    "            list_problem.append(x[0])\n",
    "            temp_entries_filtered = [x if heading_date <= x <= maturity_date else np.nan for x,y in zip(temp_dates, temp_entries)]\n",
    "            print(heading_date.strftime('%d%m%y'),[x.strftime('%d%m%y') for x in temp_dates],  maturity_date.strftime('%d%m%y'))\n",
    "            print('************************')"
   ]
  },
  {
   "cell_type": "code",
   "execution_count": 41,
   "metadata": {
    "ExecuteTime": {
     "end_time": "2021-12-03T17:51:25.172139Z",
     "start_time": "2021-12-03T17:51:25.158156Z"
    }
   },
   "outputs": [
    {
     "data": {
      "text/plain": [
       "(datetime.date(2020, 4, 21),\n",
       " 49,\n",
       " 111,\n",
       " datetime.date(2020, 6, 9),\n",
       " datetime.date(2020, 8, 10),\n",
       " [datetime.date(2020, 7, 31),\n",
       "  datetime.date(2020, 7, 24),\n",
       "  datetime.date(2020, 7, 16),\n",
       "  datetime.date(2020, 7, 9),\n",
       "  datetime.date(2020, 6, 25),\n",
       "  datetime.date(2020, 6, 20)])"
      ]
     },
     "execution_count": 41,
     "metadata": {},
     "output_type": "execute_result"
    }
   ],
   "source": [
    "\n",
    "temp_entries_filtered = [y if heading_date <= x <= maturity_date else np.nan for x,y in zip(temp_dates, temp_entries)]\n",
    "temp_entries_filtered\n",
    "# \n",
    "sowing_date, DH, DM, heading_date, maturity_date, temp_dates"
   ]
  },
  {
   "cell_type": "code",
   "execution_count": 42,
   "metadata": {
    "ExecuteTime": {
     "end_time": "2021-12-03T17:51:25.188076Z",
     "start_time": "2021-12-03T17:51:25.173116Z"
    }
   },
   "outputs": [
    {
     "data": {
      "text/plain": [
       "[4.284922487860852,\n",
       " 6.443754326877634,\n",
       " 8.757489999068145,\n",
       " 12.97462438907558,\n",
       " 13.55026739342454,\n",
       " 3.991561550234324]"
      ]
     },
     "execution_count": 42,
     "metadata": {},
     "output_type": "execute_result"
    }
   ],
   "source": [
    "temp_entries"
   ]
  },
  {
   "cell_type": "code",
   "execution_count": 43,
   "metadata": {
    "ExecuteTime": {
     "end_time": "2021-12-03T17:51:25.217998Z",
     "start_time": "2021-12-03T17:51:25.189074Z"
    }
   },
   "outputs": [
    {
     "data": {
      "text/html": [
       "<div>\n",
       "<style scoped>\n",
       "    .dataframe tbody tr th:only-of-type {\n",
       "        vertical-align: middle;\n",
       "    }\n",
       "\n",
       "    .dataframe tbody tr th {\n",
       "        vertical-align: top;\n",
       "    }\n",
       "\n",
       "    .dataframe thead th {\n",
       "        text-align: right;\n",
       "    }\n",
       "</style>\n",
       "<table border=\"1\" class=\"dataframe\">\n",
       "  <thead>\n",
       "    <tr style=\"text-align: right;\">\n",
       "      <th></th>\n",
       "      <th>Blue_070819</th>\n",
       "      <th>Blue_290719</th>\n",
       "      <th>Blue_220719</th>\n",
       "      <th>Blue_150719</th>\n",
       "      <th>Blue_050719</th>\n",
       "      <th>Blue_280619</th>\n",
       "      <th>Blue_260619</th>\n",
       "      <th>Blue_060619</th>\n",
       "    </tr>\n",
       "  </thead>\n",
       "  <tbody>\n",
       "    <tr>\n",
       "      <th>95</th>\n",
       "      <td>0.027306</td>\n",
       "      <td>0.016146</td>\n",
       "      <td>0.014434</td>\n",
       "      <td>0.023842</td>\n",
       "      <td>0.009863</td>\n",
       "      <td>0.015405</td>\n",
       "      <td>0.021012</td>\n",
       "      <td>0.024337</td>\n",
       "    </tr>\n",
       "  </tbody>\n",
       "</table>\n",
       "</div>"
      ],
      "text/plain": [
       "    Blue_070819  Blue_290719  Blue_220719  Blue_150719  Blue_050719  \\\n",
       "95     0.027306     0.016146     0.014434     0.023842     0.009863   \n",
       "\n",
       "    Blue_280619  Blue_260619  Blue_060619  \n",
       "95     0.015405     0.021012     0.024337  "
      ]
     },
     "execution_count": 43,
     "metadata": {},
     "output_type": "execute_result"
    }
   ],
   "source": [
    "blu_cols = [x for x in Masbasis_2019_all.columns if 'Blue' in x]\n",
    "\n",
    "Masbasis_2019_all['Plot_ID']\n",
    "Masbasis_2019_all.iloc[95:96,:][blu_cols]\n",
    "\n",
    "# list_problem"
   ]
  },
  {
   "cell_type": "code",
   "execution_count": 44,
   "metadata": {
    "ExecuteTime": {
     "end_time": "2021-12-03T17:51:25.233953Z",
     "start_time": "2021-12-03T17:51:25.219991Z"
    }
   },
   "outputs": [
    {
     "data": {
      "text/html": [
       "<div>\n",
       "<style scoped>\n",
       "    .dataframe tbody tr th:only-of-type {\n",
       "        vertical-align: middle;\n",
       "    }\n",
       "\n",
       "    .dataframe tbody tr th {\n",
       "        vertical-align: top;\n",
       "    }\n",
       "\n",
       "    .dataframe thead th {\n",
       "        text-align: right;\n",
       "    }\n",
       "</style>\n",
       "<table border=\"1\" class=\"dataframe\">\n",
       "  <thead>\n",
       "    <tr style=\"text-align: right;\">\n",
       "      <th></th>\n",
       "      <th>Plot_ID</th>\n",
       "      <th>Blue_070819</th>\n",
       "      <th>Blue_290719</th>\n",
       "      <th>Blue_220719</th>\n",
       "      <th>Blue_150719</th>\n",
       "      <th>Blue_050719</th>\n",
       "      <th>Blue_280619</th>\n",
       "      <th>Blue_260619</th>\n",
       "      <th>Blue_060619</th>\n",
       "    </tr>\n",
       "  </thead>\n",
       "  <tbody>\n",
       "  </tbody>\n",
       "</table>\n",
       "</div>"
      ],
      "text/plain": [
       "Empty DataFrame\n",
       "Columns: [Plot_ID, Blue_070819, Blue_290719, Blue_220719, Blue_150719, Blue_050719, Blue_280619, Blue_260619, Blue_060619]\n",
       "Index: []"
      ]
     },
     "execution_count": 44,
     "metadata": {},
     "output_type": "execute_result"
    }
   ],
   "source": [
    "idx_found = []\n",
    "for x in list_problem:\n",
    "    idx_found.append(int(Masbasis_2019_all[Masbasis_2019_all['Plot_ID']==x].index.values))\n",
    "#     print()\n",
    "Masbasis_2019_all.iloc[idx_found,:][['Plot_ID']+blu_cols]\n",
    "# idx_found"
   ]
  },
  {
   "cell_type": "code",
   "execution_count": 45,
   "metadata": {
    "ExecuteTime": {
     "end_time": "2021-12-03T17:51:25.249949Z",
     "start_time": "2021-12-03T17:51:25.234951Z"
    }
   },
   "outputs": [
    {
     "data": {
      "text/plain": [
       "list"
      ]
     },
     "execution_count": 45,
     "metadata": {},
     "output_type": "execute_result"
    }
   ],
   "source": [
    "# df['Plot_ID']==x\n",
    "type(x)"
   ]
  },
  {
   "cell_type": "markdown",
   "metadata": {},
   "source": [
    "## Dropping Missing values"
   ]
  },
  {
   "cell_type": "code",
   "execution_count": 46,
   "metadata": {
    "ExecuteTime": {
     "end_time": "2021-12-03T17:51:25.264874Z",
     "start_time": "2021-12-03T17:51:25.250908Z"
    }
   },
   "outputs": [
    {
     "data": {
      "text/plain": [
       "['Masbasis_2019_all',\n",
       " 'Masbasis_2020_all_lodg',\n",
       " 'Robot_2020_all',\n",
       " 'Staur_2019_all']"
      ]
     },
     "execution_count": 46,
     "metadata": {},
     "output_type": "execute_result"
    }
   ],
   "source": [
    "df_dh_dm"
   ]
  },
  {
   "cell_type": "code",
   "execution_count": 47,
   "metadata": {
    "ExecuteTime": {
     "end_time": "2021-12-03T17:51:25.279831Z",
     "start_time": "2021-12-03T17:51:25.265868Z"
    },
    "scrolled": false
   },
   "outputs": [
    {
     "name": "stdout",
     "output_type": "stream",
     "text": [
      "Graminor_2019_Simps\n",
      "Grain Yield data missing for  1 out of  600\n",
      "Graminor_2020_Simps\n",
      "Grain Yield data missing for  1 out of  800\n",
      "Masbasis_2019_Simps\n",
      "Grain Yield data missing for  6 out of  528\n",
      "Masbasis_2020_Simps\n",
      "Grain Yield data missing for  116 out of  624\n",
      "Robot_2020_Simps\n",
      "Grain Yield data missing for  0 out of  96\n",
      "Staur_2019_Simps\n",
      "Grain Yield data missing for  0 out of  1328\n",
      "Staur_2020_Simps\n",
      "Grain Yield data missing for  568 out of  1488\n"
     ]
    }
   ],
   "source": [
    "# Masbasis_2019_Simps.info(null_counts=True)\n",
    "for df in simp_df_all:\n",
    "    temp_df = locals()[df].copy()\n",
    "#     print('*************', df, '**************')\n",
    "#     print(locals()[df].info())\n",
    "\n",
    "    print (df)\n",
    "    print('Grain Yield data missing for ', temp_df['GrainYield'].isna().sum(), 'out of ', temp_df.shape[0])\n",
    "# Graminor_2019_Simps.info()"
   ]
  },
  {
   "cell_type": "markdown",
   "metadata": {
    "ExecuteTime": {
     "end_time": "2021-10-10T23:35:44.442995Z",
     "start_time": "2021-10-10T23:35:44.424577Z"
    }
   },
   "source": [
    "Yield data of Staur 2020 is disjoint with the bands data. There are 568 subplots whose yield is not available in the yield file and there are 10 subplots in the yield data which are not in the bands data sheets.\n",
    "\n",
    "\n",
    "There are atleast 116 missing grain yield values in Masbasis 2020 yield dataset."
   ]
  },
  {
   "cell_type": "code",
   "execution_count": 48,
   "metadata": {
    "ExecuteTime": {
     "end_time": "2021-12-03T17:51:25.311515Z",
     "start_time": "2021-12-03T17:51:25.281826Z"
    }
   },
   "outputs": [
    {
     "name": "stdout",
     "output_type": "stream",
     "text": [
      "Graminor_2019_Simps Dropped entries 0 : 600 600\n",
      "Graminor_2020_Simps Dropped entries 0 : 800 800\n",
      "Masbasis_2019_Simps Dropped entries 0 : 528 528\n",
      "Masbasis_2020_Simps Dropped entries 0 : 624 624\n",
      "Robot_2020_Simps Dropped entries 0 : 96 96\n",
      "Staur_2019_Simps Dropped entries 0 : 1328 1328\n",
      "Staur_2020_Simps Dropped entries 0 : 1488 1488\n"
     ]
    },
    {
     "data": {
      "text/plain": [
       "['Graminor_2019_Simps_dropna',\n",
       " 'Graminor_2020_Simps_dropna',\n",
       " 'Masbasis_2019_Simps_dropna',\n",
       " 'Masbasis_2020_Simps_dropna',\n",
       " 'Robot_2020_Simps_dropna',\n",
       " 'Staur_2019_Simps_dropna',\n",
       " 'Staur_2020_Simps_dropna']"
      ]
     },
     "execution_count": 48,
     "metadata": {},
     "output_type": "execute_result"
    }
   ],
   "source": [
    "simp_df_all_dropna = []\n",
    "for df in simp_df_all:\n",
    "    temp_df = locals()[df].copy()\n",
    "    rows = temp_df.shape[0]\n",
    "#     print(temp_df.shape)\n",
    "    temp_df.dropna(subset=['Blue'],inplace = True)\n",
    "    print(df, 'Dropped entries', rows- temp_df.shape[0],':', rows, temp_df.shape[0])\n",
    "    new_df = df+'_dropna'\n",
    "    locals()[new_df] = temp_df.copy()\n",
    "    simp_df_all_dropna.append(new_df)\n",
    "simp_df_all_dropna"
   ]
  },
  {
   "cell_type": "code",
   "execution_count": 49,
   "metadata": {
    "ExecuteTime": {
     "end_time": "2021-12-03T17:51:25.343458Z",
     "start_time": "2021-12-03T17:51:25.312512Z"
    }
   },
   "outputs": [
    {
     "name": "stdout",
     "output_type": "stream",
     "text": [
      "Graminor_2019_Trapz Dropped entries 0 : 600 600\n",
      "Graminor_2020_Trapz Dropped entries 0 : 800 800\n",
      "Masbasis_2019_Trapz Dropped entries 0 : 528 528\n",
      "Masbasis_2020_Trapz Dropped entries 0 : 624 624\n",
      "Robot_2020_Trapz Dropped entries 0 : 96 96\n",
      "Staur_2019_Trapz Dropped entries 0 : 1328 1328\n",
      "Staur_2020_Trapz Dropped entries 0 : 1488 1488\n"
     ]
    },
    {
     "data": {
      "text/plain": [
       "['Graminor_2019_Trapz_dropna',\n",
       " 'Graminor_2020_Trapz_dropna',\n",
       " 'Masbasis_2019_Trapz_dropna',\n",
       " 'Masbasis_2020_Trapz_dropna',\n",
       " 'Robot_2020_Trapz_dropna',\n",
       " 'Staur_2019_Trapz_dropna',\n",
       " 'Staur_2020_Trapz_dropna']"
      ]
     },
     "execution_count": 49,
     "metadata": {},
     "output_type": "execute_result"
    }
   ],
   "source": [
    "trapz_df_all_dropna = []\n",
    "for df in trapz_df_all:\n",
    "    temp_df = locals()[df].copy()\n",
    "    rows = temp_df.shape[0]\n",
    "#     print(temp_df.shape)\n",
    "    temp_df.dropna(subset=['Blue'],inplace = True)\n",
    "    print(df, 'Dropped entries', rows- temp_df.shape[0],':', rows, temp_df.shape[0])\n",
    "    new_df = df+'_dropna'\n",
    "    locals()[new_df] = temp_df.copy()\n",
    "    trapz_df_all_dropna.append(new_df)\n",
    "trapz_df_all_dropna"
   ]
  },
  {
   "cell_type": "markdown",
   "metadata": {},
   "source": [
    "Old:  \n",
    "Masbasis_2019_Trapz Dropped entries 0 : 528 528  \n",
    "Masbasis_2020_Trapz Dropped entries 112 : 659 547  \n",
    "Robot_2020_Trapz Dropped entries 0 : 96 96  \n",
    "Staur_2019_Trapz Dropped entries 1166 : 1328 162  "
   ]
  },
  {
   "cell_type": "code",
   "execution_count": 50,
   "metadata": {
    "ExecuteTime": {
     "end_time": "2021-12-03T17:51:25.626706Z",
     "start_time": "2021-12-03T17:51:25.344427Z"
    },
    "scrolled": true
   },
   "outputs": [
    {
     "name": "stdout",
     "output_type": "stream",
     "text": [
      "Graminor_2019_Simps_dropna\n"
     ]
    },
    {
     "data": {
      "text/plain": [
       "1"
      ]
     },
     "metadata": {},
     "output_type": "display_data"
    },
    {
     "name": "stdout",
     "output_type": "stream",
     "text": [
      "Graminor_2020_Simps_dropna\n"
     ]
    },
    {
     "data": {
      "text/plain": [
       "1"
      ]
     },
     "metadata": {},
     "output_type": "display_data"
    },
    {
     "name": "stdout",
     "output_type": "stream",
     "text": [
      "Masbasis_2019_Simps_dropna\n"
     ]
    },
    {
     "data": {
      "text/plain": [
       "6"
      ]
     },
     "metadata": {},
     "output_type": "display_data"
    },
    {
     "name": "stdout",
     "output_type": "stream",
     "text": [
      "Masbasis_2020_Simps_dropna\n"
     ]
    },
    {
     "data": {
      "text/plain": [
       "116"
      ]
     },
     "metadata": {},
     "output_type": "display_data"
    },
    {
     "name": "stdout",
     "output_type": "stream",
     "text": [
      "Robot_2020_Simps_dropna\n"
     ]
    },
    {
     "data": {
      "text/plain": [
       "0"
      ]
     },
     "metadata": {},
     "output_type": "display_data"
    },
    {
     "name": "stdout",
     "output_type": "stream",
     "text": [
      "Staur_2019_Simps_dropna\n"
     ]
    },
    {
     "data": {
      "text/plain": [
       "0"
      ]
     },
     "metadata": {},
     "output_type": "display_data"
    },
    {
     "name": "stdout",
     "output_type": "stream",
     "text": [
      "Staur_2020_Simps_dropna\n"
     ]
    },
    {
     "data": {
      "text/plain": [
       "568"
      ]
     },
     "metadata": {},
     "output_type": "display_data"
    },
    {
     "name": "stdout",
     "output_type": "stream",
     "text": [
      "Graminor_2019_Trapz_dropna\n"
     ]
    },
    {
     "data": {
      "text/plain": [
       "1"
      ]
     },
     "metadata": {},
     "output_type": "display_data"
    },
    {
     "name": "stdout",
     "output_type": "stream",
     "text": [
      "Graminor_2020_Trapz_dropna\n"
     ]
    },
    {
     "data": {
      "text/plain": [
       "1"
      ]
     },
     "metadata": {},
     "output_type": "display_data"
    },
    {
     "name": "stdout",
     "output_type": "stream",
     "text": [
      "Masbasis_2019_Trapz_dropna\n"
     ]
    },
    {
     "data": {
      "text/plain": [
       "6"
      ]
     },
     "metadata": {},
     "output_type": "display_data"
    },
    {
     "name": "stdout",
     "output_type": "stream",
     "text": [
      "Masbasis_2020_Trapz_dropna\n"
     ]
    },
    {
     "data": {
      "text/plain": [
       "116"
      ]
     },
     "metadata": {},
     "output_type": "display_data"
    },
    {
     "name": "stdout",
     "output_type": "stream",
     "text": [
      "Robot_2020_Trapz_dropna\n"
     ]
    },
    {
     "data": {
      "text/plain": [
       "0"
      ]
     },
     "metadata": {},
     "output_type": "display_data"
    },
    {
     "name": "stdout",
     "output_type": "stream",
     "text": [
      "Staur_2019_Trapz_dropna\n"
     ]
    },
    {
     "data": {
      "text/plain": [
       "0"
      ]
     },
     "metadata": {},
     "output_type": "display_data"
    },
    {
     "name": "stdout",
     "output_type": "stream",
     "text": [
      "Staur_2020_Trapz_dropna\n"
     ]
    },
    {
     "data": {
      "text/plain": [
       "568"
      ]
     },
     "metadata": {},
     "output_type": "display_data"
    }
   ],
   "source": [
    "def describe_nan(df):\n",
    "    return pd.DataFrame([(i, df[df[i].isna()].shape[0],df[df[i].isna()].shape[0]/df.shape[0]) for i in df.columns], columns=['column', 'nan_counts', 'nan_rate'])\n",
    "for df in simp_df_all_dropna+trapz_df_all_dropna:\n",
    "    print(df)\n",
    "    display(describe_nan(locals()[df][base_indices+spectral_indices+['GrainYield']]).nan_counts.sum())\n",
    "#     display(describe_nan(locals()[df][base_indices+spectral_indices+['GrainYield']]))"
   ]
  },
  {
   "cell_type": "markdown",
   "metadata": {},
   "source": [
    "# Weather Data"
   ]
  },
  {
   "cell_type": "markdown",
   "metadata": {},
   "source": [
    "## Correcting datetime format"
   ]
  },
  {
   "cell_type": "markdown",
   "metadata": {},
   "source": [
    "### Vollebekk"
   ]
  },
  {
   "cell_type": "code",
   "execution_count": 51,
   "metadata": {
    "ExecuteTime": {
     "end_time": "2021-12-03T17:51:25.769794Z",
     "start_time": "2021-12-03T17:51:25.627677Z"
    }
   },
   "outputs": [
    {
     "data": {
      "text/plain": [
       "Index(['Time measured', 'Middeltemperatur i 2m høyde (TM)',\n",
       "       'Maksimum lufttemperatur i 2m høyde (TX)',\n",
       "       'Minimums lufttemperatur i 2m høyde (TN)', 'Nedbør (RR)',\n",
       "       'Relativ luftfuktighet i 2m', 'Relativ luftfuktighet i 2m.1',\n",
       "       'Bladfuktighet i 2m høyde (BT)', ' 10 min glidende middel (FF2)',\n",
       "       ' vindkast (FG2)', 'Vindhastighet i 2m'],\n",
       "      dtype='object')"
      ]
     },
     "execution_count": 51,
     "metadata": {},
     "output_type": "execute_result"
    }
   ],
   "source": [
    "weather_vollebekk = pd.read_csv(weather_data_vollebekk)\n",
    "\n",
    "# Converting date time to python datetime\n",
    "weather_vollebekk['Time measured'] = pd.to_datetime(weather_vollebekk['Time measured'], infer_datetime_format=True)\n",
    "# weather_vollebekk['Time measured'] = weather_vollebekk['Time measured'].dt.normalize()\n",
    "\n",
    "# Removing timezone info from datetime sice other date data is without timezone info\n",
    "weather_vollebekk['Time measured'] = pd.Series(x.replace(tzinfo=None) for x in weather_vollebekk['Time measured'])\n",
    "\n",
    "weather_vollebekk.columns"
   ]
  },
  {
   "cell_type": "markdown",
   "metadata": {},
   "source": [
    "#### Vollebekk: Dropping the two xolumns whixh are not in staur weather data"
   ]
  },
  {
   "cell_type": "code",
   "execution_count": 52,
   "metadata": {
    "ExecuteTime": {
     "end_time": "2021-12-03T17:51:25.785750Z",
     "start_time": "2021-12-03T17:51:25.771788Z"
    }
   },
   "outputs": [
    {
     "data": {
      "text/plain": [
       "Index(['Time measured', 'Middeltemperatur i 2m høyde (TM)',\n",
       "       'Maksimum lufttemperatur i 2m høyde (TX)',\n",
       "       'Minimums lufttemperatur i 2m høyde (TN)', 'Nedbør (RR)',\n",
       "       'Relativ luftfuktighet i 2m', 'Relativ luftfuktighet i 2m.1',\n",
       "       ' vindkast (FG2)', 'Vindhastighet i 2m'],\n",
       "      dtype='object')"
      ]
     },
     "execution_count": 52,
     "metadata": {},
     "output_type": "execute_result"
    }
   ],
   "source": [
    "weather_vollebekk.drop(['Bladfuktighet i 2m høyde (BT)', ' 10 min glidende middel (FF2)'], axis='columns', inplace=True)\n",
    "weather_vollebekk.columns"
   ]
  },
  {
   "cell_type": "markdown",
   "metadata": {},
   "source": [
    "### Staur"
   ]
  },
  {
   "cell_type": "code",
   "execution_count": 53,
   "metadata": {
    "ExecuteTime": {
     "end_time": "2021-12-03T17:51:25.925515Z",
     "start_time": "2021-12-03T17:51:25.787747Z"
    }
   },
   "outputs": [
    {
     "data": {
      "text/plain": [
       "Index(['Time measured', 'Middeltemperatur i 2m høyde (TM)',\n",
       "       'Maksimum lufttemperatur i 2m høyde (TX)',\n",
       "       'Minimums lufttemperatur i 2m høyde (TN)', 'Nedbør (RR)',\n",
       "       'Relativ luftfuktighet i 2m', 'Relativ luftfuktighet i 2m.1',\n",
       "       ' vindkast (FG2)', 'Vindhastighet i 2m'],\n",
       "      dtype='object')"
      ]
     },
     "execution_count": 53,
     "metadata": {},
     "output_type": "execute_result"
    }
   ],
   "source": [
    "weather_staur = pd.read_csv(weather_data_staur)\n",
    "\n",
    "# Converting date time to python datetime\n",
    "weather_staur['Time measured'] = pd.to_datetime(weather_staur['Time measured'], infer_datetime_format=True)\n",
    "# weather_staur['Time measured'] = weather_staur['Time measured'].dt.normalize()\n",
    "\n",
    "# Removing timezone info from datetime sice other date data is without timezone info\n",
    "weather_staur['Time measured'] = pd.Series(x.replace(tzinfo=None) for x in weather_staur['Time measured'])\n",
    "\n",
    "weather_staur.columns"
   ]
  },
  {
   "cell_type": "markdown",
   "metadata": {},
   "source": [
    "## Checking if both weather datas have same colummns"
   ]
  },
  {
   "cell_type": "code",
   "execution_count": 54,
   "metadata": {
    "ExecuteTime": {
     "end_time": "2021-12-03T17:51:25.940947Z",
     "start_time": "2021-12-03T17:51:25.926513Z"
    }
   },
   "outputs": [],
   "source": [
    "assert weather_vollebekk.columns.tolist() == weather_staur.columns.tolist()"
   ]
  },
  {
   "cell_type": "markdown",
   "metadata": {},
   "source": [
    "## Translating column names"
   ]
  },
  {
   "cell_type": "code",
   "execution_count": 55,
   "metadata": {
    "ExecuteTime": {
     "end_time": "2021-12-03T17:51:25.956904Z",
     "start_time": "2021-12-03T17:51:25.941944Z"
    }
   },
   "outputs": [],
   "source": [
    "# Translated the column heading using google translate\n",
    "\n",
    "\n",
    "weather_vollebekk.columns = ['Time measured', 'Average temperature at 2m altitude (TM)',\n",
    "        'Maximum air temperature at 2m altitude (TX)',\n",
    "        'Minimum air temperature at 2m altitude (TN)', 'Precipitation (RR)',\n",
    "        'Relative humidity in 2m', 'Relative humidity in 2m.1',\n",
    "        'Wind gust (FG2)', 'Wind speed in 2m']\n",
    "\n",
    "\n",
    "# Translated the column heading using google translate\n",
    "\n",
    "weather_staur.columns = ['Time measured', 'Average temperature at 2m altitude (TM)',\n",
    "        'Maximum air temperature at 2m altitude (TX)',\n",
    "        'Minimum air temperature at 2m altitude (TN)', 'Precipitation (RR)',\n",
    "        'Relative humidity in 2m', 'Relative humidity in 2m.1',\n",
    "        'Wind gust (FG2)', 'Wind speed in 2m']"
   ]
  },
  {
   "cell_type": "markdown",
   "metadata": {},
   "source": [
    "## Craeting a list of min and max date in every field"
   ]
  },
  {
   "cell_type": "code",
   "execution_count": 56,
   "metadata": {
    "ExecuteTime": {
     "end_time": "2021-12-03T17:51:25.972862Z",
     "start_time": "2021-12-03T17:51:25.957901Z"
    }
   },
   "outputs": [],
   "source": [
    "max_min_dates = {}\n",
    "for df in all_df:\n",
    "    temp_df = locals()[df].copy()\n",
    "    dates = [x.split('_')[1] for x in temp_df.columns if 'Blue' in x]\n",
    "    df_name_temp = df.split('_')[0]+'_'+df.split('_')[1]\n",
    "    sowing_date_temp = dt.strptime(sowing_dict[df_name_temp], '%d%m%y')\n",
    "    min_date_temp = min([dt.strptime(x, '%d%m%y') for x in dates ])\n",
    "    max_date_temp = max([dt.strptime(x, '%d%m%y') for x in dates ])\n",
    "    max_min_dates[df] = [sowing_date_temp, min_date_temp, max_date_temp]\n",
    "# max_min_dates"
   ]
  },
  {
   "cell_type": "markdown",
   "metadata": {
    "ExecuteTime": {
     "end_time": "2021-10-06T23:34:52.239619Z",
     "start_time": "2021-10-06T23:34:52.233535Z"
    }
   },
   "source": [
    "## Calculating average DH and DM"
   ]
  },
  {
   "cell_type": "code",
   "execution_count": 57,
   "metadata": {
    "ExecuteTime": {
     "end_time": "2021-12-03T17:51:25.988820Z",
     "start_time": "2021-12-03T17:51:25.973861Z"
    }
   },
   "outputs": [
    {
     "data": {
      "text/plain": [
       "{'Masbasis_2019_all': [68.18939393939394, 108.64393939393939],\n",
       " 'Masbasis_2020_all_lodg': [66.24839743589743, 87.794921875],\n",
       " 'Robot_2020_all': [61.09375, 110.84375],\n",
       " 'Staur_2019_all': [48.53333333333333, 101.25757575757575]}"
      ]
     },
     "execution_count": 57,
     "metadata": {},
     "output_type": "execute_result"
    }
   ],
   "source": [
    "dict_avg_dh_dm"
   ]
  },
  {
   "cell_type": "code",
   "execution_count": 58,
   "metadata": {
    "ExecuteTime": {
     "end_time": "2021-12-03T17:51:26.004776Z",
     "start_time": "2021-12-03T17:51:25.989816Z"
    }
   },
   "outputs": [
    {
     "name": "stdout",
     "output_type": "stream",
     "text": [
      "Average Days2Heading is 61.016218677156175\n",
      "Average Days2Maturity is 102.13504675662878\n"
     ]
    }
   ],
   "source": [
    "print(f'Average Days2Heading is {mean_dh}')\n",
    "print(f'Average Days2Maturity is {mean_dm}')"
   ]
  },
  {
   "cell_type": "markdown",
   "metadata": {},
   "source": [
    "## Filtering weather data"
   ]
  },
  {
   "cell_type": "code",
   "execution_count": 59,
   "metadata": {
    "ExecuteTime": {
     "end_time": "2021-12-03T17:51:26.177345Z",
     "start_time": "2021-12-03T17:51:26.005774Z"
    },
    "scrolled": true
   },
   "outputs": [
    {
     "name": "stderr",
     "output_type": "stream",
     "text": [
      "<ipython-input-59-66b38582c4e5>:29: FutureWarning: DataFrame.mean and DataFrame.median with numeric_only=None will include datetime64 and datetime64tz columns in a future version.\n",
      "  temp_weather.fillna(weather_vollebekk.mean(), inplace = True)\n",
      "C:\\ProgramData\\Anaconda3\\lib\\site-packages\\pandas\\core\\series.py:4463: SettingWithCopyWarning: \n",
      "A value is trying to be set on a copy of a slice from a DataFrame\n",
      "\n",
      "See the caveats in the documentation: https://pandas.pydata.org/pandas-docs/stable/user_guide/indexing.html#returning-a-view-versus-a-copy\n",
      "  return super().fillna(\n",
      "C:\\ProgramData\\Anaconda3\\lib\\site-packages\\pandas\\core\\frame.py:4308: SettingWithCopyWarning: \n",
      "A value is trying to be set on a copy of a slice from a DataFrame\n",
      "\n",
      "See the caveats in the documentation: https://pandas.pydata.org/pandas-docs/stable/user_guide/indexing.html#returning-a-view-versus-a-copy\n",
      "  return super().drop(\n",
      "<ipython-input-59-66b38582c4e5>:22: FutureWarning: DataFrame.mean and DataFrame.median with numeric_only=None will include datetime64 and datetime64tz columns in a future version.\n",
      "  temp_weather.fillna(weather_staur.mean(), inplace = True)\n"
     ]
    },
    {
     "data": {
      "text/plain": [
       "['Graminor_2019_weather_agg',\n",
       " 'Graminor_2020_weather_agg',\n",
       " 'Masbasis_2019_weather_agg',\n",
       " 'Masbasis_2020_weather_agg',\n",
       " 'Robot_2020_weather_agg',\n",
       " 'Staur_2019_weather_agg',\n",
       " 'Staur_2020_weather_agg']"
      ]
     },
     "execution_count": 59,
     "metadata": {},
     "output_type": "execute_result"
    }
   ],
   "source": [
    "# Weather data for days from sowing date. Largerst of the average number of Days2Maturity \n",
    "# is a good measaure to use\n",
    "# Could have used max_date(last date availabel for the field) but that date does not \n",
    "# correspond to the actual crop maturity.\n",
    "# So using approxipame maturity time is a better measure of the affect of weather on yield\n",
    "days_delta = max(list_dm)\n",
    "\n",
    "weather_dfs = []\n",
    "weathers_processed_df = []\n",
    "for df, dates in max_min_dates.items():\n",
    "    df_weather_temp = pd.DataFrame()\n",
    "\n",
    "    sowing_date_temp = dates[0]\n",
    "    min_date_temp = dates[1]\n",
    "    max_date_temp = dates[2]\n",
    "    \n",
    "    if 'Staur' in df:\n",
    "        # Filtering the weather date from sowing_date to max_date the data is available for\n",
    "        temp_weather = weather_staur.loc[(weather_staur['Time measured'] >= sowing_date_temp) &\\\n",
    "                              (weather_staur['Time measured'] <= sowing_date_temp + timedelta(days=days_delta))]\n",
    "        # Filling the missing values with the average value of the area for the given complete weather data\n",
    "        temp_weather.fillna(weather_staur.mean(), inplace = True)\n",
    "\n",
    "    else:\n",
    "        # Filtering the weather date from sowing_date to max_date the data is available for\n",
    "        temp_weather = weather_vollebekk.loc[(weather_vollebekk['Time measured'] >= sowing_date_temp) &\\\n",
    "                              (weather_vollebekk['Time measured'] <= sowing_date_temp + timedelta(days=days_delta))]\n",
    "        # Filling the missing values with the average value of the area for the given complete weather data\n",
    "        temp_weather.fillna(weather_vollebekk.mean(), inplace = True)\n",
    "\n",
    "#     print(df, sowing_date_temp.date(), min_date_temp.date(), max_date_temp.date())\n",
    "#     print(temp_weather.shape)\n",
    "\n",
    "#     # See info to find hoe many missing values and in which column\n",
    "#     display(temp_weather.info())\n",
    "\n",
    "    # Filling themissing values with the average of the column\n",
    "    # Applying Only on columns with NaN values\n",
    "    for i in temp_weather.columns[temp_weather.isnull().any(axis=0)]:\n",
    "        temp_weather[i].fillna(temp_weather[i].mean(),inplace=True)\n",
    "    # Drop the time measures column\n",
    "    temp_weather.drop(['Time measured'], axis=1, inplace=True)\n",
    "    \n",
    "    df_weat_temp = df.split('_')[0]+'_'+df.split('_')[1]+'_weather_all'\n",
    "    locals()[df_name_temp] = temp_weather.copy()\n",
    "    weather_dfs.append(df_name_temp)\n",
    "    \n",
    "    \n",
    "    \n",
    "    # Aggregating the weather data using several statistical methods\n",
    "    mean_df = temp_weather.mean().to_frame().transpose().add_prefix('MEAN ')\n",
    "    median_df = temp_weather.median().to_frame().transpose().add_prefix('MEDIAN ')\n",
    "    # Different for mode since mode returns a df, instead of series object\n",
    "    mode_df = temp_weather.mode().transpose().iloc[:,0].to_frame().transpose().add_prefix('MODE ')\n",
    "    sum_df = temp_weather.sum().to_frame().transpose().add_prefix('SUM ')\n",
    "    min_df = temp_weather.min().to_frame().transpose().add_prefix('MIN ')\n",
    "    max_df = temp_weather.max().to_frame().transpose().add_prefix('MAX ')\n",
    "    std_df = temp_weather.std().to_frame().transpose().add_prefix('STD_DEV ')\n",
    "    # Reset index in quantile since it takes quantile of index as well\n",
    "    quantile_25 = temp_weather.quantile(q=0.25).to_frame().transpose().add_prefix('QUANTILE_25 ').reset_index(drop=True)\n",
    "    quantile_50 = temp_weather.quantile(q=0.5).to_frame().transpose().add_prefix('QUANTILE_50 ').reset_index(drop=True)\n",
    "    quantile_75 = temp_weather.quantile(q=0.75).to_frame().transpose().add_prefix('QUANTILE_75 ').reset_index(drop=True)\n",
    "\n",
    "    single_row_df = pd.concat([mean_df, median_df, mode_df, sum_df, min_df, max_df, std_df, quantile_25, quantile_50, quantile_75], axis=1)\n",
    "    \n",
    "    if single_row_df.isna().sum().sum() > 1:\n",
    "        print(df)\n",
    "        print(single_row_df.isna().sum())\n",
    "        raise ValueError\n",
    "#     display(single_row_df)\n",
    "\n",
    "    df_processed_temp = df.split('_')[0]+'_'+df.split('_')[1]+'_weather_agg'\n",
    "    locals()[df_processed_temp] = single_row_df.copy()\n",
    "    weathers_processed_df.append(df_processed_temp)\n",
    "weathers_processed_df"
   ]
  },
  {
   "cell_type": "code",
   "execution_count": 60,
   "metadata": {
    "ExecuteTime": {
     "end_time": "2021-12-03T17:51:26.192296Z",
     "start_time": "2021-12-03T17:51:26.178311Z"
    }
   },
   "outputs": [
    {
     "data": {
      "text/plain": [
       "(1, 80)"
      ]
     },
     "execution_count": 60,
     "metadata": {},
     "output_type": "execute_result"
    }
   ],
   "source": [
    "Masbasis_2019_weather_agg.shape"
   ]
  },
  {
   "cell_type": "code",
   "execution_count": 61,
   "metadata": {
    "ExecuteTime": {
     "end_time": "2021-12-03T17:51:26.207234Z",
     "start_time": "2021-12-03T17:51:26.193272Z"
    }
   },
   "outputs": [],
   "source": [
    "# Staur_2020_weather_agg.shape"
   ]
  },
  {
   "cell_type": "code",
   "execution_count": 62,
   "metadata": {
    "ExecuteTime": {
     "end_time": "2021-12-03T17:51:26.222219Z",
     "start_time": "2021-12-03T17:51:26.209230Z"
    }
   },
   "outputs": [],
   "source": [
    "vollebekk_fields_weather = [x for x in weathers_processed_df if 'Staur' not  in x]\n",
    "staur_fields_weather = [x for x in weathers_processed_df if 'Staur' in x]\n",
    "\n",
    "weather_cols_vollebekk = locals()[vollebekk_fields_weather[0]].columns.tolist()\n",
    "weather_cols_staur = locals()[staur_fields_weather[0]].columns.tolist()"
   ]
  },
  {
   "cell_type": "markdown",
   "metadata": {},
   "source": [
    "## Exporting Weather Indices for later use"
   ]
  },
  {
   "cell_type": "code",
   "execution_count": 63,
   "metadata": {
    "ExecuteTime": {
     "end_time": "2021-12-03T17:51:26.238152Z",
     "start_time": "2021-12-03T17:51:26.223192Z"
    }
   },
   "outputs": [],
   "source": [
    "# Make sure the folder/dir is there. If not, create one\n",
    "os.makedirs(main_path, exist_ok=True)\n",
    "import json\n",
    "a_file = open(main_path+'vollebekk_weather_columns.json', \"w\")\n",
    "json.dump(weather_cols_vollebekk, a_file)\n",
    "a_file.close()\n",
    "\n",
    "# a_file = open(\"Data\\vollebekk_weather_columns.json\", \"r\")\n",
    "# output_str = a_file.read()\n",
    "\n",
    "# # The file is imported as string\n",
    "# # Converting it to python format\n",
    "# weather_cols_vollebekk = json.loads(output_str)\n",
    "# a_file.close()\n",
    "# print(weather_cols_vollebekk)"
   ]
  },
  {
   "cell_type": "code",
   "execution_count": 64,
   "metadata": {
    "ExecuteTime": {
     "end_time": "2021-12-03T17:51:26.254109Z",
     "start_time": "2021-12-03T17:51:26.239149Z"
    }
   },
   "outputs": [],
   "source": [
    "# Make sure the folder/dir is there. If not, create one\n",
    "os.makedirs(main_path, exist_ok=True)\n",
    "import json\n",
    "a_file = open(main_path+'staur_weather_columns.json', \"w\")\n",
    "json.dump(weather_cols_staur, a_file)\n",
    "a_file.close()\n",
    "\n",
    "# a_file = open(\"Data\\staur_weather_columns.json\", \"r\")\n",
    "# output_str = a_file.read()\n",
    "\n",
    "# # The file is imported as string\n",
    "# # Converting it to python format\n",
    "# weather_cols_staur = json.loads(output_str)\n",
    "# a_file.close()\n",
    "# print(weather_cols_staur)"
   ]
  },
  {
   "cell_type": "markdown",
   "metadata": {},
   "source": [
    "## Adding weather data to the simps integrated df"
   ]
  },
  {
   "cell_type": "code",
   "execution_count": 65,
   "metadata": {
    "ExecuteTime": {
     "end_time": "2021-12-03T17:51:26.317938Z",
     "start_time": "2021-12-03T17:51:26.255115Z"
    }
   },
   "outputs": [],
   "source": [
    "df_to_export = []\n",
    "for df in simp_df_all_dropna+trapz_df_all_dropna:\n",
    "    temp_df = locals()[df].copy()\n",
    "    \n",
    "    field_name = df.split('_')[0]+'_'+df.split('_')[1]\n",
    "    integration_type = df.split('_')[2]\n",
    "    \n",
    "    single_row_name = field_name+'_weather_agg'\n",
    "    single_row_df = locals()[single_row_name]\n",
    "    # Replicating the single_row data multiple times to make the df equal to the number of rows in the original df\n",
    "    rows_df = temp_df.shape[0] \n",
    "    new_df = pd.DataFrame(np.repeat(single_row_df.values, rows_df, axis=0), columns=single_row_df.columns)\n",
    "    \n",
    "    pd.concat([temp_df, new_df], axis=1)\n",
    "    merged_df = pd.concat([temp_df, new_df], axis=1)\n",
    "    \n",
    "    locals()[field_name+'_'+integration_type] = merged_df.copy()\n",
    "    df_to_export.append(field_name+'_'+integration_type)"
   ]
  },
  {
   "cell_type": "code",
   "execution_count": 66,
   "metadata": {
    "ExecuteTime": {
     "end_time": "2021-12-03T17:51:26.333895Z",
     "start_time": "2021-12-03T17:51:26.318935Z"
    }
   },
   "outputs": [
    {
     "data": {
      "text/plain": [
       "Index(['Plot_ID', 'GrainYield', 'Block', 'iBlock', 'Entry', 'Name', 'Blue',\n",
       "       'Green', 'Red', 'RedEdge',\n",
       "       ...\n",
       "       'QUANTILE_50 Wind gust (FG2)', 'QUANTILE_50 Wind speed in 2m',\n",
       "       'QUANTILE_75 Average temperature at 2m altitude (TM)',\n",
       "       'QUANTILE_75 Maximum air temperature at 2m altitude (TX)',\n",
       "       'QUANTILE_75 Minimum air temperature at 2m altitude (TN)',\n",
       "       'QUANTILE_75 Precipitation (RR)', 'QUANTILE_75 Relative humidity in 2m',\n",
       "       'QUANTILE_75 Relative humidity in 2m.1', 'QUANTILE_75 Wind gust (FG2)',\n",
       "       'QUANTILE_75 Wind speed in 2m'],\n",
       "      dtype='object', length=120)"
      ]
     },
     "execution_count": 66,
     "metadata": {},
     "output_type": "execute_result"
    }
   ],
   "source": [
    "Graminor_2019_Simps.columns"
   ]
  },
  {
   "cell_type": "code",
   "execution_count": 67,
   "metadata": {
    "ExecuteTime": {
     "end_time": "2021-12-03T17:51:26.461064Z",
     "start_time": "2021-12-03T17:51:26.335892Z"
    }
   },
   "outputs": [
    {
     "data": {
      "text/html": [
       "<div>\n",
       "<style scoped>\n",
       "    .dataframe tbody tr th:only-of-type {\n",
       "        vertical-align: middle;\n",
       "    }\n",
       "\n",
       "    .dataframe tbody tr th {\n",
       "        vertical-align: top;\n",
       "    }\n",
       "\n",
       "    .dataframe thead th {\n",
       "        text-align: right;\n",
       "    }\n",
       "</style>\n",
       "<table border=\"1\" class=\"dataframe\">\n",
       "  <thead>\n",
       "    <tr style=\"text-align: right;\">\n",
       "      <th></th>\n",
       "      <th>Plot_ID</th>\n",
       "      <th>GrainYield</th>\n",
       "      <th>Block</th>\n",
       "      <th>iBlock</th>\n",
       "      <th>Entry</th>\n",
       "      <th>Name</th>\n",
       "      <th>Blue</th>\n",
       "      <th>Green</th>\n",
       "      <th>Red</th>\n",
       "      <th>RedEdge</th>\n",
       "      <th>NIR</th>\n",
       "      <th>NDVI</th>\n",
       "      <th>MTCI</th>\n",
       "      <th>DVI</th>\n",
       "      <th>GDVI</th>\n",
       "      <th>EXG</th>\n",
       "      <th>EXGR</th>\n",
       "      <th>RDVI</th>\n",
       "      <th>TDVI</th>\n",
       "      <th>GNDVI</th>\n",
       "      <th>NDRE</th>\n",
       "      <th>SCCI</th>\n",
       "      <th>EVI</th>\n",
       "      <th>TVI</th>\n",
       "      <th>VARI</th>\n",
       "      <th>GARI</th>\n",
       "      <th>GCI</th>\n",
       "      <th>GLI</th>\n",
       "      <th>NLI</th>\n",
       "      <th>MNLI</th>\n",
       "      <th>SAVI</th>\n",
       "      <th>GSAVI</th>\n",
       "      <th>OSAVI</th>\n",
       "      <th>GOSAVI</th>\n",
       "      <th>MSAVI2</th>\n",
       "      <th>MSR</th>\n",
       "      <th>GRVI</th>\n",
       "      <th>WDRVI</th>\n",
       "      <th>SR</th>\n",
       "      <th>Pedigree</th>\n",
       "      <th>MEAN Average temperature at 2m altitude (TM)</th>\n",
       "      <th>MEAN Maximum air temperature at 2m altitude (TX)</th>\n",
       "      <th>MEAN Minimum air temperature at 2m altitude (TN)</th>\n",
       "      <th>MEAN Precipitation (RR)</th>\n",
       "      <th>MEAN Relative humidity in 2m</th>\n",
       "      <th>MEAN Relative humidity in 2m.1</th>\n",
       "      <th>MEAN Wind gust (FG2)</th>\n",
       "      <th>MEAN Wind speed in 2m</th>\n",
       "      <th>MEDIAN Average temperature at 2m altitude (TM)</th>\n",
       "      <th>MEDIAN Maximum air temperature at 2m altitude (TX)</th>\n",
       "      <th>...</th>\n",
       "      <th>SUM Wind gust (FG2)</th>\n",
       "      <th>SUM Wind speed in 2m</th>\n",
       "      <th>MIN Average temperature at 2m altitude (TM)</th>\n",
       "      <th>MIN Maximum air temperature at 2m altitude (TX)</th>\n",
       "      <th>MIN Minimum air temperature at 2m altitude (TN)</th>\n",
       "      <th>MIN Precipitation (RR)</th>\n",
       "      <th>MIN Relative humidity in 2m</th>\n",
       "      <th>MIN Relative humidity in 2m.1</th>\n",
       "      <th>MIN Wind gust (FG2)</th>\n",
       "      <th>MIN Wind speed in 2m</th>\n",
       "      <th>MAX Average temperature at 2m altitude (TM)</th>\n",
       "      <th>MAX Maximum air temperature at 2m altitude (TX)</th>\n",
       "      <th>MAX Minimum air temperature at 2m altitude (TN)</th>\n",
       "      <th>MAX Precipitation (RR)</th>\n",
       "      <th>MAX Relative humidity in 2m</th>\n",
       "      <th>MAX Relative humidity in 2m.1</th>\n",
       "      <th>MAX Wind gust (FG2)</th>\n",
       "      <th>MAX Wind speed in 2m</th>\n",
       "      <th>STD_DEV Average temperature at 2m altitude (TM)</th>\n",
       "      <th>STD_DEV Maximum air temperature at 2m altitude (TX)</th>\n",
       "      <th>STD_DEV Minimum air temperature at 2m altitude (TN)</th>\n",
       "      <th>STD_DEV Precipitation (RR)</th>\n",
       "      <th>STD_DEV Relative humidity in 2m</th>\n",
       "      <th>STD_DEV Relative humidity in 2m.1</th>\n",
       "      <th>STD_DEV Wind gust (FG2)</th>\n",
       "      <th>STD_DEV Wind speed in 2m</th>\n",
       "      <th>QUANTILE_25 Average temperature at 2m altitude (TM)</th>\n",
       "      <th>QUANTILE_25 Maximum air temperature at 2m altitude (TX)</th>\n",
       "      <th>QUANTILE_25 Minimum air temperature at 2m altitude (TN)</th>\n",
       "      <th>QUANTILE_25 Precipitation (RR)</th>\n",
       "      <th>QUANTILE_25 Relative humidity in 2m</th>\n",
       "      <th>QUANTILE_25 Relative humidity in 2m.1</th>\n",
       "      <th>QUANTILE_25 Wind gust (FG2)</th>\n",
       "      <th>QUANTILE_25 Wind speed in 2m</th>\n",
       "      <th>QUANTILE_50 Average temperature at 2m altitude (TM)</th>\n",
       "      <th>QUANTILE_50 Maximum air temperature at 2m altitude (TX)</th>\n",
       "      <th>QUANTILE_50 Minimum air temperature at 2m altitude (TN)</th>\n",
       "      <th>QUANTILE_50 Precipitation (RR)</th>\n",
       "      <th>QUANTILE_50 Relative humidity in 2m</th>\n",
       "      <th>QUANTILE_50 Relative humidity in 2m.1</th>\n",
       "      <th>QUANTILE_50 Wind gust (FG2)</th>\n",
       "      <th>QUANTILE_50 Wind speed in 2m</th>\n",
       "      <th>QUANTILE_75 Average temperature at 2m altitude (TM)</th>\n",
       "      <th>QUANTILE_75 Maximum air temperature at 2m altitude (TX)</th>\n",
       "      <th>QUANTILE_75 Minimum air temperature at 2m altitude (TN)</th>\n",
       "      <th>QUANTILE_75 Precipitation (RR)</th>\n",
       "      <th>QUANTILE_75 Relative humidity in 2m</th>\n",
       "      <th>QUANTILE_75 Relative humidity in 2m.1</th>\n",
       "      <th>QUANTILE_75 Wind gust (FG2)</th>\n",
       "      <th>QUANTILE_75 Wind speed in 2m</th>\n",
       "    </tr>\n",
       "  </thead>\n",
       "  <tbody>\n",
       "    <tr>\n",
       "      <th>0</th>\n",
       "      <td>101</td>\n",
       "      <td>499.624440</td>\n",
       "      <td>1</td>\n",
       "      <td>1</td>\n",
       "      <td>1</td>\n",
       "      <td>Zebra</td>\n",
       "      <td>2.730156</td>\n",
       "      <td>6.636563</td>\n",
       "      <td>5.810611</td>\n",
       "      <td>12.271557</td>\n",
       "      <td>29.092428</td>\n",
       "      <td>43.969482</td>\n",
       "      <td>164.325434</td>\n",
       "      <td>24.224897</td>\n",
       "      <td>23.163382</td>\n",
       "      <td>4.732360</td>\n",
       "      <td>3.234068</td>\n",
       "      <td>32.372200</td>\n",
       "      <td>39.689907</td>\n",
       "      <td>40.369102</td>\n",
       "      <td>25.945330</td>\n",
       "      <td>37.043150</td>\n",
       "      <td>8.301376</td>\n",
       "      <td>1495.954392</td>\n",
       "      <td>15.450394</td>\n",
       "      <td>30.656124</td>\n",
       "      <td>276.774899</td>\n",
       "      <td>18.856608</td>\n",
       "      <td>28.907769</td>\n",
       "      <td>16.646329</td>\n",
       "      <td>34.020520</td>\n",
       "      <td>31.869645</td>\n",
       "      <td>33.669053</td>\n",
       "      <td>31.235529</td>\n",
       "      <td>95.487266</td>\n",
       "      <td>125.354385</td>\n",
       "      <td>338.774899</td>\n",
       "      <td>-6.272951</td>\n",
       "      <td>647.310871</td>\n",
       "      <td>Ralle/Dragon</td>\n",
       "      <td>14.241441</td>\n",
       "      <td>20.056757</td>\n",
       "      <td>8.486486</td>\n",
       "      <td>2.625759</td>\n",
       "      <td>72.75045</td>\n",
       "      <td>96.04955</td>\n",
       "      <td>13.5</td>\n",
       "      <td>13.893694</td>\n",
       "      <td>14.8</td>\n",
       "      <td>20.1</td>\n",
       "      <td>...</td>\n",
       "      <td>1498.5</td>\n",
       "      <td>1542.2</td>\n",
       "      <td>2.6</td>\n",
       "      <td>4.6</td>\n",
       "      <td>-5.0</td>\n",
       "      <td>0.0</td>\n",
       "      <td>31.5</td>\n",
       "      <td>39.9</td>\n",
       "      <td>6.6</td>\n",
       "      <td>7.0</td>\n",
       "      <td>24.1</td>\n",
       "      <td>33.1</td>\n",
       "      <td>18.3</td>\n",
       "      <td>21.2</td>\n",
       "      <td>94.5</td>\n",
       "      <td>99.9</td>\n",
       "      <td>19.0</td>\n",
       "      <td>19.5</td>\n",
       "      <td>4.155926</td>\n",
       "      <td>5.043459</td>\n",
       "      <td>4.466206</td>\n",
       "      <td>4.678896</td>\n",
       "      <td>13.428564</td>\n",
       "      <td>7.977854</td>\n",
       "      <td>3.265996</td>\n",
       "      <td>3.466024</td>\n",
       "      <td>12.3</td>\n",
       "      <td>17.75</td>\n",
       "      <td>5.8</td>\n",
       "      <td>0.0</td>\n",
       "      <td>62.55</td>\n",
       "      <td>95.65</td>\n",
       "      <td>11.2</td>\n",
       "      <td>11.55</td>\n",
       "      <td>14.8</td>\n",
       "      <td>20.1</td>\n",
       "      <td>9.3</td>\n",
       "      <td>0.4</td>\n",
       "      <td>73.9</td>\n",
       "      <td>98.8</td>\n",
       "      <td>14.5</td>\n",
       "      <td>15.2</td>\n",
       "      <td>16.8</td>\n",
       "      <td>22.95</td>\n",
       "      <td>11.5</td>\n",
       "      <td>2.838274</td>\n",
       "      <td>84.0</td>\n",
       "      <td>99.9</td>\n",
       "      <td>15.95</td>\n",
       "      <td>16.8</td>\n",
       "    </tr>\n",
       "    <tr>\n",
       "      <th>1</th>\n",
       "      <td>102</td>\n",
       "      <td>515.532751</td>\n",
       "      <td>1</td>\n",
       "      <td>1</td>\n",
       "      <td>11</td>\n",
       "      <td>GN14547</td>\n",
       "      <td>2.592873</td>\n",
       "      <td>6.884701</td>\n",
       "      <td>5.349383</td>\n",
       "      <td>12.983170</td>\n",
       "      <td>30.824851</td>\n",
       "      <td>45.236169</td>\n",
       "      <td>147.322771</td>\n",
       "      <td>26.313920</td>\n",
       "      <td>24.581058</td>\n",
       "      <td>5.827146</td>\n",
       "      <td>5.222711</td>\n",
       "      <td>34.040357</td>\n",
       "      <td>41.611941</td>\n",
       "      <td>40.108623</td>\n",
       "      <td>25.355164</td>\n",
       "      <td>35.314448</td>\n",
       "      <td>-12.983656</td>\n",
       "      <td>1648.149684</td>\n",
       "      <td>20.337607</td>\n",
       "      <td>31.347725</td>\n",
       "      <td>259.939814</td>\n",
       "      <td>22.396857</td>\n",
       "      <td>30.657246</td>\n",
       "      <td>19.372180</td>\n",
       "      <td>35.523635</td>\n",
       "      <td>32.258285</td>\n",
       "      <td>34.800715</td>\n",
       "      <td>31.236932</td>\n",
       "      <td>98.453850</td>\n",
       "      <td>138.046606</td>\n",
       "      <td>321.939814</td>\n",
       "      <td>-3.131470</td>\n",
       "      <td>745.322999</td>\n",
       "      <td>SW45126/NK01533</td>\n",
       "      <td>14.241441</td>\n",
       "      <td>20.056757</td>\n",
       "      <td>8.486486</td>\n",
       "      <td>2.625759</td>\n",
       "      <td>72.75045</td>\n",
       "      <td>96.04955</td>\n",
       "      <td>13.5</td>\n",
       "      <td>13.893694</td>\n",
       "      <td>14.8</td>\n",
       "      <td>20.1</td>\n",
       "      <td>...</td>\n",
       "      <td>1498.5</td>\n",
       "      <td>1542.2</td>\n",
       "      <td>2.6</td>\n",
       "      <td>4.6</td>\n",
       "      <td>-5.0</td>\n",
       "      <td>0.0</td>\n",
       "      <td>31.5</td>\n",
       "      <td>39.9</td>\n",
       "      <td>6.6</td>\n",
       "      <td>7.0</td>\n",
       "      <td>24.1</td>\n",
       "      <td>33.1</td>\n",
       "      <td>18.3</td>\n",
       "      <td>21.2</td>\n",
       "      <td>94.5</td>\n",
       "      <td>99.9</td>\n",
       "      <td>19.0</td>\n",
       "      <td>19.5</td>\n",
       "      <td>4.155926</td>\n",
       "      <td>5.043459</td>\n",
       "      <td>4.466206</td>\n",
       "      <td>4.678896</td>\n",
       "      <td>13.428564</td>\n",
       "      <td>7.977854</td>\n",
       "      <td>3.265996</td>\n",
       "      <td>3.466024</td>\n",
       "      <td>12.3</td>\n",
       "      <td>17.75</td>\n",
       "      <td>5.8</td>\n",
       "      <td>0.0</td>\n",
       "      <td>62.55</td>\n",
       "      <td>95.65</td>\n",
       "      <td>11.2</td>\n",
       "      <td>11.55</td>\n",
       "      <td>14.8</td>\n",
       "      <td>20.1</td>\n",
       "      <td>9.3</td>\n",
       "      <td>0.4</td>\n",
       "      <td>73.9</td>\n",
       "      <td>98.8</td>\n",
       "      <td>14.5</td>\n",
       "      <td>15.2</td>\n",
       "      <td>16.8</td>\n",
       "      <td>22.95</td>\n",
       "      <td>11.5</td>\n",
       "      <td>2.838274</td>\n",
       "      <td>84.0</td>\n",
       "      <td>99.9</td>\n",
       "      <td>15.95</td>\n",
       "      <td>16.8</td>\n",
       "    </tr>\n",
       "    <tr>\n",
       "      <th>2</th>\n",
       "      <td>103</td>\n",
       "      <td>529.501025</td>\n",
       "      <td>1</td>\n",
       "      <td>1</td>\n",
       "      <td>13</td>\n",
       "      <td>Tarrafal</td>\n",
       "      <td>2.501096</td>\n",
       "      <td>6.534736</td>\n",
       "      <td>5.489296</td>\n",
       "      <td>12.598181</td>\n",
       "      <td>31.084613</td>\n",
       "      <td>44.748670</td>\n",
       "      <td>154.768449</td>\n",
       "      <td>26.484704</td>\n",
       "      <td>25.125277</td>\n",
       "      <td>5.079081</td>\n",
       "      <td>3.928804</td>\n",
       "      <td>33.982018</td>\n",
       "      <td>41.619050</td>\n",
       "      <td>40.852849</td>\n",
       "      <td>25.757591</td>\n",
       "      <td>36.211202</td>\n",
       "      <td>-19.868606</td>\n",
       "      <td>1643.459363</td>\n",
       "      <td>16.645912</td>\n",
       "      <td>31.010532</td>\n",
       "      <td>281.105994</td>\n",
       "      <td>20.462591</td>\n",
       "      <td>29.836273</td>\n",
       "      <td>19.463343</td>\n",
       "      <td>35.454055</td>\n",
       "      <td>32.906460</td>\n",
       "      <td>34.587268</td>\n",
       "      <td>31.841916</td>\n",
       "      <td>98.630131</td>\n",
       "      <td>138.087649</td>\n",
       "      <td>343.105994</td>\n",
       "      <td>-3.556812</td>\n",
       "      <td>756.304479</td>\n",
       "      <td>NaN</td>\n",
       "      <td>14.241441</td>\n",
       "      <td>20.056757</td>\n",
       "      <td>8.486486</td>\n",
       "      <td>2.625759</td>\n",
       "      <td>72.75045</td>\n",
       "      <td>96.04955</td>\n",
       "      <td>13.5</td>\n",
       "      <td>13.893694</td>\n",
       "      <td>14.8</td>\n",
       "      <td>20.1</td>\n",
       "      <td>...</td>\n",
       "      <td>1498.5</td>\n",
       "      <td>1542.2</td>\n",
       "      <td>2.6</td>\n",
       "      <td>4.6</td>\n",
       "      <td>-5.0</td>\n",
       "      <td>0.0</td>\n",
       "      <td>31.5</td>\n",
       "      <td>39.9</td>\n",
       "      <td>6.6</td>\n",
       "      <td>7.0</td>\n",
       "      <td>24.1</td>\n",
       "      <td>33.1</td>\n",
       "      <td>18.3</td>\n",
       "      <td>21.2</td>\n",
       "      <td>94.5</td>\n",
       "      <td>99.9</td>\n",
       "      <td>19.0</td>\n",
       "      <td>19.5</td>\n",
       "      <td>4.155926</td>\n",
       "      <td>5.043459</td>\n",
       "      <td>4.466206</td>\n",
       "      <td>4.678896</td>\n",
       "      <td>13.428564</td>\n",
       "      <td>7.977854</td>\n",
       "      <td>3.265996</td>\n",
       "      <td>3.466024</td>\n",
       "      <td>12.3</td>\n",
       "      <td>17.75</td>\n",
       "      <td>5.8</td>\n",
       "      <td>0.0</td>\n",
       "      <td>62.55</td>\n",
       "      <td>95.65</td>\n",
       "      <td>11.2</td>\n",
       "      <td>11.55</td>\n",
       "      <td>14.8</td>\n",
       "      <td>20.1</td>\n",
       "      <td>9.3</td>\n",
       "      <td>0.4</td>\n",
       "      <td>73.9</td>\n",
       "      <td>98.8</td>\n",
       "      <td>14.5</td>\n",
       "      <td>15.2</td>\n",
       "      <td>16.8</td>\n",
       "      <td>22.95</td>\n",
       "      <td>11.5</td>\n",
       "      <td>2.838274</td>\n",
       "      <td>84.0</td>\n",
       "      <td>99.9</td>\n",
       "      <td>15.95</td>\n",
       "      <td>16.8</td>\n",
       "    </tr>\n",
       "    <tr>\n",
       "      <th>3</th>\n",
       "      <td>104</td>\n",
       "      <td>544.503985</td>\n",
       "      <td>1</td>\n",
       "      <td>1</td>\n",
       "      <td>14</td>\n",
       "      <td>GN12760</td>\n",
       "      <td>2.435992</td>\n",
       "      <td>6.382933</td>\n",
       "      <td>5.114914</td>\n",
       "      <td>12.268243</td>\n",
       "      <td>31.222147</td>\n",
       "      <td>45.799529</td>\n",
       "      <td>161.256495</td>\n",
       "      <td>26.923629</td>\n",
       "      <td>25.484633</td>\n",
       "      <td>5.214960</td>\n",
       "      <td>4.437015</td>\n",
       "      <td>34.696759</td>\n",
       "      <td>42.503203</td>\n",
       "      <td>41.468851</td>\n",
       "      <td>27.052356</td>\n",
       "      <td>36.695447</td>\n",
       "      <td>-62.082762</td>\n",
       "      <td>1672.977632</td>\n",
       "      <td>20.257647</td>\n",
       "      <td>32.643121</td>\n",
       "      <td>304.100996</td>\n",
       "      <td>22.266165</td>\n",
       "      <td>31.693017</td>\n",
       "      <td>20.282226</td>\n",
       "      <td>36.245078</td>\n",
       "      <td>33.499862</td>\n",
       "      <td>35.402729</td>\n",
       "      <td>32.400147</td>\n",
       "      <td>99.823678</td>\n",
       "      <td>151.835938</td>\n",
       "      <td>366.100996</td>\n",
       "      <td>-0.618760</td>\n",
       "      <td>875.000873</td>\n",
       "      <td>NK02529/NK01533//NK01568</td>\n",
       "      <td>14.241441</td>\n",
       "      <td>20.056757</td>\n",
       "      <td>8.486486</td>\n",
       "      <td>2.625759</td>\n",
       "      <td>72.75045</td>\n",
       "      <td>96.04955</td>\n",
       "      <td>13.5</td>\n",
       "      <td>13.893694</td>\n",
       "      <td>14.8</td>\n",
       "      <td>20.1</td>\n",
       "      <td>...</td>\n",
       "      <td>1498.5</td>\n",
       "      <td>1542.2</td>\n",
       "      <td>2.6</td>\n",
       "      <td>4.6</td>\n",
       "      <td>-5.0</td>\n",
       "      <td>0.0</td>\n",
       "      <td>31.5</td>\n",
       "      <td>39.9</td>\n",
       "      <td>6.6</td>\n",
       "      <td>7.0</td>\n",
       "      <td>24.1</td>\n",
       "      <td>33.1</td>\n",
       "      <td>18.3</td>\n",
       "      <td>21.2</td>\n",
       "      <td>94.5</td>\n",
       "      <td>99.9</td>\n",
       "      <td>19.0</td>\n",
       "      <td>19.5</td>\n",
       "      <td>4.155926</td>\n",
       "      <td>5.043459</td>\n",
       "      <td>4.466206</td>\n",
       "      <td>4.678896</td>\n",
       "      <td>13.428564</td>\n",
       "      <td>7.977854</td>\n",
       "      <td>3.265996</td>\n",
       "      <td>3.466024</td>\n",
       "      <td>12.3</td>\n",
       "      <td>17.75</td>\n",
       "      <td>5.8</td>\n",
       "      <td>0.0</td>\n",
       "      <td>62.55</td>\n",
       "      <td>95.65</td>\n",
       "      <td>11.2</td>\n",
       "      <td>11.55</td>\n",
       "      <td>14.8</td>\n",
       "      <td>20.1</td>\n",
       "      <td>9.3</td>\n",
       "      <td>0.4</td>\n",
       "      <td>73.9</td>\n",
       "      <td>98.8</td>\n",
       "      <td>14.5</td>\n",
       "      <td>15.2</td>\n",
       "      <td>16.8</td>\n",
       "      <td>22.95</td>\n",
       "      <td>11.5</td>\n",
       "      <td>2.838274</td>\n",
       "      <td>84.0</td>\n",
       "      <td>99.9</td>\n",
       "      <td>15.95</td>\n",
       "      <td>16.8</td>\n",
       "    </tr>\n",
       "    <tr>\n",
       "      <th>4</th>\n",
       "      <td>105</td>\n",
       "      <td>529.501025</td>\n",
       "      <td>1</td>\n",
       "      <td>1</td>\n",
       "      <td>4</td>\n",
       "      <td>Bjarne</td>\n",
       "      <td>2.443793</td>\n",
       "      <td>6.538687</td>\n",
       "      <td>5.222022</td>\n",
       "      <td>12.900846</td>\n",
       "      <td>32.133394</td>\n",
       "      <td>45.834019</td>\n",
       "      <td>151.222259</td>\n",
       "      <td>27.747350</td>\n",
       "      <td>26.212271</td>\n",
       "      <td>5.411559</td>\n",
       "      <td>4.639415</td>\n",
       "      <td>35.230074</td>\n",
       "      <td>43.264567</td>\n",
       "      <td>41.306739</td>\n",
       "      <td>26.369074</td>\n",
       "      <td>35.645460</td>\n",
       "      <td>-2794.349357</td>\n",
       "      <td>1726.244157</td>\n",
       "      <td>19.634490</td>\n",
       "      <td>32.238174</td>\n",
       "      <td>288.847536</td>\n",
       "      <td>22.297008</td>\n",
       "      <td>32.224663</td>\n",
       "      <td>21.141887</td>\n",
       "      <td>36.748530</td>\n",
       "      <td>33.865781</td>\n",
       "      <td>35.655822</td>\n",
       "      <td>32.517430</td>\n",
       "      <td>101.067426</td>\n",
       "      <td>146.400627</td>\n",
       "      <td>350.847536</td>\n",
       "      <td>-1.517121</td>\n",
       "      <td>821.425464</td>\n",
       "      <td>SvB87293/Bastian</td>\n",
       "      <td>14.241441</td>\n",
       "      <td>20.056757</td>\n",
       "      <td>8.486486</td>\n",
       "      <td>2.625759</td>\n",
       "      <td>72.75045</td>\n",
       "      <td>96.04955</td>\n",
       "      <td>13.5</td>\n",
       "      <td>13.893694</td>\n",
       "      <td>14.8</td>\n",
       "      <td>20.1</td>\n",
       "      <td>...</td>\n",
       "      <td>1498.5</td>\n",
       "      <td>1542.2</td>\n",
       "      <td>2.6</td>\n",
       "      <td>4.6</td>\n",
       "      <td>-5.0</td>\n",
       "      <td>0.0</td>\n",
       "      <td>31.5</td>\n",
       "      <td>39.9</td>\n",
       "      <td>6.6</td>\n",
       "      <td>7.0</td>\n",
       "      <td>24.1</td>\n",
       "      <td>33.1</td>\n",
       "      <td>18.3</td>\n",
       "      <td>21.2</td>\n",
       "      <td>94.5</td>\n",
       "      <td>99.9</td>\n",
       "      <td>19.0</td>\n",
       "      <td>19.5</td>\n",
       "      <td>4.155926</td>\n",
       "      <td>5.043459</td>\n",
       "      <td>4.466206</td>\n",
       "      <td>4.678896</td>\n",
       "      <td>13.428564</td>\n",
       "      <td>7.977854</td>\n",
       "      <td>3.265996</td>\n",
       "      <td>3.466024</td>\n",
       "      <td>12.3</td>\n",
       "      <td>17.75</td>\n",
       "      <td>5.8</td>\n",
       "      <td>0.0</td>\n",
       "      <td>62.55</td>\n",
       "      <td>95.65</td>\n",
       "      <td>11.2</td>\n",
       "      <td>11.55</td>\n",
       "      <td>14.8</td>\n",
       "      <td>20.1</td>\n",
       "      <td>9.3</td>\n",
       "      <td>0.4</td>\n",
       "      <td>73.9</td>\n",
       "      <td>98.8</td>\n",
       "      <td>14.5</td>\n",
       "      <td>15.2</td>\n",
       "      <td>16.8</td>\n",
       "      <td>22.95</td>\n",
       "      <td>11.5</td>\n",
       "      <td>2.838274</td>\n",
       "      <td>84.0</td>\n",
       "      <td>99.9</td>\n",
       "      <td>15.95</td>\n",
       "      <td>16.8</td>\n",
       "    </tr>\n",
       "    <tr>\n",
       "      <th>...</th>\n",
       "      <td>...</td>\n",
       "      <td>...</td>\n",
       "      <td>...</td>\n",
       "      <td>...</td>\n",
       "      <td>...</td>\n",
       "      <td>...</td>\n",
       "      <td>...</td>\n",
       "      <td>...</td>\n",
       "      <td>...</td>\n",
       "      <td>...</td>\n",
       "      <td>...</td>\n",
       "      <td>...</td>\n",
       "      <td>...</td>\n",
       "      <td>...</td>\n",
       "      <td>...</td>\n",
       "      <td>...</td>\n",
       "      <td>...</td>\n",
       "      <td>...</td>\n",
       "      <td>...</td>\n",
       "      <td>...</td>\n",
       "      <td>...</td>\n",
       "      <td>...</td>\n",
       "      <td>...</td>\n",
       "      <td>...</td>\n",
       "      <td>...</td>\n",
       "      <td>...</td>\n",
       "      <td>...</td>\n",
       "      <td>...</td>\n",
       "      <td>...</td>\n",
       "      <td>...</td>\n",
       "      <td>...</td>\n",
       "      <td>...</td>\n",
       "      <td>...</td>\n",
       "      <td>...</td>\n",
       "      <td>...</td>\n",
       "      <td>...</td>\n",
       "      <td>...</td>\n",
       "      <td>...</td>\n",
       "      <td>...</td>\n",
       "      <td>...</td>\n",
       "      <td>...</td>\n",
       "      <td>...</td>\n",
       "      <td>...</td>\n",
       "      <td>...</td>\n",
       "      <td>...</td>\n",
       "      <td>...</td>\n",
       "      <td>...</td>\n",
       "      <td>...</td>\n",
       "      <td>...</td>\n",
       "      <td>...</td>\n",
       "      <td>...</td>\n",
       "      <td>...</td>\n",
       "      <td>...</td>\n",
       "      <td>...</td>\n",
       "      <td>...</td>\n",
       "      <td>...</td>\n",
       "      <td>...</td>\n",
       "      <td>...</td>\n",
       "      <td>...</td>\n",
       "      <td>...</td>\n",
       "      <td>...</td>\n",
       "      <td>...</td>\n",
       "      <td>...</td>\n",
       "      <td>...</td>\n",
       "      <td>...</td>\n",
       "      <td>...</td>\n",
       "      <td>...</td>\n",
       "      <td>...</td>\n",
       "      <td>...</td>\n",
       "      <td>...</td>\n",
       "      <td>...</td>\n",
       "      <td>...</td>\n",
       "      <td>...</td>\n",
       "      <td>...</td>\n",
       "      <td>...</td>\n",
       "      <td>...</td>\n",
       "      <td>...</td>\n",
       "      <td>...</td>\n",
       "      <td>...</td>\n",
       "      <td>...</td>\n",
       "      <td>...</td>\n",
       "      <td>...</td>\n",
       "      <td>...</td>\n",
       "      <td>...</td>\n",
       "      <td>...</td>\n",
       "      <td>...</td>\n",
       "      <td>...</td>\n",
       "      <td>...</td>\n",
       "      <td>...</td>\n",
       "      <td>...</td>\n",
       "      <td>...</td>\n",
       "      <td>...</td>\n",
       "      <td>...</td>\n",
       "      <td>...</td>\n",
       "      <td>...</td>\n",
       "      <td>...</td>\n",
       "      <td>...</td>\n",
       "      <td>...</td>\n",
       "      <td>...</td>\n",
       "      <td>...</td>\n",
       "      <td>...</td>\n",
       "    </tr>\n",
       "    <tr>\n",
       "      <th>595</th>\n",
       "      <td>872</td>\n",
       "      <td>469.682277</td>\n",
       "      <td>4</td>\n",
       "      <td>20</td>\n",
       "      <td>24</td>\n",
       "      <td>GN19602</td>\n",
       "      <td>1.603014</td>\n",
       "      <td>5.170059</td>\n",
       "      <td>2.366899</td>\n",
       "      <td>11.045714</td>\n",
       "      <td>34.513039</td>\n",
       "      <td>53.819248</td>\n",
       "      <td>168.367365</td>\n",
       "      <td>32.146140</td>\n",
       "      <td>29.342981</td>\n",
       "      <td>6.370204</td>\n",
       "      <td>8.226603</td>\n",
       "      <td>41.580946</td>\n",
       "      <td>52.122018</td>\n",
       "      <td>45.567609</td>\n",
       "      <td>31.829121</td>\n",
       "      <td>36.353358</td>\n",
       "      <td>73.683355</td>\n",
       "      <td>2040.894767</td>\n",
       "      <td>34.166735</td>\n",
       "      <td>42.347029</td>\n",
       "      <td>398.870535</td>\n",
       "      <td>30.075712</td>\n",
       "      <td>47.982013</td>\n",
       "      <td>29.608048</td>\n",
       "      <td>43.915254</td>\n",
       "      <td>38.491720</td>\n",
       "      <td>42.454670</td>\n",
       "      <td>36.541753</td>\n",
       "      <td>113.904284</td>\n",
       "      <td>212.889111</td>\n",
       "      <td>460.870535</td>\n",
       "      <td>16.276288</td>\n",
       "      <td>1322.447264</td>\n",
       "      <td>QUARNA/NK01513//Berserk</td>\n",
       "      <td>14.241441</td>\n",
       "      <td>20.056757</td>\n",
       "      <td>8.486486</td>\n",
       "      <td>2.625759</td>\n",
       "      <td>72.75045</td>\n",
       "      <td>96.04955</td>\n",
       "      <td>13.5</td>\n",
       "      <td>13.893694</td>\n",
       "      <td>14.8</td>\n",
       "      <td>20.1</td>\n",
       "      <td>...</td>\n",
       "      <td>1498.5</td>\n",
       "      <td>1542.2</td>\n",
       "      <td>2.6</td>\n",
       "      <td>4.6</td>\n",
       "      <td>-5.0</td>\n",
       "      <td>0.0</td>\n",
       "      <td>31.5</td>\n",
       "      <td>39.9</td>\n",
       "      <td>6.6</td>\n",
       "      <td>7.0</td>\n",
       "      <td>24.1</td>\n",
       "      <td>33.1</td>\n",
       "      <td>18.3</td>\n",
       "      <td>21.2</td>\n",
       "      <td>94.5</td>\n",
       "      <td>99.9</td>\n",
       "      <td>19.0</td>\n",
       "      <td>19.5</td>\n",
       "      <td>4.155926</td>\n",
       "      <td>5.043459</td>\n",
       "      <td>4.466206</td>\n",
       "      <td>4.678896</td>\n",
       "      <td>13.428564</td>\n",
       "      <td>7.977854</td>\n",
       "      <td>3.265996</td>\n",
       "      <td>3.466024</td>\n",
       "      <td>12.3</td>\n",
       "      <td>17.75</td>\n",
       "      <td>5.8</td>\n",
       "      <td>0.0</td>\n",
       "      <td>62.55</td>\n",
       "      <td>95.65</td>\n",
       "      <td>11.2</td>\n",
       "      <td>11.55</td>\n",
       "      <td>14.8</td>\n",
       "      <td>20.1</td>\n",
       "      <td>9.3</td>\n",
       "      <td>0.4</td>\n",
       "      <td>73.9</td>\n",
       "      <td>98.8</td>\n",
       "      <td>14.5</td>\n",
       "      <td>15.2</td>\n",
       "      <td>16.8</td>\n",
       "      <td>22.95</td>\n",
       "      <td>11.5</td>\n",
       "      <td>2.838274</td>\n",
       "      <td>84.0</td>\n",
       "      <td>99.9</td>\n",
       "      <td>15.95</td>\n",
       "      <td>16.8</td>\n",
       "    </tr>\n",
       "    <tr>\n",
       "      <th>596</th>\n",
       "      <td>873</td>\n",
       "      <td>594.682657</td>\n",
       "      <td>4</td>\n",
       "      <td>20</td>\n",
       "      <td>9</td>\n",
       "      <td>GN19587</td>\n",
       "      <td>1.761630</td>\n",
       "      <td>5.725813</td>\n",
       "      <td>2.633292</td>\n",
       "      <td>12.048401</td>\n",
       "      <td>36.967557</td>\n",
       "      <td>53.159690</td>\n",
       "      <td>161.758561</td>\n",
       "      <td>34.334265</td>\n",
       "      <td>31.241744</td>\n",
       "      <td>7.056704</td>\n",
       "      <td>9.095909</td>\n",
       "      <td>42.622868</td>\n",
       "      <td>53.535363</td>\n",
       "      <td>44.792480</td>\n",
       "      <td>31.092876</td>\n",
       "      <td>35.952715</td>\n",
       "      <td>78.353385</td>\n",
       "      <td>2183.756768</td>\n",
       "      <td>33.596050</td>\n",
       "      <td>41.242868</td>\n",
       "      <td>366.930266</td>\n",
       "      <td>29.462138</td>\n",
       "      <td>47.222339</td>\n",
       "      <td>31.768502</td>\n",
       "      <td>44.738760</td>\n",
       "      <td>38.999759</td>\n",
       "      <td>42.514756</td>\n",
       "      <td>36.408533</td>\n",
       "      <td>116.259560</td>\n",
       "      <td>198.414287</td>\n",
       "      <td>428.930266</td>\n",
       "      <td>14.011561</td>\n",
       "      <td>1168.250166</td>\n",
       "      <td>QUARNA/BAJASS-5//Berserk 4</td>\n",
       "      <td>14.241441</td>\n",
       "      <td>20.056757</td>\n",
       "      <td>8.486486</td>\n",
       "      <td>2.625759</td>\n",
       "      <td>72.75045</td>\n",
       "      <td>96.04955</td>\n",
       "      <td>13.5</td>\n",
       "      <td>13.893694</td>\n",
       "      <td>14.8</td>\n",
       "      <td>20.1</td>\n",
       "      <td>...</td>\n",
       "      <td>1498.5</td>\n",
       "      <td>1542.2</td>\n",
       "      <td>2.6</td>\n",
       "      <td>4.6</td>\n",
       "      <td>-5.0</td>\n",
       "      <td>0.0</td>\n",
       "      <td>31.5</td>\n",
       "      <td>39.9</td>\n",
       "      <td>6.6</td>\n",
       "      <td>7.0</td>\n",
       "      <td>24.1</td>\n",
       "      <td>33.1</td>\n",
       "      <td>18.3</td>\n",
       "      <td>21.2</td>\n",
       "      <td>94.5</td>\n",
       "      <td>99.9</td>\n",
       "      <td>19.0</td>\n",
       "      <td>19.5</td>\n",
       "      <td>4.155926</td>\n",
       "      <td>5.043459</td>\n",
       "      <td>4.466206</td>\n",
       "      <td>4.678896</td>\n",
       "      <td>13.428564</td>\n",
       "      <td>7.977854</td>\n",
       "      <td>3.265996</td>\n",
       "      <td>3.466024</td>\n",
       "      <td>12.3</td>\n",
       "      <td>17.75</td>\n",
       "      <td>5.8</td>\n",
       "      <td>0.0</td>\n",
       "      <td>62.55</td>\n",
       "      <td>95.65</td>\n",
       "      <td>11.2</td>\n",
       "      <td>11.55</td>\n",
       "      <td>14.8</td>\n",
       "      <td>20.1</td>\n",
       "      <td>9.3</td>\n",
       "      <td>0.4</td>\n",
       "      <td>73.9</td>\n",
       "      <td>98.8</td>\n",
       "      <td>14.5</td>\n",
       "      <td>15.2</td>\n",
       "      <td>16.8</td>\n",
       "      <td>22.95</td>\n",
       "      <td>11.5</td>\n",
       "      <td>2.838274</td>\n",
       "      <td>84.0</td>\n",
       "      <td>99.9</td>\n",
       "      <td>15.95</td>\n",
       "      <td>16.8</td>\n",
       "    </tr>\n",
       "    <tr>\n",
       "      <th>597</th>\n",
       "      <td>874</td>\n",
       "      <td>528.060114</td>\n",
       "      <td>4</td>\n",
       "      <td>20</td>\n",
       "      <td>21</td>\n",
       "      <td>GN19599</td>\n",
       "      <td>1.669110</td>\n",
       "      <td>5.587970</td>\n",
       "      <td>2.539977</td>\n",
       "      <td>12.098062</td>\n",
       "      <td>36.106442</td>\n",
       "      <td>53.291980</td>\n",
       "      <td>153.443532</td>\n",
       "      <td>33.566464</td>\n",
       "      <td>30.518471</td>\n",
       "      <td>6.966853</td>\n",
       "      <td>8.998855</td>\n",
       "      <td>42.206129</td>\n",
       "      <td>52.947844</td>\n",
       "      <td>44.951737</td>\n",
       "      <td>30.508395</td>\n",
       "      <td>35.191737</td>\n",
       "      <td>76.264067</td>\n",
       "      <td>2135.907584</td>\n",
       "      <td>33.649390</td>\n",
       "      <td>41.232229</td>\n",
       "      <td>359.003049</td>\n",
       "      <td>30.010217</td>\n",
       "      <td>47.134345</td>\n",
       "      <td>30.990429</td>\n",
       "      <td>44.377090</td>\n",
       "      <td>38.677189</td>\n",
       "      <td>42.413351</td>\n",
       "      <td>36.331169</td>\n",
       "      <td>115.244449</td>\n",
       "      <td>200.964397</td>\n",
       "      <td>421.003049</td>\n",
       "      <td>14.607009</td>\n",
       "      <td>1187.809568</td>\n",
       "      <td>Bombona/NK01513//Berserk</td>\n",
       "      <td>14.241441</td>\n",
       "      <td>20.056757</td>\n",
       "      <td>8.486486</td>\n",
       "      <td>2.625759</td>\n",
       "      <td>72.75045</td>\n",
       "      <td>96.04955</td>\n",
       "      <td>13.5</td>\n",
       "      <td>13.893694</td>\n",
       "      <td>14.8</td>\n",
       "      <td>20.1</td>\n",
       "      <td>...</td>\n",
       "      <td>1498.5</td>\n",
       "      <td>1542.2</td>\n",
       "      <td>2.6</td>\n",
       "      <td>4.6</td>\n",
       "      <td>-5.0</td>\n",
       "      <td>0.0</td>\n",
       "      <td>31.5</td>\n",
       "      <td>39.9</td>\n",
       "      <td>6.6</td>\n",
       "      <td>7.0</td>\n",
       "      <td>24.1</td>\n",
       "      <td>33.1</td>\n",
       "      <td>18.3</td>\n",
       "      <td>21.2</td>\n",
       "      <td>94.5</td>\n",
       "      <td>99.9</td>\n",
       "      <td>19.0</td>\n",
       "      <td>19.5</td>\n",
       "      <td>4.155926</td>\n",
       "      <td>5.043459</td>\n",
       "      <td>4.466206</td>\n",
       "      <td>4.678896</td>\n",
       "      <td>13.428564</td>\n",
       "      <td>7.977854</td>\n",
       "      <td>3.265996</td>\n",
       "      <td>3.466024</td>\n",
       "      <td>12.3</td>\n",
       "      <td>17.75</td>\n",
       "      <td>5.8</td>\n",
       "      <td>0.0</td>\n",
       "      <td>62.55</td>\n",
       "      <td>95.65</td>\n",
       "      <td>11.2</td>\n",
       "      <td>11.55</td>\n",
       "      <td>14.8</td>\n",
       "      <td>20.1</td>\n",
       "      <td>9.3</td>\n",
       "      <td>0.4</td>\n",
       "      <td>73.9</td>\n",
       "      <td>98.8</td>\n",
       "      <td>14.5</td>\n",
       "      <td>15.2</td>\n",
       "      <td>16.8</td>\n",
       "      <td>22.95</td>\n",
       "      <td>11.5</td>\n",
       "      <td>2.838274</td>\n",
       "      <td>84.0</td>\n",
       "      <td>99.9</td>\n",
       "      <td>15.95</td>\n",
       "      <td>16.8</td>\n",
       "    </tr>\n",
       "    <tr>\n",
       "      <th>598</th>\n",
       "      <td>875</td>\n",
       "      <td>489.629146</td>\n",
       "      <td>4</td>\n",
       "      <td>20</td>\n",
       "      <td>12</td>\n",
       "      <td>GN19590</td>\n",
       "      <td>2.471685</td>\n",
       "      <td>6.540378</td>\n",
       "      <td>4.632317</td>\n",
       "      <td>12.512835</td>\n",
       "      <td>32.340901</td>\n",
       "      <td>45.761973</td>\n",
       "      <td>163.470812</td>\n",
       "      <td>27.708584</td>\n",
       "      <td>25.800523</td>\n",
       "      <td>5.976754</td>\n",
       "      <td>6.031889</td>\n",
       "      <td>35.595181</td>\n",
       "      <td>44.584929</td>\n",
       "      <td>40.184604</td>\n",
       "      <td>26.817527</td>\n",
       "      <td>36.966405</td>\n",
       "      <td>-16.427829</td>\n",
       "      <td>1738.837515</td>\n",
       "      <td>23.231942</td>\n",
       "      <td>32.212726</td>\n",
       "      <td>294.709211</td>\n",
       "      <td>24.216288</td>\n",
       "      <td>34.114133</td>\n",
       "      <td>21.512314</td>\n",
       "      <td>37.565611</td>\n",
       "      <td>33.902335</td>\n",
       "      <td>36.218876</td>\n",
       "      <td>32.233261</td>\n",
       "      <td>103.523845</td>\n",
       "      <td>155.990001</td>\n",
       "      <td>356.709211</td>\n",
       "      <td>0.147699</td>\n",
       "      <td>914.004423</td>\n",
       "      <td>Bombona/NK01513//GN03509</td>\n",
       "      <td>14.241441</td>\n",
       "      <td>20.056757</td>\n",
       "      <td>8.486486</td>\n",
       "      <td>2.625759</td>\n",
       "      <td>72.75045</td>\n",
       "      <td>96.04955</td>\n",
       "      <td>13.5</td>\n",
       "      <td>13.893694</td>\n",
       "      <td>14.8</td>\n",
       "      <td>20.1</td>\n",
       "      <td>...</td>\n",
       "      <td>1498.5</td>\n",
       "      <td>1542.2</td>\n",
       "      <td>2.6</td>\n",
       "      <td>4.6</td>\n",
       "      <td>-5.0</td>\n",
       "      <td>0.0</td>\n",
       "      <td>31.5</td>\n",
       "      <td>39.9</td>\n",
       "      <td>6.6</td>\n",
       "      <td>7.0</td>\n",
       "      <td>24.1</td>\n",
       "      <td>33.1</td>\n",
       "      <td>18.3</td>\n",
       "      <td>21.2</td>\n",
       "      <td>94.5</td>\n",
       "      <td>99.9</td>\n",
       "      <td>19.0</td>\n",
       "      <td>19.5</td>\n",
       "      <td>4.155926</td>\n",
       "      <td>5.043459</td>\n",
       "      <td>4.466206</td>\n",
       "      <td>4.678896</td>\n",
       "      <td>13.428564</td>\n",
       "      <td>7.977854</td>\n",
       "      <td>3.265996</td>\n",
       "      <td>3.466024</td>\n",
       "      <td>12.3</td>\n",
       "      <td>17.75</td>\n",
       "      <td>5.8</td>\n",
       "      <td>0.0</td>\n",
       "      <td>62.55</td>\n",
       "      <td>95.65</td>\n",
       "      <td>11.2</td>\n",
       "      <td>11.55</td>\n",
       "      <td>14.8</td>\n",
       "      <td>20.1</td>\n",
       "      <td>9.3</td>\n",
       "      <td>0.4</td>\n",
       "      <td>73.9</td>\n",
       "      <td>98.8</td>\n",
       "      <td>14.5</td>\n",
       "      <td>15.2</td>\n",
       "      <td>16.8</td>\n",
       "      <td>22.95</td>\n",
       "      <td>11.5</td>\n",
       "      <td>2.838274</td>\n",
       "      <td>84.0</td>\n",
       "      <td>99.9</td>\n",
       "      <td>15.95</td>\n",
       "      <td>16.8</td>\n",
       "    </tr>\n",
       "    <tr>\n",
       "      <th>599</th>\n",
       "      <td>801</td>\n",
       "      <td>591.977989</td>\n",
       "      <td>2</td>\n",
       "      <td>6</td>\n",
       "      <td>12</td>\n",
       "      <td>GN17621</td>\n",
       "      <td>1.692110</td>\n",
       "      <td>5.326152</td>\n",
       "      <td>2.587565</td>\n",
       "      <td>12.170790</td>\n",
       "      <td>39.797703</td>\n",
       "      <td>53.877695</td>\n",
       "      <td>176.061381</td>\n",
       "      <td>37.210138</td>\n",
       "      <td>34.471550</td>\n",
       "      <td>6.372630</td>\n",
       "      <td>8.076192</td>\n",
       "      <td>44.524385</td>\n",
       "      <td>55.830193</td>\n",
       "      <td>46.954618</td>\n",
       "      <td>32.330990</td>\n",
       "      <td>37.030156</td>\n",
       "      <td>78.544029</td>\n",
       "      <td>2342.151786</td>\n",
       "      <td>31.625474</td>\n",
       "      <td>43.212599</td>\n",
       "      <td>409.640725</td>\n",
       "      <td>27.875939</td>\n",
       "      <td>48.741000</td>\n",
       "      <td>35.109198</td>\n",
       "      <td>46.362749</td>\n",
       "      <td>41.433068</td>\n",
       "      <td>43.439321</td>\n",
       "      <td>38.300720</td>\n",
       "      <td>120.038180</td>\n",
       "      <td>206.167941</td>\n",
       "      <td>471.640725</td>\n",
       "      <td>15.617237</td>\n",
       "      <td>1237.143634</td>\n",
       "      <td>QUARNA/GN03531//Bajass-5</td>\n",
       "      <td>14.241441</td>\n",
       "      <td>20.056757</td>\n",
       "      <td>8.486486</td>\n",
       "      <td>2.625759</td>\n",
       "      <td>72.75045</td>\n",
       "      <td>96.04955</td>\n",
       "      <td>13.5</td>\n",
       "      <td>13.893694</td>\n",
       "      <td>14.8</td>\n",
       "      <td>20.1</td>\n",
       "      <td>...</td>\n",
       "      <td>1498.5</td>\n",
       "      <td>1542.2</td>\n",
       "      <td>2.6</td>\n",
       "      <td>4.6</td>\n",
       "      <td>-5.0</td>\n",
       "      <td>0.0</td>\n",
       "      <td>31.5</td>\n",
       "      <td>39.9</td>\n",
       "      <td>6.6</td>\n",
       "      <td>7.0</td>\n",
       "      <td>24.1</td>\n",
       "      <td>33.1</td>\n",
       "      <td>18.3</td>\n",
       "      <td>21.2</td>\n",
       "      <td>94.5</td>\n",
       "      <td>99.9</td>\n",
       "      <td>19.0</td>\n",
       "      <td>19.5</td>\n",
       "      <td>4.155926</td>\n",
       "      <td>5.043459</td>\n",
       "      <td>4.466206</td>\n",
       "      <td>4.678896</td>\n",
       "      <td>13.428564</td>\n",
       "      <td>7.977854</td>\n",
       "      <td>3.265996</td>\n",
       "      <td>3.466024</td>\n",
       "      <td>12.3</td>\n",
       "      <td>17.75</td>\n",
       "      <td>5.8</td>\n",
       "      <td>0.0</td>\n",
       "      <td>62.55</td>\n",
       "      <td>95.65</td>\n",
       "      <td>11.2</td>\n",
       "      <td>11.55</td>\n",
       "      <td>14.8</td>\n",
       "      <td>20.1</td>\n",
       "      <td>9.3</td>\n",
       "      <td>0.4</td>\n",
       "      <td>73.9</td>\n",
       "      <td>98.8</td>\n",
       "      <td>14.5</td>\n",
       "      <td>15.2</td>\n",
       "      <td>16.8</td>\n",
       "      <td>22.95</td>\n",
       "      <td>11.5</td>\n",
       "      <td>2.838274</td>\n",
       "      <td>84.0</td>\n",
       "      <td>99.9</td>\n",
       "      <td>15.95</td>\n",
       "      <td>16.8</td>\n",
       "    </tr>\n",
       "  </tbody>\n",
       "</table>\n",
       "<p>600 rows × 120 columns</p>\n",
       "</div>"
      ],
      "text/plain": [
       "     Plot_ID  GrainYield  Block  iBlock  Entry      Name      Blue     Green  \\\n",
       "0        101  499.624440      1       1      1     Zebra  2.730156  6.636563   \n",
       "1        102  515.532751      1       1     11   GN14547  2.592873  6.884701   \n",
       "2        103  529.501025      1       1     13  Tarrafal  2.501096  6.534736   \n",
       "3        104  544.503985      1       1     14   GN12760  2.435992  6.382933   \n",
       "4        105  529.501025      1       1      4    Bjarne  2.443793  6.538687   \n",
       "..       ...         ...    ...     ...    ...       ...       ...       ...   \n",
       "595      872  469.682277      4      20     24   GN19602  1.603014  5.170059   \n",
       "596      873  594.682657      4      20      9   GN19587  1.761630  5.725813   \n",
       "597      874  528.060114      4      20     21   GN19599  1.669110  5.587970   \n",
       "598      875  489.629146      4      20     12   GN19590  2.471685  6.540378   \n",
       "599      801  591.977989      2       6     12   GN17621  1.692110  5.326152   \n",
       "\n",
       "          Red    RedEdge        NIR       NDVI        MTCI        DVI  \\\n",
       "0    5.810611  12.271557  29.092428  43.969482  164.325434  24.224897   \n",
       "1    5.349383  12.983170  30.824851  45.236169  147.322771  26.313920   \n",
       "2    5.489296  12.598181  31.084613  44.748670  154.768449  26.484704   \n",
       "3    5.114914  12.268243  31.222147  45.799529  161.256495  26.923629   \n",
       "4    5.222022  12.900846  32.133394  45.834019  151.222259  27.747350   \n",
       "..        ...        ...        ...        ...         ...        ...   \n",
       "595  2.366899  11.045714  34.513039  53.819248  168.367365  32.146140   \n",
       "596  2.633292  12.048401  36.967557  53.159690  161.758561  34.334265   \n",
       "597  2.539977  12.098062  36.106442  53.291980  153.443532  33.566464   \n",
       "598  4.632317  12.512835  32.340901  45.761973  163.470812  27.708584   \n",
       "599  2.587565  12.170790  39.797703  53.877695  176.061381  37.210138   \n",
       "\n",
       "          GDVI       EXG      EXGR       RDVI       TDVI      GNDVI  \\\n",
       "0    23.163382  4.732360  3.234068  32.372200  39.689907  40.369102   \n",
       "1    24.581058  5.827146  5.222711  34.040357  41.611941  40.108623   \n",
       "2    25.125277  5.079081  3.928804  33.982018  41.619050  40.852849   \n",
       "3    25.484633  5.214960  4.437015  34.696759  42.503203  41.468851   \n",
       "4    26.212271  5.411559  4.639415  35.230074  43.264567  41.306739   \n",
       "..         ...       ...       ...        ...        ...        ...   \n",
       "595  29.342981  6.370204  8.226603  41.580946  52.122018  45.567609   \n",
       "596  31.241744  7.056704  9.095909  42.622868  53.535363  44.792480   \n",
       "597  30.518471  6.966853  8.998855  42.206129  52.947844  44.951737   \n",
       "598  25.800523  5.976754  6.031889  35.595181  44.584929  40.184604   \n",
       "599  34.471550  6.372630  8.076192  44.524385  55.830193  46.954618   \n",
       "\n",
       "          NDRE       SCCI          EVI          TVI       VARI       GARI  \\\n",
       "0    25.945330  37.043150     8.301376  1495.954392  15.450394  30.656124   \n",
       "1    25.355164  35.314448   -12.983656  1648.149684  20.337607  31.347725   \n",
       "2    25.757591  36.211202   -19.868606  1643.459363  16.645912  31.010532   \n",
       "3    27.052356  36.695447   -62.082762  1672.977632  20.257647  32.643121   \n",
       "4    26.369074  35.645460 -2794.349357  1726.244157  19.634490  32.238174   \n",
       "..         ...        ...          ...          ...        ...        ...   \n",
       "595  31.829121  36.353358    73.683355  2040.894767  34.166735  42.347029   \n",
       "596  31.092876  35.952715    78.353385  2183.756768  33.596050  41.242868   \n",
       "597  30.508395  35.191737    76.264067  2135.907584  33.649390  41.232229   \n",
       "598  26.817527  36.966405   -16.427829  1738.837515  23.231942  32.212726   \n",
       "599  32.330990  37.030156    78.544029  2342.151786  31.625474  43.212599   \n",
       "\n",
       "            GCI        GLI        NLI       MNLI       SAVI      GSAVI  \\\n",
       "0    276.774899  18.856608  28.907769  16.646329  34.020520  31.869645   \n",
       "1    259.939814  22.396857  30.657246  19.372180  35.523635  32.258285   \n",
       "2    281.105994  20.462591  29.836273  19.463343  35.454055  32.906460   \n",
       "3    304.100996  22.266165  31.693017  20.282226  36.245078  33.499862   \n",
       "4    288.847536  22.297008  32.224663  21.141887  36.748530  33.865781   \n",
       "..          ...        ...        ...        ...        ...        ...   \n",
       "595  398.870535  30.075712  47.982013  29.608048  43.915254  38.491720   \n",
       "596  366.930266  29.462138  47.222339  31.768502  44.738760  38.999759   \n",
       "597  359.003049  30.010217  47.134345  30.990429  44.377090  38.677189   \n",
       "598  294.709211  24.216288  34.114133  21.512314  37.565611  33.902335   \n",
       "599  409.640725  27.875939  48.741000  35.109198  46.362749  41.433068   \n",
       "\n",
       "         OSAVI     GOSAVI      MSAVI2         MSR        GRVI      WDRVI  \\\n",
       "0    33.669053  31.235529   95.487266  125.354385  338.774899  -6.272951   \n",
       "1    34.800715  31.236932   98.453850  138.046606  321.939814  -3.131470   \n",
       "2    34.587268  31.841916   98.630131  138.087649  343.105994  -3.556812   \n",
       "3    35.402729  32.400147   99.823678  151.835938  366.100996  -0.618760   \n",
       "4    35.655822  32.517430  101.067426  146.400627  350.847536  -1.517121   \n",
       "..         ...        ...         ...         ...         ...        ...   \n",
       "595  42.454670  36.541753  113.904284  212.889111  460.870535  16.276288   \n",
       "596  42.514756  36.408533  116.259560  198.414287  428.930266  14.011561   \n",
       "597  42.413351  36.331169  115.244449  200.964397  421.003049  14.607009   \n",
       "598  36.218876  32.233261  103.523845  155.990001  356.709211   0.147699   \n",
       "599  43.439321  38.300720  120.038180  206.167941  471.640725  15.617237   \n",
       "\n",
       "              SR                    Pedigree  \\\n",
       "0     647.310871                Ralle/Dragon   \n",
       "1     745.322999             SW45126/NK01533   \n",
       "2     756.304479                         NaN   \n",
       "3     875.000873    NK02529/NK01533//NK01568   \n",
       "4     821.425464            SvB87293/Bastian   \n",
       "..           ...                         ...   \n",
       "595  1322.447264     QUARNA/NK01513//Berserk   \n",
       "596  1168.250166  QUARNA/BAJASS-5//Berserk 4   \n",
       "597  1187.809568    Bombona/NK01513//Berserk   \n",
       "598   914.004423    Bombona/NK01513//GN03509   \n",
       "599  1237.143634    QUARNA/GN03531//Bajass-5   \n",
       "\n",
       "     MEAN Average temperature at 2m altitude (TM)  \\\n",
       "0                                       14.241441   \n",
       "1                                       14.241441   \n",
       "2                                       14.241441   \n",
       "3                                       14.241441   \n",
       "4                                       14.241441   \n",
       "..                                            ...   \n",
       "595                                     14.241441   \n",
       "596                                     14.241441   \n",
       "597                                     14.241441   \n",
       "598                                     14.241441   \n",
       "599                                     14.241441   \n",
       "\n",
       "     MEAN Maximum air temperature at 2m altitude (TX)  \\\n",
       "0                                           20.056757   \n",
       "1                                           20.056757   \n",
       "2                                           20.056757   \n",
       "3                                           20.056757   \n",
       "4                                           20.056757   \n",
       "..                                                ...   \n",
       "595                                         20.056757   \n",
       "596                                         20.056757   \n",
       "597                                         20.056757   \n",
       "598                                         20.056757   \n",
       "599                                         20.056757   \n",
       "\n",
       "     MEAN Minimum air temperature at 2m altitude (TN)  \\\n",
       "0                                            8.486486   \n",
       "1                                            8.486486   \n",
       "2                                            8.486486   \n",
       "3                                            8.486486   \n",
       "4                                            8.486486   \n",
       "..                                                ...   \n",
       "595                                          8.486486   \n",
       "596                                          8.486486   \n",
       "597                                          8.486486   \n",
       "598                                          8.486486   \n",
       "599                                          8.486486   \n",
       "\n",
       "     MEAN Precipitation (RR)  MEAN Relative humidity in 2m  \\\n",
       "0                   2.625759                      72.75045   \n",
       "1                   2.625759                      72.75045   \n",
       "2                   2.625759                      72.75045   \n",
       "3                   2.625759                      72.75045   \n",
       "4                   2.625759                      72.75045   \n",
       "..                       ...                           ...   \n",
       "595                 2.625759                      72.75045   \n",
       "596                 2.625759                      72.75045   \n",
       "597                 2.625759                      72.75045   \n",
       "598                 2.625759                      72.75045   \n",
       "599                 2.625759                      72.75045   \n",
       "\n",
       "     MEAN Relative humidity in 2m.1  MEAN Wind gust (FG2)  \\\n",
       "0                          96.04955                  13.5   \n",
       "1                          96.04955                  13.5   \n",
       "2                          96.04955                  13.5   \n",
       "3                          96.04955                  13.5   \n",
       "4                          96.04955                  13.5   \n",
       "..                              ...                   ...   \n",
       "595                        96.04955                  13.5   \n",
       "596                        96.04955                  13.5   \n",
       "597                        96.04955                  13.5   \n",
       "598                        96.04955                  13.5   \n",
       "599                        96.04955                  13.5   \n",
       "\n",
       "     MEAN Wind speed in 2m  MEDIAN Average temperature at 2m altitude (TM)  \\\n",
       "0                13.893694                                            14.8   \n",
       "1                13.893694                                            14.8   \n",
       "2                13.893694                                            14.8   \n",
       "3                13.893694                                            14.8   \n",
       "4                13.893694                                            14.8   \n",
       "..                     ...                                             ...   \n",
       "595              13.893694                                            14.8   \n",
       "596              13.893694                                            14.8   \n",
       "597              13.893694                                            14.8   \n",
       "598              13.893694                                            14.8   \n",
       "599              13.893694                                            14.8   \n",
       "\n",
       "     MEDIAN Maximum air temperature at 2m altitude (TX)  ...  \\\n",
       "0                                                 20.1   ...   \n",
       "1                                                 20.1   ...   \n",
       "2                                                 20.1   ...   \n",
       "3                                                 20.1   ...   \n",
       "4                                                 20.1   ...   \n",
       "..                                                 ...   ...   \n",
       "595                                               20.1   ...   \n",
       "596                                               20.1   ...   \n",
       "597                                               20.1   ...   \n",
       "598                                               20.1   ...   \n",
       "599                                               20.1   ...   \n",
       "\n",
       "     SUM Wind gust (FG2)  SUM Wind speed in 2m  \\\n",
       "0                 1498.5                1542.2   \n",
       "1                 1498.5                1542.2   \n",
       "2                 1498.5                1542.2   \n",
       "3                 1498.5                1542.2   \n",
       "4                 1498.5                1542.2   \n",
       "..                   ...                   ...   \n",
       "595               1498.5                1542.2   \n",
       "596               1498.5                1542.2   \n",
       "597               1498.5                1542.2   \n",
       "598               1498.5                1542.2   \n",
       "599               1498.5                1542.2   \n",
       "\n",
       "     MIN Average temperature at 2m altitude (TM)  \\\n",
       "0                                            2.6   \n",
       "1                                            2.6   \n",
       "2                                            2.6   \n",
       "3                                            2.6   \n",
       "4                                            2.6   \n",
       "..                                           ...   \n",
       "595                                          2.6   \n",
       "596                                          2.6   \n",
       "597                                          2.6   \n",
       "598                                          2.6   \n",
       "599                                          2.6   \n",
       "\n",
       "     MIN Maximum air temperature at 2m altitude (TX)  \\\n",
       "0                                                4.6   \n",
       "1                                                4.6   \n",
       "2                                                4.6   \n",
       "3                                                4.6   \n",
       "4                                                4.6   \n",
       "..                                               ...   \n",
       "595                                              4.6   \n",
       "596                                              4.6   \n",
       "597                                              4.6   \n",
       "598                                              4.6   \n",
       "599                                              4.6   \n",
       "\n",
       "     MIN Minimum air temperature at 2m altitude (TN)  MIN Precipitation (RR)  \\\n",
       "0                                               -5.0                     0.0   \n",
       "1                                               -5.0                     0.0   \n",
       "2                                               -5.0                     0.0   \n",
       "3                                               -5.0                     0.0   \n",
       "4                                               -5.0                     0.0   \n",
       "..                                               ...                     ...   \n",
       "595                                             -5.0                     0.0   \n",
       "596                                             -5.0                     0.0   \n",
       "597                                             -5.0                     0.0   \n",
       "598                                             -5.0                     0.0   \n",
       "599                                             -5.0                     0.0   \n",
       "\n",
       "     MIN Relative humidity in 2m  MIN Relative humidity in 2m.1  \\\n",
       "0                           31.5                           39.9   \n",
       "1                           31.5                           39.9   \n",
       "2                           31.5                           39.9   \n",
       "3                           31.5                           39.9   \n",
       "4                           31.5                           39.9   \n",
       "..                           ...                            ...   \n",
       "595                         31.5                           39.9   \n",
       "596                         31.5                           39.9   \n",
       "597                         31.5                           39.9   \n",
       "598                         31.5                           39.9   \n",
       "599                         31.5                           39.9   \n",
       "\n",
       "     MIN Wind gust (FG2)  MIN Wind speed in 2m  \\\n",
       "0                    6.6                   7.0   \n",
       "1                    6.6                   7.0   \n",
       "2                    6.6                   7.0   \n",
       "3                    6.6                   7.0   \n",
       "4                    6.6                   7.0   \n",
       "..                   ...                   ...   \n",
       "595                  6.6                   7.0   \n",
       "596                  6.6                   7.0   \n",
       "597                  6.6                   7.0   \n",
       "598                  6.6                   7.0   \n",
       "599                  6.6                   7.0   \n",
       "\n",
       "     MAX Average temperature at 2m altitude (TM)  \\\n",
       "0                                           24.1   \n",
       "1                                           24.1   \n",
       "2                                           24.1   \n",
       "3                                           24.1   \n",
       "4                                           24.1   \n",
       "..                                           ...   \n",
       "595                                         24.1   \n",
       "596                                         24.1   \n",
       "597                                         24.1   \n",
       "598                                         24.1   \n",
       "599                                         24.1   \n",
       "\n",
       "     MAX Maximum air temperature at 2m altitude (TX)  \\\n",
       "0                                               33.1   \n",
       "1                                               33.1   \n",
       "2                                               33.1   \n",
       "3                                               33.1   \n",
       "4                                               33.1   \n",
       "..                                               ...   \n",
       "595                                             33.1   \n",
       "596                                             33.1   \n",
       "597                                             33.1   \n",
       "598                                             33.1   \n",
       "599                                             33.1   \n",
       "\n",
       "     MAX Minimum air temperature at 2m altitude (TN)  MAX Precipitation (RR)  \\\n",
       "0                                               18.3                    21.2   \n",
       "1                                               18.3                    21.2   \n",
       "2                                               18.3                    21.2   \n",
       "3                                               18.3                    21.2   \n",
       "4                                               18.3                    21.2   \n",
       "..                                               ...                     ...   \n",
       "595                                             18.3                    21.2   \n",
       "596                                             18.3                    21.2   \n",
       "597                                             18.3                    21.2   \n",
       "598                                             18.3                    21.2   \n",
       "599                                             18.3                    21.2   \n",
       "\n",
       "     MAX Relative humidity in 2m  MAX Relative humidity in 2m.1  \\\n",
       "0                           94.5                           99.9   \n",
       "1                           94.5                           99.9   \n",
       "2                           94.5                           99.9   \n",
       "3                           94.5                           99.9   \n",
       "4                           94.5                           99.9   \n",
       "..                           ...                            ...   \n",
       "595                         94.5                           99.9   \n",
       "596                         94.5                           99.9   \n",
       "597                         94.5                           99.9   \n",
       "598                         94.5                           99.9   \n",
       "599                         94.5                           99.9   \n",
       "\n",
       "     MAX Wind gust (FG2)  MAX Wind speed in 2m  \\\n",
       "0                   19.0                  19.5   \n",
       "1                   19.0                  19.5   \n",
       "2                   19.0                  19.5   \n",
       "3                   19.0                  19.5   \n",
       "4                   19.0                  19.5   \n",
       "..                   ...                   ...   \n",
       "595                 19.0                  19.5   \n",
       "596                 19.0                  19.5   \n",
       "597                 19.0                  19.5   \n",
       "598                 19.0                  19.5   \n",
       "599                 19.0                  19.5   \n",
       "\n",
       "     STD_DEV Average temperature at 2m altitude (TM)  \\\n",
       "0                                           4.155926   \n",
       "1                                           4.155926   \n",
       "2                                           4.155926   \n",
       "3                                           4.155926   \n",
       "4                                           4.155926   \n",
       "..                                               ...   \n",
       "595                                         4.155926   \n",
       "596                                         4.155926   \n",
       "597                                         4.155926   \n",
       "598                                         4.155926   \n",
       "599                                         4.155926   \n",
       "\n",
       "     STD_DEV Maximum air temperature at 2m altitude (TX)  \\\n",
       "0                                             5.043459     \n",
       "1                                             5.043459     \n",
       "2                                             5.043459     \n",
       "3                                             5.043459     \n",
       "4                                             5.043459     \n",
       "..                                                 ...     \n",
       "595                                           5.043459     \n",
       "596                                           5.043459     \n",
       "597                                           5.043459     \n",
       "598                                           5.043459     \n",
       "599                                           5.043459     \n",
       "\n",
       "     STD_DEV Minimum air temperature at 2m altitude (TN)  \\\n",
       "0                                             4.466206     \n",
       "1                                             4.466206     \n",
       "2                                             4.466206     \n",
       "3                                             4.466206     \n",
       "4                                             4.466206     \n",
       "..                                                 ...     \n",
       "595                                           4.466206     \n",
       "596                                           4.466206     \n",
       "597                                           4.466206     \n",
       "598                                           4.466206     \n",
       "599                                           4.466206     \n",
       "\n",
       "     STD_DEV Precipitation (RR)  STD_DEV Relative humidity in 2m  \\\n",
       "0                      4.678896                        13.428564   \n",
       "1                      4.678896                        13.428564   \n",
       "2                      4.678896                        13.428564   \n",
       "3                      4.678896                        13.428564   \n",
       "4                      4.678896                        13.428564   \n",
       "..                          ...                              ...   \n",
       "595                    4.678896                        13.428564   \n",
       "596                    4.678896                        13.428564   \n",
       "597                    4.678896                        13.428564   \n",
       "598                    4.678896                        13.428564   \n",
       "599                    4.678896                        13.428564   \n",
       "\n",
       "     STD_DEV Relative humidity in 2m.1  STD_DEV Wind gust (FG2)  \\\n",
       "0                             7.977854                 3.265996   \n",
       "1                             7.977854                 3.265996   \n",
       "2                             7.977854                 3.265996   \n",
       "3                             7.977854                 3.265996   \n",
       "4                             7.977854                 3.265996   \n",
       "..                                 ...                      ...   \n",
       "595                           7.977854                 3.265996   \n",
       "596                           7.977854                 3.265996   \n",
       "597                           7.977854                 3.265996   \n",
       "598                           7.977854                 3.265996   \n",
       "599                           7.977854                 3.265996   \n",
       "\n",
       "     STD_DEV Wind speed in 2m  \\\n",
       "0                    3.466024   \n",
       "1                    3.466024   \n",
       "2                    3.466024   \n",
       "3                    3.466024   \n",
       "4                    3.466024   \n",
       "..                        ...   \n",
       "595                  3.466024   \n",
       "596                  3.466024   \n",
       "597                  3.466024   \n",
       "598                  3.466024   \n",
       "599                  3.466024   \n",
       "\n",
       "     QUANTILE_25 Average temperature at 2m altitude (TM)  \\\n",
       "0                                                 12.3     \n",
       "1                                                 12.3     \n",
       "2                                                 12.3     \n",
       "3                                                 12.3     \n",
       "4                                                 12.3     \n",
       "..                                                 ...     \n",
       "595                                               12.3     \n",
       "596                                               12.3     \n",
       "597                                               12.3     \n",
       "598                                               12.3     \n",
       "599                                               12.3     \n",
       "\n",
       "     QUANTILE_25 Maximum air temperature at 2m altitude (TX)  \\\n",
       "0                                                17.75         \n",
       "1                                                17.75         \n",
       "2                                                17.75         \n",
       "3                                                17.75         \n",
       "4                                                17.75         \n",
       "..                                                 ...         \n",
       "595                                              17.75         \n",
       "596                                              17.75         \n",
       "597                                              17.75         \n",
       "598                                              17.75         \n",
       "599                                              17.75         \n",
       "\n",
       "     QUANTILE_25 Minimum air temperature at 2m altitude (TN)  \\\n",
       "0                                                  5.8         \n",
       "1                                                  5.8         \n",
       "2                                                  5.8         \n",
       "3                                                  5.8         \n",
       "4                                                  5.8         \n",
       "..                                                 ...         \n",
       "595                                                5.8         \n",
       "596                                                5.8         \n",
       "597                                                5.8         \n",
       "598                                                5.8         \n",
       "599                                                5.8         \n",
       "\n",
       "     QUANTILE_25 Precipitation (RR)  QUANTILE_25 Relative humidity in 2m  \\\n",
       "0                               0.0                                62.55   \n",
       "1                               0.0                                62.55   \n",
       "2                               0.0                                62.55   \n",
       "3                               0.0                                62.55   \n",
       "4                               0.0                                62.55   \n",
       "..                              ...                                  ...   \n",
       "595                             0.0                                62.55   \n",
       "596                             0.0                                62.55   \n",
       "597                             0.0                                62.55   \n",
       "598                             0.0                                62.55   \n",
       "599                             0.0                                62.55   \n",
       "\n",
       "     QUANTILE_25 Relative humidity in 2m.1  QUANTILE_25 Wind gust (FG2)  \\\n",
       "0                                    95.65                         11.2   \n",
       "1                                    95.65                         11.2   \n",
       "2                                    95.65                         11.2   \n",
       "3                                    95.65                         11.2   \n",
       "4                                    95.65                         11.2   \n",
       "..                                     ...                          ...   \n",
       "595                                  95.65                         11.2   \n",
       "596                                  95.65                         11.2   \n",
       "597                                  95.65                         11.2   \n",
       "598                                  95.65                         11.2   \n",
       "599                                  95.65                         11.2   \n",
       "\n",
       "     QUANTILE_25 Wind speed in 2m  \\\n",
       "0                           11.55   \n",
       "1                           11.55   \n",
       "2                           11.55   \n",
       "3                           11.55   \n",
       "4                           11.55   \n",
       "..                            ...   \n",
       "595                         11.55   \n",
       "596                         11.55   \n",
       "597                         11.55   \n",
       "598                         11.55   \n",
       "599                         11.55   \n",
       "\n",
       "     QUANTILE_50 Average temperature at 2m altitude (TM)  \\\n",
       "0                                                 14.8     \n",
       "1                                                 14.8     \n",
       "2                                                 14.8     \n",
       "3                                                 14.8     \n",
       "4                                                 14.8     \n",
       "..                                                 ...     \n",
       "595                                               14.8     \n",
       "596                                               14.8     \n",
       "597                                               14.8     \n",
       "598                                               14.8     \n",
       "599                                               14.8     \n",
       "\n",
       "     QUANTILE_50 Maximum air temperature at 2m altitude (TX)  \\\n",
       "0                                                 20.1         \n",
       "1                                                 20.1         \n",
       "2                                                 20.1         \n",
       "3                                                 20.1         \n",
       "4                                                 20.1         \n",
       "..                                                 ...         \n",
       "595                                               20.1         \n",
       "596                                               20.1         \n",
       "597                                               20.1         \n",
       "598                                               20.1         \n",
       "599                                               20.1         \n",
       "\n",
       "     QUANTILE_50 Minimum air temperature at 2m altitude (TN)  \\\n",
       "0                                                  9.3         \n",
       "1                                                  9.3         \n",
       "2                                                  9.3         \n",
       "3                                                  9.3         \n",
       "4                                                  9.3         \n",
       "..                                                 ...         \n",
       "595                                                9.3         \n",
       "596                                                9.3         \n",
       "597                                                9.3         \n",
       "598                                                9.3         \n",
       "599                                                9.3         \n",
       "\n",
       "     QUANTILE_50 Precipitation (RR)  QUANTILE_50 Relative humidity in 2m  \\\n",
       "0                               0.4                                 73.9   \n",
       "1                               0.4                                 73.9   \n",
       "2                               0.4                                 73.9   \n",
       "3                               0.4                                 73.9   \n",
       "4                               0.4                                 73.9   \n",
       "..                              ...                                  ...   \n",
       "595                             0.4                                 73.9   \n",
       "596                             0.4                                 73.9   \n",
       "597                             0.4                                 73.9   \n",
       "598                             0.4                                 73.9   \n",
       "599                             0.4                                 73.9   \n",
       "\n",
       "     QUANTILE_50 Relative humidity in 2m.1  QUANTILE_50 Wind gust (FG2)  \\\n",
       "0                                     98.8                         14.5   \n",
       "1                                     98.8                         14.5   \n",
       "2                                     98.8                         14.5   \n",
       "3                                     98.8                         14.5   \n",
       "4                                     98.8                         14.5   \n",
       "..                                     ...                          ...   \n",
       "595                                   98.8                         14.5   \n",
       "596                                   98.8                         14.5   \n",
       "597                                   98.8                         14.5   \n",
       "598                                   98.8                         14.5   \n",
       "599                                   98.8                         14.5   \n",
       "\n",
       "     QUANTILE_50 Wind speed in 2m  \\\n",
       "0                            15.2   \n",
       "1                            15.2   \n",
       "2                            15.2   \n",
       "3                            15.2   \n",
       "4                            15.2   \n",
       "..                            ...   \n",
       "595                          15.2   \n",
       "596                          15.2   \n",
       "597                          15.2   \n",
       "598                          15.2   \n",
       "599                          15.2   \n",
       "\n",
       "     QUANTILE_75 Average temperature at 2m altitude (TM)  \\\n",
       "0                                                 16.8     \n",
       "1                                                 16.8     \n",
       "2                                                 16.8     \n",
       "3                                                 16.8     \n",
       "4                                                 16.8     \n",
       "..                                                 ...     \n",
       "595                                               16.8     \n",
       "596                                               16.8     \n",
       "597                                               16.8     \n",
       "598                                               16.8     \n",
       "599                                               16.8     \n",
       "\n",
       "     QUANTILE_75 Maximum air temperature at 2m altitude (TX)  \\\n",
       "0                                                22.95         \n",
       "1                                                22.95         \n",
       "2                                                22.95         \n",
       "3                                                22.95         \n",
       "4                                                22.95         \n",
       "..                                                 ...         \n",
       "595                                              22.95         \n",
       "596                                              22.95         \n",
       "597                                              22.95         \n",
       "598                                              22.95         \n",
       "599                                              22.95         \n",
       "\n",
       "     QUANTILE_75 Minimum air temperature at 2m altitude (TN)  \\\n",
       "0                                                 11.5         \n",
       "1                                                 11.5         \n",
       "2                                                 11.5         \n",
       "3                                                 11.5         \n",
       "4                                                 11.5         \n",
       "..                                                 ...         \n",
       "595                                               11.5         \n",
       "596                                               11.5         \n",
       "597                                               11.5         \n",
       "598                                               11.5         \n",
       "599                                               11.5         \n",
       "\n",
       "     QUANTILE_75 Precipitation (RR)  QUANTILE_75 Relative humidity in 2m  \\\n",
       "0                          2.838274                                 84.0   \n",
       "1                          2.838274                                 84.0   \n",
       "2                          2.838274                                 84.0   \n",
       "3                          2.838274                                 84.0   \n",
       "4                          2.838274                                 84.0   \n",
       "..                              ...                                  ...   \n",
       "595                        2.838274                                 84.0   \n",
       "596                        2.838274                                 84.0   \n",
       "597                        2.838274                                 84.0   \n",
       "598                        2.838274                                 84.0   \n",
       "599                        2.838274                                 84.0   \n",
       "\n",
       "     QUANTILE_75 Relative humidity in 2m.1  QUANTILE_75 Wind gust (FG2)  \\\n",
       "0                                     99.9                        15.95   \n",
       "1                                     99.9                        15.95   \n",
       "2                                     99.9                        15.95   \n",
       "3                                     99.9                        15.95   \n",
       "4                                     99.9                        15.95   \n",
       "..                                     ...                          ...   \n",
       "595                                   99.9                        15.95   \n",
       "596                                   99.9                        15.95   \n",
       "597                                   99.9                        15.95   \n",
       "598                                   99.9                        15.95   \n",
       "599                                   99.9                        15.95   \n",
       "\n",
       "     QUANTILE_75 Wind speed in 2m  \n",
       "0                            16.8  \n",
       "1                            16.8  \n",
       "2                            16.8  \n",
       "3                            16.8  \n",
       "4                            16.8  \n",
       "..                            ...  \n",
       "595                          16.8  \n",
       "596                          16.8  \n",
       "597                          16.8  \n",
       "598                          16.8  \n",
       "599                          16.8  \n",
       "\n",
       "[600 rows x 120 columns]"
      ]
     },
     "execution_count": 67,
     "metadata": {},
     "output_type": "execute_result"
    }
   ],
   "source": [
    "Graminor_2019_Simps"
   ]
  },
  {
   "cell_type": "markdown",
   "metadata": {
    "ExecuteTime": {
     "end_time": "2021-10-11T00:23:07.734119Z",
     "start_time": "2021-10-11T00:23:07.721143Z"
    }
   },
   "source": [
    "## Summary of processed data"
   ]
  },
  {
   "cell_type": "code",
   "execution_count": 68,
   "metadata": {
    "ExecuteTime": {
     "end_time": "2021-12-03T17:51:26.575337Z",
     "start_time": "2021-12-03T17:51:26.465053Z"
    }
   },
   "outputs": [
    {
     "name": "stdout",
     "output_type": "stream",
     "text": [
      "Graminor_2019_Simps : Missing GrainYield : 1\n",
      "*************************\n",
      "Graminor_2020_Simps : Missing GrainYield : 1\n",
      "*************************\n",
      "Masbasis_2019_Simps : Missing GrainYield : 6\n",
      "*************************\n",
      "Masbasis_2020_Simps : Missing GrainYield : 116\n",
      "*************************\n",
      "No nan values found in any column in Robot_2020_Simps\n",
      "*************************\n",
      "No nan values found in any column in Staur_2019_Simps\n",
      "*************************\n",
      "Staur_2020_Simps : Missing GrainYield : 568\n",
      "*************************\n",
      "Graminor_2019_Trapz : Missing GrainYield : 1\n",
      "*************************\n",
      "Graminor_2020_Trapz : Missing GrainYield : 1\n",
      "*************************\n",
      "Masbasis_2019_Trapz : Missing GrainYield : 6\n",
      "*************************\n",
      "Masbasis_2020_Trapz : Missing GrainYield : 116\n",
      "*************************\n",
      "No nan values found in any column in Robot_2020_Trapz\n",
      "*************************\n",
      "No nan values found in any column in Staur_2019_Trapz\n",
      "*************************\n",
      "Staur_2020_Trapz : Missing GrainYield : 568\n",
      "*************************\n"
     ]
    }
   ],
   "source": [
    "for df in df_to_export:\n",
    "    temp_df = locals()[df].copy()\n",
    "    temp_cols = temp_df.columns.tolist()\n",
    "    # Bands, Indices, Plot_ID and GrainYield columns only\n",
    "    chk_cols = [x for x in temp_cols if x not in weather_cols_staur if x not in yield_cols]+['Plot_ID', 'GrainYield']\n",
    "    nan_found = False\n",
    "    for col in chk_cols:\n",
    "        if temp_df[col].isna().sum() > 0:\n",
    "            nan_found = True\n",
    "            print(df,': Missing', col,':', temp_df[col].isna().sum())\n",
    "    if not nan_found:\n",
    "        print(f'No nan values found in any column in {df}')\n",
    "    \n",
    "    print('*************************')"
   ]
  },
  {
   "cell_type": "code",
   "execution_count": 69,
   "metadata": {
    "ExecuteTime": {
     "end_time": "2021-12-03T17:51:26.586309Z",
     "start_time": "2021-12-03T17:51:26.579326Z"
    }
   },
   "outputs": [
    {
     "data": {
      "text/plain": [
       "['Graminor_2019_Simps',\n",
       " 'Graminor_2020_Simps',\n",
       " 'Masbasis_2019_Simps',\n",
       " 'Masbasis_2020_Simps',\n",
       " 'Robot_2020_Simps',\n",
       " 'Staur_2019_Simps',\n",
       " 'Staur_2020_Simps',\n",
       " 'Graminor_2019_Trapz',\n",
       " 'Graminor_2020_Trapz',\n",
       " 'Masbasis_2019_Trapz',\n",
       " 'Masbasis_2020_Trapz',\n",
       " 'Robot_2020_Trapz',\n",
       " 'Staur_2019_Trapz',\n",
       " 'Staur_2020_Trapz']"
      ]
     },
     "execution_count": 69,
     "metadata": {},
     "output_type": "execute_result"
    }
   ],
   "source": [
    "df_to_export"
   ]
  },
  {
   "cell_type": "markdown",
   "metadata": {},
   "source": [
    "# Creating Environment Variable to differentiate Vollebek and Staur"
   ]
  },
  {
   "cell_type": "code",
   "execution_count": 70,
   "metadata": {
    "ExecuteTime": {
     "end_time": "2021-12-03T17:51:26.618222Z",
     "start_time": "2021-12-03T17:51:26.587304Z"
    }
   },
   "outputs": [],
   "source": [
    "for df in df_to_export:\n",
    "    temp_df = locals()[df].copy()\n",
    "    if 'Staur' in df:\n",
    "        temp_df['Staur_Env'] = int(1)\n",
    "        temp_df['Vollebekk_Env'] = int(0)\n",
    "    else:\n",
    "        temp_df['Staur_Env'] = int(0)\n",
    "        temp_df['Vollebekk_Env'] = int(1)\n",
    "    locals()[df] = temp_df.copy()"
   ]
  },
  {
   "cell_type": "code",
   "execution_count": 71,
   "metadata": {
    "ExecuteTime": {
     "end_time": "2021-12-03T17:51:26.634182Z",
     "start_time": "2021-12-03T17:51:26.619224Z"
    },
    "scrolled": true
   },
   "outputs": [],
   "source": [
    "# Graminor_2020_Trapz"
   ]
  },
  {
   "cell_type": "markdown",
   "metadata": {},
   "source": [
    "# Converting Grain Yield g/sqm to tonn/hectre"
   ]
  },
  {
   "cell_type": "code",
   "execution_count": 72,
   "metadata": {
    "ExecuteTime": {
     "end_time": "2021-12-03T17:51:26.666096Z",
     "start_time": "2021-12-03T17:51:26.636182Z"
    }
   },
   "outputs": [],
   "source": [
    "# 1 Grams Per Square Meter to Tonnes Per Hectare = 0.01\n",
    "df_to_export_t_ha = []\n",
    "\n",
    "for df in df_to_export:\n",
    "    new_df = df+'_t_ha'\n",
    "    temp_df = locals()[df].copy()\n",
    "    temp_df['GrainYield'] = temp_df['GrainYield']*0.01\n",
    "    \n",
    "    locals()[new_df] = temp_df.copy()\n",
    "    df_to_export_t_ha.append(new_df)\n",
    "    \n",
    "#     print(locals()[new_df]['GrainYield'])"
   ]
  },
  {
   "cell_type": "markdown",
   "metadata": {},
   "source": [
    "# Dropping outliers based on zscore|"
   ]
  },
  {
   "cell_type": "code",
   "execution_count": 73,
   "metadata": {
    "ExecuteTime": {
     "end_time": "2021-12-03T17:51:27.660190Z",
     "start_time": "2021-12-03T17:51:26.667091Z"
    }
   },
   "outputs": [
    {
     "data": {
      "image/png": "[encoded data removed]",
      "text/plain": [
       "<Figure size 640x480 with 1 Axes>"
      ]
     },
     "metadata": {},
     "output_type": "display_data"
    },
    {
     "data": {
      "image/png": "[encoded data removed]",
      "text/plain": [
       "<Figure size 640x480 with 1 Axes>"
      ]
     },
     "metadata": {},
     "output_type": "display_data"
    }
   ],
   "source": [
    "from sklearn.preprocessing import StandardScaler\n",
    "from scipy.stats import zscore\n",
    "\n",
    "scaler = StandardScaler()\n",
    "temp_df = Staur_2019_Trapz\n",
    "temp_df_1 = scaler.fit_transform(X=temp_df[spectral_indices + base_indices].values)\n",
    "# plt.plot(temp_df.iloc[:,:25].values)\n",
    "# plt.plot(locals()[df].iloc[:,:25])\n",
    "plt.plot(zscore(temp_df['EVI']))\n",
    "plt.show()\n",
    "plt.plot(temp_df_1)\n",
    "plt.show()\n",
    "# plt.legend(locals()[df].columns)\n",
    "# plt.plot(temp_df_1)\n",
    "\n"
   ]
  },
  {
   "cell_type": "markdown",
   "metadata": {},
   "source": [
    "There were a few outliers in EVI in Staur_2019 dataset which were more than 10 std dev away from mean. So a crieteria is being set to drop all values which are more than 3 std dev away from the mean."
   ]
  },
  {
   "cell_type": "markdown",
   "metadata": {},
   "source": [
    "## Dropping Outliers"
   ]
  },
  {
   "cell_type": "code",
   "execution_count": 89,
   "metadata": {
    "ExecuteTime": {
     "end_time": "2021-12-03T17:53:19.676178Z",
     "start_time": "2021-12-03T17:53:18.781146Z"
    }
   },
   "outputs": [
    {
     "name": "stdout",
     "output_type": "stream",
     "text": [
      "0 rows, of 431 , i.e. 0.00 % dropped in  Graminor_2019_Simps_t_ha\n",
      "0 rows, of 732 , i.e. 0.00 % dropped in  Graminor_2020_Simps_t_ha\n",
      "0 rows, of 477 , i.e. 0.00 % dropped in  Masbasis_2019_Simps_t_ha\n",
      "0 rows, of 441 , i.e. 0.00 % dropped in  Masbasis_2020_Simps_t_ha\n",
      "0 rows, of 92 , i.e. 0.00 % dropped in  Robot_2020_Simps_t_ha\n",
      "0 rows, of 1196 , i.e. 0.00 % dropped in  Staur_2019_Simps_t_ha\n",
      "0 rows, of 1416 , i.e. 0.00 % dropped in  Staur_2020_Simps_t_ha\n",
      "0 rows, of 417 , i.e. 0.00 % dropped in  Graminor_2019_Trapz_t_ha\n",
      "0 rows, of 736 , i.e. 0.00 % dropped in  Graminor_2020_Trapz_t_ha\n",
      "0 rows, of 477 , i.e. 0.00 % dropped in  Masbasis_2019_Trapz_t_ha\n",
      "0 rows, of 449 , i.e. 0.00 % dropped in  Masbasis_2020_Trapz_t_ha\n",
      "0 rows, of 92 , i.e. 0.00 % dropped in  Robot_2020_Trapz_t_ha\n",
      "0 rows, of 1210 , i.e. 0.00 % dropped in  Staur_2019_Trapz_t_ha\n",
      "0 rows, of 1368 , i.e. 0.00 % dropped in  Staur_2020_Trapz_t_ha\n"
     ]
    }
   ],
   "source": [
    "from scipy.stats import zscore\n",
    "from sklearn.preprocessing import StandardScaler\n",
    "\n",
    "environment_var = weather_cols_vollebekk + ['Staur_Env', 'Vollebekk_Env']\n",
    "\n",
    "drop_thres = 3\n",
    "\n",
    "df_to_export_zdrop = []\n",
    "\n",
    "for df in df_to_export_t_ha:\n",
    "    new_df = df[:-5]+'_zscr'\n",
    "    temp_df = locals()[df].copy()\n",
    "    temp_df_z = locals()[df].copy()\n",
    "    for col in temp_df.columns:\n",
    "        # Checking if the column is not a yield column\n",
    "        if col not in yield_cols+environment_var:\n",
    "            # Calculating z score for temp_df_z dataset\n",
    "            temp_df_z[col] = zscore(temp_df_z[col])\n",
    "    \n",
    "            # listing entries which are more than the threshold value for zscore\n",
    "            drop_entries = temp_df_z[(temp_df_z[col] > drop_thres) | (temp_df_z[col] < -drop_thres)].index \n",
    "            \n",
    "            # Using the values in temp_df_z, checking those which are more than 3 std dev away from mean\n",
    "            # and dropping them in temp_df and temp_df_z for as well for consistency\n",
    "            temp_df.drop(drop_entries, inplace=True)\n",
    "            temp_df_z.drop(drop_entries, inplace=True)\n",
    "            \n",
    "    dropped_rows = locals()[df].shape[0] - temp_df.shape[0]\n",
    "    print(dropped_rows, 'rows, of', locals()[df].shape[0],', i.e.',(\"%0.2f\" % ((dropped_rows/locals()[df].shape[0])*100)),'% dropped in ', df)\n",
    "    \n",
    "#     locals()[df] = temp_df.copy()\n",
    "    locals()[new_df] = temp_df.copy()\n",
    "    df_to_export_zdrop.append(new_df)\n",
    "#     print(df)"
   ]
  },
  {
   "cell_type": "markdown",
   "metadata": {},
   "source": [
    "## Status after dropping outliers"
   ]
  },
  {
   "cell_type": "code",
   "execution_count": 90,
   "metadata": {
    "ExecuteTime": {
     "end_time": "2021-12-03T17:53:21.844486Z",
     "start_time": "2021-12-03T17:53:21.509810Z"
    }
   },
   "outputs": [
    {
     "data": {
      "image/png": "[encoded data removed]",
      "text/plain": [
       "<Figure size 640x480 with 1 Axes>"
      ]
     },
     "metadata": {},
     "output_type": "display_data"
    },
    {
     "data": {
      "image/png": "[encoded data removed]",
      "text/plain": [
       "<Figure size 640x480 with 1 Axes>"
      ]
     },
     "metadata": {},
     "output_type": "display_data"
    }
   ],
   "source": [
    "from sklearn.preprocessing import StandardScaler\n",
    "\n",
    "scaler = StandardScaler()\n",
    "temp_df = Staur_2019_Trapz_zscr\n",
    "temp_df_1 = scaler.fit_transform(X=temp_df[spectral_indices + base_indices].values)\n",
    "plt.plot(temp_df[spectral_indices + base_indices].values)\n",
    "plt.show()\n",
    "# plt.plot(locals()[df].iloc[:,:25])\n",
    "plt.plot(zscore(locals()[df]['EVI']))\n",
    "# plt.legend(locals()[df].columns)\n",
    "# plt.plot(temp_df_1)\n",
    "\n",
    "plt.show()"
   ]
  },
  {
   "cell_type": "code",
   "execution_count": 91,
   "metadata": {
    "ExecuteTime": {
     "end_time": "2021-12-03T17:53:22.421349Z",
     "start_time": "2021-12-03T17:53:21.914665Z"
    }
   },
   "outputs": [
    {
     "data": {
      "image/png": "[encoded data removed]",
      "text/plain": [
       "<Figure size 640x480 with 1 Axes>"
      ]
     },
     "metadata": {},
     "output_type": "display_data"
    },
    {
     "data": {
      "image/png": "[encoded data removed]",
      "text/plain": [
       "<Figure size 640x480 with 1 Axes>"
      ]
     },
     "metadata": {},
     "output_type": "display_data"
    }
   ],
   "source": [
    "from sklearn.preprocessing import StandardScaler\n",
    "from scipy.stats import zscore\n",
    "\n",
    "scaler = StandardScaler()\n",
    "temp_df = Staur_2019_Trapz_zscr\n",
    "temp_df_1 = scaler.fit_transform(X=temp_df[spectral_indices + base_indices].values)\n",
    "# plt.plot(temp_df.iloc[:,:25].values)\n",
    "# plt.plot(locals()[df].iloc[:,:25])\n",
    "plt.plot(zscore(temp_df['EVI']))\n",
    "plt.show()\n",
    "plt.plot(temp_df_1)\n",
    "plt.show()\n",
    "# plt.legend(locals()[df].columns)\n",
    "# plt.plot(temp_df_1)\n",
    "\n"
   ]
  },
  {
   "cell_type": "markdown",
   "metadata": {},
   "source": [
    "# Exporting data for modeling"
   ]
  },
  {
   "cell_type": "code",
   "execution_count": null,
   "metadata": {},
   "outputs": [],
   "source": []
  },
  {
   "cell_type": "code",
   "execution_count": 92,
   "metadata": {
    "ExecuteTime": {
     "end_time": "2021-12-03T17:53:25.644078Z",
     "start_time": "2021-12-03T17:53:24.681902Z"
    }
   },
   "outputs": [],
   "source": [
    "os.makedirs(export_path, exist_ok=True)\n",
    "for df in df_to_export_zdrop:\n",
    "    locals()[df].to_csv(export_path+df[:-5]+'.csv', index=False)"
   ]
  },
  {
   "cell_type": "markdown",
   "metadata": {},
   "source": [
    "# END OF SECTION"
   ]
  },
  {
   "cell_type": "code",
   "execution_count": 78,
   "metadata": {
    "ExecuteTime": {
     "end_time": "2021-10-19T23:33:13.235046Z",
     "start_time": "2021-10-19T23:33:13.135451Z"
    }
   },
   "outputs": [
    {
     "ename": "NameError",
     "evalue": "name 'ERROR' is not defined",
     "output_type": "error",
     "traceback": [
      "\u001b[1;31m---------------------------------------------------------------------------\u001b[0m",
      "\u001b[1;31mNameError\u001b[0m                                 Traceback (most recent call last)",
      "\u001b[1;32m<ipython-input-78-709c7506b170>\u001b[0m in \u001b[0;36m<module>\u001b[1;34m\u001b[0m\n\u001b[1;32m----> 1\u001b[1;33m \u001b[0mERROR\u001b[0m\u001b[1;33m\u001b[0m\u001b[1;33m\u001b[0m\u001b[0m\n\u001b[0m",
      "\u001b[1;31mNameError\u001b[0m: name 'ERROR' is not defined"
     ]
    }
   ],
   "source": [
    "ERROR"
   ]
  },
  {
   "cell_type": "markdown",
   "metadata": {},
   "source": [
    "# Import Genomics Data"
   ]
  },
  {
   "cell_type": "code",
   "execution_count": null,
   "metadata": {
    "ExecuteTime": {
     "end_time": "2021-10-19T23:33:13.238039Z",
     "start_time": "2021-10-19T23:33:09.686Z"
    }
   },
   "outputs": [],
   "source": [
    "genomics_data"
   ]
  },
  {
   "cell_type": "markdown",
   "metadata": {},
   "source": [
    "## Importing Genomics Data"
   ]
  },
  {
   "cell_type": "code",
   "execution_count": null,
   "metadata": {
    "ExecuteTime": {
     "end_time": "2021-10-19T23:33:13.239035Z",
     "start_time": "2021-10-19T23:33:10.213Z"
    }
   },
   "outputs": [],
   "source": [
    "# If the dataset had Days 2 heading and days to maturity columns then create the\n",
    "# following dictionary with the respective sowing dates of each field as value\n",
    "\n",
    "for df in all_df:\n",
    "    temp_df = locals()[df].copy()\n",
    "    field_temp = df.split('_')[0]+'_'+df.split('_')[1]\n",
    "    if 'Line' in temp_df.columns:\n",
    "        print(df)\n",
    "#         all_df_dates_filtered[df] = sowing_dict[field_temp]\n",
    "# all_df_dates_filtered"
   ]
  },
  {
   "cell_type": "code",
   "execution_count": null,
   "metadata": {
    "ExecuteTime": {
     "end_time": "2021-10-19T23:33:13.241030Z",
     "start_time": "2021-10-19T23:33:10.216Z"
    }
   },
   "outputs": [],
   "source": [
    "# Importing Yield data with line information"
   ]
  },
  {
   "cell_type": "code",
   "execution_count": null,
   "metadata": {
    "ExecuteTime": {
     "end_time": "2021-10-19T23:33:13.242028Z",
     "start_time": "2021-10-19T23:33:10.220Z"
    }
   },
   "outputs": [],
   "source": [
    "# Vollebekk 2019: Graminor_2019_x_19TvPhenores_x_Vollebekk_res\n",
    "# Masbasis 2020: Masbasis_x_20BMLGI1_2020_tm_x_data\n",
    "# Robot 2020: Robot_x_ROBOT_2020_x_raw\n",
    "# Masbasis 2019: Masbasis_2019_x_Field_data_2019"
   ]
  },
  {
   "cell_type": "code",
   "execution_count": null,
   "metadata": {
    "ExecuteTime": {
     "end_time": "2021-10-19T23:33:13.244022Z",
     "start_time": "2021-10-19T23:33:10.224Z"
    }
   },
   "outputs": [],
   "source": [
    "a_file = open(main_path+'yield_df.json', \"r\")\n",
    "output_str = a_file.read()\n",
    "# The file is imported as string\n",
    "\n",
    "# Converting it to dictionary\n",
    "output_dict = json.loads(output_str)\n",
    "a_file.close()\n",
    "\n",
    "pprint(output_dict)"
   ]
  },
  {
   "cell_type": "markdown",
   "metadata": {},
   "source": [
    "### Checking number of unique cultivars in the field"
   ]
  },
  {
   "cell_type": "code",
   "execution_count": null,
   "metadata": {
    "ExecuteTime": {
     "end_time": "2021-10-19T23:33:13.246017Z",
     "start_time": "2021-10-19T23:33:10.753Z"
    }
   },
   "outputs": [],
   "source": [
    "# plots_data = pd.read_excel(files_with_address[0],engine='openpyxl')\n",
    "# # Pandas converts 'NA' string to NaN. Need to change those to \n",
    "# # some string to get a count as NaNs are not counted as unique values\n",
    "\n",
    "# plots_data.Name.fillna('-', inplace=True)\n",
    "# plots_data.CodeName.fillna('-', inplace=True)\n",
    "\n",
    "# # Creating a new column as multiple plots were named 'NA' but the \n",
    "# # CodeName was different for each one of them\n",
    "# plots_data['NameCode'] = plots_data.Name+plots_data.CodeName\n",
    "\n",
    "# plots_data\n",
    "# len(plots_data.NameCode.unique())\n",
    "# plots_data.NameCode.value_counts()\n",
    "# # plots_data.NameCode.value_counts().sum()\n",
    "# # plots_data"
   ]
  },
  {
   "cell_type": "code",
   "execution_count": null,
   "metadata": {},
   "outputs": [],
   "source": []
  },
  {
   "cell_type": "code",
   "execution_count": null,
   "metadata": {},
   "outputs": [],
   "source": []
  },
  {
   "cell_type": "code",
   "execution_count": null,
   "metadata": {},
   "outputs": [],
   "source": []
  },
  {
   "cell_type": "code",
   "execution_count": null,
   "metadata": {},
   "outputs": [],
   "source": []
  },
  {
   "cell_type": "code",
   "execution_count": null,
   "metadata": {},
   "outputs": [],
   "source": []
  },
  {
   "cell_type": "markdown",
   "metadata": {},
   "source": [
    "# ToDo: Dropping NAN"
   ]
  },
  {
   "cell_type": "markdown",
   "metadata": {},
   "source": [
    "## Finding NAN values\n",
    "### ToDo: Test: Raise error if missing values found"
   ]
  },
  {
   "cell_type": "code",
   "execution_count": null,
   "metadata": {
    "ExecuteTime": {
     "end_time": "2021-10-19T23:33:13.247015Z",
     "start_time": "2021-10-19T23:33:11.813Z"
    }
   },
   "outputs": [],
   "source": [
    "# Finding number of missing values in each dataframe\n",
    "df_with_nan = []\n",
    "missing_values = False\n",
    "for df in all_df:\n",
    "    if locals()[df].isna().sum().sum() > 0:\n",
    "        print(f'Total missing values in {df} are {locals()[df].isna().sum().sum()}')\n",
    "        missing_values = True\n",
    "        df_with_nan.append(df)\n",
    "#     if len(df_with_nan) > 0:\n",
    "#         raise ValueError\n",
    "if not missing_values:\n",
    "    print('No missing value found in any dataframe')"
   ]
  },
  {
   "cell_type": "code",
   "execution_count": null,
   "metadata": {
    "ExecuteTime": {
     "end_time": "2021-10-19T23:33:13.249009Z",
     "start_time": "2021-10-19T23:33:11.816Z"
    }
   },
   "outputs": [],
   "source": [
    "Graminor_2019_all.isnull().sum().sort_values()"
   ]
  },
  {
   "cell_type": "code",
   "execution_count": null,
   "metadata": {
    "ExecuteTime": {
     "end_time": "2021-10-19T23:33:13.250007Z",
     "start_time": "2021-10-19T23:33:11.819Z"
    },
    "scrolled": true
   },
   "outputs": [],
   "source": [
    "df_with_nan"
   ]
  },
  {
   "cell_type": "code",
   "execution_count": null,
   "metadata": {
    "ExecuteTime": {
     "end_time": "2021-10-19T23:33:13.252001Z",
     "start_time": "2021-10-19T23:33:11.821Z"
    }
   },
   "outputs": [],
   "source": [
    "# Finding which column has NAN values\n",
    "for df in df_with_nan:\n",
    "    print(f'{df}:\\n {locals()[df].shape[1]-locals()[df].dropna(axis=1).shape[1]} columns or {locals()[df].shape[0]-locals()[df].dropna().shape[0]} rows to be dropped,')"
   ]
  },
  {
   "cell_type": "markdown",
   "metadata": {},
   "source": [
    "## ToDo: Automate: Drop rows with missing values in df_with_nan"
   ]
  },
  {
   "cell_type": "code",
   "execution_count": null,
   "metadata": {
    "ExecuteTime": {
     "end_time": "2021-10-19T23:33:13.253089Z",
     "start_time": "2021-10-19T23:33:12.370Z"
    }
   },
   "outputs": [],
   "source": [
    "print(f'{Graminor_eastwest_020719_NIR_half_missing.shape} Before dropping')\n",
    "# Graminor_eastwest_020719_NIR_half_missing.dropna(inplace=True)\n",
    "print(f'{Graminor_eastwest_020719_NIR_half_missing.shape} After dropping')\n"
   ]
  },
  {
   "cell_type": "markdown",
   "metadata": {},
   "source": [
    "## ORRR"
   ]
  },
  {
   "cell_type": "markdown",
   "metadata": {},
   "source": [
    "## ToDo: Droppping df with Nan from the all_df_std"
   ]
  },
  {
   "cell_type": "code",
   "execution_count": null,
   "metadata": {
    "ExecuteTime": {
     "end_time": "2021-10-19T23:33:13.497738Z",
     "start_time": "2021-10-19T23:33:13.466468Z"
    }
   },
   "outputs": [],
   "source": [
    "print(f'Number of items in all_df is {len(all_df)}')"
   ]
  },
  {
   "cell_type": "code",
   "execution_count": null,
   "metadata": {
    "ExecuteTime": {
     "end_time": "2021-10-19T23:33:13.515424Z",
     "start_time": "2021-10-19T23:33:13.499734Z"
    },
    "scrolled": false
   },
   "outputs": [],
   "source": [
    "# for df in df_with_nan:\n",
    "#     all_df.remove(df)"
   ]
  },
  {
   "cell_type": "markdown",
   "metadata": {},
   "source": [
    "###  ToDo: Update field_year_dict and sorted_field_year_dict after dropping the dataset"
   ]
  },
  {
   "cell_type": "code",
   "execution_count": null,
   "metadata": {
    "ExecuteTime": {
     "end_time": "2021-10-19T23:33:13.935156Z",
     "start_time": "2021-10-19T23:33:13.923190Z"
    }
   },
   "outputs": [],
   "source": [
    "print(f'Number of items in all_df now is {len(all_df)}')"
   ]
  }
 ],
 "metadata": {
  "hide_input": false,
  "kernelspec": {
   "display_name": "Python 3",
   "language": "python",
   "name": "python3"
  },
  "language_info": {
   "codemirror_mode": {
    "name": "ipython",
    "version": 3
   },
   "file_extension": ".py",
   "mimetype": "text/x-python",
   "name": "python",
   "nbconvert_exporter": "python",
   "pygments_lexer": "ipython3",
   "version": "3.8.8"
  },
  "toc": {
   "base_numbering": 1,
   "nav_menu": {},
   "number_sections": true,
   "sideBar": true,
   "skip_h1_title": false,
   "title_cell": "Table of Contents",
   "title_sidebar": "Contents",
   "toc_cell": false,
   "toc_position": {
    "height": "calc(100% - 180px)",
    "left": "10px",
    "top": "150px",
    "width": "325.417px"
   },
   "toc_section_display": true,
   "toc_window_display": true
  },
  "varInspector": {
   "cols": {
    "lenName": 16,
    "lenType": 16,
    "lenVar": 40
   },
   "kernels_config": {
    "python": {
     "delete_cmd_postfix": "",
     "delete_cmd_prefix": "del ",
     "library": "var_list.py",
     "varRefreshCmd": "print(var_dic_list())"
    },
    "r": {
     "delete_cmd_postfix": ") ",
     "delete_cmd_prefix": "rm(",
     "library": "var_list.r",
     "varRefreshCmd": "cat(var_dic_list()) "
    }
   },
   "types_to_exclude": [
    "module",
    "function",
    "builtin_function_or_method",
    "instance",
    "_Feature"
   ],
   "window_display": false
  }
 },
 "nbformat": 4,
 "nbformat_minor": 2
}

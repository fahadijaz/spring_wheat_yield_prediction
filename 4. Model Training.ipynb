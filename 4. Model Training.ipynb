{
 "cells": [
  {
   "cell_type": "markdown",
   "id": "fuzzy-italian",
   "metadata": {},
   "source": [
    "# DROP ROBOT FROM MODELS"
   ]
  },
  {
   "cell_type": "code",
   "execution_count": null,
   "id": "casual-insider",
   "metadata": {},
   "outputs": [],
   "source": []
  },
  {
   "cell_type": "markdown",
   "id": "105acfb2",
   "metadata": {},
   "source": [
    "# Data Import"
   ]
  },
  {
   "cell_type": "code",
   "execution_count": 129,
   "id": "average-columbia",
   "metadata": {
    "ExecuteTime": {
     "end_time": "2021-10-20T11:07:08.711032Z",
     "start_time": "2021-10-20T11:07:08.704040Z"
    }
   },
   "outputs": [
    {
     "name": "stdout",
     "output_type": "stream",
     "text": [
      "Wall time: 0 ns\n"
     ]
    }
   ],
   "source": [
    "%%time\n",
    "\n",
    "import os\n",
    "import math\n",
    "import datetime\n",
    "import numpy as np\n",
    "import pandas as pd\n",
    "from copy import copy\n",
    "from tqdm import tqdm\n",
    "\n",
    "# Dictionaries\n",
    "import json\n",
    "from pprint import pprint\n",
    "\n",
    "# Iterate in loops\n",
    "import itertools\n",
    "from itertools import zip_longest\n",
    "\n",
    "# Simpsons integration\n",
    "from numpy import trapz\n",
    "from scipy.integrate import simps\n",
    "\n",
    "# Visualisation\n",
    "import seaborn as sns\n",
    "import matplotlib.pyplot as plt\n",
    "\n",
    "# To display df nicely in loops\n",
    "from IPython.display import display \n",
    "# display(df1.head()) \n",
    "# display(df2.head())\n",
    "\n",
    "# Display rows and columns Pandas\n",
    "pd.options.display.max_columns = 100\n",
    "pd.set_option('display.max_rows',100)\n",
    "\n",
    "# # For displaying max rows in series\n",
    "# pd.options.display.max_rows = 10"
   ]
  },
  {
   "cell_type": "code",
   "execution_count": 130,
   "id": "e62a5621",
   "metadata": {
    "ExecuteTime": {
     "end_time": "2021-10-20T11:07:08.721992Z",
     "start_time": "2021-10-20T11:07:08.713015Z"
    }
   },
   "outputs": [],
   "source": [
    "import os\n",
    "import pandas as pd\n",
    "import numpy as np\n",
    "\n",
    "import seaborn as sns\n",
    "import matplotlib.pyplot as plt\n",
    "\n",
    "from sklearn.model_selection import train_test_split\n",
    "from sklearn.preprocessing import StandardScaler\n",
    "from sklearn.cross_decomposition import PLSRegression\n",
    "\n",
    "from sklearn.model_selection import cross_validate\n",
    "from sklearn.model_selection import cross_val_score\n",
    "from sklearn.model_selection import GridSearchCV\n",
    "\n",
    "from sklearn import metrics\n",
    "from sklearn.metrics import explained_variance_score\n",
    "from sklearn.metrics import max_error\n",
    "from sklearn.metrics import mean_absolute_error\n",
    "from sklearn.metrics import mean_squared_error\n",
    "from sklearn.metrics import mean_squared_log_error\n",
    "from sklearn.metrics import median_absolute_error\n",
    "from sklearn.metrics import r2_score\n",
    "from sklearn.metrics import mean_poisson_deviance\n",
    "from sklearn.metrics import mean_gamma_deviance"
   ]
  },
  {
   "cell_type": "code",
   "execution_count": 131,
   "id": "2d066e93",
   "metadata": {
    "ExecuteTime": {
     "end_time": "2021-10-20T11:07:08.729970Z",
     "start_time": "2021-10-20T11:07:08.723987Z"
    }
   },
   "outputs": [
    {
     "data": {
      "text/plain": [
       "'C:\\\\Users\\\\fahad\\\\MegaSync\\\\NMBU\\\\GitHub\\\\vPheno'"
      ]
     },
     "execution_count": 131,
     "metadata": {},
     "output_type": "execute_result"
    }
   ],
   "source": [
    "# Prints the current working directory\n",
    "os.getcwd()\n",
    "# os.listdir()"
   ]
  },
  {
   "cell_type": "markdown",
   "id": "e796c4ee",
   "metadata": {},
   "source": [
    "## Finding Username folder to make general path for multi PC use"
   ]
  },
  {
   "cell_type": "code",
   "execution_count": 132,
   "id": "a5204388",
   "metadata": {
    "ExecuteTime": {
     "end_time": "2021-10-20T11:07:08.824983Z",
     "start_time": "2021-10-20T11:07:08.820017Z"
    }
   },
   "outputs": [
    {
     "data": {
      "text/plain": [
       "('fahad', 'C:/Users/fahad/')"
      ]
     },
     "execution_count": 132,
     "metadata": {},
     "output_type": "execute_result"
    }
   ],
   "source": [
    "username = str(os.getcwd()).split('\\\\')[2]\n",
    "user_path = r'C:/Users/'+username+'/'\n",
    "username, user_path"
   ]
  },
  {
   "cell_type": "markdown",
   "id": "9a708728",
   "metadata": {},
   "source": [
    "## Importing Data"
   ]
  },
  {
   "cell_type": "code",
   "execution_count": 133,
   "id": "448c66bf",
   "metadata": {
    "ExecuteTime": {
     "end_time": "2021-10-20T11:07:08.937327Z",
     "start_time": "2021-10-20T11:07:08.928460Z"
    }
   },
   "outputs": [
    {
     "data": {
      "text/plain": [
       "['Graminor_2019_Simps.csv',\n",
       " 'Graminor_2019_Trapz.csv',\n",
       " 'Graminor_2020_Simps.csv',\n",
       " 'Graminor_2020_Trapz.csv',\n",
       " 'Masbasis_2019_Simps.csv',\n",
       " 'Masbasis_2019_Trapz.csv',\n",
       " 'Masbasis_2020_Simps.csv',\n",
       " 'Masbasis_2020_Trapz.csv',\n",
       " 'Robot_2020_Simps.csv',\n",
       " 'Robot_2020_Trapz.csv',\n",
       " 'Staur_2019_Simps.csv',\n",
       " 'Staur_2019_Trapz.csv',\n",
       " 'Staur_2020_Simps.csv',\n",
       " 'Staur_2020_Trapz.csv']"
      ]
     },
     "execution_count": 133,
     "metadata": {},
     "output_type": "execute_result"
    }
   ],
   "source": [
    "main_path = r'./Data/'\n",
    "# path = r'./Data/3. merged data/'\n",
    "path = r'./Data/3. merged data/'\n",
    "export_path = './Data/4. results/'\n",
    "\n",
    "\n",
    "# Create export_path folder if not exists already\n",
    "os.makedirs(path, exist_ok=True)\n",
    "os.makedirs(export_path, exist_ok=True)\n",
    "\n",
    "os.listdir(path)"
   ]
  },
  {
   "cell_type": "code",
   "execution_count": 134,
   "id": "disturbed-interval",
   "metadata": {
    "ExecuteTime": {
     "end_time": "2021-10-20T11:07:08.945305Z",
     "start_time": "2021-10-20T11:07:08.939319Z"
    }
   },
   "outputs": [],
   "source": [
    "# Making dictionary of files in each folder, in case there are multiple types of data\n",
    "dict_paths = {}\n",
    "def explore(starting_path):\n",
    "    for dirpath, dirnames, filenames in os.walk(starting_path):\n",
    "        dict_paths[dirpath.split('/')[-2]] = filenames\n",
    "#     pprint(dict_paths)\n",
    "explore(path)"
   ]
  },
  {
   "cell_type": "markdown",
   "id": "aede1524",
   "metadata": {},
   "source": [
    "# Data Preparation\n",
    "## Creating list of complete files"
   ]
  },
  {
   "cell_type": "code",
   "execution_count": 135,
   "id": "mighty-atlas",
   "metadata": {
    "ExecuteTime": {
     "end_time": "2021-10-20T11:07:09.061680Z",
     "start_time": "2021-10-20T11:07:09.053702Z"
    },
    "scrolled": true
   },
   "outputs": [
    {
     "name": "stdout",
     "output_type": "stream",
     "text": [
      "14 files found in the directory\n"
     ]
    },
    {
     "data": {
      "text/plain": [
       "['Graminor_2019_Simps.csv',\n",
       " 'Graminor_2019_Trapz.csv',\n",
       " 'Graminor_2020_Simps.csv',\n",
       " 'Graminor_2020_Trapz.csv',\n",
       " 'Masbasis_2019_Simps.csv',\n",
       " 'Masbasis_2019_Trapz.csv',\n",
       " 'Masbasis_2020_Simps.csv',\n",
       " 'Masbasis_2020_Trapz.csv',\n",
       " 'Robot_2020_Simps.csv',\n",
       " 'Robot_2020_Trapz.csv',\n",
       " 'Staur_2019_Simps.csv',\n",
       " 'Staur_2019_Trapz.csv',\n",
       " 'Staur_2020_Simps.csv',\n",
       " 'Staur_2020_Trapz.csv']"
      ]
     },
     "execution_count": 135,
     "metadata": {},
     "output_type": "execute_result"
    }
   ],
   "source": [
    "# Get the list of all files in directory tree at given path\n",
    "\n",
    "files_with_address = []\n",
    "files_list = []\n",
    "\n",
    "for (dirpath, dirnames, filenames) in os.walk(path):\n",
    "    files_with_address += [os.path.join(dirpath, file) for file in filenames]\n",
    "    files_list.extend(filenames)\n",
    "    \n",
    "print(len(files_with_address), 'files found in the directory')\n",
    "# files_with_address\n",
    "files_list"
   ]
  },
  {
   "cell_type": "markdown",
   "id": "abeebb14",
   "metadata": {},
   "source": [
    "# Data Checking/control"
   ]
  },
  {
   "cell_type": "markdown",
   "id": "ee84d976",
   "metadata": {
    "run_control": {
     "marked": true
    }
   },
   "source": [
    "## Check for duplicate filenames"
   ]
  },
  {
   "cell_type": "code",
   "execution_count": 136,
   "id": "2affa906",
   "metadata": {
    "ExecuteTime": {
     "end_time": "2021-10-20T11:07:09.354695Z",
     "start_time": "2021-10-20T11:07:09.347713Z"
    }
   },
   "outputs": [
    {
     "name": "stdout",
     "output_type": "stream",
     "text": [
      "Total number of files are : 14\n",
      "Number of unique file names are: 14\n",
      "There is/are 0 duplicate file name/names.\n"
     ]
    }
   ],
   "source": [
    "print('Total number of files are :', len(files_list))\n",
    "\n",
    "print('Number of unique file names are:', len(set(files_list)))\n",
    "\n",
    "print('There is/are', len(files_list) - len(set(files_list)),'duplicate file name/names.')\n",
    "if len(files_list) - len(set(files_list)) > 0:\n",
    "    raise NameError"
   ]
  },
  {
   "cell_type": "markdown",
   "id": "a0f118d1",
   "metadata": {},
   "source": [
    "# Importing data files to Pandas"
   ]
  },
  {
   "cell_type": "code",
   "execution_count": 137,
   "id": "ad948136",
   "metadata": {
    "ExecuteTime": {
     "end_time": "2021-10-20T11:07:10.016986Z",
     "start_time": "2021-10-20T11:07:09.469388Z"
    }
   },
   "outputs": [
    {
     "name": "stdout",
     "output_type": "stream",
     "text": [
      "Graminor_2019_Simps ===== (600, 143)\n",
      "Graminor_2019_Trapz ===== (600, 143)\n",
      "Graminor_2020_Simps ===== (800, 143)\n",
      "Graminor_2020_Trapz ===== (800, 143)\n",
      "Masbasis_2019_Simps ===== (528, 144)\n",
      "Masbasis_2019_Trapz ===== (528, 144)\n",
      "Masbasis_2020_Simps ===== (659, 146)\n",
      "Masbasis_2020_Trapz ===== (659, 146)\n",
      "Robot_2020_Simps ===== (96, 145)\n",
      "Robot_2020_Trapz ===== (96, 145)\n",
      "Staur_2019_Simps ===== (1328, 127)\n",
      "Staur_2019_Trapz ===== (1328, 127)\n",
      "Staur_2020_Simps ===== (1504, 124)\n",
      "Staur_2020_Trapz ===== (1504, 124)\n",
      "Wall time: 542 ms\n"
     ]
    }
   ],
   "source": [
    "   \n",
    "%%time\n",
    "\n",
    "all_df = []\n",
    "for data in files_with_address:\n",
    "    file_name = os.path.splitext(os.path.basename(data))[0]\n",
    "\n",
    "    # Replce all invalid characters in the name\n",
    "    file_name = file_name.replace(\" \", \"_\")\n",
    "    file_name = file_name.replace(\"-\", \"_\")\n",
    "    file_name = file_name.replace(\")\", \"\")\n",
    "    file_name = file_name.replace(\"(\", \"\")\n",
    "    df_name = file_name.replace(\".\", \"\")\n",
    "    # Test: Check if the same date is already present in the current dict key\n",
    "    if df_name in all_df:\n",
    "        print(f'A file with the same name {df_name} has already been imported. \\n Please check if there is duplication of data.')\n",
    "        raise NameError\n",
    "    all_df.append(df_name)\n",
    "\n",
    "    locals()[df_name] = pd.read_csv(data, index_col=False)\n",
    "    print(df_name, '=====', locals()[df_name].shape)\n",
    "# all_df"
   ]
  },
  {
   "cell_type": "code",
   "execution_count": 138,
   "id": "particular-territory",
   "metadata": {
    "ExecuteTime": {
     "end_time": "2021-10-20T11:07:10.025970Z",
     "start_time": "2021-10-20T11:07:10.019974Z"
    }
   },
   "outputs": [
    {
     "data": {
      "text/plain": [
       "(['Graminor_2019_Simps',\n",
       "  'Graminor_2020_Simps',\n",
       "  'Masbasis_2019_Simps',\n",
       "  'Masbasis_2020_Simps',\n",
       "  'Robot_2020_Simps',\n",
       "  'Staur_2019_Simps',\n",
       "  'Staur_2020_Simps'],\n",
       " ['Graminor_2019_Trapz',\n",
       "  'Graminor_2020_Trapz',\n",
       "  'Masbasis_2019_Trapz',\n",
       "  'Masbasis_2020_Trapz',\n",
       "  'Robot_2020_Trapz',\n",
       "  'Staur_2019_Trapz',\n",
       "  'Staur_2020_Trapz'])"
      ]
     },
     "execution_count": 138,
     "metadata": {},
     "output_type": "execute_result"
    }
   ],
   "source": [
    "all_df_simps = [x for x in all_df if 'Simps' in x]\n",
    "all_df_trapz = [x for x in all_df if 'Trapz' in x]\n",
    "all_df_simps, all_df_trapz"
   ]
  },
  {
   "cell_type": "markdown",
   "id": "descending-broad",
   "metadata": {},
   "source": [
    "Old  \n",
    "Masbasis_2019 ===== (528, 160)  \n",
    "Masbasis_2020 ===== (637, 162)  \n",
    "Robot_2020 ===== (96, 162)  \n",
    "Staur_2019 ===== (162, 160)  "
   ]
  },
  {
   "cell_type": "code",
   "execution_count": 139,
   "id": "b51b4353",
   "metadata": {
    "ExecuteTime": {
     "end_time": "2021-10-20T11:07:10.039353Z",
     "start_time": "2021-10-20T11:07:10.027954Z"
    },
    "scrolled": true
   },
   "outputs": [
    {
     "name": "stdout",
     "output_type": "stream",
     "text": [
      "Total imported 14\n"
     ]
    },
    {
     "data": {
      "text/plain": [
       "['Graminor_2019_Simps',\n",
       " 'Graminor_2019_Trapz',\n",
       " 'Graminor_2020_Simps',\n",
       " 'Graminor_2020_Trapz',\n",
       " 'Masbasis_2019_Simps',\n",
       " 'Masbasis_2019_Trapz',\n",
       " 'Masbasis_2020_Simps',\n",
       " 'Masbasis_2020_Trapz',\n",
       " 'Robot_2020_Simps',\n",
       " 'Robot_2020_Trapz',\n",
       " 'Staur_2019_Simps',\n",
       " 'Staur_2019_Trapz',\n",
       " 'Staur_2020_Simps',\n",
       " 'Staur_2020_Trapz']"
      ]
     },
     "execution_count": 139,
     "metadata": {},
     "output_type": "execute_result"
    }
   ],
   "source": [
    "print(f'Total imported {len(all_df)}')\n",
    "all_df"
   ]
  },
  {
   "cell_type": "markdown",
   "id": "71e8186b",
   "metadata": {},
   "source": [
    "# Finding yield columns"
   ]
  },
  {
   "cell_type": "markdown",
   "id": "early-aside",
   "metadata": {},
   "source": [
    "## Importing Weather variables, yield columns, spectral indices, base indices columsn list"
   ]
  },
  {
   "cell_type": "code",
   "execution_count": 140,
   "id": "peripheral-audit",
   "metadata": {
    "ExecuteTime": {
     "end_time": "2021-10-20T11:07:10.049327Z",
     "start_time": "2021-10-20T11:07:10.042347Z"
    }
   },
   "outputs": [
    {
     "name": "stdout",
     "output_type": "stream",
     "text": [
      "100\n"
     ]
    }
   ],
   "source": [
    "a_file = open(main_path+'vollebekk_weather_columns.json', \"r\")\n",
    "output_str = a_file.read()\n",
    "# The file is imported as string\n",
    "\n",
    "# Converting it to python format\n",
    "weather_cols_vollebekk = json.loads(output_str)\n",
    "a_file.close()\n",
    "\n",
    "pprint(len(weather_cols_vollebekk))"
   ]
  },
  {
   "cell_type": "code",
   "execution_count": 141,
   "id": "express-wheel",
   "metadata": {
    "ExecuteTime": {
     "end_time": "2021-10-20T11:07:10.059299Z",
     "start_time": "2021-10-20T11:07:10.052318Z"
    }
   },
   "outputs": [
    {
     "name": "stdout",
     "output_type": "stream",
     "text": [
      "80\n"
     ]
    }
   ],
   "source": [
    "a_file = open(main_path+'staur_weather_columns.json', \"r\")\n",
    "output_str = a_file.read()\n",
    "# The file is imported as string\n",
    "\n",
    "# Converting it to python format\n",
    "weather_cols_staur = json.loads(output_str)\n",
    "a_file.close()\n",
    "\n",
    "pprint(len(weather_cols_staur))"
   ]
  },
  {
   "cell_type": "code",
   "execution_count": 142,
   "id": "loved-vaccine",
   "metadata": {
    "ExecuteTime": {
     "end_time": "2021-10-20T11:07:10.069273Z",
     "start_time": "2021-10-20T11:07:10.061294Z"
    }
   },
   "outputs": [
    {
     "name": "stdout",
     "output_type": "stream",
     "text": [
      "['GrainYield', 'CodeName', 'Block', 'Line', 'Entry', 'Replicates', 'Maturity_Date', 'Days2Maturity', 'Pedigree', 'Lodging', 'Heading_Date', 'iBlock', 'Days2Heading', 'Name']\n"
     ]
    }
   ],
   "source": [
    "a_file = open(main_path+\"yield_columns.json\", \"r\")\n",
    "output_str = a_file.read()\n",
    "\n",
    "# The file is imported as string\n",
    "# Converting it to python format\n",
    "yield_cols = json.loads(output_str)\n",
    "a_file.close()\n",
    "print(yield_cols)"
   ]
  },
  {
   "cell_type": "code",
   "execution_count": 143,
   "id": "surgical-observation",
   "metadata": {
    "ExecuteTime": {
     "end_time": "2021-10-20T11:07:10.078249Z",
     "start_time": "2021-10-20T11:07:10.072267Z"
    }
   },
   "outputs": [
    {
     "name": "stdout",
     "output_type": "stream",
     "text": [
      "['NDVI', 'MTCI', 'DVI', 'GDVI', 'MTCI_CI', 'EXG', 'EXGR', 'RDVI', 'TDVI', 'GNDVI', 'NDRE', 'SCCI', 'EVI', 'TVI', 'VARI', 'GARI', 'GCI', 'GLI', 'NLI', 'MNLI', 'SAVI', 'GSAVI', 'OSAVI', 'GOSAVI', 'MSAVI2', 'MSR', 'GRVI', 'WDRVI', 'SR']\n"
     ]
    }
   ],
   "source": [
    "a_file = open(main_path+\"spectral_indices_columns.json\", \"r\")\n",
    "output_str = a_file.read()\n",
    "\n",
    "# The file is imported as string\n",
    "# Converting it to python format\n",
    "spectral_indices = json.loads(output_str)\n",
    "a_file.close()\n",
    "print(spectral_indices)"
   ]
  },
  {
   "cell_type": "code",
   "execution_count": 144,
   "id": "southeast-plain",
   "metadata": {
    "ExecuteTime": {
     "end_time": "2021-10-20T11:07:10.088222Z",
     "start_time": "2021-10-20T11:07:10.082240Z"
    }
   },
   "outputs": [
    {
     "name": "stdout",
     "output_type": "stream",
     "text": [
      "['Blue', 'Green', 'Red', 'RedEdge', 'NIR']\n"
     ]
    }
   ],
   "source": [
    "a_file = open(main_path+\"base_indices_columns.json\", \"r\")\n",
    "output_str = a_file.read()\n",
    "\n",
    "# The file is imported as string\n",
    "# Converting it to python format\n",
    "base_indices = json.loads(output_str)\n",
    "a_file.close()\n",
    "print(base_indices)"
   ]
  },
  {
   "cell_type": "markdown",
   "id": "reliable-empty",
   "metadata": {},
   "source": [
    "## Defining categories of features"
   ]
  },
  {
   "cell_type": "code",
   "execution_count": 145,
   "id": "0001fa8b",
   "metadata": {
    "ExecuteTime": {
     "end_time": "2021-10-20T11:07:10.155043Z",
     "start_time": "2021-10-20T11:07:10.123129Z"
    }
   },
   "outputs": [
    {
     "name": "stdout",
     "output_type": "stream",
     "text": [
      "\"GrainYield\" column in Graminor_2019_Simps is the yield column\n",
      " as it contains the text \"GrainYield\". It is located at location 1\n",
      "\"Block\" column in Graminor_2019_Simps is the yield column\n",
      " as it contains the text \"Block\". It is located at location 2\n",
      "\"iBlock\" column in Graminor_2019_Simps is the yield column\n",
      " as it contains the text \"iBlock\". It is located at location 3\n",
      "\"Entry\" column in Graminor_2019_Simps is the yield column\n",
      " as it contains the text \"Entry\". It is located at location 4\n",
      "\"Name\" column in Graminor_2019_Simps is the yield column\n",
      " as it contains the text \"Name\". It is located at location 5\n",
      "\"Pedigree\" column in Graminor_2019_Simps is the yield column\n",
      " as it contains the text \"Pedigree\". It is located at location 40\n",
      "\"GrainYield\" column in Graminor_2019_Trapz is the yield column\n",
      " as it contains the text \"GrainYield\". It is located at location 1\n",
      "\"Block\" column in Graminor_2019_Trapz is the yield column\n",
      " as it contains the text \"Block\". It is located at location 2\n",
      "\"iBlock\" column in Graminor_2019_Trapz is the yield column\n",
      " as it contains the text \"iBlock\". It is located at location 3\n",
      "\"Entry\" column in Graminor_2019_Trapz is the yield column\n",
      " as it contains the text \"Entry\". It is located at location 4\n",
      "\"Name\" column in Graminor_2019_Trapz is the yield column\n",
      " as it contains the text \"Name\". It is located at location 5\n",
      "\"Pedigree\" column in Graminor_2019_Trapz is the yield column\n",
      " as it contains the text \"Pedigree\". It is located at location 40\n",
      "\"GrainYield\" column in Graminor_2020_Simps is the yield column\n",
      " as it contains the text \"GrainYield\". It is located at location 1\n",
      "\"Block\" column in Graminor_2020_Simps is the yield column\n",
      " as it contains the text \"Block\". It is located at location 2\n",
      "\"iBlock\" column in Graminor_2020_Simps is the yield column\n",
      " as it contains the text \"iBlock\". It is located at location 3\n",
      "\"Entry\" column in Graminor_2020_Simps is the yield column\n",
      " as it contains the text \"Entry\". It is located at location 4\n",
      "\"Name\" column in Graminor_2020_Simps is the yield column\n",
      " as it contains the text \"Name\". It is located at location 5\n",
      "\"Pedigree\" column in Graminor_2020_Simps is the yield column\n",
      " as it contains the text \"Pedigree\". It is located at location 40\n",
      "\"GrainYield\" column in Graminor_2020_Trapz is the yield column\n",
      " as it contains the text \"GrainYield\". It is located at location 1\n",
      "\"Block\" column in Graminor_2020_Trapz is the yield column\n",
      " as it contains the text \"Block\". It is located at location 2\n",
      "\"iBlock\" column in Graminor_2020_Trapz is the yield column\n",
      " as it contains the text \"iBlock\". It is located at location 3\n",
      "\"Entry\" column in Graminor_2020_Trapz is the yield column\n",
      " as it contains the text \"Entry\". It is located at location 4\n",
      "\"Name\" column in Graminor_2020_Trapz is the yield column\n",
      " as it contains the text \"Name\". It is located at location 5\n",
      "\"Pedigree\" column in Graminor_2020_Trapz is the yield column\n",
      " as it contains the text \"Pedigree\". It is located at location 40\n",
      "\"GrainYield\" column in Masbasis_2019_Simps is the yield column\n",
      " as it contains the text \"GrainYield\". It is located at location 1\n",
      "\"Replicates\" column in Masbasis_2019_Simps is the yield column\n",
      " as it contains the text \"Replicates\". It is located at location 2\n",
      "\"Block\" column in Masbasis_2019_Simps is the yield column\n",
      " as it contains the text \"Block\". It is located at location 3\n",
      "\"Name\" column in Masbasis_2019_Simps is the yield column\n",
      " as it contains the text \"Name\". It is located at location 4\n",
      "\"Line\" column in Masbasis_2019_Simps is the yield column\n",
      " as it contains the text \"Line\". It is located at location 5\n",
      "\"Days2Heading\" column in Masbasis_2019_Simps is the yield column\n",
      " as it contains the text \"Days2Heading\". It is located at location 6\n",
      "\"Days2Maturity\" column in Masbasis_2019_Simps is the yield column\n",
      " as it contains the text \"Days2Maturity\". It is located at location 41\n",
      "\"GrainYield\" column in Masbasis_2019_Trapz is the yield column\n",
      " as it contains the text \"GrainYield\". It is located at location 1\n",
      "\"Replicates\" column in Masbasis_2019_Trapz is the yield column\n",
      " as it contains the text \"Replicates\". It is located at location 2\n",
      "\"Block\" column in Masbasis_2019_Trapz is the yield column\n",
      " as it contains the text \"Block\". It is located at location 3\n",
      "\"Name\" column in Masbasis_2019_Trapz is the yield column\n",
      " as it contains the text \"Name\". It is located at location 4\n",
      "\"Line\" column in Masbasis_2019_Trapz is the yield column\n",
      " as it contains the text \"Line\". It is located at location 5\n",
      "\"Days2Heading\" column in Masbasis_2019_Trapz is the yield column\n",
      " as it contains the text \"Days2Heading\". It is located at location 6\n",
      "\"Days2Maturity\" column in Masbasis_2019_Trapz is the yield column\n",
      " as it contains the text \"Days2Maturity\". It is located at location 41\n",
      "\"GrainYield\" column in Masbasis_2020_Simps is the yield column\n",
      " as it contains the text \"GrainYield\". It is located at location 1\n",
      "\"Replicates\" column in Masbasis_2020_Simps is the yield column\n",
      " as it contains the text \"Replicates\". It is located at location 2\n",
      "\"Block\" column in Masbasis_2020_Simps is the yield column\n",
      " as it contains the text \"Block\". It is located at location 3\n",
      "\"Name\" column in Masbasis_2020_Simps is the yield column\n",
      " as it contains the text \"Name\". It is located at location 4\n",
      "\"Line\" column in Masbasis_2020_Simps is the yield column\n",
      " as it contains the text \"Line\". It is located at location 5\n",
      "\"Maturity_Date\" column in Masbasis_2020_Simps is the yield column\n",
      " as it contains the text \"Maturity_Date\". It is located at location 6\n",
      "\"Days2Heading\" column in Masbasis_2020_Simps is the yield column\n",
      " as it contains the text \"Days2Heading\". It is located at location 7\n",
      "\"Days2Maturity\" column in Masbasis_2020_Simps is the yield column\n",
      " as it contains the text \"Days2Maturity\". It is located at location 8\n",
      "\"Lodging\" column in Masbasis_2020_Simps is the yield column\n",
      " as it contains the text \"Lodging\". It is located at location 43\n",
      "\"GrainYield\" column in Masbasis_2020_Trapz is the yield column\n",
      " as it contains the text \"GrainYield\". It is located at location 1\n",
      "\"Replicates\" column in Masbasis_2020_Trapz is the yield column\n",
      " as it contains the text \"Replicates\". It is located at location 2\n",
      "\"Block\" column in Masbasis_2020_Trapz is the yield column\n",
      " as it contains the text \"Block\". It is located at location 3\n",
      "\"Name\" column in Masbasis_2020_Trapz is the yield column\n",
      " as it contains the text \"Name\". It is located at location 4\n",
      "\"Line\" column in Masbasis_2020_Trapz is the yield column\n",
      " as it contains the text \"Line\". It is located at location 5\n",
      "\"Maturity_Date\" column in Masbasis_2020_Trapz is the yield column\n",
      " as it contains the text \"Maturity_Date\". It is located at location 6\n",
      "\"Days2Heading\" column in Masbasis_2020_Trapz is the yield column\n",
      " as it contains the text \"Days2Heading\". It is located at location 7\n",
      "\"Days2Maturity\" column in Masbasis_2020_Trapz is the yield column\n",
      " as it contains the text \"Days2Maturity\". It is located at location 8\n",
      "\"Lodging\" column in Masbasis_2020_Trapz is the yield column\n",
      " as it contains the text \"Lodging\". It is located at location 43\n",
      "\"GrainYield\" column in Robot_2020_Simps is the yield column\n",
      " as it contains the text \"GrainYield\". It is located at location 1\n",
      "\"Block\" column in Robot_2020_Simps is the yield column\n",
      " as it contains the text \"Block\". It is located at location 2\n",
      "\"Name\" column in Robot_2020_Simps is the yield column\n",
      " as it contains the text \"Name\". It is located at location 3\n",
      "\"CodeName\" column in Robot_2020_Simps is the yield column\n",
      " as it contains the text \"CodeName\". It is located at location 4\n",
      "\"Heading_Date\" column in Robot_2020_Simps is the yield column\n",
      " as it contains the text \"Heading_Date\". It is located at location 5\n",
      "\"Maturity_Date\" column in Robot_2020_Simps is the yield column\n",
      " as it contains the text \"Maturity_Date\". It is located at location 6\n",
      "\"Days2Heading\" column in Robot_2020_Simps is the yield column\n",
      " as it contains the text \"Days2Heading\". It is located at location 7\n",
      "\"Days2Maturity\" column in Robot_2020_Simps is the yield column\n",
      " as it contains the text \"Days2Maturity\". It is located at location 42\n",
      "\"GrainYield\" column in Robot_2020_Trapz is the yield column\n",
      " as it contains the text \"GrainYield\". It is located at location 1\n",
      "\"Block\" column in Robot_2020_Trapz is the yield column\n",
      " as it contains the text \"Block\". It is located at location 2\n",
      "\"Name\" column in Robot_2020_Trapz is the yield column\n",
      " as it contains the text \"Name\". It is located at location 3\n",
      "\"CodeName\" column in Robot_2020_Trapz is the yield column\n",
      " as it contains the text \"CodeName\". It is located at location 4\n",
      "\"Heading_Date\" column in Robot_2020_Trapz is the yield column\n",
      " as it contains the text \"Heading_Date\". It is located at location 5\n",
      "\"Maturity_Date\" column in Robot_2020_Trapz is the yield column\n",
      " as it contains the text \"Maturity_Date\". It is located at location 6\n",
      "\"Days2Heading\" column in Robot_2020_Trapz is the yield column\n",
      " as it contains the text \"Days2Heading\". It is located at location 7\n",
      "\"Days2Maturity\" column in Robot_2020_Trapz is the yield column\n",
      " as it contains the text \"Days2Maturity\". It is located at location 42\n",
      "\"GrainYield\" column in Staur_2019_Simps is the yield column\n",
      " as it contains the text \"GrainYield\". It is located at location 1\n",
      "\"iBlock\" column in Staur_2019_Simps is the yield column\n",
      " as it contains the text \"iBlock\". It is located at location 2\n",
      "\"Entry\" column in Staur_2019_Simps is the yield column\n",
      " as it contains the text \"Entry\". It is located at location 3\n",
      "\"Pedigree\" column in Staur_2019_Simps is the yield column\n",
      " as it contains the text \"Pedigree\". It is located at location 4\n",
      "\"Replicates\" column in Staur_2019_Simps is the yield column\n",
      " as it contains the text \"Replicates\". It is located at location 5\n",
      "\"Line\" column in Staur_2019_Simps is the yield column\n",
      " as it contains the text \"Line\". It is located at location 6\n",
      "\"Days2Heading\" column in Staur_2019_Simps is the yield column\n",
      " as it contains the text \"Days2Heading\". It is located at location 7\n",
      "\"Days2Maturity\" column in Staur_2019_Simps is the yield column\n",
      " as it contains the text \"Days2Maturity\". It is located at location 8\n",
      "\"Name\" column in Staur_2019_Simps is the yield column\n",
      " as it contains the text \"Name\". It is located at location 9\n",
      "\"Block\" column in Staur_2019_Simps is the yield column\n",
      " as it contains the text \"Block\". It is located at location 44\n",
      "\"GrainYield\" column in Staur_2019_Trapz is the yield column\n",
      " as it contains the text \"GrainYield\". It is located at location 1\n",
      "\"iBlock\" column in Staur_2019_Trapz is the yield column\n",
      " as it contains the text \"iBlock\". It is located at location 2\n",
      "\"Entry\" column in Staur_2019_Trapz is the yield column\n",
      " as it contains the text \"Entry\". It is located at location 3\n",
      "\"Pedigree\" column in Staur_2019_Trapz is the yield column\n",
      " as it contains the text \"Pedigree\". It is located at location 4\n",
      "\"Replicates\" column in Staur_2019_Trapz is the yield column\n",
      " as it contains the text \"Replicates\". It is located at location 5\n",
      "\"Line\" column in Staur_2019_Trapz is the yield column\n",
      " as it contains the text \"Line\". It is located at location 6\n",
      "\"Days2Heading\" column in Staur_2019_Trapz is the yield column\n",
      " as it contains the text \"Days2Heading\". It is located at location 7\n",
      "\"Days2Maturity\" column in Staur_2019_Trapz is the yield column\n",
      " as it contains the text \"Days2Maturity\". It is located at location 8\n",
      "\"Name\" column in Staur_2019_Trapz is the yield column\n",
      " as it contains the text \"Name\". It is located at location 9\n",
      "\"Block\" column in Staur_2019_Trapz is the yield column\n"
     ]
    },
    {
     "name": "stdout",
     "output_type": "stream",
     "text": [
      " as it contains the text \"Block\". It is located at location 44\n",
      "\"GrainYield\" column in Staur_2020_Simps is the yield column\n",
      " as it contains the text \"GrainYield\". It is located at location 1\n",
      "\"Block\" column in Staur_2020_Simps is the yield column\n",
      " as it contains the text \"Block\". It is located at location 2\n",
      "\"iBlock\" column in Staur_2020_Simps is the yield column\n",
      " as it contains the text \"iBlock\". It is located at location 3\n",
      "\"Entry\" column in Staur_2020_Simps is the yield column\n",
      " as it contains the text \"Entry\". It is located at location 4\n",
      "\"Name\" column in Staur_2020_Simps is the yield column\n",
      " as it contains the text \"Name\". It is located at location 5\n",
      "\"Pedigree\" column in Staur_2020_Simps is the yield column\n",
      " as it contains the text \"Pedigree\". It is located at location 6\n",
      "\"Lodging\" column in Staur_2020_Simps is the yield column\n",
      " as it contains the text \"Lodging\". It is located at location 41\n",
      "\"GrainYield\" column in Staur_2020_Trapz is the yield column\n",
      " as it contains the text \"GrainYield\". It is located at location 1\n",
      "\"Block\" column in Staur_2020_Trapz is the yield column\n",
      " as it contains the text \"Block\". It is located at location 2\n",
      "\"iBlock\" column in Staur_2020_Trapz is the yield column\n",
      " as it contains the text \"iBlock\". It is located at location 3\n",
      "\"Entry\" column in Staur_2020_Trapz is the yield column\n",
      " as it contains the text \"Entry\". It is located at location 4\n",
      "\"Name\" column in Staur_2020_Trapz is the yield column\n",
      " as it contains the text \"Name\". It is located at location 5\n",
      "\"Pedigree\" column in Staur_2020_Trapz is the yield column\n",
      " as it contains the text \"Pedigree\". It is located at location 6\n",
      "\"Lodging\" column in Staur_2020_Trapz is the yield column\n",
      " as it contains the text \"Lodging\". It is located at location 41\n"
     ]
    },
    {
     "data": {
      "text/plain": [
       "{'GrainYield_Graminor_2019_Simps': 1,\n",
       " 'Block_Graminor_2019_Simps': 2,\n",
       " 'iBlock_Graminor_2019_Simps': 3,\n",
       " 'Entry_Graminor_2019_Simps': 4,\n",
       " 'Name_Graminor_2019_Simps': 5,\n",
       " 'Pedigree_Graminor_2019_Simps': 40,\n",
       " 'GrainYield_Graminor_2019_Trapz': 1,\n",
       " 'Block_Graminor_2019_Trapz': 2,\n",
       " 'iBlock_Graminor_2019_Trapz': 3,\n",
       " 'Entry_Graminor_2019_Trapz': 4,\n",
       " 'Name_Graminor_2019_Trapz': 5,\n",
       " 'Pedigree_Graminor_2019_Trapz': 40,\n",
       " 'GrainYield_Graminor_2020_Simps': 1,\n",
       " 'Block_Graminor_2020_Simps': 2,\n",
       " 'iBlock_Graminor_2020_Simps': 3,\n",
       " 'Entry_Graminor_2020_Simps': 4,\n",
       " 'Name_Graminor_2020_Simps': 5,\n",
       " 'Pedigree_Graminor_2020_Simps': 40,\n",
       " 'GrainYield_Graminor_2020_Trapz': 1,\n",
       " 'Block_Graminor_2020_Trapz': 2,\n",
       " 'iBlock_Graminor_2020_Trapz': 3,\n",
       " 'Entry_Graminor_2020_Trapz': 4,\n",
       " 'Name_Graminor_2020_Trapz': 5,\n",
       " 'Pedigree_Graminor_2020_Trapz': 40,\n",
       " 'GrainYield_Masbasis_2019_Simps': 1,\n",
       " 'Replicates_Masbasis_2019_Simps': 2,\n",
       " 'Block_Masbasis_2019_Simps': 3,\n",
       " 'Name_Masbasis_2019_Simps': 4,\n",
       " 'Line_Masbasis_2019_Simps': 5,\n",
       " 'Days2Heading_Masbasis_2019_Simps': 6,\n",
       " 'Days2Maturity_Masbasis_2019_Simps': 41,\n",
       " 'GrainYield_Masbasis_2019_Trapz': 1,\n",
       " 'Replicates_Masbasis_2019_Trapz': 2,\n",
       " 'Block_Masbasis_2019_Trapz': 3,\n",
       " 'Name_Masbasis_2019_Trapz': 4,\n",
       " 'Line_Masbasis_2019_Trapz': 5,\n",
       " 'Days2Heading_Masbasis_2019_Trapz': 6,\n",
       " 'Days2Maturity_Masbasis_2019_Trapz': 41,\n",
       " 'GrainYield_Masbasis_2020_Simps': 1,\n",
       " 'Replicates_Masbasis_2020_Simps': 2,\n",
       " 'Block_Masbasis_2020_Simps': 3,\n",
       " 'Name_Masbasis_2020_Simps': 4,\n",
       " 'Line_Masbasis_2020_Simps': 5,\n",
       " 'Maturity_Date_Masbasis_2020_Simps': 6,\n",
       " 'Days2Heading_Masbasis_2020_Simps': 7,\n",
       " 'Days2Maturity_Masbasis_2020_Simps': 8,\n",
       " 'Lodging_Masbasis_2020_Simps': 43,\n",
       " 'GrainYield_Masbasis_2020_Trapz': 1,\n",
       " 'Replicates_Masbasis_2020_Trapz': 2,\n",
       " 'Block_Masbasis_2020_Trapz': 3,\n",
       " 'Name_Masbasis_2020_Trapz': 4,\n",
       " 'Line_Masbasis_2020_Trapz': 5,\n",
       " 'Maturity_Date_Masbasis_2020_Trapz': 6,\n",
       " 'Days2Heading_Masbasis_2020_Trapz': 7,\n",
       " 'Days2Maturity_Masbasis_2020_Trapz': 8,\n",
       " 'Lodging_Masbasis_2020_Trapz': 43,\n",
       " 'GrainYield_Robot_2020_Simps': 1,\n",
       " 'Block_Robot_2020_Simps': 2,\n",
       " 'Name_Robot_2020_Simps': 3,\n",
       " 'CodeName_Robot_2020_Simps': 4,\n",
       " 'Heading_Date_Robot_2020_Simps': 5,\n",
       " 'Maturity_Date_Robot_2020_Simps': 6,\n",
       " 'Days2Heading_Robot_2020_Simps': 7,\n",
       " 'Days2Maturity_Robot_2020_Simps': 42,\n",
       " 'GrainYield_Robot_2020_Trapz': 1,\n",
       " 'Block_Robot_2020_Trapz': 2,\n",
       " 'Name_Robot_2020_Trapz': 3,\n",
       " 'CodeName_Robot_2020_Trapz': 4,\n",
       " 'Heading_Date_Robot_2020_Trapz': 5,\n",
       " 'Maturity_Date_Robot_2020_Trapz': 6,\n",
       " 'Days2Heading_Robot_2020_Trapz': 7,\n",
       " 'Days2Maturity_Robot_2020_Trapz': 42,\n",
       " 'GrainYield_Staur_2019_Simps': 1,\n",
       " 'iBlock_Staur_2019_Simps': 2,\n",
       " 'Entry_Staur_2019_Simps': 3,\n",
       " 'Pedigree_Staur_2019_Simps': 4,\n",
       " 'Replicates_Staur_2019_Simps': 5,\n",
       " 'Line_Staur_2019_Simps': 6,\n",
       " 'Days2Heading_Staur_2019_Simps': 7,\n",
       " 'Days2Maturity_Staur_2019_Simps': 8,\n",
       " 'Name_Staur_2019_Simps': 9,\n",
       " 'Block_Staur_2019_Simps': 44,\n",
       " 'GrainYield_Staur_2019_Trapz': 1,\n",
       " 'iBlock_Staur_2019_Trapz': 2,\n",
       " 'Entry_Staur_2019_Trapz': 3,\n",
       " 'Pedigree_Staur_2019_Trapz': 4,\n",
       " 'Replicates_Staur_2019_Trapz': 5,\n",
       " 'Line_Staur_2019_Trapz': 6,\n",
       " 'Days2Heading_Staur_2019_Trapz': 7,\n",
       " 'Days2Maturity_Staur_2019_Trapz': 8,\n",
       " 'Name_Staur_2019_Trapz': 9,\n",
       " 'Block_Staur_2019_Trapz': 44,\n",
       " 'GrainYield_Staur_2020_Simps': 1,\n",
       " 'Block_Staur_2020_Simps': 2,\n",
       " 'iBlock_Staur_2020_Simps': 3,\n",
       " 'Entry_Staur_2020_Simps': 4,\n",
       " 'Name_Staur_2020_Simps': 5,\n",
       " 'Pedigree_Staur_2020_Simps': 6,\n",
       " 'Lodging_Staur_2020_Simps': 41,\n",
       " 'GrainYield_Staur_2020_Trapz': 1,\n",
       " 'Block_Staur_2020_Trapz': 2,\n",
       " 'iBlock_Staur_2020_Trapz': 3,\n",
       " 'Entry_Staur_2020_Trapz': 4,\n",
       " 'Name_Staur_2020_Trapz': 5,\n",
       " 'Pedigree_Staur_2020_Trapz': 6,\n",
       " 'Lodging_Staur_2020_Trapz': 41}"
      ]
     },
     "execution_count": 145,
     "metadata": {},
     "output_type": "execute_result"
    }
   ],
   "source": [
    "# ToDo: Add check for duplicate columns in the df\n",
    "\n",
    "base_indices\n",
    "\n",
    "spectral_indices\n",
    "\n",
    "# Staur weather columns are all also present in Vollebekk weather so they can be use as general weather features\n",
    "weather_features = weather_cols_staur.copy()\n",
    "\n",
    "environment_var = weather_features + ['Staur_Env', 'Vollebekk_Env']\n",
    "\n",
    "yield_cols\n",
    "\n",
    "# Counter for location of column in columns list\n",
    "\n",
    "# Dict for saving the name and location of the yield column/s\n",
    "loc_yield_cols = {}\n",
    "for df in all_df:\n",
    "    loc = 0\n",
    "    for cols in locals()[df].columns.tolist():\n",
    "        for y_col in yield_cols:\n",
    "            if not cols.find(y_col):\n",
    "                loc_yield_cols[cols+'_'+df] = loc\n",
    "                print(f'\\\"{cols}\\\" column in {df} is the yield column\\n as it contains the text \\\"{y_col}\\\". It is located at location {loc}')\n",
    "        loc += 1\n",
    "\n",
    "    yield_cols_found = list(loc_yield_cols.keys())\n",
    "    target_cols=yield_cols_found[0]\n",
    "loc_yield_cols"
   ]
  },
  {
   "cell_type": "markdown",
   "id": "global-gnome",
   "metadata": {},
   "source": [
    "# Dropping unnecessary columns\n"
   ]
  },
  {
   "cell_type": "code",
   "execution_count": 146,
   "id": "robust-making",
   "metadata": {
    "ExecuteTime": {
     "end_time": "2021-10-20T11:07:10.341298Z",
     "start_time": "2021-10-20T11:07:10.279462Z"
    }
   },
   "outputs": [
    {
     "name": "stdout",
     "output_type": "stream",
     "text": [
      "Graminor_2019_Simps (600, 143)\n",
      "Graminor_2019_Trapz (600, 143)\n",
      "Graminor_2020_Simps (800, 143)\n",
      "Graminor_2020_Trapz (800, 143)\n",
      "Masbasis_2019_Simps (528, 144)\n",
      "Masbasis_2019_Trapz (528, 144)\n",
      "Masbasis_2020_Simps (659, 146)\n",
      "Masbasis_2020_Trapz (659, 146)\n",
      "Robot_2020_Simps (96, 145)\n",
      "Robot_2020_Trapz (96, 145)\n",
      "Staur_2019_Simps (1328, 127)\n",
      "Staur_2019_Trapz (1328, 127)\n",
      "Staur_2020_Simps (1504, 124)\n",
      "Staur_2020_Trapz (1504, 124)\n"
     ]
    }
   ],
   "source": [
    "# Dropping unnecessary columns\n",
    "\n",
    "for df in all_df:\n",
    "    temp_df = locals()[df].copy()\n",
    "    print(df, temp_df.shape)\n",
    "    locals()[df] = temp_df[base_indices+spectral_indices+environment_var+['Name','GrainYield']]"
   ]
  },
  {
   "cell_type": "markdown",
   "id": "rational-replication",
   "metadata": {},
   "source": [
    "# Dealing with Nan values"
   ]
  },
  {
   "cell_type": "code",
   "execution_count": 147,
   "id": "incorporated-taylor",
   "metadata": {
    "ExecuteTime": {
     "end_time": "2021-10-20T11:07:10.530306Z",
     "start_time": "2021-10-20T11:07:10.518340Z"
    }
   },
   "outputs": [
    {
     "data": {
      "text/plain": [
       "Blue                                                         0\n",
       "Green                                                        0\n",
       "Red                                                          0\n",
       "RedEdge                                                      0\n",
       "NIR                                                          0\n",
       "NDVI                                                         0\n",
       "MTCI                                                         0\n",
       "DVI                                                          0\n",
       "GDVI                                                         0\n",
       "MTCI_CI                                                      0\n",
       "EXG                                                          0\n",
       "EXGR                                                         0\n",
       "RDVI                                                         0\n",
       "TDVI                                                         0\n",
       "GNDVI                                                        0\n",
       "NDRE                                                         0\n",
       "SCCI                                                         0\n",
       "EVI                                                          0\n",
       "TVI                                                          0\n",
       "VARI                                                         0\n",
       "GARI                                                         0\n",
       "GCI                                                          0\n",
       "GLI                                                          0\n",
       "NLI                                                          0\n",
       "MNLI                                                         0\n",
       "SAVI                                                         0\n",
       "GSAVI                                                        0\n",
       "OSAVI                                                        0\n",
       "GOSAVI                                                       0\n",
       "MSAVI2                                                       0\n",
       "MSR                                                          0\n",
       "GRVI                                                         0\n",
       "WDRVI                                                        0\n",
       "SR                                                           0\n",
       "MEAN Average temperature at 2m altitude (TM)                 0\n",
       "MEAN Maximum air temperature at 2m altitude (TX)             0\n",
       "MEAN Minimum air temperature at 2m altitude (TN)             0\n",
       "MEAN Precipitation (RR)                                      0\n",
       "MEAN Relative humidity in 2m - 1                             0\n",
       "MEAN Relative humidity in 2m - 2                             0\n",
       "MEAN Wind gust (FG2)                                         0\n",
       "MEAN Wind speed in 2m                                        0\n",
       "MEDIAN Average temperature at 2m altitude (TM)               0\n",
       "MEDIAN Maximum air temperature at 2m altitude (TX)           0\n",
       "MEDIAN Minimum air temperature at 2m altitude (TN)           0\n",
       "MEDIAN Precipitation (RR)                                    0\n",
       "MEDIAN Relative humidity in 2m - 1                           0\n",
       "MEDIAN Relative humidity in 2m - 2                           0\n",
       "MEDIAN Wind gust (FG2)                                       0\n",
       "MEDIAN Wind speed in 2m                                      0\n",
       "MODE Average temperature at 2m altitude (TM)                 0\n",
       "MODE Maximum air temperature at 2m altitude (TX)             0\n",
       "MODE Minimum air temperature at 2m altitude (TN)             0\n",
       "MODE Precipitation (RR)                                      0\n",
       "MODE Relative humidity in 2m - 1                             0\n",
       "MODE Relative humidity in 2m - 2                             0\n",
       "MODE Wind gust (FG2)                                         0\n",
       "MODE Wind speed in 2m                                        0\n",
       "SUM Average temperature at 2m altitude (TM)                  0\n",
       "SUM Maximum air temperature at 2m altitude (TX)              0\n",
       "SUM Minimum air temperature at 2m altitude (TN)              0\n",
       "SUM Precipitation (RR)                                       0\n",
       "SUM Relative humidity in 2m - 1                              0\n",
       "SUM Relative humidity in 2m - 2                              0\n",
       "SUM Wind gust (FG2)                                          0\n",
       "SUM Wind speed in 2m                                         0\n",
       "MIN Average temperature at 2m altitude (TM)                  0\n",
       "MIN Maximum air temperature at 2m altitude (TX)              0\n",
       "MIN Minimum air temperature at 2m altitude (TN)              0\n",
       "MIN Precipitation (RR)                                       0\n",
       "MIN Relative humidity in 2m - 1                              0\n",
       "MIN Relative humidity in 2m - 2                              0\n",
       "MIN Wind gust (FG2)                                          0\n",
       "MIN Wind speed in 2m                                         0\n",
       "MAX Average temperature at 2m altitude (TM)                  0\n",
       "MAX Maximum air temperature at 2m altitude (TX)              0\n",
       "MAX Minimum air temperature at 2m altitude (TN)              0\n",
       "MAX Precipitation (RR)                                       0\n",
       "MAX Relative humidity in 2m - 1                              0\n",
       "MAX Relative humidity in 2m - 2                              0\n",
       "MAX Wind gust (FG2)                                          0\n",
       "MAX Wind speed in 2m                                         0\n",
       "STD_DEV Average temperature at 2m altitude (TM)              0\n",
       "STD_DEV Maximum air temperature at 2m altitude (TX)          0\n",
       "STD_DEV Minimum air temperature at 2m altitude (TN)          0\n",
       "STD_DEV Precipitation (RR)                                   0\n",
       "STD_DEV Relative humidity in 2m - 1                          0\n",
       "STD_DEV Relative humidity in 2m - 2                          0\n",
       "STD_DEV Wind gust (FG2)                                      0\n",
       "STD_DEV Wind speed in 2m                                     0\n",
       "QUANTILE_25 Average temperature at 2m altitude (TM)          0\n",
       "QUANTILE_25 Maximum air temperature at 2m altitude (TX)      0\n",
       "QUANTILE_25 Minimum air temperature at 2m altitude (TN)      0\n",
       "QUANTILE_25 Precipitation (RR)                               0\n",
       "QUANTILE_25 Relative humidity in 2m - 1                      0\n",
       "QUANTILE_25 Relative humidity in 2m - 2                      0\n",
       "QUANTILE_25 Wind gust (FG2)                                  0\n",
       "QUANTILE_25 Wind speed in 2m                                 0\n",
       "QUANTILE_50 Average temperature at 2m altitude (TM)          0\n",
       "QUANTILE_50 Maximum air temperature at 2m altitude (TX)      0\n",
       "QUANTILE_50 Minimum air temperature at 2m altitude (TN)      0\n",
       "QUANTILE_50 Precipitation (RR)                               0\n",
       "QUANTILE_50 Relative humidity in 2m - 1                      0\n",
       "QUANTILE_50 Relative humidity in 2m - 2                      0\n",
       "QUANTILE_50 Wind gust (FG2)                                  0\n",
       "QUANTILE_50 Wind speed in 2m                                 0\n",
       "QUANTILE_75 Average temperature at 2m altitude (TM)          0\n",
       "QUANTILE_75 Maximum air temperature at 2m altitude (TX)      0\n",
       "QUANTILE_75 Minimum air temperature at 2m altitude (TN)      0\n",
       "QUANTILE_75 Precipitation (RR)                               0\n",
       "QUANTILE_75 Relative humidity in 2m - 1                      0\n",
       "QUANTILE_75 Relative humidity in 2m - 2                      0\n",
       "QUANTILE_75 Wind gust (FG2)                                  0\n",
       "QUANTILE_75 Wind speed in 2m                                 0\n",
       "Staur_Env                                                    0\n",
       "Vollebekk_Env                                                0\n",
       "Name                                                       568\n",
       "GrainYield                                                 568\n",
       "dtype: int64"
      ]
     },
     "execution_count": 147,
     "metadata": {},
     "output_type": "execute_result"
    }
   ],
   "source": [
    "# For displaying max rows in series\n",
    "pd.options.display.max_rows = 1000\n",
    "\n",
    "Staur_2020_Simps.isna().sum()"
   ]
  },
  {
   "cell_type": "markdown",
   "id": "unnecessary-criminal",
   "metadata": {},
   "source": [
    "## Dropping Missing values"
   ]
  },
  {
   "cell_type": "code",
   "execution_count": 148,
   "id": "sensitive-europe",
   "metadata": {
    "ExecuteTime": {
     "end_time": "2021-10-20T11:07:10.741597Z",
     "start_time": "2021-10-20T11:07:10.667794Z"
    }
   },
   "outputs": [
    {
     "name": "stdout",
     "output_type": "stream",
     "text": [
      "1  rows dropped in  Graminor_2019_Simps\n",
      "1  rows dropped in  Graminor_2019_Trapz\n",
      "1  rows dropped in  Graminor_2020_Simps\n",
      "1  rows dropped in  Graminor_2020_Trapz\n",
      "6  rows dropped in  Masbasis_2019_Simps\n",
      "6  rows dropped in  Masbasis_2019_Trapz\n",
      "116  rows dropped in  Masbasis_2020_Simps\n",
      "116  rows dropped in  Masbasis_2020_Trapz\n",
      "8  rows dropped in  Robot_2020_Simps\n",
      "8  rows dropped in  Robot_2020_Trapz\n",
      "0  rows dropped in  Staur_2019_Simps\n",
      "0  rows dropped in  Staur_2019_Trapz\n",
      "568  rows dropped in  Staur_2020_Simps\n",
      "568  rows dropped in  Staur_2020_Trapz\n"
     ]
    }
   ],
   "source": [
    "# Dropping rows with missing value in any column\n",
    "\n",
    "for df in all_df:\n",
    "    temp_df = locals()[df].copy()\n",
    "    locals()[df] = temp_df.dropna(axis=0)\n",
    "    print(temp_df.shape[0] - locals()[df].shape[0], ' rows dropped in ', df)\n",
    "#     print(locals()[df].shape[0])"
   ]
  },
  {
   "cell_type": "markdown",
   "id": "wrong-taxation",
   "metadata": {
    "ExecuteTime": {
     "end_time": "2021-10-11T01:54:07.486881Z",
     "start_time": "2021-10-11T01:54:07.476908Z"
    }
   },
   "source": [
    "Old  \n",
    "6  rows dropped in  Masbasis_2019  \n",
    "522  \n",
    "94  rows dropped in  Masbasis_2020  \n",
    "543  \n",
    "0  rows dropped in  Robot_2020  \n",
    "96  \n",
    "0  rows dropped in  Staur_2019  \n",
    "162  "
   ]
  },
  {
   "cell_type": "markdown",
   "id": "moving-agency",
   "metadata": {},
   "source": [
    "# Correlation"
   ]
  },
  {
   "cell_type": "code",
   "execution_count": 149,
   "id": "random-diagnosis",
   "metadata": {
    "ExecuteTime": {
     "end_time": "2021-10-20T11:07:11.061675Z",
     "start_time": "2021-10-20T11:07:11.058671Z"
    }
   },
   "outputs": [],
   "source": [
    "# # Step 1 - Make a scatter plot with square markers, set column names as labels\n",
    "\n",
    "# def heatmap(x, y, size):\n",
    "#     fig_size=(15,10)\n",
    "\n",
    "#     fig, ax = plt.subplots(figsize=fig_size)\n",
    "    \n",
    "#     # Mapping from column names to integer coordinates\n",
    "#     x_labels = [v for v in x.unique()]\n",
    "#     y_labels = [v for v in y.unique()]\n",
    "#     x_to_num = {p[1]:p[0] for p in enumerate(x_labels)} \n",
    "#     y_to_num = {p[1]:p[0] for p in enumerate(y_labels)} \n",
    "    \n",
    "#     size_scale = 50\n",
    "#     ax.scatter(\n",
    "#         x=x.map(x_to_num), # Use mapping for x\n",
    "#         y=y.map(y_to_num), # Use mapping for y\n",
    "#         s=size * size_scale, # Vector of square sizes, proportional to size parameter\n",
    "#         marker='s' # Use square as scatterplot marker\n",
    "#     )\n",
    "    \n",
    "#     # Show column labels on the axes\n",
    "#     ax.set_xticks([x_to_num[v] for v in x_labels])\n",
    "#     ax.set_xticklabels(x_labels, rotation=45, horizontalalignment='right')\n",
    "#     ax.set_yticks([y_to_num[v] for v in y_labels])\n",
    "#     ax.set_yticklabels(y_labels)\n",
    "#     ax.grid(False, 'major')\n",
    "#     ax.grid(True, 'minor')\n",
    "#     ax.set_xticks([t + 0.5 for t in ax.get_xticks()], minor=True)\n",
    "#     ax.set_yticks([t + 0.5 for t in ax.get_yticks()], minor=True)\n",
    "    \n"
   ]
  },
  {
   "cell_type": "code",
   "execution_count": 150,
   "id": "prompt-radius",
   "metadata": {
    "ExecuteTime": {
     "end_time": "2021-10-20T11:07:11.076026Z",
     "start_time": "2021-10-20T11:07:11.063665Z"
    }
   },
   "outputs": [],
   "source": [
    "# for df in all_df:\n",
    "#     print(df)\n",
    "#     temp_df = locals()[df][base_indices+spectral_indices+['GrainYield']].copy()\n",
    "#     data = temp_df\n",
    "\n",
    "    \n",
    "#     fig, ax = plt.subplots(figsize=(10, 8))\n",
    "#     # mask\n",
    "#     mask = np.triu(np.ones_like(data, dtype=np.bool))\n",
    "#     # adjust mask and df\n",
    "#     mask = mask[1:, :-1]\n",
    "#     corr = data.iloc[1:,:-1].copy()\n",
    "#     # plot heatmap\n",
    "#     print('u1')\n",
    "\n",
    "#     sns.heatmap(corr, mask=mask, annot=True, fmt=\".2f\", cmap='Blues',\n",
    "#                vmin=-1, vmax=1, cbar_kws={\"shrink\": .8})\n",
    "#     # yticks\n",
    "#     print('u2')\n",
    "#     # plt.yticks(rotation=0)\n",
    "#     print('u3')\n",
    "\n",
    "#     plt.show()\n",
    "#     print('u4')\n"
   ]
  },
  {
   "cell_type": "code",
   "execution_count": 151,
   "id": "closed-prime",
   "metadata": {
    "ExecuteTime": {
     "end_time": "2021-10-20T11:07:11.083008Z",
     "start_time": "2021-10-20T11:07:11.078022Z"
    }
   },
   "outputs": [],
   "source": [
    "# all_df"
   ]
  },
  {
   "cell_type": "markdown",
   "id": "quarterly-fancy",
   "metadata": {},
   "source": [
    "## Scatter Plot"
   ]
  },
  {
   "cell_type": "code",
   "execution_count": 152,
   "id": "injured-saying",
   "metadata": {
    "ExecuteTime": {
     "end_time": "2021-10-20T11:07:11.348832Z",
     "start_time": "2021-10-20T11:07:11.345840Z"
    },
    "scrolled": true
   },
   "outputs": [],
   "source": [
    "# for df in all_df_simps:\n",
    "#     print(df)\n",
    "#     temp_df = locals()[df][base_indices+spectral_indices+['GrainYield']].copy()\n",
    "#     data = temp_df\n",
    "#     for col in base_indices:\n",
    "#         print(df)\n",
    "#         df_a = temp_df[col]\n",
    "#         df_b = temp_df['GrainYield']\n",
    "\n",
    "\n",
    "#         fig, ax = plt.subplots(1, figsize=(12,8))\n",
    "#         sns.kdeplot(df_a, df_b, cmap='Blues',\n",
    "#                    shade=True, shade_lowest=False, clip=(-1,300))\n",
    "#         plt.scatter(df_a, df_b, color='orangered')\n",
    "#         plt.show()"
   ]
  },
  {
   "cell_type": "code",
   "execution_count": 153,
   "id": "soviet-kernel",
   "metadata": {
    "ExecuteTime": {
     "end_time": "2021-10-20T11:07:11.362082Z",
     "start_time": "2021-10-20T11:07:11.351755Z"
    }
   },
   "outputs": [],
   "source": [
    "# for df in all_df_simps[0]:\n",
    "#     print(df)\n",
    "#     temp_df = locals()[df]['NDVI','GrainYield'].copy()\n",
    "#     data = temp_df\n",
    "#     for col in base_indices:\n",
    "#         print(df)\n",
    "#         df_a = temp_df[col]\n",
    "#         df_b = temp_df['GrainYield']\n",
    "\n",
    "\n",
    "#         fig, ax = plt.subplots(1, figsize=(12,8))\n",
    "#         sns.kdeplot(df_a, df_b, cmap='Blues',\n",
    "#                    shade=True, shade_lowest=False, clip=(-1,300))\n",
    "#         plt.scatter(df_a, df_b, color='orangered')\n",
    "#         plt.show()"
   ]
  },
  {
   "cell_type": "markdown",
   "id": "thousand-threshold",
   "metadata": {},
   "source": [
    "## Heat Map"
   ]
  },
  {
   "cell_type": "code",
   "execution_count": 154,
   "id": "proprietary-farming",
   "metadata": {
    "ExecuteTime": {
     "end_time": "2021-10-20T11:07:11.538061Z",
     "start_time": "2021-10-20T11:07:11.533074Z"
    },
    "scrolled": false
   },
   "outputs": [],
   "source": [
    "# for df in all_df_simps:\n",
    "#     print(df)\n",
    "#     temp_df = locals()[df][base_indices+spectral_indices+['GrainYield']].copy()\n",
    "#     data = temp_df\n",
    "#     columns = temp_df.columns\n",
    "#     corr = data.corr()\n",
    "#     fig_size=(15,10)\n",
    "\n",
    "#     fig, ax = plt.subplots(figsize=fig_size)\n",
    "#     ax = sns.heatmap(\n",
    "#         corr, \n",
    "#         vmin=-1, vmax=1, center=0,\n",
    "#         cmap=sns.diverging_palette(20, 220, n=200),\n",
    "#         square=True\n",
    "#     )\n",
    "#     ax.set_xticklabels(\n",
    "#         ax.get_xticklabels(),\n",
    "#         rotation=45,\n",
    "#         horizontalalignment='right'\n",
    "#     );\n",
    "#     plt.show()"
   ]
  },
  {
   "cell_type": "code",
   "execution_count": null,
   "id": "variable-nightmare",
   "metadata": {},
   "outputs": [],
   "source": []
  },
  {
   "cell_type": "code",
   "execution_count": null,
   "id": "virtual-boring",
   "metadata": {},
   "outputs": [],
   "source": []
  },
  {
   "cell_type": "code",
   "execution_count": null,
   "id": "greenhouse-revision",
   "metadata": {},
   "outputs": [],
   "source": []
  },
  {
   "cell_type": "markdown",
   "id": "20dbcd75",
   "metadata": {},
   "source": [
    "# Preprocessing "
   ]
  },
  {
   "cell_type": "markdown",
   "id": "ae4318ac",
   "metadata": {},
   "source": [
    "## Declaring functions"
   ]
  },
  {
   "cell_type": "markdown",
   "id": "global-myanmar",
   "metadata": {},
   "source": [
    "### Save Results"
   ]
  },
  {
   "cell_type": "code",
   "execution_count": 155,
   "id": "compatible-observer",
   "metadata": {
    "ExecuteTime": {
     "end_time": "2021-10-20T11:07:12.096309Z",
     "start_time": "2021-10-20T11:07:12.086334Z"
    }
   },
   "outputs": [],
   "source": [
    "import datetime as dt\n",
    "\n",
    "def results_regr_save(RMSE_test, RMSE_train, R2_test, R2_train, training_features, feature_importance, GKF_CV):\n",
    "\n",
    "    \n",
    "    results = []\n",
    "    date_time = dt.now()\n",
    "#     results.append((model, RMSE_test, RMSE_train, R2_test, R2_train, \n",
    "#                     training_features, feature_importance, datetime))\n",
    "    \n",
    "    # Better formatting for append file\n",
    "    # Need to include all metrices\n",
    "    results.append(\n",
    "        (model, 'RMSE_test = {}'.format(RMSE_test), 'RMSE_train = {}'.format(RMSE_train),\n",
    "         'R2_test = {}'.format(R2_test), 'R2_train = {}'.format(R2_train),\n",
    "         'training_features = {}'.format(training_features),\n",
    "         'feature_importance = {}'.format(feature_importance),\n",
    "          'GKF = {}'.format(GKF_CV),\n",
    "         date_time))\n",
    "    \n",
    "    \n",
    "    pd.DataFrame(np.asarray(results)).to_csv(export_path+'results.csv',\n",
    "                                             mode='a',\n",
    "                                             header=None)\n",
    "    \n",
    "\n",
    "        "
   ]
  },
  {
   "cell_type": "code",
   "execution_count": 156,
   "id": "departmental-extension",
   "metadata": {
    "ExecuteTime": {
     "end_time": "2021-10-20T11:07:12.115255Z",
     "start_time": "2021-10-20T11:07:12.100296Z"
    }
   },
   "outputs": [],
   "source": [
    "import datetime as dt\n",
    "\n",
    "def save_details(train_field, test_field, year, all_df_, agg_method):\n",
    "\n",
    "    results = []\n",
    "    date_time = dt.now()\n",
    "#     results.append((model, RMSE_test, RMSE_train, R2_test, R2_train, \n",
    "#                     training_features, feature_importance, datetime))\n",
    "    \n",
    "    # Better formatting for append file\n",
    "    # Need to include all metrices\n",
    "    results.append(\n",
    "        (model, 'train_field = {}'.format(train_field), 'test_field = {}'.format(test_field),\n",
    "         'year = {}'.format(year), 'all_df_ = {}'.format(all_df_),\n",
    "         'Aggregation = {}'.format(agg_method),\n",
    "         date_time))\n",
    "    \n",
    "    \n",
    "    pd.DataFrame(np.asarray(results)).to_csv(export_path+'results.csv',\n",
    "                                             mode='a',\n",
    "                                             header=None)\n",
    "    \n",
    "\n",
    "        "
   ]
  },
  {
   "cell_type": "markdown",
   "id": "swiss-barrel",
   "metadata": {},
   "source": [
    "### list_test_train_df"
   ]
  },
  {
   "cell_type": "code",
   "execution_count": 157,
   "id": "proud-mexican",
   "metadata": {
    "ExecuteTime": {
     "end_time": "2021-10-20T11:07:12.404420Z",
     "start_time": "2021-10-20T11:07:12.388464Z"
    }
   },
   "outputs": [],
   "source": [
    "def list_test_train_df(all_df_, train_field, test_field, year):\n",
    "    \n",
    "    # year = '2019', '2020', 'all' str\n",
    "#     train_field = 'Vollebekk' , 'Staur'\n",
    "#     test_field = 'Vollebekk' , 'Staur'\n",
    "\n",
    "    # Asserting if the user has given the right inputs\n",
    "    assert train_field != test_field\n",
    "    assert train_field == 'Vollebekk' or train_field == 'Staur'\n",
    "    assert test_field == 'Vollebekk' or test_field == 'Staur'\n",
    "    assert year == '2019' or year == '2020' or year == 'all'\n",
    "\n",
    "    # Filtering based on year\n",
    "    all_df_temp1 = [x for x in all_df_ if not 'Robot' in x]\n",
    "    if not year == 'all':\n",
    "        all_df_temp = [x for x in all_df_temp1 if year in x]\n",
    "    else:\n",
    "        all_df_temp = all_df_temp1.copy()\n",
    "        \n",
    "    # Making list of training dfs for conct before training\n",
    "    staur_df_list = []\n",
    "    staur_list = []\n",
    "    for x in all_df_temp:\n",
    "        if 'Staur' in x:\n",
    "            staur_list.append(x)\n",
    "#             staur_df_list.append(locals()[x])\n",
    "\n",
    "    # Making list of test dfs for conct before training\n",
    "    vollebekk_df_list = []\n",
    "    vollebekk_list = []\n",
    "    for x in all_df_temp:\n",
    "        if not 'Staur' in x and not 'Robot' in x:\n",
    "            vollebekk_list.append(x)\n",
    "#             vollebekk_df_list.append(locals()[x])\n",
    "    \n",
    "    train_df_list = []\n",
    "    train_str_list = []\n",
    "    test_df_list = []\n",
    "    test_str_list = []\n",
    "    # Assigning test and train sets based on given inputs\n",
    "    if train_field == 'Staur':\n",
    "#         train_df_list = staur_df_list.copy()\n",
    "        train_str_list = staur_list.copy()\n",
    "        print('Training data:', staur_list)\n",
    "        \n",
    "#         test_df_list = vollebekk_df_list.copy()\n",
    "        test_str_list = vollebekk_list.copy()\n",
    "        print('Test data:', vollebekk_list)\n",
    "    elif train_field == 'Vollebekk':\n",
    "#         train_df_list = vollebekk_df_list.copy()\n",
    "        train_str_list = vollebekk_list.copy()\n",
    "        print('Training data:', vollebekk_list)\n",
    "        \n",
    "#         test_df_list = staur_df_list.copy()\n",
    "        test_str_list = staur_list.copy()\n",
    "        print('Test data:', staur_list)\n",
    "    else:\n",
    "        raise NameError\n",
    "    \n",
    "    # Saving details\n",
    "    save_details(train_field, test_field, year, all_df_, agg_method)\n",
    "    return (train_str_list, test_str_list)"
   ]
  },
  {
   "cell_type": "markdown",
   "id": "union-replication",
   "metadata": {},
   "source": [
    "### data_prep_field"
   ]
  },
  {
   "cell_type": "code",
   "execution_count": 158,
   "id": "choice-editor",
   "metadata": {
    "ExecuteTime": {
     "end_time": "2021-10-20T11:07:12.616764Z",
     "start_time": "2021-10-20T11:07:12.603675Z"
    }
   },
   "outputs": [],
   "source": [
    "# data_prep_field(all_df_, train_field = ['Staur', 'Masbasis'], test_field = ['Staur', 'Masbasis'], \n",
    "#                 year_train = ['2019', 2020], year_test = ['2019', 2020]):\n",
    "\n",
    "def data_prep_field(all_df_, train_field, test_field, year):\n",
    "    \n",
    "    # year = '2019', '2020', 'all' str\n",
    "#     train_field = 'Vollebekk' , 'Staur'\n",
    "#     test_field = 'Vollebekk' , 'Staur'\n",
    "\n",
    "    # Asserting if the user has given the right inputs\n",
    "    assert train_field != test_field\n",
    "    assert train_field == 'Vollebekk' or train_field == 'Staur'\n",
    "    assert test_field == 'Vollebekk' or test_field == 'Staur'\n",
    "    assert year == '2019' or year == '2020' or year == 'all'\n",
    "\n",
    "    # Filtering based on year\n",
    "    all_df_temp1 = [x for x in all_df_ if not 'Robot' in x]\n",
    "    if not year == 'all':\n",
    "        all_df_temp = [x for x in all_df_temp1 if year in x]\n",
    "    else:\n",
    "        all_df_temp = all_df_temp1.copy()\n",
    "        \n",
    "    # Making list of training dfs for conct before training\n",
    "    staur_df_list = []\n",
    "    staur_list = []\n",
    "    print(all_df_temp)\n",
    "    for x in all_df_temp:\n",
    "        if 'Staur' in x:\n",
    "            staur_list.append(x)\n",
    "            print(staur_list)\n",
    "#             staur_df_list.append(locals()[x])\n",
    "\n",
    "    # Making list of test dfs for conct before training\n",
    "    vollebekk_df_list = []\n",
    "    vollebekk_list = []\n",
    "    for x in all_df_temp:\n",
    "        if not 'Staur' in x and not 'Robot' in x:\n",
    "            vollebekk_list.append(x)\n",
    "#             vollebekk_df_list.append(locals()[x])\n",
    "    \n",
    "    # Assigning test and train sets based on given inputs\n",
    "    if train_field == 'Staur':\n",
    "        train_df_list = staur_df_list.copy()\n",
    "        print('Training data:', staur_list)\n",
    "        \n",
    "        test_df_list = vollebekk_df_list.copy()\n",
    "        print('Test data:', vollebekk_list)\n",
    "    elif train_field == 'Vollebekk':\n",
    "        train_df_list = vollebekk_df_list.copy()\n",
    "        print('Training data:', vollebekk_list)\n",
    "        \n",
    "        test_df_list = staur_df_list.copy()\n",
    "        print('Test data:', staur_list)\n",
    "    else:\n",
    "        raise NameError\n",
    "        \n",
    "    train_df = pd.concat(train_df_list)\n",
    "    test_df = pd.concat(test_df_list)\n",
    "\n",
    "    X_train = train_df[training_features]\n",
    "    y_train = train_df[target_features].values.ravel()\n",
    "    X_test = test_df[training_features]\n",
    "    y_test = test_df[target_features].values.ravel()\n",
    "    \n",
    "    # Saving details\n",
    "    save_details(model, train_field, test_field, year, all_df_, agg_method)\n",
    "    return X_train, y_train, X_test, y_test"
   ]
  },
  {
   "cell_type": "markdown",
   "id": "broke-metallic",
   "metadata": {},
   "source": [
    "### training_gkf_std"
   ]
  },
  {
   "cell_type": "code",
   "execution_count": 159,
   "id": "accessory-sellers",
   "metadata": {
    "ExecuteTime": {
     "end_time": "2021-10-20T11:07:12.875978Z",
     "start_time": "2021-10-20T11:07:12.858026Z"
    }
   },
   "outputs": [],
   "source": [
    "def training_gkf_std(model, X, y, gkf):\n",
    "    \n",
    "    current_model = make_pipeline(StandardScaler(), model)\n",
    "\n",
    "    scores = cross_validate(current_model, X, y, cv=gkf,\n",
    "                            scoring=('r2', 'neg_root_mean_squared_error'),\n",
    "                            return_train_score=True)\n",
    "    RMSE_test = \"%0.2f (+/- %0.2f)\" % (-1*scores['test_neg_root_mean_squared_error'].mean(), \n",
    "                                  -1*scores['test_neg_root_mean_squared_error'].std() * 2)\n",
    "    RMSE_train = \"%0.2f (+/- %0.2f)\" % (-1*scores['train_neg_root_mean_squared_error'].mean(), \n",
    "                                  -1*scores['train_neg_root_mean_squared_error'].std() * 2)\n",
    "\n",
    "\n",
    "    R2_test = \"%0.2f (+/- %0.2f)\" % (scores['test_r2'].mean(), \n",
    "                                  scores['test_r2'].std() * 2)\n",
    "    R2_train = \"%0.2f (+/- %0.2f)\" % (scores['train_r2'].mean(), \n",
    "                                  scores['train_r2'].std() * 2)\n",
    "\n",
    "    print(df,' : ', model)\n",
    "    print(' RMSE Test:', RMSE_test, '       R2 Test:', R2_test)\n",
    "    print('RMSE Train:', RMSE_train, '      R2 Train:', R2_train)\n",
    "    \n",
    "    # Feature importance\n",
    "    current_model.fit(X, y)\n",
    "    success = False\n",
    "    while not success:\n",
    "        try:\n",
    "            feature_importance = current_model.steps[1][1].feature_importances_\n",
    "            success = True\n",
    "        except:\n",
    "            feature_importance = None\n",
    "            pass\n",
    "    # Saving results\n",
    "    GKF_CV = True\n",
    "    results_regr_save(RMSE_test, RMSE_train, R2_test, R2_train, training_features, feature_importance, GKF_CV)\n",
    "    return feature_importance"
   ]
  },
  {
   "cell_type": "markdown",
   "id": "basic-relationship",
   "metadata": {},
   "source": [
    "### training_regr"
   ]
  },
  {
   "cell_type": "code",
   "execution_count": 160,
   "id": "hundred-progressive",
   "metadata": {
    "ExecuteTime": {
     "end_time": "2021-10-20T11:07:13.262988Z",
     "start_time": "2021-10-20T11:07:13.252011Z"
    }
   },
   "outputs": [],
   "source": [
    "def training_regr(model, X_train, y_train, X_test, y_test):\n",
    "    current_model = make_pipeline(StandardScaler(), model)\n",
    "\n",
    "    current_model.fit(X_train, y_train)\n",
    "    y_pred_train = current_model.predict(X_train)\n",
    "    y_pred = current_model.predict(X_test)\n",
    "    \n",
    "    RMSE_test = mean_squared_error(y_test, y_pred, squared=False)\n",
    "    RMSE_train = mean_squared_error(y_train, y_pred_train, squared=False)\n",
    "\n",
    "\n",
    "    R2_test = r2_score(y_test, y_pred)\n",
    "    R2_train = r2_score(y_train, y_pred_train)\n",
    "    \n",
    "    print(' RMSE Test:', RMSE_test, '       R2 Test:', R2_test)\n",
    "    print('RMSE Train:', RMSE_train, '      R2 Train:', R2_train)\n",
    "\n",
    "    # Feature importance\n",
    "    success = False\n",
    "    while not success:\n",
    "        try:\n",
    "            feature_importance = current_model.steps[1][1].feature_importances_\n",
    "            success = True\n",
    "        except:\n",
    "            feature_importance = None\n",
    "            pass\n",
    "    # Saving results\n",
    "    GKF_CV = False\n",
    "    results_regr_save(RMSE_test, RMSE_train, R2_test, R2_train, training_features, feature_importance, GKF_CV)\n",
    "    return feature_importance"
   ]
  },
  {
   "cell_type": "markdown",
   "id": "bright-columbus",
   "metadata": {},
   "source": [
    "### Plot Feature Importance"
   ]
  },
  {
   "cell_type": "code",
   "execution_count": 161,
   "id": "altered-inspiration",
   "metadata": {
    "ExecuteTime": {
     "end_time": "2021-10-20T11:07:13.634993Z",
     "start_time": "2021-10-20T11:07:13.613046Z"
    }
   },
   "outputs": [],
   "source": [
    "# from matplotlib.backends.backend_pdf import PdfPages\n",
    "\n",
    "# # Create plots folder if not exists already\n",
    "# os.makedirs(plots_export_path, exist_ok=True)\n",
    "\n",
    "# pdf = PdfPages(plots_export_path+'feat_imp.pdf')\n",
    "\n",
    "def plot_feat_imp(feature_importance, model, train_feat, threshold='all', sort_feat=True):\n",
    "    # threshold =  percentage of max(features_importance) or 'all' or top_x number of features\n",
    "    # Plotting feature importance\n",
    "    # Create arrays from feature importance and feature names\n",
    "\n",
    "    feature_names = train_feat.copy()\n",
    "    model_name =  str(model).split('(')[0]\n",
    "    \n",
    "    # Default threshold is 0, i.e. use all features\n",
    "    thres = 0\n",
    "\n",
    "    # Selecting features based on given threshold\n",
    "    if isinstance(threshold, int) or isinstance(threshold, float):\n",
    "        thres = threshold * 0.01\n",
    "    elif str.lower(threshold) == 'all':\n",
    "        thres = 0\n",
    "        \n",
    "    importances, names = zip(*(\n",
    "        (x, y) for x, y in zip(feature_importance, feature_names) if x >= thres*max(feature_importance)))\n",
    "    \n",
    "    # Finding and filtering top_x number of features\n",
    "    if isinstance(threshold, str):\n",
    "        if str.lower(threshold.split('_')[0]) == 'top':\n",
    "            top_x_feat = int(threshold.split('_')[1])\n",
    "            sort_imp, sorted_name = zip(*sorted(zip(feature_importance, feature_names), reverse=True))\n",
    "\n",
    "            importances, names = zip(*(\n",
    "                (x, y) for x, y in zip(feature_importance, feature_names) if y in sorted_name[:top_x_feat]))  \n",
    "    \n",
    "    # Sorting faeture importances if required\n",
    "    if sort_feat:\n",
    "        importances, names = zip(*sorted(zip(importances, names), reverse=True))\n",
    "\n",
    "    # Create a DataFrame using a Dictionary\n",
    "    data={'feature_names':names,'feature_importance':importances}\n",
    "    feat_imp_df = pd.DataFrame(data)\n",
    "\n",
    "    # Sort the DataFrame in order decreasing feature importance\n",
    "#     feat_imp_df.sort_values(by=['feature_importance'], ascending=False,inplace=True)\n",
    "\n",
    "    #Define size of bar plot\n",
    "    plt.figure(figsize=(10,5))\n",
    "    #Plot Searborn bar chart\n",
    "    sns.barplot(y=feat_imp_df['feature_importance'], x=feat_imp_df['feature_names'], palette = 'winter'  )\n",
    "    #Add chart labels\n",
    "\n",
    "    plt.title(model_name + ' Feature Importance')\n",
    "    plt.xticks(rotation=60)\n",
    "    plt.xlabel('Feature Names')\n",
    "    plt.ylabel('Feature Importance')\n",
    "    export_plots = export_path+'/Feature_Importance/'\n",
    "    os.makedirs(export_plots, exist_ok=True)\n",
    "#     plt.savefig(export_plots+'feature_importance'+model_name+'.jpg',dpi=150, bbox_inches='tight')\n",
    "#     plt.savefig(export_plots+col+feature_importance_'+model_name+'.pdf',dpi=500, bbox_inches='tight')\n",
    "\n",
    "    plt.show()\n",
    "    \n",
    "    "
   ]
  },
  {
   "cell_type": "markdown",
   "id": "apparent-amplifier",
   "metadata": {
    "ExecuteTime": {
     "end_time": "2021-10-14T00:29:29.251040Z",
     "start_time": "2021-10-14T00:29:29.236082Z"
    }
   },
   "source": [
    "## CPU Info"
   ]
  },
  {
   "cell_type": "code",
   "execution_count": 162,
   "id": "9bd85b6b",
   "metadata": {
    "ExecuteTime": {
     "end_time": "2021-10-20T11:07:15.858143Z",
     "start_time": "2021-10-20T11:07:13.841945Z"
    },
    "scrolled": true
   },
   "outputs": [
    {
     "name": "stdout",
     "output_type": "stream",
     "text": [
      "python_version: 3.8.5.final.0 (64 bit)\n",
      "X86_64\n",
      "64\n",
      "8\n",
      "AMD64\n",
      "GenuineIntel\n",
      "Intel(R) Core(TM) i7-8565U CPU @ 1.80GHz\n",
      "1.8000 GHz\n"
     ]
    }
   ],
   "source": [
    "# Number of cores in the system being used\n",
    "import multiprocessing\n",
    "multiprocessing.cpu_count()\n",
    "\n",
    "import psutil\n",
    "psutil.cpu_count()\n",
    "\n",
    "import cpuinfo\n",
    "info = cpuinfo.get_cpu_info()\n",
    "print('python_version:', info['python_version'])\n",
    "print(info['arch'])\n",
    "print(info['bits'])\n",
    "print(info['count'])\n",
    "print(info['arch_string_raw'])\n",
    "print(info['vendor_id_raw'])\n",
    "print(info['brand_raw'])\n",
    "print(info['hz_advertised_friendly'])\n",
    "\n",
    "\n"
   ]
  },
  {
   "cell_type": "markdown",
   "id": "483f52b7",
   "metadata": {},
   "source": [
    "# ML Models"
   ]
  },
  {
   "cell_type": "code",
   "execution_count": 163,
   "id": "5c738348",
   "metadata": {
    "ExecuteTime": {
     "end_time": "2021-10-20T11:07:15.877625Z",
     "start_time": "2021-10-20T11:07:15.862132Z"
    }
   },
   "outputs": [],
   "source": [
    "from sklearn.model_selection import train_test_split\n",
    "from sklearn.cross_decomposition import PLSRegression\n",
    "\n",
    "from sklearn.model_selection import cross_validate\n",
    "from sklearn.model_selection import cross_val_score\n",
    "from sklearn.model_selection import GridSearchCV\n",
    "from sklearn.model_selection import GroupKFold\n",
    "\n",
    "from sklearn import metrics\n",
    "from sklearn.metrics import mean_squared_error\n",
    "from sklearn.metrics import r2_score\n",
    "from sklearn.metrics import mean_absolute_error\n",
    "\n",
    "from sklearn.pipeline import make_pipeline\n",
    "from sklearn.model_selection import GridSearchCV\n",
    "from sklearn.svm import SVR\n",
    "from sklearn.preprocessing import StandardScaler\n",
    "from sklearn.pipeline import Pipeline\n",
    "import time, datetime\n",
    "from datetime import datetime as dt\n",
    "from sklearn.ensemble import RandomForestRegressor\n",
    "from sklearn.model_selection import GridSearchCV\n",
    "from sklearn.preprocessing import StandardScaler\n",
    "from sklearn.model_selection import train_test_split\n",
    "from sklearn.ensemble import GradientBoostingRegressor\n",
    "# import xgboost as xgb\n",
    "from sklearn.linear_model import Lasso\n",
    "# from catboost import CatBoostRegressor\n",
    "\n",
    "import time, datetime\n",
    "from datetime import datetime as dt\n",
    "from sklearn.ensemble import RandomForestRegressor\n",
    "from sklearn.model_selection import GridSearchCV\n",
    "from sklearn.preprocessing import StandardScaler\n",
    "from sklearn.model_selection import train_test_split\n"
   ]
  },
  {
   "cell_type": "markdown",
   "id": "talented-facial",
   "metadata": {
    "ExecuteTime": {
     "end_time": "2021-09-15T18:32:26.716503Z",
     "start_time": "2021-09-15T18:32:26.697958Z"
    }
   },
   "source": [
    "## List of models"
   ]
  },
  {
   "cell_type": "code",
   "execution_count": 164,
   "id": "waiting-field",
   "metadata": {
    "ExecuteTime": {
     "end_time": "2021-10-20T11:07:15.888109Z",
     "start_time": "2021-10-20T11:07:15.882125Z"
    }
   },
   "outputs": [],
   "source": [
    "models = [\n",
    "#          CatBoostRegressor(depth=8),\n",
    "         RandomForestRegressor(random_state=1, n_jobs = -1)]\n",
    "from sklearn.linear_model import LassoCV\n",
    "# models = [Lasso()]"
   ]
  },
  {
   "cell_type": "code",
   "execution_count": null,
   "id": "transparent-value",
   "metadata": {},
   "outputs": [],
   "source": []
  },
  {
   "cell_type": "code",
   "execution_count": 165,
   "id": "generic-brother",
   "metadata": {
    "ExecuteTime": {
     "end_time": "2021-10-20T11:07:15.904066Z",
     "start_time": "2021-10-20T11:07:15.891101Z"
    }
   },
   "outputs": [
    {
     "name": "stdout",
     "output_type": "stream",
     "text": [
      "RandomForestRegressor\n"
     ]
    }
   ],
   "source": [
    "for model in models:\n",
    "    print(str(model).split('(')[0])"
   ]
  },
  {
   "cell_type": "markdown",
   "id": "friendly-stock",
   "metadata": {},
   "source": [
    "### Deep Learning Model"
   ]
  },
  {
   "cell_type": "code",
   "execution_count": null,
   "id": "protective-gardening",
   "metadata": {},
   "outputs": [],
   "source": []
  },
  {
   "cell_type": "markdown",
   "id": "together-massage",
   "metadata": {},
   "source": [
    "## Fine Tuning the models using all data"
   ]
  },
  {
   "cell_type": "code",
   "execution_count": null,
   "id": "turned-attention",
   "metadata": {},
   "outputs": [],
   "source": []
  },
  {
   "cell_type": "markdown",
   "id": "julian-implementation",
   "metadata": {},
   "source": [
    "## Variations of data processing"
   ]
  },
  {
   "cell_type": "code",
   "execution_count": 182,
   "id": "wanted-polymer",
   "metadata": {
    "ExecuteTime": {
     "end_time": "2021-10-20T11:26:35.253688Z",
     "start_time": "2021-10-20T11:26:35.249714Z"
    }
   },
   "outputs": [],
   "source": [
    "threshold_all = top_\n",
    "sorted_all = True\n",
    "agg_method = 'Simpsons'\n",
    "# agg_method = 'Trapezoid'"
   ]
  },
  {
   "cell_type": "code",
   "execution_count": 183,
   "id": "9a1923d5",
   "metadata": {
    "ExecuteTime": {
     "end_time": "2021-10-20T11:26:36.059885Z",
     "start_time": "2021-10-20T11:26:36.056711Z"
    }
   },
   "outputs": [],
   "source": [
    "# training_features = base_indices + spectral_indices + environment_var\n",
    "training_features = base_indices + spectral_indices + weather_features\n",
    "# training_features = base_indices + spectral_indices\n",
    "# training_features = spectral_indices\n",
    "\n",
    "target_features = ['GrainYield']\n",
    "\n",
    "group_feature = ['Name']\n",
    "\n",
    "if agg_method == 'Simpsons':\n",
    "    all_df_now = all_df_simps.copy()\n",
    "elif agg_method == 'Trapezoid': \n",
    "    all_df_now = all_df_trapz.copy()"
   ]
  },
  {
   "cell_type": "code",
   "execution_count": null,
   "id": "treated-projector",
   "metadata": {},
   "outputs": [],
   "source": []
  },
  {
   "cell_type": "markdown",
   "id": "b9e01a31",
   "metadata": {},
   "source": [
    "## Variations in Datasets"
   ]
  },
  {
   "cell_type": "markdown",
   "id": "congressional-benchmark",
   "metadata": {
    "ExecuteTime": {
     "end_time": "2021-10-13T19:15:21.306505Z",
     "start_time": "2021-10-13T19:15:21.281069Z"
    }
   },
   "source": [
    "### Within same datasets:"
   ]
  },
  {
   "cell_type": "code",
   "execution_count": 185,
   "id": "documentary-profile",
   "metadata": {
    "ExecuteTime": {
     "end_time": "2021-10-20T11:27:22.609985Z",
     "start_time": "2021-10-20T11:27:09.705385Z"
    },
    "scrolled": true
   },
   "outputs": [
    {
     "name": "stderr",
     "output_type": "stream",
     "text": [
      "C:\\ProgramData\\Anaconda3\\lib\\site-packages\\numpy\\core\\_asarray.py:83: VisibleDeprecationWarning: Creating an ndarray from ragged nested sequences (which is a list-or-tuple of lists-or-tuples-or ndarrays with different lengths or shapes) is deprecated. If you meant to do this, you must specify 'dtype=object' when creating the ndarray\n",
      "  return array(a, dtype, copy=False, order=order)\n"
     ]
    },
    {
     "name": "stdout",
     "output_type": "stream",
     "text": [
      "Graminor_2019_Simps  :  RandomForestRegressor(n_jobs=-1, random_state=1)\n",
      " RMSE Test: 45.54 (+/- -2.31)        R2 Test: 0.18 (+/- 0.03)\n",
      "RMSE Train: 16.49 (+/- -0.44)       R2 Train: 0.89 (+/- 0.00)\n"
     ]
    },
    {
     "name": "stderr",
     "output_type": "stream",
     "text": [
      "C:\\ProgramData\\Anaconda3\\lib\\site-packages\\numpy\\core\\_asarray.py:83: VisibleDeprecationWarning: Creating an ndarray from ragged nested sequences (which is a list-or-tuple of lists-or-tuples-or ndarrays with different lengths or shapes) is deprecated. If you meant to do this, you must specify 'dtype=object' when creating the ndarray\n",
      "  return array(a, dtype, copy=False, order=order)\n"
     ]
    },
    {
     "data": {
      "image/png": "[encoded data removed]",
      "text/plain": [
       "<Figure size 720x360 with 1 Axes>"
      ]
     },
     "metadata": {
      "needs_background": "light"
     },
     "output_type": "display_data"
    },
    {
     "name": "stderr",
     "output_type": "stream",
     "text": [
      "C:\\ProgramData\\Anaconda3\\lib\\site-packages\\numpy\\core\\_asarray.py:83: VisibleDeprecationWarning: Creating an ndarray from ragged nested sequences (which is a list-or-tuple of lists-or-tuples-or ndarrays with different lengths or shapes) is deprecated. If you meant to do this, you must specify 'dtype=object' when creating the ndarray\n",
      "  return array(a, dtype, copy=False, order=order)\n"
     ]
    },
    {
     "name": "stdout",
     "output_type": "stream",
     "text": [
      "Graminor_2020_Simps  :  RandomForestRegressor(n_jobs=-1, random_state=1)\n",
      " RMSE Test: 51.21 (+/- -1.58)        R2 Test: 0.73 (+/- 0.08)\n",
      "RMSE Train: 18.99 (+/- -1.36)       R2 Train: 0.96 (+/- 0.01)\n"
     ]
    },
    {
     "name": "stderr",
     "output_type": "stream",
     "text": [
      "C:\\ProgramData\\Anaconda3\\lib\\site-packages\\numpy\\core\\_asarray.py:83: VisibleDeprecationWarning: Creating an ndarray from ragged nested sequences (which is a list-or-tuple of lists-or-tuples-or ndarrays with different lengths or shapes) is deprecated. If you meant to do this, you must specify 'dtype=object' when creating the ndarray\n",
      "  return array(a, dtype, copy=False, order=order)\n"
     ]
    },
    {
     "data": {
      "image/png": "[encoded data removed]",
      "text/plain": [
       "<Figure size 720x360 with 1 Axes>"
      ]
     },
     "metadata": {
      "needs_background": "light"
     },
     "output_type": "display_data"
    },
    {
     "name": "stderr",
     "output_type": "stream",
     "text": [
      "C:\\ProgramData\\Anaconda3\\lib\\site-packages\\numpy\\core\\_asarray.py:83: VisibleDeprecationWarning: Creating an ndarray from ragged nested sequences (which is a list-or-tuple of lists-or-tuples-or ndarrays with different lengths or shapes) is deprecated. If you meant to do this, you must specify 'dtype=object' when creating the ndarray\n",
      "  return array(a, dtype, copy=False, order=order)\n"
     ]
    },
    {
     "name": "stdout",
     "output_type": "stream",
     "text": [
      "Masbasis_2019_Simps  :  RandomForestRegressor(n_jobs=-1, random_state=1)\n",
      " RMSE Test: 70.49 (+/- -7.68)        R2 Test: 0.28 (+/- 0.27)\n",
      "RMSE Train: 31.74 (+/- -4.66)       R2 Train: 0.86 (+/- 0.05)\n"
     ]
    },
    {
     "name": "stderr",
     "output_type": "stream",
     "text": [
      "C:\\ProgramData\\Anaconda3\\lib\\site-packages\\numpy\\core\\_asarray.py:83: VisibleDeprecationWarning: Creating an ndarray from ragged nested sequences (which is a list-or-tuple of lists-or-tuples-or ndarrays with different lengths or shapes) is deprecated. If you meant to do this, you must specify 'dtype=object' when creating the ndarray\n",
      "  return array(a, dtype, copy=False, order=order)\n"
     ]
    },
    {
     "data": {
      "image/png": "[encoded data removed]",
      "text/plain": [
       "<Figure size 720x360 with 1 Axes>"
      ]
     },
     "metadata": {
      "needs_background": "light"
     },
     "output_type": "display_data"
    },
    {
     "name": "stderr",
     "output_type": "stream",
     "text": [
      "C:\\ProgramData\\Anaconda3\\lib\\site-packages\\numpy\\core\\_asarray.py:83: VisibleDeprecationWarning: Creating an ndarray from ragged nested sequences (which is a list-or-tuple of lists-or-tuples-or ndarrays with different lengths or shapes) is deprecated. If you meant to do this, you must specify 'dtype=object' when creating the ndarray\n",
      "  return array(a, dtype, copy=False, order=order)\n"
     ]
    },
    {
     "name": "stdout",
     "output_type": "stream",
     "text": [
      "Masbasis_2020_Simps  :  RandomForestRegressor(n_jobs=-1, random_state=1)\n",
      " RMSE Test: 80.78 (+/- -6.42)        R2 Test: 0.28 (+/- 0.10)\n",
      "RMSE Train: 30.32 (+/- -1.23)       R2 Train: 0.90 (+/- 0.00)\n"
     ]
    },
    {
     "name": "stderr",
     "output_type": "stream",
     "text": [
      "C:\\ProgramData\\Anaconda3\\lib\\site-packages\\numpy\\core\\_asarray.py:83: VisibleDeprecationWarning: Creating an ndarray from ragged nested sequences (which is a list-or-tuple of lists-or-tuples-or ndarrays with different lengths or shapes) is deprecated. If you meant to do this, you must specify 'dtype=object' when creating the ndarray\n",
      "  return array(a, dtype, copy=False, order=order)\n"
     ]
    },
    {
     "data": {
      "image/png": "[encoded data removed]",
      "text/plain": [
       "<Figure size 720x360 with 1 Axes>"
      ]
     },
     "metadata": {
      "needs_background": "light"
     },
     "output_type": "display_data"
    },
    {
     "name": "stderr",
     "output_type": "stream",
     "text": [
      "C:\\ProgramData\\Anaconda3\\lib\\site-packages\\numpy\\core\\_asarray.py:83: VisibleDeprecationWarning: Creating an ndarray from ragged nested sequences (which is a list-or-tuple of lists-or-tuples-or ndarrays with different lengths or shapes) is deprecated. If you meant to do this, you must specify 'dtype=object' when creating the ndarray\n",
      "  return array(a, dtype, copy=False, order=order)\n"
     ]
    },
    {
     "name": "stdout",
     "output_type": "stream",
     "text": [
      "Robot_2020_Simps  :  RandomForestRegressor(n_jobs=-1, random_state=1)\n",
      " RMSE Test: 50.64 (+/- -6.54)        R2 Test: 0.74 (+/- 0.08)\n",
      "RMSE Train: 18.63 (+/- -2.25)       R2 Train: 0.96 (+/- 0.01)\n"
     ]
    },
    {
     "name": "stderr",
     "output_type": "stream",
     "text": [
      "C:\\ProgramData\\Anaconda3\\lib\\site-packages\\numpy\\core\\_asarray.py:83: VisibleDeprecationWarning: Creating an ndarray from ragged nested sequences (which is a list-or-tuple of lists-or-tuples-or ndarrays with different lengths or shapes) is deprecated. If you meant to do this, you must specify 'dtype=object' when creating the ndarray\n",
      "  return array(a, dtype, copy=False, order=order)\n"
     ]
    },
    {
     "data": {
      "image/png": "[encoded data removed]",
      "text/plain": [
       "<Figure size 720x360 with 1 Axes>"
      ]
     },
     "metadata": {
      "needs_background": "light"
     },
     "output_type": "display_data"
    },
    {
     "name": "stderr",
     "output_type": "stream",
     "text": [
      "C:\\ProgramData\\Anaconda3\\lib\\site-packages\\numpy\\core\\_asarray.py:83: VisibleDeprecationWarning: Creating an ndarray from ragged nested sequences (which is a list-or-tuple of lists-or-tuples-or ndarrays with different lengths or shapes) is deprecated. If you meant to do this, you must specify 'dtype=object' when creating the ndarray\n",
      "  return array(a, dtype, copy=False, order=order)\n"
     ]
    },
    {
     "name": "stdout",
     "output_type": "stream",
     "text": [
      "Staur_2019_Simps  :  RandomForestRegressor(n_jobs=-1, random_state=1)\n",
      " RMSE Test: 70.93 (+/- -5.14)        R2 Test: 0.44 (+/- 0.04)\n",
      "RMSE Train: 26.59 (+/- -1.34)       R2 Train: 0.92 (+/- 0.00)\n"
     ]
    },
    {
     "name": "stderr",
     "output_type": "stream",
     "text": [
      "C:\\ProgramData\\Anaconda3\\lib\\site-packages\\numpy\\core\\_asarray.py:83: VisibleDeprecationWarning: Creating an ndarray from ragged nested sequences (which is a list-or-tuple of lists-or-tuples-or ndarrays with different lengths or shapes) is deprecated. If you meant to do this, you must specify 'dtype=object' when creating the ndarray\n",
      "  return array(a, dtype, copy=False, order=order)\n"
     ]
    },
    {
     "data": {
      "image/png": "[encoded data removed]",
      "text/plain": [
       "<Figure size 720x360 with 1 Axes>"
      ]
     },
     "metadata": {
      "needs_background": "light"
     },
     "output_type": "display_data"
    },
    {
     "name": "stderr",
     "output_type": "stream",
     "text": [
      "C:\\ProgramData\\Anaconda3\\lib\\site-packages\\numpy\\core\\_asarray.py:83: VisibleDeprecationWarning: Creating an ndarray from ragged nested sequences (which is a list-or-tuple of lists-or-tuples-or ndarrays with different lengths or shapes) is deprecated. If you meant to do this, you must specify 'dtype=object' when creating the ndarray\n",
      "  return array(a, dtype, copy=False, order=order)\n"
     ]
    },
    {
     "name": "stdout",
     "output_type": "stream",
     "text": [
      "Staur_2020_Simps  :  RandomForestRegressor(n_jobs=-1, random_state=1)\n",
      " RMSE Test: 52.11 (+/- -6.95)        R2 Test: 0.65 (+/- 0.09)\n",
      "RMSE Train: 19.42 (+/- -0.96)       R2 Train: 0.95 (+/- 0.00)\n"
     ]
    },
    {
     "name": "stderr",
     "output_type": "stream",
     "text": [
      "C:\\ProgramData\\Anaconda3\\lib\\site-packages\\numpy\\core\\_asarray.py:83: VisibleDeprecationWarning: Creating an ndarray from ragged nested sequences (which is a list-or-tuple of lists-or-tuples-or ndarrays with different lengths or shapes) is deprecated. If you meant to do this, you must specify 'dtype=object' when creating the ndarray\n",
      "  return array(a, dtype, copy=False, order=order)\n"
     ]
    },
    {
     "data": {
      "image/png": "[encoded data removed]",
      "text/plain": [
       "<Figure size 720x360 with 1 Axes>"
      ]
     },
     "metadata": {
      "needs_background": "light"
     },
     "output_type": "display_data"
    }
   ],
   "source": [
    "# Iterating through all possible permutations of the fields dataset\n",
    "for df in all_df_now:\n",
    "    df_ = locals()[df].copy()\n",
    "\n",
    "    X = df_[training_features]\n",
    "    y = df_[target_features].values.ravel()\n",
    "    groups = df_[group_feature].values.ravel()\n",
    "\n",
    "    gkf = list(GroupKFold(n_splits=3).split(X, y, groups))\n",
    "    save_details(df, df, 'same', 'self', agg_method)\n",
    "    # Getting scores using cross_val_score\n",
    "    for model in models:\n",
    "        importances = training_gkf_std(model, X, y, gkf)\n",
    "        plot_feat_imp(importances, model, training_features, threshold = threshold_all)"
   ]
  },
  {
   "cell_type": "markdown",
   "id": "amended-share",
   "metadata": {},
   "source": [
    "### One against all - one2one"
   ]
  },
  {
   "cell_type": "code",
   "execution_count": 186,
   "id": "circular-reward",
   "metadata": {
    "ExecuteTime": {
     "end_time": "2021-10-20T11:27:45.270248Z",
     "start_time": "2021-10-20T11:27:41.461816Z"
    },
    "scrolled": true
   },
   "outputs": [
    {
     "name": "stderr",
     "output_type": "stream",
     "text": [
      "C:\\ProgramData\\Anaconda3\\lib\\site-packages\\numpy\\core\\_asarray.py:83: VisibleDeprecationWarning: Creating an ndarray from ragged nested sequences (which is a list-or-tuple of lists-or-tuples-or ndarrays with different lengths or shapes) is deprecated. If you meant to do this, you must specify 'dtype=object' when creating the ndarray\n",
      "  return array(a, dtype, copy=False, order=order)\n"
     ]
    },
    {
     "name": "stdout",
     "output_type": "stream",
     "text": [
      "Training:  Graminor_2019_Simps Test:  Graminor_2020_Simps  :  RandomForestRegressor(n_jobs=-1, random_state=1)\n",
      " RMSE Test: 134.4048115191609        R2 Test: -0.8161826627819737\n",
      "RMSE Train: 16.312078322746306       R2 Train: 0.8949396724157687\n"
     ]
    },
    {
     "name": "stderr",
     "output_type": "stream",
     "text": [
      "C:\\ProgramData\\Anaconda3\\lib\\site-packages\\numpy\\core\\_asarray.py:83: VisibleDeprecationWarning: Creating an ndarray from ragged nested sequences (which is a list-or-tuple of lists-or-tuples-or ndarrays with different lengths or shapes) is deprecated. If you meant to do this, you must specify 'dtype=object' when creating the ndarray\n",
      "  return array(a, dtype, copy=False, order=order)\n"
     ]
    },
    {
     "data": {
      "image/png": "[encoded data removed]",
      "text/plain": [
       "<Figure size 720x360 with 1 Axes>"
      ]
     },
     "metadata": {
      "needs_background": "light"
     },
     "output_type": "display_data"
    },
    {
     "name": "stderr",
     "output_type": "stream",
     "text": [
      "C:\\ProgramData\\Anaconda3\\lib\\site-packages\\numpy\\core\\_asarray.py:83: VisibleDeprecationWarning: Creating an ndarray from ragged nested sequences (which is a list-or-tuple of lists-or-tuples-or ndarrays with different lengths or shapes) is deprecated. If you meant to do this, you must specify 'dtype=object' when creating the ndarray\n",
      "  return array(a, dtype, copy=False, order=order)\n"
     ]
    },
    {
     "name": "stdout",
     "output_type": "stream",
     "text": [
      "Training:  Graminor_2019_Simps Test:  Masbasis_2019_Simps  :  RandomForestRegressor(n_jobs=-1, random_state=1)\n",
      " RMSE Test: 84.7818029195977        R2 Test: -0.010969680785076319\n",
      "RMSE Train: 16.312078322746302       R2 Train: 0.8949396724157687\n"
     ]
    },
    {
     "name": "stderr",
     "output_type": "stream",
     "text": [
      "C:\\ProgramData\\Anaconda3\\lib\\site-packages\\numpy\\core\\_asarray.py:83: VisibleDeprecationWarning: Creating an ndarray from ragged nested sequences (which is a list-or-tuple of lists-or-tuples-or ndarrays with different lengths or shapes) is deprecated. If you meant to do this, you must specify 'dtype=object' when creating the ndarray\n",
      "  return array(a, dtype, copy=False, order=order)\n"
     ]
    },
    {
     "data": {
      "image/png": "[encoded data removed]",
      "text/plain": [
       "<Figure size 720x360 with 1 Axes>"
      ]
     },
     "metadata": {
      "needs_background": "light"
     },
     "output_type": "display_data"
    },
    {
     "name": "stderr",
     "output_type": "stream",
     "text": [
      "C:\\ProgramData\\Anaconda3\\lib\\site-packages\\numpy\\core\\_asarray.py:83: VisibleDeprecationWarning: Creating an ndarray from ragged nested sequences (which is a list-or-tuple of lists-or-tuples-or ndarrays with different lengths or shapes) is deprecated. If you meant to do this, you must specify 'dtype=object' when creating the ndarray\n",
      "  return array(a, dtype, copy=False, order=order)\n"
     ]
    },
    {
     "name": "stdout",
     "output_type": "stream",
     "text": [
      "Training:  Graminor_2019_Simps Test:  Masbasis_2020_Simps  :  RandomForestRegressor(n_jobs=-1, random_state=1)\n",
      " RMSE Test: 128.94444633949539        R2 Test: -0.8198142408214759\n",
      "RMSE Train: 16.312078322746306       R2 Train: 0.8949396724157687\n"
     ]
    },
    {
     "name": "stderr",
     "output_type": "stream",
     "text": [
      "C:\\ProgramData\\Anaconda3\\lib\\site-packages\\numpy\\core\\_asarray.py:83: VisibleDeprecationWarning: Creating an ndarray from ragged nested sequences (which is a list-or-tuple of lists-or-tuples-or ndarrays with different lengths or shapes) is deprecated. If you meant to do this, you must specify 'dtype=object' when creating the ndarray\n",
      "  return array(a, dtype, copy=False, order=order)\n"
     ]
    },
    {
     "data": {
      "image/png": "[encoded data removed]",
      "text/plain": [
       "<Figure size 720x360 with 1 Axes>"
      ]
     },
     "metadata": {
      "needs_background": "light"
     },
     "output_type": "display_data"
    },
    {
     "name": "stderr",
     "output_type": "stream",
     "text": [
      "C:\\ProgramData\\Anaconda3\\lib\\site-packages\\numpy\\core\\_asarray.py:83: VisibleDeprecationWarning: Creating an ndarray from ragged nested sequences (which is a list-or-tuple of lists-or-tuples-or ndarrays with different lengths or shapes) is deprecated. If you meant to do this, you must specify 'dtype=object' when creating the ndarray\n",
      "  return array(a, dtype, copy=False, order=order)\n"
     ]
    },
    {
     "name": "stdout",
     "output_type": "stream",
     "text": [
      "Training:  Graminor_2019_Simps Test:  Robot_2020_Simps  :  RandomForestRegressor(n_jobs=-1, random_state=1)\n",
      " RMSE Test: 102.51960692079598        R2 Test: -0.06143635915349965\n",
      "RMSE Train: 16.312078322746306       R2 Train: 0.8949396724157687\n"
     ]
    },
    {
     "name": "stderr",
     "output_type": "stream",
     "text": [
      "C:\\ProgramData\\Anaconda3\\lib\\site-packages\\numpy\\core\\_asarray.py:83: VisibleDeprecationWarning: Creating an ndarray from ragged nested sequences (which is a list-or-tuple of lists-or-tuples-or ndarrays with different lengths or shapes) is deprecated. If you meant to do this, you must specify 'dtype=object' when creating the ndarray\n",
      "  return array(a, dtype, copy=False, order=order)\n"
     ]
    },
    {
     "ename": "KeyboardInterrupt",
     "evalue": "",
     "output_type": "error",
     "traceback": [
      "\u001b[1;31m---------------------------------------------------------------------------\u001b[0m",
      "\u001b[1;31mKeyboardInterrupt\u001b[0m                         Traceback (most recent call last)",
      "\u001b[1;32m<ipython-input-186-cb19cf16c5e1>\u001b[0m in \u001b[0;36m<module>\u001b[1;34m\u001b[0m\n\u001b[0;32m     19\u001b[0m         \u001b[1;32mif\u001b[0m \u001b[0mimportances\u001b[0m \u001b[1;32mis\u001b[0m \u001b[1;32mnot\u001b[0m \u001b[1;32mNone\u001b[0m\u001b[1;33m:\u001b[0m\u001b[1;33m\u001b[0m\u001b[1;33m\u001b[0m\u001b[0m\n\u001b[0;32m     20\u001b[0m \u001b[1;31m#             plot_feat_imp(importances[:len(base_indices+spectral_indices)], model, base_indices+spectral_indices)\u001b[0m\u001b[1;33m\u001b[0m\u001b[1;33m\u001b[0m\u001b[1;33m\u001b[0m\u001b[0m\n\u001b[1;32m---> 21\u001b[1;33m                 \u001b[0mplot_feat_imp\u001b[0m\u001b[1;33m(\u001b[0m\u001b[0mimportances\u001b[0m\u001b[1;33m,\u001b[0m \u001b[0mmodel\u001b[0m\u001b[1;33m,\u001b[0m \u001b[0mtraining_features\u001b[0m\u001b[1;33m,\u001b[0m \u001b[0mthreshold\u001b[0m\u001b[1;33m=\u001b[0m\u001b[1;36m5\u001b[0m\u001b[1;33m,\u001b[0m \u001b[0msort_feat\u001b[0m\u001b[1;33m=\u001b[0m\u001b[1;32mTrue\u001b[0m\u001b[1;33m)\u001b[0m\u001b[1;33m\u001b[0m\u001b[1;33m\u001b[0m\u001b[0m\n\u001b[0m",
      "\u001b[1;32m<ipython-input-161-b2eb92799aa3>\u001b[0m in \u001b[0;36mplot_feat_imp\u001b[1;34m(feature_importance, model, train_feat, threshold, sort_feat)\u001b[0m\n\u001b[0;32m     61\u001b[0m \u001b[1;31m#     plt.savefig(export_plots+col+feature_importance_'+model_name+'.pdf',dpi=500, bbox_inches='tight')\u001b[0m\u001b[1;33m\u001b[0m\u001b[1;33m\u001b[0m\u001b[1;33m\u001b[0m\u001b[0m\n\u001b[0;32m     62\u001b[0m \u001b[1;33m\u001b[0m\u001b[0m\n\u001b[1;32m---> 63\u001b[1;33m     \u001b[0mplt\u001b[0m\u001b[1;33m.\u001b[0m\u001b[0mshow\u001b[0m\u001b[1;33m(\u001b[0m\u001b[1;33m)\u001b[0m\u001b[1;33m\u001b[0m\u001b[1;33m\u001b[0m\u001b[0m\n\u001b[0m\u001b[0;32m     64\u001b[0m \u001b[1;33m\u001b[0m\u001b[0m\n\u001b[0;32m     65\u001b[0m \u001b[1;33m\u001b[0m\u001b[0m\n",
      "\u001b[1;32mC:\\ProgramData\\Anaconda3\\lib\\site-packages\\matplotlib\\pyplot.py\u001b[0m in \u001b[0;36mshow\u001b[1;34m(*args, **kwargs)\u001b[0m\n\u001b[0;32m    351\u001b[0m     \"\"\"\n\u001b[0;32m    352\u001b[0m     \u001b[0m_warn_if_gui_out_of_main_thread\u001b[0m\u001b[1;33m(\u001b[0m\u001b[1;33m)\u001b[0m\u001b[1;33m\u001b[0m\u001b[1;33m\u001b[0m\u001b[0m\n\u001b[1;32m--> 353\u001b[1;33m     \u001b[1;32mreturn\u001b[0m \u001b[0m_backend_mod\u001b[0m\u001b[1;33m.\u001b[0m\u001b[0mshow\u001b[0m\u001b[1;33m(\u001b[0m\u001b[1;33m*\u001b[0m\u001b[0margs\u001b[0m\u001b[1;33m,\u001b[0m \u001b[1;33m**\u001b[0m\u001b[0mkwargs\u001b[0m\u001b[1;33m)\u001b[0m\u001b[1;33m\u001b[0m\u001b[1;33m\u001b[0m\u001b[0m\n\u001b[0m\u001b[0;32m    354\u001b[0m \u001b[1;33m\u001b[0m\u001b[0m\n\u001b[0;32m    355\u001b[0m \u001b[1;33m\u001b[0m\u001b[0m\n",
      "\u001b[1;32mC:\\ProgramData\\Anaconda3\\lib\\site-packages\\ipykernel\\pylab\\backend_inline.py\u001b[0m in \u001b[0;36mshow\u001b[1;34m(close, block)\u001b[0m\n\u001b[0;32m     39\u001b[0m     \u001b[1;32mtry\u001b[0m\u001b[1;33m:\u001b[0m\u001b[1;33m\u001b[0m\u001b[1;33m\u001b[0m\u001b[0m\n\u001b[0;32m     40\u001b[0m         \u001b[1;32mfor\u001b[0m \u001b[0mfigure_manager\u001b[0m \u001b[1;32min\u001b[0m \u001b[0mGcf\u001b[0m\u001b[1;33m.\u001b[0m\u001b[0mget_all_fig_managers\u001b[0m\u001b[1;33m(\u001b[0m\u001b[1;33m)\u001b[0m\u001b[1;33m:\u001b[0m\u001b[1;33m\u001b[0m\u001b[1;33m\u001b[0m\u001b[0m\n\u001b[1;32m---> 41\u001b[1;33m             display(\n\u001b[0m\u001b[0;32m     42\u001b[0m                 \u001b[0mfigure_manager\u001b[0m\u001b[1;33m.\u001b[0m\u001b[0mcanvas\u001b[0m\u001b[1;33m.\u001b[0m\u001b[0mfigure\u001b[0m\u001b[1;33m,\u001b[0m\u001b[1;33m\u001b[0m\u001b[1;33m\u001b[0m\u001b[0m\n\u001b[0;32m     43\u001b[0m                 \u001b[0mmetadata\u001b[0m\u001b[1;33m=\u001b[0m\u001b[0m_fetch_figure_metadata\u001b[0m\u001b[1;33m(\u001b[0m\u001b[0mfigure_manager\u001b[0m\u001b[1;33m.\u001b[0m\u001b[0mcanvas\u001b[0m\u001b[1;33m.\u001b[0m\u001b[0mfigure\u001b[0m\u001b[1;33m)\u001b[0m\u001b[1;33m\u001b[0m\u001b[1;33m\u001b[0m\u001b[0m\n",
      "\u001b[1;32mC:\\ProgramData\\Anaconda3\\lib\\site-packages\\IPython\\core\\display.py\u001b[0m in \u001b[0;36mdisplay\u001b[1;34m(include, exclude, metadata, transient, display_id, *objs, **kwargs)\u001b[0m\n\u001b[0;32m    311\u001b[0m             \u001b[0mpublish_display_data\u001b[0m\u001b[1;33m(\u001b[0m\u001b[0mdata\u001b[0m\u001b[1;33m=\u001b[0m\u001b[0mobj\u001b[0m\u001b[1;33m,\u001b[0m \u001b[0mmetadata\u001b[0m\u001b[1;33m=\u001b[0m\u001b[0mmetadata\u001b[0m\u001b[1;33m,\u001b[0m \u001b[1;33m**\u001b[0m\u001b[0mkwargs\u001b[0m\u001b[1;33m)\u001b[0m\u001b[1;33m\u001b[0m\u001b[1;33m\u001b[0m\u001b[0m\n\u001b[0;32m    312\u001b[0m         \u001b[1;32melse\u001b[0m\u001b[1;33m:\u001b[0m\u001b[1;33m\u001b[0m\u001b[1;33m\u001b[0m\u001b[0m\n\u001b[1;32m--> 313\u001b[1;33m             \u001b[0mformat_dict\u001b[0m\u001b[1;33m,\u001b[0m \u001b[0mmd_dict\u001b[0m \u001b[1;33m=\u001b[0m \u001b[0mformat\u001b[0m\u001b[1;33m(\u001b[0m\u001b[0mobj\u001b[0m\u001b[1;33m,\u001b[0m \u001b[0minclude\u001b[0m\u001b[1;33m=\u001b[0m\u001b[0minclude\u001b[0m\u001b[1;33m,\u001b[0m \u001b[0mexclude\u001b[0m\u001b[1;33m=\u001b[0m\u001b[0mexclude\u001b[0m\u001b[1;33m)\u001b[0m\u001b[1;33m\u001b[0m\u001b[1;33m\u001b[0m\u001b[0m\n\u001b[0m\u001b[0;32m    314\u001b[0m             \u001b[1;32mif\u001b[0m \u001b[1;32mnot\u001b[0m \u001b[0mformat_dict\u001b[0m\u001b[1;33m:\u001b[0m\u001b[1;33m\u001b[0m\u001b[1;33m\u001b[0m\u001b[0m\n\u001b[0;32m    315\u001b[0m                 \u001b[1;31m# nothing to display (e.g. _ipython_display_ took over)\u001b[0m\u001b[1;33m\u001b[0m\u001b[1;33m\u001b[0m\u001b[1;33m\u001b[0m\u001b[0m\n",
      "\u001b[1;32mC:\\ProgramData\\Anaconda3\\lib\\site-packages\\IPython\\core\\formatters.py\u001b[0m in \u001b[0;36mformat\u001b[1;34m(self, obj, include, exclude)\u001b[0m\n\u001b[0;32m    178\u001b[0m             \u001b[0mmd\u001b[0m \u001b[1;33m=\u001b[0m \u001b[1;32mNone\u001b[0m\u001b[1;33m\u001b[0m\u001b[1;33m\u001b[0m\u001b[0m\n\u001b[0;32m    179\u001b[0m             \u001b[1;32mtry\u001b[0m\u001b[1;33m:\u001b[0m\u001b[1;33m\u001b[0m\u001b[1;33m\u001b[0m\u001b[0m\n\u001b[1;32m--> 180\u001b[1;33m                 \u001b[0mdata\u001b[0m \u001b[1;33m=\u001b[0m \u001b[0mformatter\u001b[0m\u001b[1;33m(\u001b[0m\u001b[0mobj\u001b[0m\u001b[1;33m)\u001b[0m\u001b[1;33m\u001b[0m\u001b[1;33m\u001b[0m\u001b[0m\n\u001b[0m\u001b[0;32m    181\u001b[0m             \u001b[1;32mexcept\u001b[0m\u001b[1;33m:\u001b[0m\u001b[1;33m\u001b[0m\u001b[1;33m\u001b[0m\u001b[0m\n\u001b[0;32m    182\u001b[0m                 \u001b[1;31m# FIXME: log the exception\u001b[0m\u001b[1;33m\u001b[0m\u001b[1;33m\u001b[0m\u001b[1;33m\u001b[0m\u001b[0m\n",
      "\u001b[1;32m<decorator-gen-2>\u001b[0m in \u001b[0;36m__call__\u001b[1;34m(self, obj)\u001b[0m\n",
      "\u001b[1;32mC:\\ProgramData\\Anaconda3\\lib\\site-packages\\IPython\\core\\formatters.py\u001b[0m in \u001b[0;36mcatch_format_error\u001b[1;34m(method, self, *args, **kwargs)\u001b[0m\n\u001b[0;32m    222\u001b[0m     \u001b[1;34m\"\"\"show traceback on failed format call\"\"\"\u001b[0m\u001b[1;33m\u001b[0m\u001b[1;33m\u001b[0m\u001b[0m\n\u001b[0;32m    223\u001b[0m     \u001b[1;32mtry\u001b[0m\u001b[1;33m:\u001b[0m\u001b[1;33m\u001b[0m\u001b[1;33m\u001b[0m\u001b[0m\n\u001b[1;32m--> 224\u001b[1;33m         \u001b[0mr\u001b[0m \u001b[1;33m=\u001b[0m \u001b[0mmethod\u001b[0m\u001b[1;33m(\u001b[0m\u001b[0mself\u001b[0m\u001b[1;33m,\u001b[0m \u001b[1;33m*\u001b[0m\u001b[0margs\u001b[0m\u001b[1;33m,\u001b[0m \u001b[1;33m**\u001b[0m\u001b[0mkwargs\u001b[0m\u001b[1;33m)\u001b[0m\u001b[1;33m\u001b[0m\u001b[1;33m\u001b[0m\u001b[0m\n\u001b[0m\u001b[0;32m    225\u001b[0m     \u001b[1;32mexcept\u001b[0m \u001b[0mNotImplementedError\u001b[0m\u001b[1;33m:\u001b[0m\u001b[1;33m\u001b[0m\u001b[1;33m\u001b[0m\u001b[0m\n\u001b[0;32m    226\u001b[0m         \u001b[1;31m# don't warn on NotImplementedErrors\u001b[0m\u001b[1;33m\u001b[0m\u001b[1;33m\u001b[0m\u001b[1;33m\u001b[0m\u001b[0m\n",
      "\u001b[1;32mC:\\ProgramData\\Anaconda3\\lib\\site-packages\\IPython\\core\\formatters.py\u001b[0m in \u001b[0;36m__call__\u001b[1;34m(self, obj)\u001b[0m\n\u001b[0;32m    339\u001b[0m                 \u001b[1;32mpass\u001b[0m\u001b[1;33m\u001b[0m\u001b[1;33m\u001b[0m\u001b[0m\n\u001b[0;32m    340\u001b[0m             \u001b[1;32melse\u001b[0m\u001b[1;33m:\u001b[0m\u001b[1;33m\u001b[0m\u001b[1;33m\u001b[0m\u001b[0m\n\u001b[1;32m--> 341\u001b[1;33m                 \u001b[1;32mreturn\u001b[0m \u001b[0mprinter\u001b[0m\u001b[1;33m(\u001b[0m\u001b[0mobj\u001b[0m\u001b[1;33m)\u001b[0m\u001b[1;33m\u001b[0m\u001b[1;33m\u001b[0m\u001b[0m\n\u001b[0m\u001b[0;32m    342\u001b[0m             \u001b[1;31m# Finally look for special method names\u001b[0m\u001b[1;33m\u001b[0m\u001b[1;33m\u001b[0m\u001b[1;33m\u001b[0m\u001b[0m\n\u001b[0;32m    343\u001b[0m             \u001b[0mmethod\u001b[0m \u001b[1;33m=\u001b[0m \u001b[0mget_real_method\u001b[0m\u001b[1;33m(\u001b[0m\u001b[0mobj\u001b[0m\u001b[1;33m,\u001b[0m \u001b[0mself\u001b[0m\u001b[1;33m.\u001b[0m\u001b[0mprint_method\u001b[0m\u001b[1;33m)\u001b[0m\u001b[1;33m\u001b[0m\u001b[1;33m\u001b[0m\u001b[0m\n",
      "\u001b[1;32mC:\\ProgramData\\Anaconda3\\lib\\site-packages\\IPython\\core\\pylabtools.py\u001b[0m in \u001b[0;36m<lambda>\u001b[1;34m(fig)\u001b[0m\n\u001b[0;32m    246\u001b[0m \u001b[1;33m\u001b[0m\u001b[0m\n\u001b[0;32m    247\u001b[0m     \u001b[1;32mif\u001b[0m \u001b[1;34m'png'\u001b[0m \u001b[1;32min\u001b[0m \u001b[0mformats\u001b[0m\u001b[1;33m:\u001b[0m\u001b[1;33m\u001b[0m\u001b[1;33m\u001b[0m\u001b[0m\n\u001b[1;32m--> 248\u001b[1;33m         \u001b[0mpng_formatter\u001b[0m\u001b[1;33m.\u001b[0m\u001b[0mfor_type\u001b[0m\u001b[1;33m(\u001b[0m\u001b[0mFigure\u001b[0m\u001b[1;33m,\u001b[0m \u001b[1;32mlambda\u001b[0m \u001b[0mfig\u001b[0m\u001b[1;33m:\u001b[0m \u001b[0mprint_figure\u001b[0m\u001b[1;33m(\u001b[0m\u001b[0mfig\u001b[0m\u001b[1;33m,\u001b[0m \u001b[1;34m'png'\u001b[0m\u001b[1;33m,\u001b[0m \u001b[1;33m**\u001b[0m\u001b[0mkwargs\u001b[0m\u001b[1;33m)\u001b[0m\u001b[1;33m)\u001b[0m\u001b[1;33m\u001b[0m\u001b[1;33m\u001b[0m\u001b[0m\n\u001b[0m\u001b[0;32m    249\u001b[0m     \u001b[1;32mif\u001b[0m \u001b[1;34m'retina'\u001b[0m \u001b[1;32min\u001b[0m \u001b[0mformats\u001b[0m \u001b[1;32mor\u001b[0m \u001b[1;34m'png2x'\u001b[0m \u001b[1;32min\u001b[0m \u001b[0mformats\u001b[0m\u001b[1;33m:\u001b[0m\u001b[1;33m\u001b[0m\u001b[1;33m\u001b[0m\u001b[0m\n\u001b[0;32m    250\u001b[0m         \u001b[0mpng_formatter\u001b[0m\u001b[1;33m.\u001b[0m\u001b[0mfor_type\u001b[0m\u001b[1;33m(\u001b[0m\u001b[0mFigure\u001b[0m\u001b[1;33m,\u001b[0m \u001b[1;32mlambda\u001b[0m \u001b[0mfig\u001b[0m\u001b[1;33m:\u001b[0m \u001b[0mretina_figure\u001b[0m\u001b[1;33m(\u001b[0m\u001b[0mfig\u001b[0m\u001b[1;33m,\u001b[0m \u001b[1;33m**\u001b[0m\u001b[0mkwargs\u001b[0m\u001b[1;33m)\u001b[0m\u001b[1;33m)\u001b[0m\u001b[1;33m\u001b[0m\u001b[1;33m\u001b[0m\u001b[0m\n",
      "\u001b[1;32mC:\\ProgramData\\Anaconda3\\lib\\site-packages\\IPython\\core\\pylabtools.py\u001b[0m in \u001b[0;36mprint_figure\u001b[1;34m(fig, fmt, bbox_inches, **kwargs)\u001b[0m\n\u001b[0;32m    130\u001b[0m         \u001b[0mFigureCanvasBase\u001b[0m\u001b[1;33m(\u001b[0m\u001b[0mfig\u001b[0m\u001b[1;33m)\u001b[0m\u001b[1;33m\u001b[0m\u001b[1;33m\u001b[0m\u001b[0m\n\u001b[0;32m    131\u001b[0m \u001b[1;33m\u001b[0m\u001b[0m\n\u001b[1;32m--> 132\u001b[1;33m     \u001b[0mfig\u001b[0m\u001b[1;33m.\u001b[0m\u001b[0mcanvas\u001b[0m\u001b[1;33m.\u001b[0m\u001b[0mprint_figure\u001b[0m\u001b[1;33m(\u001b[0m\u001b[0mbytes_io\u001b[0m\u001b[1;33m,\u001b[0m \u001b[1;33m**\u001b[0m\u001b[0mkw\u001b[0m\u001b[1;33m)\u001b[0m\u001b[1;33m\u001b[0m\u001b[1;33m\u001b[0m\u001b[0m\n\u001b[0m\u001b[0;32m    133\u001b[0m     \u001b[0mdata\u001b[0m \u001b[1;33m=\u001b[0m \u001b[0mbytes_io\u001b[0m\u001b[1;33m.\u001b[0m\u001b[0mgetvalue\u001b[0m\u001b[1;33m(\u001b[0m\u001b[1;33m)\u001b[0m\u001b[1;33m\u001b[0m\u001b[1;33m\u001b[0m\u001b[0m\n\u001b[0;32m    134\u001b[0m     \u001b[1;32mif\u001b[0m \u001b[0mfmt\u001b[0m \u001b[1;33m==\u001b[0m \u001b[1;34m'svg'\u001b[0m\u001b[1;33m:\u001b[0m\u001b[1;33m\u001b[0m\u001b[1;33m\u001b[0m\u001b[0m\n",
      "\u001b[1;32mC:\\ProgramData\\Anaconda3\\lib\\site-packages\\matplotlib\\backend_bases.py\u001b[0m in \u001b[0;36mprint_figure\u001b[1;34m(self, filename, dpi, facecolor, edgecolor, orientation, format, bbox_inches, pad_inches, bbox_extra_artists, backend, **kwargs)\u001b[0m\n\u001b[0;32m   2193\u001b[0m                         \u001b[0mself\u001b[0m\u001b[1;33m.\u001b[0m\u001b[0mfigure\u001b[0m\u001b[1;33m.\u001b[0m\u001b[0mdraw\u001b[0m\u001b[1;33m(\u001b[0m\u001b[0mrenderer\u001b[0m\u001b[1;33m)\u001b[0m\u001b[1;33m\u001b[0m\u001b[1;33m\u001b[0m\u001b[0m\n\u001b[0;32m   2194\u001b[0m \u001b[1;33m\u001b[0m\u001b[0m\n\u001b[1;32m-> 2195\u001b[1;33m                     bbox_inches = self.figure.get_tightbbox(\n\u001b[0m\u001b[0;32m   2196\u001b[0m                         renderer, bbox_extra_artists=bbox_extra_artists)\n\u001b[0;32m   2197\u001b[0m                     \u001b[1;32mif\u001b[0m \u001b[0mpad_inches\u001b[0m \u001b[1;32mis\u001b[0m \u001b[1;32mNone\u001b[0m\u001b[1;33m:\u001b[0m\u001b[1;33m\u001b[0m\u001b[1;33m\u001b[0m\u001b[0m\n",
      "\u001b[1;32mC:\\ProgramData\\Anaconda3\\lib\\site-packages\\matplotlib\\figure.py\u001b[0m in \u001b[0;36mget_tightbbox\u001b[1;34m(self, renderer, bbox_extra_artists)\u001b[0m\n\u001b[0;32m   2513\u001b[0m                 \u001b[1;31m# need this conditional....\u001b[0m\u001b[1;33m\u001b[0m\u001b[1;33m\u001b[0m\u001b[1;33m\u001b[0m\u001b[0m\n\u001b[0;32m   2514\u001b[0m                 \u001b[1;32mtry\u001b[0m\u001b[1;33m:\u001b[0m\u001b[1;33m\u001b[0m\u001b[1;33m\u001b[0m\u001b[0m\n\u001b[1;32m-> 2515\u001b[1;33m                     bbox = ax.get_tightbbox(\n\u001b[0m\u001b[0;32m   2516\u001b[0m                         renderer, bbox_extra_artists=bbox_extra_artists)\n\u001b[0;32m   2517\u001b[0m                 \u001b[1;32mexcept\u001b[0m \u001b[0mTypeError\u001b[0m\u001b[1;33m:\u001b[0m\u001b[1;33m\u001b[0m\u001b[1;33m\u001b[0m\u001b[0m\n",
      "\u001b[1;32mC:\\ProgramData\\Anaconda3\\lib\\site-packages\\matplotlib\\axes\\_base.py\u001b[0m in \u001b[0;36mget_tightbbox\u001b[1;34m(self, renderer, call_axes_locator, bbox_extra_artists, for_layout_only)\u001b[0m\n\u001b[0;32m   4153\u001b[0m             \u001b[1;32mif\u001b[0m \u001b[0mself\u001b[0m\u001b[1;33m.\u001b[0m\u001b[0mxaxis\u001b[0m\u001b[1;33m.\u001b[0m\u001b[0mget_visible\u001b[0m\u001b[1;33m(\u001b[0m\u001b[1;33m)\u001b[0m\u001b[1;33m:\u001b[0m\u001b[1;33m\u001b[0m\u001b[1;33m\u001b[0m\u001b[0m\n\u001b[0;32m   4154\u001b[0m                 \u001b[1;32mtry\u001b[0m\u001b[1;33m:\u001b[0m\u001b[1;33m\u001b[0m\u001b[1;33m\u001b[0m\u001b[0m\n\u001b[1;32m-> 4155\u001b[1;33m                     bb_xaxis = self.xaxis.get_tightbbox(\n\u001b[0m\u001b[0;32m   4156\u001b[0m                         renderer, for_layout_only=for_layout_only)\n\u001b[0;32m   4157\u001b[0m                 \u001b[1;32mexcept\u001b[0m \u001b[0mTypeError\u001b[0m\u001b[1;33m:\u001b[0m\u001b[1;33m\u001b[0m\u001b[1;33m\u001b[0m\u001b[0m\n",
      "\u001b[1;32mC:\\ProgramData\\Anaconda3\\lib\\site-packages\\matplotlib\\axis.py\u001b[0m in \u001b[0;36mget_tightbbox\u001b[1;34m(self, renderer, for_layout_only)\u001b[0m\n\u001b[0;32m   1115\u001b[0m                     ticks_to_draw, renderer)\n\u001b[0;32m   1116\u001b[0m \u001b[1;33m\u001b[0m\u001b[0m\n\u001b[1;32m-> 1117\u001b[1;33m         \u001b[0mself\u001b[0m\u001b[1;33m.\u001b[0m\u001b[0m_update_offset_text_position\u001b[0m\u001b[1;33m(\u001b[0m\u001b[0mticklabelBoxes\u001b[0m\u001b[1;33m,\u001b[0m \u001b[0mticklabelBoxes2\u001b[0m\u001b[1;33m)\u001b[0m\u001b[1;33m\u001b[0m\u001b[1;33m\u001b[0m\u001b[0m\n\u001b[0m\u001b[0;32m   1118\u001b[0m         \u001b[0mself\u001b[0m\u001b[1;33m.\u001b[0m\u001b[0moffsetText\u001b[0m\u001b[1;33m.\u001b[0m\u001b[0mset_text\u001b[0m\u001b[1;33m(\u001b[0m\u001b[0mself\u001b[0m\u001b[1;33m.\u001b[0m\u001b[0mmajor\u001b[0m\u001b[1;33m.\u001b[0m\u001b[0mformatter\u001b[0m\u001b[1;33m.\u001b[0m\u001b[0mget_offset\u001b[0m\u001b[1;33m(\u001b[0m\u001b[1;33m)\u001b[0m\u001b[1;33m)\u001b[0m\u001b[1;33m\u001b[0m\u001b[1;33m\u001b[0m\u001b[0m\n\u001b[0;32m   1119\u001b[0m \u001b[1;33m\u001b[0m\u001b[0m\n",
      "\u001b[1;32mC:\\ProgramData\\Anaconda3\\lib\\site-packages\\matplotlib\\axis.py\u001b[0m in \u001b[0;36m_update_offset_text_position\u001b[1;34m(self, bboxes, bboxes2)\u001b[0m\n\u001b[0;32m   2101\u001b[0m                 \u001b[0mbottom\u001b[0m \u001b[1;33m=\u001b[0m \u001b[0mself\u001b[0m\u001b[1;33m.\u001b[0m\u001b[0maxes\u001b[0m\u001b[1;33m.\u001b[0m\u001b[0mbbox\u001b[0m\u001b[1;33m.\u001b[0m\u001b[0mymin\u001b[0m\u001b[1;33m\u001b[0m\u001b[1;33m\u001b[0m\u001b[0m\n\u001b[0;32m   2102\u001b[0m             \u001b[1;32melse\u001b[0m\u001b[1;33m:\u001b[0m\u001b[1;33m\u001b[0m\u001b[1;33m\u001b[0m\u001b[0m\n\u001b[1;32m-> 2103\u001b[1;33m                 \u001b[0mbbox\u001b[0m \u001b[1;33m=\u001b[0m \u001b[0mmtransforms\u001b[0m\u001b[1;33m.\u001b[0m\u001b[0mBbox\u001b[0m\u001b[1;33m.\u001b[0m\u001b[0munion\u001b[0m\u001b[1;33m(\u001b[0m\u001b[0mbboxes\u001b[0m\u001b[1;33m)\u001b[0m\u001b[1;33m\u001b[0m\u001b[1;33m\u001b[0m\u001b[0m\n\u001b[0m\u001b[0;32m   2104\u001b[0m                 \u001b[0mbottom\u001b[0m \u001b[1;33m=\u001b[0m \u001b[0mbbox\u001b[0m\u001b[1;33m.\u001b[0m\u001b[0my0\u001b[0m\u001b[1;33m\u001b[0m\u001b[1;33m\u001b[0m\u001b[0m\n\u001b[0;32m   2105\u001b[0m             \u001b[0my\u001b[0m \u001b[1;33m=\u001b[0m \u001b[0mbottom\u001b[0m \u001b[1;33m-\u001b[0m \u001b[0mself\u001b[0m\u001b[1;33m.\u001b[0m\u001b[0mOFFSETTEXTPAD\u001b[0m \u001b[1;33m*\u001b[0m \u001b[0mself\u001b[0m\u001b[1;33m.\u001b[0m\u001b[0mfigure\u001b[0m\u001b[1;33m.\u001b[0m\u001b[0mdpi\u001b[0m \u001b[1;33m/\u001b[0m \u001b[1;36m72\u001b[0m\u001b[1;33m\u001b[0m\u001b[1;33m\u001b[0m\u001b[0m\n",
      "\u001b[1;32mC:\\ProgramData\\Anaconda3\\lib\\site-packages\\matplotlib\\transforms.py\u001b[0m in \u001b[0;36munion\u001b[1;34m(bboxes)\u001b[0m\n\u001b[0;32m    665\u001b[0m         \u001b[1;32mwith\u001b[0m \u001b[0mnp\u001b[0m\u001b[1;33m.\u001b[0m\u001b[0merrstate\u001b[0m\u001b[1;33m(\u001b[0m\u001b[0minvalid\u001b[0m\u001b[1;33m=\u001b[0m\u001b[1;34m'ignore'\u001b[0m\u001b[1;33m)\u001b[0m\u001b[1;33m:\u001b[0m\u001b[1;33m\u001b[0m\u001b[1;33m\u001b[0m\u001b[0m\n\u001b[0;32m    666\u001b[0m             \u001b[0mx0\u001b[0m \u001b[1;33m=\u001b[0m \u001b[0mnp\u001b[0m\u001b[1;33m.\u001b[0m\u001b[0mmin\u001b[0m\u001b[1;33m(\u001b[0m\u001b[1;33m[\u001b[0m\u001b[0mbbox\u001b[0m\u001b[1;33m.\u001b[0m\u001b[0mxmin\u001b[0m \u001b[1;32mfor\u001b[0m \u001b[0mbbox\u001b[0m \u001b[1;32min\u001b[0m \u001b[0mbboxes\u001b[0m\u001b[1;33m]\u001b[0m\u001b[1;33m)\u001b[0m\u001b[1;33m\u001b[0m\u001b[1;33m\u001b[0m\u001b[0m\n\u001b[1;32m--> 667\u001b[1;33m             \u001b[0mx1\u001b[0m \u001b[1;33m=\u001b[0m \u001b[0mnp\u001b[0m\u001b[1;33m.\u001b[0m\u001b[0mmax\u001b[0m\u001b[1;33m(\u001b[0m\u001b[1;33m[\u001b[0m\u001b[0mbbox\u001b[0m\u001b[1;33m.\u001b[0m\u001b[0mxmax\u001b[0m \u001b[1;32mfor\u001b[0m \u001b[0mbbox\u001b[0m \u001b[1;32min\u001b[0m \u001b[0mbboxes\u001b[0m\u001b[1;33m]\u001b[0m\u001b[1;33m)\u001b[0m\u001b[1;33m\u001b[0m\u001b[1;33m\u001b[0m\u001b[0m\n\u001b[0m\u001b[0;32m    668\u001b[0m             \u001b[0my0\u001b[0m \u001b[1;33m=\u001b[0m \u001b[0mnp\u001b[0m\u001b[1;33m.\u001b[0m\u001b[0mmin\u001b[0m\u001b[1;33m(\u001b[0m\u001b[1;33m[\u001b[0m\u001b[0mbbox\u001b[0m\u001b[1;33m.\u001b[0m\u001b[0mymin\u001b[0m \u001b[1;32mfor\u001b[0m \u001b[0mbbox\u001b[0m \u001b[1;32min\u001b[0m \u001b[0mbboxes\u001b[0m\u001b[1;33m]\u001b[0m\u001b[1;33m)\u001b[0m\u001b[1;33m\u001b[0m\u001b[1;33m\u001b[0m\u001b[0m\n\u001b[0;32m    669\u001b[0m             \u001b[0my1\u001b[0m \u001b[1;33m=\u001b[0m \u001b[0mnp\u001b[0m\u001b[1;33m.\u001b[0m\u001b[0mmax\u001b[0m\u001b[1;33m(\u001b[0m\u001b[1;33m[\u001b[0m\u001b[0mbbox\u001b[0m\u001b[1;33m.\u001b[0m\u001b[0mymax\u001b[0m \u001b[1;32mfor\u001b[0m \u001b[0mbbox\u001b[0m \u001b[1;32min\u001b[0m \u001b[0mbboxes\u001b[0m\u001b[1;33m]\u001b[0m\u001b[1;33m)\u001b[0m\u001b[1;33m\u001b[0m\u001b[1;33m\u001b[0m\u001b[0m\n",
      "\u001b[1;32mC:\\ProgramData\\Anaconda3\\lib\\site-packages\\matplotlib\\transforms.py\u001b[0m in \u001b[0;36m<listcomp>\u001b[1;34m(.0)\u001b[0m\n\u001b[0;32m    665\u001b[0m         \u001b[1;32mwith\u001b[0m \u001b[0mnp\u001b[0m\u001b[1;33m.\u001b[0m\u001b[0merrstate\u001b[0m\u001b[1;33m(\u001b[0m\u001b[0minvalid\u001b[0m\u001b[1;33m=\u001b[0m\u001b[1;34m'ignore'\u001b[0m\u001b[1;33m)\u001b[0m\u001b[1;33m:\u001b[0m\u001b[1;33m\u001b[0m\u001b[1;33m\u001b[0m\u001b[0m\n\u001b[0;32m    666\u001b[0m             \u001b[0mx0\u001b[0m \u001b[1;33m=\u001b[0m \u001b[0mnp\u001b[0m\u001b[1;33m.\u001b[0m\u001b[0mmin\u001b[0m\u001b[1;33m(\u001b[0m\u001b[1;33m[\u001b[0m\u001b[0mbbox\u001b[0m\u001b[1;33m.\u001b[0m\u001b[0mxmin\u001b[0m \u001b[1;32mfor\u001b[0m \u001b[0mbbox\u001b[0m \u001b[1;32min\u001b[0m \u001b[0mbboxes\u001b[0m\u001b[1;33m]\u001b[0m\u001b[1;33m)\u001b[0m\u001b[1;33m\u001b[0m\u001b[1;33m\u001b[0m\u001b[0m\n\u001b[1;32m--> 667\u001b[1;33m             \u001b[0mx1\u001b[0m \u001b[1;33m=\u001b[0m \u001b[0mnp\u001b[0m\u001b[1;33m.\u001b[0m\u001b[0mmax\u001b[0m\u001b[1;33m(\u001b[0m\u001b[1;33m[\u001b[0m\u001b[0mbbox\u001b[0m\u001b[1;33m.\u001b[0m\u001b[0mxmax\u001b[0m \u001b[1;32mfor\u001b[0m \u001b[0mbbox\u001b[0m \u001b[1;32min\u001b[0m \u001b[0mbboxes\u001b[0m\u001b[1;33m]\u001b[0m\u001b[1;33m)\u001b[0m\u001b[1;33m\u001b[0m\u001b[1;33m\u001b[0m\u001b[0m\n\u001b[0m\u001b[0;32m    668\u001b[0m             \u001b[0my0\u001b[0m \u001b[1;33m=\u001b[0m \u001b[0mnp\u001b[0m\u001b[1;33m.\u001b[0m\u001b[0mmin\u001b[0m\u001b[1;33m(\u001b[0m\u001b[1;33m[\u001b[0m\u001b[0mbbox\u001b[0m\u001b[1;33m.\u001b[0m\u001b[0mymin\u001b[0m \u001b[1;32mfor\u001b[0m \u001b[0mbbox\u001b[0m \u001b[1;32min\u001b[0m \u001b[0mbboxes\u001b[0m\u001b[1;33m]\u001b[0m\u001b[1;33m)\u001b[0m\u001b[1;33m\u001b[0m\u001b[1;33m\u001b[0m\u001b[0m\n\u001b[0;32m    669\u001b[0m             \u001b[0my1\u001b[0m \u001b[1;33m=\u001b[0m \u001b[0mnp\u001b[0m\u001b[1;33m.\u001b[0m\u001b[0mmax\u001b[0m\u001b[1;33m(\u001b[0m\u001b[1;33m[\u001b[0m\u001b[0mbbox\u001b[0m\u001b[1;33m.\u001b[0m\u001b[0mymax\u001b[0m \u001b[1;32mfor\u001b[0m \u001b[0mbbox\u001b[0m \u001b[1;32min\u001b[0m \u001b[0mbboxes\u001b[0m\u001b[1;33m]\u001b[0m\u001b[1;33m)\u001b[0m\u001b[1;33m\u001b[0m\u001b[1;33m\u001b[0m\u001b[0m\n",
      "\u001b[1;32mC:\\ProgramData\\Anaconda3\\lib\\site-packages\\matplotlib\\transforms.py\u001b[0m in \u001b[0;36mxmax\u001b[1;34m(self)\u001b[0m\n\u001b[0;32m    320\u001b[0m     \u001b[1;32mdef\u001b[0m \u001b[0mxmax\u001b[0m\u001b[1;33m(\u001b[0m\u001b[0mself\u001b[0m\u001b[1;33m)\u001b[0m\u001b[1;33m:\u001b[0m\u001b[1;33m\u001b[0m\u001b[1;33m\u001b[0m\u001b[0m\n\u001b[0;32m    321\u001b[0m         \u001b[1;34m\"\"\"The right edge of the bounding box.\"\"\"\u001b[0m\u001b[1;33m\u001b[0m\u001b[1;33m\u001b[0m\u001b[0m\n\u001b[1;32m--> 322\u001b[1;33m         \u001b[1;32mreturn\u001b[0m \u001b[0mnp\u001b[0m\u001b[1;33m.\u001b[0m\u001b[0mmax\u001b[0m\u001b[1;33m(\u001b[0m\u001b[0mself\u001b[0m\u001b[1;33m.\u001b[0m\u001b[0mget_points\u001b[0m\u001b[1;33m(\u001b[0m\u001b[1;33m)\u001b[0m\u001b[1;33m[\u001b[0m\u001b[1;33m:\u001b[0m\u001b[1;33m,\u001b[0m \u001b[1;36m0\u001b[0m\u001b[1;33m]\u001b[0m\u001b[1;33m)\u001b[0m\u001b[1;33m\u001b[0m\u001b[1;33m\u001b[0m\u001b[0m\n\u001b[0m\u001b[0;32m    323\u001b[0m \u001b[1;33m\u001b[0m\u001b[0m\n\u001b[0;32m    324\u001b[0m     \u001b[1;33m@\u001b[0m\u001b[0mproperty\u001b[0m\u001b[1;33m\u001b[0m\u001b[1;33m\u001b[0m\u001b[0m\n",
      "\u001b[1;32m<__array_function__ internals>\u001b[0m in \u001b[0;36mamax\u001b[1;34m(*args, **kwargs)\u001b[0m\n",
      "\u001b[1;32mC:\\ProgramData\\Anaconda3\\lib\\site-packages\\numpy\\core\\fromnumeric.py\u001b[0m in \u001b[0;36mamax\u001b[1;34m(a, axis, out, keepdims, initial, where)\u001b[0m\n\u001b[0;32m   2703\u001b[0m     \u001b[1;36m5\u001b[0m\u001b[1;33m\u001b[0m\u001b[1;33m\u001b[0m\u001b[0m\n\u001b[0;32m   2704\u001b[0m     \"\"\"\n\u001b[1;32m-> 2705\u001b[1;33m     return _wrapreduction(a, np.maximum, 'max', axis, None, out,\n\u001b[0m\u001b[0;32m   2706\u001b[0m                           keepdims=keepdims, initial=initial, where=where)\n\u001b[0;32m   2707\u001b[0m \u001b[1;33m\u001b[0m\u001b[0m\n",
      "\u001b[1;32mC:\\ProgramData\\Anaconda3\\lib\\site-packages\\numpy\\core\\fromnumeric.py\u001b[0m in \u001b[0;36m_wrapreduction\u001b[1;34m(obj, ufunc, method, axis, dtype, out, **kwargs)\u001b[0m\n\u001b[0;32m     85\u001b[0m                 \u001b[1;32mreturn\u001b[0m \u001b[0mreduction\u001b[0m\u001b[1;33m(\u001b[0m\u001b[0maxis\u001b[0m\u001b[1;33m=\u001b[0m\u001b[0maxis\u001b[0m\u001b[1;33m,\u001b[0m \u001b[0mout\u001b[0m\u001b[1;33m=\u001b[0m\u001b[0mout\u001b[0m\u001b[1;33m,\u001b[0m \u001b[1;33m**\u001b[0m\u001b[0mpasskwargs\u001b[0m\u001b[1;33m)\u001b[0m\u001b[1;33m\u001b[0m\u001b[1;33m\u001b[0m\u001b[0m\n\u001b[0;32m     86\u001b[0m \u001b[1;33m\u001b[0m\u001b[0m\n\u001b[1;32m---> 87\u001b[1;33m     \u001b[1;32mreturn\u001b[0m \u001b[0mufunc\u001b[0m\u001b[1;33m.\u001b[0m\u001b[0mreduce\u001b[0m\u001b[1;33m(\u001b[0m\u001b[0mobj\u001b[0m\u001b[1;33m,\u001b[0m \u001b[0maxis\u001b[0m\u001b[1;33m,\u001b[0m \u001b[0mdtype\u001b[0m\u001b[1;33m,\u001b[0m \u001b[0mout\u001b[0m\u001b[1;33m,\u001b[0m \u001b[1;33m**\u001b[0m\u001b[0mpasskwargs\u001b[0m\u001b[1;33m)\u001b[0m\u001b[1;33m\u001b[0m\u001b[1;33m\u001b[0m\u001b[0m\n\u001b[0m\u001b[0;32m     88\u001b[0m \u001b[1;33m\u001b[0m\u001b[0m\n\u001b[0;32m     89\u001b[0m \u001b[1;33m\u001b[0m\u001b[0m\n",
      "\u001b[1;31mKeyboardInterrupt\u001b[0m: "
     ]
    }
   ],
   "source": [
    "# Iterating through all possible permutations of the fields dataset\n",
    "\n",
    "for i in itertools.permutations(all_df_now, 2):\n",
    "    train_df = locals()[i[0]].copy()\n",
    "    test_df = locals()[i[1]].copy()\n",
    "    \n",
    "    \n",
    "    X_train = train_df[training_features]\n",
    "    y_train = train_df[target_features].values.ravel()\n",
    "    X_test = test_df[training_features]\n",
    "    y_test = test_df[target_features].values.ravel()\n",
    "    \n",
    "    save_details(i[0], i[1], 'same', 'self', agg_method)\n",
    "\n",
    "    # Getting scores using cross_val_score\n",
    "    for model in models:\n",
    "        print('Training: ', i[0],'Test: ', i[1], ' : ', model)\n",
    "        importances = training_regr(model, X_train, y_train, X_test, y_test)\n",
    "        if importances is not None:\n",
    "#             plot_feat_imp(importances[:len(base_indices+spectral_indices)], model, base_indices+spectral_indices)\n",
    "                plot_feat_imp(importances, model, training_features, threshold=5, sort_feat=True)"
   ]
  },
  {
   "cell_type": "markdown",
   "id": "approximate-essay",
   "metadata": {},
   "source": [
    "### One aganist all together"
   ]
  },
  {
   "cell_type": "code",
   "execution_count": 187,
   "id": "victorian-federal",
   "metadata": {
    "ExecuteTime": {
     "end_time": "2021-10-20T11:28:12.244894Z",
     "start_time": "2021-10-20T11:27:49.221923Z"
    },
    "scrolled": false
   },
   "outputs": [
    {
     "name": "stdout",
     "output_type": "stream",
     "text": [
      "Graminor_2019_Simps ['Graminor_2020_Simps', 'Masbasis_2019_Simps', 'Masbasis_2020_Simps', 'Staur_2019_Simps', 'Staur_2020_Simps']\n",
      "Training: All   Test:  Graminor_2019_Simps  :  RandomForestRegressor(n_jobs=-1, random_state=1)\n"
     ]
    },
    {
     "name": "stderr",
     "output_type": "stream",
     "text": [
      "C:\\ProgramData\\Anaconda3\\lib\\site-packages\\numpy\\core\\_asarray.py:83: VisibleDeprecationWarning: Creating an ndarray from ragged nested sequences (which is a list-or-tuple of lists-or-tuples-or ndarrays with different lengths or shapes) is deprecated. If you meant to do this, you must specify 'dtype=object' when creating the ndarray\n",
      "  return array(a, dtype, copy=False, order=order)\n"
     ]
    },
    {
     "name": "stdout",
     "output_type": "stream",
     "text": [
      " RMSE Test: 84.38261959790329        R2 Test: -1.81142279494785\n",
      "RMSE Train: 24.89467096164037       R2 Train: 0.9545879955529641\n"
     ]
    },
    {
     "name": "stderr",
     "output_type": "stream",
     "text": [
      "C:\\ProgramData\\Anaconda3\\lib\\site-packages\\numpy\\core\\_asarray.py:83: VisibleDeprecationWarning: Creating an ndarray from ragged nested sequences (which is a list-or-tuple of lists-or-tuples-or ndarrays with different lengths or shapes) is deprecated. If you meant to do this, you must specify 'dtype=object' when creating the ndarray\n",
      "  return array(a, dtype, copy=False, order=order)\n"
     ]
    },
    {
     "data": {
      "image/png": "[encoded data removed]",
      "text/plain": [
       "<Figure size 720x360 with 1 Axes>"
      ]
     },
     "metadata": {
      "needs_background": "light"
     },
     "output_type": "display_data"
    },
    {
     "name": "stdout",
     "output_type": "stream",
     "text": [
      "Graminor_2020_Simps ['Graminor_2019_Simps', 'Masbasis_2019_Simps', 'Masbasis_2020_Simps', 'Staur_2019_Simps', 'Staur_2020_Simps']\n",
      "Training: All   Test:  Graminor_2020_Simps  :  RandomForestRegressor(n_jobs=-1, random_state=1)\n"
     ]
    },
    {
     "name": "stderr",
     "output_type": "stream",
     "text": [
      "C:\\ProgramData\\Anaconda3\\lib\\site-packages\\numpy\\core\\_asarray.py:83: VisibleDeprecationWarning: Creating an ndarray from ragged nested sequences (which is a list-or-tuple of lists-or-tuples-or ndarrays with different lengths or shapes) is deprecated. If you meant to do this, you must specify 'dtype=object' when creating the ndarray\n",
      "  return array(a, dtype, copy=False, order=order)\n"
     ]
    },
    {
     "name": "stdout",
     "output_type": "stream",
     "text": [
      " RMSE Test: 117.42674718961007        R2 Test: -0.3863214876834169\n",
      "RMSE Train: 24.875697795807046       R2 Train: 0.9432678710784714\n"
     ]
    },
    {
     "name": "stderr",
     "output_type": "stream",
     "text": [
      "C:\\ProgramData\\Anaconda3\\lib\\site-packages\\numpy\\core\\_asarray.py:83: VisibleDeprecationWarning: Creating an ndarray from ragged nested sequences (which is a list-or-tuple of lists-or-tuples-or ndarrays with different lengths or shapes) is deprecated. If you meant to do this, you must specify 'dtype=object' when creating the ndarray\n",
      "  return array(a, dtype, copy=False, order=order)\n"
     ]
    },
    {
     "data": {
      "image/png": "[encoded data removed]",
      "text/plain": [
       "<Figure size 720x360 with 1 Axes>"
      ]
     },
     "metadata": {
      "needs_background": "light"
     },
     "output_type": "display_data"
    },
    {
     "name": "stdout",
     "output_type": "stream",
     "text": [
      "Masbasis_2019_Simps ['Graminor_2019_Simps', 'Graminor_2020_Simps', 'Masbasis_2020_Simps', 'Staur_2019_Simps', 'Staur_2020_Simps']\n",
      "Training: All   Test:  Masbasis_2019_Simps  :  RandomForestRegressor(n_jobs=-1, random_state=1)\n"
     ]
    },
    {
     "name": "stderr",
     "output_type": "stream",
     "text": [
      "C:\\ProgramData\\Anaconda3\\lib\\site-packages\\numpy\\core\\_asarray.py:83: VisibleDeprecationWarning: Creating an ndarray from ragged nested sequences (which is a list-or-tuple of lists-or-tuples-or ndarrays with different lengths or shapes) is deprecated. If you meant to do this, you must specify 'dtype=object' when creating the ndarray\n",
      "  return array(a, dtype, copy=False, order=order)\n"
     ]
    },
    {
     "name": "stdout",
     "output_type": "stream",
     "text": [
      " RMSE Test: 90.9423625242222        R2 Test: -0.16322921219094244\n",
      "RMSE Train: 22.97332942271264       R2 Train: 0.958982624493552\n"
     ]
    },
    {
     "name": "stderr",
     "output_type": "stream",
     "text": [
      "C:\\ProgramData\\Anaconda3\\lib\\site-packages\\numpy\\core\\_asarray.py:83: VisibleDeprecationWarning: Creating an ndarray from ragged nested sequences (which is a list-or-tuple of lists-or-tuples-or ndarrays with different lengths or shapes) is deprecated. If you meant to do this, you must specify 'dtype=object' when creating the ndarray\n",
      "  return array(a, dtype, copy=False, order=order)\n"
     ]
    },
    {
     "data": {
      "image/png": "[encoded data removed]",
      "text/plain": [
       "<Figure size 720x360 with 1 Axes>"
      ]
     },
     "metadata": {
      "needs_background": "light"
     },
     "output_type": "display_data"
    },
    {
     "name": "stdout",
     "output_type": "stream",
     "text": [
      "Masbasis_2020_Simps ['Graminor_2019_Simps', 'Graminor_2020_Simps', 'Masbasis_2019_Simps', 'Staur_2019_Simps', 'Staur_2020_Simps']\n",
      "Training: All   Test:  Masbasis_2020_Simps  :  RandomForestRegressor(n_jobs=-1, random_state=1)\n"
     ]
    },
    {
     "name": "stderr",
     "output_type": "stream",
     "text": [
      "C:\\ProgramData\\Anaconda3\\lib\\site-packages\\numpy\\core\\_asarray.py:83: VisibleDeprecationWarning: Creating an ndarray from ragged nested sequences (which is a list-or-tuple of lists-or-tuples-or ndarrays with different lengths or shapes) is deprecated. If you meant to do this, you must specify 'dtype=object' when creating the ndarray\n",
      "  return array(a, dtype, copy=False, order=order)\n"
     ]
    },
    {
     "name": "stdout",
     "output_type": "stream",
     "text": [
      " RMSE Test: 136.0584413769468        R2 Test: -1.0261554352194984\n",
      "RMSE Train: 23.303173786387987       R2 Train: 0.9546360860206343\n"
     ]
    },
    {
     "name": "stderr",
     "output_type": "stream",
     "text": [
      "C:\\ProgramData\\Anaconda3\\lib\\site-packages\\numpy\\core\\_asarray.py:83: VisibleDeprecationWarning: Creating an ndarray from ragged nested sequences (which is a list-or-tuple of lists-or-tuples-or ndarrays with different lengths or shapes) is deprecated. If you meant to do this, you must specify 'dtype=object' when creating the ndarray\n",
      "  return array(a, dtype, copy=False, order=order)\n"
     ]
    },
    {
     "data": {
      "image/png": "[encoded data removed]",
      "text/plain": [
       "<Figure size 720x360 with 1 Axes>"
      ]
     },
     "metadata": {
      "needs_background": "light"
     },
     "output_type": "display_data"
    },
    {
     "name": "stdout",
     "output_type": "stream",
     "text": [
      "Staur_2019_Simps ['Graminor_2019_Simps', 'Graminor_2020_Simps', 'Masbasis_2019_Simps', 'Masbasis_2020_Simps', 'Staur_2020_Simps']\n",
      "Training: All   Test:  Staur_2019_Simps  :  RandomForestRegressor(n_jobs=-1, random_state=1)\n"
     ]
    },
    {
     "name": "stderr",
     "output_type": "stream",
     "text": [
      "C:\\ProgramData\\Anaconda3\\lib\\site-packages\\numpy\\core\\_asarray.py:83: VisibleDeprecationWarning: Creating an ndarray from ragged nested sequences (which is a list-or-tuple of lists-or-tuples-or ndarrays with different lengths or shapes) is deprecated. If you meant to do this, you must specify 'dtype=object' when creating the ndarray\n",
      "  return array(a, dtype, copy=False, order=order)\n"
     ]
    },
    {
     "name": "stdout",
     "output_type": "stream",
     "text": [
      " RMSE Test: 117.1763922705441        R2 Test: -0.5221742612838136\n",
      "RMSE Train: 23.12465998455305       R2 Train: 0.9390435607869194\n"
     ]
    },
    {
     "name": "stderr",
     "output_type": "stream",
     "text": [
      "C:\\ProgramData\\Anaconda3\\lib\\site-packages\\numpy\\core\\_asarray.py:83: VisibleDeprecationWarning: Creating an ndarray from ragged nested sequences (which is a list-or-tuple of lists-or-tuples-or ndarrays with different lengths or shapes) is deprecated. If you meant to do this, you must specify 'dtype=object' when creating the ndarray\n",
      "  return array(a, dtype, copy=False, order=order)\n"
     ]
    },
    {
     "data": {
      "image/png": "[encoded data removed]",
      "text/plain": [
       "<Figure size 720x360 with 1 Axes>"
      ]
     },
     "metadata": {
      "needs_background": "light"
     },
     "output_type": "display_data"
    },
    {
     "name": "stdout",
     "output_type": "stream",
     "text": [
      "Staur_2020_Simps ['Graminor_2019_Simps', 'Graminor_2020_Simps', 'Masbasis_2019_Simps', 'Masbasis_2020_Simps', 'Staur_2019_Simps']\n",
      "Training: All   Test:  Staur_2020_Simps  :  RandomForestRegressor(n_jobs=-1, random_state=1)\n"
     ]
    },
    {
     "name": "stderr",
     "output_type": "stream",
     "text": [
      "C:\\ProgramData\\Anaconda3\\lib\\site-packages\\numpy\\core\\_asarray.py:83: VisibleDeprecationWarning: Creating an ndarray from ragged nested sequences (which is a list-or-tuple of lists-or-tuples-or ndarrays with different lengths or shapes) is deprecated. If you meant to do this, you must specify 'dtype=object' when creating the ndarray\n",
      "  return array(a, dtype, copy=False, order=order)\n"
     ]
    },
    {
     "name": "stdout",
     "output_type": "stream",
     "text": [
      " RMSE Test: 67.34731971724331        R2 Test: 0.4161993079271572\n",
      "RMSE Train: 25.171323275608874       R2 Train: 0.9518747426207531\n"
     ]
    },
    {
     "name": "stderr",
     "output_type": "stream",
     "text": [
      "C:\\ProgramData\\Anaconda3\\lib\\site-packages\\numpy\\core\\_asarray.py:83: VisibleDeprecationWarning: Creating an ndarray from ragged nested sequences (which is a list-or-tuple of lists-or-tuples-or ndarrays with different lengths or shapes) is deprecated. If you meant to do this, you must specify 'dtype=object' when creating the ndarray\n",
      "  return array(a, dtype, copy=False, order=order)\n"
     ]
    },
    {
     "data": {
      "image/png": "[encoded data removed]",
      "text/plain": [
       "<Figure size 720x360 with 1 Axes>"
      ]
     },
     "metadata": {
      "needs_background": "light"
     },
     "output_type": "display_data"
    }
   ],
   "source": [
    "# Iterating through all possible permutations of the fields dataset\n",
    "for df in all_df_now:\n",
    "    if 'Robot' not in df:\n",
    "        temp_list = [x for x in all_df_simps if not 'Robot' in x  if not df in x ]\n",
    "        print(df, temp_list)\n",
    "\n",
    "        # Making list of df for conct before training\n",
    "        train_df_list = []\n",
    "        for x in temp_list:\n",
    "            train_df_list.append(locals()[x])\n",
    "\n",
    "        train_df = pd.concat(train_df_list)\n",
    "        test_df = locals()[df].copy()\n",
    "\n",
    "        X_train = train_df[training_features]\n",
    "        y_train = train_df[target_features].values.ravel()\n",
    "        X_test = test_df[training_features]\n",
    "        y_test = test_df[target_features].values.ravel()\n",
    "\n",
    "        save_details('ALL', df, 'same', all_df_now, agg_method)\n",
    "        \n",
    "        # Getting scores using cross_val_score\n",
    "        for model in models:\n",
    "            print('Training: All  ','Test: ', df, ' : ', model)\n",
    "            importances = training_regr(model, X_train, y_train, X_test, y_test)\n",
    "            if importances is not None:\n",
    "#                 plot_feat_imp(importances[:len(base_indices+spectral_indices)], model, base_indices+spectral_indices)\n",
    "                plot_feat_imp(importances, model, training_features, threshold=threshold_all, sort_feat=sorted_all)"
   ]
  },
  {
   "cell_type": "markdown",
   "id": "advanced-exception",
   "metadata": {},
   "source": [
    "### Vollebekk ALL vs Staur ALL"
   ]
  },
  {
   "cell_type": "markdown",
   "id": "contained-fancy",
   "metadata": {},
   "source": [
    "#### Training Staur, Test Vollebekk"
   ]
  },
  {
   "cell_type": "code",
   "execution_count": 189,
   "id": "sustainable-stock",
   "metadata": {
    "ExecuteTime": {
     "end_time": "2021-10-20T11:29:03.971128Z",
     "start_time": "2021-10-20T11:29:01.719055Z"
    }
   },
   "outputs": [
    {
     "name": "stdout",
     "output_type": "stream",
     "text": [
      "Training data: ['Staur_2019_Simps', 'Staur_2020_Simps']\n",
      "Test data: ['Graminor_2019_Simps', 'Graminor_2020_Simps', 'Masbasis_2019_Simps', 'Masbasis_2020_Simps']\n"
     ]
    },
    {
     "name": "stderr",
     "output_type": "stream",
     "text": [
      "C:\\ProgramData\\Anaconda3\\lib\\site-packages\\numpy\\core\\_asarray.py:83: VisibleDeprecationWarning: Creating an ndarray from ragged nested sequences (which is a list-or-tuple of lists-or-tuples-or ndarrays with different lengths or shapes) is deprecated. If you meant to do this, you must specify 'dtype=object' when creating the ndarray\n",
      "  return array(a, dtype, copy=False, order=order)\n"
     ]
    },
    {
     "name": "stdout",
     "output_type": "stream",
     "text": [
      " RMSE Test: 229.18122488908304        R2 Test: -4.789382661237497\n",
      "RMSE Train: 23.294666340649226       R2 Train: 0.9541455481153607\n"
     ]
    },
    {
     "name": "stderr",
     "output_type": "stream",
     "text": [
      "C:\\ProgramData\\Anaconda3\\lib\\site-packages\\numpy\\core\\_asarray.py:83: VisibleDeprecationWarning: Creating an ndarray from ragged nested sequences (which is a list-or-tuple of lists-or-tuples-or ndarrays with different lengths or shapes) is deprecated. If you meant to do this, you must specify 'dtype=object' when creating the ndarray\n",
      "  return array(a, dtype, copy=False, order=order)\n"
     ]
    },
    {
     "data": {
      "image/png": "[encoded data removed]",
      "text/plain": [
       "<Figure size 720x360 with 1 Axes>"
      ]
     },
     "metadata": {
      "needs_background": "light"
     },
     "output_type": "display_data"
    }
   ],
   "source": [
    "train_str_list, test_str_list = list_test_train_df(all_df_now,\n",
    "                                                   train_field = 'Staur', \n",
    "                                                   test_field = 'Vollebekk', \n",
    "                                                   year = 'all')\n",
    "\n",
    "train_df_list = []\n",
    "test_df_list = []\n",
    "for x in train_str_list:\n",
    "    train_df_list.append(locals()[x])\n",
    "for x in test_str_list:\n",
    "    test_df_list.append(locals()[x])\n",
    "\n",
    "train_df = pd.concat(train_df_list)\n",
    "test_df = pd.concat(test_df_list)\n",
    "\n",
    "X_train = train_df[training_features]\n",
    "y_train = train_df[target_features].values.ravel()\n",
    "X_test = test_df[training_features]\n",
    "y_test = test_df[target_features].values.ravel()\n",
    "\n",
    "# Getting scores using cross_val_score\n",
    "for model in models:\n",
    "    importances = training_regr(model, X_train, y_train, X_test, y_test)\n",
    "    if importances is not None:\n",
    "        plot_feat_imp(importances, model, training_features, threshold='Top_25', sort_feat=sorted_all)"
   ]
  },
  {
   "cell_type": "markdown",
   "id": "spanish-recognition",
   "metadata": {},
   "source": [
    "#### Training Vollebekk, Test Staur"
   ]
  },
  {
   "cell_type": "code",
   "execution_count": 190,
   "id": "suburban-telephone",
   "metadata": {
    "ExecuteTime": {
     "end_time": "2021-10-20T11:29:19.626510Z",
     "start_time": "2021-10-20T11:29:17.263241Z"
    },
    "scrolled": false
   },
   "outputs": [
    {
     "name": "stdout",
     "output_type": "stream",
     "text": [
      "Training data: ['Graminor_2019_Simps', 'Graminor_2020_Simps', 'Masbasis_2019_Simps', 'Masbasis_2020_Simps']\n",
      "Test data: ['Staur_2019_Simps', 'Staur_2020_Simps']\n"
     ]
    },
    {
     "name": "stderr",
     "output_type": "stream",
     "text": [
      "C:\\ProgramData\\Anaconda3\\lib\\site-packages\\numpy\\core\\_asarray.py:83: VisibleDeprecationWarning: Creating an ndarray from ragged nested sequences (which is a list-or-tuple of lists-or-tuples-or ndarrays with different lengths or shapes) is deprecated. If you meant to do this, you must specify 'dtype=object' when creating the ndarray\n",
      "  return array(a, dtype, copy=False, order=order)\n"
     ]
    },
    {
     "name": "stdout",
     "output_type": "stream",
     "text": [
      " RMSE Test: 101.7886330083014        R2 Test: 0.12447796270701161\n",
      "RMSE Train: 24.53484529659728       R2 Train: 0.9336500146315361\n"
     ]
    },
    {
     "name": "stderr",
     "output_type": "stream",
     "text": [
      "C:\\ProgramData\\Anaconda3\\lib\\site-packages\\numpy\\core\\_asarray.py:83: VisibleDeprecationWarning: Creating an ndarray from ragged nested sequences (which is a list-or-tuple of lists-or-tuples-or ndarrays with different lengths or shapes) is deprecated. If you meant to do this, you must specify 'dtype=object' when creating the ndarray\n",
      "  return array(a, dtype, copy=False, order=order)\n"
     ]
    },
    {
     "data": {
      "image/png": "[encoded data removed]",
      "text/plain": [
       "<Figure size 720x360 with 1 Axes>"
      ]
     },
     "metadata": {
      "needs_background": "light"
     },
     "output_type": "display_data"
    }
   ],
   "source": [
    "train_str_list, test_str_list = list_test_train_df(all_df_now,\n",
    "                                                   train_field = 'Vollebekk', \n",
    "                                                   test_field = 'Staur', \n",
    "                                                   year = 'all')\n",
    "\n",
    "train_df_list = []\n",
    "test_df_list = []\n",
    "for x in train_str_list:\n",
    "    train_df_list.append(locals()[x])\n",
    "for x in test_str_list:\n",
    "    test_df_list.append(locals()[x])\n",
    "\n",
    "train_df = pd.concat(train_df_list)\n",
    "test_df = pd.concat(test_df_list)\n",
    "\n",
    "X_train = train_df[training_features]\n",
    "y_train = train_df[target_features].values.ravel()\n",
    "X_test = test_df[training_features]\n",
    "y_test = test_df[target_features].values.ravel()\n",
    "\n",
    "# Getting scores using cross_val_score\n",
    "for model in models:\n",
    "    importances = training_regr(model, X_train, y_train, X_test, y_test)\n",
    "    if importances is not None:\n",
    "        plot_feat_imp(importances, model, training_features, threshold='Top_25', sort_feat=sorted_all)"
   ]
  },
  {
   "cell_type": "markdown",
   "id": "asian-tourist",
   "metadata": {},
   "source": [
    "### 2020 Vollebekk vs 2020 Staur"
   ]
  },
  {
   "cell_type": "markdown",
   "id": "respiratory-index",
   "metadata": {},
   "source": [
    "#### Training Staur, Test Vollebekk"
   ]
  },
  {
   "cell_type": "code",
   "execution_count": 191,
   "id": "imported-import",
   "metadata": {
    "ExecuteTime": {
     "end_time": "2021-10-20T11:29:31.894289Z",
     "start_time": "2021-10-20T11:29:30.919142Z"
    },
    "run_control": {
     "marked": true
    },
    "scrolled": false
   },
   "outputs": [
    {
     "name": "stdout",
     "output_type": "stream",
     "text": [
      "Training data: ['Staur_2020_Simps']\n",
      "Test data: ['Graminor_2020_Simps', 'Masbasis_2020_Simps']\n"
     ]
    },
    {
     "name": "stderr",
     "output_type": "stream",
     "text": [
      "C:\\ProgramData\\Anaconda3\\lib\\site-packages\\numpy\\core\\_asarray.py:83: VisibleDeprecationWarning: Creating an ndarray from ragged nested sequences (which is a list-or-tuple of lists-or-tuples-or ndarrays with different lengths or shapes) is deprecated. If you meant to do this, you must specify 'dtype=object' when creating the ndarray\n",
      "  return array(a, dtype, copy=False, order=order)\n"
     ]
    },
    {
     "name": "stdout",
     "output_type": "stream",
     "text": [
      " RMSE Test: 235.41484882171835        R2 Test: -4.714987012518827\n",
      "RMSE Train: 19.140251840496816       R2 Train: 0.9528459208379715\n"
     ]
    },
    {
     "name": "stderr",
     "output_type": "stream",
     "text": [
      "C:\\ProgramData\\Anaconda3\\lib\\site-packages\\numpy\\core\\_asarray.py:83: VisibleDeprecationWarning: Creating an ndarray from ragged nested sequences (which is a list-or-tuple of lists-or-tuples-or ndarrays with different lengths or shapes) is deprecated. If you meant to do this, you must specify 'dtype=object' when creating the ndarray\n",
      "  return array(a, dtype, copy=False, order=order)\n"
     ]
    },
    {
     "data": {
      "image/png": "[encoded data removed]",
      "text/plain": [
       "<Figure size 720x360 with 1 Axes>"
      ]
     },
     "metadata": {
      "needs_background": "light"
     },
     "output_type": "display_data"
    }
   ],
   "source": [
    "train_str_list, test_str_list = list_test_train_df(all_df_now,\n",
    "                                                   train_field = 'Staur', \n",
    "                                                   test_field = 'Vollebekk', \n",
    "                                                   year = '2020')\n",
    "\n",
    "train_df_list = []\n",
    "test_df_list = []\n",
    "for x in train_str_list:\n",
    "    train_df_list.append(locals()[x])\n",
    "for x in test_str_list:\n",
    "    test_df_list.append(locals()[x])\n",
    "\n",
    "train_df = pd.concat(train_df_list)\n",
    "test_df = pd.concat(test_df_list)\n",
    "\n",
    "X_train = train_df[training_features]\n",
    "y_train = train_df[target_features].values.ravel()\n",
    "X_test = test_df[training_features]\n",
    "y_test = test_df[target_features].values.ravel()\n",
    "\n",
    "# Getting scores using cross_val_score\n",
    "for model in models:\n",
    "    importances = training_regr(model, X_train, y_train, X_test, y_test)\n",
    "    if importances is not None:\n",
    "        plot_feat_imp(importances, model, training_features, threshold='Top_25', sort_feat=sorted_all)"
   ]
  },
  {
   "cell_type": "markdown",
   "id": "labeled-fence",
   "metadata": {},
   "source": [
    "#### Training Vollebekk, Test Staur"
   ]
  },
  {
   "cell_type": "code",
   "execution_count": 192,
   "id": "bizarre-marriage",
   "metadata": {
    "ExecuteTime": {
     "end_time": "2021-10-20T11:29:42.147289Z",
     "start_time": "2021-10-20T11:29:40.694700Z"
    }
   },
   "outputs": [
    {
     "name": "stdout",
     "output_type": "stream",
     "text": [
      "Training data: ['Graminor_2020_Simps', 'Masbasis_2020_Simps']\n",
      "Test data: ['Staur_2020_Simps']\n"
     ]
    },
    {
     "name": "stderr",
     "output_type": "stream",
     "text": [
      "C:\\ProgramData\\Anaconda3\\lib\\site-packages\\numpy\\core\\_asarray.py:83: VisibleDeprecationWarning: Creating an ndarray from ragged nested sequences (which is a list-or-tuple of lists-or-tuples-or ndarrays with different lengths or shapes) is deprecated. If you meant to do this, you must specify 'dtype=object' when creating the ndarray\n",
      "  return array(a, dtype, copy=False, order=order)\n"
     ]
    },
    {
     "name": "stdout",
     "output_type": "stream",
     "text": [
      " RMSE Test: 136.0451144537356        R2 Test: -1.3822639206874752\n",
      "RMSE Train: 24.43957685819219       R2 Train: 0.9384064965728947\n"
     ]
    },
    {
     "name": "stderr",
     "output_type": "stream",
     "text": [
      "C:\\ProgramData\\Anaconda3\\lib\\site-packages\\numpy\\core\\_asarray.py:83: VisibleDeprecationWarning: Creating an ndarray from ragged nested sequences (which is a list-or-tuple of lists-or-tuples-or ndarrays with different lengths or shapes) is deprecated. If you meant to do this, you must specify 'dtype=object' when creating the ndarray\n",
      "  return array(a, dtype, copy=False, order=order)\n"
     ]
    },
    {
     "data": {
      "image/png": "[encoded data removed]",
      "text/plain": [
       "<Figure size 720x360 with 1 Axes>"
      ]
     },
     "metadata": {
      "needs_background": "light"
     },
     "output_type": "display_data"
    }
   ],
   "source": [
    "train_str_list, test_str_list = list_test_train_df(all_df_now,\n",
    "                                                   train_field = 'Vollebekk', \n",
    "                                                   test_field = 'Staur', \n",
    "                                                   year = '2020')\n",
    "\n",
    "train_df_list = []\n",
    "test_df_list = []\n",
    "for x in train_str_list:\n",
    "    train_df_list.append(locals()[x])\n",
    "for x in test_str_list:\n",
    "    test_df_list.append(locals()[x])\n",
    "\n",
    "train_df = pd.concat(train_df_list)\n",
    "test_df = pd.concat(test_df_list)\n",
    "\n",
    "X_train = train_df[training_features]\n",
    "y_train = train_df[target_features].values.ravel()\n",
    "X_test = test_df[training_features]\n",
    "y_test = test_df[target_features].values.ravel()\n",
    "\n",
    "# Getting scores using cross_val_score\n",
    "for model in models:\n",
    "    importances = training_regr(model, X_train, y_train, X_test, y_test)\n",
    "    if importances is not None:\n",
    "        plot_feat_imp(importances, model, training_features, threshold='Top_25', sort_feat=sorted_all)"
   ]
  },
  {
   "cell_type": "markdown",
   "id": "remarkable-penguin",
   "metadata": {},
   "source": [
    "### 2019 Vollebekk vs 2019 Staur"
   ]
  },
  {
   "cell_type": "markdown",
   "id": "living-content",
   "metadata": {},
   "source": [
    "#### Training Staur, Test Vollebekk"
   ]
  },
  {
   "cell_type": "code",
   "execution_count": 193,
   "id": "inclusive-paris",
   "metadata": {
    "ExecuteTime": {
     "end_time": "2021-10-20T11:29:51.225769Z",
     "start_time": "2021-10-20T11:29:49.799276Z"
    }
   },
   "outputs": [
    {
     "name": "stdout",
     "output_type": "stream",
     "text": [
      "Training data: ['Staur_2019_Simps']\n",
      "Test data: ['Graminor_2019_Simps', 'Masbasis_2019_Simps']\n"
     ]
    },
    {
     "name": "stderr",
     "output_type": "stream",
     "text": [
      "C:\\ProgramData\\Anaconda3\\lib\\site-packages\\numpy\\core\\_asarray.py:83: VisibleDeprecationWarning: Creating an ndarray from ragged nested sequences (which is a list-or-tuple of lists-or-tuples-or ndarrays with different lengths or shapes) is deprecated. If you meant to do this, you must specify 'dtype=object' when creating the ndarray\n",
      "  return array(a, dtype, copy=False, order=order)\n"
     ]
    },
    {
     "name": "stdout",
     "output_type": "stream",
     "text": [
      " RMSE Test: 185.45539592307705        R2 Test: -6.348128559099556\n",
      "RMSE Train: 25.855179429116816       R2 Train: 0.9258895856720823\n"
     ]
    },
    {
     "name": "stderr",
     "output_type": "stream",
     "text": [
      "C:\\ProgramData\\Anaconda3\\lib\\site-packages\\numpy\\core\\_asarray.py:83: VisibleDeprecationWarning: Creating an ndarray from ragged nested sequences (which is a list-or-tuple of lists-or-tuples-or ndarrays with different lengths or shapes) is deprecated. If you meant to do this, you must specify 'dtype=object' when creating the ndarray\n",
      "  return array(a, dtype, copy=False, order=order)\n"
     ]
    },
    {
     "data": {
      "image/png": "[encoded data removed]",
      "text/plain": [
       "<Figure size 720x360 with 1 Axes>"
      ]
     },
     "metadata": {
      "needs_background": "light"
     },
     "output_type": "display_data"
    }
   ],
   "source": [
    "train_str_list, test_str_list = list_test_train_df(all_df_now,\n",
    "                                                   train_field = 'Staur', \n",
    "                                                   test_field = 'Vollebekk', \n",
    "                                                   year = '2019')\n",
    "\n",
    "train_df_list = []\n",
    "test_df_list = []\n",
    "for x in train_str_list:\n",
    "    train_df_list.append(locals()[x])\n",
    "for x in test_str_list:\n",
    "    test_df_list.append(locals()[x])\n",
    "\n",
    "train_df = pd.concat(train_df_list)\n",
    "test_df = pd.concat(test_df_list)\n",
    "\n",
    "X_train = train_df[training_features]\n",
    "y_train = train_df[target_features].values.ravel()\n",
    "X_test = test_df[training_features]\n",
    "y_test = test_df[target_features].values.ravel()\n",
    "\n",
    "# Getting scores using cross_val_score\n",
    "for model in models:\n",
    "    importances = training_regr(model, X_train, y_train, X_test, y_test)\n",
    "    if importances is not None:\n",
    "        plot_feat_imp(importances, model, training_features, threshold='Top_25', sort_feat=sorted_all)"
   ]
  },
  {
   "cell_type": "markdown",
   "id": "apparent-nickel",
   "metadata": {},
   "source": [
    "#### Training Vollebekk, Test Staur"
   ]
  },
  {
   "cell_type": "code",
   "execution_count": 194,
   "id": "invisible-wednesday",
   "metadata": {
    "ExecuteTime": {
     "end_time": "2021-10-20T11:29:57.591195Z",
     "start_time": "2021-10-20T11:29:56.198661Z"
    },
    "scrolled": false
   },
   "outputs": [
    {
     "name": "stdout",
     "output_type": "stream",
     "text": [
      "Training data: ['Graminor_2019_Simps', 'Masbasis_2019_Simps']\n",
      "Test data: ['Staur_2019_Simps']\n"
     ]
    },
    {
     "name": "stderr",
     "output_type": "stream",
     "text": [
      "C:\\ProgramData\\Anaconda3\\lib\\site-packages\\numpy\\core\\_asarray.py:83: VisibleDeprecationWarning: Creating an ndarray from ragged nested sequences (which is a list-or-tuple of lists-or-tuples-or ndarrays with different lengths or shapes) is deprecated. If you meant to do this, you must specify 'dtype=object' when creating the ndarray\n",
      "  return array(a, dtype, copy=False, order=order)\n"
     ]
    },
    {
     "name": "stdout",
     "output_type": "stream",
     "text": [
      " RMSE Test: 105.93693275290316        R2 Test: -0.24416768769899266\n",
      "RMSE Train: 25.038829914032373       R2 Train: 0.8660551999529479\n"
     ]
    },
    {
     "name": "stderr",
     "output_type": "stream",
     "text": [
      "C:\\ProgramData\\Anaconda3\\lib\\site-packages\\numpy\\core\\_asarray.py:83: VisibleDeprecationWarning: Creating an ndarray from ragged nested sequences (which is a list-or-tuple of lists-or-tuples-or ndarrays with different lengths or shapes) is deprecated. If you meant to do this, you must specify 'dtype=object' when creating the ndarray\n",
      "  return array(a, dtype, copy=False, order=order)\n"
     ]
    },
    {
     "data": {
      "image/png": "[encoded data removed]",
      "text/plain": [
       "<Figure size 720x360 with 1 Axes>"
      ]
     },
     "metadata": {
      "needs_background": "light"
     },
     "output_type": "display_data"
    }
   ],
   "source": [
    "train_str_list, test_str_list = list_test_train_df(all_df_now,\n",
    "                                                   train_field = 'Vollebekk', \n",
    "                                                   test_field = 'Staur', \n",
    "                                                   year = '2019')\n",
    "\n",
    "train_df_list = []\n",
    "test_df_list = []\n",
    "for x in train_str_list:\n",
    "    train_df_list.append(locals()[x])\n",
    "for x in test_str_list:\n",
    "    test_df_list.append(locals()[x])\n",
    "\n",
    "train_df = pd.concat(train_df_list)\n",
    "test_df = pd.concat(test_df_list)\n",
    "\n",
    "X_train = train_df[training_features]\n",
    "y_train = train_df[target_features].values.ravel()\n",
    "X_test = test_df[training_features]\n",
    "y_test = test_df[target_features].values.ravel()\n",
    "\n",
    "# Getting scores using cross_val_score\n",
    "for model in models:\n",
    "    importances = training_regr(model, X_train, y_train, X_test, y_test)\n",
    "    if importances is not None:\n",
    "        plot_feat_imp(importances, model, training_features, threshold='Top_25', sort_feat=sorted_all)"
   ]
  },
  {
   "cell_type": "markdown",
   "id": "featured-grammar",
   "metadata": {},
   "source": [
    "###"
   ]
  },
  {
   "cell_type": "code",
   "execution_count": null,
   "id": "traditional-helen",
   "metadata": {},
   "outputs": [],
   "source": []
  },
  {
   "cell_type": "markdown",
   "id": "persistent-stage",
   "metadata": {},
   "source": [
    "###"
   ]
  },
  {
   "cell_type": "code",
   "execution_count": null,
   "id": "chinese-nebraska",
   "metadata": {
    "ExecuteTime": {
     "end_time": "2021-10-20T11:26:24.891758Z",
     "start_time": "2021-10-20T11:26:14.673Z"
    }
   },
   "outputs": [],
   "source": [
    "DONE"
   ]
  },
  {
   "cell_type": "markdown",
   "id": "opening-basics",
   "metadata": {},
   "source": [
    "### GroupKFold"
   ]
  },
  {
   "cell_type": "markdown",
   "id": "structural-classroom",
   "metadata": {
    "ExecuteTime": {
     "end_time": "2021-10-13T19:17:52.065054Z",
     "start_time": "2021-10-13T19:17:52.049099Z"
    }
   },
   "source": [
    "###"
   ]
  },
  {
   "cell_type": "code",
   "execution_count": null,
   "id": "6195c77d",
   "metadata": {
    "ExecuteTime": {
     "end_time": "2021-10-20T11:26:24.894752Z",
     "start_time": "2021-10-20T11:26:15.706Z"
    },
    "scrolled": false
   },
   "outputs": [],
   "source": [
    "# Iterating through all possible permutations of the fields dataset\n",
    "results = []\n",
    "for i in itertools.permutations(all_df_simps, 2):\n",
    "\n",
    "#     train_df = locals()[i[0]].copy()\n",
    "#     test_df = locals()[i[1]].copy()\n",
    "\n",
    "    train_size = 0.7*locals()[i[0]].shape[0]\n",
    "    \n",
    "    train_df = locals()[i[0]].copy()\n",
    "    test_df = locals()[i[1]].copy()\n",
    "    \n",
    "    print(f\"Train dataset: {i[0]} {train_df['GrainYield'].isna().sum()}\\\n",
    "    \\n Test dataset: {i[1]} {test_df['GrainYield'].isna().sum()}\")\n",
    "    print('=>')\n",
    "#     print(f\"Missing values in {i[0]} {train_df['GrainYield'].isna().sum()}\\\n",
    "#     \\n Missing values in {i[1]} {test_df['GrainYield'].isna().sum()}\")\n",
    "    # Dropping entries with grainyield missing\n",
    "    train_df.dropna(subset=['GrainYield'], inplace=True)\n",
    "    test_df.dropna(subset=['GrainYield'], inplace=True)\n",
    "\n",
    "    #==============================================================================\n",
    "    # Create separate train/test splits from Main data\n",
    "    #==============================================================================\n",
    "    X_train, y_train, = train_df[[x for x in train_df.columns if x not in yield_cols+id_cols_new]], train_df['GrainYield']\n",
    "    X_test, y_test = test_df[[x for x in test_df.columns if x not in yield_cols+id_cols_new]], test_df['GrainYield']\n",
    "    features = X_train.columns\n",
    "\n",
    "    #==============================================================================\n",
    "    # Scale features using StandardScaler class in scikit-learn \n",
    "    #==============================================================================\n",
    "\n",
    "    # Initialise standard scaler and compute mean and STD from training data\n",
    "    sc = StandardScaler()\n",
    "    sc.fit(X_train)\n",
    "\n",
    "    # Transform (standardise) both X_train and X_test with mean and STD from\n",
    "    # training data\n",
    "    X_train_std = sc.transform(X_train)\n",
    "    X_test_std = sc.transform(X_test)\n",
    "    \n",
    "    for model in models:\n",
    "        print(model)\n",
    "        acc, acc_std, imp = test_data_regression(model, features, X_train, X_train_std, y_train, X_test, X_test_std, y_test)\n",
    "#         results.append([i[0], i[1], model, acc, acc_std, imp, imp_std])\n",
    "        print('=============================================')"
   ]
  },
  {
   "cell_type": "code",
   "execution_count": null,
   "id": "cellular-assets",
   "metadata": {
    "ExecuteTime": {
     "end_time": "2021-10-20T11:26:24.896745Z",
     "start_time": "2021-10-20T11:26:15.710Z"
    }
   },
   "outputs": [],
   "source": [
    "train_dfs = [x[0] for x in results]\n",
    "test_dfs = [x[1] for x in results]\n",
    "modelss = [x[2] for x in results]\n",
    "acc_normal = [x[3] for x in results]\n",
    "acc_stds = [x[4] for x in results]\n",
    "imp_normal = [x[5] for x in results]\n",
    "imp_stds = [x[6] for x in results]\n",
    "# acc_normal"
   ]
  },
  {
   "cell_type": "code",
   "execution_count": null,
   "id": "provincial-friend",
   "metadata": {
    "ExecuteTime": {
     "end_time": "2021-10-20T11:26:24.898741Z",
     "start_time": "2021-10-20T11:26:15.712Z"
    }
   },
   "outputs": [],
   "source": [
    "import matplotlib.pyplot as plt\n",
    "import numpy as np\n",
    "\n",
    "# Fixing random state for reproducibility\n",
    "np.random.seed(19680801)\n",
    "\n",
    "\n",
    "fig = plt.figure()\n",
    "ax = fig.add_subplot(projection='3d')\n",
    "x, y = train_dfs, test_dfs\n",
    "hist, xedges, yedges = np.histogram2d(x, y, bins=4, range=[[0, 4], [0, 4]])\n",
    "\n",
    "# Construct arrays for the anchor positions of the 16 bars.\n",
    "# xpos, ypos = np.meshgrid(xedges[:-1] + 0.25, yedges[:-1] + 0.25, indexing=\"ij\")\n",
    "# xpos = xpos.ravel()\n",
    "# ypos = ypos.ravel()\n",
    "# zpos = 0\n",
    "\n",
    "# Construct arrays with the dimensions for the 16 bars.\n",
    "dx = dy = 0.5 * np.ones_like(zpos)\n",
    "dz = hist.ravel()\n",
    "\n",
    "ax.bar3d(xpos, ypos, zpos, dx, dy, dz, zsort='average')\n",
    "\n",
    "plt.show()"
   ]
  },
  {
   "cell_type": "code",
   "execution_count": null,
   "id": "96653f5d",
   "metadata": {
    "ExecuteTime": {
     "end_time": "2021-10-20T11:26:24.901731Z",
     "start_time": "2021-10-20T11:26:15.716Z"
    }
   },
   "outputs": [],
   "source": [
    "model = RandomForestRegressor(n_estimators = 1000, max_depth=250, min_samples_split=5, random_state=0, n_jobs = -1)\n",
    "model = RandomForestRegressor(n_estimators = 50, max_depth=100, min_samples_split=400, random_state=0, n_jobs = -1)\n"
   ]
  },
  {
   "cell_type": "markdown",
   "id": "482a3922",
   "metadata": {},
   "source": [
    "## Several Models: To clean"
   ]
  },
  {
   "cell_type": "code",
   "execution_count": null,
   "id": "7dab8b1d",
   "metadata": {
    "ExecuteTime": {
     "end_time": "2021-10-20T11:26:24.904725Z",
     "start_time": "2021-10-20T11:26:16.184Z"
    },
    "scrolled": true
   },
   "outputs": [],
   "source": [
    "#==============================================================================\n",
    "# Ridge\n",
    "#==============================================================================\n",
    "from sklearn.linear_model import Ridge\n",
    "model = Ridge()\n",
    "sc = StandardScaler()\n",
    "pipe = Pipeline(steps=[('sc', sc), ('model', model)])\n",
    "param_grid   =  [{'model__alpha' : [x*1. for x in range(1,10)],\n",
    "                  'model__solver' : ['auto', 'svd', 'cholesky', 'lsqr', 'sparse_cg', 'sag', 'saga']}]\n",
    "estimator = pipe\n",
    "\n",
    "for score in scores:\n",
    "    grid(Xtrain = X,\n",
    "                ytrain = y,\n",
    "                estimator = pipe,\n",
    "                params_grid = param_grid,\n",
    "                scores=score,\n",
    "                cvs = cv,\n",
    "                cores=core,\n",
    "                verb=verbos)\n",
    "    print(score)\n",
    "#==============================================================================\n",
    "# Lasso\n",
    "#==============================================================================\n",
    "from sklearn.linear_model import Lasso\n",
    "model = Lasso()\n",
    "sc = StandardScaler()\n",
    "pipe = Pipeline(steps=[('sc', sc), ('model', model)])\n",
    "param_grid   =  [{'model__alpha' : [x*0.1 for x in range(1,10)],\n",
    "                  'model__max_iter' : [x for x in range(50, 10000, 50)],\n",
    "                  'model__selection' : ['cyclic','random']}]\n",
    "estimator = pipe\n",
    "\n",
    "for score in scores:\n",
    "    grid(Xtrain = X,\n",
    "                ytrain = y,\n",
    "                estimator = pipe,\n",
    "                params_grid = param_grid,\n",
    "                scores=score,\n",
    "                cvs = cv,\n",
    "                cores=core,\n",
    "                verb=verbos)\n",
    "    print(score)\n",
    "#==============================================================================\n",
    "# ElasticNet\n",
    "#==============================================================================\n",
    "from sklearn.linear_model import ElasticNet\n",
    "model = ElasticNet()\n",
    "sc = StandardScaler()\n",
    "pipe = Pipeline(steps=[('sc', sc), ('model', model)])\n",
    "param_grid   =  [{'model__alpha' : [x*0.1 for x in range(1,10)],\n",
    "                  'model__max_iter' : [x for x in range(50, 10000, 50)],\n",
    "                  'model__l1_ratio' : [x*0.1 for x in range(1,10)]}]\n",
    "estimator = pipe\n",
    "\n",
    "for score in scores:\n",
    "    grid(Xtrain = X,\n",
    "                ytrain = y,\n",
    "                estimator = pipe,\n",
    "                params_grid = param_grid,\n",
    "                scores=score,\n",
    "                cvs = cv,\n",
    "                cores=core,\n",
    "                verb=verbos)\n",
    "    print(score)\n",
    "#==============================================================================\n",
    "# OrthogonalMatchingPursuit\n",
    "#==============================================================================\n",
    "from sklearn.linear_model import OrthogonalMatchingPursuit\n",
    "model = OrthogonalMatchingPursuit()\n",
    "sc = StandardScaler()\n",
    "pipe = Pipeline(steps=[('sc', sc), ('model', model)])\n",
    "param_grid   =  [{'model__fit_intercept' : [True, False],\n",
    "                  'model__n_nonzero_coefs' : [x for x in range(1,10)]}]\n",
    "estimator = pipe\n",
    "\n",
    "for score in scores:\n",
    "    grid(Xtrain = X,\n",
    "                ytrain = y,\n",
    "                estimator = pipe,\n",
    "                params_grid = param_grid,\n",
    "                scores=score,\n",
    "                cvs = cv,\n",
    "                cores=core,\n",
    "                verb=verbos)\n",
    "    print(score)\n",
    "#==============================================================================\n",
    "# BayesianRidge\n",
    "#==============================================================================\n",
    "from sklearn.linear_model import BayesianRidge\n",
    "model = BayesianRidge()\n",
    "sc = StandardScaler()\n",
    "pipe = Pipeline(steps=[('sc', sc), ('model', model)])\n",
    "param_grid   =  [{'model__n_iter' : [x for x in range(5, 150, 10)],\n",
    "                  'model__alpha_1' : [1.0],\n",
    "                  'model__alpha_2' : [x*0.000001 for x in [1,10,100,1000,10000,100000,1000000]],\n",
    "                  'model__lambda_1' : [x*0.000001 for x in [1,10,100,1000,10000,100000,1000000]],\n",
    "                  'model__lambda_2' : [1.0]}]\n",
    "estimator = pipe\n",
    "\n",
    "for score in scores:\n",
    "    grid(Xtrain = X,\n",
    "                ytrain = y,\n",
    "                estimator = pipe,\n",
    "                params_grid = param_grid,\n",
    "                scores=score,\n",
    "                cvs = cv,\n",
    "                cores=core,\n",
    "                verb=verbos)\n",
    "    print(score)\n",
    "#==============================================================================\n",
    "# ARDRegression\n",
    "#==============================================================================\n",
    "from sklearn.linear_model import ARDRegression\n",
    "model = ARDRegression()\n",
    "sc = StandardScaler()\n",
    "pipe = Pipeline(steps=[('sc', sc), ('model', model)])\n",
    "param_grid   =  [{'model__n_iter' : [x for x in range(5, 150, 10)],\n",
    "                  'model__alpha_1' : [1.0],\n",
    "#                       'model__alpha_2' : [x*0.000001 for x in [1,10,100,1000,10000,100000,1000000]],\n",
    "                  'model__lambda_1' : [0.01],\n",
    "                  'model__lambda_2' : [x*0.000001 for x in [1,10,100,1000,10000,100000,1000000]],\n",
    "                  'model__verbose' : [True]}]\n",
    "estimator = pipe\n",
    "\n",
    "for score in scores:\n",
    "    grid(Xtrain = X,\n",
    "                ytrain = y,\n",
    "                estimator = pipe,\n",
    "                params_grid = param_grid,\n",
    "                scores=score,\n",
    "                cvs = cv,\n",
    "                cores=core,\n",
    "                verb=verbos)\n",
    "    print(score)\n",
    "#==============================================================================\n",
    "# RANSACRegressor\n",
    "#==============================================================================\n",
    "from sklearn.linear_model import RANSACRegressor\n",
    "model = RANSACRegressor()\n",
    "sc = StandardScaler()\n",
    "pipe = Pipeline(steps=[('sc', sc), ('model', model)])\n",
    "param_grid   =  [{'model__min_samples' : [x/.1 for x in range(1, 10)],\n",
    "                  'model__max_trials' : [x for x in range(1, 500,50)],\n",
    "                  'model__loss' : ['absolute_loss', 'squared_loss']}]\n",
    "estimator = pipe\n",
    "\n",
    "for score in scores:\n",
    "    grid(Xtrain = X,\n",
    "                ytrain = y,\n",
    "                estimator = pipe,\n",
    "                params_grid = param_grid,\n",
    "                scores=score,\n",
    "                cvs = cv,\n",
    "                cores=core,\n",
    "                verb=verbos)\n",
    "    print(score)\n",
    "#==============================================================================\n",
    "# TheilSenRegressor\n",
    "#==============================================================================\n",
    "# from sklearn.linear_model import TheilSenRegressor\n",
    "# model = TheilSenRegressor()\n",
    "# sc = StandardScaler()\n",
    "# pipe = Pipeline(steps=[('sc', sc), ('model', model)])\n",
    "# param_grid   =  [{'model__max_subpopulation' : [x*0.000001 for x in [1,10,100,1000,10000,100000,1000000]],\n",
    "#                   'model__n_subsamples' : [x for x in range(9, 1300,50)],\n",
    "#                   'model__max_iter' :  [x for x in range(50, 1000, 50)]}]\n",
    "# estimator = pipe\n",
    "\n",
    "# for score in scores:\n",
    "#     grid(Xtrain = X,\n",
    "#                 ytrain = y,\n",
    "#                 estimator = pipe,\n",
    "#                 params_grid = param_grid,\n",
    "#                 scores=score,\n",
    "#                 cvs = cv,\n",
    "#                 cores=core,\n",
    "#                 verb=verbos)\n",
    "#     print(score)\n",
    "#==============================================================================\n",
    "# HuberRegressor\n",
    "#==============================================================================\n",
    "from sklearn.linear_model import HuberRegressor\n",
    "model = HuberRegressor()\n",
    "sc = StandardScaler()\n",
    "pipe = Pipeline(steps=[('sc', sc), ('model', model)])\n",
    "param_grid   =  [{'model__epsilon' : [x/.01 for x in range(100, 200, 5)],\n",
    "                  'model__alpha' : [x*0.000001 for x in [1,10,100,1000,10000,100000,1000000]]}]\n",
    "estimator = pipe\n",
    "\n",
    "for score in scores:\n",
    "    grid(Xtrain = X,\n",
    "                ytrain = y,\n",
    "                estimator = pipe,\n",
    "                params_grid = param_grid,\n",
    "                scores=score,\n",
    "                cvs = cv,\n",
    "                cores=core,\n",
    "                verb=verbos)\n",
    "    print(score)\n",
    "#==============================================================================\n",
    "# DecisionTreeRegressor\n",
    "#==============================================================================\n",
    "from sklearn.tree import DecisionTreeRegressor\n",
    "model = DecisionTreeRegressor()\n",
    "sc = StandardScaler()\n",
    "pipe = Pipeline(steps=[('sc', sc), ('model', model)])\n",
    "param_grid   =  [{'model__max_depth' : [None]+[x for x in range(1, 100,5)],\n",
    "                  'model__min_samples_leaf' : [x for x in range(1, 50,5)],\n",
    "                  'model__min_samples_split' : [2]+[x for x in range(1, 50,5)],\n",
    "                  'model__max_features' : [x for x in range(1, 10)]}]\n",
    "estimator = pipe\n",
    "\n",
    "for score in scores:\n",
    "    grid(Xtrain = X,\n",
    "                ytrain = y,\n",
    "                estimator = pipe,\n",
    "                params_grid = param_grid,\n",
    "                scores=score,\n",
    "                cvs = cv,\n",
    "                cores=core,\n",
    "                verb=verbos)\n",
    "    print(score)\n",
    "#==============================================================================\n",
    "# GaussianProcessRegressor\n",
    "#==============================================================================\n",
    "from sklearn.gaussian_process import GaussianProcessRegressor\n",
    "model = GaussianProcessRegressor()\n",
    "sc = StandardScaler()\n",
    "pipe = Pipeline(steps=[('sc', sc), ('model', model)])\n",
    "param_grid   =  [{'model__kernel' : [None]+['rbf', 'sigmoid',  'linear', 'poly'],\n",
    "                  'model__alpha' : [x*0.0000000001 for x in [1,10,100,1000,10000,100000,1000000]]}]\n",
    "estimator = pipe\n",
    "\n",
    "for score in scores:\n",
    "    grid(Xtrain = X,\n",
    "                ytrain = y,\n",
    "                estimator = pipe,\n",
    "                params_grid = param_grid,\n",
    "                scores=score,\n",
    "                cvs = cv,\n",
    "                cores=core,\n",
    "                verb=verbos)\n",
    "    print(score)\n",
    "#==============================================================================\n",
    "# KNeighborsRegressor\n",
    "#==============================================================================\n",
    "from sklearn.neighbors import KNeighborsRegressor\n",
    "model = KNeighborsRegressor()\n",
    "sc = StandardScaler()\n",
    "pipe = Pipeline(steps=[('sc', sc), ('model', model)])\n",
    "param_grid   =  [{'model__n_neighbors' : [x for x in range(1, 100,5)],\n",
    "                  'model__weights' : ['uniform', 'distance'],\n",
    "                  'model__algorithm' : ['auto', 'ball_tree', 'kd_tree', 'brute'],\n",
    "                  'model__leaf_size' : [x for x in range(10, 50, 5)]}]\n",
    "estimator = pipe\n",
    "\n",
    "for score in scores:\n",
    "    grid(Xtrain = X,\n",
    "                ytrain = y,\n",
    "                estimator = pipe,\n",
    "                params_grid = param_grid,\n",
    "                scores=score,\n",
    "                cvs = cv,\n",
    "                cores=core,\n",
    "                verb=verbos)\n",
    "    print(score)\n",
    "# #==============================================================================\n",
    "# # RadiusNeighborsRegressor\n",
    "# #==============================================================================\n",
    "# from sklearn.neighbors import RadiusNeighborsRegressor\n",
    "# model = RadiusNeighborsRegressor()\n",
    "# sc = StandardScaler()\n",
    "# pipe = Pipeline(steps=[('sc', sc), ('model', model)])\n",
    "# param_grid   =  [{'model__radius' : [x*1. for x in range(1, 10)],\n",
    "#                   'model__weights' : ['uniform', 'distance'],\n",
    "#                   'model__algorithm' : ['auto', 'ball_tree', 'kd_tree', 'brute'],\n",
    "#                   'model__p' : [x for x in range(1, 10)]}]\n",
    "# estimator = pipe\n",
    "\n",
    "# for score in scores:\n",
    "#     grid(Xtrain = X,\n",
    "#                 ytrain = y,\n",
    "#                 estimator = pipe,\n",
    "#                 params_grid = param_grid,\n",
    "#                 scores=score,\n",
    "#                 cvs = cv,\n",
    "#                 cores=core,\n",
    "#                 verb=verbos)\n",
    "#     print(score)\n",
    "# #==============================================================================\n",
    "# # RandomForestRegressor\n",
    "# #==============================================================================\n",
    "# from sklearn.ensemble import RandomForestRegressor\n",
    "# model = RandomForestRegressor()\n",
    "# sc = StandardScaler()\n",
    "# pipe = Pipeline(steps=[('sc', sc), ('model', model)])\n",
    "# param_grid   =  [{'model__radius' : [x*1. for x in range(1, 10)],\n",
    "#                   'model__weights' : ['uniform', 'distance'],\n",
    "#                   'model__algorithm' : ['auto', 'ball_tree', 'kd_tree', 'brute'],\n",
    "#                   'model__p' : [x for x in range(1, 10)]}]\n",
    "# estimator = pipe\n",
    "\n",
    "# for score in scores:\n",
    "#     grid(Xtrain = X,\n",
    "#                 ytrain = y,\n",
    "#                 estimator = pipe,\n",
    "#                 params_grid = param_grid,\n",
    "#                 scores=score,\n",
    "#                 cvs = cv,\n",
    "#                 cores=core,\n",
    "#                 verb=verbos)\n",
    "#     print(score)\n",
    "# #==============================================================================\n",
    "# # SVR\n",
    "# #==============================================================================\n",
    "# from sklearn.svm import SVR\n",
    "# model = SVR()\n",
    "# sc = StandardScaler()\n",
    "# pipe = Pipeline(steps=[('sc', sc), ('model', model)])\n",
    "# param_grid   =  [{'model__radius' : [x*1. for x in range(1, 10)],\n",
    "#                   'model__weights' : ['uniform', 'distance'],\n",
    "#                   'model__algorithm' : ['auto', 'ball_tree', 'kd_tree', 'brute'],\n",
    "#                   'model__p' : [x for x in range(1, 10)]}]\n",
    "# estimator = pipe\n",
    "\n",
    "# for score in scores:\n",
    "#     grid(Xtrain = X,\n",
    "#                 ytrain = y,\n",
    "#                 estimator = pipe,\n",
    "#                 params_grid = param_grid,\n",
    "#                 scores=score,\n",
    "#                 cvs = cv,\n",
    "#                 cores=core,\n",
    "#                 verb=verbos)\n",
    "#     print(score)\n",
    "\n",
    "t_end = time.time()\n",
    "tt = t_end - t_start\n",
    "time_taken.append(tt)\n",
    "print('Total time complete: ', (tt) / 60, 'minutes')"
   ]
  },
  {
   "cell_type": "markdown",
   "id": "2872fe8f",
   "metadata": {},
   "source": [
    "## Gradient Boosting Regressor Grid Search Params"
   ]
  },
  {
   "cell_type": "code",
   "execution_count": null,
   "id": "31990e83",
   "metadata": {
    "ExecuteTime": {
     "end_time": "2021-10-20T11:26:24.906719Z",
     "start_time": "2021-10-20T11:26:16.762Z"
    }
   },
   "outputs": [],
   "source": [
    "%time\n",
    "\n",
    "import time, datetime\n",
    "from datetime import datetime as dt\n",
    "from sklearn.model_selection import GridSearchCV\n",
    "from sklearn.preprocessing import StandardScaler\n",
    "\n",
    "comments.append('Converted dates to ordinal.')\n",
    "comments.append('Plot ID Dropped.')\n",
    "\n",
    "comments.append('Test train split. test_Size=0.3, random_state=55')\n",
    "cv = 10\n",
    "core=6\n",
    "verbos=5\n",
    "scores = ['neg_mean_absolute_error', 'neg_mean_squared_error', 'r2']\n",
    "\n",
    "\n",
    "#==============================================================================\n",
    "# GradientBoostingRegressor\n",
    "#==============================================================================\n",
    "from sklearn.ensemble import GradientBoostingRegressor\n",
    "model = GradientBoostingRegressor()\n",
    "sc = StandardScaler()\n",
    "pipe = Pipeline(steps=[('sc', sc), ('model', model)])\n",
    "# param_grid   =  [{'model__loss' : ['ls', 'lad', 'huber', 'quantile'],\n",
    "# #                   'model__learning_rate' : [0.001, 0.01, 0.1, 1],\n",
    "# #                   'model__n_estimators' : range(0,500, 100),\n",
    "                  \n",
    "# #                   'model__max_depth':range(5,16,2), \n",
    "# #                   'model__min_samples_split':range(200,1100, 200), # 2100\n",
    "# #                   'model__min_samples_leaf':range(30,71,10),\n",
    "#                   'model__max_features':range(7,20,2),\n",
    "#                   'model__subsample':[0.6,0.7,0.75,0.8,0.85,0.9]}]\n",
    "\n",
    "param_grid   =  [{'model__loss' : ['huber'],\n",
    "#                   'model__learning_rate' : [0.001, 0.01, 0.1, 1],\n",
    "#                   'model__n_estimators' : range(0,500, 100),\n",
    "                  \n",
    "                  'model__max_depth':range(5,16,2), \n",
    "#                   'model__min_samples_split':range(2,5), # 2100\n",
    "#                   'model__min_samples_leaf':range(1,2),\n",
    "#                   'model__max_features':range(5,6),\n",
    "                  'model__subsample':[0.7,0.8]}]\n",
    "# pipe.get_params()\n",
    "estimator = pipe\n",
    "\n",
    "for score in scores:\n",
    "    grid(Xtrain = X.values,\n",
    "                ytrain = y.values,\n",
    "                estimator = pipe,\n",
    "                params_grid = param_grid,\n",
    "                scores=score,\n",
    "                cvs = cv,\n",
    "                cores=core,\n",
    "                verb=verbos)\n",
    "    print(score)"
   ]
  },
  {
   "cell_type": "markdown",
   "id": "1b672094",
   "metadata": {},
   "source": [
    "## Random Forest Grid Search Params"
   ]
  },
  {
   "cell_type": "code",
   "execution_count": null,
   "id": "e79df149",
   "metadata": {
    "ExecuteTime": {
     "end_time": "2021-10-20T11:26:24.909711Z",
     "start_time": "2021-10-20T11:26:17.353Z"
    }
   },
   "outputs": [],
   "source": [
    "%time\n",
    "\n",
    "import time, datetime\n",
    "from datetime import datetime as dt\n",
    "from sklearn.model_selection import GridSearchCV\n",
    "from sklearn.preprocessing import StandardScaler\n",
    "\n",
    "comments.append('Converted dates to ordinal.')\n",
    "comments.append('Plot ID Dropped.')\n",
    "comments.append('Test train split. test_Size=0.3, random_state=55')\n",
    "cv = 5\n",
    "core=6\n",
    "verbos=5\n",
    "scores = ['neg_mean_absolute_error', 'neg_mean_squared_error', 'r2']\n",
    "\n",
    "#==============================================================================\n",
    "# RandomForestRegressor\n",
    "#==============================================================================\n",
    "from sklearn.ensemble import RandomForestRegressor\n",
    "model = RandomForestRegressor()\n",
    "sc = StandardScaler()\n",
    "pipe = Pipeline(steps=[('sc', sc), ('model', model)])\n",
    "\n",
    "# Number of trees in random forest\n",
    "n_estimators = [int(x) for x in np.linspace(start = 200, stop = 2000, num = 10)]\n",
    "# Number of features to consider at every split\n",
    "max_features = ['auto', 'sqrt']\n",
    "# Maximum number of levels in tree\n",
    "max_depth = [int(x) for x in np.linspace(10, 110, num = 11)]\n",
    "max_depth.append(None)\n",
    "# Minimum number of samples required to split a node\n",
    "min_samples_split = [2, 5, 10]\n",
    "# Minimum number of samples required at each leaf node\n",
    "min_samples_leaf = [1, 2, 4]\n",
    "# Method of selecting samples for training each tree\n",
    "bootstrap = [True, False]\n",
    "# Create the random grid\n",
    "param_grid = {\n",
    "    'model__n_estimators': n_estimators,\n",
    "               'model__max_features': max_features,\n",
    "               'model__max_depth': max_depth,\n",
    "               'model__min_samples_split': min_samples_split,\n",
    "               'model__min_samples_leaf': min_samples_leaf,\n",
    "               'model__bootstrap': bootstrap}\n",
    "\n",
    "\n",
    "estimator = pipe\n",
    "\n",
    "for score in scores:\n",
    "    grid(Xtrain = X,\n",
    "                ytrain = y,\n",
    "                estimator = pipe,\n",
    "                params_grid = param_grid,\n",
    "                scores=score,\n",
    "                cvs = cv,\n",
    "                cores=core,\n",
    "                verb=verbos)\n",
    "    print(score)"
   ]
  },
  {
   "cell_type": "markdown",
   "id": "c07a5ce0",
   "metadata": {},
   "source": [
    "## Permutation importance"
   ]
  },
  {
   "cell_type": "code",
   "execution_count": null,
   "id": "9b5ac980",
   "metadata": {
    "ExecuteTime": {
     "end_time": "2021-10-20T11:26:24.911706Z",
     "start_time": "2021-10-20T11:26:18.239Z"
    }
   },
   "outputs": [],
   "source": [
    "\n",
    "\n",
    "# PERMUTATION\n",
    "\n",
    "from sklearn.inspection import permutation_importance\n",
    "\n",
    "\n",
    "result = permutation_importance(gs_xgb_fitted, X_test, y_test, n_repeats=100, random_state=0)\n",
    "\n",
    "# ==================================\n",
    "# Feature selection\n",
    "# ===================================\n",
    "\n",
    "from sklearn.feature_selection import SelectKBest\n",
    "from sklearn.feature_selection import f_regression\n",
    "\n",
    "# define feature selection\n",
    "fs = SelectKBest(score_func=f_regression, k=10)\n",
    "# apply feature selection\n",
    "X_selected = fs.fit_transform(X, y)\n",
    "print(X_selected.shape)\n",
    "\n",
    "# Plot importances\n",
    "fig, ax = plt.subplots(figsize=(25, 25))\n",
    "ind = indices = np.argsort(result.importances_mean)[::-1]\n",
    "plt.barh(X_test.columns, result.importances_mean[ind])\n",
    "plt.show()\n"
   ]
  },
  {
   "cell_type": "code",
   "execution_count": null,
   "id": "bea56464",
   "metadata": {
    "ExecuteTime": {
     "end_time": "2021-10-20T11:26:24.914697Z",
     "start_time": "2021-10-20T11:26:18.243Z"
    }
   },
   "outputs": [],
   "source": [
    "from sklearn.metrics import make_scorer, accuracy_score, precision_score, recall_score, f1_score\n",
    "scoring = {'accuracy': make_scorer(accuracy_score),\n",
    "           'precision': make_scorer(precision_score, average = 'macro'),\n",
    "           'recall': make_scorer(recall_score, average = 'macro'),\n",
    "           'f1': make_scorer(f1_score, average = 'macro')}\n",
    "grid_search_rfc = GridSearchCV(rfc, param_grid = grid_values, scoring = scoring, refit='f1')\n",
    "grid_search_rfc.fit(x_train, y_train)\n",
    "\n",
    "grid_search_rfc.best_params_\n",
    "grid_search_rfc.cv_results_\n",
    "\n",
    "# cv_results[‘mean_test_<metric_name>’]\n",
    "grid_search_rfc.cv_results_['mean_test_recall']\n"
   ]
  },
  {
   "cell_type": "code",
   "execution_count": null,
   "id": "502b0921",
   "metadata": {
    "hide_output": false,
    "run_control": {
     "marked": true
    }
   },
   "outputs": [],
   "source": []
  },
  {
   "cell_type": "code",
   "execution_count": null,
   "id": "804fab3a",
   "metadata": {},
   "outputs": [],
   "source": []
  },
  {
   "cell_type": "code",
   "execution_count": null,
   "id": "a5db9798",
   "metadata": {},
   "outputs": [],
   "source": []
  },
  {
   "cell_type": "code",
   "execution_count": null,
   "id": "4f8c3bd0",
   "metadata": {},
   "outputs": [],
   "source": []
  },
  {
   "cell_type": "code",
   "execution_count": null,
   "id": "e86496b6",
   "metadata": {},
   "outputs": [],
   "source": []
  },
  {
   "cell_type": "code",
   "execution_count": null,
   "id": "c4ec91f0",
   "metadata": {},
   "outputs": [],
   "source": []
  },
  {
   "cell_type": "code",
   "execution_count": null,
   "id": "548ef3f0",
   "metadata": {},
   "outputs": [],
   "source": []
  },
  {
   "cell_type": "code",
   "execution_count": null,
   "id": "330d5272",
   "metadata": {},
   "outputs": [],
   "source": []
  },
  {
   "cell_type": "code",
   "execution_count": null,
   "id": "73ebd473",
   "metadata": {},
   "outputs": [],
   "source": []
  },
  {
   "cell_type": "code",
   "execution_count": null,
   "id": "8f70af56",
   "metadata": {},
   "outputs": [],
   "source": []
  },
  {
   "cell_type": "code",
   "execution_count": null,
   "id": "0b4f6628",
   "metadata": {},
   "outputs": [],
   "source": []
  },
  {
   "cell_type": "markdown",
   "id": "206b1d64",
   "metadata": {},
   "source": [
    "## List of models"
   ]
  },
  {
   "cell_type": "code",
   "execution_count": null,
   "id": "aae7c591",
   "metadata": {
    "ExecuteTime": {
     "end_time": "2021-10-20T11:26:24.917689Z",
     "start_time": "2021-10-20T11:26:18.919Z"
    }
   },
   "outputs": [],
   "source": [
    "models = [GradientBoostingRegressor(subsample=0.8,learning_rate=0.4, random_state=500),\n",
    "#          CatBoostRegressor(depth=8),\n",
    "         RandomForestRegressor(max_depth=250, min_samples_split=14,min_samples_leaf =3, random_state=1, n_jobs = -1),\n",
    "         Lasso(alpha= 4.5),\n",
    "        ]\n",
    "         \n"
   ]
  },
  {
   "cell_type": "code",
   "execution_count": null,
   "id": "573c5dac",
   "metadata": {
    "ExecuteTime": {
     "end_time": "2021-10-20T11:26:24.919684Z",
     "start_time": "2021-10-20T11:26:18.922Z"
    },
    "scrolled": true
   },
   "outputs": [],
   "source": [
    "for df in all_df:\n",
    "    \n",
    "    \n",
    "    temp_df = locals()[df].copy()\n",
    "    #==============================================================================\n",
    "    # Dropping rows with missing values\n",
    "    #==============================================================================\n",
    "\n",
    "    temp_df.dropna(subset=['GrainYield'], inplace=True)\n",
    "    #==============================================================================\n",
    "    # Split dataframe into data and target\n",
    "    #==============================================================================\n",
    "    X = temp_df[[x for x in temp_df.columns if x not in yield_cols+id_cols_new]]\n",
    "    y = temp_df['GrainYield']\n",
    "    \n",
    "    #==============================================================================\n",
    "    # Create separate train/test splits from Main data\n",
    "    #==============================================================================\n",
    "    X_train, X_test, y_train, y_test = train_test_split(X,\n",
    "                                                        y,\n",
    "                                                        test_size=0.3,\n",
    "                                                        random_state=55)\n",
    "    \n",
    "    #==============================================================================\n",
    "    # Scale features using StandardScaler class in scikit-learn \n",
    "    #==============================================================================\n",
    "\n",
    "    # Initialise standard scaler and compute mean and STD from training data\n",
    "    sc = StandardScaler()\n",
    "    sc.fit(X_train)\n",
    "\n",
    "    # Transform (standardise) both X_train and X_test with mean and STD from\n",
    "    # training data\n",
    "    X_train_std = sc.transform(X_train)\n",
    "    X_test_std = sc.transform(X_test)\n",
    "    \n",
    "    #==============================================================================\n",
    "    # Correlation heatmap of indices with target_cols\n",
    "    #==============================================================================\n",
    "#     sns.diverging_palette(331, 129, as_cmap=True)\n",
    "\n",
    "#     pal=['PRGn', 'PiYG', 'PuOr', 'RdBu','RdYlBu','RdYlGn','Spectral']\n",
    "\n",
    "#     correlation = temp_df.iloc[:,1:].corr()\n",
    "#     matrix = np.triu(correlation)\n",
    "\n",
    "#     plt.figure(figsize=(10,6))\n",
    "#     plt.title(df)\n",
    "#     sns.heatmap(correlation, cmap='PRGn', annot=True, fmt='.1g', vmin=-1, vmax=1, center= 0 ,square=True, mask=matrix)\n",
    "#     # plt.savefig('Data/heatmap.pdf',dpi=500, bbox_inches='tight')\n",
    "#     plt.show()\n",
    "\n",
    "\n",
    "    #==============================================================================\n",
    "    # Predictions\n",
    "    #==============================================================================\n",
    "\n",
    "    param=[x/10 for x in range(25,100)]\n",
    "    param=[x for x in range(0,1000, 100)]\n",
    "    param=[1]\n",
    "    for pr in tqdm(param):\n",
    "        for model in models:\n",
    "            R2 = []\n",
    "            RMSE=[]\n",
    "            MAE=[]\n",
    "            for rs in range(10):\n",
    "                #==============================================================================\n",
    "                # Create separate train/test splits\n",
    "                #==============================================================================\n",
    "                X_train, X_test, y_train, y_test = train_test_split(X, y, test_size=0.3, random_state=rs)\n",
    "                X_train.reset_index(drop=True, inplace=True)\n",
    "                X_test.reset_index(drop=True, inplace=True)\n",
    "                sc = StandardScaler()\n",
    "                sc.fit(X_train)\n",
    "                X_train_std = sc.transform(X_train)\n",
    "                X_test_std = sc.transform(X_test)\n",
    "                #==============================================================================\n",
    "                # Training best performing models\n",
    "                #==============================================================================\n",
    "    #             model = Lasso(alpha= 4.5)\n",
    "                model.fit(X_train_std, y_train)\n",
    "                y_pred = model.predict(X_test_std)\n",
    "                R2.append(r2_score(y_test, y_pred))\n",
    "                MAE.append(mean_absolute_error(y_test, y_pred))\n",
    "                RMSE.append(mean_squared_error(y_test, y_pred, squared=False))\n",
    "            accuracy = {}\n",
    "            accuracy['R2'] = R2\n",
    "            accuracy['MAE'] = MAE\n",
    "            accuracy['RMSE'] = RMSE\n",
    "            scores={}\n",
    "            for k, s in accuracy.items():\n",
    "                scores[k]=(sum(s)/len(s))\n",
    "            print(df, model)\n",
    "            print(scores)\n"
   ]
  },
  {
   "cell_type": "code",
   "execution_count": null,
   "id": "a651d606",
   "metadata": {
    "ExecuteTime": {
     "end_time": "2021-10-20T11:26:24.924671Z",
     "start_time": "2021-10-20T11:26:18.925Z"
    }
   },
   "outputs": [],
   "source": [
    "for model in models:\n",
    "    model.fit(X_train_std, y_train)\n",
    "    y_pred = model.predict(X_test_std)\n",
    "    print(y_pred)"
   ]
  },
  {
   "cell_type": "code",
   "execution_count": null,
   "id": "a1ab97ae",
   "metadata": {
    "ExecuteTime": {
     "end_time": "2021-10-20T11:26:24.926665Z",
     "start_time": "2021-10-20T11:26:18.927Z"
    }
   },
   "outputs": [],
   "source": [
    "plot_feature_importance(model.feature_importances_,X_train.columns,'Gradient Boosting Regressor')\n"
   ]
  },
  {
   "cell_type": "code",
   "execution_count": null,
   "id": "brilliant-england",
   "metadata": {
    "ExecuteTime": {
     "end_time": "2021-10-20T11:26:24.928661Z",
     "start_time": "2021-10-20T11:26:18.931Z"
    }
   },
   "outputs": [],
   "source": [
    "from tensorflow.keras import models\n",
    "from tensorflow.keras import layers\n",
    "\n",
    "def build_model():\n",
    "    # Because we will need to instantiate\n",
    "    # the same model multiple times,\n",
    "    # we use a function to construct it.\n",
    "    model = models.Sequential([\n",
    "        layers.Dense(64, activation='relu'),\n",
    "        layers.Dense(64, activation='relu'),\n",
    "        layers.Dense(1)])\n",
    "    \n",
    "    model.compile(optimizer='rmsprop', loss='mse', metrics=['mae'])\n",
    "    return model"
   ]
  },
  {
   "cell_type": "code",
   "execution_count": null,
   "id": "3cc5b540",
   "metadata": {
    "ExecuteTime": {
     "end_time": "2021-10-20T11:26:24.932650Z",
     "start_time": "2021-10-20T11:26:18.933Z"
    }
   },
   "outputs": [],
   "source": [
    "y.isna()"
   ]
  },
  {
   "cell_type": "code",
   "execution_count": null,
   "id": "young-element",
   "metadata": {},
   "outputs": [],
   "source": []
  },
  {
   "cell_type": "markdown",
   "id": "sought-temple",
   "metadata": {},
   "source": [
    "## Restart the kernel"
   ]
  },
  {
   "cell_type": "code",
   "execution_count": null,
   "id": "retired-parliament",
   "metadata": {
    "ExecuteTime": {
     "end_time": "2021-10-20T11:26:24.934644Z",
     "start_time": "2021-10-20T11:26:19.437Z"
    },
    "hide_output": false,
    "run_control": {
     "marked": true
    }
   },
   "outputs": [],
   "source": [
    "from IPython.core.display import HTML\n",
    "HTML(\"<script>Jupyter.notebook.kernel.restart()</script>\")"
   ]
  },
  {
   "cell_type": "code",
   "execution_count": null,
   "id": "illegal-consultancy",
   "metadata": {},
   "outputs": [],
   "source": []
  }
 ],
 "metadata": {
  "hide_input": false,
  "kernelspec": {
   "display_name": "Python 3",
   "language": "python",
   "name": "python3"
  },
  "language_info": {
   "codemirror_mode": {
    "name": "ipython",
    "version": 3
   },
   "file_extension": ".py",
   "mimetype": "text/x-python",
   "name": "python",
   "nbconvert_exporter": "python",
   "pygments_lexer": "ipython3",
   "version": "3.8.5"
  },
  "toc": {
   "base_numbering": 1,
   "nav_menu": {},
   "number_sections": true,
   "sideBar": true,
   "skip_h1_title": false,
   "title_cell": "Table of Contents",
   "title_sidebar": "Contents",
   "toc_cell": false,
   "toc_position": {
    "height": "calc(100% - 180px)",
    "left": "10px",
    "top": "150px",
    "width": "350.552px"
   },
   "toc_section_display": true,
   "toc_window_display": true
  }
 },
 "nbformat": 4,
 "nbformat_minor": 5
}

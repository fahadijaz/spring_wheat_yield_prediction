{
 "cells": [
  {
   "cell_type": "markdown",
   "id": "fuzzy-italian",
   "metadata": {},
   "source": [
    "# DROP ROBOT FROM MODEKLS"
   ]
  },
  {
   "cell_type": "markdown",
   "id": "105acfb2",
   "metadata": {},
   "source": [
    "# Models Training"
   ]
  },
  {
   "cell_type": "code",
   "execution_count": 1,
   "id": "average-columbia",
   "metadata": {
    "ExecuteTime": {
     "end_time": "2021-09-16T08:28:07.172074Z",
     "start_time": "2021-09-16T08:28:04.591527Z"
    }
   },
   "outputs": [
    {
     "name": "stdout",
     "output_type": "stream",
     "text": [
      "Wall time: 2.56 s\n"
     ]
    }
   ],
   "source": [
    "%%time\n",
    "\n",
    "import os\n",
    "import math\n",
    "import datetime\n",
    "import numpy as np\n",
    "import pandas as pd\n",
    "from copy import copy\n",
    "from tqdm import tqdm\n",
    "\n",
    "# Dictionaries\n",
    "import json\n",
    "from pprint import pprint\n",
    "\n",
    "# Iterate in loops\n",
    "import itertools\n",
    "from itertools import zip_longest\n",
    "\n",
    "# Simpsons integration\n",
    "from numpy import trapz\n",
    "from scipy.integrate import simps\n",
    "\n",
    "# Visualisation\n",
    "import seaborn as sns\n",
    "import matplotlib.pyplot as plt\n",
    "\n",
    "# To display df nicely in loops\n",
    "from IPython.display import display \n",
    "# display(df1.head()) \n",
    "# display(df2.head())\n",
    "\n",
    "# Display rows and columns Pandas\n",
    "pd.options.display.max_columns = 100\n",
    "pd.set_option('display.max_rows',100)"
   ]
  },
  {
   "cell_type": "code",
   "execution_count": 2,
   "id": "e62a5621",
   "metadata": {
    "ExecuteTime": {
     "end_time": "2021-09-16T08:28:08.457478Z",
     "start_time": "2021-09-16T08:28:07.175988Z"
    }
   },
   "outputs": [],
   "source": [
    "import os\n",
    "import pandas as pd\n",
    "import numpy as np\n",
    "\n",
    "import seaborn as sns\n",
    "import matplotlib.pyplot as plt\n",
    "\n",
    "from sklearn.model_selection import train_test_split\n",
    "from sklearn.preprocessing import StandardScaler\n",
    "from sklearn.cross_decomposition import PLSRegression\n",
    "\n",
    "from sklearn.model_selection import cross_validate\n",
    "from sklearn.model_selection import cross_val_score\n",
    "from sklearn.model_selection import GridSearchCV\n",
    "\n",
    "from sklearn import metrics\n",
    "from sklearn.metrics import explained_variance_score\n",
    "from sklearn.metrics import max_error\n",
    "from sklearn.metrics import mean_absolute_error\n",
    "from sklearn.metrics import mean_squared_error\n",
    "from sklearn.metrics import mean_squared_log_error\n",
    "from sklearn.metrics import median_absolute_error\n",
    "from sklearn.metrics import r2_score\n",
    "from sklearn.metrics import mean_poisson_deviance\n",
    "from sklearn.metrics import mean_gamma_deviance"
   ]
  },
  {
   "cell_type": "code",
   "execution_count": 3,
   "id": "2d066e93",
   "metadata": {
    "ExecuteTime": {
     "end_time": "2021-09-16T08:28:08.476856Z",
     "start_time": "2021-09-16T08:28:08.461620Z"
    }
   },
   "outputs": [
    {
     "data": {
      "text/plain": [
       "'C:\\\\Users\\\\fahad\\\\MegaSync\\\\NMBU\\\\GitHub\\\\vPheno'"
      ]
     },
     "execution_count": 3,
     "metadata": {},
     "output_type": "execute_result"
    }
   ],
   "source": [
    "# Prints the current working directory\n",
    "os.getcwd()\n",
    "# os.listdir()"
   ]
  },
  {
   "cell_type": "markdown",
   "id": "e796c4ee",
   "metadata": {},
   "source": [
    "## Finding Username folder to make general path for multi PC use"
   ]
  },
  {
   "cell_type": "code",
   "execution_count": 4,
   "id": "a5204388",
   "metadata": {
    "ExecuteTime": {
     "end_time": "2021-09-16T08:28:08.500491Z",
     "start_time": "2021-09-16T08:28:08.481794Z"
    }
   },
   "outputs": [
    {
     "data": {
      "text/plain": [
       "('fahad', 'C:/Users/fahad/')"
      ]
     },
     "execution_count": 4,
     "metadata": {},
     "output_type": "execute_result"
    }
   ],
   "source": [
    "username = str(os.getcwd()).split('\\\\')[2]\n",
    "user_path = r'C:/Users/'+username+'/'\n",
    "username, user_path"
   ]
  },
  {
   "cell_type": "markdown",
   "id": "9a708728",
   "metadata": {},
   "source": [
    "## Importing Data"
   ]
  },
  {
   "cell_type": "code",
   "execution_count": 5,
   "id": "448c66bf",
   "metadata": {
    "ExecuteTime": {
     "end_time": "2021-09-16T08:28:08.527750Z",
     "start_time": "2021-09-16T08:28:08.504954Z"
    }
   },
   "outputs": [
    {
     "data": {
      "text/plain": [
       "['Graminor_2019_Simps.csv',\n",
       " 'Masbasis_2019_Simps.csv',\n",
       " 'Masbasis_2020_Simps.csv',\n",
       " 'Robot_2020_Simps.csv']"
      ]
     },
     "execution_count": 5,
     "metadata": {},
     "output_type": "execute_result"
    }
   ],
   "source": [
    "main_path = r'./Data/'\n",
    "path = r'./Data/results/temp_data/'\n",
    "export_path = './Data/results/'\n",
    "\n",
    "# Create export_path folder if not exists already\n",
    "os.makedirs(path, exist_ok=True)\n",
    "os.makedirs(export_path, exist_ok=True)\n",
    "\n",
    "os.listdir(path)"
   ]
  },
  {
   "cell_type": "markdown",
   "id": "aede1524",
   "metadata": {},
   "source": [
    "## Data Preparation\n",
    "### Creating list of complete files"
   ]
  },
  {
   "cell_type": "code",
   "execution_count": 6,
   "id": "mighty-atlas",
   "metadata": {
    "ExecuteTime": {
     "end_time": "2021-09-16T08:28:08.558249Z",
     "start_time": "2021-09-16T08:28:08.530991Z"
    },
    "scrolled": true
   },
   "outputs": [
    {
     "name": "stdout",
     "output_type": "stream",
     "text": [
      "4 files found in the directory\n"
     ]
    },
    {
     "data": {
      "text/plain": [
       "['Graminor_2019_Simps.csv',\n",
       " 'Masbasis_2019_Simps.csv',\n",
       " 'Masbasis_2020_Simps.csv',\n",
       " 'Robot_2020_Simps.csv']"
      ]
     },
     "execution_count": 6,
     "metadata": {},
     "output_type": "execute_result"
    }
   ],
   "source": [
    "# Get the list of all files in directory tree at given path\n",
    "\n",
    "files_with_address = []\n",
    "files_list = []\n",
    "\n",
    "for (dirpath, dirnames, filenames) in os.walk(path):\n",
    "    files_with_address += [os.path.join(dirpath, file) for file in filenames]\n",
    "    files_list.extend(filenames)\n",
    "    \n",
    "print(len(files_with_address), 'files found in the directory')\n",
    "# files_with_address\n",
    "files_list"
   ]
  },
  {
   "cell_type": "markdown",
   "id": "abeebb14",
   "metadata": {},
   "source": [
    "## Data Checking/control"
   ]
  },
  {
   "cell_type": "markdown",
   "id": "ee84d976",
   "metadata": {
    "run_control": {
     "marked": true
    }
   },
   "source": [
    "### Check for duplicate filenames"
   ]
  },
  {
   "cell_type": "code",
   "execution_count": 7,
   "id": "2affa906",
   "metadata": {
    "ExecuteTime": {
     "end_time": "2021-09-16T08:28:08.575337Z",
     "start_time": "2021-09-16T08:28:08.562036Z"
    }
   },
   "outputs": [
    {
     "name": "stdout",
     "output_type": "stream",
     "text": [
      "Total number of files are : 4\n",
      "Number of unique file names are: 4\n",
      "There is/are 0 duplicate file name/names.\n"
     ]
    }
   ],
   "source": [
    "print('Total number of files are :', len(files_list))\n",
    "\n",
    "print('Number of unique file names are:', len(set(files_list)))\n",
    "\n",
    "print('There is/are', len(files_list) - len(set(files_list)),'duplicate file name/names.')\n",
    "if len(files_list) - len(set(files_list)) > 0:\n",
    "    raise NameError"
   ]
  },
  {
   "cell_type": "markdown",
   "id": "a0f118d1",
   "metadata": {},
   "source": [
    "## Importing data files to Pandas"
   ]
  },
  {
   "cell_type": "code",
   "execution_count": 8,
   "id": "ad948136",
   "metadata": {
    "ExecuteTime": {
     "end_time": "2021-09-16T08:28:08.619692Z",
     "start_time": "2021-09-16T08:28:08.581571Z"
    }
   },
   "outputs": [
    {
     "name": "stdout",
     "output_type": "stream",
     "text": [
      "Graminor_2019_Simps ===== (601, 7)\n",
      "Masbasis_2019_Simps ===== (528, 7)\n",
      "Masbasis_2020_Simps ===== (688, 7)\n",
      "Robot_2020_Simps ===== (96, 7)\n",
      "Wall time: 27.8 ms\n"
     ]
    }
   ],
   "source": [
    "   \n",
    "%%time\n",
    "\n",
    "all_df = []\n",
    "for data in files_with_address:\n",
    "    file_name = os.path.splitext(os.path.basename(data))[0]\n",
    "\n",
    "    # Replce all invalid characters in the name\n",
    "    file_name = file_name.replace(\" \", \"_\")\n",
    "    file_name = file_name.replace(\"-\", \"_\")\n",
    "    file_name = file_name.replace(\")\", \"\")\n",
    "    file_name = file_name.replace(\"(\", \"\")\n",
    "    df_name = file_name.replace(\".\", \"\")\n",
    "    # Test: Check if the same date is already present in the current dict key\n",
    "    if df_name in all_df:\n",
    "        print(f'A file with the same name {df_name} has already been imported. \\n Please check if there is duplication of data.')\n",
    "        raise NameError\n",
    "    all_df.append(df_name)\n",
    "\n",
    "    locals()[df_name] = pd.read_csv(data, index_col=False)\n",
    "    print(df_name, '=====', locals()[df_name].shape)\n",
    "# all_df"
   ]
  },
  {
   "cell_type": "code",
   "execution_count": 9,
   "id": "b51b4353",
   "metadata": {
    "ExecuteTime": {
     "end_time": "2021-09-16T08:28:08.635577Z",
     "start_time": "2021-09-16T08:28:08.621804Z"
    },
    "scrolled": true
   },
   "outputs": [
    {
     "name": "stdout",
     "output_type": "stream",
     "text": [
      "Total imported 4\n"
     ]
    },
    {
     "data": {
      "text/plain": [
       "['Graminor_2019_Simps',\n",
       " 'Masbasis_2019_Simps',\n",
       " 'Masbasis_2020_Simps',\n",
       " 'Robot_2020_Simps']"
      ]
     },
     "execution_count": 9,
     "metadata": {},
     "output_type": "execute_result"
    }
   ],
   "source": [
    "print(f'Total imported {len(all_df)}')\n",
    "all_df"
   ]
  },
  {
   "cell_type": "markdown",
   "id": "71e8186b",
   "metadata": {},
   "source": [
    "# Finding yield columns"
   ]
  },
  {
   "cell_type": "code",
   "execution_count": 10,
   "id": "0001fa8b",
   "metadata": {
    "ExecuteTime": {
     "end_time": "2021-09-16T08:28:08.658583Z",
     "start_time": "2021-09-16T08:28:08.638570Z"
    }
   },
   "outputs": [
    {
     "name": "stdout",
     "output_type": "stream",
     "text": [
      "\"GrainYield\" column in Graminor_2019_Simps is the yield column\n",
      " as it contains the text \"GrainYield\". It is located at location 6\n",
      "\"GrainYield\" column in Masbasis_2019_Simps is the yield column\n",
      " as it contains the text \"GrainYield\". It is located at location 6\n",
      "\"GrainYield\" column in Masbasis_2020_Simps is the yield column\n",
      " as it contains the text \"GrainYield\". It is located at location 6\n",
      "\"GrainYield\" column in Robot_2020_Simps is the yield column\n",
      " as it contains the text \"GrainYield\". It is located at location 6\n"
     ]
    },
    {
     "data": {
      "text/plain": [
       "{'GrainYield_Graminor_2019_Simps': 6,\n",
       " 'GrainYield_Masbasis_2019_Simps': 6,\n",
       " 'GrainYield_Masbasis_2020_Simps': 6,\n",
       " 'GrainYield_Robot_2020_Simps': 6}"
      ]
     },
     "execution_count": 10,
     "metadata": {},
     "output_type": "execute_result"
    }
   ],
   "source": [
    "# ToDo: Add check for duplicate columns in the df\n",
    "\n",
    "general_col_names = ['Plot_ID', 'Blue', 'Green', 'Red', 'RedEdge', 'NIR']\n",
    "\n",
    "# list_agg_df\n",
    "yield_cols = ['GrainYield', 'Days2Heading', 'Days2Maturity']\n",
    "id_cols_new = ['Plot_ID']\n",
    "\n",
    "# Counter for location of column in columns list\n",
    "\n",
    "# Dict for saving the name and location of the yield column/s\n",
    "loc_yield_cols = {}\n",
    "for df in all_df:\n",
    "    loc = 0\n",
    "    for cols in locals()[df].columns.tolist():\n",
    "        for y_col in yield_cols:\n",
    "            if not cols.find(y_col):\n",
    "                loc_yield_cols[cols+'_'+df] = loc\n",
    "                print(f'\\\"{cols}\\\" column in {df} is the yield column\\n as it contains the text \\\"{y_col}\\\". It is located at location {loc}')\n",
    "        loc += 1\n",
    "\n",
    "    yield_cols_found = list(loc_yield_cols.keys())\n",
    "    target_cols=yield_cols_found[0]\n",
    "loc_yield_cols"
   ]
  },
  {
   "cell_type": "markdown",
   "id": "20dbcd75",
   "metadata": {},
   "source": [
    "# Preprocessing "
   ]
  },
  {
   "cell_type": "code",
   "execution_count": 11,
   "id": "5c738348",
   "metadata": {
    "ExecuteTime": {
     "end_time": "2021-09-16T08:28:08.859734Z",
     "start_time": "2021-09-16T08:28:08.660857Z"
    }
   },
   "outputs": [],
   "source": [
    "from sklearn.model_selection import train_test_split\n",
    "from sklearn.cross_decomposition import PLSRegression\n",
    "\n",
    "from sklearn.model_selection import cross_validate\n",
    "from sklearn.model_selection import cross_val_score\n",
    "from sklearn.model_selection import GridSearchCV\n",
    "\n",
    "from sklearn import metrics\n",
    "from sklearn.metrics import mean_squared_error\n",
    "from sklearn.metrics import r2_score\n",
    "from sklearn.metrics import mean_absolute_error\n",
    "\n",
    "from sklearn.pipeline import make_pipeline\n",
    "from sklearn.model_selection import GridSearchCV\n",
    "from sklearn.svm import SVR\n",
    "from sklearn.preprocessing import StandardScaler\n",
    "from sklearn.pipeline import Pipeline\n",
    "import time, datetime\n",
    "from datetime import datetime as dt\n",
    "from sklearn.ensemble import RandomForestRegressor\n",
    "from sklearn.model_selection import GridSearchCV\n",
    "from sklearn.preprocessing import StandardScaler\n",
    "from sklearn.model_selection import train_test_split\n",
    "from sklearn.ensemble import GradientBoostingRegressor\n",
    "# import xgboost as xgb\n",
    "from sklearn.linear_model import Lasso\n",
    "# from catboost import CatBoostRegressor\n",
    "\n",
    "import time, datetime\n",
    "from datetime import datetime as dt\n",
    "from sklearn.ensemble import RandomForestRegressor\n",
    "from sklearn.model_selection import GridSearchCV\n",
    "from sklearn.preprocessing import StandardScaler\n",
    "from sklearn.model_selection import train_test_split\n"
   ]
  },
  {
   "cell_type": "markdown",
   "id": "ae4318ac",
   "metadata": {},
   "source": [
    "## Importing declared functions"
   ]
  },
  {
   "cell_type": "code",
   "execution_count": 12,
   "id": "99bd7dcf",
   "metadata": {
    "ExecuteTime": {
     "end_time": "2021-09-16T08:28:08.894557Z",
     "start_time": "2021-09-16T08:28:08.863994Z"
    }
   },
   "outputs": [],
   "source": [
    "from functions.plot_feature_importance import plot_feature_importance\n",
    "from functions.grid_search import grid\n",
    "from functions.test_data_regression import test_data_regression"
   ]
  },
  {
   "cell_type": "markdown",
   "id": "483f52b7",
   "metadata": {},
   "source": [
    "## Running imported function"
   ]
  },
  {
   "cell_type": "code",
   "execution_count": 13,
   "id": "9bd85b6b",
   "metadata": {
    "ExecuteTime": {
     "end_time": "2021-09-16T08:28:08.909673Z",
     "start_time": "2021-09-16T08:28:08.898549Z"
    }
   },
   "outputs": [
    {
     "data": {
      "text/plain": [
       "8"
      ]
     },
     "execution_count": 13,
     "metadata": {},
     "output_type": "execute_result"
    }
   ],
   "source": [
    "import multiprocessing\n",
    "multiprocessing.cpu_count()\n",
    "\n",
    "import psutil\n",
    "psutil.cpu_count()"
   ]
  },
  {
   "cell_type": "markdown",
   "id": "talented-facial",
   "metadata": {
    "ExecuteTime": {
     "end_time": "2021-09-15T18:32:26.716503Z",
     "start_time": "2021-09-15T18:32:26.697958Z"
    }
   },
   "source": [
    "## List of models"
   ]
  },
  {
   "cell_type": "code",
   "execution_count": 14,
   "id": "waiting-field",
   "metadata": {
    "ExecuteTime": {
     "end_time": "2021-09-16T08:28:08.940536Z",
     "start_time": "2021-09-16T08:28:08.916076Z"
    }
   },
   "outputs": [],
   "source": [
    "models = [GradientBoostingRegressor(subsample=0.8,learning_rate=0.4, random_state=500),\n",
    "#          CatBoostRegressor(depth=8),\n",
    "         RandomForestRegressor(random_state=1, n_jobs = -1)]\n",
    "         \n"
   ]
  },
  {
   "cell_type": "markdown",
   "id": "b9e01a31",
   "metadata": {},
   "source": [
    "## Temp Preparation"
   ]
  },
  {
   "cell_type": "code",
   "execution_count": 18,
   "id": "6195c77d",
   "metadata": {
    "ExecuteTime": {
     "end_time": "2021-09-16T08:32:49.048380Z",
     "start_time": "2021-09-16T08:32:39.496915Z"
    }
   },
   "outputs": [
    {
     "name": "stdout",
     "output_type": "stream",
     "text": [
      "Train dataset: Graminor_2019_Simps 1    \n",
      " Test dataset: Masbasis_2019_Simps 6\n",
      "=>\n",
      "GradientBoostingRegressor(learning_rate=0.4, random_state=500, subsample=0.8)\n",
      "{   'MSE': 7998.4845900845485,\n",
      "    'RMSE': 89.43424729981545,\n",
      "    'R2 Score': -0.124968981885629}\n",
      "=============================================\n",
      "RandomForestRegressor(n_jobs=-1, random_state=1)\n",
      "{   'MSE': 6279.683122701575,\n",
      "    'RMSE': 79.24445168402374,\n",
      "    'R2 Score': 0.11677660317461691}\n",
      "=============================================\n",
      "Train dataset: Graminor_2019_Simps 1    \n",
      " Test dataset: Masbasis_2020_Simps 117\n",
      "=>\n",
      "GradientBoostingRegressor(learning_rate=0.4, random_state=500, subsample=0.8)\n",
      "{   'MSE': 14745.175214570987,\n",
      "    'RMSE': 121.4297130630349,\n",
      "    'R2 Score': -0.3915114907483155}\n",
      "=============================================\n",
      "RandomForestRegressor(n_jobs=-1, random_state=1)\n",
      "{   'MSE': 14019.868879626256,\n",
      "    'RMSE': 118.40552723427338,\n",
      "    'R2 Score': -0.32306387417535065}\n",
      "=============================================\n",
      "Train dataset: Graminor_2019_Simps 1    \n",
      " Test dataset: Robot_2020_Simps 0\n",
      "=>\n",
      "GradientBoostingRegressor(learning_rate=0.4, random_state=500, subsample=0.8)\n",
      "{   'MSE': 8737.236021104965,\n",
      "    'RMSE': 93.47318343303048,\n",
      "    'R2 Score': 0.13244089022534167}\n",
      "=============================================\n",
      "RandomForestRegressor(n_jobs=-1, random_state=1)\n",
      "{   'MSE': 9112.589651687867,\n",
      "    'RMSE': 95.4598850391507,\n",
      "    'R2 Score': 0.09517035514850547}\n",
      "=============================================\n",
      "Train dataset: Masbasis_2019_Simps 6    \n",
      " Test dataset: Graminor_2019_Simps 1\n",
      "=>\n",
      "GradientBoostingRegressor(learning_rate=0.4, random_state=500, subsample=0.8)\n",
      "{   'MSE': 6797.881388129633,\n",
      "    'RMSE': 82.44926554026806,\n",
      "    'R2 Score': -1.6825889152793954}\n",
      "=============================================\n",
      "RandomForestRegressor(n_jobs=-1, random_state=1)\n",
      "{   'MSE': 5121.3312084754125,\n",
      "    'RMSE': 71.56347677744152,\n",
      "    'R2 Score': -1.020986473126822}\n",
      "=============================================\n",
      "Train dataset: Masbasis_2019_Simps 6    \n",
      " Test dataset: Masbasis_2020_Simps 117\n",
      "=>\n",
      "GradientBoostingRegressor(learning_rate=0.4, random_state=500, subsample=0.8)\n",
      "{   'MSE': 41686.33648298735,\n",
      "    'RMSE': 204.17232056032316,\n",
      "    'R2 Score': -2.933965882342033}\n",
      "=============================================\n",
      "RandomForestRegressor(n_jobs=-1, random_state=1)\n",
      "{   'MSE': 36780.91773772567,\n",
      "    'RMSE': 191.78351789902507,\n",
      "    'R2 Score': -2.471038419518905}\n",
      "=============================================\n",
      "Train dataset: Masbasis_2019_Simps 6    \n",
      " Test dataset: Robot_2020_Simps 0\n",
      "=>\n",
      "GradientBoostingRegressor(learning_rate=0.4, random_state=500, subsample=0.8)\n",
      "{   'MSE': 15633.20148478008,\n",
      "    'RMSE': 125.0328016353312,\n",
      "    'R2 Score': -0.5522902586473162}\n",
      "=============================================\n",
      "RandomForestRegressor(n_jobs=-1, random_state=1)\n",
      "{   'MSE': 12585.618061344912,\n",
      "    'RMSE': 112.18564106580179,\n",
      "    'R2 Score': -0.24968211627679016}\n",
      "=============================================\n",
      "Train dataset: Masbasis_2020_Simps 117    \n",
      " Test dataset: Graminor_2019_Simps 1\n",
      "=>\n",
      "GradientBoostingRegressor(learning_rate=0.4, random_state=500, subsample=0.8)\n",
      "{   'MSE': 11024.341597506773,\n",
      "    'RMSE': 104.99686470322231,\n",
      "    'R2 Score': -3.350440215000887}\n",
      "=============================================\n",
      "RandomForestRegressor(n_jobs=-1, random_state=1)\n",
      "{   'MSE': 11172.121072472375,\n",
      "    'RMSE': 105.69825482226457,\n",
      "    'R2 Score': -3.4087571462349002}\n",
      "=============================================\n",
      "Train dataset: Masbasis_2020_Simps 117    \n",
      " Test dataset: Masbasis_2019_Simps 6\n",
      "=>\n",
      "GradientBoostingRegressor(learning_rate=0.4, random_state=500, subsample=0.8)\n",
      "{   'MSE': 10690.56073448317,\n",
      "    'RMSE': 103.39516784880796,\n",
      "    'R2 Score': -0.5036034751091374}\n",
      "=============================================\n",
      "RandomForestRegressor(n_jobs=-1, random_state=1)\n",
      "{   'MSE': 14686.815000667963,\n",
      "    'RMSE': 121.18917031099753,\n",
      "    'R2 Score': -1.0656677064710545}\n",
      "=============================================\n",
      "Train dataset: Masbasis_2020_Simps 117    \n",
      " Test dataset: Robot_2020_Simps 0\n",
      "=>\n",
      "GradientBoostingRegressor(learning_rate=0.4, random_state=500, subsample=0.8)\n",
      "{   'MSE': 8391.231968790249,\n",
      "    'RMSE': 91.60366787847661,\n",
      "    'R2 Score': 0.1667971748535113}\n",
      "=============================================\n",
      "RandomForestRegressor(n_jobs=-1, random_state=1)\n",
      "{   'MSE': 6425.728516860472,\n",
      "    'RMSE': 80.16064194391454,\n",
      "    'R2 Score': 0.36196077360445433}\n",
      "=============================================\n",
      "Train dataset: Robot_2020_Simps 0    \n",
      " Test dataset: Graminor_2019_Simps 1\n",
      "=>\n",
      "GradientBoostingRegressor(learning_rate=0.4, random_state=500, subsample=0.8)\n",
      "{   'MSE': 5652.210021827777,\n",
      "    'RMSE': 75.18118130109275,\n",
      "    'R2 Score': -1.2304825703288897}\n",
      "=============================================\n",
      "RandomForestRegressor(n_jobs=-1, random_state=1)\n",
      "{   'MSE': 2434.801455742755,\n",
      "    'RMSE': 49.34370735709626,\n",
      "    'R2 Score': 0.03917543964697723}\n",
      "=============================================\n",
      "Train dataset: Robot_2020_Simps 0    \n",
      " Test dataset: Masbasis_2019_Simps 6\n",
      "=>\n",
      "GradientBoostingRegressor(learning_rate=0.4, random_state=500, subsample=0.8)\n",
      "{   'MSE': 7805.0749632979005,\n",
      "    'RMSE': 88.3463353133445,\n",
      "    'R2 Score': -0.09776635012676027}\n",
      "=============================================\n",
      "RandomForestRegressor(n_jobs=-1, random_state=1)\n",
      "{   'MSE': 7176.225856663497,\n",
      "    'RMSE': 84.71260742453568,\n",
      "    'R2 Score': -0.009320128685366802}\n",
      "=============================================\n",
      "Train dataset: Robot_2020_Simps 0    \n",
      " Test dataset: Masbasis_2020_Simps 117\n",
      "=>\n",
      "GradientBoostingRegressor(learning_rate=0.4, random_state=500, subsample=0.8)\n",
      "{   'MSE': 10404.388439999753,\n",
      "    'RMSE': 102.00190409987331,\n",
      "    'R2 Score': 0.018131296658869034}\n",
      "=============================================\n",
      "RandomForestRegressor(n_jobs=-1, random_state=1)\n",
      "{   'MSE': 13365.209164323394,\n",
      "    'RMSE': 115.60799783891854,\n",
      "    'R2 Score': -0.2612832236834022}\n",
      "=============================================\n"
     ]
    }
   ],
   "source": [
    "# Iterating through all possible permutations of the fields dataset\n",
    "results = []\n",
    "for i in itertools.permutations(all_df, 2):\n",
    "\n",
    "    train_df = locals()[i[0]].copy()\n",
    "    test_df = locals()[i[1]].copy()\n",
    "    \n",
    "    print(f\"Train dataset: {i[0]} {train_df['GrainYield'].isna().sum()}\\\n",
    "    \\n Test dataset: {i[1]} {test_df['GrainYield'].isna().sum()}\")\n",
    "    print('=>')\n",
    "#     print(f\"Missing values in {i[0]} {train_df['GrainYield'].isna().sum()}\\\n",
    "#     \\n Missing values in {i[1]} {test_df['GrainYield'].isna().sum()}\")\n",
    "    # Dropping entries with grainyield missing\n",
    "    train_df.dropna(subset=['GrainYield'], inplace=True)\n",
    "    test_df.dropna(subset=['GrainYield'], inplace=True)\n",
    "\n",
    "    #==============================================================================\n",
    "    # Create separate train/test splits from Main data\n",
    "    #==============================================================================\n",
    "    X_train, y_train, = train_df[[x for x in train_df.columns if x not in yield_cols+id_cols_new]], train_df['GrainYield']\n",
    "    X_test, y_test = test_df[[x for x in test_df.columns if x not in yield_cols+id_cols_new]], test_df['GrainYield']\n",
    "    features = X_train.columns\n",
    "\n",
    "    #==============================================================================\n",
    "    # Scale features using StandardScaler class in scikit-learn \n",
    "    #==============================================================================\n",
    "\n",
    "    # Initialise standard scaler and compute mean and STD from training data\n",
    "    sc = StandardScaler()\n",
    "    sc.fit(X_train)\n",
    "\n",
    "    # Transform (standardise) both X_train and X_test with mean and STD from\n",
    "    # training data\n",
    "    X_train_std = sc.transform(X_train)\n",
    "    X_test_std = sc.transform(X_test)\n",
    "    \n",
    "    for model in models:\n",
    "        print(model)\n",
    "        acc, acc_std, imp, imp_std = test_data_regression(model, features, X_train, X_train_std, y_train, X_test, X_test_std, y_test)\n",
    "        results.append([i[0], i[1], model, acc, acc_std, imp, imp_std])\n",
    "        print('=============================================')"
   ]
  },
  {
   "cell_type": "code",
   "execution_count": 22,
   "id": "cellular-assets",
   "metadata": {
    "ExecuteTime": {
     "end_time": "2021-09-15T20:25:21.777868Z",
     "start_time": "2021-09-15T20:25:21.773963Z"
    }
   },
   "outputs": [],
   "source": [
    "train_dfs = [x[0] for x in results]\n",
    "test_dfs = [x[1] for x in results]\n",
    "modelss = [x[2] for x in results]\n",
    "acc_normal = [x[3] for x in results]\n",
    "acc_stds = [x[4] for x in results]\n",
    "imp_normal = [x[5] for x in results]\n",
    "imp_stds = [x[6] for x in results]\n",
    "# acc_normal"
   ]
  },
  {
   "cell_type": "code",
   "execution_count": 27,
   "id": "provincial-friend",
   "metadata": {
    "ExecuteTime": {
     "end_time": "2021-09-15T20:26:09.450956Z",
     "start_time": "2021-09-15T20:26:09.238466Z"
    }
   },
   "outputs": [
    {
     "ename": "TypeError",
     "evalue": "Cannot cast array data from dtype('float64') to dtype('<U32') according to the rule 'safe'",
     "output_type": "error",
     "traceback": [
      "\u001b[1;31m---------------------------------------------------------------------------\u001b[0m",
      "\u001b[1;31mTypeError\u001b[0m                                 Traceback (most recent call last)",
      "\u001b[1;32mC:\\ProgramData\\Anaconda3\\lib\\site-packages\\numpy\\core\\fromnumeric.py\u001b[0m in \u001b[0;36m_wrapfunc\u001b[1;34m(obj, method, *args, **kwds)\u001b[0m\n\u001b[0;32m     57\u001b[0m     \u001b[1;32mtry\u001b[0m\u001b[1;33m:\u001b[0m\u001b[1;33m\u001b[0m\u001b[1;33m\u001b[0m\u001b[0m\n\u001b[1;32m---> 58\u001b[1;33m         \u001b[1;32mreturn\u001b[0m \u001b[0mbound\u001b[0m\u001b[1;33m(\u001b[0m\u001b[1;33m*\u001b[0m\u001b[0margs\u001b[0m\u001b[1;33m,\u001b[0m \u001b[1;33m**\u001b[0m\u001b[0mkwds\u001b[0m\u001b[1;33m)\u001b[0m\u001b[1;33m\u001b[0m\u001b[1;33m\u001b[0m\u001b[0m\n\u001b[0m\u001b[0;32m     59\u001b[0m     \u001b[1;32mexcept\u001b[0m \u001b[0mTypeError\u001b[0m\u001b[1;33m:\u001b[0m\u001b[1;33m\u001b[0m\u001b[1;33m\u001b[0m\u001b[0m\n",
      "\u001b[1;31mTypeError\u001b[0m: Cannot cast array data from dtype('float64') to dtype('<U32') according to the rule 'safe'",
      "\nDuring handling of the above exception, another exception occurred:\n",
      "\u001b[1;31mTypeError\u001b[0m                                 Traceback (most recent call last)",
      "\u001b[1;32m<ipython-input-27-62e7bdd9ca99>\u001b[0m in \u001b[0;36m<module>\u001b[1;34m\u001b[0m\n\u001b[0;32m      9\u001b[0m \u001b[0max\u001b[0m \u001b[1;33m=\u001b[0m \u001b[0mfig\u001b[0m\u001b[1;33m.\u001b[0m\u001b[0madd_subplot\u001b[0m\u001b[1;33m(\u001b[0m\u001b[0mprojection\u001b[0m\u001b[1;33m=\u001b[0m\u001b[1;34m'3d'\u001b[0m\u001b[1;33m)\u001b[0m\u001b[1;33m\u001b[0m\u001b[1;33m\u001b[0m\u001b[0m\n\u001b[0;32m     10\u001b[0m \u001b[0mx\u001b[0m\u001b[1;33m,\u001b[0m \u001b[0my\u001b[0m \u001b[1;33m=\u001b[0m \u001b[0mtrain_dfs\u001b[0m\u001b[1;33m,\u001b[0m \u001b[0mtest_dfs\u001b[0m\u001b[1;33m\u001b[0m\u001b[1;33m\u001b[0m\u001b[0m\n\u001b[1;32m---> 11\u001b[1;33m \u001b[0mhist\u001b[0m\u001b[1;33m,\u001b[0m \u001b[0mxedges\u001b[0m\u001b[1;33m,\u001b[0m \u001b[0myedges\u001b[0m \u001b[1;33m=\u001b[0m \u001b[0mnp\u001b[0m\u001b[1;33m.\u001b[0m\u001b[0mhistogram2d\u001b[0m\u001b[1;33m(\u001b[0m\u001b[0mx\u001b[0m\u001b[1;33m,\u001b[0m \u001b[0my\u001b[0m\u001b[1;33m,\u001b[0m \u001b[0mbins\u001b[0m\u001b[1;33m=\u001b[0m\u001b[1;36m4\u001b[0m\u001b[1;33m,\u001b[0m \u001b[0mrange\u001b[0m\u001b[1;33m=\u001b[0m\u001b[1;33m[\u001b[0m\u001b[1;33m[\u001b[0m\u001b[1;36m0\u001b[0m\u001b[1;33m,\u001b[0m \u001b[1;36m4\u001b[0m\u001b[1;33m]\u001b[0m\u001b[1;33m,\u001b[0m \u001b[1;33m[\u001b[0m\u001b[1;36m0\u001b[0m\u001b[1;33m,\u001b[0m \u001b[1;36m4\u001b[0m\u001b[1;33m]\u001b[0m\u001b[1;33m]\u001b[0m\u001b[1;33m)\u001b[0m\u001b[1;33m\u001b[0m\u001b[1;33m\u001b[0m\u001b[0m\n\u001b[0m\u001b[0;32m     12\u001b[0m \u001b[1;33m\u001b[0m\u001b[0m\n\u001b[0;32m     13\u001b[0m \u001b[1;31m# Construct arrays for the anchor positions of the 16 bars.\u001b[0m\u001b[1;33m\u001b[0m\u001b[1;33m\u001b[0m\u001b[1;33m\u001b[0m\u001b[0m\n",
      "\u001b[1;32m<__array_function__ internals>\u001b[0m in \u001b[0;36mhistogram2d\u001b[1;34m(*args, **kwargs)\u001b[0m\n",
      "\u001b[1;32mC:\\ProgramData\\Anaconda3\\lib\\site-packages\\numpy\\lib\\twodim_base.py\u001b[0m in \u001b[0;36mhistogram2d\u001b[1;34m(x, y, bins, range, normed, weights, density)\u001b[0m\n\u001b[0;32m    711\u001b[0m         \u001b[0mxedges\u001b[0m \u001b[1;33m=\u001b[0m \u001b[0myedges\u001b[0m \u001b[1;33m=\u001b[0m \u001b[0masarray\u001b[0m\u001b[1;33m(\u001b[0m\u001b[0mbins\u001b[0m\u001b[1;33m)\u001b[0m\u001b[1;33m\u001b[0m\u001b[1;33m\u001b[0m\u001b[0m\n\u001b[0;32m    712\u001b[0m         \u001b[0mbins\u001b[0m \u001b[1;33m=\u001b[0m \u001b[1;33m[\u001b[0m\u001b[0mxedges\u001b[0m\u001b[1;33m,\u001b[0m \u001b[0myedges\u001b[0m\u001b[1;33m]\u001b[0m\u001b[1;33m\u001b[0m\u001b[1;33m\u001b[0m\u001b[0m\n\u001b[1;32m--> 713\u001b[1;33m     \u001b[0mhist\u001b[0m\u001b[1;33m,\u001b[0m \u001b[0medges\u001b[0m \u001b[1;33m=\u001b[0m \u001b[0mhistogramdd\u001b[0m\u001b[1;33m(\u001b[0m\u001b[1;33m[\u001b[0m\u001b[0mx\u001b[0m\u001b[1;33m,\u001b[0m \u001b[0my\u001b[0m\u001b[1;33m]\u001b[0m\u001b[1;33m,\u001b[0m \u001b[0mbins\u001b[0m\u001b[1;33m,\u001b[0m \u001b[0mrange\u001b[0m\u001b[1;33m,\u001b[0m \u001b[0mnormed\u001b[0m\u001b[1;33m,\u001b[0m \u001b[0mweights\u001b[0m\u001b[1;33m,\u001b[0m \u001b[0mdensity\u001b[0m\u001b[1;33m)\u001b[0m\u001b[1;33m\u001b[0m\u001b[1;33m\u001b[0m\u001b[0m\n\u001b[0m\u001b[0;32m    714\u001b[0m     \u001b[1;32mreturn\u001b[0m \u001b[0mhist\u001b[0m\u001b[1;33m,\u001b[0m \u001b[0medges\u001b[0m\u001b[1;33m[\u001b[0m\u001b[1;36m0\u001b[0m\u001b[1;33m]\u001b[0m\u001b[1;33m,\u001b[0m \u001b[0medges\u001b[0m\u001b[1;33m[\u001b[0m\u001b[1;36m1\u001b[0m\u001b[1;33m]\u001b[0m\u001b[1;33m\u001b[0m\u001b[1;33m\u001b[0m\u001b[0m\n\u001b[0;32m    715\u001b[0m \u001b[1;33m\u001b[0m\u001b[0m\n",
      "\u001b[1;32m<__array_function__ internals>\u001b[0m in \u001b[0;36mhistogramdd\u001b[1;34m(*args, **kwargs)\u001b[0m\n",
      "\u001b[1;32mC:\\ProgramData\\Anaconda3\\lib\\site-packages\\numpy\\lib\\histograms.py\u001b[0m in \u001b[0;36mhistogramdd\u001b[1;34m(sample, bins, range, normed, weights, density)\u001b[0m\n\u001b[0;32m   1071\u001b[0m \u001b[1;33m\u001b[0m\u001b[0m\n\u001b[0;32m   1072\u001b[0m     \u001b[1;31m# Compute the bin number each sample falls into.\u001b[0m\u001b[1;33m\u001b[0m\u001b[1;33m\u001b[0m\u001b[1;33m\u001b[0m\u001b[0m\n\u001b[1;32m-> 1073\u001b[1;33m     Ncount = tuple(\n\u001b[0m\u001b[0;32m   1074\u001b[0m         \u001b[1;31m# avoid np.digitize to work around gh-11022\u001b[0m\u001b[1;33m\u001b[0m\u001b[1;33m\u001b[0m\u001b[1;33m\u001b[0m\u001b[0m\n\u001b[0;32m   1075\u001b[0m         \u001b[0mnp\u001b[0m\u001b[1;33m.\u001b[0m\u001b[0msearchsorted\u001b[0m\u001b[1;33m(\u001b[0m\u001b[0medges\u001b[0m\u001b[1;33m[\u001b[0m\u001b[0mi\u001b[0m\u001b[1;33m]\u001b[0m\u001b[1;33m,\u001b[0m \u001b[0msample\u001b[0m\u001b[1;33m[\u001b[0m\u001b[1;33m:\u001b[0m\u001b[1;33m,\u001b[0m \u001b[0mi\u001b[0m\u001b[1;33m]\u001b[0m\u001b[1;33m,\u001b[0m \u001b[0mside\u001b[0m\u001b[1;33m=\u001b[0m\u001b[1;34m'right'\u001b[0m\u001b[1;33m)\u001b[0m\u001b[1;33m\u001b[0m\u001b[1;33m\u001b[0m\u001b[0m\n",
      "\u001b[1;32mC:\\ProgramData\\Anaconda3\\lib\\site-packages\\numpy\\lib\\histograms.py\u001b[0m in \u001b[0;36m<genexpr>\u001b[1;34m(.0)\u001b[0m\n\u001b[0;32m   1073\u001b[0m     Ncount = tuple(\n\u001b[0;32m   1074\u001b[0m         \u001b[1;31m# avoid np.digitize to work around gh-11022\u001b[0m\u001b[1;33m\u001b[0m\u001b[1;33m\u001b[0m\u001b[1;33m\u001b[0m\u001b[0m\n\u001b[1;32m-> 1075\u001b[1;33m         \u001b[0mnp\u001b[0m\u001b[1;33m.\u001b[0m\u001b[0msearchsorted\u001b[0m\u001b[1;33m(\u001b[0m\u001b[0medges\u001b[0m\u001b[1;33m[\u001b[0m\u001b[0mi\u001b[0m\u001b[1;33m]\u001b[0m\u001b[1;33m,\u001b[0m \u001b[0msample\u001b[0m\u001b[1;33m[\u001b[0m\u001b[1;33m:\u001b[0m\u001b[1;33m,\u001b[0m \u001b[0mi\u001b[0m\u001b[1;33m]\u001b[0m\u001b[1;33m,\u001b[0m \u001b[0mside\u001b[0m\u001b[1;33m=\u001b[0m\u001b[1;34m'right'\u001b[0m\u001b[1;33m)\u001b[0m\u001b[1;33m\u001b[0m\u001b[1;33m\u001b[0m\u001b[0m\n\u001b[0m\u001b[0;32m   1076\u001b[0m         \u001b[1;32mfor\u001b[0m \u001b[0mi\u001b[0m \u001b[1;32min\u001b[0m \u001b[0m_range\u001b[0m\u001b[1;33m(\u001b[0m\u001b[0mD\u001b[0m\u001b[1;33m)\u001b[0m\u001b[1;33m\u001b[0m\u001b[1;33m\u001b[0m\u001b[0m\n\u001b[0;32m   1077\u001b[0m     )\n",
      "\u001b[1;32m<__array_function__ internals>\u001b[0m in \u001b[0;36msearchsorted\u001b[1;34m(*args, **kwargs)\u001b[0m\n",
      "\u001b[1;32mC:\\ProgramData\\Anaconda3\\lib\\site-packages\\numpy\\core\\fromnumeric.py\u001b[0m in \u001b[0;36msearchsorted\u001b[1;34m(a, v, side, sorter)\u001b[0m\n\u001b[0;32m   1341\u001b[0m \u001b[1;33m\u001b[0m\u001b[0m\n\u001b[0;32m   1342\u001b[0m     \"\"\"\n\u001b[1;32m-> 1343\u001b[1;33m     \u001b[1;32mreturn\u001b[0m \u001b[0m_wrapfunc\u001b[0m\u001b[1;33m(\u001b[0m\u001b[0ma\u001b[0m\u001b[1;33m,\u001b[0m \u001b[1;34m'searchsorted'\u001b[0m\u001b[1;33m,\u001b[0m \u001b[0mv\u001b[0m\u001b[1;33m,\u001b[0m \u001b[0mside\u001b[0m\u001b[1;33m=\u001b[0m\u001b[0mside\u001b[0m\u001b[1;33m,\u001b[0m \u001b[0msorter\u001b[0m\u001b[1;33m=\u001b[0m\u001b[0msorter\u001b[0m\u001b[1;33m)\u001b[0m\u001b[1;33m\u001b[0m\u001b[1;33m\u001b[0m\u001b[0m\n\u001b[0m\u001b[0;32m   1344\u001b[0m \u001b[1;33m\u001b[0m\u001b[0m\n\u001b[0;32m   1345\u001b[0m \u001b[1;33m\u001b[0m\u001b[0m\n",
      "\u001b[1;32mC:\\ProgramData\\Anaconda3\\lib\\site-packages\\numpy\\core\\fromnumeric.py\u001b[0m in \u001b[0;36m_wrapfunc\u001b[1;34m(obj, method, *args, **kwds)\u001b[0m\n\u001b[0;32m     65\u001b[0m         \u001b[1;31m# Call _wrapit from within the except clause to ensure a potential\u001b[0m\u001b[1;33m\u001b[0m\u001b[1;33m\u001b[0m\u001b[1;33m\u001b[0m\u001b[0m\n\u001b[0;32m     66\u001b[0m         \u001b[1;31m# exception has a traceback chain.\u001b[0m\u001b[1;33m\u001b[0m\u001b[1;33m\u001b[0m\u001b[1;33m\u001b[0m\u001b[0m\n\u001b[1;32m---> 67\u001b[1;33m         \u001b[1;32mreturn\u001b[0m \u001b[0m_wrapit\u001b[0m\u001b[1;33m(\u001b[0m\u001b[0mobj\u001b[0m\u001b[1;33m,\u001b[0m \u001b[0mmethod\u001b[0m\u001b[1;33m,\u001b[0m \u001b[1;33m*\u001b[0m\u001b[0margs\u001b[0m\u001b[1;33m,\u001b[0m \u001b[1;33m**\u001b[0m\u001b[0mkwds\u001b[0m\u001b[1;33m)\u001b[0m\u001b[1;33m\u001b[0m\u001b[1;33m\u001b[0m\u001b[0m\n\u001b[0m\u001b[0;32m     68\u001b[0m \u001b[1;33m\u001b[0m\u001b[0m\n\u001b[0;32m     69\u001b[0m \u001b[1;33m\u001b[0m\u001b[0m\n",
      "\u001b[1;32mC:\\ProgramData\\Anaconda3\\lib\\site-packages\\numpy\\core\\fromnumeric.py\u001b[0m in \u001b[0;36m_wrapit\u001b[1;34m(obj, method, *args, **kwds)\u001b[0m\n\u001b[0;32m     42\u001b[0m     \u001b[1;32mexcept\u001b[0m \u001b[0mAttributeError\u001b[0m\u001b[1;33m:\u001b[0m\u001b[1;33m\u001b[0m\u001b[1;33m\u001b[0m\u001b[0m\n\u001b[0;32m     43\u001b[0m         \u001b[0mwrap\u001b[0m \u001b[1;33m=\u001b[0m \u001b[1;32mNone\u001b[0m\u001b[1;33m\u001b[0m\u001b[1;33m\u001b[0m\u001b[0m\n\u001b[1;32m---> 44\u001b[1;33m     \u001b[0mresult\u001b[0m \u001b[1;33m=\u001b[0m \u001b[0mgetattr\u001b[0m\u001b[1;33m(\u001b[0m\u001b[0masarray\u001b[0m\u001b[1;33m(\u001b[0m\u001b[0mobj\u001b[0m\u001b[1;33m)\u001b[0m\u001b[1;33m,\u001b[0m \u001b[0mmethod\u001b[0m\u001b[1;33m)\u001b[0m\u001b[1;33m(\u001b[0m\u001b[1;33m*\u001b[0m\u001b[0margs\u001b[0m\u001b[1;33m,\u001b[0m \u001b[1;33m**\u001b[0m\u001b[0mkwds\u001b[0m\u001b[1;33m)\u001b[0m\u001b[1;33m\u001b[0m\u001b[1;33m\u001b[0m\u001b[0m\n\u001b[0m\u001b[0;32m     45\u001b[0m     \u001b[1;32mif\u001b[0m \u001b[0mwrap\u001b[0m\u001b[1;33m:\u001b[0m\u001b[1;33m\u001b[0m\u001b[1;33m\u001b[0m\u001b[0m\n\u001b[0;32m     46\u001b[0m         \u001b[1;32mif\u001b[0m \u001b[1;32mnot\u001b[0m \u001b[0misinstance\u001b[0m\u001b[1;33m(\u001b[0m\u001b[0mresult\u001b[0m\u001b[1;33m,\u001b[0m \u001b[0mmu\u001b[0m\u001b[1;33m.\u001b[0m\u001b[0mndarray\u001b[0m\u001b[1;33m)\u001b[0m\u001b[1;33m:\u001b[0m\u001b[1;33m\u001b[0m\u001b[1;33m\u001b[0m\u001b[0m\n",
      "\u001b[1;31mTypeError\u001b[0m: Cannot cast array data from dtype('float64') to dtype('<U32') according to the rule 'safe'"
     ]
    },
    {
     "data": {
      "image/png": "[encoded data removed]",
      "text/plain": [
       "<Figure size 432x288 with 1 Axes>"
      ]
     },
     "metadata": {
      "needs_background": "light"
     },
     "output_type": "display_data"
    }
   ],
   "source": [
    "import matplotlib.pyplot as plt\n",
    "import numpy as np\n",
    "\n",
    "# Fixing random state for reproducibility\n",
    "np.random.seed(19680801)\n",
    "\n",
    "\n",
    "fig = plt.figure()\n",
    "ax = fig.add_subplot(projection='3d')\n",
    "x, y = train_dfs, test_dfs\n",
    "hist, xedges, yedges = np.histogram2d(x, y, bins=4, range=[[0, 4], [0, 4]])\n",
    "\n",
    "# Construct arrays for the anchor positions of the 16 bars.\n",
    "# xpos, ypos = np.meshgrid(xedges[:-1] + 0.25, yedges[:-1] + 0.25, indexing=\"ij\")\n",
    "# xpos = xpos.ravel()\n",
    "# ypos = ypos.ravel()\n",
    "# zpos = 0\n",
    "\n",
    "# Construct arrays with the dimensions for the 16 bars.\n",
    "dx = dy = 0.5 * np.ones_like(zpos)\n",
    "dz = hist.ravel()\n",
    "\n",
    "ax.bar3d(xpos, ypos, zpos, dx, dy, dz, zsort='average')\n",
    "\n",
    "plt.show()"
   ]
  },
  {
   "cell_type": "code",
   "execution_count": 48,
   "id": "ae775676",
   "metadata": {
    "ExecuteTime": {
     "end_time": "2021-09-15T17:53:12.371802Z",
     "start_time": "2021-09-15T17:53:12.355936Z"
    }
   },
   "outputs": [],
   "source": [
    "temp_df = Robot_2020_Simps.copy()\n",
    "#==============================================================================\n",
    "# Dropping rows with missing values\n",
    "#==============================================================================\n",
    "\n",
    "temp_df.dropna(subset=['GrainYield'], inplace=True)\n",
    "#==============================================================================\n",
    "# Split dataframe into data and target\n",
    "#==============================================================================\n",
    "X = temp_df[[x for x in temp_df.columns if x not in yield_cols+id_cols_new]]\n",
    "y = temp_df['GrainYield']\n",
    "\n",
    "#==============================================================================\n",
    "# Create separate train/test splits from Main data\n",
    "#==============================================================================\n",
    "X_train, X_test, y_train, y_test = train_test_split(X,\n",
    "                                                    y,\n",
    "                                                    test_size=0.3,\n",
    "                                                    random_state=55)\n",
    "\n",
    "#==============================================================================\n",
    "# Scale features using StandardScaler class in scikit-learn \n",
    "#==============================================================================\n",
    "\n",
    "# Initialise standard scaler and compute mean and STD from training data\n",
    "sc = StandardScaler()\n",
    "sc.fit(X_train)\n",
    "\n",
    "# Transform (standardise) both X_train and X_test with mean and STD from\n",
    "# training data\n",
    "X_train_std = sc.transform(X_train)\n",
    "X_test_std = sc.transform(X_test)"
   ]
  },
  {
   "cell_type": "code",
   "execution_count": 16,
   "id": "96653f5d",
   "metadata": {},
   "outputs": [
    {
     "name": "stdout",
     "output_type": "stream",
     "text": [
      "Wall time: 0 ns\n",
      "4622.957956091049  mean_squared_error\n",
      "67.99233748071211  root_mean_squared_error\n",
      "0.5318637828980128  r2_score\n",
      "{   'MSE': 4622.957956091049,\n",
      "    'RMSE': 67.99233748071211,\n",
      "    'R2 Score': 0.5318637828980128}\n"
     ]
    },
    {
     "data": {
      "image/png": "[encoded data removed]",
      "text/plain": [
       "<Figure size 432x288 with 1 Axes>"
      ]
     },
     "metadata": {
      "needs_background": "light"
     },
     "output_type": "display_data"
    },
    {
     "name": "stdout",
     "output_type": "stream",
     "text": [
      "11130.99549980016  mean_squared_error\n",
      "105.50353311524766  root_mean_squared_error\n",
      "-0.12716191134511434  r2_score\n",
      "{   'MSE': 11130.99549980016,\n",
      "    'RMSE': 105.50353311524766,\n",
      "    'R2 Score': -0.12716191134511434}\n"
     ]
    },
    {
     "data": {
      "image/png": "[encoded data removed]",
      "text/plain": [
       "<Figure size 432x288 with 1 Axes>"
      ]
     },
     "metadata": {
      "needs_background": "light"
     },
     "output_type": "display_data"
    }
   ],
   "source": [
    "%time\n",
    "\n",
    "cv = 10\n",
    "core=6\n",
    "verbos=5\n",
    "scores = ['neg_mean_absolute_error', 'neg_mean_squared_error', 'r2']\n",
    "\n",
    "time_taken = []\n",
    "t_start=time.time()\n",
    "\n",
    "#==============================================================================\n",
    "# Create separate train/test splits\n",
    "#==============================================================================\n",
    "X_train, X_test, y_train, y_test = train_test_split(X,\n",
    "                                                    y,\n",
    "                                                    test_size=0.3,\n",
    "                                                    random_state=5)\n",
    "# X_train.reset_index(drop=True, inplace=True)\n",
    "# X_test.reset_index(drop=True, inplace=True)\n",
    "#==============================================================================\n",
    "# Training best performing models\n",
    "#==============================================================================\n",
    "#==============================================================================\n",
    "# Finding out feature importance\n",
    "#==============================================================================\n",
    "\n",
    "model = RandomForestRegressor(n_estimators = 1000, max_depth=250, min_samples_split=5, random_state=0, n_jobs = -1)\n",
    "model.fit(X_train, y_train)\n",
    "# Finding feature importance\n",
    "features = X.columns\n",
    "importances = model.feature_importances_\n",
    "indices = np.argsort(importances)\n",
    "# Running predictions\n",
    "test_data_regression(model, X, X_test, y_test)\n",
    "# Plotting feature importance\n",
    "plt.title('Feature Importances')\n",
    "plt.barh(range(len(indices)), importances[indices], color='b', align='center')\n",
    "plt.yticks(range(len(indices)), [features[i] for i in indices])\n",
    "plt.xlabel('Relative Importance')\n",
    "plt.show()\n",
    "\n",
    "\n",
    "\n",
    "model = RandomForestRegressor(n_estimators = 50, max_depth=100, min_samples_split=400, random_state=0, n_jobs = -1)\n",
    "model.fit(X_train, y_train)\n",
    "# Finding feature importance\n",
    "features = X.columns\n",
    "importances = model.feature_importances_\n",
    "indices = np.argsort(importances)\n",
    "# Running predictions\n",
    "test_data_regression(model, X, X_test, y_test)\n",
    "# Plotting feature importance\n",
    "plt.title('Feature Importances')\n",
    "plt.barh(range(len(indices)), importances[indices], color='b', align='center')\n",
    "plt.yticks(range(len(indices)), [features[i] for i in indices])\n",
    "plt.xlabel('Relative Importance')\n",
    "plt.show()"
   ]
  },
  {
   "cell_type": "markdown",
   "id": "482a3922",
   "metadata": {},
   "source": [
    "## Several Models: To clean"
   ]
  },
  {
   "cell_type": "code",
   "execution_count": 26,
   "id": "7dab8b1d",
   "metadata": {
    "scrolled": true
   },
   "outputs": [
    {
     "name": "stdout",
     "output_type": "stream",
     "text": [
      "Wall time: 0 ns\n"
     ]
    },
    {
     "ename": "NameError",
     "evalue": "name 'comments' is not defined",
     "output_type": "error",
     "traceback": [
      "\u001b[1;31m---------------------------------------------------------------------------\u001b[0m",
      "\u001b[1;31mNameError\u001b[0m                                 Traceback (most recent call last)",
      "\u001b[1;32m<ipython-input-26-106bdc26a588>\u001b[0m in \u001b[0;36m<module>\u001b[1;34m\u001b[0m\n\u001b[0;32m      8\u001b[0m \u001b[1;32mfrom\u001b[0m \u001b[0msklearn\u001b[0m\u001b[1;33m.\u001b[0m\u001b[0mmodel_selection\u001b[0m \u001b[1;32mimport\u001b[0m \u001b[0mtrain_test_split\u001b[0m\u001b[1;33m\u001b[0m\u001b[1;33m\u001b[0m\u001b[0m\n\u001b[0;32m      9\u001b[0m \u001b[1;33m\u001b[0m\u001b[0m\n\u001b[1;32m---> 10\u001b[1;33m \u001b[0mcomments\u001b[0m\u001b[1;33m.\u001b[0m\u001b[0mappend\u001b[0m\u001b[1;33m(\u001b[0m\u001b[1;34m'Converted dates to ordinal.'\u001b[0m\u001b[1;33m)\u001b[0m\u001b[1;33m\u001b[0m\u001b[1;33m\u001b[0m\u001b[0m\n\u001b[0m\u001b[0;32m     11\u001b[0m \u001b[0mcomments\u001b[0m\u001b[1;33m.\u001b[0m\u001b[0mappend\u001b[0m\u001b[1;33m(\u001b[0m\u001b[1;34m'Plot ID Dropped.'\u001b[0m\u001b[1;33m)\u001b[0m\u001b[1;33m\u001b[0m\u001b[1;33m\u001b[0m\u001b[0m\n\u001b[0;32m     12\u001b[0m \u001b[1;33m\u001b[0m\u001b[0m\n",
      "\u001b[1;31mNameError\u001b[0m: name 'comments' is not defined"
     ]
    }
   ],
   "source": [
    "#==============================================================================\n",
    "# Ridge\n",
    "#==============================================================================\n",
    "from sklearn.linear_model import Ridge\n",
    "model = Ridge()\n",
    "sc = StandardScaler()\n",
    "pipe = Pipeline(steps=[('sc', sc), ('model', model)])\n",
    "param_grid   =  [{'model__alpha' : [x*1. for x in range(1,10)],\n",
    "                  'model__solver' : ['auto', 'svd', 'cholesky', 'lsqr', 'sparse_cg', 'sag', 'saga']}]\n",
    "estimator = pipe\n",
    "\n",
    "for score in scores:\n",
    "    grid(Xtrain = X,\n",
    "                ytrain = y,\n",
    "                estimator = pipe,\n",
    "                params_grid = param_grid,\n",
    "                scores=score,\n",
    "                cvs = cv,\n",
    "                cores=core,\n",
    "                verb=verbos)\n",
    "    print(score)\n",
    "#==============================================================================\n",
    "# Lasso\n",
    "#==============================================================================\n",
    "from sklearn.linear_model import Lasso\n",
    "model = Lasso()\n",
    "sc = StandardScaler()\n",
    "pipe = Pipeline(steps=[('sc', sc), ('model', model)])\n",
    "param_grid   =  [{'model__alpha' : [x*0.1 for x in range(1,10)],\n",
    "                  'model__max_iter' : [x for x in range(50, 10000, 50)],\n",
    "                  'model__selection' : ['cyclic','random']}]\n",
    "estimator = pipe\n",
    "\n",
    "for score in scores:\n",
    "    grid(Xtrain = X,\n",
    "                ytrain = y,\n",
    "                estimator = pipe,\n",
    "                params_grid = param_grid,\n",
    "                scores=score,\n",
    "                cvs = cv,\n",
    "                cores=core,\n",
    "                verb=verbos)\n",
    "    print(score)\n",
    "#==============================================================================\n",
    "# ElasticNet\n",
    "#==============================================================================\n",
    "from sklearn.linear_model import ElasticNet\n",
    "model = ElasticNet()\n",
    "sc = StandardScaler()\n",
    "pipe = Pipeline(steps=[('sc', sc), ('model', model)])\n",
    "param_grid   =  [{'model__alpha' : [x*0.1 for x in range(1,10)],\n",
    "                  'model__max_iter' : [x for x in range(50, 10000, 50)],\n",
    "                  'model__l1_ratio' : [x*0.1 for x in range(1,10)]}]\n",
    "estimator = pipe\n",
    "\n",
    "for score in scores:\n",
    "    grid(Xtrain = X,\n",
    "                ytrain = y,\n",
    "                estimator = pipe,\n",
    "                params_grid = param_grid,\n",
    "                scores=score,\n",
    "                cvs = cv,\n",
    "                cores=core,\n",
    "                verb=verbos)\n",
    "    print(score)\n",
    "#==============================================================================\n",
    "# OrthogonalMatchingPursuit\n",
    "#==============================================================================\n",
    "from sklearn.linear_model import OrthogonalMatchingPursuit\n",
    "model = OrthogonalMatchingPursuit()\n",
    "sc = StandardScaler()\n",
    "pipe = Pipeline(steps=[('sc', sc), ('model', model)])\n",
    "param_grid   =  [{'model__fit_intercept' : [True, False],\n",
    "                  'model__n_nonzero_coefs' : [x for x in range(1,10)]}]\n",
    "estimator = pipe\n",
    "\n",
    "for score in scores:\n",
    "    grid(Xtrain = X,\n",
    "                ytrain = y,\n",
    "                estimator = pipe,\n",
    "                params_grid = param_grid,\n",
    "                scores=score,\n",
    "                cvs = cv,\n",
    "                cores=core,\n",
    "                verb=verbos)\n",
    "    print(score)\n",
    "#==============================================================================\n",
    "# BayesianRidge\n",
    "#==============================================================================\n",
    "from sklearn.linear_model import BayesianRidge\n",
    "model = BayesianRidge()\n",
    "sc = StandardScaler()\n",
    "pipe = Pipeline(steps=[('sc', sc), ('model', model)])\n",
    "param_grid   =  [{'model__n_iter' : [x for x in range(5, 150, 10)],\n",
    "                  'model__alpha_1' : [1.0],\n",
    "                  'model__alpha_2' : [x*0.000001 for x in [1,10,100,1000,10000,100000,1000000]],\n",
    "                  'model__lambda_1' : [x*0.000001 for x in [1,10,100,1000,10000,100000,1000000]],\n",
    "                  'model__lambda_2' : [1.0]}]\n",
    "estimator = pipe\n",
    "\n",
    "for score in scores:\n",
    "    grid(Xtrain = X,\n",
    "                ytrain = y,\n",
    "                estimator = pipe,\n",
    "                params_grid = param_grid,\n",
    "                scores=score,\n",
    "                cvs = cv,\n",
    "                cores=core,\n",
    "                verb=verbos)\n",
    "    print(score)\n",
    "#==============================================================================\n",
    "# ARDRegression\n",
    "#==============================================================================\n",
    "from sklearn.linear_model import ARDRegression\n",
    "model = ARDRegression()\n",
    "sc = StandardScaler()\n",
    "pipe = Pipeline(steps=[('sc', sc), ('model', model)])\n",
    "param_grid   =  [{'model__n_iter' : [x for x in range(5, 150, 10)],\n",
    "                  'model__alpha_1' : [1.0],\n",
    "#                       'model__alpha_2' : [x*0.000001 for x in [1,10,100,1000,10000,100000,1000000]],\n",
    "                  'model__lambda_1' : [0.01],\n",
    "                  'model__lambda_2' : [x*0.000001 for x in [1,10,100,1000,10000,100000,1000000]],\n",
    "                  'model__verbose' : [True]}]\n",
    "estimator = pipe\n",
    "\n",
    "for score in scores:\n",
    "    grid(Xtrain = X,\n",
    "                ytrain = y,\n",
    "                estimator = pipe,\n",
    "                params_grid = param_grid,\n",
    "                scores=score,\n",
    "                cvs = cv,\n",
    "                cores=core,\n",
    "                verb=verbos)\n",
    "    print(score)\n",
    "#==============================================================================\n",
    "# RANSACRegressor\n",
    "#==============================================================================\n",
    "from sklearn.linear_model import RANSACRegressor\n",
    "model = RANSACRegressor()\n",
    "sc = StandardScaler()\n",
    "pipe = Pipeline(steps=[('sc', sc), ('model', model)])\n",
    "param_grid   =  [{'model__min_samples' : [x/.1 for x in range(1, 10)],\n",
    "                  'model__max_trials' : [x for x in range(1, 500,50)],\n",
    "                  'model__loss' : ['absolute_loss', 'squared_loss']}]\n",
    "estimator = pipe\n",
    "\n",
    "for score in scores:\n",
    "    grid(Xtrain = X,\n",
    "                ytrain = y,\n",
    "                estimator = pipe,\n",
    "                params_grid = param_grid,\n",
    "                scores=score,\n",
    "                cvs = cv,\n",
    "                cores=core,\n",
    "                verb=verbos)\n",
    "    print(score)\n",
    "#==============================================================================\n",
    "# TheilSenRegressor\n",
    "#==============================================================================\n",
    "# from sklearn.linear_model import TheilSenRegressor\n",
    "# model = TheilSenRegressor()\n",
    "# sc = StandardScaler()\n",
    "# pipe = Pipeline(steps=[('sc', sc), ('model', model)])\n",
    "# param_grid   =  [{'model__max_subpopulation' : [x*0.000001 for x in [1,10,100,1000,10000,100000,1000000]],\n",
    "#                   'model__n_subsamples' : [x for x in range(9, 1300,50)],\n",
    "#                   'model__max_iter' :  [x for x in range(50, 1000, 50)]}]\n",
    "# estimator = pipe\n",
    "\n",
    "# for score in scores:\n",
    "#     grid(Xtrain = X,\n",
    "#                 ytrain = y,\n",
    "#                 estimator = pipe,\n",
    "#                 params_grid = param_grid,\n",
    "#                 scores=score,\n",
    "#                 cvs = cv,\n",
    "#                 cores=core,\n",
    "#                 verb=verbos)\n",
    "#     print(score)\n",
    "#==============================================================================\n",
    "# HuberRegressor\n",
    "#==============================================================================\n",
    "from sklearn.linear_model import HuberRegressor\n",
    "model = HuberRegressor()\n",
    "sc = StandardScaler()\n",
    "pipe = Pipeline(steps=[('sc', sc), ('model', model)])\n",
    "param_grid   =  [{'model__epsilon' : [x/.01 for x in range(100, 200, 5)],\n",
    "                  'model__alpha' : [x*0.000001 for x in [1,10,100,1000,10000,100000,1000000]]}]\n",
    "estimator = pipe\n",
    "\n",
    "for score in scores:\n",
    "    grid(Xtrain = X,\n",
    "                ytrain = y,\n",
    "                estimator = pipe,\n",
    "                params_grid = param_grid,\n",
    "                scores=score,\n",
    "                cvs = cv,\n",
    "                cores=core,\n",
    "                verb=verbos)\n",
    "    print(score)\n",
    "#==============================================================================\n",
    "# DecisionTreeRegressor\n",
    "#==============================================================================\n",
    "from sklearn.tree import DecisionTreeRegressor\n",
    "model = DecisionTreeRegressor()\n",
    "sc = StandardScaler()\n",
    "pipe = Pipeline(steps=[('sc', sc), ('model', model)])\n",
    "param_grid   =  [{'model__max_depth' : [None]+[x for x in range(1, 100,5)],\n",
    "                  'model__min_samples_leaf' : [x for x in range(1, 50,5)],\n",
    "                  'model__min_samples_split' : [2]+[x for x in range(1, 50,5)],\n",
    "                  'model__max_features' : [x for x in range(1, 10)]}]\n",
    "estimator = pipe\n",
    "\n",
    "for score in scores:\n",
    "    grid(Xtrain = X,\n",
    "                ytrain = y,\n",
    "                estimator = pipe,\n",
    "                params_grid = param_grid,\n",
    "                scores=score,\n",
    "                cvs = cv,\n",
    "                cores=core,\n",
    "                verb=verbos)\n",
    "    print(score)\n",
    "#==============================================================================\n",
    "# GaussianProcessRegressor\n",
    "#==============================================================================\n",
    "from sklearn.gaussian_process import GaussianProcessRegressor\n",
    "model = GaussianProcessRegressor()\n",
    "sc = StandardScaler()\n",
    "pipe = Pipeline(steps=[('sc', sc), ('model', model)])\n",
    "param_grid   =  [{'model__kernel' : [None]+['rbf', 'sigmoid',  'linear', 'poly'],\n",
    "                  'model__alpha' : [x*0.0000000001 for x in [1,10,100,1000,10000,100000,1000000]]}]\n",
    "estimator = pipe\n",
    "\n",
    "for score in scores:\n",
    "    grid(Xtrain = X,\n",
    "                ytrain = y,\n",
    "                estimator = pipe,\n",
    "                params_grid = param_grid,\n",
    "                scores=score,\n",
    "                cvs = cv,\n",
    "                cores=core,\n",
    "                verb=verbos)\n",
    "    print(score)\n",
    "#==============================================================================\n",
    "# KNeighborsRegressor\n",
    "#==============================================================================\n",
    "from sklearn.neighbors import KNeighborsRegressor\n",
    "model = KNeighborsRegressor()\n",
    "sc = StandardScaler()\n",
    "pipe = Pipeline(steps=[('sc', sc), ('model', model)])\n",
    "param_grid   =  [{'model__n_neighbors' : [x for x in range(1, 100,5)],\n",
    "                  'model__weights' : ['uniform', 'distance'],\n",
    "                  'model__algorithm' : ['auto', 'ball_tree', 'kd_tree', 'brute'],\n",
    "                  'model__leaf_size' : [x for x in range(10, 50, 5)]}]\n",
    "estimator = pipe\n",
    "\n",
    "for score in scores:\n",
    "    grid(Xtrain = X,\n",
    "                ytrain = y,\n",
    "                estimator = pipe,\n",
    "                params_grid = param_grid,\n",
    "                scores=score,\n",
    "                cvs = cv,\n",
    "                cores=core,\n",
    "                verb=verbos)\n",
    "    print(score)\n",
    "# #==============================================================================\n",
    "# # RadiusNeighborsRegressor\n",
    "# #==============================================================================\n",
    "# from sklearn.neighbors import RadiusNeighborsRegressor\n",
    "# model = RadiusNeighborsRegressor()\n",
    "# sc = StandardScaler()\n",
    "# pipe = Pipeline(steps=[('sc', sc), ('model', model)])\n",
    "# param_grid   =  [{'model__radius' : [x*1. for x in range(1, 10)],\n",
    "#                   'model__weights' : ['uniform', 'distance'],\n",
    "#                   'model__algorithm' : ['auto', 'ball_tree', 'kd_tree', 'brute'],\n",
    "#                   'model__p' : [x for x in range(1, 10)]}]\n",
    "# estimator = pipe\n",
    "\n",
    "# for score in scores:\n",
    "#     grid(Xtrain = X,\n",
    "#                 ytrain = y,\n",
    "#                 estimator = pipe,\n",
    "#                 params_grid = param_grid,\n",
    "#                 scores=score,\n",
    "#                 cvs = cv,\n",
    "#                 cores=core,\n",
    "#                 verb=verbos)\n",
    "#     print(score)\n",
    "# #==============================================================================\n",
    "# # RandomForestRegressor\n",
    "# #==============================================================================\n",
    "# from sklearn.ensemble import RandomForestRegressor\n",
    "# model = RandomForestRegressor()\n",
    "# sc = StandardScaler()\n",
    "# pipe = Pipeline(steps=[('sc', sc), ('model', model)])\n",
    "# param_grid   =  [{'model__radius' : [x*1. for x in range(1, 10)],\n",
    "#                   'model__weights' : ['uniform', 'distance'],\n",
    "#                   'model__algorithm' : ['auto', 'ball_tree', 'kd_tree', 'brute'],\n",
    "#                   'model__p' : [x for x in range(1, 10)]}]\n",
    "# estimator = pipe\n",
    "\n",
    "# for score in scores:\n",
    "#     grid(Xtrain = X,\n",
    "#                 ytrain = y,\n",
    "#                 estimator = pipe,\n",
    "#                 params_grid = param_grid,\n",
    "#                 scores=score,\n",
    "#                 cvs = cv,\n",
    "#                 cores=core,\n",
    "#                 verb=verbos)\n",
    "#     print(score)\n",
    "# #==============================================================================\n",
    "# # SVR\n",
    "# #==============================================================================\n",
    "# from sklearn.svm import SVR\n",
    "# model = SVR()\n",
    "# sc = StandardScaler()\n",
    "# pipe = Pipeline(steps=[('sc', sc), ('model', model)])\n",
    "# param_grid   =  [{'model__radius' : [x*1. for x in range(1, 10)],\n",
    "#                   'model__weights' : ['uniform', 'distance'],\n",
    "#                   'model__algorithm' : ['auto', 'ball_tree', 'kd_tree', 'brute'],\n",
    "#                   'model__p' : [x for x in range(1, 10)]}]\n",
    "# estimator = pipe\n",
    "\n",
    "# for score in scores:\n",
    "#     grid(Xtrain = X,\n",
    "#                 ytrain = y,\n",
    "#                 estimator = pipe,\n",
    "#                 params_grid = param_grid,\n",
    "#                 scores=score,\n",
    "#                 cvs = cv,\n",
    "#                 cores=core,\n",
    "#                 verb=verbos)\n",
    "#     print(score)\n",
    "\n",
    "t_end = time.time()\n",
    "tt = t_end - t_start\n",
    "time_taken.append(tt)\n",
    "print('Total time complete: ', (tt) / 60, 'minutes')"
   ]
  },
  {
   "cell_type": "markdown",
   "id": "2872fe8f",
   "metadata": {},
   "source": [
    "## Gradient Boosting Regressor Grid Search Params"
   ]
  },
  {
   "cell_type": "code",
   "execution_count": null,
   "id": "31990e83",
   "metadata": {},
   "outputs": [],
   "source": [
    "%time\n",
    "\n",
    "import time, datetime\n",
    "from datetime import datetime as dt\n",
    "from sklearn.model_selection import GridSearchCV\n",
    "from sklearn.preprocessing import StandardScaler\n",
    "\n",
    "comments.append('Converted dates to ordinal.')\n",
    "comments.append('Plot ID Dropped.')\n",
    "\n",
    "comments.append('Test train split. test_Size=0.3, random_state=55')\n",
    "cv = 10\n",
    "core=6\n",
    "verbos=5\n",
    "scores = ['neg_mean_absolute_error', 'neg_mean_squared_error', 'r2']\n",
    "\n",
    "\n",
    "#==============================================================================\n",
    "# GradientBoostingRegressor\n",
    "#==============================================================================\n",
    "from sklearn.ensemble import GradientBoostingRegressor\n",
    "model = GradientBoostingRegressor()\n",
    "sc = StandardScaler()\n",
    "pipe = Pipeline(steps=[('sc', sc), ('model', model)])\n",
    "# param_grid   =  [{'model__loss' : ['ls', 'lad', 'huber', 'quantile'],\n",
    "# #                   'model__learning_rate' : [0.001, 0.01, 0.1, 1],\n",
    "# #                   'model__n_estimators' : range(0,500, 100),\n",
    "                  \n",
    "# #                   'model__max_depth':range(5,16,2), \n",
    "# #                   'model__min_samples_split':range(200,1100, 200), # 2100\n",
    "# #                   'model__min_samples_leaf':range(30,71,10),\n",
    "#                   'model__max_features':range(7,20,2),\n",
    "#                   'model__subsample':[0.6,0.7,0.75,0.8,0.85,0.9]}]\n",
    "\n",
    "param_grid   =  [{'model__loss' : ['huber'],\n",
    "#                   'model__learning_rate' : [0.001, 0.01, 0.1, 1],\n",
    "#                   'model__n_estimators' : range(0,500, 100),\n",
    "                  \n",
    "                  'model__max_depth':range(5,16,2), \n",
    "#                   'model__min_samples_split':range(2,5), # 2100\n",
    "#                   'model__min_samples_leaf':range(1,2),\n",
    "#                   'model__max_features':range(5,6),\n",
    "                  'model__subsample':[0.7,0.8]}]\n",
    "# pipe.get_params()\n",
    "estimator = pipe\n",
    "\n",
    "for score in scores:\n",
    "    grid(Xtrain = X.values,\n",
    "                ytrain = y.values,\n",
    "                estimator = pipe,\n",
    "                params_grid = param_grid,\n",
    "                scores=score,\n",
    "                cvs = cv,\n",
    "                cores=core,\n",
    "                verb=verbos)\n",
    "    print(score)"
   ]
  },
  {
   "cell_type": "markdown",
   "id": "1b672094",
   "metadata": {},
   "source": [
    "## Random Forest Grid Search Params"
   ]
  },
  {
   "cell_type": "code",
   "execution_count": null,
   "id": "e79df149",
   "metadata": {},
   "outputs": [],
   "source": [
    "%time\n",
    "\n",
    "import time, datetime\n",
    "from datetime import datetime as dt\n",
    "from sklearn.model_selection import GridSearchCV\n",
    "from sklearn.preprocessing import StandardScaler\n",
    "\n",
    "comments.append('Converted dates to ordinal.')\n",
    "comments.append('Plot ID Dropped.')\n",
    "comments.append('Test train split. test_Size=0.3, random_state=55')\n",
    "cv = 5\n",
    "core=6\n",
    "verbos=5\n",
    "scores = ['neg_mean_absolute_error', 'neg_mean_squared_error', 'r2']\n",
    "\n",
    "#==============================================================================\n",
    "# RandomForestRegressor\n",
    "#==============================================================================\n",
    "from sklearn.ensemble import RandomForestRegressor\n",
    "model = RandomForestRegressor()\n",
    "sc = StandardScaler()\n",
    "pipe = Pipeline(steps=[('sc', sc), ('model', model)])\n",
    "\n",
    "# Number of trees in random forest\n",
    "n_estimators = [int(x) for x in np.linspace(start = 200, stop = 2000, num = 10)]\n",
    "# Number of features to consider at every split\n",
    "max_features = ['auto', 'sqrt']\n",
    "# Maximum number of levels in tree\n",
    "max_depth = [int(x) for x in np.linspace(10, 110, num = 11)]\n",
    "max_depth.append(None)\n",
    "# Minimum number of samples required to split a node\n",
    "min_samples_split = [2, 5, 10]\n",
    "# Minimum number of samples required at each leaf node\n",
    "min_samples_leaf = [1, 2, 4]\n",
    "# Method of selecting samples for training each tree\n",
    "bootstrap = [True, False]\n",
    "# Create the random grid\n",
    "param_grid = {\n",
    "    'model__n_estimators': n_estimators,\n",
    "               'model__max_features': max_features,\n",
    "               'model__max_depth': max_depth,\n",
    "               'model__min_samples_split': min_samples_split,\n",
    "               'model__min_samples_leaf': min_samples_leaf,\n",
    "               'model__bootstrap': bootstrap}\n",
    "\n",
    "\n",
    "estimator = pipe\n",
    "\n",
    "for score in scores:\n",
    "    grid(Xtrain = X,\n",
    "                ytrain = y,\n",
    "                estimator = pipe,\n",
    "                params_grid = param_grid,\n",
    "                scores=score,\n",
    "                cvs = cv,\n",
    "                cores=core,\n",
    "                verb=verbos)\n",
    "    print(score)"
   ]
  },
  {
   "cell_type": "markdown",
   "id": "c07a5ce0",
   "metadata": {},
   "source": [
    "## Permutation importance"
   ]
  },
  {
   "cell_type": "code",
   "execution_count": null,
   "id": "9b5ac980",
   "metadata": {},
   "outputs": [],
   "source": [
    "\n",
    "\n",
    "# PERMUTATION\n",
    "\n",
    "from sklearn.inspection import permutation_importance\n",
    "\n",
    "\n",
    "result = permutation_importance(gs_xgb_fitted, X_test, y_test, n_repeats=100, random_state=0)\n",
    "\n",
    "# ==================================\n",
    "# Feature selection\n",
    "# ===================================\n",
    "\n",
    "from sklearn.feature_selection import SelectKBest\n",
    "from sklearn.feature_selection import f_regression\n",
    "\n",
    "# define feature selection\n",
    "fs = SelectKBest(score_func=f_regression, k=10)\n",
    "# apply feature selection\n",
    "X_selected = fs.fit_transform(X, y)\n",
    "print(X_selected.shape)\n",
    "\n",
    "# Plot importances\n",
    "fig, ax = plt.subplots(figsize=(25, 25))\n",
    "ind = indices = np.argsort(result.importances_mean)[::-1]\n",
    "plt.barh(X_test.columns, result.importances_mean[ind])\n",
    "plt.show()\n"
   ]
  },
  {
   "cell_type": "code",
   "execution_count": null,
   "id": "bea56464",
   "metadata": {},
   "outputs": [],
   "source": [
    "from sklearn.metrics import make_scorer, accuracy_score, precision_score, recall_score, f1_score\n",
    "scoring = {'accuracy': make_scorer(accuracy_score),\n",
    "           'precision': make_scorer(precision_score, average = 'macro'),\n",
    "           'recall': make_scorer(recall_score, average = 'macro'),\n",
    "           'f1': make_scorer(f1_score, average = 'macro')}\n",
    "grid_search_rfc = GridSearchCV(rfc, param_grid = grid_values, scoring = scoring, refit='f1')\n",
    "grid_search_rfc.fit(x_train, y_train)\n",
    "\n",
    "grid_search_rfc.best_params_\n",
    "grid_search_rfc.cv_results_\n",
    "\n",
    "# cv_results[‘mean_test_<metric_name>’]\n",
    "grid_search_rfc.cv_results_['mean_test_recall']\n"
   ]
  },
  {
   "cell_type": "code",
   "execution_count": null,
   "id": "502b0921",
   "metadata": {
    "run_control": {
     "marked": true
    }
   },
   "outputs": [],
   "source": []
  },
  {
   "cell_type": "code",
   "execution_count": null,
   "id": "804fab3a",
   "metadata": {},
   "outputs": [],
   "source": []
  },
  {
   "cell_type": "code",
   "execution_count": null,
   "id": "a5db9798",
   "metadata": {},
   "outputs": [],
   "source": []
  },
  {
   "cell_type": "code",
   "execution_count": null,
   "id": "4f8c3bd0",
   "metadata": {},
   "outputs": [],
   "source": []
  },
  {
   "cell_type": "code",
   "execution_count": null,
   "id": "e86496b6",
   "metadata": {},
   "outputs": [],
   "source": []
  },
  {
   "cell_type": "code",
   "execution_count": null,
   "id": "c4ec91f0",
   "metadata": {},
   "outputs": [],
   "source": []
  },
  {
   "cell_type": "code",
   "execution_count": null,
   "id": "548ef3f0",
   "metadata": {},
   "outputs": [],
   "source": []
  },
  {
   "cell_type": "code",
   "execution_count": null,
   "id": "330d5272",
   "metadata": {},
   "outputs": [],
   "source": []
  },
  {
   "cell_type": "code",
   "execution_count": null,
   "id": "73ebd473",
   "metadata": {},
   "outputs": [],
   "source": []
  },
  {
   "cell_type": "code",
   "execution_count": null,
   "id": "8f70af56",
   "metadata": {},
   "outputs": [],
   "source": []
  },
  {
   "cell_type": "code",
   "execution_count": null,
   "id": "0b4f6628",
   "metadata": {},
   "outputs": [],
   "source": []
  },
  {
   "cell_type": "markdown",
   "id": "206b1d64",
   "metadata": {},
   "source": [
    "## List of models"
   ]
  },
  {
   "cell_type": "code",
   "execution_count": 14,
   "id": "aae7c591",
   "metadata": {},
   "outputs": [],
   "source": [
    "models = [GradientBoostingRegressor(subsample=0.8,learning_rate=0.4, random_state=500),\n",
    "#          CatBoostRegressor(depth=8),\n",
    "         RandomForestRegressor(max_depth=250, min_samples_split=14,min_samples_leaf =3, random_state=1, n_jobs = -1),\n",
    "         Lasso(alpha= 4.5),\n",
    "        ]\n",
    "         \n"
   ]
  },
  {
   "cell_type": "code",
   "execution_count": 17,
   "id": "573c5dac",
   "metadata": {
    "scrolled": true
   },
   "outputs": [
    {
     "name": "stderr",
     "output_type": "stream",
     "text": [
      "100%|████████████████████████████████████████████████████████████████████████████████████| 1/1 [00:02<00:00,  2.78s/it]\n",
      "  0%|                                                                                            | 0/1 [00:00<?, ?it/s]"
     ]
    },
    {
     "name": "stdout",
     "output_type": "stream",
     "text": [
      "Graminor_2019_Simps Lasso(alpha=4.5)\n",
      "{'R2': 0.2766057687373555, 'MAE': 32.66034367712789, 'RMSE': 42.005856416111}\n"
     ]
    },
    {
     "name": "stderr",
     "output_type": "stream",
     "text": [
      "100%|████████████████████████████████████████████████████████████████████████████████████| 1/1 [00:02<00:00,  2.53s/it]\n",
      "  0%|                                                                                            | 0/1 [00:00<?, ?it/s]"
     ]
    },
    {
     "name": "stdout",
     "output_type": "stream",
     "text": [
      "Masbasis_2019_Simps Lasso(alpha=4.5)\n",
      "{'R2': 0.6297025357618344, 'MAE': 37.262246565594445, 'RMSE': 51.11134236295846}\n"
     ]
    },
    {
     "name": "stderr",
     "output_type": "stream",
     "text": [
      "100%|████████████████████████████████████████████████████████████████████████████████████| 1/1 [00:02<00:00,  2.57s/it]\n",
      "  0%|                                                                                            | 0/1 [00:00<?, ?it/s]"
     ]
    },
    {
     "name": "stdout",
     "output_type": "stream",
     "text": [
      "Masbasis_2020_Simps Lasso(alpha=4.5)\n",
      "{'R2': 0.3878735086099309, 'MAE': 60.945731868063774, 'RMSE': 80.61812947784689}\n"
     ]
    },
    {
     "name": "stderr",
     "output_type": "stream",
     "text": [
      "100%|████████████████████████████████████████████████████████████████████████████████████| 1/1 [00:02<00:00,  2.16s/it]"
     ]
    },
    {
     "name": "stdout",
     "output_type": "stream",
     "text": [
      "Robot_2020_Simps Lasso(alpha=4.5)\n",
      "{'R2': 0.603406107404101, 'MAE': 47.1277450620497, 'RMSE': 59.06752734372742}\n"
     ]
    },
    {
     "name": "stderr",
     "output_type": "stream",
     "text": [
      "\n"
     ]
    }
   ],
   "source": [
    "for df in all_df:\n",
    "    \n",
    "    \n",
    "    temp_df = locals()[df].copy()\n",
    "    #==============================================================================\n",
    "    # Dropping rows with missing values\n",
    "    #==============================================================================\n",
    "\n",
    "    temp_df.dropna(subset=['GrainYield'], inplace=True)\n",
    "    #==============================================================================\n",
    "    # Split dataframe into data and target\n",
    "    #==============================================================================\n",
    "    X = temp_df[[x for x in temp_df.columns if x not in yield_cols+id_cols_new]]\n",
    "    y = temp_df['GrainYield']\n",
    "    \n",
    "    #==============================================================================\n",
    "    # Create separate train/test splits from Main data\n",
    "    #==============================================================================\n",
    "    X_train, X_test, y_train, y_test = train_test_split(X,\n",
    "                                                        y,\n",
    "                                                        test_size=0.3,\n",
    "                                                        random_state=55)\n",
    "    \n",
    "    #==============================================================================\n",
    "    # Scale features using StandardScaler class in scikit-learn \n",
    "    #==============================================================================\n",
    "\n",
    "    # Initialise standard scaler and compute mean and STD from training data\n",
    "    sc = StandardScaler()\n",
    "    sc.fit(X_train)\n",
    "\n",
    "    # Transform (standardise) both X_train and X_test with mean and STD from\n",
    "    # training data\n",
    "    X_train_std = sc.transform(X_train)\n",
    "    X_test_std = sc.transform(X_test)\n",
    "    \n",
    "    #==============================================================================\n",
    "    # Correlation heatmap of indices with target_cols\n",
    "    #==============================================================================\n",
    "#     sns.diverging_palette(331, 129, as_cmap=True)\n",
    "\n",
    "#     pal=['PRGn', 'PiYG', 'PuOr', 'RdBu','RdYlBu','RdYlGn','Spectral']\n",
    "\n",
    "#     correlation = temp_df.iloc[:,1:].corr()\n",
    "#     matrix = np.triu(correlation)\n",
    "\n",
    "#     plt.figure(figsize=(10,6))\n",
    "#     plt.title(df)\n",
    "#     sns.heatmap(correlation, cmap='PRGn', annot=True, fmt='.1g', vmin=-1, vmax=1, center= 0 ,square=True, mask=matrix)\n",
    "#     # plt.savefig('Data/heatmap.pdf',dpi=500, bbox_inches='tight')\n",
    "#     plt.show()\n",
    "\n",
    "\n",
    "    #==============================================================================\n",
    "    # Predictions\n",
    "    #==============================================================================\n",
    "\n",
    "    param=[x/10 for x in range(25,100)]\n",
    "    param=[x for x in range(0,1000, 100)]\n",
    "    param=[1]\n",
    "    for pr in tqdm(param):\n",
    "        for model in models:\n",
    "            R2 = []\n",
    "            RMSE=[]\n",
    "            MAE=[]\n",
    "            for rs in range(10):\n",
    "                #==============================================================================\n",
    "                # Create separate train/test splits\n",
    "                #==============================================================================\n",
    "                X_train, X_test, y_train, y_test = train_test_split(X, y, test_size=0.3, random_state=rs)\n",
    "                X_train.reset_index(drop=True, inplace=True)\n",
    "                X_test.reset_index(drop=True, inplace=True)\n",
    "                sc = StandardScaler()\n",
    "                sc.fit(X_train)\n",
    "                X_train_std = sc.transform(X_train)\n",
    "                X_test_std = sc.transform(X_test)\n",
    "                #==============================================================================\n",
    "                # Training best performing models\n",
    "                #==============================================================================\n",
    "    #             model = Lasso(alpha= 4.5)\n",
    "                model.fit(X_train_std, y_train)\n",
    "                y_pred = model.predict(X_test_std)\n",
    "                R2.append(r2_score(y_test, y_pred))\n",
    "                MAE.append(mean_absolute_error(y_test, y_pred))\n",
    "                RMSE.append(mean_squared_error(y_test, y_pred, squared=False))\n",
    "            accuracy = {}\n",
    "            accuracy['R2'] = R2\n",
    "            accuracy['MAE'] = MAE\n",
    "            accuracy['RMSE'] = RMSE\n",
    "            scores={}\n",
    "            for k, s in accuracy.items():\n",
    "                scores[k]=(sum(s)/len(s))\n",
    "            print(df, model)\n",
    "            print(scores)\n"
   ]
  },
  {
   "cell_type": "code",
   "execution_count": 15,
   "id": "a651d606",
   "metadata": {},
   "outputs": [
    {
     "ename": "NameError",
     "evalue": "name 'X_train_std' is not defined",
     "output_type": "error",
     "traceback": [
      "\u001b[1;31m---------------------------------------------------------------------------\u001b[0m",
      "\u001b[1;31mNameError\u001b[0m                                 Traceback (most recent call last)",
      "\u001b[1;32m<ipython-input-15-484990281c28>\u001b[0m in \u001b[0;36m<module>\u001b[1;34m\u001b[0m\n\u001b[0;32m      1\u001b[0m \u001b[1;32mfor\u001b[0m \u001b[0mmodel\u001b[0m \u001b[1;32min\u001b[0m \u001b[0mmodels\u001b[0m\u001b[1;33m:\u001b[0m\u001b[1;33m\u001b[0m\u001b[1;33m\u001b[0m\u001b[0m\n\u001b[1;32m----> 2\u001b[1;33m     \u001b[0mmodel\u001b[0m\u001b[1;33m.\u001b[0m\u001b[0mfit\u001b[0m\u001b[1;33m(\u001b[0m\u001b[0mX_train_std\u001b[0m\u001b[1;33m,\u001b[0m \u001b[0my_train\u001b[0m\u001b[1;33m)\u001b[0m\u001b[1;33m\u001b[0m\u001b[1;33m\u001b[0m\u001b[0m\n\u001b[0m\u001b[0;32m      3\u001b[0m     \u001b[0my_pred\u001b[0m \u001b[1;33m=\u001b[0m \u001b[0mmodel\u001b[0m\u001b[1;33m.\u001b[0m\u001b[0mpredict\u001b[0m\u001b[1;33m(\u001b[0m\u001b[0mX_test_std\u001b[0m\u001b[1;33m)\u001b[0m\u001b[1;33m\u001b[0m\u001b[1;33m\u001b[0m\u001b[0m\n\u001b[0;32m      4\u001b[0m     \u001b[0mprint\u001b[0m\u001b[1;33m(\u001b[0m\u001b[0my_pred\u001b[0m\u001b[1;33m)\u001b[0m\u001b[1;33m\u001b[0m\u001b[1;33m\u001b[0m\u001b[0m\n",
      "\u001b[1;31mNameError\u001b[0m: name 'X_train_std' is not defined"
     ]
    }
   ],
   "source": [
    "for model in models:\n",
    "    model.fit(X_train_std, y_train)\n",
    "    y_pred = model.predict(X_test_std)\n",
    "    print(y_pred)"
   ]
  },
  {
   "cell_type": "code",
   "execution_count": null,
   "id": "a1ab97ae",
   "metadata": {},
   "outputs": [],
   "source": [
    "plot_feature_importance(model.feature_importances_,X_train.columns,'Gradient Boosting Regressor')\n"
   ]
  },
  {
   "cell_type": "code",
   "execution_count": 1,
   "id": "brilliant-england",
   "metadata": {},
   "outputs": [],
   "source": [
    "from tensorflow.keras import models\n",
    "from tensorflow.keras import layers\n",
    "\n",
    "def build_model():\n",
    "    # Because we will need to instantiate\n",
    "    # the same model multiple times,\n",
    "    # we use a function to construct it.\n",
    "    model = models.Sequential([\n",
    "        layers.Dense(64, activation='relu'),\n",
    "        layers.Dense(64, activation='relu'),\n",
    "        layers.Dense(1)])\n",
    "    \n",
    "    model.compile(optimizer='rmsprop', loss='mse', metrics=['mae'])\n",
    "    return model"
   ]
  },
  {
   "cell_type": "code",
   "execution_count": 100,
   "id": "3cc5b540",
   "metadata": {},
   "outputs": [
    {
     "data": {
      "text/plain": [
       "0      False\n",
       "1      False\n",
       "2      False\n",
       "3      False\n",
       "4      False\n",
       "       ...  \n",
       "596    False\n",
       "597    False\n",
       "598    False\n",
       "599    False\n",
       "600    False\n",
       "Name: GrainYield, Length: 601, dtype: bool"
      ]
     },
     "execution_count": 100,
     "metadata": {},
     "output_type": "execute_result"
    }
   ],
   "source": [
    "y.isna()"
   ]
  },
  {
   "cell_type": "code",
   "execution_count": null,
   "id": "young-element",
   "metadata": {},
   "outputs": [],
   "source": []
  },
  {
   "cell_type": "markdown",
   "id": "sought-temple",
   "metadata": {},
   "source": [
    "## Restart the kernel"
   ]
  },
  {
   "cell_type": "code",
   "execution_count": null,
   "id": "retired-parliament",
   "metadata": {
    "ExecuteTime": {
     "start_time": "2021-09-15T20:06:47.259Z"
    },
    "run_control": {
     "marked": true
    }
   },
   "outputs": [
    {
     "data": {
      "text/html": [
       "<script>Jupyter.notebook.kernel.restart()</script>"
      ],
      "text/plain": [
       "<IPython.core.display.HTML object>"
      ]
     },
     "execution_count": 1,
     "metadata": {},
     "output_type": "execute_result"
    }
   ],
   "source": [
    "from IPython.core.display import HTML\n",
    "HTML(\"<script>Jupyter.notebook.kernel.restart()</script>\")"
   ]
  },
  {
   "cell_type": "code",
   "execution_count": null,
   "id": "illegal-consultancy",
   "metadata": {},
   "outputs": [],
   "source": []
  }
 ],
 "metadata": {
  "hide_input": false,
  "kernelspec": {
   "display_name": "Python 3",
   "language": "python",
   "name": "python3"
  },
  "language_info": {
   "codemirror_mode": {
    "name": "ipython",
    "version": 3
   },
   "file_extension": ".py",
   "mimetype": "text/x-python",
   "name": "python",
   "nbconvert_exporter": "python",
   "pygments_lexer": "ipython3",
   "version": "3.8.5"
  },
  "toc": {
   "base_numbering": 1,
   "nav_menu": {},
   "number_sections": true,
   "sideBar": true,
   "skip_h1_title": false,
   "title_cell": "Table of Contents",
   "title_sidebar": "Contents",
   "toc_cell": false,
   "toc_position": {
    "height": "calc(100% - 180px)",
    "left": "10px",
    "top": "150px",
    "width": "350.58px"
   },
   "toc_section_display": true,
   "toc_window_display": true
  }
 },
 "nbformat": 4,
 "nbformat_minor": 5
}

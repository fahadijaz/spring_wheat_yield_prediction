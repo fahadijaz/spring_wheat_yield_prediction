{
 "cells": [
  {
   "cell_type": "markdown",
   "id": "fuzzy-italian",
   "metadata": {},
   "source": [
    "# DROP ROBOT FROM MODELS"
   ]
  },
  {
   "cell_type": "code",
   "execution_count": null,
   "id": "casual-insider",
   "metadata": {},
   "outputs": [],
   "source": []
  },
  {
   "cell_type": "markdown",
   "id": "105acfb2",
   "metadata": {},
   "source": [
    "# Data Import"
   ]
  },
  {
   "cell_type": "code",
   "execution_count": 1,
   "id": "average-columbia",
   "metadata": {
    "ExecuteTime": {
     "end_time": "2021-10-13T17:14:11.298149Z",
     "start_time": "2021-10-13T17:14:08.919126Z"
    }
   },
   "outputs": [
    {
     "name": "stdout",
     "output_type": "stream",
     "text": [
      "Wall time: 2.36 s\n"
     ]
    }
   ],
   "source": [
    "%%time\n",
    "\n",
    "import os\n",
    "import math\n",
    "import datetime\n",
    "import numpy as np\n",
    "import pandas as pd\n",
    "from copy import copy\n",
    "from tqdm import tqdm\n",
    "\n",
    "# Dictionaries\n",
    "import json\n",
    "from pprint import pprint\n",
    "\n",
    "# Iterate in loops\n",
    "import itertools\n",
    "from itertools import zip_longest\n",
    "\n",
    "# Simpsons integration\n",
    "from numpy import trapz\n",
    "from scipy.integrate import simps\n",
    "\n",
    "# Visualisation\n",
    "import seaborn as sns\n",
    "import matplotlib.pyplot as plt\n",
    "\n",
    "# To display df nicely in loops\n",
    "from IPython.display import display \n",
    "# display(df1.head()) \n",
    "# display(df2.head())\n",
    "\n",
    "# Display rows and columns Pandas\n",
    "pd.options.display.max_columns = 100\n",
    "pd.set_option('display.max_rows',100)"
   ]
  },
  {
   "cell_type": "code",
   "execution_count": 2,
   "id": "e62a5621",
   "metadata": {
    "ExecuteTime": {
     "end_time": "2021-10-13T17:14:12.299263Z",
     "start_time": "2021-10-13T17:14:11.300143Z"
    }
   },
   "outputs": [],
   "source": [
    "import os\n",
    "import pandas as pd\n",
    "import numpy as np\n",
    "\n",
    "import seaborn as sns\n",
    "import matplotlib.pyplot as plt\n",
    "\n",
    "from sklearn.model_selection import train_test_split\n",
    "from sklearn.preprocessing import StandardScaler\n",
    "from sklearn.cross_decomposition import PLSRegression\n",
    "\n",
    "from sklearn.model_selection import cross_validate\n",
    "from sklearn.model_selection import cross_val_score\n",
    "from sklearn.model_selection import GridSearchCV\n",
    "\n",
    "from sklearn import metrics\n",
    "from sklearn.metrics import explained_variance_score\n",
    "from sklearn.metrics import max_error\n",
    "from sklearn.metrics import mean_absolute_error\n",
    "from sklearn.metrics import mean_squared_error\n",
    "from sklearn.metrics import mean_squared_log_error\n",
    "from sklearn.metrics import median_absolute_error\n",
    "from sklearn.metrics import r2_score\n",
    "from sklearn.metrics import mean_poisson_deviance\n",
    "from sklearn.metrics import mean_gamma_deviance"
   ]
  },
  {
   "cell_type": "code",
   "execution_count": 3,
   "id": "2d066e93",
   "metadata": {
    "ExecuteTime": {
     "end_time": "2021-10-13T17:14:12.314489Z",
     "start_time": "2021-10-13T17:14:12.301524Z"
    }
   },
   "outputs": [
    {
     "data": {
      "text/plain": [
       "'C:\\\\Users\\\\fahad\\\\MegaSync\\\\NMBU\\\\GitHub\\\\vPheno'"
      ]
     },
     "execution_count": 3,
     "metadata": {},
     "output_type": "execute_result"
    }
   ],
   "source": [
    "# Prints the current working directory\n",
    "os.getcwd()\n",
    "# os.listdir()"
   ]
  },
  {
   "cell_type": "markdown",
   "id": "e796c4ee",
   "metadata": {},
   "source": [
    "## Finding Username folder to make general path for multi PC use"
   ]
  },
  {
   "cell_type": "code",
   "execution_count": 4,
   "id": "a5204388",
   "metadata": {
    "ExecuteTime": {
     "end_time": "2021-10-13T17:14:12.332564Z",
     "start_time": "2021-10-13T17:14:12.315487Z"
    }
   },
   "outputs": [
    {
     "data": {
      "text/plain": [
       "('fahad', 'C:/Users/fahad/')"
      ]
     },
     "execution_count": 4,
     "metadata": {},
     "output_type": "execute_result"
    }
   ],
   "source": [
    "username = str(os.getcwd()).split('\\\\')[2]\n",
    "user_path = r'C:/Users/'+username+'/'\n",
    "username, user_path"
   ]
  },
  {
   "cell_type": "markdown",
   "id": "9a708728",
   "metadata": {},
   "source": [
    "## Importing Data"
   ]
  },
  {
   "cell_type": "code",
   "execution_count": 55,
   "id": "protecting-swimming",
   "metadata": {
    "ExecuteTime": {
     "end_time": "2021-10-13T20:08:54.401430Z",
     "start_time": "2021-10-13T20:08:54.393451Z"
    }
   },
   "outputs": [],
   "source": [
    "# Making dictionary of files in each folder, in case there are multiple types of data\n",
    "dict_paths = {}\n",
    "def explore(starting_path):\n",
    "    for dirpath, dirnames, filenames in os.walk(starting_path):\n",
    "        dict_paths[dirpath.split('/')[-2]] = filenames\n",
    "#     pprint(dict_paths)\n",
    "explore(path)"
   ]
  },
  {
   "cell_type": "code",
   "execution_count": 5,
   "id": "448c66bf",
   "metadata": {
    "ExecuteTime": {
     "end_time": "2021-10-13T17:14:12.347808Z",
     "start_time": "2021-10-13T17:14:12.334843Z"
    }
   },
   "outputs": [
    {
     "data": {
      "text/plain": [
       "['Graminor_2019_Simps.csv',\n",
       " 'Graminor_2019_Trapz.csv',\n",
       " 'Graminor_2020_Simps.csv',\n",
       " 'Graminor_2020_Trapz.csv',\n",
       " 'Masbasis_2019_Simps.csv',\n",
       " 'Masbasis_2019_Trapz.csv',\n",
       " 'Masbasis_2020_Simps.csv',\n",
       " 'Masbasis_2020_Trapz.csv',\n",
       " 'Robot_2020_Simps.csv',\n",
       " 'Robot_2020_Trapz.csv',\n",
       " 'Staur_2019_Simps.csv',\n",
       " 'Staur_2019_Trapz.csv',\n",
       " 'Staur_2020_Simps.csv',\n",
       " 'Staur_2020_Trapz.csv']"
      ]
     },
     "execution_count": 5,
     "metadata": {},
     "output_type": "execute_result"
    }
   ],
   "source": [
    "main_path = r'./Data/'\n",
    "# path = r'./Data/3. merged data/'\n",
    "path = r'./Data/3. merged data/'\n",
    "export_path = './Data/4. results/'\n",
    "\n",
    "\n",
    "# Create export_path folder if not exists already\n",
    "os.makedirs(path, exist_ok=True)\n",
    "os.makedirs(export_path, exist_ok=True)\n",
    "\n",
    "os.listdir(path)"
   ]
  },
  {
   "cell_type": "markdown",
   "id": "aede1524",
   "metadata": {},
   "source": [
    "# Data Preparation\n",
    "## Creating list of complete files"
   ]
  },
  {
   "cell_type": "code",
   "execution_count": 6,
   "id": "mighty-atlas",
   "metadata": {
    "ExecuteTime": {
     "end_time": "2021-10-13T17:14:12.365704Z",
     "start_time": "2021-10-13T17:14:12.349803Z"
    },
    "scrolled": true
   },
   "outputs": [
    {
     "name": "stdout",
     "output_type": "stream",
     "text": [
      "14 files found in the directory\n"
     ]
    },
    {
     "data": {
      "text/plain": [
       "['Graminor_2019_Simps.csv',\n",
       " 'Graminor_2019_Trapz.csv',\n",
       " 'Graminor_2020_Simps.csv',\n",
       " 'Graminor_2020_Trapz.csv',\n",
       " 'Masbasis_2019_Simps.csv',\n",
       " 'Masbasis_2019_Trapz.csv',\n",
       " 'Masbasis_2020_Simps.csv',\n",
       " 'Masbasis_2020_Trapz.csv',\n",
       " 'Robot_2020_Simps.csv',\n",
       " 'Robot_2020_Trapz.csv',\n",
       " 'Staur_2019_Simps.csv',\n",
       " 'Staur_2019_Trapz.csv',\n",
       " 'Staur_2020_Simps.csv',\n",
       " 'Staur_2020_Trapz.csv']"
      ]
     },
     "execution_count": 6,
     "metadata": {},
     "output_type": "execute_result"
    }
   ],
   "source": [
    "# Get the list of all files in directory tree at given path\n",
    "\n",
    "files_with_address = []\n",
    "files_list = []\n",
    "\n",
    "for (dirpath, dirnames, filenames) in os.walk(path):\n",
    "    files_with_address += [os.path.join(dirpath, file) for file in filenames]\n",
    "    files_list.extend(filenames)\n",
    "    \n",
    "print(len(files_with_address), 'files found in the directory')\n",
    "# files_with_address\n",
    "files_list"
   ]
  },
  {
   "cell_type": "markdown",
   "id": "abeebb14",
   "metadata": {},
   "source": [
    "# Data Checking/control"
   ]
  },
  {
   "cell_type": "markdown",
   "id": "ee84d976",
   "metadata": {
    "run_control": {
     "marked": true
    }
   },
   "source": [
    "## Check for duplicate filenames"
   ]
  },
  {
   "cell_type": "code",
   "execution_count": 7,
   "id": "2affa906",
   "metadata": {
    "ExecuteTime": {
     "end_time": "2021-10-13T17:14:12.380845Z",
     "start_time": "2021-10-13T17:14:12.367866Z"
    }
   },
   "outputs": [
    {
     "name": "stdout",
     "output_type": "stream",
     "text": [
      "Total number of files are : 14\n",
      "Number of unique file names are: 14\n",
      "There is/are 0 duplicate file name/names.\n"
     ]
    }
   ],
   "source": [
    "print('Total number of files are :', len(files_list))\n",
    "\n",
    "print('Number of unique file names are:', len(set(files_list)))\n",
    "\n",
    "print('There is/are', len(files_list) - len(set(files_list)),'duplicate file name/names.')\n",
    "if len(files_list) - len(set(files_list)) > 0:\n",
    "    raise NameError"
   ]
  },
  {
   "cell_type": "markdown",
   "id": "a0f118d1",
   "metadata": {},
   "source": [
    "# Importing data files to Pandas"
   ]
  },
  {
   "cell_type": "code",
   "execution_count": 8,
   "id": "ad948136",
   "metadata": {
    "ExecuteTime": {
     "end_time": "2021-10-13T17:14:12.980895Z",
     "start_time": "2021-10-13T17:14:12.383871Z"
    }
   },
   "outputs": [
    {
     "name": "stdout",
     "output_type": "stream",
     "text": [
      "Graminor_2019_Simps ===== (600, 158)\n",
      "Graminor_2019_Trapz ===== (600, 158)\n",
      "Graminor_2020_Simps ===== (800, 158)\n",
      "Graminor_2020_Trapz ===== (800, 158)\n",
      "Masbasis_2019_Simps ===== (528, 160)\n",
      "Masbasis_2019_Trapz ===== (528, 160)\n",
      "Masbasis_2020_Simps ===== (659, 162)\n",
      "Masbasis_2020_Trapz ===== (659, 162)\n",
      "Robot_2020_Simps ===== (96, 162)\n",
      "Robot_2020_Trapz ===== (96, 162)\n",
      "Staur_2019_Simps ===== (1328, 159)\n",
      "Staur_2019_Trapz ===== (1328, 159)\n",
      "Staur_2020_Simps ===== (1504, 159)\n",
      "Staur_2020_Trapz ===== (1504, 159)\n",
      "Wall time: 591 ms\n"
     ]
    }
   ],
   "source": [
    "   \n",
    "%%time\n",
    "\n",
    "all_df = []\n",
    "for data in files_with_address:\n",
    "    file_name = os.path.splitext(os.path.basename(data))[0]\n",
    "\n",
    "    # Replce all invalid characters in the name\n",
    "    file_name = file_name.replace(\" \", \"_\")\n",
    "    file_name = file_name.replace(\"-\", \"_\")\n",
    "    file_name = file_name.replace(\")\", \"\")\n",
    "    file_name = file_name.replace(\"(\", \"\")\n",
    "    df_name = file_name.replace(\".\", \"\")\n",
    "    # Test: Check if the same date is already present in the current dict key\n",
    "    if df_name in all_df:\n",
    "        print(f'A file with the same name {df_name} has already been imported. \\n Please check if there is duplication of data.')\n",
    "        raise NameError\n",
    "    all_df.append(df_name)\n",
    "\n",
    "    locals()[df_name] = pd.read_csv(data, index_col=False)\n",
    "    print(df_name, '=====', locals()[df_name].shape)\n",
    "# all_df"
   ]
  },
  {
   "cell_type": "code",
   "execution_count": 9,
   "id": "particular-territory",
   "metadata": {
    "ExecuteTime": {
     "end_time": "2021-10-13T17:14:12.999489Z",
     "start_time": "2021-10-13T17:14:12.983983Z"
    }
   },
   "outputs": [
    {
     "data": {
      "text/plain": [
       "(['Graminor_2019_Simps',\n",
       "  'Graminor_2020_Simps',\n",
       "  'Masbasis_2019_Simps',\n",
       "  'Masbasis_2020_Simps',\n",
       "  'Robot_2020_Simps',\n",
       "  'Staur_2019_Simps',\n",
       "  'Staur_2020_Simps'],\n",
       " ['Graminor_2019_Trapz',\n",
       "  'Graminor_2020_Trapz',\n",
       "  'Masbasis_2019_Trapz',\n",
       "  'Masbasis_2020_Trapz',\n",
       "  'Robot_2020_Trapz',\n",
       "  'Staur_2019_Trapz',\n",
       "  'Staur_2020_Trapz'])"
      ]
     },
     "execution_count": 9,
     "metadata": {},
     "output_type": "execute_result"
    }
   ],
   "source": [
    "all_df_simps = [x for x in all_df if 'Simps' in x]\n",
    "all_df_trapz = [x for x in all_df if 'Trapz' in x]\n",
    "all_df_simps, all_df_trapz"
   ]
  },
  {
   "cell_type": "markdown",
   "id": "descending-broad",
   "metadata": {},
   "source": [
    "Old  \n",
    "Masbasis_2019 ===== (528, 160)  \n",
    "Masbasis_2020 ===== (637, 162)  \n",
    "Robot_2020 ===== (96, 162)  \n",
    "Staur_2019 ===== (162, 160)  "
   ]
  },
  {
   "cell_type": "code",
   "execution_count": 10,
   "id": "b51b4353",
   "metadata": {
    "ExecuteTime": {
     "end_time": "2021-10-13T17:14:13.015393Z",
     "start_time": "2021-10-13T17:14:13.001433Z"
    },
    "scrolled": true
   },
   "outputs": [
    {
     "name": "stdout",
     "output_type": "stream",
     "text": [
      "Total imported 14\n"
     ]
    },
    {
     "data": {
      "text/plain": [
       "['Graminor_2019_Simps',\n",
       " 'Graminor_2019_Trapz',\n",
       " 'Graminor_2020_Simps',\n",
       " 'Graminor_2020_Trapz',\n",
       " 'Masbasis_2019_Simps',\n",
       " 'Masbasis_2019_Trapz',\n",
       " 'Masbasis_2020_Simps',\n",
       " 'Masbasis_2020_Trapz',\n",
       " 'Robot_2020_Simps',\n",
       " 'Robot_2020_Trapz',\n",
       " 'Staur_2019_Simps',\n",
       " 'Staur_2019_Trapz',\n",
       " 'Staur_2020_Simps',\n",
       " 'Staur_2020_Trapz']"
      ]
     },
     "execution_count": 10,
     "metadata": {},
     "output_type": "execute_result"
    }
   ],
   "source": [
    "print(f'Total imported {len(all_df)}')\n",
    "all_df"
   ]
  },
  {
   "cell_type": "markdown",
   "id": "71e8186b",
   "metadata": {},
   "source": [
    "# Finding yield columns"
   ]
  },
  {
   "cell_type": "code",
   "execution_count": 11,
   "id": "0001fa8b",
   "metadata": {
    "ExecuteTime": {
     "end_time": "2021-10-13T17:14:13.065995Z",
     "start_time": "2021-10-13T17:14:13.017440Z"
    }
   },
   "outputs": [
    {
     "name": "stdout",
     "output_type": "stream",
     "text": [
      "\"GrainYield\" column in Graminor_2019_Simps is the yield column\n",
      " as it contains the text \"GrainYield\". It is located at location 1\n",
      "\"Name\" column in Graminor_2019_Simps is the yield column\n",
      " as it contains the text \"Name\". It is located at location 2\n",
      "\"Pedigree\" column in Graminor_2019_Simps is the yield column\n",
      " as it contains the text \"Pedigree\". It is located at location 37\n",
      "\"GrainYield\" column in Graminor_2019_Trapz is the yield column\n",
      " as it contains the text \"GrainYield\". It is located at location 1\n",
      "\"Name\" column in Graminor_2019_Trapz is the yield column\n",
      " as it contains the text \"Name\". It is located at location 2\n",
      "\"Pedigree\" column in Graminor_2019_Trapz is the yield column\n",
      " as it contains the text \"Pedigree\". It is located at location 37\n",
      "\"GrainYield\" column in Graminor_2020_Simps is the yield column\n",
      " as it contains the text \"GrainYield\". It is located at location 1\n",
      "\"Name\" column in Graminor_2020_Simps is the yield column\n",
      " as it contains the text \"Name\". It is located at location 2\n",
      "\"Pedigree\" column in Graminor_2020_Simps is the yield column\n",
      " as it contains the text \"Pedigree\". It is located at location 37\n",
      "\"GrainYield\" column in Graminor_2020_Trapz is the yield column\n",
      " as it contains the text \"GrainYield\". It is located at location 1\n",
      "\"Name\" column in Graminor_2020_Trapz is the yield column\n",
      " as it contains the text \"Name\". It is located at location 2\n",
      "\"Pedigree\" column in Graminor_2020_Trapz is the yield column\n",
      " as it contains the text \"Pedigree\". It is located at location 37\n",
      "\"GrainYield\" column in Masbasis_2019_Simps is the yield column\n",
      " as it contains the text \"GrainYield\". It is located at location 1\n",
      "\"Name\" column in Masbasis_2019_Simps is the yield column\n",
      " as it contains the text \"Name\". It is located at location 2\n",
      "\"Line\" column in Masbasis_2019_Simps is the yield column\n",
      " as it contains the text \"Line\". It is located at location 3\n",
      "\"Days2Heading\" column in Masbasis_2019_Simps is the yield column\n",
      " as it contains the text \"Days2Heading\". It is located at location 4\n",
      "\"Days2Maturity\" column in Masbasis_2019_Simps is the yield column\n",
      " as it contains the text \"Days2Maturity\". It is located at location 39\n",
      "\"GrainYield\" column in Masbasis_2019_Trapz is the yield column\n",
      " as it contains the text \"GrainYield\". It is located at location 1\n",
      "\"Name\" column in Masbasis_2019_Trapz is the yield column\n",
      " as it contains the text \"Name\". It is located at location 2\n",
      "\"Line\" column in Masbasis_2019_Trapz is the yield column\n",
      " as it contains the text \"Line\". It is located at location 3\n",
      "\"Days2Heading\" column in Masbasis_2019_Trapz is the yield column\n",
      " as it contains the text \"Days2Heading\". It is located at location 4\n",
      "\"Days2Maturity\" column in Masbasis_2019_Trapz is the yield column\n",
      " as it contains the text \"Days2Maturity\". It is located at location 39\n",
      "\"GrainYield\" column in Masbasis_2020_Simps is the yield column\n",
      " as it contains the text \"GrainYield\". It is located at location 1\n",
      "\"Name\" column in Masbasis_2020_Simps is the yield column\n",
      " as it contains the text \"Name\". It is located at location 2\n",
      "\"Line\" column in Masbasis_2020_Simps is the yield column\n",
      " as it contains the text \"Line\". It is located at location 3\n",
      "\"Maturity_Date\" column in Masbasis_2020_Simps is the yield column\n",
      " as it contains the text \"Maturity_Date\". It is located at location 4\n",
      "\"Days2Heading\" column in Masbasis_2020_Simps is the yield column\n",
      " as it contains the text \"Days2Heading\". It is located at location 5\n",
      "\"Days2Maturity\" column in Masbasis_2020_Simps is the yield column\n",
      " as it contains the text \"Days2Maturity\". It is located at location 6\n",
      "\"Lodging\" column in Masbasis_2020_Simps is the yield column\n",
      " as it contains the text \"Lodging\". It is located at location 41\n",
      "\"GrainYield\" column in Masbasis_2020_Trapz is the yield column\n",
      " as it contains the text \"GrainYield\". It is located at location 1\n",
      "\"Name\" column in Masbasis_2020_Trapz is the yield column\n",
      " as it contains the text \"Name\". It is located at location 2\n",
      "\"Line\" column in Masbasis_2020_Trapz is the yield column\n",
      " as it contains the text \"Line\". It is located at location 3\n",
      "\"Maturity_Date\" column in Masbasis_2020_Trapz is the yield column\n",
      " as it contains the text \"Maturity_Date\". It is located at location 4\n",
      "\"Days2Heading\" column in Masbasis_2020_Trapz is the yield column\n",
      " as it contains the text \"Days2Heading\". It is located at location 5\n",
      "\"Days2Maturity\" column in Masbasis_2020_Trapz is the yield column\n",
      " as it contains the text \"Days2Maturity\". It is located at location 6\n",
      "\"Lodging\" column in Masbasis_2020_Trapz is the yield column\n",
      " as it contains the text \"Lodging\". It is located at location 41\n",
      "\"GrainYield\" column in Robot_2020_Simps is the yield column\n",
      " as it contains the text \"GrainYield\". It is located at location 1\n",
      "\"Name\" column in Robot_2020_Simps is the yield column\n",
      " as it contains the text \"Name\". It is located at location 2\n",
      "\"CodeName\" column in Robot_2020_Simps is the yield column\n",
      " as it contains the text \"CodeName\". It is located at location 3\n",
      "\"Heading_Date\" column in Robot_2020_Simps is the yield column\n",
      " as it contains the text \"Heading_Date\". It is located at location 4\n",
      "\"Maturity_Date\" column in Robot_2020_Simps is the yield column\n",
      " as it contains the text \"Maturity_Date\". It is located at location 5\n",
      "\"Days2Heading\" column in Robot_2020_Simps is the yield column\n",
      " as it contains the text \"Days2Heading\". It is located at location 6\n",
      "\"Days2Maturity\" column in Robot_2020_Simps is the yield column\n",
      " as it contains the text \"Days2Maturity\". It is located at location 41\n",
      "\"GrainYield\" column in Robot_2020_Trapz is the yield column\n",
      " as it contains the text \"GrainYield\". It is located at location 1\n",
      "\"Name\" column in Robot_2020_Trapz is the yield column\n",
      " as it contains the text \"Name\". It is located at location 2\n",
      "\"CodeName\" column in Robot_2020_Trapz is the yield column\n",
      " as it contains the text \"CodeName\". It is located at location 3\n",
      "\"Heading_Date\" column in Robot_2020_Trapz is the yield column\n",
      " as it contains the text \"Heading_Date\". It is located at location 4\n",
      "\"Maturity_Date\" column in Robot_2020_Trapz is the yield column\n",
      " as it contains the text \"Maturity_Date\". It is located at location 5\n",
      "\"Days2Heading\" column in Robot_2020_Trapz is the yield column\n",
      " as it contains the text \"Days2Heading\". It is located at location 6\n",
      "\"Days2Maturity\" column in Robot_2020_Trapz is the yield column\n",
      " as it contains the text \"Days2Maturity\". It is located at location 41\n",
      "\"GrainYield\" column in Staur_2019_Simps is the yield column\n",
      " as it contains the text \"GrainYield\". It is located at location 1\n",
      "\"Line\" column in Staur_2019_Simps is the yield column\n",
      " as it contains the text \"Line\". It is located at location 2\n",
      "\"Days2Heading\" column in Staur_2019_Simps is the yield column\n",
      " as it contains the text \"Days2Heading\". It is located at location 3\n",
      "\"Days2Maturity\" column in Staur_2019_Simps is the yield column\n",
      " as it contains the text \"Days2Maturity\". It is located at location 38\n",
      "\"GrainYield\" column in Staur_2019_Trapz is the yield column\n",
      " as it contains the text \"GrainYield\". It is located at location 1\n",
      "\"Line\" column in Staur_2019_Trapz is the yield column\n",
      " as it contains the text \"Line\". It is located at location 2\n",
      "\"Days2Heading\" column in Staur_2019_Trapz is the yield column\n",
      " as it contains the text \"Days2Heading\". It is located at location 3\n",
      "\"Days2Maturity\" column in Staur_2019_Trapz is the yield column\n",
      " as it contains the text \"Days2Maturity\". It is located at location 38\n",
      "\"GrainYield\" column in Staur_2020_Simps is the yield column\n",
      " as it contains the text \"GrainYield\". It is located at location 1\n",
      "\"Name\" column in Staur_2020_Simps is the yield column\n",
      " as it contains the text \"Name\". It is located at location 2\n",
      "\"Pedigree\" column in Staur_2020_Simps is the yield column\n",
      " as it contains the text \"Pedigree\". It is located at location 3\n",
      "\"Lodging\" column in Staur_2020_Simps is the yield column\n",
      " as it contains the text \"Lodging\". It is located at location 38\n",
      "\"GrainYield\" column in Staur_2020_Trapz is the yield column\n",
      " as it contains the text \"GrainYield\". It is located at location 1\n",
      "\"Name\" column in Staur_2020_Trapz is the yield column\n",
      " as it contains the text \"Name\". It is located at location 2\n",
      "\"Pedigree\" column in Staur_2020_Trapz is the yield column\n",
      " as it contains the text \"Pedigree\". It is located at location 3\n",
      "\"Lodging\" column in Staur_2020_Trapz is the yield column\n",
      " as it contains the text \"Lodging\". It is located at location 38\n"
     ]
    },
    {
     "data": {
      "text/plain": [
       "{'GrainYield_Graminor_2019_Simps': 1,\n",
       " 'Name_Graminor_2019_Simps': 2,\n",
       " 'Pedigree_Graminor_2019_Simps': 37,\n",
       " 'GrainYield_Graminor_2019_Trapz': 1,\n",
       " 'Name_Graminor_2019_Trapz': 2,\n",
       " 'Pedigree_Graminor_2019_Trapz': 37,\n",
       " 'GrainYield_Graminor_2020_Simps': 1,\n",
       " 'Name_Graminor_2020_Simps': 2,\n",
       " 'Pedigree_Graminor_2020_Simps': 37,\n",
       " 'GrainYield_Graminor_2020_Trapz': 1,\n",
       " 'Name_Graminor_2020_Trapz': 2,\n",
       " 'Pedigree_Graminor_2020_Trapz': 37,\n",
       " 'GrainYield_Masbasis_2019_Simps': 1,\n",
       " 'Name_Masbasis_2019_Simps': 2,\n",
       " 'Line_Masbasis_2019_Simps': 3,\n",
       " 'Days2Heading_Masbasis_2019_Simps': 4,\n",
       " 'Days2Maturity_Masbasis_2019_Simps': 39,\n",
       " 'GrainYield_Masbasis_2019_Trapz': 1,\n",
       " 'Name_Masbasis_2019_Trapz': 2,\n",
       " 'Line_Masbasis_2019_Trapz': 3,\n",
       " 'Days2Heading_Masbasis_2019_Trapz': 4,\n",
       " 'Days2Maturity_Masbasis_2019_Trapz': 39,\n",
       " 'GrainYield_Masbasis_2020_Simps': 1,\n",
       " 'Name_Masbasis_2020_Simps': 2,\n",
       " 'Line_Masbasis_2020_Simps': 3,\n",
       " 'Maturity_Date_Masbasis_2020_Simps': 4,\n",
       " 'Days2Heading_Masbasis_2020_Simps': 5,\n",
       " 'Days2Maturity_Masbasis_2020_Simps': 6,\n",
       " 'Lodging_Masbasis_2020_Simps': 41,\n",
       " 'GrainYield_Masbasis_2020_Trapz': 1,\n",
       " 'Name_Masbasis_2020_Trapz': 2,\n",
       " 'Line_Masbasis_2020_Trapz': 3,\n",
       " 'Maturity_Date_Masbasis_2020_Trapz': 4,\n",
       " 'Days2Heading_Masbasis_2020_Trapz': 5,\n",
       " 'Days2Maturity_Masbasis_2020_Trapz': 6,\n",
       " 'Lodging_Masbasis_2020_Trapz': 41,\n",
       " 'GrainYield_Robot_2020_Simps': 1,\n",
       " 'Name_Robot_2020_Simps': 2,\n",
       " 'CodeName_Robot_2020_Simps': 3,\n",
       " 'Heading_Date_Robot_2020_Simps': 4,\n",
       " 'Maturity_Date_Robot_2020_Simps': 5,\n",
       " 'Days2Heading_Robot_2020_Simps': 6,\n",
       " 'Days2Maturity_Robot_2020_Simps': 41,\n",
       " 'GrainYield_Robot_2020_Trapz': 1,\n",
       " 'Name_Robot_2020_Trapz': 2,\n",
       " 'CodeName_Robot_2020_Trapz': 3,\n",
       " 'Heading_Date_Robot_2020_Trapz': 4,\n",
       " 'Maturity_Date_Robot_2020_Trapz': 5,\n",
       " 'Days2Heading_Robot_2020_Trapz': 6,\n",
       " 'Days2Maturity_Robot_2020_Trapz': 41,\n",
       " 'GrainYield_Staur_2019_Simps': 1,\n",
       " 'Line_Staur_2019_Simps': 2,\n",
       " 'Days2Heading_Staur_2019_Simps': 3,\n",
       " 'Days2Maturity_Staur_2019_Simps': 38,\n",
       " 'GrainYield_Staur_2019_Trapz': 1,\n",
       " 'Line_Staur_2019_Trapz': 2,\n",
       " 'Days2Heading_Staur_2019_Trapz': 3,\n",
       " 'Days2Maturity_Staur_2019_Trapz': 38,\n",
       " 'GrainYield_Staur_2020_Simps': 1,\n",
       " 'Name_Staur_2020_Simps': 2,\n",
       " 'Pedigree_Staur_2020_Simps': 3,\n",
       " 'Lodging_Staur_2020_Simps': 38,\n",
       " 'GrainYield_Staur_2020_Trapz': 1,\n",
       " 'Name_Staur_2020_Trapz': 2,\n",
       " 'Pedigree_Staur_2020_Trapz': 3,\n",
       " 'Lodging_Staur_2020_Trapz': 38}"
      ]
     },
     "execution_count": 11,
     "metadata": {},
     "output_type": "execute_result"
    }
   ],
   "source": [
    "# ToDo: Add check for duplicate columns in the df\n",
    "\n",
    "general_col_names = ['Plot_ID', 'Blue', 'Green', 'Red', 'RedEdge', 'NIR']\n",
    "\n",
    "base_indices = ['Blue', 'Green', 'Red', 'RedEdge', 'NIR']\n",
    "\n",
    "spectral_indices = ['NDVI', 'MTCI', 'DVI', 'GDVI', 'MTCI_CI', 'EXG', 'EXGR', 'RDVI',\n",
    "                    'TDVI', 'GNDVI', 'NDRE', 'SCCI', 'EVI', 'TVI', 'VARI', 'GARI',\n",
    "                    'GCI', 'GLI', 'NLI', 'MNLI', 'SAVI', 'GSAVI', 'OSAVI', 'GOSAVI',\n",
    "                    'MSAVI2', 'MSR', 'GRVI', 'WDRVI', 'SR']\n",
    "# list_agg_df\n",
    "yield_cols = ['GrainYield', 'Name', 'CodeName', 'Pedigree', 'Line', 'Heading_Date',\n",
    "              'Maturity_Date', 'Days2Heading', 'Days2Maturity', 'Lodging']\n",
    "\n",
    "# Counter for location of column in columns list\n",
    "\n",
    "# Dict for saving the name and location of the yield column/s\n",
    "loc_yield_cols = {}\n",
    "for df in all_df:\n",
    "    loc = 0\n",
    "    for cols in locals()[df].columns.tolist():\n",
    "        for y_col in yield_cols:\n",
    "            if not cols.find(y_col):\n",
    "                loc_yield_cols[cols+'_'+df] = loc\n",
    "                print(f'\\\"{cols}\\\" column in {df} is the yield column\\n as it contains the text \\\"{y_col}\\\". It is located at location {loc}')\n",
    "        loc += 1\n",
    "\n",
    "    yield_cols_found = list(loc_yield_cols.keys())\n",
    "    target_cols=yield_cols_found[0]\n",
    "loc_yield_cols"
   ]
  },
  {
   "cell_type": "markdown",
   "id": "global-gnome",
   "metadata": {},
   "source": [
    "# Dropping unnecessary columns\n"
   ]
  },
  {
   "cell_type": "code",
   "execution_count": 12,
   "id": "robust-making",
   "metadata": {
    "ExecuteTime": {
     "end_time": "2021-10-13T17:14:13.547564Z",
     "start_time": "2021-10-13T17:14:13.067165Z"
    }
   },
   "outputs": [
    {
     "ename": "KeyError",
     "evalue": "\"['NameGrainYield'] not in index\"",
     "output_type": "error",
     "traceback": [
      "\u001b[1;31m---------------------------------------------------------------------------\u001b[0m",
      "\u001b[1;31mKeyError\u001b[0m                                  Traceback (most recent call last)",
      "\u001b[1;32m<ipython-input-12-470396081795>\u001b[0m in \u001b[0;36m<module>\u001b[1;34m\u001b[0m\n\u001b[0;32m      3\u001b[0m \u001b[1;32mfor\u001b[0m \u001b[0mdf\u001b[0m \u001b[1;32min\u001b[0m \u001b[0mall_df\u001b[0m\u001b[1;33m:\u001b[0m\u001b[1;33m\u001b[0m\u001b[1;33m\u001b[0m\u001b[0m\n\u001b[0;32m      4\u001b[0m     \u001b[0mtemp_df\u001b[0m \u001b[1;33m=\u001b[0m \u001b[0mlocals\u001b[0m\u001b[1;33m(\u001b[0m\u001b[1;33m)\u001b[0m\u001b[1;33m[\u001b[0m\u001b[0mdf\u001b[0m\u001b[1;33m]\u001b[0m\u001b[1;33m.\u001b[0m\u001b[0mcopy\u001b[0m\u001b[1;33m(\u001b[0m\u001b[1;33m)\u001b[0m\u001b[1;33m\u001b[0m\u001b[1;33m\u001b[0m\u001b[0m\n\u001b[1;32m----> 5\u001b[1;33m     \u001b[0mlocals\u001b[0m\u001b[1;33m(\u001b[0m\u001b[1;33m)\u001b[0m\u001b[1;33m[\u001b[0m\u001b[0mdf\u001b[0m\u001b[1;33m]\u001b[0m \u001b[1;33m=\u001b[0m \u001b[0mtemp_df\u001b[0m\u001b[1;33m[\u001b[0m\u001b[0mbase_indices\u001b[0m\u001b[1;33m+\u001b[0m\u001b[0mspectral_indices\u001b[0m\u001b[1;33m+\u001b[0m\u001b[1;33m[\u001b[0m\u001b[1;34m'Name'\u001b[0m\u001b[1;33m+\u001b[0m\u001b[1;34m'GrainYield'\u001b[0m\u001b[1;33m]\u001b[0m\u001b[1;33m]\u001b[0m\u001b[1;33m\u001b[0m\u001b[1;33m\u001b[0m\u001b[0m\n\u001b[0m",
      "\u001b[1;32mC:\\ProgramData\\Anaconda3\\lib\\site-packages\\pandas\\core\\frame.py\u001b[0m in \u001b[0;36m__getitem__\u001b[1;34m(self, key)\u001b[0m\n\u001b[0;32m   2906\u001b[0m             \u001b[1;32mif\u001b[0m \u001b[0mis_iterator\u001b[0m\u001b[1;33m(\u001b[0m\u001b[0mkey\u001b[0m\u001b[1;33m)\u001b[0m\u001b[1;33m:\u001b[0m\u001b[1;33m\u001b[0m\u001b[1;33m\u001b[0m\u001b[0m\n\u001b[0;32m   2907\u001b[0m                 \u001b[0mkey\u001b[0m \u001b[1;33m=\u001b[0m \u001b[0mlist\u001b[0m\u001b[1;33m(\u001b[0m\u001b[0mkey\u001b[0m\u001b[1;33m)\u001b[0m\u001b[1;33m\u001b[0m\u001b[1;33m\u001b[0m\u001b[0m\n\u001b[1;32m-> 2908\u001b[1;33m             \u001b[0mindexer\u001b[0m \u001b[1;33m=\u001b[0m \u001b[0mself\u001b[0m\u001b[1;33m.\u001b[0m\u001b[0mloc\u001b[0m\u001b[1;33m.\u001b[0m\u001b[0m_get_listlike_indexer\u001b[0m\u001b[1;33m(\u001b[0m\u001b[0mkey\u001b[0m\u001b[1;33m,\u001b[0m \u001b[0maxis\u001b[0m\u001b[1;33m=\u001b[0m\u001b[1;36m1\u001b[0m\u001b[1;33m,\u001b[0m \u001b[0mraise_missing\u001b[0m\u001b[1;33m=\u001b[0m\u001b[1;32mTrue\u001b[0m\u001b[1;33m)\u001b[0m\u001b[1;33m[\u001b[0m\u001b[1;36m1\u001b[0m\u001b[1;33m]\u001b[0m\u001b[1;33m\u001b[0m\u001b[1;33m\u001b[0m\u001b[0m\n\u001b[0m\u001b[0;32m   2909\u001b[0m \u001b[1;33m\u001b[0m\u001b[0m\n\u001b[0;32m   2910\u001b[0m         \u001b[1;31m# take() does not accept boolean indexers\u001b[0m\u001b[1;33m\u001b[0m\u001b[1;33m\u001b[0m\u001b[1;33m\u001b[0m\u001b[0m\n",
      "\u001b[1;32mC:\\ProgramData\\Anaconda3\\lib\\site-packages\\pandas\\core\\indexing.py\u001b[0m in \u001b[0;36m_get_listlike_indexer\u001b[1;34m(self, key, axis, raise_missing)\u001b[0m\n\u001b[0;32m   1252\u001b[0m             \u001b[0mkeyarr\u001b[0m\u001b[1;33m,\u001b[0m \u001b[0mindexer\u001b[0m\u001b[1;33m,\u001b[0m \u001b[0mnew_indexer\u001b[0m \u001b[1;33m=\u001b[0m \u001b[0max\u001b[0m\u001b[1;33m.\u001b[0m\u001b[0m_reindex_non_unique\u001b[0m\u001b[1;33m(\u001b[0m\u001b[0mkeyarr\u001b[0m\u001b[1;33m)\u001b[0m\u001b[1;33m\u001b[0m\u001b[1;33m\u001b[0m\u001b[0m\n\u001b[0;32m   1253\u001b[0m \u001b[1;33m\u001b[0m\u001b[0m\n\u001b[1;32m-> 1254\u001b[1;33m         \u001b[0mself\u001b[0m\u001b[1;33m.\u001b[0m\u001b[0m_validate_read_indexer\u001b[0m\u001b[1;33m(\u001b[0m\u001b[0mkeyarr\u001b[0m\u001b[1;33m,\u001b[0m \u001b[0mindexer\u001b[0m\u001b[1;33m,\u001b[0m \u001b[0maxis\u001b[0m\u001b[1;33m,\u001b[0m \u001b[0mraise_missing\u001b[0m\u001b[1;33m=\u001b[0m\u001b[0mraise_missing\u001b[0m\u001b[1;33m)\u001b[0m\u001b[1;33m\u001b[0m\u001b[1;33m\u001b[0m\u001b[0m\n\u001b[0m\u001b[0;32m   1255\u001b[0m         \u001b[1;32mreturn\u001b[0m \u001b[0mkeyarr\u001b[0m\u001b[1;33m,\u001b[0m \u001b[0mindexer\u001b[0m\u001b[1;33m\u001b[0m\u001b[1;33m\u001b[0m\u001b[0m\n\u001b[0;32m   1256\u001b[0m \u001b[1;33m\u001b[0m\u001b[0m\n",
      "\u001b[1;32mC:\\ProgramData\\Anaconda3\\lib\\site-packages\\pandas\\core\\indexing.py\u001b[0m in \u001b[0;36m_validate_read_indexer\u001b[1;34m(self, key, indexer, axis, raise_missing)\u001b[0m\n\u001b[0;32m   1302\u001b[0m             \u001b[1;32mif\u001b[0m \u001b[0mraise_missing\u001b[0m\u001b[1;33m:\u001b[0m\u001b[1;33m\u001b[0m\u001b[1;33m\u001b[0m\u001b[0m\n\u001b[0;32m   1303\u001b[0m                 \u001b[0mnot_found\u001b[0m \u001b[1;33m=\u001b[0m \u001b[0mlist\u001b[0m\u001b[1;33m(\u001b[0m\u001b[0mset\u001b[0m\u001b[1;33m(\u001b[0m\u001b[0mkey\u001b[0m\u001b[1;33m)\u001b[0m \u001b[1;33m-\u001b[0m \u001b[0mset\u001b[0m\u001b[1;33m(\u001b[0m\u001b[0max\u001b[0m\u001b[1;33m)\u001b[0m\u001b[1;33m)\u001b[0m\u001b[1;33m\u001b[0m\u001b[1;33m\u001b[0m\u001b[0m\n\u001b[1;32m-> 1304\u001b[1;33m                 \u001b[1;32mraise\u001b[0m \u001b[0mKeyError\u001b[0m\u001b[1;33m(\u001b[0m\u001b[1;34mf\"{not_found} not in index\"\u001b[0m\u001b[1;33m)\u001b[0m\u001b[1;33m\u001b[0m\u001b[1;33m\u001b[0m\u001b[0m\n\u001b[0m\u001b[0;32m   1305\u001b[0m \u001b[1;33m\u001b[0m\u001b[0m\n\u001b[0;32m   1306\u001b[0m             \u001b[1;31m# we skip the warning on Categorical\u001b[0m\u001b[1;33m\u001b[0m\u001b[1;33m\u001b[0m\u001b[1;33m\u001b[0m\u001b[0m\n",
      "\u001b[1;31mKeyError\u001b[0m: \"['NameGrainYield'] not in index\""
     ]
    }
   ],
   "source": [
    "# Dropping unnecessary columns\n",
    "\n",
    "for df in all_df:\n",
    "    temp_df = locals()[df].copy()\n",
    "    locals()[df] = temp_df[base_indices+spectral_indices+['Name'+'GrainYield']]"
   ]
  },
  {
   "cell_type": "markdown",
   "id": "rational-replication",
   "metadata": {},
   "source": [
    "# Dealing with Nan values"
   ]
  },
  {
   "cell_type": "markdown",
   "id": "unnecessary-criminal",
   "metadata": {},
   "source": [
    "## Dropping Missing values"
   ]
  },
  {
   "cell_type": "code",
   "execution_count": null,
   "id": "sensitive-europe",
   "metadata": {
    "ExecuteTime": {
     "end_time": "2021-10-13T17:14:13.549559Z",
     "start_time": "2021-10-13T17:14:09.399Z"
    }
   },
   "outputs": [],
   "source": [
    "# Dropping rows with missing value in any column\n",
    "\n",
    "for df in all_df:\n",
    "    temp_df = locals()[df].copy()\n",
    "    locals()[df] = temp_df.dropna(axis=0)\n",
    "    print(temp_df.shape[0] - locals()[df].shape[0], ' rows dropped in ', df)\n",
    "#     print(locals()[df].shape[0])"
   ]
  },
  {
   "cell_type": "markdown",
   "id": "wrong-taxation",
   "metadata": {
    "ExecuteTime": {
     "end_time": "2021-10-11T01:54:07.486881Z",
     "start_time": "2021-10-11T01:54:07.476908Z"
    }
   },
   "source": [
    "Old  \n",
    "6  rows dropped in  Masbasis_2019  \n",
    "522  \n",
    "94  rows dropped in  Masbasis_2020  \n",
    "543  \n",
    "0  rows dropped in  Robot_2020  \n",
    "96  \n",
    "0  rows dropped in  Staur_2019  \n",
    "162  "
   ]
  },
  {
   "cell_type": "markdown",
   "id": "20dbcd75",
   "metadata": {},
   "source": [
    "# Preprocessing "
   ]
  },
  {
   "cell_type": "markdown",
   "id": "ae4318ac",
   "metadata": {},
   "source": [
    "## Importing declared functions"
   ]
  },
  {
   "cell_type": "code",
   "execution_count": null,
   "id": "99bd7dcf",
   "metadata": {
    "ExecuteTime": {
     "end_time": "2021-10-13T17:14:13.551013Z",
     "start_time": "2021-10-13T17:14:09.693Z"
    }
   },
   "outputs": [],
   "source": [
    "from functions.plot_feature_importance import plot_feature_importance\n",
    "from functions.grid_search import grid\n",
    "from functions.test_data_regression import test_data_regression"
   ]
  },
  {
   "cell_type": "code",
   "execution_count": null,
   "id": "9bd85b6b",
   "metadata": {
    "ExecuteTime": {
     "end_time": "2021-10-13T17:14:13.551013Z",
     "start_time": "2021-10-13T17:14:09.695Z"
    }
   },
   "outputs": [],
   "source": [
    "# Number of cores in the system being used\n",
    "import multiprocessing\n",
    "multiprocessing.cpu_count()\n",
    "\n",
    "import psutil\n",
    "psutil.cpu_count()\n",
    "\n",
    "import cpuinfo\n",
    "info = cpuinfo.get_cpu_info()\n",
    "print('python_version:', info['python_version'])\n",
    "print(info['arch'])\n",
    "print(info['bits'])\n",
    "print(info['count'])\n",
    "print(info['arch_string_raw'])\n",
    "print(info['vendor_id_raw'])\n",
    "print(info['brand_raw'])\n",
    "print(info['hz_advertised_friendly'])\n",
    "\n",
    "\n"
   ]
  },
  {
   "cell_type": "markdown",
   "id": "moving-agency",
   "metadata": {},
   "source": [
    "# Correlation"
   ]
  },
  {
   "cell_type": "code",
   "execution_count": null,
   "id": "random-diagnosis",
   "metadata": {
    "ExecuteTime": {
     "end_time": "2021-10-13T17:14:13.551013Z",
     "start_time": "2021-10-13T17:14:09.784Z"
    }
   },
   "outputs": [],
   "source": [
    "# # Step 1 - Make a scatter plot with square markers, set column names as labels\n",
    "\n",
    "# def heatmap(x, y, size):\n",
    "#     fig_size=(15,10)\n",
    "\n",
    "#     fig, ax = plt.subplots(figsize=fig_size)\n",
    "    \n",
    "#     # Mapping from column names to integer coordinates\n",
    "#     x_labels = [v for v in x.unique()]\n",
    "#     y_labels = [v for v in y.unique()]\n",
    "#     x_to_num = {p[1]:p[0] for p in enumerate(x_labels)} \n",
    "#     y_to_num = {p[1]:p[0] for p in enumerate(y_labels)} \n",
    "    \n",
    "#     size_scale = 50\n",
    "#     ax.scatter(\n",
    "#         x=x.map(x_to_num), # Use mapping for x\n",
    "#         y=y.map(y_to_num), # Use mapping for y\n",
    "#         s=size * size_scale, # Vector of square sizes, proportional to size parameter\n",
    "#         marker='s' # Use square as scatterplot marker\n",
    "#     )\n",
    "    \n",
    "#     # Show column labels on the axes\n",
    "#     ax.set_xticks([x_to_num[v] for v in x_labels])\n",
    "#     ax.set_xticklabels(x_labels, rotation=45, horizontalalignment='right')\n",
    "#     ax.set_yticks([y_to_num[v] for v in y_labels])\n",
    "#     ax.set_yticklabels(y_labels)\n",
    "#     ax.grid(False, 'major')\n",
    "#     ax.grid(True, 'minor')\n",
    "#     ax.set_xticks([t + 0.5 for t in ax.get_xticks()], minor=True)\n",
    "#     ax.set_yticks([t + 0.5 for t in ax.get_yticks()], minor=True)\n",
    "    \n"
   ]
  },
  {
   "cell_type": "code",
   "execution_count": null,
   "id": "prompt-radius",
   "metadata": {
    "ExecuteTime": {
     "end_time": "2021-10-13T17:14:13.551013Z",
     "start_time": "2021-10-13T17:14:09.787Z"
    }
   },
   "outputs": [],
   "source": [
    "# for df in all_df:\n",
    "#     print(df)\n",
    "#     temp_df = locals()[df][base_indices+spectral_indices+['GrainYield']].copy()\n",
    "#     data = temp_df\n",
    "\n",
    "    \n",
    "#     fig, ax = plt.subplots(figsize=(10, 8))\n",
    "#     # mask\n",
    "#     mask = np.triu(np.ones_like(data, dtype=np.bool))\n",
    "#     # adjust mask and df\n",
    "#     mask = mask[1:, :-1]\n",
    "#     corr = data.iloc[1:,:-1].copy()\n",
    "#     # plot heatmap\n",
    "#     print('u1')\n",
    "\n",
    "#     sns.heatmap(corr, mask=mask, annot=True, fmt=\".2f\", cmap='Blues',\n",
    "#                vmin=-1, vmax=1, cbar_kws={\"shrink\": .8})\n",
    "#     # yticks\n",
    "#     print('u2')\n",
    "#     # plt.yticks(rotation=0)\n",
    "#     print('u3')\n",
    "\n",
    "#     plt.show()\n",
    "#     print('u4')\n"
   ]
  },
  {
   "cell_type": "code",
   "execution_count": null,
   "id": "closed-prime",
   "metadata": {
    "ExecuteTime": {
     "end_time": "2021-10-13T17:14:13.551013Z",
     "start_time": "2021-10-13T17:14:09.790Z"
    }
   },
   "outputs": [],
   "source": [
    "# all_df"
   ]
  },
  {
   "cell_type": "markdown",
   "id": "quarterly-fancy",
   "metadata": {},
   "source": [
    "## Scatter Plot"
   ]
  },
  {
   "cell_type": "code",
   "execution_count": null,
   "id": "injured-saying",
   "metadata": {
    "ExecuteTime": {
     "end_time": "2021-10-13T17:14:13.551013Z",
     "start_time": "2021-10-13T17:14:09.895Z"
    },
    "scrolled": true
   },
   "outputs": [],
   "source": [
    "# for df in all_df_simps:\n",
    "#     print(df)\n",
    "#     temp_df = locals()[df][base_indices+spectral_indices+['GrainYield']].copy()\n",
    "#     data = temp_df\n",
    "#     for col in base_indices:\n",
    "#         print(df)\n",
    "#         df_a = temp_df[col]\n",
    "#         df_b = temp_df['GrainYield']\n",
    "\n",
    "\n",
    "#         fig, ax = plt.subplots(1, figsize=(12,8))\n",
    "#         sns.kdeplot(df_a, df_b, cmap='Blues',\n",
    "#                    shade=True, shade_lowest=False, clip=(-1,300))\n",
    "#         plt.scatter(df_a, df_b, color='orangered')\n",
    "#         plt.show()"
   ]
  },
  {
   "cell_type": "code",
   "execution_count": null,
   "id": "soviet-kernel",
   "metadata": {
    "ExecuteTime": {
     "end_time": "2021-10-13T17:14:13.551013Z",
     "start_time": "2021-10-13T17:14:09.897Z"
    }
   },
   "outputs": [],
   "source": [
    "for df in all_df_simps[0]:\n",
    "    print(df)\n",
    "    temp_df = locals()[df]['NDVI','GrainYield'].copy()\n",
    "    data = temp_df\n",
    "    for col in base_indices:\n",
    "        print(df)\n",
    "        df_a = temp_df[col]\n",
    "        df_b = temp_df['GrainYield']\n",
    "\n",
    "\n",
    "        fig, ax = plt.subplots(1, figsize=(12,8))\n",
    "        sns.kdeplot(df_a, df_b, cmap='Blues',\n",
    "                   shade=True, shade_lowest=False, clip=(-1,300))\n",
    "        plt.scatter(df_a, df_b, color='orangered')\n",
    "        plt.show()"
   ]
  },
  {
   "cell_type": "markdown",
   "id": "thousand-threshold",
   "metadata": {},
   "source": [
    "## Heat Map"
   ]
  },
  {
   "cell_type": "code",
   "execution_count": null,
   "id": "proprietary-farming",
   "metadata": {
    "ExecuteTime": {
     "end_time": "2021-10-13T17:14:13.551013Z",
     "start_time": "2021-10-13T17:14:10.004Z"
    },
    "scrolled": false
   },
   "outputs": [],
   "source": [
    "# for df in all_df_simps:\n",
    "#     print(df)\n",
    "#     temp_df = locals()[df][base_indices+spectral_indices+['GrainYield']].copy()\n",
    "#     data = temp_df\n",
    "#     columns = temp_df.columns\n",
    "#     corr = data.corr()\n",
    "#     fig_size=(15,10)\n",
    "\n",
    "#     fig, ax = plt.subplots(figsize=fig_size)\n",
    "#     ax = sns.heatmap(\n",
    "#         corr, \n",
    "#         vmin=-1, vmax=1, center=0,\n",
    "#         cmap=sns.diverging_palette(20, 220, n=200),\n",
    "#         square=True\n",
    "#     )\n",
    "#     ax.set_xticklabels(\n",
    "#         ax.get_xticklabels(),\n",
    "#         rotation=45,\n",
    "#         horizontalalignment='right'\n",
    "#     );\n",
    "#     plt.show()"
   ]
  },
  {
   "cell_type": "code",
   "execution_count": null,
   "id": "variable-nightmare",
   "metadata": {},
   "outputs": [],
   "source": []
  },
  {
   "cell_type": "code",
   "execution_count": null,
   "id": "virtual-boring",
   "metadata": {},
   "outputs": [],
   "source": []
  },
  {
   "cell_type": "code",
   "execution_count": null,
   "id": "greenhouse-revision",
   "metadata": {},
   "outputs": [],
   "source": []
  },
  {
   "cell_type": "markdown",
   "id": "483f52b7",
   "metadata": {},
   "source": [
    "# ML Models"
   ]
  },
  {
   "cell_type": "code",
   "execution_count": 13,
   "id": "5c738348",
   "metadata": {
    "ExecuteTime": {
     "end_time": "2021-10-13T17:20:04.515090Z",
     "start_time": "2021-10-13T17:20:04.302844Z"
    }
   },
   "outputs": [],
   "source": [
    "from sklearn.model_selection import train_test_split\n",
    "from sklearn.cross_decomposition import PLSRegression\n",
    "\n",
    "from sklearn.model_selection import cross_validate\n",
    "from sklearn.model_selection import cross_val_score\n",
    "from sklearn.model_selection import GridSearchCV\n",
    "from sklearn.model_selection import GroupKFold\n",
    "\n",
    "from sklearn import metrics\n",
    "from sklearn.metrics import mean_squared_error\n",
    "from sklearn.metrics import r2_score\n",
    "from sklearn.metrics import mean_absolute_error\n",
    "\n",
    "from sklearn.pipeline import make_pipeline\n",
    "from sklearn.model_selection import GridSearchCV\n",
    "from sklearn.svm import SVR\n",
    "from sklearn.preprocessing import StandardScaler\n",
    "from sklearn.pipeline import Pipeline\n",
    "import time, datetime\n",
    "from datetime import datetime as dt\n",
    "from sklearn.ensemble import RandomForestRegressor\n",
    "from sklearn.model_selection import GridSearchCV\n",
    "from sklearn.preprocessing import StandardScaler\n",
    "from sklearn.model_selection import train_test_split\n",
    "from sklearn.ensemble import GradientBoostingRegressor\n",
    "# import xgboost as xgb\n",
    "from sklearn.linear_model import Lasso\n",
    "# from catboost import CatBoostRegressor\n",
    "\n",
    "import time, datetime\n",
    "from datetime import datetime as dt\n",
    "from sklearn.ensemble import RandomForestRegressor\n",
    "from sklearn.model_selection import GridSearchCV\n",
    "from sklearn.preprocessing import StandardScaler\n",
    "from sklearn.model_selection import train_test_split\n"
   ]
  },
  {
   "cell_type": "markdown",
   "id": "talented-facial",
   "metadata": {
    "ExecuteTime": {
     "end_time": "2021-09-15T18:32:26.716503Z",
     "start_time": "2021-09-15T18:32:26.697958Z"
    }
   },
   "source": [
    "## List of models"
   ]
  },
  {
   "cell_type": "code",
   "execution_count": 14,
   "id": "waiting-field",
   "metadata": {
    "ExecuteTime": {
     "end_time": "2021-10-13T17:20:06.849124Z",
     "start_time": "2021-10-13T17:20:06.830726Z"
    }
   },
   "outputs": [],
   "source": [
    "models = [\n",
    "#          CatBoostRegressor(depth=8),\n",
    "         RandomForestRegressor(random_state=1, n_jobs = -1)]\n",
    "from sklearn.linear_model import LassoCV\n",
    "# models = [Lasso()]"
   ]
  },
  {
   "cell_type": "code",
   "execution_count": null,
   "id": "overall-touch",
   "metadata": {},
   "outputs": [],
   "source": [
    "gkf = list(GroupKFold(n_splits=3).split(X, y, group))"
   ]
  },
  {
   "cell_type": "code",
   "execution_count": 17,
   "id": "generic-brother",
   "metadata": {
    "ExecuteTime": {
     "end_time": "2021-10-11T10:19:23.307703Z",
     "start_time": "2021-10-11T10:19:23.286767Z"
    }
   },
   "outputs": [
    {
     "name": "stdout",
     "output_type": "stream",
     "text": [
      "RandomForestRegressor\n"
     ]
    }
   ],
   "source": [
    "for model in models:\n",
    "    print(str(model).split('(')[0])"
   ]
  },
  {
   "cell_type": "markdown",
   "id": "alpine-secondary",
   "metadata": {},
   "source": [
    "### Deep Learning Model"
   ]
  },
  {
   "cell_type": "code",
   "execution_count": null,
   "id": "careful-champion",
   "metadata": {},
   "outputs": [],
   "source": []
  },
  {
   "cell_type": "markdown",
   "id": "greek-qatar",
   "metadata": {},
   "source": [
    "## Variations of data processing"
   ]
  },
  {
   "cell_type": "markdown",
   "id": "dietary-philadelphia",
   "metadata": {},
   "source": [
    "### With Simpsons Integration"
   ]
  },
  {
   "cell_type": "code",
   "execution_count": null,
   "id": "amino-postcard",
   "metadata": {},
   "outputs": [],
   "source": []
  },
  {
   "cell_type": "markdown",
   "id": "minor-istanbul",
   "metadata": {
    "ExecuteTime": {
     "end_time": "2021-10-13T20:12:43.114319Z",
     "start_time": "2021-10-13T20:12:43.104346Z"
    }
   },
   "source": [
    "### Trapeziodal Integration"
   ]
  },
  {
   "cell_type": "code",
   "execution_count": null,
   "id": "tested-lawrence",
   "metadata": {},
   "outputs": [],
   "source": []
  },
  {
   "cell_type": "markdown",
   "id": "running-transsexual",
   "metadata": {},
   "source": [
    "### Without any integration"
   ]
  },
  {
   "cell_type": "code",
   "execution_count": null,
   "id": "fluid-triumph",
   "metadata": {},
   "outputs": [],
   "source": []
  },
  {
   "cell_type": "markdown",
   "id": "great-dayton",
   "metadata": {},
   "source": [
    "### Without weather data"
   ]
  },
  {
   "cell_type": "code",
   "execution_count": null,
   "id": "sublime-frontier",
   "metadata": {},
   "outputs": [],
   "source": []
  },
  {
   "cell_type": "markdown",
   "id": "b9e01a31",
   "metadata": {},
   "source": [
    "## Variations in Datasets"
   ]
  },
  {
   "cell_type": "code",
   "execution_count": 18,
   "id": "9a1923d5",
   "metadata": {
    "ExecuteTime": {
     "end_time": "2021-10-11T10:19:23.319671Z",
     "start_time": "2021-10-11T10:19:23.310695Z"
    }
   },
   "outputs": [],
   "source": [
    "id_cols_new = ['Plot_ID']"
   ]
  },
  {
   "cell_type": "markdown",
   "id": "charitable-detector",
   "metadata": {
    "ExecuteTime": {
     "end_time": "2021-10-13T19:15:21.306505Z",
     "start_time": "2021-10-13T19:15:21.281069Z"
    }
   },
   "source": [
    "### Within same datasets:"
   ]
  },
  {
   "cell_type": "code",
   "execution_count": null,
   "id": "medical-offer",
   "metadata": {},
   "outputs": [],
   "source": []
  },
  {
   "cell_type": "markdown",
   "id": "partial-necessity",
   "metadata": {},
   "source": [
    "### One against all - one2one"
   ]
  },
  {
   "cell_type": "code",
   "execution_count": null,
   "id": "lucky-browse",
   "metadata": {},
   "outputs": [],
   "source": []
  },
  {
   "cell_type": "markdown",
   "id": "large-poetry",
   "metadata": {},
   "source": [
    "### One aganist all together"
   ]
  },
  {
   "cell_type": "code",
   "execution_count": null,
   "id": "composed-newark",
   "metadata": {},
   "outputs": [],
   "source": []
  },
  {
   "cell_type": "markdown",
   "id": "ahead-concept",
   "metadata": {},
   "source": [
    "### 2019 Vollebekk vs 2019 Staur"
   ]
  },
  {
   "cell_type": "code",
   "execution_count": null,
   "id": "smaller-forge",
   "metadata": {},
   "outputs": [],
   "source": []
  },
  {
   "cell_type": "markdown",
   "id": "demanding-alabama",
   "metadata": {},
   "source": [
    "### 2020 Vollebekk vs 2020 Staur"
   ]
  },
  {
   "cell_type": "code",
   "execution_count": null,
   "id": "vulnerable-engine",
   "metadata": {},
   "outputs": [],
   "source": []
  },
  {
   "cell_type": "markdown",
   "id": "stupid-vegetation",
   "metadata": {},
   "source": [
    "###"
   ]
  },
  {
   "cell_type": "code",
   "execution_count": null,
   "id": "actual-plenty",
   "metadata": {},
   "outputs": [],
   "source": []
  },
  {
   "cell_type": "markdown",
   "id": "acute-tyler",
   "metadata": {},
   "source": [
    "###"
   ]
  },
  {
   "cell_type": "code",
   "execution_count": null,
   "id": "healthy-links",
   "metadata": {},
   "outputs": [],
   "source": []
  },
  {
   "cell_type": "markdown",
   "id": "minus-default",
   "metadata": {},
   "source": [
    "###"
   ]
  },
  {
   "cell_type": "code",
   "execution_count": null,
   "id": "saving-hungary",
   "metadata": {},
   "outputs": [],
   "source": []
  },
  {
   "cell_type": "markdown",
   "id": "supposed-smoke",
   "metadata": {
    "ExecuteTime": {
     "end_time": "2021-10-13T19:17:52.065054Z",
     "start_time": "2021-10-13T19:17:52.049099Z"
    }
   },
   "source": [
    "###"
   ]
  },
  {
   "cell_type": "code",
   "execution_count": 25,
   "id": "cooked-valve",
   "metadata": {
    "ExecuteTime": {
     "end_time": "2021-10-11T10:28:59.887872Z",
     "start_time": "2021-10-11T10:28:56.372336Z"
    },
    "scrolled": false
   },
   "outputs": [
    {
     "name": "stdout",
     "output_type": "stream",
     "text": [
      "Graminor_2019_Simps\n",
      "Train dataset: Graminor_2019_Simps 0    \n",
      " Test dataset: Graminor_2019_Simps 0\n",
      "=>\n",
      "RUNNING TRAINING\n",
      "RandomForestRegressor(n_jobs=-1, random_state=1)\n",
      "{   'MSE': 215.96372463485068,\n",
      "    'RMSE': 14.695704291896005,\n",
      "    'R2 Score': 0.9097560684688553}\n",
      "{   'MSE': 217.65290334056007,\n",
      "    'RMSE': 14.753064201736535,\n",
      "    'R2 Score': 0.9015998920905091}\n",
      "=============================================\n",
      "Graminor_2020_Simps\n",
      "Train dataset: Graminor_2020_Simps 0    \n",
      " Test dataset: Graminor_2020_Simps 0\n",
      "=>\n",
      "RUNNING TRAINING\n",
      "RandomForestRegressor(n_jobs=-1, random_state=1)\n",
      "{   'MSE': 285.833139991484,\n",
      "    'RMSE': 16.906600485948793,\n",
      "    'R2 Score': 0.8719430078159304}\n",
      "{   'MSE': 373.7871441690167,\n",
      "    'RMSE': 19.33357556607201,\n",
      "    'R2 Score': 0.9671246349333256}\n",
      "=============================================\n",
      "Masbasis_2019_Simps\n",
      "Train dataset: Masbasis_2019_Simps 0    \n",
      " Test dataset: Masbasis_2019_Simps 0\n",
      "=>\n",
      "RUNNING TRAINING\n",
      "RandomForestRegressor(n_jobs=-1, random_state=1)\n",
      "{   'MSE': 985.938875187602,\n",
      "    'RMSE': 31.399663615835156,\n",
      "    'R2 Score': 0.8502822456548471}\n",
      "{   'MSE': 895.2736994200185,\n",
      "    'RMSE': 29.92112463494677,\n",
      "    'R2 Score': 0.8681110369316636}\n",
      "=============================================\n",
      "Masbasis_2020_Simps\n",
      "Train dataset: Masbasis_2020_Simps 0    \n",
      " Test dataset: Masbasis_2020_Simps 0\n",
      "=>\n",
      "RUNNING TRAINING\n",
      "RandomForestRegressor(n_jobs=-1, random_state=1)\n",
      "{   'MSE': 838.3038845728051,\n",
      "    'RMSE': 28.95347793569548,\n",
      "    'R2 Score': 0.8789862237608639}\n",
      "{   'MSE': 975.8372586332509,\n",
      "    'RMSE': 31.238393982937904,\n",
      "    'R2 Score': 0.9078655054795448}\n",
      "=============================================\n",
      "Robot_2020_Simps\n",
      "Train dataset: Robot_2020_Simps 0    \n",
      " Test dataset: Robot_2020_Simps 0\n",
      "=>\n",
      "RUNNING TRAINING\n",
      "RandomForestRegressor(n_jobs=-1, random_state=1)\n",
      "{   'MSE': 319.27228133846455,\n",
      "    'RMSE': 17.868191887778252,\n",
      "    'R2 Score': 0.9368176307277265}\n",
      "{   'MSE': 341.3085041164919,\n",
      "    'RMSE': 18.47453664145577,\n",
      "    'R2 Score': 0.9660805031522071}\n",
      "=============================================\n",
      "Staur_2019_Simps\n",
      "Train dataset: Staur_2019_Simps 0    \n",
      " Test dataset: Staur_2019_Simps 0\n",
      "=>\n",
      "RUNNING TRAINING\n",
      "RandomForestRegressor(n_jobs=-1, random_state=1)\n",
      "{   'MSE': 819.7022353622273,\n",
      "    'RMSE': 28.63044245837335,\n",
      "    'R2 Score': 0.9046559131181652}\n",
      "{   'MSE': 740.5948865254475,\n",
      "    'RMSE': 27.213873052644445,\n",
      "    'R2 Score': 0.9180541511185873}\n",
      "=============================================\n",
      "Staur_2020_Simps\n",
      "Train dataset: Staur_2020_Simps 0    \n",
      " Test dataset: Staur_2020_Simps 0\n",
      "=>\n",
      "RUNNING TRAINING\n",
      "RandomForestRegressor(n_jobs=-1, random_state=1)\n",
      "{   'MSE': 327.3106819034846,\n",
      "    'RMSE': 18.09172965483081,\n",
      "    'R2 Score': 0.9291425235449859}\n",
      "{   'MSE': 346.4422777403264,\n",
      "    'RMSE': 18.612959940329922,\n",
      "    'R2 Score': 0.9574443640814506}\n",
      "=============================================\n"
     ]
    }
   ],
   "source": [
    "# Iterating through all possible permutations of the fields dataset\n",
    "results = []\n",
    "for df in all_df_simps:\n",
    "    print(df)\n",
    "    df_ = locals()[df]\n",
    "\n",
    "    train_size = int(0.7*df_.shape[0])\n",
    "    test_size = df_.shape[0] - train_size\n",
    "\n",
    "    train_df = df_.iloc[:train_size, :].copy()\n",
    "    test_df = df_.iloc[:test_size, :].copy()\n",
    "\n",
    "    print(f\"Train dataset: {df} {train_df['GrainYield'].isna().sum()}\\\n",
    "    \\n Test dataset: {df} {test_df['GrainYield'].isna().sum()}\")\n",
    "    print('=>')\n",
    "\n",
    "\n",
    "    # Dropping entries with grainyield missing\n",
    "    train_df.dropna(subset=['GrainYield'], inplace=True)\n",
    "    test_df.dropna(subset=['GrainYield'], inplace=True)\n",
    "\n",
    "    #==============================================================================\n",
    "    # Create separate train/test splits from Main data\n",
    "    #==============================================================================\n",
    "    X_train, y_train, = train_df[[x for x in train_df.columns if x not in yield_cols+id_cols_new]], train_df['GrainYield']\n",
    "    X_test, y_test = test_df[[x for x in test_df.columns if x not in yield_cols+id_cols_new]], test_df['GrainYield']\n",
    "    features = X_train.columns\n",
    "\n",
    "    #==============================================================================\n",
    "    # Scale features using StandardScaler class in scikit-learn \n",
    "    #==============================================================================\n",
    "\n",
    "    # Initialise standard scaler and compute mean and STD from training data\n",
    "    sc = StandardScaler()\n",
    "    sc.fit(X_train)\n",
    "\n",
    "    # Transform (standardise) both X_train and X_test with mean and STD from\n",
    "    # training data\n",
    "    X_train_std = sc.transform(X_train)\n",
    "    X_test_std = sc.transform(X_test)\n",
    "    print('RUNNING TRAINING')\n",
    "\n",
    "    for model in models:\n",
    "        print(model)\n",
    "        acc, acc_train, imp = test_data_regression(model, features, X_train, X_train_std, y_train, X_test, X_test_std, y_test)\n",
    "#         plot_feature_importance(imp,features,model)\n",
    "    #         results.append([i[0], i[1], model, acc, acc_std, imp, imp_std])\n",
    "        print('=============================================')\n"
   ]
  },
  {
   "cell_type": "code",
   "execution_count": 26,
   "id": "continued-australian",
   "metadata": {
    "ExecuteTime": {
     "end_time": "2021-10-11T10:29:22.674758Z",
     "start_time": "2021-10-11T10:29:18.353842Z"
    },
    "scrolled": false
   },
   "outputs": [
    {
     "name": "stdout",
     "output_type": "stream",
     "text": [
      "Graminor_2019_Trapz\n",
      "Train dataset: Graminor_2019_Trapz 0    \n",
      " Test dataset: Graminor_2019_Trapz 0\n",
      "=>\n",
      "RUNNING TRAINING\n",
      "RandomForestRegressor(n_jobs=-1, random_state=1)\n",
      "{   'MSE': 203.9007203903881,\n",
      "    'RMSE': 14.279380952631948,\n",
      "    'R2 Score': 0.9147967896869107}\n",
      "{   'MSE': 213.18579356396327,\n",
      "    'RMSE': 14.600883314510916,\n",
      "    'R2 Score': 0.9036194566233693}\n",
      "=============================================\n",
      "Graminor_2020_Trapz\n",
      "Train dataset: Graminor_2020_Trapz 0    \n",
      " Test dataset: Graminor_2020_Trapz 0\n",
      "=>\n",
      "RUNNING TRAINING\n",
      "RandomForestRegressor(n_jobs=-1, random_state=1)\n",
      "{   'MSE': 244.4136790215318,\n",
      "    'RMSE': 15.633735286921414,\n",
      "    'R2 Score': 0.8904994690781044}\n",
      "{   'MSE': 310.7497509985957,\n",
      "    'RMSE': 17.6280955011764,\n",
      "    'R2 Score': 0.9726689061734087}\n",
      "=============================================\n",
      "Masbasis_2019_Trapz\n",
      "Train dataset: Masbasis_2019_Trapz 0    \n",
      " Test dataset: Masbasis_2019_Trapz 0\n",
      "=>\n",
      "RUNNING TRAINING\n",
      "RandomForestRegressor(n_jobs=-1, random_state=1)\n",
      "{   'MSE': 992.7529814991248,\n",
      "    'RMSE': 31.507982821804458,\n",
      "    'R2 Score': 0.8492475033188821}\n",
      "{   'MSE': 894.6842099133077,\n",
      "    'RMSE': 29.911272288441822,\n",
      "    'R2 Score': 0.8681978787095804}\n",
      "=============================================\n",
      "Masbasis_2020_Trapz\n",
      "Train dataset: Masbasis_2020_Trapz 0    \n",
      " Test dataset: Masbasis_2020_Trapz 0\n",
      "=>\n",
      "RUNNING TRAINING\n",
      "RandomForestRegressor(n_jobs=-1, random_state=1)\n",
      "{   'MSE': 863.3639420919396,\n",
      "    'RMSE': 29.383055356649685,\n",
      "    'R2 Score': 0.8753686666327517}\n",
      "{   'MSE': 994.8418274352586,\n",
      "    'RMSE': 31.541113287822586,\n",
      "    'R2 Score': 0.9060711731514222}\n",
      "=============================================\n",
      "Robot_2020_Trapz\n",
      "Train dataset: Robot_2020_Trapz 0    \n",
      " Test dataset: Robot_2020_Trapz 0\n",
      "=>\n",
      "RUNNING TRAINING\n",
      "RandomForestRegressor(n_jobs=-1, random_state=1)\n",
      "{   'MSE': 247.67799680843143,\n",
      "    'RMSE': 15.737788815727304,\n",
      "    'R2 Score': 0.9509857774393583}\n",
      "{   'MSE': 344.9211369519888,\n",
      "    'RMSE': 18.572052577784415,\n",
      "    'R2 Score': 0.9657214769732577}\n",
      "=============================================\n",
      "Staur_2019_Trapz\n",
      "Train dataset: Staur_2019_Trapz 0    \n",
      " Test dataset: Staur_2019_Trapz 0\n",
      "=>\n",
      "RUNNING TRAINING\n",
      "RandomForestRegressor(n_jobs=-1, random_state=1)\n",
      "{   'MSE': 754.6882783803029,\n",
      "    'RMSE': 27.47159038680329,\n",
      "    'R2 Score': 0.9122180449455565}\n",
      "{   'MSE': 701.9425367134177,\n",
      "    'RMSE': 26.494198170796142,\n",
      "    'R2 Score': 0.922330982722797}\n",
      "=============================================\n",
      "Staur_2020_Trapz\n",
      "Train dataset: Staur_2020_Trapz 0    \n",
      " Test dataset: Staur_2020_Trapz 0\n",
      "=>\n",
      "RUNNING TRAINING\n",
      "RandomForestRegressor(n_jobs=-1, random_state=1)\n",
      "{   'MSE': 322.80450280175234,\n",
      "    'RMSE': 17.96676105484103,\n",
      "    'R2 Score': 0.9301180385442099}\n",
      "{   'MSE': 339.9512474576476,\n",
      "    'RMSE': 18.437766878275895,\n",
      "    'R2 Score': 0.9582416972569732}\n",
      "=============================================\n"
     ]
    }
   ],
   "source": [
    "# Iterating through all possible permutations of the fields dataset\n",
    "results = []\n",
    "for df in all_df_trapz:\n",
    "    print(df)\n",
    "    df_ = locals()[df]\n",
    "\n",
    "    train_size = int(0.7*df_.shape[0])\n",
    "    test_size = df_.shape[0] - train_size\n",
    "\n",
    "    train_df = df_.iloc[:train_size, :].copy()\n",
    "    test_df = df_.iloc[:test_size, :].copy()\n",
    "\n",
    "    print(f\"Train dataset: {df} {train_df['GrainYield'].isna().sum()}\\\n",
    "    \\n Test dataset: {df} {test_df['GrainYield'].isna().sum()}\")\n",
    "    print('=>')\n",
    "\n",
    "\n",
    "    # Dropping entries with grainyield missing\n",
    "    train_df.dropna(subset=['GrainYield'], inplace=True)\n",
    "    test_df.dropna(subset=['GrainYield'], inplace=True)\n",
    "\n",
    "    #==============================================================================\n",
    "    # Create separate train/test splits from Main data\n",
    "    #==============================================================================\n",
    "    X_train, y_train, = train_df[[x for x in train_df.columns if x not in yield_cols+id_cols_new]], train_df['GrainYield']\n",
    "    X_test, y_test = test_df[[x for x in test_df.columns if x not in yield_cols+id_cols_new]], test_df['GrainYield']\n",
    "    features = X_train.columns\n",
    "\n",
    "    #==============================================================================\n",
    "    # Scale features using StandardScaler class in scikit-learn \n",
    "    #==============================================================================\n",
    "\n",
    "    # Initialise standard scaler and compute mean and STD from training data\n",
    "    sc = StandardScaler()\n",
    "    sc.fit(X_train)\n",
    "\n",
    "    # Transform (standardise) both X_train and X_test with mean and STD from\n",
    "    # training data\n",
    "    X_train_std = sc.transform(X_train)\n",
    "    X_test_std = sc.transform(X_test)\n",
    "    print('RUNNING TRAINING')\n",
    "\n",
    "    for model in models:\n",
    "        print(model)\n",
    "        acc, acc_train, imp = test_data_regression(model, features, X_train, X_train_std, y_train, X_test, X_test_std, y_test)\n",
    "#         plot_feature_importance(imp,features,model)\n",
    "    #         results.append([i[0], i[1], model, acc, acc_std, imp, imp_std])\n",
    "        print('=============================================')\n"
   ]
  },
  {
   "cell_type": "code",
   "execution_count": null,
   "id": "opposed-controversy",
   "metadata": {},
   "outputs": [],
   "source": []
  },
  {
   "cell_type": "code",
   "execution_count": null,
   "id": "national-player",
   "metadata": {},
   "outputs": [],
   "source": []
  },
  {
   "cell_type": "code",
   "execution_count": null,
   "id": "thick-offset",
   "metadata": {},
   "outputs": [],
   "source": []
  },
  {
   "cell_type": "code",
   "execution_count": 25,
   "id": "antique-newspaper",
   "metadata": {
    "ExecuteTime": {
     "end_time": "2021-10-11T10:02:11.701569Z",
     "start_time": "2021-10-11T10:02:11.675038Z"
    }
   },
   "outputs": [
    {
     "ename": "IndentationError",
     "evalue": "expected an indented block (<ipython-input-25-403244a3a9a4>, line 43)",
     "output_type": "error",
     "traceback": [
      "\u001b[1;36m  File \u001b[1;32m\"<ipython-input-25-403244a3a9a4>\"\u001b[1;36m, line \u001b[1;32m43\u001b[0m\n\u001b[1;33m    for model in models:\u001b[0m\n\u001b[1;37m    ^\u001b[0m\n\u001b[1;31mIndentationError\u001b[0m\u001b[1;31m:\u001b[0m expected an indented block\n"
     ]
    }
   ],
   "source": [
    "# # Iterating through all possible permutations of the fields dataset\n",
    "# results = []\n",
    "# for df in all_df_simps:\n",
    "#     df_ = locals()[df]\n",
    "\n",
    "#     train_size = int(0.7*df_.shape[0])\n",
    "#     test_size = df_.shape[0] - train_size\n",
    "    \n",
    "#     train_df = df_.iloc[:train_size, :].copy()\n",
    "#     test_df = df_.iloc[:test_size, :].copy()\n",
    "    \n",
    "#     print(f\"Train dataset: {df} {train_df['GrainYield'].isna().sum()}\\\n",
    "#     \\n Test dataset: {df} {test_df['GrainYield'].isna().sum()}\")\n",
    "#     print('=>')\n",
    "# #     print(f\"Missing values in {i[0]} {train_df['GrainYield'].isna().sum()}\\\n",
    "# #     \\n Missing values in {i[1]} {test_df['GrainYield'].isna().sum()}\")\n",
    "#     # Dropping entries with grainyield missing\n",
    "#     train_df.dropna(subset=['GrainYield'], inplace=True)\n",
    "#     test_df.dropna(subset=['GrainYield'], inplace=True)\n",
    "\n",
    "#     #==============================================================================\n",
    "#     # Create separate train/test splits from Main data\n",
    "#     #==============================================================================\n",
    "#     X_train, y_train, = train_df[[x for x in train_df.columns if x not in yield_cols+id_cols_new]], train_df['GrainYield']\n",
    "#     X_test, y_test = test_df[[x for x in test_df.columns if x not in yield_cols+id_cols_new]], test_df['GrainYield']\n",
    "#     features = X_train.columns\n",
    "\n",
    "#     #==============================================================================\n",
    "#     # Scale features using StandardScaler class in scikit-learn \n",
    "#     #==============================================================================\n",
    "\n",
    "#     # Initialise standard scaler and compute mean and STD from training data\n",
    "#     sc = StandardScaler()\n",
    "#     sc.fit(X_train)\n",
    "\n",
    "#     # Transform (standardise) both X_train and X_test with mean and STD from\n",
    "#     # training data\n",
    "#     X_train_std = sc.transform(X_train)\n",
    "#     X_test_std = sc.transform(X_test)\n",
    "#     print('RUNNING TRAINING')\n",
    "    \n",
    "#     for model in models:\n",
    "#     for model in models:\n",
    "#         print(model)\n",
    "#         acc, acc_train, imp = test_data_regression(model, features, X_train, X_train_std, y_train, X_test, X_test_std, y_test)\n",
    "# #         results.append([i[0], i[1], model, acc, acc_std, imp, imp_std])\n",
    "#         print('=============================================')\n",
    "\n",
    "\n",
    "# #         accuracy = {}\n",
    "# #         accuracy_train =  {}\n",
    "# #         print(model)\n",
    "# #         # Predict classes for samples in test set\n",
    "# #         model.fit(X_train, y_train)\n",
    "# #         print('Training complete')\n",
    "# #         y_pred = model.predict(X_test)\n",
    "# #         y_pred_train = model.predict(X_train)\n",
    "        \n",
    "# #         success = False\n",
    "# #         while not success:\n",
    "# #             try:\n",
    "# #                 importances = model.feature_importances_\n",
    "# #                 success = True\n",
    "# #                 plot_feature_importance(importance,names,model_type)\n",
    "# #             except:\n",
    "# #                 importances = None\n",
    "# #                 pass\n",
    "# #         print(importances)\n",
    "\n",
    "\n",
    "# #         mse = mean_squared_error(y_test, y_pred, squared=True)\n",
    "# #         #mse_std = mean_squared_error(y_test, y_pred_std, squared=True)\n",
    "# #         mse_train = mean_squared_error(y_train, y_pred_train, squared=True)\n",
    "\n",
    "# #         accuracy['MSE'] = mse\n",
    "# #         #accuracy_std['MSE'] = mse_std\n",
    "# #         accuracy_train['MSE'] = mse_train\n",
    "\n",
    "# #         rmse = mean_squared_error(y_test, y_pred, squared=False)\n",
    "# #         #rmse_std = mean_squared_error(y_test, y_pred_std, squared=False)\n",
    "# #         rmse_train = mean_squared_error(y_train, y_pred_train, squared=False)\n",
    "\n",
    "# #         accuracy['RMSE'] = rmse\n",
    "# #         #accuracy_std['RMSE'] = rmse_std\n",
    "# #         accuracy_train['RMSE'] = rmse_train\n",
    "\n",
    "# #         r2 = r2_score(y_test, y_pred)\n",
    "# #         #r2_std = r2_score(y_test, y_pred_std)\n",
    "# #         r2_train = r2_score(y_train, y_pred_train)\n",
    "\n",
    "# #         accuracy['R2 Score'] = r2\n",
    "# #         #accuracy_std['R2 Score'] = r2_std\n",
    "# #         accuracy_train['R2 Score'] = r2_train\n",
    "# #         print(accuracy)\n",
    "# #         print(accuracy_train)\n",
    "# #         acc, acc_std, imp, imp_std = test_data_regression(model, features, X_train, X_train_std, y_train, X_test, X_test_std, y_test)\n",
    "# #         results.append([i[0], i[1], model, acc, acc_std, imp, imp_std])\n",
    "#         print('=============================================')"
   ]
  },
  {
   "cell_type": "code",
   "execution_count": 35,
   "id": "employed-plain",
   "metadata": {
    "ExecuteTime": {
     "end_time": "2021-10-07T09:51:36.114608Z",
     "start_time": "2021-10-07T09:51:36.109621Z"
    }
   },
   "outputs": [
    {
     "data": {
      "text/plain": [
       "{'MSE': 6878.8159028271475,\n",
       " 'RMSE': 82.93862732663924,\n",
       " 'R2 Score': 0.16027485579267986}"
      ]
     },
     "execution_count": 35,
     "metadata": {},
     "output_type": "execute_result"
    }
   ],
   "source": [
    "accuracy"
   ]
  },
  {
   "cell_type": "code",
   "execution_count": 36,
   "id": "criminal-doubt",
   "metadata": {
    "ExecuteTime": {
     "end_time": "2021-10-07T09:51:41.134007Z",
     "start_time": "2021-10-07T09:51:41.128629Z"
    }
   },
   "outputs": [
    {
     "data": {
      "text/plain": [
       "{'MSE': 6671.577292858724,\n",
       " 'RMSE': 81.6797238784432,\n",
       " 'R2 Score': 0.09469069367102434}"
      ]
     },
     "execution_count": 36,
     "metadata": {},
     "output_type": "execute_result"
    }
   ],
   "source": [
    "accuracy_train"
   ]
  },
  {
   "cell_type": "code",
   "execution_count": null,
   "id": "constitutional-virginia",
   "metadata": {},
   "outputs": [],
   "source": []
  },
  {
   "cell_type": "code",
   "execution_count": null,
   "id": "theoretical-oregon",
   "metadata": {},
   "outputs": [],
   "source": []
  },
  {
   "cell_type": "code",
   "execution_count": 27,
   "id": "6195c77d",
   "metadata": {
    "ExecuteTime": {
     "end_time": "2021-10-11T10:31:13.994375Z",
     "start_time": "2021-10-11T10:30:46.327793Z"
    },
    "scrolled": false
   },
   "outputs": [
    {
     "name": "stdout",
     "output_type": "stream",
     "text": [
      "Train dataset: Graminor_2019_Simps 0    \n",
      " Test dataset: Graminor_2020_Simps 0\n",
      "=>\n",
      "RandomForestRegressor(n_jobs=-1, random_state=1)\n",
      "{   'MSE': 18547.01836164868,\n",
      "    'RMSE': 136.18743834013722,\n",
      "    'R2 Score': -0.8646786364715184}\n",
      "{   'MSE': 264.2443950398644,\n",
      "    'RMSE': 16.25559580697873,\n",
      "    'R2 Score': 0.8956659805877796}\n",
      "=============================================\n",
      "Train dataset: Graminor_2019_Simps 0    \n",
      " Test dataset: Masbasis_2019_Simps 0\n",
      "=>\n",
      "RandomForestRegressor(n_jobs=-1, random_state=1)\n",
      "{   'MSE': 7317.530229541974,\n",
      "    'RMSE': 85.54256384713972,\n",
      "    'R2 Score': -0.02919427293140897}\n",
      "{   'MSE': 264.24439503986446,\n",
      "    'RMSE': 16.25559580697873,\n",
      "    'R2 Score': 0.8956659805877796}\n",
      "=============================================\n",
      "Train dataset: Graminor_2019_Simps 0    \n",
      " Test dataset: Masbasis_2020_Simps 0\n",
      "=>\n",
      "RandomForestRegressor(n_jobs=-1, random_state=1)\n",
      "{   'MSE': 17191.259914396378,\n",
      "    'RMSE': 131.1154449879814,\n",
      "    'R2 Score': -0.881609435618234}\n",
      "{   'MSE': 264.24439503986446,\n",
      "    'RMSE': 16.25559580697873,\n",
      "    'R2 Score': 0.8956659805877796}\n",
      "=============================================\n",
      "Train dataset: Graminor_2019_Simps 0    \n",
      " Test dataset: Robot_2020_Simps 0\n",
      "=>\n",
      "RandomForestRegressor(n_jobs=-1, random_state=1)\n",
      "{   'MSE': 10659.857999535829,\n",
      "    'RMSE': 103.24658831911023,\n",
      "    'R2 Score': -0.05846481588258712}\n",
      "{   'MSE': 264.2443950398644,\n",
      "    'RMSE': 16.25559580697873,\n",
      "    'R2 Score': 0.8956659805877796}\n",
      "=============================================\n",
      "Train dataset: Graminor_2019_Simps 0    \n",
      " Test dataset: Staur_2019_Simps 0\n",
      "=>\n",
      "RandomForestRegressor(n_jobs=-1, random_state=1)\n",
      "{   'MSE': 14118.132060850858,\n",
      "    'RMSE': 118.81974608982658,\n",
      "    'R2 Score': -0.5651694742352242}\n",
      "{   'MSE': 264.24439503986446,\n",
      "    'RMSE': 16.25559580697873,\n",
      "    'R2 Score': 0.8956659805877796}\n",
      "=============================================\n",
      "Train dataset: Graminor_2019_Simps 0    \n",
      " Test dataset: Staur_2020_Simps 0\n",
      "=>\n",
      "RandomForestRegressor(n_jobs=-1, random_state=1)\n",
      "{   'MSE': 8193.907183642452,\n",
      "    'RMSE': 90.52020317941432,\n",
      "    'R2 Score': -0.05466616346154107}\n",
      "{   'MSE': 264.2443950398644,\n",
      "    'RMSE': 16.25559580697873,\n",
      "    'R2 Score': 0.8956659805877796}\n",
      "=============================================\n",
      "Train dataset: Graminor_2020_Simps 0    \n",
      " Test dataset: Graminor_2019_Simps 0\n",
      "=>\n",
      "RandomForestRegressor(n_jobs=-1, random_state=1)\n",
      "{   'MSE': 6807.173133427004,\n",
      "    'RMSE': 82.50559455835104,\n",
      "    'R2 Score': -1.687738121136583}\n",
      "{   'MSE': 353.1160987644716,\n",
      "    'RMSE': 18.79138363092169,\n",
      "    'R2 Score': 0.9644984421365642}\n",
      "=============================================\n",
      "Train dataset: Graminor_2020_Simps 0    \n",
      " Test dataset: Masbasis_2019_Simps 0\n",
      "=>\n",
      "RandomForestRegressor(n_jobs=-1, random_state=1)\n",
      "{   'MSE': 24623.600460930782,\n",
      "    'RMSE': 156.91908889912273,\n",
      "    'R2 Score': -2.4632543738637103}\n",
      "{   'MSE': 353.1160987644716,\n",
      "    'RMSE': 18.79138363092169,\n",
      "    'R2 Score': 0.9644984421365642}\n",
      "=============================================\n",
      "Train dataset: Graminor_2020_Simps 0    \n",
      " Test dataset: Masbasis_2020_Simps 0\n",
      "=>\n",
      "RandomForestRegressor(n_jobs=-1, random_state=1)\n",
      "{   'MSE': 23625.545678563412,\n",
      "    'RMSE': 153.70603657164352,\n",
      "    'R2 Score': -1.5858517579149396}\n",
      "{   'MSE': 353.11609876447153,\n",
      "    'RMSE': 18.791383630921686,\n",
      "    'R2 Score': 0.9644984421365642}\n",
      "=============================================\n",
      "Train dataset: Graminor_2020_Simps 0    \n",
      " Test dataset: Robot_2020_Simps 0\n",
      "=>\n",
      "RandomForestRegressor(n_jobs=-1, random_state=1)\n",
      "{   'MSE': 12521.729682353762,\n",
      "    'RMSE': 111.90053477242083,\n",
      "    'R2 Score': -0.2433383543515515}\n",
      "{   'MSE': 353.11609876447153,\n",
      "    'RMSE': 18.791383630921686,\n",
      "    'R2 Score': 0.9644984421365642}\n",
      "=============================================\n",
      "Train dataset: Graminor_2020_Simps 0    \n",
      " Test dataset: Staur_2019_Simps 0\n",
      "=>\n",
      "RandomForestRegressor(n_jobs=-1, random_state=1)\n",
      "{   'MSE': 55439.727711978456,\n",
      "    'RMSE': 235.45642423170037,\n",
      "    'R2 Score': -5.146179190044479}\n",
      "{   'MSE': 353.11609876447153,\n",
      "    'RMSE': 18.791383630921686,\n",
      "    'R2 Score': 0.9644984421365642}\n",
      "=============================================\n",
      "Train dataset: Graminor_2020_Simps 0    \n",
      " Test dataset: Staur_2020_Simps 0\n",
      "=>\n",
      "RandomForestRegressor(n_jobs=-1, random_state=1)\n",
      "{   'MSE': 12685.084993027476,\n",
      "    'RMSE': 112.62808261276348,\n",
      "    'R2 Score': -0.6327412091617906}\n",
      "{   'MSE': 353.11609876447153,\n",
      "    'RMSE': 18.791383630921686,\n",
      "    'R2 Score': 0.9644984421365642}\n",
      "=============================================\n",
      "Train dataset: Masbasis_2019_Simps 0    \n",
      " Test dataset: Graminor_2019_Simps 0\n",
      "=>\n",
      "RandomForestRegressor(n_jobs=-1, random_state=1)\n",
      "{   'MSE': 3148.1785767871484,\n",
      "    'RMSE': 56.10863192760227,\n",
      "    'R2 Score': -0.24302399940817776}\n",
      "{   'MSE': 1014.2033440161376,\n",
      "    'RMSE': 31.84655937485457,\n",
      "    'R2 Score': 0.8573545662940667}\n",
      "=============================================\n",
      "Train dataset: Masbasis_2019_Simps 0    \n",
      " Test dataset: Graminor_2020_Simps 0\n",
      "=>\n",
      "RandomForestRegressor(n_jobs=-1, random_state=1)\n",
      "{   'MSE': 25690.488006735904,\n",
      "    'RMSE': 160.28252558134935,\n",
      "    'R2 Score': -1.5828682116228778}\n",
      "{   'MSE': 1014.2033440161376,\n",
      "    'RMSE': 31.84655937485457,\n",
      "    'R2 Score': 0.8573545662940667}\n",
      "=============================================\n",
      "Train dataset: Masbasis_2019_Simps 0    \n",
      " Test dataset: Masbasis_2020_Simps 0\n",
      "=>\n",
      "RandomForestRegressor(n_jobs=-1, random_state=1)\n",
      "{   'MSE': 19122.041692985193,\n",
      "    'RMSE': 138.28247066416333,\n",
      "    'R2 Score': -1.0929364256586864}\n",
      "{   'MSE': 1014.2033440161374,\n",
      "    'RMSE': 31.846559374854568,\n",
      "    'R2 Score': 0.8573545662940667}\n",
      "=============================================\n",
      "Train dataset: Masbasis_2019_Simps 0    \n",
      " Test dataset: Robot_2020_Simps 0\n",
      "=>\n",
      "RandomForestRegressor(n_jobs=-1, random_state=1)\n",
      "{   'MSE': 10939.9009044691,\n",
      "    'RMSE': 104.5939812057515,\n",
      "    'R2 Score': -0.08627152417291573}\n",
      "{   'MSE': 1014.2033440161376,\n",
      "    'RMSE': 31.84655937485457,\n",
      "    'R2 Score': 0.8573545662940667}\n",
      "=============================================\n",
      "Train dataset: Masbasis_2019_Simps 0    \n",
      " Test dataset: Staur_2019_Simps 0\n",
      "=>\n",
      "RandomForestRegressor(n_jobs=-1, random_state=1)\n",
      "{   'MSE': 11943.081332445336,\n",
      "    'RMSE': 109.28440571483809,\n",
      "    'R2 Score': -0.3240382119449743}\n",
      "{   'MSE': 1014.2033440161376,\n",
      "    'RMSE': 31.84655937485457,\n",
      "    'R2 Score': 0.8573545662940667}\n",
      "=============================================\n",
      "Train dataset: Masbasis_2019_Simps 0    \n",
      " Test dataset: Staur_2020_Simps 0\n",
      "=>\n",
      "RandomForestRegressor(n_jobs=-1, random_state=1)\n",
      "{   'MSE': 9937.973465139747,\n",
      "    'RMSE': 99.68938491704995,\n",
      "    'R2 Score': -0.2791509730529176}\n",
      "{   'MSE': 1014.2033440161379,\n",
      "    'RMSE': 31.846559374854575,\n",
      "    'R2 Score': 0.8573545662940667}\n",
      "=============================================\n",
      "Train dataset: Masbasis_2020_Simps 0    \n",
      " Test dataset: Graminor_2019_Simps 0\n",
      "=>\n",
      "RandomForestRegressor(n_jobs=-1, random_state=1)\n",
      "{   'MSE': 11780.737736426086,\n",
      "    'RMSE': 108.53910694503658,\n",
      "    'R2 Score': -3.6514958983221852}\n",
      "{   'MSE': 893.9976945409036,\n",
      "    'RMSE': 29.89979422238393,\n",
      "    'R2 Score': 0.9021505982781148}\n",
      "=============================================\n",
      "Train dataset: Masbasis_2020_Simps 0    \n",
      " Test dataset: Graminor_2020_Simps 0\n",
      "=>\n",
      "RandomForestRegressor(n_jobs=-1, random_state=1)\n",
      "{   'MSE': 13511.052356622866,\n",
      "    'RMSE': 116.23705242573413,\n",
      "    'R2 Score': -0.35837309234233716}\n",
      "{   'MSE': 893.9976945409037,\n",
      "    'RMSE': 29.899794222383935,\n",
      "    'R2 Score': 0.9021505982781148}\n",
      "=============================================\n",
      "Train dataset: Masbasis_2020_Simps 0    \n",
      " Test dataset: Masbasis_2019_Simps 0\n",
      "=>\n",
      "RandomForestRegressor(n_jobs=-1, random_state=1)\n",
      "{   'MSE': 7579.777483951285,\n",
      "    'RMSE': 87.06191752971723,\n",
      "    'R2 Score': -0.06607876317108152}\n",
      "{   'MSE': 893.9976945409037,\n",
      "    'RMSE': 29.899794222383935,\n",
      "    'R2 Score': 0.9021505982781148}\n",
      "=============================================\n",
      "Train dataset: Masbasis_2020_Simps 0    \n",
      " Test dataset: Robot_2020_Simps 0\n",
      "=>\n",
      "RandomForestRegressor(n_jobs=-1, random_state=1)\n",
      "{   'MSE': 35522.41057439736,\n",
      "    'RMSE': 188.47389892077194,\n",
      "    'R2 Score': -2.527178483050373}\n",
      "{   'MSE': 893.9976945409035,\n",
      "    'RMSE': 29.89979422238393,\n",
      "    'R2 Score': 0.9021505982781148}\n",
      "=============================================\n",
      "Train dataset: Masbasis_2020_Simps 0    \n",
      " Test dataset: Staur_2019_Simps 0\n",
      "=>\n",
      "RandomForestRegressor(n_jobs=-1, random_state=1)\n"
     ]
    },
    {
     "name": "stdout",
     "output_type": "stream",
     "text": [
      "{   'MSE': 18467.131957113605,\n",
      "    'RMSE': 135.8938260448708,\n",
      "    'R2 Score': -1.0473098772109117}\n",
      "{   'MSE': 893.9976945409032,\n",
      "    'RMSE': 29.899794222383928,\n",
      "    'R2 Score': 0.9021505982781148}\n",
      "=============================================\n",
      "Train dataset: Masbasis_2020_Simps 0    \n",
      " Test dataset: Staur_2020_Simps 0\n",
      "=>\n",
      "RandomForestRegressor(n_jobs=-1, random_state=1)\n",
      "{   'MSE': 22661.021743020116,\n",
      "    'RMSE': 150.53578226793826,\n",
      "    'R2 Score': -1.916778568048822}\n",
      "{   'MSE': 893.9976945409037,\n",
      "    'RMSE': 29.899794222383935,\n",
      "    'R2 Score': 0.9021505982781148}\n",
      "=============================================\n",
      "Train dataset: Robot_2020_Simps 0    \n",
      " Test dataset: Graminor_2019_Simps 0\n",
      "=>\n",
      "RandomForestRegressor(n_jobs=-1, random_state=1)\n",
      "{   'MSE': 23921.059620246753,\n",
      "    'RMSE': 154.6643450192925,\n",
      "    'R2 Score': -8.444969678176856}\n",
      "{   'MSE': 344.74544476521686,\n",
      "    'RMSE': 18.56732195997088,\n",
      "    'R2 Score': 0.9657686881255205}\n",
      "=============================================\n",
      "Train dataset: Robot_2020_Simps 0    \n",
      " Test dataset: Graminor_2020_Simps 0\n",
      "=>\n",
      "RandomForestRegressor(n_jobs=-1, random_state=1)\n",
      "{   'MSE': 46395.78283343974,\n",
      "    'RMSE': 215.39680321081772,\n",
      "    'R2 Score': -3.6645354733016386}\n",
      "{   'MSE': 344.7454447652164,\n",
      "    'RMSE': 18.56732195997087,\n",
      "    'R2 Score': 0.9657686881255205}\n",
      "=============================================\n",
      "Train dataset: Robot_2020_Simps 0    \n",
      " Test dataset: Masbasis_2019_Simps 0\n",
      "=>\n",
      "RandomForestRegressor(n_jobs=-1, random_state=1)\n",
      "{   'MSE': 22746.513303340344,\n",
      "    'RMSE': 150.81947256021135,\n",
      "    'R2 Score': -2.199246260226427}\n",
      "{   'MSE': 344.745444765217,\n",
      "    'RMSE': 18.567321959970883,\n",
      "    'R2 Score': 0.9657686881255205}\n",
      "=============================================\n",
      "Train dataset: Robot_2020_Simps 0    \n",
      " Test dataset: Masbasis_2020_Simps 0\n",
      "=>\n",
      "RandomForestRegressor(n_jobs=-1, random_state=1)\n",
      "{   'MSE': 49836.31859400032,\n",
      "    'RMSE': 223.2404949689915,\n",
      "    'R2 Score': -4.454660552506688}\n",
      "{   'MSE': 344.74544476521646,\n",
      "    'RMSE': 18.56732195997087,\n",
      "    'R2 Score': 0.9657686881255205}\n",
      "=============================================\n",
      "Train dataset: Robot_2020_Simps 0    \n",
      " Test dataset: Staur_2019_Simps 0\n",
      "=>\n",
      "RandomForestRegressor(n_jobs=-1, random_state=1)\n",
      "{   'MSE': 10170.948006995215,\n",
      "    'RMSE': 100.85111802550934,\n",
      "    'R2 Score': -0.12757532483536593}\n",
      "{   'MSE': 344.7454447652165,\n",
      "    'RMSE': 18.56732195997087,\n",
      "    'R2 Score': 0.9657686881255205}\n",
      "=============================================\n",
      "Train dataset: Robot_2020_Simps 0    \n",
      " Test dataset: Staur_2020_Simps 0\n",
      "=>\n",
      "RandomForestRegressor(n_jobs=-1, random_state=1)\n",
      "{   'MSE': 8899.685317948968,\n",
      "    'RMSE': 94.3381434942885,\n",
      "    'R2 Score': -0.14550931075152618}\n",
      "{   'MSE': 344.7454447652164,\n",
      "    'RMSE': 18.56732195997087,\n",
      "    'R2 Score': 0.9657686881255205}\n",
      "=============================================\n",
      "Train dataset: Staur_2019_Simps 0    \n",
      " Test dataset: Graminor_2019_Simps 0\n",
      "=>\n",
      "RandomForestRegressor(n_jobs=-1, random_state=1)\n",
      "{   'MSE': 40655.24857335762,\n",
      "    'RMSE': 201.63146722016785,\n",
      "    'R2 Score': -15.052281802311924}\n",
      "{   'MSE': 673.3905624326344,\n",
      "    'RMSE': 25.949769988048725,\n",
      "    'R2 Score': 0.9253463313691281}\n",
      "=============================================\n",
      "Train dataset: Staur_2019_Simps 0    \n",
      " Test dataset: Graminor_2020_Simps 0\n",
      "=>\n",
      "RandomForestRegressor(n_jobs=-1, random_state=1)\n",
      "{   'MSE': 82298.78897992043,\n",
      "    'RMSE': 286.8776550725421,\n",
      "    'R2 Score': -7.2741490101535575}\n",
      "{   'MSE': 673.3905624326344,\n",
      "    'RMSE': 25.949769988048725,\n",
      "    'R2 Score': 0.9253463313691281}\n",
      "=============================================\n",
      "Train dataset: Staur_2019_Simps 0    \n",
      " Test dataset: Masbasis_2019_Simps 0\n",
      "=>\n",
      "RandomForestRegressor(n_jobs=-1, random_state=1)\n",
      "{   'MSE': 28980.417859624537,\n",
      "    'RMSE': 170.23635880629183,\n",
      "    'R2 Score': -3.076031003995131}\n",
      "{   'MSE': 673.3905624326344,\n",
      "    'RMSE': 25.949769988048725,\n",
      "    'R2 Score': 0.9253463313691281}\n",
      "=============================================\n",
      "Train dataset: Staur_2019_Simps 0    \n",
      " Test dataset: Masbasis_2020_Simps 0\n",
      "=>\n",
      "RandomForestRegressor(n_jobs=-1, random_state=1)\n",
      "{   'MSE': 38057.04110855656,\n",
      "    'RMSE': 195.08213938891626,\n",
      "    'R2 Score': -3.1654007907590502}\n",
      "{   'MSE': 673.3905624326344,\n",
      "    'RMSE': 25.949769988048725,\n",
      "    'R2 Score': 0.9253463313691281}\n",
      "=============================================\n",
      "Train dataset: Staur_2019_Simps 0    \n",
      " Test dataset: Robot_2020_Simps 0\n",
      "=>\n",
      "RandomForestRegressor(n_jobs=-1, random_state=1)\n",
      "{   'MSE': 8679.130868742759,\n",
      "    'RMSE': 93.16185307701194,\n",
      "    'R2 Score': 0.13821040980051513}\n",
      "{   'MSE': 673.3905624326342,\n",
      "    'RMSE': 25.949769988048722,\n",
      "    'R2 Score': 0.9253463313691281}\n",
      "=============================================\n",
      "Train dataset: Staur_2019_Simps 0    \n",
      " Test dataset: Staur_2020_Simps 0\n",
      "=>\n",
      "RandomForestRegressor(n_jobs=-1, random_state=1)\n",
      "{   'MSE': 9063.855942181024,\n",
      "    'RMSE': 95.20428531416547,\n",
      "    'R2 Score': -0.16664028020619126}\n",
      "{   'MSE': 673.3905624326342,\n",
      "    'RMSE': 25.949769988048722,\n",
      "    'R2 Score': 0.9253463313691281}\n",
      "=============================================\n",
      "Train dataset: Staur_2020_Simps 0    \n",
      " Test dataset: Graminor_2019_Simps 0\n",
      "=>\n",
      "RandomForestRegressor(n_jobs=-1, random_state=1)\n",
      "{   'MSE': 13781.018263712573,\n",
      "    'RMSE': 117.39258180870107,\n",
      "    'R2 Score': -4.441284863693845}\n",
      "{   'MSE': 364.4516830257403,\n",
      "    'RMSE': 19.090617670094918,\n",
      "    'R2 Score': 0.9530901620326883}\n",
      "=============================================\n",
      "Train dataset: Staur_2020_Simps 0    \n",
      " Test dataset: Graminor_2020_Simps 0\n",
      "=>\n",
      "RandomForestRegressor(n_jobs=-1, random_state=1)\n",
      "{   'MSE': 48664.44173965927,\n",
      "    'RMSE': 220.60018526660232,\n",
      "    'R2 Score': -3.892621719477779}\n",
      "{   'MSE': 364.45168302573995,\n",
      "    'RMSE': 19.090617670094908,\n",
      "    'R2 Score': 0.9530901620326883}\n",
      "=============================================\n",
      "Train dataset: Staur_2020_Simps 0    \n",
      " Test dataset: Masbasis_2019_Simps 0\n",
      "=>\n",
      "RandomForestRegressor(n_jobs=-1, random_state=1)\n",
      "{   'MSE': 31309.961778389094,\n",
      "    'RMSE': 176.94621154008664,\n",
      "    'R2 Score': -3.4036761499017905}\n",
      "{   'MSE': 364.45168302574035,\n",
      "    'RMSE': 19.090617670094918,\n",
      "    'R2 Score': 0.9530901620326883}\n",
      "=============================================\n",
      "Train dataset: Staur_2020_Simps 0    \n",
      " Test dataset: Masbasis_2020_Simps 0\n",
      "=>\n",
      "RandomForestRegressor(n_jobs=-1, random_state=1)\n",
      "{   'MSE': 64494.65802348461,\n",
      "    'RMSE': 253.95798476024456,\n",
      "    'R2 Score': -6.0590380046744166}\n",
      "{   'MSE': 364.45168302574024,\n",
      "    'RMSE': 19.090617670094915,\n",
      "    'R2 Score': 0.9530901620326883}\n",
      "=============================================\n",
      "Train dataset: Staur_2020_Simps 0    \n",
      " Test dataset: Robot_2020_Simps 0\n",
      "=>\n",
      "RandomForestRegressor(n_jobs=-1, random_state=1)\n",
      "{   'MSE': 6174.10840562049,\n",
      "    'RMSE': 78.57549494352861,\n",
      "    'R2 Score': 0.38694525601759544}\n",
      "{   'MSE': 364.4516830257402,\n",
      "    'RMSE': 19.090617670094915,\n",
      "    'R2 Score': 0.9530901620326883}\n",
      "=============================================\n",
      "Train dataset: Staur_2020_Simps 0    \n",
      " Test dataset: Staur_2019_Simps 0\n",
      "=>\n",
      "RandomForestRegressor(n_jobs=-1, random_state=1)\n",
      "{   'MSE': 13096.846525295347,\n",
      "    'RMSE': 114.441454575234,\n",
      "    'R2 Score': -0.4519473469849764}\n",
      "{   'MSE': 364.4516830257401,\n",
      "    'RMSE': 19.090617670094915,\n",
      "    'R2 Score': 0.9530901620326883}\n",
      "=============================================\n"
     ]
    }
   ],
   "source": [
    "# Iterating through all possible permutations of the fields dataset\n",
    "results = []\n",
    "for i in itertools.permutations(all_df_simps, 2):\n",
    "\n",
    "#     train_df = locals()[i[0]].copy()\n",
    "#     test_df = locals()[i[1]].copy()\n",
    "\n",
    "    train_size = 0.7*locals()[i[0]].shape[0]\n",
    "    \n",
    "    train_df = locals()[i[0]].copy()\n",
    "    test_df = locals()[i[1]].copy()\n",
    "    \n",
    "    print(f\"Train dataset: {i[0]} {train_df['GrainYield'].isna().sum()}\\\n",
    "    \\n Test dataset: {i[1]} {test_df['GrainYield'].isna().sum()}\")\n",
    "    print('=>')\n",
    "#     print(f\"Missing values in {i[0]} {train_df['GrainYield'].isna().sum()}\\\n",
    "#     \\n Missing values in {i[1]} {test_df['GrainYield'].isna().sum()}\")\n",
    "    # Dropping entries with grainyield missing\n",
    "    train_df.dropna(subset=['GrainYield'], inplace=True)\n",
    "    test_df.dropna(subset=['GrainYield'], inplace=True)\n",
    "\n",
    "    #==============================================================================\n",
    "    # Create separate train/test splits from Main data\n",
    "    #==============================================================================\n",
    "    X_train, y_train, = train_df[[x for x in train_df.columns if x not in yield_cols+id_cols_new]], train_df['GrainYield']\n",
    "    X_test, y_test = test_df[[x for x in test_df.columns if x not in yield_cols+id_cols_new]], test_df['GrainYield']\n",
    "    features = X_train.columns\n",
    "\n",
    "    #==============================================================================\n",
    "    # Scale features using StandardScaler class in scikit-learn \n",
    "    #==============================================================================\n",
    "\n",
    "    # Initialise standard scaler and compute mean and STD from training data\n",
    "    sc = StandardScaler()\n",
    "    sc.fit(X_train)\n",
    "\n",
    "    # Transform (standardise) both X_train and X_test with mean and STD from\n",
    "    # training data\n",
    "    X_train_std = sc.transform(X_train)\n",
    "    X_test_std = sc.transform(X_test)\n",
    "    \n",
    "    for model in models:\n",
    "        print(model)\n",
    "        acc, acc_std, imp = test_data_regression(model, features, X_train, X_train_std, y_train, X_test, X_test_std, y_test)\n",
    "#         results.append([i[0], i[1], model, acc, acc_std, imp, imp_std])\n",
    "        print('=============================================')"
   ]
  },
  {
   "cell_type": "code",
   "execution_count": 22,
   "id": "cellular-assets",
   "metadata": {
    "ExecuteTime": {
     "end_time": "2021-09-15T20:25:21.777868Z",
     "start_time": "2021-09-15T20:25:21.773963Z"
    }
   },
   "outputs": [],
   "source": [
    "train_dfs = [x[0] for x in results]\n",
    "test_dfs = [x[1] for x in results]\n",
    "modelss = [x[2] for x in results]\n",
    "acc_normal = [x[3] for x in results]\n",
    "acc_stds = [x[4] for x in results]\n",
    "imp_normal = [x[5] for x in results]\n",
    "imp_stds = [x[6] for x in results]\n",
    "# acc_normal"
   ]
  },
  {
   "cell_type": "code",
   "execution_count": 27,
   "id": "provincial-friend",
   "metadata": {
    "ExecuteTime": {
     "end_time": "2021-09-15T20:26:09.450956Z",
     "start_time": "2021-09-15T20:26:09.238466Z"
    }
   },
   "outputs": [
    {
     "ename": "TypeError",
     "evalue": "Cannot cast array data from dtype('float64') to dtype('<U32') according to the rule 'safe'",
     "output_type": "error",
     "traceback": [
      "\u001b[1;31m---------------------------------------------------------------------------\u001b[0m",
      "\u001b[1;31mTypeError\u001b[0m                                 Traceback (most recent call last)",
      "\u001b[1;32mC:\\ProgramData\\Anaconda3\\lib\\site-packages\\numpy\\core\\fromnumeric.py\u001b[0m in \u001b[0;36m_wrapfunc\u001b[1;34m(obj, method, *args, **kwds)\u001b[0m\n\u001b[0;32m     57\u001b[0m     \u001b[1;32mtry\u001b[0m\u001b[1;33m:\u001b[0m\u001b[1;33m\u001b[0m\u001b[1;33m\u001b[0m\u001b[0m\n\u001b[1;32m---> 58\u001b[1;33m         \u001b[1;32mreturn\u001b[0m \u001b[0mbound\u001b[0m\u001b[1;33m(\u001b[0m\u001b[1;33m*\u001b[0m\u001b[0margs\u001b[0m\u001b[1;33m,\u001b[0m \u001b[1;33m**\u001b[0m\u001b[0mkwds\u001b[0m\u001b[1;33m)\u001b[0m\u001b[1;33m\u001b[0m\u001b[1;33m\u001b[0m\u001b[0m\n\u001b[0m\u001b[0;32m     59\u001b[0m     \u001b[1;32mexcept\u001b[0m \u001b[0mTypeError\u001b[0m\u001b[1;33m:\u001b[0m\u001b[1;33m\u001b[0m\u001b[1;33m\u001b[0m\u001b[0m\n",
      "\u001b[1;31mTypeError\u001b[0m: Cannot cast array data from dtype('float64') to dtype('<U32') according to the rule 'safe'",
      "\nDuring handling of the above exception, another exception occurred:\n",
      "\u001b[1;31mTypeError\u001b[0m                                 Traceback (most recent call last)",
      "\u001b[1;32m<ipython-input-27-62e7bdd9ca99>\u001b[0m in \u001b[0;36m<module>\u001b[1;34m\u001b[0m\n\u001b[0;32m      9\u001b[0m \u001b[0max\u001b[0m \u001b[1;33m=\u001b[0m \u001b[0mfig\u001b[0m\u001b[1;33m.\u001b[0m\u001b[0madd_subplot\u001b[0m\u001b[1;33m(\u001b[0m\u001b[0mprojection\u001b[0m\u001b[1;33m=\u001b[0m\u001b[1;34m'3d'\u001b[0m\u001b[1;33m)\u001b[0m\u001b[1;33m\u001b[0m\u001b[1;33m\u001b[0m\u001b[0m\n\u001b[0;32m     10\u001b[0m \u001b[0mx\u001b[0m\u001b[1;33m,\u001b[0m \u001b[0my\u001b[0m \u001b[1;33m=\u001b[0m \u001b[0mtrain_dfs\u001b[0m\u001b[1;33m,\u001b[0m \u001b[0mtest_dfs\u001b[0m\u001b[1;33m\u001b[0m\u001b[1;33m\u001b[0m\u001b[0m\n\u001b[1;32m---> 11\u001b[1;33m \u001b[0mhist\u001b[0m\u001b[1;33m,\u001b[0m \u001b[0mxedges\u001b[0m\u001b[1;33m,\u001b[0m \u001b[0myedges\u001b[0m \u001b[1;33m=\u001b[0m \u001b[0mnp\u001b[0m\u001b[1;33m.\u001b[0m\u001b[0mhistogram2d\u001b[0m\u001b[1;33m(\u001b[0m\u001b[0mx\u001b[0m\u001b[1;33m,\u001b[0m \u001b[0my\u001b[0m\u001b[1;33m,\u001b[0m \u001b[0mbins\u001b[0m\u001b[1;33m=\u001b[0m\u001b[1;36m4\u001b[0m\u001b[1;33m,\u001b[0m \u001b[0mrange\u001b[0m\u001b[1;33m=\u001b[0m\u001b[1;33m[\u001b[0m\u001b[1;33m[\u001b[0m\u001b[1;36m0\u001b[0m\u001b[1;33m,\u001b[0m \u001b[1;36m4\u001b[0m\u001b[1;33m]\u001b[0m\u001b[1;33m,\u001b[0m \u001b[1;33m[\u001b[0m\u001b[1;36m0\u001b[0m\u001b[1;33m,\u001b[0m \u001b[1;36m4\u001b[0m\u001b[1;33m]\u001b[0m\u001b[1;33m]\u001b[0m\u001b[1;33m)\u001b[0m\u001b[1;33m\u001b[0m\u001b[1;33m\u001b[0m\u001b[0m\n\u001b[0m\u001b[0;32m     12\u001b[0m \u001b[1;33m\u001b[0m\u001b[0m\n\u001b[0;32m     13\u001b[0m \u001b[1;31m# Construct arrays for the anchor positions of the 16 bars.\u001b[0m\u001b[1;33m\u001b[0m\u001b[1;33m\u001b[0m\u001b[1;33m\u001b[0m\u001b[0m\n",
      "\u001b[1;32m<__array_function__ internals>\u001b[0m in \u001b[0;36mhistogram2d\u001b[1;34m(*args, **kwargs)\u001b[0m\n",
      "\u001b[1;32mC:\\ProgramData\\Anaconda3\\lib\\site-packages\\numpy\\lib\\twodim_base.py\u001b[0m in \u001b[0;36mhistogram2d\u001b[1;34m(x, y, bins, range, normed, weights, density)\u001b[0m\n\u001b[0;32m    711\u001b[0m         \u001b[0mxedges\u001b[0m \u001b[1;33m=\u001b[0m \u001b[0myedges\u001b[0m \u001b[1;33m=\u001b[0m \u001b[0masarray\u001b[0m\u001b[1;33m(\u001b[0m\u001b[0mbins\u001b[0m\u001b[1;33m)\u001b[0m\u001b[1;33m\u001b[0m\u001b[1;33m\u001b[0m\u001b[0m\n\u001b[0;32m    712\u001b[0m         \u001b[0mbins\u001b[0m \u001b[1;33m=\u001b[0m \u001b[1;33m[\u001b[0m\u001b[0mxedges\u001b[0m\u001b[1;33m,\u001b[0m \u001b[0myedges\u001b[0m\u001b[1;33m]\u001b[0m\u001b[1;33m\u001b[0m\u001b[1;33m\u001b[0m\u001b[0m\n\u001b[1;32m--> 713\u001b[1;33m     \u001b[0mhist\u001b[0m\u001b[1;33m,\u001b[0m \u001b[0medges\u001b[0m \u001b[1;33m=\u001b[0m \u001b[0mhistogramdd\u001b[0m\u001b[1;33m(\u001b[0m\u001b[1;33m[\u001b[0m\u001b[0mx\u001b[0m\u001b[1;33m,\u001b[0m \u001b[0my\u001b[0m\u001b[1;33m]\u001b[0m\u001b[1;33m,\u001b[0m \u001b[0mbins\u001b[0m\u001b[1;33m,\u001b[0m \u001b[0mrange\u001b[0m\u001b[1;33m,\u001b[0m \u001b[0mnormed\u001b[0m\u001b[1;33m,\u001b[0m \u001b[0mweights\u001b[0m\u001b[1;33m,\u001b[0m \u001b[0mdensity\u001b[0m\u001b[1;33m)\u001b[0m\u001b[1;33m\u001b[0m\u001b[1;33m\u001b[0m\u001b[0m\n\u001b[0m\u001b[0;32m    714\u001b[0m     \u001b[1;32mreturn\u001b[0m \u001b[0mhist\u001b[0m\u001b[1;33m,\u001b[0m \u001b[0medges\u001b[0m\u001b[1;33m[\u001b[0m\u001b[1;36m0\u001b[0m\u001b[1;33m]\u001b[0m\u001b[1;33m,\u001b[0m \u001b[0medges\u001b[0m\u001b[1;33m[\u001b[0m\u001b[1;36m1\u001b[0m\u001b[1;33m]\u001b[0m\u001b[1;33m\u001b[0m\u001b[1;33m\u001b[0m\u001b[0m\n\u001b[0;32m    715\u001b[0m \u001b[1;33m\u001b[0m\u001b[0m\n",
      "\u001b[1;32m<__array_function__ internals>\u001b[0m in \u001b[0;36mhistogramdd\u001b[1;34m(*args, **kwargs)\u001b[0m\n",
      "\u001b[1;32mC:\\ProgramData\\Anaconda3\\lib\\site-packages\\numpy\\lib\\histograms.py\u001b[0m in \u001b[0;36mhistogramdd\u001b[1;34m(sample, bins, range, normed, weights, density)\u001b[0m\n\u001b[0;32m   1071\u001b[0m \u001b[1;33m\u001b[0m\u001b[0m\n\u001b[0;32m   1072\u001b[0m     \u001b[1;31m# Compute the bin number each sample falls into.\u001b[0m\u001b[1;33m\u001b[0m\u001b[1;33m\u001b[0m\u001b[1;33m\u001b[0m\u001b[0m\n\u001b[1;32m-> 1073\u001b[1;33m     Ncount = tuple(\n\u001b[0m\u001b[0;32m   1074\u001b[0m         \u001b[1;31m# avoid np.digitize to work around gh-11022\u001b[0m\u001b[1;33m\u001b[0m\u001b[1;33m\u001b[0m\u001b[1;33m\u001b[0m\u001b[0m\n\u001b[0;32m   1075\u001b[0m         \u001b[0mnp\u001b[0m\u001b[1;33m.\u001b[0m\u001b[0msearchsorted\u001b[0m\u001b[1;33m(\u001b[0m\u001b[0medges\u001b[0m\u001b[1;33m[\u001b[0m\u001b[0mi\u001b[0m\u001b[1;33m]\u001b[0m\u001b[1;33m,\u001b[0m \u001b[0msample\u001b[0m\u001b[1;33m[\u001b[0m\u001b[1;33m:\u001b[0m\u001b[1;33m,\u001b[0m \u001b[0mi\u001b[0m\u001b[1;33m]\u001b[0m\u001b[1;33m,\u001b[0m \u001b[0mside\u001b[0m\u001b[1;33m=\u001b[0m\u001b[1;34m'right'\u001b[0m\u001b[1;33m)\u001b[0m\u001b[1;33m\u001b[0m\u001b[1;33m\u001b[0m\u001b[0m\n",
      "\u001b[1;32mC:\\ProgramData\\Anaconda3\\lib\\site-packages\\numpy\\lib\\histograms.py\u001b[0m in \u001b[0;36m<genexpr>\u001b[1;34m(.0)\u001b[0m\n\u001b[0;32m   1073\u001b[0m     Ncount = tuple(\n\u001b[0;32m   1074\u001b[0m         \u001b[1;31m# avoid np.digitize to work around gh-11022\u001b[0m\u001b[1;33m\u001b[0m\u001b[1;33m\u001b[0m\u001b[1;33m\u001b[0m\u001b[0m\n\u001b[1;32m-> 1075\u001b[1;33m         \u001b[0mnp\u001b[0m\u001b[1;33m.\u001b[0m\u001b[0msearchsorted\u001b[0m\u001b[1;33m(\u001b[0m\u001b[0medges\u001b[0m\u001b[1;33m[\u001b[0m\u001b[0mi\u001b[0m\u001b[1;33m]\u001b[0m\u001b[1;33m,\u001b[0m \u001b[0msample\u001b[0m\u001b[1;33m[\u001b[0m\u001b[1;33m:\u001b[0m\u001b[1;33m,\u001b[0m \u001b[0mi\u001b[0m\u001b[1;33m]\u001b[0m\u001b[1;33m,\u001b[0m \u001b[0mside\u001b[0m\u001b[1;33m=\u001b[0m\u001b[1;34m'right'\u001b[0m\u001b[1;33m)\u001b[0m\u001b[1;33m\u001b[0m\u001b[1;33m\u001b[0m\u001b[0m\n\u001b[0m\u001b[0;32m   1076\u001b[0m         \u001b[1;32mfor\u001b[0m \u001b[0mi\u001b[0m \u001b[1;32min\u001b[0m \u001b[0m_range\u001b[0m\u001b[1;33m(\u001b[0m\u001b[0mD\u001b[0m\u001b[1;33m)\u001b[0m\u001b[1;33m\u001b[0m\u001b[1;33m\u001b[0m\u001b[0m\n\u001b[0;32m   1077\u001b[0m     )\n",
      "\u001b[1;32m<__array_function__ internals>\u001b[0m in \u001b[0;36msearchsorted\u001b[1;34m(*args, **kwargs)\u001b[0m\n",
      "\u001b[1;32mC:\\ProgramData\\Anaconda3\\lib\\site-packages\\numpy\\core\\fromnumeric.py\u001b[0m in \u001b[0;36msearchsorted\u001b[1;34m(a, v, side, sorter)\u001b[0m\n\u001b[0;32m   1341\u001b[0m \u001b[1;33m\u001b[0m\u001b[0m\n\u001b[0;32m   1342\u001b[0m     \"\"\"\n\u001b[1;32m-> 1343\u001b[1;33m     \u001b[1;32mreturn\u001b[0m \u001b[0m_wrapfunc\u001b[0m\u001b[1;33m(\u001b[0m\u001b[0ma\u001b[0m\u001b[1;33m,\u001b[0m \u001b[1;34m'searchsorted'\u001b[0m\u001b[1;33m,\u001b[0m \u001b[0mv\u001b[0m\u001b[1;33m,\u001b[0m \u001b[0mside\u001b[0m\u001b[1;33m=\u001b[0m\u001b[0mside\u001b[0m\u001b[1;33m,\u001b[0m \u001b[0msorter\u001b[0m\u001b[1;33m=\u001b[0m\u001b[0msorter\u001b[0m\u001b[1;33m)\u001b[0m\u001b[1;33m\u001b[0m\u001b[1;33m\u001b[0m\u001b[0m\n\u001b[0m\u001b[0;32m   1344\u001b[0m \u001b[1;33m\u001b[0m\u001b[0m\n\u001b[0;32m   1345\u001b[0m \u001b[1;33m\u001b[0m\u001b[0m\n",
      "\u001b[1;32mC:\\ProgramData\\Anaconda3\\lib\\site-packages\\numpy\\core\\fromnumeric.py\u001b[0m in \u001b[0;36m_wrapfunc\u001b[1;34m(obj, method, *args, **kwds)\u001b[0m\n\u001b[0;32m     65\u001b[0m         \u001b[1;31m# Call _wrapit from within the except clause to ensure a potential\u001b[0m\u001b[1;33m\u001b[0m\u001b[1;33m\u001b[0m\u001b[1;33m\u001b[0m\u001b[0m\n\u001b[0;32m     66\u001b[0m         \u001b[1;31m# exception has a traceback chain.\u001b[0m\u001b[1;33m\u001b[0m\u001b[1;33m\u001b[0m\u001b[1;33m\u001b[0m\u001b[0m\n\u001b[1;32m---> 67\u001b[1;33m         \u001b[1;32mreturn\u001b[0m \u001b[0m_wrapit\u001b[0m\u001b[1;33m(\u001b[0m\u001b[0mobj\u001b[0m\u001b[1;33m,\u001b[0m \u001b[0mmethod\u001b[0m\u001b[1;33m,\u001b[0m \u001b[1;33m*\u001b[0m\u001b[0margs\u001b[0m\u001b[1;33m,\u001b[0m \u001b[1;33m**\u001b[0m\u001b[0mkwds\u001b[0m\u001b[1;33m)\u001b[0m\u001b[1;33m\u001b[0m\u001b[1;33m\u001b[0m\u001b[0m\n\u001b[0m\u001b[0;32m     68\u001b[0m \u001b[1;33m\u001b[0m\u001b[0m\n\u001b[0;32m     69\u001b[0m \u001b[1;33m\u001b[0m\u001b[0m\n",
      "\u001b[1;32mC:\\ProgramData\\Anaconda3\\lib\\site-packages\\numpy\\core\\fromnumeric.py\u001b[0m in \u001b[0;36m_wrapit\u001b[1;34m(obj, method, *args, **kwds)\u001b[0m\n\u001b[0;32m     42\u001b[0m     \u001b[1;32mexcept\u001b[0m \u001b[0mAttributeError\u001b[0m\u001b[1;33m:\u001b[0m\u001b[1;33m\u001b[0m\u001b[1;33m\u001b[0m\u001b[0m\n\u001b[0;32m     43\u001b[0m         \u001b[0mwrap\u001b[0m \u001b[1;33m=\u001b[0m \u001b[1;32mNone\u001b[0m\u001b[1;33m\u001b[0m\u001b[1;33m\u001b[0m\u001b[0m\n\u001b[1;32m---> 44\u001b[1;33m     \u001b[0mresult\u001b[0m \u001b[1;33m=\u001b[0m \u001b[0mgetattr\u001b[0m\u001b[1;33m(\u001b[0m\u001b[0masarray\u001b[0m\u001b[1;33m(\u001b[0m\u001b[0mobj\u001b[0m\u001b[1;33m)\u001b[0m\u001b[1;33m,\u001b[0m \u001b[0mmethod\u001b[0m\u001b[1;33m)\u001b[0m\u001b[1;33m(\u001b[0m\u001b[1;33m*\u001b[0m\u001b[0margs\u001b[0m\u001b[1;33m,\u001b[0m \u001b[1;33m**\u001b[0m\u001b[0mkwds\u001b[0m\u001b[1;33m)\u001b[0m\u001b[1;33m\u001b[0m\u001b[1;33m\u001b[0m\u001b[0m\n\u001b[0m\u001b[0;32m     45\u001b[0m     \u001b[1;32mif\u001b[0m \u001b[0mwrap\u001b[0m\u001b[1;33m:\u001b[0m\u001b[1;33m\u001b[0m\u001b[1;33m\u001b[0m\u001b[0m\n\u001b[0;32m     46\u001b[0m         \u001b[1;32mif\u001b[0m \u001b[1;32mnot\u001b[0m \u001b[0misinstance\u001b[0m\u001b[1;33m(\u001b[0m\u001b[0mresult\u001b[0m\u001b[1;33m,\u001b[0m \u001b[0mmu\u001b[0m\u001b[1;33m.\u001b[0m\u001b[0mndarray\u001b[0m\u001b[1;33m)\u001b[0m\u001b[1;33m:\u001b[0m\u001b[1;33m\u001b[0m\u001b[1;33m\u001b[0m\u001b[0m\n",
      "\u001b[1;31mTypeError\u001b[0m: Cannot cast array data from dtype('float64') to dtype('<U32') according to the rule 'safe'"
     ]
    },
    {
     "data": {
      "image/png": "[encoded data removed]",
      "text/plain": [
       "<Figure size 432x288 with 1 Axes>"
      ]
     },
     "metadata": {
      "needs_background": "light"
     },
     "output_type": "display_data"
    }
   ],
   "source": [
    "import matplotlib.pyplot as plt\n",
    "import numpy as np\n",
    "\n",
    "# Fixing random state for reproducibility\n",
    "np.random.seed(19680801)\n",
    "\n",
    "\n",
    "fig = plt.figure()\n",
    "ax = fig.add_subplot(projection='3d')\n",
    "x, y = train_dfs, test_dfs\n",
    "hist, xedges, yedges = np.histogram2d(x, y, bins=4, range=[[0, 4], [0, 4]])\n",
    "\n",
    "# Construct arrays for the anchor positions of the 16 bars.\n",
    "# xpos, ypos = np.meshgrid(xedges[:-1] + 0.25, yedges[:-1] + 0.25, indexing=\"ij\")\n",
    "# xpos = xpos.ravel()\n",
    "# ypos = ypos.ravel()\n",
    "# zpos = 0\n",
    "\n",
    "# Construct arrays with the dimensions for the 16 bars.\n",
    "dx = dy = 0.5 * np.ones_like(zpos)\n",
    "dz = hist.ravel()\n",
    "\n",
    "ax.bar3d(xpos, ypos, zpos, dx, dy, dz, zsort='average')\n",
    "\n",
    "plt.show()"
   ]
  },
  {
   "cell_type": "code",
   "execution_count": 48,
   "id": "ae775676",
   "metadata": {
    "ExecuteTime": {
     "end_time": "2021-09-15T17:53:12.371802Z",
     "start_time": "2021-09-15T17:53:12.355936Z"
    }
   },
   "outputs": [],
   "source": [
    "temp_df = Robot_2020_Simps.copy()\n",
    "#==============================================================================\n",
    "# Dropping rows with missing values\n",
    "#==============================================================================\n",
    "\n",
    "temp_df.dropna(subset=['GrainYield'], inplace=True)\n",
    "#==============================================================================\n",
    "# Split dataframe into data and target\n",
    "#==============================================================================\n",
    "X = temp_df[[x for x in temp_df.columns if x not in yield_cols+id_cols_new]]\n",
    "y = temp_df['GrainYield']\n",
    "\n",
    "#==============================================================================\n",
    "# Create separate train/test splits from Main data\n",
    "#==============================================================================\n",
    "X_train, X_test, y_train, y_test = train_test_split(X,\n",
    "                                                    y,\n",
    "                                                    test_size=0.3,\n",
    "                                                    random_state=55)\n",
    "\n",
    "#==============================================================================\n",
    "# Scale features using StandardScaler class in scikit-learn \n",
    "#==============================================================================\n",
    "\n",
    "# Initialise standard scaler and compute mean and STD from training data\n",
    "sc = StandardScaler()\n",
    "sc.fit(X_train)\n",
    "\n",
    "# Transform (standardise) both X_train and X_test with mean and STD from\n",
    "# training data\n",
    "X_train_std = sc.transform(X_train)\n",
    "X_test_std = sc.transform(X_test)"
   ]
  },
  {
   "cell_type": "code",
   "execution_count": 16,
   "id": "96653f5d",
   "metadata": {},
   "outputs": [
    {
     "name": "stdout",
     "output_type": "stream",
     "text": [
      "Wall time: 0 ns\n",
      "4622.957956091049  mean_squared_error\n",
      "67.99233748071211  root_mean_squared_error\n",
      "0.5318637828980128  r2_score\n",
      "{   'MSE': 4622.957956091049,\n",
      "    'RMSE': 67.99233748071211,\n",
      "    'R2 Score': 0.5318637828980128}\n"
     ]
    },
    {
     "data": {
      "image/png": "[encoded data removed]",
      "text/plain": [
       "<Figure size 432x288 with 1 Axes>"
      ]
     },
     "metadata": {
      "needs_background": "light"
     },
     "output_type": "display_data"
    },
    {
     "name": "stdout",
     "output_type": "stream",
     "text": [
      "11130.99549980016  mean_squared_error\n",
      "105.50353311524766  root_mean_squared_error\n",
      "-0.12716191134511434  r2_score\n",
      "{   'MSE': 11130.99549980016,\n",
      "    'RMSE': 105.50353311524766,\n",
      "    'R2 Score': -0.12716191134511434}\n"
     ]
    },
    {
     "data": {
      "image/png": "[encoded data removed]",
      "text/plain": [
       "<Figure size 432x288 with 1 Axes>"
      ]
     },
     "metadata": {
      "needs_background": "light"
     },
     "output_type": "display_data"
    }
   ],
   "source": [
    "%time\n",
    "\n",
    "cv = 10\n",
    "core=6\n",
    "verbos=5\n",
    "scores = ['neg_mean_absolute_error', 'neg_mean_squared_error', 'r2']\n",
    "\n",
    "time_taken = []\n",
    "t_start=time.time()\n",
    "\n",
    "#==============================================================================\n",
    "# Create separate train/test splits\n",
    "#==============================================================================\n",
    "X_train, X_test, y_train, y_test = train_test_split(X,\n",
    "                                                    y,\n",
    "                                                    test_size=0.3,\n",
    "                                                    random_state=5)\n",
    "# X_train.reset_index(drop=True, inplace=True)\n",
    "# X_test.reset_index(drop=True, inplace=True)\n",
    "#==============================================================================\n",
    "# Training best performing models\n",
    "#==============================================================================\n",
    "#==============================================================================\n",
    "# Finding out feature importance\n",
    "#==============================================================================\n",
    "\n",
    "model = RandomForestRegressor(n_estimators = 1000, max_depth=250, min_samples_split=5, random_state=0, n_jobs = -1)\n",
    "model.fit(X_train, y_train)\n",
    "# Finding feature importance\n",
    "features = X.columns\n",
    "importances = model.feature_importances_\n",
    "indices = np.argsort(importances)\n",
    "# Running predictions\n",
    "test_data_regression(model, X, X_test, y_test)\n",
    "# Plotting feature importance\n",
    "plt.title('Feature Importances')\n",
    "plt.barh(range(len(indices)), importances[indices], color='b', align='center')\n",
    "plt.yticks(range(len(indices)), [features[i] for i in indices])\n",
    "plt.xlabel('Relative Importance')\n",
    "plt.show()\n",
    "\n",
    "\n",
    "\n",
    "model = RandomForestRegressor(n_estimators = 50, max_depth=100, min_samples_split=400, random_state=0, n_jobs = -1)\n",
    "model.fit(X_train, y_train)\n",
    "# Finding feature importance\n",
    "features = X.columns\n",
    "importances = model.feature_importances_\n",
    "indices = np.argsort(importances)\n",
    "# Running predictions\n",
    "test_data_regression(model, X, X_test, y_test)\n",
    "# Plotting feature importance\n",
    "plt.title('Feature Importances')\n",
    "plt.barh(range(len(indices)), importances[indices], color='b', align='center')\n",
    "plt.yticks(range(len(indices)), [features[i] for i in indices])\n",
    "plt.xlabel('Relative Importance')\n",
    "plt.show()"
   ]
  },
  {
   "cell_type": "markdown",
   "id": "482a3922",
   "metadata": {},
   "source": [
    "## Several Models: To clean"
   ]
  },
  {
   "cell_type": "code",
   "execution_count": 26,
   "id": "7dab8b1d",
   "metadata": {
    "scrolled": true
   },
   "outputs": [
    {
     "name": "stdout",
     "output_type": "stream",
     "text": [
      "Wall time: 0 ns\n"
     ]
    },
    {
     "ename": "NameError",
     "evalue": "name 'comments' is not defined",
     "output_type": "error",
     "traceback": [
      "\u001b[1;31m---------------------------------------------------------------------------\u001b[0m",
      "\u001b[1;31mNameError\u001b[0m                                 Traceback (most recent call last)",
      "\u001b[1;32m<ipython-input-26-106bdc26a588>\u001b[0m in \u001b[0;36m<module>\u001b[1;34m\u001b[0m\n\u001b[0;32m      8\u001b[0m \u001b[1;32mfrom\u001b[0m \u001b[0msklearn\u001b[0m\u001b[1;33m.\u001b[0m\u001b[0mmodel_selection\u001b[0m \u001b[1;32mimport\u001b[0m \u001b[0mtrain_test_split\u001b[0m\u001b[1;33m\u001b[0m\u001b[1;33m\u001b[0m\u001b[0m\n\u001b[0;32m      9\u001b[0m \u001b[1;33m\u001b[0m\u001b[0m\n\u001b[1;32m---> 10\u001b[1;33m \u001b[0mcomments\u001b[0m\u001b[1;33m.\u001b[0m\u001b[0mappend\u001b[0m\u001b[1;33m(\u001b[0m\u001b[1;34m'Converted dates to ordinal.'\u001b[0m\u001b[1;33m)\u001b[0m\u001b[1;33m\u001b[0m\u001b[1;33m\u001b[0m\u001b[0m\n\u001b[0m\u001b[0;32m     11\u001b[0m \u001b[0mcomments\u001b[0m\u001b[1;33m.\u001b[0m\u001b[0mappend\u001b[0m\u001b[1;33m(\u001b[0m\u001b[1;34m'Plot ID Dropped.'\u001b[0m\u001b[1;33m)\u001b[0m\u001b[1;33m\u001b[0m\u001b[1;33m\u001b[0m\u001b[0m\n\u001b[0;32m     12\u001b[0m \u001b[1;33m\u001b[0m\u001b[0m\n",
      "\u001b[1;31mNameError\u001b[0m: name 'comments' is not defined"
     ]
    }
   ],
   "source": [
    "#==============================================================================\n",
    "# Ridge\n",
    "#==============================================================================\n",
    "from sklearn.linear_model import Ridge\n",
    "model = Ridge()\n",
    "sc = StandardScaler()\n",
    "pipe = Pipeline(steps=[('sc', sc), ('model', model)])\n",
    "param_grid   =  [{'model__alpha' : [x*1. for x in range(1,10)],\n",
    "                  'model__solver' : ['auto', 'svd', 'cholesky', 'lsqr', 'sparse_cg', 'sag', 'saga']}]\n",
    "estimator = pipe\n",
    "\n",
    "for score in scores:\n",
    "    grid(Xtrain = X,\n",
    "                ytrain = y,\n",
    "                estimator = pipe,\n",
    "                params_grid = param_grid,\n",
    "                scores=score,\n",
    "                cvs = cv,\n",
    "                cores=core,\n",
    "                verb=verbos)\n",
    "    print(score)\n",
    "#==============================================================================\n",
    "# Lasso\n",
    "#==============================================================================\n",
    "from sklearn.linear_model import Lasso\n",
    "model = Lasso()\n",
    "sc = StandardScaler()\n",
    "pipe = Pipeline(steps=[('sc', sc), ('model', model)])\n",
    "param_grid   =  [{'model__alpha' : [x*0.1 for x in range(1,10)],\n",
    "                  'model__max_iter' : [x for x in range(50, 10000, 50)],\n",
    "                  'model__selection' : ['cyclic','random']}]\n",
    "estimator = pipe\n",
    "\n",
    "for score in scores:\n",
    "    grid(Xtrain = X,\n",
    "                ytrain = y,\n",
    "                estimator = pipe,\n",
    "                params_grid = param_grid,\n",
    "                scores=score,\n",
    "                cvs = cv,\n",
    "                cores=core,\n",
    "                verb=verbos)\n",
    "    print(score)\n",
    "#==============================================================================\n",
    "# ElasticNet\n",
    "#==============================================================================\n",
    "from sklearn.linear_model import ElasticNet\n",
    "model = ElasticNet()\n",
    "sc = StandardScaler()\n",
    "pipe = Pipeline(steps=[('sc', sc), ('model', model)])\n",
    "param_grid   =  [{'model__alpha' : [x*0.1 for x in range(1,10)],\n",
    "                  'model__max_iter' : [x for x in range(50, 10000, 50)],\n",
    "                  'model__l1_ratio' : [x*0.1 for x in range(1,10)]}]\n",
    "estimator = pipe\n",
    "\n",
    "for score in scores:\n",
    "    grid(Xtrain = X,\n",
    "                ytrain = y,\n",
    "                estimator = pipe,\n",
    "                params_grid = param_grid,\n",
    "                scores=score,\n",
    "                cvs = cv,\n",
    "                cores=core,\n",
    "                verb=verbos)\n",
    "    print(score)\n",
    "#==============================================================================\n",
    "# OrthogonalMatchingPursuit\n",
    "#==============================================================================\n",
    "from sklearn.linear_model import OrthogonalMatchingPursuit\n",
    "model = OrthogonalMatchingPursuit()\n",
    "sc = StandardScaler()\n",
    "pipe = Pipeline(steps=[('sc', sc), ('model', model)])\n",
    "param_grid   =  [{'model__fit_intercept' : [True, False],\n",
    "                  'model__n_nonzero_coefs' : [x for x in range(1,10)]}]\n",
    "estimator = pipe\n",
    "\n",
    "for score in scores:\n",
    "    grid(Xtrain = X,\n",
    "                ytrain = y,\n",
    "                estimator = pipe,\n",
    "                params_grid = param_grid,\n",
    "                scores=score,\n",
    "                cvs = cv,\n",
    "                cores=core,\n",
    "                verb=verbos)\n",
    "    print(score)\n",
    "#==============================================================================\n",
    "# BayesianRidge\n",
    "#==============================================================================\n",
    "from sklearn.linear_model import BayesianRidge\n",
    "model = BayesianRidge()\n",
    "sc = StandardScaler()\n",
    "pipe = Pipeline(steps=[('sc', sc), ('model', model)])\n",
    "param_grid   =  [{'model__n_iter' : [x for x in range(5, 150, 10)],\n",
    "                  'model__alpha_1' : [1.0],\n",
    "                  'model__alpha_2' : [x*0.000001 for x in [1,10,100,1000,10000,100000,1000000]],\n",
    "                  'model__lambda_1' : [x*0.000001 for x in [1,10,100,1000,10000,100000,1000000]],\n",
    "                  'model__lambda_2' : [1.0]}]\n",
    "estimator = pipe\n",
    "\n",
    "for score in scores:\n",
    "    grid(Xtrain = X,\n",
    "                ytrain = y,\n",
    "                estimator = pipe,\n",
    "                params_grid = param_grid,\n",
    "                scores=score,\n",
    "                cvs = cv,\n",
    "                cores=core,\n",
    "                verb=verbos)\n",
    "    print(score)\n",
    "#==============================================================================\n",
    "# ARDRegression\n",
    "#==============================================================================\n",
    "from sklearn.linear_model import ARDRegression\n",
    "model = ARDRegression()\n",
    "sc = StandardScaler()\n",
    "pipe = Pipeline(steps=[('sc', sc), ('model', model)])\n",
    "param_grid   =  [{'model__n_iter' : [x for x in range(5, 150, 10)],\n",
    "                  'model__alpha_1' : [1.0],\n",
    "#                       'model__alpha_2' : [x*0.000001 for x in [1,10,100,1000,10000,100000,1000000]],\n",
    "                  'model__lambda_1' : [0.01],\n",
    "                  'model__lambda_2' : [x*0.000001 for x in [1,10,100,1000,10000,100000,1000000]],\n",
    "                  'model__verbose' : [True]}]\n",
    "estimator = pipe\n",
    "\n",
    "for score in scores:\n",
    "    grid(Xtrain = X,\n",
    "                ytrain = y,\n",
    "                estimator = pipe,\n",
    "                params_grid = param_grid,\n",
    "                scores=score,\n",
    "                cvs = cv,\n",
    "                cores=core,\n",
    "                verb=verbos)\n",
    "    print(score)\n",
    "#==============================================================================\n",
    "# RANSACRegressor\n",
    "#==============================================================================\n",
    "from sklearn.linear_model import RANSACRegressor\n",
    "model = RANSACRegressor()\n",
    "sc = StandardScaler()\n",
    "pipe = Pipeline(steps=[('sc', sc), ('model', model)])\n",
    "param_grid   =  [{'model__min_samples' : [x/.1 for x in range(1, 10)],\n",
    "                  'model__max_trials' : [x for x in range(1, 500,50)],\n",
    "                  'model__loss' : ['absolute_loss', 'squared_loss']}]\n",
    "estimator = pipe\n",
    "\n",
    "for score in scores:\n",
    "    grid(Xtrain = X,\n",
    "                ytrain = y,\n",
    "                estimator = pipe,\n",
    "                params_grid = param_grid,\n",
    "                scores=score,\n",
    "                cvs = cv,\n",
    "                cores=core,\n",
    "                verb=verbos)\n",
    "    print(score)\n",
    "#==============================================================================\n",
    "# TheilSenRegressor\n",
    "#==============================================================================\n",
    "# from sklearn.linear_model import TheilSenRegressor\n",
    "# model = TheilSenRegressor()\n",
    "# sc = StandardScaler()\n",
    "# pipe = Pipeline(steps=[('sc', sc), ('model', model)])\n",
    "# param_grid   =  [{'model__max_subpopulation' : [x*0.000001 for x in [1,10,100,1000,10000,100000,1000000]],\n",
    "#                   'model__n_subsamples' : [x for x in range(9, 1300,50)],\n",
    "#                   'model__max_iter' :  [x for x in range(50, 1000, 50)]}]\n",
    "# estimator = pipe\n",
    "\n",
    "# for score in scores:\n",
    "#     grid(Xtrain = X,\n",
    "#                 ytrain = y,\n",
    "#                 estimator = pipe,\n",
    "#                 params_grid = param_grid,\n",
    "#                 scores=score,\n",
    "#                 cvs = cv,\n",
    "#                 cores=core,\n",
    "#                 verb=verbos)\n",
    "#     print(score)\n",
    "#==============================================================================\n",
    "# HuberRegressor\n",
    "#==============================================================================\n",
    "from sklearn.linear_model import HuberRegressor\n",
    "model = HuberRegressor()\n",
    "sc = StandardScaler()\n",
    "pipe = Pipeline(steps=[('sc', sc), ('model', model)])\n",
    "param_grid   =  [{'model__epsilon' : [x/.01 for x in range(100, 200, 5)],\n",
    "                  'model__alpha' : [x*0.000001 for x in [1,10,100,1000,10000,100000,1000000]]}]\n",
    "estimator = pipe\n",
    "\n",
    "for score in scores:\n",
    "    grid(Xtrain = X,\n",
    "                ytrain = y,\n",
    "                estimator = pipe,\n",
    "                params_grid = param_grid,\n",
    "                scores=score,\n",
    "                cvs = cv,\n",
    "                cores=core,\n",
    "                verb=verbos)\n",
    "    print(score)\n",
    "#==============================================================================\n",
    "# DecisionTreeRegressor\n",
    "#==============================================================================\n",
    "from sklearn.tree import DecisionTreeRegressor\n",
    "model = DecisionTreeRegressor()\n",
    "sc = StandardScaler()\n",
    "pipe = Pipeline(steps=[('sc', sc), ('model', model)])\n",
    "param_grid   =  [{'model__max_depth' : [None]+[x for x in range(1, 100,5)],\n",
    "                  'model__min_samples_leaf' : [x for x in range(1, 50,5)],\n",
    "                  'model__min_samples_split' : [2]+[x for x in range(1, 50,5)],\n",
    "                  'model__max_features' : [x for x in range(1, 10)]}]\n",
    "estimator = pipe\n",
    "\n",
    "for score in scores:\n",
    "    grid(Xtrain = X,\n",
    "                ytrain = y,\n",
    "                estimator = pipe,\n",
    "                params_grid = param_grid,\n",
    "                scores=score,\n",
    "                cvs = cv,\n",
    "                cores=core,\n",
    "                verb=verbos)\n",
    "    print(score)\n",
    "#==============================================================================\n",
    "# GaussianProcessRegressor\n",
    "#==============================================================================\n",
    "from sklearn.gaussian_process import GaussianProcessRegressor\n",
    "model = GaussianProcessRegressor()\n",
    "sc = StandardScaler()\n",
    "pipe = Pipeline(steps=[('sc', sc), ('model', model)])\n",
    "param_grid   =  [{'model__kernel' : [None]+['rbf', 'sigmoid',  'linear', 'poly'],\n",
    "                  'model__alpha' : [x*0.0000000001 for x in [1,10,100,1000,10000,100000,1000000]]}]\n",
    "estimator = pipe\n",
    "\n",
    "for score in scores:\n",
    "    grid(Xtrain = X,\n",
    "                ytrain = y,\n",
    "                estimator = pipe,\n",
    "                params_grid = param_grid,\n",
    "                scores=score,\n",
    "                cvs = cv,\n",
    "                cores=core,\n",
    "                verb=verbos)\n",
    "    print(score)\n",
    "#==============================================================================\n",
    "# KNeighborsRegressor\n",
    "#==============================================================================\n",
    "from sklearn.neighbors import KNeighborsRegressor\n",
    "model = KNeighborsRegressor()\n",
    "sc = StandardScaler()\n",
    "pipe = Pipeline(steps=[('sc', sc), ('model', model)])\n",
    "param_grid   =  [{'model__n_neighbors' : [x for x in range(1, 100,5)],\n",
    "                  'model__weights' : ['uniform', 'distance'],\n",
    "                  'model__algorithm' : ['auto', 'ball_tree', 'kd_tree', 'brute'],\n",
    "                  'model__leaf_size' : [x for x in range(10, 50, 5)]}]\n",
    "estimator = pipe\n",
    "\n",
    "for score in scores:\n",
    "    grid(Xtrain = X,\n",
    "                ytrain = y,\n",
    "                estimator = pipe,\n",
    "                params_grid = param_grid,\n",
    "                scores=score,\n",
    "                cvs = cv,\n",
    "                cores=core,\n",
    "                verb=verbos)\n",
    "    print(score)\n",
    "# #==============================================================================\n",
    "# # RadiusNeighborsRegressor\n",
    "# #==============================================================================\n",
    "# from sklearn.neighbors import RadiusNeighborsRegressor\n",
    "# model = RadiusNeighborsRegressor()\n",
    "# sc = StandardScaler()\n",
    "# pipe = Pipeline(steps=[('sc', sc), ('model', model)])\n",
    "# param_grid   =  [{'model__radius' : [x*1. for x in range(1, 10)],\n",
    "#                   'model__weights' : ['uniform', 'distance'],\n",
    "#                   'model__algorithm' : ['auto', 'ball_tree', 'kd_tree', 'brute'],\n",
    "#                   'model__p' : [x for x in range(1, 10)]}]\n",
    "# estimator = pipe\n",
    "\n",
    "# for score in scores:\n",
    "#     grid(Xtrain = X,\n",
    "#                 ytrain = y,\n",
    "#                 estimator = pipe,\n",
    "#                 params_grid = param_grid,\n",
    "#                 scores=score,\n",
    "#                 cvs = cv,\n",
    "#                 cores=core,\n",
    "#                 verb=verbos)\n",
    "#     print(score)\n",
    "# #==============================================================================\n",
    "# # RandomForestRegressor\n",
    "# #==============================================================================\n",
    "# from sklearn.ensemble import RandomForestRegressor\n",
    "# model = RandomForestRegressor()\n",
    "# sc = StandardScaler()\n",
    "# pipe = Pipeline(steps=[('sc', sc), ('model', model)])\n",
    "# param_grid   =  [{'model__radius' : [x*1. for x in range(1, 10)],\n",
    "#                   'model__weights' : ['uniform', 'distance'],\n",
    "#                   'model__algorithm' : ['auto', 'ball_tree', 'kd_tree', 'brute'],\n",
    "#                   'model__p' : [x for x in range(1, 10)]}]\n",
    "# estimator = pipe\n",
    "\n",
    "# for score in scores:\n",
    "#     grid(Xtrain = X,\n",
    "#                 ytrain = y,\n",
    "#                 estimator = pipe,\n",
    "#                 params_grid = param_grid,\n",
    "#                 scores=score,\n",
    "#                 cvs = cv,\n",
    "#                 cores=core,\n",
    "#                 verb=verbos)\n",
    "#     print(score)\n",
    "# #==============================================================================\n",
    "# # SVR\n",
    "# #==============================================================================\n",
    "# from sklearn.svm import SVR\n",
    "# model = SVR()\n",
    "# sc = StandardScaler()\n",
    "# pipe = Pipeline(steps=[('sc', sc), ('model', model)])\n",
    "# param_grid   =  [{'model__radius' : [x*1. for x in range(1, 10)],\n",
    "#                   'model__weights' : ['uniform', 'distance'],\n",
    "#                   'model__algorithm' : ['auto', 'ball_tree', 'kd_tree', 'brute'],\n",
    "#                   'model__p' : [x for x in range(1, 10)]}]\n",
    "# estimator = pipe\n",
    "\n",
    "# for score in scores:\n",
    "#     grid(Xtrain = X,\n",
    "#                 ytrain = y,\n",
    "#                 estimator = pipe,\n",
    "#                 params_grid = param_grid,\n",
    "#                 scores=score,\n",
    "#                 cvs = cv,\n",
    "#                 cores=core,\n",
    "#                 verb=verbos)\n",
    "#     print(score)\n",
    "\n",
    "t_end = time.time()\n",
    "tt = t_end - t_start\n",
    "time_taken.append(tt)\n",
    "print('Total time complete: ', (tt) / 60, 'minutes')"
   ]
  },
  {
   "cell_type": "markdown",
   "id": "2872fe8f",
   "metadata": {},
   "source": [
    "## Gradient Boosting Regressor Grid Search Params"
   ]
  },
  {
   "cell_type": "code",
   "execution_count": null,
   "id": "31990e83",
   "metadata": {},
   "outputs": [],
   "source": [
    "%time\n",
    "\n",
    "import time, datetime\n",
    "from datetime import datetime as dt\n",
    "from sklearn.model_selection import GridSearchCV\n",
    "from sklearn.preprocessing import StandardScaler\n",
    "\n",
    "comments.append('Converted dates to ordinal.')\n",
    "comments.append('Plot ID Dropped.')\n",
    "\n",
    "comments.append('Test train split. test_Size=0.3, random_state=55')\n",
    "cv = 10\n",
    "core=6\n",
    "verbos=5\n",
    "scores = ['neg_mean_absolute_error', 'neg_mean_squared_error', 'r2']\n",
    "\n",
    "\n",
    "#==============================================================================\n",
    "# GradientBoostingRegressor\n",
    "#==============================================================================\n",
    "from sklearn.ensemble import GradientBoostingRegressor\n",
    "model = GradientBoostingRegressor()\n",
    "sc = StandardScaler()\n",
    "pipe = Pipeline(steps=[('sc', sc), ('model', model)])\n",
    "# param_grid   =  [{'model__loss' : ['ls', 'lad', 'huber', 'quantile'],\n",
    "# #                   'model__learning_rate' : [0.001, 0.01, 0.1, 1],\n",
    "# #                   'model__n_estimators' : range(0,500, 100),\n",
    "                  \n",
    "# #                   'model__max_depth':range(5,16,2), \n",
    "# #                   'model__min_samples_split':range(200,1100, 200), # 2100\n",
    "# #                   'model__min_samples_leaf':range(30,71,10),\n",
    "#                   'model__max_features':range(7,20,2),\n",
    "#                   'model__subsample':[0.6,0.7,0.75,0.8,0.85,0.9]}]\n",
    "\n",
    "param_grid   =  [{'model__loss' : ['huber'],\n",
    "#                   'model__learning_rate' : [0.001, 0.01, 0.1, 1],\n",
    "#                   'model__n_estimators' : range(0,500, 100),\n",
    "                  \n",
    "                  'model__max_depth':range(5,16,2), \n",
    "#                   'model__min_samples_split':range(2,5), # 2100\n",
    "#                   'model__min_samples_leaf':range(1,2),\n",
    "#                   'model__max_features':range(5,6),\n",
    "                  'model__subsample':[0.7,0.8]}]\n",
    "# pipe.get_params()\n",
    "estimator = pipe\n",
    "\n",
    "for score in scores:\n",
    "    grid(Xtrain = X.values,\n",
    "                ytrain = y.values,\n",
    "                estimator = pipe,\n",
    "                params_grid = param_grid,\n",
    "                scores=score,\n",
    "                cvs = cv,\n",
    "                cores=core,\n",
    "                verb=verbos)\n",
    "    print(score)"
   ]
  },
  {
   "cell_type": "markdown",
   "id": "1b672094",
   "metadata": {},
   "source": [
    "## Random Forest Grid Search Params"
   ]
  },
  {
   "cell_type": "code",
   "execution_count": null,
   "id": "e79df149",
   "metadata": {},
   "outputs": [],
   "source": [
    "%time\n",
    "\n",
    "import time, datetime\n",
    "from datetime import datetime as dt\n",
    "from sklearn.model_selection import GridSearchCV\n",
    "from sklearn.preprocessing import StandardScaler\n",
    "\n",
    "comments.append('Converted dates to ordinal.')\n",
    "comments.append('Plot ID Dropped.')\n",
    "comments.append('Test train split. test_Size=0.3, random_state=55')\n",
    "cv = 5\n",
    "core=6\n",
    "verbos=5\n",
    "scores = ['neg_mean_absolute_error', 'neg_mean_squared_error', 'r2']\n",
    "\n",
    "#==============================================================================\n",
    "# RandomForestRegressor\n",
    "#==============================================================================\n",
    "from sklearn.ensemble import RandomForestRegressor\n",
    "model = RandomForestRegressor()\n",
    "sc = StandardScaler()\n",
    "pipe = Pipeline(steps=[('sc', sc), ('model', model)])\n",
    "\n",
    "# Number of trees in random forest\n",
    "n_estimators = [int(x) for x in np.linspace(start = 200, stop = 2000, num = 10)]\n",
    "# Number of features to consider at every split\n",
    "max_features = ['auto', 'sqrt']\n",
    "# Maximum number of levels in tree\n",
    "max_depth = [int(x) for x in np.linspace(10, 110, num = 11)]\n",
    "max_depth.append(None)\n",
    "# Minimum number of samples required to split a node\n",
    "min_samples_split = [2, 5, 10]\n",
    "# Minimum number of samples required at each leaf node\n",
    "min_samples_leaf = [1, 2, 4]\n",
    "# Method of selecting samples for training each tree\n",
    "bootstrap = [True, False]\n",
    "# Create the random grid\n",
    "param_grid = {\n",
    "    'model__n_estimators': n_estimators,\n",
    "               'model__max_features': max_features,\n",
    "               'model__max_depth': max_depth,\n",
    "               'model__min_samples_split': min_samples_split,\n",
    "               'model__min_samples_leaf': min_samples_leaf,\n",
    "               'model__bootstrap': bootstrap}\n",
    "\n",
    "\n",
    "estimator = pipe\n",
    "\n",
    "for score in scores:\n",
    "    grid(Xtrain = X,\n",
    "                ytrain = y,\n",
    "                estimator = pipe,\n",
    "                params_grid = param_grid,\n",
    "                scores=score,\n",
    "                cvs = cv,\n",
    "                cores=core,\n",
    "                verb=verbos)\n",
    "    print(score)"
   ]
  },
  {
   "cell_type": "markdown",
   "id": "c07a5ce0",
   "metadata": {},
   "source": [
    "## Permutation importance"
   ]
  },
  {
   "cell_type": "code",
   "execution_count": null,
   "id": "9b5ac980",
   "metadata": {},
   "outputs": [],
   "source": [
    "\n",
    "\n",
    "# PERMUTATION\n",
    "\n",
    "from sklearn.inspection import permutation_importance\n",
    "\n",
    "\n",
    "result = permutation_importance(gs_xgb_fitted, X_test, y_test, n_repeats=100, random_state=0)\n",
    "\n",
    "# ==================================\n",
    "# Feature selection\n",
    "# ===================================\n",
    "\n",
    "from sklearn.feature_selection import SelectKBest\n",
    "from sklearn.feature_selection import f_regression\n",
    "\n",
    "# define feature selection\n",
    "fs = SelectKBest(score_func=f_regression, k=10)\n",
    "# apply feature selection\n",
    "X_selected = fs.fit_transform(X, y)\n",
    "print(X_selected.shape)\n",
    "\n",
    "# Plot importances\n",
    "fig, ax = plt.subplots(figsize=(25, 25))\n",
    "ind = indices = np.argsort(result.importances_mean)[::-1]\n",
    "plt.barh(X_test.columns, result.importances_mean[ind])\n",
    "plt.show()\n"
   ]
  },
  {
   "cell_type": "code",
   "execution_count": null,
   "id": "bea56464",
   "metadata": {},
   "outputs": [],
   "source": [
    "from sklearn.metrics import make_scorer, accuracy_score, precision_score, recall_score, f1_score\n",
    "scoring = {'accuracy': make_scorer(accuracy_score),\n",
    "           'precision': make_scorer(precision_score, average = 'macro'),\n",
    "           'recall': make_scorer(recall_score, average = 'macro'),\n",
    "           'f1': make_scorer(f1_score, average = 'macro')}\n",
    "grid_search_rfc = GridSearchCV(rfc, param_grid = grid_values, scoring = scoring, refit='f1')\n",
    "grid_search_rfc.fit(x_train, y_train)\n",
    "\n",
    "grid_search_rfc.best_params_\n",
    "grid_search_rfc.cv_results_\n",
    "\n",
    "# cv_results[‘mean_test_<metric_name>’]\n",
    "grid_search_rfc.cv_results_['mean_test_recall']\n"
   ]
  },
  {
   "cell_type": "code",
   "execution_count": null,
   "id": "502b0921",
   "metadata": {
    "run_control": {
     "marked": true
    }
   },
   "outputs": [],
   "source": []
  },
  {
   "cell_type": "code",
   "execution_count": null,
   "id": "804fab3a",
   "metadata": {},
   "outputs": [],
   "source": []
  },
  {
   "cell_type": "code",
   "execution_count": null,
   "id": "a5db9798",
   "metadata": {},
   "outputs": [],
   "source": []
  },
  {
   "cell_type": "code",
   "execution_count": null,
   "id": "4f8c3bd0",
   "metadata": {},
   "outputs": [],
   "source": []
  },
  {
   "cell_type": "code",
   "execution_count": null,
   "id": "e86496b6",
   "metadata": {},
   "outputs": [],
   "source": []
  },
  {
   "cell_type": "code",
   "execution_count": null,
   "id": "c4ec91f0",
   "metadata": {},
   "outputs": [],
   "source": []
  },
  {
   "cell_type": "code",
   "execution_count": null,
   "id": "548ef3f0",
   "metadata": {},
   "outputs": [],
   "source": []
  },
  {
   "cell_type": "code",
   "execution_count": null,
   "id": "330d5272",
   "metadata": {},
   "outputs": [],
   "source": []
  },
  {
   "cell_type": "code",
   "execution_count": null,
   "id": "73ebd473",
   "metadata": {},
   "outputs": [],
   "source": []
  },
  {
   "cell_type": "code",
   "execution_count": null,
   "id": "8f70af56",
   "metadata": {},
   "outputs": [],
   "source": []
  },
  {
   "cell_type": "code",
   "execution_count": null,
   "id": "0b4f6628",
   "metadata": {},
   "outputs": [],
   "source": []
  },
  {
   "cell_type": "markdown",
   "id": "206b1d64",
   "metadata": {},
   "source": [
    "## List of models"
   ]
  },
  {
   "cell_type": "code",
   "execution_count": 14,
   "id": "aae7c591",
   "metadata": {},
   "outputs": [],
   "source": [
    "models = [GradientBoostingRegressor(subsample=0.8,learning_rate=0.4, random_state=500),\n",
    "#          CatBoostRegressor(depth=8),\n",
    "         RandomForestRegressor(max_depth=250, min_samples_split=14,min_samples_leaf =3, random_state=1, n_jobs = -1),\n",
    "         Lasso(alpha= 4.5),\n",
    "        ]\n",
    "         \n"
   ]
  },
  {
   "cell_type": "code",
   "execution_count": 17,
   "id": "573c5dac",
   "metadata": {
    "scrolled": true
   },
   "outputs": [
    {
     "name": "stderr",
     "output_type": "stream",
     "text": [
      "100%|████████████████████████████████████████████████████████████████████████████████████| 1/1 [00:02<00:00,  2.78s/it]\n",
      "  0%|                                                                                            | 0/1 [00:00<?, ?it/s]"
     ]
    },
    {
     "name": "stdout",
     "output_type": "stream",
     "text": [
      "Graminor_2019_Simps Lasso(alpha=4.5)\n",
      "{'R2': 0.2766057687373555, 'MAE': 32.66034367712789, 'RMSE': 42.005856416111}\n"
     ]
    },
    {
     "name": "stderr",
     "output_type": "stream",
     "text": [
      "100%|████████████████████████████████████████████████████████████████████████████████████| 1/1 [00:02<00:00,  2.53s/it]\n",
      "  0%|                                                                                            | 0/1 [00:00<?, ?it/s]"
     ]
    },
    {
     "name": "stdout",
     "output_type": "stream",
     "text": [
      "Masbasis_2019_Simps Lasso(alpha=4.5)\n",
      "{'R2': 0.6297025357618344, 'MAE': 37.262246565594445, 'RMSE': 51.11134236295846}\n"
     ]
    },
    {
     "name": "stderr",
     "output_type": "stream",
     "text": [
      "100%|████████████████████████████████████████████████████████████████████████████████████| 1/1 [00:02<00:00,  2.57s/it]\n",
      "  0%|                                                                                            | 0/1 [00:00<?, ?it/s]"
     ]
    },
    {
     "name": "stdout",
     "output_type": "stream",
     "text": [
      "Masbasis_2020_Simps Lasso(alpha=4.5)\n",
      "{'R2': 0.3878735086099309, 'MAE': 60.945731868063774, 'RMSE': 80.61812947784689}\n"
     ]
    },
    {
     "name": "stderr",
     "output_type": "stream",
     "text": [
      "100%|████████████████████████████████████████████████████████████████████████████████████| 1/1 [00:02<00:00,  2.16s/it]"
     ]
    },
    {
     "name": "stdout",
     "output_type": "stream",
     "text": [
      "Robot_2020_Simps Lasso(alpha=4.5)\n",
      "{'R2': 0.603406107404101, 'MAE': 47.1277450620497, 'RMSE': 59.06752734372742}\n"
     ]
    },
    {
     "name": "stderr",
     "output_type": "stream",
     "text": [
      "\n"
     ]
    }
   ],
   "source": [
    "for df in all_df:\n",
    "    \n",
    "    \n",
    "    temp_df = locals()[df].copy()\n",
    "    #==============================================================================\n",
    "    # Dropping rows with missing values\n",
    "    #==============================================================================\n",
    "\n",
    "    temp_df.dropna(subset=['GrainYield'], inplace=True)\n",
    "    #==============================================================================\n",
    "    # Split dataframe into data and target\n",
    "    #==============================================================================\n",
    "    X = temp_df[[x for x in temp_df.columns if x not in yield_cols+id_cols_new]]\n",
    "    y = temp_df['GrainYield']\n",
    "    \n",
    "    #==============================================================================\n",
    "    # Create separate train/test splits from Main data\n",
    "    #==============================================================================\n",
    "    X_train, X_test, y_train, y_test = train_test_split(X,\n",
    "                                                        y,\n",
    "                                                        test_size=0.3,\n",
    "                                                        random_state=55)\n",
    "    \n",
    "    #==============================================================================\n",
    "    # Scale features using StandardScaler class in scikit-learn \n",
    "    #==============================================================================\n",
    "\n",
    "    # Initialise standard scaler and compute mean and STD from training data\n",
    "    sc = StandardScaler()\n",
    "    sc.fit(X_train)\n",
    "\n",
    "    # Transform (standardise) both X_train and X_test with mean and STD from\n",
    "    # training data\n",
    "    X_train_std = sc.transform(X_train)\n",
    "    X_test_std = sc.transform(X_test)\n",
    "    \n",
    "    #==============================================================================\n",
    "    # Correlation heatmap of indices with target_cols\n",
    "    #==============================================================================\n",
    "#     sns.diverging_palette(331, 129, as_cmap=True)\n",
    "\n",
    "#     pal=['PRGn', 'PiYG', 'PuOr', 'RdBu','RdYlBu','RdYlGn','Spectral']\n",
    "\n",
    "#     correlation = temp_df.iloc[:,1:].corr()\n",
    "#     matrix = np.triu(correlation)\n",
    "\n",
    "#     plt.figure(figsize=(10,6))\n",
    "#     plt.title(df)\n",
    "#     sns.heatmap(correlation, cmap='PRGn', annot=True, fmt='.1g', vmin=-1, vmax=1, center= 0 ,square=True, mask=matrix)\n",
    "#     # plt.savefig('Data/heatmap.pdf',dpi=500, bbox_inches='tight')\n",
    "#     plt.show()\n",
    "\n",
    "\n",
    "    #==============================================================================\n",
    "    # Predictions\n",
    "    #==============================================================================\n",
    "\n",
    "    param=[x/10 for x in range(25,100)]\n",
    "    param=[x for x in range(0,1000, 100)]\n",
    "    param=[1]\n",
    "    for pr in tqdm(param):\n",
    "        for model in models:\n",
    "            R2 = []\n",
    "            RMSE=[]\n",
    "            MAE=[]\n",
    "            for rs in range(10):\n",
    "                #==============================================================================\n",
    "                # Create separate train/test splits\n",
    "                #==============================================================================\n",
    "                X_train, X_test, y_train, y_test = train_test_split(X, y, test_size=0.3, random_state=rs)\n",
    "                X_train.reset_index(drop=True, inplace=True)\n",
    "                X_test.reset_index(drop=True, inplace=True)\n",
    "                sc = StandardScaler()\n",
    "                sc.fit(X_train)\n",
    "                X_train_std = sc.transform(X_train)\n",
    "                X_test_std = sc.transform(X_test)\n",
    "                #==============================================================================\n",
    "                # Training best performing models\n",
    "                #==============================================================================\n",
    "    #             model = Lasso(alpha= 4.5)\n",
    "                model.fit(X_train_std, y_train)\n",
    "                y_pred = model.predict(X_test_std)\n",
    "                R2.append(r2_score(y_test, y_pred))\n",
    "                MAE.append(mean_absolute_error(y_test, y_pred))\n",
    "                RMSE.append(mean_squared_error(y_test, y_pred, squared=False))\n",
    "            accuracy = {}\n",
    "            accuracy['R2'] = R2\n",
    "            accuracy['MAE'] = MAE\n",
    "            accuracy['RMSE'] = RMSE\n",
    "            scores={}\n",
    "            for k, s in accuracy.items():\n",
    "                scores[k]=(sum(s)/len(s))\n",
    "            print(df, model)\n",
    "            print(scores)\n"
   ]
  },
  {
   "cell_type": "code",
   "execution_count": 15,
   "id": "a651d606",
   "metadata": {},
   "outputs": [
    {
     "ename": "NameError",
     "evalue": "name 'X_train_std' is not defined",
     "output_type": "error",
     "traceback": [
      "\u001b[1;31m---------------------------------------------------------------------------\u001b[0m",
      "\u001b[1;31mNameError\u001b[0m                                 Traceback (most recent call last)",
      "\u001b[1;32m<ipython-input-15-484990281c28>\u001b[0m in \u001b[0;36m<module>\u001b[1;34m\u001b[0m\n\u001b[0;32m      1\u001b[0m \u001b[1;32mfor\u001b[0m \u001b[0mmodel\u001b[0m \u001b[1;32min\u001b[0m \u001b[0mmodels\u001b[0m\u001b[1;33m:\u001b[0m\u001b[1;33m\u001b[0m\u001b[1;33m\u001b[0m\u001b[0m\n\u001b[1;32m----> 2\u001b[1;33m     \u001b[0mmodel\u001b[0m\u001b[1;33m.\u001b[0m\u001b[0mfit\u001b[0m\u001b[1;33m(\u001b[0m\u001b[0mX_train_std\u001b[0m\u001b[1;33m,\u001b[0m \u001b[0my_train\u001b[0m\u001b[1;33m)\u001b[0m\u001b[1;33m\u001b[0m\u001b[1;33m\u001b[0m\u001b[0m\n\u001b[0m\u001b[0;32m      3\u001b[0m     \u001b[0my_pred\u001b[0m \u001b[1;33m=\u001b[0m \u001b[0mmodel\u001b[0m\u001b[1;33m.\u001b[0m\u001b[0mpredict\u001b[0m\u001b[1;33m(\u001b[0m\u001b[0mX_test_std\u001b[0m\u001b[1;33m)\u001b[0m\u001b[1;33m\u001b[0m\u001b[1;33m\u001b[0m\u001b[0m\n\u001b[0;32m      4\u001b[0m     \u001b[0mprint\u001b[0m\u001b[1;33m(\u001b[0m\u001b[0my_pred\u001b[0m\u001b[1;33m)\u001b[0m\u001b[1;33m\u001b[0m\u001b[1;33m\u001b[0m\u001b[0m\n",
      "\u001b[1;31mNameError\u001b[0m: name 'X_train_std' is not defined"
     ]
    }
   ],
   "source": [
    "for model in models:\n",
    "    model.fit(X_train_std, y_train)\n",
    "    y_pred = model.predict(X_test_std)\n",
    "    print(y_pred)"
   ]
  },
  {
   "cell_type": "code",
   "execution_count": null,
   "id": "a1ab97ae",
   "metadata": {},
   "outputs": [],
   "source": [
    "plot_feature_importance(model.feature_importances_,X_train.columns,'Gradient Boosting Regressor')\n"
   ]
  },
  {
   "cell_type": "code",
   "execution_count": 1,
   "id": "brilliant-england",
   "metadata": {},
   "outputs": [],
   "source": [
    "from tensorflow.keras import models\n",
    "from tensorflow.keras import layers\n",
    "\n",
    "def build_model():\n",
    "    # Because we will need to instantiate\n",
    "    # the same model multiple times,\n",
    "    # we use a function to construct it.\n",
    "    model = models.Sequential([\n",
    "        layers.Dense(64, activation='relu'),\n",
    "        layers.Dense(64, activation='relu'),\n",
    "        layers.Dense(1)])\n",
    "    \n",
    "    model.compile(optimizer='rmsprop', loss='mse', metrics=['mae'])\n",
    "    return model"
   ]
  },
  {
   "cell_type": "code",
   "execution_count": 100,
   "id": "3cc5b540",
   "metadata": {},
   "outputs": [
    {
     "data": {
      "text/plain": [
       "0      False\n",
       "1      False\n",
       "2      False\n",
       "3      False\n",
       "4      False\n",
       "       ...  \n",
       "596    False\n",
       "597    False\n",
       "598    False\n",
       "599    False\n",
       "600    False\n",
       "Name: GrainYield, Length: 601, dtype: bool"
      ]
     },
     "execution_count": 100,
     "metadata": {},
     "output_type": "execute_result"
    }
   ],
   "source": [
    "y.isna()"
   ]
  },
  {
   "cell_type": "code",
   "execution_count": null,
   "id": "young-element",
   "metadata": {},
   "outputs": [],
   "source": []
  },
  {
   "cell_type": "markdown",
   "id": "sought-temple",
   "metadata": {},
   "source": [
    "## Restart the kernel"
   ]
  },
  {
   "cell_type": "code",
   "execution_count": null,
   "id": "retired-parliament",
   "metadata": {
    "ExecuteTime": {
     "start_time": "2021-09-15T20:06:47.259Z"
    },
    "run_control": {
     "marked": true
    }
   },
   "outputs": [
    {
     "data": {
      "text/html": [
       "<script>Jupyter.notebook.kernel.restart()</script>"
      ],
      "text/plain": [
       "<IPython.core.display.HTML object>"
      ]
     },
     "execution_count": 1,
     "metadata": {},
     "output_type": "execute_result"
    }
   ],
   "source": [
    "from IPython.core.display import HTML\n",
    "HTML(\"<script>Jupyter.notebook.kernel.restart()</script>\")"
   ]
  },
  {
   "cell_type": "code",
   "execution_count": null,
   "id": "illegal-consultancy",
   "metadata": {},
   "outputs": [],
   "source": []
  }
 ],
 "metadata": {
  "hide_input": false,
  "kernelspec": {
   "display_name": "Python 3",
   "language": "python",
   "name": "python3"
  },
  "language_info": {
   "codemirror_mode": {
    "name": "ipython",
    "version": 3
   },
   "file_extension": ".py",
   "mimetype": "text/x-python",
   "name": "python",
   "nbconvert_exporter": "python",
   "pygments_lexer": "ipython3",
   "version": "3.8.5"
  },
  "toc": {
   "base_numbering": 1,
   "nav_menu": {},
   "number_sections": true,
   "sideBar": true,
   "skip_h1_title": false,
   "title_cell": "Table of Contents",
   "title_sidebar": "Contents",
   "toc_cell": false,
   "toc_position": {
    "height": "calc(100% - 180px)",
    "left": "10px",
    "top": "150px",
    "width": "350.556px"
   },
   "toc_section_display": true,
   "toc_window_display": true
  }
 },
 "nbformat": 4,
 "nbformat_minor": 5
}
